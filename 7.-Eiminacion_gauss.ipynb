{
 "cells": [
  {
   "cell_type": "markdown",
   "metadata": {},
   "source": [
    "# 1. Problemas mal condicionados"
   ]
  },
  {
   "cell_type": "code",
   "execution_count": 1,
   "metadata": {},
   "outputs": [],
   "source": [
    "v1=[-1;1];\n",
    "v2=[-2;2];"
   ]
  },
  {
   "cell_type": "code",
   "execution_count": 2,
   "metadata": {},
   "outputs": [
    {
     "data": {
      "text/plain": [
       "2×2 Matrix{Int64}:\n",
       " -1  -2\n",
       "  1   2"
      ]
     },
     "metadata": {},
     "output_type": "display_data"
    }
   ],
   "source": [
    "A=[v1 v2]"
   ]
  },
  {
   "cell_type": "markdown",
   "metadata": {},
   "source": [
    "El número de condicionamiento de una matriz indica cuando la solución de un sistema lineal podría sufrir cambios grandes a partir de cambios pequeños en las entradas y por lo tanto sería inexacto. Al mismo tiempo, peuqeños errores de redondeo pueden causar errores significativos al resolver un problema mal condicionado.\n",
    "\n",
    "El número de condicionamiento se define como el producto de la norma $L_p$ de la matriz y la norma de la matriz inversa:\n",
    "\n",
    "$cond(A) = \\|A\\|_p \\times \\|A^{-1}\\|_p$"
   ]
  },
  {
   "cell_type": "code",
   "execution_count": 16,
   "metadata": {},
   "outputs": [
    {
     "data": {
      "text/plain": [
       "Inf"
      ]
     },
     "metadata": {},
     "output_type": "display_data"
    }
   ],
   "source": [
    "using LinearAlgebra;\n",
    "\n",
    "cond(A)"
   ]
  },
  {
   "cell_type": "code",
   "execution_count": 12,
   "metadata": {},
   "outputs": [
    {
     "data": {
      "text/plain": [
       "2.0"
      ]
     },
     "metadata": {},
     "output_type": "display_data"
    }
   ],
   "source": [
    "norm(A,Inf)"
   ]
  },
  {
   "cell_type": "markdown",
   "metadata": {},
   "source": [
    "Al mismo tiempo, sabemos que la inversa de una matriz no está definida si el determinante de esta es cero."
   ]
  },
  {
   "cell_type": "code",
   "execution_count": 14,
   "metadata": {},
   "outputs": [
    {
     "data": {
      "text/plain": [
       "0.0"
      ]
     },
     "metadata": {},
     "output_type": "display_data"
    }
   ],
   "source": [
    "det(A)"
   ]
  },
  {
   "cell_type": "code",
   "execution_count": 17,
   "metadata": {},
   "outputs": [],
   "source": [
    "using Random;\n",
    "\n",
    "rng = MersenneTwister(1);\n",
    "\n",
    "v3 = rand(rng,2);\n",
    "v4 = rand(rng,2);"
   ]
  },
  {
   "cell_type": "code",
   "execution_count": 18,
   "metadata": {},
   "outputs": [
    {
     "data": {
      "text/plain": [
       "2×2 Matrix{Float64}:\n",
       " 0.236033  0.312707\n",
       " 0.346517  0.00790928"
      ]
     },
     "metadata": {},
     "output_type": "display_data"
    }
   ],
   "source": [
    "A=[v3 v4]"
   ]
  },
  {
   "cell_type": "code",
   "execution_count": 19,
   "metadata": {},
   "outputs": [
    {
     "data": {
      "text/plain": [
       "2.091388793896744"
      ]
     },
     "metadata": {},
     "output_type": "display_data"
    }
   ],
   "source": [
    "cond(A)"
   ]
  },
  {
   "cell_type": "code",
   "execution_count": 20,
   "metadata": {},
   "outputs": [
    {
     "data": {
      "text/plain": [
       "-0.10649143036437071"
      ]
     },
     "metadata": {},
     "output_type": "display_data"
    }
   ],
   "source": [
    "det(A)"
   ]
  },
  {
   "cell_type": "code",
   "execution_count": 21,
   "metadata": {},
   "outputs": [
    {
     "data": {
      "text/plain": [
       "2×2 Matrix{Float64}:\n",
       " 1.0          -1.11022e-16\n",
       " 3.46945e-18   1.0"
      ]
     },
     "metadata": {},
     "output_type": "display_data"
    }
   ],
   "source": [
    "A*inv(A)"
   ]
  },
  {
   "cell_type": "markdown",
   "metadata": {},
   "source": [
    "Evaluar el número de condicion de la matriz $X$ y el producto $X \\times X^-1$ para :\n",
    "\n",
    "$X=\\begin{bmatrix}\n",
    "0.12065  & 0.98775\\\\\n",
    " 0.1232  & 0.98755\\\\\n",
    "\\end{bmatrix}$"
   ]
  },
  {
   "cell_type": "code",
   "execution_count": 23,
   "metadata": {},
   "outputs": [
    {
     "data": {
      "text/plain": [
       "2×2 Matrix{Float64}:\n",
       " 0.12065  0.98775\n",
       " 0.1232   0.98755"
      ]
     },
     "metadata": {},
     "output_type": "display_data"
    }
   ],
   "source": [
    "X=[0.12065 0.98775;\n",
    "   0.1232  0.98755]"
   ]
  },
  {
   "cell_type": "code",
   "execution_count": 30,
   "metadata": {},
   "outputs": [
    {
     "data": {
      "text/plain": [
       "2"
      ]
     },
     "metadata": {},
     "output_type": "display_data"
    }
   ],
   "source": [
    "rank(X)"
   ]
  },
  {
   "cell_type": "code",
   "execution_count": 31,
   "metadata": {},
   "outputs": [
    {
     "data": {
      "text/plain": [
       "778.8911496416749"
      ]
     },
     "metadata": {},
     "output_type": "display_data"
    }
   ],
   "source": [
    "cond(X)"
   ]
  },
  {
   "cell_type": "code",
   "execution_count": 32,
   "metadata": {},
   "outputs": [
    {
     "data": {
      "text/plain": [
       "778.8924335181275"
      ]
     },
     "metadata": {},
     "output_type": "display_data"
    }
   ],
   "source": [
    "norm(X)*norm(inv(X))"
   ]
  },
  {
   "cell_type": "code",
   "execution_count": 33,
   "metadata": {},
   "outputs": [
    {
     "data": {
      "text/plain": [
       "-0.0025428925000000064"
      ]
     },
     "metadata": {},
     "output_type": "display_data"
    }
   ],
   "source": [
    "det(X)"
   ]
  },
  {
   "cell_type": "code",
   "execution_count": 34,
   "metadata": {},
   "outputs": [
    {
     "data": {
      "text/plain": [
       "2×2 Matrix{Float64}:\n",
       " 1.0          0.0\n",
       " 7.10543e-15  1.0"
      ]
     },
     "metadata": {},
     "output_type": "display_data"
    }
   ],
   "source": [
    "X*inv(X)"
   ]
  },
  {
   "cell_type": "markdown",
   "metadata": {},
   "source": [
    "# 2. Eliminación de Gauss\n",
    "\n",
    "$Ax=y$"
   ]
  },
  {
   "cell_type": "code",
   "execution_count": 35,
   "metadata": {},
   "outputs": [],
   "source": [
    "A=[-0.04 0.04 0.12 ; 0.56 -1.56 0.32 ; -0.24 1.24 -0.28];\n",
    "y=[3; 1 ;0];"
   ]
  },
  {
   "cell_type": "markdown",
   "metadata": {},
   "source": [
    "El rango de una matriz nos entrega la cantidad máxima de columnas columnas que son linealmente independientes"
   ]
  },
  {
   "cell_type": "code",
   "execution_count": 36,
   "metadata": {},
   "outputs": [
    {
     "data": {
      "text/plain": [
       "3"
      ]
     },
     "metadata": {},
     "output_type": "display_data"
    }
   ],
   "source": [
    "using LinearAlgebra;\n",
    "\n",
    "rank(A)"
   ]
  },
  {
   "cell_type": "code",
   "execution_count": 37,
   "metadata": {},
   "outputs": [
    {
     "data": {
      "text/plain": [
       "19.304418511266785"
      ]
     },
     "metadata": {},
     "output_type": "display_data"
    }
   ],
   "source": [
    "cond(A)"
   ]
  },
  {
   "cell_type": "code",
   "execution_count": 38,
   "metadata": {},
   "outputs": [
    {
     "data": {
      "text/plain": [
       "3×3 Matrix{Float64}:\n",
       " 1.0  4.0  5.0\n",
       " 2.0  1.0  2.0\n",
       " 8.0  1.0  1.0"
      ]
     },
     "metadata": {},
     "output_type": "display_data"
    }
   ],
   "source": [
    "inv(A)"
   ]
  },
  {
   "cell_type": "code",
   "execution_count": 39,
   "metadata": {},
   "outputs": [
    {
     "data": {
      "text/plain": [
       "0.04"
      ]
     },
     "metadata": {},
     "output_type": "display_data"
    }
   ],
   "source": [
    "det(A)"
   ]
  },
  {
   "cell_type": "markdown",
   "metadata": {},
   "source": [
    "creamos la matriz ampliada $[A y]$"
   ]
  },
  {
   "cell_type": "code",
   "execution_count": 40,
   "metadata": {},
   "outputs": [
    {
     "data": {
      "text/plain": [
       "3×4 Matrix{Float64}:\n",
       " -0.04   0.04   0.12  3.0\n",
       "  0.56  -1.56   0.32  1.0\n",
       " -0.24   1.24  -0.28  0.0"
      ]
     },
     "metadata": {},
     "output_type": "display_data"
    }
   ],
   "source": [
    "A_c=[A y]"
   ]
  },
  {
   "cell_type": "markdown",
   "metadata": {},
   "source": [
    "1.1) Tomamos la primera fila de la matriz aumentada como pivote y creamos el multiplicador $m_{2,1}$. Luego restamos la segunda fila con el pivote y el multipicador. "
   ]
  },
  {
   "cell_type": "code",
   "execution_count": 42,
   "metadata": {},
   "outputs": [],
   "source": [
    "P=A_c[1,:];\n",
    "m21=A_c[2,1]/A_c[1,1];\n",
    "A_c[2,:]-=m21*P;"
   ]
  },
  {
   "cell_type": "code",
   "execution_count": 44,
   "metadata": {},
   "outputs": [
    {
     "data": {
      "text/plain": [
       "3×3 Matrix{Float64}:\n",
       " -0.04   0.04   0.12\n",
       "  0.56  -1.56   0.32\n",
       " -0.24   1.24  -0.28"
      ]
     },
     "metadata": {},
     "output_type": "display_data"
    }
   ],
   "source": [
    "A"
   ]
  },
  {
   "cell_type": "code",
   "execution_count": 43,
   "metadata": {},
   "outputs": [
    {
     "data": {
      "text/plain": [
       "3×4 Matrix{Float64}:\n",
       " -0.04   0.04   0.12   3.0\n",
       "  0.0   -1.0    2.0   43.0\n",
       " -0.24   1.24  -0.28   0.0"
      ]
     },
     "metadata": {},
     "output_type": "display_data"
    }
   ],
   "source": [
    "A_c"
   ]
  },
  {
   "cell_type": "markdown",
   "metadata": {},
   "source": [
    "2.2) Creamos el multiplicador $m_{3,1}$. Luego restamos la tercera fila con el pivote y el multipicador. "
   ]
  },
  {
   "cell_type": "code",
   "execution_count": 45,
   "metadata": {},
   "outputs": [],
   "source": [
    "m31=A_c[3,1]/A_c[1,1];\n",
    "A_c[3,:]-=m31*P;"
   ]
  },
  {
   "cell_type": "code",
   "execution_count": 46,
   "metadata": {},
   "outputs": [
    {
     "data": {
      "text/plain": [
       "3×4 Matrix{Float64}:\n",
       " -0.04   0.04   0.12    3.0\n",
       "  0.0   -1.0    2.0    43.0\n",
       "  0.0    1.0   -1.0   -18.0"
      ]
     },
     "metadata": {},
     "output_type": "display_data"
    }
   ],
   "source": [
    "A_c"
   ]
  },
  {
   "cell_type": "markdown",
   "metadata": {},
   "source": [
    "1.3) Tomamos la segunda fila de la matriz aumentada como pivote y creamos el multiplicador $m_{3,2}$. Luego restamos la tercera fila con el pivote y el multipicador. "
   ]
  },
  {
   "cell_type": "code",
   "execution_count": 47,
   "metadata": {},
   "outputs": [],
   "source": [
    "P=A_c[2,:]\n",
    "m32=A_c[3,2]/A_c[2,2];\n",
    "A_c[3,:]-=m32*P;"
   ]
  },
  {
   "cell_type": "code",
   "execution_count": 48,
   "metadata": {},
   "outputs": [
    {
     "data": {
      "text/plain": [
       "3×4 Matrix{Float64}:\n",
       " -0.04   0.04  0.12   3.0\n",
       "  0.0   -1.0   2.0   43.0\n",
       "  0.0    0.0   1.0   25.0"
      ]
     },
     "metadata": {},
     "output_type": "display_data"
    }
   ],
   "source": [
    "A_c"
   ]
  },
  {
   "cell_type": "markdown",
   "metadata": {},
   "source": [
    "1.4) Resolvemos la tercera ecuación para $x_3=25$. Luego sustuimos en $-x_2+2*25=43$ y obtenemos $x_2=7$.\n",
    "\n",
    "Finalmente sustituimos $x_1$ y $x_2$ en la primera ecuación $-004*x_1+0.004*x_2+0.12*x_3=3$ y obtenemos $x_1=7$."
   ]
  },
  {
   "cell_type": "code",
   "execution_count": null,
   "metadata": {},
   "outputs": [],
   "source": [
    "function gaussian_elimination(A,y)\n",
    "    A_c=[A y]\n",
    "    n,m=size(A_c)\n",
    "    for i=1:(n-1)\n",
    "        for j=i+1:n\n",
    "            P=A_c[i,:]\n",
    "            mji=A_c[j,i]/P[i];\n",
    "            A_c[j,:]-=mji*P;\n",
    "        end\n",
    "    end\n",
    "    return A_c\n",
    "end "
   ]
  },
  {
   "cell_type": "code",
   "execution_count": 49,
   "metadata": {},
   "outputs": [],
   "source": [
    "# Algoritmo 1.1 VMLS https://web.stanford.edu/~boyd/vmls/\n",
    "\n",
    "function back_subst(R,b)\n",
    "    n = length(b)\n",
    "    x = zeros(n)\n",
    "    for i=n:-1:1\n",
    "        x[i] = (b[i] - R[i,i+1:n]'*x[i+1:n]) / R[i,i]\n",
    "    end\n",
    "    return x\n",
    "end;"
   ]
  },
  {
   "cell_type": "code",
   "execution_count": 50,
   "metadata": {},
   "outputs": [
    {
     "data": {
      "text/plain": [
       "3-element Vector{Float64}:\n",
       "  7.000000000000028\n",
       "  7.000000000000007\n",
       " 25.000000000000007"
      ]
     },
     "metadata": {},
     "output_type": "display_data"
    }
   ],
   "source": [
    "x_gauss=back_subst(A_c[:,1:3],A_c[:,4])"
   ]
  },
  {
   "cell_type": "markdown",
   "metadata": {},
   "source": [
    "En Julia podemos resolver directamente el sistema de ecuaciones mediante el operador \\ "
   ]
  },
  {
   "cell_type": "code",
   "execution_count": 51,
   "metadata": {},
   "outputs": [
    {
     "data": {
      "text/plain": [
       "3-element Vector{Float64}:\n",
       "  7.000000000000005\n",
       "  7.000000000000002\n",
       " 25.0"
      ]
     },
     "metadata": {},
     "output_type": "display_data"
    }
   ],
   "source": [
    "x_ls=A\\y"
   ]
  },
  {
   "cell_type": "code",
   "execution_count": 52,
   "metadata": {},
   "outputs": [
    {
     "data": {
      "text/plain": [
       "3-element Vector{Float64}:\n",
       "  7.000000000000003\n",
       "  7.000000000000002\n",
       " 25.0"
      ]
     },
     "metadata": {},
     "output_type": "display_data"
    }
   ],
   "source": [
    "inv(A)*y"
   ]
  },
  {
   "cell_type": "markdown",
   "metadata": {},
   "source": [
    "# 2) Ejercicios \n",
    "\n",
    "2.1) Resolver el siguiente sistema de ecuaciones lineales usando el método de eliminación de Gauss: $\\boldsymbol{A}\\boldsymbol{x}=\\boldsymbol{y}$ para la matriz de Hilbert de tamaño $3 \\times 3$:\n",
    "\n",
    "$\\boldsymbol{A}=\\begin{bmatrix} 1/2 & 1/3 & 1/4 \\\\\n",
    "                                1/3 & 1/4 & 1/5 \\\\\n",
    "                                1/4 & 1/5 & 1/6 \\\\\n",
    "                \\end{bmatrix}$, \n",
    "$\\boldsymbol{y}=\\begin{bmatrix} 1 \\\\\n",
    "                                1 \\\\\n",
    "                                1 \\\\\n",
    "                \\end{bmatrix}$\n",
    "\n",
    "2.2) Comprobar los resultados con los valores obtenidos.\n",
    "\n",
    "2.3) Una forma de evaluar la existencia de la solución de un sistema de ecuaciones es a través del número de condicionamiento:\n",
    "\n",
    "$cond(A)=||A||\\times ||A^{-1}|| $, donde $||\\cdot||$ es la norma de la matriz. Revise el determinante y el número de condicionamiento de la matriz de ejercicio 2.1.\n",
    "\n",
    "2.4) Construya una matriz de Hilbert de tamaño $20 \\times 20$ y repita el procedimiento anterior. ¿La matriz resultante es invertible? ¿Cuanto cambia el número de condicionamiento.? \n",
    "\n",
    "$A=[\\frac{1}{i+j}],i,j=1:20$"
   ]
  },
  {
   "cell_type": "code",
   "execution_count": 55,
   "metadata": {},
   "outputs": [
    {
     "data": {
      "text/plain": [
       "hilbert (generic function with 1 method)"
      ]
     },
     "metadata": {},
     "output_type": "display_data"
    }
   ],
   "source": [
    "function hilbert(n::Int64)::Matrix\n",
    "    A=ones(n,n)\n",
    "    for i=1:n\n",
    "        for j=1:n\n",
    "            A[i,j]=1/(i+j)\n",
    "        end\n",
    "    end\n",
    "    return A \n",
    "end"
   ]
  },
  {
   "cell_type": "code",
   "execution_count": 56,
   "metadata": {},
   "outputs": [
    {
     "data": {
      "text/plain": [
       "3×3 Matrix{Float64}:\n",
       " 0.5       0.333333  0.25\n",
       " 0.333333  0.25      0.2\n",
       " 0.25      0.2       0.166667"
      ]
     },
     "metadata": {},
     "output_type": "display_data"
    }
   ],
   "source": [
    "A=hilbert(3)"
   ]
  },
  {
   "cell_type": "markdown",
   "metadata": {},
   "source": [
    "2.5) Resolver el siguiente sistema de ecuaciones lineales mediante eliminación de Gauss:\n",
    "\n",
    "$\\boldsymbol{A}=\\begin{bmatrix} 2 & 4 & 6 \\\\\n",
    "                                2 & 0 & 2 \\\\\n",
    "                                6 & 8 &24 \\\\\n",
    "                \\end{bmatrix}$, \n",
    "$\\boldsymbol{y}=\\begin{bmatrix} 1 \\\\\n",
    "                                1 \\\\\n",
    "                                1 \\\\\n",
    "                \\end{bmatrix}$"
   ]
  }
 ],
 "metadata": {
  "kernelspec": {
   "display_name": "Julia 1.9.2",
   "language": "julia",
   "name": "julia-1.9"
  },
  "language_info": {
   "file_extension": ".jl",
   "mimetype": "application/julia",
   "name": "julia",
   "version": "1.9.2"
  },
  "orig_nbformat": 4,
  "vscode": {
   "interpreter": {
    "hash": "2ac3d5d3a4336f34c662130573d1ea696fb4dfcbf6baf7c9925b84262e1f6ae2"
   }
  }
 },
 "nbformat": 4,
 "nbformat_minor": 2
}
