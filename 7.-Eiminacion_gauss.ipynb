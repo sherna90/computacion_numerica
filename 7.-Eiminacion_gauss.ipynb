{
 "cells": [
  {
   "cell_type": "markdown",
   "metadata": {},
   "source": [
    "# 1. Eliminación de Gauss"
   ]
  },
  {
   "cell_type": "code",
   "execution_count": 94,
   "metadata": {},
   "outputs": [],
   "source": [
    "A=[-0.04 0.04 0.12 ; 0.56 -1.56 0.32 ; -0.24 1.24 -0.28];\n",
    "y=[3; 1 ;0];"
   ]
  },
  {
   "cell_type": "code",
   "execution_count": 95,
   "metadata": {},
   "outputs": [
    {
     "data": {
      "text/plain": [
       "3"
      ]
     },
     "metadata": {},
     "output_type": "display_data"
    }
   ],
   "source": [
    "rank(A)"
   ]
  },
  {
   "cell_type": "code",
   "execution_count": 77,
   "metadata": {},
   "outputs": [
    {
     "data": {
      "text/plain": [
       "23.04937309342708"
      ]
     },
     "metadata": {},
     "output_type": "display_data"
    }
   ],
   "source": [
    "norm(A)*norm(inv(A))"
   ]
  },
  {
   "cell_type": "code",
   "execution_count": 80,
   "metadata": {},
   "outputs": [
    {
     "data": {
      "text/plain": [
       "3×3 Matrix{Float64}:\n",
       " 1.0  4.0  5.0\n",
       " 2.0  1.0  2.0\n",
       " 8.0  1.0  1.0"
      ]
     },
     "metadata": {},
     "output_type": "display_data"
    }
   ],
   "source": [
    "inv(A)"
   ]
  },
  {
   "cell_type": "code",
   "execution_count": 4,
   "metadata": {},
   "outputs": [
    {
     "data": {
      "text/plain": [
       "3×3 Matrix{Float64}:\n",
       " -0.04   0.04   0.12\n",
       "  0.56  -1.56   0.32\n",
       " -0.24   1.24  -0.28"
      ]
     },
     "metadata": {},
     "output_type": "display_data"
    }
   ],
   "source": [
    "A"
   ]
  },
  {
   "cell_type": "markdown",
   "metadata": {},
   "source": [
    "creamos la matriz ampliada $[A y]$"
   ]
  },
  {
   "cell_type": "code",
   "execution_count": 5,
   "metadata": {},
   "outputs": [
    {
     "data": {
      "text/plain": [
       "3×4 Matrix{Float64}:\n",
       " -0.04   0.04   0.12  3.0\n",
       "  0.56  -1.56   0.32  1.0\n",
       " -0.24   1.24  -0.28  0.0"
      ]
     },
     "metadata": {},
     "output_type": "display_data"
    }
   ],
   "source": [
    "A_c=[A y]"
   ]
  },
  {
   "cell_type": "markdown",
   "metadata": {},
   "source": [
    "1.1) Tomamos la primera fila de la matriz aumentada como pivote y creamos el multiplicador $m_{2,1}$. Luego restamos la segunda fila con el pivote y el multipicador. "
   ]
  },
  {
   "cell_type": "code",
   "execution_count": 6,
   "metadata": {},
   "outputs": [],
   "source": [
    "P=A_c[1,:];\n",
    "m21=A_c[2,1]/A_c[1,1];\n",
    "A_c[2,:]-=m21*P;"
   ]
  },
  {
   "cell_type": "code",
   "execution_count": 7,
   "metadata": {},
   "outputs": [
    {
     "data": {
      "text/plain": [
       "3×4 Matrix{Float64}:\n",
       " -0.04   0.04   0.12   3.0\n",
       "  0.0   -1.0    2.0   43.0\n",
       " -0.24   1.24  -0.28   0.0"
      ]
     },
     "metadata": {},
     "output_type": "display_data"
    }
   ],
   "source": [
    "A_c"
   ]
  },
  {
   "cell_type": "markdown",
   "metadata": {},
   "source": [
    "2.2) Creamos el multiplicador $m_{3,1}$. Luego restamos la tercera fila con el pivote y el multipicador. "
   ]
  },
  {
   "cell_type": "code",
   "execution_count": 8,
   "metadata": {},
   "outputs": [],
   "source": [
    "m31=A_c[3,1]/A_c[1,1];\n",
    "A_c[3,:]-=m31*P;"
   ]
  },
  {
   "cell_type": "code",
   "execution_count": 9,
   "metadata": {},
   "outputs": [
    {
     "data": {
      "text/plain": [
       "3×4 Matrix{Float64}:\n",
       " -0.04   0.04   0.12    3.0\n",
       "  0.0   -1.0    2.0    43.0\n",
       "  0.0    1.0   -1.0   -18.0"
      ]
     },
     "metadata": {},
     "output_type": "display_data"
    }
   ],
   "source": [
    "A_c"
   ]
  },
  {
   "cell_type": "markdown",
   "metadata": {},
   "source": [
    "1.3) Tomamos la segunda fila de la matriz aumentada como pivote y creamos el multiplicador $m_{3,2}$. Luego restamos la tercera fila con el pivote y el multipicador. "
   ]
  },
  {
   "cell_type": "code",
   "execution_count": 10,
   "metadata": {},
   "outputs": [],
   "source": [
    "P=A_c[2,:]\n",
    "m32=A_c[3,2]/A_c[2,2];\n",
    "A_c[3,:]-=m32*P;"
   ]
  },
  {
   "cell_type": "code",
   "execution_count": 11,
   "metadata": {},
   "outputs": [
    {
     "data": {
      "text/plain": [
       "3×4 Matrix{Float64}:\n",
       " -0.04   0.04  0.12   3.0\n",
       "  0.0   -1.0   2.0   43.0\n",
       "  0.0    0.0   1.0   25.0"
      ]
     },
     "metadata": {},
     "output_type": "display_data"
    }
   ],
   "source": [
    "A_c"
   ]
  },
  {
   "cell_type": "markdown",
   "metadata": {},
   "source": [
    "1.4) Resolvemos la tercera ecuación para $x_3=25$. Luego sustuimos en $-x_2+2*25=43$ y obtenemos $x_2=7$.\n",
    "\n",
    "Finalmente sustituimos $x_1$ y $x_2$ en la primera ecuación $-004*x_1+0.004*x_2+0.12*x_3=3$ y obtenemos $x_1=7$."
   ]
  },
  {
   "cell_type": "code",
   "execution_count": 12,
   "metadata": {},
   "outputs": [],
   "source": [
    "# Algoritmo 1.1 VMLS https://web.stanford.edu/~boyd/vmls/\n",
    "\n",
    "function back_subst(R,b)\n",
    "    n = length(b)\n",
    "    x = zeros(n)\n",
    "    for i=n:-1:1\n",
    "        x[i] = (b[i] - R[i,i+1:n]'*x[i+1:n]) / R[i,i]\n",
    "    end\n",
    "    return x\n",
    "end;"
   ]
  },
  {
   "cell_type": "code",
   "execution_count": 15,
   "metadata": {},
   "outputs": [
    {
     "data": {
      "text/plain": [
       "3-element Vector{Float64}:\n",
       "  7.000000000000028\n",
       "  7.000000000000007\n",
       " 25.000000000000007"
      ]
     },
     "metadata": {},
     "output_type": "display_data"
    }
   ],
   "source": [
    "x_gauss=back_subst(A_c[:,1:3],A_c[:,4])"
   ]
  },
  {
   "cell_type": "markdown",
   "metadata": {},
   "source": [
    "En Julia podemos resolver directamente el sistema de ecuaciones mediante el operador \\ "
   ]
  },
  {
   "cell_type": "code",
   "execution_count": 17,
   "metadata": {},
   "outputs": [],
   "source": [
    "x_ls=A\\y;"
   ]
  },
  {
   "cell_type": "code",
   "execution_count": 19,
   "metadata": {},
   "outputs": [
    {
     "data": {
      "text/plain": [
       "2.4741787777998282e-14"
      ]
     },
     "metadata": {},
     "output_type": "display_data"
    }
   ],
   "source": [
    "using LinearAlgebra;\n",
    "\n",
    "norm(x_gauss-x_ls)"
   ]
  },
  {
   "cell_type": "markdown",
   "metadata": {},
   "source": [
    "# 2) Ejercicios \n",
    "\n",
    "2.1) Resolver el siguiente sistema de ecuaciones lineales usando el método de eliminación de Gauss: $\\boldsymbol{A}\\boldsymbol{x}=\\boldsymbol{y}$ para la matriz de Hilbert de tamaño $3 \\times 3$:\n",
    "\n",
    "$\\boldsymbol{A}=\\begin{bmatrix} 1/2 & 1/3 & 1/4 \\\\\n",
    "                                1/3 & 1/4 & 1/5 \\\\\n",
    "                                1/4 & 1/5 & 1/6 \\\\\n",
    "                \\end{bmatrix}$, \n",
    "$\\boldsymbol{y}=\\begin{bmatrix} 1 \\\\\n",
    "                                1 \\\\\n",
    "                                1 \\\\\n",
    "                \\end{bmatrix}$\n",
    "\n",
    "2.2) Comprobar los resultados con los valores obtenidos.\n",
    "\n",
    "2.3) Una forma de evaluar la existencia de la solución de un sistema de ecuaciones es a través del número de condicionamiento:\n",
    "\n",
    "$cond(A)=||A||\\times ||A^{-1}|| $, donde $||\\cdot||$ es la norma de la matriz. Revise el determinante y el número de condicionamiento de la matriz de ejercicio 1.5.\n",
    "\n",
    "2.4) Construya una matriz de Hilbert de tamaño $20 \\times 20$ y repita el procedimiento anterior. ¿La matriz resultante es invertible? ¿Cuanto cambia el número de condicionamiento.? \n",
    "\n",
    "$A=[\\frac{1}{i+j-1}],i,j=1:20$"
   ]
  },
  {
   "cell_type": "code",
   "execution_count": 57,
   "metadata": {},
   "outputs": [
    {
     "data": {
      "text/plain": [
       "hilbert (generic function with 1 method)"
      ]
     },
     "metadata": {},
     "output_type": "display_data"
    }
   ],
   "source": [
    "function hilbert(n::Int64)::Matrix\n",
    "    A=ones(n,n)\n",
    "    for i=1:n\n",
    "        for j=1:n\n",
    "            A[i,j]=1/(i+j-1)\n",
    "        end\n",
    "    end\n",
    "    return A \n",
    "end"
   ]
  },
  {
   "cell_type": "markdown",
   "metadata": {},
   "source": [
    "2.5) Resolver el siguiente sistema de ecuaciones lineales mediante eliminación de Gauss:\n",
    "\n",
    "$\\boldsymbol{A}=\\begin{bmatrix} 2 & 4 & 6 \\\\\n",
    "                                2 & 0 & 2 \\\\\n",
    "                                6 & 8 &14 \\\\\n",
    "                \\end{bmatrix}$, \n",
    "$\\boldsymbol{y}=\\begin{bmatrix} 1 \\\\\n",
    "                                1 \\\\\n",
    "                                1 \\\\\n",
    "                \\end{bmatrix}$"
   ]
  },
  {
   "cell_type": "code",
   "execution_count": 44,
   "metadata": {},
   "outputs": [
    {
     "data": {
      "text/plain": [
       "3-element Vector{Float64}:\n",
       "  12.000000000000394\n",
       " -60.000000000001585\n",
       "  60.000000000001315"
      ]
     },
     "metadata": {},
     "output_type": "display_data"
    }
   ],
   "source": [
    "# 2.1\n",
    "\n",
    "A=[ 1/2  1/3  1/4; 1/3  1/4 1/5; 1/4  1/5  1/6];\n",
    "y=ones(3);\n",
    "\n",
    "A_c=[A y];\n",
    "P=A_c[1,:];\n",
    "m21=A_c[2,1]/A_c[1,1];\n",
    "A_c[2,:]-=m21*P;\n",
    "m31=A_c[3,1]/A_c[1,1];\n",
    "A_c[3,:]-=m31*P;\n",
    "P=A_c[2,:]\n",
    "m32=A_c[3,2]/A_c[2,2];\n",
    "A_c[3,:]-=m32*P;\n",
    "x_gauss=back_subst(A_c[:,1:3],A_c[:,4])"
   ]
  },
  {
   "cell_type": "code",
   "execution_count": 45,
   "metadata": {},
   "outputs": [
    {
     "data": {
      "text/plain": [
       "3-element Vector{Float64}:\n",
       "  12.000000000000416\n",
       " -60.00000000000164\n",
       "  60.00000000000136"
      ]
     },
     "metadata": {},
     "output_type": "display_data"
    }
   ],
   "source": [
    "x_ls=A\\y"
   ]
  },
  {
   "cell_type": "code",
   "execution_count": 52,
   "metadata": {},
   "outputs": [
    {
     "data": {
      "text/plain": [
       "43200.00000000099"
      ]
     },
     "metadata": {},
     "output_type": "display_data"
    }
   ],
   "source": [
    "1/det(A)"
   ]
  },
  {
   "cell_type": "code",
   "execution_count": 48,
   "metadata": {},
   "outputs": [
    {
     "data": {
      "text/plain": [
       "1354.9345814466783"
      ]
     },
     "metadata": {},
     "output_type": "display_data"
    }
   ],
   "source": [
    "cond=norm(A)*norm(inv(A))"
   ]
  },
  {
   "cell_type": "code",
   "execution_count": 25,
   "metadata": {},
   "outputs": [
    {
     "data": {
      "text/plain": [
       "7.418283949015283e-14"
      ]
     },
     "metadata": {},
     "output_type": "display_data"
    }
   ],
   "source": [
    "norm(x_gauss-x_ls)"
   ]
  },
  {
   "cell_type": "code",
   "execution_count": 55,
   "metadata": {},
   "outputs": [
    {
     "data": {
      "text/plain": [
       "3-element Vector{Float64}:\n",
       "  11.999739364054529\n",
       " -59.99899921549251\n",
       "  59.999186412558046"
      ]
     },
     "metadata": {},
     "output_type": "display_data"
    }
   ],
   "source": [
    "# introducimos una perturbacion en la diagonal de A\n",
    "\n",
    "A=[ 1/2  1/3  1/4; 1/3  1/4 1/5; 1/4  1/5  1/6]+Diagonal(ones(3))*1e-8;\n",
    "y=ones(3);\n",
    "\n",
    "A_c=[A y];\n",
    "P=A_c[1,:];\n",
    "m21=A_c[2,1]/A_c[1,1];\n",
    "A_c[2,:]-=m21*P;\n",
    "m31=A_c[3,1]/A_c[1,1];\n",
    "A_c[3,:]-=m31*P;\n",
    "P=A_c[2,:]\n",
    "m32=A_c[3,2]/A_c[2,2];\n",
    "A_c[3,:]-=m32*P;\n",
    "x_gauss=back_subst(A_c[:,1:3],A_c[:,4])"
   ]
  },
  {
   "cell_type": "code",
   "execution_count": 56,
   "metadata": {},
   "outputs": [
    {
     "data": {
      "text/plain": [
       "0.0013158363340164338"
      ]
     },
     "metadata": {},
     "output_type": "display_data"
    }
   ],
   "source": [
    "norm(x_gauss-x_ls)"
   ]
  },
  {
   "cell_type": "code",
   "execution_count": 60,
   "metadata": {},
   "outputs": [],
   "source": [
    "# 2.4 Matriz de Hilbert\n",
    "\n",
    "A=hilbert(20);\n",
    "y=ones(20);"
   ]
  },
  {
   "cell_type": "code",
   "execution_count": 61,
   "metadata": {},
   "outputs": [
    {
     "data": {
      "text/plain": [
       "2.583006774892072e18"
      ]
     },
     "metadata": {},
     "output_type": "display_data"
    }
   ],
   "source": [
    "cond=norm(A)*norm(inv(A))"
   ]
  },
  {
   "cell_type": "code",
   "execution_count": 63,
   "metadata": {},
   "outputs": [
    {
     "data": {
      "text/plain": [
       "-9.026862380917484e-195"
      ]
     },
     "metadata": {},
     "output_type": "display_data"
    }
   ],
   "source": [
    "det(A)"
   ]
  },
  {
   "cell_type": "code",
   "execution_count": 66,
   "metadata": {},
   "outputs": [],
   "source": [
    "x_ls=A\\y;"
   ]
  },
  {
   "cell_type": "code",
   "execution_count": 67,
   "metadata": {},
   "outputs": [],
   "source": [
    "A_p=A+Diagonal(ones(20))*1e-8;\n",
    "x_ls_p=A_p\\y;"
   ]
  },
  {
   "cell_type": "code",
   "execution_count": 68,
   "metadata": {},
   "outputs": [
    {
     "data": {
      "text/plain": [
       "2.6661447241844845e9"
      ]
     },
     "metadata": {},
     "output_type": "display_data"
    }
   ],
   "source": [
    "norm(x_ls-x_ls_p)"
   ]
  },
  {
   "cell_type": "code",
   "execution_count": 86,
   "metadata": {},
   "outputs": [],
   "source": [
    "# 2.5 \n",
    "\n",
    "A= [2 4 6;2 0 2;6 8 14];\n",
    "y=ones(3);"
   ]
  },
  {
   "cell_type": "code",
   "execution_count": 87,
   "metadata": {},
   "outputs": [
    {
     "data": {
      "text/plain": [
       "4.531659709609418e16"
      ]
     },
     "metadata": {},
     "output_type": "display_data"
    }
   ],
   "source": [
    "cond=norm(A)*norm(inv(A))"
   ]
  },
  {
   "cell_type": "code",
   "execution_count": 93,
   "metadata": {},
   "outputs": [
    {
     "data": {
      "text/plain": [
       "2"
      ]
     },
     "metadata": {},
     "output_type": "display_data"
    }
   ],
   "source": [
    "rank(A)"
   ]
  },
  {
   "cell_type": "code",
   "execution_count": 89,
   "metadata": {},
   "outputs": [
    {
     "data": {
      "text/plain": [
       "3-element Vector{Float64}:\n",
       " -1.125899906842624e15\n",
       " -1.125899906842624e15\n",
       "  1.125899906842624e15"
      ]
     },
     "metadata": {},
     "output_type": "display_data"
    }
   ],
   "source": [
    "x_ls=A\\y"
   ]
  },
  {
   "cell_type": "code",
   "execution_count": 90,
   "metadata": {},
   "outputs": [],
   "source": [
    "A_c=[A y];\n",
    "P=A_c[1,:];\n",
    "m21=A_c[2,1]/A_c[1,1];\n",
    "A_c[2,:]-=m21*P;\n",
    "m31=A_c[3,1]/A_c[1,1];\n",
    "A_c[3,:]-=m31*P;\n",
    "P=A_c[2,:]\n",
    "m32=A_c[3,2]/A_c[2,2];\n",
    "A_c[3,:]-=m32*P;\n"
   ]
  },
  {
   "cell_type": "code",
   "execution_count": 91,
   "metadata": {},
   "outputs": [
    {
     "data": {
      "text/plain": [
       "3×4 Matrix{Float64}:\n",
       " 2.0   4.0   6.0   1.0\n",
       " 0.0  -4.0  -4.0   0.0\n",
       " 0.0   0.0   0.0  -2.0"
      ]
     },
     "metadata": {},
     "output_type": "display_data"
    }
   ],
   "source": [
    "A_c"
   ]
  },
  {
   "cell_type": "code",
   "execution_count": 92,
   "metadata": {},
   "outputs": [
    {
     "data": {
      "text/plain": [
       "3-element Vector{Float64}:\n",
       " NaN\n",
       "  Inf\n",
       " -Inf"
      ]
     },
     "metadata": {},
     "output_type": "display_data"
    }
   ],
   "source": [
    "x_gauss=back_subst(A_c[:,1:3],A_c[:,4])"
   ]
  }
 ],
 "metadata": {
  "kernelspec": {
   "display_name": "Julia 1.7.3",
   "language": "julia",
   "name": "julia-1.7"
  },
  "language_info": {
   "file_extension": ".jl",
   "mimetype": "application/julia",
   "name": "julia",
   "version": "1.7.3"
  },
  "orig_nbformat": 4,
  "vscode": {
   "interpreter": {
    "hash": "2ac3d5d3a4336f34c662130573d1ea696fb4dfcbf6baf7c9925b84262e1f6ae2"
   }
  }
 },
 "nbformat": 4,
 "nbformat_minor": 2
}
