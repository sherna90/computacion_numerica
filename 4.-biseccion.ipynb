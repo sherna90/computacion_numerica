{
 "cells": [
  {
   "cell_type": "markdown",
   "id": "704594cc",
   "metadata": {},
   "source": [
    "# Raices de funciones\n",
    "\n",
    "En muchos problemas buscamos conocer el valor $\\hat x$ que cumple la condición $f(\\hat x)=0$. Este valor se le llama la raiz o cero de la función $f(x)$.\n",
    "\n",
    "Podemos usar métodos iterativos para aproximar el error absoluto $\\vert f(\\hat x)-0 \\vert <= \\varepsilon$, para una tolerancia dada $\\varepsilon$.\n",
    "\n",
    "Los métodos iterativos van a construir una secuencia de valores $x_i \\mapsto \\hat x$ tal que $i=1 \\ldots n$ siendo $n$ la cantidad total de iteraciones."
   ]
  },
  {
   "cell_type": "markdown",
   "id": "b68f82f0",
   "metadata": {},
   "source": [
    "## Método de Búsqueda Incremental\n",
    "\n",
    "Este método utiliza el terorema del valor intermedio para encontrar raies reales. Si $f(x)$ es continua en el intervalo $[a,b]$, entonces:\n",
    "\n",
    "$\\mathtt{sign}(f(a))\\neq \\mathtt{sign}(f(b)) \\wedge a < c < b \\implies f(c)=0$\n",
    "\n",
    "1.- Dado que $c$ es desconocido, podemos hacer $x_1=a$ y $x_2=a+\\varepsilon$. \n",
    "\n",
    "2.- Si $\\mathtt{sign}(f(x_1))\\neq \\mathtt{sign}(f(x_2))$, entonces $c=\\frac{x_1+x_2}{2}$.\n",
    "\n",
    "3.- De lo contrario, $x_1=x_2$, $x_2=x_2+\\varepsilon$.\n",
    "\n",
    "4.- Continuar\n",
    "    \n"
   ]
  },
  {
   "cell_type": "code",
   "execution_count": 1,
   "id": "72a3bf4e",
   "metadata": {},
   "outputs": [
    {
     "data": {
      "text/plain": [
       "root_search (generic function with 1 method)"
      ]
     },
     "execution_count": 1,
     "metadata": {},
     "output_type": "execute_result"
    }
   ],
   "source": [
    "function root_search(f::Function,a,b,eps,N)\n",
    "    n=1\n",
    "    x1=a\n",
    "    x2=a+eps\n",
    "    c=(x1+x2)/2.0\n",
    "    while sign(f(x1))==sign(f(x2))\n",
    "        if n>=N\n",
    "            break\n",
    "        end\n",
    "        x1=x2\n",
    "        x2+=eps\n",
    "        n+=1\n",
    "        c=(x1+x2)/2.0\n",
    "    end\n",
    "    y=f(c)\n",
    "    return y,c,n\n",
    "end\n",
    "            "
   ]
  },
  {
   "cell_type": "code",
   "execution_count": 2,
   "id": "45e74602",
   "metadata": {},
   "outputs": [
    {
     "data": {
      "image/png": "[encoded data removed]",
      "image/svg+xml": [
       "<?xml version=\"1.0\" encoding=\"utf-8\"?>\n",
       "<svg xmlns=\"http://www.w3.org/2000/svg\" xmlns:xlink=\"http://www.w3.org/1999/xlink\" width=\"600\" height=\"400\" viewBox=\"0 0 2400 1600\">\n",
       "<defs>\n",
       "  <clipPath id=\"clip410\">\n",
       "    <rect x=\"0\" y=\"0\" width=\"2400\" height=\"1600\"/>\n",
       "  </clipPath>\n",
       "</defs>\n",
       "<path clip-path=\"url(#clip410)\" d=\"M0 1600 L2400 1600 L2400 8.88178e-14 L0 8.88178e-14  Z\" fill=\"#ffffff\" fill-rule=\"evenodd\" fill-opacity=\"1\"/>\n",
       "<defs>\n",
       "  <clipPath id=\"clip411\">\n",
       "    <rect x=\"480\" y=\"0\" width=\"1681\" height=\"1600\"/>\n",
       "  </clipPath>\n",
       "</defs>\n",
       "<path clip-path=\"url(#clip410)\" d=\"M140.696 1486.45 L2352.76 1486.45 L2352.76 47.2441 L140.696 47.2441  Z\" fill=\"#ffffff\" fill-rule=\"evenodd\" fill-opacity=\"1\"/>\n",
       "<defs>\n",
       "  <clipPath id=\"clip412\">\n",
       "    <rect x=\"140\" y=\"47\" width=\"2213\" height=\"1440\"/>\n",
       "  </clipPath>\n",
       "</defs>\n",
       "<polyline clip-path=\"url(#clip412)\" style=\"stroke:#000000; stroke-linecap:round; stroke-linejoin:round; stroke-width:2; stroke-opacity:0.1; fill:none\" points=\"270.619,1486.45 270.619,47.2441 \"/>\n",
       "<polyline clip-path=\"url(#clip412)\" style=\"stroke:#000000; stroke-linecap:round; stroke-linejoin:round; stroke-width:2; stroke-opacity:0.1; fill:none\" points=\"943.796,1486.45 943.796,47.2441 \"/>\n",
       "<polyline clip-path=\"url(#clip412)\" style=\"stroke:#000000; stroke-linecap:round; stroke-linejoin:round; stroke-width:2; stroke-opacity:0.1; fill:none\" points=\"1616.97,1486.45 1616.97,47.2441 \"/>\n",
       "<polyline clip-path=\"url(#clip412)\" style=\"stroke:#000000; stroke-linecap:round; stroke-linejoin:round; stroke-width:2; stroke-opacity:0.1; fill:none\" points=\"2290.15,1486.45 2290.15,47.2441 \"/>\n",
       "<polyline clip-path=\"url(#clip410)\" style=\"stroke:#000000; stroke-linecap:round; stroke-linejoin:round; stroke-width:4; stroke-opacity:1; fill:none\" points=\"140.696,1486.45 2352.76,1486.45 \"/>\n",
       "<polyline clip-path=\"url(#clip410)\" style=\"stroke:#000000; stroke-linecap:round; stroke-linejoin:round; stroke-width:4; stroke-opacity:1; fill:none\" points=\"270.619,1486.45 270.619,1467.55 \"/>\n",
       "<polyline clip-path=\"url(#clip410)\" style=\"stroke:#000000; stroke-linecap:round; stroke-linejoin:round; stroke-width:4; stroke-opacity:1; fill:none\" points=\"943.796,1486.45 943.796,1467.55 \"/>\n",
       "<polyline clip-path=\"url(#clip410)\" style=\"stroke:#000000; stroke-linecap:round; stroke-linejoin:round; stroke-width:4; stroke-opacity:1; fill:none\" points=\"1616.97,1486.45 1616.97,1467.55 \"/>\n",
       "<polyline clip-path=\"url(#clip410)\" style=\"stroke:#000000; stroke-linecap:round; stroke-linejoin:round; stroke-width:4; stroke-opacity:1; fill:none\" points=\"2290.15,1486.45 2290.15,1467.55 \"/>\n",
       "<path clip-path=\"url(#clip410)\" d=\"M240.376 1532.02 L270.052 1532.02 L270.052 1535.95 L240.376 1535.95 L240.376 1532.02 Z\" fill=\"#000000\" fill-rule=\"nonzero\" fill-opacity=\"1\" /><path clip-path=\"url(#clip410)\" d=\"M280.954 1544.91 L288.593 1544.91 L288.593 1518.55 L280.283 1520.21 L280.283 1515.95 L288.547 1514.29 L293.223 1514.29 L293.223 1544.91 L300.862 1544.91 L300.862 1548.85 L280.954 1548.85 L280.954 1544.91 Z\" fill=\"#000000\" fill-rule=\"nonzero\" fill-opacity=\"1\" /><path clip-path=\"url(#clip410)\" d=\"M943.796 1517.37 Q940.185 1517.37 938.356 1520.93 Q936.551 1524.47 936.551 1531.6 Q936.551 1538.71 938.356 1542.27 Q940.185 1545.82 943.796 1545.82 Q947.43 1545.82 949.236 1542.27 Q951.064 1538.71 951.064 1531.6 Q951.064 1524.47 949.236 1520.93 Q947.43 1517.37 943.796 1517.37 M943.796 1513.66 Q949.606 1513.66 952.662 1518.27 Q955.74 1522.85 955.74 1531.6 Q955.74 1540.33 952.662 1544.94 Q949.606 1549.52 943.796 1549.52 Q937.986 1549.52 934.907 1544.94 Q931.852 1540.33 931.852 1531.6 Q931.852 1522.85 934.907 1518.27 Q937.986 1513.66 943.796 1513.66 Z\" fill=\"#000000\" fill-rule=\"nonzero\" fill-opacity=\"1\" /><path clip-path=\"url(#clip410)\" d=\"M1607.36 1544.91 L1614.99 1544.91 L1614.99 1518.55 L1606.68 1520.21 L1606.68 1515.95 L1614.95 1514.29 L1619.62 1514.29 L1619.62 1544.91 L1627.26 1544.91 L1627.26 1548.85 L1607.36 1548.85 L1607.36 1544.91 Z\" fill=\"#000000\" fill-rule=\"nonzero\" fill-opacity=\"1\" /><path clip-path=\"url(#clip410)\" d=\"M2284.8 1544.91 L2301.12 1544.91 L2301.12 1548.85 L2279.18 1548.85 L2279.18 1544.91 Q2281.84 1542.16 2286.42 1537.53 Q2291.03 1532.88 2292.21 1531.53 Q2294.46 1529.01 2295.34 1527.27 Q2296.24 1525.51 2296.24 1523.82 Q2296.24 1521.07 2294.29 1519.33 Q2292.37 1517.6 2289.27 1517.6 Q2287.07 1517.6 2284.62 1518.36 Q2282.19 1519.13 2279.41 1520.68 L2279.41 1515.95 Q2282.23 1514.82 2284.69 1514.24 Q2287.14 1513.66 2289.18 1513.66 Q2294.55 1513.66 2297.74 1516.35 Q2300.94 1519.03 2300.94 1523.52 Q2300.94 1525.65 2300.13 1527.57 Q2299.34 1529.47 2297.23 1532.07 Q2296.66 1532.74 2293.55 1535.95 Q2290.45 1539.15 2284.8 1544.91 Z\" fill=\"#000000\" fill-rule=\"nonzero\" fill-opacity=\"1\" /><polyline clip-path=\"url(#clip412)\" style=\"stroke:#000000; stroke-linecap:round; stroke-linejoin:round; stroke-width:2; stroke-opacity:0.1; fill:none\" points=\"140.696,1290.45 2352.76,1290.45 \"/>\n",
       "<polyline clip-path=\"url(#clip412)\" style=\"stroke:#000000; stroke-linecap:round; stroke-linejoin:round; stroke-width:2; stroke-opacity:0.1; fill:none\" points=\"140.696,956.431 2352.76,956.431 \"/>\n",
       "<polyline clip-path=\"url(#clip412)\" style=\"stroke:#000000; stroke-linecap:round; stroke-linejoin:round; stroke-width:2; stroke-opacity:0.1; fill:none\" points=\"140.696,622.41 2352.76,622.41 \"/>\n",
       "<polyline clip-path=\"url(#clip412)\" style=\"stroke:#000000; stroke-linecap:round; stroke-linejoin:round; stroke-width:2; stroke-opacity:0.1; fill:none\" points=\"140.696,288.389 2352.76,288.389 \"/>\n",
       "<polyline clip-path=\"url(#clip410)\" style=\"stroke:#000000; stroke-linecap:round; stroke-linejoin:round; stroke-width:4; stroke-opacity:1; fill:none\" points=\"140.696,1486.45 140.696,47.2441 \"/>\n",
       "<polyline clip-path=\"url(#clip410)\" style=\"stroke:#000000; stroke-linecap:round; stroke-linejoin:round; stroke-width:4; stroke-opacity:1; fill:none\" points=\"140.696,1290.45 159.593,1290.45 \"/>\n",
       "<polyline clip-path=\"url(#clip410)\" style=\"stroke:#000000; stroke-linecap:round; stroke-linejoin:round; stroke-width:4; stroke-opacity:1; fill:none\" points=\"140.696,956.431 159.593,956.431 \"/>\n",
       "<polyline clip-path=\"url(#clip410)\" style=\"stroke:#000000; stroke-linecap:round; stroke-linejoin:round; stroke-width:4; stroke-opacity:1; fill:none\" points=\"140.696,622.41 159.593,622.41 \"/>\n",
       "<polyline clip-path=\"url(#clip410)\" style=\"stroke:#000000; stroke-linecap:round; stroke-linejoin:round; stroke-width:4; stroke-opacity:1; fill:none\" points=\"140.696,288.389 159.593,288.389 \"/>\n",
       "<path clip-path=\"url(#clip410)\" d=\"M92.7512 1276.25 Q89.1401 1276.25 87.3114 1279.82 Q85.5058 1283.36 85.5058 1290.49 Q85.5058 1297.59 87.3114 1301.16 Q89.1401 1304.7 92.7512 1304.7 Q96.3854 1304.7 98.1909 1301.16 Q100.02 1297.59 100.02 1290.49 Q100.02 1283.36 98.1909 1279.82 Q96.3854 1276.25 92.7512 1276.25 M92.7512 1272.55 Q98.5613 1272.55 101.617 1277.15 Q104.696 1281.74 104.696 1290.49 Q104.696 1299.21 101.617 1303.82 Q98.5613 1308.4 92.7512 1308.4 Q86.941 1308.4 83.8623 1303.82 Q80.8068 1299.21 80.8068 1290.49 Q80.8068 1281.74 83.8623 1277.15 Q86.941 1272.55 92.7512 1272.55 Z\" fill=\"#000000\" fill-rule=\"nonzero\" fill-opacity=\"1\" /><path clip-path=\"url(#clip410)\" d=\"M53.3995 969.776 L61.0384 969.776 L61.0384 943.41 L52.7282 945.077 L52.7282 940.818 L60.9921 939.151 L65.668 939.151 L65.668 969.776 L73.3068 969.776 L73.3068 973.711 L53.3995 973.711 L53.3995 969.776 Z\" fill=\"#000000\" fill-rule=\"nonzero\" fill-opacity=\"1\" /><path clip-path=\"url(#clip410)\" d=\"M92.7512 942.23 Q89.1401 942.23 87.3114 945.794 Q85.5058 949.336 85.5058 956.466 Q85.5058 963.572 87.3114 967.137 Q89.1401 970.679 92.7512 970.679 Q96.3854 970.679 98.1909 967.137 Q100.02 963.572 100.02 956.466 Q100.02 949.336 98.1909 945.794 Q96.3854 942.23 92.7512 942.23 M92.7512 938.526 Q98.5613 938.526 101.617 943.132 Q104.696 947.716 104.696 956.466 Q104.696 965.193 101.617 969.799 Q98.5613 974.382 92.7512 974.382 Q86.941 974.382 83.8623 969.799 Q80.8068 965.193 80.8068 956.466 Q80.8068 947.716 83.8623 943.132 Q86.941 938.526 92.7512 938.526 Z\" fill=\"#000000\" fill-rule=\"nonzero\" fill-opacity=\"1\" /><path clip-path=\"url(#clip410)\" d=\"M56.6171 635.755 L72.9365 635.755 L72.9365 639.69 L50.9921 639.69 L50.9921 635.755 Q53.6541 633 58.2375 628.371 Q62.8439 623.718 64.0245 622.375 Q66.2698 619.852 67.1494 618.116 Q68.0522 616.357 68.0522 614.667 Q68.0522 611.912 66.1078 610.176 Q64.1865 608.44 61.0847 608.44 Q58.8856 608.44 56.4319 609.204 Q54.0014 609.968 51.2236 611.519 L51.2236 606.797 Q54.0477 605.662 56.5014 605.084 Q58.955 604.505 60.9921 604.505 Q66.3624 604.505 69.5568 607.19 Q72.7513 609.875 72.7513 614.366 Q72.7513 616.496 71.9411 618.417 Q71.1541 620.315 69.0476 622.908 Q68.4689 623.579 65.367 626.796 Q62.2652 629.991 56.6171 635.755 Z\" fill=\"#000000\" fill-rule=\"nonzero\" fill-opacity=\"1\" /><path clip-path=\"url(#clip410)\" d=\"M92.7512 608.209 Q89.1401 608.209 87.3114 611.773 Q85.5058 615.315 85.5058 622.445 Q85.5058 629.551 87.3114 633.116 Q89.1401 636.658 92.7512 636.658 Q96.3854 636.658 98.1909 633.116 Q100.02 629.551 100.02 622.445 Q100.02 615.315 98.1909 611.773 Q96.3854 608.209 92.7512 608.209 M92.7512 604.505 Q98.5613 604.505 101.617 609.111 Q104.696 613.695 104.696 622.445 Q104.696 631.171 101.617 635.778 Q98.5613 640.361 92.7512 640.361 Q86.941 640.361 83.8623 635.778 Q80.8068 631.171 80.8068 622.445 Q80.8068 613.695 83.8623 609.111 Q86.941 604.505 92.7512 604.505 Z\" fill=\"#000000\" fill-rule=\"nonzero\" fill-opacity=\"1\" /><path clip-path=\"url(#clip410)\" d=\"M66.7559 287.035 Q70.1124 287.752 71.9874 290.021 Q73.8855 292.289 73.8855 295.623 Q73.8855 300.738 70.367 303.539 Q66.8485 306.34 60.3671 306.34 Q58.1912 306.34 55.8764 305.9 Q53.5847 305.484 51.131 304.627 L51.131 300.113 Q53.0754 301.248 55.3903 301.826 Q57.7051 302.405 60.2282 302.405 Q64.6263 302.405 66.918 300.669 Q69.2328 298.933 69.2328 295.623 Q69.2328 292.567 67.08 290.854 Q64.9504 289.118 61.131 289.118 L57.1032 289.118 L57.1032 285.275 L61.3161 285.275 Q64.7652 285.275 66.5939 283.91 Q68.4226 282.521 68.4226 279.928 Q68.4226 277.266 66.5245 275.854 Q64.6495 274.419 61.131 274.419 Q59.2097 274.419 57.0106 274.836 Q54.8115 275.252 52.1727 276.132 L52.1727 271.965 Q54.8347 271.225 57.1495 270.854 Q59.4875 270.484 61.5476 270.484 Q66.8717 270.484 69.9735 272.914 Q73.0753 275.322 73.0753 279.442 Q73.0753 282.313 71.4318 284.303 Q69.7883 286.271 66.7559 287.035 Z\" fill=\"#000000\" fill-rule=\"nonzero\" fill-opacity=\"1\" /><path clip-path=\"url(#clip410)\" d=\"M92.7512 274.188 Q89.1401 274.188 87.3114 277.752 Q85.5058 281.294 85.5058 288.424 Q85.5058 295.53 87.3114 299.095 Q89.1401 302.637 92.7512 302.637 Q96.3854 302.637 98.1909 299.095 Q100.02 295.53 100.02 288.424 Q100.02 281.294 98.1909 277.752 Q96.3854 274.188 92.7512 274.188 M92.7512 270.484 Q98.5613 270.484 101.617 275.09 Q104.696 279.674 104.696 288.424 Q104.696 297.15 101.617 301.757 Q98.5613 306.34 92.7512 306.34 Q86.941 306.34 83.8623 301.757 Q80.8068 297.15 80.8068 288.424 Q80.8068 279.674 83.8623 275.09 Q86.941 270.484 92.7512 270.484 Z\" fill=\"#000000\" fill-rule=\"nonzero\" fill-opacity=\"1\" /><polyline clip-path=\"url(#clip412)\" style=\"stroke:#009af9; stroke-linecap:round; stroke-linejoin:round; stroke-width:4; stroke-opacity:1; fill:none\" points=\"203.301,1316.26 270.619,1290.45 337.936,1275.37 405.254,1268.8 472.572,1268.88 539.89,1274.08 607.207,1283.15 674.525,1295.07 741.843,1309.04 809.161,1324.4 876.478,1340.62 943.796,1357.26 1011.11,1373.89 1078.43,1390.11 1145.75,1405.47 1213.07,1419.44 1280.38,1431.37 1347.7,1440.44 1415.02,1445.64 1482.34,1445.72 1549.66,1439.14 1616.97,1424.06 1684.29,1398.26 1751.61,1359.12 1818.93,1303.58 1886.24,1228.12 1953.56,1128.66 2020.88,1000.6 2088.2,838.703 2155.51,637.118 2222.83,389.297 2290.15,87.9763 \"/>\n",
       "<path clip-path=\"url(#clip410)\" d=\"M214.431 198.898 L488.067 198.898 L488.067 95.2176 L214.431 95.2176  Z\" fill=\"#ffffff\" fill-rule=\"evenodd\" fill-opacity=\"1\"/>\n",
       "<polyline clip-path=\"url(#clip410)\" style=\"stroke:#000000; stroke-linecap:round; stroke-linejoin:round; stroke-width:4; stroke-opacity:1; fill:none\" points=\"214.431,198.898 488.067,198.898 488.067,95.2176 214.431,95.2176 214.431,198.898 \"/>\n",
       "<polyline clip-path=\"url(#clip410)\" style=\"stroke:#009af9; stroke-linecap:round; stroke-linejoin:round; stroke-width:4; stroke-opacity:1; fill:none\" points=\"239.009,147.058 386.48,147.058 \"/>\n",
       "<path clip-path=\"url(#clip410)\" d=\"M424.901 166.745 Q423.095 171.375 421.382 172.787 Q419.67 174.199 416.799 174.199 L413.396 174.199 L413.396 170.634 L415.896 170.634 Q417.656 170.634 418.628 169.8 Q419.6 168.967 420.781 165.865 L421.545 163.921 L411.058 138.412 L415.572 138.412 L423.674 158.689 L431.776 138.412 L436.29 138.412 L424.901 166.745 Z\" fill=\"#000000\" fill-rule=\"nonzero\" fill-opacity=\"1\" /><path clip-path=\"url(#clip410)\" d=\"M443.581 160.402 L451.22 160.402 L451.22 134.037 L442.91 135.703 L442.91 131.444 L451.174 129.778 L455.85 129.778 L455.85 160.402 L463.489 160.402 L463.489 164.338 L443.581 164.338 L443.581 160.402 Z\" fill=\"#000000\" fill-rule=\"nonzero\" fill-opacity=\"1\" /></svg>\n"
      ],
      "text/html": [
       "<?xml version=\"1.0\" encoding=\"utf-8\"?>\n",
       "<svg xmlns=\"http://www.w3.org/2000/svg\" xmlns:xlink=\"http://www.w3.org/1999/xlink\" width=\"600\" height=\"400\" viewBox=\"0 0 2400 1600\">\n",
       "<defs>\n",
       "  <clipPath id=\"clip460\">\n",
       "    <rect x=\"0\" y=\"0\" width=\"2400\" height=\"1600\"/>\n",
       "  </clipPath>\n",
       "</defs>\n",
       "<path clip-path=\"url(#clip460)\" d=\"M0 1600 L2400 1600 L2400 8.88178e-14 L0 8.88178e-14  Z\" fill=\"#ffffff\" fill-rule=\"evenodd\" fill-opacity=\"1\"/>\n",
       "<defs>\n",
       "  <clipPath id=\"clip461\">\n",
       "    <rect x=\"480\" y=\"0\" width=\"1681\" height=\"1600\"/>\n",
       "  </clipPath>\n",
       "</defs>\n",
       "<path clip-path=\"url(#clip460)\" d=\"M140.696 1486.45 L2352.76 1486.45 L2352.76 47.2441 L140.696 47.2441  Z\" fill=\"#ffffff\" fill-rule=\"evenodd\" fill-opacity=\"1\"/>\n",
       "<defs>\n",
       "  <clipPath id=\"clip462\">\n",
       "    <rect x=\"140\" y=\"47\" width=\"2213\" height=\"1440\"/>\n",
       "  </clipPath>\n",
       "</defs>\n",
       "<polyline clip-path=\"url(#clip462)\" style=\"stroke:#000000; stroke-linecap:round; stroke-linejoin:round; stroke-width:2; stroke-opacity:0.1; fill:none\" points=\"270.619,1486.45 270.619,47.2441 \"/>\n",
       "<polyline clip-path=\"url(#clip462)\" style=\"stroke:#000000; stroke-linecap:round; stroke-linejoin:round; stroke-width:2; stroke-opacity:0.1; fill:none\" points=\"943.796,1486.45 943.796,47.2441 \"/>\n",
       "<polyline clip-path=\"url(#clip462)\" style=\"stroke:#000000; stroke-linecap:round; stroke-linejoin:round; stroke-width:2; stroke-opacity:0.1; fill:none\" points=\"1616.97,1486.45 1616.97,47.2441 \"/>\n",
       "<polyline clip-path=\"url(#clip462)\" style=\"stroke:#000000; stroke-linecap:round; stroke-linejoin:round; stroke-width:2; stroke-opacity:0.1; fill:none\" points=\"2290.15,1486.45 2290.15,47.2441 \"/>\n",
       "<polyline clip-path=\"url(#clip460)\" style=\"stroke:#000000; stroke-linecap:round; stroke-linejoin:round; stroke-width:4; stroke-opacity:1; fill:none\" points=\"140.696,1486.45 2352.76,1486.45 \"/>\n",
       "<polyline clip-path=\"url(#clip460)\" style=\"stroke:#000000; stroke-linecap:round; stroke-linejoin:round; stroke-width:4; stroke-opacity:1; fill:none\" points=\"270.619,1486.45 270.619,1467.55 \"/>\n",
       "<polyline clip-path=\"url(#clip460)\" style=\"stroke:#000000; stroke-linecap:round; stroke-linejoin:round; stroke-width:4; stroke-opacity:1; fill:none\" points=\"943.796,1486.45 943.796,1467.55 \"/>\n",
       "<polyline clip-path=\"url(#clip460)\" style=\"stroke:#000000; stroke-linecap:round; stroke-linejoin:round; stroke-width:4; stroke-opacity:1; fill:none\" points=\"1616.97,1486.45 1616.97,1467.55 \"/>\n",
       "<polyline clip-path=\"url(#clip460)\" style=\"stroke:#000000; stroke-linecap:round; stroke-linejoin:round; stroke-width:4; stroke-opacity:1; fill:none\" points=\"2290.15,1486.45 2290.15,1467.55 \"/>\n",
       "<path clip-path=\"url(#clip460)\" d=\"M240.376 1532.02 L270.052 1532.02 L270.052 1535.95 L240.376 1535.95 L240.376 1532.02 Z\" fill=\"#000000\" fill-rule=\"nonzero\" fill-opacity=\"1\" /><path clip-path=\"url(#clip460)\" d=\"M280.954 1544.91 L288.593 1544.91 L288.593 1518.55 L280.283 1520.21 L280.283 1515.95 L288.547 1514.29 L293.223 1514.29 L293.223 1544.91 L300.862 1544.91 L300.862 1548.85 L280.954 1548.85 L280.954 1544.91 Z\" fill=\"#000000\" fill-rule=\"nonzero\" fill-opacity=\"1\" /><path clip-path=\"url(#clip460)\" d=\"M943.796 1517.37 Q940.185 1517.37 938.356 1520.93 Q936.551 1524.47 936.551 1531.6 Q936.551 1538.71 938.356 1542.27 Q940.185 1545.82 943.796 1545.82 Q947.43 1545.82 949.236 1542.27 Q951.064 1538.71 951.064 1531.6 Q951.064 1524.47 949.236 1520.93 Q947.43 1517.37 943.796 1517.37 M943.796 1513.66 Q949.606 1513.66 952.662 1518.27 Q955.74 1522.85 955.74 1531.6 Q955.74 1540.33 952.662 1544.94 Q949.606 1549.52 943.796 1549.52 Q937.986 1549.52 934.907 1544.94 Q931.852 1540.33 931.852 1531.6 Q931.852 1522.85 934.907 1518.27 Q937.986 1513.66 943.796 1513.66 Z\" fill=\"#000000\" fill-rule=\"nonzero\" fill-opacity=\"1\" /><path clip-path=\"url(#clip460)\" d=\"M1607.36 1544.91 L1614.99 1544.91 L1614.99 1518.55 L1606.68 1520.21 L1606.68 1515.95 L1614.95 1514.29 L1619.62 1514.29 L1619.62 1544.91 L1627.26 1544.91 L1627.26 1548.85 L1607.36 1548.85 L1607.36 1544.91 Z\" fill=\"#000000\" fill-rule=\"nonzero\" fill-opacity=\"1\" /><path clip-path=\"url(#clip460)\" d=\"M2284.8 1544.91 L2301.12 1544.91 L2301.12 1548.85 L2279.18 1548.85 L2279.18 1544.91 Q2281.84 1542.16 2286.42 1537.53 Q2291.03 1532.88 2292.21 1531.53 Q2294.46 1529.01 2295.34 1527.27 Q2296.24 1525.51 2296.24 1523.82 Q2296.24 1521.07 2294.29 1519.33 Q2292.37 1517.6 2289.27 1517.6 Q2287.07 1517.6 2284.62 1518.36 Q2282.19 1519.13 2279.41 1520.68 L2279.41 1515.95 Q2282.23 1514.82 2284.69 1514.24 Q2287.14 1513.66 2289.18 1513.66 Q2294.55 1513.66 2297.74 1516.35 Q2300.94 1519.03 2300.94 1523.52 Q2300.94 1525.65 2300.13 1527.57 Q2299.34 1529.47 2297.23 1532.07 Q2296.66 1532.74 2293.55 1535.95 Q2290.45 1539.15 2284.8 1544.91 Z\" fill=\"#000000\" fill-rule=\"nonzero\" fill-opacity=\"1\" /><polyline clip-path=\"url(#clip462)\" style=\"stroke:#000000; stroke-linecap:round; stroke-linejoin:round; stroke-width:2; stroke-opacity:0.1; fill:none\" points=\"140.696,1290.45 2352.76,1290.45 \"/>\n",
       "<polyline clip-path=\"url(#clip462)\" style=\"stroke:#000000; stroke-linecap:round; stroke-linejoin:round; stroke-width:2; stroke-opacity:0.1; fill:none\" points=\"140.696,956.431 2352.76,956.431 \"/>\n",
       "<polyline clip-path=\"url(#clip462)\" style=\"stroke:#000000; stroke-linecap:round; stroke-linejoin:round; stroke-width:2; stroke-opacity:0.1; fill:none\" points=\"140.696,622.41 2352.76,622.41 \"/>\n",
       "<polyline clip-path=\"url(#clip462)\" style=\"stroke:#000000; stroke-linecap:round; stroke-linejoin:round; stroke-width:2; stroke-opacity:0.1; fill:none\" points=\"140.696,288.389 2352.76,288.389 \"/>\n",
       "<polyline clip-path=\"url(#clip460)\" style=\"stroke:#000000; stroke-linecap:round; stroke-linejoin:round; stroke-width:4; stroke-opacity:1; fill:none\" points=\"140.696,1486.45 140.696,47.2441 \"/>\n",
       "<polyline clip-path=\"url(#clip460)\" style=\"stroke:#000000; stroke-linecap:round; stroke-linejoin:round; stroke-width:4; stroke-opacity:1; fill:none\" points=\"140.696,1290.45 159.593,1290.45 \"/>\n",
       "<polyline clip-path=\"url(#clip460)\" style=\"stroke:#000000; stroke-linecap:round; stroke-linejoin:round; stroke-width:4; stroke-opacity:1; fill:none\" points=\"140.696,956.431 159.593,956.431 \"/>\n",
       "<polyline clip-path=\"url(#clip460)\" style=\"stroke:#000000; stroke-linecap:round; stroke-linejoin:round; stroke-width:4; stroke-opacity:1; fill:none\" points=\"140.696,622.41 159.593,622.41 \"/>\n",
       "<polyline clip-path=\"url(#clip460)\" style=\"stroke:#000000; stroke-linecap:round; stroke-linejoin:round; stroke-width:4; stroke-opacity:1; fill:none\" points=\"140.696,288.389 159.593,288.389 \"/>\n",
       "<path clip-path=\"url(#clip460)\" d=\"M92.7512 1276.25 Q89.1401 1276.25 87.3114 1279.82 Q85.5058 1283.36 85.5058 1290.49 Q85.5058 1297.59 87.3114 1301.16 Q89.1401 1304.7 92.7512 1304.7 Q96.3854 1304.7 98.1909 1301.16 Q100.02 1297.59 100.02 1290.49 Q100.02 1283.36 98.1909 1279.82 Q96.3854 1276.25 92.7512 1276.25 M92.7512 1272.55 Q98.5613 1272.55 101.617 1277.15 Q104.696 1281.74 104.696 1290.49 Q104.696 1299.21 101.617 1303.82 Q98.5613 1308.4 92.7512 1308.4 Q86.941 1308.4 83.8623 1303.82 Q80.8068 1299.21 80.8068 1290.49 Q80.8068 1281.74 83.8623 1277.15 Q86.941 1272.55 92.7512 1272.55 Z\" fill=\"#000000\" fill-rule=\"nonzero\" fill-opacity=\"1\" /><path clip-path=\"url(#clip460)\" d=\"M53.3995 969.776 L61.0384 969.776 L61.0384 943.41 L52.7282 945.077 L52.7282 940.818 L60.9921 939.151 L65.668 939.151 L65.668 969.776 L73.3068 969.776 L73.3068 973.711 L53.3995 973.711 L53.3995 969.776 Z\" fill=\"#000000\" fill-rule=\"nonzero\" fill-opacity=\"1\" /><path clip-path=\"url(#clip460)\" d=\"M92.7512 942.23 Q89.1401 942.23 87.3114 945.794 Q85.5058 949.336 85.5058 956.466 Q85.5058 963.572 87.3114 967.137 Q89.1401 970.679 92.7512 970.679 Q96.3854 970.679 98.1909 967.137 Q100.02 963.572 100.02 956.466 Q100.02 949.336 98.1909 945.794 Q96.3854 942.23 92.7512 942.23 M92.7512 938.526 Q98.5613 938.526 101.617 943.132 Q104.696 947.716 104.696 956.466 Q104.696 965.193 101.617 969.799 Q98.5613 974.382 92.7512 974.382 Q86.941 974.382 83.8623 969.799 Q80.8068 965.193 80.8068 956.466 Q80.8068 947.716 83.8623 943.132 Q86.941 938.526 92.7512 938.526 Z\" fill=\"#000000\" fill-rule=\"nonzero\" fill-opacity=\"1\" /><path clip-path=\"url(#clip460)\" d=\"M56.6171 635.755 L72.9365 635.755 L72.9365 639.69 L50.9921 639.69 L50.9921 635.755 Q53.6541 633 58.2375 628.371 Q62.8439 623.718 64.0245 622.375 Q66.2698 619.852 67.1494 618.116 Q68.0522 616.357 68.0522 614.667 Q68.0522 611.912 66.1078 610.176 Q64.1865 608.44 61.0847 608.44 Q58.8856 608.44 56.4319 609.204 Q54.0014 609.968 51.2236 611.519 L51.2236 606.797 Q54.0477 605.662 56.5014 605.084 Q58.955 604.505 60.9921 604.505 Q66.3624 604.505 69.5568 607.19 Q72.7513 609.875 72.7513 614.366 Q72.7513 616.496 71.9411 618.417 Q71.1541 620.315 69.0476 622.908 Q68.4689 623.579 65.367 626.796 Q62.2652 629.991 56.6171 635.755 Z\" fill=\"#000000\" fill-rule=\"nonzero\" fill-opacity=\"1\" /><path clip-path=\"url(#clip460)\" d=\"M92.7512 608.209 Q89.1401 608.209 87.3114 611.773 Q85.5058 615.315 85.5058 622.445 Q85.5058 629.551 87.3114 633.116 Q89.1401 636.658 92.7512 636.658 Q96.3854 636.658 98.1909 633.116 Q100.02 629.551 100.02 622.445 Q100.02 615.315 98.1909 611.773 Q96.3854 608.209 92.7512 608.209 M92.7512 604.505 Q98.5613 604.505 101.617 609.111 Q104.696 613.695 104.696 622.445 Q104.696 631.171 101.617 635.778 Q98.5613 640.361 92.7512 640.361 Q86.941 640.361 83.8623 635.778 Q80.8068 631.171 80.8068 622.445 Q80.8068 613.695 83.8623 609.111 Q86.941 604.505 92.7512 604.505 Z\" fill=\"#000000\" fill-rule=\"nonzero\" fill-opacity=\"1\" /><path clip-path=\"url(#clip460)\" d=\"M66.7559 287.035 Q70.1124 287.752 71.9874 290.021 Q73.8855 292.289 73.8855 295.623 Q73.8855 300.738 70.367 303.539 Q66.8485 306.34 60.3671 306.34 Q58.1912 306.34 55.8764 305.9 Q53.5847 305.484 51.131 304.627 L51.131 300.113 Q53.0754 301.248 55.3903 301.826 Q57.7051 302.405 60.2282 302.405 Q64.6263 302.405 66.918 300.669 Q69.2328 298.933 69.2328 295.623 Q69.2328 292.567 67.08 290.854 Q64.9504 289.118 61.131 289.118 L57.1032 289.118 L57.1032 285.275 L61.3161 285.275 Q64.7652 285.275 66.5939 283.91 Q68.4226 282.521 68.4226 279.928 Q68.4226 277.266 66.5245 275.854 Q64.6495 274.419 61.131 274.419 Q59.2097 274.419 57.0106 274.836 Q54.8115 275.252 52.1727 276.132 L52.1727 271.965 Q54.8347 271.225 57.1495 270.854 Q59.4875 270.484 61.5476 270.484 Q66.8717 270.484 69.9735 272.914 Q73.0753 275.322 73.0753 279.442 Q73.0753 282.313 71.4318 284.303 Q69.7883 286.271 66.7559 287.035 Z\" fill=\"#000000\" fill-rule=\"nonzero\" fill-opacity=\"1\" /><path clip-path=\"url(#clip460)\" d=\"M92.7512 274.188 Q89.1401 274.188 87.3114 277.752 Q85.5058 281.294 85.5058 288.424 Q85.5058 295.53 87.3114 299.095 Q89.1401 302.637 92.7512 302.637 Q96.3854 302.637 98.1909 299.095 Q100.02 295.53 100.02 288.424 Q100.02 281.294 98.1909 277.752 Q96.3854 274.188 92.7512 274.188 M92.7512 270.484 Q98.5613 270.484 101.617 275.09 Q104.696 279.674 104.696 288.424 Q104.696 297.15 101.617 301.757 Q98.5613 306.34 92.7512 306.34 Q86.941 306.34 83.8623 301.757 Q80.8068 297.15 80.8068 288.424 Q80.8068 279.674 83.8623 275.09 Q86.941 270.484 92.7512 270.484 Z\" fill=\"#000000\" fill-rule=\"nonzero\" fill-opacity=\"1\" /><polyline clip-path=\"url(#clip462)\" style=\"stroke:#009af9; stroke-linecap:round; stroke-linejoin:round; stroke-width:4; stroke-opacity:1; fill:none\" points=\"203.301,1316.26 270.619,1290.45 337.936,1275.37 405.254,1268.8 472.572,1268.88 539.89,1274.08 607.207,1283.15 674.525,1295.07 741.843,1309.04 809.161,1324.4 876.478,1340.62 943.796,1357.26 1011.11,1373.89 1078.43,1390.11 1145.75,1405.47 1213.07,1419.44 1280.38,1431.37 1347.7,1440.44 1415.02,1445.64 1482.34,1445.72 1549.66,1439.14 1616.97,1424.06 1684.29,1398.26 1751.61,1359.12 1818.93,1303.58 1886.24,1228.12 1953.56,1128.66 2020.88,1000.6 2088.2,838.703 2155.51,637.118 2222.83,389.297 2290.15,87.9763 \"/>\n",
       "<path clip-path=\"url(#clip460)\" d=\"M214.431 198.898 L488.067 198.898 L488.067 95.2176 L214.431 95.2176  Z\" fill=\"#ffffff\" fill-rule=\"evenodd\" fill-opacity=\"1\"/>\n",
       "<polyline clip-path=\"url(#clip460)\" style=\"stroke:#000000; stroke-linecap:round; stroke-linejoin:round; stroke-width:4; stroke-opacity:1; fill:none\" points=\"214.431,198.898 488.067,198.898 488.067,95.2176 214.431,95.2176 214.431,198.898 \"/>\n",
       "<polyline clip-path=\"url(#clip460)\" style=\"stroke:#009af9; stroke-linecap:round; stroke-linejoin:round; stroke-width:4; stroke-opacity:1; fill:none\" points=\"239.009,147.058 386.48,147.058 \"/>\n",
       "<path clip-path=\"url(#clip460)\" d=\"M424.901 166.745 Q423.095 171.375 421.382 172.787 Q419.67 174.199 416.799 174.199 L413.396 174.199 L413.396 170.634 L415.896 170.634 Q417.656 170.634 418.628 169.8 Q419.6 168.967 420.781 165.865 L421.545 163.921 L411.058 138.412 L415.572 138.412 L423.674 158.689 L431.776 138.412 L436.29 138.412 L424.901 166.745 Z\" fill=\"#000000\" fill-rule=\"nonzero\" fill-opacity=\"1\" /><path clip-path=\"url(#clip460)\" d=\"M443.581 160.402 L451.22 160.402 L451.22 134.037 L442.91 135.703 L442.91 131.444 L451.174 129.778 L455.85 129.778 L455.85 160.402 L463.489 160.402 L463.489 164.338 L443.581 164.338 L443.581 160.402 Z\" fill=\"#000000\" fill-rule=\"nonzero\" fill-opacity=\"1\" /></svg>\n"
      ]
     },
     "execution_count": 2,
     "metadata": {},
     "output_type": "execute_result"
    }
   ],
   "source": [
    "using Plots\n",
    "\n",
    "f(x)=x^5+2x^3-5x-2\n",
    "\n",
    "x=-1.1:0.1:2.0\n",
    "y=f.(x)\n",
    "plot(x,y,Linewidth=2)"
   ]
  },
  {
   "cell_type": "code",
   "execution_count": 3,
   "id": "b4a405d7",
   "metadata": {},
   "outputs": [
    {
     "data": {
      "text/plain": [
       "(-0.3415315625000006, 0.2614690625000007)"
      ]
     },
     "execution_count": 3,
     "metadata": {},
     "output_type": "execute_result"
    }
   ],
   "source": [
    "f(-1.05),f(-0.95)"
   ]
  },
  {
   "cell_type": "code",
   "execution_count": 7,
   "id": "fe830f38",
   "metadata": {},
   "outputs": [
    {
     "data": {
      "text/plain": [
       "(-4.0, 36.0)"
      ]
     },
     "execution_count": 7,
     "metadata": {},
     "output_type": "execute_result"
    }
   ],
   "source": [
    "f(1.),f(2.)"
   ]
  },
  {
   "cell_type": "code",
   "execution_count": 15,
   "id": "05747b92",
   "metadata": {},
   "outputs": [
    {
     "name": "stdout",
     "output_type": "stream",
     "text": [
      "El valor de x es 1.0000000002220446, iteraciones : 1000000"
     ]
    }
   ],
   "source": [
    "f(x)=x^5+2x^3-5x-2\n",
    "y,c,n=root_search(f,1.,2., eps(Float64),1e6)\n",
    "print(\"El valor de x es $c, iteraciones : $n\")"
   ]
  },
  {
   "cell_type": "code",
   "execution_count": 13,
   "id": "71326172",
   "metadata": {},
   "outputs": [
    {
     "data": {
      "text/plain": [
       "Float16(0.000977)"
      ]
     },
     "execution_count": 13,
     "metadata": {},
     "output_type": "execute_result"
    }
   ],
   "source": [
    "eps(Float16)"
   ]
  },
  {
   "cell_type": "code",
   "execution_count": 16,
   "id": "457c4a70",
   "metadata": {},
   "outputs": [
    {
     "data": {
      "text/plain": [
       "3.9999999986677324"
      ]
     },
     "execution_count": 16,
     "metadata": {},
     "output_type": "execute_result"
    }
   ],
   "source": [
    "abs(f(c))"
   ]
  },
  {
   "cell_type": "code",
   "execution_count": 14,
   "id": "60d0769e",
   "metadata": {},
   "outputs": [
    {
     "name": "stdout",
     "output_type": "stream",
     "text": [
      "El valor de x es 1.7324999999999193, y : 0.0015562499997203716, iteraciones : 733"
     ]
    }
   ],
   "source": [
    "f(x)=x^2-3\n",
    "y,c,n=root_search(f,1.0,2.0,1e-3,773)\n",
    "print(\"El valor de x es $c, y : $y, iteraciones : $n\")"
   ]
  },
  {
   "cell_type": "code",
   "execution_count": 18,
   "id": "a6ad0e28",
   "metadata": {},
   "outputs": [
    {
     "data": {
      "text/plain": [
       "-0.3415315625000006"
      ]
     },
     "metadata": {},
     "output_type": "display_data"
    }
   ],
   "source": [
    "f(c)"
   ]
  },
  {
   "cell_type": "code",
   "execution_count": 22,
   "id": "f81fa8fb",
   "metadata": {},
   "outputs": [
    {
     "name": "stdout",
     "output_type": "stream",
     "text": [
      "El valor de x es 1.3999994999917735, iteraciones : 100000"
     ]
    }
   ],
   "source": [
    "y,c,n=root_search(f,1.3,1.4,1e-6,1e5)\n",
    "print(\"El valor de x es $c, iteraciones : $n\")"
   ]
  },
  {
   "cell_type": "code",
   "execution_count": 27,
   "id": "227ad9b0",
   "metadata": {},
   "outputs": [
    {
     "name": "stdout",
     "output_type": "stream",
     "text": [
      "error absoluto : 6.859453883123479e-6"
     ]
    }
   ],
   "source": [
    "err=abs(f(c))\n",
    "print(\"error absoluto : $err\")"
   ]
  },
  {
   "cell_type": "markdown",
   "id": "c02d54e3",
   "metadata": {},
   "source": [
    "# Metodo de la Biseccion\n",
    "\n",
    "El metodo de la biseccion utiliza el teorema del valor intermedio para encontrar raices reales. \n",
    "\t\t\n",
    "1.- Sea $[a,b]$ un intervalo de inicio\n",
    "\n",
    "2.- Hacemos $m=\\frac{b+a}{2}$ \n",
    "\n",
    "3.- Si $f(m)=0$ entonces $m$ es una raiz real. \n",
    "\n",
    "4.- De lo contrario evaluamos el signo de la funcion en el intervalo $[a,m]$ y $[m,b]$.\n",
    "\n",
    "4.- Repetir hasta alcanzar la tolerancia especificada $\\vert b_n - a_n \\vert \\leq \\varepsilon$.\n",
    "\t"
   ]
  },
  {
   "cell_type": "code",
   "execution_count": 17,
   "id": "f70fc6e4",
   "metadata": {},
   "outputs": [
    {
     "data": {
      "text/plain": [
       "bisection (generic function with 1 method)"
      ]
     },
     "execution_count": 17,
     "metadata": {},
     "output_type": "execute_result"
    }
   ],
   "source": [
    "function bisection(f::Function,a,b,eps,N)\n",
    "    n=0\n",
    "    c=0\n",
    "    while n<=N\n",
    "        c=a+(b-a)/2\n",
    "        if f(c)==0 || abs(a-b)<=eps\n",
    "            break\n",
    "        end\n",
    "        sign(f(c)) == sign(f(a)) ? a=c : b=c\n",
    "        n+=1\n",
    "    end\n",
    "    y=f(c)\n",
    "    return y,c,n\n",
    "end"
   ]
  },
  {
   "cell_type": "code",
   "execution_count": 19,
   "id": "425edbfe",
   "metadata": {},
   "outputs": [
    {
     "data": {
      "text/plain": [
       "recursive_bisection (generic function with 1 method)"
      ]
     },
     "execution_count": 19,
     "metadata": {},
     "output_type": "execute_result"
    }
   ],
   "source": [
    "function recursive_bisection(f::Function,a,b,eps,n)\n",
    "    c=a+(b-a)/2\n",
    "    if f(c)==0 || abs(a-b)<=eps\n",
    "        y=f(c)\n",
    "        return c,n\n",
    "    else\n",
    "        sign(f(c)) == sign(f(a)) ? a=c : b=c\n",
    "        #println(\"[$a,$b]\")\n",
    "        return recursive_bisection(f,a,b,eps,n+1)\n",
    "    end\n",
    "end"
   ]
  },
  {
   "cell_type": "code",
   "execution_count": 22,
   "id": "d5c47080",
   "metadata": {},
   "outputs": [
    {
     "name": "stdout",
     "output_type": "stream",
     "text": [
      "El valor de x es -1.0, iteraciones : 0"
     ]
    }
   ],
   "source": [
    "f(x)=x^5+2x^3-5x-2\n",
    "y,c,n=bisection(f,-1.05,-0.95, eps(Float64),100)\n",
    "print(\"El valor de x es $c, iteraciones : $n\")"
   ]
  },
  {
   "cell_type": "code",
   "execution_count": 23,
   "id": "4eb7188b",
   "metadata": {},
   "outputs": [
    {
     "data": {
      "text/plain": [
       "0.0"
      ]
     },
     "execution_count": 23,
     "metadata": {},
     "output_type": "execute_result"
    }
   ],
   "source": [
    "f(c)"
   ]
  },
  {
   "cell_type": "code",
   "execution_count": 25,
   "id": "250f8ef7",
   "metadata": {},
   "outputs": [
    {
     "name": "stdout",
     "output_type": "stream",
     "text": [
      "El valor de x es -1.0, recursiones : 0"
     ]
    }
   ],
   "source": [
    "c,n=recursive_bisection(f,-1.05,-0.95,eps(Float64),0)\n",
    "print(\"El valor de x es $c, recursiones : $n\")"
   ]
  },
  {
   "cell_type": "code",
   "execution_count": 91,
   "id": "aa421dea",
   "metadata": {},
   "outputs": [
    {
     "name": "stdout",
     "output_type": "stream",
     "text": [
      "El valor de x es 1.73193359375, iteraciones : 11"
     ]
    }
   ],
   "source": [
    "y,c,n=bisection(x->x^2-3,1.0,2.0,1e-3,100)\n",
    "print(\"El valor de x es $c, iteraciones : $n\")"
   ]
  },
  {
   "cell_type": "code",
   "execution_count": 101,
   "id": "36d56c3e",
   "metadata": {},
   "outputs": [
    {
     "data": {
      "image/png": "[encoded data removed]",
      "image/svg+xml": [
       "<?xml version=\"1.0\" encoding=\"utf-8\"?>\n",
       "<svg xmlns=\"http://www.w3.org/2000/svg\" xmlns:xlink=\"http://www.w3.org/1999/xlink\" width=\"600\" height=\"400\" viewBox=\"0 0 2400 1600\">\n",
       "<defs>\n",
       "  <clipPath id=\"clip530\">\n",
       "    <rect x=\"0\" y=\"0\" width=\"2400\" height=\"1600\"/>\n",
       "  </clipPath>\n",
       "</defs>\n",
       "<path clip-path=\"url(#clip530)\" d=\"M0 1600 L2400 1600 L2400 0 L0 0  Z\" fill=\"#ffffff\" fill-rule=\"evenodd\" fill-opacity=\"1\"/>\n",
       "<defs>\n",
       "  <clipPath id=\"clip531\">\n",
       "    <rect x=\"480\" y=\"0\" width=\"1681\" height=\"1600\"/>\n",
       "  </clipPath>\n",
       "</defs>\n",
       "<path clip-path=\"url(#clip530)\" d=\"M140.696 1486.45 L2352.76 1486.45 L2352.76 47.2441 L140.696 47.2441  Z\" fill=\"#ffffff\" fill-rule=\"evenodd\" fill-opacity=\"1\"/>\n",
       "<defs>\n",
       "  <clipPath id=\"clip532\">\n",
       "    <rect x=\"140\" y=\"47\" width=\"2213\" height=\"1440\"/>\n",
       "  </clipPath>\n",
       "</defs>\n",
       "<polyline clip-path=\"url(#clip532)\" style=\"stroke:#000000; stroke-linecap:round; stroke-linejoin:round; stroke-width:2; stroke-opacity:0.1; fill:none\" points=\"203.301,1486.45 203.301,47.2441 \"/>\n",
       "<polyline clip-path=\"url(#clip532)\" style=\"stroke:#000000; stroke-linecap:round; stroke-linejoin:round; stroke-width:2; stroke-opacity:0.1; fill:none\" points=\"620.671,1486.45 620.671,47.2441 \"/>\n",
       "<polyline clip-path=\"url(#clip532)\" style=\"stroke:#000000; stroke-linecap:round; stroke-linejoin:round; stroke-width:2; stroke-opacity:0.1; fill:none\" points=\"1038.04,1486.45 1038.04,47.2441 \"/>\n",
       "<polyline clip-path=\"url(#clip532)\" style=\"stroke:#000000; stroke-linecap:round; stroke-linejoin:round; stroke-width:2; stroke-opacity:0.1; fill:none\" points=\"1455.41,1486.45 1455.41,47.2441 \"/>\n",
       "<polyline clip-path=\"url(#clip532)\" style=\"stroke:#000000; stroke-linecap:round; stroke-linejoin:round; stroke-width:2; stroke-opacity:0.1; fill:none\" points=\"1872.78,1486.45 1872.78,47.2441 \"/>\n",
       "<polyline clip-path=\"url(#clip532)\" style=\"stroke:#000000; stroke-linecap:round; stroke-linejoin:round; stroke-width:2; stroke-opacity:0.1; fill:none\" points=\"2290.15,1486.45 2290.15,47.2441 \"/>\n",
       "<polyline clip-path=\"url(#clip530)\" style=\"stroke:#000000; stroke-linecap:round; stroke-linejoin:round; stroke-width:4; stroke-opacity:1; fill:none\" points=\"140.696,1486.45 2352.76,1486.45 \"/>\n",
       "<polyline clip-path=\"url(#clip530)\" style=\"stroke:#000000; stroke-linecap:round; stroke-linejoin:round; stroke-width:4; stroke-opacity:1; fill:none\" points=\"203.301,1486.45 203.301,1467.55 \"/>\n",
       "<polyline clip-path=\"url(#clip530)\" style=\"stroke:#000000; stroke-linecap:round; stroke-linejoin:round; stroke-width:4; stroke-opacity:1; fill:none\" points=\"620.671,1486.45 620.671,1467.55 \"/>\n",
       "<polyline clip-path=\"url(#clip530)\" style=\"stroke:#000000; stroke-linecap:round; stroke-linejoin:round; stroke-width:4; stroke-opacity:1; fill:none\" points=\"1038.04,1486.45 1038.04,1467.55 \"/>\n",
       "<polyline clip-path=\"url(#clip530)\" style=\"stroke:#000000; stroke-linecap:round; stroke-linejoin:round; stroke-width:4; stroke-opacity:1; fill:none\" points=\"1455.41,1486.45 1455.41,1467.55 \"/>\n",
       "<polyline clip-path=\"url(#clip530)\" style=\"stroke:#000000; stroke-linecap:round; stroke-linejoin:round; stroke-width:4; stroke-opacity:1; fill:none\" points=\"1872.78,1486.45 1872.78,1467.55 \"/>\n",
       "<polyline clip-path=\"url(#clip530)\" style=\"stroke:#000000; stroke-linecap:round; stroke-linejoin:round; stroke-width:4; stroke-opacity:1; fill:none\" points=\"2290.15,1486.45 2290.15,1467.55 \"/>\n",
       "<path clip-path=\"url(#clip530)\" d=\"M150.327 1532.02 L180.003 1532.02 L180.003 1535.95 L150.327 1535.95 L150.327 1532.02 Z\" fill=\"#000000\" fill-rule=\"nonzero\" fill-opacity=\"1\" /><path clip-path=\"url(#clip530)\" d=\"M200.095 1517.37 Q196.484 1517.37 194.655 1520.93 Q192.85 1524.47 192.85 1531.6 Q192.85 1538.71 194.655 1542.27 Q196.484 1545.82 200.095 1545.82 Q203.729 1545.82 205.535 1542.27 Q207.364 1538.71 207.364 1531.6 Q207.364 1524.47 205.535 1520.93 Q203.729 1517.37 200.095 1517.37 M200.095 1513.66 Q205.905 1513.66 208.961 1518.27 Q212.039 1522.85 212.039 1531.6 Q212.039 1540.33 208.961 1544.94 Q205.905 1549.52 200.095 1549.52 Q194.285 1549.52 191.206 1544.94 Q188.151 1540.33 188.151 1531.6 Q188.151 1522.85 191.206 1518.27 Q194.285 1513.66 200.095 1513.66 Z\" fill=\"#000000\" fill-rule=\"nonzero\" fill-opacity=\"1\" /><path clip-path=\"url(#clip530)\" d=\"M220.257 1542.97 L225.141 1542.97 L225.141 1548.85 L220.257 1548.85 L220.257 1542.97 Z\" fill=\"#000000\" fill-rule=\"nonzero\" fill-opacity=\"1\" /><path clip-path=\"url(#clip530)\" d=\"M235.373 1514.29 L253.729 1514.29 L253.729 1518.22 L239.655 1518.22 L239.655 1526.7 Q240.674 1526.35 241.692 1526.19 Q242.711 1526 243.729 1526 Q249.516 1526 252.896 1529.17 Q256.275 1532.34 256.275 1537.76 Q256.275 1543.34 252.803 1546.44 Q249.331 1549.52 243.011 1549.52 Q240.836 1549.52 238.567 1549.15 Q236.322 1548.78 233.914 1548.04 L233.914 1543.34 Q235.998 1544.47 238.22 1545.03 Q240.442 1545.58 242.919 1545.58 Q246.923 1545.58 249.261 1543.48 Q251.599 1541.37 251.599 1537.76 Q251.599 1534.15 249.261 1532.04 Q246.923 1529.94 242.919 1529.94 Q241.044 1529.94 239.169 1530.35 Q237.317 1530.77 235.373 1531.65 L235.373 1514.29 Z\" fill=\"#000000\" fill-rule=\"nonzero\" fill-opacity=\"1\" /><path clip-path=\"url(#clip530)\" d=\"M598.055 1517.37 Q594.444 1517.37 592.615 1520.93 Q590.81 1524.47 590.81 1531.6 Q590.81 1538.71 592.615 1542.27 Q594.444 1545.82 598.055 1545.82 Q601.69 1545.82 603.495 1542.27 Q605.324 1538.71 605.324 1531.6 Q605.324 1524.47 603.495 1520.93 Q601.69 1517.37 598.055 1517.37 M598.055 1513.66 Q603.865 1513.66 606.921 1518.27 Q610 1522.85 610 1531.6 Q610 1540.33 606.921 1544.94 Q603.865 1549.52 598.055 1549.52 Q592.245 1549.52 589.166 1544.94 Q586.111 1540.33 586.111 1531.6 Q586.111 1522.85 589.166 1518.27 Q592.245 1513.66 598.055 1513.66 Z\" fill=\"#000000\" fill-rule=\"nonzero\" fill-opacity=\"1\" /><path clip-path=\"url(#clip530)\" d=\"M618.217 1542.97 L623.101 1542.97 L623.101 1548.85 L618.217 1548.85 L618.217 1542.97 Z\" fill=\"#000000\" fill-rule=\"nonzero\" fill-opacity=\"1\" /><path clip-path=\"url(#clip530)\" d=\"M643.287 1517.37 Q639.675 1517.37 637.847 1520.93 Q636.041 1524.47 636.041 1531.6 Q636.041 1538.71 637.847 1542.27 Q639.675 1545.82 643.287 1545.82 Q646.921 1545.82 648.726 1542.27 Q650.555 1538.71 650.555 1531.6 Q650.555 1524.47 648.726 1520.93 Q646.921 1517.37 643.287 1517.37 M643.287 1513.66 Q649.097 1513.66 652.152 1518.27 Q655.231 1522.85 655.231 1531.6 Q655.231 1540.33 652.152 1544.94 Q649.097 1549.52 643.287 1549.52 Q637.476 1549.52 634.398 1544.94 Q631.342 1540.33 631.342 1531.6 Q631.342 1522.85 634.398 1518.27 Q637.476 1513.66 643.287 1513.66 Z\" fill=\"#000000\" fill-rule=\"nonzero\" fill-opacity=\"1\" /><path clip-path=\"url(#clip530)\" d=\"M1015.92 1517.37 Q1012.31 1517.37 1010.48 1520.93 Q1008.68 1524.47 1008.68 1531.6 Q1008.68 1538.71 1010.48 1542.27 Q1012.31 1545.82 1015.92 1545.82 Q1019.56 1545.82 1021.36 1542.27 Q1023.19 1538.71 1023.19 1531.6 Q1023.19 1524.47 1021.36 1520.93 Q1019.56 1517.37 1015.92 1517.37 M1015.92 1513.66 Q1021.73 1513.66 1024.79 1518.27 Q1027.87 1522.85 1027.87 1531.6 Q1027.87 1540.33 1024.79 1544.94 Q1021.73 1549.52 1015.92 1549.52 Q1010.11 1549.52 1007.03 1544.94 Q1003.98 1540.33 1003.98 1531.6 Q1003.98 1522.85 1007.03 1518.27 Q1010.11 1513.66 1015.92 1513.66 Z\" fill=\"#000000\" fill-rule=\"nonzero\" fill-opacity=\"1\" /><path clip-path=\"url(#clip530)\" d=\"M1036.08 1542.97 L1040.97 1542.97 L1040.97 1548.85 L1036.08 1548.85 L1036.08 1542.97 Z\" fill=\"#000000\" fill-rule=\"nonzero\" fill-opacity=\"1\" /><path clip-path=\"url(#clip530)\" d=\"M1051.2 1514.29 L1069.56 1514.29 L1069.56 1518.22 L1055.48 1518.22 L1055.48 1526.7 Q1056.5 1526.35 1057.52 1526.19 Q1058.54 1526 1059.56 1526 Q1065.34 1526 1068.72 1529.17 Q1072.1 1532.34 1072.1 1537.76 Q1072.1 1543.34 1068.63 1546.44 Q1065.16 1549.52 1058.84 1549.52 Q1056.66 1549.52 1054.39 1549.15 Q1052.15 1548.78 1049.74 1548.04 L1049.74 1543.34 Q1051.83 1544.47 1054.05 1545.03 Q1056.27 1545.58 1058.75 1545.58 Q1062.75 1545.58 1065.09 1543.48 Q1067.43 1541.37 1067.43 1537.76 Q1067.43 1534.15 1065.09 1532.04 Q1062.75 1529.94 1058.75 1529.94 Q1056.87 1529.94 1055 1530.35 Q1053.14 1530.77 1051.2 1531.65 L1051.2 1514.29 Z\" fill=\"#000000\" fill-rule=\"nonzero\" fill-opacity=\"1\" /><path clip-path=\"url(#clip530)\" d=\"M1422.56 1544.91 L1430.2 1544.91 L1430.2 1518.55 L1421.89 1520.21 L1421.89 1515.95 L1430.16 1514.29 L1434.83 1514.29 L1434.83 1544.91 L1442.47 1544.91 L1442.47 1548.85 L1422.56 1548.85 L1422.56 1544.91 Z\" fill=\"#000000\" fill-rule=\"nonzero\" fill-opacity=\"1\" /><path clip-path=\"url(#clip530)\" d=\"M1451.92 1542.97 L1456.8 1542.97 L1456.8 1548.85 L1451.92 1548.85 L1451.92 1542.97 Z\" fill=\"#000000\" fill-rule=\"nonzero\" fill-opacity=\"1\" /><path clip-path=\"url(#clip530)\" d=\"M1476.98 1517.37 Q1473.37 1517.37 1471.54 1520.93 Q1469.74 1524.47 1469.74 1531.6 Q1469.74 1538.71 1471.54 1542.27 Q1473.37 1545.82 1476.98 1545.82 Q1480.62 1545.82 1482.42 1542.27 Q1484.25 1538.71 1484.25 1531.6 Q1484.25 1524.47 1482.42 1520.93 Q1480.62 1517.37 1476.98 1517.37 M1476.98 1513.66 Q1482.79 1513.66 1485.85 1518.27 Q1488.93 1522.85 1488.93 1531.6 Q1488.93 1540.33 1485.85 1544.94 Q1482.79 1549.52 1476.98 1549.52 Q1471.17 1549.52 1468.1 1544.94 Q1465.04 1540.33 1465.04 1531.6 Q1465.04 1522.85 1468.1 1518.27 Q1471.17 1513.66 1476.98 1513.66 Z\" fill=\"#000000\" fill-rule=\"nonzero\" fill-opacity=\"1\" /><path clip-path=\"url(#clip530)\" d=\"M1840.43 1544.91 L1848.07 1544.91 L1848.07 1518.55 L1839.76 1520.21 L1839.76 1515.95 L1848.02 1514.29 L1852.7 1514.29 L1852.7 1544.91 L1860.34 1544.91 L1860.34 1548.85 L1840.43 1548.85 L1840.43 1544.91 Z\" fill=\"#000000\" fill-rule=\"nonzero\" fill-opacity=\"1\" /><path clip-path=\"url(#clip530)\" d=\"M1869.78 1542.97 L1874.67 1542.97 L1874.67 1548.85 L1869.78 1548.85 L1869.78 1542.97 Z\" fill=\"#000000\" fill-rule=\"nonzero\" fill-opacity=\"1\" /><path clip-path=\"url(#clip530)\" d=\"M1884.9 1514.29 L1903.25 1514.29 L1903.25 1518.22 L1889.18 1518.22 L1889.18 1526.7 Q1890.2 1526.35 1891.22 1526.19 Q1892.24 1526 1893.25 1526 Q1899.04 1526 1902.42 1529.17 Q1905.8 1532.34 1905.8 1537.76 Q1905.8 1543.34 1902.33 1546.44 Q1898.86 1549.52 1892.54 1549.52 Q1890.36 1549.52 1888.09 1549.15 Q1885.85 1548.78 1883.44 1548.04 L1883.44 1543.34 Q1885.52 1544.47 1887.75 1545.03 Q1889.97 1545.58 1892.44 1545.58 Q1896.45 1545.58 1898.79 1543.48 Q1901.13 1541.37 1901.13 1537.76 Q1901.13 1534.15 1898.79 1532.04 Q1896.45 1529.94 1892.44 1529.94 Q1890.57 1529.94 1888.69 1530.35 Q1886.84 1530.77 1884.9 1531.65 L1884.9 1514.29 Z\" fill=\"#000000\" fill-rule=\"nonzero\" fill-opacity=\"1\" /><path clip-path=\"url(#clip530)\" d=\"M2261.39 1544.91 L2277.71 1544.91 L2277.71 1548.85 L2255.76 1548.85 L2255.76 1544.91 Q2258.43 1542.16 2263.01 1537.53 Q2267.62 1532.88 2268.8 1531.53 Q2271.04 1529.01 2271.92 1527.27 Q2272.82 1525.51 2272.82 1523.82 Q2272.82 1521.07 2270.88 1519.33 Q2268.96 1517.6 2265.86 1517.6 Q2263.66 1517.6 2261.2 1518.36 Q2258.77 1519.13 2256 1520.68 L2256 1515.95 Q2258.82 1514.82 2261.27 1514.24 Q2263.73 1513.66 2265.76 1513.66 Q2271.13 1513.66 2274.33 1516.35 Q2277.52 1519.03 2277.52 1523.52 Q2277.52 1525.65 2276.71 1527.57 Q2275.93 1529.47 2273.82 1532.07 Q2273.24 1532.74 2270.14 1535.95 Q2267.04 1539.15 2261.39 1544.91 Z\" fill=\"#000000\" fill-rule=\"nonzero\" fill-opacity=\"1\" /><path clip-path=\"url(#clip530)\" d=\"M2287.52 1542.97 L2292.41 1542.97 L2292.41 1548.85 L2287.52 1548.85 L2287.52 1542.97 Z\" fill=\"#000000\" fill-rule=\"nonzero\" fill-opacity=\"1\" /><path clip-path=\"url(#clip530)\" d=\"M2312.59 1517.37 Q2308.98 1517.37 2307.15 1520.93 Q2305.35 1524.47 2305.35 1531.6 Q2305.35 1538.71 2307.15 1542.27 Q2308.98 1545.82 2312.59 1545.82 Q2316.23 1545.82 2318.03 1542.27 Q2319.86 1538.71 2319.86 1531.6 Q2319.86 1524.47 2318.03 1520.93 Q2316.23 1517.37 2312.59 1517.37 M2312.59 1513.66 Q2318.4 1513.66 2321.46 1518.27 Q2324.54 1522.85 2324.54 1531.6 Q2324.54 1540.33 2321.46 1544.94 Q2318.4 1549.52 2312.59 1549.52 Q2306.78 1549.52 2303.7 1544.94 Q2300.65 1540.33 2300.65 1531.6 Q2300.65 1522.85 2303.7 1518.27 Q2306.78 1513.66 2312.59 1513.66 Z\" fill=\"#000000\" fill-rule=\"nonzero\" fill-opacity=\"1\" /><polyline clip-path=\"url(#clip532)\" style=\"stroke:#000000; stroke-linecap:round; stroke-linejoin:round; stroke-width:2; stroke-opacity:0.1; fill:none\" points=\"140.696,1289.84 2352.76,1289.84 \"/>\n",
       "<polyline clip-path=\"url(#clip532)\" style=\"stroke:#000000; stroke-linecap:round; stroke-linejoin:round; stroke-width:2; stroke-opacity:0.1; fill:none\" points=\"140.696,955.991 2352.76,955.991 \"/>\n",
       "<polyline clip-path=\"url(#clip532)\" style=\"stroke:#000000; stroke-linecap:round; stroke-linejoin:round; stroke-width:2; stroke-opacity:0.1; fill:none\" points=\"140.696,622.139 2352.76,622.139 \"/>\n",
       "<polyline clip-path=\"url(#clip532)\" style=\"stroke:#000000; stroke-linecap:round; stroke-linejoin:round; stroke-width:2; stroke-opacity:0.1; fill:none\" points=\"140.696,288.287 2352.76,288.287 \"/>\n",
       "<polyline clip-path=\"url(#clip530)\" style=\"stroke:#000000; stroke-linecap:round; stroke-linejoin:round; stroke-width:4; stroke-opacity:1; fill:none\" points=\"140.696,1486.45 140.696,47.2441 \"/>\n",
       "<polyline clip-path=\"url(#clip530)\" style=\"stroke:#000000; stroke-linecap:round; stroke-linejoin:round; stroke-width:4; stroke-opacity:1; fill:none\" points=\"140.696,1289.84 159.593,1289.84 \"/>\n",
       "<polyline clip-path=\"url(#clip530)\" style=\"stroke:#000000; stroke-linecap:round; stroke-linejoin:round; stroke-width:4; stroke-opacity:1; fill:none\" points=\"140.696,955.991 159.593,955.991 \"/>\n",
       "<polyline clip-path=\"url(#clip530)\" style=\"stroke:#000000; stroke-linecap:round; stroke-linejoin:round; stroke-width:4; stroke-opacity:1; fill:none\" points=\"140.696,622.139 159.593,622.139 \"/>\n",
       "<polyline clip-path=\"url(#clip530)\" style=\"stroke:#000000; stroke-linecap:round; stroke-linejoin:round; stroke-width:4; stroke-opacity:1; fill:none\" points=\"140.696,288.287 159.593,288.287 \"/>\n",
       "<path clip-path=\"url(#clip530)\" d=\"M92.7512 1275.64 Q89.1401 1275.64 87.3114 1279.21 Q85.5058 1282.75 85.5058 1289.88 Q85.5058 1296.98 87.3114 1300.55 Q89.1401 1304.09 92.7512 1304.09 Q96.3854 1304.09 98.1909 1300.55 Q100.02 1296.98 100.02 1289.88 Q100.02 1282.75 98.1909 1279.21 Q96.3854 1275.64 92.7512 1275.64 M92.7512 1271.94 Q98.5613 1271.94 101.617 1276.54 Q104.696 1281.13 104.696 1289.88 Q104.696 1298.6 101.617 1303.21 Q98.5613 1307.79 92.7512 1307.79 Q86.941 1307.79 83.8623 1303.21 Q80.8068 1298.6 80.8068 1289.88 Q80.8068 1281.13 83.8623 1276.54 Q86.941 1271.94 92.7512 1271.94 Z\" fill=\"#000000\" fill-rule=\"nonzero\" fill-opacity=\"1\" /><path clip-path=\"url(#clip530)\" d=\"M53.3995 969.335 L61.0384 969.335 L61.0384 942.97 L52.7282 944.636 L52.7282 940.377 L60.9921 938.711 L65.668 938.711 L65.668 969.335 L73.3068 969.335 L73.3068 973.271 L53.3995 973.271 L53.3995 969.335 Z\" fill=\"#000000\" fill-rule=\"nonzero\" fill-opacity=\"1\" /><path clip-path=\"url(#clip530)\" d=\"M92.7512 941.789 Q89.1401 941.789 87.3114 945.354 Q85.5058 948.896 85.5058 956.025 Q85.5058 963.132 87.3114 966.697 Q89.1401 970.238 92.7512 970.238 Q96.3854 970.238 98.1909 966.697 Q100.02 963.132 100.02 956.025 Q100.02 948.896 98.1909 945.354 Q96.3854 941.789 92.7512 941.789 M92.7512 938.086 Q98.5613 938.086 101.617 942.692 Q104.696 947.275 104.696 956.025 Q104.696 964.752 101.617 969.359 Q98.5613 973.942 92.7512 973.942 Q86.941 973.942 83.8623 969.359 Q80.8068 964.752 80.8068 956.025 Q80.8068 947.275 83.8623 942.692 Q86.941 938.086 92.7512 938.086 Z\" fill=\"#000000\" fill-rule=\"nonzero\" fill-opacity=\"1\" /><path clip-path=\"url(#clip530)\" d=\"M56.6171 635.484 L72.9365 635.484 L72.9365 639.419 L50.9921 639.419 L50.9921 635.484 Q53.6541 632.729 58.2375 628.1 Q62.8439 623.447 64.0245 622.104 Q66.2698 619.581 67.1494 617.845 Q68.0522 616.086 68.0522 614.396 Q68.0522 611.641 66.1078 609.905 Q64.1865 608.169 61.0847 608.169 Q58.8856 608.169 56.4319 608.933 Q54.0014 609.697 51.2236 611.248 L51.2236 606.526 Q54.0477 605.391 56.5014 604.813 Q58.955 604.234 60.9921 604.234 Q66.3624 604.234 69.5568 606.919 Q72.7513 609.604 72.7513 614.095 Q72.7513 616.225 71.9411 618.146 Q71.1541 620.044 69.0476 622.637 Q68.4689 623.308 65.367 626.525 Q62.2652 629.72 56.6171 635.484 Z\" fill=\"#000000\" fill-rule=\"nonzero\" fill-opacity=\"1\" /><path clip-path=\"url(#clip530)\" d=\"M92.7512 607.938 Q89.1401 607.938 87.3114 611.502 Q85.5058 615.044 85.5058 622.174 Q85.5058 629.28 87.3114 632.845 Q89.1401 636.387 92.7512 636.387 Q96.3854 636.387 98.1909 632.845 Q100.02 629.28 100.02 622.174 Q100.02 615.044 98.1909 611.502 Q96.3854 607.938 92.7512 607.938 M92.7512 604.234 Q98.5613 604.234 101.617 608.84 Q104.696 613.424 104.696 622.174 Q104.696 630.9 101.617 635.507 Q98.5613 640.09 92.7512 640.09 Q86.941 640.09 83.8623 635.507 Q80.8068 630.9 80.8068 622.174 Q80.8068 613.424 83.8623 608.84 Q86.941 604.234 92.7512 604.234 Z\" fill=\"#000000\" fill-rule=\"nonzero\" fill-opacity=\"1\" /><path clip-path=\"url(#clip530)\" d=\"M66.7559 286.933 Q70.1124 287.651 71.9874 289.919 Q73.8855 292.188 73.8855 295.521 Q73.8855 300.637 70.367 303.438 Q66.8485 306.239 60.3671 306.239 Q58.1912 306.239 55.8764 305.799 Q53.5847 305.382 51.131 304.526 L51.131 300.012 Q53.0754 301.146 55.3903 301.725 Q57.7051 302.303 60.2282 302.303 Q64.6263 302.303 66.918 300.567 Q69.2328 298.831 69.2328 295.521 Q69.2328 292.465 67.08 290.753 Q64.9504 289.016 61.131 289.016 L57.1032 289.016 L57.1032 285.174 L61.3161 285.174 Q64.7652 285.174 66.5939 283.808 Q68.4226 282.419 68.4226 279.827 Q68.4226 277.165 66.5245 275.753 Q64.6495 274.317 61.131 274.317 Q59.2097 274.317 57.0106 274.734 Q54.8115 275.151 52.1727 276.03 L52.1727 271.864 Q54.8347 271.123 57.1495 270.753 Q59.4875 270.382 61.5476 270.382 Q66.8717 270.382 69.9735 272.813 Q73.0753 275.22 73.0753 279.341 Q73.0753 282.211 71.4318 284.202 Q69.7883 286.169 66.7559 286.933 Z\" fill=\"#000000\" fill-rule=\"nonzero\" fill-opacity=\"1\" /><path clip-path=\"url(#clip530)\" d=\"M92.7512 274.086 Q89.1401 274.086 87.3114 277.651 Q85.5058 281.192 85.5058 288.322 Q85.5058 295.428 87.3114 298.993 Q89.1401 302.535 92.7512 302.535 Q96.3854 302.535 98.1909 298.993 Q100.02 295.428 100.02 288.322 Q100.02 281.192 98.1909 277.651 Q96.3854 274.086 92.7512 274.086 M92.7512 270.382 Q98.5613 270.382 101.617 274.989 Q104.696 279.572 104.696 288.322 Q104.696 297.049 101.617 301.655 Q98.5613 306.239 92.7512 306.239 Q86.941 306.239 83.8623 301.655 Q80.8068 297.049 80.8068 288.322 Q80.8068 279.572 83.8623 274.989 Q86.941 270.382 92.7512 270.382 Z\" fill=\"#000000\" fill-rule=\"nonzero\" fill-opacity=\"1\" /><polyline clip-path=\"url(#clip532)\" style=\"stroke:#009af9; stroke-linecap:round; stroke-linejoin:round; stroke-width:4; stroke-opacity:1; fill:none\" points=\"203.301,1282.54 211.648,1283.62 219.996,1284.72 228.343,1285.86 236.691,1287.01 245.038,1288.2 253.385,1289.4 261.733,1290.63 270.08,1291.89 278.428,1293.16 286.775,1294.46 295.122,1295.77 303.47,1297.11 311.817,1298.46 320.165,1299.84 328.512,1301.23 336.859,1302.63 345.207,1304.06 353.554,1305.5 361.902,1306.95 370.249,1308.42 378.596,1309.9 386.944,1311.4 395.291,1312.9 403.639,1314.43 411.986,1315.96 420.333,1317.5 428.681,1319.05 437.028,1320.62 445.376,1322.19 453.723,1323.77 462.07,1325.36 470.418,1326.96 478.765,1328.57 487.113,1330.18 495.46,1331.8 503.807,1333.43 512.155,1335.06 520.502,1336.7 528.85,1338.34 537.197,1339.99 545.544,1341.64 553.892,1343.29 562.239,1344.95 570.587,1346.61 578.934,1348.27 587.281,1349.94 595.629,1351.61 603.976,1353.27 612.324,1354.94 620.671,1356.61 629.018,1358.28 637.366,1359.95 645.713,1361.62 654.06,1363.29 662.408,1364.95 670.755,1366.61 679.103,1368.27 687.45,1369.93 695.797,1371.59 704.145,1373.24 712.492,1374.88 720.84,1376.53 729.187,1378.16 737.534,1379.8 745.882,1381.42 754.229,1383.04 762.577,1384.66 770.924,1386.26 779.271,1387.86 787.619,1389.45 795.966,1391.03 804.314,1392.61 812.661,1394.17 821.008,1395.73 829.356,1397.27 837.703,1398.8 846.051,1400.32 854.398,1401.83 862.745,1403.32 871.093,1404.81 879.44,1406.27 887.788,1407.73 896.135,1409.17 904.482,1410.59 912.83,1412 921.177,1413.39 929.525,1414.76 937.872,1416.12 946.219,1417.45 954.567,1418.77 962.914,1420.06 971.262,1421.34 979.609,1422.59 987.956,1423.82 996.304,1425.03 1004.65,1426.21 1013,1427.37 1021.35,1428.5 1029.69,1429.61 1038.04,1430.69 1046.39,1431.74 1054.74,1432.76 1063.08,1433.75 1071.43,1434.71 1079.78,1435.63 1088.13,1436.53 1096.47,1437.39 1104.82,1438.21 1113.17,1439 1121.51,1439.75 1129.86,1440.46 1138.21,1441.13 1146.56,1441.77 1154.9,1442.36 1163.25,1442.9 1171.6,1443.41 1179.95,1443.86 1188.29,1444.27 1196.64,1444.64 1204.99,1444.95 1213.34,1445.21 1221.68,1445.42 1230.03,1445.57 1238.38,1445.67 1246.73,1445.72 1255.07,1445.7 1263.42,1445.63 1271.77,1445.49 1280.12,1445.29 1288.46,1445.03 1296.81,1444.7 1305.16,1444.3 1313.5,1443.83 1321.85,1443.29 1330.2,1442.68 1338.55,1441.99 1346.89,1441.23 1355.24,1440.39 1363.59,1439.46 1371.94,1438.46 1380.28,1437.37 1388.63,1436.19 1396.98,1434.92 1405.33,1433.56 1413.67,1432.11 1422.02,1430.57 1430.37,1428.92 1438.72,1427.18 1447.06,1425.33 1455.41,1423.38 1463.76,1421.33 1472.11,1419.16 1480.45,1416.88 1488.8,1414.49 1497.15,1411.98 1505.5,1409.35 1513.84,1406.6 1522.19,1403.73 1530.54,1400.72 1538.88,1397.59 1547.23,1394.33 1555.58,1390.93 1563.93,1387.39 1572.27,1383.7 1580.62,1379.88 1588.97,1375.9 1597.32,1371.78 1605.66,1367.5 1614.01,1363.07 1622.36,1358.47 1630.71,1353.71 1639.05,1348.79 1647.4,1343.69 1655.75,1338.42 1664.1,1332.98 1672.44,1327.35 1680.79,1321.54 1689.14,1315.54 1697.49,1309.35 1705.83,1302.96 1714.18,1296.38 1722.53,1289.6 1730.87,1282.6 1739.22,1275.4 1747.57,1267.98 1755.92,1260.35 1764.26,1252.49 1772.61,1244.4 1780.96,1236.09 1789.31,1227.54 1797.65,1218.75 1806,1209.71 1814.35,1200.43 1822.7,1190.9 1831.04,1181.11 1839.39,1171.05 1847.74,1160.74 1856.09,1150.15 1864.43,1139.28 1872.78,1128.13 1881.13,1116.7 1889.48,1104.98 1897.82,1092.96 1906.17,1080.64 1914.52,1068.02 1922.86,1055.08 1931.21,1041.83 1939.56,1028.26 1947.91,1014.36 1956.25,1000.13 1964.6,985.566 1972.95,970.654 1981.3,955.394 1989.64,939.78 1997.99,923.805 2006.34,907.464 2014.69,890.752 2023.03,873.661 2031.38,856.187 2039.73,838.322 2048.08,820.062 2056.42,801.399 2064.77,782.327 2073.12,762.84 2081.47,742.932 2089.81,722.596 2098.16,701.825 2106.51,680.613 2114.86,658.953 2123.2,636.839 2131.55,614.263 2139.9,591.219 2148.24,567.699 2156.59,543.697 2164.94,519.205 2173.29,494.216 2181.63,468.723 2189.98,442.718 2198.33,416.194 2206.68,389.144 2215.02,361.56 2223.37,333.434 2231.72,304.758 2240.07,275.526 2248.41,245.727 2256.76,215.356 2265.11,184.404 2273.46,152.861 2281.8,120.722 2290.15,87.9763 \"/>\n",
       "<path clip-path=\"url(#clip530)\" d=\"M214.431 198.898 L488.067 198.898 L488.067 95.2176 L214.431 95.2176  Z\" fill=\"#ffffff\" fill-rule=\"evenodd\" fill-opacity=\"1\"/>\n",
       "<polyline clip-path=\"url(#clip530)\" style=\"stroke:#000000; stroke-linecap:round; stroke-linejoin:round; stroke-width:4; stroke-opacity:1; fill:none\" points=\"214.431,198.898 488.067,198.898 488.067,95.2176 214.431,95.2176 214.431,198.898 \"/>\n",
       "<polyline clip-path=\"url(#clip530)\" style=\"stroke:#009af9; stroke-linecap:round; stroke-linejoin:round; stroke-width:4; stroke-opacity:1; fill:none\" points=\"239.009,147.058 386.48,147.058 \"/>\n",
       "<path clip-path=\"url(#clip530)\" d=\"M424.901 166.745 Q423.095 171.375 421.382 172.787 Q419.67 174.199 416.799 174.199 L413.396 174.199 L413.396 170.634 L415.896 170.634 Q417.656 170.634 418.628 169.8 Q419.6 168.967 420.781 165.865 L421.545 163.921 L411.058 138.412 L415.572 138.412 L423.674 158.689 L431.776 138.412 L436.29 138.412 L424.901 166.745 Z\" fill=\"#000000\" fill-rule=\"nonzero\" fill-opacity=\"1\" /><path clip-path=\"url(#clip530)\" d=\"M443.581 160.402 L451.22 160.402 L451.22 134.037 L442.91 135.703 L442.91 131.444 L451.174 129.778 L455.85 129.778 L455.85 160.402 L463.489 160.402 L463.489 164.338 L443.581 164.338 L443.581 160.402 Z\" fill=\"#000000\" fill-rule=\"nonzero\" fill-opacity=\"1\" /></svg>\n"
      ],
      "text/html": [
       "<?xml version=\"1.0\" encoding=\"utf-8\"?>\n",
       "<svg xmlns=\"http://www.w3.org/2000/svg\" xmlns:xlink=\"http://www.w3.org/1999/xlink\" width=\"600\" height=\"400\" viewBox=\"0 0 2400 1600\">\n",
       "<defs>\n",
       "  <clipPath id=\"clip580\">\n",
       "    <rect x=\"0\" y=\"0\" width=\"2400\" height=\"1600\"/>\n",
       "  </clipPath>\n",
       "</defs>\n",
       "<path clip-path=\"url(#clip580)\" d=\"M0 1600 L2400 1600 L2400 0 L0 0  Z\" fill=\"#ffffff\" fill-rule=\"evenodd\" fill-opacity=\"1\"/>\n",
       "<defs>\n",
       "  <clipPath id=\"clip581\">\n",
       "    <rect x=\"480\" y=\"0\" width=\"1681\" height=\"1600\"/>\n",
       "  </clipPath>\n",
       "</defs>\n",
       "<path clip-path=\"url(#clip580)\" d=\"M140.696 1486.45 L2352.76 1486.45 L2352.76 47.2441 L140.696 47.2441  Z\" fill=\"#ffffff\" fill-rule=\"evenodd\" fill-opacity=\"1\"/>\n",
       "<defs>\n",
       "  <clipPath id=\"clip582\">\n",
       "    <rect x=\"140\" y=\"47\" width=\"2213\" height=\"1440\"/>\n",
       "  </clipPath>\n",
       "</defs>\n",
       "<polyline clip-path=\"url(#clip582)\" style=\"stroke:#000000; stroke-linecap:round; stroke-linejoin:round; stroke-width:2; stroke-opacity:0.1; fill:none\" points=\"203.301,1486.45 203.301,47.2441 \"/>\n",
       "<polyline clip-path=\"url(#clip582)\" style=\"stroke:#000000; stroke-linecap:round; stroke-linejoin:round; stroke-width:2; stroke-opacity:0.1; fill:none\" points=\"620.671,1486.45 620.671,47.2441 \"/>\n",
       "<polyline clip-path=\"url(#clip582)\" style=\"stroke:#000000; stroke-linecap:round; stroke-linejoin:round; stroke-width:2; stroke-opacity:0.1; fill:none\" points=\"1038.04,1486.45 1038.04,47.2441 \"/>\n",
       "<polyline clip-path=\"url(#clip582)\" style=\"stroke:#000000; stroke-linecap:round; stroke-linejoin:round; stroke-width:2; stroke-opacity:0.1; fill:none\" points=\"1455.41,1486.45 1455.41,47.2441 \"/>\n",
       "<polyline clip-path=\"url(#clip582)\" style=\"stroke:#000000; stroke-linecap:round; stroke-linejoin:round; stroke-width:2; stroke-opacity:0.1; fill:none\" points=\"1872.78,1486.45 1872.78,47.2441 \"/>\n",
       "<polyline clip-path=\"url(#clip582)\" style=\"stroke:#000000; stroke-linecap:round; stroke-linejoin:round; stroke-width:2; stroke-opacity:0.1; fill:none\" points=\"2290.15,1486.45 2290.15,47.2441 \"/>\n",
       "<polyline clip-path=\"url(#clip580)\" style=\"stroke:#000000; stroke-linecap:round; stroke-linejoin:round; stroke-width:4; stroke-opacity:1; fill:none\" points=\"140.696,1486.45 2352.76,1486.45 \"/>\n",
       "<polyline clip-path=\"url(#clip580)\" style=\"stroke:#000000; stroke-linecap:round; stroke-linejoin:round; stroke-width:4; stroke-opacity:1; fill:none\" points=\"203.301,1486.45 203.301,1467.55 \"/>\n",
       "<polyline clip-path=\"url(#clip580)\" style=\"stroke:#000000; stroke-linecap:round; stroke-linejoin:round; stroke-width:4; stroke-opacity:1; fill:none\" points=\"620.671,1486.45 620.671,1467.55 \"/>\n",
       "<polyline clip-path=\"url(#clip580)\" style=\"stroke:#000000; stroke-linecap:round; stroke-linejoin:round; stroke-width:4; stroke-opacity:1; fill:none\" points=\"1038.04,1486.45 1038.04,1467.55 \"/>\n",
       "<polyline clip-path=\"url(#clip580)\" style=\"stroke:#000000; stroke-linecap:round; stroke-linejoin:round; stroke-width:4; stroke-opacity:1; fill:none\" points=\"1455.41,1486.45 1455.41,1467.55 \"/>\n",
       "<polyline clip-path=\"url(#clip580)\" style=\"stroke:#000000; stroke-linecap:round; stroke-linejoin:round; stroke-width:4; stroke-opacity:1; fill:none\" points=\"1872.78,1486.45 1872.78,1467.55 \"/>\n",
       "<polyline clip-path=\"url(#clip580)\" style=\"stroke:#000000; stroke-linecap:round; stroke-linejoin:round; stroke-width:4; stroke-opacity:1; fill:none\" points=\"2290.15,1486.45 2290.15,1467.55 \"/>\n",
       "<path clip-path=\"url(#clip580)\" d=\"M150.327 1532.02 L180.003 1532.02 L180.003 1535.95 L150.327 1535.95 L150.327 1532.02 Z\" fill=\"#000000\" fill-rule=\"nonzero\" fill-opacity=\"1\" /><path clip-path=\"url(#clip580)\" d=\"M200.095 1517.37 Q196.484 1517.37 194.655 1520.93 Q192.85 1524.47 192.85 1531.6 Q192.85 1538.71 194.655 1542.27 Q196.484 1545.82 200.095 1545.82 Q203.729 1545.82 205.535 1542.27 Q207.364 1538.71 207.364 1531.6 Q207.364 1524.47 205.535 1520.93 Q203.729 1517.37 200.095 1517.37 M200.095 1513.66 Q205.905 1513.66 208.961 1518.27 Q212.039 1522.85 212.039 1531.6 Q212.039 1540.33 208.961 1544.94 Q205.905 1549.52 200.095 1549.52 Q194.285 1549.52 191.206 1544.94 Q188.151 1540.33 188.151 1531.6 Q188.151 1522.85 191.206 1518.27 Q194.285 1513.66 200.095 1513.66 Z\" fill=\"#000000\" fill-rule=\"nonzero\" fill-opacity=\"1\" /><path clip-path=\"url(#clip580)\" d=\"M220.257 1542.97 L225.141 1542.97 L225.141 1548.85 L220.257 1548.85 L220.257 1542.97 Z\" fill=\"#000000\" fill-rule=\"nonzero\" fill-opacity=\"1\" /><path clip-path=\"url(#clip580)\" d=\"M235.373 1514.29 L253.729 1514.29 L253.729 1518.22 L239.655 1518.22 L239.655 1526.7 Q240.674 1526.35 241.692 1526.19 Q242.711 1526 243.729 1526 Q249.516 1526 252.896 1529.17 Q256.275 1532.34 256.275 1537.76 Q256.275 1543.34 252.803 1546.44 Q249.331 1549.52 243.011 1549.52 Q240.836 1549.52 238.567 1549.15 Q236.322 1548.78 233.914 1548.04 L233.914 1543.34 Q235.998 1544.47 238.22 1545.03 Q240.442 1545.58 242.919 1545.58 Q246.923 1545.58 249.261 1543.48 Q251.599 1541.37 251.599 1537.76 Q251.599 1534.15 249.261 1532.04 Q246.923 1529.94 242.919 1529.94 Q241.044 1529.94 239.169 1530.35 Q237.317 1530.77 235.373 1531.65 L235.373 1514.29 Z\" fill=\"#000000\" fill-rule=\"nonzero\" fill-opacity=\"1\" /><path clip-path=\"url(#clip580)\" d=\"M598.055 1517.37 Q594.444 1517.37 592.615 1520.93 Q590.81 1524.47 590.81 1531.6 Q590.81 1538.71 592.615 1542.27 Q594.444 1545.82 598.055 1545.82 Q601.69 1545.82 603.495 1542.27 Q605.324 1538.71 605.324 1531.6 Q605.324 1524.47 603.495 1520.93 Q601.69 1517.37 598.055 1517.37 M598.055 1513.66 Q603.865 1513.66 606.921 1518.27 Q610 1522.85 610 1531.6 Q610 1540.33 606.921 1544.94 Q603.865 1549.52 598.055 1549.52 Q592.245 1549.52 589.166 1544.94 Q586.111 1540.33 586.111 1531.6 Q586.111 1522.85 589.166 1518.27 Q592.245 1513.66 598.055 1513.66 Z\" fill=\"#000000\" fill-rule=\"nonzero\" fill-opacity=\"1\" /><path clip-path=\"url(#clip580)\" d=\"M618.217 1542.97 L623.101 1542.97 L623.101 1548.85 L618.217 1548.85 L618.217 1542.97 Z\" fill=\"#000000\" fill-rule=\"nonzero\" fill-opacity=\"1\" /><path clip-path=\"url(#clip580)\" d=\"M643.287 1517.37 Q639.675 1517.37 637.847 1520.93 Q636.041 1524.47 636.041 1531.6 Q636.041 1538.71 637.847 1542.27 Q639.675 1545.82 643.287 1545.82 Q646.921 1545.82 648.726 1542.27 Q650.555 1538.71 650.555 1531.6 Q650.555 1524.47 648.726 1520.93 Q646.921 1517.37 643.287 1517.37 M643.287 1513.66 Q649.097 1513.66 652.152 1518.27 Q655.231 1522.85 655.231 1531.6 Q655.231 1540.33 652.152 1544.94 Q649.097 1549.52 643.287 1549.52 Q637.476 1549.52 634.398 1544.94 Q631.342 1540.33 631.342 1531.6 Q631.342 1522.85 634.398 1518.27 Q637.476 1513.66 643.287 1513.66 Z\" fill=\"#000000\" fill-rule=\"nonzero\" fill-opacity=\"1\" /><path clip-path=\"url(#clip580)\" d=\"M1015.92 1517.37 Q1012.31 1517.37 1010.48 1520.93 Q1008.68 1524.47 1008.68 1531.6 Q1008.68 1538.71 1010.48 1542.27 Q1012.31 1545.82 1015.92 1545.82 Q1019.56 1545.82 1021.36 1542.27 Q1023.19 1538.71 1023.19 1531.6 Q1023.19 1524.47 1021.36 1520.93 Q1019.56 1517.37 1015.92 1517.37 M1015.92 1513.66 Q1021.73 1513.66 1024.79 1518.27 Q1027.87 1522.85 1027.87 1531.6 Q1027.87 1540.33 1024.79 1544.94 Q1021.73 1549.52 1015.92 1549.52 Q1010.11 1549.52 1007.03 1544.94 Q1003.98 1540.33 1003.98 1531.6 Q1003.98 1522.85 1007.03 1518.27 Q1010.11 1513.66 1015.92 1513.66 Z\" fill=\"#000000\" fill-rule=\"nonzero\" fill-opacity=\"1\" /><path clip-path=\"url(#clip580)\" d=\"M1036.08 1542.97 L1040.97 1542.97 L1040.97 1548.85 L1036.08 1548.85 L1036.08 1542.97 Z\" fill=\"#000000\" fill-rule=\"nonzero\" fill-opacity=\"1\" /><path clip-path=\"url(#clip580)\" d=\"M1051.2 1514.29 L1069.56 1514.29 L1069.56 1518.22 L1055.48 1518.22 L1055.48 1526.7 Q1056.5 1526.35 1057.52 1526.19 Q1058.54 1526 1059.56 1526 Q1065.34 1526 1068.72 1529.17 Q1072.1 1532.34 1072.1 1537.76 Q1072.1 1543.34 1068.63 1546.44 Q1065.16 1549.52 1058.84 1549.52 Q1056.66 1549.52 1054.39 1549.15 Q1052.15 1548.78 1049.74 1548.04 L1049.74 1543.34 Q1051.83 1544.47 1054.05 1545.03 Q1056.27 1545.58 1058.75 1545.58 Q1062.75 1545.58 1065.09 1543.48 Q1067.43 1541.37 1067.43 1537.76 Q1067.43 1534.15 1065.09 1532.04 Q1062.75 1529.94 1058.75 1529.94 Q1056.87 1529.94 1055 1530.35 Q1053.14 1530.77 1051.2 1531.65 L1051.2 1514.29 Z\" fill=\"#000000\" fill-rule=\"nonzero\" fill-opacity=\"1\" /><path clip-path=\"url(#clip580)\" d=\"M1422.56 1544.91 L1430.2 1544.91 L1430.2 1518.55 L1421.89 1520.21 L1421.89 1515.95 L1430.16 1514.29 L1434.83 1514.29 L1434.83 1544.91 L1442.47 1544.91 L1442.47 1548.85 L1422.56 1548.85 L1422.56 1544.91 Z\" fill=\"#000000\" fill-rule=\"nonzero\" fill-opacity=\"1\" /><path clip-path=\"url(#clip580)\" d=\"M1451.92 1542.97 L1456.8 1542.97 L1456.8 1548.85 L1451.92 1548.85 L1451.92 1542.97 Z\" fill=\"#000000\" fill-rule=\"nonzero\" fill-opacity=\"1\" /><path clip-path=\"url(#clip580)\" d=\"M1476.98 1517.37 Q1473.37 1517.37 1471.54 1520.93 Q1469.74 1524.47 1469.74 1531.6 Q1469.74 1538.71 1471.54 1542.27 Q1473.37 1545.82 1476.98 1545.82 Q1480.62 1545.82 1482.42 1542.27 Q1484.25 1538.71 1484.25 1531.6 Q1484.25 1524.47 1482.42 1520.93 Q1480.62 1517.37 1476.98 1517.37 M1476.98 1513.66 Q1482.79 1513.66 1485.85 1518.27 Q1488.93 1522.85 1488.93 1531.6 Q1488.93 1540.33 1485.85 1544.94 Q1482.79 1549.52 1476.98 1549.52 Q1471.17 1549.52 1468.1 1544.94 Q1465.04 1540.33 1465.04 1531.6 Q1465.04 1522.85 1468.1 1518.27 Q1471.17 1513.66 1476.98 1513.66 Z\" fill=\"#000000\" fill-rule=\"nonzero\" fill-opacity=\"1\" /><path clip-path=\"url(#clip580)\" d=\"M1840.43 1544.91 L1848.07 1544.91 L1848.07 1518.55 L1839.76 1520.21 L1839.76 1515.95 L1848.02 1514.29 L1852.7 1514.29 L1852.7 1544.91 L1860.34 1544.91 L1860.34 1548.85 L1840.43 1548.85 L1840.43 1544.91 Z\" fill=\"#000000\" fill-rule=\"nonzero\" fill-opacity=\"1\" /><path clip-path=\"url(#clip580)\" d=\"M1869.78 1542.97 L1874.67 1542.97 L1874.67 1548.85 L1869.78 1548.85 L1869.78 1542.97 Z\" fill=\"#000000\" fill-rule=\"nonzero\" fill-opacity=\"1\" /><path clip-path=\"url(#clip580)\" d=\"M1884.9 1514.29 L1903.25 1514.29 L1903.25 1518.22 L1889.18 1518.22 L1889.18 1526.7 Q1890.2 1526.35 1891.22 1526.19 Q1892.24 1526 1893.25 1526 Q1899.04 1526 1902.42 1529.17 Q1905.8 1532.34 1905.8 1537.76 Q1905.8 1543.34 1902.33 1546.44 Q1898.86 1549.52 1892.54 1549.52 Q1890.36 1549.52 1888.09 1549.15 Q1885.85 1548.78 1883.44 1548.04 L1883.44 1543.34 Q1885.52 1544.47 1887.75 1545.03 Q1889.97 1545.58 1892.44 1545.58 Q1896.45 1545.58 1898.79 1543.48 Q1901.13 1541.37 1901.13 1537.76 Q1901.13 1534.15 1898.79 1532.04 Q1896.45 1529.94 1892.44 1529.94 Q1890.57 1529.94 1888.69 1530.35 Q1886.84 1530.77 1884.9 1531.65 L1884.9 1514.29 Z\" fill=\"#000000\" fill-rule=\"nonzero\" fill-opacity=\"1\" /><path clip-path=\"url(#clip580)\" d=\"M2261.39 1544.91 L2277.71 1544.91 L2277.71 1548.85 L2255.76 1548.85 L2255.76 1544.91 Q2258.43 1542.16 2263.01 1537.53 Q2267.62 1532.88 2268.8 1531.53 Q2271.04 1529.01 2271.92 1527.27 Q2272.82 1525.51 2272.82 1523.82 Q2272.82 1521.07 2270.88 1519.33 Q2268.96 1517.6 2265.86 1517.6 Q2263.66 1517.6 2261.2 1518.36 Q2258.77 1519.13 2256 1520.68 L2256 1515.95 Q2258.82 1514.82 2261.27 1514.24 Q2263.73 1513.66 2265.76 1513.66 Q2271.13 1513.66 2274.33 1516.35 Q2277.52 1519.03 2277.52 1523.52 Q2277.52 1525.65 2276.71 1527.57 Q2275.93 1529.47 2273.82 1532.07 Q2273.24 1532.74 2270.14 1535.95 Q2267.04 1539.15 2261.39 1544.91 Z\" fill=\"#000000\" fill-rule=\"nonzero\" fill-opacity=\"1\" /><path clip-path=\"url(#clip580)\" d=\"M2287.52 1542.97 L2292.41 1542.97 L2292.41 1548.85 L2287.52 1548.85 L2287.52 1542.97 Z\" fill=\"#000000\" fill-rule=\"nonzero\" fill-opacity=\"1\" /><path clip-path=\"url(#clip580)\" d=\"M2312.59 1517.37 Q2308.98 1517.37 2307.15 1520.93 Q2305.35 1524.47 2305.35 1531.6 Q2305.35 1538.71 2307.15 1542.27 Q2308.98 1545.82 2312.59 1545.82 Q2316.23 1545.82 2318.03 1542.27 Q2319.86 1538.71 2319.86 1531.6 Q2319.86 1524.47 2318.03 1520.93 Q2316.23 1517.37 2312.59 1517.37 M2312.59 1513.66 Q2318.4 1513.66 2321.46 1518.27 Q2324.54 1522.85 2324.54 1531.6 Q2324.54 1540.33 2321.46 1544.94 Q2318.4 1549.52 2312.59 1549.52 Q2306.78 1549.52 2303.7 1544.94 Q2300.65 1540.33 2300.65 1531.6 Q2300.65 1522.85 2303.7 1518.27 Q2306.78 1513.66 2312.59 1513.66 Z\" fill=\"#000000\" fill-rule=\"nonzero\" fill-opacity=\"1\" /><polyline clip-path=\"url(#clip582)\" style=\"stroke:#000000; stroke-linecap:round; stroke-linejoin:round; stroke-width:2; stroke-opacity:0.1; fill:none\" points=\"140.696,1289.84 2352.76,1289.84 \"/>\n",
       "<polyline clip-path=\"url(#clip582)\" style=\"stroke:#000000; stroke-linecap:round; stroke-linejoin:round; stroke-width:2; stroke-opacity:0.1; fill:none\" points=\"140.696,955.991 2352.76,955.991 \"/>\n",
       "<polyline clip-path=\"url(#clip582)\" style=\"stroke:#000000; stroke-linecap:round; stroke-linejoin:round; stroke-width:2; stroke-opacity:0.1; fill:none\" points=\"140.696,622.139 2352.76,622.139 \"/>\n",
       "<polyline clip-path=\"url(#clip582)\" style=\"stroke:#000000; stroke-linecap:round; stroke-linejoin:round; stroke-width:2; stroke-opacity:0.1; fill:none\" points=\"140.696,288.287 2352.76,288.287 \"/>\n",
       "<polyline clip-path=\"url(#clip580)\" style=\"stroke:#000000; stroke-linecap:round; stroke-linejoin:round; stroke-width:4; stroke-opacity:1; fill:none\" points=\"140.696,1486.45 140.696,47.2441 \"/>\n",
       "<polyline clip-path=\"url(#clip580)\" style=\"stroke:#000000; stroke-linecap:round; stroke-linejoin:round; stroke-width:4; stroke-opacity:1; fill:none\" points=\"140.696,1289.84 159.593,1289.84 \"/>\n",
       "<polyline clip-path=\"url(#clip580)\" style=\"stroke:#000000; stroke-linecap:round; stroke-linejoin:round; stroke-width:4; stroke-opacity:1; fill:none\" points=\"140.696,955.991 159.593,955.991 \"/>\n",
       "<polyline clip-path=\"url(#clip580)\" style=\"stroke:#000000; stroke-linecap:round; stroke-linejoin:round; stroke-width:4; stroke-opacity:1; fill:none\" points=\"140.696,622.139 159.593,622.139 \"/>\n",
       "<polyline clip-path=\"url(#clip580)\" style=\"stroke:#000000; stroke-linecap:round; stroke-linejoin:round; stroke-width:4; stroke-opacity:1; fill:none\" points=\"140.696,288.287 159.593,288.287 \"/>\n",
       "<path clip-path=\"url(#clip580)\" d=\"M92.7512 1275.64 Q89.1401 1275.64 87.3114 1279.21 Q85.5058 1282.75 85.5058 1289.88 Q85.5058 1296.98 87.3114 1300.55 Q89.1401 1304.09 92.7512 1304.09 Q96.3854 1304.09 98.1909 1300.55 Q100.02 1296.98 100.02 1289.88 Q100.02 1282.75 98.1909 1279.21 Q96.3854 1275.64 92.7512 1275.64 M92.7512 1271.94 Q98.5613 1271.94 101.617 1276.54 Q104.696 1281.13 104.696 1289.88 Q104.696 1298.6 101.617 1303.21 Q98.5613 1307.79 92.7512 1307.79 Q86.941 1307.79 83.8623 1303.21 Q80.8068 1298.6 80.8068 1289.88 Q80.8068 1281.13 83.8623 1276.54 Q86.941 1271.94 92.7512 1271.94 Z\" fill=\"#000000\" fill-rule=\"nonzero\" fill-opacity=\"1\" /><path clip-path=\"url(#clip580)\" d=\"M53.3995 969.335 L61.0384 969.335 L61.0384 942.97 L52.7282 944.636 L52.7282 940.377 L60.9921 938.711 L65.668 938.711 L65.668 969.335 L73.3068 969.335 L73.3068 973.271 L53.3995 973.271 L53.3995 969.335 Z\" fill=\"#000000\" fill-rule=\"nonzero\" fill-opacity=\"1\" /><path clip-path=\"url(#clip580)\" d=\"M92.7512 941.789 Q89.1401 941.789 87.3114 945.354 Q85.5058 948.896 85.5058 956.025 Q85.5058 963.132 87.3114 966.697 Q89.1401 970.238 92.7512 970.238 Q96.3854 970.238 98.1909 966.697 Q100.02 963.132 100.02 956.025 Q100.02 948.896 98.1909 945.354 Q96.3854 941.789 92.7512 941.789 M92.7512 938.086 Q98.5613 938.086 101.617 942.692 Q104.696 947.275 104.696 956.025 Q104.696 964.752 101.617 969.359 Q98.5613 973.942 92.7512 973.942 Q86.941 973.942 83.8623 969.359 Q80.8068 964.752 80.8068 956.025 Q80.8068 947.275 83.8623 942.692 Q86.941 938.086 92.7512 938.086 Z\" fill=\"#000000\" fill-rule=\"nonzero\" fill-opacity=\"1\" /><path clip-path=\"url(#clip580)\" d=\"M56.6171 635.484 L72.9365 635.484 L72.9365 639.419 L50.9921 639.419 L50.9921 635.484 Q53.6541 632.729 58.2375 628.1 Q62.8439 623.447 64.0245 622.104 Q66.2698 619.581 67.1494 617.845 Q68.0522 616.086 68.0522 614.396 Q68.0522 611.641 66.1078 609.905 Q64.1865 608.169 61.0847 608.169 Q58.8856 608.169 56.4319 608.933 Q54.0014 609.697 51.2236 611.248 L51.2236 606.526 Q54.0477 605.391 56.5014 604.813 Q58.955 604.234 60.9921 604.234 Q66.3624 604.234 69.5568 606.919 Q72.7513 609.604 72.7513 614.095 Q72.7513 616.225 71.9411 618.146 Q71.1541 620.044 69.0476 622.637 Q68.4689 623.308 65.367 626.525 Q62.2652 629.72 56.6171 635.484 Z\" fill=\"#000000\" fill-rule=\"nonzero\" fill-opacity=\"1\" /><path clip-path=\"url(#clip580)\" d=\"M92.7512 607.938 Q89.1401 607.938 87.3114 611.502 Q85.5058 615.044 85.5058 622.174 Q85.5058 629.28 87.3114 632.845 Q89.1401 636.387 92.7512 636.387 Q96.3854 636.387 98.1909 632.845 Q100.02 629.28 100.02 622.174 Q100.02 615.044 98.1909 611.502 Q96.3854 607.938 92.7512 607.938 M92.7512 604.234 Q98.5613 604.234 101.617 608.84 Q104.696 613.424 104.696 622.174 Q104.696 630.9 101.617 635.507 Q98.5613 640.09 92.7512 640.09 Q86.941 640.09 83.8623 635.507 Q80.8068 630.9 80.8068 622.174 Q80.8068 613.424 83.8623 608.84 Q86.941 604.234 92.7512 604.234 Z\" fill=\"#000000\" fill-rule=\"nonzero\" fill-opacity=\"1\" /><path clip-path=\"url(#clip580)\" d=\"M66.7559 286.933 Q70.1124 287.651 71.9874 289.919 Q73.8855 292.188 73.8855 295.521 Q73.8855 300.637 70.367 303.438 Q66.8485 306.239 60.3671 306.239 Q58.1912 306.239 55.8764 305.799 Q53.5847 305.382 51.131 304.526 L51.131 300.012 Q53.0754 301.146 55.3903 301.725 Q57.7051 302.303 60.2282 302.303 Q64.6263 302.303 66.918 300.567 Q69.2328 298.831 69.2328 295.521 Q69.2328 292.465 67.08 290.753 Q64.9504 289.016 61.131 289.016 L57.1032 289.016 L57.1032 285.174 L61.3161 285.174 Q64.7652 285.174 66.5939 283.808 Q68.4226 282.419 68.4226 279.827 Q68.4226 277.165 66.5245 275.753 Q64.6495 274.317 61.131 274.317 Q59.2097 274.317 57.0106 274.734 Q54.8115 275.151 52.1727 276.03 L52.1727 271.864 Q54.8347 271.123 57.1495 270.753 Q59.4875 270.382 61.5476 270.382 Q66.8717 270.382 69.9735 272.813 Q73.0753 275.22 73.0753 279.341 Q73.0753 282.211 71.4318 284.202 Q69.7883 286.169 66.7559 286.933 Z\" fill=\"#000000\" fill-rule=\"nonzero\" fill-opacity=\"1\" /><path clip-path=\"url(#clip580)\" d=\"M92.7512 274.086 Q89.1401 274.086 87.3114 277.651 Q85.5058 281.192 85.5058 288.322 Q85.5058 295.428 87.3114 298.993 Q89.1401 302.535 92.7512 302.535 Q96.3854 302.535 98.1909 298.993 Q100.02 295.428 100.02 288.322 Q100.02 281.192 98.1909 277.651 Q96.3854 274.086 92.7512 274.086 M92.7512 270.382 Q98.5613 270.382 101.617 274.989 Q104.696 279.572 104.696 288.322 Q104.696 297.049 101.617 301.655 Q98.5613 306.239 92.7512 306.239 Q86.941 306.239 83.8623 301.655 Q80.8068 297.049 80.8068 288.322 Q80.8068 279.572 83.8623 274.989 Q86.941 270.382 92.7512 270.382 Z\" fill=\"#000000\" fill-rule=\"nonzero\" fill-opacity=\"1\" /><polyline clip-path=\"url(#clip582)\" style=\"stroke:#009af9; stroke-linecap:round; stroke-linejoin:round; stroke-width:4; stroke-opacity:1; fill:none\" points=\"203.301,1282.54 211.648,1283.62 219.996,1284.72 228.343,1285.86 236.691,1287.01 245.038,1288.2 253.385,1289.4 261.733,1290.63 270.08,1291.89 278.428,1293.16 286.775,1294.46 295.122,1295.77 303.47,1297.11 311.817,1298.46 320.165,1299.84 328.512,1301.23 336.859,1302.63 345.207,1304.06 353.554,1305.5 361.902,1306.95 370.249,1308.42 378.596,1309.9 386.944,1311.4 395.291,1312.9 403.639,1314.43 411.986,1315.96 420.333,1317.5 428.681,1319.05 437.028,1320.62 445.376,1322.19 453.723,1323.77 462.07,1325.36 470.418,1326.96 478.765,1328.57 487.113,1330.18 495.46,1331.8 503.807,1333.43 512.155,1335.06 520.502,1336.7 528.85,1338.34 537.197,1339.99 545.544,1341.64 553.892,1343.29 562.239,1344.95 570.587,1346.61 578.934,1348.27 587.281,1349.94 595.629,1351.61 603.976,1353.27 612.324,1354.94 620.671,1356.61 629.018,1358.28 637.366,1359.95 645.713,1361.62 654.06,1363.29 662.408,1364.95 670.755,1366.61 679.103,1368.27 687.45,1369.93 695.797,1371.59 704.145,1373.24 712.492,1374.88 720.84,1376.53 729.187,1378.16 737.534,1379.8 745.882,1381.42 754.229,1383.04 762.577,1384.66 770.924,1386.26 779.271,1387.86 787.619,1389.45 795.966,1391.03 804.314,1392.61 812.661,1394.17 821.008,1395.73 829.356,1397.27 837.703,1398.8 846.051,1400.32 854.398,1401.83 862.745,1403.32 871.093,1404.81 879.44,1406.27 887.788,1407.73 896.135,1409.17 904.482,1410.59 912.83,1412 921.177,1413.39 929.525,1414.76 937.872,1416.12 946.219,1417.45 954.567,1418.77 962.914,1420.06 971.262,1421.34 979.609,1422.59 987.956,1423.82 996.304,1425.03 1004.65,1426.21 1013,1427.37 1021.35,1428.5 1029.69,1429.61 1038.04,1430.69 1046.39,1431.74 1054.74,1432.76 1063.08,1433.75 1071.43,1434.71 1079.78,1435.63 1088.13,1436.53 1096.47,1437.39 1104.82,1438.21 1113.17,1439 1121.51,1439.75 1129.86,1440.46 1138.21,1441.13 1146.56,1441.77 1154.9,1442.36 1163.25,1442.9 1171.6,1443.41 1179.95,1443.86 1188.29,1444.27 1196.64,1444.64 1204.99,1444.95 1213.34,1445.21 1221.68,1445.42 1230.03,1445.57 1238.38,1445.67 1246.73,1445.72 1255.07,1445.7 1263.42,1445.63 1271.77,1445.49 1280.12,1445.29 1288.46,1445.03 1296.81,1444.7 1305.16,1444.3 1313.5,1443.83 1321.85,1443.29 1330.2,1442.68 1338.55,1441.99 1346.89,1441.23 1355.24,1440.39 1363.59,1439.46 1371.94,1438.46 1380.28,1437.37 1388.63,1436.19 1396.98,1434.92 1405.33,1433.56 1413.67,1432.11 1422.02,1430.57 1430.37,1428.92 1438.72,1427.18 1447.06,1425.33 1455.41,1423.38 1463.76,1421.33 1472.11,1419.16 1480.45,1416.88 1488.8,1414.49 1497.15,1411.98 1505.5,1409.35 1513.84,1406.6 1522.19,1403.73 1530.54,1400.72 1538.88,1397.59 1547.23,1394.33 1555.58,1390.93 1563.93,1387.39 1572.27,1383.7 1580.62,1379.88 1588.97,1375.9 1597.32,1371.78 1605.66,1367.5 1614.01,1363.07 1622.36,1358.47 1630.71,1353.71 1639.05,1348.79 1647.4,1343.69 1655.75,1338.42 1664.1,1332.98 1672.44,1327.35 1680.79,1321.54 1689.14,1315.54 1697.49,1309.35 1705.83,1302.96 1714.18,1296.38 1722.53,1289.6 1730.87,1282.6 1739.22,1275.4 1747.57,1267.98 1755.92,1260.35 1764.26,1252.49 1772.61,1244.4 1780.96,1236.09 1789.31,1227.54 1797.65,1218.75 1806,1209.71 1814.35,1200.43 1822.7,1190.9 1831.04,1181.11 1839.39,1171.05 1847.74,1160.74 1856.09,1150.15 1864.43,1139.28 1872.78,1128.13 1881.13,1116.7 1889.48,1104.98 1897.82,1092.96 1906.17,1080.64 1914.52,1068.02 1922.86,1055.08 1931.21,1041.83 1939.56,1028.26 1947.91,1014.36 1956.25,1000.13 1964.6,985.566 1972.95,970.654 1981.3,955.394 1989.64,939.78 1997.99,923.805 2006.34,907.464 2014.69,890.752 2023.03,873.661 2031.38,856.187 2039.73,838.322 2048.08,820.062 2056.42,801.399 2064.77,782.327 2073.12,762.84 2081.47,742.932 2089.81,722.596 2098.16,701.825 2106.51,680.613 2114.86,658.953 2123.2,636.839 2131.55,614.263 2139.9,591.219 2148.24,567.699 2156.59,543.697 2164.94,519.205 2173.29,494.216 2181.63,468.723 2189.98,442.718 2198.33,416.194 2206.68,389.144 2215.02,361.56 2223.37,333.434 2231.72,304.758 2240.07,275.526 2248.41,245.727 2256.76,215.356 2265.11,184.404 2273.46,152.861 2281.8,120.722 2290.15,87.9763 \"/>\n",
       "<path clip-path=\"url(#clip580)\" d=\"M214.431 198.898 L488.067 198.898 L488.067 95.2176 L214.431 95.2176  Z\" fill=\"#ffffff\" fill-rule=\"evenodd\" fill-opacity=\"1\"/>\n",
       "<polyline clip-path=\"url(#clip580)\" style=\"stroke:#000000; stroke-linecap:round; stroke-linejoin:round; stroke-width:4; stroke-opacity:1; fill:none\" points=\"214.431,198.898 488.067,198.898 488.067,95.2176 214.431,95.2176 214.431,198.898 \"/>\n",
       "<polyline clip-path=\"url(#clip580)\" style=\"stroke:#009af9; stroke-linecap:round; stroke-linejoin:round; stroke-width:4; stroke-opacity:1; fill:none\" points=\"239.009,147.058 386.48,147.058 \"/>\n",
       "<path clip-path=\"url(#clip580)\" d=\"M424.901 166.745 Q423.095 171.375 421.382 172.787 Q419.67 174.199 416.799 174.199 L413.396 174.199 L413.396 170.634 L415.896 170.634 Q417.656 170.634 418.628 169.8 Q419.6 168.967 420.781 165.865 L421.545 163.921 L411.058 138.412 L415.572 138.412 L423.674 158.689 L431.776 138.412 L436.29 138.412 L424.901 166.745 Z\" fill=\"#000000\" fill-rule=\"nonzero\" fill-opacity=\"1\" /><path clip-path=\"url(#clip580)\" d=\"M443.581 160.402 L451.22 160.402 L451.22 134.037 L442.91 135.703 L442.91 131.444 L451.174 129.778 L455.85 129.778 L455.85 160.402 L463.489 160.402 L463.489 164.338 L443.581 164.338 L443.581 160.402 Z\" fill=\"#000000\" fill-rule=\"nonzero\" fill-opacity=\"1\" /></svg>\n"
      ]
     },
     "metadata": {},
     "output_type": "display_data"
    }
   ],
   "source": [
    "f(x)=x^5+2x^3-5x-2\n",
    "\n",
    "x=-0.5:0.01:2\n",
    "y=f.(x)\n",
    "plot(x,y,Linewidth=2)"
   ]
  },
  {
   "cell_type": "code",
   "execution_count": 95,
   "id": "9a2f85f0",
   "metadata": {},
   "outputs": [
    {
     "name": "stdout",
     "output_type": "stream",
     "text": [
      "error absoluto : 15.3137"
     ]
    }
   ],
   "source": [
    "err=round(abs(f(c)),digits=4)\n",
    "print(\"error absoluto : $err\")"
   ]
  },
  {
   "cell_type": "markdown",
   "id": "f5ed4581",
   "metadata": {},
   "source": [
    "# Tarea \n",
    "\n",
    "1.- Determine el intervalo y el punto inicial para la funcion $f(x)=\\frac{1}{tan(x)}$ \n",
    "\n",
    "2.- Encuentre el valor $x$ mediante el método iterativo. Muestre la cantidad de iteraciones necesarias para distintos valores $\\varepsilon$. \n",
    "\n",
    "3.- Encuentre el valor $x$ mediante el método de la bisección. Muestre la cantidad de iteraciones necesarias para distintos valores $\\varepsilon$. "
   ]
  },
  {
   "cell_type": "code",
   "execution_count": null,
   "id": "81bf7d2c",
   "metadata": {},
   "outputs": [],
   "source": []
  }
 ],
 "metadata": {
  "kernelspec": {
   "display_name": "Julia 1.10.4",
   "language": "julia",
   "name": "julia-1.10"
  },
  "language_info": {
   "file_extension": ".jl",
   "mimetype": "application/julia",
   "name": "julia",
   "version": "1.10.4"
  }
 },
 "nbformat": 4,
 "nbformat_minor": 5
}
