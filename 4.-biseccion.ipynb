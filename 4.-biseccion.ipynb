{
 "cells": [
  {
   "cell_type": "markdown",
   "id": "704594cc",
   "metadata": {},
   "source": [
    "# Raices de funciones\n",
    "\n",
    "En muchos problemas buscamos conocer el valor $\\hat x$ que cumple la condición $f(\\hat x)=0$. Este valor se le llama la raiz o cero de la función $f(x)$.\n",
    "\n",
    "Podemos usar métodos iterativos para aproximar el error absoluto $\\vert f(\\hat x)-0 \\vert <= \\varepsilon$, para una tolerancia dada $\\varepsilon$.\n",
    "\n",
    "Los métodos iterativos van a construir una secuencia de valores $x_i \\mapsto \\hat x$ tal que $i=1 \\ldots n$ siendo $n$ la cantidad total de iteraciones."
   ]
  },
  {
   "cell_type": "markdown",
   "id": "b68f82f0",
   "metadata": {},
   "source": [
    "## Método de Búsqueda Incremental\n",
    "\n",
    "Este método utiliza el terorema del valor intermedio para encontrar raies reales. Si $f(x)$ es continua en el intervalo $[a,b]$, entonces:\n",
    "\n",
    "$\\mathtt{sign}(f(a))\\neq \\mathtt{sign}(f(b)) \\wedge a < c < b \\implies f(c)=0$\n",
    "\n",
    "1.- Dado que $c$ es desconocido, podemos hacer $x_1=a$ y $x_2=a+\\varepsilon$. \n",
    "\n",
    "2.- Si $\\mathtt{sign}(f(x_1))\\neq \\mathtt{sign}(f(x_2))$, entonces $c=\\frac{x_1+x_2}{2}$.\n",
    "\n",
    "3.- De lo contrario, $x_1=x_2$, $x_2=x_2+\\varepsilon$.\n",
    "\n",
    "4.- Continuar\n",
    "    \n"
   ]
  },
  {
   "cell_type": "code",
   "execution_count": 1,
   "id": "72a3bf4e",
   "metadata": {},
   "outputs": [
    {
     "data": {
      "text/plain": [
       "root_search (generic function with 1 method)"
      ]
     },
     "execution_count": 1,
     "metadata": {},
     "output_type": "execute_result"
    }
   ],
   "source": [
    "function root_search(f::Function,a,b,eps,N)\n",
    "    n=1\n",
    "    x1=a\n",
    "    x2=a+eps\n",
    "    c=(x1+x2)/2.0\n",
    "    while sign(f(x1))==sign(f(x2))\n",
    "        if n>=N\n",
    "            break\n",
    "        end\n",
    "        x1=x2\n",
    "        x2+=eps\n",
    "        n+=1\n",
    "        c=(x1+x2)/2.0\n",
    "    end\n",
    "    y=f(c)\n",
    "    return y,c,n\n",
    "end\n",
    "            "
   ]
  },
  {
   "cell_type": "code",
   "execution_count": 12,
   "id": "082e6e76",
   "metadata": {},
   "outputs": [
    {
     "name": "stdout",
     "output_type": "stream",
     "text": [
      "El valor de x es 1.3196414999983843, iteraciones : 19642"
     ]
    }
   ],
   "source": [
    "f(x)=x^5+2x^3-5x-2\n",
    "y,c,n=root_search(f,1.3,1.4,10^(-6),1e5)\n",
    "print(\"El valor de x es $c, iteraciones : $n\")"
   ]
  },
  {
   "cell_type": "code",
   "execution_count": 5,
   "id": "227ad9b0",
   "metadata": {},
   "outputs": [
    {
     "name": "stdout",
     "output_type": "stream",
     "text": [
      "error absoluto : 0.09500013267810736"
     ]
    }
   ],
   "source": [
    "err=abs(f(c))\n",
    "print(\"error absoluto : $err\")"
   ]
  },
  {
   "cell_type": "markdown",
   "id": "c02d54e3",
   "metadata": {},
   "source": [
    "# Metodo de la Biseccion\n",
    "\n",
    "El metodo de la biseccion utiliza el teorema del valor intermedio para encontrar raices reales. \n",
    "\t\t\n",
    "1.- Sea $[a,b]$ un intervalo de inicio\n",
    "\n",
    "2.- Hacemos $m=\\frac{b+a}{2}$ \n",
    "\n",
    "3.- Si $f(m)=0$ entonces $m$ es una raiz real. \n",
    "\n",
    "4.- De lo contrario evaluamos el signo de la funcion en el intervalo $[a,m]$ y $[m,b]$.\n",
    "\n",
    "4.- Repetir hasta alcanzar la tolerancia especificada $\\vert b_n - a_n \\vert \\leq \\varepsilon$.\n",
    "\t"
   ]
  },
  {
   "cell_type": "code",
   "execution_count": 25,
   "id": "f70fc6e4",
   "metadata": {},
   "outputs": [
    {
     "data": {
      "text/plain": [
       "bisection (generic function with 1 method)"
      ]
     },
     "execution_count": 25,
     "metadata": {},
     "output_type": "execute_result"
    }
   ],
   "source": [
    "function bisection(f::Function,a,b,eps,N)\n",
    "    n=1\n",
    "    c=0\n",
    "    while n<=N\n",
    "        c=a+(b-a)/2\n",
    "        if f(c)==0 || abs(a-b)<=eps\n",
    "            break\n",
    "        end\n",
    "        if f(a)f(c)<0\n",
    "            b=c\n",
    "        else\n",
    "            a=c\n",
    "        end\n",
    "        n+=1\n",
    "    end\n",
    "    y=f(c)\n",
    "    return y,c,n\n",
    "end"
   ]
  },
  {
   "cell_type": "code",
   "execution_count": 26,
   "id": "d5c47080",
   "metadata": {},
   "outputs": [
    {
     "name": "stdout",
     "output_type": "stream",
     "text": [
      "El valor de x es 1.319671630859375, iteraciones : 16"
     ]
    }
   ],
   "source": [
    "y,c,n=bisection(x->x^5+2x^3-5x-2,0,2,10^(-4),20)\n",
    "print(\"El valor de x es $c, iteraciones : $n\")"
   ]
  },
  {
   "cell_type": "code",
   "execution_count": 27,
   "id": "aa421dea",
   "metadata": {},
   "outputs": [
    {
     "name": "stdout",
     "output_type": "stream",
     "text": [
      "El valor de x es 1.319641167209312, iteraciones : 54"
     ]
    }
   ],
   "source": [
    "y,c,n=bisection(x->x^5+2x^3-5x-2,0,2,eps(),1e4)\n",
    "print(\"El valor de x es $c, iteraciones : $n\")"
   ]
  },
  {
   "cell_type": "markdown",
   "id": "f5ed4581",
   "metadata": {},
   "source": [
    "# Tarea \n",
    "\n",
    "1.- Determine el intervalo y el punto inicial para la funcion $f(x)=\\frac{1}{tan(x)}$ \n",
    "\n",
    "2.- Encuentre el valor $x$ mediante el método iterativo. Muestre la cantidad de iteraciones necesarias para distintos valores $\\varepsilon$. \n",
    "\n",
    "3.- Encuentre el valor $x$ mediante el método de la bisección. Muestre la cantidad de iteraciones necesarias para distintos valores $\\varepsilon$. "
   ]
  }
 ],
 "metadata": {
  "kernelspec": {
   "display_name": "Julia 1.0.4",
   "language": "julia",
   "name": "julia-1.0"
  },
  "language_info": {
   "file_extension": ".jl",
   "mimetype": "application/julia",
   "name": "julia",
   "version": "1.0.4"
  }
 },
 "nbformat": 4,
 "nbformat_minor": 5
}
