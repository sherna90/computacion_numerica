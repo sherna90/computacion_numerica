{
 "cells": [
  {
   "cell_type": "markdown",
   "id": "a2cb6ec6",
   "metadata": {},
   "source": [
    "# Punto Flotante\n",
    "\n",
    "El estandar IEEE754 establece una forma para almacenar numeros en una computadora. \n",
    "\n",
    "1. A single-precision number consists of 32 bits, with 1 bit for the sign, 8 for the exponent, and 23 for the significand.\n",
    "\n",
    "2. A double-precision number consists of 64 bits with 1 bit for the sign, 11 for the exponent, and 52 for the significand.\n",
    "\n",
    "3. An extended-precision number consists of 80 bits, with 1 bit for the sign, 15 for the exponent, and 64 for the significand.\n",
    "\n",
    "\n",
    "\n",
    "Por ejemplo, para usar doble-precision usamos :\n",
    "\n",
    "$x=(-1)^s (1.b_{13} b_{14} \\ldots b_{64})_2 \\times 2^{e-1023}$\n",
    "\n",
    "1. $s \\in \\{0,1\\}$ es el signo.\n",
    "2. $b_{13} b_{14} \\ldots b_{64}$ es la mantisa.\n",
    "3. $e$ es el exponente.\n"
   ]
  },
  {
   "cell_type": "code",
   "execution_count": 17,
   "id": "d3a7849c",
   "metadata": {},
   "outputs": [
    {
     "data": {
      "text/plain": [
       "1023.0"
      ]
     },
     "metadata": {},
     "output_type": "display_data"
    }
   ],
   "source": [
    "2^11/2-1"
   ]
  },
  {
   "cell_type": "code",
   "execution_count": 38,
   "id": "9f766324",
   "metadata": {},
   "outputs": [
    {
     "data": {
      "text/plain": [
       "\"00000000000000000000000000010000\""
      ]
     },
     "metadata": {},
     "output_type": "display_data"
    }
   ],
   "source": [
    "bitstring(Int32(16))"
   ]
  },
  {
   "cell_type": "code",
   "execution_count": 27,
   "id": "e6f78d0c",
   "metadata": {},
   "outputs": [
    {
     "data": {
      "text/plain": [
       "\"11000001100000000000000000000000\""
      ]
     },
     "metadata": {},
     "output_type": "display_data"
    }
   ],
   "source": [
    "i=Float32(-16)\n",
    "b=bitstring(i)"
   ]
  },
  {
   "cell_type": "code",
   "execution_count": 29,
   "id": "eba1bdf6",
   "metadata": {},
   "outputs": [
    {
     "data": {
      "text/plain": [
       "\"01000001100000000000000000000000\""
      ]
     },
     "metadata": {},
     "output_type": "display_data"
    }
   ],
   "source": [
    "i=Float32(16)\n",
    "b=bitstring(i)"
   ]
  },
  {
   "cell_type": "code",
   "execution_count": 28,
   "id": "5cb59990",
   "metadata": {},
   "outputs": [
    {
     "data": {
      "text/plain": [
       "32"
      ]
     },
     "metadata": {},
     "output_type": "display_data"
    }
   ],
   "source": [
    "length(b)"
   ]
  },
  {
   "cell_type": "code",
   "execution_count": 33,
   "id": "2591cc2e",
   "metadata": {},
   "outputs": [
    {
     "data": {
      "text/plain": [
       "String"
      ]
     },
     "metadata": {},
     "output_type": "display_data"
    }
   ],
   "source": [
    "typeof(b)"
   ]
  },
  {
   "cell_type": "markdown",
   "id": "aec29c21",
   "metadata": {},
   "source": [
    "Por ejemplo el nuero $x=10.375$ puede ser descompuesto por una parte entera y real."
   ]
  },
  {
   "cell_type": "code",
   "execution_count": 35,
   "id": "70d6a6a9",
   "metadata": {},
   "outputs": [
    {
     "data": {
      "text/plain": [
       "10.375"
      ]
     },
     "metadata": {},
     "output_type": "display_data"
    }
   ],
   "source": [
    "x=10.375"
   ]
  },
  {
   "cell_type": "code",
   "execution_count": 41,
   "id": "0acf2a31",
   "metadata": {},
   "outputs": [
    {
     "data": {
      "text/plain": [
       "Float64"
      ]
     },
     "metadata": {},
     "output_type": "display_data"
    }
   ],
   "source": [
    "typeof(x)"
   ]
  },
  {
   "cell_type": "code",
   "execution_count": 36,
   "id": "e7de83e8",
   "metadata": {},
   "outputs": [
    {
     "name": "stdout",
     "output_type": "stream",
     "text": [
      "Parte entera 10, real 0.375000"
     ]
    }
   ],
   "source": [
    "using Printf\n",
    "\n",
    "p=round(x)\n",
    "r=mod(x,p)\n",
    "@printf(\"Parte entera %d, real %f\",p,r)"
   ]
  },
  {
   "cell_type": "code",
   "execution_count": 37,
   "id": "c3e2ee8b",
   "metadata": {},
   "outputs": [
    {
     "data": {
      "text/plain": [
       "true"
      ]
     },
     "metadata": {},
     "output_type": "display_data"
    }
   ],
   "source": [
    "p == 0*2^0+1*2^1+0*2^2+1*2^3 #1010_2\n",
    "r == 0*2^-1+1*2^-2+1*2^-3    #0.11_2 "
   ]
  },
  {
   "cell_type": "code",
   "execution_count": 42,
   "id": "be2d0b8a",
   "metadata": {},
   "outputs": [
    {
     "data": {
      "text/plain": [
       "\"0100000000100100110000000000000000000000000000000000000000000000\""
      ]
     },
     "metadata": {},
     "output_type": "display_data"
    }
   ],
   "source": [
    "b=bitstring(x)"
   ]
  },
  {
   "cell_type": "code",
   "execution_count": 50,
   "id": "652f3232",
   "metadata": {},
   "outputs": [
    {
     "data": {
      "text/plain": [
       "64"
      ]
     },
     "metadata": {},
     "output_type": "display_data"
    }
   ],
   "source": [
    "length(b)"
   ]
  },
  {
   "cell_type": "code",
   "execution_count": 51,
   "id": "bc739727",
   "metadata": {},
   "outputs": [
    {
     "data": {
      "text/plain": [
       "3"
      ]
     },
     "metadata": {},
     "output_type": "display_data"
    }
   ],
   "source": [
    "e=parse(Int,b[2:12],base=2)-1023"
   ]
  },
  {
   "cell_type": "code",
   "execution_count": 55,
   "id": "4910deb0",
   "metadata": {},
   "outputs": [
    {
     "data": {
      "text/plain": [
       "\"0100110000000000000000000000000000000000000000000000\""
      ]
     },
     "metadata": {},
     "output_type": "display_data"
    }
   ],
   "source": [
    "m=b[13:64]"
   ]
  },
  {
   "cell_type": "code",
   "execution_count": 58,
   "id": "4e39b84a",
   "metadata": {},
   "outputs": [
    {
     "data": {
      "text/plain": [
       "\"10100110000000000000000000000000000000000000000000000\""
      ]
     },
     "metadata": {},
     "output_type": "display_data"
    }
   ],
   "source": [
    "u=string('1',m)"
   ]
  },
  {
   "cell_type": "code",
   "execution_count": 62,
   "id": "f07c9174",
   "metadata": {},
   "outputs": [
    {
     "data": {
      "text/plain": [
       "\"1010\""
      ]
     },
     "metadata": {},
     "output_type": "display_data"
    }
   ],
   "source": [
    "u[1:e+1]"
   ]
  },
  {
   "cell_type": "code",
   "execution_count": 66,
   "id": "c03d1600",
   "metadata": {},
   "outputs": [
    {
     "data": {
      "text/plain": [
       "4"
      ]
     },
     "metadata": {},
     "output_type": "display_data"
    }
   ],
   "source": [
    "p=length(u[1:e+1]):-1:1\n",
    "p[1]"
   ]
  },
  {
   "cell_type": "code",
   "execution_count": 101,
   "id": "2525fd4c",
   "metadata": {},
   "outputs": [
    {
     "data": {
      "text/plain": [
       "convert_float (generic function with 1 method)"
      ]
     },
     "metadata": {},
     "output_type": "display_data"
    }
   ],
   "source": [
    "function convert_float(u,e)\n",
    "    f=0\n",
    "    p=length(u[1:e+1]):-1:0\n",
    "    j=1\n",
    "    for i in u[1:e+1]\n",
    "        d=parse(Int,i,base=2)\n",
    "        v=Int(p[j])\n",
    "        @printf(\", Digito %d \",2^v)\n",
    "        f+=d*(2^p[j])\n",
    "        j+=1\n",
    "        @printf(\"Digito %d, exponente %d \\n\",d,p[j])\n",
    "    end\n",
    "    return f\n",
    "end"
   ]
  },
  {
   "cell_type": "code",
   "execution_count": 102,
   "id": "60594cf1",
   "metadata": {},
   "outputs": [
    {
     "name": "stdout",
     "output_type": "stream",
     "text": [
      ", Digito 16 Digito 1, exponente 3 \n",
      ", Digito 8 Digito 0, exponente 2 \n",
      ", Digito 4 Digito 1, exponente 1 \n",
      ", Digito 2 Digito 0, exponente 0 \n"
     ]
    },
    {
     "data": {
      "text/plain": [
       "20"
      ]
     },
     "metadata": {},
     "output_type": "display_data"
    }
   ],
   "source": [
    "xf=convert_float(u,e)"
   ]
  },
  {
   "cell_type": "code",
   "execution_count": 92,
   "id": "83245bb6",
   "metadata": {},
   "outputs": [
    {
     "data": {
      "text/plain": [
       "8.0"
      ]
     },
     "metadata": {},
     "output_type": "display_data"
    }
   ],
   "source": [
    "2^4.0"
   ]
  },
  {
   "cell_type": "markdown",
   "id": "6f3eb792",
   "metadata": {},
   "source": [
    "### Ejercicio \n",
    "\n",
    "Encuentre la representación (mantisa, exponente y signo) de punto flotante para el número $x=123.15625_{10}$"
   ]
  },
  {
   "cell_type": "code",
   "execution_count": 7,
   "id": "4408f52e",
   "metadata": {},
   "outputs": [
    {
     "data": {
      "text/plain": [
       "\"0100000001011110110010100000000000000000000000000000000000000000\""
      ]
     },
     "metadata": {},
     "output_type": "display_data"
    }
   ],
   "source": [
    "x=123.15625\n",
    "b=bitstring(x)"
   ]
  },
  {
   "cell_type": "markdown",
   "id": "118b9e58",
   "metadata": {},
   "source": [
    "# Error de Aproximación\n",
    "\n",
    "Sabemos que la función $f(x)=e^x$ puede ser aproximada mediante la serie de Taylor truncada:\n",
    "\n",
    "$e^x = 1 + x + \\frac{x^2}{2!} + \\frac{x^3}{3!} + \\frac{x^4}{4!} + \\cdots.$\n",
    "\n",
    "Por ejemplo, si evaluamos $f(1)$ debiesemos obtener un valor cercano a $e$"
   ]
  },
  {
   "cell_type": "code",
   "execution_count": 103,
   "id": "59c75b93",
   "metadata": {},
   "outputs": [
    {
     "data": {
      "text/plain": [
       "2.718281828459045"
      ]
     },
     "metadata": {},
     "output_type": "display_data"
    }
   ],
   "source": [
    "exp(1.)"
   ]
  },
  {
   "cell_type": "code",
   "execution_count": 113,
   "id": "e922dde2",
   "metadata": {},
   "outputs": [
    {
     "data": {
      "text/plain": [
       "taylor_series (generic function with 1 method)"
      ]
     },
     "metadata": {},
     "output_type": "display_data"
    }
   ],
   "source": [
    "function taylor_series(x::Float64,k::Int)::Float64\n",
    "    range=1:1:k\n",
    "    res=1.\n",
    "    for i in range\n",
    "        res+=(x^i)/factorial(big(i))\n",
    "    end\n",
    "    return res\n",
    "end"
   ]
  },
  {
   "cell_type": "code",
   "execution_count": 114,
   "id": "6e0eb678",
   "metadata": {},
   "outputs": [
    {
     "data": {
      "text/plain": [
       "2.6666666666666665"
      ]
     },
     "metadata": {},
     "output_type": "display_data"
    }
   ],
   "source": [
    "taylor_series(1.,3)"
   ]
  },
  {
   "cell_type": "code",
   "execution_count": 135,
   "id": "057e4a08",
   "metadata": {},
   "outputs": [],
   "source": [
    "err=Inf\n",
    "k=1\n",
    "while err>eps(Float64)\n",
    "    val=taylor_series(1.,k)\n",
    "    err=abs(exp(1.)-val)\n",
    "    @printf(\"val : %f, orden : %d, error : %d \\n\",val,k,err)\n",
    "    k+=1\n",
    "end\n"
   ]
  },
  {
   "cell_type": "code",
   "execution_count": 136,
   "id": "94bdaf27",
   "metadata": {},
   "outputs": [
    {
     "data": {
      "text/plain": [
       "2.718281828459045"
      ]
     },
     "metadata": {},
     "output_type": "display_data"
    }
   ],
   "source": [
    "val=taylor_series(1.,k)"
   ]
  },
  {
   "cell_type": "code",
   "execution_count": 134,
   "id": "ad096220",
   "metadata": {},
   "outputs": [
    {
     "data": {
      "text/plain": [
       "18"
      ]
     },
     "metadata": {},
     "output_type": "display_data"
    }
   ],
   "source": [
    "k"
   ]
  },
  {
   "cell_type": "code",
   "execution_count": 137,
   "id": "9dc2ab5a",
   "metadata": {},
   "outputs": [
    {
     "data": {
      "text/plain": [
       "taylor_series (generic function with 2 methods)"
      ]
     },
     "metadata": {},
     "output_type": "display_data"
    }
   ],
   "source": [
    "function taylor_series(x::Float32,k::Int)::Float32\n",
    "    range=1:1:k\n",
    "    res=1.\n",
    "    for i in range\n",
    "        res+=(x^i)/factorial(big(i))\n",
    "    end\n",
    "    return res\n",
    "end"
   ]
  },
  {
   "cell_type": "code",
   "execution_count": 139,
   "id": "e8d5f81d",
   "metadata": {},
   "outputs": [],
   "source": [
    "err=Inf\n",
    "k=1\n",
    "while err>eps(Float32)\n",
    "    val=taylor_series(Float32(1.),k)\n",
    "    err=abs(exp(1.)-val)\n",
    "    @printf(\"val : %f, orden : %d, error : %d \\n\",val,k,err)\n",
    "    k+=1\n",
    "end\n"
   ]
  },
  {
   "cell_type": "code",
   "execution_count": 140,
   "id": "84c4dc80",
   "metadata": {},
   "outputs": [
    {
     "data": {
      "text/plain": [
       "11"
      ]
     },
     "metadata": {},
     "output_type": "display_data"
    }
   ],
   "source": [
    "k"
   ]
  },
  {
   "cell_type": "code",
   "execution_count": 142,
   "id": "692e1645",
   "metadata": {},
   "outputs": [
    {
     "data": {
      "text/plain": [
       "true"
      ]
     },
     "metadata": {},
     "output_type": "display_data"
    }
   ],
   "source": [
    "eps(Float32)>eps(Float64)"
   ]
  }
 ],
 "metadata": {
  "kernelspec": {
   "display_name": "Julia 1.7.3",
   "language": "julia",
   "name": "julia-1.7"
  },
  "language_info": {
   "file_extension": ".jl",
   "mimetype": "application/julia",
   "name": "julia",
   "version": "1.7.3"
  }
 },
 "nbformat": 4,
 "nbformat_minor": 5
}
