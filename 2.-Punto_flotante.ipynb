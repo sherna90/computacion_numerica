{
 "cells": [
  {
   "cell_type": "markdown",
   "id": "a2cb6ec6",
   "metadata": {},
   "source": [
    "# Punto Flotante\n",
    "\n",
    "El estandar IEEE754 establece una forma para almacenar numeros en una computadora. \n",
    "\n",
    "1. A single-precision number consists of 32 bits, with 1 bit for the sign, 8 for the exponent, and 23 for the significand.\n",
    "\n",
    "2. A double-precision number consists of 64 bits with 1 bit for the sign, 11 for the exponent, and 52 for the significand.\n",
    "\n",
    "3. An extended-precision number consists of 80 bits, with 1 bit for the sign, 15 for the exponent, and 64 for the significand.\n",
    "\n",
    "\n",
    "\n",
    "Por ejemplo, para usar doble-precision usamos :\n",
    "\n",
    "$x=(-1)^s (1.b_{13} b_{14} \\ldots b_{64})_2 \\times 2^{e-1023}$\n",
    "\n",
    "1. $s \\in \\{0,1\\}$ es el signo.\n",
    "2. $b_{13} b_{14} \\ldots b_{64}$ es la mantisa.\n",
    "3. $e$ es el exponente.\n"
   ]
  },
  {
   "cell_type": "code",
   "execution_count": 14,
   "id": "2b7f5c29",
   "metadata": {},
   "outputs": [
    {
     "data": {
      "text/plain": [
       "\"00000111\""
      ]
     },
     "metadata": {},
     "output_type": "display_data"
    }
   ],
   "source": [
    "b=bitstring(Int8(7.0))"
   ]
  },
  {
   "cell_type": "code",
   "execution_count": 18,
   "id": "1aee8985",
   "metadata": {},
   "outputs": [
    {
     "data": {
      "text/plain": [
       "\"0100011100000000\""
      ]
     },
     "metadata": {},
     "output_type": "display_data"
    }
   ],
   "source": [
    "b=bitstring(Float16(7.0))"
   ]
  },
  {
   "cell_type": "code",
   "execution_count": 48,
   "id": "5cb59990",
   "metadata": {},
   "outputs": [
    {
     "data": {
      "text/plain": [
       "16"
      ]
     },
     "metadata": {},
     "output_type": "display_data"
    }
   ],
   "source": [
    "length(b)"
   ]
  },
  {
   "cell_type": "code",
   "execution_count": 115,
   "id": "2591cc2e",
   "metadata": {},
   "outputs": [
    {
     "data": {
      "text/plain": [
       "\"1100000000\""
      ]
     },
     "metadata": {},
     "output_type": "display_data"
    }
   ],
   "source": [
    "signo=b[1]\n",
    "exponente=b[2:6]\n",
    "fraccion=b[7:16]"
   ]
  },
  {
   "cell_type": "code",
   "execution_count": 117,
   "id": "6ed9cbc9",
   "metadata": {},
   "outputs": [
    {
     "data": {
      "text/plain": [
       "2"
      ]
     },
     "metadata": {},
     "output_type": "display_data"
    }
   ],
   "source": [
    "exponent(Float16(7.0))"
   ]
  },
  {
   "cell_type": "code",
   "execution_count": 118,
   "id": "b086dbb4",
   "metadata": {},
   "outputs": [],
   "source": [
    "function to_decimal(bit_string::String)::Int\n",
    "    d=map(x->parse(Int,x),collect(bit_string))\n",
    "    e=length(bit_string)-1:-1:0\n",
    "    return sum([i*2^j for (i,j) in zip(d,e)])\n",
    "end;"
   ]
  },
  {
   "cell_type": "code",
   "execution_count": 121,
   "id": "196f11bf",
   "metadata": {},
   "outputs": [
    {
     "data": {
      "text/plain": [
       "2.0"
      ]
     },
     "metadata": {},
     "output_type": "display_data"
    }
   ],
   "source": [
    "to_decimal(exponente)-(2^5/2-1)"
   ]
  },
  {
   "cell_type": "code",
   "execution_count": 122,
   "id": "4e97a746",
   "metadata": {},
   "outputs": [
    {
     "data": {
      "text/plain": [
       "\"1100000000\""
      ]
     },
     "metadata": {},
     "output_type": "display_data"
    }
   ],
   "source": [
    "fraccion"
   ]
  },
  {
   "cell_type": "code",
   "execution_count": 91,
   "id": "f0c13ee3",
   "metadata": {},
   "outputs": [],
   "source": [
    "function to_fraction(bit_string::String)::Real\n",
    "    d=map(x->parse(Int,x),collect(bit_string))\n",
    "    e=1:1:length(bit_string)\n",
    "    return sum([i*2.0^(-j) for (i,j) in zip(d,e)])\n",
    "end;"
   ]
  },
  {
   "cell_type": "code",
   "execution_count": 98,
   "id": "e5615b9b",
   "metadata": {},
   "outputs": [
    {
     "data": {
      "text/plain": [
       "Float16(1.75)"
      ]
     },
     "metadata": {},
     "output_type": "display_data"
    }
   ],
   "source": [
    "significand(Float16(7.0))"
   ]
  },
  {
   "cell_type": "code",
   "execution_count": 123,
   "id": "7986b953",
   "metadata": {},
   "outputs": [
    {
     "data": {
      "text/plain": [
       "1.75"
      ]
     },
     "metadata": {},
     "output_type": "display_data"
    }
   ],
   "source": [
    "1+to_fraction(fraccion)"
   ]
  },
  {
   "cell_type": "code",
   "execution_count": 113,
   "id": "d92b4ce0",
   "metadata": {},
   "outputs": [],
   "source": [
    "function to_decimal_fraction(fraccion::String,exponente::String)::Real\n",
    "    m=to_fraction(fraccion)\n",
    "    e=to_decimal(exponente)-(2^length(exponente)/2-1)\n",
    "    return (1+m)*2.0^(e)\n",
    "end;"
   ]
  },
  {
   "cell_type": "code",
   "execution_count": 124,
   "id": "410c72a7",
   "metadata": {},
   "outputs": [
    {
     "data": {
      "text/plain": [
       "7.0"
      ]
     },
     "metadata": {},
     "output_type": "display_data"
    }
   ],
   "source": [
    "to_decimal_fraction(fraccion,exponente)"
   ]
  },
  {
   "cell_type": "markdown",
   "id": "2fc700ce",
   "metadata": {},
   "source": [
    "### Ejercicio 1\n",
    "\n",
    "Encuentre la representación (mantisa, exponente y signo) de punto flotante precision media para el número $x=10.375_{10}$"
   ]
  },
  {
   "cell_type": "code",
   "execution_count": 106,
   "id": "70d6a6a9",
   "metadata": {},
   "outputs": [
    {
     "data": {
      "text/plain": [
       "Float16(10.375)"
      ]
     },
     "metadata": {},
     "output_type": "display_data"
    }
   ],
   "source": [
    "x=Float16(10.375)"
   ]
  },
  {
   "cell_type": "code",
   "execution_count": 107,
   "id": "0acf2a31",
   "metadata": {},
   "outputs": [
    {
     "data": {
      "text/plain": [
       "Float16"
      ]
     },
     "metadata": {},
     "output_type": "display_data"
    }
   ],
   "source": [
    "typeof(x)"
   ]
  },
  {
   "cell_type": "code",
   "execution_count": 108,
   "id": "e7de83e8",
   "metadata": {},
   "outputs": [
    {
     "name": "stdout",
     "output_type": "stream",
     "text": [
      "Parte entera 10, real 0.375000"
     ]
    }
   ],
   "source": [
    "using Printf\n",
    "\n",
    "p=round(x)\n",
    "r=mod(x,p)\n",
    "@printf(\"Parte entera %d, real %f\",p,r)"
   ]
  },
  {
   "cell_type": "markdown",
   "id": "6f3eb792",
   "metadata": {},
   "source": [
    "### Ejercicio 2\n",
    "\n",
    "Encuentre la representación (mantisa, exponente y signo) de punto flotante para el número $x=123.15625_{10}$"
   ]
  },
  {
   "cell_type": "code",
   "execution_count": 7,
   "id": "4408f52e",
   "metadata": {},
   "outputs": [
    {
     "data": {
      "text/plain": [
       "\"0100000001011110110010100000000000000000000000000000000000000000\""
      ]
     },
     "metadata": {},
     "output_type": "display_data"
    }
   ],
   "source": [
    "x=123.15625\n",
    "b=bitstring(x)"
   ]
  },
  {
   "cell_type": "markdown",
   "id": "118b9e58",
   "metadata": {},
   "source": [
    "# Error de Aproximación\n",
    "\n",
    "Sabemos que la función $f(x)=e^x$ puede ser aproximada mediante la serie de Taylor truncada:\n",
    "\n",
    "$e^x = 1 + x + \\frac{x^2}{2!} + \\frac{x^3}{3!} + \\frac{x^4}{4!} + \\cdots.$\n",
    "\n",
    "Por ejemplo, si evaluamos $f(1)$ debiesemos obtener un valor cercano a $e$"
   ]
  },
  {
   "cell_type": "code",
   "execution_count": 103,
   "id": "59c75b93",
   "metadata": {},
   "outputs": [
    {
     "data": {
      "text/plain": [
       "2.718281828459045"
      ]
     },
     "metadata": {},
     "output_type": "display_data"
    }
   ],
   "source": [
    "exp(1.)"
   ]
  },
  {
   "cell_type": "code",
   "execution_count": 113,
   "id": "e922dde2",
   "metadata": {},
   "outputs": [
    {
     "data": {
      "text/plain": [
       "taylor_series (generic function with 1 method)"
      ]
     },
     "metadata": {},
     "output_type": "display_data"
    }
   ],
   "source": [
    "function taylor_series(x::Float64,k::Int)::Float64\n",
    "    range=1:1:k\n",
    "    res=1.\n",
    "    for i in range\n",
    "        res+=(x^i)/factorial(big(i))\n",
    "    end\n",
    "    return res\n",
    "end"
   ]
  },
  {
   "cell_type": "code",
   "execution_count": 114,
   "id": "6e0eb678",
   "metadata": {},
   "outputs": [
    {
     "data": {
      "text/plain": [
       "2.6666666666666665"
      ]
     },
     "metadata": {},
     "output_type": "display_data"
    }
   ],
   "source": [
    "taylor_series(1.,3)"
   ]
  },
  {
   "cell_type": "code",
   "execution_count": 135,
   "id": "057e4a08",
   "metadata": {},
   "outputs": [],
   "source": [
    "err=Inf\n",
    "k=1\n",
    "while err>eps(Float64)\n",
    "    val=taylor_series(1.,k)\n",
    "    err=abs(exp(1.)-val)\n",
    "    @printf(\"val : %f, orden : %d, error : %d \\n\",val,k,err)\n",
    "    k+=1\n",
    "end\n"
   ]
  },
  {
   "cell_type": "code",
   "execution_count": 136,
   "id": "94bdaf27",
   "metadata": {},
   "outputs": [
    {
     "data": {
      "text/plain": [
       "2.718281828459045"
      ]
     },
     "metadata": {},
     "output_type": "display_data"
    }
   ],
   "source": [
    "val=taylor_series(1.,k)"
   ]
  },
  {
   "cell_type": "code",
   "execution_count": 134,
   "id": "ad096220",
   "metadata": {},
   "outputs": [
    {
     "data": {
      "text/plain": [
       "18"
      ]
     },
     "metadata": {},
     "output_type": "display_data"
    }
   ],
   "source": [
    "k"
   ]
  },
  {
   "cell_type": "code",
   "execution_count": 137,
   "id": "9dc2ab5a",
   "metadata": {},
   "outputs": [
    {
     "data": {
      "text/plain": [
       "taylor_series (generic function with 2 methods)"
      ]
     },
     "metadata": {},
     "output_type": "display_data"
    }
   ],
   "source": [
    "function taylor_series(x::Float32,k::Int)::Float32\n",
    "    range=1:1:k\n",
    "    res=1.\n",
    "    for i in range\n",
    "        res+=(x^i)/factorial(big(i))\n",
    "    end\n",
    "    return res\n",
    "end"
   ]
  },
  {
   "cell_type": "code",
   "execution_count": 139,
   "id": "e8d5f81d",
   "metadata": {},
   "outputs": [],
   "source": [
    "err=Inf\n",
    "k=1\n",
    "while err>eps(Float32)\n",
    "    val=taylor_series(Float32(1.),k)\n",
    "    err=abs(exp(1.)-val)\n",
    "    @printf(\"val : %f, orden : %d, error : %d \\n\",val,k,err)\n",
    "    k+=1\n",
    "end\n"
   ]
  },
  {
   "cell_type": "code",
   "execution_count": 140,
   "id": "84c4dc80",
   "metadata": {},
   "outputs": [
    {
     "data": {
      "text/plain": [
       "11"
      ]
     },
     "metadata": {},
     "output_type": "display_data"
    }
   ],
   "source": [
    "k"
   ]
  },
  {
   "cell_type": "code",
   "execution_count": 142,
   "id": "692e1645",
   "metadata": {},
   "outputs": [
    {
     "data": {
      "text/plain": [
       "true"
      ]
     },
     "metadata": {},
     "output_type": "display_data"
    }
   ],
   "source": [
    "eps(Float32)>eps(Float64)"
   ]
  }
 ],
 "metadata": {
  "kernelspec": {
   "display_name": "Julia 1.9.2",
   "language": "julia",
   "name": "julia-1.9"
  },
  "language_info": {
   "file_extension": ".jl",
   "mimetype": "application/julia",
   "name": "julia",
   "version": "1.9.2"
  }
 },
 "nbformat": 4,
 "nbformat_minor": 5
}
