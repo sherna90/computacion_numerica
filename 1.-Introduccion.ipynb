{
 "cells": [
  {
   "cell_type": "markdown",
   "id": "a2cb6ec6",
   "metadata": {
    "id": "a2cb6ec6"
   },
   "source": [
    "# Introduccion a Julia\n",
    "\n",
    "**Julia** es un lenguaje de programación de alto rendimiento, creado por Alan Edelman, Stefan Karpinski, Jeff Bezanson y Viral Shah en el año 2009. Es de código abierto y gratuito, rápido, multiplataforma, con una sintaxis de alto nivel que es sencilla de aprender. Ha sido lanzado en el año 2012.\n",
    "\n",
    "Posee el rendimiento de un lenguaje compilado, permite definir el comportamiento de las funciones, tiene un sistema de tipado dinámico, gestor de paquetes integrado, generación automática de código eficiente, soporte eficiente para Unicode y Licencia MIT. Es ideal para el Machine Learning, aprendizaje automático, minería de datos, álgebra lineal, computación paralela, análisis de datos, y computación distribuida\n",
    "\n"
   ]
  },
  {
   "cell_type": "code",
   "execution_count": 1,
   "id": "70d6a6a9",
   "metadata": {
    "colab": {
     "base_uri": "https://localhost:8080/"
    },
    "id": "70d6a6a9",
    "outputId": "10c7ee6e-e449-4cb7-e86c-f6a88ada5dcc"
   },
   "outputs": [
    {
     "name": "stdout",
     "output_type": "stream",
     "text": [
      "Hola Mundo\n"
     ]
    }
   ],
   "source": [
    "println(\"Hola Mundo\")"
   ]
  },
  {
   "cell_type": "code",
   "execution_count": 5,
   "id": "708671af",
   "metadata": {},
   "outputs": [
    {
     "data": {
      "text/plain": [
       "Float64"
      ]
     },
     "execution_count": 5,
     "metadata": {},
     "output_type": "execute_result"
    }
   ],
   "source": [
    "typeof(3*1.28)"
   ]
  },
  {
   "cell_type": "markdown",
   "id": "14a97030",
   "metadata": {
    "id": "14a97030"
   },
   "source": [
    "### Tipos de Datos\n",
    "\n",
    "Para numeros enteros y de punto flotante se utiliza una variedad de tipos:  Int8, UInt8, Int16, UInt16, Int32, UInt32, Int64, UInt64, Int128, UInt128, Float16, Float32, and Float64.\n",
    "\n"
   ]
  },
  {
   "cell_type": "code",
   "execution_count": 4,
   "id": "e6582a91",
   "metadata": {
    "id": "e6582a91",
    "outputId": "e2fd62bd-1299-4f82-f0e7-550f991708ec"
   },
   "outputs": [
    {
     "data": {
      "text/plain": [
       "Float16(128.0)"
      ]
     },
     "execution_count": 4,
     "metadata": {},
     "output_type": "execute_result"
    }
   ],
   "source": [
    "i=Float16(1.28)*10^2"
   ]
  },
  {
   "cell_type": "code",
   "execution_count": 21,
   "id": "f2ae1b4a",
   "metadata": {
    "id": "f2ae1b4a"
   },
   "outputs": [],
   "source": [
    "x=Int8(127);\n",
    "y=Int8(14);"
   ]
  },
  {
   "cell_type": "code",
   "execution_count": 13,
   "id": "13bf7bd3",
   "metadata": {
    "id": "13bf7bd3"
   },
   "outputs": [],
   "source": [
    "b1=bitstring(x);\n",
    "b2=bitstring(y);"
   ]
  },
  {
   "cell_type": "code",
   "execution_count": 22,
   "id": "b6c9f813",
   "metadata": {},
   "outputs": [
    {
     "data": {
      "text/plain": [
       "-115"
      ]
     },
     "execution_count": 22,
     "metadata": {},
     "output_type": "execute_result"
    }
   ],
   "source": [
    "x+y"
   ]
  },
  {
   "cell_type": "code",
   "execution_count": 14,
   "id": "66db6c87",
   "metadata": {},
   "outputs": [
    {
     "name": "stdout",
     "output_type": "stream",
     "text": [
      "01111111"
     ]
    }
   ],
   "source": [
    "print(b1)"
   ]
  },
  {
   "cell_type": "code",
   "execution_count": 9,
   "id": "4a2397a0",
   "metadata": {},
   "outputs": [
    {
     "name": "stdout",
     "output_type": "stream",
     "text": [
      "00001110"
     ]
    }
   ],
   "source": [
    "print(b2)"
   ]
  },
  {
   "cell_type": "code",
   "execution_count": 19,
   "id": "f8fe9f4e",
   "metadata": {},
   "outputs": [
    {
     "data": {
      "text/plain": [
       "\"10001101\""
      ]
     },
     "execution_count": 19,
     "metadata": {},
     "output_type": "execute_result"
    }
   ],
   "source": [
    "bitstring(x+y)"
   ]
  },
  {
   "cell_type": "code",
   "execution_count": 16,
   "id": "44e0d64e",
   "metadata": {},
   "outputs": [
    {
     "data": {
      "text/plain": [
       "8"
      ]
     },
     "execution_count": 16,
     "metadata": {},
     "output_type": "execute_result"
    }
   ],
   "source": [
    "length(bitstring(x+y))"
   ]
  },
  {
   "cell_type": "code",
   "execution_count": 19,
   "id": "d2321e5e",
   "metadata": {
    "id": "d2321e5e"
   },
   "outputs": [],
   "source": [
    "function to_decimal(bit_string::String)::Int\n",
    "    d=map(x->parse(Int,x),collect(bit_string))\n",
    "    e=length(bit_string)-1:-1:0\n",
    "    return sum([i*2^j for (i,j) in zip(d,e)])\n",
    "end;"
   ]
  },
  {
   "cell_type": "code",
   "execution_count": 20,
   "id": "9e4751d1",
   "metadata": {},
   "outputs": [
    {
     "data": {
      "text/plain": [
       "67"
      ]
     },
     "execution_count": 20,
     "metadata": {},
     "output_type": "execute_result"
    }
   ],
   "source": [
    "z=bitstring(x+y)\n",
    "to_decimal(z)"
   ]
  },
  {
   "cell_type": "code",
   "execution_count": 27,
   "id": "c0991937",
   "metadata": {},
   "outputs": [
    {
     "data": {
      "text/plain": [
       "\"01111111\""
      ]
     },
     "execution_count": 27,
     "metadata": {},
     "output_type": "execute_result"
    }
   ],
   "source": [
    "bitstring(Int8(127))"
   ]
  },
  {
   "cell_type": "markdown",
   "id": "ef6567aa",
   "metadata": {},
   "source": [
    "## "
   ]
  },
  {
   "cell_type": "markdown",
   "id": "afc6b945",
   "metadata": {
    "id": "afc6b945"
   },
   "source": [
    "<table><tbody><tr><th style=\"text-align: left\">Type</th><th style=\"text-align: left\">Signed?</th><th style=\"text-align: left\">Number of bits</th><th style=\"text-align: left\">Smallest value</th><th style=\"text-align: left\">Largest value</th></tr><tr><td style=\"text-align: left\"><a href=\"../../base/numbers/#Core.Int8\"><code>Int8</code></a></td><td style=\"text-align: left\">✓</td><td style=\"text-align: left\">8</td><td style=\"text-align: left\">-2^7</td><td style=\"text-align: left\">2^7 - 1</td></tr><tr><td style=\"text-align: left\"><a href=\"../../base/numbers/#Core.UInt8\"><code>UInt8</code></a></td><td style=\"text-align: left\"></td><td style=\"text-align: left\">8</td><td style=\"text-align: left\">0</td><td style=\"text-align: left\">2^8 - 1</td></tr><tr><td style=\"text-align: left\"><a href=\"../../base/numbers/#Core.Int16\"><code>Int16</code></a></td><td style=\"text-align: left\">✓</td><td style=\"text-align: left\">16</td><td style=\"text-align: left\">-2^15</td><td style=\"text-align: left\">2^15 - 1</td></tr><tr><td style=\"text-align: left\"><a href=\"../../base/numbers/#Core.UInt16\"><code>UInt16</code></a></td><td style=\"text-align: left\"></td><td style=\"text-align: left\">16</td><td style=\"text-align: left\">0</td><td style=\"text-align: left\">2^16 - 1</td></tr><tr><td style=\"text-align: left\"><a href=\"../../base/numbers/#Core.Int32\"><code>Int32</code></a></td><td style=\"text-align: left\">✓</td><td style=\"text-align: left\">32</td><td style=\"text-align: left\">-2^31</td><td style=\"text-align: left\">2^31 - 1</td></tr><tr><td style=\"text-align: left\"><a href=\"../../base/numbers/#Core.UInt32\"><code>UInt32</code></a></td><td style=\"text-align: left\"></td><td style=\"text-align: left\">32</td><td style=\"text-align: left\">0</td><td style=\"text-align: left\">2^32 - 1</td></tr><tr><td style=\"text-align: left\"><a href=\"../../base/numbers/#Core.Int64\"><code>Int64</code></a></td><td style=\"text-align: left\">✓</td><td style=\"text-align: left\">64</td><td style=\"text-align: left\">-2^63</td><td style=\"text-align: left\">2^63 - 1</td></tr><tr><td style=\"text-align: left\"><a href=\"../../base/numbers/#Core.UInt64\"><code>UInt64</code></a></td><td style=\"text-align: left\"></td><td style=\"text-align: left\">64</td><td style=\"text-align: left\">0</td><td style=\"text-align: left\">2^64 - 1</td></tr><tr><td style=\"text-align: left\"><a href=\"../../base/numbers/#Core.Int128\"><code>Int128</code></a></td><td style=\"text-align: left\">✓</td><td style=\"text-align: left\">128</td><td style=\"text-align: left\">-2^127</td><td style=\"text-align: left\">2^127 - 1</td></tr><tr><td style=\"text-align: left\"><a href=\"../../base/numbers/#Core.UInt128\"><code>UInt128</code></a></td><td style=\"text-align: left\"></td><td style=\"text-align: left\">128</td><td style=\"text-align: left\">0</td><td style=\"text-align: left\">2^128 - 1</td></tr><tr><td style=\"text-align: left\"><a href=\"../../base/numbers/#Core.Bool\"><code>Bool</code></a></td><td style=\"text-align: left\">N/A</td><td style=\"text-align: left\">8</td><td style=\"text-align: left\"><code>false</code> (0)</td><td style=\"text-align: left\"><code>true</code> (1)</td></tr></tbody></table>"
   ]
  },
  {
   "cell_type": "markdown",
   "id": "c03c9803",
   "metadata": {
    "id": "c03c9803"
   },
   "source": [
    "<table><tbody><tr><th style=\"text-align: left\">Type</th><th style=\"text-align: left\">Precision</th><th style=\"text-align: left\">Number of bits</th></tr><tr><td style=\"text-align: left\"><a href=\"../../base/numbers/#Core.Float16\"><code>Float16</code></a></td><td style=\"text-align: left\"><a href=\"https://en.wikipedia.org/wiki/Half-precision_floating-point_format\">half</a></td><td style=\"text-align: left\">16</td></tr><tr><td style=\"text-align: left\"><a href=\"../../base/numbers/#Core.Float32\"><code>Float32</code></a></td><td style=\"text-align: left\"><a href=\"https://en.wikipedia.org/wiki/Single_precision_floating-point_format\">single</a></td><td style=\"text-align: left\">32</td></tr><tr><td style=\"text-align: left\"><a href=\"../../base/numbers/#Core.Float64\"><code>Float64</code></a></td><td style=\"text-align: left\"><a href=\"https://en.wikipedia.org/wiki/Double_precision_floating-point_format\">double</a></td><td style=\"text-align: left\">64</td></tr></tbody></table>"
   ]
  },
  {
   "cell_type": "markdown",
   "id": "da78d420",
   "metadata": {
    "id": "da78d420"
   },
   "source": [
    "https://docs.julialang.org/en/v1/manual/integers-and-floating-point-numbers/"
   ]
  },
  {
   "cell_type": "markdown",
   "id": "36b198c0",
   "metadata": {
    "id": "36b198c0"
   },
   "source": [
    "### Operadores\n",
    "\n",
    "Al igual que en otros lenguajes interpretados (Python o R), Julia define una serie de operadores (suma, resta, division, etc.) que funcionan de manera distinta sobre los distintos tipos de datos. Sin embargo, a diferencia de los otros lenguajes, Julia utiliza un sistema de tipado dinamico."
   ]
  },
  {
   "cell_type": "code",
   "execution_count": 29,
   "id": "dc5f0876",
   "metadata": {
    "id": "dc5f0876",
    "outputId": "b69f6530-4211-426c-dbb2-fb3c6de1f6fe"
   },
   "outputs": [
    {
     "name": "stdout",
     "output_type": "stream",
     "text": [
      "es menor\n"
     ]
    }
   ],
   "source": [
    "x = Float32(1.)\n",
    "y = UInt8(2)\n",
    "if x<y\n",
    "    println(\"es menor\")\n",
    "else\n",
    "    println(\"es mayor\")\n",
    "end"
   ]
  },
  {
   "cell_type": "code",
   "execution_count": 30,
   "id": "03bea033",
   "metadata": {},
   "outputs": [
    {
     "data": {
      "text/plain": [
       "Float32"
      ]
     },
     "execution_count": 30,
     "metadata": {},
     "output_type": "execute_result"
    }
   ],
   "source": [
    "typeof(x*y)"
   ]
  },
  {
   "cell_type": "code",
   "execution_count": 23,
   "id": "85ae94dc",
   "metadata": {
    "id": "85ae94dc",
    "outputId": "bd2a4084-e0a0-4998-8a26-3589b855a2fc"
   },
   "outputs": [
    {
     "data": {
      "text/plain": [
       "Float32"
      ]
     },
     "execution_count": 23,
     "metadata": {},
     "output_type": "execute_result"
    }
   ],
   "source": [
    "typeof(x)"
   ]
  },
  {
   "cell_type": "markdown",
   "id": "f95c937b",
   "metadata": {
    "id": "f95c937b"
   },
   "source": [
    "### Funciones\n",
    "\n",
    "Las funciones son un conjunto de instrucciones que se ejecutan sobre una entrada y retornan valores de salida."
   ]
  },
  {
   "cell_type": "code",
   "execution_count": 26,
   "id": "f4dcf336",
   "metadata": {
    "id": "f4dcf336",
    "outputId": "8a09fd46-b7ef-4dd2-eee5-8c9a21a80d71"
   },
   "outputs": [
    {
     "data": {
      "text/plain": [
       "sinc (generic function with 2 methods)"
      ]
     },
     "execution_count": 26,
     "metadata": {},
     "output_type": "execute_result"
    }
   ],
   "source": [
    "function sinc(x::AbstractFloat)::AbstractFloat\n",
    "    if x == 0\n",
    "        return 1\n",
    "    end\n",
    "    return sin(pi*x)/(pi*x)\n",
    "end"
   ]
  },
  {
   "cell_type": "code",
   "execution_count": 27,
   "id": "268097c2",
   "metadata": {},
   "outputs": [
    {
     "name": "stdout",
     "output_type": "stream",
     "text": [
      "Float64\n"
     ]
    }
   ],
   "source": [
    "f=sinc(10.)\n",
    "println(typeof(f))"
   ]
  },
  {
   "cell_type": "code",
   "execution_count": 28,
   "id": "cb01749b",
   "metadata": {
    "id": "cb01749b",
    "outputId": "89d100cb-b114-433e-d04e-64634d9ef718"
   },
   "outputs": [
    {
     "name": "stdout",
     "output_type": "stream",
     "text": [
      "Float16\n"
     ]
    }
   ],
   "source": [
    "f=sinc(Float16(10.))\n",
    "println(typeof(f))"
   ]
  },
  {
   "cell_type": "code",
   "execution_count": 29,
   "id": "0cdea229",
   "metadata": {
    "id": "0cdea229",
    "outputId": "9157306f-a8ec-4c2a-9554-586e9b1a2c8d"
   },
   "outputs": [
    {
     "data": {
      "text/plain": [
       "1:1:10"
      ]
     },
     "execution_count": 29,
     "metadata": {},
     "output_type": "execute_result"
    }
   ],
   "source": [
    "x=1:1:10"
   ]
  },
  {
   "cell_type": "code",
   "execution_count": 30,
   "id": "d55c07c0",
   "metadata": {
    "id": "d55c07c0",
    "outputId": "f8cfe952-17f1-4606-f542-87036fe8fa05"
   },
   "outputs": [
    {
     "data": {
      "text/plain": [
       "10"
      ]
     },
     "execution_count": 30,
     "metadata": {},
     "output_type": "execute_result"
    }
   ],
   "source": [
    "length(x)"
   ]
  },
  {
   "cell_type": "code",
   "execution_count": 31,
   "id": "f30cbfb3",
   "metadata": {
    "id": "f30cbfb3",
    "outputId": "00d3ce80-41ac-49f3-daae-535b0c8826a0"
   },
   "outputs": [
    {
     "data": {
      "text/plain": [
       "10-element Vector{Int64}:\n",
       "  1\n",
       "  2\n",
       "  3\n",
       "  4\n",
       "  5\n",
       "  6\n",
       "  7\n",
       "  8\n",
       "  9\n",
       " 10"
      ]
     },
     "execution_count": 31,
     "metadata": {},
     "output_type": "execute_result"
    }
   ],
   "source": [
    "[i for i in x]"
   ]
  },
  {
   "cell_type": "code",
   "execution_count": 34,
   "id": "b78f0647",
   "metadata": {
    "id": "b78f0647",
    "outputId": "df3b8b17-7427-4a0b-e046-0abb32dbac6b"
   },
   "outputs": [
    {
     "data": {
      "text/plain": [
       "10-element Vector{Float64}:\n",
       "  3.8981718325193755e-17\n",
       " -3.8981718325193755e-17\n",
       "  3.8981718325193755e-17\n",
       " -3.8981718325193755e-17\n",
       "  3.898171832519376e-17\n",
       " -3.8981718325193755e-17\n",
       "  3.8981718325193755e-17\n",
       " -3.8981718325193755e-17\n",
       "  3.8981718325193755e-17\n",
       " -3.898171832519376e-17"
      ]
     },
     "execution_count": 34,
     "metadata": {},
     "output_type": "execute_result"
    }
   ],
   "source": [
    "y=[sinc(Float64(n)) for n in x]"
   ]
  },
  {
   "cell_type": "code",
   "execution_count": 35,
   "id": "e5937349",
   "metadata": {
    "id": "e5937349",
    "outputId": "2875eb0d-3663-4ef1-a5fc-e0eca278d3c1"
   },
   "outputs": [
    {
     "data": {
      "text/plain": [
       "10-element Vector{Float64}:\n",
       "  3.8981718325193755e-17\n",
       " -3.8981718325193755e-17\n",
       "  3.8981718325193755e-17\n",
       " -3.8981718325193755e-17\n",
       "  3.898171832519376e-17\n",
       " -3.8981718325193755e-17\n",
       "  3.8981718325193755e-17\n",
       " -3.8981718325193755e-17\n",
       "  3.8981718325193755e-17\n",
       " -3.898171832519376e-17"
      ]
     },
     "execution_count": 35,
     "metadata": {},
     "output_type": "execute_result"
    }
   ],
   "source": [
    "y=map(v -> sinc(Float64(v)),x)"
   ]
  },
  {
   "cell_type": "code",
   "execution_count": 36,
   "id": "b590f3c3",
   "metadata": {
    "id": "b590f3c3",
    "outputId": "1907b3fa-5102-4dab-f09a-17f41296a1af"
   },
   "outputs": [
    {
     "data": {
      "text/plain": [
       "10-element Vector{Float64}:\n",
       "  3.8981718325193755e-17\n",
       " -3.8981718325193755e-17\n",
       "  3.8981718325193755e-17\n",
       " -3.8981718325193755e-17\n",
       "  3.898171832519376e-17\n",
       " -3.8981718325193755e-17\n",
       "  3.8981718325193755e-17\n",
       " -3.8981718325193755e-17\n",
       "  3.8981718325193755e-17\n",
       " -3.898171832519376e-17"
      ]
     },
     "execution_count": 36,
     "metadata": {},
     "output_type": "execute_result"
    }
   ],
   "source": [
    "y=sinc.([Float64(v) for v in x])"
   ]
  },
  {
   "cell_type": "markdown",
   "id": "4a7a47b4",
   "metadata": {
    "id": "4a7a47b4"
   },
   "source": [
    "# Tarea\n",
    "\n"
   ]
  },
  {
   "cell_type": "markdown",
   "id": "d5125a03",
   "metadata": {
    "id": "d5125a03"
   },
   "source": [
    "1. Implemente una funcion que se llame 'mi_factorial' para calcular el factorial de un entero.\n",
    "2. Que tipo de dato debe usar para calcular el factorial de 120?\n",
    "3. Escriba una función que devuelva la serie de Taylor para evaluar la función $f(x)=e^x \\approx \\sum\\limits_{n = 0}^\\infty  {\\frac{{{x^n}}}{{n!}}} \\approx 1 + x + \\frac{{{x^2}}}{{2!}} + \\frac{{{x^3}}}{{3!}} + \\frac{{{x^4}}}{{4!}} \\ + \\ ...$ usando Float16 y Float64.\n",
    "4. Grafique los resultados para distintos valores de $x$ y $k$, siendo $k$ el orden de la serie de Taylor . Compare los valores obtenidos con los resultados de la función $\\text{exp}(x)$ con precisión de máquina $\\epsilon$\n"
   ]
  },
  {
   "cell_type": "code",
   "execution_count": 52,
   "id": "d9d5b951",
   "metadata": {},
   "outputs": [
    {
     "data": {
      "text/plain": [
       "2.220446049250313e-16"
      ]
     },
     "execution_count": 52,
     "metadata": {},
     "output_type": "execute_result"
    }
   ],
   "source": [
    "eps(Float64)"
   ]
  },
  {
   "cell_type": "code",
   "execution_count": 37,
   "id": "92611cad",
   "metadata": {},
   "outputs": [
    {
     "data": {
      "text/plain": [
       "mi_factorial (generic function with 1 method)"
      ]
     },
     "execution_count": 37,
     "metadata": {},
     "output_type": "execute_result"
    }
   ],
   "source": [
    "function mi_factorial(n::Integer)::Integer\n",
    "    r=1:1:n\n",
    "    return prod(r)\n",
    "end "
   ]
  },
  {
   "cell_type": "code",
   "execution_count": 54,
   "id": "7b41261e",
   "metadata": {},
   "outputs": [
    {
     "data": {
      "text/plain": [
       "51090942171709440000"
      ]
     },
     "execution_count": 54,
     "metadata": {},
     "output_type": "execute_result"
    }
   ],
   "source": [
    "mi_factorial(Int128(21))"
   ]
  },
  {
   "cell_type": "code",
   "execution_count": 53,
   "id": "d0db48f5",
   "metadata": {},
   "outputs": [
    {
     "data": {
      "text/plain": [
       "51090942171709440000"
      ]
     },
     "execution_count": 53,
     "metadata": {},
     "output_type": "execute_result"
    }
   ],
   "source": [
    "factorial(big(21))"
   ]
  },
  {
   "cell_type": "code",
   "execution_count": 113,
   "id": "363d91ae",
   "metadata": {},
   "outputs": [
    {
     "data": {
      "text/plain": [
       "2.220446049250313e-16"
      ]
     },
     "execution_count": 113,
     "metadata": {},
     "output_type": "execute_result"
    }
   ],
   "source": [
    "eps(Float64)"
   ]
  },
  {
   "cell_type": "code",
   "execution_count": 59,
   "id": "69164a6f",
   "metadata": {},
   "outputs": [
    {
     "data": {
      "text/plain": [
       "true"
      ]
     },
     "execution_count": 59,
     "metadata": {},
     "output_type": "execute_result"
    }
   ],
   "source": [
    "Float16(1.0)+eps(Float16)/2==Float16(1.0)"
   ]
  },
  {
   "cell_type": "code",
   "execution_count": 60,
   "id": "11a2f775",
   "metadata": {},
   "outputs": [
    {
     "data": {
      "text/plain": [
       "Float16(2.719)"
      ]
     },
     "execution_count": 60,
     "metadata": {},
     "output_type": "execute_result"
    }
   ],
   "source": [
    "x=Float16(1.)\n",
    "exp(x)"
   ]
  },
  {
   "cell_type": "code",
   "execution_count": null,
   "id": "92814428",
   "metadata": {},
   "outputs": [],
   "source": []
  },
  {
   "cell_type": "code",
   "execution_count": 56,
   "id": "014fdd89",
   "metadata": {},
   "outputs": [
    {
     "data": {
      "text/plain": [
       "taylor_series (generic function with 1 method)"
      ]
     },
     "execution_count": 56,
     "metadata": {},
     "output_type": "execute_result"
    }
   ],
   "source": [
    "function taylor_series(x::AbstractFloat,n::Integer)::AbstractFloat\n",
    "    potencias=0:1:n\n",
    "    serie=map(i -> (x^i)/mi_factorial(i),potencias)\n",
    "    return sum(serie)\n",
    "end"
   ]
  },
  {
   "cell_type": "code",
   "execution_count": 57,
   "id": "695d2e49",
   "metadata": {},
   "outputs": [
    {
     "data": {
      "image/png": "[encoded data removed]",
      "image/svg+xml": [
       "<?xml version=\"1.0\" encoding=\"utf-8\"?>\n",
       "<svg xmlns=\"http://www.w3.org/2000/svg\" xmlns:xlink=\"http://www.w3.org/1999/xlink\" width=\"600\" height=\"400\" viewBox=\"0 0 2400 1600\">\n",
       "<defs>\n",
       "  <clipPath id=\"clip330\">\n",
       "    <rect x=\"0\" y=\"0\" width=\"2400\" height=\"1600\"/>\n",
       "  </clipPath>\n",
       "</defs>\n",
       "<path clip-path=\"url(#clip330)\" d=\"M0 1600 L2400 1600 L2400 8.88178e-14 L0 8.88178e-14  Z\" fill=\"#ffffff\" fill-rule=\"evenodd\" fill-opacity=\"1\"/>\n",
       "<defs>\n",
       "  <clipPath id=\"clip331\">\n",
       "    <rect x=\"480\" y=\"0\" width=\"1681\" height=\"1600\"/>\n",
       "  </clipPath>\n",
       "</defs>\n",
       "<path clip-path=\"url(#clip330)\" d=\"M156.598 1486.45 L2352.76 1486.45 L2352.76 47.2441 L156.598 47.2441  Z\" fill=\"#ffffff\" fill-rule=\"evenodd\" fill-opacity=\"1\"/>\n",
       "<defs>\n",
       "  <clipPath id=\"clip332\">\n",
       "    <rect x=\"156\" y=\"47\" width=\"2197\" height=\"1440\"/>\n",
       "  </clipPath>\n",
       "</defs>\n",
       "<polyline clip-path=\"url(#clip332)\" style=\"stroke:#000000; stroke-linecap:round; stroke-linejoin:round; stroke-width:2; stroke-opacity:0.1; fill:none\" points=\"448.959,1486.45 448.959,47.2441 \"/>\n",
       "<polyline clip-path=\"url(#clip332)\" style=\"stroke:#000000; stroke-linecap:round; stroke-linejoin:round; stroke-width:2; stroke-opacity:0.1; fill:none\" points=\"909.369,1486.45 909.369,47.2441 \"/>\n",
       "<polyline clip-path=\"url(#clip332)\" style=\"stroke:#000000; stroke-linecap:round; stroke-linejoin:round; stroke-width:2; stroke-opacity:0.1; fill:none\" points=\"1369.78,1486.45 1369.78,47.2441 \"/>\n",
       "<polyline clip-path=\"url(#clip332)\" style=\"stroke:#000000; stroke-linecap:round; stroke-linejoin:round; stroke-width:2; stroke-opacity:0.1; fill:none\" points=\"1830.19,1486.45 1830.19,47.2441 \"/>\n",
       "<polyline clip-path=\"url(#clip332)\" style=\"stroke:#000000; stroke-linecap:round; stroke-linejoin:round; stroke-width:2; stroke-opacity:0.1; fill:none\" points=\"2290.6,1486.45 2290.6,47.2441 \"/>\n",
       "<polyline clip-path=\"url(#clip330)\" style=\"stroke:#000000; stroke-linecap:round; stroke-linejoin:round; stroke-width:4; stroke-opacity:1; fill:none\" points=\"156.598,1486.45 2352.76,1486.45 \"/>\n",
       "<polyline clip-path=\"url(#clip330)\" style=\"stroke:#000000; stroke-linecap:round; stroke-linejoin:round; stroke-width:4; stroke-opacity:1; fill:none\" points=\"448.959,1486.45 448.959,1467.55 \"/>\n",
       "<polyline clip-path=\"url(#clip330)\" style=\"stroke:#000000; stroke-linecap:round; stroke-linejoin:round; stroke-width:4; stroke-opacity:1; fill:none\" points=\"909.369,1486.45 909.369,1467.55 \"/>\n",
       "<polyline clip-path=\"url(#clip330)\" style=\"stroke:#000000; stroke-linecap:round; stroke-linejoin:round; stroke-width:4; stroke-opacity:1; fill:none\" points=\"1369.78,1486.45 1369.78,1467.55 \"/>\n",
       "<polyline clip-path=\"url(#clip330)\" style=\"stroke:#000000; stroke-linecap:round; stroke-linejoin:round; stroke-width:4; stroke-opacity:1; fill:none\" points=\"1830.19,1486.45 1830.19,1467.55 \"/>\n",
       "<polyline clip-path=\"url(#clip330)\" style=\"stroke:#000000; stroke-linecap:round; stroke-linejoin:round; stroke-width:4; stroke-opacity:1; fill:none\" points=\"2290.6,1486.45 2290.6,1467.55 \"/>\n",
       "<path clip-path=\"url(#clip330)\" d=\"M443.612 1544.91 L459.931 1544.91 L459.931 1548.85 L437.987 1548.85 L437.987 1544.91 Q440.649 1542.16 445.232 1537.53 Q449.838 1532.88 451.019 1531.53 Q453.264 1529.01 454.144 1527.27 Q455.047 1525.51 455.047 1523.82 Q455.047 1521.07 453.102 1519.33 Q451.181 1517.6 448.079 1517.6 Q445.88 1517.6 443.426 1518.36 Q440.996 1519.13 438.218 1520.68 L438.218 1515.95 Q441.042 1514.82 443.496 1514.24 Q445.95 1513.66 447.987 1513.66 Q453.357 1513.66 456.551 1516.35 Q459.746 1519.03 459.746 1523.52 Q459.746 1525.65 458.936 1527.57 Q458.149 1529.47 456.042 1532.07 Q455.463 1532.74 452.362 1535.95 Q449.26 1539.15 443.612 1544.91 Z\" fill=\"#000000\" fill-rule=\"nonzero\" fill-opacity=\"1\" /><path clip-path=\"url(#clip330)\" d=\"M912.379 1518.36 L900.573 1536.81 L912.379 1536.81 L912.379 1518.36 M911.152 1514.29 L917.031 1514.29 L917.031 1536.81 L921.962 1536.81 L921.962 1540.7 L917.031 1540.7 L917.031 1548.85 L912.379 1548.85 L912.379 1540.7 L896.777 1540.7 L896.777 1536.19 L911.152 1514.29 Z\" fill=\"#000000\" fill-rule=\"nonzero\" fill-opacity=\"1\" /><path clip-path=\"url(#clip330)\" d=\"M1370.18 1529.7 Q1367.04 1529.7 1365.18 1531.86 Q1363.36 1534.01 1363.36 1537.76 Q1363.36 1541.49 1365.18 1543.66 Q1367.04 1545.82 1370.18 1545.82 Q1373.33 1545.82 1375.16 1543.66 Q1377.01 1541.49 1377.01 1537.76 Q1377.01 1534.01 1375.16 1531.86 Q1373.33 1529.7 1370.18 1529.7 M1379.47 1515.05 L1379.47 1519.31 Q1377.71 1518.48 1375.9 1518.04 Q1374.12 1517.6 1372.36 1517.6 Q1367.73 1517.6 1365.28 1520.72 Q1362.85 1523.85 1362.5 1530.17 Q1363.87 1528.15 1365.93 1527.09 Q1367.99 1526 1370.46 1526 Q1375.67 1526 1378.68 1529.17 Q1381.71 1532.32 1381.71 1537.76 Q1381.71 1543.08 1378.56 1546.3 Q1375.42 1549.52 1370.18 1549.52 Q1364.19 1549.52 1361.02 1544.94 Q1357.85 1540.33 1357.85 1531.6 Q1357.85 1523.41 1361.74 1518.55 Q1365.62 1513.66 1372.18 1513.66 Q1373.93 1513.66 1375.72 1514.01 Q1377.52 1514.36 1379.47 1515.05 Z\" fill=\"#000000\" fill-rule=\"nonzero\" fill-opacity=\"1\" /><path clip-path=\"url(#clip330)\" d=\"M1830.19 1532.44 Q1826.86 1532.44 1824.94 1534.22 Q1823.04 1536 1823.04 1539.13 Q1823.04 1542.25 1824.94 1544.03 Q1826.86 1545.82 1830.19 1545.82 Q1833.52 1545.82 1835.44 1544.03 Q1837.37 1542.23 1837.37 1539.13 Q1837.37 1536 1835.44 1534.22 Q1833.55 1532.44 1830.19 1532.44 M1825.51 1530.45 Q1822.5 1529.7 1820.82 1527.64 Q1819.15 1525.58 1819.15 1522.62 Q1819.15 1518.48 1822.09 1516.07 Q1825.05 1513.66 1830.19 1513.66 Q1835.35 1513.66 1838.29 1516.07 Q1841.23 1518.48 1841.23 1522.62 Q1841.23 1525.58 1839.54 1527.64 Q1837.88 1529.7 1834.89 1530.45 Q1838.27 1531.23 1840.14 1533.52 Q1842.04 1535.82 1842.04 1539.13 Q1842.04 1544.15 1838.96 1546.83 Q1835.91 1549.52 1830.19 1549.52 Q1824.47 1549.52 1821.39 1546.83 Q1818.34 1544.15 1818.34 1539.13 Q1818.34 1535.82 1820.24 1533.52 Q1822.13 1531.23 1825.51 1530.45 M1823.8 1523.06 Q1823.8 1525.75 1825.47 1527.25 Q1827.16 1528.76 1830.19 1528.76 Q1833.2 1528.76 1834.89 1527.25 Q1836.6 1525.75 1836.6 1523.06 Q1836.6 1520.38 1834.89 1518.87 Q1833.2 1517.37 1830.19 1517.37 Q1827.16 1517.37 1825.47 1518.87 Q1823.8 1520.38 1823.8 1523.06 Z\" fill=\"#000000\" fill-rule=\"nonzero\" fill-opacity=\"1\" /><path clip-path=\"url(#clip330)\" d=\"M2265.29 1544.91 L2272.93 1544.91 L2272.93 1518.55 L2264.62 1520.21 L2264.62 1515.95 L2272.88 1514.29 L2277.56 1514.29 L2277.56 1544.91 L2285.2 1544.91 L2285.2 1548.85 L2265.29 1548.85 L2265.29 1544.91 Z\" fill=\"#000000\" fill-rule=\"nonzero\" fill-opacity=\"1\" /><path clip-path=\"url(#clip330)\" d=\"M2304.64 1517.37 Q2301.03 1517.37 2299.2 1520.93 Q2297.39 1524.47 2297.39 1531.6 Q2297.39 1538.71 2299.2 1542.27 Q2301.03 1545.82 2304.64 1545.82 Q2308.27 1545.82 2310.08 1542.27 Q2311.91 1538.71 2311.91 1531.6 Q2311.91 1524.47 2310.08 1520.93 Q2308.27 1517.37 2304.64 1517.37 M2304.64 1513.66 Q2310.45 1513.66 2313.51 1518.27 Q2316.58 1522.85 2316.58 1531.6 Q2316.58 1540.33 2313.51 1544.94 Q2310.45 1549.52 2304.64 1549.52 Q2298.83 1549.52 2295.75 1544.94 Q2292.7 1540.33 2292.7 1531.6 Q2292.7 1522.85 2295.75 1518.27 Q2298.83 1513.66 2304.64 1513.66 Z\" fill=\"#000000\" fill-rule=\"nonzero\" fill-opacity=\"1\" /><polyline clip-path=\"url(#clip332)\" style=\"stroke:#000000; stroke-linecap:round; stroke-linejoin:round; stroke-width:2; stroke-opacity:0.1; fill:none\" points=\"156.598,1449.42 2352.76,1449.42 \"/>\n",
       "<polyline clip-path=\"url(#clip332)\" style=\"stroke:#000000; stroke-linecap:round; stroke-linejoin:round; stroke-width:2; stroke-opacity:0.1; fill:none\" points=\"156.598,1070.58 2352.76,1070.58 \"/>\n",
       "<polyline clip-path=\"url(#clip332)\" style=\"stroke:#000000; stroke-linecap:round; stroke-linejoin:round; stroke-width:2; stroke-opacity:0.1; fill:none\" points=\"156.598,691.745 2352.76,691.745 \"/>\n",
       "<polyline clip-path=\"url(#clip332)\" style=\"stroke:#000000; stroke-linecap:round; stroke-linejoin:round; stroke-width:2; stroke-opacity:0.1; fill:none\" points=\"156.598,312.91 2352.76,312.91 \"/>\n",
       "<polyline clip-path=\"url(#clip330)\" style=\"stroke:#000000; stroke-linecap:round; stroke-linejoin:round; stroke-width:4; stroke-opacity:1; fill:none\" points=\"156.598,1486.45 156.598,47.2441 \"/>\n",
       "<polyline clip-path=\"url(#clip330)\" style=\"stroke:#000000; stroke-linecap:round; stroke-linejoin:round; stroke-width:4; stroke-opacity:1; fill:none\" points=\"156.598,1449.42 175.496,1449.42 \"/>\n",
       "<polyline clip-path=\"url(#clip330)\" style=\"stroke:#000000; stroke-linecap:round; stroke-linejoin:round; stroke-width:4; stroke-opacity:1; fill:none\" points=\"156.598,1070.58 175.496,1070.58 \"/>\n",
       "<polyline clip-path=\"url(#clip330)\" style=\"stroke:#000000; stroke-linecap:round; stroke-linejoin:round; stroke-width:4; stroke-opacity:1; fill:none\" points=\"156.598,691.745 175.496,691.745 \"/>\n",
       "<polyline clip-path=\"url(#clip330)\" style=\"stroke:#000000; stroke-linecap:round; stroke-linejoin:round; stroke-width:4; stroke-opacity:1; fill:none\" points=\"156.598,312.91 175.496,312.91 \"/>\n",
       "<path clip-path=\"url(#clip330)\" d=\"M63.4226 1435.21 Q59.8115 1435.21 57.9828 1438.78 Q56.1773 1442.32 56.1773 1449.45 Q56.1773 1456.56 57.9828 1460.12 Q59.8115 1463.66 63.4226 1463.66 Q67.0569 1463.66 68.8624 1460.12 Q70.6911 1456.56 70.6911 1449.45 Q70.6911 1442.32 68.8624 1438.78 Q67.0569 1435.21 63.4226 1435.21 M63.4226 1431.51 Q69.2328 1431.51 72.2883 1436.12 Q75.367 1440.7 75.367 1449.45 Q75.367 1458.18 72.2883 1462.78 Q69.2328 1467.37 63.4226 1467.37 Q57.6125 1467.37 54.5338 1462.78 Q51.4782 1458.18 51.4782 1449.45 Q51.4782 1440.7 54.5338 1436.12 Q57.6125 1431.51 63.4226 1431.51 Z\" fill=\"#000000\" fill-rule=\"nonzero\" fill-opacity=\"1\" /><path clip-path=\"url(#clip330)\" d=\"M83.5845 1460.82 L88.4688 1460.82 L88.4688 1466.7 L83.5845 1466.7 L83.5845 1460.82 Z\" fill=\"#000000\" fill-rule=\"nonzero\" fill-opacity=\"1\" /><path clip-path=\"url(#clip330)\" d=\"M108.654 1435.21 Q105.043 1435.21 103.214 1438.78 Q101.409 1442.32 101.409 1449.45 Q101.409 1456.56 103.214 1460.12 Q105.043 1463.66 108.654 1463.66 Q112.288 1463.66 114.094 1460.12 Q115.922 1456.56 115.922 1449.45 Q115.922 1442.32 114.094 1438.78 Q112.288 1435.21 108.654 1435.21 M108.654 1431.51 Q114.464 1431.51 117.52 1436.12 Q120.598 1440.7 120.598 1449.45 Q120.598 1458.18 117.52 1462.78 Q114.464 1467.37 108.654 1467.37 Q102.844 1467.37 99.765 1462.78 Q96.7095 1458.18 96.7095 1449.45 Q96.7095 1440.7 99.765 1436.12 Q102.844 1431.51 108.654 1431.51 Z\" fill=\"#000000\" fill-rule=\"nonzero\" fill-opacity=\"1\" /><path clip-path=\"url(#clip330)\" d=\"M65.0198 1056.38 Q61.4087 1056.38 59.58 1059.94 Q57.7745 1063.49 57.7745 1070.61 Q57.7745 1077.72 59.58 1081.29 Q61.4087 1084.83 65.0198 1084.83 Q68.6541 1084.83 70.4596 1081.29 Q72.2883 1077.72 72.2883 1070.61 Q72.2883 1063.49 70.4596 1059.94 Q68.6541 1056.38 65.0198 1056.38 M65.0198 1052.68 Q70.83 1052.68 73.8855 1057.28 Q76.9642 1061.86 76.9642 1070.61 Q76.9642 1079.34 73.8855 1083.95 Q70.83 1088.53 65.0198 1088.53 Q59.2097 1088.53 56.131 1083.95 Q53.0754 1079.34 53.0754 1070.61 Q53.0754 1061.86 56.131 1057.28 Q59.2097 1052.68 65.0198 1052.68 Z\" fill=\"#000000\" fill-rule=\"nonzero\" fill-opacity=\"1\" /><path clip-path=\"url(#clip330)\" d=\"M85.1818 1081.98 L90.066 1081.98 L90.066 1087.86 L85.1818 1087.86 L85.1818 1081.98 Z\" fill=\"#000000\" fill-rule=\"nonzero\" fill-opacity=\"1\" /><path clip-path=\"url(#clip330)\" d=\"M104.279 1083.92 L120.598 1083.92 L120.598 1087.86 L98.6539 1087.86 L98.6539 1083.92 Q101.316 1081.17 105.899 1076.54 Q110.506 1071.89 111.686 1070.55 Q113.932 1068.02 114.811 1066.29 Q115.714 1064.53 115.714 1062.84 Q115.714 1060.08 113.77 1058.35 Q111.848 1056.61 108.746 1056.61 Q106.547 1056.61 104.094 1057.37 Q101.663 1058.14 98.8854 1059.69 L98.8854 1054.97 Q101.709 1053.83 104.163 1053.25 Q106.617 1052.68 108.654 1052.68 Q114.024 1052.68 117.219 1055.36 Q120.413 1058.05 120.413 1062.54 Q120.413 1064.67 119.603 1066.59 Q118.816 1068.49 116.709 1071.08 Q116.131 1071.75 113.029 1074.97 Q109.927 1078.16 104.279 1083.92 Z\" fill=\"#000000\" fill-rule=\"nonzero\" fill-opacity=\"1\" /><path clip-path=\"url(#clip330)\" d=\"M62.9365 677.544 Q59.3254 677.544 57.4967 681.108 Q55.6912 684.65 55.6912 691.78 Q55.6912 698.886 57.4967 702.451 Q59.3254 705.992 62.9365 705.992 Q66.5707 705.992 68.3763 702.451 Q70.205 698.886 70.205 691.78 Q70.205 684.65 68.3763 681.108 Q66.5707 677.544 62.9365 677.544 M62.9365 673.84 Q68.7467 673.84 71.8022 678.446 Q74.8809 683.03 74.8809 691.78 Q74.8809 700.506 71.8022 705.113 Q68.7467 709.696 62.9365 709.696 Q57.1264 709.696 54.0477 705.113 Q50.9921 700.506 50.9921 691.78 Q50.9921 683.03 54.0477 678.446 Q57.1264 673.84 62.9365 673.84 Z\" fill=\"#000000\" fill-rule=\"nonzero\" fill-opacity=\"1\" /><path clip-path=\"url(#clip330)\" d=\"M83.0984 703.145 L87.9827 703.145 L87.9827 709.025 L83.0984 709.025 L83.0984 703.145 Z\" fill=\"#000000\" fill-rule=\"nonzero\" fill-opacity=\"1\" /><path clip-path=\"url(#clip330)\" d=\"M111.015 678.539 L99.2095 696.988 L111.015 696.988 L111.015 678.539 M109.788 674.465 L115.668 674.465 L115.668 696.988 L120.598 696.988 L120.598 700.877 L115.668 700.877 L115.668 709.025 L111.015 709.025 L111.015 700.877 L95.4132 700.877 L95.4132 696.363 L109.788 674.465 Z\" fill=\"#000000\" fill-rule=\"nonzero\" fill-opacity=\"1\" /><path clip-path=\"url(#clip330)\" d=\"M63.2606 298.708 Q59.6495 298.708 57.8208 302.273 Q56.0152 305.815 56.0152 312.944 Q56.0152 320.051 57.8208 323.616 Q59.6495 327.157 63.2606 327.157 Q66.8948 327.157 68.7004 323.616 Q70.5291 320.051 70.5291 312.944 Q70.5291 305.815 68.7004 302.273 Q66.8948 298.708 63.2606 298.708 M63.2606 295.005 Q69.0707 295.005 72.1263 299.611 Q75.205 304.194 75.205 312.944 Q75.205 321.671 72.1263 326.278 Q69.0707 330.861 63.2606 330.861 Q57.4504 330.861 54.3717 326.278 Q51.3162 321.671 51.3162 312.944 Q51.3162 304.194 54.3717 299.611 Q57.4504 295.005 63.2606 295.005 Z\" fill=\"#000000\" fill-rule=\"nonzero\" fill-opacity=\"1\" /><path clip-path=\"url(#clip330)\" d=\"M83.4225 324.31 L88.3067 324.31 L88.3067 330.19 L83.4225 330.19 L83.4225 324.31 Z\" fill=\"#000000\" fill-rule=\"nonzero\" fill-opacity=\"1\" /><path clip-path=\"url(#clip330)\" d=\"M109.071 311.046 Q105.922 311.046 104.071 313.199 Q102.242 315.352 102.242 319.102 Q102.242 322.829 104.071 325.005 Q105.922 327.157 109.071 327.157 Q112.219 327.157 114.047 325.005 Q115.899 322.829 115.899 319.102 Q115.899 315.352 114.047 313.199 Q112.219 311.046 109.071 311.046 M118.353 296.394 L118.353 300.653 Q116.594 299.819 114.788 299.38 Q113.006 298.94 111.246 298.94 Q106.617 298.94 104.163 302.065 Q101.733 305.19 101.385 311.509 Q102.751 309.495 104.811 308.431 Q106.871 307.343 109.348 307.343 Q114.557 307.343 117.566 310.514 Q120.598 313.662 120.598 319.102 Q120.598 324.426 117.45 327.643 Q114.302 330.861 109.071 330.861 Q103.075 330.861 99.9039 326.278 Q96.7326 321.671 96.7326 312.944 Q96.7326 304.75 100.621 299.889 Q104.51 295.005 111.061 295.005 Q112.82 295.005 114.603 295.352 Q116.408 295.699 118.353 296.394 Z\" fill=\"#000000\" fill-rule=\"nonzero\" fill-opacity=\"1\" /><polyline clip-path=\"url(#clip332)\" style=\"stroke:#009af9; stroke-linecap:round; stroke-linejoin:round; stroke-width:4; stroke-opacity:1; fill:none\" points=\"218.754,87.9763 448.959,1035.06 679.164,1349.53 909.369,1427.22 1139.57,1442.02 1369.78,1445.72 1599.98,1445.72 1830.19,1445.72 2060.4,1445.72 2290.6,1445.72 \"/>\n",
       "<path clip-path=\"url(#clip330)\" d=\"M2007.5 198.898 L2279.55 198.898 L2279.55 95.2176 L2007.5 95.2176  Z\" fill=\"#ffffff\" fill-rule=\"evenodd\" fill-opacity=\"1\"/>\n",
       "<polyline clip-path=\"url(#clip330)\" style=\"stroke:#000000; stroke-linecap:round; stroke-linejoin:round; stroke-width:4; stroke-opacity:1; fill:none\" points=\"2007.5,198.898 2279.55,198.898 2279.55,95.2176 2007.5,95.2176 2007.5,198.898 \"/>\n",
       "<polyline clip-path=\"url(#clip330)\" style=\"stroke:#009af9; stroke-linecap:round; stroke-linejoin:round; stroke-width:4; stroke-opacity:1; fill:none\" points=\"2031.91,147.058 2178.32,147.058 \"/>\n",
       "<path clip-path=\"url(#clip330)\" d=\"M2216.56 166.745 Q2214.76 171.375 2213.04 172.787 Q2211.33 174.199 2208.46 174.199 L2205.06 174.199 L2205.06 170.634 L2207.56 170.634 Q2209.32 170.634 2210.29 169.8 Q2211.26 168.967 2212.44 165.865 L2213.2 163.921 L2202.72 138.412 L2207.23 138.412 L2215.33 158.689 L2223.44 138.412 L2227.95 138.412 L2216.56 166.745 Z\" fill=\"#000000\" fill-rule=\"nonzero\" fill-opacity=\"1\" /><path clip-path=\"url(#clip330)\" d=\"M2235.24 160.402 L2242.88 160.402 L2242.88 134.037 L2234.57 135.703 L2234.57 131.444 L2242.83 129.778 L2247.51 129.778 L2247.51 160.402 L2255.15 160.402 L2255.15 164.338 L2235.24 164.338 L2235.24 160.402 Z\" fill=\"#000000\" fill-rule=\"nonzero\" fill-opacity=\"1\" /></svg>\n"
      ],
      "text/html": [
       "<?xml version=\"1.0\" encoding=\"utf-8\"?>\n",
       "<svg xmlns=\"http://www.w3.org/2000/svg\" xmlns:xlink=\"http://www.w3.org/1999/xlink\" width=\"600\" height=\"400\" viewBox=\"0 0 2400 1600\">\n",
       "<defs>\n",
       "  <clipPath id=\"clip380\">\n",
       "    <rect x=\"0\" y=\"0\" width=\"2400\" height=\"1600\"/>\n",
       "  </clipPath>\n",
       "</defs>\n",
       "<path clip-path=\"url(#clip380)\" d=\"M0 1600 L2400 1600 L2400 8.88178e-14 L0 8.88178e-14  Z\" fill=\"#ffffff\" fill-rule=\"evenodd\" fill-opacity=\"1\"/>\n",
       "<defs>\n",
       "  <clipPath id=\"clip381\">\n",
       "    <rect x=\"480\" y=\"0\" width=\"1681\" height=\"1600\"/>\n",
       "  </clipPath>\n",
       "</defs>\n",
       "<path clip-path=\"url(#clip380)\" d=\"M156.598 1486.45 L2352.76 1486.45 L2352.76 47.2441 L156.598 47.2441  Z\" fill=\"#ffffff\" fill-rule=\"evenodd\" fill-opacity=\"1\"/>\n",
       "<defs>\n",
       "  <clipPath id=\"clip382\">\n",
       "    <rect x=\"156\" y=\"47\" width=\"2197\" height=\"1440\"/>\n",
       "  </clipPath>\n",
       "</defs>\n",
       "<polyline clip-path=\"url(#clip382)\" style=\"stroke:#000000; stroke-linecap:round; stroke-linejoin:round; stroke-width:2; stroke-opacity:0.1; fill:none\" points=\"448.959,1486.45 448.959,47.2441 \"/>\n",
       "<polyline clip-path=\"url(#clip382)\" style=\"stroke:#000000; stroke-linecap:round; stroke-linejoin:round; stroke-width:2; stroke-opacity:0.1; fill:none\" points=\"909.369,1486.45 909.369,47.2441 \"/>\n",
       "<polyline clip-path=\"url(#clip382)\" style=\"stroke:#000000; stroke-linecap:round; stroke-linejoin:round; stroke-width:2; stroke-opacity:0.1; fill:none\" points=\"1369.78,1486.45 1369.78,47.2441 \"/>\n",
       "<polyline clip-path=\"url(#clip382)\" style=\"stroke:#000000; stroke-linecap:round; stroke-linejoin:round; stroke-width:2; stroke-opacity:0.1; fill:none\" points=\"1830.19,1486.45 1830.19,47.2441 \"/>\n",
       "<polyline clip-path=\"url(#clip382)\" style=\"stroke:#000000; stroke-linecap:round; stroke-linejoin:round; stroke-width:2; stroke-opacity:0.1; fill:none\" points=\"2290.6,1486.45 2290.6,47.2441 \"/>\n",
       "<polyline clip-path=\"url(#clip380)\" style=\"stroke:#000000; stroke-linecap:round; stroke-linejoin:round; stroke-width:4; stroke-opacity:1; fill:none\" points=\"156.598,1486.45 2352.76,1486.45 \"/>\n",
       "<polyline clip-path=\"url(#clip380)\" style=\"stroke:#000000; stroke-linecap:round; stroke-linejoin:round; stroke-width:4; stroke-opacity:1; fill:none\" points=\"448.959,1486.45 448.959,1467.55 \"/>\n",
       "<polyline clip-path=\"url(#clip380)\" style=\"stroke:#000000; stroke-linecap:round; stroke-linejoin:round; stroke-width:4; stroke-opacity:1; fill:none\" points=\"909.369,1486.45 909.369,1467.55 \"/>\n",
       "<polyline clip-path=\"url(#clip380)\" style=\"stroke:#000000; stroke-linecap:round; stroke-linejoin:round; stroke-width:4; stroke-opacity:1; fill:none\" points=\"1369.78,1486.45 1369.78,1467.55 \"/>\n",
       "<polyline clip-path=\"url(#clip380)\" style=\"stroke:#000000; stroke-linecap:round; stroke-linejoin:round; stroke-width:4; stroke-opacity:1; fill:none\" points=\"1830.19,1486.45 1830.19,1467.55 \"/>\n",
       "<polyline clip-path=\"url(#clip380)\" style=\"stroke:#000000; stroke-linecap:round; stroke-linejoin:round; stroke-width:4; stroke-opacity:1; fill:none\" points=\"2290.6,1486.45 2290.6,1467.55 \"/>\n",
       "<path clip-path=\"url(#clip380)\" d=\"M443.612 1544.91 L459.931 1544.91 L459.931 1548.85 L437.987 1548.85 L437.987 1544.91 Q440.649 1542.16 445.232 1537.53 Q449.838 1532.88 451.019 1531.53 Q453.264 1529.01 454.144 1527.27 Q455.047 1525.51 455.047 1523.82 Q455.047 1521.07 453.102 1519.33 Q451.181 1517.6 448.079 1517.6 Q445.88 1517.6 443.426 1518.36 Q440.996 1519.13 438.218 1520.68 L438.218 1515.95 Q441.042 1514.82 443.496 1514.24 Q445.95 1513.66 447.987 1513.66 Q453.357 1513.66 456.551 1516.35 Q459.746 1519.03 459.746 1523.52 Q459.746 1525.65 458.936 1527.57 Q458.149 1529.47 456.042 1532.07 Q455.463 1532.74 452.362 1535.95 Q449.26 1539.15 443.612 1544.91 Z\" fill=\"#000000\" fill-rule=\"nonzero\" fill-opacity=\"1\" /><path clip-path=\"url(#clip380)\" d=\"M912.379 1518.36 L900.573 1536.81 L912.379 1536.81 L912.379 1518.36 M911.152 1514.29 L917.031 1514.29 L917.031 1536.81 L921.962 1536.81 L921.962 1540.7 L917.031 1540.7 L917.031 1548.85 L912.379 1548.85 L912.379 1540.7 L896.777 1540.7 L896.777 1536.19 L911.152 1514.29 Z\" fill=\"#000000\" fill-rule=\"nonzero\" fill-opacity=\"1\" /><path clip-path=\"url(#clip380)\" d=\"M1370.18 1529.7 Q1367.04 1529.7 1365.18 1531.86 Q1363.36 1534.01 1363.36 1537.76 Q1363.36 1541.49 1365.18 1543.66 Q1367.04 1545.82 1370.18 1545.82 Q1373.33 1545.82 1375.16 1543.66 Q1377.01 1541.49 1377.01 1537.76 Q1377.01 1534.01 1375.16 1531.86 Q1373.33 1529.7 1370.18 1529.7 M1379.47 1515.05 L1379.47 1519.31 Q1377.71 1518.48 1375.9 1518.04 Q1374.12 1517.6 1372.36 1517.6 Q1367.73 1517.6 1365.28 1520.72 Q1362.85 1523.85 1362.5 1530.17 Q1363.87 1528.15 1365.93 1527.09 Q1367.99 1526 1370.46 1526 Q1375.67 1526 1378.68 1529.17 Q1381.71 1532.32 1381.71 1537.76 Q1381.71 1543.08 1378.56 1546.3 Q1375.42 1549.52 1370.18 1549.52 Q1364.19 1549.52 1361.02 1544.94 Q1357.85 1540.33 1357.85 1531.6 Q1357.85 1523.41 1361.74 1518.55 Q1365.62 1513.66 1372.18 1513.66 Q1373.93 1513.66 1375.72 1514.01 Q1377.52 1514.36 1379.47 1515.05 Z\" fill=\"#000000\" fill-rule=\"nonzero\" fill-opacity=\"1\" /><path clip-path=\"url(#clip380)\" d=\"M1830.19 1532.44 Q1826.86 1532.44 1824.94 1534.22 Q1823.04 1536 1823.04 1539.13 Q1823.04 1542.25 1824.94 1544.03 Q1826.86 1545.82 1830.19 1545.82 Q1833.52 1545.82 1835.44 1544.03 Q1837.37 1542.23 1837.37 1539.13 Q1837.37 1536 1835.44 1534.22 Q1833.55 1532.44 1830.19 1532.44 M1825.51 1530.45 Q1822.5 1529.7 1820.82 1527.64 Q1819.15 1525.58 1819.15 1522.62 Q1819.15 1518.48 1822.09 1516.07 Q1825.05 1513.66 1830.19 1513.66 Q1835.35 1513.66 1838.29 1516.07 Q1841.23 1518.48 1841.23 1522.62 Q1841.23 1525.58 1839.54 1527.64 Q1837.88 1529.7 1834.89 1530.45 Q1838.27 1531.23 1840.14 1533.52 Q1842.04 1535.82 1842.04 1539.13 Q1842.04 1544.15 1838.96 1546.83 Q1835.91 1549.52 1830.19 1549.52 Q1824.47 1549.52 1821.39 1546.83 Q1818.34 1544.15 1818.34 1539.13 Q1818.34 1535.82 1820.24 1533.52 Q1822.13 1531.23 1825.51 1530.45 M1823.8 1523.06 Q1823.8 1525.75 1825.47 1527.25 Q1827.16 1528.76 1830.19 1528.76 Q1833.2 1528.76 1834.89 1527.25 Q1836.6 1525.75 1836.6 1523.06 Q1836.6 1520.38 1834.89 1518.87 Q1833.2 1517.37 1830.19 1517.37 Q1827.16 1517.37 1825.47 1518.87 Q1823.8 1520.38 1823.8 1523.06 Z\" fill=\"#000000\" fill-rule=\"nonzero\" fill-opacity=\"1\" /><path clip-path=\"url(#clip380)\" d=\"M2265.29 1544.91 L2272.93 1544.91 L2272.93 1518.55 L2264.62 1520.21 L2264.62 1515.95 L2272.88 1514.29 L2277.56 1514.29 L2277.56 1544.91 L2285.2 1544.91 L2285.2 1548.85 L2265.29 1548.85 L2265.29 1544.91 Z\" fill=\"#000000\" fill-rule=\"nonzero\" fill-opacity=\"1\" /><path clip-path=\"url(#clip380)\" d=\"M2304.64 1517.37 Q2301.03 1517.37 2299.2 1520.93 Q2297.39 1524.47 2297.39 1531.6 Q2297.39 1538.71 2299.2 1542.27 Q2301.03 1545.82 2304.64 1545.82 Q2308.27 1545.82 2310.08 1542.27 Q2311.91 1538.71 2311.91 1531.6 Q2311.91 1524.47 2310.08 1520.93 Q2308.27 1517.37 2304.64 1517.37 M2304.64 1513.66 Q2310.45 1513.66 2313.51 1518.27 Q2316.58 1522.85 2316.58 1531.6 Q2316.58 1540.33 2313.51 1544.94 Q2310.45 1549.52 2304.64 1549.52 Q2298.83 1549.52 2295.75 1544.94 Q2292.7 1540.33 2292.7 1531.6 Q2292.7 1522.85 2295.75 1518.27 Q2298.83 1513.66 2304.64 1513.66 Z\" fill=\"#000000\" fill-rule=\"nonzero\" fill-opacity=\"1\" /><polyline clip-path=\"url(#clip382)\" style=\"stroke:#000000; stroke-linecap:round; stroke-linejoin:round; stroke-width:2; stroke-opacity:0.1; fill:none\" points=\"156.598,1449.42 2352.76,1449.42 \"/>\n",
       "<polyline clip-path=\"url(#clip382)\" style=\"stroke:#000000; stroke-linecap:round; stroke-linejoin:round; stroke-width:2; stroke-opacity:0.1; fill:none\" points=\"156.598,1070.58 2352.76,1070.58 \"/>\n",
       "<polyline clip-path=\"url(#clip382)\" style=\"stroke:#000000; stroke-linecap:round; stroke-linejoin:round; stroke-width:2; stroke-opacity:0.1; fill:none\" points=\"156.598,691.745 2352.76,691.745 \"/>\n",
       "<polyline clip-path=\"url(#clip382)\" style=\"stroke:#000000; stroke-linecap:round; stroke-linejoin:round; stroke-width:2; stroke-opacity:0.1; fill:none\" points=\"156.598,312.91 2352.76,312.91 \"/>\n",
       "<polyline clip-path=\"url(#clip380)\" style=\"stroke:#000000; stroke-linecap:round; stroke-linejoin:round; stroke-width:4; stroke-opacity:1; fill:none\" points=\"156.598,1486.45 156.598,47.2441 \"/>\n",
       "<polyline clip-path=\"url(#clip380)\" style=\"stroke:#000000; stroke-linecap:round; stroke-linejoin:round; stroke-width:4; stroke-opacity:1; fill:none\" points=\"156.598,1449.42 175.496,1449.42 \"/>\n",
       "<polyline clip-path=\"url(#clip380)\" style=\"stroke:#000000; stroke-linecap:round; stroke-linejoin:round; stroke-width:4; stroke-opacity:1; fill:none\" points=\"156.598,1070.58 175.496,1070.58 \"/>\n",
       "<polyline clip-path=\"url(#clip380)\" style=\"stroke:#000000; stroke-linecap:round; stroke-linejoin:round; stroke-width:4; stroke-opacity:1; fill:none\" points=\"156.598,691.745 175.496,691.745 \"/>\n",
       "<polyline clip-path=\"url(#clip380)\" style=\"stroke:#000000; stroke-linecap:round; stroke-linejoin:round; stroke-width:4; stroke-opacity:1; fill:none\" points=\"156.598,312.91 175.496,312.91 \"/>\n",
       "<path clip-path=\"url(#clip380)\" d=\"M63.4226 1435.21 Q59.8115 1435.21 57.9828 1438.78 Q56.1773 1442.32 56.1773 1449.45 Q56.1773 1456.56 57.9828 1460.12 Q59.8115 1463.66 63.4226 1463.66 Q67.0569 1463.66 68.8624 1460.12 Q70.6911 1456.56 70.6911 1449.45 Q70.6911 1442.32 68.8624 1438.78 Q67.0569 1435.21 63.4226 1435.21 M63.4226 1431.51 Q69.2328 1431.51 72.2883 1436.12 Q75.367 1440.7 75.367 1449.45 Q75.367 1458.18 72.2883 1462.78 Q69.2328 1467.37 63.4226 1467.37 Q57.6125 1467.37 54.5338 1462.78 Q51.4782 1458.18 51.4782 1449.45 Q51.4782 1440.7 54.5338 1436.12 Q57.6125 1431.51 63.4226 1431.51 Z\" fill=\"#000000\" fill-rule=\"nonzero\" fill-opacity=\"1\" /><path clip-path=\"url(#clip380)\" d=\"M83.5845 1460.82 L88.4688 1460.82 L88.4688 1466.7 L83.5845 1466.7 L83.5845 1460.82 Z\" fill=\"#000000\" fill-rule=\"nonzero\" fill-opacity=\"1\" /><path clip-path=\"url(#clip380)\" d=\"M108.654 1435.21 Q105.043 1435.21 103.214 1438.78 Q101.409 1442.32 101.409 1449.45 Q101.409 1456.56 103.214 1460.12 Q105.043 1463.66 108.654 1463.66 Q112.288 1463.66 114.094 1460.12 Q115.922 1456.56 115.922 1449.45 Q115.922 1442.32 114.094 1438.78 Q112.288 1435.21 108.654 1435.21 M108.654 1431.51 Q114.464 1431.51 117.52 1436.12 Q120.598 1440.7 120.598 1449.45 Q120.598 1458.18 117.52 1462.78 Q114.464 1467.37 108.654 1467.37 Q102.844 1467.37 99.765 1462.78 Q96.7095 1458.18 96.7095 1449.45 Q96.7095 1440.7 99.765 1436.12 Q102.844 1431.51 108.654 1431.51 Z\" fill=\"#000000\" fill-rule=\"nonzero\" fill-opacity=\"1\" /><path clip-path=\"url(#clip380)\" d=\"M65.0198 1056.38 Q61.4087 1056.38 59.58 1059.94 Q57.7745 1063.49 57.7745 1070.61 Q57.7745 1077.72 59.58 1081.29 Q61.4087 1084.83 65.0198 1084.83 Q68.6541 1084.83 70.4596 1081.29 Q72.2883 1077.72 72.2883 1070.61 Q72.2883 1063.49 70.4596 1059.94 Q68.6541 1056.38 65.0198 1056.38 M65.0198 1052.68 Q70.83 1052.68 73.8855 1057.28 Q76.9642 1061.86 76.9642 1070.61 Q76.9642 1079.34 73.8855 1083.95 Q70.83 1088.53 65.0198 1088.53 Q59.2097 1088.53 56.131 1083.95 Q53.0754 1079.34 53.0754 1070.61 Q53.0754 1061.86 56.131 1057.28 Q59.2097 1052.68 65.0198 1052.68 Z\" fill=\"#000000\" fill-rule=\"nonzero\" fill-opacity=\"1\" /><path clip-path=\"url(#clip380)\" d=\"M85.1818 1081.98 L90.066 1081.98 L90.066 1087.86 L85.1818 1087.86 L85.1818 1081.98 Z\" fill=\"#000000\" fill-rule=\"nonzero\" fill-opacity=\"1\" /><path clip-path=\"url(#clip380)\" d=\"M104.279 1083.92 L120.598 1083.92 L120.598 1087.86 L98.6539 1087.86 L98.6539 1083.92 Q101.316 1081.17 105.899 1076.54 Q110.506 1071.89 111.686 1070.55 Q113.932 1068.02 114.811 1066.29 Q115.714 1064.53 115.714 1062.84 Q115.714 1060.08 113.77 1058.35 Q111.848 1056.61 108.746 1056.61 Q106.547 1056.61 104.094 1057.37 Q101.663 1058.14 98.8854 1059.69 L98.8854 1054.97 Q101.709 1053.83 104.163 1053.25 Q106.617 1052.68 108.654 1052.68 Q114.024 1052.68 117.219 1055.36 Q120.413 1058.05 120.413 1062.54 Q120.413 1064.67 119.603 1066.59 Q118.816 1068.49 116.709 1071.08 Q116.131 1071.75 113.029 1074.97 Q109.927 1078.16 104.279 1083.92 Z\" fill=\"#000000\" fill-rule=\"nonzero\" fill-opacity=\"1\" /><path clip-path=\"url(#clip380)\" d=\"M62.9365 677.544 Q59.3254 677.544 57.4967 681.108 Q55.6912 684.65 55.6912 691.78 Q55.6912 698.886 57.4967 702.451 Q59.3254 705.992 62.9365 705.992 Q66.5707 705.992 68.3763 702.451 Q70.205 698.886 70.205 691.78 Q70.205 684.65 68.3763 681.108 Q66.5707 677.544 62.9365 677.544 M62.9365 673.84 Q68.7467 673.84 71.8022 678.446 Q74.8809 683.03 74.8809 691.78 Q74.8809 700.506 71.8022 705.113 Q68.7467 709.696 62.9365 709.696 Q57.1264 709.696 54.0477 705.113 Q50.9921 700.506 50.9921 691.78 Q50.9921 683.03 54.0477 678.446 Q57.1264 673.84 62.9365 673.84 Z\" fill=\"#000000\" fill-rule=\"nonzero\" fill-opacity=\"1\" /><path clip-path=\"url(#clip380)\" d=\"M83.0984 703.145 L87.9827 703.145 L87.9827 709.025 L83.0984 709.025 L83.0984 703.145 Z\" fill=\"#000000\" fill-rule=\"nonzero\" fill-opacity=\"1\" /><path clip-path=\"url(#clip380)\" d=\"M111.015 678.539 L99.2095 696.988 L111.015 696.988 L111.015 678.539 M109.788 674.465 L115.668 674.465 L115.668 696.988 L120.598 696.988 L120.598 700.877 L115.668 700.877 L115.668 709.025 L111.015 709.025 L111.015 700.877 L95.4132 700.877 L95.4132 696.363 L109.788 674.465 Z\" fill=\"#000000\" fill-rule=\"nonzero\" fill-opacity=\"1\" /><path clip-path=\"url(#clip380)\" d=\"M63.2606 298.708 Q59.6495 298.708 57.8208 302.273 Q56.0152 305.815 56.0152 312.944 Q56.0152 320.051 57.8208 323.616 Q59.6495 327.157 63.2606 327.157 Q66.8948 327.157 68.7004 323.616 Q70.5291 320.051 70.5291 312.944 Q70.5291 305.815 68.7004 302.273 Q66.8948 298.708 63.2606 298.708 M63.2606 295.005 Q69.0707 295.005 72.1263 299.611 Q75.205 304.194 75.205 312.944 Q75.205 321.671 72.1263 326.278 Q69.0707 330.861 63.2606 330.861 Q57.4504 330.861 54.3717 326.278 Q51.3162 321.671 51.3162 312.944 Q51.3162 304.194 54.3717 299.611 Q57.4504 295.005 63.2606 295.005 Z\" fill=\"#000000\" fill-rule=\"nonzero\" fill-opacity=\"1\" /><path clip-path=\"url(#clip380)\" d=\"M83.4225 324.31 L88.3067 324.31 L88.3067 330.19 L83.4225 330.19 L83.4225 324.31 Z\" fill=\"#000000\" fill-rule=\"nonzero\" fill-opacity=\"1\" /><path clip-path=\"url(#clip380)\" d=\"M109.071 311.046 Q105.922 311.046 104.071 313.199 Q102.242 315.352 102.242 319.102 Q102.242 322.829 104.071 325.005 Q105.922 327.157 109.071 327.157 Q112.219 327.157 114.047 325.005 Q115.899 322.829 115.899 319.102 Q115.899 315.352 114.047 313.199 Q112.219 311.046 109.071 311.046 M118.353 296.394 L118.353 300.653 Q116.594 299.819 114.788 299.38 Q113.006 298.94 111.246 298.94 Q106.617 298.94 104.163 302.065 Q101.733 305.19 101.385 311.509 Q102.751 309.495 104.811 308.431 Q106.871 307.343 109.348 307.343 Q114.557 307.343 117.566 310.514 Q120.598 313.662 120.598 319.102 Q120.598 324.426 117.45 327.643 Q114.302 330.861 109.071 330.861 Q103.075 330.861 99.9039 326.278 Q96.7326 321.671 96.7326 312.944 Q96.7326 304.75 100.621 299.889 Q104.51 295.005 111.061 295.005 Q112.82 295.005 114.603 295.352 Q116.408 295.699 118.353 296.394 Z\" fill=\"#000000\" fill-rule=\"nonzero\" fill-opacity=\"1\" /><polyline clip-path=\"url(#clip382)\" style=\"stroke:#009af9; stroke-linecap:round; stroke-linejoin:round; stroke-width:4; stroke-opacity:1; fill:none\" points=\"218.754,87.9763 448.959,1035.06 679.164,1349.53 909.369,1427.22 1139.57,1442.02 1369.78,1445.72 1599.98,1445.72 1830.19,1445.72 2060.4,1445.72 2290.6,1445.72 \"/>\n",
       "<path clip-path=\"url(#clip380)\" d=\"M2007.5 198.898 L2279.55 198.898 L2279.55 95.2176 L2007.5 95.2176  Z\" fill=\"#ffffff\" fill-rule=\"evenodd\" fill-opacity=\"1\"/>\n",
       "<polyline clip-path=\"url(#clip380)\" style=\"stroke:#000000; stroke-linecap:round; stroke-linejoin:round; stroke-width:4; stroke-opacity:1; fill:none\" points=\"2007.5,198.898 2279.55,198.898 2279.55,95.2176 2007.5,95.2176 2007.5,198.898 \"/>\n",
       "<polyline clip-path=\"url(#clip380)\" style=\"stroke:#009af9; stroke-linecap:round; stroke-linejoin:round; stroke-width:4; stroke-opacity:1; fill:none\" points=\"2031.91,147.058 2178.32,147.058 \"/>\n",
       "<path clip-path=\"url(#clip380)\" d=\"M2216.56 166.745 Q2214.76 171.375 2213.04 172.787 Q2211.33 174.199 2208.46 174.199 L2205.06 174.199 L2205.06 170.634 L2207.56 170.634 Q2209.32 170.634 2210.29 169.8 Q2211.26 168.967 2212.44 165.865 L2213.2 163.921 L2202.72 138.412 L2207.23 138.412 L2215.33 158.689 L2223.44 138.412 L2227.95 138.412 L2216.56 166.745 Z\" fill=\"#000000\" fill-rule=\"nonzero\" fill-opacity=\"1\" /><path clip-path=\"url(#clip380)\" d=\"M2235.24 160.402 L2242.88 160.402 L2242.88 134.037 L2234.57 135.703 L2234.57 131.444 L2242.83 129.778 L2247.51 129.778 L2247.51 160.402 L2255.15 160.402 L2255.15 164.338 L2235.24 164.338 L2235.24 160.402 Z\" fill=\"#000000\" fill-rule=\"nonzero\" fill-opacity=\"1\" /></svg>\n"
      ]
     },
     "execution_count": 57,
     "metadata": {},
     "output_type": "execute_result"
    }
   ],
   "source": [
    "using Plots;\n",
    "max_pot=10\n",
    "errores = Vector{Float16}()\n",
    "potencias=1:1:max_pot\n",
    "for k in potencias\n",
    "    approx=taylor_series(Float16(1.0),k)\n",
    "    error=abs(Float16(exp(1.0))-approx)\n",
    "    append!(errores, error)\n",
    "end\n",
    "\n",
    "plot(potencias,errores)"
   ]
  },
  {
   "cell_type": "code",
   "execution_count": 129,
   "id": "51f76d23",
   "metadata": {},
   "outputs": [
    {
     "data": {
      "text/plain": [
       "false"
      ]
     },
     "execution_count": 129,
     "metadata": {},
     "output_type": "execute_result"
    }
   ],
   "source": [
    "Float64(1)/factorial(6)<eps(Float64)"
   ]
  },
  {
   "cell_type": "code",
   "execution_count": 131,
   "id": "5f40c94d",
   "metadata": {},
   "outputs": [
    {
     "data": {
      "text/plain": [
       "false"
      ]
     },
     "execution_count": 131,
     "metadata": {},
     "output_type": "execute_result"
    }
   ],
   "source": [
    "Float64(1)/factorial(17)<eps(Float64)"
   ]
  },
  {
   "cell_type": "code",
   "execution_count": 128,
   "id": "31abbd2b",
   "metadata": {},
   "outputs": [
    {
     "data": {
      "text/plain": [
       "10-element Vector{Float16}:\n",
       " 0.7188\n",
       " 0.2188\n",
       " 0.05273\n",
       " 0.01172\n",
       " 0.003906\n",
       " 0.001953\n",
       " 0.001953\n",
       " 0.001953\n",
       " 0.001953\n",
       " 0.001953"
      ]
     },
     "execution_count": 128,
     "metadata": {},
     "output_type": "execute_result"
    }
   ],
   "source": [
    "errores"
   ]
  },
  {
   "cell_type": "code",
   "execution_count": 76,
   "id": "fa901d45",
   "metadata": {},
   "outputs": [
    {
     "data": {
      "text/plain": [
       " 1.0 + 1.0 t + 0.5 t² + 0.16666666666666666 t³ + 0.041666666666666664 t⁴ + 0.008333333333333333 t⁵ + 0.001388888888888889 t⁶ + 0.0001984126984126984 t⁷ + 2.48015873015873e-5 t⁸ + 2.7557319223985893e-6 t⁹ + 2.7557319223985894e-7 t¹⁰ + 2.505210838544172e-8 t¹¹ + 2.08767569878681e-9 t¹² + 1.6059043836821616e-10 t¹³ + 1.1470745597729726e-11 t¹⁴ + 7.647163731819817e-13 t¹⁵ + 4.779477332387386e-14 t¹⁶ + 2.811457254345521e-15 t¹⁷ + 1.5619206968586228e-16 t¹⁸ + 8.220635246624331e-18 t¹⁹ + 4.1103176233121653e-19 t²⁰ + 𝒪(t²¹)"
      ]
     },
     "execution_count": 76,
     "metadata": {},
     "output_type": "execute_result"
    }
   ],
   "source": [
    "using TaylorSeries;\n",
    "\n",
    "t=Taylor1(Float64,20)\n",
    "\n",
    "exp(t)"
   ]
  },
  {
   "cell_type": "code",
   "execution_count": 69,
   "id": "4b49bc9b",
   "metadata": {},
   "outputs": [
    {
     "data": {
      "text/plain": [
       "Float16(2.719)"
      ]
     },
     "execution_count": 69,
     "metadata": {},
     "output_type": "execute_result"
    }
   ],
   "source": [
    "exp(Float16(1.))"
   ]
  },
  {
   "cell_type": "code",
   "execution_count": 73,
   "id": "764dfcbd",
   "metadata": {},
   "outputs": [
    {
     "data": {
      "text/plain": [
       "Float16(2.719)"
      ]
     },
     "execution_count": 73,
     "metadata": {},
     "output_type": "execute_result"
    }
   ],
   "source": [
    "exp(t)(Float16(1.0))"
   ]
  },
  {
   "cell_type": "code",
   "execution_count": 82,
   "id": "fcb32afd",
   "metadata": {},
   "outputs": [
    {
     "data": {
      "text/plain": [
       "true"
      ]
     },
     "execution_count": 82,
     "metadata": {},
     "output_type": "execute_result"
    }
   ],
   "source": [
    "Float64(1.0)/factorial(18)<eps(Float64)"
   ]
  },
  {
   "cell_type": "code",
   "execution_count": null,
   "id": "e6a1a848",
   "metadata": {},
   "outputs": [],
   "source": [
    "6"
   ]
  }
 ],
 "metadata": {
  "colab": {
   "provenance": []
  },
  "kernelspec": {
   "display_name": "Julia 1.10.4",
   "language": "julia",
   "name": "julia-1.10"
  },
  "language_info": {
   "file_extension": ".jl",
   "mimetype": "application/julia",
   "name": "julia",
   "version": "1.10.4"
  }
 },
 "nbformat": 4,
 "nbformat_minor": 5
}
