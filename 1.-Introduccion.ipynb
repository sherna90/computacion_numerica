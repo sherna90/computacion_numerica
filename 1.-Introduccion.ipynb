{
 "cells": [
  {
   "cell_type": "markdown",
   "id": "a2cb6ec6",
   "metadata": {},
   "source": [
    "# Introduccion a Julia\n",
    "\n",
    "**Julia** es un lenguaje de programación de alto rendimiento, creado por Alan Edelman, Stefan Karpinski, Jeff Bezanson y Viral Shah en el año 2009. Es de código abierto y gratuito, rápido, multiplataforma, con una sintaxis de alto nivel que es sencilla de aprender. Ha sido lanzado en el año 2012.\n",
    "\n",
    "Posee el rendimiento de un lenguaje compilado, permite definir el comportamiento de las funciones, tiene un sistema de tipado dinámico, gestor de paquetes integrado, generación automática de código eficiente, soporte eficiente para Unicode y Licencia MIT. Es ideal para el Machine Learning, aprendizaje automático, minería de datos, álgebra lineal, computación paralela, análisis de datos, y computación distribuida\n",
    "\n"
   ]
  },
  {
   "cell_type": "code",
   "execution_count": 1,
   "id": "70d6a6a9",
   "metadata": {},
   "outputs": [
    {
     "name": "stdout",
     "output_type": "stream",
     "text": [
      "Hola Mundo\n"
     ]
    }
   ],
   "source": [
    "println(\"Hola Mundo\")"
   ]
  },
  {
   "cell_type": "markdown",
   "id": "14a97030",
   "metadata": {},
   "source": [
    "### Tipos de Datos\n",
    "\n",
    "Para numeros enteros y de punto flotante se utiliza una variedad de tipos:  Int8, UInt8, Int16, UInt16, Int32, UInt32, Int64, UInt64, Int128, UInt128, Float16, Float32, and Float64.\n",
    "\n"
   ]
  },
  {
   "cell_type": "code",
   "execution_count": 14,
   "id": "e6582a91",
   "metadata": {},
   "outputs": [
    {
     "data": {
      "text/plain": [
       "128.0"
      ]
     },
     "metadata": {},
     "output_type": "display_data"
    }
   ],
   "source": [
    "i=1.28*10^2"
   ]
  },
  {
   "cell_type": "code",
   "execution_count": 61,
   "id": "f2ae1b4a",
   "metadata": {},
   "outputs": [],
   "source": [
    "x=Int8(53);\n",
    "y=Int8(14);"
   ]
  },
  {
   "cell_type": "code",
   "execution_count": 207,
   "id": "13bf7bd3",
   "metadata": {},
   "outputs": [],
   "source": [
    "b1=bitstring(x);\n",
    "b2=bitstring(y);"
   ]
  },
  {
   "cell_type": "code",
   "execution_count": 206,
   "id": "d2321e5e",
   "metadata": {},
   "outputs": [],
   "source": [
    "function to_decimal(bit_string::String)::Int\n",
    "    d=map(x->parse(Int,x),collect(bit_string))\n",
    "    e=length(bit_string)-1:-1:0\n",
    "    return sum([i*2^j for (i,j) in zip(d,e)])\n",
    "end;"
   ]
  },
  {
   "cell_type": "markdown",
   "id": "afc6b945",
   "metadata": {},
   "source": [
    "<table><tbody><tr><th style=\"text-align: left\">Type</th><th style=\"text-align: left\">Signed?</th><th style=\"text-align: left\">Number of bits</th><th style=\"text-align: left\">Smallest value</th><th style=\"text-align: left\">Largest value</th></tr><tr><td style=\"text-align: left\"><a href=\"../../base/numbers/#Core.Int8\"><code>Int8</code></a></td><td style=\"text-align: left\">✓</td><td style=\"text-align: left\">8</td><td style=\"text-align: left\">-2^7</td><td style=\"text-align: left\">2^7 - 1</td></tr><tr><td style=\"text-align: left\"><a href=\"../../base/numbers/#Core.UInt8\"><code>UInt8</code></a></td><td style=\"text-align: left\"></td><td style=\"text-align: left\">8</td><td style=\"text-align: left\">0</td><td style=\"text-align: left\">2^8 - 1</td></tr><tr><td style=\"text-align: left\"><a href=\"../../base/numbers/#Core.Int16\"><code>Int16</code></a></td><td style=\"text-align: left\">✓</td><td style=\"text-align: left\">16</td><td style=\"text-align: left\">-2^15</td><td style=\"text-align: left\">2^15 - 1</td></tr><tr><td style=\"text-align: left\"><a href=\"../../base/numbers/#Core.UInt16\"><code>UInt16</code></a></td><td style=\"text-align: left\"></td><td style=\"text-align: left\">16</td><td style=\"text-align: left\">0</td><td style=\"text-align: left\">2^16 - 1</td></tr><tr><td style=\"text-align: left\"><a href=\"../../base/numbers/#Core.Int32\"><code>Int32</code></a></td><td style=\"text-align: left\">✓</td><td style=\"text-align: left\">32</td><td style=\"text-align: left\">-2^31</td><td style=\"text-align: left\">2^31 - 1</td></tr><tr><td style=\"text-align: left\"><a href=\"../../base/numbers/#Core.UInt32\"><code>UInt32</code></a></td><td style=\"text-align: left\"></td><td style=\"text-align: left\">32</td><td style=\"text-align: left\">0</td><td style=\"text-align: left\">2^32 - 1</td></tr><tr><td style=\"text-align: left\"><a href=\"../../base/numbers/#Core.Int64\"><code>Int64</code></a></td><td style=\"text-align: left\">✓</td><td style=\"text-align: left\">64</td><td style=\"text-align: left\">-2^63</td><td style=\"text-align: left\">2^63 - 1</td></tr><tr><td style=\"text-align: left\"><a href=\"../../base/numbers/#Core.UInt64\"><code>UInt64</code></a></td><td style=\"text-align: left\"></td><td style=\"text-align: left\">64</td><td style=\"text-align: left\">0</td><td style=\"text-align: left\">2^64 - 1</td></tr><tr><td style=\"text-align: left\"><a href=\"../../base/numbers/#Core.Int128\"><code>Int128</code></a></td><td style=\"text-align: left\">✓</td><td style=\"text-align: left\">128</td><td style=\"text-align: left\">-2^127</td><td style=\"text-align: left\">2^127 - 1</td></tr><tr><td style=\"text-align: left\"><a href=\"../../base/numbers/#Core.UInt128\"><code>UInt128</code></a></td><td style=\"text-align: left\"></td><td style=\"text-align: left\">128</td><td style=\"text-align: left\">0</td><td style=\"text-align: left\">2^128 - 1</td></tr><tr><td style=\"text-align: left\"><a href=\"../../base/numbers/#Core.Bool\"><code>Bool</code></a></td><td style=\"text-align: left\">N/A</td><td style=\"text-align: left\">8</td><td style=\"text-align: left\"><code>false</code> (0)</td><td style=\"text-align: left\"><code>true</code> (1)</td></tr></tbody></table>"
   ]
  },
  {
   "cell_type": "markdown",
   "id": "c03c9803",
   "metadata": {},
   "source": [
    "<table><tbody><tr><th style=\"text-align: left\">Type</th><th style=\"text-align: left\">Precision</th><th style=\"text-align: left\">Number of bits</th></tr><tr><td style=\"text-align: left\"><a href=\"../../base/numbers/#Core.Float16\"><code>Float16</code></a></td><td style=\"text-align: left\"><a href=\"https://en.wikipedia.org/wiki/Half-precision_floating-point_format\">half</a></td><td style=\"text-align: left\">16</td></tr><tr><td style=\"text-align: left\"><a href=\"../../base/numbers/#Core.Float32\"><code>Float32</code></a></td><td style=\"text-align: left\"><a href=\"https://en.wikipedia.org/wiki/Single_precision_floating-point_format\">single</a></td><td style=\"text-align: left\">32</td></tr><tr><td style=\"text-align: left\"><a href=\"../../base/numbers/#Core.Float64\"><code>Float64</code></a></td><td style=\"text-align: left\"><a href=\"https://en.wikipedia.org/wiki/Double_precision_floating-point_format\">double</a></td><td style=\"text-align: left\">64</td></tr></tbody></table>"
   ]
  },
  {
   "cell_type": "markdown",
   "id": "da78d420",
   "metadata": {},
   "source": [
    "https://docs.julialang.org/en/v1/manual/integers-and-floating-point-numbers/"
   ]
  },
  {
   "cell_type": "markdown",
   "id": "36b198c0",
   "metadata": {},
   "source": [
    "### Operadores\n",
    "\n",
    "Al igual que en otros lenguajes interpretados (Python o R), Julia define una serie de operadores (suma, resta, division, etc.) que funcionan de manera distinta sobre los distintos tipos de datos. Sin embargo, a diferencia de los otros lenguajes, Julia utiliza un sistema de tipado dinamico."
   ]
  },
  {
   "cell_type": "code",
   "execution_count": 1,
   "id": "dc5f0876",
   "metadata": {},
   "outputs": [
    {
     "name": "stdout",
     "output_type": "stream",
     "text": [
      "es menor\n"
     ]
    }
   ],
   "source": [
    "x = Float32(1.)\n",
    "y = Int8(2)\n",
    "if x<y     \n",
    "    println(\"es menor\") \n",
    "else    \n",
    "    println(\"es mayor\")\n",
    "end   "
   ]
  },
  {
   "cell_type": "code",
   "execution_count": 2,
   "id": "aacdf329",
   "metadata": {},
   "outputs": [
    {
     "data": {
      "text/plain": [
       "99"
      ]
     },
     "metadata": {},
     "output_type": "display_data"
    }
   ],
   "source": [
    "67+32"
   ]
  },
  {
   "cell_type": "code",
   "execution_count": 37,
   "id": "85ae94dc",
   "metadata": {},
   "outputs": [
    {
     "data": {
      "text/plain": [
       "Float32"
      ]
     },
     "metadata": {},
     "output_type": "display_data"
    }
   ],
   "source": [
    "typeof(x)"
   ]
  },
  {
   "cell_type": "markdown",
   "id": "f95c937b",
   "metadata": {},
   "source": [
    "### Funciones\n",
    "\n",
    "Las funciones son un conjunto de instrucciones que se ejecutan sobre una entrada y retornan valores de salida. "
   ]
  },
  {
   "cell_type": "code",
   "execution_count": 54,
   "id": "f4dcf336",
   "metadata": {},
   "outputs": [
    {
     "data": {
      "text/plain": [
       "sinc (generic function with 2 methods)"
      ]
     },
     "metadata": {},
     "output_type": "display_data"
    }
   ],
   "source": [
    "function sinc(x)::Float64\n",
    "    if x == 0\n",
    "        return 1\n",
    "    end\n",
    "    return sin(pi*x)/(pi*x)\n",
    "end"
   ]
  },
  {
   "cell_type": "code",
   "execution_count": 56,
   "id": "cb01749b",
   "metadata": {},
   "outputs": [
    {
     "name": "stdout",
     "output_type": "stream",
     "text": [
      "Float64\n"
     ]
    }
   ],
   "source": [
    "f=sinc(10.)\n",
    "println(typeof(f))"
   ]
  },
  {
   "cell_type": "code",
   "execution_count": 58,
   "id": "0cdea229",
   "metadata": {},
   "outputs": [
    {
     "data": {
      "text/plain": [
       "1:1:10"
      ]
     },
     "metadata": {},
     "output_type": "display_data"
    }
   ],
   "source": [
    "x=1:1:10"
   ]
  },
  {
   "cell_type": "code",
   "execution_count": 59,
   "id": "d55c07c0",
   "metadata": {},
   "outputs": [
    {
     "data": {
      "text/plain": [
       "10"
      ]
     },
     "metadata": {},
     "output_type": "display_data"
    }
   ],
   "source": [
    "length(x)"
   ]
  },
  {
   "cell_type": "code",
   "execution_count": 62,
   "id": "f30cbfb3",
   "metadata": {},
   "outputs": [
    {
     "data": {
      "text/plain": [
       "10-element Vector{Int64}:\n",
       "  1\n",
       "  2\n",
       "  3\n",
       "  4\n",
       "  5\n",
       "  6\n",
       "  7\n",
       "  8\n",
       "  9\n",
       " 10"
      ]
     },
     "metadata": {},
     "output_type": "display_data"
    }
   ],
   "source": [
    "[i for i in x]"
   ]
  },
  {
   "cell_type": "code",
   "execution_count": 76,
   "id": "b78f0647",
   "metadata": {},
   "outputs": [
    {
     "data": {
      "text/plain": [
       "10-element Vector{Float64}:\n",
       "  3.8981718325193755e-17\n",
       " -3.8981718325193755e-17\n",
       "  3.8981718325193755e-17\n",
       " -3.8981718325193755e-17\n",
       "  3.898171832519376e-17\n",
       " -3.8981718325193755e-17\n",
       "  3.8981718325193755e-17\n",
       " -3.8981718325193755e-17\n",
       "  3.8981718325193755e-17\n",
       " -3.898171832519376e-17"
      ]
     },
     "metadata": {},
     "output_type": "display_data"
    }
   ],
   "source": [
    "y=[sinc(n) for n in x]"
   ]
  },
  {
   "cell_type": "code",
   "execution_count": 77,
   "id": "e5937349",
   "metadata": {},
   "outputs": [
    {
     "data": {
      "text/plain": [
       "10-element Vector{Float64}:\n",
       "  3.8981718325193755e-17\n",
       " -3.8981718325193755e-17\n",
       "  3.8981718325193755e-17\n",
       " -3.8981718325193755e-17\n",
       "  3.898171832519376e-17\n",
       " -3.8981718325193755e-17\n",
       "  3.8981718325193755e-17\n",
       " -3.8981718325193755e-17\n",
       "  3.8981718325193755e-17\n",
       " -3.898171832519376e-17"
      ]
     },
     "metadata": {},
     "output_type": "display_data"
    }
   ],
   "source": [
    "y=map(v -> sinc(v),x)"
   ]
  },
  {
   "cell_type": "code",
   "execution_count": 79,
   "id": "b590f3c3",
   "metadata": {},
   "outputs": [
    {
     "data": {
      "text/plain": [
       "10-element Vector{Float64}:\n",
       "  3.8981718325193755e-17\n",
       " -3.8981718325193755e-17\n",
       "  3.8981718325193755e-17\n",
       " -3.8981718325193755e-17\n",
       "  3.898171832519376e-17\n",
       " -3.8981718325193755e-17\n",
       "  3.8981718325193755e-17\n",
       " -3.8981718325193755e-17\n",
       "  3.8981718325193755e-17\n",
       " -3.898171832519376e-17"
      ]
     },
     "metadata": {},
     "output_type": "display_data"
    }
   ],
   "source": [
    "y=sinc.(x)"
   ]
  },
  {
   "cell_type": "markdown",
   "id": "4a7a47b4",
   "metadata": {},
   "source": [
    "# Tarea\n",
    "\n"
   ]
  },
  {
   "cell_type": "markdown",
   "id": "d5125a03",
   "metadata": {},
   "source": [
    "1. Implemente una funcion que se llame 'mi_factorial' para calcular el factorial de un entero.\n",
    "2. Que tipo de dato debe usar para calcular el factorial de 120?\n",
    "3. Escriba una función que devuelva la serie de Taylor para evaluar la función $f(x)=e^x \\approx \\sum\\limits_{n = 0}^\\infty  {\\frac{{{x^n}}}{{n!}}} \\approx 1 + x + \\frac{{{x^2}}}{{2!}} + \\frac{{{x^3}}}{{3!}} + \\frac{{{x^4}}}{{4!}} \\ + \\ ...$\n",
    "4. Grafique los resultados para distintos valores de $x$ y $k$, siendo $k$ el orden de la serie de Taylor . Compare los valores obtenidos con los resultados de la función $\\text{exp}(x)$\n"
   ]
  }
 ],
 "metadata": {
  "kernelspec": {
   "display_name": "Julia 1.9.2",
   "language": "julia",
   "name": "julia-1.9"
  },
  "language_info": {
   "file_extension": ".jl",
   "mimetype": "application/julia",
   "name": "julia",
   "version": "1.9.2"
  }
 },
 "nbformat": 4,
 "nbformat_minor": 5
}
