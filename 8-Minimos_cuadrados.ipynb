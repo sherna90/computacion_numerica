{
 "cells": [
  {
   "cell_type": "markdown",
   "metadata": {},
   "source": [
    "# Minimos Cuadrados\n",
    "\n",
    "Supongamos que se necesita resolver un sistema de ecuaciones $\\boldsymbol{A}\\boldsymbol{x}=\\boldsymbol{y}$ sobre-determinado.\n",
    "\n",
    "En este caso, contamos con mayor numero de ecuaciones que inconitas. Por lo tanto, la matriz $\\boldsymbol{A}$ no es cuadrada y por consiguiente, tiene $m$ filas y $n$ columnas para $m>n$.\n",
    "\n",
    "En vez de resolver el sistema de ecuaciones $\\boldsymbol{A}\\boldsymbol{x}=\\boldsymbol{y}$, trataremos de encontrar una aproximación por mínimos cuadrados:\n",
    "\n",
    "$\\operatorname{min} \\frac{1}{2}|\\boldsymbol{A}\\boldsymbol{x}-\\boldsymbol{y}|^2$.\n",
    "\n",
    "Ahora, tenemos que comprobar que $\\boldsymbol{A}$ es de rango $n$ y por lo tanto, existen tantas ecuaciones linealmente independientes como incógnitas y por lo tanto existe una solución \n"
   ]
  },
  {
   "cell_type": "markdown",
   "metadata": {},
   "source": [
    "## Solución de Mínimos Cuadrados\n",
    "\n",
    "Si el rango de $\\boldsymbol{A}$ es $n$, entonces la matriz $\\boldsymbol{A}^T \\boldsymbol{A}$ es una matriz $n\\times n$ cuya inversa existe.\n",
    "\n",
    "Por lo tanto, la solución del problema está dada por:\n",
    "\n",
    "$\\boldsymbol{x}=(\\boldsymbol{A}^T \\boldsymbol{A})^{-1}\\boldsymbol{A}^T\\boldsymbol{y}$\n",
    "\n",
    "En este caso, la matriz $\\boldsymbol{A}^{\\dagger}=(\\boldsymbol{A}^T \\boldsymbol{A})^{-1}\\boldsymbol{A}^T$ es la pseudo-inversa de $\\boldsymbol{A}$, ya que $\\boldsymbol{A}^{\\dagger}\\boldsymbol{A}=I$"
   ]
  },
  {
   "cell_type": "code",
   "execution_count": 1,
   "metadata": {},
   "outputs": [
    {
     "data": {
      "text/plain": [
       "10×3 Matrix{Float64}:\n",
       " 0.598194  0.131849   0.731293\n",
       " 0.452563  0.384647   0.0600104\n",
       " 0.553106  0.0816415  0.340316\n",
       " 0.913106  0.0254321  0.289556\n",
       " 0.851144  0.318611   0.578612\n",
       " 0.429874  0.0321335  0.649555\n",
       " 0.75836   0.76483    0.906056\n",
       " 0.729014  0.234679   0.698385\n",
       " 0.886186  0.949229   0.253037\n",
       " 0.112451  0.435763   0.166463"
      ]
     },
     "execution_count": 1,
     "metadata": {},
     "output_type": "execute_result"
    }
   ],
   "source": [
    "using LinearAlgebra;\n",
    "\n",
    "A=rand(Float64, (10, 3))"
   ]
  },
  {
   "cell_type": "code",
   "execution_count": 2,
   "metadata": {},
   "outputs": [
    {
     "name": "stdout",
     "output_type": "stream",
     "text": [
      "El rango de la matriz A es 3"
     ]
    }
   ],
   "source": [
    "print(\"El rango de la matriz A es \",rank(A))"
   ]
  },
  {
   "cell_type": "code",
   "execution_count": 3,
   "metadata": {},
   "outputs": [
    {
     "data": {
      "text/plain": [
       "3×10 Matrix{Float64}:\n",
       " -0.0779796   0.252686   0.278513   …   0.048904   0.247107  -0.285658\n",
       " -0.173666    0.169076  -0.220234      -0.136349   0.557947   0.43217\n",
       "  0.42859    -0.341613  -0.0670326      0.260415  -0.474348   0.137832"
      ]
     },
     "execution_count": 3,
     "metadata": {},
     "output_type": "execute_result"
    }
   ],
   "source": [
    "inv(transpose(A)*A)*transpose(A)"
   ]
  },
  {
   "cell_type": "code",
   "execution_count": 4,
   "metadata": {},
   "outputs": [
    {
     "data": {
      "text/plain": [
       "3×10 Matrix{Float64}:\n",
       " -0.0779796   0.252686   0.278513   …   0.048904   0.247107  -0.285658\n",
       " -0.173666    0.169076  -0.220234      -0.136349   0.557947   0.43217\n",
       "  0.42859    -0.341613  -0.0670326      0.260415  -0.474348   0.137832"
      ]
     },
     "execution_count": 4,
     "metadata": {},
     "output_type": "execute_result"
    }
   ],
   "source": [
    "pinv(A)"
   ]
  },
  {
   "cell_type": "markdown",
   "metadata": {},
   "source": [
    "calculamos la pseudo-inversa mediante la función pinv, lo cual nos permite comprobar que aunque $A$ no es una matriz cuadrada, la seudoinversa actua de la misma forma que la inversa.  "
   ]
  },
  {
   "cell_type": "code",
   "execution_count": 5,
   "metadata": {},
   "outputs": [
    {
     "data": {
      "text/plain": [
       "true"
      ]
     },
     "execution_count": 5,
     "metadata": {},
     "output_type": "execute_result"
    }
   ],
   "source": [
    "pinv(A)*A ≈ Diagonal(ones(3))"
   ]
  },
  {
   "cell_type": "code",
   "execution_count": 12,
   "metadata": {},
   "outputs": [
    {
     "data": {
      "text/plain": [
       "3×3 Matrix{Float64}:\n",
       "  1.0          2.19117e-16   2.22045e-16\n",
       " -2.77556e-16  1.0          -3.33067e-16\n",
       "  5.55112e-17  1.66533e-16   1.0"
      ]
     },
     "metadata": {},
     "output_type": "display_data"
    }
   ],
   "source": [
    "pinv(A)*A"
   ]
  },
  {
   "cell_type": "code",
   "execution_count": 6,
   "metadata": {},
   "outputs": [
    {
     "data": {
      "text/plain": [
       "3.0687874430069915"
      ]
     },
     "execution_count": 6,
     "metadata": {},
     "output_type": "execute_result"
    }
   ],
   "source": [
    "norm(A)"
   ]
  },
  {
   "cell_type": "code",
   "execution_count": 7,
   "metadata": {},
   "outputs": [
    {
     "data": {
      "text/plain": [
       "3.068787443006991"
      ]
     },
     "execution_count": 7,
     "metadata": {},
     "output_type": "execute_result"
    }
   ],
   "source": [
    "sqrt(sum([a^2 for a in A]))"
   ]
  },
  {
   "cell_type": "code",
   "execution_count": 8,
   "metadata": {},
   "outputs": [
    {
     "data": {
      "text/plain": [
       "1.9214379987645172"
      ]
     },
     "execution_count": 8,
     "metadata": {},
     "output_type": "execute_result"
    }
   ],
   "source": [
    "sqrt(sum([a^2 for a in pinv(A)]))"
   ]
  },
  {
   "cell_type": "markdown",
   "metadata": {},
   "source": [
    "Ahora podemos calcular el numero de condicionamiento $cond(A)=||A||\\times ||A^{\\dagger}|| $, donde $||\\cdot||$ es la norma de la matriz no cuadrada."
   ]
  },
  {
   "cell_type": "code",
   "execution_count": 9,
   "metadata": {},
   "outputs": [
    {
     "data": {
      "text/plain": [
       "5.896484803125033"
      ]
     },
     "execution_count": 9,
     "metadata": {},
     "output_type": "execute_result"
    }
   ],
   "source": [
    "norm(A)*norm(pinv(A))"
   ]
  },
  {
   "cell_type": "markdown",
   "metadata": {},
   "source": [
    "# 2) Ejercicios \n",
    "\n",
    "2.1) Resolver el siguiente sistema de ecuaciones lineales usando el método de minimos cuadrados: $\\boldsymbol{A}\\boldsymbol{x}=\\boldsymbol{y}$. Verifique el rango, condicionamiento y existencia de la pseudo-inversa.\n",
    "\n",
    "$\\boldsymbol{A}=\\begin{bmatrix} 2 & 4 & 2\\\\\n",
    "                                1 & 1 & 3\\\\\n",
    "                                4 & 2 & 2\\\\\n",
    "                                2 & 5 & 3\\\\\n",
    "                                2 & 1 & 1\\\\\n",
    "                \\end{bmatrix}$, \n",
    "$\\boldsymbol{y}=\\begin{bmatrix} 82\\\\\n",
    "                                38\\\\\n",
    "                                118\\\\\n",
    "                                91\\\\\n",
    "                                59\\\\\n",
    "                \\end{bmatrix}$\n",
    "\n",
    "2.2)Use un sistema de ecuaciones para predecir el rendimiento academico de un estudiante.\n",
    "\n",
    "El Student Performance Dataset es un conjunto de datos diseñado para examinar los factores que influyen en el rendimiento académico de los estudiantes. El conjunto de datos consta de 10.000 registros de estudiantes, cada uno de los cuales contiene información sobre varios predictores y un índice de rendimiento.\n",
    "Variables:\n",
    "\n",
    "    Horas estudiadas: El número total de horas dedicadas al estudio por cada estudiante.\n",
    "    Puntuaciones anteriores: Las puntuaciones obtenidas por los alumnos en pruebas anteriores.\n",
    "    Actividades Extraescolares: Si el alumno participa en actividades extraescolares (Sí o No).\n",
    "    Horas de sueño: El número medio de horas de sueño diarias del alumno.\n",
    "    Cuestionarios de muestra practicados: Número de cuestionarios de muestra que ha practicado el alumno.\n",
    "\n",
    "Variable objetivo:\n",
    "\n",
    "    Índice de rendimiento: Medida del rendimiento global de cada alumno. El índice de rendimiento representa el rendimiento académico del alumno y se ha redondeado al número entero más próximo. El índice oscila entre 10 y 100, y los valores más altos indican un mejor rendimiento.\n",
    "\n",
    "https://www.kaggle.com/datasets/nikhil7280/student-performance-multiple-linear-regression\n",
    "\n",
    "Determine el vector $x$ que permite predecir el indice de rendimiento como $Ax=\\hat y$.\n",
    "\n",
    "Determine la norma del error $||\\hat y -y||$"
   ]
  },
  {
   "cell_type": "code",
   "execution_count": 51,
   "metadata": {},
   "outputs": [
    {
     "data": {
      "text/plain": [
       "download_student_performance (generic function with 1 method)"
      ]
     },
     "execution_count": 51,
     "metadata": {},
     "output_type": "execute_result"
    }
   ],
   "source": [
    "using DataFrames\n",
    "using CSV\n",
    "using Downloads\n",
    "\n",
    "function download_student_performance()\n",
    "    url = \"https://docs.google.com/spreadsheets/d/e/2PACX-1vQXFL6W1kPhgcR2Zp9djMiOM7_Wx0g-LxScjBRQ78CW9eIdG-FhWuKk0FSZ97kWa1T8JrgoozAZfKJ9/pub?gid=863000121&single=true&output=csv\"\n",
    "    return DataFrame(CSV.File(Downloads.download(url); missingstring = \"?\"))\n",
    "end"
   ]
  },
  {
   "cell_type": "code",
   "execution_count": 52,
   "metadata": {},
   "outputs": [],
   "source": [
    "data=download_student_performance();"
   ]
  },
  {
   "cell_type": "code",
   "execution_count": 63,
   "metadata": {},
   "outputs": [
    {
     "data": {
      "text/html": [
       "<div><div style = \"float: left;\"><span>6×6 DataFrame</span></div><div style = \"clear: both;\"></div></div><div class = \"data-frame\" style = \"overflow-x: scroll;\"><table class = \"data-frame\" style = \"margin-bottom: 6px;\"><thead><tr class = \"header\"><th class = \"rowNumber\" style = \"font-weight: bold; text-align: right;\">Row</th><th style = \"text-align: left;\">Hours Studied</th><th style = \"text-align: left;\">Previous Scores</th><th style = \"text-align: left;\">Extracurricular Activities</th><th style = \"text-align: left;\">Sleep Hours</th><th style = \"text-align: left;\">Sample Question Papers Practiced</th><th style = \"text-align: left;\">Performance Index</th></tr><tr class = \"subheader headerLastRow\"><th class = \"rowNumber\" style = \"font-weight: bold; text-align: right;\"></th><th title = \"Int64\" style = \"text-align: left;\">Int64</th><th title = \"Int64\" style = \"text-align: left;\">Int64</th><th title = \"String3\" style = \"text-align: left;\">String3</th><th title = \"Int64\" style = \"text-align: left;\">Int64</th><th title = \"Int64\" style = \"text-align: left;\">Int64</th><th title = \"Float64\" style = \"text-align: left;\">Float64</th></tr></thead><tbody><tr><td class = \"rowNumber\" style = \"font-weight: bold; text-align: right;\">1</td><td style = \"text-align: right;\">7</td><td style = \"text-align: right;\">99</td><td style = \"text-align: left;\">Yes</td><td style = \"text-align: right;\">9</td><td style = \"text-align: right;\">1</td><td style = \"text-align: right;\">91.0</td></tr><tr><td class = \"rowNumber\" style = \"font-weight: bold; text-align: right;\">2</td><td style = \"text-align: right;\">4</td><td style = \"text-align: right;\">82</td><td style = \"text-align: left;\">No</td><td style = \"text-align: right;\">4</td><td style = \"text-align: right;\">2</td><td style = \"text-align: right;\">65.0</td></tr><tr><td class = \"rowNumber\" style = \"font-weight: bold; text-align: right;\">3</td><td style = \"text-align: right;\">8</td><td style = \"text-align: right;\">51</td><td style = \"text-align: left;\">Yes</td><td style = \"text-align: right;\">7</td><td style = \"text-align: right;\">2</td><td style = \"text-align: right;\">45.0</td></tr><tr><td class = \"rowNumber\" style = \"font-weight: bold; text-align: right;\">4</td><td style = \"text-align: right;\">5</td><td style = \"text-align: right;\">52</td><td style = \"text-align: left;\">Yes</td><td style = \"text-align: right;\">5</td><td style = \"text-align: right;\">2</td><td style = \"text-align: right;\">36.0</td></tr><tr><td class = \"rowNumber\" style = \"font-weight: bold; text-align: right;\">5</td><td style = \"text-align: right;\">7</td><td style = \"text-align: right;\">75</td><td style = \"text-align: left;\">No</td><td style = \"text-align: right;\">8</td><td style = \"text-align: right;\">5</td><td style = \"text-align: right;\">66.0</td></tr><tr><td class = \"rowNumber\" style = \"font-weight: bold; text-align: right;\">6</td><td style = \"text-align: right;\">3</td><td style = \"text-align: right;\">78</td><td style = \"text-align: left;\">No</td><td style = \"text-align: right;\">9</td><td style = \"text-align: right;\">6</td><td style = \"text-align: right;\">61.0</td></tr></tbody></table></div>"
      ],
      "text/latex": [
       "\\begin{tabular}{r|cccccc}\n",
       "\t& Hours Studied & Previous Scores & Extracurricular Activities & Sleep Hours & Sample Question Papers Practiced & \\\\\n",
       "\t\\hline\n",
       "\t& Int64 & Int64 & String3 & Int64 & Int64 & \\\\\n",
       "\t\\hline\n",
       "\t1 & 7 & 99 & Yes & 9 & 1 & $\\dots$ \\\\\n",
       "\t2 & 4 & 82 & No & 4 & 2 & $\\dots$ \\\\\n",
       "\t3 & 8 & 51 & Yes & 7 & 2 & $\\dots$ \\\\\n",
       "\t4 & 5 & 52 & Yes & 5 & 2 & $\\dots$ \\\\\n",
       "\t5 & 7 & 75 & No & 8 & 5 & $\\dots$ \\\\\n",
       "\t6 & 3 & 78 & No & 9 & 6 & $\\dots$ \\\\\n",
       "\\end{tabular}\n"
      ],
      "text/plain": [
       "\u001b[1m6×6 DataFrame\u001b[0m\n",
       "\u001b[1m Row \u001b[0m│\u001b[1m Hours Studied \u001b[0m\u001b[1m Previous Scores \u001b[0m\u001b[1m Extracurricular Activities \u001b[0m\u001b[1m Sleep Hours\u001b[0m ⋯\n",
       "     │\u001b[90m Int64         \u001b[0m\u001b[90m Int64           \u001b[0m\u001b[90m String3                    \u001b[0m\u001b[90m Int64      \u001b[0m ⋯\n",
       "─────┼──────────────────────────────────────────────────────────────────────────\n",
       "   1 │             7               99  Yes                                   9 ⋯\n",
       "   2 │             4               82  No                                    4\n",
       "   3 │             8               51  Yes                                   7\n",
       "   4 │             5               52  Yes                                   5\n",
       "   5 │             7               75  No                                    8 ⋯\n",
       "   6 │             3               78  No                                    9\n",
       "\u001b[36m                                                               2 columns omitted\u001b[0m"
      ]
     },
     "execution_count": 63,
     "metadata": {},
     "output_type": "execute_result"
    }
   ],
   "source": [
    "first(data,6)"
   ]
  },
  {
   "cell_type": "code",
   "execution_count": 66,
   "metadata": {},
   "outputs": [],
   "source": [
    "y=data[!, :6];\n",
    "A=Matrix(data[!, [:1,:2,:4,:5]]);"
   ]
  },
  {
   "cell_type": "code",
   "execution_count": 69,
   "metadata": {},
   "outputs": [
    {
     "data": {
      "text/plain": [
       "4-element Vector{Float64}:\n",
       "  2.183305459371776\n",
       "  0.813312265300873\n",
       " -1.5309461954148416\n",
       " -0.27664167566531933"
      ]
     },
     "execution_count": 69,
     "metadata": {},
     "output_type": "execute_result"
    }
   ],
   "source": [
    "x=pinv(A)*y"
   ]
  },
  {
   "cell_type": "code",
   "execution_count": 73,
   "metadata": {},
   "outputs": [
    {
     "data": {
      "text/plain": [
       "586.0035323473597"
      ]
     },
     "execution_count": 73,
     "metadata": {},
     "output_type": "execute_result"
    }
   ],
   "source": [
    "norm(A*x-y,2)"
   ]
  },
  {
   "cell_type": "code",
   "execution_count": null,
   "metadata": {},
   "outputs": [],
   "source": []
  }
 ],
 "metadata": {
  "kernelspec": {
   "display_name": "Julia 1.10.4",
   "language": "julia",
   "name": "julia-1.10"
  },
  "language_info": {
   "file_extension": ".jl",
   "mimetype": "application/julia",
   "name": "julia",
   "version": "1.10.4"
  },
  "vscode": {
   "interpreter": {
    "hash": "2ac3d5d3a4336f34c662130573d1ea696fb4dfcbf6baf7c9925b84262e1f6ae2"
   }
  }
 },
 "nbformat": 4,
 "nbformat_minor": 2
}
