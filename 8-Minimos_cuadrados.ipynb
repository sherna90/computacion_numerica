{
 "cells": [
  {
   "cell_type": "markdown",
   "metadata": {},
   "source": [
    "# Minimos Cuadrados\n",
    "\n",
    "Supongamos que se necesita resolver un sistema de ecuaciones $\\boldsymbol{A}\\boldsymbol{x}=\\boldsymbol{y}$ sobre-determinado.\n",
    "\n",
    "En este caso, contamos con mayor numero de ecuaciones que inconitas. Por lo tanto, la matriz $\\boldsymbol{A}$ no es cuadrada y por consiguiente, tiene $m$ filas y $n$ columnas para $m>n$.\n",
    "\n",
    "En vez de resolver el sistema de ecuaciones $\\boldsymbol{A}\\boldsymbol{x}=\\boldsymbol{y}$, trataremos de encontrar una aproximación por mínimos cuadrados:\n",
    "\n",
    "$\\operatorname{min} \\frac{1}{2}|\\boldsymbol{A}\\boldsymbol{x}-\\boldsymbol{y}|^2$.\n",
    "\n",
    "Ahora, tenemos que comprobar que $\\boldsymbol{A}$ es de rango $n$ y por lo tanto, existen tantas ecuaciones linealmente independientes como incógnitas y por lo tanto existe una solución \n"
   ]
  },
  {
   "cell_type": "markdown",
   "metadata": {},
   "source": [
    "## Solución de Mínimos Cuadrados\n",
    "\n",
    "Si el rango de $\\boldsymbol{A}$ es $n$, entonces la matriz $\\boldsymbol{A}^T \\boldsymbol{A}$ es una matriz $n\\times n$ cuya inversa existe.\n",
    "\n",
    "Por lo tanto, la solución del problema está dada por:\n",
    "\n",
    "$\\boldsymbol{x}=(\\boldsymbol{A}^T \\boldsymbol{A})^{-1}\\boldsymbol{A}^T\\boldsymbol{y}$\n",
    "\n",
    "En este caso, la matriz $\\boldsymbol{A}^{\\dagger}=(\\boldsymbol{A}^T \\boldsymbol{A})^{-1}\\boldsymbol{A}^T$ es la pseudo-inversa de $\\boldsymbol{A}$, ya que $\\boldsymbol{A}^{\\dagger}\\boldsymbol{A}=I$"
   ]
  },
  {
   "cell_type": "code",
   "execution_count": 1,
   "metadata": {},
   "outputs": [
    {
     "data": {
      "text/plain": [
       "10×3 Matrix{Float64}:\n",
       " 0.071208  0.863571  0.221761\n",
       " 0.523812  0.572305  0.498935\n",
       " 0.178145  0.204695  0.026689\n",
       " 0.441131  0.614137  0.793414\n",
       " 0.992092  0.150187  0.0790369\n",
       " 0.530195  0.139028  0.536149\n",
       " 0.240656  0.619062  0.634121\n",
       " 0.590255  0.403523  0.728893\n",
       " 0.559656  0.192165  0.534428\n",
       " 0.150307  0.742962  0.188794"
      ]
     },
     "metadata": {},
     "output_type": "display_data"
    }
   ],
   "source": [
    "using LinearAlgebra;\n",
    "\n",
    "A=rand(Float64, (10, 3))"
   ]
  },
  {
   "cell_type": "code",
   "execution_count": 2,
   "metadata": {},
   "outputs": [
    {
     "name": "stdout",
     "output_type": "stream",
     "text": [
      "El rango de la matriz A es 3"
     ]
    }
   ],
   "source": [
    "print(\"El rango de la matriz A es \",rank(A))"
   ]
  },
  {
   "cell_type": "code",
   "execution_count": 5,
   "metadata": {},
   "outputs": [
    {
     "data": {
      "text/plain": [
       "3×10 Matrix{Float64}:\n",
       " -0.0768591   0.138258    0.155303  …   0.0235557   0.135691   0.0203998\n",
       "  0.634644    0.163746    0.174468     -0.167338   -0.215727   0.549873\n",
       " -0.360212   -0.0361784  -0.248562      0.410358    0.284393  -0.380356"
      ]
     },
     "metadata": {},
     "output_type": "display_data"
    }
   ],
   "source": [
    "inv(transpose(A)*A)*transpose(A)"
   ]
  },
  {
   "cell_type": "code",
   "execution_count": 6,
   "metadata": {},
   "outputs": [
    {
     "data": {
      "text/plain": [
       "3×10 Matrix{Float64}:\n",
       " -0.0768591   0.138258    0.155303  …   0.0235557   0.135691   0.0203998\n",
       "  0.634644    0.163746    0.174468     -0.167338   -0.215727   0.549873\n",
       " -0.360212   -0.0361784  -0.248562      0.410358    0.284393  -0.380356"
      ]
     },
     "metadata": {},
     "output_type": "display_data"
    }
   ],
   "source": [
    "pinv(A)"
   ]
  },
  {
   "cell_type": "markdown",
   "metadata": {},
   "source": [
    "calculamos la pseudo-inversa mediante la función pinv, lo cual nos permite comprobar que aunque $A$ no es una matriz cuadrada, la seudoinversa actua de la misma forma que la inversa.  "
   ]
  },
  {
   "cell_type": "code",
   "execution_count": 7,
   "metadata": {},
   "outputs": [
    {
     "data": {
      "text/plain": [
       "true"
      ]
     },
     "metadata": {},
     "output_type": "display_data"
    }
   ],
   "source": [
    "pinv(A)*A ≈ Diagonal(ones(3))"
   ]
  },
  {
   "cell_type": "code",
   "execution_count": 9,
   "metadata": {},
   "outputs": [
    {
     "data": {
      "text/plain": [
       "3×3 Matrix{Float64}:\n",
       "  1.0          -2.98372e-16  -2.22478e-16\n",
       " -4.71845e-16   1.0           0.0\n",
       "  4.44089e-16   2.22045e-16   1.0"
      ]
     },
     "metadata": {},
     "output_type": "display_data"
    }
   ],
   "source": [
    "pinv(A)*A"
   ]
  },
  {
   "cell_type": "markdown",
   "metadata": {},
   "source": [
    "Ahora podemos calcular el numero de condicionamiento $cond(A)=||A||\\times ||A^{\\dagger}|| $, donde $||\\cdot||$ es la norma de la matriz no cuadrada."
   ]
  },
  {
   "cell_type": "code",
   "execution_count": 10,
   "metadata": {},
   "outputs": [
    {
     "data": {
      "text/plain": [
       "5.16454350084032"
      ]
     },
     "metadata": {},
     "output_type": "display_data"
    }
   ],
   "source": [
    "norm(A)*norm(pinv(A))"
   ]
  },
  {
   "cell_type": "markdown",
   "metadata": {},
   "source": [
    "# 2) Ejercicios \n",
    "\n",
    "2.1) Resolver el siguiente sistema de ecuaciones lineales usando el método de minimos cuadrados: $\\boldsymbol{A}\\boldsymbol{x}=\\boldsymbol{y}$. Verifique el rango, condicionamiento y existencia de la pseudo-inversa.\n",
    "\n",
    "$\\boldsymbol{A}=\\begin{bmatrix} 2 & 4 & 2\\\\\n",
    "                                1 & 1 & 3\\\\\n",
    "                                4 & 2 & 2\\\\\n",
    "                                2 & 5 & 3\\\\\n",
    "                                2 & 1 & 1\\\\\n",
    "                \\end{bmatrix}$, \n",
    "$\\boldsymbol{y}=\\begin{bmatrix} 82\\\\\n",
    "                                38\\\\\n",
    "                                118\\\\\n",
    "                                91\\\\\n",
    "                                59\\\\\n",
    "                \\end{bmatrix}$\n",
    "\n",
    "2.2)Use un sistema de ecuaciones para predecir el consumo de gasolina de un vehiculo dependiendo del peso, desplazamiento, caballos de fuerza y aceleración de este. Descargue los datos desde :\n",
    "\n",
    "https://archive.ics.uci.edu/ml/datasets/auto+mpg"
   ]
  },
  {
   "cell_type": "code",
   "execution_count": 32,
   "metadata": {},
   "outputs": [
    {
     "data": {
      "text/plain": [
       "\"/var/folders/wd/0sm_658d23ldnfyfjn6y4s6m0000gn/T/jl_lz7J9J\""
      ]
     },
     "metadata": {},
     "output_type": "display_data"
    }
   ],
   "source": [
    "file=Downloads.download(\"https://archive.ics.uci.edu/ml/machine-learning-databases/auto-mpg/auto-mpg.data\")"
   ]
  }
 ],
 "metadata": {
  "kernelspec": {
   "display_name": "Julia 1.7.3",
   "language": "julia",
   "name": "julia-1.7"
  },
  "language_info": {
   "file_extension": ".jl",
   "mimetype": "application/julia",
   "name": "julia",
   "version": "1.7.3"
  },
  "orig_nbformat": 4,
  "vscode": {
   "interpreter": {
    "hash": "2ac3d5d3a4336f34c662130573d1ea696fb4dfcbf6baf7c9925b84262e1f6ae2"
   }
  }
 },
 "nbformat": 4,
 "nbformat_minor": 2
}
