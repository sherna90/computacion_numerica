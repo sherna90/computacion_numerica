{
 "cells": [
  {
   "cell_type": "markdown",
   "metadata": {},
   "source": [
    "# Julia is fast\n",
    "\n",
    "Very often, benchmarks are used to compare languages.  These benchmarks can lead to long discussions, first as to exactly what is being benchmarked and secondly what explains the differences.  These simple questions can sometimes get more complicated than you at first might imagine.\n",
    "\n",
    "The purpose of this notebook is for you to see a simple benchmark for yourself.  One can read the notebook and see what happened on the author's Macbook Pro with a 4-core Intel Core I7, or run the notebook yourself.\n",
    "\n",
    "(This material began life as a wonderful lecture by Steven Johnson at MIT: https://github.com/stevengj/18S096/blob/master/lectures/lecture1/Boxes-and-registers.ipynb.)"
   ]
  },
  {
   "cell_type": "markdown",
   "metadata": {},
   "source": [
    "# Outline of this notebook\n",
    "\n",
    "- Define the sum function\n",
    "- Implementations & benchmarking of sum in...\n",
    "    - C (hand-written)\n",
    "    - C (hand-written with -ffast-math)\n",
    "    - python (built-in)\n",
    "    - python (numpy)\n",
    "    - python (hand-written)\n",
    "    - Julia (built-in)\n",
    "    - Julia (hand-written)\n",
    "    - Julia (hand-written with SIMD)\n",
    "- Summary of benchmarks"
   ]
  },
  {
   "cell_type": "markdown",
   "metadata": {},
   "source": [
    "# `sum`: An easy enough function to understand"
   ]
  },
  {
   "cell_type": "markdown",
   "metadata": {},
   "source": [
    "Consider the  **sum** function `sum(a)`, which computes\n",
    "$$\n",
    "\\mathrm{sum}(a) = \\sum_{i=1}^n a_i,\n",
    "$$\n",
    "where $n$ is the length of `a`."
   ]
  },
  {
   "cell_type": "code",
   "execution_count": 1,
   "metadata": {
    "scrolled": false
   },
   "outputs": [
    {
     "data": {
      "text/plain": [
       "10000000-element Vector{Float64}:\n",
       " 0.7512051157390965\n",
       " 0.777095844689599\n",
       " 0.39251540540108976\n",
       " 0.06867788682747411\n",
       " 0.05163473422497378\n",
       " 0.21904912676058075\n",
       " 0.000628549628893027\n",
       " 0.21944650700790946\n",
       " 0.6520517847741011\n",
       " 0.5410686064609375\n",
       " ⋮\n",
       " 0.9526123191411638\n",
       " 0.17509418358658901\n",
       " 0.9523198786075686\n",
       " 0.8239991991536394\n",
       " 0.5217138855576461\n",
       " 0.794115016326136\n",
       " 0.5833266962132663\n",
       " 0.7886703518195843\n",
       " 0.24102285044284655"
      ]
     },
     "metadata": {},
     "output_type": "display_data"
    }
   ],
   "source": [
    "a = rand(10^7) # 1D vector of random numbers, uniform on [0,1)"
   ]
  },
  {
   "cell_type": "code",
   "execution_count": 2,
   "metadata": {},
   "outputs": [
    {
     "data": {
      "text/plain": [
       "4.998920238773081e6"
      ]
     },
     "metadata": {},
     "output_type": "display_data"
    }
   ],
   "source": [
    "sum(a)"
   ]
  },
  {
   "cell_type": "markdown",
   "metadata": {},
   "source": [
    "The expected result is 0.5 * 10^7, since the mean of each entry is 0.5"
   ]
  },
  {
   "cell_type": "markdown",
   "metadata": {},
   "source": [
    "# Benchmarking a few ways in a few languages"
   ]
  },
  {
   "cell_type": "code",
   "execution_count": 3,
   "metadata": {},
   "outputs": [
    {
     "name": "stdout",
     "output_type": "stream",
     "text": [
      "  0.002177 seconds (1 allocation: 16 bytes)\n"
     ]
    },
    {
     "data": {
      "text/plain": [
       "4.998920238773081e6"
      ]
     },
     "metadata": {},
     "output_type": "display_data"
    }
   ],
   "source": [
    "@time sum(a)"
   ]
  },
  {
   "cell_type": "code",
   "execution_count": 5,
   "metadata": {},
   "outputs": [
    {
     "name": "stdout",
     "output_type": "stream",
     "text": [
      "  0.002298 seconds (1 allocation: 16 bytes)\n"
     ]
    },
    {
     "data": {
      "text/plain": [
       "4.998920238773081e6"
      ]
     },
     "metadata": {},
     "output_type": "display_data"
    }
   ],
   "source": [
    "@time sum(a)"
   ]
  },
  {
   "cell_type": "code",
   "execution_count": 6,
   "metadata": {},
   "outputs": [
    {
     "name": "stdout",
     "output_type": "stream",
     "text": [
      "  0.002355 seconds (1 allocation: 16 bytes)\n"
     ]
    },
    {
     "data": {
      "text/plain": [
       "4.998920238773081e6"
      ]
     },
     "metadata": {},
     "output_type": "display_data"
    }
   ],
   "source": [
    "@time sum(a)"
   ]
  },
  {
   "cell_type": "markdown",
   "metadata": {},
   "source": [
    "The `@time` macro can yield noisy results, so it's not our best choice for benchmarking!\n",
    "\n",
    "Luckily, Julia has a `BenchmarkTools.jl` package to make benchmarking easy and accurate:"
   ]
  },
  {
   "cell_type": "code",
   "execution_count": 7,
   "metadata": {},
   "outputs": [
    {
     "name": "stderr",
     "output_type": "stream",
     "text": [
      "\u001b[32m\u001b[1m    Updating\u001b[22m\u001b[39m registry at `~/.julia/registries/General.toml`\n"
     ]
    },
    {
     "name": "stderr",
     "output_type": "stream",
     "text": [
      "\u001b[32m\u001b[1m   Resolving\u001b[22m\u001b[39m package versions...\n"
     ]
    },
    {
     "name": "stderr",
     "output_type": "stream",
     "text": [
      "\u001b[32m\u001b[1m  No Changes\u001b[22m\u001b[39m to `~/.julia/environments/v1.9/Project.toml`\n",
      "\u001b[32m\u001b[1m  No Changes\u001b[22m\u001b[39m to `~/.julia/environments/v1.9/Manifest.toml`\n"
     ]
    }
   ],
   "source": [
    " using Pkg\n",
    " Pkg.add(\"BenchmarkTools\")"
   ]
  },
  {
   "cell_type": "code",
   "execution_count": 8,
   "metadata": {
    "scrolled": false
   },
   "outputs": [],
   "source": [
    "using BenchmarkTools  "
   ]
  },
  {
   "cell_type": "code",
   "execution_count": 9,
   "metadata": {},
   "outputs": [
    {
     "data": {
      "text/plain": [
       "10000000"
      ]
     },
     "metadata": {},
     "output_type": "display_data"
    }
   ],
   "source": [
    "length(a)"
   ]
  },
  {
   "cell_type": "markdown",
   "metadata": {},
   "source": [
    "#  1. The C language\n",
    "\n",
    "C is often considered the gold standard: difficult on the human, nice for the machine. Getting within a factor of 2 of C is often satisfying. Nonetheless, even within C, there are many kinds of optimizations possible that a naive C writer may or may not get the advantage of.\n",
    "\n",
    "The current author does not speak C, so he does not read the cell below, but is happy to know that you can put C code in a Julia session, compile it, and run it. Note that the `\"\"\"` wrap a multi-line string."
   ]
  },
  {
   "cell_type": "code",
   "execution_count": 10,
   "metadata": {
    "scrolled": false
   },
   "outputs": [
    {
     "data": {
      "text/plain": [
       "c_sum (generic function with 1 method)"
      ]
     },
     "metadata": {},
     "output_type": "display_data"
    }
   ],
   "source": [
    "using Libdl\n",
    "C_code = \"\"\"\n",
    "#include <stddef.h>\n",
    "double c_sum(size_t n, double *X) {\n",
    "    double s = 0.0;\n",
    "    for (size_t i = 0; i < n; ++i) {\n",
    "        s += X[i];\n",
    "    }\n",
    "    return s;\n",
    "}\n",
    "\"\"\"\n",
    "\n",
    "const Clib = tempname()   # make a temporary file\n",
    "\n",
    "\n",
    "# compile to a shared library by piping C_code to gcc\n",
    "# (works only if you have gcc installed):\n",
    "\n",
    "open(`gcc -fPIC -O3 -msse3 -xc -shared -o $(Clib * \".\" * Libdl.dlext) -`, \"w\") do f\n",
    "    print(f, C_code) \n",
    "end\n",
    "\n",
    "# define a Julia function that calls the C function:\n",
    "c_sum(X::Array{Float64}) = ccall((\"c_sum\", Clib), Float64, (Csize_t, Ptr{Float64}), length(X), X)"
   ]
  },
  {
   "cell_type": "code",
   "execution_count": 11,
   "metadata": {
    "scrolled": false
   },
   "outputs": [
    {
     "data": {
      "text/plain": [
       "4.998920238773247e6"
      ]
     },
     "metadata": {},
     "output_type": "display_data"
    }
   ],
   "source": [
    "c_sum(a)"
   ]
  },
  {
   "cell_type": "code",
   "execution_count": 13,
   "metadata": {},
   "outputs": [
    {
     "data": {
      "text/plain": [
       "1.6577541828155518e-7"
      ]
     },
     "metadata": {},
     "output_type": "display_data"
    }
   ],
   "source": [
    "abs(c_sum(a) - sum(a))"
   ]
  },
  {
   "cell_type": "code",
   "execution_count": 15,
   "metadata": {
    "scrolled": false
   },
   "outputs": [
    {
     "data": {
      "text/plain": [
       "true"
      ]
     },
     "metadata": {},
     "output_type": "display_data"
    }
   ],
   "source": [
    "c_sum(a) ≈ sum(a) # type \\approx and then <TAB> to get the ≈ symbolb"
   ]
  },
  {
   "cell_type": "code",
   "execution_count": 16,
   "metadata": {},
   "outputs": [
    {
     "data": {
      "text/plain": [
       "1.6577541828155518e-7"
      ]
     },
     "metadata": {},
     "output_type": "display_data"
    }
   ],
   "source": [
    "c_sum(a) - sum(a)  "
   ]
  },
  {
   "cell_type": "code",
   "execution_count": 17,
   "metadata": {
    "scrolled": true
   },
   "outputs": [
    {
     "data": {
      "text/plain": [
       "isapprox (generic function with 9 methods)"
      ]
     },
     "metadata": {},
     "output_type": "display_data"
    }
   ],
   "source": [
    "≈  # alias for the `isapprox` function"
   ]
  },
  {
   "cell_type": "markdown",
   "metadata": {},
   "source": [
    "We can now benchmark the C code directly from Julia:"
   ]
  },
  {
   "cell_type": "code",
   "execution_count": 18,
   "metadata": {
    "scrolled": false
   },
   "outputs": [
    {
     "data": {
      "text/plain": [
       "BenchmarkTools.Trial: 528 samples with 1 evaluation.\n",
       " Range \u001b[90m(\u001b[39m\u001b[36m\u001b[1mmin\u001b[22m\u001b[39m … \u001b[35mmax\u001b[39m\u001b[90m):  \u001b[39m\u001b[36m\u001b[1m9.386 ms\u001b[22m\u001b[39m … \u001b[35m 9.674 ms\u001b[39m  \u001b[90m┊\u001b[39m GC \u001b[90m(\u001b[39mmin … max\u001b[90m): \u001b[39m0.00% … 0.00%\n",
       " Time  \u001b[90m(\u001b[39m\u001b[34m\u001b[1mmedian\u001b[22m\u001b[39m\u001b[90m):     \u001b[39m\u001b[34m\u001b[1m9.466 ms              \u001b[22m\u001b[39m\u001b[90m┊\u001b[39m GC \u001b[90m(\u001b[39mmedian\u001b[90m):    \u001b[39m0.00%\n",
       " Time  \u001b[90m(\u001b[39m\u001b[32m\u001b[1mmean\u001b[22m\u001b[39m ± \u001b[32mσ\u001b[39m\u001b[90m):   \u001b[39m\u001b[32m\u001b[1m9.469 ms\u001b[22m\u001b[39m ± \u001b[32m43.175 μs\u001b[39m  \u001b[90m┊\u001b[39m GC \u001b[90m(\u001b[39mmean ± σ\u001b[90m):  \u001b[39m0.00% ± 0.00%\n",
       "\n",
       "  \u001b[39m \u001b[39m \u001b[39m \u001b[39m \u001b[39m \u001b[39m \u001b[39m \u001b[39m▂\u001b[39m \u001b[39m▁\u001b[39m▁\u001b[39m▂\u001b[39m▄\u001b[39m▄\u001b[39m▁\u001b[39m▅\u001b[39m▆\u001b[39m▇\u001b[39m▅\u001b[39m▃\u001b[39m▃\u001b[39m▂\u001b[39m▃\u001b[34m▃\u001b[39m\u001b[32m█\u001b[39m\u001b[39m▄\u001b[39m▇\u001b[39m \u001b[39m▃\u001b[39m▄\u001b[39m \u001b[39m▄\u001b[39m▃\u001b[39m▄\u001b[39m \u001b[39m \u001b[39m \u001b[39m▁\u001b[39m \u001b[39m \u001b[39m \u001b[39m \u001b[39m \u001b[39m \u001b[39m \u001b[39m \u001b[39m \u001b[39m \u001b[39m \u001b[39m \u001b[39m \u001b[39m \u001b[39m \u001b[39m \u001b[39m \u001b[39m \u001b[39m \u001b[39m \u001b[39m \u001b[39m \n",
       "  \u001b[39m▄\u001b[39m▃\u001b[39m▆\u001b[39m▅\u001b[39m▆\u001b[39m▃\u001b[39m▆\u001b[39m█\u001b[39m▆\u001b[39m█\u001b[39m█\u001b[39m█\u001b[39m█\u001b[39m█\u001b[39m█\u001b[39m█\u001b[39m█\u001b[39m█\u001b[39m█\u001b[39m█\u001b[39m█\u001b[39m█\u001b[39m█\u001b[34m█\u001b[39m\u001b[32m█\u001b[39m\u001b[39m█\u001b[39m█\u001b[39m▇\u001b[39m█\u001b[39m█\u001b[39m▆\u001b[39m█\u001b[39m█\u001b[39m█\u001b[39m▇\u001b[39m▇\u001b[39m▇\u001b[39m█\u001b[39m▅\u001b[39m▃\u001b[39m▄\u001b[39m▇\u001b[39m▅\u001b[39m▄\u001b[39m▁\u001b[39m▆\u001b[39m▅\u001b[39m▄\u001b[39m▃\u001b[39m▃\u001b[39m▃\u001b[39m▃\u001b[39m▃\u001b[39m▃\u001b[39m▃\u001b[39m▃\u001b[39m▃\u001b[39m▃\u001b[39m \u001b[39m▅\n",
       "  9.39 ms\u001b[90m        Histogram: frequency by time\u001b[39m        9.59 ms \u001b[0m\u001b[1m<\u001b[22m\n",
       "\n",
       " Memory estimate\u001b[90m: \u001b[39m\u001b[33m0 bytes\u001b[39m, allocs estimate\u001b[90m: \u001b[39m\u001b[33m0\u001b[39m."
      ]
     },
     "metadata": {},
     "output_type": "display_data"
    }
   ],
   "source": [
    "c_bench = @benchmark c_sum($a)"
   ]
  },
  {
   "cell_type": "code",
   "execution_count": 19,
   "metadata": {
    "scrolled": false
   },
   "outputs": [
    {
     "name": "stdout",
     "output_type": "stream",
     "text": [
      "C: Fastest time was 9.385667 msec\n"
     ]
    }
   ],
   "source": [
    "println(\"C: Fastest time was $(minimum(c_bench.times) / 1e6) msec\")"
   ]
  },
  {
   "cell_type": "code",
   "execution_count": 20,
   "metadata": {
    "scrolled": true
   },
   "outputs": [
    {
     "data": {
      "text/plain": [
       "Dict{Any, Any} with 1 entry:\n",
       "  \"C\" => 9.38567"
      ]
     },
     "metadata": {},
     "output_type": "display_data"
    }
   ],
   "source": [
    "d = Dict()  # a \"dictionary\", i.e. an associative array\n",
    "d[\"C\"] = minimum(c_bench.times) / 1e6  # in milliseconds\n",
    "d"
   ]
  },
  {
   "cell_type": "code",
   "execution_count": 21,
   "metadata": {
    "scrolled": true
   },
   "outputs": [
    {
     "data": {
      "text/plain": [
       "Plots.GRBackend()"
      ]
     },
     "metadata": {},
     "output_type": "display_data"
    }
   ],
   "source": [
    "using Plots\n",
    "gr()"
   ]
  },
  {
   "cell_type": "code",
   "execution_count": 22,
   "metadata": {},
   "outputs": [
    {
     "data": {
      "image/png": "[encoded data removed]",
      "image/svg+xml": [
       "<?xml version=\"1.0\" encoding=\"utf-8\"?>\n",
       "<svg xmlns=\"http://www.w3.org/2000/svg\" xmlns:xlink=\"http://www.w3.org/1999/xlink\" width=\"600\" height=\"400\" viewBox=\"0 0 2400 1600\">\n",
       "<defs>\n",
       "  <clipPath id=\"clip590\">\n",
       "    <rect x=\"0\" y=\"0\" width=\"2400\" height=\"1600\"/>\n",
       "  </clipPath>\n",
       "</defs>\n",
       "<path clip-path=\"url(#clip590)\" d=\"M0 1600 L2400 1600 L2400 0 L0 0  Z\" fill=\"#ffffff\" fill-rule=\"evenodd\" fill-opacity=\"1\"/>\n",
       "<defs>\n",
       "  <clipPath id=\"clip591\">\n",
       "    <rect x=\"480\" y=\"0\" width=\"1681\" height=\"1600\"/>\n",
       "  </clipPath>\n",
       "</defs>\n",
       "<path clip-path=\"url(#clip590)\" d=\"M174.149 1423.18 L2352.76 1423.18 L2352.76 47.2441 L174.149 47.2441  Z\" fill=\"#ffffff\" fill-rule=\"evenodd\" fill-opacity=\"1\"/>\n",
       "<defs>\n",
       "  <clipPath id=\"clip592\">\n",
       "    <rect x=\"174\" y=\"47\" width=\"2180\" height=\"1377\"/>\n",
       "  </clipPath>\n",
       "</defs>\n",
       "<polyline clip-path=\"url(#clip592)\" style=\"stroke:#000000; stroke-linecap:round; stroke-linejoin:round; stroke-width:2; stroke-opacity:0.1; fill:none\" points=\"351.673,1423.18 351.673,47.2441 \"/>\n",
       "<polyline clip-path=\"url(#clip592)\" style=\"stroke:#000000; stroke-linecap:round; stroke-linejoin:round; stroke-width:2; stroke-opacity:0.1; fill:none\" points=\"761.374,1423.18 761.374,47.2441 \"/>\n",
       "<polyline clip-path=\"url(#clip592)\" style=\"stroke:#000000; stroke-linecap:round; stroke-linejoin:round; stroke-width:2; stroke-opacity:0.1; fill:none\" points=\"1171.08,1423.18 1171.08,47.2441 \"/>\n",
       "<polyline clip-path=\"url(#clip592)\" style=\"stroke:#000000; stroke-linecap:round; stroke-linejoin:round; stroke-width:2; stroke-opacity:0.1; fill:none\" points=\"1580.78,1423.18 1580.78,47.2441 \"/>\n",
       "<polyline clip-path=\"url(#clip592)\" style=\"stroke:#000000; stroke-linecap:round; stroke-linejoin:round; stroke-width:2; stroke-opacity:0.1; fill:none\" points=\"1990.48,1423.18 1990.48,47.2441 \"/>\n",
       "<polyline clip-path=\"url(#clip590)\" style=\"stroke:#000000; stroke-linecap:round; stroke-linejoin:round; stroke-width:4; stroke-opacity:1; fill:none\" points=\"174.149,1423.18 2352.76,1423.18 \"/>\n",
       "<polyline clip-path=\"url(#clip590)\" style=\"stroke:#000000; stroke-linecap:round; stroke-linejoin:round; stroke-width:4; stroke-opacity:1; fill:none\" points=\"351.673,1423.18 351.673,1404.28 \"/>\n",
       "<polyline clip-path=\"url(#clip590)\" style=\"stroke:#000000; stroke-linecap:round; stroke-linejoin:round; stroke-width:4; stroke-opacity:1; fill:none\" points=\"761.374,1423.18 761.374,1404.28 \"/>\n",
       "<polyline clip-path=\"url(#clip590)\" style=\"stroke:#000000; stroke-linecap:round; stroke-linejoin:round; stroke-width:4; stroke-opacity:1; fill:none\" points=\"1171.08,1423.18 1171.08,1404.28 \"/>\n",
       "<polyline clip-path=\"url(#clip590)\" style=\"stroke:#000000; stroke-linecap:round; stroke-linejoin:round; stroke-width:4; stroke-opacity:1; fill:none\" points=\"1580.78,1423.18 1580.78,1404.28 \"/>\n",
       "<polyline clip-path=\"url(#clip590)\" style=\"stroke:#000000; stroke-linecap:round; stroke-linejoin:round; stroke-width:4; stroke-opacity:1; fill:none\" points=\"1990.48,1423.18 1990.48,1404.28 \"/>\n",
       "<path clip-path=\"url(#clip590)\" d=\"M304.231 1484.86 L304.231 1480.6 Q305.99 1481.44 307.796 1481.88 Q309.601 1482.32 311.337 1482.32 Q315.967 1482.32 318.397 1479.21 Q320.851 1476.09 321.198 1469.75 Q319.856 1471.74 317.796 1472.8 Q315.735 1473.87 313.235 1473.87 Q308.05 1473.87 305.018 1470.74 Q302.009 1467.59 302.009 1462.15 Q302.009 1456.83 305.157 1453.61 Q308.305 1450.39 313.536 1450.39 Q319.532 1450.39 322.68 1455 Q325.851 1459.58 325.851 1468.33 Q325.851 1476.51 321.962 1481.39 Q318.096 1486.25 311.546 1486.25 Q309.786 1486.25 307.981 1485.9 Q306.175 1485.56 304.231 1484.86 M313.536 1470.21 Q316.684 1470.21 318.513 1468.06 Q320.365 1465.9 320.365 1462.15 Q320.365 1458.43 318.513 1456.27 Q316.684 1454.1 313.536 1454.1 Q310.388 1454.1 308.536 1456.27 Q306.708 1458.43 306.708 1462.15 Q306.708 1465.9 308.536 1468.06 Q310.388 1470.21 313.536 1470.21 Z\" fill=\"#000000\" fill-rule=\"nonzero\" fill-opacity=\"1\" /><path clip-path=\"url(#clip590)\" d=\"M334.254 1479.7 L339.138 1479.7 L339.138 1485.58 L334.254 1485.58 L334.254 1479.7 Z\" fill=\"#000000\" fill-rule=\"nonzero\" fill-opacity=\"1\" /><path clip-path=\"url(#clip590)\" d=\"M363.49 1466.95 Q366.846 1467.66 368.721 1469.93 Q370.619 1472.2 370.619 1475.53 Q370.619 1480.65 367.101 1483.45 Q363.582 1486.25 357.101 1486.25 Q354.925 1486.25 352.61 1485.81 Q350.319 1485.39 347.865 1484.54 L347.865 1480.02 Q349.809 1481.16 352.124 1481.74 Q354.439 1482.32 356.962 1482.32 Q361.36 1482.32 363.652 1480.58 Q365.967 1478.84 365.967 1475.53 Q365.967 1472.48 363.814 1470.77 Q361.684 1469.03 357.865 1469.03 L353.837 1469.03 L353.837 1465.19 L358.05 1465.19 Q361.499 1465.19 363.328 1463.82 Q365.156 1462.43 365.156 1459.84 Q365.156 1457.18 363.258 1455.77 Q361.383 1454.33 357.865 1454.33 Q355.943 1454.33 353.744 1454.75 Q351.545 1455.16 348.906 1456.04 L348.906 1451.88 Q351.569 1451.14 353.883 1450.77 Q356.221 1450.39 358.281 1450.39 Q363.605 1450.39 366.707 1452.83 Q369.809 1455.23 369.809 1459.35 Q369.809 1462.22 368.166 1464.21 Q366.522 1466.18 363.49 1466.95 Z\" fill=\"#000000\" fill-rule=\"nonzero\" fill-opacity=\"1\" /><path clip-path=\"url(#clip590)\" d=\"M389.485 1469.17 Q386.152 1469.17 384.23 1470.95 Q382.332 1472.73 382.332 1475.86 Q382.332 1478.98 384.23 1480.77 Q386.152 1482.55 389.485 1482.55 Q392.818 1482.55 394.74 1480.77 Q396.661 1478.96 396.661 1475.86 Q396.661 1472.73 394.74 1470.95 Q392.841 1469.17 389.485 1469.17 M384.809 1467.18 Q381.8 1466.44 380.11 1464.38 Q378.443 1462.32 378.443 1459.35 Q378.443 1455.21 381.383 1452.8 Q384.346 1450.39 389.485 1450.39 Q394.647 1450.39 397.587 1452.8 Q400.527 1455.21 400.527 1459.35 Q400.527 1462.32 398.837 1464.38 Q397.17 1466.44 394.184 1467.18 Q397.564 1467.96 399.439 1470.26 Q401.337 1472.55 401.337 1475.86 Q401.337 1480.88 398.258 1483.57 Q395.203 1486.25 389.485 1486.25 Q383.767 1486.25 380.689 1483.57 Q377.633 1480.88 377.633 1475.86 Q377.633 1472.55 379.531 1470.26 Q381.429 1467.96 384.809 1467.18 M383.096 1459.79 Q383.096 1462.48 384.763 1463.98 Q386.453 1465.49 389.485 1465.49 Q392.494 1465.49 394.184 1463.98 Q395.897 1462.48 395.897 1459.79 Q395.897 1457.11 394.184 1455.6 Q392.494 1454.1 389.485 1454.1 Q386.453 1454.1 384.763 1455.6 Q383.096 1457.11 383.096 1459.79 Z\" fill=\"#000000\" fill-rule=\"nonzero\" fill-opacity=\"1\" /><path clip-path=\"url(#clip590)\" d=\"M713.979 1484.86 L713.979 1480.6 Q715.738 1481.44 717.544 1481.88 Q719.349 1482.32 721.085 1482.32 Q725.715 1482.32 728.145 1479.21 Q730.599 1476.09 730.946 1469.75 Q729.604 1471.74 727.544 1472.8 Q725.483 1473.87 722.983 1473.87 Q717.798 1473.87 714.766 1470.74 Q711.757 1467.59 711.757 1462.15 Q711.757 1456.83 714.905 1453.61 Q718.053 1450.39 723.284 1450.39 Q729.28 1450.39 732.428 1455 Q735.599 1459.58 735.599 1468.33 Q735.599 1476.51 731.71 1481.39 Q727.844 1486.25 721.294 1486.25 Q719.534 1486.25 717.729 1485.9 Q715.923 1485.56 713.979 1484.86 M723.284 1470.21 Q726.432 1470.21 728.261 1468.06 Q730.113 1465.9 730.113 1462.15 Q730.113 1458.43 728.261 1456.27 Q726.432 1454.1 723.284 1454.1 Q720.136 1454.1 718.284 1456.27 Q716.456 1458.43 716.456 1462.15 Q716.456 1465.9 718.284 1468.06 Q720.136 1470.21 723.284 1470.21 Z\" fill=\"#000000\" fill-rule=\"nonzero\" fill-opacity=\"1\" /><path clip-path=\"url(#clip590)\" d=\"M744.002 1479.7 L748.886 1479.7 L748.886 1485.58 L744.002 1485.58 L744.002 1479.7 Z\" fill=\"#000000\" fill-rule=\"nonzero\" fill-opacity=\"1\" /><path clip-path=\"url(#clip590)\" d=\"M773.238 1466.95 Q776.594 1467.66 778.469 1469.93 Q780.367 1472.2 780.367 1475.53 Q780.367 1480.65 776.849 1483.45 Q773.33 1486.25 766.849 1486.25 Q764.673 1486.25 762.358 1485.81 Q760.067 1485.39 757.613 1484.54 L757.613 1480.02 Q759.557 1481.16 761.872 1481.74 Q764.187 1482.32 766.71 1482.32 Q771.108 1482.32 773.4 1480.58 Q775.715 1478.84 775.715 1475.53 Q775.715 1472.48 773.562 1470.77 Q771.432 1469.03 767.613 1469.03 L763.585 1469.03 L763.585 1465.19 L767.798 1465.19 Q771.247 1465.19 773.076 1463.82 Q774.904 1462.43 774.904 1459.84 Q774.904 1457.18 773.006 1455.77 Q771.131 1454.33 767.613 1454.33 Q765.692 1454.33 763.492 1454.75 Q761.293 1455.16 758.655 1456.04 L758.655 1451.88 Q761.317 1451.14 763.631 1450.77 Q765.969 1450.39 768.029 1450.39 Q773.354 1450.39 776.455 1452.83 Q779.557 1455.23 779.557 1459.35 Q779.557 1462.22 777.914 1464.21 Q776.27 1466.18 773.238 1466.95 Z\" fill=\"#000000\" fill-rule=\"nonzero\" fill-opacity=\"1\" /><path clip-path=\"url(#clip590)\" d=\"M789.372 1484.86 L789.372 1480.6 Q791.131 1481.44 792.937 1481.88 Q794.742 1482.32 796.478 1482.32 Q801.108 1482.32 803.539 1479.21 Q805.992 1476.09 806.339 1469.75 Q804.997 1471.74 802.937 1472.8 Q800.877 1473.87 798.377 1473.87 Q793.191 1473.87 790.159 1470.74 Q787.15 1467.59 787.15 1462.15 Q787.15 1456.83 790.298 1453.61 Q793.446 1450.39 798.677 1450.39 Q804.673 1450.39 807.821 1455 Q810.992 1459.58 810.992 1468.33 Q810.992 1476.51 807.103 1481.39 Q803.238 1486.25 796.687 1486.25 Q794.927 1486.25 793.122 1485.9 Q791.316 1485.56 789.372 1484.86 M798.677 1470.21 Q801.826 1470.21 803.654 1468.06 Q805.506 1465.9 805.506 1462.15 Q805.506 1458.43 803.654 1456.27 Q801.826 1454.1 798.677 1454.1 Q795.529 1454.1 793.677 1456.27 Q791.849 1458.43 791.849 1462.15 Q791.849 1465.9 793.677 1468.06 Q795.529 1470.21 798.677 1470.21 Z\" fill=\"#000000\" fill-rule=\"nonzero\" fill-opacity=\"1\" /><path clip-path=\"url(#clip590)\" d=\"M1123.59 1484.86 L1123.59 1480.6 Q1125.35 1481.44 1127.15 1481.88 Q1128.96 1482.32 1130.69 1482.32 Q1135.32 1482.32 1137.75 1479.21 Q1140.21 1476.09 1140.56 1469.75 Q1139.21 1471.74 1137.15 1472.8 Q1135.09 1473.87 1132.59 1473.87 Q1127.41 1473.87 1124.38 1470.74 Q1121.37 1467.59 1121.37 1462.15 Q1121.37 1456.83 1124.51 1453.61 Q1127.66 1450.39 1132.89 1450.39 Q1138.89 1450.39 1142.04 1455 Q1145.21 1459.58 1145.21 1468.33 Q1145.21 1476.51 1141.32 1481.39 Q1137.45 1486.25 1130.9 1486.25 Q1129.14 1486.25 1127.34 1485.9 Q1125.53 1485.56 1123.59 1484.86 M1132.89 1470.21 Q1136.04 1470.21 1137.87 1468.06 Q1139.72 1465.9 1139.72 1462.15 Q1139.72 1458.43 1137.87 1456.27 Q1136.04 1454.1 1132.89 1454.1 Q1129.75 1454.1 1127.89 1456.27 Q1126.06 1458.43 1126.06 1462.15 Q1126.06 1465.9 1127.89 1468.06 Q1129.75 1470.21 1132.89 1470.21 Z\" fill=\"#000000\" fill-rule=\"nonzero\" fill-opacity=\"1\" /><path clip-path=\"url(#clip590)\" d=\"M1153.61 1479.7 L1158.5 1479.7 L1158.5 1485.58 L1153.61 1485.58 L1153.61 1479.7 Z\" fill=\"#000000\" fill-rule=\"nonzero\" fill-opacity=\"1\" /><path clip-path=\"url(#clip590)\" d=\"M1181.53 1455.09 L1169.72 1473.54 L1181.53 1473.54 L1181.53 1455.09 M1180.3 1451.02 L1186.18 1451.02 L1186.18 1473.54 L1191.11 1473.54 L1191.11 1477.43 L1186.18 1477.43 L1186.18 1485.58 L1181.53 1485.58 L1181.53 1477.43 L1165.93 1477.43 L1165.93 1472.92 L1180.3 1451.02 Z\" fill=\"#000000\" fill-rule=\"nonzero\" fill-opacity=\"1\" /><path clip-path=\"url(#clip590)\" d=\"M1208.84 1454.1 Q1205.23 1454.1 1203.4 1457.66 Q1201.6 1461.2 1201.6 1468.33 Q1201.6 1475.44 1203.4 1479.01 Q1205.23 1482.55 1208.84 1482.55 Q1212.48 1482.55 1214.28 1479.01 Q1216.11 1475.44 1216.11 1468.33 Q1216.11 1461.2 1214.28 1457.66 Q1212.48 1454.1 1208.84 1454.1 M1208.84 1450.39 Q1214.65 1450.39 1217.71 1455 Q1220.79 1459.58 1220.79 1468.33 Q1220.79 1477.06 1217.71 1481.67 Q1214.65 1486.25 1208.84 1486.25 Q1203.03 1486.25 1199.95 1481.67 Q1196.9 1477.06 1196.9 1468.33 Q1196.9 1459.58 1199.95 1455 Q1203.03 1450.39 1208.84 1450.39 Z\" fill=\"#000000\" fill-rule=\"nonzero\" fill-opacity=\"1\" /><path clip-path=\"url(#clip590)\" d=\"M1533.9 1484.86 L1533.9 1480.6 Q1535.66 1481.44 1537.47 1481.88 Q1539.27 1482.32 1541.01 1482.32 Q1545.64 1482.32 1548.07 1479.21 Q1550.52 1476.09 1550.87 1469.75 Q1549.53 1471.74 1547.47 1472.8 Q1545.41 1473.87 1542.91 1473.87 Q1537.72 1473.87 1534.69 1470.74 Q1531.68 1467.59 1531.68 1462.15 Q1531.68 1456.83 1534.83 1453.61 Q1537.98 1450.39 1543.21 1450.39 Q1549.2 1450.39 1552.35 1455 Q1555.52 1459.58 1555.52 1468.33 Q1555.52 1476.51 1551.63 1481.39 Q1547.77 1486.25 1541.22 1486.25 Q1539.46 1486.25 1537.65 1485.9 Q1535.85 1485.56 1533.9 1484.86 M1543.21 1470.21 Q1546.36 1470.21 1548.19 1468.06 Q1550.04 1465.9 1550.04 1462.15 Q1550.04 1458.43 1548.19 1456.27 Q1546.36 1454.1 1543.21 1454.1 Q1540.06 1454.1 1538.21 1456.27 Q1536.38 1458.43 1536.38 1462.15 Q1536.38 1465.9 1538.21 1468.06 Q1540.06 1470.21 1543.21 1470.21 Z\" fill=\"#000000\" fill-rule=\"nonzero\" fill-opacity=\"1\" /><path clip-path=\"url(#clip590)\" d=\"M1563.93 1479.7 L1568.81 1479.7 L1568.81 1485.58 L1563.93 1485.58 L1563.93 1479.7 Z\" fill=\"#000000\" fill-rule=\"nonzero\" fill-opacity=\"1\" /><path clip-path=\"url(#clip590)\" d=\"M1591.84 1455.09 L1580.04 1473.54 L1591.84 1473.54 L1591.84 1455.09 M1590.62 1451.02 L1596.5 1451.02 L1596.5 1473.54 L1601.43 1473.54 L1601.43 1477.43 L1596.5 1477.43 L1596.5 1485.58 L1591.84 1485.58 L1591.84 1477.43 L1576.24 1477.43 L1576.24 1472.92 L1590.62 1451.02 Z\" fill=\"#000000\" fill-rule=\"nonzero\" fill-opacity=\"1\" /><path clip-path=\"url(#clip590)\" d=\"M1609.97 1481.64 L1617.61 1481.64 L1617.61 1455.28 L1609.3 1456.95 L1609.3 1452.69 L1617.56 1451.02 L1622.24 1451.02 L1622.24 1481.64 L1629.87 1481.64 L1629.87 1485.58 L1609.97 1485.58 L1609.97 1481.64 Z\" fill=\"#000000\" fill-rule=\"nonzero\" fill-opacity=\"1\" /><path clip-path=\"url(#clip590)\" d=\"M1943.79 1484.86 L1943.79 1480.6 Q1945.55 1481.44 1947.35 1481.88 Q1949.16 1482.32 1950.9 1482.32 Q1955.53 1482.32 1957.96 1479.21 Q1960.41 1476.09 1960.76 1469.75 Q1959.41 1471.74 1957.35 1472.8 Q1955.29 1473.87 1952.79 1473.87 Q1947.61 1473.87 1944.58 1470.74 Q1941.57 1467.59 1941.57 1462.15 Q1941.57 1456.83 1944.72 1453.61 Q1947.86 1450.39 1953.1 1450.39 Q1959.09 1450.39 1962.24 1455 Q1965.41 1459.58 1965.41 1468.33 Q1965.41 1476.51 1961.52 1481.39 Q1957.66 1486.25 1951.1 1486.25 Q1949.35 1486.25 1947.54 1485.9 Q1945.73 1485.56 1943.79 1484.86 M1953.1 1470.21 Q1956.24 1470.21 1958.07 1468.06 Q1959.92 1465.9 1959.92 1462.15 Q1959.92 1458.43 1958.07 1456.27 Q1956.24 1454.1 1953.1 1454.1 Q1949.95 1454.1 1948.1 1456.27 Q1946.27 1458.43 1946.27 1462.15 Q1946.27 1465.9 1948.1 1468.06 Q1949.95 1470.21 1953.1 1470.21 Z\" fill=\"#000000\" fill-rule=\"nonzero\" fill-opacity=\"1\" /><path clip-path=\"url(#clip590)\" d=\"M1973.81 1479.7 L1978.7 1479.7 L1978.7 1485.58 L1973.81 1485.58 L1973.81 1479.7 Z\" fill=\"#000000\" fill-rule=\"nonzero\" fill-opacity=\"1\" /><path clip-path=\"url(#clip590)\" d=\"M2001.73 1455.09 L1989.92 1473.54 L2001.73 1473.54 L2001.73 1455.09 M2000.5 1451.02 L2006.38 1451.02 L2006.38 1473.54 L2011.31 1473.54 L2011.31 1477.43 L2006.38 1477.43 L2006.38 1485.58 L2001.73 1485.58 L2001.73 1477.43 L1986.13 1477.43 L1986.13 1472.92 L2000.5 1451.02 Z\" fill=\"#000000\" fill-rule=\"nonzero\" fill-opacity=\"1\" /><path clip-path=\"url(#clip590)\" d=\"M2023.07 1481.64 L2039.39 1481.64 L2039.39 1485.58 L2017.45 1485.58 L2017.45 1481.64 Q2020.11 1478.89 2024.69 1474.26 Q2029.3 1469.61 2030.48 1468.27 Q2032.72 1465.74 2033.6 1464.01 Q2034.51 1462.25 2034.51 1460.56 Q2034.51 1457.8 2032.56 1456.07 Q2030.64 1454.33 2027.54 1454.33 Q2025.34 1454.33 2022.89 1455.09 Q2020.46 1455.86 2017.68 1457.41 L2017.68 1452.69 Q2020.5 1451.55 2022.96 1450.97 Q2025.41 1450.39 2027.45 1450.39 Q2032.82 1450.39 2036.01 1453.08 Q2039.21 1455.77 2039.21 1460.26 Q2039.21 1462.39 2038.4 1464.31 Q2037.61 1466.2 2035.5 1468.8 Q2034.92 1469.47 2031.82 1472.69 Q2028.72 1475.88 2023.07 1481.64 Z\" fill=\"#000000\" fill-rule=\"nonzero\" fill-opacity=\"1\" /><path clip-path=\"url(#clip590)\" d=\"M1094.79 1539.24 Q1096.99 1535.29 1100.04 1533.41 Q1103.1 1531.54 1107.24 1531.54 Q1112.81 1531.54 1115.83 1535.45 Q1118.86 1539.33 1118.86 1546.53 L1118.86 1568.04 L1112.97 1568.04 L1112.97 1546.72 Q1112.97 1541.59 1111.15 1539.11 Q1109.34 1536.63 1105.61 1536.63 Q1101.06 1536.63 1098.42 1539.65 Q1095.78 1542.68 1095.78 1547.9 L1095.78 1568.04 L1089.89 1568.04 L1089.89 1546.72 Q1089.89 1541.56 1088.08 1539.11 Q1086.26 1536.63 1082.48 1536.63 Q1077.99 1536.63 1075.35 1539.68 Q1072.7 1542.71 1072.7 1547.9 L1072.7 1568.04 L1066.82 1568.04 L1066.82 1532.4 L1072.7 1532.4 L1072.7 1537.93 Q1074.71 1534.66 1077.51 1533.1 Q1080.31 1531.54 1084.16 1531.54 Q1088.05 1531.54 1090.75 1533.51 Q1093.49 1535.48 1094.79 1539.24 Z\" fill=\"#000000\" fill-rule=\"nonzero\" fill-opacity=\"1\" /><path clip-path=\"url(#clip590)\" d=\"M1130.54 1532.4 L1136.39 1532.4 L1136.39 1568.04 L1130.54 1568.04 L1130.54 1532.4 M1130.54 1518.52 L1136.39 1518.52 L1136.39 1525.93 L1130.54 1525.93 L1130.54 1518.52 Z\" fill=\"#000000\" fill-rule=\"nonzero\" fill-opacity=\"1\" /><path clip-path=\"url(#clip590)\" d=\"M1148.65 1518.52 L1154.5 1518.52 L1154.5 1568.04 L1148.65 1568.04 L1148.65 1518.52 Z\" fill=\"#000000\" fill-rule=\"nonzero\" fill-opacity=\"1\" /><path clip-path=\"url(#clip590)\" d=\"M1166.76 1518.52 L1172.61 1518.52 L1172.61 1568.04 L1166.76 1568.04 L1166.76 1518.52 Z\" fill=\"#000000\" fill-rule=\"nonzero\" fill-opacity=\"1\" /><path clip-path=\"url(#clip590)\" d=\"M1184.87 1532.4 L1190.72 1532.4 L1190.72 1568.04 L1184.87 1568.04 L1184.87 1532.4 M1184.87 1518.52 L1190.72 1518.52 L1190.72 1525.93 L1184.87 1525.93 L1184.87 1518.52 Z\" fill=\"#000000\" fill-rule=\"nonzero\" fill-opacity=\"1\" /><path clip-path=\"url(#clip590)\" d=\"M1225.7 1533.45 L1225.7 1538.98 Q1223.22 1537.71 1220.55 1537.07 Q1217.87 1536.44 1215.01 1536.44 Q1210.65 1536.44 1208.45 1537.77 Q1206.29 1539.11 1206.29 1541.79 Q1206.29 1543.82 1207.85 1545 Q1209.41 1546.15 1214.12 1547.2 L1216.12 1547.64 Q1222.36 1548.98 1224.97 1551.43 Q1227.61 1553.85 1227.61 1558.21 Q1227.61 1563.17 1223.67 1566.07 Q1219.75 1568.97 1212.88 1568.97 Q1210.01 1568.97 1206.89 1568.39 Q1203.81 1567.85 1200.37 1566.74 L1200.37 1560.69 Q1203.61 1562.38 1206.77 1563.24 Q1209.92 1564.07 1213 1564.07 Q1217.14 1564.07 1219.37 1562.66 Q1221.6 1561.23 1221.6 1558.65 Q1221.6 1556.27 1219.97 1554.99 Q1218.38 1553.72 1212.94 1552.54 L1210.9 1552.07 Q1205.46 1550.92 1203.04 1548.56 Q1200.62 1546.18 1200.62 1542.04 Q1200.62 1537.01 1204.19 1534.27 Q1207.75 1531.54 1214.31 1531.54 Q1217.56 1531.54 1220.42 1532.01 Q1223.28 1532.49 1225.7 1533.45 Z\" fill=\"#000000\" fill-rule=\"nonzero\" fill-opacity=\"1\" /><path clip-path=\"url(#clip590)\" d=\"M1267.43 1548.76 L1267.43 1551.62 L1240.5 1551.62 Q1240.89 1557.67 1244.13 1560.85 Q1247.41 1564 1253.24 1564 Q1256.61 1564 1259.76 1563.17 Q1262.94 1562.35 1266.06 1560.69 L1266.06 1566.23 Q1262.91 1567.57 1259.6 1568.27 Q1256.29 1568.97 1252.89 1568.97 Q1244.36 1568.97 1239.36 1564 Q1234.39 1559.04 1234.39 1550.57 Q1234.39 1541.82 1239.1 1536.69 Q1243.85 1531.54 1251.87 1531.54 Q1259.06 1531.54 1263.23 1536.18 Q1267.43 1540.8 1267.43 1548.76 M1261.57 1547.04 Q1261.51 1542.23 1258.87 1539.37 Q1256.26 1536.5 1251.93 1536.5 Q1247.03 1536.5 1244.07 1539.27 Q1241.14 1542.04 1240.7 1547.07 L1261.57 1547.04 Z\" fill=\"#000000\" fill-rule=\"nonzero\" fill-opacity=\"1\" /><path clip-path=\"url(#clip590)\" d=\"M1302.7 1533.76 L1302.7 1539.24 Q1300.21 1537.87 1297.7 1537.2 Q1295.22 1536.5 1292.67 1536.5 Q1286.97 1536.5 1283.82 1540.13 Q1280.67 1543.73 1280.67 1550.25 Q1280.67 1556.78 1283.82 1560.4 Q1286.97 1564 1292.67 1564 Q1295.22 1564 1297.7 1563.33 Q1300.21 1562.63 1302.7 1561.26 L1302.7 1566.68 Q1300.25 1567.82 1297.6 1568.39 Q1294.99 1568.97 1292.03 1568.97 Q1283.98 1568.97 1279.24 1563.91 Q1274.5 1558.85 1274.5 1550.25 Q1274.5 1541.53 1279.27 1536.53 Q1284.08 1531.54 1292.42 1531.54 Q1295.12 1531.54 1297.7 1532.11 Q1300.28 1532.65 1302.7 1533.76 Z\" fill=\"#000000\" fill-rule=\"nonzero\" fill-opacity=\"1\" /><path clip-path=\"url(#clip590)\" d=\"M1326.7 1536.5 Q1321.99 1536.5 1319.25 1540.19 Q1316.51 1543.85 1316.51 1550.25 Q1316.51 1556.65 1319.22 1560.34 Q1321.95 1564 1326.7 1564 Q1331.37 1564 1334.11 1560.31 Q1336.85 1556.62 1336.85 1550.25 Q1336.85 1543.92 1334.11 1540.23 Q1331.37 1536.5 1326.7 1536.5 M1326.7 1531.54 Q1334.33 1531.54 1338.7 1536.5 Q1343.06 1541.47 1343.06 1550.25 Q1343.06 1559 1338.7 1564 Q1334.33 1568.97 1326.7 1568.97 Q1319.03 1568.97 1314.66 1564 Q1310.34 1559 1310.34 1550.25 Q1310.34 1541.47 1314.66 1536.5 Q1319.03 1531.54 1326.7 1531.54 Z\" fill=\"#000000\" fill-rule=\"nonzero\" fill-opacity=\"1\" /><path clip-path=\"url(#clip590)\" d=\"M1382.4 1546.53 L1382.4 1568.04 L1376.54 1568.04 L1376.54 1546.72 Q1376.54 1541.66 1374.57 1539.14 Q1372.59 1536.63 1368.65 1536.63 Q1363.9 1536.63 1361.17 1539.65 Q1358.43 1542.68 1358.43 1547.9 L1358.43 1568.04 L1352.54 1568.04 L1352.54 1532.4 L1358.43 1532.4 L1358.43 1537.93 Q1360.53 1534.72 1363.36 1533.13 Q1366.23 1531.54 1369.95 1531.54 Q1376.09 1531.54 1379.24 1535.36 Q1382.4 1539.14 1382.4 1546.53 Z\" fill=\"#000000\" fill-rule=\"nonzero\" fill-opacity=\"1\" /><path clip-path=\"url(#clip590)\" d=\"M1417.53 1537.81 L1417.53 1518.52 L1423.39 1518.52 L1423.39 1568.04 L1417.53 1568.04 L1417.53 1562.7 Q1415.69 1565.88 1412.86 1567.44 Q1410.05 1568.97 1406.11 1568.97 Q1399.65 1568.97 1395.57 1563.81 Q1391.53 1558.65 1391.53 1550.25 Q1391.53 1541.85 1395.57 1536.69 Q1399.65 1531.54 1406.11 1531.54 Q1410.05 1531.54 1412.86 1533.1 Q1415.69 1534.62 1417.53 1537.81 M1397.58 1550.25 Q1397.58 1556.71 1400.22 1560.4 Q1402.89 1564.07 1407.54 1564.07 Q1412.19 1564.07 1414.86 1560.4 Q1417.53 1556.71 1417.53 1550.25 Q1417.53 1543.79 1414.86 1540.13 Q1412.19 1536.44 1407.54 1536.44 Q1402.89 1536.44 1400.22 1540.13 Q1397.58 1543.79 1397.58 1550.25 Z\" fill=\"#000000\" fill-rule=\"nonzero\" fill-opacity=\"1\" /><path clip-path=\"url(#clip590)\" d=\"M1458.18 1533.45 L1458.18 1538.98 Q1455.7 1537.71 1453.02 1537.07 Q1450.35 1536.44 1447.48 1536.44 Q1443.12 1536.44 1440.93 1537.77 Q1438.76 1539.11 1438.76 1541.79 Q1438.76 1543.82 1440.32 1545 Q1441.88 1546.15 1446.59 1547.2 L1448.6 1547.64 Q1454.84 1548.98 1457.45 1551.43 Q1460.09 1553.85 1460.09 1558.21 Q1460.09 1563.17 1456.14 1566.07 Q1452.23 1568.97 1445.35 1568.97 Q1442.49 1568.97 1439.37 1568.39 Q1436.28 1567.85 1432.84 1566.74 L1432.84 1560.69 Q1436.09 1562.38 1439.24 1563.24 Q1442.39 1564.07 1445.48 1564.07 Q1449.62 1564.07 1451.85 1562.66 Q1454.07 1561.23 1454.07 1558.65 Q1454.07 1556.27 1452.45 1554.99 Q1450.86 1553.72 1445.42 1552.54 L1443.38 1552.07 Q1437.94 1550.92 1435.52 1548.56 Q1433.1 1546.18 1433.1 1542.04 Q1433.1 1537.01 1436.66 1534.27 Q1440.23 1531.54 1446.78 1531.54 Q1450.03 1531.54 1452.9 1532.01 Q1455.76 1532.49 1458.18 1533.45 Z\" fill=\"#000000\" fill-rule=\"nonzero\" fill-opacity=\"1\" /><polyline clip-path=\"url(#clip592)\" style=\"stroke:#000000; stroke-linecap:round; stroke-linejoin:round; stroke-width:2; stroke-opacity:0.1; fill:none\" points=\"174.149,1423.18 2352.76,1423.18 \"/>\n",
       "<polyline clip-path=\"url(#clip592)\" style=\"stroke:#000000; stroke-linecap:round; stroke-linejoin:round; stroke-width:2; stroke-opacity:0.1; fill:none\" points=\"174.149,964.535 2352.76,964.535 \"/>\n",
       "<polyline clip-path=\"url(#clip592)\" style=\"stroke:#000000; stroke-linecap:round; stroke-linejoin:round; stroke-width:2; stroke-opacity:0.1; fill:none\" points=\"174.149,505.889 2352.76,505.889 \"/>\n",
       "<polyline clip-path=\"url(#clip592)\" style=\"stroke:#000000; stroke-linecap:round; stroke-linejoin:round; stroke-width:2; stroke-opacity:0.1; fill:none\" points=\"174.149,47.2441 2352.76,47.2441 \"/>\n",
       "<polyline clip-path=\"url(#clip590)\" style=\"stroke:#000000; stroke-linecap:round; stroke-linejoin:round; stroke-width:4; stroke-opacity:1; fill:none\" points=\"174.149,1423.18 174.149,47.2441 \"/>\n",
       "<polyline clip-path=\"url(#clip590)\" style=\"stroke:#000000; stroke-linecap:round; stroke-linejoin:round; stroke-width:4; stroke-opacity:1; fill:none\" points=\"174.149,1423.18 193.047,1423.18 \"/>\n",
       "<polyline clip-path=\"url(#clip590)\" style=\"stroke:#000000; stroke-linecap:round; stroke-linejoin:round; stroke-width:4; stroke-opacity:1; fill:none\" points=\"174.149,964.535 193.047,964.535 \"/>\n",
       "<polyline clip-path=\"url(#clip590)\" style=\"stroke:#000000; stroke-linecap:round; stroke-linejoin:round; stroke-width:4; stroke-opacity:1; fill:none\" points=\"174.149,505.889 193.047,505.889 \"/>\n",
       "<polyline clip-path=\"url(#clip590)\" style=\"stroke:#000000; stroke-linecap:round; stroke-linejoin:round; stroke-width:4; stroke-opacity:1; fill:none\" points=\"174.149,47.2441 193.047,47.2441 \"/>\n",
       "<path clip-path=\"url(#clip590)\" d=\"M126.205 1408.98 Q122.593 1408.98 120.765 1412.54 Q118.959 1416.08 118.959 1423.21 Q118.959 1430.32 120.765 1433.89 Q122.593 1437.43 126.205 1437.43 Q129.839 1437.43 131.644 1433.89 Q133.473 1430.32 133.473 1423.21 Q133.473 1416.08 131.644 1412.54 Q129.839 1408.98 126.205 1408.98 M126.205 1405.27 Q132.015 1405.27 135.07 1409.88 Q138.149 1414.46 138.149 1423.21 Q138.149 1431.94 135.07 1436.55 Q132.015 1441.13 126.205 1441.13 Q120.394 1441.13 117.316 1436.55 Q114.26 1431.94 114.26 1423.21 Q114.26 1414.46 117.316 1409.88 Q120.394 1405.27 126.205 1405.27 Z\" fill=\"#000000\" fill-rule=\"nonzero\" fill-opacity=\"1\" /><path clip-path=\"url(#clip590)\" d=\"M131.019 963.18 Q134.376 963.898 136.251 966.167 Q138.149 968.435 138.149 971.768 Q138.149 976.884 134.63 979.685 Q131.112 982.486 124.63 982.486 Q122.455 982.486 120.14 982.046 Q117.848 981.629 115.394 980.773 L115.394 976.259 Q117.339 977.393 119.654 977.972 Q121.968 978.551 124.492 978.551 Q128.89 978.551 131.181 976.815 Q133.496 975.079 133.496 971.768 Q133.496 968.713 131.343 967 Q129.214 965.264 125.394 965.264 L121.367 965.264 L121.367 961.421 L125.58 961.421 Q129.029 961.421 130.857 960.055 Q132.686 958.667 132.686 956.074 Q132.686 953.412 130.788 952 Q128.913 950.565 125.394 950.565 Q123.473 950.565 121.274 950.981 Q119.075 951.398 116.436 952.278 L116.436 948.111 Q119.098 947.37 121.413 947 Q123.751 946.63 125.811 946.63 Q131.135 946.63 134.237 949.06 Q137.339 951.468 137.339 955.588 Q137.339 958.458 135.695 960.449 Q134.052 962.417 131.019 963.18 Z\" fill=\"#000000\" fill-rule=\"nonzero\" fill-opacity=\"1\" /><path clip-path=\"url(#clip590)\" d=\"M126.621 504.026 Q123.473 504.026 121.621 506.179 Q119.793 508.331 119.793 512.081 Q119.793 515.808 121.621 517.984 Q123.473 520.137 126.621 520.137 Q129.769 520.137 131.598 517.984 Q133.45 515.808 133.45 512.081 Q133.45 508.331 131.598 506.179 Q129.769 504.026 126.621 504.026 M135.904 489.373 L135.904 493.632 Q134.144 492.799 132.339 492.359 Q130.556 491.92 128.797 491.92 Q124.168 491.92 121.714 495.044 Q119.283 498.169 118.936 504.489 Q120.302 502.475 122.362 501.41 Q124.422 500.322 126.899 500.322 Q132.107 500.322 135.117 503.494 Q138.149 506.642 138.149 512.081 Q138.149 517.405 135.001 520.623 Q131.853 523.841 126.621 523.841 Q120.626 523.841 117.455 519.257 Q114.283 514.651 114.283 505.924 Q114.283 497.73 118.172 492.869 Q122.061 487.984 128.612 487.984 Q130.371 487.984 132.154 488.332 Q133.959 488.679 135.904 489.373 Z\" fill=\"#000000\" fill-rule=\"nonzero\" fill-opacity=\"1\" /><path clip-path=\"url(#clip590)\" d=\"M116.529 63.8065 L116.529 59.5473 Q118.288 60.3806 120.093 60.8204 Q121.899 61.2602 123.635 61.2602 Q128.265 61.2602 130.695 58.1584 Q133.149 55.0334 133.496 48.6908 Q132.154 50.6816 130.093 51.7464 Q128.033 52.8112 125.533 52.8112 Q120.348 52.8112 117.316 49.6862 Q114.306 46.5381 114.306 41.0983 Q114.306 35.7742 117.455 32.5567 Q120.603 29.3391 125.834 29.3391 Q131.83 29.3391 134.978 33.9456 Q138.149 38.5289 138.149 47.2788 Q138.149 55.4501 134.26 60.3343 Q130.394 65.1954 123.843 65.1954 Q122.084 65.1954 120.279 64.8482 Q118.473 64.5009 116.529 63.8065 M125.834 49.1538 Q128.982 49.1538 130.811 47.001 Q132.663 44.8483 132.663 41.0983 Q132.663 37.3715 130.811 35.2187 Q128.982 33.0428 125.834 33.0428 Q122.686 33.0428 120.834 35.2187 Q119.006 37.3715 119.006 41.0983 Q119.006 44.8483 120.834 47.001 Q122.686 49.1538 125.834 49.1538 Z\" fill=\"#000000\" fill-rule=\"nonzero\" fill-opacity=\"1\" /><path clip-path=\"url(#clip590)\" d=\"M29.7248 796.386 L35.1993 796.386 Q33.8307 798.869 33.1623 801.383 Q32.4621 803.866 32.4621 806.412 Q32.4621 812.11 36.0905 815.261 Q39.6872 818.412 46.212 818.412 Q52.7369 818.412 56.3653 815.261 Q59.9619 812.11 59.9619 806.412 Q59.9619 803.866 59.2935 801.383 Q58.5933 798.869 57.2247 796.386 L62.6355 796.386 Q63.7814 798.837 64.3543 801.479 Q64.9272 804.089 64.9272 807.049 Q64.9272 815.102 59.8664 819.844 Q54.8057 824.586 46.212 824.586 Q37.491 824.586 32.4939 819.812 Q27.4968 815.006 27.4968 806.667 Q27.4968 803.962 28.0697 801.383 Q28.6108 798.805 29.7248 796.386 Z\" fill=\"#000000\" fill-rule=\"nonzero\" fill-opacity=\"1\" /><path clip-path=\"url(#clip590)\" d=\"M32.4621 772.388 Q32.4621 777.098 36.1542 779.836 Q39.8145 782.573 46.212 782.573 Q52.6095 782.573 56.3017 779.867 Q59.9619 777.13 59.9619 772.388 Q59.9619 767.709 56.2698 764.972 Q52.5777 762.234 46.212 762.234 Q39.8781 762.234 36.186 764.972 Q32.4621 767.709 32.4621 772.388 M27.4968 772.388 Q27.4968 764.749 32.4621 760.388 Q37.4273 756.028 46.212 756.028 Q54.9649 756.028 59.9619 760.388 Q64.9272 764.749 64.9272 772.388 Q64.9272 780.058 59.9619 784.419 Q54.9649 788.748 46.212 788.748 Q37.4273 788.748 32.4621 784.419 Q27.4968 780.058 27.4968 772.388 Z\" fill=\"#000000\" fill-rule=\"nonzero\" fill-opacity=\"1\" /><path clip-path=\"url(#clip590)\" d=\"M49.9359 746.925 L28.3562 746.925 L28.3562 741.068 L49.7131 741.068 Q54.7739 741.068 57.3202 739.095 Q59.8346 737.122 59.8346 733.175 Q59.8346 728.432 56.8109 725.695 Q53.7872 722.926 48.5673 722.926 L28.3562 722.926 L28.3562 717.07 L64.0042 717.07 L64.0042 722.926 L58.5296 722.926 Q61.7762 725.059 63.3676 727.891 Q64.9272 730.692 64.9272 734.416 Q64.9272 740.559 61.1078 743.742 Q57.2883 746.925 49.9359 746.925 M27.4968 732.188 L27.4968 732.188 Z\" fill=\"#000000\" fill-rule=\"nonzero\" fill-opacity=\"1\" /><path clip-path=\"url(#clip590)\" d=\"M42.4881 675.374 L64.0042 675.374 L64.0042 681.231 L42.679 681.231 Q37.6183 681.231 35.1038 683.204 Q32.5894 685.178 32.5894 689.124 Q32.5894 693.867 35.6131 696.604 Q38.6368 699.341 43.8567 699.341 L64.0042 699.341 L64.0042 705.229 L28.3562 705.229 L28.3562 699.341 L33.8944 699.341 Q30.6797 697.241 29.0883 694.408 Q27.4968 691.543 27.4968 687.819 Q27.4968 681.676 31.3163 678.525 Q35.1038 675.374 42.4881 675.374 Z\" fill=\"#000000\" fill-rule=\"nonzero\" fill-opacity=\"1\" /><path clip-path=\"url(#clip590)\" d=\"M18.2347 657.9 L28.3562 657.9 L28.3562 645.837 L32.9077 645.837 L32.9077 657.9 L52.2594 657.9 Q56.6199 657.9 57.8613 656.723 Q59.1026 655.513 59.1026 651.853 L59.1026 645.837 L64.0042 645.837 L64.0042 651.853 Q64.0042 658.633 61.4897 661.211 Q58.9434 663.789 52.2594 663.789 L32.9077 663.789 L32.9077 668.086 L28.3562 668.086 L28.3562 663.789 L18.2347 663.789 L18.2347 657.9 Z\" fill=\"#000000\" fill-rule=\"nonzero\" fill-opacity=\"1\" /><path clip-path=\"url(#clip592)\" d=\"M556.524 1270.3 L556.524 1423.18 L597.494 1423.18 L597.494 1270.3 L556.524 1270.3 L556.524 1270.3  Z\" fill=\"#009af9\" fill-rule=\"evenodd\" fill-opacity=\"1\"/>\n",
       "<polyline clip-path=\"url(#clip592)\" style=\"stroke:#000000; stroke-linecap:round; stroke-linejoin:round; stroke-width:4; stroke-opacity:1; fill:none\" points=\"556.524,1270.3 556.524,1423.18 597.494,1423.18 597.494,1270.3 556.524,1270.3 \"/>\n",
       "<path clip-path=\"url(#clip592)\" d=\"M597.494 1423.18 L597.494 1423.18 L638.464 1423.18 L638.464 1423.18 L597.494 1423.18 L597.494 1423.18  Z\" fill=\"#009af9\" fill-rule=\"evenodd\" fill-opacity=\"1\"/>\n",
       "<polyline clip-path=\"url(#clip592)\" style=\"stroke:#000000; stroke-linecap:round; stroke-linejoin:round; stroke-width:4; stroke-opacity:1; fill:none\" points=\"597.494,1423.18 597.494,1423.18 638.464,1423.18 597.494,1423.18 \"/>\n",
       "<path clip-path=\"url(#clip592)\" d=\"M638.464 1423.18 L638.464 1423.18 L679.434 1423.18 L679.434 1423.18 L638.464 1423.18 L638.464 1423.18  Z\" fill=\"#009af9\" fill-rule=\"evenodd\" fill-opacity=\"1\"/>\n",
       "<polyline clip-path=\"url(#clip592)\" style=\"stroke:#000000; stroke-linecap:round; stroke-linejoin:round; stroke-width:4; stroke-opacity:1; fill:none\" points=\"638.464,1423.18 638.464,1423.18 679.434,1423.18 638.464,1423.18 \"/>\n",
       "<path clip-path=\"url(#clip592)\" d=\"M679.434 1117.42 L679.434 1423.18 L720.404 1423.18 L720.404 1117.42 L679.434 1117.42 L679.434 1117.42  Z\" fill=\"#009af9\" fill-rule=\"evenodd\" fill-opacity=\"1\"/>\n",
       "<polyline clip-path=\"url(#clip592)\" style=\"stroke:#000000; stroke-linecap:round; stroke-linejoin:round; stroke-width:4; stroke-opacity:1; fill:none\" points=\"679.434,1117.42 679.434,1423.18 720.404,1423.18 720.404,1117.42 679.434,1117.42 \"/>\n",
       "<path clip-path=\"url(#clip592)\" d=\"M720.404 1423.18 L720.404 1423.18 L761.374 1423.18 L761.374 1423.18 L720.404 1423.18 L720.404 1423.18  Z\" fill=\"#009af9\" fill-rule=\"evenodd\" fill-opacity=\"1\"/>\n",
       "<polyline clip-path=\"url(#clip592)\" style=\"stroke:#000000; stroke-linecap:round; stroke-linejoin:round; stroke-width:4; stroke-opacity:1; fill:none\" points=\"720.404,1423.18 720.404,1423.18 761.374,1423.18 720.404,1423.18 \"/>\n",
       "<path clip-path=\"url(#clip592)\" d=\"M761.374 1270.3 L761.374 1423.18 L802.345 1423.18 L802.345 1270.3 L761.374 1270.3 L761.374 1270.3  Z\" fill=\"#009af9\" fill-rule=\"evenodd\" fill-opacity=\"1\"/>\n",
       "<polyline clip-path=\"url(#clip592)\" style=\"stroke:#000000; stroke-linecap:round; stroke-linejoin:round; stroke-width:4; stroke-opacity:1; fill:none\" points=\"761.374,1270.3 761.374,1423.18 802.345,1423.18 802.345,1270.3 761.374,1270.3 \"/>\n",
       "<path clip-path=\"url(#clip592)\" d=\"M802.345 1423.18 L802.345 1423.18 L843.315 1423.18 L843.315 1423.18 L802.345 1423.18 L802.345 1423.18  Z\" fill=\"#009af9\" fill-rule=\"evenodd\" fill-opacity=\"1\"/>\n",
       "<polyline clip-path=\"url(#clip592)\" style=\"stroke:#000000; stroke-linecap:round; stroke-linejoin:round; stroke-width:4; stroke-opacity:1; fill:none\" points=\"802.345,1423.18 802.345,1423.18 843.315,1423.18 802.345,1423.18 \"/>\n",
       "<path clip-path=\"url(#clip592)\" d=\"M843.315 1423.18 L843.315 1423.18 L884.285 1423.18 L884.285 1423.18 L843.315 1423.18 L843.315 1423.18  Z\" fill=\"#009af9\" fill-rule=\"evenodd\" fill-opacity=\"1\"/>\n",
       "<polyline clip-path=\"url(#clip592)\" style=\"stroke:#000000; stroke-linecap:round; stroke-linejoin:round; stroke-width:4; stroke-opacity:1; fill:none\" points=\"843.315,1423.18 843.315,1423.18 884.285,1423.18 843.315,1423.18 \"/>\n",
       "<path clip-path=\"url(#clip592)\" d=\"M884.285 1270.3 L884.285 1423.18 L925.255 1423.18 L925.255 1270.3 L884.285 1270.3 L884.285 1270.3  Z\" fill=\"#009af9\" fill-rule=\"evenodd\" fill-opacity=\"1\"/>\n",
       "<polyline clip-path=\"url(#clip592)\" style=\"stroke:#000000; stroke-linecap:round; stroke-linejoin:round; stroke-width:4; stroke-opacity:1; fill:none\" points=\"884.285,1270.3 884.285,1423.18 925.255,1423.18 925.255,1270.3 884.285,1270.3 \"/>\n",
       "<path clip-path=\"url(#clip592)\" d=\"M925.255 1117.42 L925.255 1423.18 L966.225 1423.18 L966.225 1117.42 L925.255 1117.42 L925.255 1117.42  Z\" fill=\"#009af9\" fill-rule=\"evenodd\" fill-opacity=\"1\"/>\n",
       "<polyline clip-path=\"url(#clip592)\" style=\"stroke:#000000; stroke-linecap:round; stroke-linejoin:round; stroke-width:4; stroke-opacity:1; fill:none\" points=\"925.255,1117.42 925.255,1423.18 966.225,1423.18 966.225,1117.42 925.255,1117.42 \"/>\n",
       "<path clip-path=\"url(#clip592)\" d=\"M966.225 964.535 L966.225 1423.18 L1007.2 1423.18 L1007.2 964.535 L966.225 964.535 L966.225 964.535  Z\" fill=\"#009af9\" fill-rule=\"evenodd\" fill-opacity=\"1\"/>\n",
       "<polyline clip-path=\"url(#clip592)\" style=\"stroke:#000000; stroke-linecap:round; stroke-linejoin:round; stroke-width:4; stroke-opacity:1; fill:none\" points=\"966.225,964.535 966.225,1423.18 1007.2,1423.18 1007.2,964.535 966.225,964.535 \"/>\n",
       "<path clip-path=\"url(#clip592)\" d=\"M1007.2 1270.3 L1007.2 1423.18 L1048.17 1423.18 L1048.17 1270.3 L1007.2 1270.3 L1007.2 1270.3  Z\" fill=\"#009af9\" fill-rule=\"evenodd\" fill-opacity=\"1\"/>\n",
       "<polyline clip-path=\"url(#clip592)\" style=\"stroke:#000000; stroke-linecap:round; stroke-linejoin:round; stroke-width:4; stroke-opacity:1; fill:none\" points=\"1007.2,1270.3 1007.2,1423.18 1048.17,1423.18 1048.17,1270.3 1007.2,1270.3 \"/>\n",
       "<path clip-path=\"url(#clip592)\" d=\"M1048.17 1117.42 L1048.17 1423.18 L1089.14 1423.18 L1089.14 1117.42 L1048.17 1117.42 L1048.17 1117.42  Z\" fill=\"#009af9\" fill-rule=\"evenodd\" fill-opacity=\"1\"/>\n",
       "<polyline clip-path=\"url(#clip592)\" style=\"stroke:#000000; stroke-linecap:round; stroke-linejoin:round; stroke-width:4; stroke-opacity:1; fill:none\" points=\"1048.17,1117.42 1048.17,1423.18 1089.14,1423.18 1089.14,1117.42 1048.17,1117.42 \"/>\n",
       "<path clip-path=\"url(#clip592)\" d=\"M1089.14 1117.42 L1089.14 1423.18 L1130.11 1423.18 L1130.11 1117.42 L1089.14 1117.42 L1089.14 1117.42  Z\" fill=\"#009af9\" fill-rule=\"evenodd\" fill-opacity=\"1\"/>\n",
       "<polyline clip-path=\"url(#clip592)\" style=\"stroke:#000000; stroke-linecap:round; stroke-linejoin:round; stroke-width:4; stroke-opacity:1; fill:none\" points=\"1089.14,1117.42 1089.14,1423.18 1130.11,1423.18 1130.11,1117.42 1089.14,1117.42 \"/>\n",
       "<path clip-path=\"url(#clip592)\" d=\"M1130.11 1117.42 L1130.11 1423.18 L1171.08 1423.18 L1171.08 1117.42 L1130.11 1117.42 L1130.11 1117.42  Z\" fill=\"#009af9\" fill-rule=\"evenodd\" fill-opacity=\"1\"/>\n",
       "<polyline clip-path=\"url(#clip592)\" style=\"stroke:#000000; stroke-linecap:round; stroke-linejoin:round; stroke-width:4; stroke-opacity:1; fill:none\" points=\"1130.11,1117.42 1130.11,1423.18 1171.08,1423.18 1171.08,1117.42 1130.11,1117.42 \"/>\n",
       "<path clip-path=\"url(#clip592)\" d=\"M1171.08 1270.3 L1171.08 1423.18 L1212.05 1423.18 L1212.05 1270.3 L1171.08 1270.3 L1171.08 1270.3  Z\" fill=\"#009af9\" fill-rule=\"evenodd\" fill-opacity=\"1\"/>\n",
       "<polyline clip-path=\"url(#clip592)\" style=\"stroke:#000000; stroke-linecap:round; stroke-linejoin:round; stroke-width:4; stroke-opacity:1; fill:none\" points=\"1171.08,1270.3 1171.08,1423.18 1212.05,1423.18 1212.05,1270.3 1171.08,1270.3 \"/>\n",
       "<path clip-path=\"url(#clip592)\" d=\"M1212.05 964.535 L1212.05 1423.18 L1253.02 1423.18 L1253.02 964.535 L1212.05 964.535 L1212.05 964.535  Z\" fill=\"#009af9\" fill-rule=\"evenodd\" fill-opacity=\"1\"/>\n",
       "<polyline clip-path=\"url(#clip592)\" style=\"stroke:#000000; stroke-linecap:round; stroke-linejoin:round; stroke-width:4; stroke-opacity:1; fill:none\" points=\"1212.05,964.535 1212.05,1423.18 1253.02,1423.18 1253.02,964.535 1212.05,964.535 \"/>\n",
       "<path clip-path=\"url(#clip592)\" d=\"M1253.02 1270.3 L1253.02 1423.18 L1293.99 1423.18 L1293.99 1270.3 L1253.02 1270.3 L1253.02 1270.3  Z\" fill=\"#009af9\" fill-rule=\"evenodd\" fill-opacity=\"1\"/>\n",
       "<polyline clip-path=\"url(#clip592)\" style=\"stroke:#000000; stroke-linecap:round; stroke-linejoin:round; stroke-width:4; stroke-opacity:1; fill:none\" points=\"1253.02,1270.3 1253.02,1423.18 1293.99,1423.18 1293.99,1270.3 1253.02,1270.3 \"/>\n",
       "<path clip-path=\"url(#clip592)\" d=\"M1293.99 1270.3 L1293.99 1423.18 L1334.96 1423.18 L1334.96 1270.3 L1293.99 1270.3 L1293.99 1270.3  Z\" fill=\"#009af9\" fill-rule=\"evenodd\" fill-opacity=\"1\"/>\n",
       "<polyline clip-path=\"url(#clip592)\" style=\"stroke:#000000; stroke-linecap:round; stroke-linejoin:round; stroke-width:4; stroke-opacity:1; fill:none\" points=\"1293.99,1270.3 1293.99,1423.18 1334.96,1423.18 1334.96,1270.3 1293.99,1270.3 \"/>\n",
       "<path clip-path=\"url(#clip592)\" d=\"M1334.96 1270.3 L1334.96 1423.18 L1375.93 1423.18 L1375.93 1270.3 L1334.96 1270.3 L1334.96 1270.3  Z\" fill=\"#009af9\" fill-rule=\"evenodd\" fill-opacity=\"1\"/>\n",
       "<polyline clip-path=\"url(#clip592)\" style=\"stroke:#000000; stroke-linecap:round; stroke-linejoin:round; stroke-width:4; stroke-opacity:1; fill:none\" points=\"1334.96,1270.3 1334.96,1423.18 1375.93,1423.18 1375.93,1270.3 1334.96,1270.3 \"/>\n",
       "<path clip-path=\"url(#clip592)\" d=\"M1375.93 1423.18 L1375.93 1423.18 L1416.9 1423.18 L1416.9 1423.18 L1375.93 1423.18 L1375.93 1423.18  Z\" fill=\"#009af9\" fill-rule=\"evenodd\" fill-opacity=\"1\"/>\n",
       "<polyline clip-path=\"url(#clip592)\" style=\"stroke:#000000; stroke-linecap:round; stroke-linejoin:round; stroke-width:4; stroke-opacity:1; fill:none\" points=\"1375.93,1423.18 1375.93,1423.18 1416.9,1423.18 1375.93,1423.18 \"/>\n",
       "<path clip-path=\"url(#clip592)\" d=\"M1416.9 1117.42 L1416.9 1423.18 L1457.87 1423.18 L1457.87 1117.42 L1416.9 1117.42 L1416.9 1117.42  Z\" fill=\"#009af9\" fill-rule=\"evenodd\" fill-opacity=\"1\"/>\n",
       "<polyline clip-path=\"url(#clip592)\" style=\"stroke:#000000; stroke-linecap:round; stroke-linejoin:round; stroke-width:4; stroke-opacity:1; fill:none\" points=\"1416.9,1117.42 1416.9,1423.18 1457.87,1423.18 1457.87,1117.42 1416.9,1117.42 \"/>\n",
       "<path clip-path=\"url(#clip592)\" d=\"M1457.87 1117.42 L1457.87 1423.18 L1498.84 1423.18 L1498.84 1117.42 L1457.87 1117.42 L1457.87 1117.42  Z\" fill=\"#009af9\" fill-rule=\"evenodd\" fill-opacity=\"1\"/>\n",
       "<polyline clip-path=\"url(#clip592)\" style=\"stroke:#000000; stroke-linecap:round; stroke-linejoin:round; stroke-width:4; stroke-opacity:1; fill:none\" points=\"1457.87,1117.42 1457.87,1423.18 1498.84,1423.18 1498.84,1117.42 1457.87,1117.42 \"/>\n",
       "<path clip-path=\"url(#clip592)\" d=\"M1498.84 1423.18 L1498.84 1423.18 L1539.81 1423.18 L1539.81 1423.18 L1498.84 1423.18 L1498.84 1423.18  Z\" fill=\"#009af9\" fill-rule=\"evenodd\" fill-opacity=\"1\"/>\n",
       "<polyline clip-path=\"url(#clip592)\" style=\"stroke:#000000; stroke-linecap:round; stroke-linejoin:round; stroke-width:4; stroke-opacity:1; fill:none\" points=\"1498.84,1423.18 1498.84,1423.18 1539.81,1423.18 1498.84,1423.18 \"/>\n",
       "<path clip-path=\"url(#clip592)\" d=\"M1539.81 964.535 L1539.81 1423.18 L1580.78 1423.18 L1580.78 964.535 L1539.81 964.535 L1539.81 964.535  Z\" fill=\"#009af9\" fill-rule=\"evenodd\" fill-opacity=\"1\"/>\n",
       "<polyline clip-path=\"url(#clip592)\" style=\"stroke:#000000; stroke-linecap:round; stroke-linejoin:round; stroke-width:4; stroke-opacity:1; fill:none\" points=\"1539.81,964.535 1539.81,1423.18 1580.78,1423.18 1580.78,964.535 1539.81,964.535 \"/>\n",
       "<path clip-path=\"url(#clip592)\" d=\"M1580.78 1117.42 L1580.78 1423.18 L1621.75 1423.18 L1621.75 1117.42 L1580.78 1117.42 L1580.78 1117.42  Z\" fill=\"#009af9\" fill-rule=\"evenodd\" fill-opacity=\"1\"/>\n",
       "<polyline clip-path=\"url(#clip592)\" style=\"stroke:#000000; stroke-linecap:round; stroke-linejoin:round; stroke-width:4; stroke-opacity:1; fill:none\" points=\"1580.78,1117.42 1580.78,1423.18 1621.75,1423.18 1621.75,1117.42 1580.78,1117.42 \"/>\n",
       "<path clip-path=\"url(#clip592)\" d=\"M1621.75 658.771 L1621.75 1423.18 L1662.72 1423.18 L1662.72 658.771 L1621.75 658.771 L1621.75 658.771  Z\" fill=\"#009af9\" fill-rule=\"evenodd\" fill-opacity=\"1\"/>\n",
       "<polyline clip-path=\"url(#clip592)\" style=\"stroke:#000000; stroke-linecap:round; stroke-linejoin:round; stroke-width:4; stroke-opacity:1; fill:none\" points=\"1621.75,658.771 1621.75,1423.18 1662.72,1423.18 1662.72,658.771 1621.75,658.771 \"/>\n",
       "<path clip-path=\"url(#clip592)\" d=\"M1662.72 1117.42 L1662.72 1423.18 L1703.69 1423.18 L1703.69 1117.42 L1662.72 1117.42 L1662.72 1117.42  Z\" fill=\"#009af9\" fill-rule=\"evenodd\" fill-opacity=\"1\"/>\n",
       "<polyline clip-path=\"url(#clip592)\" style=\"stroke:#000000; stroke-linecap:round; stroke-linejoin:round; stroke-width:4; stroke-opacity:1; fill:none\" points=\"1662.72,1117.42 1662.72,1423.18 1703.69,1423.18 1703.69,1117.42 1662.72,1117.42 \"/>\n",
       "<path clip-path=\"url(#clip592)\" d=\"M1703.69 811.653 L1703.69 1423.18 L1744.66 1423.18 L1744.66 811.653 L1703.69 811.653 L1703.69 811.653  Z\" fill=\"#009af9\" fill-rule=\"evenodd\" fill-opacity=\"1\"/>\n",
       "<polyline clip-path=\"url(#clip592)\" style=\"stroke:#000000; stroke-linecap:round; stroke-linejoin:round; stroke-width:4; stroke-opacity:1; fill:none\" points=\"1703.69,811.653 1703.69,1423.18 1744.66,1423.18 1744.66,811.653 1703.69,811.653 \"/>\n",
       "<path clip-path=\"url(#clip592)\" d=\"M1744.66 1270.3 L1744.66 1423.18 L1785.63 1423.18 L1785.63 1270.3 L1744.66 1270.3 L1744.66 1270.3  Z\" fill=\"#009af9\" fill-rule=\"evenodd\" fill-opacity=\"1\"/>\n",
       "<polyline clip-path=\"url(#clip592)\" style=\"stroke:#000000; stroke-linecap:round; stroke-linejoin:round; stroke-width:4; stroke-opacity:1; fill:none\" points=\"1744.66,1270.3 1744.66,1423.18 1785.63,1423.18 1785.63,1270.3 1744.66,1270.3 \"/>\n",
       "<path clip-path=\"url(#clip592)\" d=\"M1785.63 1117.42 L1785.63 1423.18 L1826.6 1423.18 L1826.6 1117.42 L1785.63 1117.42 L1785.63 1117.42  Z\" fill=\"#009af9\" fill-rule=\"evenodd\" fill-opacity=\"1\"/>\n",
       "<polyline clip-path=\"url(#clip592)\" style=\"stroke:#000000; stroke-linecap:round; stroke-linejoin:round; stroke-width:4; stroke-opacity:1; fill:none\" points=\"1785.63,1117.42 1785.63,1423.18 1826.6,1423.18 1826.6,1117.42 1785.63,1117.42 \"/>\n",
       "<path clip-path=\"url(#clip592)\" d=\"M1826.6 964.535 L1826.6 1423.18 L1867.57 1423.18 L1867.57 964.535 L1826.6 964.535 L1826.6 964.535  Z\" fill=\"#009af9\" fill-rule=\"evenodd\" fill-opacity=\"1\"/>\n",
       "<polyline clip-path=\"url(#clip592)\" style=\"stroke:#000000; stroke-linecap:round; stroke-linejoin:round; stroke-width:4; stroke-opacity:1; fill:none\" points=\"1826.6,964.535 1826.6,1423.18 1867.57,1423.18 1867.57,964.535 1826.6,964.535 \"/>\n",
       "<path clip-path=\"url(#clip592)\" d=\"M1867.57 964.535 L1867.57 1423.18 L1908.54 1423.18 L1908.54 964.535 L1867.57 964.535 L1867.57 964.535  Z\" fill=\"#009af9\" fill-rule=\"evenodd\" fill-opacity=\"1\"/>\n",
       "<polyline clip-path=\"url(#clip592)\" style=\"stroke:#000000; stroke-linecap:round; stroke-linejoin:round; stroke-width:4; stroke-opacity:1; fill:none\" points=\"1867.57,964.535 1867.57,1423.18 1908.54,1423.18 1908.54,964.535 1867.57,964.535 \"/>\n",
       "<path clip-path=\"url(#clip592)\" d=\"M1908.54 964.535 L1908.54 1423.18 L1949.51 1423.18 L1949.51 964.535 L1908.54 964.535 L1908.54 964.535  Z\" fill=\"#009af9\" fill-rule=\"evenodd\" fill-opacity=\"1\"/>\n",
       "<polyline clip-path=\"url(#clip592)\" style=\"stroke:#000000; stroke-linecap:round; stroke-linejoin:round; stroke-width:4; stroke-opacity:1; fill:none\" points=\"1908.54,964.535 1908.54,1423.18 1949.51,1423.18 1949.51,964.535 1908.54,964.535 \"/>\n",
       "<path clip-path=\"url(#clip592)\" d=\"M1949.51 811.653 L1949.51 1423.18 L1990.48 1423.18 L1990.48 811.653 L1949.51 811.653 L1949.51 811.653  Z\" fill=\"#009af9\" fill-rule=\"evenodd\" fill-opacity=\"1\"/>\n",
       "<polyline clip-path=\"url(#clip592)\" style=\"stroke:#000000; stroke-linecap:round; stroke-linejoin:round; stroke-width:4; stroke-opacity:1; fill:none\" points=\"1949.51,811.653 1949.51,1423.18 1990.48,1423.18 1990.48,811.653 1949.51,811.653 \"/>\n",
       "<path clip-path=\"url(#clip592)\" d=\"M1990.48 1117.42 L1990.48 1423.18 L2031.45 1423.18 L2031.45 1117.42 L1990.48 1117.42 L1990.48 1117.42  Z\" fill=\"#009af9\" fill-rule=\"evenodd\" fill-opacity=\"1\"/>\n",
       "<polyline clip-path=\"url(#clip592)\" style=\"stroke:#000000; stroke-linecap:round; stroke-linejoin:round; stroke-width:4; stroke-opacity:1; fill:none\" points=\"1990.48,1117.42 1990.48,1423.18 2031.45,1423.18 2031.45,1117.42 1990.48,1117.42 \"/>\n",
       "<path clip-path=\"url(#clip592)\" d=\"M2031.45 1270.3 L2031.45 1423.18 L2072.42 1423.18 L2072.42 1270.3 L2031.45 1270.3 L2031.45 1270.3  Z\" fill=\"#009af9\" fill-rule=\"evenodd\" fill-opacity=\"1\"/>\n",
       "<polyline clip-path=\"url(#clip592)\" style=\"stroke:#000000; stroke-linecap:round; stroke-linejoin:round; stroke-width:4; stroke-opacity:1; fill:none\" points=\"2031.45,1270.3 2031.45,1423.18 2072.42,1423.18 2072.42,1270.3 2031.45,1270.3 \"/>\n",
       "<path clip-path=\"url(#clip592)\" d=\"M2072.42 964.535 L2072.42 1423.18 L2113.39 1423.18 L2113.39 964.535 L2072.42 964.535 L2072.42 964.535  Z\" fill=\"#009af9\" fill-rule=\"evenodd\" fill-opacity=\"1\"/>\n",
       "<polyline clip-path=\"url(#clip592)\" style=\"stroke:#000000; stroke-linecap:round; stroke-linejoin:round; stroke-width:4; stroke-opacity:1; fill:none\" points=\"2072.42,964.535 2072.42,1423.18 2113.39,1423.18 2113.39,964.535 2072.42,964.535 \"/>\n",
       "<path clip-path=\"url(#clip592)\" d=\"M2113.39 505.889 L2113.39 1423.18 L2154.36 1423.18 L2154.36 505.889 L2113.39 505.889 L2113.39 505.889  Z\" fill=\"#009af9\" fill-rule=\"evenodd\" fill-opacity=\"1\"/>\n",
       "<polyline clip-path=\"url(#clip592)\" style=\"stroke:#000000; stroke-linecap:round; stroke-linejoin:round; stroke-width:4; stroke-opacity:1; fill:none\" points=\"2113.39,505.889 2113.39,1423.18 2154.36,1423.18 2154.36,505.889 2113.39,505.889 \"/>\n",
       "<path clip-path=\"url(#clip592)\" d=\"M2154.36 964.535 L2154.36 1423.18 L2195.33 1423.18 L2195.33 964.535 L2154.36 964.535 L2154.36 964.535  Z\" fill=\"#009af9\" fill-rule=\"evenodd\" fill-opacity=\"1\"/>\n",
       "<polyline clip-path=\"url(#clip592)\" style=\"stroke:#000000; stroke-linecap:round; stroke-linejoin:round; stroke-width:4; stroke-opacity:1; fill:none\" points=\"2154.36,964.535 2154.36,1423.18 2195.33,1423.18 2195.33,964.535 2154.36,964.535 \"/>\n",
       "<path clip-path=\"url(#clip592)\" d=\"M2195.33 811.653 L2195.33 1423.18 L2236.3 1423.18 L2236.3 811.653 L2195.33 811.653 L2195.33 811.653  Z\" fill=\"#009af9\" fill-rule=\"evenodd\" fill-opacity=\"1\"/>\n",
       "<polyline clip-path=\"url(#clip592)\" style=\"stroke:#000000; stroke-linecap:round; stroke-linejoin:round; stroke-width:4; stroke-opacity:1; fill:none\" points=\"2195.33,811.653 2195.33,1423.18 2236.3,1423.18 2236.3,811.653 2195.33,811.653 \"/>\n",
       "<path clip-path=\"url(#clip592)\" d=\"M2236.3 811.653 L2236.3 1423.18 L2277.27 1423.18 L2277.27 811.653 L2236.3 811.653 L2236.3 811.653  Z\" fill=\"#009af9\" fill-rule=\"evenodd\" fill-opacity=\"1\"/>\n",
       "<polyline clip-path=\"url(#clip592)\" style=\"stroke:#000000; stroke-linecap:round; stroke-linejoin:round; stroke-width:4; stroke-opacity:1; fill:none\" points=\"2236.3,811.653 2236.3,1423.18 2277.27,1423.18 2277.27,811.653 2236.3,811.653 \"/>\n",
       "<path clip-path=\"url(#clip592)\" d=\"M2277.27 200.126 L2277.27 1423.18 L2318.24 1423.18 L2318.24 200.126 L2277.27 200.126 L2277.27 200.126  Z\" fill=\"#009af9\" fill-rule=\"evenodd\" fill-opacity=\"1\"/>\n",
       "<polyline clip-path=\"url(#clip592)\" style=\"stroke:#000000; stroke-linecap:round; stroke-linejoin:round; stroke-width:4; stroke-opacity:1; fill:none\" points=\"2277.27,200.126 2277.27,1423.18 2318.24,1423.18 2318.24,200.126 2277.27,200.126 \"/>\n",
       "<path clip-path=\"url(#clip592)\" d=\"M2318.24 1117.42 L2318.24 1423.18 L2359.21 1423.18 L2359.21 1117.42 L2318.24 1117.42 L2318.24 1117.42  Z\" fill=\"#009af9\" fill-rule=\"evenodd\" fill-opacity=\"1\"/>\n",
       "<polyline clip-path=\"url(#clip592)\" style=\"stroke:#000000; stroke-linecap:round; stroke-linejoin:round; stroke-width:4; stroke-opacity:1; fill:none\" points=\"2318.24,1117.42 2318.24,1423.18 2359.21,1423.18 2359.21,1117.42 2318.24,1117.42 \"/>\n",
       "<path clip-path=\"url(#clip592)\" d=\"M2359.21 964.535 L2359.21 1423.18 L2400.18 1423.18 L2400.18 964.535 L2359.21 964.535 L2359.21 964.535  Z\" fill=\"#009af9\" fill-rule=\"evenodd\" fill-opacity=\"1\"/>\n",
       "<polyline clip-path=\"url(#clip592)\" style=\"stroke:#000000; stroke-linecap:round; stroke-linejoin:round; stroke-width:4; stroke-opacity:1; fill:none\" points=\"2359.21,964.535 2359.21,1423.18 2400.18,1423.18 2400.18,964.535 2359.21,964.535 \"/>\n",
       "<path clip-path=\"url(#clip592)\" d=\"M2400.18 505.889 L2400.18 1423.18 L2441.15 1423.18 L2441.15 505.889 L2400.18 505.889 L2400.18 505.889  Z\" fill=\"#009af9\" fill-rule=\"evenodd\" fill-opacity=\"1\"/>\n",
       "<polyline clip-path=\"url(#clip592)\" style=\"stroke:#000000; stroke-linecap:round; stroke-linejoin:round; stroke-width:4; stroke-opacity:1; fill:none\" points=\"2400.18,505.889 2400.18,1423.18 2441.15,1423.18 2441.15,505.889 2400.18,505.889 \"/>\n",
       "<path clip-path=\"url(#clip592)\" d=\"M2441.15 505.889 L2441.15 1423.18 L2482.12 1423.18 L2482.12 505.889 L2441.15 505.889 L2441.15 505.889  Z\" fill=\"#009af9\" fill-rule=\"evenodd\" fill-opacity=\"1\"/>\n",
       "<polyline clip-path=\"url(#clip592)\" style=\"stroke:#000000; stroke-linecap:round; stroke-linejoin:round; stroke-width:4; stroke-opacity:1; fill:none\" points=\"2441.15,505.889 2441.15,1423.18 2482.12,1423.18 2482.12,505.889 2441.15,505.889 \"/>\n",
       "<path clip-path=\"url(#clip592)\" d=\"M2482.12 1117.42 L2482.12 1423.18 L2523.09 1423.18 L2523.09 1117.42 L2482.12 1117.42 L2482.12 1117.42  Z\" fill=\"#009af9\" fill-rule=\"evenodd\" fill-opacity=\"1\"/>\n",
       "<polyline clip-path=\"url(#clip592)\" style=\"stroke:#000000; stroke-linecap:round; stroke-linejoin:round; stroke-width:4; stroke-opacity:1; fill:none\" points=\"2482.12,1117.42 2482.12,1423.18 2523.09,1423.18 2523.09,1117.42 2482.12,1117.42 \"/>\n",
       "<path clip-path=\"url(#clip592)\" d=\"M2523.09 811.653 L2523.09 1423.18 L2564.06 1423.18 L2564.06 811.653 L2523.09 811.653 L2523.09 811.653  Z\" fill=\"#009af9\" fill-rule=\"evenodd\" fill-opacity=\"1\"/>\n",
       "<polyline clip-path=\"url(#clip592)\" style=\"stroke:#000000; stroke-linecap:round; stroke-linejoin:round; stroke-width:4; stroke-opacity:1; fill:none\" points=\"2523.09,811.653 2523.09,1423.18 2564.06,1423.18 2564.06,811.653 2523.09,811.653 \"/>\n",
       "<path clip-path=\"url(#clip592)\" d=\"M2564.06 658.771 L2564.06 1423.18 L2605.03 1423.18 L2605.03 658.771 L2564.06 658.771 L2564.06 658.771  Z\" fill=\"#009af9\" fill-rule=\"evenodd\" fill-opacity=\"1\"/>\n",
       "<polyline clip-path=\"url(#clip592)\" style=\"stroke:#000000; stroke-linecap:round; stroke-linejoin:round; stroke-width:4; stroke-opacity:1; fill:none\" points=\"2564.06,658.771 2564.06,1423.18 2605.03,1423.18 2605.03,658.771 2564.06,658.771 \"/>\n",
       "<path clip-path=\"url(#clip592)\" d=\"M2605.03 658.771 L2605.03 1423.18 L2646 1423.18 L2646 658.771 L2605.03 658.771 L2605.03 658.771  Z\" fill=\"#009af9\" fill-rule=\"evenodd\" fill-opacity=\"1\"/>\n",
       "<polyline clip-path=\"url(#clip592)\" style=\"stroke:#000000; stroke-linecap:round; stroke-linejoin:round; stroke-width:4; stroke-opacity:1; fill:none\" points=\"2605.03,658.771 2605.03,1423.18 2646,1423.18 2646,658.771 2605.03,658.771 \"/>\n",
       "<path clip-path=\"url(#clip592)\" d=\"M2646 964.535 L2646 1423.18 L2686.97 1423.18 L2686.97 964.535 L2646 964.535 L2646 964.535  Z\" fill=\"#009af9\" fill-rule=\"evenodd\" fill-opacity=\"1\"/>\n",
       "<polyline clip-path=\"url(#clip592)\" style=\"stroke:#000000; stroke-linecap:round; stroke-linejoin:round; stroke-width:4; stroke-opacity:1; fill:none\" points=\"2646,964.535 2646,1423.18 2686.97,1423.18 2686.97,964.535 2646,964.535 \"/>\n",
       "<path clip-path=\"url(#clip592)\" d=\"M2686.97 964.535 L2686.97 1423.18 L2727.94 1423.18 L2727.94 964.535 L2686.97 964.535 L2686.97 964.535  Z\" fill=\"#009af9\" fill-rule=\"evenodd\" fill-opacity=\"1\"/>\n",
       "<polyline clip-path=\"url(#clip592)\" style=\"stroke:#000000; stroke-linecap:round; stroke-linejoin:round; stroke-width:4; stroke-opacity:1; fill:none\" points=\"2686.97,964.535 2686.97,1423.18 2727.94,1423.18 2727.94,964.535 2686.97,964.535 \"/>\n",
       "<path clip-path=\"url(#clip592)\" d=\"M2727.94 658.771 L2727.94 1423.18 L2768.91 1423.18 L2768.91 658.771 L2727.94 658.771 L2727.94 658.771  Z\" fill=\"#009af9\" fill-rule=\"evenodd\" fill-opacity=\"1\"/>\n",
       "<polyline clip-path=\"url(#clip592)\" style=\"stroke:#000000; stroke-linecap:round; stroke-linejoin:round; stroke-width:4; stroke-opacity:1; fill:none\" points=\"2727.94,658.771 2727.94,1423.18 2768.91,1423.18 2768.91,658.771 2727.94,658.771 \"/>\n",
       "<path clip-path=\"url(#clip592)\" d=\"M2768.91 811.653 L2768.91 1423.18 L2809.88 1423.18 L2809.88 811.653 L2768.91 811.653 L2768.91 811.653  Z\" fill=\"#009af9\" fill-rule=\"evenodd\" fill-opacity=\"1\"/>\n",
       "<polyline clip-path=\"url(#clip592)\" style=\"stroke:#000000; stroke-linecap:round; stroke-linejoin:round; stroke-width:4; stroke-opacity:1; fill:none\" points=\"2768.91,811.653 2768.91,1423.18 2809.88,1423.18 2809.88,811.653 2768.91,811.653 \"/>\n",
       "<path clip-path=\"url(#clip592)\" d=\"M2809.88 200.126 L2809.88 1423.18 L2850.85 1423.18 L2850.85 200.126 L2809.88 200.126 L2809.88 200.126  Z\" fill=\"#009af9\" fill-rule=\"evenodd\" fill-opacity=\"1\"/>\n",
       "<polyline clip-path=\"url(#clip592)\" style=\"stroke:#000000; stroke-linecap:round; stroke-linejoin:round; stroke-width:4; stroke-opacity:1; fill:none\" points=\"2809.88,200.126 2809.88,1423.18 2850.85,1423.18 2850.85,200.126 2809.88,200.126 \"/>\n",
       "<path clip-path=\"url(#clip592)\" d=\"M2850.85 353.008 L2850.85 1423.18 L2891.82 1423.18 L2891.82 353.008 L2850.85 353.008 L2850.85 353.008  Z\" fill=\"#009af9\" fill-rule=\"evenodd\" fill-opacity=\"1\"/>\n",
       "<polyline clip-path=\"url(#clip592)\" style=\"stroke:#000000; stroke-linecap:round; stroke-linejoin:round; stroke-width:4; stroke-opacity:1; fill:none\" points=\"2850.85,353.008 2850.85,1423.18 2891.82,1423.18 2891.82,353.008 2850.85,353.008 \"/>\n",
       "<path clip-path=\"url(#clip592)\" d=\"M2891.82 964.535 L2891.82 1423.18 L2932.79 1423.18 L2932.79 964.535 L2891.82 964.535 L2891.82 964.535  Z\" fill=\"#009af9\" fill-rule=\"evenodd\" fill-opacity=\"1\"/>\n",
       "<polyline clip-path=\"url(#clip592)\" style=\"stroke:#000000; stroke-linecap:round; stroke-linejoin:round; stroke-width:4; stroke-opacity:1; fill:none\" points=\"2891.82,964.535 2891.82,1423.18 2932.79,1423.18 2932.79,964.535 2891.82,964.535 \"/>\n",
       "<path clip-path=\"url(#clip592)\" d=\"M2932.79 505.889 L2932.79 1423.18 L2973.76 1423.18 L2973.76 505.889 L2932.79 505.889 L2932.79 505.889  Z\" fill=\"#009af9\" fill-rule=\"evenodd\" fill-opacity=\"1\"/>\n",
       "<polyline clip-path=\"url(#clip592)\" style=\"stroke:#000000; stroke-linecap:round; stroke-linejoin:round; stroke-width:4; stroke-opacity:1; fill:none\" points=\"2932.79,505.889 2932.79,1423.18 2973.76,1423.18 2973.76,505.889 2932.79,505.889 \"/>\n",
       "<path clip-path=\"url(#clip592)\" d=\"M2973.76 811.653 L2973.76 1423.18 L3014.73 1423.18 L3014.73 811.653 L2973.76 811.653 L2973.76 811.653  Z\" fill=\"#009af9\" fill-rule=\"evenodd\" fill-opacity=\"1\"/>\n",
       "<polyline clip-path=\"url(#clip592)\" style=\"stroke:#000000; stroke-linecap:round; stroke-linejoin:round; stroke-width:4; stroke-opacity:1; fill:none\" points=\"2973.76,811.653 2973.76,1423.18 3014.73,1423.18 3014.73,811.653 2973.76,811.653 \"/>\n",
       "<path clip-path=\"url(#clip592)\" d=\"M3014.73 353.008 L3014.73 1423.18 L3055.7 1423.18 L3055.7 353.008 L3014.73 353.008 L3014.73 353.008  Z\" fill=\"#009af9\" fill-rule=\"evenodd\" fill-opacity=\"1\"/>\n",
       "<polyline clip-path=\"url(#clip592)\" style=\"stroke:#000000; stroke-linecap:round; stroke-linejoin:round; stroke-width:4; stroke-opacity:1; fill:none\" points=\"3014.73,353.008 3014.73,1423.18 3055.7,1423.18 3055.7,353.008 3014.73,353.008 \"/>\n",
       "<path clip-path=\"url(#clip592)\" d=\"M3055.7 353.008 L3055.7 1423.18 L3096.67 1423.18 L3096.67 353.008 L3055.7 353.008 L3055.7 353.008  Z\" fill=\"#009af9\" fill-rule=\"evenodd\" fill-opacity=\"1\"/>\n",
       "<polyline clip-path=\"url(#clip592)\" style=\"stroke:#000000; stroke-linecap:round; stroke-linejoin:round; stroke-width:4; stroke-opacity:1; fill:none\" points=\"3055.7,353.008 3055.7,1423.18 3096.67,1423.18 3096.67,353.008 3055.7,353.008 \"/>\n",
       "<path clip-path=\"url(#clip592)\" d=\"M3096.67 811.653 L3096.67 1423.18 L3137.64 1423.18 L3137.64 811.653 L3096.67 811.653 L3096.67 811.653  Z\" fill=\"#009af9\" fill-rule=\"evenodd\" fill-opacity=\"1\"/>\n",
       "<polyline clip-path=\"url(#clip592)\" style=\"stroke:#000000; stroke-linecap:round; stroke-linejoin:round; stroke-width:4; stroke-opacity:1; fill:none\" points=\"3096.67,811.653 3096.67,1423.18 3137.64,1423.18 3137.64,811.653 3096.67,811.653 \"/>\n",
       "<path clip-path=\"url(#clip592)\" d=\"M3137.64 200.126 L3137.64 1423.18 L3178.61 1423.18 L3178.61 200.126 L3137.64 200.126 L3137.64 200.126  Z\" fill=\"#009af9\" fill-rule=\"evenodd\" fill-opacity=\"1\"/>\n",
       "<polyline clip-path=\"url(#clip592)\" style=\"stroke:#000000; stroke-linecap:round; stroke-linejoin:round; stroke-width:4; stroke-opacity:1; fill:none\" points=\"3137.64,200.126 3137.64,1423.18 3178.61,1423.18 3178.61,200.126 3137.64,200.126 \"/>\n",
       "<path clip-path=\"url(#clip592)\" d=\"M3178.61 811.653 L3178.61 1423.18 L3219.58 1423.18 L3219.58 811.653 L3178.61 811.653 L3178.61 811.653  Z\" fill=\"#009af9\" fill-rule=\"evenodd\" fill-opacity=\"1\"/>\n",
       "<polyline clip-path=\"url(#clip592)\" style=\"stroke:#000000; stroke-linecap:round; stroke-linejoin:round; stroke-width:4; stroke-opacity:1; fill:none\" points=\"3178.61,811.653 3178.61,1423.18 3219.58,1423.18 3219.58,811.653 3178.61,811.653 \"/>\n",
       "<path clip-path=\"url(#clip592)\" d=\"M3219.58 200.126 L3219.58 1423.18 L3260.55 1423.18 L3260.55 200.126 L3219.58 200.126 L3219.58 200.126  Z\" fill=\"#009af9\" fill-rule=\"evenodd\" fill-opacity=\"1\"/>\n",
       "<polyline clip-path=\"url(#clip592)\" style=\"stroke:#000000; stroke-linecap:round; stroke-linejoin:round; stroke-width:4; stroke-opacity:1; fill:none\" points=\"3219.58,200.126 3219.58,1423.18 3260.55,1423.18 3260.55,200.126 3219.58,200.126 \"/>\n",
       "<path clip-path=\"url(#clip592)\" d=\"M3260.55 1117.42 L3260.55 1423.18 L3301.53 1423.18 L3301.53 1117.42 L3260.55 1117.42 L3260.55 1117.42  Z\" fill=\"#009af9\" fill-rule=\"evenodd\" fill-opacity=\"1\"/>\n",
       "<polyline clip-path=\"url(#clip592)\" style=\"stroke:#000000; stroke-linecap:round; stroke-linejoin:round; stroke-width:4; stroke-opacity:1; fill:none\" points=\"3260.55,1117.42 3260.55,1423.18 3301.53,1423.18 3301.53,1117.42 3260.55,1117.42 \"/>\n",
       "<path clip-path=\"url(#clip592)\" d=\"M3301.53 658.771 L3301.53 1423.18 L3342.5 1423.18 L3342.5 658.771 L3301.53 658.771 L3301.53 658.771  Z\" fill=\"#009af9\" fill-rule=\"evenodd\" fill-opacity=\"1\"/>\n",
       "<polyline clip-path=\"url(#clip592)\" style=\"stroke:#000000; stroke-linecap:round; stroke-linejoin:round; stroke-width:4; stroke-opacity:1; fill:none\" points=\"3301.53,658.771 3301.53,1423.18 3342.5,1423.18 3342.5,658.771 3301.53,658.771 \"/>\n",
       "<path clip-path=\"url(#clip592)\" d=\"M3342.5 964.535 L3342.5 1423.18 L3383.47 1423.18 L3383.47 964.535 L3342.5 964.535 L3342.5 964.535  Z\" fill=\"#009af9\" fill-rule=\"evenodd\" fill-opacity=\"1\"/>\n",
       "<polyline clip-path=\"url(#clip592)\" style=\"stroke:#000000; stroke-linecap:round; stroke-linejoin:round; stroke-width:4; stroke-opacity:1; fill:none\" points=\"3342.5,964.535 3342.5,1423.18 3383.47,1423.18 3383.47,964.535 3342.5,964.535 \"/>\n",
       "<path clip-path=\"url(#clip592)\" d=\"M3383.47 811.653 L3383.47 1423.18 L3424.44 1423.18 L3424.44 811.653 L3383.47 811.653 L3383.47 811.653  Z\" fill=\"#009af9\" fill-rule=\"evenodd\" fill-opacity=\"1\"/>\n",
       "<polyline clip-path=\"url(#clip592)\" style=\"stroke:#000000; stroke-linecap:round; stroke-linejoin:round; stroke-width:4; stroke-opacity:1; fill:none\" points=\"3383.47,811.653 3383.47,1423.18 3424.44,1423.18 3424.44,811.653 3383.47,811.653 \"/>\n",
       "<path clip-path=\"url(#clip592)\" d=\"M3424.44 964.535 L3424.44 1423.18 L3465.41 1423.18 L3465.41 964.535 L3424.44 964.535 L3424.44 964.535  Z\" fill=\"#009af9\" fill-rule=\"evenodd\" fill-opacity=\"1\"/>\n",
       "<polyline clip-path=\"url(#clip592)\" style=\"stroke:#000000; stroke-linecap:round; stroke-linejoin:round; stroke-width:4; stroke-opacity:1; fill:none\" points=\"3424.44,964.535 3424.44,1423.18 3465.41,1423.18 3465.41,964.535 3424.44,964.535 \"/>\n",
       "<path clip-path=\"url(#clip592)\" d=\"M3465.41 505.889 L3465.41 1423.18 L3506.38 1423.18 L3506.38 505.889 L3465.41 505.889 L3465.41 505.889  Z\" fill=\"#009af9\" fill-rule=\"evenodd\" fill-opacity=\"1\"/>\n",
       "<polyline clip-path=\"url(#clip592)\" style=\"stroke:#000000; stroke-linecap:round; stroke-linejoin:round; stroke-width:4; stroke-opacity:1; fill:none\" points=\"3465.41,505.889 3465.41,1423.18 3506.38,1423.18 3506.38,505.889 3465.41,505.889 \"/>\n",
       "<path clip-path=\"url(#clip592)\" d=\"M3506.38 1117.42 L3506.38 1423.18 L3547.35 1423.18 L3547.35 1117.42 L3506.38 1117.42 L3506.38 1117.42  Z\" fill=\"#009af9\" fill-rule=\"evenodd\" fill-opacity=\"1\"/>\n",
       "<polyline clip-path=\"url(#clip592)\" style=\"stroke:#000000; stroke-linecap:round; stroke-linejoin:round; stroke-width:4; stroke-opacity:1; fill:none\" points=\"3506.38,1117.42 3506.38,1423.18 3547.35,1423.18 3547.35,1117.42 3506.38,1117.42 \"/>\n",
       "<path clip-path=\"url(#clip592)\" d=\"M3547.35 505.889 L3547.35 1423.18 L3588.32 1423.18 L3588.32 505.889 L3547.35 505.889 L3547.35 505.889  Z\" fill=\"#009af9\" fill-rule=\"evenodd\" fill-opacity=\"1\"/>\n",
       "<polyline clip-path=\"url(#clip592)\" style=\"stroke:#000000; stroke-linecap:round; stroke-linejoin:round; stroke-width:4; stroke-opacity:1; fill:none\" points=\"3547.35,505.889 3547.35,1423.18 3588.32,1423.18 3588.32,505.889 3547.35,505.889 \"/>\n",
       "<path clip-path=\"url(#clip592)\" d=\"M3588.32 964.535 L3588.32 1423.18 L3629.29 1423.18 L3629.29 964.535 L3588.32 964.535 L3588.32 964.535  Z\" fill=\"#009af9\" fill-rule=\"evenodd\" fill-opacity=\"1\"/>\n",
       "<polyline clip-path=\"url(#clip592)\" style=\"stroke:#000000; stroke-linecap:round; stroke-linejoin:round; stroke-width:4; stroke-opacity:1; fill:none\" points=\"3588.32,964.535 3588.32,1423.18 3629.29,1423.18 3629.29,964.535 3588.32,964.535 \"/>\n",
       "<path clip-path=\"url(#clip592)\" d=\"M3629.29 658.771 L3629.29 1423.18 L3670.26 1423.18 L3670.26 658.771 L3629.29 658.771 L3629.29 658.771  Z\" fill=\"#009af9\" fill-rule=\"evenodd\" fill-opacity=\"1\"/>\n",
       "<polyline clip-path=\"url(#clip592)\" style=\"stroke:#000000; stroke-linecap:round; stroke-linejoin:round; stroke-width:4; stroke-opacity:1; fill:none\" points=\"3629.29,658.771 3629.29,1423.18 3670.26,1423.18 3670.26,658.771 3629.29,658.771 \"/>\n",
       "<path clip-path=\"url(#clip592)\" d=\"M3670.26 964.535 L3670.26 1423.18 L3711.23 1423.18 L3711.23 964.535 L3670.26 964.535 L3670.26 964.535  Z\" fill=\"#009af9\" fill-rule=\"evenodd\" fill-opacity=\"1\"/>\n",
       "<polyline clip-path=\"url(#clip592)\" style=\"stroke:#000000; stroke-linecap:round; stroke-linejoin:round; stroke-width:4; stroke-opacity:1; fill:none\" points=\"3670.26,964.535 3670.26,1423.18 3711.23,1423.18 3711.23,964.535 3670.26,964.535 \"/>\n",
       "<path clip-path=\"url(#clip592)\" d=\"M3711.23 658.771 L3711.23 1423.18 L3752.2 1423.18 L3752.2 658.771 L3711.23 658.771 L3711.23 658.771  Z\" fill=\"#009af9\" fill-rule=\"evenodd\" fill-opacity=\"1\"/>\n",
       "<polyline clip-path=\"url(#clip592)\" style=\"stroke:#000000; stroke-linecap:round; stroke-linejoin:round; stroke-width:4; stroke-opacity:1; fill:none\" points=\"3711.23,658.771 3711.23,1423.18 3752.2,1423.18 3752.2,658.771 3711.23,658.771 \"/>\n",
       "<path clip-path=\"url(#clip592)\" d=\"M3752.2 505.889 L3752.2 1423.18 L3793.17 1423.18 L3793.17 505.889 L3752.2 505.889 L3752.2 505.889  Z\" fill=\"#009af9\" fill-rule=\"evenodd\" fill-opacity=\"1\"/>\n",
       "<polyline clip-path=\"url(#clip592)\" style=\"stroke:#000000; stroke-linecap:round; stroke-linejoin:round; stroke-width:4; stroke-opacity:1; fill:none\" points=\"3752.2,505.889 3752.2,1423.18 3793.17,1423.18 3793.17,505.889 3752.2,505.889 \"/>\n",
       "<path clip-path=\"url(#clip592)\" d=\"M3793.17 1117.42 L3793.17 1423.18 L3834.14 1423.18 L3834.14 1117.42 L3793.17 1117.42 L3793.17 1117.42  Z\" fill=\"#009af9\" fill-rule=\"evenodd\" fill-opacity=\"1\"/>\n",
       "<polyline clip-path=\"url(#clip592)\" style=\"stroke:#000000; stroke-linecap:round; stroke-linejoin:round; stroke-width:4; stroke-opacity:1; fill:none\" points=\"3793.17,1117.42 3793.17,1423.18 3834.14,1423.18 3834.14,1117.42 3793.17,1117.42 \"/>\n",
       "<path clip-path=\"url(#clip592)\" d=\"M3834.14 964.535 L3834.14 1423.18 L3875.11 1423.18 L3875.11 964.535 L3834.14 964.535 L3834.14 964.535  Z\" fill=\"#009af9\" fill-rule=\"evenodd\" fill-opacity=\"1\"/>\n",
       "<polyline clip-path=\"url(#clip592)\" style=\"stroke:#000000; stroke-linecap:round; stroke-linejoin:round; stroke-width:4; stroke-opacity:1; fill:none\" points=\"3834.14,964.535 3834.14,1423.18 3875.11,1423.18 3875.11,964.535 3834.14,964.535 \"/>\n",
       "<path clip-path=\"url(#clip592)\" d=\"M3875.11 964.535 L3875.11 1423.18 L3916.08 1423.18 L3916.08 964.535 L3875.11 964.535 L3875.11 964.535  Z\" fill=\"#009af9\" fill-rule=\"evenodd\" fill-opacity=\"1\"/>\n",
       "<polyline clip-path=\"url(#clip592)\" style=\"stroke:#000000; stroke-linecap:round; stroke-linejoin:round; stroke-width:4; stroke-opacity:1; fill:none\" points=\"3875.11,964.535 3875.11,1423.18 3916.08,1423.18 3916.08,964.535 3875.11,964.535 \"/>\n",
       "<path clip-path=\"url(#clip592)\" d=\"M3916.08 505.889 L3916.08 1423.18 L3957.05 1423.18 L3957.05 505.889 L3916.08 505.889 L3916.08 505.889  Z\" fill=\"#009af9\" fill-rule=\"evenodd\" fill-opacity=\"1\"/>\n",
       "<polyline clip-path=\"url(#clip592)\" style=\"stroke:#000000; stroke-linecap:round; stroke-linejoin:round; stroke-width:4; stroke-opacity:1; fill:none\" points=\"3916.08,505.889 3916.08,1423.18 3957.05,1423.18 3957.05,505.889 3916.08,505.889 \"/>\n",
       "<path clip-path=\"url(#clip592)\" d=\"M3957.05 964.535 L3957.05 1423.18 L3998.02 1423.18 L3998.02 964.535 L3957.05 964.535 L3957.05 964.535  Z\" fill=\"#009af9\" fill-rule=\"evenodd\" fill-opacity=\"1\"/>\n",
       "<polyline clip-path=\"url(#clip592)\" style=\"stroke:#000000; stroke-linecap:round; stroke-linejoin:round; stroke-width:4; stroke-opacity:1; fill:none\" points=\"3957.05,964.535 3957.05,1423.18 3998.02,1423.18 3998.02,964.535 3957.05,964.535 \"/>\n",
       "<path clip-path=\"url(#clip592)\" d=\"M3998.02 505.889 L3998.02 1423.18 L4038.99 1423.18 L4038.99 505.889 L3998.02 505.889 L3998.02 505.889  Z\" fill=\"#009af9\" fill-rule=\"evenodd\" fill-opacity=\"1\"/>\n",
       "<polyline clip-path=\"url(#clip592)\" style=\"stroke:#000000; stroke-linecap:round; stroke-linejoin:round; stroke-width:4; stroke-opacity:1; fill:none\" points=\"3998.02,505.889 3998.02,1423.18 4038.99,1423.18 4038.99,505.889 3998.02,505.889 \"/>\n",
       "<path clip-path=\"url(#clip592)\" d=\"M4038.99 353.008 L4038.99 1423.18 L4079.96 1423.18 L4079.96 353.008 L4038.99 353.008 L4038.99 353.008  Z\" fill=\"#009af9\" fill-rule=\"evenodd\" fill-opacity=\"1\"/>\n",
       "<polyline clip-path=\"url(#clip592)\" style=\"stroke:#000000; stroke-linecap:round; stroke-linejoin:round; stroke-width:4; stroke-opacity:1; fill:none\" points=\"4038.99,353.008 4038.99,1423.18 4079.96,1423.18 4079.96,353.008 4038.99,353.008 \"/>\n",
       "<path clip-path=\"url(#clip592)\" d=\"M4079.96 811.653 L4079.96 1423.18 L4120.93 1423.18 L4120.93 811.653 L4079.96 811.653 L4079.96 811.653  Z\" fill=\"#009af9\" fill-rule=\"evenodd\" fill-opacity=\"1\"/>\n",
       "<polyline clip-path=\"url(#clip592)\" style=\"stroke:#000000; stroke-linecap:round; stroke-linejoin:round; stroke-width:4; stroke-opacity:1; fill:none\" points=\"4079.96,811.653 4079.96,1423.18 4120.93,1423.18 4120.93,811.653 4079.96,811.653 \"/>\n",
       "<path clip-path=\"url(#clip592)\" d=\"M4120.93 47.2441 L4120.93 1423.18 L4161.9 1423.18 L4161.9 47.2441 L4120.93 47.2441 L4120.93 47.2441  Z\" fill=\"#009af9\" fill-rule=\"evenodd\" fill-opacity=\"1\"/>\n",
       "<polyline clip-path=\"url(#clip592)\" style=\"stroke:#000000; stroke-linecap:round; stroke-linejoin:round; stroke-width:4; stroke-opacity:1; fill:none\" points=\"4120.93,47.2441 4120.93,1423.18 4161.9,1423.18 4161.9,47.2441 4120.93,47.2441 \"/>\n",
       "<path clip-path=\"url(#clip592)\" d=\"M4161.9 811.653 L4161.9 1423.18 L4202.87 1423.18 L4202.87 811.653 L4161.9 811.653 L4161.9 811.653  Z\" fill=\"#009af9\" fill-rule=\"evenodd\" fill-opacity=\"1\"/>\n",
       "<polyline clip-path=\"url(#clip592)\" style=\"stroke:#000000; stroke-linecap:round; stroke-linejoin:round; stroke-width:4; stroke-opacity:1; fill:none\" points=\"4161.9,811.653 4161.9,1423.18 4202.87,1423.18 4202.87,811.653 4161.9,811.653 \"/>\n",
       "<path clip-path=\"url(#clip592)\" d=\"M4202.87 47.2441 L4202.87 1423.18 L4243.84 1423.18 L4243.84 47.2441 L4202.87 47.2441 L4202.87 47.2441  Z\" fill=\"#009af9\" fill-rule=\"evenodd\" fill-opacity=\"1\"/>\n",
       "<polyline clip-path=\"url(#clip592)\" style=\"stroke:#000000; stroke-linecap:round; stroke-linejoin:round; stroke-width:4; stroke-opacity:1; fill:none\" points=\"4202.87,47.2441 4202.87,1423.18 4243.84,1423.18 4243.84,47.2441 4202.87,47.2441 \"/>\n",
       "<path clip-path=\"url(#clip592)\" d=\"M4243.84 964.535 L4243.84 1423.18 L4284.81 1423.18 L4284.81 964.535 L4243.84 964.535 L4243.84 964.535  Z\" fill=\"#009af9\" fill-rule=\"evenodd\" fill-opacity=\"1\"/>\n",
       "<polyline clip-path=\"url(#clip592)\" style=\"stroke:#000000; stroke-linecap:round; stroke-linejoin:round; stroke-width:4; stroke-opacity:1; fill:none\" points=\"4243.84,964.535 4243.84,1423.18 4284.81,1423.18 4284.81,964.535 4243.84,964.535 \"/>\n",
       "<path clip-path=\"url(#clip592)\" d=\"M4284.81 1117.42 L4284.81 1423.18 L4325.78 1423.18 L4325.78 1117.42 L4284.81 1117.42 L4284.81 1117.42  Z\" fill=\"#009af9\" fill-rule=\"evenodd\" fill-opacity=\"1\"/>\n",
       "<polyline clip-path=\"url(#clip592)\" style=\"stroke:#000000; stroke-linecap:round; stroke-linejoin:round; stroke-width:4; stroke-opacity:1; fill:none\" points=\"4284.81,1117.42 4284.81,1423.18 4325.78,1423.18 4325.78,1117.42 4284.81,1117.42 \"/>\n",
       "<path clip-path=\"url(#clip592)\" d=\"M4325.78 353.008 L4325.78 1423.18 L4366.75 1423.18 L4366.75 353.008 L4325.78 353.008 L4325.78 353.008  Z\" fill=\"#009af9\" fill-rule=\"evenodd\" fill-opacity=\"1\"/>\n",
       "<polyline clip-path=\"url(#clip592)\" style=\"stroke:#000000; stroke-linecap:round; stroke-linejoin:round; stroke-width:4; stroke-opacity:1; fill:none\" points=\"4325.78,353.008 4325.78,1423.18 4366.75,1423.18 4366.75,353.008 4325.78,353.008 \"/>\n",
       "<path clip-path=\"url(#clip592)\" d=\"M4366.75 200.126 L4366.75 1423.18 L4407.72 1423.18 L4407.72 200.126 L4366.75 200.126 L4366.75 200.126  Z\" fill=\"#009af9\" fill-rule=\"evenodd\" fill-opacity=\"1\"/>\n",
       "<polyline clip-path=\"url(#clip592)\" style=\"stroke:#000000; stroke-linecap:round; stroke-linejoin:round; stroke-width:4; stroke-opacity:1; fill:none\" points=\"4366.75,200.126 4366.75,1423.18 4407.72,1423.18 4407.72,200.126 4366.75,200.126 \"/>\n",
       "<path clip-path=\"url(#clip592)\" d=\"M4407.72 658.771 L4407.72 1423.18 L4448.69 1423.18 L4448.69 658.771 L4407.72 658.771 L4407.72 658.771  Z\" fill=\"#009af9\" fill-rule=\"evenodd\" fill-opacity=\"1\"/>\n",
       "<polyline clip-path=\"url(#clip592)\" style=\"stroke:#000000; stroke-linecap:round; stroke-linejoin:round; stroke-width:4; stroke-opacity:1; fill:none\" points=\"4407.72,658.771 4407.72,1423.18 4448.69,1423.18 4448.69,658.771 4407.72,658.771 \"/>\n",
       "<path clip-path=\"url(#clip592)\" d=\"M4448.69 1117.42 L4448.69 1423.18 L4489.66 1423.18 L4489.66 1117.42 L4448.69 1117.42 L4448.69 1117.42  Z\" fill=\"#009af9\" fill-rule=\"evenodd\" fill-opacity=\"1\"/>\n",
       "<polyline clip-path=\"url(#clip592)\" style=\"stroke:#000000; stroke-linecap:round; stroke-linejoin:round; stroke-width:4; stroke-opacity:1; fill:none\" points=\"4448.69,1117.42 4448.69,1423.18 4489.66,1423.18 4489.66,1117.42 4448.69,1117.42 \"/>\n",
       "<path clip-path=\"url(#clip592)\" d=\"M4489.66 505.889 L4489.66 1423.18 L4530.63 1423.18 L4530.63 505.889 L4489.66 505.889 L4489.66 505.889  Z\" fill=\"#009af9\" fill-rule=\"evenodd\" fill-opacity=\"1\"/>\n",
       "<polyline clip-path=\"url(#clip592)\" style=\"stroke:#000000; stroke-linecap:round; stroke-linejoin:round; stroke-width:4; stroke-opacity:1; fill:none\" points=\"4489.66,505.889 4489.66,1423.18 4530.63,1423.18 4530.63,505.889 4489.66,505.889 \"/>\n",
       "<path clip-path=\"url(#clip592)\" d=\"M4530.63 1270.3 L4530.63 1423.18 L4571.6 1423.18 L4571.6 1270.3 L4530.63 1270.3 L4530.63 1270.3  Z\" fill=\"#009af9\" fill-rule=\"evenodd\" fill-opacity=\"1\"/>\n",
       "<polyline clip-path=\"url(#clip592)\" style=\"stroke:#000000; stroke-linecap:round; stroke-linejoin:round; stroke-width:4; stroke-opacity:1; fill:none\" points=\"4530.63,1270.3 4530.63,1423.18 4571.6,1423.18 4571.6,1270.3 4530.63,1270.3 \"/>\n",
       "<path clip-path=\"url(#clip592)\" d=\"M4571.6 811.653 L4571.6 1423.18 L4612.57 1423.18 L4612.57 811.653 L4571.6 811.653 L4571.6 811.653  Z\" fill=\"#009af9\" fill-rule=\"evenodd\" fill-opacity=\"1\"/>\n",
       "<polyline clip-path=\"url(#clip592)\" style=\"stroke:#000000; stroke-linecap:round; stroke-linejoin:round; stroke-width:4; stroke-opacity:1; fill:none\" points=\"4571.6,811.653 4571.6,1423.18 4612.57,1423.18 4612.57,811.653 4571.6,811.653 \"/>\n",
       "<path clip-path=\"url(#clip592)\" d=\"M4612.57 1270.3 L4612.57 1423.18 L4653.54 1423.18 L4653.54 1270.3 L4612.57 1270.3 L4612.57 1270.3  Z\" fill=\"#009af9\" fill-rule=\"evenodd\" fill-opacity=\"1\"/>\n",
       "<polyline clip-path=\"url(#clip592)\" style=\"stroke:#000000; stroke-linecap:round; stroke-linejoin:round; stroke-width:4; stroke-opacity:1; fill:none\" points=\"4612.57,1270.3 4612.57,1423.18 4653.54,1423.18 4653.54,1270.3 4612.57,1270.3 \"/>\n",
       "<path clip-path=\"url(#clip592)\" d=\"M4653.54 811.653 L4653.54 1423.18 L4694.51 1423.18 L4694.51 811.653 L4653.54 811.653 L4653.54 811.653  Z\" fill=\"#009af9\" fill-rule=\"evenodd\" fill-opacity=\"1\"/>\n",
       "<polyline clip-path=\"url(#clip592)\" style=\"stroke:#000000; stroke-linecap:round; stroke-linejoin:round; stroke-width:4; stroke-opacity:1; fill:none\" points=\"4653.54,811.653 4653.54,1423.18 4694.51,1423.18 4694.51,811.653 4653.54,811.653 \"/>\n",
       "<path clip-path=\"url(#clip592)\" d=\"M4694.51 658.771 L4694.51 1423.18 L4735.48 1423.18 L4735.48 658.771 L4694.51 658.771 L4694.51 658.771  Z\" fill=\"#009af9\" fill-rule=\"evenodd\" fill-opacity=\"1\"/>\n",
       "<polyline clip-path=\"url(#clip592)\" style=\"stroke:#000000; stroke-linecap:round; stroke-linejoin:round; stroke-width:4; stroke-opacity:1; fill:none\" points=\"4694.51,658.771 4694.51,1423.18 4735.48,1423.18 4735.48,658.771 4694.51,658.771 \"/>\n",
       "<path clip-path=\"url(#clip592)\" d=\"M4735.48 658.771 L4735.48 1423.18 L4776.45 1423.18 L4776.45 658.771 L4735.48 658.771 L4735.48 658.771  Z\" fill=\"#009af9\" fill-rule=\"evenodd\" fill-opacity=\"1\"/>\n",
       "<polyline clip-path=\"url(#clip592)\" style=\"stroke:#000000; stroke-linecap:round; stroke-linejoin:round; stroke-width:4; stroke-opacity:1; fill:none\" points=\"4735.48,658.771 4735.48,1423.18 4776.45,1423.18 4776.45,658.771 4735.48,658.771 \"/>\n",
       "<path clip-path=\"url(#clip592)\" d=\"M4776.45 658.771 L4776.45 1423.18 L4817.42 1423.18 L4817.42 658.771 L4776.45 658.771 L4776.45 658.771  Z\" fill=\"#009af9\" fill-rule=\"evenodd\" fill-opacity=\"1\"/>\n",
       "<polyline clip-path=\"url(#clip592)\" style=\"stroke:#000000; stroke-linecap:round; stroke-linejoin:round; stroke-width:4; stroke-opacity:1; fill:none\" points=\"4776.45,658.771 4776.45,1423.18 4817.42,1423.18 4817.42,658.771 4776.45,658.771 \"/>\n",
       "<path clip-path=\"url(#clip592)\" d=\"M4817.42 505.889 L4817.42 1423.18 L4858.39 1423.18 L4858.39 505.889 L4817.42 505.889 L4817.42 505.889  Z\" fill=\"#009af9\" fill-rule=\"evenodd\" fill-opacity=\"1\"/>\n",
       "<polyline clip-path=\"url(#clip592)\" style=\"stroke:#000000; stroke-linecap:round; stroke-linejoin:round; stroke-width:4; stroke-opacity:1; fill:none\" points=\"4817.42,505.889 4817.42,1423.18 4858.39,1423.18 4858.39,505.889 4817.42,505.889 \"/>\n",
       "<path clip-path=\"url(#clip592)\" d=\"M4858.39 1270.3 L4858.39 1423.18 L4899.36 1423.18 L4899.36 1270.3 L4858.39 1270.3 L4858.39 1270.3  Z\" fill=\"#009af9\" fill-rule=\"evenodd\" fill-opacity=\"1\"/>\n",
       "<polyline clip-path=\"url(#clip592)\" style=\"stroke:#000000; stroke-linecap:round; stroke-linejoin:round; stroke-width:4; stroke-opacity:1; fill:none\" points=\"4858.39,1270.3 4858.39,1423.18 4899.36,1423.18 4899.36,1270.3 4858.39,1270.3 \"/>\n",
       "<path clip-path=\"url(#clip592)\" d=\"M4899.36 811.653 L4899.36 1423.18 L4940.33 1423.18 L4940.33 811.653 L4899.36 811.653 L4899.36 811.653  Z\" fill=\"#009af9\" fill-rule=\"evenodd\" fill-opacity=\"1\"/>\n",
       "<polyline clip-path=\"url(#clip592)\" style=\"stroke:#000000; stroke-linecap:round; stroke-linejoin:round; stroke-width:4; stroke-opacity:1; fill:none\" points=\"4899.36,811.653 4899.36,1423.18 4940.33,1423.18 4940.33,811.653 4899.36,811.653 \"/>\n",
       "<path clip-path=\"url(#clip592)\" d=\"M4940.33 1270.3 L4940.33 1423.18 L4981.3 1423.18 L4981.3 1270.3 L4940.33 1270.3 L4940.33 1270.3  Z\" fill=\"#009af9\" fill-rule=\"evenodd\" fill-opacity=\"1\"/>\n",
       "<polyline clip-path=\"url(#clip592)\" style=\"stroke:#000000; stroke-linecap:round; stroke-linejoin:round; stroke-width:4; stroke-opacity:1; fill:none\" points=\"4940.33,1270.3 4940.33,1423.18 4981.3,1423.18 4981.3,1270.3 4940.33,1270.3 \"/>\n",
       "<path clip-path=\"url(#clip592)\" d=\"M4981.3 1270.3 L4981.3 1423.18 L5022.27 1423.18 L5022.27 1270.3 L4981.3 1270.3 L4981.3 1270.3  Z\" fill=\"#009af9\" fill-rule=\"evenodd\" fill-opacity=\"1\"/>\n",
       "<polyline clip-path=\"url(#clip592)\" style=\"stroke:#000000; stroke-linecap:round; stroke-linejoin:round; stroke-width:4; stroke-opacity:1; fill:none\" points=\"4981.3,1270.3 4981.3,1423.18 5022.27,1423.18 5022.27,1270.3 4981.3,1270.3 \"/>\n",
       "<path clip-path=\"url(#clip592)\" d=\"M5022.27 658.771 L5022.27 1423.18 L5063.24 1423.18 L5063.24 658.771 L5022.27 658.771 L5022.27 658.771  Z\" fill=\"#009af9\" fill-rule=\"evenodd\" fill-opacity=\"1\"/>\n",
       "<polyline clip-path=\"url(#clip592)\" style=\"stroke:#000000; stroke-linecap:round; stroke-linejoin:round; stroke-width:4; stroke-opacity:1; fill:none\" points=\"5022.27,658.771 5022.27,1423.18 5063.24,1423.18 5063.24,658.771 5022.27,658.771 \"/>\n",
       "<path clip-path=\"url(#clip592)\" d=\"M5063.24 353.008 L5063.24 1423.18 L5104.21 1423.18 L5104.21 353.008 L5063.24 353.008 L5063.24 353.008  Z\" fill=\"#009af9\" fill-rule=\"evenodd\" fill-opacity=\"1\"/>\n",
       "<polyline clip-path=\"url(#clip592)\" style=\"stroke:#000000; stroke-linecap:round; stroke-linejoin:round; stroke-width:4; stroke-opacity:1; fill:none\" points=\"5063.24,353.008 5063.24,1423.18 5104.21,1423.18 5104.21,353.008 5063.24,353.008 \"/>\n",
       "<path clip-path=\"url(#clip592)\" d=\"M5104.21 964.535 L5104.21 1423.18 L5145.18 1423.18 L5145.18 964.535 L5104.21 964.535 L5104.21 964.535  Z\" fill=\"#009af9\" fill-rule=\"evenodd\" fill-opacity=\"1\"/>\n",
       "<polyline clip-path=\"url(#clip592)\" style=\"stroke:#000000; stroke-linecap:round; stroke-linejoin:round; stroke-width:4; stroke-opacity:1; fill:none\" points=\"5104.21,964.535 5104.21,1423.18 5145.18,1423.18 5145.18,964.535 5104.21,964.535 \"/>\n",
       "<path clip-path=\"url(#clip592)\" d=\"M5145.18 964.535 L5145.18 1423.18 L5186.15 1423.18 L5186.15 964.535 L5145.18 964.535 L5145.18 964.535  Z\" fill=\"#009af9\" fill-rule=\"evenodd\" fill-opacity=\"1\"/>\n",
       "<polyline clip-path=\"url(#clip592)\" style=\"stroke:#000000; stroke-linecap:round; stroke-linejoin:round; stroke-width:4; stroke-opacity:1; fill:none\" points=\"5145.18,964.535 5145.18,1423.18 5186.15,1423.18 5186.15,964.535 5145.18,964.535 \"/>\n",
       "<path clip-path=\"url(#clip592)\" d=\"M5186.15 47.2441 L5186.15 1423.18 L5227.12 1423.18 L5227.12 47.2441 L5186.15 47.2441 L5186.15 47.2441  Z\" fill=\"#009af9\" fill-rule=\"evenodd\" fill-opacity=\"1\"/>\n",
       "<polyline clip-path=\"url(#clip592)\" style=\"stroke:#000000; stroke-linecap:round; stroke-linejoin:round; stroke-width:4; stroke-opacity:1; fill:none\" points=\"5186.15,47.2441 5186.15,1423.18 5227.12,1423.18 5227.12,47.2441 5186.15,47.2441 \"/>\n",
       "<path clip-path=\"url(#clip592)\" d=\"M5227.12 964.535 L5227.12 1423.18 L5268.09 1423.18 L5268.09 964.535 L5227.12 964.535 L5227.12 964.535  Z\" fill=\"#009af9\" fill-rule=\"evenodd\" fill-opacity=\"1\"/>\n",
       "<polyline clip-path=\"url(#clip592)\" style=\"stroke:#000000; stroke-linecap:round; stroke-linejoin:round; stroke-width:4; stroke-opacity:1; fill:none\" points=\"5227.12,964.535 5227.12,1423.18 5268.09,1423.18 5268.09,964.535 5227.12,964.535 \"/>\n",
       "<path clip-path=\"url(#clip592)\" d=\"M5268.09 811.653 L5268.09 1423.18 L5309.06 1423.18 L5309.06 811.653 L5268.09 811.653 L5268.09 811.653  Z\" fill=\"#009af9\" fill-rule=\"evenodd\" fill-opacity=\"1\"/>\n",
       "<polyline clip-path=\"url(#clip592)\" style=\"stroke:#000000; stroke-linecap:round; stroke-linejoin:round; stroke-width:4; stroke-opacity:1; fill:none\" points=\"5268.09,811.653 5268.09,1423.18 5309.06,1423.18 5309.06,811.653 5268.09,811.653 \"/>\n",
       "<path clip-path=\"url(#clip592)\" d=\"M5309.06 505.889 L5309.06 1423.18 L5350.03 1423.18 L5350.03 505.889 L5309.06 505.889 L5309.06 505.889  Z\" fill=\"#009af9\" fill-rule=\"evenodd\" fill-opacity=\"1\"/>\n",
       "<polyline clip-path=\"url(#clip592)\" style=\"stroke:#000000; stroke-linecap:round; stroke-linejoin:round; stroke-width:4; stroke-opacity:1; fill:none\" points=\"5309.06,505.889 5309.06,1423.18 5350.03,1423.18 5350.03,505.889 5309.06,505.889 \"/>\n",
       "<path clip-path=\"url(#clip592)\" d=\"M5350.03 964.535 L5350.03 1423.18 L5391 1423.18 L5391 964.535 L5350.03 964.535 L5350.03 964.535  Z\" fill=\"#009af9\" fill-rule=\"evenodd\" fill-opacity=\"1\"/>\n",
       "<polyline clip-path=\"url(#clip592)\" style=\"stroke:#000000; stroke-linecap:round; stroke-linejoin:round; stroke-width:4; stroke-opacity:1; fill:none\" points=\"5350.03,964.535 5350.03,1423.18 5391,1423.18 5391,964.535 5350.03,964.535 \"/>\n",
       "<path clip-path=\"url(#clip592)\" d=\"M5391 964.535 L5391 1423.18 L5431.97 1423.18 L5431.97 964.535 L5391 964.535 L5391 964.535  Z\" fill=\"#009af9\" fill-rule=\"evenodd\" fill-opacity=\"1\"/>\n",
       "<polyline clip-path=\"url(#clip592)\" style=\"stroke:#000000; stroke-linecap:round; stroke-linejoin:round; stroke-width:4; stroke-opacity:1; fill:none\" points=\"5391,964.535 5391,1423.18 5431.97,1423.18 5431.97,964.535 5391,964.535 \"/>\n",
       "<path clip-path=\"url(#clip592)\" d=\"M5431.97 811.653 L5431.97 1423.18 L5472.94 1423.18 L5472.94 811.653 L5431.97 811.653 L5431.97 811.653  Z\" fill=\"#009af9\" fill-rule=\"evenodd\" fill-opacity=\"1\"/>\n",
       "<polyline clip-path=\"url(#clip592)\" style=\"stroke:#000000; stroke-linecap:round; stroke-linejoin:round; stroke-width:4; stroke-opacity:1; fill:none\" points=\"5431.97,811.653 5431.97,1423.18 5472.94,1423.18 5472.94,811.653 5431.97,811.653 \"/>\n",
       "<path clip-path=\"url(#clip592)\" d=\"M5472.94 964.535 L5472.94 1423.18 L5513.91 1423.18 L5513.91 964.535 L5472.94 964.535 L5472.94 964.535  Z\" fill=\"#009af9\" fill-rule=\"evenodd\" fill-opacity=\"1\"/>\n",
       "<polyline clip-path=\"url(#clip592)\" style=\"stroke:#000000; stroke-linecap:round; stroke-linejoin:round; stroke-width:4; stroke-opacity:1; fill:none\" points=\"5472.94,964.535 5472.94,1423.18 5513.91,1423.18 5513.91,964.535 5472.94,964.535 \"/>\n",
       "<path clip-path=\"url(#clip592)\" d=\"M5513.91 1117.42 L5513.91 1423.18 L5554.88 1423.18 L5554.88 1117.42 L5513.91 1117.42 L5513.91 1117.42  Z\" fill=\"#009af9\" fill-rule=\"evenodd\" fill-opacity=\"1\"/>\n",
       "<polyline clip-path=\"url(#clip592)\" style=\"stroke:#000000; stroke-linecap:round; stroke-linejoin:round; stroke-width:4; stroke-opacity:1; fill:none\" points=\"5513.91,1117.42 5513.91,1423.18 5554.88,1423.18 5554.88,1117.42 5513.91,1117.42 \"/>\n",
       "<path clip-path=\"url(#clip592)\" d=\"M5554.88 964.535 L5554.88 1423.18 L5595.85 1423.18 L5595.85 964.535 L5554.88 964.535 L5554.88 964.535  Z\" fill=\"#009af9\" fill-rule=\"evenodd\" fill-opacity=\"1\"/>\n",
       "<polyline clip-path=\"url(#clip592)\" style=\"stroke:#000000; stroke-linecap:round; stroke-linejoin:round; stroke-width:4; stroke-opacity:1; fill:none\" points=\"5554.88,964.535 5554.88,1423.18 5595.85,1423.18 5595.85,964.535 5554.88,964.535 \"/>\n",
       "<path clip-path=\"url(#clip592)\" d=\"M5595.85 964.535 L5595.85 1423.18 L5636.83 1423.18 L5636.83 964.535 L5595.85 964.535 L5595.85 964.535  Z\" fill=\"#009af9\" fill-rule=\"evenodd\" fill-opacity=\"1\"/>\n",
       "<polyline clip-path=\"url(#clip592)\" style=\"stroke:#000000; stroke-linecap:round; stroke-linejoin:round; stroke-width:4; stroke-opacity:1; fill:none\" points=\"5595.85,964.535 5595.85,1423.18 5636.83,1423.18 5636.83,964.535 5595.85,964.535 \"/>\n",
       "<path clip-path=\"url(#clip592)\" d=\"M5636.83 964.535 L5636.83 1423.18 L5677.8 1423.18 L5677.8 964.535 L5636.83 964.535 L5636.83 964.535  Z\" fill=\"#009af9\" fill-rule=\"evenodd\" fill-opacity=\"1\"/>\n",
       "<polyline clip-path=\"url(#clip592)\" style=\"stroke:#000000; stroke-linecap:round; stroke-linejoin:round; stroke-width:4; stroke-opacity:1; fill:none\" points=\"5636.83,964.535 5636.83,1423.18 5677.8,1423.18 5677.8,964.535 5636.83,964.535 \"/>\n",
       "<path clip-path=\"url(#clip592)\" d=\"M5677.8 1423.18 L5677.8 1423.18 L5718.77 1423.18 L5718.77 1423.18 L5677.8 1423.18 L5677.8 1423.18  Z\" fill=\"#009af9\" fill-rule=\"evenodd\" fill-opacity=\"1\"/>\n",
       "<polyline clip-path=\"url(#clip592)\" style=\"stroke:#000000; stroke-linecap:round; stroke-linejoin:round; stroke-width:4; stroke-opacity:1; fill:none\" points=\"5677.8,1423.18 5677.8,1423.18 5718.77,1423.18 5677.8,1423.18 \"/>\n",
       "<path clip-path=\"url(#clip592)\" d=\"M5718.77 1270.3 L5718.77 1423.18 L5759.74 1423.18 L5759.74 1270.3 L5718.77 1270.3 L5718.77 1270.3  Z\" fill=\"#009af9\" fill-rule=\"evenodd\" fill-opacity=\"1\"/>\n",
       "<polyline clip-path=\"url(#clip592)\" style=\"stroke:#000000; stroke-linecap:round; stroke-linejoin:round; stroke-width:4; stroke-opacity:1; fill:none\" points=\"5718.77,1270.3 5718.77,1423.18 5759.74,1423.18 5759.74,1270.3 5718.77,1270.3 \"/>\n",
       "<path clip-path=\"url(#clip592)\" d=\"M5759.74 1270.3 L5759.74 1423.18 L5800.71 1423.18 L5800.71 1270.3 L5759.74 1270.3 L5759.74 1270.3  Z\" fill=\"#009af9\" fill-rule=\"evenodd\" fill-opacity=\"1\"/>\n",
       "<polyline clip-path=\"url(#clip592)\" style=\"stroke:#000000; stroke-linecap:round; stroke-linejoin:round; stroke-width:4; stroke-opacity:1; fill:none\" points=\"5759.74,1270.3 5759.74,1423.18 5800.71,1423.18 5800.71,1270.3 5759.74,1270.3 \"/>\n",
       "<path clip-path=\"url(#clip592)\" d=\"M5800.71 658.771 L5800.71 1423.18 L5841.68 1423.18 L5841.68 658.771 L5800.71 658.771 L5800.71 658.771  Z\" fill=\"#009af9\" fill-rule=\"evenodd\" fill-opacity=\"1\"/>\n",
       "<polyline clip-path=\"url(#clip592)\" style=\"stroke:#000000; stroke-linecap:round; stroke-linejoin:round; stroke-width:4; stroke-opacity:1; fill:none\" points=\"5800.71,658.771 5800.71,1423.18 5841.68,1423.18 5841.68,658.771 5800.71,658.771 \"/>\n",
       "<path clip-path=\"url(#clip592)\" d=\"M5841.68 811.653 L5841.68 1423.18 L5882.65 1423.18 L5882.65 811.653 L5841.68 811.653 L5841.68 811.653  Z\" fill=\"#009af9\" fill-rule=\"evenodd\" fill-opacity=\"1\"/>\n",
       "<polyline clip-path=\"url(#clip592)\" style=\"stroke:#000000; stroke-linecap:round; stroke-linejoin:round; stroke-width:4; stroke-opacity:1; fill:none\" points=\"5841.68,811.653 5841.68,1423.18 5882.65,1423.18 5882.65,811.653 5841.68,811.653 \"/>\n",
       "<path clip-path=\"url(#clip592)\" d=\"M5882.65 1270.3 L5882.65 1423.18 L5923.62 1423.18 L5923.62 1270.3 L5882.65 1270.3 L5882.65 1270.3  Z\" fill=\"#009af9\" fill-rule=\"evenodd\" fill-opacity=\"1\"/>\n",
       "<polyline clip-path=\"url(#clip592)\" style=\"stroke:#000000; stroke-linecap:round; stroke-linejoin:round; stroke-width:4; stroke-opacity:1; fill:none\" points=\"5882.65,1270.3 5882.65,1423.18 5923.62,1423.18 5923.62,1270.3 5882.65,1270.3 \"/>\n",
       "<path clip-path=\"url(#clip592)\" d=\"M5923.62 811.653 L5923.62 1423.18 L5964.59 1423.18 L5964.59 811.653 L5923.62 811.653 L5923.62 811.653  Z\" fill=\"#009af9\" fill-rule=\"evenodd\" fill-opacity=\"1\"/>\n",
       "<polyline clip-path=\"url(#clip592)\" style=\"stroke:#000000; stroke-linecap:round; stroke-linejoin:round; stroke-width:4; stroke-opacity:1; fill:none\" points=\"5923.62,811.653 5923.62,1423.18 5964.59,1423.18 5964.59,811.653 5923.62,811.653 \"/>\n",
       "<path clip-path=\"url(#clip592)\" d=\"M5964.59 964.535 L5964.59 1423.18 L6005.56 1423.18 L6005.56 964.535 L5964.59 964.535 L5964.59 964.535  Z\" fill=\"#009af9\" fill-rule=\"evenodd\" fill-opacity=\"1\"/>\n",
       "<polyline clip-path=\"url(#clip592)\" style=\"stroke:#000000; stroke-linecap:round; stroke-linejoin:round; stroke-width:4; stroke-opacity:1; fill:none\" points=\"5964.59,964.535 5964.59,1423.18 6005.56,1423.18 6005.56,964.535 5964.59,964.535 \"/>\n",
       "<path clip-path=\"url(#clip592)\" d=\"M6005.56 1117.42 L6005.56 1423.18 L6046.53 1423.18 L6046.53 1117.42 L6005.56 1117.42 L6005.56 1117.42  Z\" fill=\"#009af9\" fill-rule=\"evenodd\" fill-opacity=\"1\"/>\n",
       "<polyline clip-path=\"url(#clip592)\" style=\"stroke:#000000; stroke-linecap:round; stroke-linejoin:round; stroke-width:4; stroke-opacity:1; fill:none\" points=\"6005.56,1117.42 6005.56,1423.18 6046.53,1423.18 6046.53,1117.42 6005.56,1117.42 \"/>\n",
       "<path clip-path=\"url(#clip592)\" d=\"M6046.53 1117.42 L6046.53 1423.18 L6087.5 1423.18 L6087.5 1117.42 L6046.53 1117.42 L6046.53 1117.42  Z\" fill=\"#009af9\" fill-rule=\"evenodd\" fill-opacity=\"1\"/>\n",
       "<polyline clip-path=\"url(#clip592)\" style=\"stroke:#000000; stroke-linecap:round; stroke-linejoin:round; stroke-width:4; stroke-opacity:1; fill:none\" points=\"6046.53,1117.42 6046.53,1423.18 6087.5,1423.18 6087.5,1117.42 6046.53,1117.42 \"/>\n",
       "<path clip-path=\"url(#clip592)\" d=\"M6087.5 1117.42 L6087.5 1423.18 L6128.47 1423.18 L6128.47 1117.42 L6087.5 1117.42 L6087.5 1117.42  Z\" fill=\"#009af9\" fill-rule=\"evenodd\" fill-opacity=\"1\"/>\n",
       "<polyline clip-path=\"url(#clip592)\" style=\"stroke:#000000; stroke-linecap:round; stroke-linejoin:round; stroke-width:4; stroke-opacity:1; fill:none\" points=\"6087.5,1117.42 6087.5,1423.18 6128.47,1423.18 6128.47,1117.42 6087.5,1117.42 \"/>\n",
       "<path clip-path=\"url(#clip592)\" d=\"M6128.47 1270.3 L6128.47 1423.18 L6169.44 1423.18 L6169.44 1270.3 L6128.47 1270.3 L6128.47 1270.3  Z\" fill=\"#009af9\" fill-rule=\"evenodd\" fill-opacity=\"1\"/>\n",
       "<polyline clip-path=\"url(#clip592)\" style=\"stroke:#000000; stroke-linecap:round; stroke-linejoin:round; stroke-width:4; stroke-opacity:1; fill:none\" points=\"6128.47,1270.3 6128.47,1423.18 6169.44,1423.18 6169.44,1270.3 6128.47,1270.3 \"/>\n",
       "<path clip-path=\"url(#clip592)\" d=\"M6169.44 1423.18 L6169.44 1423.18 L6210.41 1423.18 L6210.41 1423.18 L6169.44 1423.18 L6169.44 1423.18  Z\" fill=\"#009af9\" fill-rule=\"evenodd\" fill-opacity=\"1\"/>\n",
       "<polyline clip-path=\"url(#clip592)\" style=\"stroke:#000000; stroke-linecap:round; stroke-linejoin:round; stroke-width:4; stroke-opacity:1; fill:none\" points=\"6169.44,1423.18 6169.44,1423.18 6210.41,1423.18 6169.44,1423.18 \"/>\n",
       "<path clip-path=\"url(#clip592)\" d=\"M6210.41 1423.18 L6210.41 1423.18 L6251.38 1423.18 L6251.38 1423.18 L6210.41 1423.18 L6210.41 1423.18  Z\" fill=\"#009af9\" fill-rule=\"evenodd\" fill-opacity=\"1\"/>\n",
       "<polyline clip-path=\"url(#clip592)\" style=\"stroke:#000000; stroke-linecap:round; stroke-linejoin:round; stroke-width:4; stroke-opacity:1; fill:none\" points=\"6210.41,1423.18 6210.41,1423.18 6251.38,1423.18 6210.41,1423.18 \"/>\n",
       "<path clip-path=\"url(#clip592)\" d=\"M6251.38 1270.3 L6251.38 1423.18 L6292.35 1423.18 L6292.35 1270.3 L6251.38 1270.3 L6251.38 1270.3  Z\" fill=\"#009af9\" fill-rule=\"evenodd\" fill-opacity=\"1\"/>\n",
       "<polyline clip-path=\"url(#clip592)\" style=\"stroke:#000000; stroke-linecap:round; stroke-linejoin:round; stroke-width:4; stroke-opacity:1; fill:none\" points=\"6251.38,1270.3 6251.38,1423.18 6292.35,1423.18 6292.35,1270.3 6251.38,1270.3 \"/>\n",
       "<path clip-path=\"url(#clip592)\" d=\"M6292.35 1270.3 L6292.35 1423.18 L6333.32 1423.18 L6333.32 1270.3 L6292.35 1270.3 L6292.35 1270.3  Z\" fill=\"#009af9\" fill-rule=\"evenodd\" fill-opacity=\"1\"/>\n",
       "<polyline clip-path=\"url(#clip592)\" style=\"stroke:#000000; stroke-linecap:round; stroke-linejoin:round; stroke-width:4; stroke-opacity:1; fill:none\" points=\"6292.35,1270.3 6292.35,1423.18 6333.32,1423.18 6333.32,1270.3 6292.35,1270.3 \"/>\n",
       "<path clip-path=\"url(#clip592)\" d=\"M6333.32 1423.18 L6333.32 1423.18 L6374.29 1423.18 L6374.29 1423.18 L6333.32 1423.18 L6333.32 1423.18  Z\" fill=\"#009af9\" fill-rule=\"evenodd\" fill-opacity=\"1\"/>\n",
       "<polyline clip-path=\"url(#clip592)\" style=\"stroke:#000000; stroke-linecap:round; stroke-linejoin:round; stroke-width:4; stroke-opacity:1; fill:none\" points=\"6333.32,1423.18 6333.32,1423.18 6374.29,1423.18 6333.32,1423.18 \"/>\n",
       "<path clip-path=\"url(#clip592)\" d=\"M6374.29 1117.42 L6374.29 1423.18 L6415.26 1423.18 L6415.26 1117.42 L6374.29 1117.42 L6374.29 1117.42  Z\" fill=\"#009af9\" fill-rule=\"evenodd\" fill-opacity=\"1\"/>\n",
       "<polyline clip-path=\"url(#clip592)\" style=\"stroke:#000000; stroke-linecap:round; stroke-linejoin:round; stroke-width:4; stroke-opacity:1; fill:none\" points=\"6374.29,1117.42 6374.29,1423.18 6415.26,1423.18 6415.26,1117.42 6374.29,1117.42 \"/>\n",
       "<path clip-path=\"url(#clip592)\" d=\"M6415.26 1270.3 L6415.26 1423.18 L6456.23 1423.18 L6456.23 1270.3 L6415.26 1270.3 L6415.26 1270.3  Z\" fill=\"#009af9\" fill-rule=\"evenodd\" fill-opacity=\"1\"/>\n",
       "<polyline clip-path=\"url(#clip592)\" style=\"stroke:#000000; stroke-linecap:round; stroke-linejoin:round; stroke-width:4; stroke-opacity:1; fill:none\" points=\"6415.26,1270.3 6415.26,1423.18 6456.23,1423.18 6456.23,1270.3 6415.26,1270.3 \"/>\n",
       "<path clip-path=\"url(#clip592)\" d=\"M6456.23 1270.3 L6456.23 1423.18 L6497.2 1423.18 L6497.2 1270.3 L6456.23 1270.3 L6456.23 1270.3  Z\" fill=\"#009af9\" fill-rule=\"evenodd\" fill-opacity=\"1\"/>\n",
       "<polyline clip-path=\"url(#clip592)\" style=\"stroke:#000000; stroke-linecap:round; stroke-linejoin:round; stroke-width:4; stroke-opacity:1; fill:none\" points=\"6456.23,1270.3 6456.23,1423.18 6497.2,1423.18 6497.2,1270.3 6456.23,1270.3 \"/>\n",
       "<path clip-path=\"url(#clip592)\" d=\"M6497.2 505.889 L6497.2 1423.18 L6538.17 1423.18 L6538.17 505.889 L6497.2 505.889 L6497.2 505.889  Z\" fill=\"#009af9\" fill-rule=\"evenodd\" fill-opacity=\"1\"/>\n",
       "<polyline clip-path=\"url(#clip592)\" style=\"stroke:#000000; stroke-linecap:round; stroke-linejoin:round; stroke-width:4; stroke-opacity:1; fill:none\" points=\"6497.2,505.889 6497.2,1423.18 6538.17,1423.18 6538.17,505.889 6497.2,505.889 \"/>\n",
       "<path clip-path=\"url(#clip592)\" d=\"M6538.17 1270.3 L6538.17 1423.18 L6579.14 1423.18 L6579.14 1270.3 L6538.17 1270.3 L6538.17 1270.3  Z\" fill=\"#009af9\" fill-rule=\"evenodd\" fill-opacity=\"1\"/>\n",
       "<polyline clip-path=\"url(#clip592)\" style=\"stroke:#000000; stroke-linecap:round; stroke-linejoin:round; stroke-width:4; stroke-opacity:1; fill:none\" points=\"6538.17,1270.3 6538.17,1423.18 6579.14,1423.18 6579.14,1270.3 6538.17,1270.3 \"/>\n",
       "<path clip-path=\"url(#clip592)\" d=\"M6579.14 1270.3 L6579.14 1423.18 L6620.11 1423.18 L6620.11 1270.3 L6579.14 1270.3 L6579.14 1270.3  Z\" fill=\"#009af9\" fill-rule=\"evenodd\" fill-opacity=\"1\"/>\n",
       "<polyline clip-path=\"url(#clip592)\" style=\"stroke:#000000; stroke-linecap:round; stroke-linejoin:round; stroke-width:4; stroke-opacity:1; fill:none\" points=\"6579.14,1270.3 6579.14,1423.18 6620.11,1423.18 6620.11,1270.3 6579.14,1270.3 \"/>\n",
       "<path clip-path=\"url(#clip592)\" d=\"M6620.11 1423.18 L6620.11 1423.18 L6661.08 1423.18 L6661.08 1423.18 L6620.11 1423.18 L6620.11 1423.18  Z\" fill=\"#009af9\" fill-rule=\"evenodd\" fill-opacity=\"1\"/>\n",
       "<polyline clip-path=\"url(#clip592)\" style=\"stroke:#000000; stroke-linecap:round; stroke-linejoin:round; stroke-width:4; stroke-opacity:1; fill:none\" points=\"6620.11,1423.18 6620.11,1423.18 6661.08,1423.18 6620.11,1423.18 \"/>\n",
       "<path clip-path=\"url(#clip592)\" d=\"M6661.08 1117.42 L6661.08 1423.18 L6702.05 1423.18 L6702.05 1117.42 L6661.08 1117.42 L6661.08 1117.42  Z\" fill=\"#009af9\" fill-rule=\"evenodd\" fill-opacity=\"1\"/>\n",
       "<polyline clip-path=\"url(#clip592)\" style=\"stroke:#000000; stroke-linecap:round; stroke-linejoin:round; stroke-width:4; stroke-opacity:1; fill:none\" points=\"6661.08,1117.42 6661.08,1423.18 6702.05,1423.18 6702.05,1117.42 6661.08,1117.42 \"/>\n",
       "<path clip-path=\"url(#clip592)\" d=\"M6702.05 1117.42 L6702.05 1423.18 L6743.02 1423.18 L6743.02 1117.42 L6702.05 1117.42 L6702.05 1117.42  Z\" fill=\"#009af9\" fill-rule=\"evenodd\" fill-opacity=\"1\"/>\n",
       "<polyline clip-path=\"url(#clip592)\" style=\"stroke:#000000; stroke-linecap:round; stroke-linejoin:round; stroke-width:4; stroke-opacity:1; fill:none\" points=\"6702.05,1117.42 6702.05,1423.18 6743.02,1423.18 6743.02,1117.42 6702.05,1117.42 \"/>\n",
       "<path clip-path=\"url(#clip592)\" d=\"M6743.02 964.535 L6743.02 1423.18 L6783.99 1423.18 L6783.99 964.535 L6743.02 964.535 L6743.02 964.535  Z\" fill=\"#009af9\" fill-rule=\"evenodd\" fill-opacity=\"1\"/>\n",
       "<polyline clip-path=\"url(#clip592)\" style=\"stroke:#000000; stroke-linecap:round; stroke-linejoin:round; stroke-width:4; stroke-opacity:1; fill:none\" points=\"6743.02,964.535 6743.02,1423.18 6783.99,1423.18 6783.99,964.535 6743.02,964.535 \"/>\n",
       "<path clip-path=\"url(#clip592)\" d=\"M6783.99 1270.3 L6783.99 1423.18 L6824.96 1423.18 L6824.96 1270.3 L6783.99 1270.3 L6783.99 1270.3  Z\" fill=\"#009af9\" fill-rule=\"evenodd\" fill-opacity=\"1\"/>\n",
       "<polyline clip-path=\"url(#clip592)\" style=\"stroke:#000000; stroke-linecap:round; stroke-linejoin:round; stroke-width:4; stroke-opacity:1; fill:none\" points=\"6783.99,1270.3 6783.99,1423.18 6824.96,1423.18 6824.96,1270.3 6783.99,1270.3 \"/>\n",
       "<path clip-path=\"url(#clip592)\" d=\"M6824.96 1423.18 L6824.96 1423.18 L6865.93 1423.18 L6865.93 1423.18 L6824.96 1423.18 L6824.96 1423.18  Z\" fill=\"#009af9\" fill-rule=\"evenodd\" fill-opacity=\"1\"/>\n",
       "<polyline clip-path=\"url(#clip592)\" style=\"stroke:#000000; stroke-linecap:round; stroke-linejoin:round; stroke-width:4; stroke-opacity:1; fill:none\" points=\"6824.96,1423.18 6824.96,1423.18 6865.93,1423.18 6824.96,1423.18 \"/>\n",
       "<path clip-path=\"url(#clip592)\" d=\"M6865.93 1423.18 L6865.93 1423.18 L6906.9 1423.18 L6906.9 1423.18 L6865.93 1423.18 L6865.93 1423.18  Z\" fill=\"#009af9\" fill-rule=\"evenodd\" fill-opacity=\"1\"/>\n",
       "<polyline clip-path=\"url(#clip592)\" style=\"stroke:#000000; stroke-linecap:round; stroke-linejoin:round; stroke-width:4; stroke-opacity:1; fill:none\" points=\"6865.93,1423.18 6865.93,1423.18 6906.9,1423.18 6865.93,1423.18 \"/>\n",
       "<path clip-path=\"url(#clip592)\" d=\"M6906.9 1423.18 L6906.9 1423.18 L6947.87 1423.18 L6947.87 1423.18 L6906.9 1423.18 L6906.9 1423.18  Z\" fill=\"#009af9\" fill-rule=\"evenodd\" fill-opacity=\"1\"/>\n",
       "<polyline clip-path=\"url(#clip592)\" style=\"stroke:#000000; stroke-linecap:round; stroke-linejoin:round; stroke-width:4; stroke-opacity:1; fill:none\" points=\"6906.9,1423.18 6906.9,1423.18 6947.87,1423.18 6906.9,1423.18 \"/>\n",
       "<path clip-path=\"url(#clip592)\" d=\"M6947.87 1423.18 L6947.87 1423.18 L6988.84 1423.18 L6988.84 1423.18 L6947.87 1423.18 L6947.87 1423.18  Z\" fill=\"#009af9\" fill-rule=\"evenodd\" fill-opacity=\"1\"/>\n",
       "<polyline clip-path=\"url(#clip592)\" style=\"stroke:#000000; stroke-linecap:round; stroke-linejoin:round; stroke-width:4; stroke-opacity:1; fill:none\" points=\"6947.87,1423.18 6947.87,1423.18 6988.84,1423.18 6947.87,1423.18 \"/>\n",
       "<path clip-path=\"url(#clip592)\" d=\"M6988.84 1117.42 L6988.84 1423.18 L7029.81 1423.18 L7029.81 1117.42 L6988.84 1117.42 L6988.84 1117.42  Z\" fill=\"#009af9\" fill-rule=\"evenodd\" fill-opacity=\"1\"/>\n",
       "<polyline clip-path=\"url(#clip592)\" style=\"stroke:#000000; stroke-linecap:round; stroke-linejoin:round; stroke-width:4; stroke-opacity:1; fill:none\" points=\"6988.84,1117.42 6988.84,1423.18 7029.81,1423.18 7029.81,1117.42 6988.84,1117.42 \"/>\n",
       "<path clip-path=\"url(#clip592)\" d=\"M7029.81 1270.3 L7029.81 1423.18 L7070.78 1423.18 L7070.78 1270.3 L7029.81 1270.3 L7029.81 1270.3  Z\" fill=\"#009af9\" fill-rule=\"evenodd\" fill-opacity=\"1\"/>\n",
       "<polyline clip-path=\"url(#clip592)\" style=\"stroke:#000000; stroke-linecap:round; stroke-linejoin:round; stroke-width:4; stroke-opacity:1; fill:none\" points=\"7029.81,1270.3 7029.81,1423.18 7070.78,1423.18 7070.78,1270.3 7029.81,1270.3 \"/>\n",
       "<path clip-path=\"url(#clip592)\" d=\"M7070.78 1117.42 L7070.78 1423.18 L7111.75 1423.18 L7111.75 1117.42 L7070.78 1117.42 L7070.78 1117.42  Z\" fill=\"#009af9\" fill-rule=\"evenodd\" fill-opacity=\"1\"/>\n",
       "<polyline clip-path=\"url(#clip592)\" style=\"stroke:#000000; stroke-linecap:round; stroke-linejoin:round; stroke-width:4; stroke-opacity:1; fill:none\" points=\"7070.78,1117.42 7070.78,1423.18 7111.75,1423.18 7111.75,1117.42 7070.78,1117.42 \"/>\n",
       "<path clip-path=\"url(#clip592)\" d=\"M7111.75 1270.3 L7111.75 1423.18 L7152.72 1423.18 L7152.72 1270.3 L7111.75 1270.3 L7111.75 1270.3  Z\" fill=\"#009af9\" fill-rule=\"evenodd\" fill-opacity=\"1\"/>\n",
       "<polyline clip-path=\"url(#clip592)\" style=\"stroke:#000000; stroke-linecap:round; stroke-linejoin:round; stroke-width:4; stroke-opacity:1; fill:none\" points=\"7111.75,1270.3 7111.75,1423.18 7152.72,1423.18 7152.72,1270.3 7111.75,1270.3 \"/>\n",
       "<path clip-path=\"url(#clip592)\" d=\"M7152.72 1117.42 L7152.72 1423.18 L7193.69 1423.18 L7193.69 1117.42 L7152.72 1117.42 L7152.72 1117.42  Z\" fill=\"#009af9\" fill-rule=\"evenodd\" fill-opacity=\"1\"/>\n",
       "<polyline clip-path=\"url(#clip592)\" style=\"stroke:#000000; stroke-linecap:round; stroke-linejoin:round; stroke-width:4; stroke-opacity:1; fill:none\" points=\"7152.72,1117.42 7152.72,1423.18 7193.69,1423.18 7193.69,1117.42 7152.72,1117.42 \"/>\n",
       "<path clip-path=\"url(#clip592)\" d=\"M7193.69 1117.42 L7193.69 1423.18 L7234.66 1423.18 L7234.66 1117.42 L7193.69 1117.42 L7193.69 1117.42  Z\" fill=\"#009af9\" fill-rule=\"evenodd\" fill-opacity=\"1\"/>\n",
       "<polyline clip-path=\"url(#clip592)\" style=\"stroke:#000000; stroke-linecap:round; stroke-linejoin:round; stroke-width:4; stroke-opacity:1; fill:none\" points=\"7193.69,1117.42 7193.69,1423.18 7234.66,1423.18 7234.66,1117.42 7193.69,1117.42 \"/>\n",
       "<path clip-path=\"url(#clip592)\" d=\"M7234.66 1423.18 L7234.66 1423.18 L7275.63 1423.18 L7275.63 1423.18 L7234.66 1423.18 L7234.66 1423.18  Z\" fill=\"#009af9\" fill-rule=\"evenodd\" fill-opacity=\"1\"/>\n",
       "<polyline clip-path=\"url(#clip592)\" style=\"stroke:#000000; stroke-linecap:round; stroke-linejoin:round; stroke-width:4; stroke-opacity:1; fill:none\" points=\"7234.66,1423.18 7234.66,1423.18 7275.63,1423.18 7234.66,1423.18 \"/>\n",
       "<path clip-path=\"url(#clip592)\" d=\"M7275.63 1270.3 L7275.63 1423.18 L7316.6 1423.18 L7316.6 1270.3 L7275.63 1270.3 L7275.63 1270.3  Z\" fill=\"#009af9\" fill-rule=\"evenodd\" fill-opacity=\"1\"/>\n",
       "<polyline clip-path=\"url(#clip592)\" style=\"stroke:#000000; stroke-linecap:round; stroke-linejoin:round; stroke-width:4; stroke-opacity:1; fill:none\" points=\"7275.63,1270.3 7275.63,1423.18 7316.6,1423.18 7316.6,1270.3 7275.63,1270.3 \"/>\n",
       "<path clip-path=\"url(#clip592)\" d=\"M7316.6 1270.3 L7316.6 1423.18 L7357.57 1423.18 L7357.57 1270.3 L7316.6 1270.3 L7316.6 1270.3  Z\" fill=\"#009af9\" fill-rule=\"evenodd\" fill-opacity=\"1\"/>\n",
       "<polyline clip-path=\"url(#clip592)\" style=\"stroke:#000000; stroke-linecap:round; stroke-linejoin:round; stroke-width:4; stroke-opacity:1; fill:none\" points=\"7316.6,1270.3 7316.6,1423.18 7357.57,1423.18 7357.57,1270.3 7316.6,1270.3 \"/>\n",
       "<path clip-path=\"url(#clip592)\" d=\"M7357.57 1270.3 L7357.57 1423.18 L7398.54 1423.18 L7398.54 1270.3 L7357.57 1270.3 L7357.57 1270.3  Z\" fill=\"#009af9\" fill-rule=\"evenodd\" fill-opacity=\"1\"/>\n",
       "<polyline clip-path=\"url(#clip592)\" style=\"stroke:#000000; stroke-linecap:round; stroke-linejoin:round; stroke-width:4; stroke-opacity:1; fill:none\" points=\"7357.57,1270.3 7357.57,1423.18 7398.54,1423.18 7398.54,1270.3 7357.57,1270.3 \"/>\n",
       "<path clip-path=\"url(#clip592)\" d=\"M7398.54 1270.3 L7398.54 1423.18 L7439.51 1423.18 L7439.51 1270.3 L7398.54 1270.3 L7398.54 1270.3  Z\" fill=\"#009af9\" fill-rule=\"evenodd\" fill-opacity=\"1\"/>\n",
       "<polyline clip-path=\"url(#clip592)\" style=\"stroke:#000000; stroke-linecap:round; stroke-linejoin:round; stroke-width:4; stroke-opacity:1; fill:none\" points=\"7398.54,1270.3 7398.54,1423.18 7439.51,1423.18 7439.51,1270.3 7398.54,1270.3 \"/>\n",
       "<path clip-path=\"url(#clip592)\" d=\"M7439.51 1270.3 L7439.51 1423.18 L7480.48 1423.18 L7480.48 1270.3 L7439.51 1270.3 L7439.51 1270.3  Z\" fill=\"#009af9\" fill-rule=\"evenodd\" fill-opacity=\"1\"/>\n",
       "<polyline clip-path=\"url(#clip592)\" style=\"stroke:#000000; stroke-linecap:round; stroke-linejoin:round; stroke-width:4; stroke-opacity:1; fill:none\" points=\"7439.51,1270.3 7439.51,1423.18 7480.48,1423.18 7480.48,1270.3 7439.51,1270.3 \"/>\n",
       "<path clip-path=\"url(#clip592)\" d=\"M7480.48 1423.18 L7480.48 1423.18 L7521.45 1423.18 L7521.45 1423.18 L7480.48 1423.18 L7480.48 1423.18  Z\" fill=\"#009af9\" fill-rule=\"evenodd\" fill-opacity=\"1\"/>\n",
       "<polyline clip-path=\"url(#clip592)\" style=\"stroke:#000000; stroke-linecap:round; stroke-linejoin:round; stroke-width:4; stroke-opacity:1; fill:none\" points=\"7480.48,1423.18 7480.48,1423.18 7521.45,1423.18 7480.48,1423.18 \"/>\n",
       "<path clip-path=\"url(#clip592)\" d=\"M7521.45 1423.18 L7521.45 1423.18 L7562.42 1423.18 L7562.42 1423.18 L7521.45 1423.18 L7521.45 1423.18  Z\" fill=\"#009af9\" fill-rule=\"evenodd\" fill-opacity=\"1\"/>\n",
       "<polyline clip-path=\"url(#clip592)\" style=\"stroke:#000000; stroke-linecap:round; stroke-linejoin:round; stroke-width:4; stroke-opacity:1; fill:none\" points=\"7521.45,1423.18 7521.45,1423.18 7562.42,1423.18 7521.45,1423.18 \"/>\n",
       "<path clip-path=\"url(#clip592)\" d=\"M7562.42 1270.3 L7562.42 1423.18 L7603.39 1423.18 L7603.39 1270.3 L7562.42 1270.3 L7562.42 1270.3  Z\" fill=\"#009af9\" fill-rule=\"evenodd\" fill-opacity=\"1\"/>\n",
       "<polyline clip-path=\"url(#clip592)\" style=\"stroke:#000000; stroke-linecap:round; stroke-linejoin:round; stroke-width:4; stroke-opacity:1; fill:none\" points=\"7562.42,1270.3 7562.42,1423.18 7603.39,1423.18 7603.39,1270.3 7562.42,1270.3 \"/>\n",
       "<path clip-path=\"url(#clip592)\" d=\"M7603.39 1270.3 L7603.39 1423.18 L7644.36 1423.18 L7644.36 1270.3 L7603.39 1270.3 L7603.39 1270.3  Z\" fill=\"#009af9\" fill-rule=\"evenodd\" fill-opacity=\"1\"/>\n",
       "<polyline clip-path=\"url(#clip592)\" style=\"stroke:#000000; stroke-linecap:round; stroke-linejoin:round; stroke-width:4; stroke-opacity:1; fill:none\" points=\"7603.39,1270.3 7603.39,1423.18 7644.36,1423.18 7644.36,1270.3 7603.39,1270.3 \"/>\n",
       "<path clip-path=\"url(#clip592)\" d=\"M7644.36 1423.18 L7644.36 1423.18 L7685.33 1423.18 L7685.33 1423.18 L7644.36 1423.18 L7644.36 1423.18  Z\" fill=\"#009af9\" fill-rule=\"evenodd\" fill-opacity=\"1\"/>\n",
       "<polyline clip-path=\"url(#clip592)\" style=\"stroke:#000000; stroke-linecap:round; stroke-linejoin:round; stroke-width:4; stroke-opacity:1; fill:none\" points=\"7644.36,1423.18 7644.36,1423.18 7685.33,1423.18 7644.36,1423.18 \"/>\n",
       "<path clip-path=\"url(#clip592)\" d=\"M7685.33 1423.18 L7685.33 1423.18 L7726.3 1423.18 L7726.3 1423.18 L7685.33 1423.18 L7685.33 1423.18  Z\" fill=\"#009af9\" fill-rule=\"evenodd\" fill-opacity=\"1\"/>\n",
       "<polyline clip-path=\"url(#clip592)\" style=\"stroke:#000000; stroke-linecap:round; stroke-linejoin:round; stroke-width:4; stroke-opacity:1; fill:none\" points=\"7685.33,1423.18 7685.33,1423.18 7726.3,1423.18 7685.33,1423.18 \"/>\n",
       "<path clip-path=\"url(#clip592)\" d=\"M7726.3 1270.3 L7726.3 1423.18 L7767.27 1423.18 L7767.27 1270.3 L7726.3 1270.3 L7726.3 1270.3  Z\" fill=\"#009af9\" fill-rule=\"evenodd\" fill-opacity=\"1\"/>\n",
       "<polyline clip-path=\"url(#clip592)\" style=\"stroke:#000000; stroke-linecap:round; stroke-linejoin:round; stroke-width:4; stroke-opacity:1; fill:none\" points=\"7726.3,1270.3 7726.3,1423.18 7767.27,1423.18 7767.27,1270.3 7726.3,1270.3 \"/>\n",
       "<path clip-path=\"url(#clip592)\" d=\"M7767.27 1423.18 L7767.27 1423.18 L7808.24 1423.18 L7808.24 1423.18 L7767.27 1423.18 L7767.27 1423.18  Z\" fill=\"#009af9\" fill-rule=\"evenodd\" fill-opacity=\"1\"/>\n",
       "<polyline clip-path=\"url(#clip592)\" style=\"stroke:#000000; stroke-linecap:round; stroke-linejoin:round; stroke-width:4; stroke-opacity:1; fill:none\" points=\"7767.27,1423.18 7767.27,1423.18 7808.24,1423.18 7767.27,1423.18 \"/>\n",
       "<path clip-path=\"url(#clip592)\" d=\"M7808.24 1423.18 L7808.24 1423.18 L7849.21 1423.18 L7849.21 1423.18 L7808.24 1423.18 L7808.24 1423.18  Z\" fill=\"#009af9\" fill-rule=\"evenodd\" fill-opacity=\"1\"/>\n",
       "<polyline clip-path=\"url(#clip592)\" style=\"stroke:#000000; stroke-linecap:round; stroke-linejoin:round; stroke-width:4; stroke-opacity:1; fill:none\" points=\"7808.24,1423.18 7808.24,1423.18 7849.21,1423.18 7808.24,1423.18 \"/>\n",
       "<path clip-path=\"url(#clip592)\" d=\"M7849.21 1270.3 L7849.21 1423.18 L7890.18 1423.18 L7890.18 1270.3 L7849.21 1270.3 L7849.21 1270.3  Z\" fill=\"#009af9\" fill-rule=\"evenodd\" fill-opacity=\"1\"/>\n",
       "<polyline clip-path=\"url(#clip592)\" style=\"stroke:#000000; stroke-linecap:round; stroke-linejoin:round; stroke-width:4; stroke-opacity:1; fill:none\" points=\"7849.21,1270.3 7849.21,1423.18 7890.18,1423.18 7890.18,1270.3 7849.21,1270.3 \"/>\n",
       "<path clip-path=\"url(#clip592)\" d=\"M7890.18 1423.18 L7890.18 1423.18 L7931.15 1423.18 L7931.15 1423.18 L7890.18 1423.18 L7890.18 1423.18  Z\" fill=\"#009af9\" fill-rule=\"evenodd\" fill-opacity=\"1\"/>\n",
       "<polyline clip-path=\"url(#clip592)\" style=\"stroke:#000000; stroke-linecap:round; stroke-linejoin:round; stroke-width:4; stroke-opacity:1; fill:none\" points=\"7890.18,1423.18 7890.18,1423.18 7931.15,1423.18 7890.18,1423.18 \"/>\n",
       "<path clip-path=\"url(#clip592)\" d=\"M7931.15 1270.3 L7931.15 1423.18 L7972.12 1423.18 L7972.12 1270.3 L7931.15 1270.3 L7931.15 1270.3  Z\" fill=\"#009af9\" fill-rule=\"evenodd\" fill-opacity=\"1\"/>\n",
       "<polyline clip-path=\"url(#clip592)\" style=\"stroke:#000000; stroke-linecap:round; stroke-linejoin:round; stroke-width:4; stroke-opacity:1; fill:none\" points=\"7931.15,1270.3 7931.15,1423.18 7972.12,1423.18 7972.12,1270.3 7931.15,1270.3 \"/>\n",
       "<path clip-path=\"url(#clip592)\" d=\"M7972.12 1423.18 L7972.12 1423.18 L8013.1 1423.18 L8013.1 1423.18 L7972.12 1423.18 L7972.12 1423.18  Z\" fill=\"#009af9\" fill-rule=\"evenodd\" fill-opacity=\"1\"/>\n",
       "<polyline clip-path=\"url(#clip592)\" style=\"stroke:#000000; stroke-linecap:round; stroke-linejoin:round; stroke-width:4; stroke-opacity:1; fill:none\" points=\"7972.12,1423.18 7972.12,1423.18 8013.1,1423.18 7972.12,1423.18 \"/>\n",
       "<path clip-path=\"url(#clip592)\" d=\"M8013.1 1270.3 L8013.1 1423.18 L8054.07 1423.18 L8054.07 1270.3 L8013.1 1270.3 L8013.1 1270.3  Z\" fill=\"#009af9\" fill-rule=\"evenodd\" fill-opacity=\"1\"/>\n",
       "<polyline clip-path=\"url(#clip592)\" style=\"stroke:#000000; stroke-linecap:round; stroke-linejoin:round; stroke-width:4; stroke-opacity:1; fill:none\" points=\"8013.1,1270.3 8013.1,1423.18 8054.07,1423.18 8054.07,1270.3 8013.1,1270.3 \"/>\n",
       "<path clip-path=\"url(#clip592)\" d=\"M8054.07 1423.18 L8054.07 1423.18 L8095.04 1423.18 L8095.04 1423.18 L8054.07 1423.18 L8054.07 1423.18  Z\" fill=\"#009af9\" fill-rule=\"evenodd\" fill-opacity=\"1\"/>\n",
       "<polyline clip-path=\"url(#clip592)\" style=\"stroke:#000000; stroke-linecap:round; stroke-linejoin:round; stroke-width:4; stroke-opacity:1; fill:none\" points=\"8054.07,1423.18 8054.07,1423.18 8095.04,1423.18 8054.07,1423.18 \"/>\n",
       "<path clip-path=\"url(#clip592)\" d=\"M8095.04 1423.18 L8095.04 1423.18 L8136.01 1423.18 L8136.01 1423.18 L8095.04 1423.18 L8095.04 1423.18  Z\" fill=\"#009af9\" fill-rule=\"evenodd\" fill-opacity=\"1\"/>\n",
       "<polyline clip-path=\"url(#clip592)\" style=\"stroke:#000000; stroke-linecap:round; stroke-linejoin:round; stroke-width:4; stroke-opacity:1; fill:none\" points=\"8095.04,1423.18 8095.04,1423.18 8136.01,1423.18 8095.04,1423.18 \"/>\n",
       "<path clip-path=\"url(#clip592)\" d=\"M8136.01 1270.3 L8136.01 1423.18 L8176.98 1423.18 L8176.98 1270.3 L8136.01 1270.3 L8136.01 1270.3  Z\" fill=\"#009af9\" fill-rule=\"evenodd\" fill-opacity=\"1\"/>\n",
       "<polyline clip-path=\"url(#clip592)\" style=\"stroke:#000000; stroke-linecap:round; stroke-linejoin:round; stroke-width:4; stroke-opacity:1; fill:none\" points=\"8136.01,1270.3 8136.01,1423.18 8176.98,1423.18 8176.98,1270.3 8136.01,1270.3 \"/>\n",
       "<path clip-path=\"url(#clip592)\" d=\"M8176.98 1423.18 L8176.98 1423.18 L8217.95 1423.18 L8217.95 1423.18 L8176.98 1423.18 L8176.98 1423.18  Z\" fill=\"#009af9\" fill-rule=\"evenodd\" fill-opacity=\"1\"/>\n",
       "<polyline clip-path=\"url(#clip592)\" style=\"stroke:#000000; stroke-linecap:round; stroke-linejoin:round; stroke-width:4; stroke-opacity:1; fill:none\" points=\"8176.98,1423.18 8176.98,1423.18 8217.95,1423.18 8176.98,1423.18 \"/>\n",
       "<path clip-path=\"url(#clip592)\" d=\"M8217.95 1423.18 L8217.95 1423.18 L8258.92 1423.18 L8258.92 1423.18 L8217.95 1423.18 L8217.95 1423.18  Z\" fill=\"#009af9\" fill-rule=\"evenodd\" fill-opacity=\"1\"/>\n",
       "<polyline clip-path=\"url(#clip592)\" style=\"stroke:#000000; stroke-linecap:round; stroke-linejoin:round; stroke-width:4; stroke-opacity:1; fill:none\" points=\"8217.95,1423.18 8217.95,1423.18 8258.92,1423.18 8217.95,1423.18 \"/>\n",
       "<path clip-path=\"url(#clip592)\" d=\"M8258.92 1423.18 L8258.92 1423.18 L8299.89 1423.18 L8299.89 1423.18 L8258.92 1423.18 L8258.92 1423.18  Z\" fill=\"#009af9\" fill-rule=\"evenodd\" fill-opacity=\"1\"/>\n",
       "<polyline clip-path=\"url(#clip592)\" style=\"stroke:#000000; stroke-linecap:round; stroke-linejoin:round; stroke-width:4; stroke-opacity:1; fill:none\" points=\"8258.92,1423.18 8258.92,1423.18 8299.89,1423.18 8258.92,1423.18 \"/>\n",
       "<path clip-path=\"url(#clip592)\" d=\"M8299.89 1423.18 L8299.89 1423.18 L8340.86 1423.18 L8340.86 1423.18 L8299.89 1423.18 L8299.89 1423.18  Z\" fill=\"#009af9\" fill-rule=\"evenodd\" fill-opacity=\"1\"/>\n",
       "<polyline clip-path=\"url(#clip592)\" style=\"stroke:#000000; stroke-linecap:round; stroke-linejoin:round; stroke-width:4; stroke-opacity:1; fill:none\" points=\"8299.89,1423.18 8299.89,1423.18 8340.86,1423.18 8299.89,1423.18 \"/>\n",
       "<path clip-path=\"url(#clip592)\" d=\"M8340.86 1270.3 L8340.86 1423.18 L8381.83 1423.18 L8381.83 1270.3 L8340.86 1270.3 L8340.86 1270.3  Z\" fill=\"#009af9\" fill-rule=\"evenodd\" fill-opacity=\"1\"/>\n",
       "<polyline clip-path=\"url(#clip592)\" style=\"stroke:#000000; stroke-linecap:round; stroke-linejoin:round; stroke-width:4; stroke-opacity:1; fill:none\" points=\"8340.86,1270.3 8340.86,1423.18 8381.83,1423.18 8381.83,1270.3 8340.86,1270.3 \"/>\n",
       "<path clip-path=\"url(#clip592)\" d=\"M8381.83 1423.18 L8381.83 1423.18 L8422.8 1423.18 L8422.8 1423.18 L8381.83 1423.18 L8381.83 1423.18  Z\" fill=\"#009af9\" fill-rule=\"evenodd\" fill-opacity=\"1\"/>\n",
       "<polyline clip-path=\"url(#clip592)\" style=\"stroke:#000000; stroke-linecap:round; stroke-linejoin:round; stroke-width:4; stroke-opacity:1; fill:none\" points=\"8381.83,1423.18 8381.83,1423.18 8422.8,1423.18 8381.83,1423.18 \"/>\n",
       "<path clip-path=\"url(#clip592)\" d=\"M8422.8 1270.3 L8422.8 1423.18 L8463.77 1423.18 L8463.77 1270.3 L8422.8 1270.3 L8422.8 1270.3  Z\" fill=\"#009af9\" fill-rule=\"evenodd\" fill-opacity=\"1\"/>\n",
       "<polyline clip-path=\"url(#clip592)\" style=\"stroke:#000000; stroke-linecap:round; stroke-linejoin:round; stroke-width:4; stroke-opacity:1; fill:none\" points=\"8422.8,1270.3 8422.8,1423.18 8463.77,1423.18 8463.77,1270.3 8422.8,1270.3 \"/>\n",
       "<path clip-path=\"url(#clip592)\" d=\"M8463.77 1423.18 L8463.77 1423.18 L8504.74 1423.18 L8504.74 1423.18 L8463.77 1423.18 L8463.77 1423.18  Z\" fill=\"#009af9\" fill-rule=\"evenodd\" fill-opacity=\"1\"/>\n",
       "<polyline clip-path=\"url(#clip592)\" style=\"stroke:#000000; stroke-linecap:round; stroke-linejoin:round; stroke-width:4; stroke-opacity:1; fill:none\" points=\"8463.77,1423.18 8463.77,1423.18 8504.74,1423.18 8463.77,1423.18 \"/>\n",
       "<path clip-path=\"url(#clip592)\" d=\"M8504.74 1423.18 L8504.74 1423.18 L8545.71 1423.18 L8545.71 1423.18 L8504.74 1423.18 L8504.74 1423.18  Z\" fill=\"#009af9\" fill-rule=\"evenodd\" fill-opacity=\"1\"/>\n",
       "<polyline clip-path=\"url(#clip592)\" style=\"stroke:#000000; stroke-linecap:round; stroke-linejoin:round; stroke-width:4; stroke-opacity:1; fill:none\" points=\"8504.74,1423.18 8504.74,1423.18 8545.71,1423.18 8504.74,1423.18 \"/>\n",
       "<path clip-path=\"url(#clip592)\" d=\"M8545.71 1423.18 L8545.71 1423.18 L8586.68 1423.18 L8586.68 1423.18 L8545.71 1423.18 L8545.71 1423.18  Z\" fill=\"#009af9\" fill-rule=\"evenodd\" fill-opacity=\"1\"/>\n",
       "<polyline clip-path=\"url(#clip592)\" style=\"stroke:#000000; stroke-linecap:round; stroke-linejoin:round; stroke-width:4; stroke-opacity:1; fill:none\" points=\"8545.71,1423.18 8545.71,1423.18 8586.68,1423.18 8545.71,1423.18 \"/>\n",
       "<path clip-path=\"url(#clip592)\" d=\"M8586.68 1423.18 L8586.68 1423.18 L8627.65 1423.18 L8627.65 1423.18 L8586.68 1423.18 L8586.68 1423.18  Z\" fill=\"#009af9\" fill-rule=\"evenodd\" fill-opacity=\"1\"/>\n",
       "<polyline clip-path=\"url(#clip592)\" style=\"stroke:#000000; stroke-linecap:round; stroke-linejoin:round; stroke-width:4; stroke-opacity:1; fill:none\" points=\"8586.68,1423.18 8586.68,1423.18 8627.65,1423.18 8586.68,1423.18 \"/>\n",
       "<path clip-path=\"url(#clip592)\" d=\"M8627.65 1270.3 L8627.65 1423.18 L8668.62 1423.18 L8668.62 1270.3 L8627.65 1270.3 L8627.65 1270.3  Z\" fill=\"#009af9\" fill-rule=\"evenodd\" fill-opacity=\"1\"/>\n",
       "<polyline clip-path=\"url(#clip592)\" style=\"stroke:#000000; stroke-linecap:round; stroke-linejoin:round; stroke-width:4; stroke-opacity:1; fill:none\" points=\"8627.65,1270.3 8627.65,1423.18 8668.62,1423.18 8668.62,1270.3 8627.65,1270.3 \"/>\n",
       "<path clip-path=\"url(#clip592)\" d=\"M8668.62 1423.18 L8668.62 1423.18 L8709.59 1423.18 L8709.59 1423.18 L8668.62 1423.18 L8668.62 1423.18  Z\" fill=\"#009af9\" fill-rule=\"evenodd\" fill-opacity=\"1\"/>\n",
       "<polyline clip-path=\"url(#clip592)\" style=\"stroke:#000000; stroke-linecap:round; stroke-linejoin:round; stroke-width:4; stroke-opacity:1; fill:none\" points=\"8668.62,1423.18 8668.62,1423.18 8709.59,1423.18 8668.62,1423.18 \"/>\n",
       "<path clip-path=\"url(#clip592)\" d=\"M8709.59 1423.18 L8709.59 1423.18 L8750.56 1423.18 L8750.56 1423.18 L8709.59 1423.18 L8709.59 1423.18  Z\" fill=\"#009af9\" fill-rule=\"evenodd\" fill-opacity=\"1\"/>\n",
       "<polyline clip-path=\"url(#clip592)\" style=\"stroke:#000000; stroke-linecap:round; stroke-linejoin:round; stroke-width:4; stroke-opacity:1; fill:none\" points=\"8709.59,1423.18 8709.59,1423.18 8750.56,1423.18 8709.59,1423.18 \"/>\n",
       "<path clip-path=\"url(#clip592)\" d=\"M8750.56 1423.18 L8750.56 1423.18 L8791.53 1423.18 L8791.53 1423.18 L8750.56 1423.18 L8750.56 1423.18  Z\" fill=\"#009af9\" fill-rule=\"evenodd\" fill-opacity=\"1\"/>\n",
       "<polyline clip-path=\"url(#clip592)\" style=\"stroke:#000000; stroke-linecap:round; stroke-linejoin:round; stroke-width:4; stroke-opacity:1; fill:none\" points=\"8750.56,1423.18 8750.56,1423.18 8791.53,1423.18 8750.56,1423.18 \"/>\n",
       "<path clip-path=\"url(#clip592)\" d=\"M8791.53 1423.18 L8791.53 1423.18 L8832.5 1423.18 L8832.5 1423.18 L8791.53 1423.18 L8791.53 1423.18  Z\" fill=\"#009af9\" fill-rule=\"evenodd\" fill-opacity=\"1\"/>\n",
       "<polyline clip-path=\"url(#clip592)\" style=\"stroke:#000000; stroke-linecap:round; stroke-linejoin:round; stroke-width:4; stroke-opacity:1; fill:none\" points=\"8791.53,1423.18 8791.53,1423.18 8832.5,1423.18 8791.53,1423.18 \"/>\n",
       "<path clip-path=\"url(#clip592)\" d=\"M8832.5 1270.3 L8832.5 1423.18 L8873.47 1423.18 L8873.47 1270.3 L8832.5 1270.3 L8832.5 1270.3  Z\" fill=\"#009af9\" fill-rule=\"evenodd\" fill-opacity=\"1\"/>\n",
       "<polyline clip-path=\"url(#clip592)\" style=\"stroke:#000000; stroke-linecap:round; stroke-linejoin:round; stroke-width:4; stroke-opacity:1; fill:none\" points=\"8832.5,1270.3 8832.5,1423.18 8873.47,1423.18 8873.47,1270.3 8832.5,1270.3 \"/>\n",
       "<path clip-path=\"url(#clip592)\" d=\"M8873.47 1423.18 L8873.47 1423.18 L8914.44 1423.18 L8914.44 1423.18 L8873.47 1423.18 L8873.47 1423.18  Z\" fill=\"#009af9\" fill-rule=\"evenodd\" fill-opacity=\"1\"/>\n",
       "<polyline clip-path=\"url(#clip592)\" style=\"stroke:#000000; stroke-linecap:round; stroke-linejoin:round; stroke-width:4; stroke-opacity:1; fill:none\" points=\"8873.47,1423.18 8873.47,1423.18 8914.44,1423.18 8873.47,1423.18 \"/>\n",
       "<path clip-path=\"url(#clip592)\" d=\"M8914.44 1423.18 L8914.44 1423.18 L8955.41 1423.18 L8955.41 1423.18 L8914.44 1423.18 L8914.44 1423.18  Z\" fill=\"#009af9\" fill-rule=\"evenodd\" fill-opacity=\"1\"/>\n",
       "<polyline clip-path=\"url(#clip592)\" style=\"stroke:#000000; stroke-linecap:round; stroke-linejoin:round; stroke-width:4; stroke-opacity:1; fill:none\" points=\"8914.44,1423.18 8914.44,1423.18 8955.41,1423.18 8914.44,1423.18 \"/>\n",
       "<path clip-path=\"url(#clip592)\" d=\"M8955.41 1423.18 L8955.41 1423.18 L8996.38 1423.18 L8996.38 1423.18 L8955.41 1423.18 L8955.41 1423.18  Z\" fill=\"#009af9\" fill-rule=\"evenodd\" fill-opacity=\"1\"/>\n",
       "<polyline clip-path=\"url(#clip592)\" style=\"stroke:#000000; stroke-linecap:round; stroke-linejoin:round; stroke-width:4; stroke-opacity:1; fill:none\" points=\"8955.41,1423.18 8955.41,1423.18 8996.38,1423.18 8955.41,1423.18 \"/>\n",
       "<path clip-path=\"url(#clip592)\" d=\"M8996.38 1423.18 L8996.38 1423.18 L9037.35 1423.18 L9037.35 1423.18 L8996.38 1423.18 L8996.38 1423.18  Z\" fill=\"#009af9\" fill-rule=\"evenodd\" fill-opacity=\"1\"/>\n",
       "<polyline clip-path=\"url(#clip592)\" style=\"stroke:#000000; stroke-linecap:round; stroke-linejoin:round; stroke-width:4; stroke-opacity:1; fill:none\" points=\"8996.38,1423.18 8996.38,1423.18 9037.35,1423.18 8996.38,1423.18 \"/>\n",
       "<path clip-path=\"url(#clip592)\" d=\"M9037.35 1423.18 L9037.35 1423.18 L9078.32 1423.18 L9078.32 1423.18 L9037.35 1423.18 L9037.35 1423.18  Z\" fill=\"#009af9\" fill-rule=\"evenodd\" fill-opacity=\"1\"/>\n",
       "<polyline clip-path=\"url(#clip592)\" style=\"stroke:#000000; stroke-linecap:round; stroke-linejoin:round; stroke-width:4; stroke-opacity:1; fill:none\" points=\"9037.35,1423.18 9037.35,1423.18 9078.32,1423.18 9037.35,1423.18 \"/>\n",
       "<path clip-path=\"url(#clip592)\" d=\"M9078.32 1423.18 L9078.32 1423.18 L9119.29 1423.18 L9119.29 1423.18 L9078.32 1423.18 L9078.32 1423.18  Z\" fill=\"#009af9\" fill-rule=\"evenodd\" fill-opacity=\"1\"/>\n",
       "<polyline clip-path=\"url(#clip592)\" style=\"stroke:#000000; stroke-linecap:round; stroke-linejoin:round; stroke-width:4; stroke-opacity:1; fill:none\" points=\"9078.32,1423.18 9078.32,1423.18 9119.29,1423.18 9078.32,1423.18 \"/>\n",
       "<path clip-path=\"url(#clip592)\" d=\"M9119.29 1270.3 L9119.29 1423.18 L9160.26 1423.18 L9160.26 1270.3 L9119.29 1270.3 L9119.29 1270.3  Z\" fill=\"#009af9\" fill-rule=\"evenodd\" fill-opacity=\"1\"/>\n",
       "<polyline clip-path=\"url(#clip592)\" style=\"stroke:#000000; stroke-linecap:round; stroke-linejoin:round; stroke-width:4; stroke-opacity:1; fill:none\" points=\"9119.29,1270.3 9119.29,1423.18 9160.26,1423.18 9160.26,1270.3 9119.29,1270.3 \"/>\n",
       "<path clip-path=\"url(#clip592)\" d=\"M9160.26 1423.18 L9160.26 1423.18 L9201.23 1423.18 L9201.23 1423.18 L9160.26 1423.18 L9160.26 1423.18  Z\" fill=\"#009af9\" fill-rule=\"evenodd\" fill-opacity=\"1\"/>\n",
       "<polyline clip-path=\"url(#clip592)\" style=\"stroke:#000000; stroke-linecap:round; stroke-linejoin:round; stroke-width:4; stroke-opacity:1; fill:none\" points=\"9160.26,1423.18 9160.26,1423.18 9201.23,1423.18 9160.26,1423.18 \"/>\n",
       "<path clip-path=\"url(#clip592)\" d=\"M9201.23 1423.18 L9201.23 1423.18 L9242.2 1423.18 L9242.2 1423.18 L9201.23 1423.18 L9201.23 1423.18  Z\" fill=\"#009af9\" fill-rule=\"evenodd\" fill-opacity=\"1\"/>\n",
       "<polyline clip-path=\"url(#clip592)\" style=\"stroke:#000000; stroke-linecap:round; stroke-linejoin:round; stroke-width:4; stroke-opacity:1; fill:none\" points=\"9201.23,1423.18 9201.23,1423.18 9242.2,1423.18 9201.23,1423.18 \"/>\n",
       "<path clip-path=\"url(#clip592)\" d=\"M9242.2 1423.18 L9242.2 1423.18 L9283.17 1423.18 L9283.17 1423.18 L9242.2 1423.18 L9242.2 1423.18  Z\" fill=\"#009af9\" fill-rule=\"evenodd\" fill-opacity=\"1\"/>\n",
       "<polyline clip-path=\"url(#clip592)\" style=\"stroke:#000000; stroke-linecap:round; stroke-linejoin:round; stroke-width:4; stroke-opacity:1; fill:none\" points=\"9242.2,1423.18 9242.2,1423.18 9283.17,1423.18 9242.2,1423.18 \"/>\n",
       "<path clip-path=\"url(#clip592)\" d=\"M9283.17 1423.18 L9283.17 1423.18 L9324.14 1423.18 L9324.14 1423.18 L9283.17 1423.18 L9283.17 1423.18  Z\" fill=\"#009af9\" fill-rule=\"evenodd\" fill-opacity=\"1\"/>\n",
       "<polyline clip-path=\"url(#clip592)\" style=\"stroke:#000000; stroke-linecap:round; stroke-linejoin:round; stroke-width:4; stroke-opacity:1; fill:none\" points=\"9283.17,1423.18 9283.17,1423.18 9324.14,1423.18 9283.17,1423.18 \"/>\n",
       "<path clip-path=\"url(#clip592)\" d=\"M9324.14 1423.18 L9324.14 1423.18 L9365.11 1423.18 L9365.11 1423.18 L9324.14 1423.18 L9324.14 1423.18  Z\" fill=\"#009af9\" fill-rule=\"evenodd\" fill-opacity=\"1\"/>\n",
       "<polyline clip-path=\"url(#clip592)\" style=\"stroke:#000000; stroke-linecap:round; stroke-linejoin:round; stroke-width:4; stroke-opacity:1; fill:none\" points=\"9324.14,1423.18 9324.14,1423.18 9365.11,1423.18 9324.14,1423.18 \"/>\n",
       "<path clip-path=\"url(#clip592)\" d=\"M9365.11 1423.18 L9365.11 1423.18 L9406.08 1423.18 L9406.08 1423.18 L9365.11 1423.18 L9365.11 1423.18  Z\" fill=\"#009af9\" fill-rule=\"evenodd\" fill-opacity=\"1\"/>\n",
       "<polyline clip-path=\"url(#clip592)\" style=\"stroke:#000000; stroke-linecap:round; stroke-linejoin:round; stroke-width:4; stroke-opacity:1; fill:none\" points=\"9365.11,1423.18 9365.11,1423.18 9406.08,1423.18 9365.11,1423.18 \"/>\n",
       "<path clip-path=\"url(#clip592)\" d=\"M9406.08 1423.18 L9406.08 1423.18 L9447.05 1423.18 L9447.05 1423.18 L9406.08 1423.18 L9406.08 1423.18  Z\" fill=\"#009af9\" fill-rule=\"evenodd\" fill-opacity=\"1\"/>\n",
       "<polyline clip-path=\"url(#clip592)\" style=\"stroke:#000000; stroke-linecap:round; stroke-linejoin:round; stroke-width:4; stroke-opacity:1; fill:none\" points=\"9406.08,1423.18 9406.08,1423.18 9447.05,1423.18 9406.08,1423.18 \"/>\n",
       "<path clip-path=\"url(#clip592)\" d=\"M9447.05 1423.18 L9447.05 1423.18 L9488.02 1423.18 L9488.02 1423.18 L9447.05 1423.18 L9447.05 1423.18  Z\" fill=\"#009af9\" fill-rule=\"evenodd\" fill-opacity=\"1\"/>\n",
       "<polyline clip-path=\"url(#clip592)\" style=\"stroke:#000000; stroke-linecap:round; stroke-linejoin:round; stroke-width:4; stroke-opacity:1; fill:none\" points=\"9447.05,1423.18 9447.05,1423.18 9488.02,1423.18 9447.05,1423.18 \"/>\n",
       "<path clip-path=\"url(#clip592)\" d=\"M9488.02 1423.18 L9488.02 1423.18 L9528.99 1423.18 L9528.99 1423.18 L9488.02 1423.18 L9488.02 1423.18  Z\" fill=\"#009af9\" fill-rule=\"evenodd\" fill-opacity=\"1\"/>\n",
       "<polyline clip-path=\"url(#clip592)\" style=\"stroke:#000000; stroke-linecap:round; stroke-linejoin:round; stroke-width:4; stroke-opacity:1; fill:none\" points=\"9488.02,1423.18 9488.02,1423.18 9528.99,1423.18 9488.02,1423.18 \"/>\n",
       "<path clip-path=\"url(#clip592)\" d=\"M9528.99 1423.18 L9528.99 1423.18 L9569.96 1423.18 L9569.96 1423.18 L9528.99 1423.18 L9528.99 1423.18  Z\" fill=\"#009af9\" fill-rule=\"evenodd\" fill-opacity=\"1\"/>\n",
       "<polyline clip-path=\"url(#clip592)\" style=\"stroke:#000000; stroke-linecap:round; stroke-linejoin:round; stroke-width:4; stroke-opacity:1; fill:none\" points=\"9528.99,1423.18 9528.99,1423.18 9569.96,1423.18 9528.99,1423.18 \"/>\n",
       "<path clip-path=\"url(#clip592)\" d=\"M9569.96 1423.18 L9569.96 1423.18 L9610.93 1423.18 L9610.93 1423.18 L9569.96 1423.18 L9569.96 1423.18  Z\" fill=\"#009af9\" fill-rule=\"evenodd\" fill-opacity=\"1\"/>\n",
       "<polyline clip-path=\"url(#clip592)\" style=\"stroke:#000000; stroke-linecap:round; stroke-linejoin:round; stroke-width:4; stroke-opacity:1; fill:none\" points=\"9569.96,1423.18 9569.96,1423.18 9610.93,1423.18 9569.96,1423.18 \"/>\n",
       "<path clip-path=\"url(#clip592)\" d=\"M9610.93 1423.18 L9610.93 1423.18 L9651.9 1423.18 L9651.9 1423.18 L9610.93 1423.18 L9610.93 1423.18  Z\" fill=\"#009af9\" fill-rule=\"evenodd\" fill-opacity=\"1\"/>\n",
       "<polyline clip-path=\"url(#clip592)\" style=\"stroke:#000000; stroke-linecap:round; stroke-linejoin:round; stroke-width:4; stroke-opacity:1; fill:none\" points=\"9610.93,1423.18 9610.93,1423.18 9651.9,1423.18 9610.93,1423.18 \"/>\n",
       "<path clip-path=\"url(#clip592)\" d=\"M9651.9 1423.18 L9651.9 1423.18 L9692.87 1423.18 L9692.87 1423.18 L9651.9 1423.18 L9651.9 1423.18  Z\" fill=\"#009af9\" fill-rule=\"evenodd\" fill-opacity=\"1\"/>\n",
       "<polyline clip-path=\"url(#clip592)\" style=\"stroke:#000000; stroke-linecap:round; stroke-linejoin:round; stroke-width:4; stroke-opacity:1; fill:none\" points=\"9651.9,1423.18 9651.9,1423.18 9692.87,1423.18 9651.9,1423.18 \"/>\n",
       "<path clip-path=\"url(#clip592)\" d=\"M9692.87 1423.18 L9692.87 1423.18 L9733.84 1423.18 L9733.84 1423.18 L9692.87 1423.18 L9692.87 1423.18  Z\" fill=\"#009af9\" fill-rule=\"evenodd\" fill-opacity=\"1\"/>\n",
       "<polyline clip-path=\"url(#clip592)\" style=\"stroke:#000000; stroke-linecap:round; stroke-linejoin:round; stroke-width:4; stroke-opacity:1; fill:none\" points=\"9692.87,1423.18 9692.87,1423.18 9733.84,1423.18 9692.87,1423.18 \"/>\n",
       "<path clip-path=\"url(#clip592)\" d=\"M9733.84 1423.18 L9733.84 1423.18 L9774.81 1423.18 L9774.81 1423.18 L9733.84 1423.18 L9733.84 1423.18  Z\" fill=\"#009af9\" fill-rule=\"evenodd\" fill-opacity=\"1\"/>\n",
       "<polyline clip-path=\"url(#clip592)\" style=\"stroke:#000000; stroke-linecap:round; stroke-linejoin:round; stroke-width:4; stroke-opacity:1; fill:none\" points=\"9733.84,1423.18 9733.84,1423.18 9774.81,1423.18 9733.84,1423.18 \"/>\n",
       "<path clip-path=\"url(#clip592)\" d=\"M9774.81 1423.18 L9774.81 1423.18 L9815.78 1423.18 L9815.78 1423.18 L9774.81 1423.18 L9774.81 1423.18  Z\" fill=\"#009af9\" fill-rule=\"evenodd\" fill-opacity=\"1\"/>\n",
       "<polyline clip-path=\"url(#clip592)\" style=\"stroke:#000000; stroke-linecap:round; stroke-linejoin:round; stroke-width:4; stroke-opacity:1; fill:none\" points=\"9774.81,1423.18 9774.81,1423.18 9815.78,1423.18 9774.81,1423.18 \"/>\n",
       "<path clip-path=\"url(#clip592)\" d=\"M9815.78 1423.18 L9815.78 1423.18 L9856.75 1423.18 L9856.75 1423.18 L9815.78 1423.18 L9815.78 1423.18  Z\" fill=\"#009af9\" fill-rule=\"evenodd\" fill-opacity=\"1\"/>\n",
       "<polyline clip-path=\"url(#clip592)\" style=\"stroke:#000000; stroke-linecap:round; stroke-linejoin:round; stroke-width:4; stroke-opacity:1; fill:none\" points=\"9815.78,1423.18 9815.78,1423.18 9856.75,1423.18 9815.78,1423.18 \"/>\n",
       "<path clip-path=\"url(#clip592)\" d=\"M9856.75 1423.18 L9856.75 1423.18 L9897.72 1423.18 L9897.72 1423.18 L9856.75 1423.18 L9856.75 1423.18  Z\" fill=\"#009af9\" fill-rule=\"evenodd\" fill-opacity=\"1\"/>\n",
       "<polyline clip-path=\"url(#clip592)\" style=\"stroke:#000000; stroke-linecap:round; stroke-linejoin:round; stroke-width:4; stroke-opacity:1; fill:none\" points=\"9856.75,1423.18 9856.75,1423.18 9897.72,1423.18 9856.75,1423.18 \"/>\n",
       "<path clip-path=\"url(#clip592)\" d=\"M9897.72 1423.18 L9897.72 1423.18 L9938.69 1423.18 L9938.69 1423.18 L9897.72 1423.18 L9897.72 1423.18  Z\" fill=\"#009af9\" fill-rule=\"evenodd\" fill-opacity=\"1\"/>\n",
       "<polyline clip-path=\"url(#clip592)\" style=\"stroke:#000000; stroke-linecap:round; stroke-linejoin:round; stroke-width:4; stroke-opacity:1; fill:none\" points=\"9897.72,1423.18 9897.72,1423.18 9938.69,1423.18 9897.72,1423.18 \"/>\n",
       "<path clip-path=\"url(#clip592)\" d=\"M9938.69 1423.18 L9938.69 1423.18 L9979.66 1423.18 L9979.66 1423.18 L9938.69 1423.18 L9938.69 1423.18  Z\" fill=\"#009af9\" fill-rule=\"evenodd\" fill-opacity=\"1\"/>\n",
       "<polyline clip-path=\"url(#clip592)\" style=\"stroke:#000000; stroke-linecap:round; stroke-linejoin:round; stroke-width:4; stroke-opacity:1; fill:none\" points=\"9938.69,1423.18 9938.69,1423.18 9979.66,1423.18 9938.69,1423.18 \"/>\n",
       "<path clip-path=\"url(#clip592)\" d=\"M9979.66 1423.18 L9979.66 1423.18 L10020.6 1423.18 L10020.6 1423.18 L9979.66 1423.18 L9979.66 1423.18  Z\" fill=\"#009af9\" fill-rule=\"evenodd\" fill-opacity=\"1\"/>\n",
       "<polyline clip-path=\"url(#clip592)\" style=\"stroke:#000000; stroke-linecap:round; stroke-linejoin:round; stroke-width:4; stroke-opacity:1; fill:none\" points=\"9979.66,1423.18 9979.66,1423.18 10020.6,1423.18 9979.66,1423.18 \"/>\n",
       "<path clip-path=\"url(#clip592)\" d=\"M10020.6 1423.18 L10020.6 1423.18 L10061.6 1423.18 L10061.6 1423.18 L10020.6 1423.18 L10020.6 1423.18  Z\" fill=\"#009af9\" fill-rule=\"evenodd\" fill-opacity=\"1\"/>\n",
       "<polyline clip-path=\"url(#clip592)\" style=\"stroke:#000000; stroke-linecap:round; stroke-linejoin:round; stroke-width:4; stroke-opacity:1; fill:none\" points=\"10020.6,1423.18 10020.6,1423.18 10061.6,1423.18 10020.6,1423.18 \"/>\n",
       "<path clip-path=\"url(#clip592)\" d=\"M10061.6 1423.18 L10061.6 1423.18 L10102.6 1423.18 L10102.6 1423.18 L10061.6 1423.18 L10061.6 1423.18  Z\" fill=\"#009af9\" fill-rule=\"evenodd\" fill-opacity=\"1\"/>\n",
       "<polyline clip-path=\"url(#clip592)\" style=\"stroke:#000000; stroke-linecap:round; stroke-linejoin:round; stroke-width:4; stroke-opacity:1; fill:none\" points=\"10061.6,1423.18 10061.6,1423.18 10102.6,1423.18 10061.6,1423.18 \"/>\n",
       "<path clip-path=\"url(#clip592)\" d=\"M10102.6 1423.18 L10102.6 1423.18 L10143.5 1423.18 L10143.5 1423.18 L10102.6 1423.18 L10102.6 1423.18  Z\" fill=\"#009af9\" fill-rule=\"evenodd\" fill-opacity=\"1\"/>\n",
       "<polyline clip-path=\"url(#clip592)\" style=\"stroke:#000000; stroke-linecap:round; stroke-linejoin:round; stroke-width:4; stroke-opacity:1; fill:none\" points=\"10102.6,1423.18 10102.6,1423.18 10143.5,1423.18 10102.6,1423.18 \"/>\n",
       "<path clip-path=\"url(#clip592)\" d=\"M10143.5 1270.3 L10143.5 1423.18 L10184.5 1423.18 L10184.5 1270.3 L10143.5 1270.3 L10143.5 1270.3  Z\" fill=\"#009af9\" fill-rule=\"evenodd\" fill-opacity=\"1\"/>\n",
       "<polyline clip-path=\"url(#clip592)\" style=\"stroke:#000000; stroke-linecap:round; stroke-linejoin:round; stroke-width:4; stroke-opacity:1; fill:none\" points=\"10143.5,1270.3 10143.5,1423.18 10184.5,1423.18 10184.5,1270.3 10143.5,1270.3 \"/>\n",
       "<path clip-path=\"url(#clip592)\" d=\"M10184.5 1423.18 L10184.5 1423.18 L10225.5 1423.18 L10225.5 1423.18 L10184.5 1423.18 L10184.5 1423.18  Z\" fill=\"#009af9\" fill-rule=\"evenodd\" fill-opacity=\"1\"/>\n",
       "<polyline clip-path=\"url(#clip592)\" style=\"stroke:#000000; stroke-linecap:round; stroke-linejoin:round; stroke-width:4; stroke-opacity:1; fill:none\" points=\"10184.5,1423.18 10184.5,1423.18 10225.5,1423.18 10184.5,1423.18 \"/>\n",
       "<path clip-path=\"url(#clip592)\" d=\"M10225.5 1423.18 L10225.5 1423.18 L10266.5 1423.18 L10266.5 1423.18 L10225.5 1423.18 L10225.5 1423.18  Z\" fill=\"#009af9\" fill-rule=\"evenodd\" fill-opacity=\"1\"/>\n",
       "<polyline clip-path=\"url(#clip592)\" style=\"stroke:#000000; stroke-linecap:round; stroke-linejoin:round; stroke-width:4; stroke-opacity:1; fill:none\" points=\"10225.5,1423.18 10225.5,1423.18 10266.5,1423.18 10225.5,1423.18 \"/>\n",
       "<path clip-path=\"url(#clip592)\" d=\"M10266.5 1423.18 L10266.5 1423.18 L10307.4 1423.18 L10307.4 1423.18 L10266.5 1423.18 L10266.5 1423.18  Z\" fill=\"#009af9\" fill-rule=\"evenodd\" fill-opacity=\"1\"/>\n",
       "<polyline clip-path=\"url(#clip592)\" style=\"stroke:#000000; stroke-linecap:round; stroke-linejoin:round; stroke-width:4; stroke-opacity:1; fill:none\" points=\"10266.5,1423.18 10266.5,1423.18 10307.4,1423.18 10266.5,1423.18 \"/>\n",
       "<path clip-path=\"url(#clip592)\" d=\"M10307.4 1423.18 L10307.4 1423.18 L10348.4 1423.18 L10348.4 1423.18 L10307.4 1423.18 L10307.4 1423.18  Z\" fill=\"#009af9\" fill-rule=\"evenodd\" fill-opacity=\"1\"/>\n",
       "<polyline clip-path=\"url(#clip592)\" style=\"stroke:#000000; stroke-linecap:round; stroke-linejoin:round; stroke-width:4; stroke-opacity:1; fill:none\" points=\"10307.4,1423.18 10307.4,1423.18 10348.4,1423.18 10307.4,1423.18 \"/>\n",
       "<path clip-path=\"url(#clip592)\" d=\"M10348.4 1423.18 L10348.4 1423.18 L10389.4 1423.18 L10389.4 1423.18 L10348.4 1423.18 L10348.4 1423.18  Z\" fill=\"#009af9\" fill-rule=\"evenodd\" fill-opacity=\"1\"/>\n",
       "<polyline clip-path=\"url(#clip592)\" style=\"stroke:#000000; stroke-linecap:round; stroke-linejoin:round; stroke-width:4; stroke-opacity:1; fill:none\" points=\"10348.4,1423.18 10348.4,1423.18 10389.4,1423.18 10348.4,1423.18 \"/>\n",
       "<path clip-path=\"url(#clip592)\" d=\"M10389.4 1423.18 L10389.4 1423.18 L10430.3 1423.18 L10430.3 1423.18 L10389.4 1423.18 L10389.4 1423.18  Z\" fill=\"#009af9\" fill-rule=\"evenodd\" fill-opacity=\"1\"/>\n",
       "<polyline clip-path=\"url(#clip592)\" style=\"stroke:#000000; stroke-linecap:round; stroke-linejoin:round; stroke-width:4; stroke-opacity:1; fill:none\" points=\"10389.4,1423.18 10389.4,1423.18 10430.3,1423.18 10389.4,1423.18 \"/>\n",
       "<path clip-path=\"url(#clip592)\" d=\"M10430.3 1423.18 L10430.3 1423.18 L10471.3 1423.18 L10471.3 1423.18 L10430.3 1423.18 L10430.3 1423.18  Z\" fill=\"#009af9\" fill-rule=\"evenodd\" fill-opacity=\"1\"/>\n",
       "<polyline clip-path=\"url(#clip592)\" style=\"stroke:#000000; stroke-linecap:round; stroke-linejoin:round; stroke-width:4; stroke-opacity:1; fill:none\" points=\"10430.3,1423.18 10430.3,1423.18 10471.3,1423.18 10430.3,1423.18 \"/>\n",
       "<path clip-path=\"url(#clip592)\" d=\"M10471.3 1423.18 L10471.3 1423.18 L10512.3 1423.18 L10512.3 1423.18 L10471.3 1423.18 L10471.3 1423.18  Z\" fill=\"#009af9\" fill-rule=\"evenodd\" fill-opacity=\"1\"/>\n",
       "<polyline clip-path=\"url(#clip592)\" style=\"stroke:#000000; stroke-linecap:round; stroke-linejoin:round; stroke-width:4; stroke-opacity:1; fill:none\" points=\"10471.3,1423.18 10471.3,1423.18 10512.3,1423.18 10471.3,1423.18 \"/>\n",
       "<path clip-path=\"url(#clip592)\" d=\"M10512.3 1423.18 L10512.3 1423.18 L10553.2 1423.18 L10553.2 1423.18 L10512.3 1423.18 L10512.3 1423.18  Z\" fill=\"#009af9\" fill-rule=\"evenodd\" fill-opacity=\"1\"/>\n",
       "<polyline clip-path=\"url(#clip592)\" style=\"stroke:#000000; stroke-linecap:round; stroke-linejoin:round; stroke-width:4; stroke-opacity:1; fill:none\" points=\"10512.3,1423.18 10512.3,1423.18 10553.2,1423.18 10512.3,1423.18 \"/>\n",
       "<path clip-path=\"url(#clip592)\" d=\"M10553.2 1423.18 L10553.2 1423.18 L10594.2 1423.18 L10594.2 1423.18 L10553.2 1423.18 L10553.2 1423.18  Z\" fill=\"#009af9\" fill-rule=\"evenodd\" fill-opacity=\"1\"/>\n",
       "<polyline clip-path=\"url(#clip592)\" style=\"stroke:#000000; stroke-linecap:round; stroke-linejoin:round; stroke-width:4; stroke-opacity:1; fill:none\" points=\"10553.2,1423.18 10553.2,1423.18 10594.2,1423.18 10553.2,1423.18 \"/>\n",
       "<path clip-path=\"url(#clip592)\" d=\"M10594.2 1423.18 L10594.2 1423.18 L10635.2 1423.18 L10635.2 1423.18 L10594.2 1423.18 L10594.2 1423.18  Z\" fill=\"#009af9\" fill-rule=\"evenodd\" fill-opacity=\"1\"/>\n",
       "<polyline clip-path=\"url(#clip592)\" style=\"stroke:#000000; stroke-linecap:round; stroke-linejoin:round; stroke-width:4; stroke-opacity:1; fill:none\" points=\"10594.2,1423.18 10594.2,1423.18 10635.2,1423.18 10594.2,1423.18 \"/>\n",
       "<path clip-path=\"url(#clip592)\" d=\"M10635.2 1423.18 L10635.2 1423.18 L10676.2 1423.18 L10676.2 1423.18 L10635.2 1423.18 L10635.2 1423.18  Z\" fill=\"#009af9\" fill-rule=\"evenodd\" fill-opacity=\"1\"/>\n",
       "<polyline clip-path=\"url(#clip592)\" style=\"stroke:#000000; stroke-linecap:round; stroke-linejoin:round; stroke-width:4; stroke-opacity:1; fill:none\" points=\"10635.2,1423.18 10635.2,1423.18 10676.2,1423.18 10635.2,1423.18 \"/>\n",
       "<path clip-path=\"url(#clip592)\" d=\"M10676.2 1423.18 L10676.2 1423.18 L10717.1 1423.18 L10717.1 1423.18 L10676.2 1423.18 L10676.2 1423.18  Z\" fill=\"#009af9\" fill-rule=\"evenodd\" fill-opacity=\"1\"/>\n",
       "<polyline clip-path=\"url(#clip592)\" style=\"stroke:#000000; stroke-linecap:round; stroke-linejoin:round; stroke-width:4; stroke-opacity:1; fill:none\" points=\"10676.2,1423.18 10676.2,1423.18 10717.1,1423.18 10676.2,1423.18 \"/>\n",
       "<path clip-path=\"url(#clip592)\" d=\"M10717.1 1423.18 L10717.1 1423.18 L10758.1 1423.18 L10758.1 1423.18 L10717.1 1423.18 L10717.1 1423.18  Z\" fill=\"#009af9\" fill-rule=\"evenodd\" fill-opacity=\"1\"/>\n",
       "<polyline clip-path=\"url(#clip592)\" style=\"stroke:#000000; stroke-linecap:round; stroke-linejoin:round; stroke-width:4; stroke-opacity:1; fill:none\" points=\"10717.1,1423.18 10717.1,1423.18 10758.1,1423.18 10717.1,1423.18 \"/>\n",
       "<path clip-path=\"url(#clip592)\" d=\"M10758.1 1423.18 L10758.1 1423.18 L10799.1 1423.18 L10799.1 1423.18 L10758.1 1423.18 L10758.1 1423.18  Z\" fill=\"#009af9\" fill-rule=\"evenodd\" fill-opacity=\"1\"/>\n",
       "<polyline clip-path=\"url(#clip592)\" style=\"stroke:#000000; stroke-linecap:round; stroke-linejoin:round; stroke-width:4; stroke-opacity:1; fill:none\" points=\"10758.1,1423.18 10758.1,1423.18 10799.1,1423.18 10758.1,1423.18 \"/>\n",
       "<path clip-path=\"url(#clip592)\" d=\"M10799.1 1423.18 L10799.1 1423.18 L10840 1423.18 L10840 1423.18 L10799.1 1423.18 L10799.1 1423.18  Z\" fill=\"#009af9\" fill-rule=\"evenodd\" fill-opacity=\"1\"/>\n",
       "<polyline clip-path=\"url(#clip592)\" style=\"stroke:#000000; stroke-linecap:round; stroke-linejoin:round; stroke-width:4; stroke-opacity:1; fill:none\" points=\"10799.1,1423.18 10799.1,1423.18 10840,1423.18 10799.1,1423.18 \"/>\n",
       "<path clip-path=\"url(#clip592)\" d=\"M10840 1423.18 L10840 1423.18 L10881 1423.18 L10881 1423.18 L10840 1423.18 L10840 1423.18  Z\" fill=\"#009af9\" fill-rule=\"evenodd\" fill-opacity=\"1\"/>\n",
       "<polyline clip-path=\"url(#clip592)\" style=\"stroke:#000000; stroke-linecap:round; stroke-linejoin:round; stroke-width:4; stroke-opacity:1; fill:none\" points=\"10840,1423.18 10840,1423.18 10881,1423.18 10840,1423.18 \"/>\n",
       "<path clip-path=\"url(#clip592)\" d=\"M10881 1423.18 L10881 1423.18 L10922 1423.18 L10922 1423.18 L10881 1423.18 L10881 1423.18  Z\" fill=\"#009af9\" fill-rule=\"evenodd\" fill-opacity=\"1\"/>\n",
       "<polyline clip-path=\"url(#clip592)\" style=\"stroke:#000000; stroke-linecap:round; stroke-linejoin:round; stroke-width:4; stroke-opacity:1; fill:none\" points=\"10881,1423.18 10881,1423.18 10922,1423.18 10881,1423.18 \"/>\n",
       "<path clip-path=\"url(#clip592)\" d=\"M10922 1423.18 L10922 1423.18 L10962.9 1423.18 L10962.9 1423.18 L10922 1423.18 L10922 1423.18  Z\" fill=\"#009af9\" fill-rule=\"evenodd\" fill-opacity=\"1\"/>\n",
       "<polyline clip-path=\"url(#clip592)\" style=\"stroke:#000000; stroke-linecap:round; stroke-linejoin:round; stroke-width:4; stroke-opacity:1; fill:none\" points=\"10922,1423.18 10922,1423.18 10962.9,1423.18 10922,1423.18 \"/>\n",
       "<path clip-path=\"url(#clip592)\" d=\"M10962.9 1423.18 L10962.9 1423.18 L11003.9 1423.18 L11003.9 1423.18 L10962.9 1423.18 L10962.9 1423.18  Z\" fill=\"#009af9\" fill-rule=\"evenodd\" fill-opacity=\"1\"/>\n",
       "<polyline clip-path=\"url(#clip592)\" style=\"stroke:#000000; stroke-linecap:round; stroke-linejoin:round; stroke-width:4; stroke-opacity:1; fill:none\" points=\"10962.9,1423.18 10962.9,1423.18 11003.9,1423.18 10962.9,1423.18 \"/>\n",
       "<path clip-path=\"url(#clip592)\" d=\"M11003.9 1423.18 L11003.9 1423.18 L11044.9 1423.18 L11044.9 1423.18 L11003.9 1423.18 L11003.9 1423.18  Z\" fill=\"#009af9\" fill-rule=\"evenodd\" fill-opacity=\"1\"/>\n",
       "<polyline clip-path=\"url(#clip592)\" style=\"stroke:#000000; stroke-linecap:round; stroke-linejoin:round; stroke-width:4; stroke-opacity:1; fill:none\" points=\"11003.9,1423.18 11003.9,1423.18 11044.9,1423.18 11003.9,1423.18 \"/>\n",
       "<path clip-path=\"url(#clip592)\" d=\"M11044.9 1270.3 L11044.9 1423.18 L11085.9 1423.18 L11085.9 1270.3 L11044.9 1270.3 L11044.9 1270.3  Z\" fill=\"#009af9\" fill-rule=\"evenodd\" fill-opacity=\"1\"/>\n",
       "<polyline clip-path=\"url(#clip592)\" style=\"stroke:#000000; stroke-linecap:round; stroke-linejoin:round; stroke-width:4; stroke-opacity:1; fill:none\" points=\"11044.9,1270.3 11044.9,1423.18 11085.9,1423.18 11085.9,1270.3 11044.9,1270.3 \"/>\n",
       "<path clip-path=\"url(#clip592)\" d=\"M11085.9 1423.18 L11085.9 1423.18 L11126.8 1423.18 L11126.8 1423.18 L11085.9 1423.18 L11085.9 1423.18  Z\" fill=\"#009af9\" fill-rule=\"evenodd\" fill-opacity=\"1\"/>\n",
       "<polyline clip-path=\"url(#clip592)\" style=\"stroke:#000000; stroke-linecap:round; stroke-linejoin:round; stroke-width:4; stroke-opacity:1; fill:none\" points=\"11085.9,1423.18 11085.9,1423.18 11126.8,1423.18 11085.9,1423.18 \"/>\n",
       "<path clip-path=\"url(#clip592)\" d=\"M11126.8 1423.18 L11126.8 1423.18 L11167.8 1423.18 L11167.8 1423.18 L11126.8 1423.18 L11126.8 1423.18  Z\" fill=\"#009af9\" fill-rule=\"evenodd\" fill-opacity=\"1\"/>\n",
       "<polyline clip-path=\"url(#clip592)\" style=\"stroke:#000000; stroke-linecap:round; stroke-linejoin:round; stroke-width:4; stroke-opacity:1; fill:none\" points=\"11126.8,1423.18 11126.8,1423.18 11167.8,1423.18 11126.8,1423.18 \"/>\n",
       "<path clip-path=\"url(#clip592)\" d=\"M11167.8 1423.18 L11167.8 1423.18 L11208.8 1423.18 L11208.8 1423.18 L11167.8 1423.18 L11167.8 1423.18  Z\" fill=\"#009af9\" fill-rule=\"evenodd\" fill-opacity=\"1\"/>\n",
       "<polyline clip-path=\"url(#clip592)\" style=\"stroke:#000000; stroke-linecap:round; stroke-linejoin:round; stroke-width:4; stroke-opacity:1; fill:none\" points=\"11167.8,1423.18 11167.8,1423.18 11208.8,1423.18 11167.8,1423.18 \"/>\n",
       "<path clip-path=\"url(#clip592)\" d=\"M11208.8 1423.18 L11208.8 1423.18 L11249.7 1423.18 L11249.7 1423.18 L11208.8 1423.18 L11208.8 1423.18  Z\" fill=\"#009af9\" fill-rule=\"evenodd\" fill-opacity=\"1\"/>\n",
       "<polyline clip-path=\"url(#clip592)\" style=\"stroke:#000000; stroke-linecap:round; stroke-linejoin:round; stroke-width:4; stroke-opacity:1; fill:none\" points=\"11208.8,1423.18 11208.8,1423.18 11249.7,1423.18 11208.8,1423.18 \"/>\n",
       "<path clip-path=\"url(#clip592)\" d=\"M11249.7 1423.18 L11249.7 1423.18 L11290.7 1423.18 L11290.7 1423.18 L11249.7 1423.18 L11249.7 1423.18  Z\" fill=\"#009af9\" fill-rule=\"evenodd\" fill-opacity=\"1\"/>\n",
       "<polyline clip-path=\"url(#clip592)\" style=\"stroke:#000000; stroke-linecap:round; stroke-linejoin:round; stroke-width:4; stroke-opacity:1; fill:none\" points=\"11249.7,1423.18 11249.7,1423.18 11290.7,1423.18 11249.7,1423.18 \"/>\n",
       "<path clip-path=\"url(#clip592)\" d=\"M11290.7 1423.18 L11290.7 1423.18 L11331.7 1423.18 L11331.7 1423.18 L11290.7 1423.18 L11290.7 1423.18  Z\" fill=\"#009af9\" fill-rule=\"evenodd\" fill-opacity=\"1\"/>\n",
       "<polyline clip-path=\"url(#clip592)\" style=\"stroke:#000000; stroke-linecap:round; stroke-linejoin:round; stroke-width:4; stroke-opacity:1; fill:none\" points=\"11290.7,1423.18 11290.7,1423.18 11331.7,1423.18 11290.7,1423.18 \"/>\n",
       "<path clip-path=\"url(#clip592)\" d=\"M11331.7 1423.18 L11331.7 1423.18 L11372.6 1423.18 L11372.6 1423.18 L11331.7 1423.18 L11331.7 1423.18  Z\" fill=\"#009af9\" fill-rule=\"evenodd\" fill-opacity=\"1\"/>\n",
       "<polyline clip-path=\"url(#clip592)\" style=\"stroke:#000000; stroke-linecap:round; stroke-linejoin:round; stroke-width:4; stroke-opacity:1; fill:none\" points=\"11331.7,1423.18 11331.7,1423.18 11372.6,1423.18 11331.7,1423.18 \"/>\n",
       "<path clip-path=\"url(#clip592)\" d=\"M11372.6 1423.18 L11372.6 1423.18 L11413.6 1423.18 L11413.6 1423.18 L11372.6 1423.18 L11372.6 1423.18  Z\" fill=\"#009af9\" fill-rule=\"evenodd\" fill-opacity=\"1\"/>\n",
       "<polyline clip-path=\"url(#clip592)\" style=\"stroke:#000000; stroke-linecap:round; stroke-linejoin:round; stroke-width:4; stroke-opacity:1; fill:none\" points=\"11372.6,1423.18 11372.6,1423.18 11413.6,1423.18 11372.6,1423.18 \"/>\n",
       "<path clip-path=\"url(#clip592)\" d=\"M11413.6 1423.18 L11413.6 1423.18 L11454.6 1423.18 L11454.6 1423.18 L11413.6 1423.18 L11413.6 1423.18  Z\" fill=\"#009af9\" fill-rule=\"evenodd\" fill-opacity=\"1\"/>\n",
       "<polyline clip-path=\"url(#clip592)\" style=\"stroke:#000000; stroke-linecap:round; stroke-linejoin:round; stroke-width:4; stroke-opacity:1; fill:none\" points=\"11413.6,1423.18 11413.6,1423.18 11454.6,1423.18 11413.6,1423.18 \"/>\n",
       "<path clip-path=\"url(#clip592)\" d=\"M11454.6 1423.18 L11454.6 1423.18 L11495.6 1423.18 L11495.6 1423.18 L11454.6 1423.18 L11454.6 1423.18  Z\" fill=\"#009af9\" fill-rule=\"evenodd\" fill-opacity=\"1\"/>\n",
       "<polyline clip-path=\"url(#clip592)\" style=\"stroke:#000000; stroke-linecap:round; stroke-linejoin:round; stroke-width:4; stroke-opacity:1; fill:none\" points=\"11454.6,1423.18 11454.6,1423.18 11495.6,1423.18 11454.6,1423.18 \"/>\n",
       "<path clip-path=\"url(#clip592)\" d=\"M11495.6 1423.18 L11495.6 1423.18 L11536.5 1423.18 L11536.5 1423.18 L11495.6 1423.18 L11495.6 1423.18  Z\" fill=\"#009af9\" fill-rule=\"evenodd\" fill-opacity=\"1\"/>\n",
       "<polyline clip-path=\"url(#clip592)\" style=\"stroke:#000000; stroke-linecap:round; stroke-linejoin:round; stroke-width:4; stroke-opacity:1; fill:none\" points=\"11495.6,1423.18 11495.6,1423.18 11536.5,1423.18 11495.6,1423.18 \"/>\n",
       "<path clip-path=\"url(#clip592)\" d=\"M11536.5 1423.18 L11536.5 1423.18 L11577.5 1423.18 L11577.5 1423.18 L11536.5 1423.18 L11536.5 1423.18  Z\" fill=\"#009af9\" fill-rule=\"evenodd\" fill-opacity=\"1\"/>\n",
       "<polyline clip-path=\"url(#clip592)\" style=\"stroke:#000000; stroke-linecap:round; stroke-linejoin:round; stroke-width:4; stroke-opacity:1; fill:none\" points=\"11536.5,1423.18 11536.5,1423.18 11577.5,1423.18 11536.5,1423.18 \"/>\n",
       "<path clip-path=\"url(#clip592)\" d=\"M11577.5 1423.18 L11577.5 1423.18 L11618.5 1423.18 L11618.5 1423.18 L11577.5 1423.18 L11577.5 1423.18  Z\" fill=\"#009af9\" fill-rule=\"evenodd\" fill-opacity=\"1\"/>\n",
       "<polyline clip-path=\"url(#clip592)\" style=\"stroke:#000000; stroke-linecap:round; stroke-linejoin:round; stroke-width:4; stroke-opacity:1; fill:none\" points=\"11577.5,1423.18 11577.5,1423.18 11618.5,1423.18 11577.5,1423.18 \"/>\n",
       "<path clip-path=\"url(#clip592)\" d=\"M11618.5 1423.18 L11618.5 1423.18 L11659.4 1423.18 L11659.4 1423.18 L11618.5 1423.18 L11618.5 1423.18  Z\" fill=\"#009af9\" fill-rule=\"evenodd\" fill-opacity=\"1\"/>\n",
       "<polyline clip-path=\"url(#clip592)\" style=\"stroke:#000000; stroke-linecap:round; stroke-linejoin:round; stroke-width:4; stroke-opacity:1; fill:none\" points=\"11618.5,1423.18 11618.5,1423.18 11659.4,1423.18 11618.5,1423.18 \"/>\n",
       "<path clip-path=\"url(#clip592)\" d=\"M11659.4 1423.18 L11659.4 1423.18 L11700.4 1423.18 L11700.4 1423.18 L11659.4 1423.18 L11659.4 1423.18  Z\" fill=\"#009af9\" fill-rule=\"evenodd\" fill-opacity=\"1\"/>\n",
       "<polyline clip-path=\"url(#clip592)\" style=\"stroke:#000000; stroke-linecap:round; stroke-linejoin:round; stroke-width:4; stroke-opacity:1; fill:none\" points=\"11659.4,1423.18 11659.4,1423.18 11700.4,1423.18 11659.4,1423.18 \"/>\n",
       "<path clip-path=\"url(#clip592)\" d=\"M11700.4 1423.18 L11700.4 1423.18 L11741.4 1423.18 L11741.4 1423.18 L11700.4 1423.18 L11700.4 1423.18  Z\" fill=\"#009af9\" fill-rule=\"evenodd\" fill-opacity=\"1\"/>\n",
       "<polyline clip-path=\"url(#clip592)\" style=\"stroke:#000000; stroke-linecap:round; stroke-linejoin:round; stroke-width:4; stroke-opacity:1; fill:none\" points=\"11700.4,1423.18 11700.4,1423.18 11741.4,1423.18 11700.4,1423.18 \"/>\n",
       "<path clip-path=\"url(#clip592)\" d=\"M11741.4 1423.18 L11741.4 1423.18 L11782.4 1423.18 L11782.4 1423.18 L11741.4 1423.18 L11741.4 1423.18  Z\" fill=\"#009af9\" fill-rule=\"evenodd\" fill-opacity=\"1\"/>\n",
       "<polyline clip-path=\"url(#clip592)\" style=\"stroke:#000000; stroke-linecap:round; stroke-linejoin:round; stroke-width:4; stroke-opacity:1; fill:none\" points=\"11741.4,1423.18 11741.4,1423.18 11782.4,1423.18 11741.4,1423.18 \"/>\n",
       "<path clip-path=\"url(#clip592)\" d=\"M11782.4 1423.18 L11782.4 1423.18 L11823.3 1423.18 L11823.3 1423.18 L11782.4 1423.18 L11782.4 1423.18  Z\" fill=\"#009af9\" fill-rule=\"evenodd\" fill-opacity=\"1\"/>\n",
       "<polyline clip-path=\"url(#clip592)\" style=\"stroke:#000000; stroke-linecap:round; stroke-linejoin:round; stroke-width:4; stroke-opacity:1; fill:none\" points=\"11782.4,1423.18 11782.4,1423.18 11823.3,1423.18 11782.4,1423.18 \"/>\n",
       "<path clip-path=\"url(#clip592)\" d=\"M11823.3 1423.18 L11823.3 1423.18 L11864.3 1423.18 L11864.3 1423.18 L11823.3 1423.18 L11823.3 1423.18  Z\" fill=\"#009af9\" fill-rule=\"evenodd\" fill-opacity=\"1\"/>\n",
       "<polyline clip-path=\"url(#clip592)\" style=\"stroke:#000000; stroke-linecap:round; stroke-linejoin:round; stroke-width:4; stroke-opacity:1; fill:none\" points=\"11823.3,1423.18 11823.3,1423.18 11864.3,1423.18 11823.3,1423.18 \"/>\n",
       "<path clip-path=\"url(#clip592)\" d=\"M11864.3 1423.18 L11864.3 1423.18 L11905.3 1423.18 L11905.3 1423.18 L11864.3 1423.18 L11864.3 1423.18  Z\" fill=\"#009af9\" fill-rule=\"evenodd\" fill-opacity=\"1\"/>\n",
       "<polyline clip-path=\"url(#clip592)\" style=\"stroke:#000000; stroke-linecap:round; stroke-linejoin:round; stroke-width:4; stroke-opacity:1; fill:none\" points=\"11864.3,1423.18 11864.3,1423.18 11905.3,1423.18 11864.3,1423.18 \"/>\n",
       "<path clip-path=\"url(#clip592)\" d=\"M11905.3 1423.18 L11905.3 1423.18 L11946.2 1423.18 L11946.2 1423.18 L11905.3 1423.18 L11905.3 1423.18  Z\" fill=\"#009af9\" fill-rule=\"evenodd\" fill-opacity=\"1\"/>\n",
       "<polyline clip-path=\"url(#clip592)\" style=\"stroke:#000000; stroke-linecap:round; stroke-linejoin:round; stroke-width:4; stroke-opacity:1; fill:none\" points=\"11905.3,1423.18 11905.3,1423.18 11946.2,1423.18 11905.3,1423.18 \"/>\n",
       "<path clip-path=\"url(#clip592)\" d=\"M11946.2 1423.18 L11946.2 1423.18 L11987.2 1423.18 L11987.2 1423.18 L11946.2 1423.18 L11946.2 1423.18  Z\" fill=\"#009af9\" fill-rule=\"evenodd\" fill-opacity=\"1\"/>\n",
       "<polyline clip-path=\"url(#clip592)\" style=\"stroke:#000000; stroke-linecap:round; stroke-linejoin:round; stroke-width:4; stroke-opacity:1; fill:none\" points=\"11946.2,1423.18 11946.2,1423.18 11987.2,1423.18 11946.2,1423.18 \"/>\n",
       "<path clip-path=\"url(#clip592)\" d=\"M11987.2 1423.18 L11987.2 1423.18 L12028.2 1423.18 L12028.2 1423.18 L11987.2 1423.18 L11987.2 1423.18  Z\" fill=\"#009af9\" fill-rule=\"evenodd\" fill-opacity=\"1\"/>\n",
       "<polyline clip-path=\"url(#clip592)\" style=\"stroke:#000000; stroke-linecap:round; stroke-linejoin:round; stroke-width:4; stroke-opacity:1; fill:none\" points=\"11987.2,1423.18 11987.2,1423.18 12028.2,1423.18 11987.2,1423.18 \"/>\n",
       "<path clip-path=\"url(#clip592)\" d=\"M12028.2 1423.18 L12028.2 1423.18 L12069.1 1423.18 L12069.1 1423.18 L12028.2 1423.18 L12028.2 1423.18  Z\" fill=\"#009af9\" fill-rule=\"evenodd\" fill-opacity=\"1\"/>\n",
       "<polyline clip-path=\"url(#clip592)\" style=\"stroke:#000000; stroke-linecap:round; stroke-linejoin:round; stroke-width:4; stroke-opacity:1; fill:none\" points=\"12028.2,1423.18 12028.2,1423.18 12069.1,1423.18 12028.2,1423.18 \"/>\n",
       "<path clip-path=\"url(#clip592)\" d=\"M12069.1 1423.18 L12069.1 1423.18 L12110.1 1423.18 L12110.1 1423.18 L12069.1 1423.18 L12069.1 1423.18  Z\" fill=\"#009af9\" fill-rule=\"evenodd\" fill-opacity=\"1\"/>\n",
       "<polyline clip-path=\"url(#clip592)\" style=\"stroke:#000000; stroke-linecap:round; stroke-linejoin:round; stroke-width:4; stroke-opacity:1; fill:none\" points=\"12069.1,1423.18 12069.1,1423.18 12110.1,1423.18 12069.1,1423.18 \"/>\n",
       "<path clip-path=\"url(#clip592)\" d=\"M12110.1 1270.3 L12110.1 1423.18 L12151.1 1423.18 L12151.1 1270.3 L12110.1 1270.3 L12110.1 1270.3  Z\" fill=\"#009af9\" fill-rule=\"evenodd\" fill-opacity=\"1\"/>\n",
       "<polyline clip-path=\"url(#clip592)\" style=\"stroke:#000000; stroke-linecap:round; stroke-linejoin:round; stroke-width:4; stroke-opacity:1; fill:none\" points=\"12110.1,1270.3 12110.1,1423.18 12151.1,1423.18 12151.1,1270.3 12110.1,1270.3 \"/>\n",
       "<path clip-path=\"url(#clip592)\" d=\"M12151.1 1423.18 L12151.1 1423.18 L12192.1 1423.18 L12192.1 1423.18 L12151.1 1423.18 L12151.1 1423.18  Z\" fill=\"#009af9\" fill-rule=\"evenodd\" fill-opacity=\"1\"/>\n",
       "<polyline clip-path=\"url(#clip592)\" style=\"stroke:#000000; stroke-linecap:round; stroke-linejoin:round; stroke-width:4; stroke-opacity:1; fill:none\" points=\"12151.1,1423.18 12151.1,1423.18 12192.1,1423.18 12151.1,1423.18 \"/>\n",
       "<path clip-path=\"url(#clip592)\" d=\"M12192.1 1423.18 L12192.1 1423.18 L12233 1423.18 L12233 1423.18 L12192.1 1423.18 L12192.1 1423.18  Z\" fill=\"#009af9\" fill-rule=\"evenodd\" fill-opacity=\"1\"/>\n",
       "<polyline clip-path=\"url(#clip592)\" style=\"stroke:#000000; stroke-linecap:round; stroke-linejoin:round; stroke-width:4; stroke-opacity:1; fill:none\" points=\"12192.1,1423.18 12192.1,1423.18 12233,1423.18 12192.1,1423.18 \"/>\n",
       "<path clip-path=\"url(#clip592)\" d=\"M12233 1423.18 L12233 1423.18 L12274 1423.18 L12274 1423.18 L12233 1423.18 L12233 1423.18  Z\" fill=\"#009af9\" fill-rule=\"evenodd\" fill-opacity=\"1\"/>\n",
       "<polyline clip-path=\"url(#clip592)\" style=\"stroke:#000000; stroke-linecap:round; stroke-linejoin:round; stroke-width:4; stroke-opacity:1; fill:none\" points=\"12233,1423.18 12233,1423.18 12274,1423.18 12233,1423.18 \"/>\n",
       "<path clip-path=\"url(#clip592)\" d=\"M12274 1423.18 L12274 1423.18 L12315 1423.18 L12315 1423.18 L12274 1423.18 L12274 1423.18  Z\" fill=\"#009af9\" fill-rule=\"evenodd\" fill-opacity=\"1\"/>\n",
       "<polyline clip-path=\"url(#clip592)\" style=\"stroke:#000000; stroke-linecap:round; stroke-linejoin:round; stroke-width:4; stroke-opacity:1; fill:none\" points=\"12274,1423.18 12274,1423.18 12315,1423.18 12274,1423.18 \"/>\n",
       "<path clip-path=\"url(#clip592)\" d=\"M12315 1423.18 L12315 1423.18 L12355.9 1423.18 L12355.9 1423.18 L12315 1423.18 L12315 1423.18  Z\" fill=\"#009af9\" fill-rule=\"evenodd\" fill-opacity=\"1\"/>\n",
       "<polyline clip-path=\"url(#clip592)\" style=\"stroke:#000000; stroke-linecap:round; stroke-linejoin:round; stroke-width:4; stroke-opacity:1; fill:none\" points=\"12315,1423.18 12315,1423.18 12355.9,1423.18 12315,1423.18 \"/>\n",
       "<path clip-path=\"url(#clip592)\" d=\"M12355.9 1423.18 L12355.9 1423.18 L12396.9 1423.18 L12396.9 1423.18 L12355.9 1423.18 L12355.9 1423.18  Z\" fill=\"#009af9\" fill-rule=\"evenodd\" fill-opacity=\"1\"/>\n",
       "<polyline clip-path=\"url(#clip592)\" style=\"stroke:#000000; stroke-linecap:round; stroke-linejoin:round; stroke-width:4; stroke-opacity:1; fill:none\" points=\"12355.9,1423.18 12355.9,1423.18 12396.9,1423.18 12355.9,1423.18 \"/>\n",
       "<path clip-path=\"url(#clip592)\" d=\"M12396.9 1270.3 L12396.9 1423.18 L12437.9 1423.18 L12437.9 1270.3 L12396.9 1270.3 L12396.9 1270.3  Z\" fill=\"#009af9\" fill-rule=\"evenodd\" fill-opacity=\"1\"/>\n",
       "<polyline clip-path=\"url(#clip592)\" style=\"stroke:#000000; stroke-linecap:round; stroke-linejoin:round; stroke-width:4; stroke-opacity:1; fill:none\" points=\"12396.9,1270.3 12396.9,1423.18 12437.9,1423.18 12437.9,1270.3 12396.9,1270.3 \"/>\n",
       "<circle clip-path=\"url(#clip592)\" style=\"fill:#009af9; stroke:none; fill-opacity:0\" cx=\"577.009\" cy=\"1270.3\" r=\"2\"/>\n",
       "<circle clip-path=\"url(#clip592)\" style=\"fill:#009af9; stroke:none; fill-opacity:0\" cx=\"617.979\" cy=\"1423.18\" r=\"2\"/>\n",
       "<circle clip-path=\"url(#clip592)\" style=\"fill:#009af9; stroke:none; fill-opacity:0\" cx=\"658.949\" cy=\"1423.18\" r=\"2\"/>\n",
       "<circle clip-path=\"url(#clip592)\" style=\"fill:#009af9; stroke:none; fill-opacity:0\" cx=\"699.919\" cy=\"1117.42\" r=\"2\"/>\n",
       "<circle clip-path=\"url(#clip592)\" style=\"fill:#009af9; stroke:none; fill-opacity:0\" cx=\"740.889\" cy=\"1423.18\" r=\"2\"/>\n",
       "<circle clip-path=\"url(#clip592)\" style=\"fill:#009af9; stroke:none; fill-opacity:0\" cx=\"781.859\" cy=\"1270.3\" r=\"2\"/>\n",
       "<circle clip-path=\"url(#clip592)\" style=\"fill:#009af9; stroke:none; fill-opacity:0\" cx=\"822.83\" cy=\"1423.18\" r=\"2\"/>\n",
       "<circle clip-path=\"url(#clip592)\" style=\"fill:#009af9; stroke:none; fill-opacity:0\" cx=\"863.8\" cy=\"1423.18\" r=\"2\"/>\n",
       "<circle clip-path=\"url(#clip592)\" style=\"fill:#009af9; stroke:none; fill-opacity:0\" cx=\"904.77\" cy=\"1270.3\" r=\"2\"/>\n",
       "<circle clip-path=\"url(#clip592)\" style=\"fill:#009af9; stroke:none; fill-opacity:0\" cx=\"945.74\" cy=\"1117.42\" r=\"2\"/>\n",
       "<circle clip-path=\"url(#clip592)\" style=\"fill:#009af9; stroke:none; fill-opacity:0\" cx=\"986.71\" cy=\"964.535\" r=\"2\"/>\n",
       "<circle clip-path=\"url(#clip592)\" style=\"fill:#009af9; stroke:none; fill-opacity:0\" cx=\"1027.68\" cy=\"1270.3\" r=\"2\"/>\n",
       "<circle clip-path=\"url(#clip592)\" style=\"fill:#009af9; stroke:none; fill-opacity:0\" cx=\"1068.65\" cy=\"1117.42\" r=\"2\"/>\n",
       "<circle clip-path=\"url(#clip592)\" style=\"fill:#009af9; stroke:none; fill-opacity:0\" cx=\"1109.62\" cy=\"1117.42\" r=\"2\"/>\n",
       "<circle clip-path=\"url(#clip592)\" style=\"fill:#009af9; stroke:none; fill-opacity:0\" cx=\"1150.59\" cy=\"1117.42\" r=\"2\"/>\n",
       "<circle clip-path=\"url(#clip592)\" style=\"fill:#009af9; stroke:none; fill-opacity:0\" cx=\"1191.56\" cy=\"1270.3\" r=\"2\"/>\n",
       "<circle clip-path=\"url(#clip592)\" style=\"fill:#009af9; stroke:none; fill-opacity:0\" cx=\"1232.53\" cy=\"964.535\" r=\"2\"/>\n",
       "<circle clip-path=\"url(#clip592)\" style=\"fill:#009af9; stroke:none; fill-opacity:0\" cx=\"1273.5\" cy=\"1270.3\" r=\"2\"/>\n",
       "<circle clip-path=\"url(#clip592)\" style=\"fill:#009af9; stroke:none; fill-opacity:0\" cx=\"1314.47\" cy=\"1270.3\" r=\"2\"/>\n",
       "<circle clip-path=\"url(#clip592)\" style=\"fill:#009af9; stroke:none; fill-opacity:0\" cx=\"1355.44\" cy=\"1270.3\" r=\"2\"/>\n",
       "<circle clip-path=\"url(#clip592)\" style=\"fill:#009af9; stroke:none; fill-opacity:0\" cx=\"1396.41\" cy=\"1423.18\" r=\"2\"/>\n",
       "<circle clip-path=\"url(#clip592)\" style=\"fill:#009af9; stroke:none; fill-opacity:0\" cx=\"1437.38\" cy=\"1117.42\" r=\"2\"/>\n",
       "<circle clip-path=\"url(#clip592)\" style=\"fill:#009af9; stroke:none; fill-opacity:0\" cx=\"1478.35\" cy=\"1117.42\" r=\"2\"/>\n",
       "<circle clip-path=\"url(#clip592)\" style=\"fill:#009af9; stroke:none; fill-opacity:0\" cx=\"1519.32\" cy=\"1423.18\" r=\"2\"/>\n",
       "<circle clip-path=\"url(#clip592)\" style=\"fill:#009af9; stroke:none; fill-opacity:0\" cx=\"1560.29\" cy=\"964.535\" r=\"2\"/>\n",
       "<circle clip-path=\"url(#clip592)\" style=\"fill:#009af9; stroke:none; fill-opacity:0\" cx=\"1601.26\" cy=\"1117.42\" r=\"2\"/>\n",
       "<circle clip-path=\"url(#clip592)\" style=\"fill:#009af9; stroke:none; fill-opacity:0\" cx=\"1642.23\" cy=\"658.771\" r=\"2\"/>\n",
       "<circle clip-path=\"url(#clip592)\" style=\"fill:#009af9; stroke:none; fill-opacity:0\" cx=\"1683.2\" cy=\"1117.42\" r=\"2\"/>\n",
       "<circle clip-path=\"url(#clip592)\" style=\"fill:#009af9; stroke:none; fill-opacity:0\" cx=\"1724.17\" cy=\"811.653\" r=\"2\"/>\n",
       "<circle clip-path=\"url(#clip592)\" style=\"fill:#009af9; stroke:none; fill-opacity:0\" cx=\"1765.14\" cy=\"1270.3\" r=\"2\"/>\n",
       "<circle clip-path=\"url(#clip592)\" style=\"fill:#009af9; stroke:none; fill-opacity:0\" cx=\"1806.11\" cy=\"1117.42\" r=\"2\"/>\n",
       "<circle clip-path=\"url(#clip592)\" style=\"fill:#009af9; stroke:none; fill-opacity:0\" cx=\"1847.08\" cy=\"964.535\" r=\"2\"/>\n",
       "<circle clip-path=\"url(#clip592)\" style=\"fill:#009af9; stroke:none; fill-opacity:0\" cx=\"1888.05\" cy=\"964.535\" r=\"2\"/>\n",
       "<circle clip-path=\"url(#clip592)\" style=\"fill:#009af9; stroke:none; fill-opacity:0\" cx=\"1929.02\" cy=\"964.535\" r=\"2\"/>\n",
       "<circle clip-path=\"url(#clip592)\" style=\"fill:#009af9; stroke:none; fill-opacity:0\" cx=\"1969.99\" cy=\"811.653\" r=\"2\"/>\n",
       "<circle clip-path=\"url(#clip592)\" style=\"fill:#009af9; stroke:none; fill-opacity:0\" cx=\"2010.96\" cy=\"1117.42\" r=\"2\"/>\n",
       "<circle clip-path=\"url(#clip592)\" style=\"fill:#009af9; stroke:none; fill-opacity:0\" cx=\"2051.93\" cy=\"1270.3\" r=\"2\"/>\n",
       "<circle clip-path=\"url(#clip592)\" style=\"fill:#009af9; stroke:none; fill-opacity:0\" cx=\"2092.91\" cy=\"964.535\" r=\"2\"/>\n",
       "<circle clip-path=\"url(#clip592)\" style=\"fill:#009af9; stroke:none; fill-opacity:0\" cx=\"2133.88\" cy=\"505.889\" r=\"2\"/>\n",
       "<circle clip-path=\"url(#clip592)\" style=\"fill:#009af9; stroke:none; fill-opacity:0\" cx=\"2174.85\" cy=\"964.535\" r=\"2\"/>\n",
       "<circle clip-path=\"url(#clip592)\" style=\"fill:#009af9; stroke:none; fill-opacity:0\" cx=\"2215.82\" cy=\"811.653\" r=\"2\"/>\n",
       "<circle clip-path=\"url(#clip592)\" style=\"fill:#009af9; stroke:none; fill-opacity:0\" cx=\"2256.79\" cy=\"811.653\" r=\"2\"/>\n",
       "<circle clip-path=\"url(#clip592)\" style=\"fill:#009af9; stroke:none; fill-opacity:0\" cx=\"2297.76\" cy=\"200.126\" r=\"2\"/>\n",
       "<circle clip-path=\"url(#clip592)\" style=\"fill:#009af9; stroke:none; fill-opacity:0\" cx=\"2338.73\" cy=\"1117.42\" r=\"2\"/>\n",
       "</svg>\n"
      ],
      "text/html": [
       "<?xml version=\"1.0\" encoding=\"utf-8\"?>\n",
       "<svg xmlns=\"http://www.w3.org/2000/svg\" xmlns:xlink=\"http://www.w3.org/1999/xlink\" width=\"600\" height=\"400\" viewBox=\"0 0 2400 1600\">\n",
       "<defs>\n",
       "  <clipPath id=\"clip640\">\n",
       "    <rect x=\"0\" y=\"0\" width=\"2400\" height=\"1600\"/>\n",
       "  </clipPath>\n",
       "</defs>\n",
       "<path clip-path=\"url(#clip640)\" d=\"M0 1600 L2400 1600 L2400 0 L0 0  Z\" fill=\"#ffffff\" fill-rule=\"evenodd\" fill-opacity=\"1\"/>\n",
       "<defs>\n",
       "  <clipPath id=\"clip641\">\n",
       "    <rect x=\"480\" y=\"0\" width=\"1681\" height=\"1600\"/>\n",
       "  </clipPath>\n",
       "</defs>\n",
       "<path clip-path=\"url(#clip640)\" d=\"M174.149 1423.18 L2352.76 1423.18 L2352.76 47.2441 L174.149 47.2441  Z\" fill=\"#ffffff\" fill-rule=\"evenodd\" fill-opacity=\"1\"/>\n",
       "<defs>\n",
       "  <clipPath id=\"clip642\">\n",
       "    <rect x=\"174\" y=\"47\" width=\"2180\" height=\"1377\"/>\n",
       "  </clipPath>\n",
       "</defs>\n",
       "<polyline clip-path=\"url(#clip642)\" style=\"stroke:#000000; stroke-linecap:round; stroke-linejoin:round; stroke-width:2; stroke-opacity:0.1; fill:none\" points=\"351.673,1423.18 351.673,47.2441 \"/>\n",
       "<polyline clip-path=\"url(#clip642)\" style=\"stroke:#000000; stroke-linecap:round; stroke-linejoin:round; stroke-width:2; stroke-opacity:0.1; fill:none\" points=\"761.374,1423.18 761.374,47.2441 \"/>\n",
       "<polyline clip-path=\"url(#clip642)\" style=\"stroke:#000000; stroke-linecap:round; stroke-linejoin:round; stroke-width:2; stroke-opacity:0.1; fill:none\" points=\"1171.08,1423.18 1171.08,47.2441 \"/>\n",
       "<polyline clip-path=\"url(#clip642)\" style=\"stroke:#000000; stroke-linecap:round; stroke-linejoin:round; stroke-width:2; stroke-opacity:0.1; fill:none\" points=\"1580.78,1423.18 1580.78,47.2441 \"/>\n",
       "<polyline clip-path=\"url(#clip642)\" style=\"stroke:#000000; stroke-linecap:round; stroke-linejoin:round; stroke-width:2; stroke-opacity:0.1; fill:none\" points=\"1990.48,1423.18 1990.48,47.2441 \"/>\n",
       "<polyline clip-path=\"url(#clip640)\" style=\"stroke:#000000; stroke-linecap:round; stroke-linejoin:round; stroke-width:4; stroke-opacity:1; fill:none\" points=\"174.149,1423.18 2352.76,1423.18 \"/>\n",
       "<polyline clip-path=\"url(#clip640)\" style=\"stroke:#000000; stroke-linecap:round; stroke-linejoin:round; stroke-width:4; stroke-opacity:1; fill:none\" points=\"351.673,1423.18 351.673,1404.28 \"/>\n",
       "<polyline clip-path=\"url(#clip640)\" style=\"stroke:#000000; stroke-linecap:round; stroke-linejoin:round; stroke-width:4; stroke-opacity:1; fill:none\" points=\"761.374,1423.18 761.374,1404.28 \"/>\n",
       "<polyline clip-path=\"url(#clip640)\" style=\"stroke:#000000; stroke-linecap:round; stroke-linejoin:round; stroke-width:4; stroke-opacity:1; fill:none\" points=\"1171.08,1423.18 1171.08,1404.28 \"/>\n",
       "<polyline clip-path=\"url(#clip640)\" style=\"stroke:#000000; stroke-linecap:round; stroke-linejoin:round; stroke-width:4; stroke-opacity:1; fill:none\" points=\"1580.78,1423.18 1580.78,1404.28 \"/>\n",
       "<polyline clip-path=\"url(#clip640)\" style=\"stroke:#000000; stroke-linecap:round; stroke-linejoin:round; stroke-width:4; stroke-opacity:1; fill:none\" points=\"1990.48,1423.18 1990.48,1404.28 \"/>\n",
       "<path clip-path=\"url(#clip640)\" d=\"M304.231 1484.86 L304.231 1480.6 Q305.99 1481.44 307.796 1481.88 Q309.601 1482.32 311.337 1482.32 Q315.967 1482.32 318.397 1479.21 Q320.851 1476.09 321.198 1469.75 Q319.856 1471.74 317.796 1472.8 Q315.735 1473.87 313.235 1473.87 Q308.05 1473.87 305.018 1470.74 Q302.009 1467.59 302.009 1462.15 Q302.009 1456.83 305.157 1453.61 Q308.305 1450.39 313.536 1450.39 Q319.532 1450.39 322.68 1455 Q325.851 1459.58 325.851 1468.33 Q325.851 1476.51 321.962 1481.39 Q318.096 1486.25 311.546 1486.25 Q309.786 1486.25 307.981 1485.9 Q306.175 1485.56 304.231 1484.86 M313.536 1470.21 Q316.684 1470.21 318.513 1468.06 Q320.365 1465.9 320.365 1462.15 Q320.365 1458.43 318.513 1456.27 Q316.684 1454.1 313.536 1454.1 Q310.388 1454.1 308.536 1456.27 Q306.708 1458.43 306.708 1462.15 Q306.708 1465.9 308.536 1468.06 Q310.388 1470.21 313.536 1470.21 Z\" fill=\"#000000\" fill-rule=\"nonzero\" fill-opacity=\"1\" /><path clip-path=\"url(#clip640)\" d=\"M334.254 1479.7 L339.138 1479.7 L339.138 1485.58 L334.254 1485.58 L334.254 1479.7 Z\" fill=\"#000000\" fill-rule=\"nonzero\" fill-opacity=\"1\" /><path clip-path=\"url(#clip640)\" d=\"M363.49 1466.95 Q366.846 1467.66 368.721 1469.93 Q370.619 1472.2 370.619 1475.53 Q370.619 1480.65 367.101 1483.45 Q363.582 1486.25 357.101 1486.25 Q354.925 1486.25 352.61 1485.81 Q350.319 1485.39 347.865 1484.54 L347.865 1480.02 Q349.809 1481.16 352.124 1481.74 Q354.439 1482.32 356.962 1482.32 Q361.36 1482.32 363.652 1480.58 Q365.967 1478.84 365.967 1475.53 Q365.967 1472.48 363.814 1470.77 Q361.684 1469.03 357.865 1469.03 L353.837 1469.03 L353.837 1465.19 L358.05 1465.19 Q361.499 1465.19 363.328 1463.82 Q365.156 1462.43 365.156 1459.84 Q365.156 1457.18 363.258 1455.77 Q361.383 1454.33 357.865 1454.33 Q355.943 1454.33 353.744 1454.75 Q351.545 1455.16 348.906 1456.04 L348.906 1451.88 Q351.569 1451.14 353.883 1450.77 Q356.221 1450.39 358.281 1450.39 Q363.605 1450.39 366.707 1452.83 Q369.809 1455.23 369.809 1459.35 Q369.809 1462.22 368.166 1464.21 Q366.522 1466.18 363.49 1466.95 Z\" fill=\"#000000\" fill-rule=\"nonzero\" fill-opacity=\"1\" /><path clip-path=\"url(#clip640)\" d=\"M389.485 1469.17 Q386.152 1469.17 384.23 1470.95 Q382.332 1472.73 382.332 1475.86 Q382.332 1478.98 384.23 1480.77 Q386.152 1482.55 389.485 1482.55 Q392.818 1482.55 394.74 1480.77 Q396.661 1478.96 396.661 1475.86 Q396.661 1472.73 394.74 1470.95 Q392.841 1469.17 389.485 1469.17 M384.809 1467.18 Q381.8 1466.44 380.11 1464.38 Q378.443 1462.32 378.443 1459.35 Q378.443 1455.21 381.383 1452.8 Q384.346 1450.39 389.485 1450.39 Q394.647 1450.39 397.587 1452.8 Q400.527 1455.21 400.527 1459.35 Q400.527 1462.32 398.837 1464.38 Q397.17 1466.44 394.184 1467.18 Q397.564 1467.96 399.439 1470.26 Q401.337 1472.55 401.337 1475.86 Q401.337 1480.88 398.258 1483.57 Q395.203 1486.25 389.485 1486.25 Q383.767 1486.25 380.689 1483.57 Q377.633 1480.88 377.633 1475.86 Q377.633 1472.55 379.531 1470.26 Q381.429 1467.96 384.809 1467.18 M383.096 1459.79 Q383.096 1462.48 384.763 1463.98 Q386.453 1465.49 389.485 1465.49 Q392.494 1465.49 394.184 1463.98 Q395.897 1462.48 395.897 1459.79 Q395.897 1457.11 394.184 1455.6 Q392.494 1454.1 389.485 1454.1 Q386.453 1454.1 384.763 1455.6 Q383.096 1457.11 383.096 1459.79 Z\" fill=\"#000000\" fill-rule=\"nonzero\" fill-opacity=\"1\" /><path clip-path=\"url(#clip640)\" d=\"M713.979 1484.86 L713.979 1480.6 Q715.738 1481.44 717.544 1481.88 Q719.349 1482.32 721.085 1482.32 Q725.715 1482.32 728.145 1479.21 Q730.599 1476.09 730.946 1469.75 Q729.604 1471.74 727.544 1472.8 Q725.483 1473.87 722.983 1473.87 Q717.798 1473.87 714.766 1470.74 Q711.757 1467.59 711.757 1462.15 Q711.757 1456.83 714.905 1453.61 Q718.053 1450.39 723.284 1450.39 Q729.28 1450.39 732.428 1455 Q735.599 1459.58 735.599 1468.33 Q735.599 1476.51 731.71 1481.39 Q727.844 1486.25 721.294 1486.25 Q719.534 1486.25 717.729 1485.9 Q715.923 1485.56 713.979 1484.86 M723.284 1470.21 Q726.432 1470.21 728.261 1468.06 Q730.113 1465.9 730.113 1462.15 Q730.113 1458.43 728.261 1456.27 Q726.432 1454.1 723.284 1454.1 Q720.136 1454.1 718.284 1456.27 Q716.456 1458.43 716.456 1462.15 Q716.456 1465.9 718.284 1468.06 Q720.136 1470.21 723.284 1470.21 Z\" fill=\"#000000\" fill-rule=\"nonzero\" fill-opacity=\"1\" /><path clip-path=\"url(#clip640)\" d=\"M744.002 1479.7 L748.886 1479.7 L748.886 1485.58 L744.002 1485.58 L744.002 1479.7 Z\" fill=\"#000000\" fill-rule=\"nonzero\" fill-opacity=\"1\" /><path clip-path=\"url(#clip640)\" d=\"M773.238 1466.95 Q776.594 1467.66 778.469 1469.93 Q780.367 1472.2 780.367 1475.53 Q780.367 1480.65 776.849 1483.45 Q773.33 1486.25 766.849 1486.25 Q764.673 1486.25 762.358 1485.81 Q760.067 1485.39 757.613 1484.54 L757.613 1480.02 Q759.557 1481.16 761.872 1481.74 Q764.187 1482.32 766.71 1482.32 Q771.108 1482.32 773.4 1480.58 Q775.715 1478.84 775.715 1475.53 Q775.715 1472.48 773.562 1470.77 Q771.432 1469.03 767.613 1469.03 L763.585 1469.03 L763.585 1465.19 L767.798 1465.19 Q771.247 1465.19 773.076 1463.82 Q774.904 1462.43 774.904 1459.84 Q774.904 1457.18 773.006 1455.77 Q771.131 1454.33 767.613 1454.33 Q765.692 1454.33 763.492 1454.75 Q761.293 1455.16 758.655 1456.04 L758.655 1451.88 Q761.317 1451.14 763.631 1450.77 Q765.969 1450.39 768.029 1450.39 Q773.354 1450.39 776.455 1452.83 Q779.557 1455.23 779.557 1459.35 Q779.557 1462.22 777.914 1464.21 Q776.27 1466.18 773.238 1466.95 Z\" fill=\"#000000\" fill-rule=\"nonzero\" fill-opacity=\"1\" /><path clip-path=\"url(#clip640)\" d=\"M789.372 1484.86 L789.372 1480.6 Q791.131 1481.44 792.937 1481.88 Q794.742 1482.32 796.478 1482.32 Q801.108 1482.32 803.539 1479.21 Q805.992 1476.09 806.339 1469.75 Q804.997 1471.74 802.937 1472.8 Q800.877 1473.87 798.377 1473.87 Q793.191 1473.87 790.159 1470.74 Q787.15 1467.59 787.15 1462.15 Q787.15 1456.83 790.298 1453.61 Q793.446 1450.39 798.677 1450.39 Q804.673 1450.39 807.821 1455 Q810.992 1459.58 810.992 1468.33 Q810.992 1476.51 807.103 1481.39 Q803.238 1486.25 796.687 1486.25 Q794.927 1486.25 793.122 1485.9 Q791.316 1485.56 789.372 1484.86 M798.677 1470.21 Q801.826 1470.21 803.654 1468.06 Q805.506 1465.9 805.506 1462.15 Q805.506 1458.43 803.654 1456.27 Q801.826 1454.1 798.677 1454.1 Q795.529 1454.1 793.677 1456.27 Q791.849 1458.43 791.849 1462.15 Q791.849 1465.9 793.677 1468.06 Q795.529 1470.21 798.677 1470.21 Z\" fill=\"#000000\" fill-rule=\"nonzero\" fill-opacity=\"1\" /><path clip-path=\"url(#clip640)\" d=\"M1123.59 1484.86 L1123.59 1480.6 Q1125.35 1481.44 1127.15 1481.88 Q1128.96 1482.32 1130.69 1482.32 Q1135.32 1482.32 1137.75 1479.21 Q1140.21 1476.09 1140.56 1469.75 Q1139.21 1471.74 1137.15 1472.8 Q1135.09 1473.87 1132.59 1473.87 Q1127.41 1473.87 1124.38 1470.74 Q1121.37 1467.59 1121.37 1462.15 Q1121.37 1456.83 1124.51 1453.61 Q1127.66 1450.39 1132.89 1450.39 Q1138.89 1450.39 1142.04 1455 Q1145.21 1459.58 1145.21 1468.33 Q1145.21 1476.51 1141.32 1481.39 Q1137.45 1486.25 1130.9 1486.25 Q1129.14 1486.25 1127.34 1485.9 Q1125.53 1485.56 1123.59 1484.86 M1132.89 1470.21 Q1136.04 1470.21 1137.87 1468.06 Q1139.72 1465.9 1139.72 1462.15 Q1139.72 1458.43 1137.87 1456.27 Q1136.04 1454.1 1132.89 1454.1 Q1129.75 1454.1 1127.89 1456.27 Q1126.06 1458.43 1126.06 1462.15 Q1126.06 1465.9 1127.89 1468.06 Q1129.75 1470.21 1132.89 1470.21 Z\" fill=\"#000000\" fill-rule=\"nonzero\" fill-opacity=\"1\" /><path clip-path=\"url(#clip640)\" d=\"M1153.61 1479.7 L1158.5 1479.7 L1158.5 1485.58 L1153.61 1485.58 L1153.61 1479.7 Z\" fill=\"#000000\" fill-rule=\"nonzero\" fill-opacity=\"1\" /><path clip-path=\"url(#clip640)\" d=\"M1181.53 1455.09 L1169.72 1473.54 L1181.53 1473.54 L1181.53 1455.09 M1180.3 1451.02 L1186.18 1451.02 L1186.18 1473.54 L1191.11 1473.54 L1191.11 1477.43 L1186.18 1477.43 L1186.18 1485.58 L1181.53 1485.58 L1181.53 1477.43 L1165.93 1477.43 L1165.93 1472.92 L1180.3 1451.02 Z\" fill=\"#000000\" fill-rule=\"nonzero\" fill-opacity=\"1\" /><path clip-path=\"url(#clip640)\" d=\"M1208.84 1454.1 Q1205.23 1454.1 1203.4 1457.66 Q1201.6 1461.2 1201.6 1468.33 Q1201.6 1475.44 1203.4 1479.01 Q1205.23 1482.55 1208.84 1482.55 Q1212.48 1482.55 1214.28 1479.01 Q1216.11 1475.44 1216.11 1468.33 Q1216.11 1461.2 1214.28 1457.66 Q1212.48 1454.1 1208.84 1454.1 M1208.84 1450.39 Q1214.65 1450.39 1217.71 1455 Q1220.79 1459.58 1220.79 1468.33 Q1220.79 1477.06 1217.71 1481.67 Q1214.65 1486.25 1208.84 1486.25 Q1203.03 1486.25 1199.95 1481.67 Q1196.9 1477.06 1196.9 1468.33 Q1196.9 1459.58 1199.95 1455 Q1203.03 1450.39 1208.84 1450.39 Z\" fill=\"#000000\" fill-rule=\"nonzero\" fill-opacity=\"1\" /><path clip-path=\"url(#clip640)\" d=\"M1533.9 1484.86 L1533.9 1480.6 Q1535.66 1481.44 1537.47 1481.88 Q1539.27 1482.32 1541.01 1482.32 Q1545.64 1482.32 1548.07 1479.21 Q1550.52 1476.09 1550.87 1469.75 Q1549.53 1471.74 1547.47 1472.8 Q1545.41 1473.87 1542.91 1473.87 Q1537.72 1473.87 1534.69 1470.74 Q1531.68 1467.59 1531.68 1462.15 Q1531.68 1456.83 1534.83 1453.61 Q1537.98 1450.39 1543.21 1450.39 Q1549.2 1450.39 1552.35 1455 Q1555.52 1459.58 1555.52 1468.33 Q1555.52 1476.51 1551.63 1481.39 Q1547.77 1486.25 1541.22 1486.25 Q1539.46 1486.25 1537.65 1485.9 Q1535.85 1485.56 1533.9 1484.86 M1543.21 1470.21 Q1546.36 1470.21 1548.19 1468.06 Q1550.04 1465.9 1550.04 1462.15 Q1550.04 1458.43 1548.19 1456.27 Q1546.36 1454.1 1543.21 1454.1 Q1540.06 1454.1 1538.21 1456.27 Q1536.38 1458.43 1536.38 1462.15 Q1536.38 1465.9 1538.21 1468.06 Q1540.06 1470.21 1543.21 1470.21 Z\" fill=\"#000000\" fill-rule=\"nonzero\" fill-opacity=\"1\" /><path clip-path=\"url(#clip640)\" d=\"M1563.93 1479.7 L1568.81 1479.7 L1568.81 1485.58 L1563.93 1485.58 L1563.93 1479.7 Z\" fill=\"#000000\" fill-rule=\"nonzero\" fill-opacity=\"1\" /><path clip-path=\"url(#clip640)\" d=\"M1591.84 1455.09 L1580.04 1473.54 L1591.84 1473.54 L1591.84 1455.09 M1590.62 1451.02 L1596.5 1451.02 L1596.5 1473.54 L1601.43 1473.54 L1601.43 1477.43 L1596.5 1477.43 L1596.5 1485.58 L1591.84 1485.58 L1591.84 1477.43 L1576.24 1477.43 L1576.24 1472.92 L1590.62 1451.02 Z\" fill=\"#000000\" fill-rule=\"nonzero\" fill-opacity=\"1\" /><path clip-path=\"url(#clip640)\" d=\"M1609.97 1481.64 L1617.61 1481.64 L1617.61 1455.28 L1609.3 1456.95 L1609.3 1452.69 L1617.56 1451.02 L1622.24 1451.02 L1622.24 1481.64 L1629.87 1481.64 L1629.87 1485.58 L1609.97 1485.58 L1609.97 1481.64 Z\" fill=\"#000000\" fill-rule=\"nonzero\" fill-opacity=\"1\" /><path clip-path=\"url(#clip640)\" d=\"M1943.79 1484.86 L1943.79 1480.6 Q1945.55 1481.44 1947.35 1481.88 Q1949.16 1482.32 1950.9 1482.32 Q1955.53 1482.32 1957.96 1479.21 Q1960.41 1476.09 1960.76 1469.75 Q1959.41 1471.74 1957.35 1472.8 Q1955.29 1473.87 1952.79 1473.87 Q1947.61 1473.87 1944.58 1470.74 Q1941.57 1467.59 1941.57 1462.15 Q1941.57 1456.83 1944.72 1453.61 Q1947.86 1450.39 1953.1 1450.39 Q1959.09 1450.39 1962.24 1455 Q1965.41 1459.58 1965.41 1468.33 Q1965.41 1476.51 1961.52 1481.39 Q1957.66 1486.25 1951.1 1486.25 Q1949.35 1486.25 1947.54 1485.9 Q1945.73 1485.56 1943.79 1484.86 M1953.1 1470.21 Q1956.24 1470.21 1958.07 1468.06 Q1959.92 1465.9 1959.92 1462.15 Q1959.92 1458.43 1958.07 1456.27 Q1956.24 1454.1 1953.1 1454.1 Q1949.95 1454.1 1948.1 1456.27 Q1946.27 1458.43 1946.27 1462.15 Q1946.27 1465.9 1948.1 1468.06 Q1949.95 1470.21 1953.1 1470.21 Z\" fill=\"#000000\" fill-rule=\"nonzero\" fill-opacity=\"1\" /><path clip-path=\"url(#clip640)\" d=\"M1973.81 1479.7 L1978.7 1479.7 L1978.7 1485.58 L1973.81 1485.58 L1973.81 1479.7 Z\" fill=\"#000000\" fill-rule=\"nonzero\" fill-opacity=\"1\" /><path clip-path=\"url(#clip640)\" d=\"M2001.73 1455.09 L1989.92 1473.54 L2001.73 1473.54 L2001.73 1455.09 M2000.5 1451.02 L2006.38 1451.02 L2006.38 1473.54 L2011.31 1473.54 L2011.31 1477.43 L2006.38 1477.43 L2006.38 1485.58 L2001.73 1485.58 L2001.73 1477.43 L1986.13 1477.43 L1986.13 1472.92 L2000.5 1451.02 Z\" fill=\"#000000\" fill-rule=\"nonzero\" fill-opacity=\"1\" /><path clip-path=\"url(#clip640)\" d=\"M2023.07 1481.64 L2039.39 1481.64 L2039.39 1485.58 L2017.45 1485.58 L2017.45 1481.64 Q2020.11 1478.89 2024.69 1474.26 Q2029.3 1469.61 2030.48 1468.27 Q2032.72 1465.74 2033.6 1464.01 Q2034.51 1462.25 2034.51 1460.56 Q2034.51 1457.8 2032.56 1456.07 Q2030.64 1454.33 2027.54 1454.33 Q2025.34 1454.33 2022.89 1455.09 Q2020.46 1455.86 2017.68 1457.41 L2017.68 1452.69 Q2020.5 1451.55 2022.96 1450.97 Q2025.41 1450.39 2027.45 1450.39 Q2032.82 1450.39 2036.01 1453.08 Q2039.21 1455.77 2039.21 1460.26 Q2039.21 1462.39 2038.4 1464.31 Q2037.61 1466.2 2035.5 1468.8 Q2034.92 1469.47 2031.82 1472.69 Q2028.72 1475.88 2023.07 1481.64 Z\" fill=\"#000000\" fill-rule=\"nonzero\" fill-opacity=\"1\" /><path clip-path=\"url(#clip640)\" d=\"M1094.79 1539.24 Q1096.99 1535.29 1100.04 1533.41 Q1103.1 1531.54 1107.24 1531.54 Q1112.81 1531.54 1115.83 1535.45 Q1118.86 1539.33 1118.86 1546.53 L1118.86 1568.04 L1112.97 1568.04 L1112.97 1546.72 Q1112.97 1541.59 1111.15 1539.11 Q1109.34 1536.63 1105.61 1536.63 Q1101.06 1536.63 1098.42 1539.65 Q1095.78 1542.68 1095.78 1547.9 L1095.78 1568.04 L1089.89 1568.04 L1089.89 1546.72 Q1089.89 1541.56 1088.08 1539.11 Q1086.26 1536.63 1082.48 1536.63 Q1077.99 1536.63 1075.35 1539.68 Q1072.7 1542.71 1072.7 1547.9 L1072.7 1568.04 L1066.82 1568.04 L1066.82 1532.4 L1072.7 1532.4 L1072.7 1537.93 Q1074.71 1534.66 1077.51 1533.1 Q1080.31 1531.54 1084.16 1531.54 Q1088.05 1531.54 1090.75 1533.51 Q1093.49 1535.48 1094.79 1539.24 Z\" fill=\"#000000\" fill-rule=\"nonzero\" fill-opacity=\"1\" /><path clip-path=\"url(#clip640)\" d=\"M1130.54 1532.4 L1136.39 1532.4 L1136.39 1568.04 L1130.54 1568.04 L1130.54 1532.4 M1130.54 1518.52 L1136.39 1518.52 L1136.39 1525.93 L1130.54 1525.93 L1130.54 1518.52 Z\" fill=\"#000000\" fill-rule=\"nonzero\" fill-opacity=\"1\" /><path clip-path=\"url(#clip640)\" d=\"M1148.65 1518.52 L1154.5 1518.52 L1154.5 1568.04 L1148.65 1568.04 L1148.65 1518.52 Z\" fill=\"#000000\" fill-rule=\"nonzero\" fill-opacity=\"1\" /><path clip-path=\"url(#clip640)\" d=\"M1166.76 1518.52 L1172.61 1518.52 L1172.61 1568.04 L1166.76 1568.04 L1166.76 1518.52 Z\" fill=\"#000000\" fill-rule=\"nonzero\" fill-opacity=\"1\" /><path clip-path=\"url(#clip640)\" d=\"M1184.87 1532.4 L1190.72 1532.4 L1190.72 1568.04 L1184.87 1568.04 L1184.87 1532.4 M1184.87 1518.52 L1190.72 1518.52 L1190.72 1525.93 L1184.87 1525.93 L1184.87 1518.52 Z\" fill=\"#000000\" fill-rule=\"nonzero\" fill-opacity=\"1\" /><path clip-path=\"url(#clip640)\" d=\"M1225.7 1533.45 L1225.7 1538.98 Q1223.22 1537.71 1220.55 1537.07 Q1217.87 1536.44 1215.01 1536.44 Q1210.65 1536.44 1208.45 1537.77 Q1206.29 1539.11 1206.29 1541.79 Q1206.29 1543.82 1207.85 1545 Q1209.41 1546.15 1214.12 1547.2 L1216.12 1547.64 Q1222.36 1548.98 1224.97 1551.43 Q1227.61 1553.85 1227.61 1558.21 Q1227.61 1563.17 1223.67 1566.07 Q1219.75 1568.97 1212.88 1568.97 Q1210.01 1568.97 1206.89 1568.39 Q1203.81 1567.85 1200.37 1566.74 L1200.37 1560.69 Q1203.61 1562.38 1206.77 1563.24 Q1209.92 1564.07 1213 1564.07 Q1217.14 1564.07 1219.37 1562.66 Q1221.6 1561.23 1221.6 1558.65 Q1221.6 1556.27 1219.97 1554.99 Q1218.38 1553.72 1212.94 1552.54 L1210.9 1552.07 Q1205.46 1550.92 1203.04 1548.56 Q1200.62 1546.18 1200.62 1542.04 Q1200.62 1537.01 1204.19 1534.27 Q1207.75 1531.54 1214.31 1531.54 Q1217.56 1531.54 1220.42 1532.01 Q1223.28 1532.49 1225.7 1533.45 Z\" fill=\"#000000\" fill-rule=\"nonzero\" fill-opacity=\"1\" /><path clip-path=\"url(#clip640)\" d=\"M1267.43 1548.76 L1267.43 1551.62 L1240.5 1551.62 Q1240.89 1557.67 1244.13 1560.85 Q1247.41 1564 1253.24 1564 Q1256.61 1564 1259.76 1563.17 Q1262.94 1562.35 1266.06 1560.69 L1266.06 1566.23 Q1262.91 1567.57 1259.6 1568.27 Q1256.29 1568.97 1252.89 1568.97 Q1244.36 1568.97 1239.36 1564 Q1234.39 1559.04 1234.39 1550.57 Q1234.39 1541.82 1239.1 1536.69 Q1243.85 1531.54 1251.87 1531.54 Q1259.06 1531.54 1263.23 1536.18 Q1267.43 1540.8 1267.43 1548.76 M1261.57 1547.04 Q1261.51 1542.23 1258.87 1539.37 Q1256.26 1536.5 1251.93 1536.5 Q1247.03 1536.5 1244.07 1539.27 Q1241.14 1542.04 1240.7 1547.07 L1261.57 1547.04 Z\" fill=\"#000000\" fill-rule=\"nonzero\" fill-opacity=\"1\" /><path clip-path=\"url(#clip640)\" d=\"M1302.7 1533.76 L1302.7 1539.24 Q1300.21 1537.87 1297.7 1537.2 Q1295.22 1536.5 1292.67 1536.5 Q1286.97 1536.5 1283.82 1540.13 Q1280.67 1543.73 1280.67 1550.25 Q1280.67 1556.78 1283.82 1560.4 Q1286.97 1564 1292.67 1564 Q1295.22 1564 1297.7 1563.33 Q1300.21 1562.63 1302.7 1561.26 L1302.7 1566.68 Q1300.25 1567.82 1297.6 1568.39 Q1294.99 1568.97 1292.03 1568.97 Q1283.98 1568.97 1279.24 1563.91 Q1274.5 1558.85 1274.5 1550.25 Q1274.5 1541.53 1279.27 1536.53 Q1284.08 1531.54 1292.42 1531.54 Q1295.12 1531.54 1297.7 1532.11 Q1300.28 1532.65 1302.7 1533.76 Z\" fill=\"#000000\" fill-rule=\"nonzero\" fill-opacity=\"1\" /><path clip-path=\"url(#clip640)\" d=\"M1326.7 1536.5 Q1321.99 1536.5 1319.25 1540.19 Q1316.51 1543.85 1316.51 1550.25 Q1316.51 1556.65 1319.22 1560.34 Q1321.95 1564 1326.7 1564 Q1331.37 1564 1334.11 1560.31 Q1336.85 1556.62 1336.85 1550.25 Q1336.85 1543.92 1334.11 1540.23 Q1331.37 1536.5 1326.7 1536.5 M1326.7 1531.54 Q1334.33 1531.54 1338.7 1536.5 Q1343.06 1541.47 1343.06 1550.25 Q1343.06 1559 1338.7 1564 Q1334.33 1568.97 1326.7 1568.97 Q1319.03 1568.97 1314.66 1564 Q1310.34 1559 1310.34 1550.25 Q1310.34 1541.47 1314.66 1536.5 Q1319.03 1531.54 1326.7 1531.54 Z\" fill=\"#000000\" fill-rule=\"nonzero\" fill-opacity=\"1\" /><path clip-path=\"url(#clip640)\" d=\"M1382.4 1546.53 L1382.4 1568.04 L1376.54 1568.04 L1376.54 1546.72 Q1376.54 1541.66 1374.57 1539.14 Q1372.59 1536.63 1368.65 1536.63 Q1363.9 1536.63 1361.17 1539.65 Q1358.43 1542.68 1358.43 1547.9 L1358.43 1568.04 L1352.54 1568.04 L1352.54 1532.4 L1358.43 1532.4 L1358.43 1537.93 Q1360.53 1534.72 1363.36 1533.13 Q1366.23 1531.54 1369.95 1531.54 Q1376.09 1531.54 1379.24 1535.36 Q1382.4 1539.14 1382.4 1546.53 Z\" fill=\"#000000\" fill-rule=\"nonzero\" fill-opacity=\"1\" /><path clip-path=\"url(#clip640)\" d=\"M1417.53 1537.81 L1417.53 1518.52 L1423.39 1518.52 L1423.39 1568.04 L1417.53 1568.04 L1417.53 1562.7 Q1415.69 1565.88 1412.86 1567.44 Q1410.05 1568.97 1406.11 1568.97 Q1399.65 1568.97 1395.57 1563.81 Q1391.53 1558.65 1391.53 1550.25 Q1391.53 1541.85 1395.57 1536.69 Q1399.65 1531.54 1406.11 1531.54 Q1410.05 1531.54 1412.86 1533.1 Q1415.69 1534.62 1417.53 1537.81 M1397.58 1550.25 Q1397.58 1556.71 1400.22 1560.4 Q1402.89 1564.07 1407.54 1564.07 Q1412.19 1564.07 1414.86 1560.4 Q1417.53 1556.71 1417.53 1550.25 Q1417.53 1543.79 1414.86 1540.13 Q1412.19 1536.44 1407.54 1536.44 Q1402.89 1536.44 1400.22 1540.13 Q1397.58 1543.79 1397.58 1550.25 Z\" fill=\"#000000\" fill-rule=\"nonzero\" fill-opacity=\"1\" /><path clip-path=\"url(#clip640)\" d=\"M1458.18 1533.45 L1458.18 1538.98 Q1455.7 1537.71 1453.02 1537.07 Q1450.35 1536.44 1447.48 1536.44 Q1443.12 1536.44 1440.93 1537.77 Q1438.76 1539.11 1438.76 1541.79 Q1438.76 1543.82 1440.32 1545 Q1441.88 1546.15 1446.59 1547.2 L1448.6 1547.64 Q1454.84 1548.98 1457.45 1551.43 Q1460.09 1553.85 1460.09 1558.21 Q1460.09 1563.17 1456.14 1566.07 Q1452.23 1568.97 1445.35 1568.97 Q1442.49 1568.97 1439.37 1568.39 Q1436.28 1567.85 1432.84 1566.74 L1432.84 1560.69 Q1436.09 1562.38 1439.24 1563.24 Q1442.39 1564.07 1445.48 1564.07 Q1449.62 1564.07 1451.85 1562.66 Q1454.07 1561.23 1454.07 1558.65 Q1454.07 1556.27 1452.45 1554.99 Q1450.86 1553.72 1445.42 1552.54 L1443.38 1552.07 Q1437.94 1550.92 1435.52 1548.56 Q1433.1 1546.18 1433.1 1542.04 Q1433.1 1537.01 1436.66 1534.27 Q1440.23 1531.54 1446.78 1531.54 Q1450.03 1531.54 1452.9 1532.01 Q1455.76 1532.49 1458.18 1533.45 Z\" fill=\"#000000\" fill-rule=\"nonzero\" fill-opacity=\"1\" /><polyline clip-path=\"url(#clip642)\" style=\"stroke:#000000; stroke-linecap:round; stroke-linejoin:round; stroke-width:2; stroke-opacity:0.1; fill:none\" points=\"174.149,1423.18 2352.76,1423.18 \"/>\n",
       "<polyline clip-path=\"url(#clip642)\" style=\"stroke:#000000; stroke-linecap:round; stroke-linejoin:round; stroke-width:2; stroke-opacity:0.1; fill:none\" points=\"174.149,964.535 2352.76,964.535 \"/>\n",
       "<polyline clip-path=\"url(#clip642)\" style=\"stroke:#000000; stroke-linecap:round; stroke-linejoin:round; stroke-width:2; stroke-opacity:0.1; fill:none\" points=\"174.149,505.889 2352.76,505.889 \"/>\n",
       "<polyline clip-path=\"url(#clip642)\" style=\"stroke:#000000; stroke-linecap:round; stroke-linejoin:round; stroke-width:2; stroke-opacity:0.1; fill:none\" points=\"174.149,47.2441 2352.76,47.2441 \"/>\n",
       "<polyline clip-path=\"url(#clip640)\" style=\"stroke:#000000; stroke-linecap:round; stroke-linejoin:round; stroke-width:4; stroke-opacity:1; fill:none\" points=\"174.149,1423.18 174.149,47.2441 \"/>\n",
       "<polyline clip-path=\"url(#clip640)\" style=\"stroke:#000000; stroke-linecap:round; stroke-linejoin:round; stroke-width:4; stroke-opacity:1; fill:none\" points=\"174.149,1423.18 193.047,1423.18 \"/>\n",
       "<polyline clip-path=\"url(#clip640)\" style=\"stroke:#000000; stroke-linecap:round; stroke-linejoin:round; stroke-width:4; stroke-opacity:1; fill:none\" points=\"174.149,964.535 193.047,964.535 \"/>\n",
       "<polyline clip-path=\"url(#clip640)\" style=\"stroke:#000000; stroke-linecap:round; stroke-linejoin:round; stroke-width:4; stroke-opacity:1; fill:none\" points=\"174.149,505.889 193.047,505.889 \"/>\n",
       "<polyline clip-path=\"url(#clip640)\" style=\"stroke:#000000; stroke-linecap:round; stroke-linejoin:round; stroke-width:4; stroke-opacity:1; fill:none\" points=\"174.149,47.2441 193.047,47.2441 \"/>\n",
       "<path clip-path=\"url(#clip640)\" d=\"M126.205 1408.98 Q122.593 1408.98 120.765 1412.54 Q118.959 1416.08 118.959 1423.21 Q118.959 1430.32 120.765 1433.89 Q122.593 1437.43 126.205 1437.43 Q129.839 1437.43 131.644 1433.89 Q133.473 1430.32 133.473 1423.21 Q133.473 1416.08 131.644 1412.54 Q129.839 1408.98 126.205 1408.98 M126.205 1405.27 Q132.015 1405.27 135.07 1409.88 Q138.149 1414.46 138.149 1423.21 Q138.149 1431.94 135.07 1436.55 Q132.015 1441.13 126.205 1441.13 Q120.394 1441.13 117.316 1436.55 Q114.26 1431.94 114.26 1423.21 Q114.26 1414.46 117.316 1409.88 Q120.394 1405.27 126.205 1405.27 Z\" fill=\"#000000\" fill-rule=\"nonzero\" fill-opacity=\"1\" /><path clip-path=\"url(#clip640)\" d=\"M131.019 963.18 Q134.376 963.898 136.251 966.167 Q138.149 968.435 138.149 971.768 Q138.149 976.884 134.63 979.685 Q131.112 982.486 124.63 982.486 Q122.455 982.486 120.14 982.046 Q117.848 981.629 115.394 980.773 L115.394 976.259 Q117.339 977.393 119.654 977.972 Q121.968 978.551 124.492 978.551 Q128.89 978.551 131.181 976.815 Q133.496 975.079 133.496 971.768 Q133.496 968.713 131.343 967 Q129.214 965.264 125.394 965.264 L121.367 965.264 L121.367 961.421 L125.58 961.421 Q129.029 961.421 130.857 960.055 Q132.686 958.667 132.686 956.074 Q132.686 953.412 130.788 952 Q128.913 950.565 125.394 950.565 Q123.473 950.565 121.274 950.981 Q119.075 951.398 116.436 952.278 L116.436 948.111 Q119.098 947.37 121.413 947 Q123.751 946.63 125.811 946.63 Q131.135 946.63 134.237 949.06 Q137.339 951.468 137.339 955.588 Q137.339 958.458 135.695 960.449 Q134.052 962.417 131.019 963.18 Z\" fill=\"#000000\" fill-rule=\"nonzero\" fill-opacity=\"1\" /><path clip-path=\"url(#clip640)\" d=\"M126.621 504.026 Q123.473 504.026 121.621 506.179 Q119.793 508.331 119.793 512.081 Q119.793 515.808 121.621 517.984 Q123.473 520.137 126.621 520.137 Q129.769 520.137 131.598 517.984 Q133.45 515.808 133.45 512.081 Q133.45 508.331 131.598 506.179 Q129.769 504.026 126.621 504.026 M135.904 489.373 L135.904 493.632 Q134.144 492.799 132.339 492.359 Q130.556 491.92 128.797 491.92 Q124.168 491.92 121.714 495.044 Q119.283 498.169 118.936 504.489 Q120.302 502.475 122.362 501.41 Q124.422 500.322 126.899 500.322 Q132.107 500.322 135.117 503.494 Q138.149 506.642 138.149 512.081 Q138.149 517.405 135.001 520.623 Q131.853 523.841 126.621 523.841 Q120.626 523.841 117.455 519.257 Q114.283 514.651 114.283 505.924 Q114.283 497.73 118.172 492.869 Q122.061 487.984 128.612 487.984 Q130.371 487.984 132.154 488.332 Q133.959 488.679 135.904 489.373 Z\" fill=\"#000000\" fill-rule=\"nonzero\" fill-opacity=\"1\" /><path clip-path=\"url(#clip640)\" d=\"M116.529 63.8065 L116.529 59.5473 Q118.288 60.3806 120.093 60.8204 Q121.899 61.2602 123.635 61.2602 Q128.265 61.2602 130.695 58.1584 Q133.149 55.0334 133.496 48.6908 Q132.154 50.6816 130.093 51.7464 Q128.033 52.8112 125.533 52.8112 Q120.348 52.8112 117.316 49.6862 Q114.306 46.5381 114.306 41.0983 Q114.306 35.7742 117.455 32.5567 Q120.603 29.3391 125.834 29.3391 Q131.83 29.3391 134.978 33.9456 Q138.149 38.5289 138.149 47.2788 Q138.149 55.4501 134.26 60.3343 Q130.394 65.1954 123.843 65.1954 Q122.084 65.1954 120.279 64.8482 Q118.473 64.5009 116.529 63.8065 M125.834 49.1538 Q128.982 49.1538 130.811 47.001 Q132.663 44.8483 132.663 41.0983 Q132.663 37.3715 130.811 35.2187 Q128.982 33.0428 125.834 33.0428 Q122.686 33.0428 120.834 35.2187 Q119.006 37.3715 119.006 41.0983 Q119.006 44.8483 120.834 47.001 Q122.686 49.1538 125.834 49.1538 Z\" fill=\"#000000\" fill-rule=\"nonzero\" fill-opacity=\"1\" /><path clip-path=\"url(#clip640)\" d=\"M29.7248 796.386 L35.1993 796.386 Q33.8307 798.869 33.1623 801.383 Q32.4621 803.866 32.4621 806.412 Q32.4621 812.11 36.0905 815.261 Q39.6872 818.412 46.212 818.412 Q52.7369 818.412 56.3653 815.261 Q59.9619 812.11 59.9619 806.412 Q59.9619 803.866 59.2935 801.383 Q58.5933 798.869 57.2247 796.386 L62.6355 796.386 Q63.7814 798.837 64.3543 801.479 Q64.9272 804.089 64.9272 807.049 Q64.9272 815.102 59.8664 819.844 Q54.8057 824.586 46.212 824.586 Q37.491 824.586 32.4939 819.812 Q27.4968 815.006 27.4968 806.667 Q27.4968 803.962 28.0697 801.383 Q28.6108 798.805 29.7248 796.386 Z\" fill=\"#000000\" fill-rule=\"nonzero\" fill-opacity=\"1\" /><path clip-path=\"url(#clip640)\" d=\"M32.4621 772.388 Q32.4621 777.098 36.1542 779.836 Q39.8145 782.573 46.212 782.573 Q52.6095 782.573 56.3017 779.867 Q59.9619 777.13 59.9619 772.388 Q59.9619 767.709 56.2698 764.972 Q52.5777 762.234 46.212 762.234 Q39.8781 762.234 36.186 764.972 Q32.4621 767.709 32.4621 772.388 M27.4968 772.388 Q27.4968 764.749 32.4621 760.388 Q37.4273 756.028 46.212 756.028 Q54.9649 756.028 59.9619 760.388 Q64.9272 764.749 64.9272 772.388 Q64.9272 780.058 59.9619 784.419 Q54.9649 788.748 46.212 788.748 Q37.4273 788.748 32.4621 784.419 Q27.4968 780.058 27.4968 772.388 Z\" fill=\"#000000\" fill-rule=\"nonzero\" fill-opacity=\"1\" /><path clip-path=\"url(#clip640)\" d=\"M49.9359 746.925 L28.3562 746.925 L28.3562 741.068 L49.7131 741.068 Q54.7739 741.068 57.3202 739.095 Q59.8346 737.122 59.8346 733.175 Q59.8346 728.432 56.8109 725.695 Q53.7872 722.926 48.5673 722.926 L28.3562 722.926 L28.3562 717.07 L64.0042 717.07 L64.0042 722.926 L58.5296 722.926 Q61.7762 725.059 63.3676 727.891 Q64.9272 730.692 64.9272 734.416 Q64.9272 740.559 61.1078 743.742 Q57.2883 746.925 49.9359 746.925 M27.4968 732.188 L27.4968 732.188 Z\" fill=\"#000000\" fill-rule=\"nonzero\" fill-opacity=\"1\" /><path clip-path=\"url(#clip640)\" d=\"M42.4881 675.374 L64.0042 675.374 L64.0042 681.231 L42.679 681.231 Q37.6183 681.231 35.1038 683.204 Q32.5894 685.178 32.5894 689.124 Q32.5894 693.867 35.6131 696.604 Q38.6368 699.341 43.8567 699.341 L64.0042 699.341 L64.0042 705.229 L28.3562 705.229 L28.3562 699.341 L33.8944 699.341 Q30.6797 697.241 29.0883 694.408 Q27.4968 691.543 27.4968 687.819 Q27.4968 681.676 31.3163 678.525 Q35.1038 675.374 42.4881 675.374 Z\" fill=\"#000000\" fill-rule=\"nonzero\" fill-opacity=\"1\" /><path clip-path=\"url(#clip640)\" d=\"M18.2347 657.9 L28.3562 657.9 L28.3562 645.837 L32.9077 645.837 L32.9077 657.9 L52.2594 657.9 Q56.6199 657.9 57.8613 656.723 Q59.1026 655.513 59.1026 651.853 L59.1026 645.837 L64.0042 645.837 L64.0042 651.853 Q64.0042 658.633 61.4897 661.211 Q58.9434 663.789 52.2594 663.789 L32.9077 663.789 L32.9077 668.086 L28.3562 668.086 L28.3562 663.789 L18.2347 663.789 L18.2347 657.9 Z\" fill=\"#000000\" fill-rule=\"nonzero\" fill-opacity=\"1\" /><path clip-path=\"url(#clip642)\" d=\"M556.524 1270.3 L556.524 1423.18 L597.494 1423.18 L597.494 1270.3 L556.524 1270.3 L556.524 1270.3  Z\" fill=\"#009af9\" fill-rule=\"evenodd\" fill-opacity=\"1\"/>\n",
       "<polyline clip-path=\"url(#clip642)\" style=\"stroke:#000000; stroke-linecap:round; stroke-linejoin:round; stroke-width:4; stroke-opacity:1; fill:none\" points=\"556.524,1270.3 556.524,1423.18 597.494,1423.18 597.494,1270.3 556.524,1270.3 \"/>\n",
       "<path clip-path=\"url(#clip642)\" d=\"M597.494 1423.18 L597.494 1423.18 L638.464 1423.18 L638.464 1423.18 L597.494 1423.18 L597.494 1423.18  Z\" fill=\"#009af9\" fill-rule=\"evenodd\" fill-opacity=\"1\"/>\n",
       "<polyline clip-path=\"url(#clip642)\" style=\"stroke:#000000; stroke-linecap:round; stroke-linejoin:round; stroke-width:4; stroke-opacity:1; fill:none\" points=\"597.494,1423.18 597.494,1423.18 638.464,1423.18 597.494,1423.18 \"/>\n",
       "<path clip-path=\"url(#clip642)\" d=\"M638.464 1423.18 L638.464 1423.18 L679.434 1423.18 L679.434 1423.18 L638.464 1423.18 L638.464 1423.18  Z\" fill=\"#009af9\" fill-rule=\"evenodd\" fill-opacity=\"1\"/>\n",
       "<polyline clip-path=\"url(#clip642)\" style=\"stroke:#000000; stroke-linecap:round; stroke-linejoin:round; stroke-width:4; stroke-opacity:1; fill:none\" points=\"638.464,1423.18 638.464,1423.18 679.434,1423.18 638.464,1423.18 \"/>\n",
       "<path clip-path=\"url(#clip642)\" d=\"M679.434 1117.42 L679.434 1423.18 L720.404 1423.18 L720.404 1117.42 L679.434 1117.42 L679.434 1117.42  Z\" fill=\"#009af9\" fill-rule=\"evenodd\" fill-opacity=\"1\"/>\n",
       "<polyline clip-path=\"url(#clip642)\" style=\"stroke:#000000; stroke-linecap:round; stroke-linejoin:round; stroke-width:4; stroke-opacity:1; fill:none\" points=\"679.434,1117.42 679.434,1423.18 720.404,1423.18 720.404,1117.42 679.434,1117.42 \"/>\n",
       "<path clip-path=\"url(#clip642)\" d=\"M720.404 1423.18 L720.404 1423.18 L761.374 1423.18 L761.374 1423.18 L720.404 1423.18 L720.404 1423.18  Z\" fill=\"#009af9\" fill-rule=\"evenodd\" fill-opacity=\"1\"/>\n",
       "<polyline clip-path=\"url(#clip642)\" style=\"stroke:#000000; stroke-linecap:round; stroke-linejoin:round; stroke-width:4; stroke-opacity:1; fill:none\" points=\"720.404,1423.18 720.404,1423.18 761.374,1423.18 720.404,1423.18 \"/>\n",
       "<path clip-path=\"url(#clip642)\" d=\"M761.374 1270.3 L761.374 1423.18 L802.345 1423.18 L802.345 1270.3 L761.374 1270.3 L761.374 1270.3  Z\" fill=\"#009af9\" fill-rule=\"evenodd\" fill-opacity=\"1\"/>\n",
       "<polyline clip-path=\"url(#clip642)\" style=\"stroke:#000000; stroke-linecap:round; stroke-linejoin:round; stroke-width:4; stroke-opacity:1; fill:none\" points=\"761.374,1270.3 761.374,1423.18 802.345,1423.18 802.345,1270.3 761.374,1270.3 \"/>\n",
       "<path clip-path=\"url(#clip642)\" d=\"M802.345 1423.18 L802.345 1423.18 L843.315 1423.18 L843.315 1423.18 L802.345 1423.18 L802.345 1423.18  Z\" fill=\"#009af9\" fill-rule=\"evenodd\" fill-opacity=\"1\"/>\n",
       "<polyline clip-path=\"url(#clip642)\" style=\"stroke:#000000; stroke-linecap:round; stroke-linejoin:round; stroke-width:4; stroke-opacity:1; fill:none\" points=\"802.345,1423.18 802.345,1423.18 843.315,1423.18 802.345,1423.18 \"/>\n",
       "<path clip-path=\"url(#clip642)\" d=\"M843.315 1423.18 L843.315 1423.18 L884.285 1423.18 L884.285 1423.18 L843.315 1423.18 L843.315 1423.18  Z\" fill=\"#009af9\" fill-rule=\"evenodd\" fill-opacity=\"1\"/>\n",
       "<polyline clip-path=\"url(#clip642)\" style=\"stroke:#000000; stroke-linecap:round; stroke-linejoin:round; stroke-width:4; stroke-opacity:1; fill:none\" points=\"843.315,1423.18 843.315,1423.18 884.285,1423.18 843.315,1423.18 \"/>\n",
       "<path clip-path=\"url(#clip642)\" d=\"M884.285 1270.3 L884.285 1423.18 L925.255 1423.18 L925.255 1270.3 L884.285 1270.3 L884.285 1270.3  Z\" fill=\"#009af9\" fill-rule=\"evenodd\" fill-opacity=\"1\"/>\n",
       "<polyline clip-path=\"url(#clip642)\" style=\"stroke:#000000; stroke-linecap:round; stroke-linejoin:round; stroke-width:4; stroke-opacity:1; fill:none\" points=\"884.285,1270.3 884.285,1423.18 925.255,1423.18 925.255,1270.3 884.285,1270.3 \"/>\n",
       "<path clip-path=\"url(#clip642)\" d=\"M925.255 1117.42 L925.255 1423.18 L966.225 1423.18 L966.225 1117.42 L925.255 1117.42 L925.255 1117.42  Z\" fill=\"#009af9\" fill-rule=\"evenodd\" fill-opacity=\"1\"/>\n",
       "<polyline clip-path=\"url(#clip642)\" style=\"stroke:#000000; stroke-linecap:round; stroke-linejoin:round; stroke-width:4; stroke-opacity:1; fill:none\" points=\"925.255,1117.42 925.255,1423.18 966.225,1423.18 966.225,1117.42 925.255,1117.42 \"/>\n",
       "<path clip-path=\"url(#clip642)\" d=\"M966.225 964.535 L966.225 1423.18 L1007.2 1423.18 L1007.2 964.535 L966.225 964.535 L966.225 964.535  Z\" fill=\"#009af9\" fill-rule=\"evenodd\" fill-opacity=\"1\"/>\n",
       "<polyline clip-path=\"url(#clip642)\" style=\"stroke:#000000; stroke-linecap:round; stroke-linejoin:round; stroke-width:4; stroke-opacity:1; fill:none\" points=\"966.225,964.535 966.225,1423.18 1007.2,1423.18 1007.2,964.535 966.225,964.535 \"/>\n",
       "<path clip-path=\"url(#clip642)\" d=\"M1007.2 1270.3 L1007.2 1423.18 L1048.17 1423.18 L1048.17 1270.3 L1007.2 1270.3 L1007.2 1270.3  Z\" fill=\"#009af9\" fill-rule=\"evenodd\" fill-opacity=\"1\"/>\n",
       "<polyline clip-path=\"url(#clip642)\" style=\"stroke:#000000; stroke-linecap:round; stroke-linejoin:round; stroke-width:4; stroke-opacity:1; fill:none\" points=\"1007.2,1270.3 1007.2,1423.18 1048.17,1423.18 1048.17,1270.3 1007.2,1270.3 \"/>\n",
       "<path clip-path=\"url(#clip642)\" d=\"M1048.17 1117.42 L1048.17 1423.18 L1089.14 1423.18 L1089.14 1117.42 L1048.17 1117.42 L1048.17 1117.42  Z\" fill=\"#009af9\" fill-rule=\"evenodd\" fill-opacity=\"1\"/>\n",
       "<polyline clip-path=\"url(#clip642)\" style=\"stroke:#000000; stroke-linecap:round; stroke-linejoin:round; stroke-width:4; stroke-opacity:1; fill:none\" points=\"1048.17,1117.42 1048.17,1423.18 1089.14,1423.18 1089.14,1117.42 1048.17,1117.42 \"/>\n",
       "<path clip-path=\"url(#clip642)\" d=\"M1089.14 1117.42 L1089.14 1423.18 L1130.11 1423.18 L1130.11 1117.42 L1089.14 1117.42 L1089.14 1117.42  Z\" fill=\"#009af9\" fill-rule=\"evenodd\" fill-opacity=\"1\"/>\n",
       "<polyline clip-path=\"url(#clip642)\" style=\"stroke:#000000; stroke-linecap:round; stroke-linejoin:round; stroke-width:4; stroke-opacity:1; fill:none\" points=\"1089.14,1117.42 1089.14,1423.18 1130.11,1423.18 1130.11,1117.42 1089.14,1117.42 \"/>\n",
       "<path clip-path=\"url(#clip642)\" d=\"M1130.11 1117.42 L1130.11 1423.18 L1171.08 1423.18 L1171.08 1117.42 L1130.11 1117.42 L1130.11 1117.42  Z\" fill=\"#009af9\" fill-rule=\"evenodd\" fill-opacity=\"1\"/>\n",
       "<polyline clip-path=\"url(#clip642)\" style=\"stroke:#000000; stroke-linecap:round; stroke-linejoin:round; stroke-width:4; stroke-opacity:1; fill:none\" points=\"1130.11,1117.42 1130.11,1423.18 1171.08,1423.18 1171.08,1117.42 1130.11,1117.42 \"/>\n",
       "<path clip-path=\"url(#clip642)\" d=\"M1171.08 1270.3 L1171.08 1423.18 L1212.05 1423.18 L1212.05 1270.3 L1171.08 1270.3 L1171.08 1270.3  Z\" fill=\"#009af9\" fill-rule=\"evenodd\" fill-opacity=\"1\"/>\n",
       "<polyline clip-path=\"url(#clip642)\" style=\"stroke:#000000; stroke-linecap:round; stroke-linejoin:round; stroke-width:4; stroke-opacity:1; fill:none\" points=\"1171.08,1270.3 1171.08,1423.18 1212.05,1423.18 1212.05,1270.3 1171.08,1270.3 \"/>\n",
       "<path clip-path=\"url(#clip642)\" d=\"M1212.05 964.535 L1212.05 1423.18 L1253.02 1423.18 L1253.02 964.535 L1212.05 964.535 L1212.05 964.535  Z\" fill=\"#009af9\" fill-rule=\"evenodd\" fill-opacity=\"1\"/>\n",
       "<polyline clip-path=\"url(#clip642)\" style=\"stroke:#000000; stroke-linecap:round; stroke-linejoin:round; stroke-width:4; stroke-opacity:1; fill:none\" points=\"1212.05,964.535 1212.05,1423.18 1253.02,1423.18 1253.02,964.535 1212.05,964.535 \"/>\n",
       "<path clip-path=\"url(#clip642)\" d=\"M1253.02 1270.3 L1253.02 1423.18 L1293.99 1423.18 L1293.99 1270.3 L1253.02 1270.3 L1253.02 1270.3  Z\" fill=\"#009af9\" fill-rule=\"evenodd\" fill-opacity=\"1\"/>\n",
       "<polyline clip-path=\"url(#clip642)\" style=\"stroke:#000000; stroke-linecap:round; stroke-linejoin:round; stroke-width:4; stroke-opacity:1; fill:none\" points=\"1253.02,1270.3 1253.02,1423.18 1293.99,1423.18 1293.99,1270.3 1253.02,1270.3 \"/>\n",
       "<path clip-path=\"url(#clip642)\" d=\"M1293.99 1270.3 L1293.99 1423.18 L1334.96 1423.18 L1334.96 1270.3 L1293.99 1270.3 L1293.99 1270.3  Z\" fill=\"#009af9\" fill-rule=\"evenodd\" fill-opacity=\"1\"/>\n",
       "<polyline clip-path=\"url(#clip642)\" style=\"stroke:#000000; stroke-linecap:round; stroke-linejoin:round; stroke-width:4; stroke-opacity:1; fill:none\" points=\"1293.99,1270.3 1293.99,1423.18 1334.96,1423.18 1334.96,1270.3 1293.99,1270.3 \"/>\n",
       "<path clip-path=\"url(#clip642)\" d=\"M1334.96 1270.3 L1334.96 1423.18 L1375.93 1423.18 L1375.93 1270.3 L1334.96 1270.3 L1334.96 1270.3  Z\" fill=\"#009af9\" fill-rule=\"evenodd\" fill-opacity=\"1\"/>\n",
       "<polyline clip-path=\"url(#clip642)\" style=\"stroke:#000000; stroke-linecap:round; stroke-linejoin:round; stroke-width:4; stroke-opacity:1; fill:none\" points=\"1334.96,1270.3 1334.96,1423.18 1375.93,1423.18 1375.93,1270.3 1334.96,1270.3 \"/>\n",
       "<path clip-path=\"url(#clip642)\" d=\"M1375.93 1423.18 L1375.93 1423.18 L1416.9 1423.18 L1416.9 1423.18 L1375.93 1423.18 L1375.93 1423.18  Z\" fill=\"#009af9\" fill-rule=\"evenodd\" fill-opacity=\"1\"/>\n",
       "<polyline clip-path=\"url(#clip642)\" style=\"stroke:#000000; stroke-linecap:round; stroke-linejoin:round; stroke-width:4; stroke-opacity:1; fill:none\" points=\"1375.93,1423.18 1375.93,1423.18 1416.9,1423.18 1375.93,1423.18 \"/>\n",
       "<path clip-path=\"url(#clip642)\" d=\"M1416.9 1117.42 L1416.9 1423.18 L1457.87 1423.18 L1457.87 1117.42 L1416.9 1117.42 L1416.9 1117.42  Z\" fill=\"#009af9\" fill-rule=\"evenodd\" fill-opacity=\"1\"/>\n",
       "<polyline clip-path=\"url(#clip642)\" style=\"stroke:#000000; stroke-linecap:round; stroke-linejoin:round; stroke-width:4; stroke-opacity:1; fill:none\" points=\"1416.9,1117.42 1416.9,1423.18 1457.87,1423.18 1457.87,1117.42 1416.9,1117.42 \"/>\n",
       "<path clip-path=\"url(#clip642)\" d=\"M1457.87 1117.42 L1457.87 1423.18 L1498.84 1423.18 L1498.84 1117.42 L1457.87 1117.42 L1457.87 1117.42  Z\" fill=\"#009af9\" fill-rule=\"evenodd\" fill-opacity=\"1\"/>\n",
       "<polyline clip-path=\"url(#clip642)\" style=\"stroke:#000000; stroke-linecap:round; stroke-linejoin:round; stroke-width:4; stroke-opacity:1; fill:none\" points=\"1457.87,1117.42 1457.87,1423.18 1498.84,1423.18 1498.84,1117.42 1457.87,1117.42 \"/>\n",
       "<path clip-path=\"url(#clip642)\" d=\"M1498.84 1423.18 L1498.84 1423.18 L1539.81 1423.18 L1539.81 1423.18 L1498.84 1423.18 L1498.84 1423.18  Z\" fill=\"#009af9\" fill-rule=\"evenodd\" fill-opacity=\"1\"/>\n",
       "<polyline clip-path=\"url(#clip642)\" style=\"stroke:#000000; stroke-linecap:round; stroke-linejoin:round; stroke-width:4; stroke-opacity:1; fill:none\" points=\"1498.84,1423.18 1498.84,1423.18 1539.81,1423.18 1498.84,1423.18 \"/>\n",
       "<path clip-path=\"url(#clip642)\" d=\"M1539.81 964.535 L1539.81 1423.18 L1580.78 1423.18 L1580.78 964.535 L1539.81 964.535 L1539.81 964.535  Z\" fill=\"#009af9\" fill-rule=\"evenodd\" fill-opacity=\"1\"/>\n",
       "<polyline clip-path=\"url(#clip642)\" style=\"stroke:#000000; stroke-linecap:round; stroke-linejoin:round; stroke-width:4; stroke-opacity:1; fill:none\" points=\"1539.81,964.535 1539.81,1423.18 1580.78,1423.18 1580.78,964.535 1539.81,964.535 \"/>\n",
       "<path clip-path=\"url(#clip642)\" d=\"M1580.78 1117.42 L1580.78 1423.18 L1621.75 1423.18 L1621.75 1117.42 L1580.78 1117.42 L1580.78 1117.42  Z\" fill=\"#009af9\" fill-rule=\"evenodd\" fill-opacity=\"1\"/>\n",
       "<polyline clip-path=\"url(#clip642)\" style=\"stroke:#000000; stroke-linecap:round; stroke-linejoin:round; stroke-width:4; stroke-opacity:1; fill:none\" points=\"1580.78,1117.42 1580.78,1423.18 1621.75,1423.18 1621.75,1117.42 1580.78,1117.42 \"/>\n",
       "<path clip-path=\"url(#clip642)\" d=\"M1621.75 658.771 L1621.75 1423.18 L1662.72 1423.18 L1662.72 658.771 L1621.75 658.771 L1621.75 658.771  Z\" fill=\"#009af9\" fill-rule=\"evenodd\" fill-opacity=\"1\"/>\n",
       "<polyline clip-path=\"url(#clip642)\" style=\"stroke:#000000; stroke-linecap:round; stroke-linejoin:round; stroke-width:4; stroke-opacity:1; fill:none\" points=\"1621.75,658.771 1621.75,1423.18 1662.72,1423.18 1662.72,658.771 1621.75,658.771 \"/>\n",
       "<path clip-path=\"url(#clip642)\" d=\"M1662.72 1117.42 L1662.72 1423.18 L1703.69 1423.18 L1703.69 1117.42 L1662.72 1117.42 L1662.72 1117.42  Z\" fill=\"#009af9\" fill-rule=\"evenodd\" fill-opacity=\"1\"/>\n",
       "<polyline clip-path=\"url(#clip642)\" style=\"stroke:#000000; stroke-linecap:round; stroke-linejoin:round; stroke-width:4; stroke-opacity:1; fill:none\" points=\"1662.72,1117.42 1662.72,1423.18 1703.69,1423.18 1703.69,1117.42 1662.72,1117.42 \"/>\n",
       "<path clip-path=\"url(#clip642)\" d=\"M1703.69 811.653 L1703.69 1423.18 L1744.66 1423.18 L1744.66 811.653 L1703.69 811.653 L1703.69 811.653  Z\" fill=\"#009af9\" fill-rule=\"evenodd\" fill-opacity=\"1\"/>\n",
       "<polyline clip-path=\"url(#clip642)\" style=\"stroke:#000000; stroke-linecap:round; stroke-linejoin:round; stroke-width:4; stroke-opacity:1; fill:none\" points=\"1703.69,811.653 1703.69,1423.18 1744.66,1423.18 1744.66,811.653 1703.69,811.653 \"/>\n",
       "<path clip-path=\"url(#clip642)\" d=\"M1744.66 1270.3 L1744.66 1423.18 L1785.63 1423.18 L1785.63 1270.3 L1744.66 1270.3 L1744.66 1270.3  Z\" fill=\"#009af9\" fill-rule=\"evenodd\" fill-opacity=\"1\"/>\n",
       "<polyline clip-path=\"url(#clip642)\" style=\"stroke:#000000; stroke-linecap:round; stroke-linejoin:round; stroke-width:4; stroke-opacity:1; fill:none\" points=\"1744.66,1270.3 1744.66,1423.18 1785.63,1423.18 1785.63,1270.3 1744.66,1270.3 \"/>\n",
       "<path clip-path=\"url(#clip642)\" d=\"M1785.63 1117.42 L1785.63 1423.18 L1826.6 1423.18 L1826.6 1117.42 L1785.63 1117.42 L1785.63 1117.42  Z\" fill=\"#009af9\" fill-rule=\"evenodd\" fill-opacity=\"1\"/>\n",
       "<polyline clip-path=\"url(#clip642)\" style=\"stroke:#000000; stroke-linecap:round; stroke-linejoin:round; stroke-width:4; stroke-opacity:1; fill:none\" points=\"1785.63,1117.42 1785.63,1423.18 1826.6,1423.18 1826.6,1117.42 1785.63,1117.42 \"/>\n",
       "<path clip-path=\"url(#clip642)\" d=\"M1826.6 964.535 L1826.6 1423.18 L1867.57 1423.18 L1867.57 964.535 L1826.6 964.535 L1826.6 964.535  Z\" fill=\"#009af9\" fill-rule=\"evenodd\" fill-opacity=\"1\"/>\n",
       "<polyline clip-path=\"url(#clip642)\" style=\"stroke:#000000; stroke-linecap:round; stroke-linejoin:round; stroke-width:4; stroke-opacity:1; fill:none\" points=\"1826.6,964.535 1826.6,1423.18 1867.57,1423.18 1867.57,964.535 1826.6,964.535 \"/>\n",
       "<path clip-path=\"url(#clip642)\" d=\"M1867.57 964.535 L1867.57 1423.18 L1908.54 1423.18 L1908.54 964.535 L1867.57 964.535 L1867.57 964.535  Z\" fill=\"#009af9\" fill-rule=\"evenodd\" fill-opacity=\"1\"/>\n",
       "<polyline clip-path=\"url(#clip642)\" style=\"stroke:#000000; stroke-linecap:round; stroke-linejoin:round; stroke-width:4; stroke-opacity:1; fill:none\" points=\"1867.57,964.535 1867.57,1423.18 1908.54,1423.18 1908.54,964.535 1867.57,964.535 \"/>\n",
       "<path clip-path=\"url(#clip642)\" d=\"M1908.54 964.535 L1908.54 1423.18 L1949.51 1423.18 L1949.51 964.535 L1908.54 964.535 L1908.54 964.535  Z\" fill=\"#009af9\" fill-rule=\"evenodd\" fill-opacity=\"1\"/>\n",
       "<polyline clip-path=\"url(#clip642)\" style=\"stroke:#000000; stroke-linecap:round; stroke-linejoin:round; stroke-width:4; stroke-opacity:1; fill:none\" points=\"1908.54,964.535 1908.54,1423.18 1949.51,1423.18 1949.51,964.535 1908.54,964.535 \"/>\n",
       "<path clip-path=\"url(#clip642)\" d=\"M1949.51 811.653 L1949.51 1423.18 L1990.48 1423.18 L1990.48 811.653 L1949.51 811.653 L1949.51 811.653  Z\" fill=\"#009af9\" fill-rule=\"evenodd\" fill-opacity=\"1\"/>\n",
       "<polyline clip-path=\"url(#clip642)\" style=\"stroke:#000000; stroke-linecap:round; stroke-linejoin:round; stroke-width:4; stroke-opacity:1; fill:none\" points=\"1949.51,811.653 1949.51,1423.18 1990.48,1423.18 1990.48,811.653 1949.51,811.653 \"/>\n",
       "<path clip-path=\"url(#clip642)\" d=\"M1990.48 1117.42 L1990.48 1423.18 L2031.45 1423.18 L2031.45 1117.42 L1990.48 1117.42 L1990.48 1117.42  Z\" fill=\"#009af9\" fill-rule=\"evenodd\" fill-opacity=\"1\"/>\n",
       "<polyline clip-path=\"url(#clip642)\" style=\"stroke:#000000; stroke-linecap:round; stroke-linejoin:round; stroke-width:4; stroke-opacity:1; fill:none\" points=\"1990.48,1117.42 1990.48,1423.18 2031.45,1423.18 2031.45,1117.42 1990.48,1117.42 \"/>\n",
       "<path clip-path=\"url(#clip642)\" d=\"M2031.45 1270.3 L2031.45 1423.18 L2072.42 1423.18 L2072.42 1270.3 L2031.45 1270.3 L2031.45 1270.3  Z\" fill=\"#009af9\" fill-rule=\"evenodd\" fill-opacity=\"1\"/>\n",
       "<polyline clip-path=\"url(#clip642)\" style=\"stroke:#000000; stroke-linecap:round; stroke-linejoin:round; stroke-width:4; stroke-opacity:1; fill:none\" points=\"2031.45,1270.3 2031.45,1423.18 2072.42,1423.18 2072.42,1270.3 2031.45,1270.3 \"/>\n",
       "<path clip-path=\"url(#clip642)\" d=\"M2072.42 964.535 L2072.42 1423.18 L2113.39 1423.18 L2113.39 964.535 L2072.42 964.535 L2072.42 964.535  Z\" fill=\"#009af9\" fill-rule=\"evenodd\" fill-opacity=\"1\"/>\n",
       "<polyline clip-path=\"url(#clip642)\" style=\"stroke:#000000; stroke-linecap:round; stroke-linejoin:round; stroke-width:4; stroke-opacity:1; fill:none\" points=\"2072.42,964.535 2072.42,1423.18 2113.39,1423.18 2113.39,964.535 2072.42,964.535 \"/>\n",
       "<path clip-path=\"url(#clip642)\" d=\"M2113.39 505.889 L2113.39 1423.18 L2154.36 1423.18 L2154.36 505.889 L2113.39 505.889 L2113.39 505.889  Z\" fill=\"#009af9\" fill-rule=\"evenodd\" fill-opacity=\"1\"/>\n",
       "<polyline clip-path=\"url(#clip642)\" style=\"stroke:#000000; stroke-linecap:round; stroke-linejoin:round; stroke-width:4; stroke-opacity:1; fill:none\" points=\"2113.39,505.889 2113.39,1423.18 2154.36,1423.18 2154.36,505.889 2113.39,505.889 \"/>\n",
       "<path clip-path=\"url(#clip642)\" d=\"M2154.36 964.535 L2154.36 1423.18 L2195.33 1423.18 L2195.33 964.535 L2154.36 964.535 L2154.36 964.535  Z\" fill=\"#009af9\" fill-rule=\"evenodd\" fill-opacity=\"1\"/>\n",
       "<polyline clip-path=\"url(#clip642)\" style=\"stroke:#000000; stroke-linecap:round; stroke-linejoin:round; stroke-width:4; stroke-opacity:1; fill:none\" points=\"2154.36,964.535 2154.36,1423.18 2195.33,1423.18 2195.33,964.535 2154.36,964.535 \"/>\n",
       "<path clip-path=\"url(#clip642)\" d=\"M2195.33 811.653 L2195.33 1423.18 L2236.3 1423.18 L2236.3 811.653 L2195.33 811.653 L2195.33 811.653  Z\" fill=\"#009af9\" fill-rule=\"evenodd\" fill-opacity=\"1\"/>\n",
       "<polyline clip-path=\"url(#clip642)\" style=\"stroke:#000000; stroke-linecap:round; stroke-linejoin:round; stroke-width:4; stroke-opacity:1; fill:none\" points=\"2195.33,811.653 2195.33,1423.18 2236.3,1423.18 2236.3,811.653 2195.33,811.653 \"/>\n",
       "<path clip-path=\"url(#clip642)\" d=\"M2236.3 811.653 L2236.3 1423.18 L2277.27 1423.18 L2277.27 811.653 L2236.3 811.653 L2236.3 811.653  Z\" fill=\"#009af9\" fill-rule=\"evenodd\" fill-opacity=\"1\"/>\n",
       "<polyline clip-path=\"url(#clip642)\" style=\"stroke:#000000; stroke-linecap:round; stroke-linejoin:round; stroke-width:4; stroke-opacity:1; fill:none\" points=\"2236.3,811.653 2236.3,1423.18 2277.27,1423.18 2277.27,811.653 2236.3,811.653 \"/>\n",
       "<path clip-path=\"url(#clip642)\" d=\"M2277.27 200.126 L2277.27 1423.18 L2318.24 1423.18 L2318.24 200.126 L2277.27 200.126 L2277.27 200.126  Z\" fill=\"#009af9\" fill-rule=\"evenodd\" fill-opacity=\"1\"/>\n",
       "<polyline clip-path=\"url(#clip642)\" style=\"stroke:#000000; stroke-linecap:round; stroke-linejoin:round; stroke-width:4; stroke-opacity:1; fill:none\" points=\"2277.27,200.126 2277.27,1423.18 2318.24,1423.18 2318.24,200.126 2277.27,200.126 \"/>\n",
       "<path clip-path=\"url(#clip642)\" d=\"M2318.24 1117.42 L2318.24 1423.18 L2359.21 1423.18 L2359.21 1117.42 L2318.24 1117.42 L2318.24 1117.42  Z\" fill=\"#009af9\" fill-rule=\"evenodd\" fill-opacity=\"1\"/>\n",
       "<polyline clip-path=\"url(#clip642)\" style=\"stroke:#000000; stroke-linecap:round; stroke-linejoin:round; stroke-width:4; stroke-opacity:1; fill:none\" points=\"2318.24,1117.42 2318.24,1423.18 2359.21,1423.18 2359.21,1117.42 2318.24,1117.42 \"/>\n",
       "<path clip-path=\"url(#clip642)\" d=\"M2359.21 964.535 L2359.21 1423.18 L2400.18 1423.18 L2400.18 964.535 L2359.21 964.535 L2359.21 964.535  Z\" fill=\"#009af9\" fill-rule=\"evenodd\" fill-opacity=\"1\"/>\n",
       "<polyline clip-path=\"url(#clip642)\" style=\"stroke:#000000; stroke-linecap:round; stroke-linejoin:round; stroke-width:4; stroke-opacity:1; fill:none\" points=\"2359.21,964.535 2359.21,1423.18 2400.18,1423.18 2400.18,964.535 2359.21,964.535 \"/>\n",
       "<path clip-path=\"url(#clip642)\" d=\"M2400.18 505.889 L2400.18 1423.18 L2441.15 1423.18 L2441.15 505.889 L2400.18 505.889 L2400.18 505.889  Z\" fill=\"#009af9\" fill-rule=\"evenodd\" fill-opacity=\"1\"/>\n",
       "<polyline clip-path=\"url(#clip642)\" style=\"stroke:#000000; stroke-linecap:round; stroke-linejoin:round; stroke-width:4; stroke-opacity:1; fill:none\" points=\"2400.18,505.889 2400.18,1423.18 2441.15,1423.18 2441.15,505.889 2400.18,505.889 \"/>\n",
       "<path clip-path=\"url(#clip642)\" d=\"M2441.15 505.889 L2441.15 1423.18 L2482.12 1423.18 L2482.12 505.889 L2441.15 505.889 L2441.15 505.889  Z\" fill=\"#009af9\" fill-rule=\"evenodd\" fill-opacity=\"1\"/>\n",
       "<polyline clip-path=\"url(#clip642)\" style=\"stroke:#000000; stroke-linecap:round; stroke-linejoin:round; stroke-width:4; stroke-opacity:1; fill:none\" points=\"2441.15,505.889 2441.15,1423.18 2482.12,1423.18 2482.12,505.889 2441.15,505.889 \"/>\n",
       "<path clip-path=\"url(#clip642)\" d=\"M2482.12 1117.42 L2482.12 1423.18 L2523.09 1423.18 L2523.09 1117.42 L2482.12 1117.42 L2482.12 1117.42  Z\" fill=\"#009af9\" fill-rule=\"evenodd\" fill-opacity=\"1\"/>\n",
       "<polyline clip-path=\"url(#clip642)\" style=\"stroke:#000000; stroke-linecap:round; stroke-linejoin:round; stroke-width:4; stroke-opacity:1; fill:none\" points=\"2482.12,1117.42 2482.12,1423.18 2523.09,1423.18 2523.09,1117.42 2482.12,1117.42 \"/>\n",
       "<path clip-path=\"url(#clip642)\" d=\"M2523.09 811.653 L2523.09 1423.18 L2564.06 1423.18 L2564.06 811.653 L2523.09 811.653 L2523.09 811.653  Z\" fill=\"#009af9\" fill-rule=\"evenodd\" fill-opacity=\"1\"/>\n",
       "<polyline clip-path=\"url(#clip642)\" style=\"stroke:#000000; stroke-linecap:round; stroke-linejoin:round; stroke-width:4; stroke-opacity:1; fill:none\" points=\"2523.09,811.653 2523.09,1423.18 2564.06,1423.18 2564.06,811.653 2523.09,811.653 \"/>\n",
       "<path clip-path=\"url(#clip642)\" d=\"M2564.06 658.771 L2564.06 1423.18 L2605.03 1423.18 L2605.03 658.771 L2564.06 658.771 L2564.06 658.771  Z\" fill=\"#009af9\" fill-rule=\"evenodd\" fill-opacity=\"1\"/>\n",
       "<polyline clip-path=\"url(#clip642)\" style=\"stroke:#000000; stroke-linecap:round; stroke-linejoin:round; stroke-width:4; stroke-opacity:1; fill:none\" points=\"2564.06,658.771 2564.06,1423.18 2605.03,1423.18 2605.03,658.771 2564.06,658.771 \"/>\n",
       "<path clip-path=\"url(#clip642)\" d=\"M2605.03 658.771 L2605.03 1423.18 L2646 1423.18 L2646 658.771 L2605.03 658.771 L2605.03 658.771  Z\" fill=\"#009af9\" fill-rule=\"evenodd\" fill-opacity=\"1\"/>\n",
       "<polyline clip-path=\"url(#clip642)\" style=\"stroke:#000000; stroke-linecap:round; stroke-linejoin:round; stroke-width:4; stroke-opacity:1; fill:none\" points=\"2605.03,658.771 2605.03,1423.18 2646,1423.18 2646,658.771 2605.03,658.771 \"/>\n",
       "<path clip-path=\"url(#clip642)\" d=\"M2646 964.535 L2646 1423.18 L2686.97 1423.18 L2686.97 964.535 L2646 964.535 L2646 964.535  Z\" fill=\"#009af9\" fill-rule=\"evenodd\" fill-opacity=\"1\"/>\n",
       "<polyline clip-path=\"url(#clip642)\" style=\"stroke:#000000; stroke-linecap:round; stroke-linejoin:round; stroke-width:4; stroke-opacity:1; fill:none\" points=\"2646,964.535 2646,1423.18 2686.97,1423.18 2686.97,964.535 2646,964.535 \"/>\n",
       "<path clip-path=\"url(#clip642)\" d=\"M2686.97 964.535 L2686.97 1423.18 L2727.94 1423.18 L2727.94 964.535 L2686.97 964.535 L2686.97 964.535  Z\" fill=\"#009af9\" fill-rule=\"evenodd\" fill-opacity=\"1\"/>\n",
       "<polyline clip-path=\"url(#clip642)\" style=\"stroke:#000000; stroke-linecap:round; stroke-linejoin:round; stroke-width:4; stroke-opacity:1; fill:none\" points=\"2686.97,964.535 2686.97,1423.18 2727.94,1423.18 2727.94,964.535 2686.97,964.535 \"/>\n",
       "<path clip-path=\"url(#clip642)\" d=\"M2727.94 658.771 L2727.94 1423.18 L2768.91 1423.18 L2768.91 658.771 L2727.94 658.771 L2727.94 658.771  Z\" fill=\"#009af9\" fill-rule=\"evenodd\" fill-opacity=\"1\"/>\n",
       "<polyline clip-path=\"url(#clip642)\" style=\"stroke:#000000; stroke-linecap:round; stroke-linejoin:round; stroke-width:4; stroke-opacity:1; fill:none\" points=\"2727.94,658.771 2727.94,1423.18 2768.91,1423.18 2768.91,658.771 2727.94,658.771 \"/>\n",
       "<path clip-path=\"url(#clip642)\" d=\"M2768.91 811.653 L2768.91 1423.18 L2809.88 1423.18 L2809.88 811.653 L2768.91 811.653 L2768.91 811.653  Z\" fill=\"#009af9\" fill-rule=\"evenodd\" fill-opacity=\"1\"/>\n",
       "<polyline clip-path=\"url(#clip642)\" style=\"stroke:#000000; stroke-linecap:round; stroke-linejoin:round; stroke-width:4; stroke-opacity:1; fill:none\" points=\"2768.91,811.653 2768.91,1423.18 2809.88,1423.18 2809.88,811.653 2768.91,811.653 \"/>\n",
       "<path clip-path=\"url(#clip642)\" d=\"M2809.88 200.126 L2809.88 1423.18 L2850.85 1423.18 L2850.85 200.126 L2809.88 200.126 L2809.88 200.126  Z\" fill=\"#009af9\" fill-rule=\"evenodd\" fill-opacity=\"1\"/>\n",
       "<polyline clip-path=\"url(#clip642)\" style=\"stroke:#000000; stroke-linecap:round; stroke-linejoin:round; stroke-width:4; stroke-opacity:1; fill:none\" points=\"2809.88,200.126 2809.88,1423.18 2850.85,1423.18 2850.85,200.126 2809.88,200.126 \"/>\n",
       "<path clip-path=\"url(#clip642)\" d=\"M2850.85 353.008 L2850.85 1423.18 L2891.82 1423.18 L2891.82 353.008 L2850.85 353.008 L2850.85 353.008  Z\" fill=\"#009af9\" fill-rule=\"evenodd\" fill-opacity=\"1\"/>\n",
       "<polyline clip-path=\"url(#clip642)\" style=\"stroke:#000000; stroke-linecap:round; stroke-linejoin:round; stroke-width:4; stroke-opacity:1; fill:none\" points=\"2850.85,353.008 2850.85,1423.18 2891.82,1423.18 2891.82,353.008 2850.85,353.008 \"/>\n",
       "<path clip-path=\"url(#clip642)\" d=\"M2891.82 964.535 L2891.82 1423.18 L2932.79 1423.18 L2932.79 964.535 L2891.82 964.535 L2891.82 964.535  Z\" fill=\"#009af9\" fill-rule=\"evenodd\" fill-opacity=\"1\"/>\n",
       "<polyline clip-path=\"url(#clip642)\" style=\"stroke:#000000; stroke-linecap:round; stroke-linejoin:round; stroke-width:4; stroke-opacity:1; fill:none\" points=\"2891.82,964.535 2891.82,1423.18 2932.79,1423.18 2932.79,964.535 2891.82,964.535 \"/>\n",
       "<path clip-path=\"url(#clip642)\" d=\"M2932.79 505.889 L2932.79 1423.18 L2973.76 1423.18 L2973.76 505.889 L2932.79 505.889 L2932.79 505.889  Z\" fill=\"#009af9\" fill-rule=\"evenodd\" fill-opacity=\"1\"/>\n",
       "<polyline clip-path=\"url(#clip642)\" style=\"stroke:#000000; stroke-linecap:round; stroke-linejoin:round; stroke-width:4; stroke-opacity:1; fill:none\" points=\"2932.79,505.889 2932.79,1423.18 2973.76,1423.18 2973.76,505.889 2932.79,505.889 \"/>\n",
       "<path clip-path=\"url(#clip642)\" d=\"M2973.76 811.653 L2973.76 1423.18 L3014.73 1423.18 L3014.73 811.653 L2973.76 811.653 L2973.76 811.653  Z\" fill=\"#009af9\" fill-rule=\"evenodd\" fill-opacity=\"1\"/>\n",
       "<polyline clip-path=\"url(#clip642)\" style=\"stroke:#000000; stroke-linecap:round; stroke-linejoin:round; stroke-width:4; stroke-opacity:1; fill:none\" points=\"2973.76,811.653 2973.76,1423.18 3014.73,1423.18 3014.73,811.653 2973.76,811.653 \"/>\n",
       "<path clip-path=\"url(#clip642)\" d=\"M3014.73 353.008 L3014.73 1423.18 L3055.7 1423.18 L3055.7 353.008 L3014.73 353.008 L3014.73 353.008  Z\" fill=\"#009af9\" fill-rule=\"evenodd\" fill-opacity=\"1\"/>\n",
       "<polyline clip-path=\"url(#clip642)\" style=\"stroke:#000000; stroke-linecap:round; stroke-linejoin:round; stroke-width:4; stroke-opacity:1; fill:none\" points=\"3014.73,353.008 3014.73,1423.18 3055.7,1423.18 3055.7,353.008 3014.73,353.008 \"/>\n",
       "<path clip-path=\"url(#clip642)\" d=\"M3055.7 353.008 L3055.7 1423.18 L3096.67 1423.18 L3096.67 353.008 L3055.7 353.008 L3055.7 353.008  Z\" fill=\"#009af9\" fill-rule=\"evenodd\" fill-opacity=\"1\"/>\n",
       "<polyline clip-path=\"url(#clip642)\" style=\"stroke:#000000; stroke-linecap:round; stroke-linejoin:round; stroke-width:4; stroke-opacity:1; fill:none\" points=\"3055.7,353.008 3055.7,1423.18 3096.67,1423.18 3096.67,353.008 3055.7,353.008 \"/>\n",
       "<path clip-path=\"url(#clip642)\" d=\"M3096.67 811.653 L3096.67 1423.18 L3137.64 1423.18 L3137.64 811.653 L3096.67 811.653 L3096.67 811.653  Z\" fill=\"#009af9\" fill-rule=\"evenodd\" fill-opacity=\"1\"/>\n",
       "<polyline clip-path=\"url(#clip642)\" style=\"stroke:#000000; stroke-linecap:round; stroke-linejoin:round; stroke-width:4; stroke-opacity:1; fill:none\" points=\"3096.67,811.653 3096.67,1423.18 3137.64,1423.18 3137.64,811.653 3096.67,811.653 \"/>\n",
       "<path clip-path=\"url(#clip642)\" d=\"M3137.64 200.126 L3137.64 1423.18 L3178.61 1423.18 L3178.61 200.126 L3137.64 200.126 L3137.64 200.126  Z\" fill=\"#009af9\" fill-rule=\"evenodd\" fill-opacity=\"1\"/>\n",
       "<polyline clip-path=\"url(#clip642)\" style=\"stroke:#000000; stroke-linecap:round; stroke-linejoin:round; stroke-width:4; stroke-opacity:1; fill:none\" points=\"3137.64,200.126 3137.64,1423.18 3178.61,1423.18 3178.61,200.126 3137.64,200.126 \"/>\n",
       "<path clip-path=\"url(#clip642)\" d=\"M3178.61 811.653 L3178.61 1423.18 L3219.58 1423.18 L3219.58 811.653 L3178.61 811.653 L3178.61 811.653  Z\" fill=\"#009af9\" fill-rule=\"evenodd\" fill-opacity=\"1\"/>\n",
       "<polyline clip-path=\"url(#clip642)\" style=\"stroke:#000000; stroke-linecap:round; stroke-linejoin:round; stroke-width:4; stroke-opacity:1; fill:none\" points=\"3178.61,811.653 3178.61,1423.18 3219.58,1423.18 3219.58,811.653 3178.61,811.653 \"/>\n",
       "<path clip-path=\"url(#clip642)\" d=\"M3219.58 200.126 L3219.58 1423.18 L3260.55 1423.18 L3260.55 200.126 L3219.58 200.126 L3219.58 200.126  Z\" fill=\"#009af9\" fill-rule=\"evenodd\" fill-opacity=\"1\"/>\n",
       "<polyline clip-path=\"url(#clip642)\" style=\"stroke:#000000; stroke-linecap:round; stroke-linejoin:round; stroke-width:4; stroke-opacity:1; fill:none\" points=\"3219.58,200.126 3219.58,1423.18 3260.55,1423.18 3260.55,200.126 3219.58,200.126 \"/>\n",
       "<path clip-path=\"url(#clip642)\" d=\"M3260.55 1117.42 L3260.55 1423.18 L3301.53 1423.18 L3301.53 1117.42 L3260.55 1117.42 L3260.55 1117.42  Z\" fill=\"#009af9\" fill-rule=\"evenodd\" fill-opacity=\"1\"/>\n",
       "<polyline clip-path=\"url(#clip642)\" style=\"stroke:#000000; stroke-linecap:round; stroke-linejoin:round; stroke-width:4; stroke-opacity:1; fill:none\" points=\"3260.55,1117.42 3260.55,1423.18 3301.53,1423.18 3301.53,1117.42 3260.55,1117.42 \"/>\n",
       "<path clip-path=\"url(#clip642)\" d=\"M3301.53 658.771 L3301.53 1423.18 L3342.5 1423.18 L3342.5 658.771 L3301.53 658.771 L3301.53 658.771  Z\" fill=\"#009af9\" fill-rule=\"evenodd\" fill-opacity=\"1\"/>\n",
       "<polyline clip-path=\"url(#clip642)\" style=\"stroke:#000000; stroke-linecap:round; stroke-linejoin:round; stroke-width:4; stroke-opacity:1; fill:none\" points=\"3301.53,658.771 3301.53,1423.18 3342.5,1423.18 3342.5,658.771 3301.53,658.771 \"/>\n",
       "<path clip-path=\"url(#clip642)\" d=\"M3342.5 964.535 L3342.5 1423.18 L3383.47 1423.18 L3383.47 964.535 L3342.5 964.535 L3342.5 964.535  Z\" fill=\"#009af9\" fill-rule=\"evenodd\" fill-opacity=\"1\"/>\n",
       "<polyline clip-path=\"url(#clip642)\" style=\"stroke:#000000; stroke-linecap:round; stroke-linejoin:round; stroke-width:4; stroke-opacity:1; fill:none\" points=\"3342.5,964.535 3342.5,1423.18 3383.47,1423.18 3383.47,964.535 3342.5,964.535 \"/>\n",
       "<path clip-path=\"url(#clip642)\" d=\"M3383.47 811.653 L3383.47 1423.18 L3424.44 1423.18 L3424.44 811.653 L3383.47 811.653 L3383.47 811.653  Z\" fill=\"#009af9\" fill-rule=\"evenodd\" fill-opacity=\"1\"/>\n",
       "<polyline clip-path=\"url(#clip642)\" style=\"stroke:#000000; stroke-linecap:round; stroke-linejoin:round; stroke-width:4; stroke-opacity:1; fill:none\" points=\"3383.47,811.653 3383.47,1423.18 3424.44,1423.18 3424.44,811.653 3383.47,811.653 \"/>\n",
       "<path clip-path=\"url(#clip642)\" d=\"M3424.44 964.535 L3424.44 1423.18 L3465.41 1423.18 L3465.41 964.535 L3424.44 964.535 L3424.44 964.535  Z\" fill=\"#009af9\" fill-rule=\"evenodd\" fill-opacity=\"1\"/>\n",
       "<polyline clip-path=\"url(#clip642)\" style=\"stroke:#000000; stroke-linecap:round; stroke-linejoin:round; stroke-width:4; stroke-opacity:1; fill:none\" points=\"3424.44,964.535 3424.44,1423.18 3465.41,1423.18 3465.41,964.535 3424.44,964.535 \"/>\n",
       "<path clip-path=\"url(#clip642)\" d=\"M3465.41 505.889 L3465.41 1423.18 L3506.38 1423.18 L3506.38 505.889 L3465.41 505.889 L3465.41 505.889  Z\" fill=\"#009af9\" fill-rule=\"evenodd\" fill-opacity=\"1\"/>\n",
       "<polyline clip-path=\"url(#clip642)\" style=\"stroke:#000000; stroke-linecap:round; stroke-linejoin:round; stroke-width:4; stroke-opacity:1; fill:none\" points=\"3465.41,505.889 3465.41,1423.18 3506.38,1423.18 3506.38,505.889 3465.41,505.889 \"/>\n",
       "<path clip-path=\"url(#clip642)\" d=\"M3506.38 1117.42 L3506.38 1423.18 L3547.35 1423.18 L3547.35 1117.42 L3506.38 1117.42 L3506.38 1117.42  Z\" fill=\"#009af9\" fill-rule=\"evenodd\" fill-opacity=\"1\"/>\n",
       "<polyline clip-path=\"url(#clip642)\" style=\"stroke:#000000; stroke-linecap:round; stroke-linejoin:round; stroke-width:4; stroke-opacity:1; fill:none\" points=\"3506.38,1117.42 3506.38,1423.18 3547.35,1423.18 3547.35,1117.42 3506.38,1117.42 \"/>\n",
       "<path clip-path=\"url(#clip642)\" d=\"M3547.35 505.889 L3547.35 1423.18 L3588.32 1423.18 L3588.32 505.889 L3547.35 505.889 L3547.35 505.889  Z\" fill=\"#009af9\" fill-rule=\"evenodd\" fill-opacity=\"1\"/>\n",
       "<polyline clip-path=\"url(#clip642)\" style=\"stroke:#000000; stroke-linecap:round; stroke-linejoin:round; stroke-width:4; stroke-opacity:1; fill:none\" points=\"3547.35,505.889 3547.35,1423.18 3588.32,1423.18 3588.32,505.889 3547.35,505.889 \"/>\n",
       "<path clip-path=\"url(#clip642)\" d=\"M3588.32 964.535 L3588.32 1423.18 L3629.29 1423.18 L3629.29 964.535 L3588.32 964.535 L3588.32 964.535  Z\" fill=\"#009af9\" fill-rule=\"evenodd\" fill-opacity=\"1\"/>\n",
       "<polyline clip-path=\"url(#clip642)\" style=\"stroke:#000000; stroke-linecap:round; stroke-linejoin:round; stroke-width:4; stroke-opacity:1; fill:none\" points=\"3588.32,964.535 3588.32,1423.18 3629.29,1423.18 3629.29,964.535 3588.32,964.535 \"/>\n",
       "<path clip-path=\"url(#clip642)\" d=\"M3629.29 658.771 L3629.29 1423.18 L3670.26 1423.18 L3670.26 658.771 L3629.29 658.771 L3629.29 658.771  Z\" fill=\"#009af9\" fill-rule=\"evenodd\" fill-opacity=\"1\"/>\n",
       "<polyline clip-path=\"url(#clip642)\" style=\"stroke:#000000; stroke-linecap:round; stroke-linejoin:round; stroke-width:4; stroke-opacity:1; fill:none\" points=\"3629.29,658.771 3629.29,1423.18 3670.26,1423.18 3670.26,658.771 3629.29,658.771 \"/>\n",
       "<path clip-path=\"url(#clip642)\" d=\"M3670.26 964.535 L3670.26 1423.18 L3711.23 1423.18 L3711.23 964.535 L3670.26 964.535 L3670.26 964.535  Z\" fill=\"#009af9\" fill-rule=\"evenodd\" fill-opacity=\"1\"/>\n",
       "<polyline clip-path=\"url(#clip642)\" style=\"stroke:#000000; stroke-linecap:round; stroke-linejoin:round; stroke-width:4; stroke-opacity:1; fill:none\" points=\"3670.26,964.535 3670.26,1423.18 3711.23,1423.18 3711.23,964.535 3670.26,964.535 \"/>\n",
       "<path clip-path=\"url(#clip642)\" d=\"M3711.23 658.771 L3711.23 1423.18 L3752.2 1423.18 L3752.2 658.771 L3711.23 658.771 L3711.23 658.771  Z\" fill=\"#009af9\" fill-rule=\"evenodd\" fill-opacity=\"1\"/>\n",
       "<polyline clip-path=\"url(#clip642)\" style=\"stroke:#000000; stroke-linecap:round; stroke-linejoin:round; stroke-width:4; stroke-opacity:1; fill:none\" points=\"3711.23,658.771 3711.23,1423.18 3752.2,1423.18 3752.2,658.771 3711.23,658.771 \"/>\n",
       "<path clip-path=\"url(#clip642)\" d=\"M3752.2 505.889 L3752.2 1423.18 L3793.17 1423.18 L3793.17 505.889 L3752.2 505.889 L3752.2 505.889  Z\" fill=\"#009af9\" fill-rule=\"evenodd\" fill-opacity=\"1\"/>\n",
       "<polyline clip-path=\"url(#clip642)\" style=\"stroke:#000000; stroke-linecap:round; stroke-linejoin:round; stroke-width:4; stroke-opacity:1; fill:none\" points=\"3752.2,505.889 3752.2,1423.18 3793.17,1423.18 3793.17,505.889 3752.2,505.889 \"/>\n",
       "<path clip-path=\"url(#clip642)\" d=\"M3793.17 1117.42 L3793.17 1423.18 L3834.14 1423.18 L3834.14 1117.42 L3793.17 1117.42 L3793.17 1117.42  Z\" fill=\"#009af9\" fill-rule=\"evenodd\" fill-opacity=\"1\"/>\n",
       "<polyline clip-path=\"url(#clip642)\" style=\"stroke:#000000; stroke-linecap:round; stroke-linejoin:round; stroke-width:4; stroke-opacity:1; fill:none\" points=\"3793.17,1117.42 3793.17,1423.18 3834.14,1423.18 3834.14,1117.42 3793.17,1117.42 \"/>\n",
       "<path clip-path=\"url(#clip642)\" d=\"M3834.14 964.535 L3834.14 1423.18 L3875.11 1423.18 L3875.11 964.535 L3834.14 964.535 L3834.14 964.535  Z\" fill=\"#009af9\" fill-rule=\"evenodd\" fill-opacity=\"1\"/>\n",
       "<polyline clip-path=\"url(#clip642)\" style=\"stroke:#000000; stroke-linecap:round; stroke-linejoin:round; stroke-width:4; stroke-opacity:1; fill:none\" points=\"3834.14,964.535 3834.14,1423.18 3875.11,1423.18 3875.11,964.535 3834.14,964.535 \"/>\n",
       "<path clip-path=\"url(#clip642)\" d=\"M3875.11 964.535 L3875.11 1423.18 L3916.08 1423.18 L3916.08 964.535 L3875.11 964.535 L3875.11 964.535  Z\" fill=\"#009af9\" fill-rule=\"evenodd\" fill-opacity=\"1\"/>\n",
       "<polyline clip-path=\"url(#clip642)\" style=\"stroke:#000000; stroke-linecap:round; stroke-linejoin:round; stroke-width:4; stroke-opacity:1; fill:none\" points=\"3875.11,964.535 3875.11,1423.18 3916.08,1423.18 3916.08,964.535 3875.11,964.535 \"/>\n",
       "<path clip-path=\"url(#clip642)\" d=\"M3916.08 505.889 L3916.08 1423.18 L3957.05 1423.18 L3957.05 505.889 L3916.08 505.889 L3916.08 505.889  Z\" fill=\"#009af9\" fill-rule=\"evenodd\" fill-opacity=\"1\"/>\n",
       "<polyline clip-path=\"url(#clip642)\" style=\"stroke:#000000; stroke-linecap:round; stroke-linejoin:round; stroke-width:4; stroke-opacity:1; fill:none\" points=\"3916.08,505.889 3916.08,1423.18 3957.05,1423.18 3957.05,505.889 3916.08,505.889 \"/>\n",
       "<path clip-path=\"url(#clip642)\" d=\"M3957.05 964.535 L3957.05 1423.18 L3998.02 1423.18 L3998.02 964.535 L3957.05 964.535 L3957.05 964.535  Z\" fill=\"#009af9\" fill-rule=\"evenodd\" fill-opacity=\"1\"/>\n",
       "<polyline clip-path=\"url(#clip642)\" style=\"stroke:#000000; stroke-linecap:round; stroke-linejoin:round; stroke-width:4; stroke-opacity:1; fill:none\" points=\"3957.05,964.535 3957.05,1423.18 3998.02,1423.18 3998.02,964.535 3957.05,964.535 \"/>\n",
       "<path clip-path=\"url(#clip642)\" d=\"M3998.02 505.889 L3998.02 1423.18 L4038.99 1423.18 L4038.99 505.889 L3998.02 505.889 L3998.02 505.889  Z\" fill=\"#009af9\" fill-rule=\"evenodd\" fill-opacity=\"1\"/>\n",
       "<polyline clip-path=\"url(#clip642)\" style=\"stroke:#000000; stroke-linecap:round; stroke-linejoin:round; stroke-width:4; stroke-opacity:1; fill:none\" points=\"3998.02,505.889 3998.02,1423.18 4038.99,1423.18 4038.99,505.889 3998.02,505.889 \"/>\n",
       "<path clip-path=\"url(#clip642)\" d=\"M4038.99 353.008 L4038.99 1423.18 L4079.96 1423.18 L4079.96 353.008 L4038.99 353.008 L4038.99 353.008  Z\" fill=\"#009af9\" fill-rule=\"evenodd\" fill-opacity=\"1\"/>\n",
       "<polyline clip-path=\"url(#clip642)\" style=\"stroke:#000000; stroke-linecap:round; stroke-linejoin:round; stroke-width:4; stroke-opacity:1; fill:none\" points=\"4038.99,353.008 4038.99,1423.18 4079.96,1423.18 4079.96,353.008 4038.99,353.008 \"/>\n",
       "<path clip-path=\"url(#clip642)\" d=\"M4079.96 811.653 L4079.96 1423.18 L4120.93 1423.18 L4120.93 811.653 L4079.96 811.653 L4079.96 811.653  Z\" fill=\"#009af9\" fill-rule=\"evenodd\" fill-opacity=\"1\"/>\n",
       "<polyline clip-path=\"url(#clip642)\" style=\"stroke:#000000; stroke-linecap:round; stroke-linejoin:round; stroke-width:4; stroke-opacity:1; fill:none\" points=\"4079.96,811.653 4079.96,1423.18 4120.93,1423.18 4120.93,811.653 4079.96,811.653 \"/>\n",
       "<path clip-path=\"url(#clip642)\" d=\"M4120.93 47.2441 L4120.93 1423.18 L4161.9 1423.18 L4161.9 47.2441 L4120.93 47.2441 L4120.93 47.2441  Z\" fill=\"#009af9\" fill-rule=\"evenodd\" fill-opacity=\"1\"/>\n",
       "<polyline clip-path=\"url(#clip642)\" style=\"stroke:#000000; stroke-linecap:round; stroke-linejoin:round; stroke-width:4; stroke-opacity:1; fill:none\" points=\"4120.93,47.2441 4120.93,1423.18 4161.9,1423.18 4161.9,47.2441 4120.93,47.2441 \"/>\n",
       "<path clip-path=\"url(#clip642)\" d=\"M4161.9 811.653 L4161.9 1423.18 L4202.87 1423.18 L4202.87 811.653 L4161.9 811.653 L4161.9 811.653  Z\" fill=\"#009af9\" fill-rule=\"evenodd\" fill-opacity=\"1\"/>\n",
       "<polyline clip-path=\"url(#clip642)\" style=\"stroke:#000000; stroke-linecap:round; stroke-linejoin:round; stroke-width:4; stroke-opacity:1; fill:none\" points=\"4161.9,811.653 4161.9,1423.18 4202.87,1423.18 4202.87,811.653 4161.9,811.653 \"/>\n",
       "<path clip-path=\"url(#clip642)\" d=\"M4202.87 47.2441 L4202.87 1423.18 L4243.84 1423.18 L4243.84 47.2441 L4202.87 47.2441 L4202.87 47.2441  Z\" fill=\"#009af9\" fill-rule=\"evenodd\" fill-opacity=\"1\"/>\n",
       "<polyline clip-path=\"url(#clip642)\" style=\"stroke:#000000; stroke-linecap:round; stroke-linejoin:round; stroke-width:4; stroke-opacity:1; fill:none\" points=\"4202.87,47.2441 4202.87,1423.18 4243.84,1423.18 4243.84,47.2441 4202.87,47.2441 \"/>\n",
       "<path clip-path=\"url(#clip642)\" d=\"M4243.84 964.535 L4243.84 1423.18 L4284.81 1423.18 L4284.81 964.535 L4243.84 964.535 L4243.84 964.535  Z\" fill=\"#009af9\" fill-rule=\"evenodd\" fill-opacity=\"1\"/>\n",
       "<polyline clip-path=\"url(#clip642)\" style=\"stroke:#000000; stroke-linecap:round; stroke-linejoin:round; stroke-width:4; stroke-opacity:1; fill:none\" points=\"4243.84,964.535 4243.84,1423.18 4284.81,1423.18 4284.81,964.535 4243.84,964.535 \"/>\n",
       "<path clip-path=\"url(#clip642)\" d=\"M4284.81 1117.42 L4284.81 1423.18 L4325.78 1423.18 L4325.78 1117.42 L4284.81 1117.42 L4284.81 1117.42  Z\" fill=\"#009af9\" fill-rule=\"evenodd\" fill-opacity=\"1\"/>\n",
       "<polyline clip-path=\"url(#clip642)\" style=\"stroke:#000000; stroke-linecap:round; stroke-linejoin:round; stroke-width:4; stroke-opacity:1; fill:none\" points=\"4284.81,1117.42 4284.81,1423.18 4325.78,1423.18 4325.78,1117.42 4284.81,1117.42 \"/>\n",
       "<path clip-path=\"url(#clip642)\" d=\"M4325.78 353.008 L4325.78 1423.18 L4366.75 1423.18 L4366.75 353.008 L4325.78 353.008 L4325.78 353.008  Z\" fill=\"#009af9\" fill-rule=\"evenodd\" fill-opacity=\"1\"/>\n",
       "<polyline clip-path=\"url(#clip642)\" style=\"stroke:#000000; stroke-linecap:round; stroke-linejoin:round; stroke-width:4; stroke-opacity:1; fill:none\" points=\"4325.78,353.008 4325.78,1423.18 4366.75,1423.18 4366.75,353.008 4325.78,353.008 \"/>\n",
       "<path clip-path=\"url(#clip642)\" d=\"M4366.75 200.126 L4366.75 1423.18 L4407.72 1423.18 L4407.72 200.126 L4366.75 200.126 L4366.75 200.126  Z\" fill=\"#009af9\" fill-rule=\"evenodd\" fill-opacity=\"1\"/>\n",
       "<polyline clip-path=\"url(#clip642)\" style=\"stroke:#000000; stroke-linecap:round; stroke-linejoin:round; stroke-width:4; stroke-opacity:1; fill:none\" points=\"4366.75,200.126 4366.75,1423.18 4407.72,1423.18 4407.72,200.126 4366.75,200.126 \"/>\n",
       "<path clip-path=\"url(#clip642)\" d=\"M4407.72 658.771 L4407.72 1423.18 L4448.69 1423.18 L4448.69 658.771 L4407.72 658.771 L4407.72 658.771  Z\" fill=\"#009af9\" fill-rule=\"evenodd\" fill-opacity=\"1\"/>\n",
       "<polyline clip-path=\"url(#clip642)\" style=\"stroke:#000000; stroke-linecap:round; stroke-linejoin:round; stroke-width:4; stroke-opacity:1; fill:none\" points=\"4407.72,658.771 4407.72,1423.18 4448.69,1423.18 4448.69,658.771 4407.72,658.771 \"/>\n",
       "<path clip-path=\"url(#clip642)\" d=\"M4448.69 1117.42 L4448.69 1423.18 L4489.66 1423.18 L4489.66 1117.42 L4448.69 1117.42 L4448.69 1117.42  Z\" fill=\"#009af9\" fill-rule=\"evenodd\" fill-opacity=\"1\"/>\n",
       "<polyline clip-path=\"url(#clip642)\" style=\"stroke:#000000; stroke-linecap:round; stroke-linejoin:round; stroke-width:4; stroke-opacity:1; fill:none\" points=\"4448.69,1117.42 4448.69,1423.18 4489.66,1423.18 4489.66,1117.42 4448.69,1117.42 \"/>\n",
       "<path clip-path=\"url(#clip642)\" d=\"M4489.66 505.889 L4489.66 1423.18 L4530.63 1423.18 L4530.63 505.889 L4489.66 505.889 L4489.66 505.889  Z\" fill=\"#009af9\" fill-rule=\"evenodd\" fill-opacity=\"1\"/>\n",
       "<polyline clip-path=\"url(#clip642)\" style=\"stroke:#000000; stroke-linecap:round; stroke-linejoin:round; stroke-width:4; stroke-opacity:1; fill:none\" points=\"4489.66,505.889 4489.66,1423.18 4530.63,1423.18 4530.63,505.889 4489.66,505.889 \"/>\n",
       "<path clip-path=\"url(#clip642)\" d=\"M4530.63 1270.3 L4530.63 1423.18 L4571.6 1423.18 L4571.6 1270.3 L4530.63 1270.3 L4530.63 1270.3  Z\" fill=\"#009af9\" fill-rule=\"evenodd\" fill-opacity=\"1\"/>\n",
       "<polyline clip-path=\"url(#clip642)\" style=\"stroke:#000000; stroke-linecap:round; stroke-linejoin:round; stroke-width:4; stroke-opacity:1; fill:none\" points=\"4530.63,1270.3 4530.63,1423.18 4571.6,1423.18 4571.6,1270.3 4530.63,1270.3 \"/>\n",
       "<path clip-path=\"url(#clip642)\" d=\"M4571.6 811.653 L4571.6 1423.18 L4612.57 1423.18 L4612.57 811.653 L4571.6 811.653 L4571.6 811.653  Z\" fill=\"#009af9\" fill-rule=\"evenodd\" fill-opacity=\"1\"/>\n",
       "<polyline clip-path=\"url(#clip642)\" style=\"stroke:#000000; stroke-linecap:round; stroke-linejoin:round; stroke-width:4; stroke-opacity:1; fill:none\" points=\"4571.6,811.653 4571.6,1423.18 4612.57,1423.18 4612.57,811.653 4571.6,811.653 \"/>\n",
       "<path clip-path=\"url(#clip642)\" d=\"M4612.57 1270.3 L4612.57 1423.18 L4653.54 1423.18 L4653.54 1270.3 L4612.57 1270.3 L4612.57 1270.3  Z\" fill=\"#009af9\" fill-rule=\"evenodd\" fill-opacity=\"1\"/>\n",
       "<polyline clip-path=\"url(#clip642)\" style=\"stroke:#000000; stroke-linecap:round; stroke-linejoin:round; stroke-width:4; stroke-opacity:1; fill:none\" points=\"4612.57,1270.3 4612.57,1423.18 4653.54,1423.18 4653.54,1270.3 4612.57,1270.3 \"/>\n",
       "<path clip-path=\"url(#clip642)\" d=\"M4653.54 811.653 L4653.54 1423.18 L4694.51 1423.18 L4694.51 811.653 L4653.54 811.653 L4653.54 811.653  Z\" fill=\"#009af9\" fill-rule=\"evenodd\" fill-opacity=\"1\"/>\n",
       "<polyline clip-path=\"url(#clip642)\" style=\"stroke:#000000; stroke-linecap:round; stroke-linejoin:round; stroke-width:4; stroke-opacity:1; fill:none\" points=\"4653.54,811.653 4653.54,1423.18 4694.51,1423.18 4694.51,811.653 4653.54,811.653 \"/>\n",
       "<path clip-path=\"url(#clip642)\" d=\"M4694.51 658.771 L4694.51 1423.18 L4735.48 1423.18 L4735.48 658.771 L4694.51 658.771 L4694.51 658.771  Z\" fill=\"#009af9\" fill-rule=\"evenodd\" fill-opacity=\"1\"/>\n",
       "<polyline clip-path=\"url(#clip642)\" style=\"stroke:#000000; stroke-linecap:round; stroke-linejoin:round; stroke-width:4; stroke-opacity:1; fill:none\" points=\"4694.51,658.771 4694.51,1423.18 4735.48,1423.18 4735.48,658.771 4694.51,658.771 \"/>\n",
       "<path clip-path=\"url(#clip642)\" d=\"M4735.48 658.771 L4735.48 1423.18 L4776.45 1423.18 L4776.45 658.771 L4735.48 658.771 L4735.48 658.771  Z\" fill=\"#009af9\" fill-rule=\"evenodd\" fill-opacity=\"1\"/>\n",
       "<polyline clip-path=\"url(#clip642)\" style=\"stroke:#000000; stroke-linecap:round; stroke-linejoin:round; stroke-width:4; stroke-opacity:1; fill:none\" points=\"4735.48,658.771 4735.48,1423.18 4776.45,1423.18 4776.45,658.771 4735.48,658.771 \"/>\n",
       "<path clip-path=\"url(#clip642)\" d=\"M4776.45 658.771 L4776.45 1423.18 L4817.42 1423.18 L4817.42 658.771 L4776.45 658.771 L4776.45 658.771  Z\" fill=\"#009af9\" fill-rule=\"evenodd\" fill-opacity=\"1\"/>\n",
       "<polyline clip-path=\"url(#clip642)\" style=\"stroke:#000000; stroke-linecap:round; stroke-linejoin:round; stroke-width:4; stroke-opacity:1; fill:none\" points=\"4776.45,658.771 4776.45,1423.18 4817.42,1423.18 4817.42,658.771 4776.45,658.771 \"/>\n",
       "<path clip-path=\"url(#clip642)\" d=\"M4817.42 505.889 L4817.42 1423.18 L4858.39 1423.18 L4858.39 505.889 L4817.42 505.889 L4817.42 505.889  Z\" fill=\"#009af9\" fill-rule=\"evenodd\" fill-opacity=\"1\"/>\n",
       "<polyline clip-path=\"url(#clip642)\" style=\"stroke:#000000; stroke-linecap:round; stroke-linejoin:round; stroke-width:4; stroke-opacity:1; fill:none\" points=\"4817.42,505.889 4817.42,1423.18 4858.39,1423.18 4858.39,505.889 4817.42,505.889 \"/>\n",
       "<path clip-path=\"url(#clip642)\" d=\"M4858.39 1270.3 L4858.39 1423.18 L4899.36 1423.18 L4899.36 1270.3 L4858.39 1270.3 L4858.39 1270.3  Z\" fill=\"#009af9\" fill-rule=\"evenodd\" fill-opacity=\"1\"/>\n",
       "<polyline clip-path=\"url(#clip642)\" style=\"stroke:#000000; stroke-linecap:round; stroke-linejoin:round; stroke-width:4; stroke-opacity:1; fill:none\" points=\"4858.39,1270.3 4858.39,1423.18 4899.36,1423.18 4899.36,1270.3 4858.39,1270.3 \"/>\n",
       "<path clip-path=\"url(#clip642)\" d=\"M4899.36 811.653 L4899.36 1423.18 L4940.33 1423.18 L4940.33 811.653 L4899.36 811.653 L4899.36 811.653  Z\" fill=\"#009af9\" fill-rule=\"evenodd\" fill-opacity=\"1\"/>\n",
       "<polyline clip-path=\"url(#clip642)\" style=\"stroke:#000000; stroke-linecap:round; stroke-linejoin:round; stroke-width:4; stroke-opacity:1; fill:none\" points=\"4899.36,811.653 4899.36,1423.18 4940.33,1423.18 4940.33,811.653 4899.36,811.653 \"/>\n",
       "<path clip-path=\"url(#clip642)\" d=\"M4940.33 1270.3 L4940.33 1423.18 L4981.3 1423.18 L4981.3 1270.3 L4940.33 1270.3 L4940.33 1270.3  Z\" fill=\"#009af9\" fill-rule=\"evenodd\" fill-opacity=\"1\"/>\n",
       "<polyline clip-path=\"url(#clip642)\" style=\"stroke:#000000; stroke-linecap:round; stroke-linejoin:round; stroke-width:4; stroke-opacity:1; fill:none\" points=\"4940.33,1270.3 4940.33,1423.18 4981.3,1423.18 4981.3,1270.3 4940.33,1270.3 \"/>\n",
       "<path clip-path=\"url(#clip642)\" d=\"M4981.3 1270.3 L4981.3 1423.18 L5022.27 1423.18 L5022.27 1270.3 L4981.3 1270.3 L4981.3 1270.3  Z\" fill=\"#009af9\" fill-rule=\"evenodd\" fill-opacity=\"1\"/>\n",
       "<polyline clip-path=\"url(#clip642)\" style=\"stroke:#000000; stroke-linecap:round; stroke-linejoin:round; stroke-width:4; stroke-opacity:1; fill:none\" points=\"4981.3,1270.3 4981.3,1423.18 5022.27,1423.18 5022.27,1270.3 4981.3,1270.3 \"/>\n",
       "<path clip-path=\"url(#clip642)\" d=\"M5022.27 658.771 L5022.27 1423.18 L5063.24 1423.18 L5063.24 658.771 L5022.27 658.771 L5022.27 658.771  Z\" fill=\"#009af9\" fill-rule=\"evenodd\" fill-opacity=\"1\"/>\n",
       "<polyline clip-path=\"url(#clip642)\" style=\"stroke:#000000; stroke-linecap:round; stroke-linejoin:round; stroke-width:4; stroke-opacity:1; fill:none\" points=\"5022.27,658.771 5022.27,1423.18 5063.24,1423.18 5063.24,658.771 5022.27,658.771 \"/>\n",
       "<path clip-path=\"url(#clip642)\" d=\"M5063.24 353.008 L5063.24 1423.18 L5104.21 1423.18 L5104.21 353.008 L5063.24 353.008 L5063.24 353.008  Z\" fill=\"#009af9\" fill-rule=\"evenodd\" fill-opacity=\"1\"/>\n",
       "<polyline clip-path=\"url(#clip642)\" style=\"stroke:#000000; stroke-linecap:round; stroke-linejoin:round; stroke-width:4; stroke-opacity:1; fill:none\" points=\"5063.24,353.008 5063.24,1423.18 5104.21,1423.18 5104.21,353.008 5063.24,353.008 \"/>\n",
       "<path clip-path=\"url(#clip642)\" d=\"M5104.21 964.535 L5104.21 1423.18 L5145.18 1423.18 L5145.18 964.535 L5104.21 964.535 L5104.21 964.535  Z\" fill=\"#009af9\" fill-rule=\"evenodd\" fill-opacity=\"1\"/>\n",
       "<polyline clip-path=\"url(#clip642)\" style=\"stroke:#000000; stroke-linecap:round; stroke-linejoin:round; stroke-width:4; stroke-opacity:1; fill:none\" points=\"5104.21,964.535 5104.21,1423.18 5145.18,1423.18 5145.18,964.535 5104.21,964.535 \"/>\n",
       "<path clip-path=\"url(#clip642)\" d=\"M5145.18 964.535 L5145.18 1423.18 L5186.15 1423.18 L5186.15 964.535 L5145.18 964.535 L5145.18 964.535  Z\" fill=\"#009af9\" fill-rule=\"evenodd\" fill-opacity=\"1\"/>\n",
       "<polyline clip-path=\"url(#clip642)\" style=\"stroke:#000000; stroke-linecap:round; stroke-linejoin:round; stroke-width:4; stroke-opacity:1; fill:none\" points=\"5145.18,964.535 5145.18,1423.18 5186.15,1423.18 5186.15,964.535 5145.18,964.535 \"/>\n",
       "<path clip-path=\"url(#clip642)\" d=\"M5186.15 47.2441 L5186.15 1423.18 L5227.12 1423.18 L5227.12 47.2441 L5186.15 47.2441 L5186.15 47.2441  Z\" fill=\"#009af9\" fill-rule=\"evenodd\" fill-opacity=\"1\"/>\n",
       "<polyline clip-path=\"url(#clip642)\" style=\"stroke:#000000; stroke-linecap:round; stroke-linejoin:round; stroke-width:4; stroke-opacity:1; fill:none\" points=\"5186.15,47.2441 5186.15,1423.18 5227.12,1423.18 5227.12,47.2441 5186.15,47.2441 \"/>\n",
       "<path clip-path=\"url(#clip642)\" d=\"M5227.12 964.535 L5227.12 1423.18 L5268.09 1423.18 L5268.09 964.535 L5227.12 964.535 L5227.12 964.535  Z\" fill=\"#009af9\" fill-rule=\"evenodd\" fill-opacity=\"1\"/>\n",
       "<polyline clip-path=\"url(#clip642)\" style=\"stroke:#000000; stroke-linecap:round; stroke-linejoin:round; stroke-width:4; stroke-opacity:1; fill:none\" points=\"5227.12,964.535 5227.12,1423.18 5268.09,1423.18 5268.09,964.535 5227.12,964.535 \"/>\n",
       "<path clip-path=\"url(#clip642)\" d=\"M5268.09 811.653 L5268.09 1423.18 L5309.06 1423.18 L5309.06 811.653 L5268.09 811.653 L5268.09 811.653  Z\" fill=\"#009af9\" fill-rule=\"evenodd\" fill-opacity=\"1\"/>\n",
       "<polyline clip-path=\"url(#clip642)\" style=\"stroke:#000000; stroke-linecap:round; stroke-linejoin:round; stroke-width:4; stroke-opacity:1; fill:none\" points=\"5268.09,811.653 5268.09,1423.18 5309.06,1423.18 5309.06,811.653 5268.09,811.653 \"/>\n",
       "<path clip-path=\"url(#clip642)\" d=\"M5309.06 505.889 L5309.06 1423.18 L5350.03 1423.18 L5350.03 505.889 L5309.06 505.889 L5309.06 505.889  Z\" fill=\"#009af9\" fill-rule=\"evenodd\" fill-opacity=\"1\"/>\n",
       "<polyline clip-path=\"url(#clip642)\" style=\"stroke:#000000; stroke-linecap:round; stroke-linejoin:round; stroke-width:4; stroke-opacity:1; fill:none\" points=\"5309.06,505.889 5309.06,1423.18 5350.03,1423.18 5350.03,505.889 5309.06,505.889 \"/>\n",
       "<path clip-path=\"url(#clip642)\" d=\"M5350.03 964.535 L5350.03 1423.18 L5391 1423.18 L5391 964.535 L5350.03 964.535 L5350.03 964.535  Z\" fill=\"#009af9\" fill-rule=\"evenodd\" fill-opacity=\"1\"/>\n",
       "<polyline clip-path=\"url(#clip642)\" style=\"stroke:#000000; stroke-linecap:round; stroke-linejoin:round; stroke-width:4; stroke-opacity:1; fill:none\" points=\"5350.03,964.535 5350.03,1423.18 5391,1423.18 5391,964.535 5350.03,964.535 \"/>\n",
       "<path clip-path=\"url(#clip642)\" d=\"M5391 964.535 L5391 1423.18 L5431.97 1423.18 L5431.97 964.535 L5391 964.535 L5391 964.535  Z\" fill=\"#009af9\" fill-rule=\"evenodd\" fill-opacity=\"1\"/>\n",
       "<polyline clip-path=\"url(#clip642)\" style=\"stroke:#000000; stroke-linecap:round; stroke-linejoin:round; stroke-width:4; stroke-opacity:1; fill:none\" points=\"5391,964.535 5391,1423.18 5431.97,1423.18 5431.97,964.535 5391,964.535 \"/>\n",
       "<path clip-path=\"url(#clip642)\" d=\"M5431.97 811.653 L5431.97 1423.18 L5472.94 1423.18 L5472.94 811.653 L5431.97 811.653 L5431.97 811.653  Z\" fill=\"#009af9\" fill-rule=\"evenodd\" fill-opacity=\"1\"/>\n",
       "<polyline clip-path=\"url(#clip642)\" style=\"stroke:#000000; stroke-linecap:round; stroke-linejoin:round; stroke-width:4; stroke-opacity:1; fill:none\" points=\"5431.97,811.653 5431.97,1423.18 5472.94,1423.18 5472.94,811.653 5431.97,811.653 \"/>\n",
       "<path clip-path=\"url(#clip642)\" d=\"M5472.94 964.535 L5472.94 1423.18 L5513.91 1423.18 L5513.91 964.535 L5472.94 964.535 L5472.94 964.535  Z\" fill=\"#009af9\" fill-rule=\"evenodd\" fill-opacity=\"1\"/>\n",
       "<polyline clip-path=\"url(#clip642)\" style=\"stroke:#000000; stroke-linecap:round; stroke-linejoin:round; stroke-width:4; stroke-opacity:1; fill:none\" points=\"5472.94,964.535 5472.94,1423.18 5513.91,1423.18 5513.91,964.535 5472.94,964.535 \"/>\n",
       "<path clip-path=\"url(#clip642)\" d=\"M5513.91 1117.42 L5513.91 1423.18 L5554.88 1423.18 L5554.88 1117.42 L5513.91 1117.42 L5513.91 1117.42  Z\" fill=\"#009af9\" fill-rule=\"evenodd\" fill-opacity=\"1\"/>\n",
       "<polyline clip-path=\"url(#clip642)\" style=\"stroke:#000000; stroke-linecap:round; stroke-linejoin:round; stroke-width:4; stroke-opacity:1; fill:none\" points=\"5513.91,1117.42 5513.91,1423.18 5554.88,1423.18 5554.88,1117.42 5513.91,1117.42 \"/>\n",
       "<path clip-path=\"url(#clip642)\" d=\"M5554.88 964.535 L5554.88 1423.18 L5595.85 1423.18 L5595.85 964.535 L5554.88 964.535 L5554.88 964.535  Z\" fill=\"#009af9\" fill-rule=\"evenodd\" fill-opacity=\"1\"/>\n",
       "<polyline clip-path=\"url(#clip642)\" style=\"stroke:#000000; stroke-linecap:round; stroke-linejoin:round; stroke-width:4; stroke-opacity:1; fill:none\" points=\"5554.88,964.535 5554.88,1423.18 5595.85,1423.18 5595.85,964.535 5554.88,964.535 \"/>\n",
       "<path clip-path=\"url(#clip642)\" d=\"M5595.85 964.535 L5595.85 1423.18 L5636.83 1423.18 L5636.83 964.535 L5595.85 964.535 L5595.85 964.535  Z\" fill=\"#009af9\" fill-rule=\"evenodd\" fill-opacity=\"1\"/>\n",
       "<polyline clip-path=\"url(#clip642)\" style=\"stroke:#000000; stroke-linecap:round; stroke-linejoin:round; stroke-width:4; stroke-opacity:1; fill:none\" points=\"5595.85,964.535 5595.85,1423.18 5636.83,1423.18 5636.83,964.535 5595.85,964.535 \"/>\n",
       "<path clip-path=\"url(#clip642)\" d=\"M5636.83 964.535 L5636.83 1423.18 L5677.8 1423.18 L5677.8 964.535 L5636.83 964.535 L5636.83 964.535  Z\" fill=\"#009af9\" fill-rule=\"evenodd\" fill-opacity=\"1\"/>\n",
       "<polyline clip-path=\"url(#clip642)\" style=\"stroke:#000000; stroke-linecap:round; stroke-linejoin:round; stroke-width:4; stroke-opacity:1; fill:none\" points=\"5636.83,964.535 5636.83,1423.18 5677.8,1423.18 5677.8,964.535 5636.83,964.535 \"/>\n",
       "<path clip-path=\"url(#clip642)\" d=\"M5677.8 1423.18 L5677.8 1423.18 L5718.77 1423.18 L5718.77 1423.18 L5677.8 1423.18 L5677.8 1423.18  Z\" fill=\"#009af9\" fill-rule=\"evenodd\" fill-opacity=\"1\"/>\n",
       "<polyline clip-path=\"url(#clip642)\" style=\"stroke:#000000; stroke-linecap:round; stroke-linejoin:round; stroke-width:4; stroke-opacity:1; fill:none\" points=\"5677.8,1423.18 5677.8,1423.18 5718.77,1423.18 5677.8,1423.18 \"/>\n",
       "<path clip-path=\"url(#clip642)\" d=\"M5718.77 1270.3 L5718.77 1423.18 L5759.74 1423.18 L5759.74 1270.3 L5718.77 1270.3 L5718.77 1270.3  Z\" fill=\"#009af9\" fill-rule=\"evenodd\" fill-opacity=\"1\"/>\n",
       "<polyline clip-path=\"url(#clip642)\" style=\"stroke:#000000; stroke-linecap:round; stroke-linejoin:round; stroke-width:4; stroke-opacity:1; fill:none\" points=\"5718.77,1270.3 5718.77,1423.18 5759.74,1423.18 5759.74,1270.3 5718.77,1270.3 \"/>\n",
       "<path clip-path=\"url(#clip642)\" d=\"M5759.74 1270.3 L5759.74 1423.18 L5800.71 1423.18 L5800.71 1270.3 L5759.74 1270.3 L5759.74 1270.3  Z\" fill=\"#009af9\" fill-rule=\"evenodd\" fill-opacity=\"1\"/>\n",
       "<polyline clip-path=\"url(#clip642)\" style=\"stroke:#000000; stroke-linecap:round; stroke-linejoin:round; stroke-width:4; stroke-opacity:1; fill:none\" points=\"5759.74,1270.3 5759.74,1423.18 5800.71,1423.18 5800.71,1270.3 5759.74,1270.3 \"/>\n",
       "<path clip-path=\"url(#clip642)\" d=\"M5800.71 658.771 L5800.71 1423.18 L5841.68 1423.18 L5841.68 658.771 L5800.71 658.771 L5800.71 658.771  Z\" fill=\"#009af9\" fill-rule=\"evenodd\" fill-opacity=\"1\"/>\n",
       "<polyline clip-path=\"url(#clip642)\" style=\"stroke:#000000; stroke-linecap:round; stroke-linejoin:round; stroke-width:4; stroke-opacity:1; fill:none\" points=\"5800.71,658.771 5800.71,1423.18 5841.68,1423.18 5841.68,658.771 5800.71,658.771 \"/>\n",
       "<path clip-path=\"url(#clip642)\" d=\"M5841.68 811.653 L5841.68 1423.18 L5882.65 1423.18 L5882.65 811.653 L5841.68 811.653 L5841.68 811.653  Z\" fill=\"#009af9\" fill-rule=\"evenodd\" fill-opacity=\"1\"/>\n",
       "<polyline clip-path=\"url(#clip642)\" style=\"stroke:#000000; stroke-linecap:round; stroke-linejoin:round; stroke-width:4; stroke-opacity:1; fill:none\" points=\"5841.68,811.653 5841.68,1423.18 5882.65,1423.18 5882.65,811.653 5841.68,811.653 \"/>\n",
       "<path clip-path=\"url(#clip642)\" d=\"M5882.65 1270.3 L5882.65 1423.18 L5923.62 1423.18 L5923.62 1270.3 L5882.65 1270.3 L5882.65 1270.3  Z\" fill=\"#009af9\" fill-rule=\"evenodd\" fill-opacity=\"1\"/>\n",
       "<polyline clip-path=\"url(#clip642)\" style=\"stroke:#000000; stroke-linecap:round; stroke-linejoin:round; stroke-width:4; stroke-opacity:1; fill:none\" points=\"5882.65,1270.3 5882.65,1423.18 5923.62,1423.18 5923.62,1270.3 5882.65,1270.3 \"/>\n",
       "<path clip-path=\"url(#clip642)\" d=\"M5923.62 811.653 L5923.62 1423.18 L5964.59 1423.18 L5964.59 811.653 L5923.62 811.653 L5923.62 811.653  Z\" fill=\"#009af9\" fill-rule=\"evenodd\" fill-opacity=\"1\"/>\n",
       "<polyline clip-path=\"url(#clip642)\" style=\"stroke:#000000; stroke-linecap:round; stroke-linejoin:round; stroke-width:4; stroke-opacity:1; fill:none\" points=\"5923.62,811.653 5923.62,1423.18 5964.59,1423.18 5964.59,811.653 5923.62,811.653 \"/>\n",
       "<path clip-path=\"url(#clip642)\" d=\"M5964.59 964.535 L5964.59 1423.18 L6005.56 1423.18 L6005.56 964.535 L5964.59 964.535 L5964.59 964.535  Z\" fill=\"#009af9\" fill-rule=\"evenodd\" fill-opacity=\"1\"/>\n",
       "<polyline clip-path=\"url(#clip642)\" style=\"stroke:#000000; stroke-linecap:round; stroke-linejoin:round; stroke-width:4; stroke-opacity:1; fill:none\" points=\"5964.59,964.535 5964.59,1423.18 6005.56,1423.18 6005.56,964.535 5964.59,964.535 \"/>\n",
       "<path clip-path=\"url(#clip642)\" d=\"M6005.56 1117.42 L6005.56 1423.18 L6046.53 1423.18 L6046.53 1117.42 L6005.56 1117.42 L6005.56 1117.42  Z\" fill=\"#009af9\" fill-rule=\"evenodd\" fill-opacity=\"1\"/>\n",
       "<polyline clip-path=\"url(#clip642)\" style=\"stroke:#000000; stroke-linecap:round; stroke-linejoin:round; stroke-width:4; stroke-opacity:1; fill:none\" points=\"6005.56,1117.42 6005.56,1423.18 6046.53,1423.18 6046.53,1117.42 6005.56,1117.42 \"/>\n",
       "<path clip-path=\"url(#clip642)\" d=\"M6046.53 1117.42 L6046.53 1423.18 L6087.5 1423.18 L6087.5 1117.42 L6046.53 1117.42 L6046.53 1117.42  Z\" fill=\"#009af9\" fill-rule=\"evenodd\" fill-opacity=\"1\"/>\n",
       "<polyline clip-path=\"url(#clip642)\" style=\"stroke:#000000; stroke-linecap:round; stroke-linejoin:round; stroke-width:4; stroke-opacity:1; fill:none\" points=\"6046.53,1117.42 6046.53,1423.18 6087.5,1423.18 6087.5,1117.42 6046.53,1117.42 \"/>\n",
       "<path clip-path=\"url(#clip642)\" d=\"M6087.5 1117.42 L6087.5 1423.18 L6128.47 1423.18 L6128.47 1117.42 L6087.5 1117.42 L6087.5 1117.42  Z\" fill=\"#009af9\" fill-rule=\"evenodd\" fill-opacity=\"1\"/>\n",
       "<polyline clip-path=\"url(#clip642)\" style=\"stroke:#000000; stroke-linecap:round; stroke-linejoin:round; stroke-width:4; stroke-opacity:1; fill:none\" points=\"6087.5,1117.42 6087.5,1423.18 6128.47,1423.18 6128.47,1117.42 6087.5,1117.42 \"/>\n",
       "<path clip-path=\"url(#clip642)\" d=\"M6128.47 1270.3 L6128.47 1423.18 L6169.44 1423.18 L6169.44 1270.3 L6128.47 1270.3 L6128.47 1270.3  Z\" fill=\"#009af9\" fill-rule=\"evenodd\" fill-opacity=\"1\"/>\n",
       "<polyline clip-path=\"url(#clip642)\" style=\"stroke:#000000; stroke-linecap:round; stroke-linejoin:round; stroke-width:4; stroke-opacity:1; fill:none\" points=\"6128.47,1270.3 6128.47,1423.18 6169.44,1423.18 6169.44,1270.3 6128.47,1270.3 \"/>\n",
       "<path clip-path=\"url(#clip642)\" d=\"M6169.44 1423.18 L6169.44 1423.18 L6210.41 1423.18 L6210.41 1423.18 L6169.44 1423.18 L6169.44 1423.18  Z\" fill=\"#009af9\" fill-rule=\"evenodd\" fill-opacity=\"1\"/>\n",
       "<polyline clip-path=\"url(#clip642)\" style=\"stroke:#000000; stroke-linecap:round; stroke-linejoin:round; stroke-width:4; stroke-opacity:1; fill:none\" points=\"6169.44,1423.18 6169.44,1423.18 6210.41,1423.18 6169.44,1423.18 \"/>\n",
       "<path clip-path=\"url(#clip642)\" d=\"M6210.41 1423.18 L6210.41 1423.18 L6251.38 1423.18 L6251.38 1423.18 L6210.41 1423.18 L6210.41 1423.18  Z\" fill=\"#009af9\" fill-rule=\"evenodd\" fill-opacity=\"1\"/>\n",
       "<polyline clip-path=\"url(#clip642)\" style=\"stroke:#000000; stroke-linecap:round; stroke-linejoin:round; stroke-width:4; stroke-opacity:1; fill:none\" points=\"6210.41,1423.18 6210.41,1423.18 6251.38,1423.18 6210.41,1423.18 \"/>\n",
       "<path clip-path=\"url(#clip642)\" d=\"M6251.38 1270.3 L6251.38 1423.18 L6292.35 1423.18 L6292.35 1270.3 L6251.38 1270.3 L6251.38 1270.3  Z\" fill=\"#009af9\" fill-rule=\"evenodd\" fill-opacity=\"1\"/>\n",
       "<polyline clip-path=\"url(#clip642)\" style=\"stroke:#000000; stroke-linecap:round; stroke-linejoin:round; stroke-width:4; stroke-opacity:1; fill:none\" points=\"6251.38,1270.3 6251.38,1423.18 6292.35,1423.18 6292.35,1270.3 6251.38,1270.3 \"/>\n",
       "<path clip-path=\"url(#clip642)\" d=\"M6292.35 1270.3 L6292.35 1423.18 L6333.32 1423.18 L6333.32 1270.3 L6292.35 1270.3 L6292.35 1270.3  Z\" fill=\"#009af9\" fill-rule=\"evenodd\" fill-opacity=\"1\"/>\n",
       "<polyline clip-path=\"url(#clip642)\" style=\"stroke:#000000; stroke-linecap:round; stroke-linejoin:round; stroke-width:4; stroke-opacity:1; fill:none\" points=\"6292.35,1270.3 6292.35,1423.18 6333.32,1423.18 6333.32,1270.3 6292.35,1270.3 \"/>\n",
       "<path clip-path=\"url(#clip642)\" d=\"M6333.32 1423.18 L6333.32 1423.18 L6374.29 1423.18 L6374.29 1423.18 L6333.32 1423.18 L6333.32 1423.18  Z\" fill=\"#009af9\" fill-rule=\"evenodd\" fill-opacity=\"1\"/>\n",
       "<polyline clip-path=\"url(#clip642)\" style=\"stroke:#000000; stroke-linecap:round; stroke-linejoin:round; stroke-width:4; stroke-opacity:1; fill:none\" points=\"6333.32,1423.18 6333.32,1423.18 6374.29,1423.18 6333.32,1423.18 \"/>\n",
       "<path clip-path=\"url(#clip642)\" d=\"M6374.29 1117.42 L6374.29 1423.18 L6415.26 1423.18 L6415.26 1117.42 L6374.29 1117.42 L6374.29 1117.42  Z\" fill=\"#009af9\" fill-rule=\"evenodd\" fill-opacity=\"1\"/>\n",
       "<polyline clip-path=\"url(#clip642)\" style=\"stroke:#000000; stroke-linecap:round; stroke-linejoin:round; stroke-width:4; stroke-opacity:1; fill:none\" points=\"6374.29,1117.42 6374.29,1423.18 6415.26,1423.18 6415.26,1117.42 6374.29,1117.42 \"/>\n",
       "<path clip-path=\"url(#clip642)\" d=\"M6415.26 1270.3 L6415.26 1423.18 L6456.23 1423.18 L6456.23 1270.3 L6415.26 1270.3 L6415.26 1270.3  Z\" fill=\"#009af9\" fill-rule=\"evenodd\" fill-opacity=\"1\"/>\n",
       "<polyline clip-path=\"url(#clip642)\" style=\"stroke:#000000; stroke-linecap:round; stroke-linejoin:round; stroke-width:4; stroke-opacity:1; fill:none\" points=\"6415.26,1270.3 6415.26,1423.18 6456.23,1423.18 6456.23,1270.3 6415.26,1270.3 \"/>\n",
       "<path clip-path=\"url(#clip642)\" d=\"M6456.23 1270.3 L6456.23 1423.18 L6497.2 1423.18 L6497.2 1270.3 L6456.23 1270.3 L6456.23 1270.3  Z\" fill=\"#009af9\" fill-rule=\"evenodd\" fill-opacity=\"1\"/>\n",
       "<polyline clip-path=\"url(#clip642)\" style=\"stroke:#000000; stroke-linecap:round; stroke-linejoin:round; stroke-width:4; stroke-opacity:1; fill:none\" points=\"6456.23,1270.3 6456.23,1423.18 6497.2,1423.18 6497.2,1270.3 6456.23,1270.3 \"/>\n",
       "<path clip-path=\"url(#clip642)\" d=\"M6497.2 505.889 L6497.2 1423.18 L6538.17 1423.18 L6538.17 505.889 L6497.2 505.889 L6497.2 505.889  Z\" fill=\"#009af9\" fill-rule=\"evenodd\" fill-opacity=\"1\"/>\n",
       "<polyline clip-path=\"url(#clip642)\" style=\"stroke:#000000; stroke-linecap:round; stroke-linejoin:round; stroke-width:4; stroke-opacity:1; fill:none\" points=\"6497.2,505.889 6497.2,1423.18 6538.17,1423.18 6538.17,505.889 6497.2,505.889 \"/>\n",
       "<path clip-path=\"url(#clip642)\" d=\"M6538.17 1270.3 L6538.17 1423.18 L6579.14 1423.18 L6579.14 1270.3 L6538.17 1270.3 L6538.17 1270.3  Z\" fill=\"#009af9\" fill-rule=\"evenodd\" fill-opacity=\"1\"/>\n",
       "<polyline clip-path=\"url(#clip642)\" style=\"stroke:#000000; stroke-linecap:round; stroke-linejoin:round; stroke-width:4; stroke-opacity:1; fill:none\" points=\"6538.17,1270.3 6538.17,1423.18 6579.14,1423.18 6579.14,1270.3 6538.17,1270.3 \"/>\n",
       "<path clip-path=\"url(#clip642)\" d=\"M6579.14 1270.3 L6579.14 1423.18 L6620.11 1423.18 L6620.11 1270.3 L6579.14 1270.3 L6579.14 1270.3  Z\" fill=\"#009af9\" fill-rule=\"evenodd\" fill-opacity=\"1\"/>\n",
       "<polyline clip-path=\"url(#clip642)\" style=\"stroke:#000000; stroke-linecap:round; stroke-linejoin:round; stroke-width:4; stroke-opacity:1; fill:none\" points=\"6579.14,1270.3 6579.14,1423.18 6620.11,1423.18 6620.11,1270.3 6579.14,1270.3 \"/>\n",
       "<path clip-path=\"url(#clip642)\" d=\"M6620.11 1423.18 L6620.11 1423.18 L6661.08 1423.18 L6661.08 1423.18 L6620.11 1423.18 L6620.11 1423.18  Z\" fill=\"#009af9\" fill-rule=\"evenodd\" fill-opacity=\"1\"/>\n",
       "<polyline clip-path=\"url(#clip642)\" style=\"stroke:#000000; stroke-linecap:round; stroke-linejoin:round; stroke-width:4; stroke-opacity:1; fill:none\" points=\"6620.11,1423.18 6620.11,1423.18 6661.08,1423.18 6620.11,1423.18 \"/>\n",
       "<path clip-path=\"url(#clip642)\" d=\"M6661.08 1117.42 L6661.08 1423.18 L6702.05 1423.18 L6702.05 1117.42 L6661.08 1117.42 L6661.08 1117.42  Z\" fill=\"#009af9\" fill-rule=\"evenodd\" fill-opacity=\"1\"/>\n",
       "<polyline clip-path=\"url(#clip642)\" style=\"stroke:#000000; stroke-linecap:round; stroke-linejoin:round; stroke-width:4; stroke-opacity:1; fill:none\" points=\"6661.08,1117.42 6661.08,1423.18 6702.05,1423.18 6702.05,1117.42 6661.08,1117.42 \"/>\n",
       "<path clip-path=\"url(#clip642)\" d=\"M6702.05 1117.42 L6702.05 1423.18 L6743.02 1423.18 L6743.02 1117.42 L6702.05 1117.42 L6702.05 1117.42  Z\" fill=\"#009af9\" fill-rule=\"evenodd\" fill-opacity=\"1\"/>\n",
       "<polyline clip-path=\"url(#clip642)\" style=\"stroke:#000000; stroke-linecap:round; stroke-linejoin:round; stroke-width:4; stroke-opacity:1; fill:none\" points=\"6702.05,1117.42 6702.05,1423.18 6743.02,1423.18 6743.02,1117.42 6702.05,1117.42 \"/>\n",
       "<path clip-path=\"url(#clip642)\" d=\"M6743.02 964.535 L6743.02 1423.18 L6783.99 1423.18 L6783.99 964.535 L6743.02 964.535 L6743.02 964.535  Z\" fill=\"#009af9\" fill-rule=\"evenodd\" fill-opacity=\"1\"/>\n",
       "<polyline clip-path=\"url(#clip642)\" style=\"stroke:#000000; stroke-linecap:round; stroke-linejoin:round; stroke-width:4; stroke-opacity:1; fill:none\" points=\"6743.02,964.535 6743.02,1423.18 6783.99,1423.18 6783.99,964.535 6743.02,964.535 \"/>\n",
       "<path clip-path=\"url(#clip642)\" d=\"M6783.99 1270.3 L6783.99 1423.18 L6824.96 1423.18 L6824.96 1270.3 L6783.99 1270.3 L6783.99 1270.3  Z\" fill=\"#009af9\" fill-rule=\"evenodd\" fill-opacity=\"1\"/>\n",
       "<polyline clip-path=\"url(#clip642)\" style=\"stroke:#000000; stroke-linecap:round; stroke-linejoin:round; stroke-width:4; stroke-opacity:1; fill:none\" points=\"6783.99,1270.3 6783.99,1423.18 6824.96,1423.18 6824.96,1270.3 6783.99,1270.3 \"/>\n",
       "<path clip-path=\"url(#clip642)\" d=\"M6824.96 1423.18 L6824.96 1423.18 L6865.93 1423.18 L6865.93 1423.18 L6824.96 1423.18 L6824.96 1423.18  Z\" fill=\"#009af9\" fill-rule=\"evenodd\" fill-opacity=\"1\"/>\n",
       "<polyline clip-path=\"url(#clip642)\" style=\"stroke:#000000; stroke-linecap:round; stroke-linejoin:round; stroke-width:4; stroke-opacity:1; fill:none\" points=\"6824.96,1423.18 6824.96,1423.18 6865.93,1423.18 6824.96,1423.18 \"/>\n",
       "<path clip-path=\"url(#clip642)\" d=\"M6865.93 1423.18 L6865.93 1423.18 L6906.9 1423.18 L6906.9 1423.18 L6865.93 1423.18 L6865.93 1423.18  Z\" fill=\"#009af9\" fill-rule=\"evenodd\" fill-opacity=\"1\"/>\n",
       "<polyline clip-path=\"url(#clip642)\" style=\"stroke:#000000; stroke-linecap:round; stroke-linejoin:round; stroke-width:4; stroke-opacity:1; fill:none\" points=\"6865.93,1423.18 6865.93,1423.18 6906.9,1423.18 6865.93,1423.18 \"/>\n",
       "<path clip-path=\"url(#clip642)\" d=\"M6906.9 1423.18 L6906.9 1423.18 L6947.87 1423.18 L6947.87 1423.18 L6906.9 1423.18 L6906.9 1423.18  Z\" fill=\"#009af9\" fill-rule=\"evenodd\" fill-opacity=\"1\"/>\n",
       "<polyline clip-path=\"url(#clip642)\" style=\"stroke:#000000; stroke-linecap:round; stroke-linejoin:round; stroke-width:4; stroke-opacity:1; fill:none\" points=\"6906.9,1423.18 6906.9,1423.18 6947.87,1423.18 6906.9,1423.18 \"/>\n",
       "<path clip-path=\"url(#clip642)\" d=\"M6947.87 1423.18 L6947.87 1423.18 L6988.84 1423.18 L6988.84 1423.18 L6947.87 1423.18 L6947.87 1423.18  Z\" fill=\"#009af9\" fill-rule=\"evenodd\" fill-opacity=\"1\"/>\n",
       "<polyline clip-path=\"url(#clip642)\" style=\"stroke:#000000; stroke-linecap:round; stroke-linejoin:round; stroke-width:4; stroke-opacity:1; fill:none\" points=\"6947.87,1423.18 6947.87,1423.18 6988.84,1423.18 6947.87,1423.18 \"/>\n",
       "<path clip-path=\"url(#clip642)\" d=\"M6988.84 1117.42 L6988.84 1423.18 L7029.81 1423.18 L7029.81 1117.42 L6988.84 1117.42 L6988.84 1117.42  Z\" fill=\"#009af9\" fill-rule=\"evenodd\" fill-opacity=\"1\"/>\n",
       "<polyline clip-path=\"url(#clip642)\" style=\"stroke:#000000; stroke-linecap:round; stroke-linejoin:round; stroke-width:4; stroke-opacity:1; fill:none\" points=\"6988.84,1117.42 6988.84,1423.18 7029.81,1423.18 7029.81,1117.42 6988.84,1117.42 \"/>\n",
       "<path clip-path=\"url(#clip642)\" d=\"M7029.81 1270.3 L7029.81 1423.18 L7070.78 1423.18 L7070.78 1270.3 L7029.81 1270.3 L7029.81 1270.3  Z\" fill=\"#009af9\" fill-rule=\"evenodd\" fill-opacity=\"1\"/>\n",
       "<polyline clip-path=\"url(#clip642)\" style=\"stroke:#000000; stroke-linecap:round; stroke-linejoin:round; stroke-width:4; stroke-opacity:1; fill:none\" points=\"7029.81,1270.3 7029.81,1423.18 7070.78,1423.18 7070.78,1270.3 7029.81,1270.3 \"/>\n",
       "<path clip-path=\"url(#clip642)\" d=\"M7070.78 1117.42 L7070.78 1423.18 L7111.75 1423.18 L7111.75 1117.42 L7070.78 1117.42 L7070.78 1117.42  Z\" fill=\"#009af9\" fill-rule=\"evenodd\" fill-opacity=\"1\"/>\n",
       "<polyline clip-path=\"url(#clip642)\" style=\"stroke:#000000; stroke-linecap:round; stroke-linejoin:round; stroke-width:4; stroke-opacity:1; fill:none\" points=\"7070.78,1117.42 7070.78,1423.18 7111.75,1423.18 7111.75,1117.42 7070.78,1117.42 \"/>\n",
       "<path clip-path=\"url(#clip642)\" d=\"M7111.75 1270.3 L7111.75 1423.18 L7152.72 1423.18 L7152.72 1270.3 L7111.75 1270.3 L7111.75 1270.3  Z\" fill=\"#009af9\" fill-rule=\"evenodd\" fill-opacity=\"1\"/>\n",
       "<polyline clip-path=\"url(#clip642)\" style=\"stroke:#000000; stroke-linecap:round; stroke-linejoin:round; stroke-width:4; stroke-opacity:1; fill:none\" points=\"7111.75,1270.3 7111.75,1423.18 7152.72,1423.18 7152.72,1270.3 7111.75,1270.3 \"/>\n",
       "<path clip-path=\"url(#clip642)\" d=\"M7152.72 1117.42 L7152.72 1423.18 L7193.69 1423.18 L7193.69 1117.42 L7152.72 1117.42 L7152.72 1117.42  Z\" fill=\"#009af9\" fill-rule=\"evenodd\" fill-opacity=\"1\"/>\n",
       "<polyline clip-path=\"url(#clip642)\" style=\"stroke:#000000; stroke-linecap:round; stroke-linejoin:round; stroke-width:4; stroke-opacity:1; fill:none\" points=\"7152.72,1117.42 7152.72,1423.18 7193.69,1423.18 7193.69,1117.42 7152.72,1117.42 \"/>\n",
       "<path clip-path=\"url(#clip642)\" d=\"M7193.69 1117.42 L7193.69 1423.18 L7234.66 1423.18 L7234.66 1117.42 L7193.69 1117.42 L7193.69 1117.42  Z\" fill=\"#009af9\" fill-rule=\"evenodd\" fill-opacity=\"1\"/>\n",
       "<polyline clip-path=\"url(#clip642)\" style=\"stroke:#000000; stroke-linecap:round; stroke-linejoin:round; stroke-width:4; stroke-opacity:1; fill:none\" points=\"7193.69,1117.42 7193.69,1423.18 7234.66,1423.18 7234.66,1117.42 7193.69,1117.42 \"/>\n",
       "<path clip-path=\"url(#clip642)\" d=\"M7234.66 1423.18 L7234.66 1423.18 L7275.63 1423.18 L7275.63 1423.18 L7234.66 1423.18 L7234.66 1423.18  Z\" fill=\"#009af9\" fill-rule=\"evenodd\" fill-opacity=\"1\"/>\n",
       "<polyline clip-path=\"url(#clip642)\" style=\"stroke:#000000; stroke-linecap:round; stroke-linejoin:round; stroke-width:4; stroke-opacity:1; fill:none\" points=\"7234.66,1423.18 7234.66,1423.18 7275.63,1423.18 7234.66,1423.18 \"/>\n",
       "<path clip-path=\"url(#clip642)\" d=\"M7275.63 1270.3 L7275.63 1423.18 L7316.6 1423.18 L7316.6 1270.3 L7275.63 1270.3 L7275.63 1270.3  Z\" fill=\"#009af9\" fill-rule=\"evenodd\" fill-opacity=\"1\"/>\n",
       "<polyline clip-path=\"url(#clip642)\" style=\"stroke:#000000; stroke-linecap:round; stroke-linejoin:round; stroke-width:4; stroke-opacity:1; fill:none\" points=\"7275.63,1270.3 7275.63,1423.18 7316.6,1423.18 7316.6,1270.3 7275.63,1270.3 \"/>\n",
       "<path clip-path=\"url(#clip642)\" d=\"M7316.6 1270.3 L7316.6 1423.18 L7357.57 1423.18 L7357.57 1270.3 L7316.6 1270.3 L7316.6 1270.3  Z\" fill=\"#009af9\" fill-rule=\"evenodd\" fill-opacity=\"1\"/>\n",
       "<polyline clip-path=\"url(#clip642)\" style=\"stroke:#000000; stroke-linecap:round; stroke-linejoin:round; stroke-width:4; stroke-opacity:1; fill:none\" points=\"7316.6,1270.3 7316.6,1423.18 7357.57,1423.18 7357.57,1270.3 7316.6,1270.3 \"/>\n",
       "<path clip-path=\"url(#clip642)\" d=\"M7357.57 1270.3 L7357.57 1423.18 L7398.54 1423.18 L7398.54 1270.3 L7357.57 1270.3 L7357.57 1270.3  Z\" fill=\"#009af9\" fill-rule=\"evenodd\" fill-opacity=\"1\"/>\n",
       "<polyline clip-path=\"url(#clip642)\" style=\"stroke:#000000; stroke-linecap:round; stroke-linejoin:round; stroke-width:4; stroke-opacity:1; fill:none\" points=\"7357.57,1270.3 7357.57,1423.18 7398.54,1423.18 7398.54,1270.3 7357.57,1270.3 \"/>\n",
       "<path clip-path=\"url(#clip642)\" d=\"M7398.54 1270.3 L7398.54 1423.18 L7439.51 1423.18 L7439.51 1270.3 L7398.54 1270.3 L7398.54 1270.3  Z\" fill=\"#009af9\" fill-rule=\"evenodd\" fill-opacity=\"1\"/>\n",
       "<polyline clip-path=\"url(#clip642)\" style=\"stroke:#000000; stroke-linecap:round; stroke-linejoin:round; stroke-width:4; stroke-opacity:1; fill:none\" points=\"7398.54,1270.3 7398.54,1423.18 7439.51,1423.18 7439.51,1270.3 7398.54,1270.3 \"/>\n",
       "<path clip-path=\"url(#clip642)\" d=\"M7439.51 1270.3 L7439.51 1423.18 L7480.48 1423.18 L7480.48 1270.3 L7439.51 1270.3 L7439.51 1270.3  Z\" fill=\"#009af9\" fill-rule=\"evenodd\" fill-opacity=\"1\"/>\n",
       "<polyline clip-path=\"url(#clip642)\" style=\"stroke:#000000; stroke-linecap:round; stroke-linejoin:round; stroke-width:4; stroke-opacity:1; fill:none\" points=\"7439.51,1270.3 7439.51,1423.18 7480.48,1423.18 7480.48,1270.3 7439.51,1270.3 \"/>\n",
       "<path clip-path=\"url(#clip642)\" d=\"M7480.48 1423.18 L7480.48 1423.18 L7521.45 1423.18 L7521.45 1423.18 L7480.48 1423.18 L7480.48 1423.18  Z\" fill=\"#009af9\" fill-rule=\"evenodd\" fill-opacity=\"1\"/>\n",
       "<polyline clip-path=\"url(#clip642)\" style=\"stroke:#000000; stroke-linecap:round; stroke-linejoin:round; stroke-width:4; stroke-opacity:1; fill:none\" points=\"7480.48,1423.18 7480.48,1423.18 7521.45,1423.18 7480.48,1423.18 \"/>\n",
       "<path clip-path=\"url(#clip642)\" d=\"M7521.45 1423.18 L7521.45 1423.18 L7562.42 1423.18 L7562.42 1423.18 L7521.45 1423.18 L7521.45 1423.18  Z\" fill=\"#009af9\" fill-rule=\"evenodd\" fill-opacity=\"1\"/>\n",
       "<polyline clip-path=\"url(#clip642)\" style=\"stroke:#000000; stroke-linecap:round; stroke-linejoin:round; stroke-width:4; stroke-opacity:1; fill:none\" points=\"7521.45,1423.18 7521.45,1423.18 7562.42,1423.18 7521.45,1423.18 \"/>\n",
       "<path clip-path=\"url(#clip642)\" d=\"M7562.42 1270.3 L7562.42 1423.18 L7603.39 1423.18 L7603.39 1270.3 L7562.42 1270.3 L7562.42 1270.3  Z\" fill=\"#009af9\" fill-rule=\"evenodd\" fill-opacity=\"1\"/>\n",
       "<polyline clip-path=\"url(#clip642)\" style=\"stroke:#000000; stroke-linecap:round; stroke-linejoin:round; stroke-width:4; stroke-opacity:1; fill:none\" points=\"7562.42,1270.3 7562.42,1423.18 7603.39,1423.18 7603.39,1270.3 7562.42,1270.3 \"/>\n",
       "<path clip-path=\"url(#clip642)\" d=\"M7603.39 1270.3 L7603.39 1423.18 L7644.36 1423.18 L7644.36 1270.3 L7603.39 1270.3 L7603.39 1270.3  Z\" fill=\"#009af9\" fill-rule=\"evenodd\" fill-opacity=\"1\"/>\n",
       "<polyline clip-path=\"url(#clip642)\" style=\"stroke:#000000; stroke-linecap:round; stroke-linejoin:round; stroke-width:4; stroke-opacity:1; fill:none\" points=\"7603.39,1270.3 7603.39,1423.18 7644.36,1423.18 7644.36,1270.3 7603.39,1270.3 \"/>\n",
       "<path clip-path=\"url(#clip642)\" d=\"M7644.36 1423.18 L7644.36 1423.18 L7685.33 1423.18 L7685.33 1423.18 L7644.36 1423.18 L7644.36 1423.18  Z\" fill=\"#009af9\" fill-rule=\"evenodd\" fill-opacity=\"1\"/>\n",
       "<polyline clip-path=\"url(#clip642)\" style=\"stroke:#000000; stroke-linecap:round; stroke-linejoin:round; stroke-width:4; stroke-opacity:1; fill:none\" points=\"7644.36,1423.18 7644.36,1423.18 7685.33,1423.18 7644.36,1423.18 \"/>\n",
       "<path clip-path=\"url(#clip642)\" d=\"M7685.33 1423.18 L7685.33 1423.18 L7726.3 1423.18 L7726.3 1423.18 L7685.33 1423.18 L7685.33 1423.18  Z\" fill=\"#009af9\" fill-rule=\"evenodd\" fill-opacity=\"1\"/>\n",
       "<polyline clip-path=\"url(#clip642)\" style=\"stroke:#000000; stroke-linecap:round; stroke-linejoin:round; stroke-width:4; stroke-opacity:1; fill:none\" points=\"7685.33,1423.18 7685.33,1423.18 7726.3,1423.18 7685.33,1423.18 \"/>\n",
       "<path clip-path=\"url(#clip642)\" d=\"M7726.3 1270.3 L7726.3 1423.18 L7767.27 1423.18 L7767.27 1270.3 L7726.3 1270.3 L7726.3 1270.3  Z\" fill=\"#009af9\" fill-rule=\"evenodd\" fill-opacity=\"1\"/>\n",
       "<polyline clip-path=\"url(#clip642)\" style=\"stroke:#000000; stroke-linecap:round; stroke-linejoin:round; stroke-width:4; stroke-opacity:1; fill:none\" points=\"7726.3,1270.3 7726.3,1423.18 7767.27,1423.18 7767.27,1270.3 7726.3,1270.3 \"/>\n",
       "<path clip-path=\"url(#clip642)\" d=\"M7767.27 1423.18 L7767.27 1423.18 L7808.24 1423.18 L7808.24 1423.18 L7767.27 1423.18 L7767.27 1423.18  Z\" fill=\"#009af9\" fill-rule=\"evenodd\" fill-opacity=\"1\"/>\n",
       "<polyline clip-path=\"url(#clip642)\" style=\"stroke:#000000; stroke-linecap:round; stroke-linejoin:round; stroke-width:4; stroke-opacity:1; fill:none\" points=\"7767.27,1423.18 7767.27,1423.18 7808.24,1423.18 7767.27,1423.18 \"/>\n",
       "<path clip-path=\"url(#clip642)\" d=\"M7808.24 1423.18 L7808.24 1423.18 L7849.21 1423.18 L7849.21 1423.18 L7808.24 1423.18 L7808.24 1423.18  Z\" fill=\"#009af9\" fill-rule=\"evenodd\" fill-opacity=\"1\"/>\n",
       "<polyline clip-path=\"url(#clip642)\" style=\"stroke:#000000; stroke-linecap:round; stroke-linejoin:round; stroke-width:4; stroke-opacity:1; fill:none\" points=\"7808.24,1423.18 7808.24,1423.18 7849.21,1423.18 7808.24,1423.18 \"/>\n",
       "<path clip-path=\"url(#clip642)\" d=\"M7849.21 1270.3 L7849.21 1423.18 L7890.18 1423.18 L7890.18 1270.3 L7849.21 1270.3 L7849.21 1270.3  Z\" fill=\"#009af9\" fill-rule=\"evenodd\" fill-opacity=\"1\"/>\n",
       "<polyline clip-path=\"url(#clip642)\" style=\"stroke:#000000; stroke-linecap:round; stroke-linejoin:round; stroke-width:4; stroke-opacity:1; fill:none\" points=\"7849.21,1270.3 7849.21,1423.18 7890.18,1423.18 7890.18,1270.3 7849.21,1270.3 \"/>\n",
       "<path clip-path=\"url(#clip642)\" d=\"M7890.18 1423.18 L7890.18 1423.18 L7931.15 1423.18 L7931.15 1423.18 L7890.18 1423.18 L7890.18 1423.18  Z\" fill=\"#009af9\" fill-rule=\"evenodd\" fill-opacity=\"1\"/>\n",
       "<polyline clip-path=\"url(#clip642)\" style=\"stroke:#000000; stroke-linecap:round; stroke-linejoin:round; stroke-width:4; stroke-opacity:1; fill:none\" points=\"7890.18,1423.18 7890.18,1423.18 7931.15,1423.18 7890.18,1423.18 \"/>\n",
       "<path clip-path=\"url(#clip642)\" d=\"M7931.15 1270.3 L7931.15 1423.18 L7972.12 1423.18 L7972.12 1270.3 L7931.15 1270.3 L7931.15 1270.3  Z\" fill=\"#009af9\" fill-rule=\"evenodd\" fill-opacity=\"1\"/>\n",
       "<polyline clip-path=\"url(#clip642)\" style=\"stroke:#000000; stroke-linecap:round; stroke-linejoin:round; stroke-width:4; stroke-opacity:1; fill:none\" points=\"7931.15,1270.3 7931.15,1423.18 7972.12,1423.18 7972.12,1270.3 7931.15,1270.3 \"/>\n",
       "<path clip-path=\"url(#clip642)\" d=\"M7972.12 1423.18 L7972.12 1423.18 L8013.1 1423.18 L8013.1 1423.18 L7972.12 1423.18 L7972.12 1423.18  Z\" fill=\"#009af9\" fill-rule=\"evenodd\" fill-opacity=\"1\"/>\n",
       "<polyline clip-path=\"url(#clip642)\" style=\"stroke:#000000; stroke-linecap:round; stroke-linejoin:round; stroke-width:4; stroke-opacity:1; fill:none\" points=\"7972.12,1423.18 7972.12,1423.18 8013.1,1423.18 7972.12,1423.18 \"/>\n",
       "<path clip-path=\"url(#clip642)\" d=\"M8013.1 1270.3 L8013.1 1423.18 L8054.07 1423.18 L8054.07 1270.3 L8013.1 1270.3 L8013.1 1270.3  Z\" fill=\"#009af9\" fill-rule=\"evenodd\" fill-opacity=\"1\"/>\n",
       "<polyline clip-path=\"url(#clip642)\" style=\"stroke:#000000; stroke-linecap:round; stroke-linejoin:round; stroke-width:4; stroke-opacity:1; fill:none\" points=\"8013.1,1270.3 8013.1,1423.18 8054.07,1423.18 8054.07,1270.3 8013.1,1270.3 \"/>\n",
       "<path clip-path=\"url(#clip642)\" d=\"M8054.07 1423.18 L8054.07 1423.18 L8095.04 1423.18 L8095.04 1423.18 L8054.07 1423.18 L8054.07 1423.18  Z\" fill=\"#009af9\" fill-rule=\"evenodd\" fill-opacity=\"1\"/>\n",
       "<polyline clip-path=\"url(#clip642)\" style=\"stroke:#000000; stroke-linecap:round; stroke-linejoin:round; stroke-width:4; stroke-opacity:1; fill:none\" points=\"8054.07,1423.18 8054.07,1423.18 8095.04,1423.18 8054.07,1423.18 \"/>\n",
       "<path clip-path=\"url(#clip642)\" d=\"M8095.04 1423.18 L8095.04 1423.18 L8136.01 1423.18 L8136.01 1423.18 L8095.04 1423.18 L8095.04 1423.18  Z\" fill=\"#009af9\" fill-rule=\"evenodd\" fill-opacity=\"1\"/>\n",
       "<polyline clip-path=\"url(#clip642)\" style=\"stroke:#000000; stroke-linecap:round; stroke-linejoin:round; stroke-width:4; stroke-opacity:1; fill:none\" points=\"8095.04,1423.18 8095.04,1423.18 8136.01,1423.18 8095.04,1423.18 \"/>\n",
       "<path clip-path=\"url(#clip642)\" d=\"M8136.01 1270.3 L8136.01 1423.18 L8176.98 1423.18 L8176.98 1270.3 L8136.01 1270.3 L8136.01 1270.3  Z\" fill=\"#009af9\" fill-rule=\"evenodd\" fill-opacity=\"1\"/>\n",
       "<polyline clip-path=\"url(#clip642)\" style=\"stroke:#000000; stroke-linecap:round; stroke-linejoin:round; stroke-width:4; stroke-opacity:1; fill:none\" points=\"8136.01,1270.3 8136.01,1423.18 8176.98,1423.18 8176.98,1270.3 8136.01,1270.3 \"/>\n",
       "<path clip-path=\"url(#clip642)\" d=\"M8176.98 1423.18 L8176.98 1423.18 L8217.95 1423.18 L8217.95 1423.18 L8176.98 1423.18 L8176.98 1423.18  Z\" fill=\"#009af9\" fill-rule=\"evenodd\" fill-opacity=\"1\"/>\n",
       "<polyline clip-path=\"url(#clip642)\" style=\"stroke:#000000; stroke-linecap:round; stroke-linejoin:round; stroke-width:4; stroke-opacity:1; fill:none\" points=\"8176.98,1423.18 8176.98,1423.18 8217.95,1423.18 8176.98,1423.18 \"/>\n",
       "<path clip-path=\"url(#clip642)\" d=\"M8217.95 1423.18 L8217.95 1423.18 L8258.92 1423.18 L8258.92 1423.18 L8217.95 1423.18 L8217.95 1423.18  Z\" fill=\"#009af9\" fill-rule=\"evenodd\" fill-opacity=\"1\"/>\n",
       "<polyline clip-path=\"url(#clip642)\" style=\"stroke:#000000; stroke-linecap:round; stroke-linejoin:round; stroke-width:4; stroke-opacity:1; fill:none\" points=\"8217.95,1423.18 8217.95,1423.18 8258.92,1423.18 8217.95,1423.18 \"/>\n",
       "<path clip-path=\"url(#clip642)\" d=\"M8258.92 1423.18 L8258.92 1423.18 L8299.89 1423.18 L8299.89 1423.18 L8258.92 1423.18 L8258.92 1423.18  Z\" fill=\"#009af9\" fill-rule=\"evenodd\" fill-opacity=\"1\"/>\n",
       "<polyline clip-path=\"url(#clip642)\" style=\"stroke:#000000; stroke-linecap:round; stroke-linejoin:round; stroke-width:4; stroke-opacity:1; fill:none\" points=\"8258.92,1423.18 8258.92,1423.18 8299.89,1423.18 8258.92,1423.18 \"/>\n",
       "<path clip-path=\"url(#clip642)\" d=\"M8299.89 1423.18 L8299.89 1423.18 L8340.86 1423.18 L8340.86 1423.18 L8299.89 1423.18 L8299.89 1423.18  Z\" fill=\"#009af9\" fill-rule=\"evenodd\" fill-opacity=\"1\"/>\n",
       "<polyline clip-path=\"url(#clip642)\" style=\"stroke:#000000; stroke-linecap:round; stroke-linejoin:round; stroke-width:4; stroke-opacity:1; fill:none\" points=\"8299.89,1423.18 8299.89,1423.18 8340.86,1423.18 8299.89,1423.18 \"/>\n",
       "<path clip-path=\"url(#clip642)\" d=\"M8340.86 1270.3 L8340.86 1423.18 L8381.83 1423.18 L8381.83 1270.3 L8340.86 1270.3 L8340.86 1270.3  Z\" fill=\"#009af9\" fill-rule=\"evenodd\" fill-opacity=\"1\"/>\n",
       "<polyline clip-path=\"url(#clip642)\" style=\"stroke:#000000; stroke-linecap:round; stroke-linejoin:round; stroke-width:4; stroke-opacity:1; fill:none\" points=\"8340.86,1270.3 8340.86,1423.18 8381.83,1423.18 8381.83,1270.3 8340.86,1270.3 \"/>\n",
       "<path clip-path=\"url(#clip642)\" d=\"M8381.83 1423.18 L8381.83 1423.18 L8422.8 1423.18 L8422.8 1423.18 L8381.83 1423.18 L8381.83 1423.18  Z\" fill=\"#009af9\" fill-rule=\"evenodd\" fill-opacity=\"1\"/>\n",
       "<polyline clip-path=\"url(#clip642)\" style=\"stroke:#000000; stroke-linecap:round; stroke-linejoin:round; stroke-width:4; stroke-opacity:1; fill:none\" points=\"8381.83,1423.18 8381.83,1423.18 8422.8,1423.18 8381.83,1423.18 \"/>\n",
       "<path clip-path=\"url(#clip642)\" d=\"M8422.8 1270.3 L8422.8 1423.18 L8463.77 1423.18 L8463.77 1270.3 L8422.8 1270.3 L8422.8 1270.3  Z\" fill=\"#009af9\" fill-rule=\"evenodd\" fill-opacity=\"1\"/>\n",
       "<polyline clip-path=\"url(#clip642)\" style=\"stroke:#000000; stroke-linecap:round; stroke-linejoin:round; stroke-width:4; stroke-opacity:1; fill:none\" points=\"8422.8,1270.3 8422.8,1423.18 8463.77,1423.18 8463.77,1270.3 8422.8,1270.3 \"/>\n",
       "<path clip-path=\"url(#clip642)\" d=\"M8463.77 1423.18 L8463.77 1423.18 L8504.74 1423.18 L8504.74 1423.18 L8463.77 1423.18 L8463.77 1423.18  Z\" fill=\"#009af9\" fill-rule=\"evenodd\" fill-opacity=\"1\"/>\n",
       "<polyline clip-path=\"url(#clip642)\" style=\"stroke:#000000; stroke-linecap:round; stroke-linejoin:round; stroke-width:4; stroke-opacity:1; fill:none\" points=\"8463.77,1423.18 8463.77,1423.18 8504.74,1423.18 8463.77,1423.18 \"/>\n",
       "<path clip-path=\"url(#clip642)\" d=\"M8504.74 1423.18 L8504.74 1423.18 L8545.71 1423.18 L8545.71 1423.18 L8504.74 1423.18 L8504.74 1423.18  Z\" fill=\"#009af9\" fill-rule=\"evenodd\" fill-opacity=\"1\"/>\n",
       "<polyline clip-path=\"url(#clip642)\" style=\"stroke:#000000; stroke-linecap:round; stroke-linejoin:round; stroke-width:4; stroke-opacity:1; fill:none\" points=\"8504.74,1423.18 8504.74,1423.18 8545.71,1423.18 8504.74,1423.18 \"/>\n",
       "<path clip-path=\"url(#clip642)\" d=\"M8545.71 1423.18 L8545.71 1423.18 L8586.68 1423.18 L8586.68 1423.18 L8545.71 1423.18 L8545.71 1423.18  Z\" fill=\"#009af9\" fill-rule=\"evenodd\" fill-opacity=\"1\"/>\n",
       "<polyline clip-path=\"url(#clip642)\" style=\"stroke:#000000; stroke-linecap:round; stroke-linejoin:round; stroke-width:4; stroke-opacity:1; fill:none\" points=\"8545.71,1423.18 8545.71,1423.18 8586.68,1423.18 8545.71,1423.18 \"/>\n",
       "<path clip-path=\"url(#clip642)\" d=\"M8586.68 1423.18 L8586.68 1423.18 L8627.65 1423.18 L8627.65 1423.18 L8586.68 1423.18 L8586.68 1423.18  Z\" fill=\"#009af9\" fill-rule=\"evenodd\" fill-opacity=\"1\"/>\n",
       "<polyline clip-path=\"url(#clip642)\" style=\"stroke:#000000; stroke-linecap:round; stroke-linejoin:round; stroke-width:4; stroke-opacity:1; fill:none\" points=\"8586.68,1423.18 8586.68,1423.18 8627.65,1423.18 8586.68,1423.18 \"/>\n",
       "<path clip-path=\"url(#clip642)\" d=\"M8627.65 1270.3 L8627.65 1423.18 L8668.62 1423.18 L8668.62 1270.3 L8627.65 1270.3 L8627.65 1270.3  Z\" fill=\"#009af9\" fill-rule=\"evenodd\" fill-opacity=\"1\"/>\n",
       "<polyline clip-path=\"url(#clip642)\" style=\"stroke:#000000; stroke-linecap:round; stroke-linejoin:round; stroke-width:4; stroke-opacity:1; fill:none\" points=\"8627.65,1270.3 8627.65,1423.18 8668.62,1423.18 8668.62,1270.3 8627.65,1270.3 \"/>\n",
       "<path clip-path=\"url(#clip642)\" d=\"M8668.62 1423.18 L8668.62 1423.18 L8709.59 1423.18 L8709.59 1423.18 L8668.62 1423.18 L8668.62 1423.18  Z\" fill=\"#009af9\" fill-rule=\"evenodd\" fill-opacity=\"1\"/>\n",
       "<polyline clip-path=\"url(#clip642)\" style=\"stroke:#000000; stroke-linecap:round; stroke-linejoin:round; stroke-width:4; stroke-opacity:1; fill:none\" points=\"8668.62,1423.18 8668.62,1423.18 8709.59,1423.18 8668.62,1423.18 \"/>\n",
       "<path clip-path=\"url(#clip642)\" d=\"M8709.59 1423.18 L8709.59 1423.18 L8750.56 1423.18 L8750.56 1423.18 L8709.59 1423.18 L8709.59 1423.18  Z\" fill=\"#009af9\" fill-rule=\"evenodd\" fill-opacity=\"1\"/>\n",
       "<polyline clip-path=\"url(#clip642)\" style=\"stroke:#000000; stroke-linecap:round; stroke-linejoin:round; stroke-width:4; stroke-opacity:1; fill:none\" points=\"8709.59,1423.18 8709.59,1423.18 8750.56,1423.18 8709.59,1423.18 \"/>\n",
       "<path clip-path=\"url(#clip642)\" d=\"M8750.56 1423.18 L8750.56 1423.18 L8791.53 1423.18 L8791.53 1423.18 L8750.56 1423.18 L8750.56 1423.18  Z\" fill=\"#009af9\" fill-rule=\"evenodd\" fill-opacity=\"1\"/>\n",
       "<polyline clip-path=\"url(#clip642)\" style=\"stroke:#000000; stroke-linecap:round; stroke-linejoin:round; stroke-width:4; stroke-opacity:1; fill:none\" points=\"8750.56,1423.18 8750.56,1423.18 8791.53,1423.18 8750.56,1423.18 \"/>\n",
       "<path clip-path=\"url(#clip642)\" d=\"M8791.53 1423.18 L8791.53 1423.18 L8832.5 1423.18 L8832.5 1423.18 L8791.53 1423.18 L8791.53 1423.18  Z\" fill=\"#009af9\" fill-rule=\"evenodd\" fill-opacity=\"1\"/>\n",
       "<polyline clip-path=\"url(#clip642)\" style=\"stroke:#000000; stroke-linecap:round; stroke-linejoin:round; stroke-width:4; stroke-opacity:1; fill:none\" points=\"8791.53,1423.18 8791.53,1423.18 8832.5,1423.18 8791.53,1423.18 \"/>\n",
       "<path clip-path=\"url(#clip642)\" d=\"M8832.5 1270.3 L8832.5 1423.18 L8873.47 1423.18 L8873.47 1270.3 L8832.5 1270.3 L8832.5 1270.3  Z\" fill=\"#009af9\" fill-rule=\"evenodd\" fill-opacity=\"1\"/>\n",
       "<polyline clip-path=\"url(#clip642)\" style=\"stroke:#000000; stroke-linecap:round; stroke-linejoin:round; stroke-width:4; stroke-opacity:1; fill:none\" points=\"8832.5,1270.3 8832.5,1423.18 8873.47,1423.18 8873.47,1270.3 8832.5,1270.3 \"/>\n",
       "<path clip-path=\"url(#clip642)\" d=\"M8873.47 1423.18 L8873.47 1423.18 L8914.44 1423.18 L8914.44 1423.18 L8873.47 1423.18 L8873.47 1423.18  Z\" fill=\"#009af9\" fill-rule=\"evenodd\" fill-opacity=\"1\"/>\n",
       "<polyline clip-path=\"url(#clip642)\" style=\"stroke:#000000; stroke-linecap:round; stroke-linejoin:round; stroke-width:4; stroke-opacity:1; fill:none\" points=\"8873.47,1423.18 8873.47,1423.18 8914.44,1423.18 8873.47,1423.18 \"/>\n",
       "<path clip-path=\"url(#clip642)\" d=\"M8914.44 1423.18 L8914.44 1423.18 L8955.41 1423.18 L8955.41 1423.18 L8914.44 1423.18 L8914.44 1423.18  Z\" fill=\"#009af9\" fill-rule=\"evenodd\" fill-opacity=\"1\"/>\n",
       "<polyline clip-path=\"url(#clip642)\" style=\"stroke:#000000; stroke-linecap:round; stroke-linejoin:round; stroke-width:4; stroke-opacity:1; fill:none\" points=\"8914.44,1423.18 8914.44,1423.18 8955.41,1423.18 8914.44,1423.18 \"/>\n",
       "<path clip-path=\"url(#clip642)\" d=\"M8955.41 1423.18 L8955.41 1423.18 L8996.38 1423.18 L8996.38 1423.18 L8955.41 1423.18 L8955.41 1423.18  Z\" fill=\"#009af9\" fill-rule=\"evenodd\" fill-opacity=\"1\"/>\n",
       "<polyline clip-path=\"url(#clip642)\" style=\"stroke:#000000; stroke-linecap:round; stroke-linejoin:round; stroke-width:4; stroke-opacity:1; fill:none\" points=\"8955.41,1423.18 8955.41,1423.18 8996.38,1423.18 8955.41,1423.18 \"/>\n",
       "<path clip-path=\"url(#clip642)\" d=\"M8996.38 1423.18 L8996.38 1423.18 L9037.35 1423.18 L9037.35 1423.18 L8996.38 1423.18 L8996.38 1423.18  Z\" fill=\"#009af9\" fill-rule=\"evenodd\" fill-opacity=\"1\"/>\n",
       "<polyline clip-path=\"url(#clip642)\" style=\"stroke:#000000; stroke-linecap:round; stroke-linejoin:round; stroke-width:4; stroke-opacity:1; fill:none\" points=\"8996.38,1423.18 8996.38,1423.18 9037.35,1423.18 8996.38,1423.18 \"/>\n",
       "<path clip-path=\"url(#clip642)\" d=\"M9037.35 1423.18 L9037.35 1423.18 L9078.32 1423.18 L9078.32 1423.18 L9037.35 1423.18 L9037.35 1423.18  Z\" fill=\"#009af9\" fill-rule=\"evenodd\" fill-opacity=\"1\"/>\n",
       "<polyline clip-path=\"url(#clip642)\" style=\"stroke:#000000; stroke-linecap:round; stroke-linejoin:round; stroke-width:4; stroke-opacity:1; fill:none\" points=\"9037.35,1423.18 9037.35,1423.18 9078.32,1423.18 9037.35,1423.18 \"/>\n",
       "<path clip-path=\"url(#clip642)\" d=\"M9078.32 1423.18 L9078.32 1423.18 L9119.29 1423.18 L9119.29 1423.18 L9078.32 1423.18 L9078.32 1423.18  Z\" fill=\"#009af9\" fill-rule=\"evenodd\" fill-opacity=\"1\"/>\n",
       "<polyline clip-path=\"url(#clip642)\" style=\"stroke:#000000; stroke-linecap:round; stroke-linejoin:round; stroke-width:4; stroke-opacity:1; fill:none\" points=\"9078.32,1423.18 9078.32,1423.18 9119.29,1423.18 9078.32,1423.18 \"/>\n",
       "<path clip-path=\"url(#clip642)\" d=\"M9119.29 1270.3 L9119.29 1423.18 L9160.26 1423.18 L9160.26 1270.3 L9119.29 1270.3 L9119.29 1270.3  Z\" fill=\"#009af9\" fill-rule=\"evenodd\" fill-opacity=\"1\"/>\n",
       "<polyline clip-path=\"url(#clip642)\" style=\"stroke:#000000; stroke-linecap:round; stroke-linejoin:round; stroke-width:4; stroke-opacity:1; fill:none\" points=\"9119.29,1270.3 9119.29,1423.18 9160.26,1423.18 9160.26,1270.3 9119.29,1270.3 \"/>\n",
       "<path clip-path=\"url(#clip642)\" d=\"M9160.26 1423.18 L9160.26 1423.18 L9201.23 1423.18 L9201.23 1423.18 L9160.26 1423.18 L9160.26 1423.18  Z\" fill=\"#009af9\" fill-rule=\"evenodd\" fill-opacity=\"1\"/>\n",
       "<polyline clip-path=\"url(#clip642)\" style=\"stroke:#000000; stroke-linecap:round; stroke-linejoin:round; stroke-width:4; stroke-opacity:1; fill:none\" points=\"9160.26,1423.18 9160.26,1423.18 9201.23,1423.18 9160.26,1423.18 \"/>\n",
       "<path clip-path=\"url(#clip642)\" d=\"M9201.23 1423.18 L9201.23 1423.18 L9242.2 1423.18 L9242.2 1423.18 L9201.23 1423.18 L9201.23 1423.18  Z\" fill=\"#009af9\" fill-rule=\"evenodd\" fill-opacity=\"1\"/>\n",
       "<polyline clip-path=\"url(#clip642)\" style=\"stroke:#000000; stroke-linecap:round; stroke-linejoin:round; stroke-width:4; stroke-opacity:1; fill:none\" points=\"9201.23,1423.18 9201.23,1423.18 9242.2,1423.18 9201.23,1423.18 \"/>\n",
       "<path clip-path=\"url(#clip642)\" d=\"M9242.2 1423.18 L9242.2 1423.18 L9283.17 1423.18 L9283.17 1423.18 L9242.2 1423.18 L9242.2 1423.18  Z\" fill=\"#009af9\" fill-rule=\"evenodd\" fill-opacity=\"1\"/>\n",
       "<polyline clip-path=\"url(#clip642)\" style=\"stroke:#000000; stroke-linecap:round; stroke-linejoin:round; stroke-width:4; stroke-opacity:1; fill:none\" points=\"9242.2,1423.18 9242.2,1423.18 9283.17,1423.18 9242.2,1423.18 \"/>\n",
       "<path clip-path=\"url(#clip642)\" d=\"M9283.17 1423.18 L9283.17 1423.18 L9324.14 1423.18 L9324.14 1423.18 L9283.17 1423.18 L9283.17 1423.18  Z\" fill=\"#009af9\" fill-rule=\"evenodd\" fill-opacity=\"1\"/>\n",
       "<polyline clip-path=\"url(#clip642)\" style=\"stroke:#000000; stroke-linecap:round; stroke-linejoin:round; stroke-width:4; stroke-opacity:1; fill:none\" points=\"9283.17,1423.18 9283.17,1423.18 9324.14,1423.18 9283.17,1423.18 \"/>\n",
       "<path clip-path=\"url(#clip642)\" d=\"M9324.14 1423.18 L9324.14 1423.18 L9365.11 1423.18 L9365.11 1423.18 L9324.14 1423.18 L9324.14 1423.18  Z\" fill=\"#009af9\" fill-rule=\"evenodd\" fill-opacity=\"1\"/>\n",
       "<polyline clip-path=\"url(#clip642)\" style=\"stroke:#000000; stroke-linecap:round; stroke-linejoin:round; stroke-width:4; stroke-opacity:1; fill:none\" points=\"9324.14,1423.18 9324.14,1423.18 9365.11,1423.18 9324.14,1423.18 \"/>\n",
       "<path clip-path=\"url(#clip642)\" d=\"M9365.11 1423.18 L9365.11 1423.18 L9406.08 1423.18 L9406.08 1423.18 L9365.11 1423.18 L9365.11 1423.18  Z\" fill=\"#009af9\" fill-rule=\"evenodd\" fill-opacity=\"1\"/>\n",
       "<polyline clip-path=\"url(#clip642)\" style=\"stroke:#000000; stroke-linecap:round; stroke-linejoin:round; stroke-width:4; stroke-opacity:1; fill:none\" points=\"9365.11,1423.18 9365.11,1423.18 9406.08,1423.18 9365.11,1423.18 \"/>\n",
       "<path clip-path=\"url(#clip642)\" d=\"M9406.08 1423.18 L9406.08 1423.18 L9447.05 1423.18 L9447.05 1423.18 L9406.08 1423.18 L9406.08 1423.18  Z\" fill=\"#009af9\" fill-rule=\"evenodd\" fill-opacity=\"1\"/>\n",
       "<polyline clip-path=\"url(#clip642)\" style=\"stroke:#000000; stroke-linecap:round; stroke-linejoin:round; stroke-width:4; stroke-opacity:1; fill:none\" points=\"9406.08,1423.18 9406.08,1423.18 9447.05,1423.18 9406.08,1423.18 \"/>\n",
       "<path clip-path=\"url(#clip642)\" d=\"M9447.05 1423.18 L9447.05 1423.18 L9488.02 1423.18 L9488.02 1423.18 L9447.05 1423.18 L9447.05 1423.18  Z\" fill=\"#009af9\" fill-rule=\"evenodd\" fill-opacity=\"1\"/>\n",
       "<polyline clip-path=\"url(#clip642)\" style=\"stroke:#000000; stroke-linecap:round; stroke-linejoin:round; stroke-width:4; stroke-opacity:1; fill:none\" points=\"9447.05,1423.18 9447.05,1423.18 9488.02,1423.18 9447.05,1423.18 \"/>\n",
       "<path clip-path=\"url(#clip642)\" d=\"M9488.02 1423.18 L9488.02 1423.18 L9528.99 1423.18 L9528.99 1423.18 L9488.02 1423.18 L9488.02 1423.18  Z\" fill=\"#009af9\" fill-rule=\"evenodd\" fill-opacity=\"1\"/>\n",
       "<polyline clip-path=\"url(#clip642)\" style=\"stroke:#000000; stroke-linecap:round; stroke-linejoin:round; stroke-width:4; stroke-opacity:1; fill:none\" points=\"9488.02,1423.18 9488.02,1423.18 9528.99,1423.18 9488.02,1423.18 \"/>\n",
       "<path clip-path=\"url(#clip642)\" d=\"M9528.99 1423.18 L9528.99 1423.18 L9569.96 1423.18 L9569.96 1423.18 L9528.99 1423.18 L9528.99 1423.18  Z\" fill=\"#009af9\" fill-rule=\"evenodd\" fill-opacity=\"1\"/>\n",
       "<polyline clip-path=\"url(#clip642)\" style=\"stroke:#000000; stroke-linecap:round; stroke-linejoin:round; stroke-width:4; stroke-opacity:1; fill:none\" points=\"9528.99,1423.18 9528.99,1423.18 9569.96,1423.18 9528.99,1423.18 \"/>\n",
       "<path clip-path=\"url(#clip642)\" d=\"M9569.96 1423.18 L9569.96 1423.18 L9610.93 1423.18 L9610.93 1423.18 L9569.96 1423.18 L9569.96 1423.18  Z\" fill=\"#009af9\" fill-rule=\"evenodd\" fill-opacity=\"1\"/>\n",
       "<polyline clip-path=\"url(#clip642)\" style=\"stroke:#000000; stroke-linecap:round; stroke-linejoin:round; stroke-width:4; stroke-opacity:1; fill:none\" points=\"9569.96,1423.18 9569.96,1423.18 9610.93,1423.18 9569.96,1423.18 \"/>\n",
       "<path clip-path=\"url(#clip642)\" d=\"M9610.93 1423.18 L9610.93 1423.18 L9651.9 1423.18 L9651.9 1423.18 L9610.93 1423.18 L9610.93 1423.18  Z\" fill=\"#009af9\" fill-rule=\"evenodd\" fill-opacity=\"1\"/>\n",
       "<polyline clip-path=\"url(#clip642)\" style=\"stroke:#000000; stroke-linecap:round; stroke-linejoin:round; stroke-width:4; stroke-opacity:1; fill:none\" points=\"9610.93,1423.18 9610.93,1423.18 9651.9,1423.18 9610.93,1423.18 \"/>\n",
       "<path clip-path=\"url(#clip642)\" d=\"M9651.9 1423.18 L9651.9 1423.18 L9692.87 1423.18 L9692.87 1423.18 L9651.9 1423.18 L9651.9 1423.18  Z\" fill=\"#009af9\" fill-rule=\"evenodd\" fill-opacity=\"1\"/>\n",
       "<polyline clip-path=\"url(#clip642)\" style=\"stroke:#000000; stroke-linecap:round; stroke-linejoin:round; stroke-width:4; stroke-opacity:1; fill:none\" points=\"9651.9,1423.18 9651.9,1423.18 9692.87,1423.18 9651.9,1423.18 \"/>\n",
       "<path clip-path=\"url(#clip642)\" d=\"M9692.87 1423.18 L9692.87 1423.18 L9733.84 1423.18 L9733.84 1423.18 L9692.87 1423.18 L9692.87 1423.18  Z\" fill=\"#009af9\" fill-rule=\"evenodd\" fill-opacity=\"1\"/>\n",
       "<polyline clip-path=\"url(#clip642)\" style=\"stroke:#000000; stroke-linecap:round; stroke-linejoin:round; stroke-width:4; stroke-opacity:1; fill:none\" points=\"9692.87,1423.18 9692.87,1423.18 9733.84,1423.18 9692.87,1423.18 \"/>\n",
       "<path clip-path=\"url(#clip642)\" d=\"M9733.84 1423.18 L9733.84 1423.18 L9774.81 1423.18 L9774.81 1423.18 L9733.84 1423.18 L9733.84 1423.18  Z\" fill=\"#009af9\" fill-rule=\"evenodd\" fill-opacity=\"1\"/>\n",
       "<polyline clip-path=\"url(#clip642)\" style=\"stroke:#000000; stroke-linecap:round; stroke-linejoin:round; stroke-width:4; stroke-opacity:1; fill:none\" points=\"9733.84,1423.18 9733.84,1423.18 9774.81,1423.18 9733.84,1423.18 \"/>\n",
       "<path clip-path=\"url(#clip642)\" d=\"M9774.81 1423.18 L9774.81 1423.18 L9815.78 1423.18 L9815.78 1423.18 L9774.81 1423.18 L9774.81 1423.18  Z\" fill=\"#009af9\" fill-rule=\"evenodd\" fill-opacity=\"1\"/>\n",
       "<polyline clip-path=\"url(#clip642)\" style=\"stroke:#000000; stroke-linecap:round; stroke-linejoin:round; stroke-width:4; stroke-opacity:1; fill:none\" points=\"9774.81,1423.18 9774.81,1423.18 9815.78,1423.18 9774.81,1423.18 \"/>\n",
       "<path clip-path=\"url(#clip642)\" d=\"M9815.78 1423.18 L9815.78 1423.18 L9856.75 1423.18 L9856.75 1423.18 L9815.78 1423.18 L9815.78 1423.18  Z\" fill=\"#009af9\" fill-rule=\"evenodd\" fill-opacity=\"1\"/>\n",
       "<polyline clip-path=\"url(#clip642)\" style=\"stroke:#000000; stroke-linecap:round; stroke-linejoin:round; stroke-width:4; stroke-opacity:1; fill:none\" points=\"9815.78,1423.18 9815.78,1423.18 9856.75,1423.18 9815.78,1423.18 \"/>\n",
       "<path clip-path=\"url(#clip642)\" d=\"M9856.75 1423.18 L9856.75 1423.18 L9897.72 1423.18 L9897.72 1423.18 L9856.75 1423.18 L9856.75 1423.18  Z\" fill=\"#009af9\" fill-rule=\"evenodd\" fill-opacity=\"1\"/>\n",
       "<polyline clip-path=\"url(#clip642)\" style=\"stroke:#000000; stroke-linecap:round; stroke-linejoin:round; stroke-width:4; stroke-opacity:1; fill:none\" points=\"9856.75,1423.18 9856.75,1423.18 9897.72,1423.18 9856.75,1423.18 \"/>\n",
       "<path clip-path=\"url(#clip642)\" d=\"M9897.72 1423.18 L9897.72 1423.18 L9938.69 1423.18 L9938.69 1423.18 L9897.72 1423.18 L9897.72 1423.18  Z\" fill=\"#009af9\" fill-rule=\"evenodd\" fill-opacity=\"1\"/>\n",
       "<polyline clip-path=\"url(#clip642)\" style=\"stroke:#000000; stroke-linecap:round; stroke-linejoin:round; stroke-width:4; stroke-opacity:1; fill:none\" points=\"9897.72,1423.18 9897.72,1423.18 9938.69,1423.18 9897.72,1423.18 \"/>\n",
       "<path clip-path=\"url(#clip642)\" d=\"M9938.69 1423.18 L9938.69 1423.18 L9979.66 1423.18 L9979.66 1423.18 L9938.69 1423.18 L9938.69 1423.18  Z\" fill=\"#009af9\" fill-rule=\"evenodd\" fill-opacity=\"1\"/>\n",
       "<polyline clip-path=\"url(#clip642)\" style=\"stroke:#000000; stroke-linecap:round; stroke-linejoin:round; stroke-width:4; stroke-opacity:1; fill:none\" points=\"9938.69,1423.18 9938.69,1423.18 9979.66,1423.18 9938.69,1423.18 \"/>\n",
       "<path clip-path=\"url(#clip642)\" d=\"M9979.66 1423.18 L9979.66 1423.18 L10020.6 1423.18 L10020.6 1423.18 L9979.66 1423.18 L9979.66 1423.18  Z\" fill=\"#009af9\" fill-rule=\"evenodd\" fill-opacity=\"1\"/>\n",
       "<polyline clip-path=\"url(#clip642)\" style=\"stroke:#000000; stroke-linecap:round; stroke-linejoin:round; stroke-width:4; stroke-opacity:1; fill:none\" points=\"9979.66,1423.18 9979.66,1423.18 10020.6,1423.18 9979.66,1423.18 \"/>\n",
       "<path clip-path=\"url(#clip642)\" d=\"M10020.6 1423.18 L10020.6 1423.18 L10061.6 1423.18 L10061.6 1423.18 L10020.6 1423.18 L10020.6 1423.18  Z\" fill=\"#009af9\" fill-rule=\"evenodd\" fill-opacity=\"1\"/>\n",
       "<polyline clip-path=\"url(#clip642)\" style=\"stroke:#000000; stroke-linecap:round; stroke-linejoin:round; stroke-width:4; stroke-opacity:1; fill:none\" points=\"10020.6,1423.18 10020.6,1423.18 10061.6,1423.18 10020.6,1423.18 \"/>\n",
       "<path clip-path=\"url(#clip642)\" d=\"M10061.6 1423.18 L10061.6 1423.18 L10102.6 1423.18 L10102.6 1423.18 L10061.6 1423.18 L10061.6 1423.18  Z\" fill=\"#009af9\" fill-rule=\"evenodd\" fill-opacity=\"1\"/>\n",
       "<polyline clip-path=\"url(#clip642)\" style=\"stroke:#000000; stroke-linecap:round; stroke-linejoin:round; stroke-width:4; stroke-opacity:1; fill:none\" points=\"10061.6,1423.18 10061.6,1423.18 10102.6,1423.18 10061.6,1423.18 \"/>\n",
       "<path clip-path=\"url(#clip642)\" d=\"M10102.6 1423.18 L10102.6 1423.18 L10143.5 1423.18 L10143.5 1423.18 L10102.6 1423.18 L10102.6 1423.18  Z\" fill=\"#009af9\" fill-rule=\"evenodd\" fill-opacity=\"1\"/>\n",
       "<polyline clip-path=\"url(#clip642)\" style=\"stroke:#000000; stroke-linecap:round; stroke-linejoin:round; stroke-width:4; stroke-opacity:1; fill:none\" points=\"10102.6,1423.18 10102.6,1423.18 10143.5,1423.18 10102.6,1423.18 \"/>\n",
       "<path clip-path=\"url(#clip642)\" d=\"M10143.5 1270.3 L10143.5 1423.18 L10184.5 1423.18 L10184.5 1270.3 L10143.5 1270.3 L10143.5 1270.3  Z\" fill=\"#009af9\" fill-rule=\"evenodd\" fill-opacity=\"1\"/>\n",
       "<polyline clip-path=\"url(#clip642)\" style=\"stroke:#000000; stroke-linecap:round; stroke-linejoin:round; stroke-width:4; stroke-opacity:1; fill:none\" points=\"10143.5,1270.3 10143.5,1423.18 10184.5,1423.18 10184.5,1270.3 10143.5,1270.3 \"/>\n",
       "<path clip-path=\"url(#clip642)\" d=\"M10184.5 1423.18 L10184.5 1423.18 L10225.5 1423.18 L10225.5 1423.18 L10184.5 1423.18 L10184.5 1423.18  Z\" fill=\"#009af9\" fill-rule=\"evenodd\" fill-opacity=\"1\"/>\n",
       "<polyline clip-path=\"url(#clip642)\" style=\"stroke:#000000; stroke-linecap:round; stroke-linejoin:round; stroke-width:4; stroke-opacity:1; fill:none\" points=\"10184.5,1423.18 10184.5,1423.18 10225.5,1423.18 10184.5,1423.18 \"/>\n",
       "<path clip-path=\"url(#clip642)\" d=\"M10225.5 1423.18 L10225.5 1423.18 L10266.5 1423.18 L10266.5 1423.18 L10225.5 1423.18 L10225.5 1423.18  Z\" fill=\"#009af9\" fill-rule=\"evenodd\" fill-opacity=\"1\"/>\n",
       "<polyline clip-path=\"url(#clip642)\" style=\"stroke:#000000; stroke-linecap:round; stroke-linejoin:round; stroke-width:4; stroke-opacity:1; fill:none\" points=\"10225.5,1423.18 10225.5,1423.18 10266.5,1423.18 10225.5,1423.18 \"/>\n",
       "<path clip-path=\"url(#clip642)\" d=\"M10266.5 1423.18 L10266.5 1423.18 L10307.4 1423.18 L10307.4 1423.18 L10266.5 1423.18 L10266.5 1423.18  Z\" fill=\"#009af9\" fill-rule=\"evenodd\" fill-opacity=\"1\"/>\n",
       "<polyline clip-path=\"url(#clip642)\" style=\"stroke:#000000; stroke-linecap:round; stroke-linejoin:round; stroke-width:4; stroke-opacity:1; fill:none\" points=\"10266.5,1423.18 10266.5,1423.18 10307.4,1423.18 10266.5,1423.18 \"/>\n",
       "<path clip-path=\"url(#clip642)\" d=\"M10307.4 1423.18 L10307.4 1423.18 L10348.4 1423.18 L10348.4 1423.18 L10307.4 1423.18 L10307.4 1423.18  Z\" fill=\"#009af9\" fill-rule=\"evenodd\" fill-opacity=\"1\"/>\n",
       "<polyline clip-path=\"url(#clip642)\" style=\"stroke:#000000; stroke-linecap:round; stroke-linejoin:round; stroke-width:4; stroke-opacity:1; fill:none\" points=\"10307.4,1423.18 10307.4,1423.18 10348.4,1423.18 10307.4,1423.18 \"/>\n",
       "<path clip-path=\"url(#clip642)\" d=\"M10348.4 1423.18 L10348.4 1423.18 L10389.4 1423.18 L10389.4 1423.18 L10348.4 1423.18 L10348.4 1423.18  Z\" fill=\"#009af9\" fill-rule=\"evenodd\" fill-opacity=\"1\"/>\n",
       "<polyline clip-path=\"url(#clip642)\" style=\"stroke:#000000; stroke-linecap:round; stroke-linejoin:round; stroke-width:4; stroke-opacity:1; fill:none\" points=\"10348.4,1423.18 10348.4,1423.18 10389.4,1423.18 10348.4,1423.18 \"/>\n",
       "<path clip-path=\"url(#clip642)\" d=\"M10389.4 1423.18 L10389.4 1423.18 L10430.3 1423.18 L10430.3 1423.18 L10389.4 1423.18 L10389.4 1423.18  Z\" fill=\"#009af9\" fill-rule=\"evenodd\" fill-opacity=\"1\"/>\n",
       "<polyline clip-path=\"url(#clip642)\" style=\"stroke:#000000; stroke-linecap:round; stroke-linejoin:round; stroke-width:4; stroke-opacity:1; fill:none\" points=\"10389.4,1423.18 10389.4,1423.18 10430.3,1423.18 10389.4,1423.18 \"/>\n",
       "<path clip-path=\"url(#clip642)\" d=\"M10430.3 1423.18 L10430.3 1423.18 L10471.3 1423.18 L10471.3 1423.18 L10430.3 1423.18 L10430.3 1423.18  Z\" fill=\"#009af9\" fill-rule=\"evenodd\" fill-opacity=\"1\"/>\n",
       "<polyline clip-path=\"url(#clip642)\" style=\"stroke:#000000; stroke-linecap:round; stroke-linejoin:round; stroke-width:4; stroke-opacity:1; fill:none\" points=\"10430.3,1423.18 10430.3,1423.18 10471.3,1423.18 10430.3,1423.18 \"/>\n",
       "<path clip-path=\"url(#clip642)\" d=\"M10471.3 1423.18 L10471.3 1423.18 L10512.3 1423.18 L10512.3 1423.18 L10471.3 1423.18 L10471.3 1423.18  Z\" fill=\"#009af9\" fill-rule=\"evenodd\" fill-opacity=\"1\"/>\n",
       "<polyline clip-path=\"url(#clip642)\" style=\"stroke:#000000; stroke-linecap:round; stroke-linejoin:round; stroke-width:4; stroke-opacity:1; fill:none\" points=\"10471.3,1423.18 10471.3,1423.18 10512.3,1423.18 10471.3,1423.18 \"/>\n",
       "<path clip-path=\"url(#clip642)\" d=\"M10512.3 1423.18 L10512.3 1423.18 L10553.2 1423.18 L10553.2 1423.18 L10512.3 1423.18 L10512.3 1423.18  Z\" fill=\"#009af9\" fill-rule=\"evenodd\" fill-opacity=\"1\"/>\n",
       "<polyline clip-path=\"url(#clip642)\" style=\"stroke:#000000; stroke-linecap:round; stroke-linejoin:round; stroke-width:4; stroke-opacity:1; fill:none\" points=\"10512.3,1423.18 10512.3,1423.18 10553.2,1423.18 10512.3,1423.18 \"/>\n",
       "<path clip-path=\"url(#clip642)\" d=\"M10553.2 1423.18 L10553.2 1423.18 L10594.2 1423.18 L10594.2 1423.18 L10553.2 1423.18 L10553.2 1423.18  Z\" fill=\"#009af9\" fill-rule=\"evenodd\" fill-opacity=\"1\"/>\n",
       "<polyline clip-path=\"url(#clip642)\" style=\"stroke:#000000; stroke-linecap:round; stroke-linejoin:round; stroke-width:4; stroke-opacity:1; fill:none\" points=\"10553.2,1423.18 10553.2,1423.18 10594.2,1423.18 10553.2,1423.18 \"/>\n",
       "<path clip-path=\"url(#clip642)\" d=\"M10594.2 1423.18 L10594.2 1423.18 L10635.2 1423.18 L10635.2 1423.18 L10594.2 1423.18 L10594.2 1423.18  Z\" fill=\"#009af9\" fill-rule=\"evenodd\" fill-opacity=\"1\"/>\n",
       "<polyline clip-path=\"url(#clip642)\" style=\"stroke:#000000; stroke-linecap:round; stroke-linejoin:round; stroke-width:4; stroke-opacity:1; fill:none\" points=\"10594.2,1423.18 10594.2,1423.18 10635.2,1423.18 10594.2,1423.18 \"/>\n",
       "<path clip-path=\"url(#clip642)\" d=\"M10635.2 1423.18 L10635.2 1423.18 L10676.2 1423.18 L10676.2 1423.18 L10635.2 1423.18 L10635.2 1423.18  Z\" fill=\"#009af9\" fill-rule=\"evenodd\" fill-opacity=\"1\"/>\n",
       "<polyline clip-path=\"url(#clip642)\" style=\"stroke:#000000; stroke-linecap:round; stroke-linejoin:round; stroke-width:4; stroke-opacity:1; fill:none\" points=\"10635.2,1423.18 10635.2,1423.18 10676.2,1423.18 10635.2,1423.18 \"/>\n",
       "<path clip-path=\"url(#clip642)\" d=\"M10676.2 1423.18 L10676.2 1423.18 L10717.1 1423.18 L10717.1 1423.18 L10676.2 1423.18 L10676.2 1423.18  Z\" fill=\"#009af9\" fill-rule=\"evenodd\" fill-opacity=\"1\"/>\n",
       "<polyline clip-path=\"url(#clip642)\" style=\"stroke:#000000; stroke-linecap:round; stroke-linejoin:round; stroke-width:4; stroke-opacity:1; fill:none\" points=\"10676.2,1423.18 10676.2,1423.18 10717.1,1423.18 10676.2,1423.18 \"/>\n",
       "<path clip-path=\"url(#clip642)\" d=\"M10717.1 1423.18 L10717.1 1423.18 L10758.1 1423.18 L10758.1 1423.18 L10717.1 1423.18 L10717.1 1423.18  Z\" fill=\"#009af9\" fill-rule=\"evenodd\" fill-opacity=\"1\"/>\n",
       "<polyline clip-path=\"url(#clip642)\" style=\"stroke:#000000; stroke-linecap:round; stroke-linejoin:round; stroke-width:4; stroke-opacity:1; fill:none\" points=\"10717.1,1423.18 10717.1,1423.18 10758.1,1423.18 10717.1,1423.18 \"/>\n",
       "<path clip-path=\"url(#clip642)\" d=\"M10758.1 1423.18 L10758.1 1423.18 L10799.1 1423.18 L10799.1 1423.18 L10758.1 1423.18 L10758.1 1423.18  Z\" fill=\"#009af9\" fill-rule=\"evenodd\" fill-opacity=\"1\"/>\n",
       "<polyline clip-path=\"url(#clip642)\" style=\"stroke:#000000; stroke-linecap:round; stroke-linejoin:round; stroke-width:4; stroke-opacity:1; fill:none\" points=\"10758.1,1423.18 10758.1,1423.18 10799.1,1423.18 10758.1,1423.18 \"/>\n",
       "<path clip-path=\"url(#clip642)\" d=\"M10799.1 1423.18 L10799.1 1423.18 L10840 1423.18 L10840 1423.18 L10799.1 1423.18 L10799.1 1423.18  Z\" fill=\"#009af9\" fill-rule=\"evenodd\" fill-opacity=\"1\"/>\n",
       "<polyline clip-path=\"url(#clip642)\" style=\"stroke:#000000; stroke-linecap:round; stroke-linejoin:round; stroke-width:4; stroke-opacity:1; fill:none\" points=\"10799.1,1423.18 10799.1,1423.18 10840,1423.18 10799.1,1423.18 \"/>\n",
       "<path clip-path=\"url(#clip642)\" d=\"M10840 1423.18 L10840 1423.18 L10881 1423.18 L10881 1423.18 L10840 1423.18 L10840 1423.18  Z\" fill=\"#009af9\" fill-rule=\"evenodd\" fill-opacity=\"1\"/>\n",
       "<polyline clip-path=\"url(#clip642)\" style=\"stroke:#000000; stroke-linecap:round; stroke-linejoin:round; stroke-width:4; stroke-opacity:1; fill:none\" points=\"10840,1423.18 10840,1423.18 10881,1423.18 10840,1423.18 \"/>\n",
       "<path clip-path=\"url(#clip642)\" d=\"M10881 1423.18 L10881 1423.18 L10922 1423.18 L10922 1423.18 L10881 1423.18 L10881 1423.18  Z\" fill=\"#009af9\" fill-rule=\"evenodd\" fill-opacity=\"1\"/>\n",
       "<polyline clip-path=\"url(#clip642)\" style=\"stroke:#000000; stroke-linecap:round; stroke-linejoin:round; stroke-width:4; stroke-opacity:1; fill:none\" points=\"10881,1423.18 10881,1423.18 10922,1423.18 10881,1423.18 \"/>\n",
       "<path clip-path=\"url(#clip642)\" d=\"M10922 1423.18 L10922 1423.18 L10962.9 1423.18 L10962.9 1423.18 L10922 1423.18 L10922 1423.18  Z\" fill=\"#009af9\" fill-rule=\"evenodd\" fill-opacity=\"1\"/>\n",
       "<polyline clip-path=\"url(#clip642)\" style=\"stroke:#000000; stroke-linecap:round; stroke-linejoin:round; stroke-width:4; stroke-opacity:1; fill:none\" points=\"10922,1423.18 10922,1423.18 10962.9,1423.18 10922,1423.18 \"/>\n",
       "<path clip-path=\"url(#clip642)\" d=\"M10962.9 1423.18 L10962.9 1423.18 L11003.9 1423.18 L11003.9 1423.18 L10962.9 1423.18 L10962.9 1423.18  Z\" fill=\"#009af9\" fill-rule=\"evenodd\" fill-opacity=\"1\"/>\n",
       "<polyline clip-path=\"url(#clip642)\" style=\"stroke:#000000; stroke-linecap:round; stroke-linejoin:round; stroke-width:4; stroke-opacity:1; fill:none\" points=\"10962.9,1423.18 10962.9,1423.18 11003.9,1423.18 10962.9,1423.18 \"/>\n",
       "<path clip-path=\"url(#clip642)\" d=\"M11003.9 1423.18 L11003.9 1423.18 L11044.9 1423.18 L11044.9 1423.18 L11003.9 1423.18 L11003.9 1423.18  Z\" fill=\"#009af9\" fill-rule=\"evenodd\" fill-opacity=\"1\"/>\n",
       "<polyline clip-path=\"url(#clip642)\" style=\"stroke:#000000; stroke-linecap:round; stroke-linejoin:round; stroke-width:4; stroke-opacity:1; fill:none\" points=\"11003.9,1423.18 11003.9,1423.18 11044.9,1423.18 11003.9,1423.18 \"/>\n",
       "<path clip-path=\"url(#clip642)\" d=\"M11044.9 1270.3 L11044.9 1423.18 L11085.9 1423.18 L11085.9 1270.3 L11044.9 1270.3 L11044.9 1270.3  Z\" fill=\"#009af9\" fill-rule=\"evenodd\" fill-opacity=\"1\"/>\n",
       "<polyline clip-path=\"url(#clip642)\" style=\"stroke:#000000; stroke-linecap:round; stroke-linejoin:round; stroke-width:4; stroke-opacity:1; fill:none\" points=\"11044.9,1270.3 11044.9,1423.18 11085.9,1423.18 11085.9,1270.3 11044.9,1270.3 \"/>\n",
       "<path clip-path=\"url(#clip642)\" d=\"M11085.9 1423.18 L11085.9 1423.18 L11126.8 1423.18 L11126.8 1423.18 L11085.9 1423.18 L11085.9 1423.18  Z\" fill=\"#009af9\" fill-rule=\"evenodd\" fill-opacity=\"1\"/>\n",
       "<polyline clip-path=\"url(#clip642)\" style=\"stroke:#000000; stroke-linecap:round; stroke-linejoin:round; stroke-width:4; stroke-opacity:1; fill:none\" points=\"11085.9,1423.18 11085.9,1423.18 11126.8,1423.18 11085.9,1423.18 \"/>\n",
       "<path clip-path=\"url(#clip642)\" d=\"M11126.8 1423.18 L11126.8 1423.18 L11167.8 1423.18 L11167.8 1423.18 L11126.8 1423.18 L11126.8 1423.18  Z\" fill=\"#009af9\" fill-rule=\"evenodd\" fill-opacity=\"1\"/>\n",
       "<polyline clip-path=\"url(#clip642)\" style=\"stroke:#000000; stroke-linecap:round; stroke-linejoin:round; stroke-width:4; stroke-opacity:1; fill:none\" points=\"11126.8,1423.18 11126.8,1423.18 11167.8,1423.18 11126.8,1423.18 \"/>\n",
       "<path clip-path=\"url(#clip642)\" d=\"M11167.8 1423.18 L11167.8 1423.18 L11208.8 1423.18 L11208.8 1423.18 L11167.8 1423.18 L11167.8 1423.18  Z\" fill=\"#009af9\" fill-rule=\"evenodd\" fill-opacity=\"1\"/>\n",
       "<polyline clip-path=\"url(#clip642)\" style=\"stroke:#000000; stroke-linecap:round; stroke-linejoin:round; stroke-width:4; stroke-opacity:1; fill:none\" points=\"11167.8,1423.18 11167.8,1423.18 11208.8,1423.18 11167.8,1423.18 \"/>\n",
       "<path clip-path=\"url(#clip642)\" d=\"M11208.8 1423.18 L11208.8 1423.18 L11249.7 1423.18 L11249.7 1423.18 L11208.8 1423.18 L11208.8 1423.18  Z\" fill=\"#009af9\" fill-rule=\"evenodd\" fill-opacity=\"1\"/>\n",
       "<polyline clip-path=\"url(#clip642)\" style=\"stroke:#000000; stroke-linecap:round; stroke-linejoin:round; stroke-width:4; stroke-opacity:1; fill:none\" points=\"11208.8,1423.18 11208.8,1423.18 11249.7,1423.18 11208.8,1423.18 \"/>\n",
       "<path clip-path=\"url(#clip642)\" d=\"M11249.7 1423.18 L11249.7 1423.18 L11290.7 1423.18 L11290.7 1423.18 L11249.7 1423.18 L11249.7 1423.18  Z\" fill=\"#009af9\" fill-rule=\"evenodd\" fill-opacity=\"1\"/>\n",
       "<polyline clip-path=\"url(#clip642)\" style=\"stroke:#000000; stroke-linecap:round; stroke-linejoin:round; stroke-width:4; stroke-opacity:1; fill:none\" points=\"11249.7,1423.18 11249.7,1423.18 11290.7,1423.18 11249.7,1423.18 \"/>\n",
       "<path clip-path=\"url(#clip642)\" d=\"M11290.7 1423.18 L11290.7 1423.18 L11331.7 1423.18 L11331.7 1423.18 L11290.7 1423.18 L11290.7 1423.18  Z\" fill=\"#009af9\" fill-rule=\"evenodd\" fill-opacity=\"1\"/>\n",
       "<polyline clip-path=\"url(#clip642)\" style=\"stroke:#000000; stroke-linecap:round; stroke-linejoin:round; stroke-width:4; stroke-opacity:1; fill:none\" points=\"11290.7,1423.18 11290.7,1423.18 11331.7,1423.18 11290.7,1423.18 \"/>\n",
       "<path clip-path=\"url(#clip642)\" d=\"M11331.7 1423.18 L11331.7 1423.18 L11372.6 1423.18 L11372.6 1423.18 L11331.7 1423.18 L11331.7 1423.18  Z\" fill=\"#009af9\" fill-rule=\"evenodd\" fill-opacity=\"1\"/>\n",
       "<polyline clip-path=\"url(#clip642)\" style=\"stroke:#000000; stroke-linecap:round; stroke-linejoin:round; stroke-width:4; stroke-opacity:1; fill:none\" points=\"11331.7,1423.18 11331.7,1423.18 11372.6,1423.18 11331.7,1423.18 \"/>\n",
       "<path clip-path=\"url(#clip642)\" d=\"M11372.6 1423.18 L11372.6 1423.18 L11413.6 1423.18 L11413.6 1423.18 L11372.6 1423.18 L11372.6 1423.18  Z\" fill=\"#009af9\" fill-rule=\"evenodd\" fill-opacity=\"1\"/>\n",
       "<polyline clip-path=\"url(#clip642)\" style=\"stroke:#000000; stroke-linecap:round; stroke-linejoin:round; stroke-width:4; stroke-opacity:1; fill:none\" points=\"11372.6,1423.18 11372.6,1423.18 11413.6,1423.18 11372.6,1423.18 \"/>\n",
       "<path clip-path=\"url(#clip642)\" d=\"M11413.6 1423.18 L11413.6 1423.18 L11454.6 1423.18 L11454.6 1423.18 L11413.6 1423.18 L11413.6 1423.18  Z\" fill=\"#009af9\" fill-rule=\"evenodd\" fill-opacity=\"1\"/>\n",
       "<polyline clip-path=\"url(#clip642)\" style=\"stroke:#000000; stroke-linecap:round; stroke-linejoin:round; stroke-width:4; stroke-opacity:1; fill:none\" points=\"11413.6,1423.18 11413.6,1423.18 11454.6,1423.18 11413.6,1423.18 \"/>\n",
       "<path clip-path=\"url(#clip642)\" d=\"M11454.6 1423.18 L11454.6 1423.18 L11495.6 1423.18 L11495.6 1423.18 L11454.6 1423.18 L11454.6 1423.18  Z\" fill=\"#009af9\" fill-rule=\"evenodd\" fill-opacity=\"1\"/>\n",
       "<polyline clip-path=\"url(#clip642)\" style=\"stroke:#000000; stroke-linecap:round; stroke-linejoin:round; stroke-width:4; stroke-opacity:1; fill:none\" points=\"11454.6,1423.18 11454.6,1423.18 11495.6,1423.18 11454.6,1423.18 \"/>\n",
       "<path clip-path=\"url(#clip642)\" d=\"M11495.6 1423.18 L11495.6 1423.18 L11536.5 1423.18 L11536.5 1423.18 L11495.6 1423.18 L11495.6 1423.18  Z\" fill=\"#009af9\" fill-rule=\"evenodd\" fill-opacity=\"1\"/>\n",
       "<polyline clip-path=\"url(#clip642)\" style=\"stroke:#000000; stroke-linecap:round; stroke-linejoin:round; stroke-width:4; stroke-opacity:1; fill:none\" points=\"11495.6,1423.18 11495.6,1423.18 11536.5,1423.18 11495.6,1423.18 \"/>\n",
       "<path clip-path=\"url(#clip642)\" d=\"M11536.5 1423.18 L11536.5 1423.18 L11577.5 1423.18 L11577.5 1423.18 L11536.5 1423.18 L11536.5 1423.18  Z\" fill=\"#009af9\" fill-rule=\"evenodd\" fill-opacity=\"1\"/>\n",
       "<polyline clip-path=\"url(#clip642)\" style=\"stroke:#000000; stroke-linecap:round; stroke-linejoin:round; stroke-width:4; stroke-opacity:1; fill:none\" points=\"11536.5,1423.18 11536.5,1423.18 11577.5,1423.18 11536.5,1423.18 \"/>\n",
       "<path clip-path=\"url(#clip642)\" d=\"M11577.5 1423.18 L11577.5 1423.18 L11618.5 1423.18 L11618.5 1423.18 L11577.5 1423.18 L11577.5 1423.18  Z\" fill=\"#009af9\" fill-rule=\"evenodd\" fill-opacity=\"1\"/>\n",
       "<polyline clip-path=\"url(#clip642)\" style=\"stroke:#000000; stroke-linecap:round; stroke-linejoin:round; stroke-width:4; stroke-opacity:1; fill:none\" points=\"11577.5,1423.18 11577.5,1423.18 11618.5,1423.18 11577.5,1423.18 \"/>\n",
       "<path clip-path=\"url(#clip642)\" d=\"M11618.5 1423.18 L11618.5 1423.18 L11659.4 1423.18 L11659.4 1423.18 L11618.5 1423.18 L11618.5 1423.18  Z\" fill=\"#009af9\" fill-rule=\"evenodd\" fill-opacity=\"1\"/>\n",
       "<polyline clip-path=\"url(#clip642)\" style=\"stroke:#000000; stroke-linecap:round; stroke-linejoin:round; stroke-width:4; stroke-opacity:1; fill:none\" points=\"11618.5,1423.18 11618.5,1423.18 11659.4,1423.18 11618.5,1423.18 \"/>\n",
       "<path clip-path=\"url(#clip642)\" d=\"M11659.4 1423.18 L11659.4 1423.18 L11700.4 1423.18 L11700.4 1423.18 L11659.4 1423.18 L11659.4 1423.18  Z\" fill=\"#009af9\" fill-rule=\"evenodd\" fill-opacity=\"1\"/>\n",
       "<polyline clip-path=\"url(#clip642)\" style=\"stroke:#000000; stroke-linecap:round; stroke-linejoin:round; stroke-width:4; stroke-opacity:1; fill:none\" points=\"11659.4,1423.18 11659.4,1423.18 11700.4,1423.18 11659.4,1423.18 \"/>\n",
       "<path clip-path=\"url(#clip642)\" d=\"M11700.4 1423.18 L11700.4 1423.18 L11741.4 1423.18 L11741.4 1423.18 L11700.4 1423.18 L11700.4 1423.18  Z\" fill=\"#009af9\" fill-rule=\"evenodd\" fill-opacity=\"1\"/>\n",
       "<polyline clip-path=\"url(#clip642)\" style=\"stroke:#000000; stroke-linecap:round; stroke-linejoin:round; stroke-width:4; stroke-opacity:1; fill:none\" points=\"11700.4,1423.18 11700.4,1423.18 11741.4,1423.18 11700.4,1423.18 \"/>\n",
       "<path clip-path=\"url(#clip642)\" d=\"M11741.4 1423.18 L11741.4 1423.18 L11782.4 1423.18 L11782.4 1423.18 L11741.4 1423.18 L11741.4 1423.18  Z\" fill=\"#009af9\" fill-rule=\"evenodd\" fill-opacity=\"1\"/>\n",
       "<polyline clip-path=\"url(#clip642)\" style=\"stroke:#000000; stroke-linecap:round; stroke-linejoin:round; stroke-width:4; stroke-opacity:1; fill:none\" points=\"11741.4,1423.18 11741.4,1423.18 11782.4,1423.18 11741.4,1423.18 \"/>\n",
       "<path clip-path=\"url(#clip642)\" d=\"M11782.4 1423.18 L11782.4 1423.18 L11823.3 1423.18 L11823.3 1423.18 L11782.4 1423.18 L11782.4 1423.18  Z\" fill=\"#009af9\" fill-rule=\"evenodd\" fill-opacity=\"1\"/>\n",
       "<polyline clip-path=\"url(#clip642)\" style=\"stroke:#000000; stroke-linecap:round; stroke-linejoin:round; stroke-width:4; stroke-opacity:1; fill:none\" points=\"11782.4,1423.18 11782.4,1423.18 11823.3,1423.18 11782.4,1423.18 \"/>\n",
       "<path clip-path=\"url(#clip642)\" d=\"M11823.3 1423.18 L11823.3 1423.18 L11864.3 1423.18 L11864.3 1423.18 L11823.3 1423.18 L11823.3 1423.18  Z\" fill=\"#009af9\" fill-rule=\"evenodd\" fill-opacity=\"1\"/>\n",
       "<polyline clip-path=\"url(#clip642)\" style=\"stroke:#000000; stroke-linecap:round; stroke-linejoin:round; stroke-width:4; stroke-opacity:1; fill:none\" points=\"11823.3,1423.18 11823.3,1423.18 11864.3,1423.18 11823.3,1423.18 \"/>\n",
       "<path clip-path=\"url(#clip642)\" d=\"M11864.3 1423.18 L11864.3 1423.18 L11905.3 1423.18 L11905.3 1423.18 L11864.3 1423.18 L11864.3 1423.18  Z\" fill=\"#009af9\" fill-rule=\"evenodd\" fill-opacity=\"1\"/>\n",
       "<polyline clip-path=\"url(#clip642)\" style=\"stroke:#000000; stroke-linecap:round; stroke-linejoin:round; stroke-width:4; stroke-opacity:1; fill:none\" points=\"11864.3,1423.18 11864.3,1423.18 11905.3,1423.18 11864.3,1423.18 \"/>\n",
       "<path clip-path=\"url(#clip642)\" d=\"M11905.3 1423.18 L11905.3 1423.18 L11946.2 1423.18 L11946.2 1423.18 L11905.3 1423.18 L11905.3 1423.18  Z\" fill=\"#009af9\" fill-rule=\"evenodd\" fill-opacity=\"1\"/>\n",
       "<polyline clip-path=\"url(#clip642)\" style=\"stroke:#000000; stroke-linecap:round; stroke-linejoin:round; stroke-width:4; stroke-opacity:1; fill:none\" points=\"11905.3,1423.18 11905.3,1423.18 11946.2,1423.18 11905.3,1423.18 \"/>\n",
       "<path clip-path=\"url(#clip642)\" d=\"M11946.2 1423.18 L11946.2 1423.18 L11987.2 1423.18 L11987.2 1423.18 L11946.2 1423.18 L11946.2 1423.18  Z\" fill=\"#009af9\" fill-rule=\"evenodd\" fill-opacity=\"1\"/>\n",
       "<polyline clip-path=\"url(#clip642)\" style=\"stroke:#000000; stroke-linecap:round; stroke-linejoin:round; stroke-width:4; stroke-opacity:1; fill:none\" points=\"11946.2,1423.18 11946.2,1423.18 11987.2,1423.18 11946.2,1423.18 \"/>\n",
       "<path clip-path=\"url(#clip642)\" d=\"M11987.2 1423.18 L11987.2 1423.18 L12028.2 1423.18 L12028.2 1423.18 L11987.2 1423.18 L11987.2 1423.18  Z\" fill=\"#009af9\" fill-rule=\"evenodd\" fill-opacity=\"1\"/>\n",
       "<polyline clip-path=\"url(#clip642)\" style=\"stroke:#000000; stroke-linecap:round; stroke-linejoin:round; stroke-width:4; stroke-opacity:1; fill:none\" points=\"11987.2,1423.18 11987.2,1423.18 12028.2,1423.18 11987.2,1423.18 \"/>\n",
       "<path clip-path=\"url(#clip642)\" d=\"M12028.2 1423.18 L12028.2 1423.18 L12069.1 1423.18 L12069.1 1423.18 L12028.2 1423.18 L12028.2 1423.18  Z\" fill=\"#009af9\" fill-rule=\"evenodd\" fill-opacity=\"1\"/>\n",
       "<polyline clip-path=\"url(#clip642)\" style=\"stroke:#000000; stroke-linecap:round; stroke-linejoin:round; stroke-width:4; stroke-opacity:1; fill:none\" points=\"12028.2,1423.18 12028.2,1423.18 12069.1,1423.18 12028.2,1423.18 \"/>\n",
       "<path clip-path=\"url(#clip642)\" d=\"M12069.1 1423.18 L12069.1 1423.18 L12110.1 1423.18 L12110.1 1423.18 L12069.1 1423.18 L12069.1 1423.18  Z\" fill=\"#009af9\" fill-rule=\"evenodd\" fill-opacity=\"1\"/>\n",
       "<polyline clip-path=\"url(#clip642)\" style=\"stroke:#000000; stroke-linecap:round; stroke-linejoin:round; stroke-width:4; stroke-opacity:1; fill:none\" points=\"12069.1,1423.18 12069.1,1423.18 12110.1,1423.18 12069.1,1423.18 \"/>\n",
       "<path clip-path=\"url(#clip642)\" d=\"M12110.1 1270.3 L12110.1 1423.18 L12151.1 1423.18 L12151.1 1270.3 L12110.1 1270.3 L12110.1 1270.3  Z\" fill=\"#009af9\" fill-rule=\"evenodd\" fill-opacity=\"1\"/>\n",
       "<polyline clip-path=\"url(#clip642)\" style=\"stroke:#000000; stroke-linecap:round; stroke-linejoin:round; stroke-width:4; stroke-opacity:1; fill:none\" points=\"12110.1,1270.3 12110.1,1423.18 12151.1,1423.18 12151.1,1270.3 12110.1,1270.3 \"/>\n",
       "<path clip-path=\"url(#clip642)\" d=\"M12151.1 1423.18 L12151.1 1423.18 L12192.1 1423.18 L12192.1 1423.18 L12151.1 1423.18 L12151.1 1423.18  Z\" fill=\"#009af9\" fill-rule=\"evenodd\" fill-opacity=\"1\"/>\n",
       "<polyline clip-path=\"url(#clip642)\" style=\"stroke:#000000; stroke-linecap:round; stroke-linejoin:round; stroke-width:4; stroke-opacity:1; fill:none\" points=\"12151.1,1423.18 12151.1,1423.18 12192.1,1423.18 12151.1,1423.18 \"/>\n",
       "<path clip-path=\"url(#clip642)\" d=\"M12192.1 1423.18 L12192.1 1423.18 L12233 1423.18 L12233 1423.18 L12192.1 1423.18 L12192.1 1423.18  Z\" fill=\"#009af9\" fill-rule=\"evenodd\" fill-opacity=\"1\"/>\n",
       "<polyline clip-path=\"url(#clip642)\" style=\"stroke:#000000; stroke-linecap:round; stroke-linejoin:round; stroke-width:4; stroke-opacity:1; fill:none\" points=\"12192.1,1423.18 12192.1,1423.18 12233,1423.18 12192.1,1423.18 \"/>\n",
       "<path clip-path=\"url(#clip642)\" d=\"M12233 1423.18 L12233 1423.18 L12274 1423.18 L12274 1423.18 L12233 1423.18 L12233 1423.18  Z\" fill=\"#009af9\" fill-rule=\"evenodd\" fill-opacity=\"1\"/>\n",
       "<polyline clip-path=\"url(#clip642)\" style=\"stroke:#000000; stroke-linecap:round; stroke-linejoin:round; stroke-width:4; stroke-opacity:1; fill:none\" points=\"12233,1423.18 12233,1423.18 12274,1423.18 12233,1423.18 \"/>\n",
       "<path clip-path=\"url(#clip642)\" d=\"M12274 1423.18 L12274 1423.18 L12315 1423.18 L12315 1423.18 L12274 1423.18 L12274 1423.18  Z\" fill=\"#009af9\" fill-rule=\"evenodd\" fill-opacity=\"1\"/>\n",
       "<polyline clip-path=\"url(#clip642)\" style=\"stroke:#000000; stroke-linecap:round; stroke-linejoin:round; stroke-width:4; stroke-opacity:1; fill:none\" points=\"12274,1423.18 12274,1423.18 12315,1423.18 12274,1423.18 \"/>\n",
       "<path clip-path=\"url(#clip642)\" d=\"M12315 1423.18 L12315 1423.18 L12355.9 1423.18 L12355.9 1423.18 L12315 1423.18 L12315 1423.18  Z\" fill=\"#009af9\" fill-rule=\"evenodd\" fill-opacity=\"1\"/>\n",
       "<polyline clip-path=\"url(#clip642)\" style=\"stroke:#000000; stroke-linecap:round; stroke-linejoin:round; stroke-width:4; stroke-opacity:1; fill:none\" points=\"12315,1423.18 12315,1423.18 12355.9,1423.18 12315,1423.18 \"/>\n",
       "<path clip-path=\"url(#clip642)\" d=\"M12355.9 1423.18 L12355.9 1423.18 L12396.9 1423.18 L12396.9 1423.18 L12355.9 1423.18 L12355.9 1423.18  Z\" fill=\"#009af9\" fill-rule=\"evenodd\" fill-opacity=\"1\"/>\n",
       "<polyline clip-path=\"url(#clip642)\" style=\"stroke:#000000; stroke-linecap:round; stroke-linejoin:round; stroke-width:4; stroke-opacity:1; fill:none\" points=\"12355.9,1423.18 12355.9,1423.18 12396.9,1423.18 12355.9,1423.18 \"/>\n",
       "<path clip-path=\"url(#clip642)\" d=\"M12396.9 1270.3 L12396.9 1423.18 L12437.9 1423.18 L12437.9 1270.3 L12396.9 1270.3 L12396.9 1270.3  Z\" fill=\"#009af9\" fill-rule=\"evenodd\" fill-opacity=\"1\"/>\n",
       "<polyline clip-path=\"url(#clip642)\" style=\"stroke:#000000; stroke-linecap:round; stroke-linejoin:round; stroke-width:4; stroke-opacity:1; fill:none\" points=\"12396.9,1270.3 12396.9,1423.18 12437.9,1423.18 12437.9,1270.3 12396.9,1270.3 \"/>\n",
       "<circle clip-path=\"url(#clip642)\" style=\"fill:#009af9; stroke:none; fill-opacity:0\" cx=\"577.009\" cy=\"1270.3\" r=\"2\"/>\n",
       "<circle clip-path=\"url(#clip642)\" style=\"fill:#009af9; stroke:none; fill-opacity:0\" cx=\"617.979\" cy=\"1423.18\" r=\"2\"/>\n",
       "<circle clip-path=\"url(#clip642)\" style=\"fill:#009af9; stroke:none; fill-opacity:0\" cx=\"658.949\" cy=\"1423.18\" r=\"2\"/>\n",
       "<circle clip-path=\"url(#clip642)\" style=\"fill:#009af9; stroke:none; fill-opacity:0\" cx=\"699.919\" cy=\"1117.42\" r=\"2\"/>\n",
       "<circle clip-path=\"url(#clip642)\" style=\"fill:#009af9; stroke:none; fill-opacity:0\" cx=\"740.889\" cy=\"1423.18\" r=\"2\"/>\n",
       "<circle clip-path=\"url(#clip642)\" style=\"fill:#009af9; stroke:none; fill-opacity:0\" cx=\"781.859\" cy=\"1270.3\" r=\"2\"/>\n",
       "<circle clip-path=\"url(#clip642)\" style=\"fill:#009af9; stroke:none; fill-opacity:0\" cx=\"822.83\" cy=\"1423.18\" r=\"2\"/>\n",
       "<circle clip-path=\"url(#clip642)\" style=\"fill:#009af9; stroke:none; fill-opacity:0\" cx=\"863.8\" cy=\"1423.18\" r=\"2\"/>\n",
       "<circle clip-path=\"url(#clip642)\" style=\"fill:#009af9; stroke:none; fill-opacity:0\" cx=\"904.77\" cy=\"1270.3\" r=\"2\"/>\n",
       "<circle clip-path=\"url(#clip642)\" style=\"fill:#009af9; stroke:none; fill-opacity:0\" cx=\"945.74\" cy=\"1117.42\" r=\"2\"/>\n",
       "<circle clip-path=\"url(#clip642)\" style=\"fill:#009af9; stroke:none; fill-opacity:0\" cx=\"986.71\" cy=\"964.535\" r=\"2\"/>\n",
       "<circle clip-path=\"url(#clip642)\" style=\"fill:#009af9; stroke:none; fill-opacity:0\" cx=\"1027.68\" cy=\"1270.3\" r=\"2\"/>\n",
       "<circle clip-path=\"url(#clip642)\" style=\"fill:#009af9; stroke:none; fill-opacity:0\" cx=\"1068.65\" cy=\"1117.42\" r=\"2\"/>\n",
       "<circle clip-path=\"url(#clip642)\" style=\"fill:#009af9; stroke:none; fill-opacity:0\" cx=\"1109.62\" cy=\"1117.42\" r=\"2\"/>\n",
       "<circle clip-path=\"url(#clip642)\" style=\"fill:#009af9; stroke:none; fill-opacity:0\" cx=\"1150.59\" cy=\"1117.42\" r=\"2\"/>\n",
       "<circle clip-path=\"url(#clip642)\" style=\"fill:#009af9; stroke:none; fill-opacity:0\" cx=\"1191.56\" cy=\"1270.3\" r=\"2\"/>\n",
       "<circle clip-path=\"url(#clip642)\" style=\"fill:#009af9; stroke:none; fill-opacity:0\" cx=\"1232.53\" cy=\"964.535\" r=\"2\"/>\n",
       "<circle clip-path=\"url(#clip642)\" style=\"fill:#009af9; stroke:none; fill-opacity:0\" cx=\"1273.5\" cy=\"1270.3\" r=\"2\"/>\n",
       "<circle clip-path=\"url(#clip642)\" style=\"fill:#009af9; stroke:none; fill-opacity:0\" cx=\"1314.47\" cy=\"1270.3\" r=\"2\"/>\n",
       "<circle clip-path=\"url(#clip642)\" style=\"fill:#009af9; stroke:none; fill-opacity:0\" cx=\"1355.44\" cy=\"1270.3\" r=\"2\"/>\n",
       "<circle clip-path=\"url(#clip642)\" style=\"fill:#009af9; stroke:none; fill-opacity:0\" cx=\"1396.41\" cy=\"1423.18\" r=\"2\"/>\n",
       "<circle clip-path=\"url(#clip642)\" style=\"fill:#009af9; stroke:none; fill-opacity:0\" cx=\"1437.38\" cy=\"1117.42\" r=\"2\"/>\n",
       "<circle clip-path=\"url(#clip642)\" style=\"fill:#009af9; stroke:none; fill-opacity:0\" cx=\"1478.35\" cy=\"1117.42\" r=\"2\"/>\n",
       "<circle clip-path=\"url(#clip642)\" style=\"fill:#009af9; stroke:none; fill-opacity:0\" cx=\"1519.32\" cy=\"1423.18\" r=\"2\"/>\n",
       "<circle clip-path=\"url(#clip642)\" style=\"fill:#009af9; stroke:none; fill-opacity:0\" cx=\"1560.29\" cy=\"964.535\" r=\"2\"/>\n",
       "<circle clip-path=\"url(#clip642)\" style=\"fill:#009af9; stroke:none; fill-opacity:0\" cx=\"1601.26\" cy=\"1117.42\" r=\"2\"/>\n",
       "<circle clip-path=\"url(#clip642)\" style=\"fill:#009af9; stroke:none; fill-opacity:0\" cx=\"1642.23\" cy=\"658.771\" r=\"2\"/>\n",
       "<circle clip-path=\"url(#clip642)\" style=\"fill:#009af9; stroke:none; fill-opacity:0\" cx=\"1683.2\" cy=\"1117.42\" r=\"2\"/>\n",
       "<circle clip-path=\"url(#clip642)\" style=\"fill:#009af9; stroke:none; fill-opacity:0\" cx=\"1724.17\" cy=\"811.653\" r=\"2\"/>\n",
       "<circle clip-path=\"url(#clip642)\" style=\"fill:#009af9; stroke:none; fill-opacity:0\" cx=\"1765.14\" cy=\"1270.3\" r=\"2\"/>\n",
       "<circle clip-path=\"url(#clip642)\" style=\"fill:#009af9; stroke:none; fill-opacity:0\" cx=\"1806.11\" cy=\"1117.42\" r=\"2\"/>\n",
       "<circle clip-path=\"url(#clip642)\" style=\"fill:#009af9; stroke:none; fill-opacity:0\" cx=\"1847.08\" cy=\"964.535\" r=\"2\"/>\n",
       "<circle clip-path=\"url(#clip642)\" style=\"fill:#009af9; stroke:none; fill-opacity:0\" cx=\"1888.05\" cy=\"964.535\" r=\"2\"/>\n",
       "<circle clip-path=\"url(#clip642)\" style=\"fill:#009af9; stroke:none; fill-opacity:0\" cx=\"1929.02\" cy=\"964.535\" r=\"2\"/>\n",
       "<circle clip-path=\"url(#clip642)\" style=\"fill:#009af9; stroke:none; fill-opacity:0\" cx=\"1969.99\" cy=\"811.653\" r=\"2\"/>\n",
       "<circle clip-path=\"url(#clip642)\" style=\"fill:#009af9; stroke:none; fill-opacity:0\" cx=\"2010.96\" cy=\"1117.42\" r=\"2\"/>\n",
       "<circle clip-path=\"url(#clip642)\" style=\"fill:#009af9; stroke:none; fill-opacity:0\" cx=\"2051.93\" cy=\"1270.3\" r=\"2\"/>\n",
       "<circle clip-path=\"url(#clip642)\" style=\"fill:#009af9; stroke:none; fill-opacity:0\" cx=\"2092.91\" cy=\"964.535\" r=\"2\"/>\n",
       "<circle clip-path=\"url(#clip642)\" style=\"fill:#009af9; stroke:none; fill-opacity:0\" cx=\"2133.88\" cy=\"505.889\" r=\"2\"/>\n",
       "<circle clip-path=\"url(#clip642)\" style=\"fill:#009af9; stroke:none; fill-opacity:0\" cx=\"2174.85\" cy=\"964.535\" r=\"2\"/>\n",
       "<circle clip-path=\"url(#clip642)\" style=\"fill:#009af9; stroke:none; fill-opacity:0\" cx=\"2215.82\" cy=\"811.653\" r=\"2\"/>\n",
       "<circle clip-path=\"url(#clip642)\" style=\"fill:#009af9; stroke:none; fill-opacity:0\" cx=\"2256.79\" cy=\"811.653\" r=\"2\"/>\n",
       "<circle clip-path=\"url(#clip642)\" style=\"fill:#009af9; stroke:none; fill-opacity:0\" cx=\"2297.76\" cy=\"200.126\" r=\"2\"/>\n",
       "<circle clip-path=\"url(#clip642)\" style=\"fill:#009af9; stroke:none; fill-opacity:0\" cx=\"2338.73\" cy=\"1117.42\" r=\"2\"/>\n",
       "</svg>\n"
      ]
     },
     "metadata": {},
     "output_type": "display_data"
    }
   ],
   "source": [
    "using Statistics # bring in statistical support for standard deviations\n",
    "t = c_bench.times / 1e6 # times in milliseconds\n",
    "m, σ = minimum(t), std(t)\n",
    "\n",
    "histogram(t, bins=500,\n",
    "    xlim=(m - 0.01, m + σ),\n",
    "    xlabel=\"milliseconds\", ylabel=\"count\", label=\"\")"
   ]
  },
  {
   "cell_type": "markdown",
   "metadata": {},
   "source": [
    "# 2. C with -ffast-math\n",
    "\n",
    "If we allow C to re-arrange the floating point operations, then it'll vectorize with SIMD (single instruction, multiple data) instructions."
   ]
  },
  {
   "cell_type": "code",
   "execution_count": 23,
   "metadata": {},
   "outputs": [
    {
     "data": {
      "text/plain": [
       "c_sum_fastmath (generic function with 1 method)"
      ]
     },
     "metadata": {},
     "output_type": "display_data"
    }
   ],
   "source": [
    "const Clib_fastmath = tempname()   # make a temporary file\n",
    "\n",
    "# The same as above but with a -ffast-math flag added\n",
    "open(`gcc -fPIC -O3 -msse3 -xc -shared -ffast-math -o $(Clib_fastmath * \".\" * Libdl.dlext) -`, \"w\") do f\n",
    "    print(f, C_code) \n",
    "end\n",
    "\n",
    "# define a Julia function that calls the C function:\n",
    "c_sum_fastmath(X::Array{Float64}) = ccall((\"c_sum\", Clib_fastmath), Float64, (Csize_t, Ptr{Float64}), length(X), X)"
   ]
  },
  {
   "cell_type": "code",
   "execution_count": 24,
   "metadata": {},
   "outputs": [
    {
     "data": {
      "text/plain": [
       "BenchmarkTools.Trial: 2730 samples with 1 evaluation.\n",
       " Range \u001b[90m(\u001b[39m\u001b[36m\u001b[1mmin\u001b[22m\u001b[39m … \u001b[35mmax\u001b[39m\u001b[90m):  \u001b[39m\u001b[36m\u001b[1m1.782 ms\u001b[22m\u001b[39m … \u001b[35m 2.090 ms\u001b[39m  \u001b[90m┊\u001b[39m GC \u001b[90m(\u001b[39mmin … max\u001b[90m): \u001b[39m0.00% … 0.00%\n",
       " Time  \u001b[90m(\u001b[39m\u001b[34m\u001b[1mmedian\u001b[22m\u001b[39m\u001b[90m):     \u001b[39m\u001b[34m\u001b[1m1.808 ms              \u001b[22m\u001b[39m\u001b[90m┊\u001b[39m GC \u001b[90m(\u001b[39mmedian\u001b[90m):    \u001b[39m0.00%\n",
       " Time  \u001b[90m(\u001b[39m\u001b[32m\u001b[1mmean\u001b[22m\u001b[39m ± \u001b[32mσ\u001b[39m\u001b[90m):   \u001b[39m\u001b[32m\u001b[1m1.820 ms\u001b[22m\u001b[39m ± \u001b[32m37.166 μs\u001b[39m  \u001b[90m┊\u001b[39m GC \u001b[90m(\u001b[39mmean ± σ\u001b[90m):  \u001b[39m0.00% ± 0.00%\n",
       "\n",
       "  \u001b[39m \u001b[39m█\u001b[39m▆\u001b[39m▁\u001b[39m \u001b[39m \u001b[39m \u001b[39m \u001b[39m \u001b[34m \u001b[39m\u001b[39m \u001b[39m \u001b[39m \u001b[32m \u001b[39m\u001b[39m \u001b[39m \u001b[39m \u001b[39m \u001b[39m \u001b[39m \u001b[39m \u001b[39m \u001b[39m \u001b[39m \u001b[39m \u001b[39m \u001b[39m \u001b[39m \u001b[39m \u001b[39m \u001b[39m \u001b[39m \u001b[39m \u001b[39m \u001b[39m \u001b[39m \u001b[39m \u001b[39m \u001b[39m \u001b[39m \u001b[39m \u001b[39m \u001b[39m \u001b[39m \u001b[39m \u001b[39m \u001b[39m \u001b[39m \u001b[39m \u001b[39m \u001b[39m \u001b[39m \u001b[39m \u001b[39m \u001b[39m \u001b[39m \u001b[39m \u001b[39m \u001b[39m \u001b[39m \n",
       "  \u001b[39m▅\u001b[39m█\u001b[39m█\u001b[39m█\u001b[39m█\u001b[39m█\u001b[39m▇\u001b[39m█\u001b[39m▇\u001b[34m▆\u001b[39m\u001b[39m▆\u001b[39m▆\u001b[39m▅\u001b[32m▆\u001b[39m\u001b[39m▅\u001b[39m▄\u001b[39m▄\u001b[39m▅\u001b[39m▄\u001b[39m▄\u001b[39m▄\u001b[39m▃\u001b[39m▄\u001b[39m▄\u001b[39m▄\u001b[39m▄\u001b[39m▄\u001b[39m▅\u001b[39m▃\u001b[39m▃\u001b[39m▃\u001b[39m▃\u001b[39m▃\u001b[39m▃\u001b[39m▂\u001b[39m▃\u001b[39m▃\u001b[39m▃\u001b[39m▂\u001b[39m▂\u001b[39m▂\u001b[39m▂\u001b[39m▂\u001b[39m▂\u001b[39m▂\u001b[39m▂\u001b[39m▂\u001b[39m▁\u001b[39m▂\u001b[39m▂\u001b[39m▂\u001b[39m▂\u001b[39m▂\u001b[39m▂\u001b[39m▂\u001b[39m▂\u001b[39m▂\u001b[39m▂\u001b[39m \u001b[39m▃\n",
       "  1.78 ms\u001b[90m        Histogram: frequency by time\u001b[39m        1.96 ms \u001b[0m\u001b[1m<\u001b[22m\n",
       "\n",
       " Memory estimate\u001b[90m: \u001b[39m\u001b[33m0 bytes\u001b[39m, allocs estimate\u001b[90m: \u001b[39m\u001b[33m0\u001b[39m."
      ]
     },
     "metadata": {},
     "output_type": "display_data"
    }
   ],
   "source": [
    "c_fastmath_bench = @benchmark $c_sum_fastmath($a)"
   ]
  },
  {
   "cell_type": "code",
   "execution_count": 25,
   "metadata": {},
   "outputs": [
    {
     "data": {
      "text/plain": [
       "1.781583"
      ]
     },
     "metadata": {},
     "output_type": "display_data"
    }
   ],
   "source": [
    "d[\"C -ffast-math\"] = minimum(c_fastmath_bench.times) / 1e6  # in milliseconds"
   ]
  },
  {
   "cell_type": "markdown",
   "metadata": {},
   "source": [
    "# 3. Python's built in `sum` "
   ]
  },
  {
   "cell_type": "markdown",
   "metadata": {},
   "source": [
    "The `PyCall` package provides a Julia interface to Python:"
   ]
  },
  {
   "cell_type": "code",
   "execution_count": 26,
   "metadata": {
    "scrolled": true
   },
   "outputs": [
    {
     "name": "stderr",
     "output_type": "stream",
     "text": [
      "\u001b[32m\u001b[1m   Resolving\u001b[22m\u001b[39m package versions...\n"
     ]
    },
    {
     "name": "stderr",
     "output_type": "stream",
     "text": [
      "\u001b[32m\u001b[1m  No Changes\u001b[22m\u001b[39m to `~/.julia/environments/v1.9/Project.toml`\n",
      "\u001b[32m\u001b[1m  No Changes\u001b[22m\u001b[39m to `~/.julia/environments/v1.9/Manifest.toml`\n"
     ]
    }
   ],
   "source": [
    "using Pkg; Pkg.add(\"PyCall\")\n",
    "using PyCall"
   ]
  },
  {
   "cell_type": "code",
   "execution_count": 27,
   "metadata": {
    "scrolled": false
   },
   "outputs": [
    {
     "data": {
      "text/plain": [
       "PyObject <built-in function sum>"
      ]
     },
     "metadata": {},
     "output_type": "display_data"
    }
   ],
   "source": [
    "# get the Python built-in \"sum\" function:\n",
    "pysum = pybuiltin(\"sum\")"
   ]
  },
  {
   "cell_type": "code",
   "execution_count": 28,
   "metadata": {
    "scrolled": false
   },
   "outputs": [
    {
     "data": {
      "text/plain": [
       "4.998920238773247e6"
      ]
     },
     "metadata": {},
     "output_type": "display_data"
    }
   ],
   "source": [
    "pysum(a)"
   ]
  },
  {
   "cell_type": "code",
   "execution_count": 29,
   "metadata": {
    "scrolled": false
   },
   "outputs": [
    {
     "data": {
      "text/plain": [
       "true"
      ]
     },
     "metadata": {},
     "output_type": "display_data"
    }
   ],
   "source": [
    "pysum(a) ≈ sum(a)"
   ]
  },
  {
   "cell_type": "code",
   "execution_count": 30,
   "metadata": {
    "scrolled": false
   },
   "outputs": [
    {
     "data": {
      "text/plain": [
       "BenchmarkTools.Trial: 5 samples with 1 evaluation.\n",
       " Range \u001b[90m(\u001b[39m\u001b[36m\u001b[1mmin\u001b[22m\u001b[39m … \u001b[35mmax\u001b[39m\u001b[90m):  \u001b[39m\u001b[36m\u001b[1m934.561 ms\u001b[22m\u001b[39m … \u001b[35m   1.185 s\u001b[39m  \u001b[90m┊\u001b[39m GC \u001b[90m(\u001b[39mmin … max\u001b[90m): \u001b[39m22.41% … 23.01%\n",
       " Time  \u001b[90m(\u001b[39m\u001b[34m\u001b[1mmedian\u001b[22m\u001b[39m\u001b[90m):     \u001b[39m\u001b[34m\u001b[1m   1.161 s               \u001b[22m\u001b[39m\u001b[90m┊\u001b[39m GC \u001b[90m(\u001b[39mmedian\u001b[90m):    \u001b[39m23.46%\n",
       " Time  \u001b[90m(\u001b[39m\u001b[32m\u001b[1mmean\u001b[22m\u001b[39m ± \u001b[32mσ\u001b[39m\u001b[90m):   \u001b[39m\u001b[32m\u001b[1m   1.122 s\u001b[22m\u001b[39m ± \u001b[32m105.224 ms\u001b[39m  \u001b[90m┊\u001b[39m GC \u001b[90m(\u001b[39mmean ± σ\u001b[90m):  \u001b[39m23.17% ±  0.45%\n",
       "\n",
       "  \u001b[39m█\u001b[39m \u001b[39m \u001b[39m \u001b[39m \u001b[39m \u001b[39m \u001b[39m \u001b[39m \u001b[39m \u001b[39m \u001b[39m \u001b[39m \u001b[39m \u001b[39m \u001b[39m \u001b[39m \u001b[39m \u001b[39m \u001b[39m \u001b[39m \u001b[39m \u001b[39m \u001b[39m \u001b[39m \u001b[39m \u001b[39m \u001b[39m \u001b[39m \u001b[39m \u001b[39m \u001b[39m \u001b[39m \u001b[39m \u001b[39m \u001b[39m \u001b[39m \u001b[39m \u001b[39m \u001b[39m \u001b[39m \u001b[39m \u001b[39m \u001b[39m \u001b[39m \u001b[39m \u001b[32m \u001b[39m\u001b[39m \u001b[39m \u001b[39m \u001b[39m \u001b[39m \u001b[39m \u001b[39m \u001b[39m█\u001b[34m█\u001b[39m\u001b[39m \u001b[39m█\u001b[39m \u001b[39m \u001b[39m█\u001b[39m \u001b[39m \n",
       "  \u001b[39m█\u001b[39m▁\u001b[39m▁\u001b[39m▁\u001b[39m▁\u001b[39m▁\u001b[39m▁\u001b[39m▁\u001b[39m▁\u001b[39m▁\u001b[39m▁\u001b[39m▁\u001b[39m▁\u001b[39m▁\u001b[39m▁\u001b[39m▁\u001b[39m▁\u001b[39m▁\u001b[39m▁\u001b[39m▁\u001b[39m▁\u001b[39m▁\u001b[39m▁\u001b[39m▁\u001b[39m▁\u001b[39m▁\u001b[39m▁\u001b[39m▁\u001b[39m▁\u001b[39m▁\u001b[39m▁\u001b[39m▁\u001b[39m▁\u001b[39m▁\u001b[39m▁\u001b[39m▁\u001b[39m▁\u001b[39m▁\u001b[39m▁\u001b[39m▁\u001b[39m▁\u001b[39m▁\u001b[39m▁\u001b[39m▁\u001b[39m▁\u001b[39m▁\u001b[32m▁\u001b[39m\u001b[39m▁\u001b[39m▁\u001b[39m▁\u001b[39m▁\u001b[39m▁\u001b[39m▁\u001b[39m▁\u001b[39m█\u001b[34m█\u001b[39m\u001b[39m▁\u001b[39m█\u001b[39m▁\u001b[39m▁\u001b[39m█\u001b[39m \u001b[39m▁\n",
       "  935 ms\u001b[90m           Histogram: frequency by time\u001b[39m          1.18 s \u001b[0m\u001b[1m<\u001b[22m\n",
       "\n",
       " Memory estimate\u001b[90m: \u001b[39m\u001b[33m152.60 MiB\u001b[39m, allocs estimate\u001b[90m: \u001b[39m\u001b[33m10000042\u001b[39m."
      ]
     },
     "metadata": {},
     "output_type": "display_data"
    }
   ],
   "source": [
    "py_list_bench = @benchmark $pysum($a)"
   ]
  },
  {
   "cell_type": "code",
   "execution_count": 31,
   "metadata": {
    "scrolled": false
   },
   "outputs": [
    {
     "data": {
      "text/plain": [
       "Dict{Any, Any} with 3 entries:\n",
       "  \"C\"               => 9.38567\n",
       "  \"Python built-in\" => 934.561\n",
       "  \"C -ffast-math\"   => 1.78158"
      ]
     },
     "metadata": {},
     "output_type": "display_data"
    }
   ],
   "source": [
    "d[\"Python built-in\"] = minimum(py_list_bench.times) / 1e6\n",
    "d"
   ]
  },
  {
   "cell_type": "markdown",
   "metadata": {},
   "source": [
    "# 4. Python: `numpy` \n",
    "\n",
    "## Takes advantage of hardware \"SIMD\", but only works when it works.\n",
    "\n",
    "`numpy` is an optimized C library, callable from Python.\n",
    "It may be installed within Julia as follows:"
   ]
  },
  {
   "cell_type": "code",
   "execution_count": 35,
   "metadata": {
    "scrolled": false
   },
   "outputs": [
    {
     "name": "stderr",
     "output_type": "stream",
     "text": [
      "\u001b[32m\u001b[1m   Resolving\u001b[22m\u001b[39m package versions...\n"
     ]
    },
    {
     "name": "stderr",
     "output_type": "stream",
     "text": [
      "\u001b[32m\u001b[1m  No Changes\u001b[22m\u001b[39m to `~/.julia/environments/v1.9/Project.toml`\n",
      "\u001b[32m\u001b[1m  No Changes\u001b[22m\u001b[39m to `~/.julia/environments/v1.9/Manifest.toml`\n"
     ]
    }
   ],
   "source": [
    "using Pkg; Pkg.add(\"Conda\")\n",
    "using Conda"
   ]
  },
  {
   "cell_type": "code",
   "execution_count": 36,
   "metadata": {},
   "outputs": [
    {
     "name": "stderr",
     "output_type": "stream",
     "text": [
      "┌ Info: Running `conda install -y numpy` in root environment\n",
      "└ @ Conda /Users/sergio/.julia/packages/Conda/2lg2O/src/Conda.jl:127\n"
     ]
    },
    {
     "name": "stdout",
     "output_type": "stream",
     "text": [
      "Collecting package metadata (current_repodata.json): ...working... "
     ]
    },
    {
     "name": "stdout",
     "output_type": "stream",
     "text": [
      "done\n",
      "Solving environment: ...working... "
     ]
    },
    {
     "name": "stdout",
     "output_type": "stream",
     "text": [
      "done\n"
     ]
    },
    {
     "name": "stdout",
     "output_type": "stream",
     "text": [
      "\n",
      "# All requested packages already installed.\n",
      "\n"
     ]
    },
    {
     "name": "stderr",
     "output_type": "stream",
     "text": [
      "\n",
      "\n",
      "==> WARNING: A newer version of conda exists. <==\n",
      "  current version: 22.11.1\n",
      "  latest version: 23.9.0\n",
      "\n",
      "Please update conda by running\n",
      "\n",
      "    $ conda update -n base -c conda-forge conda\n",
      "\n",
      "Or to minimize the number of packages updated during conda update use\n",
      "\n",
      "     conda install conda=23.9.0\n",
      "\n",
      "\n"
     ]
    }
   ],
   "source": [
    "Conda.add(\"numpy\")"
   ]
  },
  {
   "cell_type": "code",
   "execution_count": 37,
   "metadata": {
    "scrolled": false
   },
   "outputs": [
    {
     "ename": "PyCall.PyError",
     "evalue": "PyError (PyImport_ImportModule\n\nThe Python package numpy could not be imported by pyimport. Usually this means\nthat you did not install numpy in the Python version being used by PyCall.\n\nPyCall is currently configured to use the Julia-specific Python distribution\ninstalled by the Conda.jl package.  To install the numpy module, you can\nuse `pyimport_conda(\"numpy\", PKG)`, where PKG is the Anaconda\npackage that contains the module numpy, or alternatively you can use the\nConda package directly (via `using Conda` followed by `Conda.add` etcetera).\n\nAlternatively, if you want to use a different Python distribution on your\nsystem, such as a system-wide Python (as opposed to the Julia-specific Python),\nyou can re-configure PyCall with that Python.   As explained in the PyCall\ndocumentation, set ENV[\"PYTHON\"] to the path/name of the python executable\nyou want to use, run Pkg.build(\"PyCall\"), and re-launch Julia.\n\n) <class 'ImportError'>\nImportError('\\n\\nIMPORTANT: PLEASE READ THIS FOR ADVICE ON HOW TO SOLVE THIS ISSUE!\\n\\nImporting the numpy C-extensions failed. This error can happen for\\nmany reasons, often due to issues with your setup or how NumPy was\\ninstalled.\\n\\nWe have compiled some common reasons and troubleshooting tips at:\\n\\n    https://numpy.org/devdocs/user/troubleshooting-importerror.html\\n\\nPlease note and check the following:\\n\\n  * The Python version is: Python3.9 from \"/Users/sergio/.julia/conda/3/bin/python\"\\n  * The NumPy version is: \"1.21.1\"\\n\\nand make sure that they are the versions you expect.\\nPlease carefully study the documentation linked above for further help.\\n\\nOriginal error was: dlopen(/Users/sergio/.local/lib/python3.9/site-packages/numpy/core/_multiarray_umath.cpython-39-darwin.so, 0x0002): tried: \\'/Users/sergio/.local/lib/python3.9/site-packages/numpy/core/_multiarray_umath.cpython-39-darwin.so\\' (mach-o file, but is an incompatible architecture (have \\'arm64\\', need \\'x86_64\\')), \\'/System/Volumes/Preboot/Cryptexes/OS/Users/sergio/.local/lib/python3.9/site-packages/numpy/core/_multiarray_umath.cpython-39-darwin.so\\' (no such file), \\'/Users/sergio/.local/lib/python3.9/site-packages/numpy/core/_multiarray_umath.cpython-39-darwin.so\\' (mach-o file, but is an incompatible architecture (have \\'arm64\\', need \\'x86_64\\'))\\n')\n  File \"/Users/sergio/.local/lib/python3.9/site-packages/numpy/__init__.py\", line 150, in <module>\n    from . import core\n  File \"/Users/sergio/.local/lib/python3.9/site-packages/numpy/core/__init__.py\", line 48, in <module>\n    raise ImportError(msg)\n",
     "output_type": "error",
     "traceback": [
      "PyError (PyImport_ImportModule\n",
      "\n",
      "The Python package numpy could not be imported by pyimport. Usually this means\n",
      "that you did not install numpy in the Python version being used by PyCall.\n",
      "\n",
      "PyCall is currently configured to use the Julia-specific Python distribution\n",
      "installed by the Conda.jl package.  To install the numpy module, you can\n",
      "use `pyimport_conda(\"numpy\", PKG)`, where PKG is the Anaconda\n",
      "package that contains the module numpy, or alternatively you can use the\n",
      "Conda package directly (via `using Conda` followed by `Conda.add` etcetera).\n",
      "\n",
      "Alternatively, if you want to use a different Python distribution on your\n",
      "system, such as a system-wide Python (as opposed to the Julia-specific Python),\n",
      "you can re-configure PyCall with that Python.   As explained in the PyCall\n",
      "documentation, set ENV[\"PYTHON\"] to the path/name of the python executable\n",
      "you want to use, run Pkg.build(\"PyCall\"), and re-launch Julia.\n",
      "\n",
      ") <class 'ImportError'>\n",
      "ImportError('\\n\\nIMPORTANT: PLEASE READ THIS FOR ADVICE ON HOW TO SOLVE THIS ISSUE!\\n\\nImporting the numpy C-extensions failed. This error can happen for\\nmany reasons, often due to issues with your setup or how NumPy was\\ninstalled.\\n\\nWe have compiled some common reasons and troubleshooting tips at:\\n\\n    https://numpy.org/devdocs/user/troubleshooting-importerror.html\\n\\nPlease note and check the following:\\n\\n  * The Python version is: Python3.9 from \"/Users/sergio/.julia/conda/3/bin/python\"\\n  * The NumPy version is: \"1.21.1\"\\n\\nand make sure that they are the versions you expect.\\nPlease carefully study the documentation linked above for further help.\\n\\nOriginal error was: dlopen(/Users/sergio/.local/lib/python3.9/site-packages/numpy/core/_multiarray_umath.cpython-39-darwin.so, 0x0002): tried: \\'/Users/sergio/.local/lib/python3.9/site-packages/numpy/core/_multiarray_umath.cpython-39-darwin.so\\' (mach-o file, but is an incompatible architecture (have \\'arm64\\', need \\'x86_64\\')), \\'/System/Volumes/Preboot/Cryptexes/OS/Users/sergio/.local/lib/python3.9/site-packages/numpy/core/_multiarray_umath.cpython-39-darwin.so\\' (no such file), \\'/Users/sergio/.local/lib/python3.9/site-packages/numpy/core/_multiarray_umath.cpython-39-darwin.so\\' (mach-o file, but is an incompatible architecture (have \\'arm64\\', need \\'x86_64\\'))\\n')\n",
      "  File \"/Users/sergio/.local/lib/python3.9/site-packages/numpy/__init__.py\", line 150, in <module>\n",
      "    from . import core\n",
      "  File \"/Users/sergio/.local/lib/python3.9/site-packages/numpy/core/__init__.py\", line 48, in <module>\n",
      "    raise ImportError(msg)\n",
      "\n",
      "\n",
      "Stacktrace:\n",
      " [1] pyimport(name::String)\n",
      "   @ PyCall ~/.julia/packages/PyCall/ilqDX/src/PyCall.jl:558\n",
      " [2] top-level scope\n",
      "   @ ~/code/computacion_numerica/6_SpeedTest.ipynb:1"
     ]
    }
   ],
   "source": [
    "numpy_sum = pyimport(\"numpy\")[\"sum\"]\n",
    "\n",
    "py_numpy_bench = @benchmark $numpy_sum($a)"
   ]
  },
  {
   "cell_type": "code",
   "execution_count": 34,
   "metadata": {
    "scrolled": false
   },
   "outputs": [
    {
     "ename": "UndefVarError",
     "evalue": "UndefVarError: `numpy_sum` not defined",
     "output_type": "error",
     "traceback": [
      "UndefVarError: `numpy_sum` not defined\n",
      "\n",
      "Stacktrace:\n",
      " [1] top-level scope\n",
      "   @ ~/code/computacion_numerica/6_SpeedTest.ipynb:1"
     ]
    }
   ],
   "source": [
    "numpy_sum(a)"
   ]
  },
  {
   "cell_type": "code",
   "execution_count": 35,
   "metadata": {
    "scrolled": false
   },
   "outputs": [
    {
     "ename": "UndefVarError",
     "evalue": "UndefVarError: `numpy_sum` not defined",
     "output_type": "error",
     "traceback": [
      "UndefVarError: `numpy_sum` not defined\n",
      "\n",
      "Stacktrace:\n",
      " [1] top-level scope\n",
      "   @ ~/code/computacion_numerica/6_SpeedTest.ipynb:1"
     ]
    }
   ],
   "source": [
    "numpy_sum(a) ≈ sum(a)"
   ]
  },
  {
   "cell_type": "code",
   "execution_count": 31,
   "metadata": {
    "scrolled": true
   },
   "outputs": [
    {
     "data": {
      "text/plain": [
       "Dict{Any,Any} with 4 entries:\n",
       "  \"C\"               => 11.063\n",
       "  \"Python numpy\"    => 6.64861\n",
       "  \"Python built-in\" => 904.664\n",
       "  \"C -ffast-math\"   => 6.95261"
      ]
     },
     "execution_count": 31,
     "metadata": {},
     "output_type": "execute_result"
    }
   ],
   "source": [
    "d[\"Python numpy\"] = minimum(py_numpy_bench.times) / 1e6\n",
    "d"
   ]
  },
  {
   "cell_type": "markdown",
   "metadata": {},
   "source": [
    "# 5. Python, hand-written "
   ]
  },
  {
   "cell_type": "code",
   "execution_count": 32,
   "metadata": {
    "scrolled": false
   },
   "outputs": [
    {
     "data": {
      "text/plain": [
       "PyObject <function py_sum at 0x174d180d0>"
      ]
     },
     "metadata": {},
     "output_type": "display_data"
    }
   ],
   "source": [
    "py\"\"\"\n",
    "def py_sum(A):\n",
    "    s = 0.0\n",
    "    for a in A:\n",
    "        s += a\n",
    "    return s\n",
    "\"\"\"\n",
    "\n",
    "sum_py = py\"py_sum\""
   ]
  },
  {
   "cell_type": "code",
   "execution_count": 33,
   "metadata": {
    "scrolled": false
   },
   "outputs": [
    {
     "data": {
      "text/plain": [
       "BenchmarkTools.Trial: 4 samples with 1 evaluation.\n",
       " Range \u001b[90m(\u001b[39m\u001b[36m\u001b[1mmin\u001b[22m\u001b[39m … \u001b[35mmax\u001b[39m\u001b[90m):  \u001b[39m\u001b[36m\u001b[1m1.174 s\u001b[22m\u001b[39m … \u001b[35m   1.419 s\u001b[39m  \u001b[90m┊\u001b[39m GC \u001b[90m(\u001b[39mmin … max\u001b[90m): \u001b[39m18.25% … 19.33%\n",
       " Time  \u001b[90m(\u001b[39m\u001b[34m\u001b[1mmedian\u001b[22m\u001b[39m\u001b[90m):     \u001b[39m\u001b[34m\u001b[1m1.398 s               \u001b[22m\u001b[39m\u001b[90m┊\u001b[39m GC \u001b[90m(\u001b[39mmedian\u001b[90m):    \u001b[39m19.58%\n",
       " Time  \u001b[90m(\u001b[39m\u001b[32m\u001b[1mmean\u001b[22m\u001b[39m ± \u001b[32mσ\u001b[39m\u001b[90m):   \u001b[39m\u001b[32m\u001b[1m1.347 s\u001b[22m\u001b[39m ± \u001b[32m116.157 ms\u001b[39m  \u001b[90m┊\u001b[39m GC \u001b[90m(\u001b[39mmean ± σ\u001b[90m):  \u001b[39m19.25% ±  0.66%\n",
       "\n",
       "  \u001b[39m█\u001b[39m \u001b[39m \u001b[39m \u001b[39m \u001b[39m \u001b[39m \u001b[39m \u001b[39m \u001b[39m \u001b[39m \u001b[39m \u001b[39m \u001b[39m \u001b[39m \u001b[39m \u001b[39m \u001b[39m \u001b[39m \u001b[39m \u001b[39m \u001b[39m \u001b[39m \u001b[39m \u001b[39m \u001b[39m \u001b[39m \u001b[39m \u001b[39m \u001b[39m \u001b[39m \u001b[39m \u001b[39m \u001b[39m \u001b[39m \u001b[39m \u001b[39m \u001b[39m \u001b[39m \u001b[39m \u001b[39m \u001b[32m \u001b[39m\u001b[39m \u001b[39m \u001b[39m \u001b[39m \u001b[39m \u001b[39m \u001b[39m \u001b[39m \u001b[39m \u001b[39m \u001b[34m█\u001b[39m\u001b[39m█\u001b[39m \u001b[39m \u001b[39m \u001b[39m█\u001b[39m \u001b[39m \n",
       "  \u001b[39m█\u001b[39m▁\u001b[39m▁\u001b[39m▁\u001b[39m▁\u001b[39m▁\u001b[39m▁\u001b[39m▁\u001b[39m▁\u001b[39m▁\u001b[39m▁\u001b[39m▁\u001b[39m▁\u001b[39m▁\u001b[39m▁\u001b[39m▁\u001b[39m▁\u001b[39m▁\u001b[39m▁\u001b[39m▁\u001b[39m▁\u001b[39m▁\u001b[39m▁\u001b[39m▁\u001b[39m▁\u001b[39m▁\u001b[39m▁\u001b[39m▁\u001b[39m▁\u001b[39m▁\u001b[39m▁\u001b[39m▁\u001b[39m▁\u001b[39m▁\u001b[39m▁\u001b[39m▁\u001b[39m▁\u001b[39m▁\u001b[39m▁\u001b[39m▁\u001b[39m▁\u001b[32m▁\u001b[39m\u001b[39m▁\u001b[39m▁\u001b[39m▁\u001b[39m▁\u001b[39m▁\u001b[39m▁\u001b[39m▁\u001b[39m▁\u001b[39m▁\u001b[39m▁\u001b[34m█\u001b[39m\u001b[39m█\u001b[39m▁\u001b[39m▁\u001b[39m▁\u001b[39m█\u001b[39m \u001b[39m▁\n",
       "  1.17 s\u001b[90m         Histogram: frequency by time\u001b[39m         1.42 s \u001b[0m\u001b[1m<\u001b[22m\n",
       "\n",
       " Memory estimate\u001b[90m: \u001b[39m\u001b[33m152.60 MiB\u001b[39m, allocs estimate\u001b[90m: \u001b[39m\u001b[33m10000042\u001b[39m."
      ]
     },
     "metadata": {},
     "output_type": "display_data"
    }
   ],
   "source": [
    "py_hand = @benchmark $sum_py($a)"
   ]
  },
  {
   "cell_type": "code",
   "execution_count": 34,
   "metadata": {
    "scrolled": false
   },
   "outputs": [
    {
     "data": {
      "text/plain": [
       "4.998920238773247e6"
      ]
     },
     "metadata": {},
     "output_type": "display_data"
    }
   ],
   "source": [
    "sum_py(a)"
   ]
  },
  {
   "cell_type": "code",
   "execution_count": 35,
   "metadata": {
    "scrolled": false
   },
   "outputs": [
    {
     "data": {
      "text/plain": [
       "true"
      ]
     },
     "metadata": {},
     "output_type": "display_data"
    }
   ],
   "source": [
    "sum_py(a) ≈ sum(a)"
   ]
  },
  {
   "cell_type": "code",
   "execution_count": 36,
   "metadata": {
    "scrolled": true
   },
   "outputs": [
    {
     "data": {
      "text/plain": [
       "Dict{Any, Any} with 4 entries:\n",
       "  \"C\"                   => 9.38567\n",
       "  \"Python hand-written\" => 1173.66\n",
       "  \"Python built-in\"     => 934.561\n",
       "  \"C -ffast-math\"       => 1.78158"
      ]
     },
     "metadata": {},
     "output_type": "display_data"
    }
   ],
   "source": [
    "d[\"Python hand-written\"] = minimum(py_hand.times) / 1e6\n",
    "d"
   ]
  },
  {
   "cell_type": "markdown",
   "metadata": {},
   "source": [
    "# 6. Julia (built-in) \n",
    "\n",
    "## Written directly in Julia, not in C!"
   ]
  },
  {
   "cell_type": "code",
   "execution_count": 38,
   "metadata": {
    "scrolled": false
   },
   "outputs": [
    {
     "data": {
      "text/html": [
       "sum(a::<b>AbstractArray</b>; <i>dims, kw...</i>) in Base at <a href=\"https://github.com/JuliaLang/julia/tree/e4ee485e90961018b7e53ce14b8b99335953e176/base/reducedim.jl#L994\" target=\"_blank\">reducedim.jl:994</a>"
      ],
      "text/plain": [
       "sum(\u001b[90ma\u001b[39m::\u001b[1mAbstractArray\u001b[22m; dims, kw...)\n",
       "\u001b[90m     @\u001b[39m \u001b[90mBase\u001b[39m \u001b[90m\u001b[4mreducedim.jl:994\u001b[24m\u001b[39m"
      ]
     },
     "metadata": {},
     "output_type": "display_data"
    }
   ],
   "source": [
    "@which sum(a)"
   ]
  },
  {
   "cell_type": "code",
   "execution_count": 39,
   "metadata": {
    "scrolled": false
   },
   "outputs": [
    {
     "data": {
      "text/plain": [
       "BenchmarkTools.Trial: 2642 samples with 1 evaluation.\n",
       " Range \u001b[90m(\u001b[39m\u001b[36m\u001b[1mmin\u001b[22m\u001b[39m … \u001b[35mmax\u001b[39m\u001b[90m):  \u001b[39m\u001b[36m\u001b[1m1.833 ms\u001b[22m\u001b[39m … \u001b[35m 2.165 ms\u001b[39m  \u001b[90m┊\u001b[39m GC \u001b[90m(\u001b[39mmin … max\u001b[90m): \u001b[39m0.00% … 0.00%\n",
       " Time  \u001b[90m(\u001b[39m\u001b[34m\u001b[1mmedian\u001b[22m\u001b[39m\u001b[90m):     \u001b[39m\u001b[34m\u001b[1m1.864 ms              \u001b[22m\u001b[39m\u001b[90m┊\u001b[39m GC \u001b[90m(\u001b[39mmedian\u001b[90m):    \u001b[39m0.00%\n",
       " Time  \u001b[90m(\u001b[39m\u001b[32m\u001b[1mmean\u001b[22m\u001b[39m ± \u001b[32mσ\u001b[39m\u001b[90m):   \u001b[39m\u001b[32m\u001b[1m1.880 ms\u001b[22m\u001b[39m ± \u001b[32m44.980 μs\u001b[39m  \u001b[90m┊\u001b[39m GC \u001b[90m(\u001b[39mmean ± σ\u001b[90m):  \u001b[39m0.00% ± 0.00%\n",
       "\n",
       "  \u001b[39m \u001b[39m▃\u001b[39m█\u001b[39m▂\u001b[39m \u001b[39m \u001b[39m \u001b[39m \u001b[34m \u001b[39m\u001b[39m \u001b[39m \u001b[39m \u001b[39m \u001b[32m \u001b[39m\u001b[39m \u001b[39m \u001b[39m \u001b[39m \u001b[39m \u001b[39m \u001b[39m \u001b[39m \u001b[39m \u001b[39m \u001b[39m \u001b[39m \u001b[39m \u001b[39m \u001b[39m \u001b[39m \u001b[39m \u001b[39m \u001b[39m \u001b[39m \u001b[39m \u001b[39m \u001b[39m \u001b[39m \u001b[39m \u001b[39m \u001b[39m \u001b[39m \u001b[39m \u001b[39m \u001b[39m \u001b[39m \u001b[39m \u001b[39m \u001b[39m \u001b[39m \u001b[39m \u001b[39m \u001b[39m \u001b[39m \u001b[39m \u001b[39m \u001b[39m \u001b[39m \u001b[39m \u001b[39m \n",
       "  \u001b[39m▄\u001b[39m█\u001b[39m█\u001b[39m█\u001b[39m█\u001b[39m▇\u001b[39m▇\u001b[39m▆\u001b[34m▇\u001b[39m\u001b[39m▅\u001b[39m▄\u001b[39m▅\u001b[39m▄\u001b[32m▅\u001b[39m\u001b[39m▅\u001b[39m▄\u001b[39m▄\u001b[39m▄\u001b[39m▄\u001b[39m▄\u001b[39m▄\u001b[39m▄\u001b[39m▄\u001b[39m▄\u001b[39m▄\u001b[39m▄\u001b[39m▄\u001b[39m▄\u001b[39m▃\u001b[39m▃\u001b[39m▃\u001b[39m▃\u001b[39m▃\u001b[39m▃\u001b[39m▂\u001b[39m▃\u001b[39m▂\u001b[39m▂\u001b[39m▃\u001b[39m▂\u001b[39m▂\u001b[39m▂\u001b[39m▂\u001b[39m▂\u001b[39m▁\u001b[39m▂\u001b[39m▂\u001b[39m▂\u001b[39m▂\u001b[39m▂\u001b[39m▂\u001b[39m▂\u001b[39m▂\u001b[39m▂\u001b[39m▂\u001b[39m▂\u001b[39m▂\u001b[39m▂\u001b[39m \u001b[39m▃\n",
       "  1.83 ms\u001b[90m        Histogram: frequency by time\u001b[39m        2.04 ms \u001b[0m\u001b[1m<\u001b[22m\n",
       "\n",
       " Memory estimate\u001b[90m: \u001b[39m\u001b[33m0 bytes\u001b[39m, allocs estimate\u001b[90m: \u001b[39m\u001b[33m0\u001b[39m."
      ]
     },
     "metadata": {},
     "output_type": "display_data"
    }
   ],
   "source": [
    "j_bench = @benchmark sum($a)"
   ]
  },
  {
   "cell_type": "code",
   "execution_count": 40,
   "metadata": {
    "scrolled": true
   },
   "outputs": [
    {
     "data": {
      "text/plain": [
       "Dict{Any, Any} with 5 entries:\n",
       "  \"C\"                   => 9.38567\n",
       "  \"Python hand-written\" => 1173.66\n",
       "  \"Python built-in\"     => 934.561\n",
       "  \"Julia built-in\"      => 1.8335\n",
       "  \"C -ffast-math\"       => 1.78158"
      ]
     },
     "metadata": {},
     "output_type": "display_data"
    }
   ],
   "source": [
    "d[\"Julia built-in\"] = minimum(j_bench.times) / 1e6\n",
    "d"
   ]
  },
  {
   "cell_type": "markdown",
   "metadata": {},
   "source": [
    "# 7. Julia (hand-written) "
   ]
  },
  {
   "cell_type": "code",
   "execution_count": 41,
   "metadata": {
    "scrolled": true
   },
   "outputs": [
    {
     "data": {
      "text/plain": [
       "mysum (generic function with 1 method)"
      ]
     },
     "metadata": {},
     "output_type": "display_data"
    }
   ],
   "source": [
    "function mysum(A)   \n",
    "    s = 0.0 # s = zero(eltype(a))\n",
    "    for a in A\n",
    "        s += a\n",
    "    end\n",
    "    s\n",
    "end"
   ]
  },
  {
   "cell_type": "code",
   "execution_count": 42,
   "metadata": {
    "scrolled": false
   },
   "outputs": [
    {
     "data": {
      "text/plain": [
       "BenchmarkTools.Trial: 526 samples with 1 evaluation.\n",
       " Range \u001b[90m(\u001b[39m\u001b[36m\u001b[1mmin\u001b[22m\u001b[39m … \u001b[35mmax\u001b[39m\u001b[90m):  \u001b[39m\u001b[36m\u001b[1m9.384 ms\u001b[22m\u001b[39m … \u001b[35m 9.753 ms\u001b[39m  \u001b[90m┊\u001b[39m GC \u001b[90m(\u001b[39mmin … max\u001b[90m): \u001b[39m0.00% … 0.00%\n",
       " Time  \u001b[90m(\u001b[39m\u001b[34m\u001b[1mmedian\u001b[22m\u001b[39m\u001b[90m):     \u001b[39m\u001b[34m\u001b[1m9.488 ms              \u001b[22m\u001b[39m\u001b[90m┊\u001b[39m GC \u001b[90m(\u001b[39mmedian\u001b[90m):    \u001b[39m0.00%\n",
       " Time  \u001b[90m(\u001b[39m\u001b[32m\u001b[1mmean\u001b[22m\u001b[39m ± \u001b[32mσ\u001b[39m\u001b[90m):   \u001b[39m\u001b[32m\u001b[1m9.494 ms\u001b[22m\u001b[39m ± \u001b[32m46.322 μs\u001b[39m  \u001b[90m┊\u001b[39m GC \u001b[90m(\u001b[39mmean ± σ\u001b[90m):  \u001b[39m0.00% ± 0.00%\n",
       "\n",
       "  \u001b[39m \u001b[39m \u001b[39m \u001b[39m \u001b[39m \u001b[39m \u001b[39m \u001b[39m \u001b[39m \u001b[39m \u001b[39m \u001b[39m \u001b[39m \u001b[39m▃\u001b[39m▁\u001b[39m▃\u001b[39m▁\u001b[39m▆\u001b[39m▃\u001b[39m▅\u001b[39m█\u001b[39m▅\u001b[34m▁\u001b[39m\u001b[32m▂\u001b[39m\u001b[39m▅\u001b[39m▄\u001b[39m \u001b[39m \u001b[39m▃\u001b[39m▂\u001b[39m \u001b[39m \u001b[39m \u001b[39m \u001b[39m \u001b[39m \u001b[39m \u001b[39m \u001b[39m \u001b[39m \u001b[39m \u001b[39m \u001b[39m \u001b[39m \u001b[39m \u001b[39m \u001b[39m \u001b[39m \u001b[39m \u001b[39m \u001b[39m \u001b[39m \u001b[39m \u001b[39m \u001b[39m \u001b[39m \u001b[39m \u001b[39m \u001b[39m \u001b[39m \n",
       "  \u001b[39m▂\u001b[39m▁\u001b[39m▂\u001b[39m▁\u001b[39m▂\u001b[39m▃\u001b[39m▃\u001b[39m▃\u001b[39m▄\u001b[39m▅\u001b[39m▇\u001b[39m█\u001b[39m█\u001b[39m█\u001b[39m█\u001b[39m█\u001b[39m█\u001b[39m█\u001b[39m█\u001b[39m█\u001b[39m█\u001b[39m█\u001b[34m█\u001b[39m\u001b[32m█\u001b[39m\u001b[39m█\u001b[39m█\u001b[39m█\u001b[39m█\u001b[39m█\u001b[39m█\u001b[39m▆\u001b[39m▆\u001b[39m▆\u001b[39m▆\u001b[39m▅\u001b[39m▄\u001b[39m▄\u001b[39m▆\u001b[39m▃\u001b[39m▃\u001b[39m▃\u001b[39m▂\u001b[39m▃\u001b[39m▃\u001b[39m▁\u001b[39m▁\u001b[39m▂\u001b[39m▂\u001b[39m▁\u001b[39m▂\u001b[39m▁\u001b[39m▂\u001b[39m▁\u001b[39m▂\u001b[39m▁\u001b[39m▁\u001b[39m▁\u001b[39m▃\u001b[39m \u001b[39m▄\n",
       "  9.38 ms\u001b[90m        Histogram: frequency by time\u001b[39m        9.66 ms \u001b[0m\u001b[1m<\u001b[22m\n",
       "\n",
       " Memory estimate\u001b[90m: \u001b[39m\u001b[33m0 bytes\u001b[39m, allocs estimate\u001b[90m: \u001b[39m\u001b[33m0\u001b[39m."
      ]
     },
     "metadata": {},
     "output_type": "display_data"
    }
   ],
   "source": [
    "j_bench_hand = @benchmark mysum($a)"
   ]
  },
  {
   "cell_type": "code",
   "execution_count": 43,
   "metadata": {
    "scrolled": true
   },
   "outputs": [
    {
     "data": {
      "text/plain": [
       "Dict{Any, Any} with 6 entries:\n",
       "  \"C\"                   => 9.38567\n",
       "  \"Julia hand-written\"  => 9.384\n",
       "  \"Python hand-written\" => 1173.66\n",
       "  \"Python built-in\"     => 934.561\n",
       "  \"Julia built-in\"      => 1.8335\n",
       "  \"C -ffast-math\"       => 1.78158"
      ]
     },
     "metadata": {},
     "output_type": "display_data"
    }
   ],
   "source": [
    "d[\"Julia hand-written\"] = minimum(j_bench_hand.times) / 1e6\n",
    "d"
   ]
  },
  {
   "cell_type": "markdown",
   "metadata": {},
   "source": [
    "# 8. Julia (hand-written w. simd) "
   ]
  },
  {
   "cell_type": "code",
   "execution_count": 44,
   "metadata": {},
   "outputs": [
    {
     "data": {
      "text/plain": [
       "mysum_simd (generic function with 1 method)"
      ]
     },
     "metadata": {},
     "output_type": "display_data"
    }
   ],
   "source": [
    "function mysum_simd(A)   \n",
    "    s = 0.0 # s = zero(eltype(A))\n",
    "    @simd for a in A\n",
    "        s += a\n",
    "    end\n",
    "    s\n",
    "end"
   ]
  },
  {
   "cell_type": "code",
   "execution_count": 45,
   "metadata": {
    "scrolled": false
   },
   "outputs": [
    {
     "data": {
      "text/plain": [
       "BenchmarkTools.Trial: 2077 samples with 1 evaluation.\n",
       " Range \u001b[90m(\u001b[39m\u001b[36m\u001b[1mmin\u001b[22m\u001b[39m … \u001b[35mmax\u001b[39m\u001b[90m):  \u001b[39m\u001b[36m\u001b[1m2.360 ms\u001b[22m\u001b[39m … \u001b[35m 2.620 ms\u001b[39m  \u001b[90m┊\u001b[39m GC \u001b[90m(\u001b[39mmin … max\u001b[90m): \u001b[39m0.00% … 0.00%\n",
       " Time  \u001b[90m(\u001b[39m\u001b[34m\u001b[1mmedian\u001b[22m\u001b[39m\u001b[90m):     \u001b[39m\u001b[34m\u001b[1m2.385 ms              \u001b[22m\u001b[39m\u001b[90m┊\u001b[39m GC \u001b[90m(\u001b[39mmedian\u001b[90m):    \u001b[39m0.00%\n",
       " Time  \u001b[90m(\u001b[39m\u001b[32m\u001b[1mmean\u001b[22m\u001b[39m ± \u001b[32mσ\u001b[39m\u001b[90m):   \u001b[39m\u001b[32m\u001b[1m2.394 ms\u001b[22m\u001b[39m ± \u001b[32m33.848 μs\u001b[39m  \u001b[90m┊\u001b[39m GC \u001b[90m(\u001b[39mmean ± σ\u001b[90m):  \u001b[39m0.00% ± 0.00%\n",
       "\n",
       "  \u001b[39m \u001b[39m█\u001b[39m \u001b[39m▁\u001b[39m \u001b[39m \u001b[39m \u001b[39m \u001b[39m \u001b[34m \u001b[39m\u001b[39m \u001b[39m \u001b[32m \u001b[39m\u001b[39m \u001b[39m \u001b[39m \u001b[39m \u001b[39m \u001b[39m \u001b[39m \u001b[39m \u001b[39m \u001b[39m \u001b[39m \u001b[39m \u001b[39m \u001b[39m \u001b[39m \u001b[39m \u001b[39m \u001b[39m \u001b[39m \u001b[39m \u001b[39m \u001b[39m \u001b[39m \u001b[39m \u001b[39m \u001b[39m \u001b[39m \u001b[39m \u001b[39m \u001b[39m \u001b[39m \u001b[39m \u001b[39m \u001b[39m \u001b[39m \u001b[39m \u001b[39m \u001b[39m \u001b[39m \u001b[39m \u001b[39m \u001b[39m \u001b[39m \u001b[39m \u001b[39m \u001b[39m \u001b[39m \n",
       "  \u001b[39m▇\u001b[39m█\u001b[39m▇\u001b[39m█\u001b[39m▆\u001b[39m▅\u001b[39m▅\u001b[39m▆\u001b[39m▄\u001b[34m▄\u001b[39m\u001b[39m▄\u001b[39m▅\u001b[32m▅\u001b[39m\u001b[39m▄\u001b[39m▄\u001b[39m▄\u001b[39m▄\u001b[39m▄\u001b[39m▅\u001b[39m▅\u001b[39m▄\u001b[39m▅\u001b[39m▄\u001b[39m▄\u001b[39m▄\u001b[39m▃\u001b[39m▃\u001b[39m▃\u001b[39m▃\u001b[39m▂\u001b[39m▂\u001b[39m▂\u001b[39m▂\u001b[39m▂\u001b[39m▂\u001b[39m▂\u001b[39m▂\u001b[39m▂\u001b[39m▂\u001b[39m▂\u001b[39m▂\u001b[39m▂\u001b[39m▂\u001b[39m▁\u001b[39m▂\u001b[39m▂\u001b[39m▂\u001b[39m▂\u001b[39m▂\u001b[39m▂\u001b[39m▂\u001b[39m▁\u001b[39m▂\u001b[39m▁\u001b[39m▁\u001b[39m▁\u001b[39m▂\u001b[39m▂\u001b[39m \u001b[39m▃\n",
       "  2.36 ms\u001b[90m        Histogram: frequency by time\u001b[39m        2.52 ms \u001b[0m\u001b[1m<\u001b[22m\n",
       "\n",
       " Memory estimate\u001b[90m: \u001b[39m\u001b[33m0 bytes\u001b[39m, allocs estimate\u001b[90m: \u001b[39m\u001b[33m0\u001b[39m."
      ]
     },
     "metadata": {},
     "output_type": "display_data"
    }
   ],
   "source": [
    "j_bench_hand_simd = @benchmark mysum_simd($a)"
   ]
  },
  {
   "cell_type": "code",
   "execution_count": 46,
   "metadata": {},
   "outputs": [
    {
     "data": {
      "text/plain": [
       "4.998920238772938e6"
      ]
     },
     "metadata": {},
     "output_type": "display_data"
    }
   ],
   "source": [
    "mysum_simd(a)"
   ]
  },
  {
   "cell_type": "code",
   "execution_count": 48,
   "metadata": {
    "scrolled": true
   },
   "outputs": [
    {
     "data": {
      "text/plain": [
       "Dict{Any, Any} with 7 entries:\n",
       "  \"Julia hand-written simd\" => 2.3595\n",
       "  \"C\"                       => 9.38567\n",
       "  \"Julia hand-written\"      => 9.384\n",
       "  \"Python hand-written\"     => 1173.66\n",
       "  \"Python built-in\"         => 934.561\n",
       "  \"Julia built-in\"          => 1.8335\n",
       "  \"C -ffast-math\"           => 1.78158"
      ]
     },
     "metadata": {},
     "output_type": "display_data"
    }
   ],
   "source": [
    "d[\"Julia hand-written simd\"] = minimum(j_bench_hand_simd.times) / 1e6\n",
    "d"
   ]
  },
  {
   "cell_type": "markdown",
   "metadata": {},
   "source": [
    "# Summary"
   ]
  },
  {
   "cell_type": "code",
   "execution_count": 49,
   "metadata": {
    "scrolled": true
   },
   "outputs": [
    {
     "name": "stdout",
     "output_type": "stream",
     "text": [
      "C -ffast-math...............1.8\n",
      "Julia built-in..............1.8\n",
      "Julia hand-written simd.....2.4\n",
      "Julia hand-written..........9.4\n",
      "C...........................9.4\n",
      "Python built-in...........934.6\n",
      "Python hand-written......1173.7\n"
     ]
    }
   ],
   "source": [
    "for (key, value) in sort(collect(d), by=last)\n",
    "    println(rpad(key, 25, \".\"), lpad(round(value; digits=1), 6, \".\"))\n",
    "end"
   ]
  },
  {
   "cell_type": "markdown",
   "metadata": {},
   "source": [
    "# Tarea\n",
    "\n",
    "    1. Implementar una aproximacion numerica de $\\pi$ usando los lenguajes Julia y C. \n",
    "    2. Comparar los resultados obtenidos para igual numero de iteraciones.\n",
    "    3. Evaluar los tiempos de ejecución para ambas implementaciones.\n",
    "\n",
    "https://towardsdatascience.com/computing-pi-in-only-3-lines-95c26276f4c9"
   ]
  },
  {
   "cell_type": "code",
   "execution_count": 50,
   "metadata": {},
   "outputs": [
    {
     "data": {
      "text/plain": [
       "BenchmarkTools.Trial: 17 samples with 1 evaluation.\n",
       " Range \u001b[90m(\u001b[39m\u001b[36m\u001b[1mmin\u001b[22m\u001b[39m … \u001b[35mmax\u001b[39m\u001b[90m):  \u001b[39m\u001b[36m\u001b[1m294.604 ms\u001b[22m\u001b[39m … \u001b[35m298.135 ms\u001b[39m  \u001b[90m┊\u001b[39m GC \u001b[90m(\u001b[39mmin … max\u001b[90m): \u001b[39m0.00% … 0.00%\n",
       " Time  \u001b[90m(\u001b[39m\u001b[34m\u001b[1mmedian\u001b[22m\u001b[39m\u001b[90m):     \u001b[39m\u001b[34m\u001b[1m295.277 ms               \u001b[22m\u001b[39m\u001b[90m┊\u001b[39m GC \u001b[90m(\u001b[39mmedian\u001b[90m):    \u001b[39m0.00%\n",
       " Time  \u001b[90m(\u001b[39m\u001b[32m\u001b[1mmean\u001b[22m\u001b[39m ± \u001b[32mσ\u001b[39m\u001b[90m):   \u001b[39m\u001b[32m\u001b[1m295.481 ms\u001b[22m\u001b[39m ± \u001b[32m817.418 μs\u001b[39m  \u001b[90m┊\u001b[39m GC \u001b[90m(\u001b[39mmean ± σ\u001b[90m):  \u001b[39m0.00% ± 0.00%\n",
       "\n",
       "  \u001b[39m▁\u001b[39m \u001b[39m \u001b[39m \u001b[39m \u001b[39m█\u001b[39m█\u001b[39m▁\u001b[39m▁\u001b[39m▁\u001b[34m \u001b[39m\u001b[39m█\u001b[39m▁\u001b[39m▁\u001b[39m \u001b[32m \u001b[39m\u001b[39m \u001b[39m \u001b[39m \u001b[39m \u001b[39m \u001b[39m▁\u001b[39m▁\u001b[39m \u001b[39m \u001b[39m \u001b[39m▁\u001b[39m▁\u001b[39m \u001b[39m \u001b[39m \u001b[39m \u001b[39m \u001b[39m \u001b[39m \u001b[39m \u001b[39m \u001b[39m \u001b[39m \u001b[39m \u001b[39m \u001b[39m \u001b[39m \u001b[39m \u001b[39m \u001b[39m \u001b[39m \u001b[39m \u001b[39m \u001b[39m \u001b[39m \u001b[39m \u001b[39m \u001b[39m \u001b[39m \u001b[39m \u001b[39m \u001b[39m \u001b[39m \u001b[39m \u001b[39m▁\u001b[39m \u001b[39m \n",
       "  \u001b[39m█\u001b[39m▁\u001b[39m▁\u001b[39m▁\u001b[39m▁\u001b[39m█\u001b[39m█\u001b[39m█\u001b[39m█\u001b[39m█\u001b[34m▁\u001b[39m\u001b[39m█\u001b[39m█\u001b[39m█\u001b[39m▁\u001b[32m▁\u001b[39m\u001b[39m▁\u001b[39m▁\u001b[39m▁\u001b[39m▁\u001b[39m▁\u001b[39m█\u001b[39m█\u001b[39m▁\u001b[39m▁\u001b[39m▁\u001b[39m█\u001b[39m█\u001b[39m▁\u001b[39m▁\u001b[39m▁\u001b[39m▁\u001b[39m▁\u001b[39m▁\u001b[39m▁\u001b[39m▁\u001b[39m▁\u001b[39m▁\u001b[39m▁\u001b[39m▁\u001b[39m▁\u001b[39m▁\u001b[39m▁\u001b[39m▁\u001b[39m▁\u001b[39m▁\u001b[39m▁\u001b[39m▁\u001b[39m▁\u001b[39m▁\u001b[39m▁\u001b[39m▁\u001b[39m▁\u001b[39m▁\u001b[39m▁\u001b[39m▁\u001b[39m▁\u001b[39m▁\u001b[39m▁\u001b[39m▁\u001b[39m█\u001b[39m \u001b[39m▁\n",
       "  295 ms\u001b[90m           Histogram: frequency by time\u001b[39m          298 ms \u001b[0m\u001b[1m<\u001b[22m\n",
       "\n",
       " Memory estimate\u001b[90m: \u001b[39m\u001b[33m48 bytes\u001b[39m, allocs estimate\u001b[90m: \u001b[39m\u001b[33m3\u001b[39m."
      ]
     },
     "metadata": {},
     "output_type": "display_data"
    }
   ],
   "source": [
    "py\"\"\"\n",
    "def py_pi(N):\n",
    "    pi = 0.0\n",
    "    for i in range(N):\n",
    "        pi += 4 * ((-1) ** i) / (2 * i + 1)\n",
    "    return pi\n",
    "\"\"\"\n",
    "\n",
    "N=1000000\n",
    "pi_py = py\"py_pi\"\n",
    "py_hand = @benchmark $pi_py($N)"
   ]
  },
  {
   "cell_type": "code",
   "execution_count": 51,
   "metadata": {},
   "outputs": [
    {
     "data": {
      "text/plain": [
       "BenchmarkTools.Trial: 36 samples with 1 evaluation.\n",
       " Range \u001b[90m(\u001b[39m\u001b[36m\u001b[1mmin\u001b[22m\u001b[39m … \u001b[35mmax\u001b[39m\u001b[90m):  \u001b[39m\u001b[36m\u001b[1m137.395 ms\u001b[22m\u001b[39m … \u001b[35m145.788 ms\u001b[39m  \u001b[90m┊\u001b[39m GC \u001b[90m(\u001b[39mmin … max\u001b[90m): \u001b[39m0.00% … 0.00%\n",
       " Time  \u001b[90m(\u001b[39m\u001b[34m\u001b[1mmedian\u001b[22m\u001b[39m\u001b[90m):     \u001b[39m\u001b[34m\u001b[1m141.651 ms               \u001b[22m\u001b[39m\u001b[90m┊\u001b[39m GC \u001b[90m(\u001b[39mmedian\u001b[90m):    \u001b[39m0.00%\n",
       " Time  \u001b[90m(\u001b[39m\u001b[32m\u001b[1mmean\u001b[22m\u001b[39m ± \u001b[32mσ\u001b[39m\u001b[90m):   \u001b[39m\u001b[32m\u001b[1m141.656 ms\u001b[22m\u001b[39m ± \u001b[32m  1.736 ms\u001b[39m  \u001b[90m┊\u001b[39m GC \u001b[90m(\u001b[39mmean ± σ\u001b[90m):  \u001b[39m0.00% ± 0.00%\n",
       "\n",
       "  \u001b[39m \u001b[39m \u001b[39m \u001b[39m \u001b[39m \u001b[39m \u001b[39m \u001b[39m \u001b[39m \u001b[39m \u001b[39m \u001b[39m \u001b[39m \u001b[39m \u001b[39m \u001b[39m \u001b[39m▃\u001b[39m \u001b[39m \u001b[39m \u001b[39m \u001b[39m \u001b[39m \u001b[39m \u001b[39m \u001b[39m█\u001b[39m \u001b[39m \u001b[39m \u001b[39m▃\u001b[39m \u001b[34m \u001b[39m\u001b[39m \u001b[39m▃\u001b[39m \u001b[39m▃\u001b[39m \u001b[39m \u001b[39m \u001b[39m▃\u001b[39m▃\u001b[39m \u001b[39m \u001b[39m \u001b[39m \u001b[39m \u001b[39m \u001b[39m \u001b[39m \u001b[39m \u001b[39m▃\u001b[39m \u001b[39m \u001b[39m \u001b[39m \u001b[39m \u001b[39m \u001b[39m \u001b[39m \u001b[39m \u001b[39m \u001b[39m \u001b[39m \n",
       "  \u001b[39m▇\u001b[39m▁\u001b[39m▁\u001b[39m▁\u001b[39m▁\u001b[39m▁\u001b[39m▁\u001b[39m▁\u001b[39m▇\u001b[39m▁\u001b[39m▁\u001b[39m▁\u001b[39m▁\u001b[39m▇\u001b[39m▇\u001b[39m▁\u001b[39m█\u001b[39m▁\u001b[39m▁\u001b[39m▇\u001b[39m▁\u001b[39m▁\u001b[39m▇\u001b[39m▇\u001b[39m▇\u001b[39m█\u001b[39m▇\u001b[39m▇\u001b[39m▁\u001b[39m█\u001b[39m▇\u001b[34m▇\u001b[39m\u001b[39m▁\u001b[39m█\u001b[39m▁\u001b[39m█\u001b[39m▇\u001b[39m▇\u001b[39m▇\u001b[39m█\u001b[39m█\u001b[39m▁\u001b[39m▇\u001b[39m▁\u001b[39m▁\u001b[39m▇\u001b[39m▇\u001b[39m▁\u001b[39m▁\u001b[39m▁\u001b[39m█\u001b[39m▁\u001b[39m▁\u001b[39m▁\u001b[39m▁\u001b[39m▁\u001b[39m▁\u001b[39m▁\u001b[39m▁\u001b[39m▁\u001b[39m▇\u001b[39m \u001b[39m▁\n",
       "  137 ms\u001b[90m           Histogram: frequency by time\u001b[39m          146 ms \u001b[0m\u001b[1m<\u001b[22m\n",
       "\n",
       " Memory estimate\u001b[90m: \u001b[39m\u001b[33m48 bytes\u001b[39m, allocs estimate\u001b[90m: \u001b[39m\u001b[33m3\u001b[39m."
      ]
     },
     "metadata": {},
     "output_type": "display_data"
    }
   ],
   "source": [
    "py\"\"\"\n",
    "def py_pi_mod(N):\n",
    "    pi = 0.0\n",
    "    for i in range(N):\n",
    "        pi += 4 * (1 - (i % 2) * 2) / (2 * i + 1)\n",
    "    return pi\n",
    "\"\"\"\n",
    "\n",
    "pi_py_mod = py\"py_pi_mod\"\n",
    "py_hand = @benchmark $pi_py_mod($N)"
   ]
  },
  {
   "cell_type": "code",
   "execution_count": 60,
   "metadata": {},
   "outputs": [
    {
     "data": {
      "text/plain": [
       "true"
      ]
     },
     "metadata": {},
     "output_type": "display_data"
    }
   ],
   "source": [
    "pi_py_mod(N)==pi_py(N)"
   ]
  },
  {
   "cell_type": "code",
   "execution_count": 52,
   "metadata": {},
   "outputs": [
    {
     "data": {
      "text/plain": [
       "c_pi (generic function with 1 method)"
      ]
     },
     "metadata": {},
     "output_type": "display_data"
    }
   ],
   "source": [
    "C_code_pi = \"\"\"\n",
    "#include <stddef.h>\n",
    "double c_pi(size_t n) {\n",
    "    double pi = 0.0;\n",
    "    for (size_t i = 0; i < n; ++i) {\n",
    "        pi += 4.0 * (1.0 - (i % 2) * 2.0) / (2.0 * i + 1.0);\n",
    "    }\n",
    "    return pi;\n",
    "}\n",
    "\"\"\"\n",
    "\n",
    "const Clib_pi = tempname()   # make a temporary file\n",
    "\n",
    "# compile to a shared library by piping C_code to gcc\n",
    "# (works only if you have gcc installed):\n",
    "\n",
    "open(`gcc -fPIC -O3 -msse3 -xc -shared -o $(Clib_pi * \".\" * Libdl.dlext) -`, \"w\") do f\n",
    "    print(f, C_code_pi) \n",
    "end\n",
    "\n",
    "# define a Julia function that calls the C function:\n",
    "c_pi(X::Int64) = ccall((\"c_pi\", Clib_pi), Float64, (Csize_t,), X)"
   ]
  },
  {
   "cell_type": "code",
   "execution_count": 53,
   "metadata": {},
   "outputs": [
    {
     "data": {
      "text/plain": [
       "BenchmarkTools.Trial: 5263 samples with 1 evaluation.\n",
       " Range \u001b[90m(\u001b[39m\u001b[36m\u001b[1mmin\u001b[22m\u001b[39m … \u001b[35mmax\u001b[39m\u001b[90m):  \u001b[39m\u001b[36m\u001b[1m936.291 μs\u001b[22m\u001b[39m … \u001b[35m 1.222 ms\u001b[39m  \u001b[90m┊\u001b[39m GC \u001b[90m(\u001b[39mmin … max\u001b[90m): \u001b[39m0.00% … 0.00%\n",
       " Time  \u001b[90m(\u001b[39m\u001b[34m\u001b[1mmedian\u001b[22m\u001b[39m\u001b[90m):     \u001b[39m\u001b[34m\u001b[1m943.459 μs              \u001b[22m\u001b[39m\u001b[90m┊\u001b[39m GC \u001b[90m(\u001b[39mmedian\u001b[90m):    \u001b[39m0.00%\n",
       " Time  \u001b[90m(\u001b[39m\u001b[32m\u001b[1mmean\u001b[22m\u001b[39m ± \u001b[32mσ\u001b[39m\u001b[90m):   \u001b[39m\u001b[32m\u001b[1m948.494 μs\u001b[22m\u001b[39m ± \u001b[32m15.320 μs\u001b[39m  \u001b[90m┊\u001b[39m GC \u001b[90m(\u001b[39mmean ± σ\u001b[90m):  \u001b[39m0.00% ± 0.00%\n",
       "\n",
       "  \u001b[39m▆\u001b[39m▁\u001b[39m▅\u001b[39m▂\u001b[39m█\u001b[39m▃\u001b[39m▇\u001b[34m▃\u001b[39m\u001b[39m▄\u001b[39m▃\u001b[39m▂\u001b[32m▂\u001b[39m\u001b[39m▂\u001b[39m▂\u001b[39m▂\u001b[39m▂\u001b[39m▂\u001b[39m▁\u001b[39m▁\u001b[39m▁\u001b[39m▁\u001b[39m▁\u001b[39m▁\u001b[39m▁\u001b[39m▁\u001b[39m \u001b[39m▁\u001b[39m \u001b[39m▁\u001b[39m▁\u001b[39m▁\u001b[39m \u001b[39m \u001b[39m \u001b[39m \u001b[39m \u001b[39m \u001b[39m \u001b[39m \u001b[39m \u001b[39m \u001b[39m \u001b[39m \u001b[39m \u001b[39m \u001b[39m \u001b[39m \u001b[39m \u001b[39m \u001b[39m \u001b[39m \u001b[39m \u001b[39m \u001b[39m \u001b[39m \u001b[39m \u001b[39m \u001b[39m \u001b[39m \u001b[39m \u001b[39m \u001b[39m▁\n",
       "  \u001b[39m█\u001b[39m█\u001b[39m█\u001b[39m█\u001b[39m█\u001b[39m█\u001b[39m█\u001b[34m█\u001b[39m\u001b[39m█\u001b[39m█\u001b[39m█\u001b[32m█\u001b[39m\u001b[39m█\u001b[39m█\u001b[39m█\u001b[39m█\u001b[39m█\u001b[39m█\u001b[39m█\u001b[39m█\u001b[39m█\u001b[39m█\u001b[39m█\u001b[39m█\u001b[39m█\u001b[39m█\u001b[39m█\u001b[39m█\u001b[39m█\u001b[39m█\u001b[39m█\u001b[39m█\u001b[39m█\u001b[39m█\u001b[39m█\u001b[39m▇\u001b[39m▇\u001b[39m▇\u001b[39m▇\u001b[39m▇\u001b[39m▇\u001b[39m▇\u001b[39m▆\u001b[39m▆\u001b[39m▇\u001b[39m▆\u001b[39m▆\u001b[39m▆\u001b[39m▆\u001b[39m▆\u001b[39m▇\u001b[39m▆\u001b[39m▅\u001b[39m▅\u001b[39m▅\u001b[39m▅\u001b[39m▄\u001b[39m▅\u001b[39m▃\u001b[39m▄\u001b[39m \u001b[39m█\n",
       "  936 μs\u001b[90m        \u001b[39m\u001b[90mHistogram: \u001b[39m\u001b[90m\u001b[1mlog(\u001b[22m\u001b[39m\u001b[90mfrequency\u001b[39m\u001b[90m\u001b[1m)\u001b[22m\u001b[39m\u001b[90m by time\u001b[39m         1 ms \u001b[0m\u001b[1m<\u001b[22m\n",
       "\n",
       " Memory estimate\u001b[90m: \u001b[39m\u001b[33m0 bytes\u001b[39m, allocs estimate\u001b[90m: \u001b[39m\u001b[33m0\u001b[39m."
      ]
     },
     "metadata": {},
     "output_type": "display_data"
    }
   ],
   "source": [
    "c_pi_bench = @benchmark $c_pi($N)"
   ]
  },
  {
   "cell_type": "code",
   "execution_count": 54,
   "metadata": {},
   "outputs": [
    {
     "data": {
      "text/plain": [
       "c_pi_fastmath (generic function with 1 method)"
      ]
     },
     "metadata": {},
     "output_type": "display_data"
    }
   ],
   "source": [
    "const Clib_pi_fastmath = tempname()   # make a temporary file\n",
    "\n",
    "# The same as above but with a -ffast-math flag added\n",
    "open(`gcc -fPIC -O3 -msse3 -xc -shared -ffast-math -o $(Clib_pi_fastmath * \".\" * Libdl.dlext) -`, \"w\") do f\n",
    "    print(f, C_code_pi) \n",
    "end\n",
    "\n",
    "# define a Julia function that calls the C function:\n",
    "c_pi_fastmath(X::Int64) = ccall((\"c_pi\", Clib_pi_fastmath), Float64, (Csize_t,), X)"
   ]
  },
  {
   "cell_type": "code",
   "execution_count": 55,
   "metadata": {},
   "outputs": [
    {
     "data": {
      "text/plain": [
       "BenchmarkTools.Trial: 6750 samples with 1 evaluation.\n",
       " Range \u001b[90m(\u001b[39m\u001b[36m\u001b[1mmin\u001b[22m\u001b[39m … \u001b[35mmax\u001b[39m\u001b[90m):  \u001b[39m\u001b[36m\u001b[1m730.458 μs\u001b[22m\u001b[39m … \u001b[35m 1.532 ms\u001b[39m  \u001b[90m┊\u001b[39m GC \u001b[90m(\u001b[39mmin … max\u001b[90m): \u001b[39m0.00% … 0.00%\n",
       " Time  \u001b[90m(\u001b[39m\u001b[34m\u001b[1mmedian\u001b[22m\u001b[39m\u001b[90m):     \u001b[39m\u001b[34m\u001b[1m733.541 μs              \u001b[22m\u001b[39m\u001b[90m┊\u001b[39m GC \u001b[90m(\u001b[39mmedian\u001b[90m):    \u001b[39m0.00%\n",
       " Time  \u001b[90m(\u001b[39m\u001b[32m\u001b[1mmean\u001b[22m\u001b[39m ± \u001b[32mσ\u001b[39m\u001b[90m):   \u001b[39m\u001b[32m\u001b[1m739.252 μs\u001b[22m\u001b[39m ± \u001b[32m16.291 μs\u001b[39m  \u001b[90m┊\u001b[39m GC \u001b[90m(\u001b[39mmean ± σ\u001b[90m):  \u001b[39m0.00% ± 0.00%\n",
       "\n",
       "  \u001b[39m█\u001b[39m▄\u001b[39m▃\u001b[34m▇\u001b[39m\u001b[39m▃\u001b[39m▂\u001b[39m▂\u001b[39m▂\u001b[39m▂\u001b[39m▂\u001b[32m▂\u001b[39m\u001b[39m▂\u001b[39m▂\u001b[39m▂\u001b[39m▂\u001b[39m▂\u001b[39m▂\u001b[39m▂\u001b[39m▂\u001b[39m▁\u001b[39m▁\u001b[39m▁\u001b[39m \u001b[39m \u001b[39m▁\u001b[39m▁\u001b[39m▁\u001b[39m▁\u001b[39m▁\u001b[39m▁\u001b[39m \u001b[39m▁\u001b[39m \u001b[39m \u001b[39m \u001b[39m \u001b[39m \u001b[39m \u001b[39m \u001b[39m \u001b[39m \u001b[39m \u001b[39m \u001b[39m \u001b[39m \u001b[39m \u001b[39m \u001b[39m \u001b[39m \u001b[39m \u001b[39m \u001b[39m \u001b[39m \u001b[39m \u001b[39m \u001b[39m \u001b[39m \u001b[39m \u001b[39m \u001b[39m \u001b[39m \u001b[39m▁\n",
       "  \u001b[39m█\u001b[39m█\u001b[39m█\u001b[34m█\u001b[39m\u001b[39m█\u001b[39m█\u001b[39m█\u001b[39m█\u001b[39m█\u001b[39m█\u001b[32m█\u001b[39m\u001b[39m█\u001b[39m█\u001b[39m█\u001b[39m█\u001b[39m█\u001b[39m█\u001b[39m█\u001b[39m█\u001b[39m█\u001b[39m█\u001b[39m█\u001b[39m█\u001b[39m█\u001b[39m█\u001b[39m█\u001b[39m█\u001b[39m█\u001b[39m█\u001b[39m█\u001b[39m█\u001b[39m█\u001b[39m█\u001b[39m█\u001b[39m█\u001b[39m▇\u001b[39m▇\u001b[39m▆\u001b[39m▇\u001b[39m▇\u001b[39m▇\u001b[39m▅\u001b[39m▆\u001b[39m▆\u001b[39m▅\u001b[39m▆\u001b[39m▅\u001b[39m▅\u001b[39m▅\u001b[39m▄\u001b[39m▅\u001b[39m▅\u001b[39m▄\u001b[39m▃\u001b[39m▄\u001b[39m▆\u001b[39m▅\u001b[39m▅\u001b[39m▇\u001b[39m▇\u001b[39m \u001b[39m█\n",
       "  730 μs\u001b[90m        \u001b[39m\u001b[90mHistogram: \u001b[39m\u001b[90m\u001b[1mlog(\u001b[22m\u001b[39m\u001b[90mfrequency\u001b[39m\u001b[90m\u001b[1m)\u001b[22m\u001b[39m\u001b[90m by time\u001b[39m       785 μs \u001b[0m\u001b[1m<\u001b[22m\n",
       "\n",
       " Memory estimate\u001b[90m: \u001b[39m\u001b[33m0 bytes\u001b[39m, allocs estimate\u001b[90m: \u001b[39m\u001b[33m0\u001b[39m."
      ]
     },
     "metadata": {},
     "output_type": "display_data"
    }
   ],
   "source": [
    "c_pi_fastmath_bench = @benchmark $c_pi_fastmath($N)"
   ]
  },
  {
   "cell_type": "code",
   "execution_count": 56,
   "metadata": {},
   "outputs": [
    {
     "data": {
      "text/plain": [
       "pi_julia (generic function with 1 method)"
      ]
     },
     "metadata": {},
     "output_type": "display_data"
    }
   ],
   "source": [
    "function pi_julia(N)   \n",
    "    pi = 0.0 # s = zero(eltype(A))\n",
    "    for i in range(0,N)\n",
    "        pi += 4.0 * (1.0 - (i % 2) * 2.0) / (2.0 * i + 1.0)\n",
    "    end\n",
    "    return pi\n",
    "end"
   ]
  },
  {
   "cell_type": "code",
   "execution_count": 57,
   "metadata": {},
   "outputs": [
    {
     "data": {
      "text/plain": [
       "BenchmarkTools.Trial: 5280 samples with 1 evaluation.\n",
       " Range \u001b[90m(\u001b[39m\u001b[36m\u001b[1mmin\u001b[22m\u001b[39m … \u001b[35mmax\u001b[39m\u001b[90m):  \u001b[39m\u001b[36m\u001b[1m936.500 μs\u001b[22m\u001b[39m … \u001b[35m 1.074 ms\u001b[39m  \u001b[90m┊\u001b[39m GC \u001b[90m(\u001b[39mmin … max\u001b[90m): \u001b[39m0.00% … 0.00%\n",
       " Time  \u001b[90m(\u001b[39m\u001b[34m\u001b[1mmedian\u001b[22m\u001b[39m\u001b[90m):     \u001b[39m\u001b[34m\u001b[1m939.334 μs              \u001b[22m\u001b[39m\u001b[90m┊\u001b[39m GC \u001b[90m(\u001b[39mmedian\u001b[90m):    \u001b[39m0.00%\n",
       " Time  \u001b[90m(\u001b[39m\u001b[32m\u001b[1mmean\u001b[22m\u001b[39m ± \u001b[32mσ\u001b[39m\u001b[90m):   \u001b[39m\u001b[32m\u001b[1m945.586 μs\u001b[22m\u001b[39m ± \u001b[32m13.223 μs\u001b[39m  \u001b[90m┊\u001b[39m GC \u001b[90m(\u001b[39mmean ± σ\u001b[90m):  \u001b[39m0.00% ± 0.00%\n",
       "\n",
       "  \u001b[39m█\u001b[39m▂\u001b[39m▃\u001b[34m▇\u001b[39m\u001b[39m▁\u001b[39m▄\u001b[39m▄\u001b[39m▂\u001b[39m▂\u001b[39m▂\u001b[32m▂\u001b[39m\u001b[39m▂\u001b[39m▁\u001b[39m▂\u001b[39m▃\u001b[39m▁\u001b[39m▁\u001b[39m▂\u001b[39m▁\u001b[39m▁\u001b[39m \u001b[39m▁\u001b[39m▁\u001b[39m▁\u001b[39m \u001b[39m▁\u001b[39m▁\u001b[39m▁\u001b[39m▁\u001b[39m▁\u001b[39m \u001b[39m \u001b[39m \u001b[39m \u001b[39m \u001b[39m \u001b[39m \u001b[39m \u001b[39m \u001b[39m \u001b[39m \u001b[39m \u001b[39m \u001b[39m \u001b[39m \u001b[39m \u001b[39m \u001b[39m \u001b[39m \u001b[39m \u001b[39m \u001b[39m \u001b[39m \u001b[39m \u001b[39m \u001b[39m \u001b[39m \u001b[39m \u001b[39m \u001b[39m \u001b[39m \u001b[39m▁\n",
       "  \u001b[39m█\u001b[39m█\u001b[39m█\u001b[34m█\u001b[39m\u001b[39m█\u001b[39m█\u001b[39m█\u001b[39m█\u001b[39m█\u001b[39m█\u001b[32m█\u001b[39m\u001b[39m█\u001b[39m█\u001b[39m█\u001b[39m█\u001b[39m█\u001b[39m█\u001b[39m█\u001b[39m█\u001b[39m█\u001b[39m█\u001b[39m█\u001b[39m█\u001b[39m█\u001b[39m█\u001b[39m█\u001b[39m█\u001b[39m█\u001b[39m█\u001b[39m█\u001b[39m█\u001b[39m█\u001b[39m█\u001b[39m▇\u001b[39m▇\u001b[39m▇\u001b[39m▇\u001b[39m▇\u001b[39m▇\u001b[39m▆\u001b[39m▆\u001b[39m▆\u001b[39m▇\u001b[39m▇\u001b[39m▆\u001b[39m▆\u001b[39m▅\u001b[39m▆\u001b[39m▆\u001b[39m▆\u001b[39m▆\u001b[39m▆\u001b[39m▆\u001b[39m▅\u001b[39m▃\u001b[39m▆\u001b[39m▆\u001b[39m▅\u001b[39m▄\u001b[39m▅\u001b[39m \u001b[39m█\n",
       "  936 μs\u001b[90m        \u001b[39m\u001b[90mHistogram: \u001b[39m\u001b[90m\u001b[1mlog(\u001b[22m\u001b[39m\u001b[90mfrequency\u001b[39m\u001b[90m\u001b[1m)\u001b[22m\u001b[39m\u001b[90m by time\u001b[39m       991 μs \u001b[0m\u001b[1m<\u001b[22m\n",
       "\n",
       " Memory estimate\u001b[90m: \u001b[39m\u001b[33m0 bytes\u001b[39m, allocs estimate\u001b[90m: \u001b[39m\u001b[33m0\u001b[39m."
      ]
     },
     "metadata": {},
     "output_type": "display_data"
    }
   ],
   "source": [
    "j_bench_julia = @benchmark pi_julia($N)"
   ]
  },
  {
   "cell_type": "code",
   "execution_count": 58,
   "metadata": {},
   "outputs": [
    {
     "data": {
      "text/plain": [
       "pi_julia_simd (generic function with 1 method)"
      ]
     },
     "metadata": {},
     "output_type": "display_data"
    }
   ],
   "source": [
    "function pi_julia_simd(N)   \n",
    "    pi = 0.0 # s = zero(eltype(A))\n",
    "     @simd for i in range(0,N)\n",
    "        pi += 4.0 * (1.0 - (i % 2) * 2.0) / (2.0 * i + 1.0)\n",
    "    end\n",
    "    return pi\n",
    "end"
   ]
  },
  {
   "cell_type": "code",
   "execution_count": 59,
   "metadata": {},
   "outputs": [
    {
     "data": {
      "text/plain": [
       "BenchmarkTools.Trial: 7937 samples with 1 evaluation.\n",
       " Range \u001b[90m(\u001b[39m\u001b[36m\u001b[1mmin\u001b[22m\u001b[39m … \u001b[35mmax\u001b[39m\u001b[90m):  \u001b[39m\u001b[36m\u001b[1m621.042 μs\u001b[22m\u001b[39m … \u001b[35m756.833 μs\u001b[39m  \u001b[90m┊\u001b[39m GC \u001b[90m(\u001b[39mmin … max\u001b[90m): \u001b[39m0.00% … 0.00%\n",
       " Time  \u001b[90m(\u001b[39m\u001b[34m\u001b[1mmedian\u001b[22m\u001b[39m\u001b[90m):     \u001b[39m\u001b[34m\u001b[1m624.042 μs               \u001b[22m\u001b[39m\u001b[90m┊\u001b[39m GC \u001b[90m(\u001b[39mmedian\u001b[90m):    \u001b[39m0.00%\n",
       " Time  \u001b[90m(\u001b[39m\u001b[32m\u001b[1mmean\u001b[22m\u001b[39m ± \u001b[32mσ\u001b[39m\u001b[90m):   \u001b[39m\u001b[32m\u001b[1m628.632 μs\u001b[22m\u001b[39m ± \u001b[32m 11.464 μs\u001b[39m  \u001b[90m┊\u001b[39m GC \u001b[90m(\u001b[39mmean ± σ\u001b[90m):  \u001b[39m0.00% ± 0.00%\n",
       "\n",
       "  \u001b[39m█\u001b[39m▁\u001b[39m▁\u001b[39m▆\u001b[34m▄\u001b[39m\u001b[39m \u001b[39m▂\u001b[39m▃\u001b[39m▂\u001b[39m▂\u001b[32m▁\u001b[39m\u001b[39m▁\u001b[39m▂\u001b[39m▂\u001b[39m▁\u001b[39m▁\u001b[39m▂\u001b[39m▂\u001b[39m▁\u001b[39m \u001b[39m▁\u001b[39m▁\u001b[39m▁\u001b[39m▁\u001b[39m \u001b[39m \u001b[39m \u001b[39m▁\u001b[39m \u001b[39m \u001b[39m \u001b[39m \u001b[39m \u001b[39m \u001b[39m \u001b[39m▁\u001b[39m \u001b[39m \u001b[39m \u001b[39m \u001b[39m \u001b[39m \u001b[39m \u001b[39m \u001b[39m \u001b[39m \u001b[39m \u001b[39m \u001b[39m \u001b[39m \u001b[39m \u001b[39m \u001b[39m \u001b[39m \u001b[39m \u001b[39m \u001b[39m \u001b[39m \u001b[39m \u001b[39m \u001b[39m \u001b[39m \u001b[39m▁\n",
       "  \u001b[39m█\u001b[39m█\u001b[39m█\u001b[39m█\u001b[34m█\u001b[39m\u001b[39m█\u001b[39m█\u001b[39m█\u001b[39m█\u001b[39m█\u001b[32m█\u001b[39m\u001b[39m█\u001b[39m█\u001b[39m█\u001b[39m█\u001b[39m█\u001b[39m█\u001b[39m█\u001b[39m█\u001b[39m█\u001b[39m█\u001b[39m█\u001b[39m█\u001b[39m█\u001b[39m█\u001b[39m█\u001b[39m█\u001b[39m█\u001b[39m█\u001b[39m█\u001b[39m█\u001b[39m█\u001b[39m█\u001b[39m█\u001b[39m█\u001b[39m█\u001b[39m█\u001b[39m█\u001b[39m█\u001b[39m▇\u001b[39m▇\u001b[39m▇\u001b[39m▇\u001b[39m▇\u001b[39m▇\u001b[39m▇\u001b[39m▆\u001b[39m▆\u001b[39m▅\u001b[39m▆\u001b[39m▆\u001b[39m▅\u001b[39m▇\u001b[39m▆\u001b[39m▅\u001b[39m▆\u001b[39m▄\u001b[39m▅\u001b[39m▅\u001b[39m▃\u001b[39m▄\u001b[39m \u001b[39m█\n",
       "  621 μs\u001b[90m        \u001b[39m\u001b[90mHistogram: \u001b[39m\u001b[90m\u001b[1mlog(\u001b[22m\u001b[39m\u001b[90mfrequency\u001b[39m\u001b[90m\u001b[1m)\u001b[22m\u001b[39m\u001b[90m by time\u001b[39m        669 μs \u001b[0m\u001b[1m<\u001b[22m\n",
       "\n",
       " Memory estimate\u001b[90m: \u001b[39m\u001b[33m0 bytes\u001b[39m, allocs estimate\u001b[90m: \u001b[39m\u001b[33m0\u001b[39m."
      ]
     },
     "metadata": {},
     "output_type": "display_data"
    }
   ],
   "source": [
    "j_bench_julia_simd = @benchmark pi_julia_simd($N)"
   ]
  }
 ],
 "metadata": {
  "anaconda-cloud": {},
  "kernelspec": {
   "display_name": "Julia 1.9.2",
   "language": "julia",
   "name": "julia-1.9"
  },
  "language_info": {
   "file_extension": ".jl",
   "mimetype": "application/julia",
   "name": "julia",
   "version": "1.9.2"
  },
  "toc": {
   "colors": {
    "hover_highlight": "#DAA520",
    "running_highlight": "#FF0000",
    "selected_highlight": "#FFD700"
   },
   "moveMenuLeft": true,
   "nav_menu": {
    "height": "212px",
    "width": "252px"
   },
   "navigate_menu": true,
   "number_sections": true,
   "sideBar": true,
   "threshold": "2",
   "toc_cell": false,
   "toc_section_display": "block",
   "toc_window_display": false
  }
 },
 "nbformat": 4,
 "nbformat_minor": 2
}
