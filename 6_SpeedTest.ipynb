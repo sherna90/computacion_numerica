{
 "cells": [
  {
   "cell_type": "markdown",
   "metadata": {},
   "source": [
    "# Julia is fast\n",
    "\n",
    "Very often, benchmarks are used to compare languages.  These benchmarks can lead to long discussions, first as to exactly what is being benchmarked and secondly what explains the differences.  These simple questions can sometimes get more complicated than you at first might imagine.\n",
    "\n",
    "The purpose of this notebook is for you to see a simple benchmark for yourself.  One can read the notebook and see what happened on the author's Macbook Pro with a 4-core Intel Core I7, or run the notebook yourself.\n",
    "\n",
    "(This material began life as a wonderful lecture by Steven Johnson at MIT: https://github.com/stevengj/18S096/blob/master/lectures/lecture1/Boxes-and-registers.ipynb.)"
   ]
  },
  {
   "cell_type": "markdown",
   "metadata": {},
   "source": [
    "# Outline of this notebook\n",
    "\n",
    "- Define the sum function\n",
    "- Implementations & benchmarking of sum in...\n",
    "    - C (hand-written)\n",
    "    - C (hand-written with -ffast-math)\n",
    "    - python (built-in)\n",
    "    - python (numpy)\n",
    "    - python (hand-written)\n",
    "    - Julia (built-in)\n",
    "    - Julia (hand-written)\n",
    "    - Julia (hand-written with SIMD)\n",
    "- Summary of benchmarks"
   ]
  },
  {
   "cell_type": "markdown",
   "metadata": {},
   "source": [
    "# `sum`: An easy enough function to understand"
   ]
  },
  {
   "cell_type": "markdown",
   "metadata": {},
   "source": [
    "Consider the  **sum** function `sum(a)`, which computes\n",
    "$$\n",
    "\\mathrm{sum}(a) = \\sum_{i=1}^n a_i,\n",
    "$$\n",
    "where $n$ is the length of `a`."
   ]
  },
  {
   "cell_type": "code",
   "execution_count": 1,
   "metadata": {
    "scrolled": false
   },
   "outputs": [
    {
     "data": {
      "text/plain": [
       "10000000-element Vector{Float64}:\n",
       " 0.7198029325945702\n",
       " 0.9597405700006271\n",
       " 0.7214814304612188\n",
       " 0.43928269202137127\n",
       " 0.7240397302701217\n",
       " 0.9949206060170298\n",
       " 0.9573441973113519\n",
       " 0.8744957294627799\n",
       " 0.021810724556473704\n",
       " 0.01959331193564451\n",
       " ⋮\n",
       " 0.5968121176400708\n",
       " 0.41503255994161115\n",
       " 0.443787197351052\n",
       " 0.2781983114720903\n",
       " 0.9076896352775513\n",
       " 0.036472274677127214\n",
       " 0.9080604466865078\n",
       " 0.4701498096020842\n",
       " 0.9571131846039233"
      ]
     },
     "metadata": {},
     "output_type": "display_data"
    }
   ],
   "source": [
    "a = rand(10^7) # 1D vector of random numbers, uniform on [0,1)"
   ]
  },
  {
   "cell_type": "code",
   "execution_count": 3,
   "metadata": {},
   "outputs": [
    {
     "data": {
      "text/plain": [
       "4.999627574621782e6"
      ]
     },
     "metadata": {},
     "output_type": "display_data"
    }
   ],
   "source": [
    "sum(a)"
   ]
  },
  {
   "cell_type": "markdown",
   "metadata": {},
   "source": [
    "The expected result is 0.5 * 10^7, since the mean of each entry is 0.5"
   ]
  },
  {
   "cell_type": "markdown",
   "metadata": {},
   "source": [
    "# Benchmarking a few ways in a few languages"
   ]
  },
  {
   "cell_type": "code",
   "execution_count": 4,
   "metadata": {},
   "outputs": [
    {
     "name": "stdout",
     "output_type": "stream",
     "text": [
      "  0.002861 seconds (1 allocation: 16 bytes)\n"
     ]
    },
    {
     "data": {
      "text/plain": [
       "4.999627574621782e6"
      ]
     },
     "metadata": {},
     "output_type": "display_data"
    }
   ],
   "source": [
    "@time sum(a)"
   ]
  },
  {
   "cell_type": "code",
   "execution_count": 5,
   "metadata": {},
   "outputs": [
    {
     "name": "stdout",
     "output_type": "stream",
     "text": [
      "  0.002863 seconds (1 allocation: 16 bytes)\n"
     ]
    },
    {
     "data": {
      "text/plain": [
       "4.999627574621782e6"
      ]
     },
     "metadata": {},
     "output_type": "display_data"
    }
   ],
   "source": [
    "@time sum(a)"
   ]
  },
  {
   "cell_type": "code",
   "execution_count": 6,
   "metadata": {},
   "outputs": [
    {
     "name": "stdout",
     "output_type": "stream",
     "text": [
      "  0.002527 seconds (1 allocation: 16 bytes)\n"
     ]
    },
    {
     "data": {
      "text/plain": [
       "4.999627574621782e6"
      ]
     },
     "metadata": {},
     "output_type": "display_data"
    }
   ],
   "source": [
    "@time sum(a)"
   ]
  },
  {
   "cell_type": "markdown",
   "metadata": {},
   "source": [
    "The `@time` macro can yield noisy results, so it's not our best choice for benchmarking!\n",
    "\n",
    "Luckily, Julia has a `BenchmarkTools.jl` package to make benchmarking easy and accurate:"
   ]
  },
  {
   "cell_type": "code",
   "execution_count": 7,
   "metadata": {},
   "outputs": [
    {
     "name": "stderr",
     "output_type": "stream",
     "text": [
      "\u001b[32m\u001b[1m    Updating\u001b[22m\u001b[39m registry at `~/.julia/registries/General.toml`\n"
     ]
    },
    {
     "name": "stderr",
     "output_type": "stream",
     "text": [
      "\u001b[32m\u001b[1m   Resolving\u001b[22m\u001b[39m package versions...\n"
     ]
    },
    {
     "name": "stderr",
     "output_type": "stream",
     "text": [
      "\u001b[32m\u001b[1m   Installed\u001b[22m\u001b[39m BenchmarkTools ─ v1.3.2\n"
     ]
    },
    {
     "name": "stderr",
     "output_type": "stream",
     "text": [
      "\u001b[32m\u001b[1m    Updating\u001b[22m\u001b[39m `~/.julia/environments/v1.9/Project.toml`\n",
      "  \u001b[90m[6e4b80f9] \u001b[39m\u001b[92m+ BenchmarkTools v1.3.2\u001b[39m\n",
      "\u001b[32m\u001b[1m    Updating\u001b[22m\u001b[39m `~/.julia/environments/v1.9/Manifest.toml`\n",
      " "
     ]
    },
    {
     "name": "stderr",
     "output_type": "stream",
     "text": [
      " \u001b[90m[6e4b80f9] \u001b[39m\u001b[92m+ BenchmarkTools v1.3.2\u001b[39m\n",
      "  \u001b[90m[9abbd945] \u001b[39m\u001b[92m+ Profile\u001b[39m\n"
     ]
    },
    {
     "name": "stderr",
     "output_type": "stream",
     "text": [
      "\u001b[32m\u001b[1mPrecompiling\u001b[22m\u001b[39m "
     ]
    },
    {
     "name": "stderr",
     "output_type": "stream",
     "text": [
      "project...\n"
     ]
    },
    {
     "name": "stderr",
     "output_type": "stream",
     "text": [
      "\u001b[32m  ✓ \u001b[39mBenchmarkTools\n",
      "  1 dependency successfully precompiled in 4 seconds. 274 already precompiled.\n"
     ]
    }
   ],
   "source": [
    " using Pkg\n",
    " Pkg.add(\"BenchmarkTools\")"
   ]
  },
  {
   "cell_type": "code",
   "execution_count": 8,
   "metadata": {
    "scrolled": false
   },
   "outputs": [],
   "source": [
    "using BenchmarkTools  "
   ]
  },
  {
   "cell_type": "markdown",
   "metadata": {},
   "source": [
    "#  1. The C language\n",
    "\n",
    "C is often considered the gold standard: difficult on the human, nice for the machine. Getting within a factor of 2 of C is often satisfying. Nonetheless, even within C, there are many kinds of optimizations possible that a naive C writer may or may not get the advantage of.\n",
    "\n",
    "The current author does not speak C, so he does not read the cell below, but is happy to know that you can put C code in a Julia session, compile it, and run it. Note that the `\"\"\"` wrap a multi-line string."
   ]
  },
  {
   "cell_type": "code",
   "execution_count": 9,
   "metadata": {
    "scrolled": false
   },
   "outputs": [
    {
     "data": {
      "text/plain": [
       "c_sum (generic function with 1 method)"
      ]
     },
     "metadata": {},
     "output_type": "display_data"
    }
   ],
   "source": [
    "using Libdl\n",
    "C_code = \"\"\"\n",
    "#include <stddef.h>\n",
    "double c_sum(size_t n, double *X) {\n",
    "    double s = 0.0;\n",
    "    for (size_t i = 0; i < n; ++i) {\n",
    "        s += X[i];\n",
    "    }\n",
    "    return s;\n",
    "}\n",
    "\"\"\"\n",
    "\n",
    "const Clib = tempname()   # make a temporary file\n",
    "\n",
    "\n",
    "# compile to a shared library by piping C_code to gcc\n",
    "# (works only if you have gcc installed):\n",
    "\n",
    "open(`gcc -fPIC -O3 -msse3 -xc -shared -o $(Clib * \".\" * Libdl.dlext) -`, \"w\") do f\n",
    "    print(f, C_code) \n",
    "end\n",
    "\n",
    "# define a Julia function that calls the C function:\n",
    "c_sum(X::Array{Float64}) = ccall((\"c_sum\", Clib), Float64, (Csize_t, Ptr{Float64}), length(X), X)"
   ]
  },
  {
   "cell_type": "code",
   "execution_count": 10,
   "metadata": {
    "scrolled": false
   },
   "outputs": [
    {
     "data": {
      "text/plain": [
       "4.99962757462204e6"
      ]
     },
     "metadata": {},
     "output_type": "display_data"
    }
   ],
   "source": [
    "c_sum(a)"
   ]
  },
  {
   "cell_type": "code",
   "execution_count": 11,
   "metadata": {
    "scrolled": false
   },
   "outputs": [
    {
     "data": {
      "text/plain": [
       "true"
      ]
     },
     "metadata": {},
     "output_type": "display_data"
    }
   ],
   "source": [
    "c_sum(a) ≈ sum(a) # type \\approx and then <TAB> to get the ≈ symbolb"
   ]
  },
  {
   "cell_type": "code",
   "execution_count": 12,
   "metadata": {},
   "outputs": [
    {
     "data": {
      "text/plain": [
       "2.5797635316848755e-7"
      ]
     },
     "metadata": {},
     "output_type": "display_data"
    }
   ],
   "source": [
    "c_sum(a) - sum(a)  "
   ]
  },
  {
   "cell_type": "code",
   "execution_count": 13,
   "metadata": {
    "scrolled": true
   },
   "outputs": [
    {
     "data": {
      "text/plain": [
       "isapprox (generic function with 9 methods)"
      ]
     },
     "metadata": {},
     "output_type": "display_data"
    }
   ],
   "source": [
    "≈  # alias for the `isapprox` function"
   ]
  },
  {
   "cell_type": "markdown",
   "metadata": {},
   "source": [
    "We can now benchmark the C code directly from Julia:"
   ]
  },
  {
   "cell_type": "code",
   "execution_count": 14,
   "metadata": {
    "scrolled": false
   },
   "outputs": [
    {
     "data": {
      "text/plain": [
       "BenchmarkTools.Trial: 530 samples with 1 evaluation.\n",
       " Range \u001b[90m(\u001b[39m\u001b[36m\u001b[1mmin\u001b[22m\u001b[39m … \u001b[35mmax\u001b[39m\u001b[90m):  \u001b[39m\u001b[36m\u001b[1m9.377 ms\u001b[22m\u001b[39m … \u001b[35m10.456 ms\u001b[39m  \u001b[90m┊\u001b[39m GC \u001b[90m(\u001b[39mmin … max\u001b[90m): \u001b[39m0.00% … 0.00%\n",
       " Time  \u001b[90m(\u001b[39m\u001b[34m\u001b[1mmedian\u001b[22m\u001b[39m\u001b[90m):     \u001b[39m\u001b[34m\u001b[1m9.418 ms              \u001b[22m\u001b[39m\u001b[90m┊\u001b[39m GC \u001b[90m(\u001b[39mmedian\u001b[90m):    \u001b[39m0.00%\n",
       " Time  \u001b[90m(\u001b[39m\u001b[32m\u001b[1mmean\u001b[22m\u001b[39m ± \u001b[32mσ\u001b[39m\u001b[90m):   \u001b[39m\u001b[32m\u001b[1m9.434 ms\u001b[22m\u001b[39m ± \u001b[32m85.372 μs\u001b[39m  \u001b[90m┊\u001b[39m GC \u001b[90m(\u001b[39mmean ± σ\u001b[90m):  \u001b[39m0.00% ± 0.00%\n",
       "\n",
       "  \u001b[39m█\u001b[39m▂\u001b[39m \u001b[39m \u001b[39m▁\u001b[34m▃\u001b[39m\u001b[32m \u001b[39m\u001b[39m \u001b[39m \u001b[39m \u001b[39m \u001b[39m \u001b[39m \u001b[39m \u001b[39m \u001b[39m \u001b[39m \u001b[39m \u001b[39m \u001b[39m \u001b[39m \u001b[39m \u001b[39m \u001b[39m \u001b[39m \u001b[39m \u001b[39m \u001b[39m \u001b[39m \u001b[39m \u001b[39m \u001b[39m \u001b[39m \u001b[39m \u001b[39m \u001b[39m \u001b[39m \u001b[39m \u001b[39m \u001b[39m \u001b[39m \u001b[39m \u001b[39m \u001b[39m \u001b[39m \u001b[39m \u001b[39m \u001b[39m \u001b[39m \u001b[39m \u001b[39m \u001b[39m \u001b[39m \u001b[39m \u001b[39m \u001b[39m \u001b[39m \u001b[39m \u001b[39m \u001b[39m \n",
       "  \u001b[39m█\u001b[39m█\u001b[39m▆\u001b[39m▆\u001b[39m█\u001b[34m█\u001b[39m\u001b[32m█\u001b[39m\u001b[39m▅\u001b[39m▄\u001b[39m▃\u001b[39m▃\u001b[39m▃\u001b[39m▃\u001b[39m▃\u001b[39m▃\u001b[39m▄\u001b[39m▃\u001b[39m▃\u001b[39m▂\u001b[39m▁\u001b[39m▁\u001b[39m▂\u001b[39m▁\u001b[39m▁\u001b[39m▁\u001b[39m▂\u001b[39m▁\u001b[39m▁\u001b[39m▁\u001b[39m▁\u001b[39m▁\u001b[39m▁\u001b[39m▁\u001b[39m▂\u001b[39m▁\u001b[39m▁\u001b[39m▂\u001b[39m▂\u001b[39m▁\u001b[39m▁\u001b[39m▁\u001b[39m▁\u001b[39m▁\u001b[39m▂\u001b[39m▁\u001b[39m▁\u001b[39m▂\u001b[39m▁\u001b[39m▁\u001b[39m▁\u001b[39m▁\u001b[39m▁\u001b[39m▁\u001b[39m▁\u001b[39m▁\u001b[39m▁\u001b[39m▁\u001b[39m▂\u001b[39m \u001b[39m▃\n",
       "  9.38 ms\u001b[90m        Histogram: frequency by time\u001b[39m         9.9 ms \u001b[0m\u001b[1m<\u001b[22m\n",
       "\n",
       " Memory estimate\u001b[90m: \u001b[39m\u001b[33m0 bytes\u001b[39m, allocs estimate\u001b[90m: \u001b[39m\u001b[33m0\u001b[39m."
      ]
     },
     "metadata": {},
     "output_type": "display_data"
    }
   ],
   "source": [
    "c_bench = @benchmark c_sum($a)"
   ]
  },
  {
   "cell_type": "code",
   "execution_count": 15,
   "metadata": {
    "scrolled": false
   },
   "outputs": [
    {
     "name": "stdout",
     "output_type": "stream",
     "text": [
      "C: Fastest time was 9.377084 msec\n"
     ]
    }
   ],
   "source": [
    "println(\"C: Fastest time was $(minimum(c_bench.times) / 1e6) msec\")"
   ]
  },
  {
   "cell_type": "code",
   "execution_count": 16,
   "metadata": {
    "scrolled": true
   },
   "outputs": [
    {
     "data": {
      "text/plain": [
       "Dict{Any, Any} with 1 entry:\n",
       "  \"C\" => 9.37708"
      ]
     },
     "metadata": {},
     "output_type": "display_data"
    }
   ],
   "source": [
    "d = Dict()  # a \"dictionary\", i.e. an associative array\n",
    "d[\"C\"] = minimum(c_bench.times) / 1e6  # in milliseconds\n",
    "d"
   ]
  },
  {
   "cell_type": "code",
   "execution_count": 17,
   "metadata": {
    "scrolled": true
   },
   "outputs": [
    {
     "data": {
      "text/plain": [
       "Plots.GRBackend()"
      ]
     },
     "metadata": {},
     "output_type": "display_data"
    }
   ],
   "source": [
    "using Plots\n",
    "gr()"
   ]
  },
  {
   "cell_type": "code",
   "execution_count": 18,
   "metadata": {},
   "outputs": [
    {
     "data": {
      "image/png": "[encoded data removed]",
      "image/svg+xml": [
       "<?xml version=\"1.0\" encoding=\"utf-8\"?>\n",
       "<svg xmlns=\"http://www.w3.org/2000/svg\" xmlns:xlink=\"http://www.w3.org/1999/xlink\" width=\"600\" height=\"400\" viewBox=\"0 0 2400 1600\">\n",
       "<defs>\n",
       "  <clipPath id=\"clip900\">\n",
       "    <rect x=\"0\" y=\"0\" width=\"2400\" height=\"1600\"/>\n",
       "  </clipPath>\n",
       "</defs>\n",
       "<path clip-path=\"url(#clip900)\" d=\"M0 1600 L2400 1600 L2400 0 L0 0  Z\" fill=\"#ffffff\" fill-rule=\"evenodd\" fill-opacity=\"1\"/>\n",
       "<defs>\n",
       "  <clipPath id=\"clip901\">\n",
       "    <rect x=\"480\" y=\"0\" width=\"1681\" height=\"1600\"/>\n",
       "  </clipPath>\n",
       "</defs>\n",
       "<path clip-path=\"url(#clip900)\" d=\"M205.121 1423.18 L2352.76 1423.18 L2352.76 47.2441 L205.121 47.2441  Z\" fill=\"#ffffff\" fill-rule=\"evenodd\" fill-opacity=\"1\"/>\n",
       "<defs>\n",
       "  <clipPath id=\"clip902\">\n",
       "    <rect x=\"205\" y=\"47\" width=\"2149\" height=\"1377\"/>\n",
       "  </clipPath>\n",
       "</defs>\n",
       "<polyline clip-path=\"url(#clip902)\" style=\"stroke:#000000; stroke-linecap:round; stroke-linejoin:round; stroke-width:2; stroke-opacity:0.1; fill:none\" points=\"495.971,1423.18 495.971,47.2441 \"/>\n",
       "<polyline clip-path=\"url(#clip902)\" style=\"stroke:#000000; stroke-linecap:round; stroke-linejoin:round; stroke-width:2; stroke-opacity:0.1; fill:none\" points=\"946.343,1423.18 946.343,47.2441 \"/>\n",
       "<polyline clip-path=\"url(#clip902)\" style=\"stroke:#000000; stroke-linecap:round; stroke-linejoin:round; stroke-width:2; stroke-opacity:0.1; fill:none\" points=\"1396.72,1423.18 1396.72,47.2441 \"/>\n",
       "<polyline clip-path=\"url(#clip902)\" style=\"stroke:#000000; stroke-linecap:round; stroke-linejoin:round; stroke-width:2; stroke-opacity:0.1; fill:none\" points=\"1847.09,1423.18 1847.09,47.2441 \"/>\n",
       "<polyline clip-path=\"url(#clip902)\" style=\"stroke:#000000; stroke-linecap:round; stroke-linejoin:round; stroke-width:2; stroke-opacity:0.1; fill:none\" points=\"2297.46,1423.18 2297.46,47.2441 \"/>\n",
       "<polyline clip-path=\"url(#clip900)\" style=\"stroke:#000000; stroke-linecap:round; stroke-linejoin:round; stroke-width:4; stroke-opacity:1; fill:none\" points=\"205.121,1423.18 2352.76,1423.18 \"/>\n",
       "<polyline clip-path=\"url(#clip900)\" style=\"stroke:#000000; stroke-linecap:round; stroke-linejoin:round; stroke-width:4; stroke-opacity:1; fill:none\" points=\"495.971,1423.18 495.971,1404.28 \"/>\n",
       "<polyline clip-path=\"url(#clip900)\" style=\"stroke:#000000; stroke-linecap:round; stroke-linejoin:round; stroke-width:4; stroke-opacity:1; fill:none\" points=\"946.343,1423.18 946.343,1404.28 \"/>\n",
       "<polyline clip-path=\"url(#clip900)\" style=\"stroke:#000000; stroke-linecap:round; stroke-linejoin:round; stroke-width:4; stroke-opacity:1; fill:none\" points=\"1396.72,1423.18 1396.72,1404.28 \"/>\n",
       "<polyline clip-path=\"url(#clip900)\" style=\"stroke:#000000; stroke-linecap:round; stroke-linejoin:round; stroke-width:4; stroke-opacity:1; fill:none\" points=\"1847.09,1423.18 1847.09,1404.28 \"/>\n",
       "<polyline clip-path=\"url(#clip900)\" style=\"stroke:#000000; stroke-linecap:round; stroke-linejoin:round; stroke-width:4; stroke-opacity:1; fill:none\" points=\"2297.46,1423.18 2297.46,1404.28 \"/>\n",
       "<path clip-path=\"url(#clip900)\" d=\"M448.529 1484.86 L448.529 1480.6 Q450.289 1481.44 452.094 1481.88 Q453.9 1482.32 455.636 1482.32 Q460.265 1482.32 462.696 1479.21 Q465.15 1476.09 465.497 1469.75 Q464.154 1471.74 462.094 1472.8 Q460.034 1473.87 457.534 1473.87 Q452.349 1473.87 449.316 1470.74 Q446.307 1467.59 446.307 1462.15 Q446.307 1456.83 449.455 1453.61 Q452.603 1450.39 457.835 1450.39 Q463.83 1450.39 466.978 1455 Q470.15 1459.58 470.15 1468.33 Q470.15 1476.51 466.261 1481.39 Q462.395 1486.25 455.844 1486.25 Q454.085 1486.25 452.279 1485.9 Q450.474 1485.56 448.529 1484.86 M457.835 1470.21 Q460.983 1470.21 462.812 1468.06 Q464.664 1465.9 464.664 1462.15 Q464.664 1458.43 462.812 1456.27 Q460.983 1454.1 457.835 1454.1 Q454.687 1454.1 452.835 1456.27 Q451.006 1458.43 451.006 1462.15 Q451.006 1465.9 452.835 1468.06 Q454.687 1470.21 457.835 1470.21 Z\" fill=\"#000000\" fill-rule=\"nonzero\" fill-opacity=\"1\" /><path clip-path=\"url(#clip900)\" d=\"M478.552 1479.7 L483.437 1479.7 L483.437 1485.58 L478.552 1485.58 L478.552 1479.7 Z\" fill=\"#000000\" fill-rule=\"nonzero\" fill-opacity=\"1\" /><path clip-path=\"url(#clip900)\" d=\"M507.788 1466.95 Q511.145 1467.66 513.02 1469.93 Q514.918 1472.2 514.918 1475.53 Q514.918 1480.65 511.399 1483.45 Q507.881 1486.25 501.399 1486.25 Q499.224 1486.25 496.909 1485.81 Q494.617 1485.39 492.163 1484.54 L492.163 1480.02 Q494.108 1481.16 496.423 1481.74 Q498.737 1482.32 501.261 1482.32 Q505.659 1482.32 507.95 1480.58 Q510.265 1478.84 510.265 1475.53 Q510.265 1472.48 508.112 1470.77 Q505.983 1469.03 502.163 1469.03 L498.136 1469.03 L498.136 1465.19 L502.349 1465.19 Q505.798 1465.19 507.626 1463.82 Q509.455 1462.43 509.455 1459.84 Q509.455 1457.18 507.557 1455.77 Q505.682 1454.33 502.163 1454.33 Q500.242 1454.33 498.043 1454.75 Q495.844 1455.16 493.205 1456.04 L493.205 1451.88 Q495.867 1451.14 498.182 1450.77 Q500.52 1450.39 502.58 1450.39 Q507.904 1450.39 511.006 1452.83 Q514.108 1455.23 514.108 1459.35 Q514.108 1462.22 512.464 1464.21 Q510.821 1466.18 507.788 1466.95 Z\" fill=\"#000000\" fill-rule=\"nonzero\" fill-opacity=\"1\" /><path clip-path=\"url(#clip900)\" d=\"M533.784 1469.17 Q530.45 1469.17 528.529 1470.95 Q526.631 1472.73 526.631 1475.86 Q526.631 1478.98 528.529 1480.77 Q530.45 1482.55 533.784 1482.55 Q537.117 1482.55 539.038 1480.77 Q540.959 1478.96 540.959 1475.86 Q540.959 1472.73 539.038 1470.95 Q537.14 1469.17 533.784 1469.17 M529.108 1467.18 Q526.098 1466.44 524.409 1464.38 Q522.742 1462.32 522.742 1459.35 Q522.742 1455.21 525.682 1452.8 Q528.645 1450.39 533.784 1450.39 Q538.946 1450.39 541.885 1452.8 Q544.825 1455.21 544.825 1459.35 Q544.825 1462.32 543.135 1464.38 Q541.469 1466.44 538.483 1467.18 Q541.862 1467.96 543.737 1470.26 Q545.635 1472.55 545.635 1475.86 Q545.635 1480.88 542.557 1483.57 Q539.501 1486.25 533.784 1486.25 Q528.066 1486.25 524.987 1483.57 Q521.932 1480.88 521.932 1475.86 Q521.932 1472.55 523.83 1470.26 Q525.728 1467.96 529.108 1467.18 M527.395 1459.79 Q527.395 1462.48 529.061 1463.98 Q530.751 1465.49 533.784 1465.49 Q536.793 1465.49 538.483 1463.98 Q540.196 1462.48 540.196 1459.79 Q540.196 1457.11 538.483 1455.6 Q536.793 1454.1 533.784 1454.1 Q530.751 1454.1 529.061 1455.6 Q527.395 1457.11 527.395 1459.79 Z\" fill=\"#000000\" fill-rule=\"nonzero\" fill-opacity=\"1\" /><path clip-path=\"url(#clip900)\" d=\"M898.855 1484.86 L898.855 1480.6 Q900.614 1481.44 902.42 1481.88 Q904.226 1482.32 905.962 1482.32 Q910.591 1482.32 913.022 1479.21 Q915.476 1476.09 915.823 1469.75 Q914.48 1471.74 912.42 1472.8 Q910.36 1473.87 907.86 1473.87 Q902.675 1473.87 899.642 1470.74 Q896.633 1467.59 896.633 1462.15 Q896.633 1456.83 899.781 1453.61 Q902.929 1450.39 908.161 1450.39 Q914.156 1450.39 917.304 1455 Q920.475 1459.58 920.475 1468.33 Q920.475 1476.51 916.587 1481.39 Q912.721 1486.25 906.17 1486.25 Q904.411 1486.25 902.605 1485.9 Q900.8 1485.56 898.855 1484.86 M908.161 1470.21 Q911.309 1470.21 913.138 1468.06 Q914.989 1465.9 914.989 1462.15 Q914.989 1458.43 913.138 1456.27 Q911.309 1454.1 908.161 1454.1 Q905.013 1454.1 903.161 1456.27 Q901.332 1458.43 901.332 1462.15 Q901.332 1465.9 903.161 1468.06 Q905.013 1470.21 908.161 1470.21 Z\" fill=\"#000000\" fill-rule=\"nonzero\" fill-opacity=\"1\" /><path clip-path=\"url(#clip900)\" d=\"M928.878 1479.7 L933.762 1479.7 L933.762 1485.58 L928.878 1485.58 L928.878 1479.7 Z\" fill=\"#000000\" fill-rule=\"nonzero\" fill-opacity=\"1\" /><path clip-path=\"url(#clip900)\" d=\"M956.795 1455.09 L944.989 1473.54 L956.795 1473.54 L956.795 1455.09 M955.568 1451.02 L961.447 1451.02 L961.447 1473.54 L966.378 1473.54 L966.378 1477.43 L961.447 1477.43 L961.447 1485.58 L956.795 1485.58 L956.795 1477.43 L941.193 1477.43 L941.193 1472.92 L955.568 1451.02 Z\" fill=\"#000000\" fill-rule=\"nonzero\" fill-opacity=\"1\" /><path clip-path=\"url(#clip900)\" d=\"M984.109 1454.1 Q980.498 1454.1 978.67 1457.66 Q976.864 1461.2 976.864 1468.33 Q976.864 1475.44 978.67 1479.01 Q980.498 1482.55 984.109 1482.55 Q987.744 1482.55 989.549 1479.01 Q991.378 1475.44 991.378 1468.33 Q991.378 1461.2 989.549 1457.66 Q987.744 1454.1 984.109 1454.1 M984.109 1450.39 Q989.92 1450.39 992.975 1455 Q996.054 1459.58 996.054 1468.33 Q996.054 1477.06 992.975 1481.67 Q989.92 1486.25 984.109 1486.25 Q978.299 1486.25 975.221 1481.67 Q972.165 1477.06 972.165 1468.33 Q972.165 1459.58 975.221 1455 Q978.299 1450.39 984.109 1450.39 Z\" fill=\"#000000\" fill-rule=\"nonzero\" fill-opacity=\"1\" /><path clip-path=\"url(#clip900)\" d=\"M1350.03 1484.86 L1350.03 1480.6 Q1351.79 1481.44 1353.59 1481.88 Q1355.4 1482.32 1357.13 1482.32 Q1361.76 1482.32 1364.19 1479.21 Q1366.65 1476.09 1366.99 1469.75 Q1365.65 1471.74 1363.59 1472.8 Q1361.53 1473.87 1359.03 1473.87 Q1353.85 1473.87 1350.81 1470.74 Q1347.8 1467.59 1347.8 1462.15 Q1347.8 1456.83 1350.95 1453.61 Q1354.1 1450.39 1359.33 1450.39 Q1365.33 1450.39 1368.47 1455 Q1371.65 1459.58 1371.65 1468.33 Q1371.65 1476.51 1367.76 1481.39 Q1363.89 1486.25 1357.34 1486.25 Q1355.58 1486.25 1353.78 1485.9 Q1351.97 1485.56 1350.03 1484.86 M1359.33 1470.21 Q1362.48 1470.21 1364.31 1468.06 Q1366.16 1465.9 1366.16 1462.15 Q1366.16 1458.43 1364.31 1456.27 Q1362.48 1454.1 1359.33 1454.1 Q1356.18 1454.1 1354.33 1456.27 Q1352.5 1458.43 1352.5 1462.15 Q1352.5 1465.9 1354.33 1468.06 Q1356.18 1470.21 1359.33 1470.21 Z\" fill=\"#000000\" fill-rule=\"nonzero\" fill-opacity=\"1\" /><path clip-path=\"url(#clip900)\" d=\"M1380.05 1479.7 L1384.93 1479.7 L1384.93 1485.58 L1380.05 1485.58 L1380.05 1479.7 Z\" fill=\"#000000\" fill-rule=\"nonzero\" fill-opacity=\"1\" /><path clip-path=\"url(#clip900)\" d=\"M1407.97 1455.09 L1396.16 1473.54 L1407.97 1473.54 L1407.97 1455.09 M1406.74 1451.02 L1412.62 1451.02 L1412.62 1473.54 L1417.55 1473.54 L1417.55 1477.43 L1412.62 1477.43 L1412.62 1485.58 L1407.97 1485.58 L1407.97 1477.43 L1392.36 1477.43 L1392.36 1472.92 L1406.74 1451.02 Z\" fill=\"#000000\" fill-rule=\"nonzero\" fill-opacity=\"1\" /><path clip-path=\"url(#clip900)\" d=\"M1429.31 1481.64 L1445.63 1481.64 L1445.63 1485.58 L1423.68 1485.58 L1423.68 1481.64 Q1426.34 1478.89 1430.93 1474.26 Q1435.53 1469.61 1436.72 1468.27 Q1438.96 1465.74 1439.84 1464.01 Q1440.74 1462.25 1440.74 1460.56 Q1440.74 1457.8 1438.8 1456.07 Q1436.88 1454.33 1433.78 1454.33 Q1431.58 1454.33 1429.12 1455.09 Q1426.69 1455.86 1423.91 1457.41 L1423.91 1452.69 Q1426.74 1451.55 1429.19 1450.97 Q1431.65 1450.39 1433.68 1450.39 Q1439.05 1450.39 1442.25 1453.08 Q1445.44 1455.77 1445.44 1460.26 Q1445.44 1462.39 1444.63 1464.31 Q1443.84 1466.2 1441.74 1468.8 Q1441.16 1469.47 1438.06 1472.69 Q1434.96 1475.88 1429.31 1481.64 Z\" fill=\"#000000\" fill-rule=\"nonzero\" fill-opacity=\"1\" /><path clip-path=\"url(#clip900)\" d=\"M1799.36 1484.86 L1799.36 1480.6 Q1801.12 1481.44 1802.92 1481.88 Q1804.73 1482.32 1806.46 1482.32 Q1811.09 1482.32 1813.52 1479.21 Q1815.98 1476.09 1816.32 1469.75 Q1814.98 1471.74 1812.92 1472.8 Q1810.86 1473.87 1808.36 1473.87 Q1803.18 1473.87 1800.14 1470.74 Q1797.13 1467.59 1797.13 1462.15 Q1797.13 1456.83 1800.28 1453.61 Q1803.43 1450.39 1808.66 1450.39 Q1814.66 1450.39 1817.81 1455 Q1820.98 1459.58 1820.98 1468.33 Q1820.98 1476.51 1817.09 1481.39 Q1813.22 1486.25 1806.67 1486.25 Q1804.91 1486.25 1803.11 1485.9 Q1801.3 1485.56 1799.36 1484.86 M1808.66 1470.21 Q1811.81 1470.21 1813.64 1468.06 Q1815.49 1465.9 1815.49 1462.15 Q1815.49 1458.43 1813.64 1456.27 Q1811.81 1454.1 1808.66 1454.1 Q1805.51 1454.1 1803.66 1456.27 Q1801.83 1458.43 1801.83 1462.15 Q1801.83 1465.9 1803.66 1468.06 Q1805.51 1470.21 1808.66 1470.21 Z\" fill=\"#000000\" fill-rule=\"nonzero\" fill-opacity=\"1\" /><path clip-path=\"url(#clip900)\" d=\"M1829.38 1479.7 L1834.26 1479.7 L1834.26 1485.58 L1829.38 1485.58 L1829.38 1479.7 Z\" fill=\"#000000\" fill-rule=\"nonzero\" fill-opacity=\"1\" /><path clip-path=\"url(#clip900)\" d=\"M1857.3 1455.09 L1845.49 1473.54 L1857.3 1473.54 L1857.3 1455.09 M1856.07 1451.02 L1861.95 1451.02 L1861.95 1473.54 L1866.88 1473.54 L1866.88 1477.43 L1861.95 1477.43 L1861.95 1485.58 L1857.3 1485.58 L1857.3 1477.43 L1841.69 1477.43 L1841.69 1472.92 L1856.07 1451.02 Z\" fill=\"#000000\" fill-rule=\"nonzero\" fill-opacity=\"1\" /><path clip-path=\"url(#clip900)\" d=\"M1887.46 1455.09 L1875.65 1473.54 L1887.46 1473.54 L1887.46 1455.09 M1886.23 1451.02 L1892.11 1451.02 L1892.11 1473.54 L1897.04 1473.54 L1897.04 1477.43 L1892.11 1477.43 L1892.11 1485.58 L1887.46 1485.58 L1887.46 1477.43 L1871.86 1477.43 L1871.86 1472.92 L1886.23 1451.02 Z\" fill=\"#000000\" fill-rule=\"nonzero\" fill-opacity=\"1\" /><path clip-path=\"url(#clip900)\" d=\"M2249.89 1484.86 L2249.89 1480.6 Q2251.65 1481.44 2253.46 1481.88 Q2255.26 1482.32 2257 1482.32 Q2261.63 1482.32 2264.06 1479.21 Q2266.51 1476.09 2266.86 1469.75 Q2265.52 1471.74 2263.46 1472.8 Q2261.4 1473.87 2258.9 1473.87 Q2253.71 1473.87 2250.68 1470.74 Q2247.67 1467.59 2247.67 1462.15 Q2247.67 1456.83 2250.82 1453.61 Q2253.96 1450.39 2259.2 1450.39 Q2265.19 1450.39 2268.34 1455 Q2271.51 1459.58 2271.51 1468.33 Q2271.51 1476.51 2267.62 1481.39 Q2263.76 1486.25 2257.21 1486.25 Q2255.45 1486.25 2253.64 1485.9 Q2251.83 1485.56 2249.89 1484.86 M2259.2 1470.21 Q2262.34 1470.21 2264.17 1468.06 Q2266.02 1465.9 2266.02 1462.15 Q2266.02 1458.43 2264.17 1456.27 Q2262.34 1454.1 2259.2 1454.1 Q2256.05 1454.1 2254.2 1456.27 Q2252.37 1458.43 2252.37 1462.15 Q2252.37 1465.9 2254.2 1468.06 Q2256.05 1470.21 2259.2 1470.21 Z\" fill=\"#000000\" fill-rule=\"nonzero\" fill-opacity=\"1\" /><path clip-path=\"url(#clip900)\" d=\"M2279.91 1479.7 L2284.8 1479.7 L2284.8 1485.58 L2279.91 1485.58 L2279.91 1479.7 Z\" fill=\"#000000\" fill-rule=\"nonzero\" fill-opacity=\"1\" /><path clip-path=\"url(#clip900)\" d=\"M2307.83 1455.09 L2296.02 1473.54 L2307.83 1473.54 L2307.83 1455.09 M2306.6 1451.02 L2312.48 1451.02 L2312.48 1473.54 L2317.41 1473.54 L2317.41 1477.43 L2312.48 1477.43 L2312.48 1485.58 L2307.83 1485.58 L2307.83 1477.43 L2292.23 1477.43 L2292.23 1472.92 L2306.6 1451.02 Z\" fill=\"#000000\" fill-rule=\"nonzero\" fill-opacity=\"1\" /><path clip-path=\"url(#clip900)\" d=\"M2335.72 1466.44 Q2332.58 1466.44 2330.72 1468.59 Q2328.89 1470.74 2328.89 1474.49 Q2328.89 1478.22 2330.72 1480.39 Q2332.58 1482.55 2335.72 1482.55 Q2338.87 1482.55 2340.7 1480.39 Q2342.55 1478.22 2342.55 1474.49 Q2342.55 1470.74 2340.7 1468.59 Q2338.87 1466.44 2335.72 1466.44 M2345.01 1451.78 L2345.01 1456.04 Q2343.25 1455.21 2341.44 1454.77 Q2339.66 1454.33 2337.9 1454.33 Q2333.27 1454.33 2330.82 1457.45 Q2328.39 1460.58 2328.04 1466.9 Q2329.4 1464.89 2331.46 1463.82 Q2333.52 1462.73 2336 1462.73 Q2341.21 1462.73 2344.22 1465.9 Q2347.25 1469.05 2347.25 1474.49 Q2347.25 1479.82 2344.1 1483.03 Q2340.95 1486.25 2335.72 1486.25 Q2329.73 1486.25 2326.56 1481.67 Q2323.39 1477.06 2323.39 1468.33 Q2323.39 1460.14 2327.27 1455.28 Q2331.16 1450.39 2337.71 1450.39 Q2339.47 1450.39 2341.26 1450.74 Q2343.06 1451.09 2345.01 1451.78 Z\" fill=\"#000000\" fill-rule=\"nonzero\" fill-opacity=\"1\" /><path clip-path=\"url(#clip900)\" d=\"M1110.28 1539.24 Q1112.48 1535.29 1115.53 1533.41 Q1118.59 1531.54 1122.72 1531.54 Q1128.29 1531.54 1131.32 1535.45 Q1134.34 1539.33 1134.34 1546.53 L1134.34 1568.04 L1128.45 1568.04 L1128.45 1546.72 Q1128.45 1541.59 1126.64 1539.11 Q1124.82 1536.63 1121.1 1536.63 Q1116.55 1536.63 1113.91 1539.65 Q1111.27 1542.68 1111.27 1547.9 L1111.27 1568.04 L1105.38 1568.04 L1105.38 1546.72 Q1105.38 1541.56 1103.56 1539.11 Q1101.75 1536.63 1097.96 1536.63 Q1093.47 1536.63 1090.83 1539.68 Q1088.19 1542.71 1088.19 1547.9 L1088.19 1568.04 L1082.3 1568.04 L1082.3 1532.4 L1088.19 1532.4 L1088.19 1537.93 Q1090.2 1534.66 1093 1533.1 Q1095.8 1531.54 1099.65 1531.54 Q1103.53 1531.54 1106.24 1533.51 Q1108.97 1535.48 1110.28 1539.24 Z\" fill=\"#000000\" fill-rule=\"nonzero\" fill-opacity=\"1\" /><path clip-path=\"url(#clip900)\" d=\"M1146.02 1532.4 L1151.88 1532.4 L1151.88 1568.04 L1146.02 1568.04 L1146.02 1532.4 M1146.02 1518.52 L1151.88 1518.52 L1151.88 1525.93 L1146.02 1525.93 L1146.02 1518.52 Z\" fill=\"#000000\" fill-rule=\"nonzero\" fill-opacity=\"1\" /><path clip-path=\"url(#clip900)\" d=\"M1164.13 1518.52 L1169.99 1518.52 L1169.99 1568.04 L1164.13 1568.04 L1164.13 1518.52 Z\" fill=\"#000000\" fill-rule=\"nonzero\" fill-opacity=\"1\" /><path clip-path=\"url(#clip900)\" d=\"M1182.24 1518.52 L1188.1 1518.52 L1188.1 1568.04 L1182.24 1568.04 L1182.24 1518.52 Z\" fill=\"#000000\" fill-rule=\"nonzero\" fill-opacity=\"1\" /><path clip-path=\"url(#clip900)\" d=\"M1200.35 1532.4 L1206.21 1532.4 L1206.21 1568.04 L1200.35 1568.04 L1200.35 1532.4 M1200.35 1518.52 L1206.21 1518.52 L1206.21 1525.93 L1200.35 1525.93 L1200.35 1518.52 Z\" fill=\"#000000\" fill-rule=\"nonzero\" fill-opacity=\"1\" /><path clip-path=\"url(#clip900)\" d=\"M1241.19 1533.45 L1241.19 1538.98 Q1238.71 1537.71 1236.03 1537.07 Q1233.36 1536.44 1230.5 1536.44 Q1226.13 1536.44 1223.94 1537.77 Q1221.77 1539.11 1221.77 1541.79 Q1221.77 1543.82 1223.33 1545 Q1224.89 1546.15 1229.6 1547.2 L1231.61 1547.64 Q1237.85 1548.98 1240.46 1551.43 Q1243.1 1553.85 1243.1 1558.21 Q1243.1 1563.17 1239.15 1566.07 Q1235.24 1568.97 1228.36 1568.97 Q1225.5 1568.97 1222.38 1568.39 Q1219.29 1567.85 1215.85 1566.74 L1215.85 1560.69 Q1219.1 1562.38 1222.25 1563.24 Q1225.4 1564.07 1228.49 1564.07 Q1232.63 1564.07 1234.86 1562.66 Q1237.08 1561.23 1237.08 1558.65 Q1237.08 1556.27 1235.46 1554.99 Q1233.87 1553.72 1228.43 1552.54 L1226.39 1552.07 Q1220.95 1550.92 1218.53 1548.56 Q1216.11 1546.18 1216.11 1542.04 Q1216.11 1537.01 1219.67 1534.27 Q1223.24 1531.54 1229.8 1531.54 Q1233.04 1531.54 1235.91 1532.01 Q1238.77 1532.49 1241.19 1533.45 Z\" fill=\"#000000\" fill-rule=\"nonzero\" fill-opacity=\"1\" /><path clip-path=\"url(#clip900)\" d=\"M1282.92 1548.76 L1282.92 1551.62 L1255.99 1551.62 Q1256.37 1557.67 1259.62 1560.85 Q1262.9 1564 1268.72 1564 Q1272.1 1564 1275.25 1563.17 Q1278.43 1562.35 1281.55 1560.69 L1281.55 1566.23 Q1278.4 1567.57 1275.09 1568.27 Q1271.78 1568.97 1268.37 1568.97 Q1259.84 1568.97 1254.84 1564 Q1249.88 1559.04 1249.88 1550.57 Q1249.88 1541.82 1254.59 1536.69 Q1259.33 1531.54 1267.35 1531.54 Q1274.55 1531.54 1278.72 1536.18 Q1282.92 1540.8 1282.92 1548.76 M1277.06 1547.04 Q1277 1542.23 1274.36 1539.37 Q1271.75 1536.5 1267.42 1536.5 Q1262.51 1536.5 1259.55 1539.27 Q1256.63 1542.04 1256.18 1547.07 L1277.06 1547.04 Z\" fill=\"#000000\" fill-rule=\"nonzero\" fill-opacity=\"1\" /><path clip-path=\"url(#clip900)\" d=\"M1318.18 1533.76 L1318.18 1539.24 Q1315.7 1537.87 1313.19 1537.2 Q1310.7 1536.5 1308.16 1536.5 Q1302.46 1536.5 1299.31 1540.13 Q1296.16 1543.73 1296.16 1550.25 Q1296.16 1556.78 1299.31 1560.4 Q1302.46 1564 1308.16 1564 Q1310.7 1564 1313.19 1563.33 Q1315.7 1562.63 1318.18 1561.26 L1318.18 1566.68 Q1315.73 1567.82 1313.09 1568.39 Q1310.48 1568.97 1307.52 1568.97 Q1299.47 1568.97 1294.73 1563.91 Q1289.98 1558.85 1289.98 1550.25 Q1289.98 1541.53 1294.76 1536.53 Q1299.56 1531.54 1307.9 1531.54 Q1310.61 1531.54 1313.19 1532.11 Q1315.76 1532.65 1318.18 1533.76 Z\" fill=\"#000000\" fill-rule=\"nonzero\" fill-opacity=\"1\" /><path clip-path=\"url(#clip900)\" d=\"M1342.18 1536.5 Q1337.47 1536.5 1334.73 1540.19 Q1332 1543.85 1332 1550.25 Q1332 1556.65 1334.7 1560.34 Q1337.44 1564 1342.18 1564 Q1346.86 1564 1349.6 1560.31 Q1352.34 1556.62 1352.34 1550.25 Q1352.34 1543.92 1349.6 1540.23 Q1346.86 1536.5 1342.18 1536.5 M1342.18 1531.54 Q1349.82 1531.54 1354.18 1536.5 Q1358.54 1541.47 1358.54 1550.25 Q1358.54 1559 1354.18 1564 Q1349.82 1568.97 1342.18 1568.97 Q1334.51 1568.97 1330.15 1564 Q1325.82 1559 1325.82 1550.25 Q1325.82 1541.47 1330.15 1536.5 Q1334.51 1531.54 1342.18 1531.54 Z\" fill=\"#000000\" fill-rule=\"nonzero\" fill-opacity=\"1\" /><path clip-path=\"url(#clip900)\" d=\"M1397.88 1546.53 L1397.88 1568.04 L1392.03 1568.04 L1392.03 1546.72 Q1392.03 1541.66 1390.05 1539.14 Q1388.08 1536.63 1384.13 1536.63 Q1379.39 1536.63 1376.65 1539.65 Q1373.91 1542.68 1373.91 1547.9 L1373.91 1568.04 L1368.03 1568.04 L1368.03 1532.4 L1373.91 1532.4 L1373.91 1537.93 Q1376.02 1534.72 1378.85 1533.13 Q1381.71 1531.54 1385.44 1531.54 Q1391.58 1531.54 1394.73 1535.36 Q1397.88 1539.14 1397.88 1546.53 Z\" fill=\"#000000\" fill-rule=\"nonzero\" fill-opacity=\"1\" /><path clip-path=\"url(#clip900)\" d=\"M1433.02 1537.81 L1433.02 1518.52 L1438.88 1518.52 L1438.88 1568.04 L1433.02 1568.04 L1433.02 1562.7 Q1431.17 1565.88 1428.34 1567.44 Q1425.54 1568.97 1421.59 1568.97 Q1415.13 1568.97 1411.06 1563.81 Q1407.02 1558.65 1407.02 1550.25 Q1407.02 1541.85 1411.06 1536.69 Q1415.13 1531.54 1421.59 1531.54 Q1425.54 1531.54 1428.34 1533.1 Q1431.17 1534.62 1433.02 1537.81 M1413.06 1550.25 Q1413.06 1556.71 1415.71 1560.4 Q1418.38 1564.07 1423.03 1564.07 Q1427.67 1564.07 1430.35 1560.4 Q1433.02 1556.71 1433.02 1550.25 Q1433.02 1543.79 1430.35 1540.13 Q1427.67 1536.44 1423.03 1536.44 Q1418.38 1536.44 1415.71 1540.13 Q1413.06 1543.79 1413.06 1550.25 Z\" fill=\"#000000\" fill-rule=\"nonzero\" fill-opacity=\"1\" /><path clip-path=\"url(#clip900)\" d=\"M1473.67 1533.45 L1473.67 1538.98 Q1471.18 1537.71 1468.51 1537.07 Q1465.84 1536.44 1462.97 1536.44 Q1458.61 1536.44 1456.41 1537.77 Q1454.25 1539.11 1454.25 1541.79 Q1454.25 1543.82 1455.81 1545 Q1457.37 1546.15 1462.08 1547.2 L1464.09 1547.64 Q1470.32 1548.98 1472.93 1551.43 Q1475.58 1553.85 1475.58 1558.21 Q1475.58 1563.17 1471.63 1566.07 Q1467.71 1568.97 1460.84 1568.97 Q1457.97 1568.97 1454.85 1568.39 Q1451.77 1567.85 1448.33 1566.74 L1448.33 1560.69 Q1451.58 1562.38 1454.73 1563.24 Q1457.88 1564.07 1460.97 1564.07 Q1465.1 1564.07 1467.33 1562.66 Q1469.56 1561.23 1469.56 1558.65 Q1469.56 1556.27 1467.94 1554.99 Q1466.34 1553.72 1460.9 1552.54 L1458.87 1552.07 Q1453.42 1550.92 1451 1548.56 Q1448.58 1546.18 1448.58 1542.04 Q1448.58 1537.01 1452.15 1534.27 Q1455.71 1531.54 1462.27 1531.54 Q1465.52 1531.54 1468.38 1532.01 Q1471.25 1532.49 1473.67 1533.45 Z\" fill=\"#000000\" fill-rule=\"nonzero\" fill-opacity=\"1\" /><polyline clip-path=\"url(#clip902)\" style=\"stroke:#000000; stroke-linecap:round; stroke-linejoin:round; stroke-width:2; stroke-opacity:0.1; fill:none\" points=\"205.121,1423.18 2352.76,1423.18 \"/>\n",
       "<polyline clip-path=\"url(#clip902)\" style=\"stroke:#000000; stroke-linecap:round; stroke-linejoin:round; stroke-width:2; stroke-opacity:0.1; fill:none\" points=\"205.121,1147.99 2352.76,1147.99 \"/>\n",
       "<polyline clip-path=\"url(#clip902)\" style=\"stroke:#000000; stroke-linecap:round; stroke-linejoin:round; stroke-width:2; stroke-opacity:0.1; fill:none\" points=\"205.121,872.806 2352.76,872.806 \"/>\n",
       "<polyline clip-path=\"url(#clip902)\" style=\"stroke:#000000; stroke-linecap:round; stroke-linejoin:round; stroke-width:2; stroke-opacity:0.1; fill:none\" points=\"205.121,597.618 2352.76,597.618 \"/>\n",
       "<polyline clip-path=\"url(#clip902)\" style=\"stroke:#000000; stroke-linecap:round; stroke-linejoin:round; stroke-width:2; stroke-opacity:0.1; fill:none\" points=\"205.121,322.431 2352.76,322.431 \"/>\n",
       "<polyline clip-path=\"url(#clip902)\" style=\"stroke:#000000; stroke-linecap:round; stroke-linejoin:round; stroke-width:2; stroke-opacity:0.1; fill:none\" points=\"205.121,47.2441 2352.76,47.2441 \"/>\n",
       "<polyline clip-path=\"url(#clip900)\" style=\"stroke:#000000; stroke-linecap:round; stroke-linejoin:round; stroke-width:4; stroke-opacity:1; fill:none\" points=\"205.121,1423.18 205.121,47.2441 \"/>\n",
       "<polyline clip-path=\"url(#clip900)\" style=\"stroke:#000000; stroke-linecap:round; stroke-linejoin:round; stroke-width:4; stroke-opacity:1; fill:none\" points=\"205.121,1423.18 224.019,1423.18 \"/>\n",
       "<polyline clip-path=\"url(#clip900)\" style=\"stroke:#000000; stroke-linecap:round; stroke-linejoin:round; stroke-width:4; stroke-opacity:1; fill:none\" points=\"205.121,1147.99 224.019,1147.99 \"/>\n",
       "<polyline clip-path=\"url(#clip900)\" style=\"stroke:#000000; stroke-linecap:round; stroke-linejoin:round; stroke-width:4; stroke-opacity:1; fill:none\" points=\"205.121,872.806 224.019,872.806 \"/>\n",
       "<polyline clip-path=\"url(#clip900)\" style=\"stroke:#000000; stroke-linecap:round; stroke-linejoin:round; stroke-width:4; stroke-opacity:1; fill:none\" points=\"205.121,597.618 224.019,597.618 \"/>\n",
       "<polyline clip-path=\"url(#clip900)\" style=\"stroke:#000000; stroke-linecap:round; stroke-linejoin:round; stroke-width:4; stroke-opacity:1; fill:none\" points=\"205.121,322.431 224.019,322.431 \"/>\n",
       "<polyline clip-path=\"url(#clip900)\" style=\"stroke:#000000; stroke-linecap:round; stroke-linejoin:round; stroke-width:4; stroke-opacity:1; fill:none\" points=\"205.121,47.2441 224.019,47.2441 \"/>\n",
       "<path clip-path=\"url(#clip900)\" d=\"M157.177 1408.98 Q153.566 1408.98 151.737 1412.54 Q149.931 1416.08 149.931 1423.21 Q149.931 1430.32 151.737 1433.89 Q153.566 1437.43 157.177 1437.43 Q160.811 1437.43 162.616 1433.89 Q164.445 1430.32 164.445 1423.21 Q164.445 1416.08 162.616 1412.54 Q160.811 1408.98 157.177 1408.98 M157.177 1405.27 Q162.987 1405.27 166.042 1409.88 Q169.121 1414.46 169.121 1423.21 Q169.121 1431.94 166.042 1436.55 Q162.987 1441.13 157.177 1441.13 Q151.366 1441.13 148.288 1436.55 Q145.232 1431.94 145.232 1423.21 Q145.232 1414.46 148.288 1409.88 Q151.366 1405.27 157.177 1405.27 Z\" fill=\"#000000\" fill-rule=\"nonzero\" fill-opacity=\"1\" /><path clip-path=\"url(#clip900)\" d=\"M117.825 1161.34 L125.464 1161.34 L125.464 1134.97 L117.154 1136.64 L117.154 1132.38 L125.418 1130.71 L130.093 1130.71 L130.093 1161.34 L137.732 1161.34 L137.732 1165.27 L117.825 1165.27 L117.825 1161.34 Z\" fill=\"#000000\" fill-rule=\"nonzero\" fill-opacity=\"1\" /><path clip-path=\"url(#clip900)\" d=\"M157.177 1133.79 Q153.566 1133.79 151.737 1137.36 Q149.931 1140.9 149.931 1148.03 Q149.931 1155.13 151.737 1158.7 Q153.566 1162.24 157.177 1162.24 Q160.811 1162.24 162.616 1158.7 Q164.445 1155.13 164.445 1148.03 Q164.445 1140.9 162.616 1137.36 Q160.811 1133.79 157.177 1133.79 M157.177 1130.09 Q162.987 1130.09 166.042 1134.69 Q169.121 1139.28 169.121 1148.03 Q169.121 1156.75 166.042 1161.36 Q162.987 1165.94 157.177 1165.94 Q151.366 1165.94 148.288 1161.36 Q145.232 1156.75 145.232 1148.03 Q145.232 1139.28 148.288 1134.69 Q151.366 1130.09 157.177 1130.09 Z\" fill=\"#000000\" fill-rule=\"nonzero\" fill-opacity=\"1\" /><path clip-path=\"url(#clip900)\" d=\"M121.043 886.15 L137.362 886.15 L137.362 890.086 L115.418 890.086 L115.418 886.15 Q118.08 883.396 122.663 878.766 Q127.269 874.113 128.45 872.771 Q130.695 870.248 131.575 868.512 Q132.478 866.752 132.478 865.063 Q132.478 862.308 130.533 860.572 Q128.612 858.836 125.51 858.836 Q123.311 858.836 120.857 859.6 Q118.427 860.363 115.649 861.914 L115.649 857.192 Q118.473 856.058 120.927 855.479 Q123.38 854.901 125.418 854.901 Q130.788 854.901 133.982 857.586 Q137.177 860.271 137.177 864.762 Q137.177 866.891 136.367 868.813 Q135.579 870.711 133.473 873.303 Q132.894 873.975 129.792 877.192 Q126.691 880.387 121.043 886.15 Z\" fill=\"#000000\" fill-rule=\"nonzero\" fill-opacity=\"1\" /><path clip-path=\"url(#clip900)\" d=\"M157.177 858.604 Q153.566 858.604 151.737 862.169 Q149.931 865.711 149.931 872.84 Q149.931 879.947 151.737 883.512 Q153.566 887.053 157.177 887.053 Q160.811 887.053 162.616 883.512 Q164.445 879.947 164.445 872.84 Q164.445 865.711 162.616 862.169 Q160.811 858.604 157.177 858.604 M157.177 854.901 Q162.987 854.901 166.042 859.507 Q169.121 864.09 169.121 872.84 Q169.121 881.567 166.042 886.174 Q162.987 890.757 157.177 890.757 Q151.366 890.757 148.288 886.174 Q145.232 881.567 145.232 872.84 Q145.232 864.09 148.288 859.507 Q151.366 854.901 157.177 854.901 Z\" fill=\"#000000\" fill-rule=\"nonzero\" fill-opacity=\"1\" /><path clip-path=\"url(#clip900)\" d=\"M131.181 596.264 Q134.538 596.982 136.413 599.25 Q138.311 601.519 138.311 604.852 Q138.311 609.968 134.792 612.769 Q131.274 615.57 124.793 615.57 Q122.617 615.57 120.302 615.13 Q118.01 614.713 115.556 613.857 L115.556 609.343 Q117.501 610.477 119.816 611.056 Q122.13 611.635 124.654 611.635 Q129.052 611.635 131.343 609.898 Q133.658 608.162 133.658 604.852 Q133.658 601.797 131.505 600.084 Q129.376 598.348 125.556 598.348 L121.529 598.348 L121.529 594.505 L125.742 594.505 Q129.191 594.505 131.019 593.139 Q132.848 591.75 132.848 589.158 Q132.848 586.496 130.95 585.084 Q129.075 583.649 125.556 583.649 Q123.635 583.649 121.436 584.065 Q119.237 584.482 116.598 585.362 L116.598 581.195 Q119.26 580.454 121.575 580.084 Q123.913 579.713 125.973 579.713 Q131.297 579.713 134.399 582.144 Q137.501 584.551 137.501 588.672 Q137.501 591.542 135.857 593.533 Q134.214 595.5 131.181 596.264 Z\" fill=\"#000000\" fill-rule=\"nonzero\" fill-opacity=\"1\" /><path clip-path=\"url(#clip900)\" d=\"M157.177 583.417 Q153.566 583.417 151.737 586.982 Q149.931 590.524 149.931 597.653 Q149.931 604.76 151.737 608.324 Q153.566 611.866 157.177 611.866 Q160.811 611.866 162.616 608.324 Q164.445 604.76 164.445 597.653 Q164.445 590.524 162.616 586.982 Q160.811 583.417 157.177 583.417 M157.177 579.713 Q162.987 579.713 166.042 584.32 Q169.121 588.903 169.121 597.653 Q169.121 606.38 166.042 610.986 Q162.987 615.57 157.177 615.57 Q151.366 615.57 148.288 610.986 Q145.232 606.38 145.232 597.653 Q145.232 588.903 148.288 584.32 Q151.366 579.713 157.177 579.713 Z\" fill=\"#000000\" fill-rule=\"nonzero\" fill-opacity=\"1\" /><path clip-path=\"url(#clip900)\" d=\"M129.862 309.225 L118.056 327.674 L129.862 327.674 L129.862 309.225 M128.635 305.151 L134.515 305.151 L134.515 327.674 L139.445 327.674 L139.445 331.563 L134.515 331.563 L134.515 339.711 L129.862 339.711 L129.862 331.563 L114.26 331.563 L114.26 327.049 L128.635 305.151 Z\" fill=\"#000000\" fill-rule=\"nonzero\" fill-opacity=\"1\" /><path clip-path=\"url(#clip900)\" d=\"M157.177 308.23 Q153.566 308.23 151.737 311.795 Q149.931 315.336 149.931 322.466 Q149.931 329.572 151.737 333.137 Q153.566 336.679 157.177 336.679 Q160.811 336.679 162.616 333.137 Q164.445 329.572 164.445 322.466 Q164.445 315.336 162.616 311.795 Q160.811 308.23 157.177 308.23 M157.177 304.526 Q162.987 304.526 166.042 309.133 Q169.121 313.716 169.121 322.466 Q169.121 331.193 166.042 335.799 Q162.987 340.383 157.177 340.383 Q151.366 340.383 148.288 335.799 Q145.232 331.193 145.232 322.466 Q145.232 313.716 148.288 309.133 Q151.366 304.526 157.177 304.526 Z\" fill=\"#000000\" fill-rule=\"nonzero\" fill-opacity=\"1\" /><path clip-path=\"url(#clip900)\" d=\"M117.061 29.9641 L135.417 29.9641 L135.417 33.8993 L121.343 33.8993 L121.343 42.3714 Q122.362 42.0242 123.38 41.8622 Q124.399 41.677 125.418 41.677 Q131.205 41.677 134.584 44.8483 Q137.964 48.0196 137.964 53.4362 Q137.964 59.0149 134.492 62.1167 Q131.019 65.1954 124.7 65.1954 Q122.524 65.1954 120.255 64.825 Q118.01 64.4547 115.603 63.7139 L115.603 59.0149 Q117.686 60.1491 119.908 60.7047 Q122.13 61.2602 124.607 61.2602 Q128.612 61.2602 130.95 59.1538 Q133.288 57.0473 133.288 53.4362 Q133.288 49.8251 130.95 47.7186 Q128.612 45.6122 124.607 45.6122 Q122.732 45.6122 120.857 46.0288 Q119.006 46.4455 117.061 47.3251 L117.061 29.9641 Z\" fill=\"#000000\" fill-rule=\"nonzero\" fill-opacity=\"1\" /><path clip-path=\"url(#clip900)\" d=\"M157.177 33.0428 Q153.566 33.0428 151.737 36.6076 Q149.931 40.1492 149.931 47.2788 Q149.931 54.3853 151.737 57.9501 Q153.566 61.4917 157.177 61.4917 Q160.811 61.4917 162.616 57.9501 Q164.445 54.3853 164.445 47.2788 Q164.445 40.1492 162.616 36.6076 Q160.811 33.0428 157.177 33.0428 M157.177 29.3391 Q162.987 29.3391 166.042 33.9456 Q169.121 38.5289 169.121 47.2788 Q169.121 56.0056 166.042 60.6121 Q162.987 65.1954 157.177 65.1954 Q151.366 65.1954 148.288 60.6121 Q145.232 56.0056 145.232 47.2788 Q145.232 38.5289 148.288 33.9456 Q151.366 29.3391 157.177 29.3391 Z\" fill=\"#000000\" fill-rule=\"nonzero\" fill-opacity=\"1\" /><path clip-path=\"url(#clip900)\" d=\"M29.7248 796.386 L35.1993 796.386 Q33.8307 798.869 33.1623 801.383 Q32.4621 803.866 32.4621 806.412 Q32.4621 812.11 36.0905 815.261 Q39.6872 818.412 46.212 818.412 Q52.7369 818.412 56.3653 815.261 Q59.9619 812.11 59.9619 806.412 Q59.9619 803.866 59.2935 801.383 Q58.5933 798.869 57.2247 796.386 L62.6355 796.386 Q63.7814 798.837 64.3543 801.479 Q64.9272 804.089 64.9272 807.049 Q64.9272 815.102 59.8664 819.844 Q54.8057 824.586 46.212 824.586 Q37.491 824.586 32.4939 819.812 Q27.4968 815.006 27.4968 806.667 Q27.4968 803.962 28.0697 801.383 Q28.6108 798.805 29.7248 796.386 Z\" fill=\"#000000\" fill-rule=\"nonzero\" fill-opacity=\"1\" /><path clip-path=\"url(#clip900)\" d=\"M32.4621 772.388 Q32.4621 777.098 36.1542 779.836 Q39.8145 782.573 46.212 782.573 Q52.6095 782.573 56.3017 779.867 Q59.9619 777.13 59.9619 772.388 Q59.9619 767.709 56.2698 764.972 Q52.5777 762.234 46.212 762.234 Q39.8781 762.234 36.186 764.972 Q32.4621 767.709 32.4621 772.388 M27.4968 772.388 Q27.4968 764.749 32.4621 760.388 Q37.4273 756.028 46.212 756.028 Q54.9649 756.028 59.9619 760.388 Q64.9272 764.749 64.9272 772.388 Q64.9272 780.058 59.9619 784.419 Q54.9649 788.748 46.212 788.748 Q37.4273 788.748 32.4621 784.419 Q27.4968 780.058 27.4968 772.388 Z\" fill=\"#000000\" fill-rule=\"nonzero\" fill-opacity=\"1\" /><path clip-path=\"url(#clip900)\" d=\"M49.9359 746.925 L28.3562 746.925 L28.3562 741.068 L49.7131 741.068 Q54.7739 741.068 57.3202 739.095 Q59.8346 737.122 59.8346 733.175 Q59.8346 728.432 56.8109 725.695 Q53.7872 722.926 48.5673 722.926 L28.3562 722.926 L28.3562 717.07 L64.0042 717.07 L64.0042 722.926 L58.5296 722.926 Q61.7762 725.059 63.3676 727.891 Q64.9272 730.692 64.9272 734.416 Q64.9272 740.559 61.1078 743.742 Q57.2883 746.925 49.9359 746.925 M27.4968 732.188 L27.4968 732.188 Z\" fill=\"#000000\" fill-rule=\"nonzero\" fill-opacity=\"1\" /><path clip-path=\"url(#clip900)\" d=\"M42.4881 675.374 L64.0042 675.374 L64.0042 681.231 L42.679 681.231 Q37.6183 681.231 35.1038 683.204 Q32.5894 685.178 32.5894 689.124 Q32.5894 693.867 35.6131 696.604 Q38.6368 699.341 43.8567 699.341 L64.0042 699.341 L64.0042 705.229 L28.3562 705.229 L28.3562 699.341 L33.8944 699.341 Q30.6797 697.241 29.0883 694.408 Q27.4968 691.543 27.4968 687.819 Q27.4968 681.676 31.3163 678.525 Q35.1038 675.374 42.4881 675.374 Z\" fill=\"#000000\" fill-rule=\"nonzero\" fill-opacity=\"1\" /><path clip-path=\"url(#clip900)\" d=\"M18.2347 657.9 L28.3562 657.9 L28.3562 645.837 L32.9077 645.837 L32.9077 657.9 L52.2594 657.9 Q56.6199 657.9 57.8613 656.723 Q59.1026 655.513 59.1026 651.853 L59.1026 645.837 L64.0042 645.837 L64.0042 651.853 Q64.0042 658.633 61.4897 661.211 Q58.9434 663.789 52.2594 663.789 L32.9077 663.789 L32.9077 668.086 L28.3562 668.086 L28.3562 663.789 L18.2347 663.789 L18.2347 657.9 Z\" fill=\"#000000\" fill-rule=\"nonzero\" fill-opacity=\"1\" /><path clip-path=\"url(#clip902)\" d=\"M405.897 1368.14 L405.897 1423.18 L450.934 1423.18 L450.934 1368.14 L405.897 1368.14 L405.897 1368.14  Z\" fill=\"#009af9\" fill-rule=\"evenodd\" fill-opacity=\"1\"/>\n",
       "<polyline clip-path=\"url(#clip902)\" style=\"stroke:#000000; stroke-linecap:round; stroke-linejoin:round; stroke-width:4; stroke-opacity:1; fill:none\" points=\"405.897,1368.14 405.897,1423.18 450.934,1423.18 450.934,1368.14 405.897,1368.14 \"/>\n",
       "<path clip-path=\"url(#clip902)\" d=\"M450.934 1285.59 L450.934 1423.18 L495.971 1423.18 L495.971 1285.59 L450.934 1285.59 L450.934 1285.59  Z\" fill=\"#009af9\" fill-rule=\"evenodd\" fill-opacity=\"1\"/>\n",
       "<polyline clip-path=\"url(#clip902)\" style=\"stroke:#000000; stroke-linecap:round; stroke-linejoin:round; stroke-width:4; stroke-opacity:1; fill:none\" points=\"450.934,1285.59 450.934,1423.18 495.971,1423.18 495.971,1285.59 450.934,1285.59 \"/>\n",
       "<path clip-path=\"url(#clip902)\" d=\"M495.971 680.175 L495.971 1423.18 L541.008 1423.18 L541.008 680.175 L495.971 680.175 L495.971 680.175  Z\" fill=\"#009af9\" fill-rule=\"evenodd\" fill-opacity=\"1\"/>\n",
       "<polyline clip-path=\"url(#clip902)\" style=\"stroke:#000000; stroke-linecap:round; stroke-linejoin:round; stroke-width:4; stroke-opacity:1; fill:none\" points=\"495.971,680.175 495.971,1423.18 541.008,1423.18 541.008,680.175 495.971,680.175 \"/>\n",
       "<path clip-path=\"url(#clip902)\" d=\"M541.008 47.2441 L541.008 1423.18 L586.046 1423.18 L586.046 47.2441 L541.008 47.2441 L541.008 47.2441  Z\" fill=\"#009af9\" fill-rule=\"evenodd\" fill-opacity=\"1\"/>\n",
       "<polyline clip-path=\"url(#clip902)\" style=\"stroke:#000000; stroke-linecap:round; stroke-linejoin:round; stroke-width:4; stroke-opacity:1; fill:none\" points=\"541.008,47.2441 541.008,1423.18 586.046,1423.18 586.046,47.2441 541.008,47.2441 \"/>\n",
       "<path clip-path=\"url(#clip902)\" d=\"M586.046 845.287 L586.046 1423.18 L631.083 1423.18 L631.083 845.287 L586.046 845.287 L586.046 845.287  Z\" fill=\"#009af9\" fill-rule=\"evenodd\" fill-opacity=\"1\"/>\n",
       "<polyline clip-path=\"url(#clip902)\" style=\"stroke:#000000; stroke-linecap:round; stroke-linejoin:round; stroke-width:4; stroke-opacity:1; fill:none\" points=\"586.046,845.287 586.046,1423.18 631.083,1423.18 631.083,845.287 586.046,845.287 \"/>\n",
       "<path clip-path=\"url(#clip902)\" d=\"M631.083 817.768 L631.083 1423.18 L676.12 1423.18 L676.12 817.768 L631.083 817.768 L631.083 817.768  Z\" fill=\"#009af9\" fill-rule=\"evenodd\" fill-opacity=\"1\"/>\n",
       "<polyline clip-path=\"url(#clip902)\" style=\"stroke:#000000; stroke-linecap:round; stroke-linejoin:round; stroke-width:4; stroke-opacity:1; fill:none\" points=\"631.083,817.768 631.083,1423.18 676.12,1423.18 676.12,817.768 631.083,817.768 \"/>\n",
       "<path clip-path=\"url(#clip902)\" d=\"M676.12 927.843 L676.12 1423.18 L721.157 1423.18 L721.157 927.843 L676.12 927.843 L676.12 927.843  Z\" fill=\"#009af9\" fill-rule=\"evenodd\" fill-opacity=\"1\"/>\n",
       "<polyline clip-path=\"url(#clip902)\" style=\"stroke:#000000; stroke-linecap:round; stroke-linejoin:round; stroke-width:4; stroke-opacity:1; fill:none\" points=\"676.12,927.843 676.12,1423.18 721.157,1423.18 721.157,927.843 676.12,927.843 \"/>\n",
       "<path clip-path=\"url(#clip902)\" d=\"M721.157 1092.96 L721.157 1423.18 L766.195 1423.18 L766.195 1092.96 L721.157 1092.96 L721.157 1092.96  Z\" fill=\"#009af9\" fill-rule=\"evenodd\" fill-opacity=\"1\"/>\n",
       "<polyline clip-path=\"url(#clip902)\" style=\"stroke:#000000; stroke-linecap:round; stroke-linejoin:round; stroke-width:4; stroke-opacity:1; fill:none\" points=\"721.157,1092.96 721.157,1423.18 766.195,1423.18 766.195,1092.96 721.157,1092.96 \"/>\n",
       "<path clip-path=\"url(#clip902)\" d=\"M766.195 1285.59 L766.195 1423.18 L811.232 1423.18 L811.232 1285.59 L766.195 1285.59 L766.195 1285.59  Z\" fill=\"#009af9\" fill-rule=\"evenodd\" fill-opacity=\"1\"/>\n",
       "<polyline clip-path=\"url(#clip902)\" style=\"stroke:#000000; stroke-linecap:round; stroke-linejoin:round; stroke-width:4; stroke-opacity:1; fill:none\" points=\"766.195,1285.59 766.195,1423.18 811.232,1423.18 811.232,1285.59 766.195,1285.59 \"/>\n",
       "<path clip-path=\"url(#clip902)\" d=\"M811.232 1147.99 L811.232 1423.18 L856.269 1423.18 L856.269 1147.99 L811.232 1147.99 L811.232 1147.99  Z\" fill=\"#009af9\" fill-rule=\"evenodd\" fill-opacity=\"1\"/>\n",
       "<polyline clip-path=\"url(#clip902)\" style=\"stroke:#000000; stroke-linecap:round; stroke-linejoin:round; stroke-width:4; stroke-opacity:1; fill:none\" points=\"811.232,1147.99 811.232,1423.18 856.269,1423.18 856.269,1147.99 811.232,1147.99 \"/>\n",
       "<path clip-path=\"url(#clip902)\" d=\"M856.269 1175.51 L856.269 1423.18 L901.306 1423.18 L901.306 1175.51 L856.269 1175.51 L856.269 1175.51  Z\" fill=\"#009af9\" fill-rule=\"evenodd\" fill-opacity=\"1\"/>\n",
       "<polyline clip-path=\"url(#clip902)\" style=\"stroke:#000000; stroke-linecap:round; stroke-linejoin:round; stroke-width:4; stroke-opacity:1; fill:none\" points=\"856.269,1175.51 856.269,1423.18 901.306,1423.18 901.306,1175.51 856.269,1175.51 \"/>\n",
       "<path clip-path=\"url(#clip902)\" d=\"M901.306 1203.03 L901.306 1423.18 L946.343 1423.18 L946.343 1203.03 L901.306 1203.03 L901.306 1203.03  Z\" fill=\"#009af9\" fill-rule=\"evenodd\" fill-opacity=\"1\"/>\n",
       "<polyline clip-path=\"url(#clip902)\" style=\"stroke:#000000; stroke-linecap:round; stroke-linejoin:round; stroke-width:4; stroke-opacity:1; fill:none\" points=\"901.306,1203.03 901.306,1423.18 946.343,1423.18 946.343,1203.03 901.306,1203.03 \"/>\n",
       "<path clip-path=\"url(#clip902)\" d=\"M946.343 1258.07 L946.343 1423.18 L991.381 1423.18 L991.381 1258.07 L946.343 1258.07 L946.343 1258.07  Z\" fill=\"#009af9\" fill-rule=\"evenodd\" fill-opacity=\"1\"/>\n",
       "<polyline clip-path=\"url(#clip902)\" style=\"stroke:#000000; stroke-linecap:round; stroke-linejoin:round; stroke-width:4; stroke-opacity:1; fill:none\" points=\"946.343,1258.07 946.343,1423.18 991.381,1423.18 991.381,1258.07 946.343,1258.07 \"/>\n",
       "<path clip-path=\"url(#clip902)\" d=\"M991.381 1313.1 L991.381 1423.18 L1036.42 1423.18 L1036.42 1313.1 L991.381 1313.1 L991.381 1313.1  Z\" fill=\"#009af9\" fill-rule=\"evenodd\" fill-opacity=\"1\"/>\n",
       "<polyline clip-path=\"url(#clip902)\" style=\"stroke:#000000; stroke-linecap:round; stroke-linejoin:round; stroke-width:4; stroke-opacity:1; fill:none\" points=\"991.381,1313.1 991.381,1423.18 1036.42,1423.18 1036.42,1313.1 991.381,1313.1 \"/>\n",
       "<path clip-path=\"url(#clip902)\" d=\"M1036.42 1285.59 L1036.42 1423.18 L1081.46 1423.18 L1081.46 1285.59 L1036.42 1285.59 L1036.42 1285.59  Z\" fill=\"#009af9\" fill-rule=\"evenodd\" fill-opacity=\"1\"/>\n",
       "<polyline clip-path=\"url(#clip902)\" style=\"stroke:#000000; stroke-linecap:round; stroke-linejoin:round; stroke-width:4; stroke-opacity:1; fill:none\" points=\"1036.42,1285.59 1036.42,1423.18 1081.46,1423.18 1081.46,1285.59 1036.42,1285.59 \"/>\n",
       "<path clip-path=\"url(#clip902)\" d=\"M1081.46 1258.07 L1081.46 1423.18 L1126.49 1423.18 L1126.49 1258.07 L1081.46 1258.07 L1081.46 1258.07  Z\" fill=\"#009af9\" fill-rule=\"evenodd\" fill-opacity=\"1\"/>\n",
       "<polyline clip-path=\"url(#clip902)\" style=\"stroke:#000000; stroke-linecap:round; stroke-linejoin:round; stroke-width:4; stroke-opacity:1; fill:none\" points=\"1081.46,1258.07 1081.46,1423.18 1126.49,1423.18 1126.49,1258.07 1081.46,1258.07 \"/>\n",
       "<path clip-path=\"url(#clip902)\" d=\"M1126.49 1147.99 L1126.49 1423.18 L1171.53 1423.18 L1171.53 1147.99 L1126.49 1147.99 L1126.49 1147.99  Z\" fill=\"#009af9\" fill-rule=\"evenodd\" fill-opacity=\"1\"/>\n",
       "<polyline clip-path=\"url(#clip902)\" style=\"stroke:#000000; stroke-linecap:round; stroke-linejoin:round; stroke-width:4; stroke-opacity:1; fill:none\" points=\"1126.49,1147.99 1126.49,1423.18 1171.53,1423.18 1171.53,1147.99 1126.49,1147.99 \"/>\n",
       "<path clip-path=\"url(#clip902)\" d=\"M1171.53 1230.55 L1171.53 1423.18 L1216.57 1423.18 L1216.57 1230.55 L1171.53 1230.55 L1171.53 1230.55  Z\" fill=\"#009af9\" fill-rule=\"evenodd\" fill-opacity=\"1\"/>\n",
       "<polyline clip-path=\"url(#clip902)\" style=\"stroke:#000000; stroke-linecap:round; stroke-linejoin:round; stroke-width:4; stroke-opacity:1; fill:none\" points=\"1171.53,1230.55 1171.53,1423.18 1216.57,1423.18 1216.57,1230.55 1171.53,1230.55 \"/>\n",
       "<path clip-path=\"url(#clip902)\" d=\"M1216.57 1230.55 L1216.57 1423.18 L1261.6 1423.18 L1261.6 1230.55 L1216.57 1230.55 L1216.57 1230.55  Z\" fill=\"#009af9\" fill-rule=\"evenodd\" fill-opacity=\"1\"/>\n",
       "<polyline clip-path=\"url(#clip902)\" style=\"stroke:#000000; stroke-linecap:round; stroke-linejoin:round; stroke-width:4; stroke-opacity:1; fill:none\" points=\"1216.57,1230.55 1216.57,1423.18 1261.6,1423.18 1261.6,1230.55 1216.57,1230.55 \"/>\n",
       "<path clip-path=\"url(#clip902)\" d=\"M1261.6 955.362 L1261.6 1423.18 L1306.64 1423.18 L1306.64 955.362 L1261.6 955.362 L1261.6 955.362  Z\" fill=\"#009af9\" fill-rule=\"evenodd\" fill-opacity=\"1\"/>\n",
       "<polyline clip-path=\"url(#clip902)\" style=\"stroke:#000000; stroke-linecap:round; stroke-linejoin:round; stroke-width:4; stroke-opacity:1; fill:none\" points=\"1261.6,955.362 1261.6,1423.18 1306.64,1423.18 1306.64,955.362 1261.6,955.362 \"/>\n",
       "<path clip-path=\"url(#clip902)\" d=\"M1306.64 1065.44 L1306.64 1423.18 L1351.68 1423.18 L1351.68 1065.44 L1306.64 1065.44 L1306.64 1065.44  Z\" fill=\"#009af9\" fill-rule=\"evenodd\" fill-opacity=\"1\"/>\n",
       "<polyline clip-path=\"url(#clip902)\" style=\"stroke:#000000; stroke-linecap:round; stroke-linejoin:round; stroke-width:4; stroke-opacity:1; fill:none\" points=\"1306.64,1065.44 1306.64,1423.18 1351.68,1423.18 1351.68,1065.44 1306.64,1065.44 \"/>\n",
       "<path clip-path=\"url(#clip902)\" d=\"M1351.68 1065.44 L1351.68 1423.18 L1396.72 1423.18 L1396.72 1065.44 L1351.68 1065.44 L1351.68 1065.44  Z\" fill=\"#009af9\" fill-rule=\"evenodd\" fill-opacity=\"1\"/>\n",
       "<polyline clip-path=\"url(#clip902)\" style=\"stroke:#000000; stroke-linecap:round; stroke-linejoin:round; stroke-width:4; stroke-opacity:1; fill:none\" points=\"1351.68,1065.44 1351.68,1423.18 1396.72,1423.18 1396.72,1065.44 1351.68,1065.44 \"/>\n",
       "<path clip-path=\"url(#clip902)\" d=\"M1396.72 1120.47 L1396.72 1423.18 L1441.75 1423.18 L1441.75 1120.47 L1396.72 1120.47 L1396.72 1120.47  Z\" fill=\"#009af9\" fill-rule=\"evenodd\" fill-opacity=\"1\"/>\n",
       "<polyline clip-path=\"url(#clip902)\" style=\"stroke:#000000; stroke-linecap:round; stroke-linejoin:round; stroke-width:4; stroke-opacity:1; fill:none\" points=\"1396.72,1120.47 1396.72,1423.18 1441.75,1423.18 1441.75,1120.47 1396.72,1120.47 \"/>\n",
       "<path clip-path=\"url(#clip902)\" d=\"M1441.75 790.249 L1441.75 1423.18 L1486.79 1423.18 L1486.79 790.249 L1441.75 790.249 L1441.75 790.249  Z\" fill=\"#009af9\" fill-rule=\"evenodd\" fill-opacity=\"1\"/>\n",
       "<polyline clip-path=\"url(#clip902)\" style=\"stroke:#000000; stroke-linecap:round; stroke-linejoin:round; stroke-width:4; stroke-opacity:1; fill:none\" points=\"1441.75,790.249 1441.75,1423.18 1486.79,1423.18 1486.79,790.249 1441.75,790.249 \"/>\n",
       "<path clip-path=\"url(#clip902)\" d=\"M1486.79 1120.47 L1486.79 1423.18 L1531.83 1423.18 L1531.83 1120.47 L1486.79 1120.47 L1486.79 1120.47  Z\" fill=\"#009af9\" fill-rule=\"evenodd\" fill-opacity=\"1\"/>\n",
       "<polyline clip-path=\"url(#clip902)\" style=\"stroke:#000000; stroke-linecap:round; stroke-linejoin:round; stroke-width:4; stroke-opacity:1; fill:none\" points=\"1486.79,1120.47 1486.79,1423.18 1531.83,1423.18 1531.83,1120.47 1486.79,1120.47 \"/>\n",
       "<path clip-path=\"url(#clip902)\" d=\"M1531.83 817.768 L1531.83 1423.18 L1576.86 1423.18 L1576.86 817.768 L1531.83 817.768 L1531.83 817.768  Z\" fill=\"#009af9\" fill-rule=\"evenodd\" fill-opacity=\"1\"/>\n",
       "<polyline clip-path=\"url(#clip902)\" style=\"stroke:#000000; stroke-linecap:round; stroke-linejoin:round; stroke-width:4; stroke-opacity:1; fill:none\" points=\"1531.83,817.768 1531.83,1423.18 1576.86,1423.18 1576.86,817.768 1531.83,817.768 \"/>\n",
       "<path clip-path=\"url(#clip902)\" d=\"M1576.86 1120.47 L1576.86 1423.18 L1621.9 1423.18 L1621.9 1120.47 L1576.86 1120.47 L1576.86 1120.47  Z\" fill=\"#009af9\" fill-rule=\"evenodd\" fill-opacity=\"1\"/>\n",
       "<polyline clip-path=\"url(#clip902)\" style=\"stroke:#000000; stroke-linecap:round; stroke-linejoin:round; stroke-width:4; stroke-opacity:1; fill:none\" points=\"1576.86,1120.47 1576.86,1423.18 1621.9,1423.18 1621.9,1120.47 1576.86,1120.47 \"/>\n",
       "<path clip-path=\"url(#clip902)\" d=\"M1621.9 1120.47 L1621.9 1423.18 L1666.94 1423.18 L1666.94 1120.47 L1621.9 1120.47 L1621.9 1120.47  Z\" fill=\"#009af9\" fill-rule=\"evenodd\" fill-opacity=\"1\"/>\n",
       "<polyline clip-path=\"url(#clip902)\" style=\"stroke:#000000; stroke-linecap:round; stroke-linejoin:round; stroke-width:4; stroke-opacity:1; fill:none\" points=\"1621.9,1120.47 1621.9,1423.18 1666.94,1423.18 1666.94,1120.47 1621.9,1120.47 \"/>\n",
       "<path clip-path=\"url(#clip902)\" d=\"M1666.94 1120.47 L1666.94 1423.18 L1711.98 1423.18 L1711.98 1120.47 L1666.94 1120.47 L1666.94 1120.47  Z\" fill=\"#009af9\" fill-rule=\"evenodd\" fill-opacity=\"1\"/>\n",
       "<polyline clip-path=\"url(#clip902)\" style=\"stroke:#000000; stroke-linecap:round; stroke-linejoin:round; stroke-width:4; stroke-opacity:1; fill:none\" points=\"1666.94,1120.47 1666.94,1423.18 1711.98,1423.18 1711.98,1120.47 1666.94,1120.47 \"/>\n",
       "<path clip-path=\"url(#clip902)\" d=\"M1711.98 1065.44 L1711.98 1423.18 L1757.01 1423.18 L1757.01 1065.44 L1711.98 1065.44 L1711.98 1065.44  Z\" fill=\"#009af9\" fill-rule=\"evenodd\" fill-opacity=\"1\"/>\n",
       "<polyline clip-path=\"url(#clip902)\" style=\"stroke:#000000; stroke-linecap:round; stroke-linejoin:round; stroke-width:4; stroke-opacity:1; fill:none\" points=\"1711.98,1065.44 1711.98,1423.18 1757.01,1423.18 1757.01,1065.44 1711.98,1065.44 \"/>\n",
       "<path clip-path=\"url(#clip902)\" d=\"M1757.01 1120.47 L1757.01 1423.18 L1802.05 1423.18 L1802.05 1120.47 L1757.01 1120.47 L1757.01 1120.47  Z\" fill=\"#009af9\" fill-rule=\"evenodd\" fill-opacity=\"1\"/>\n",
       "<polyline clip-path=\"url(#clip902)\" style=\"stroke:#000000; stroke-linecap:round; stroke-linejoin:round; stroke-width:4; stroke-opacity:1; fill:none\" points=\"1757.01,1120.47 1757.01,1423.18 1802.05,1423.18 1802.05,1120.47 1757.01,1120.47 \"/>\n",
       "<path clip-path=\"url(#clip902)\" d=\"M1802.05 1258.07 L1802.05 1423.18 L1847.09 1423.18 L1847.09 1258.07 L1802.05 1258.07 L1802.05 1258.07  Z\" fill=\"#009af9\" fill-rule=\"evenodd\" fill-opacity=\"1\"/>\n",
       "<polyline clip-path=\"url(#clip902)\" style=\"stroke:#000000; stroke-linecap:round; stroke-linejoin:round; stroke-width:4; stroke-opacity:1; fill:none\" points=\"1802.05,1258.07 1802.05,1423.18 1847.09,1423.18 1847.09,1258.07 1802.05,1258.07 \"/>\n",
       "<path clip-path=\"url(#clip902)\" d=\"M1847.09 1230.55 L1847.09 1423.18 L1892.12 1423.18 L1892.12 1230.55 L1847.09 1230.55 L1847.09 1230.55  Z\" fill=\"#009af9\" fill-rule=\"evenodd\" fill-opacity=\"1\"/>\n",
       "<polyline clip-path=\"url(#clip902)\" style=\"stroke:#000000; stroke-linecap:round; stroke-linejoin:round; stroke-width:4; stroke-opacity:1; fill:none\" points=\"1847.09,1230.55 1847.09,1423.18 1892.12,1423.18 1892.12,1230.55 1847.09,1230.55 \"/>\n",
       "<path clip-path=\"url(#clip902)\" d=\"M1892.12 1313.1 L1892.12 1423.18 L1937.16 1423.18 L1937.16 1313.1 L1892.12 1313.1 L1892.12 1313.1  Z\" fill=\"#009af9\" fill-rule=\"evenodd\" fill-opacity=\"1\"/>\n",
       "<polyline clip-path=\"url(#clip902)\" style=\"stroke:#000000; stroke-linecap:round; stroke-linejoin:round; stroke-width:4; stroke-opacity:1; fill:none\" points=\"1892.12,1313.1 1892.12,1423.18 1937.16,1423.18 1937.16,1313.1 1892.12,1313.1 \"/>\n",
       "<path clip-path=\"url(#clip902)\" d=\"M1937.16 1285.59 L1937.16 1423.18 L1982.2 1423.18 L1982.2 1285.59 L1937.16 1285.59 L1937.16 1285.59  Z\" fill=\"#009af9\" fill-rule=\"evenodd\" fill-opacity=\"1\"/>\n",
       "<polyline clip-path=\"url(#clip902)\" style=\"stroke:#000000; stroke-linecap:round; stroke-linejoin:round; stroke-width:4; stroke-opacity:1; fill:none\" points=\"1937.16,1285.59 1937.16,1423.18 1982.2,1423.18 1982.2,1285.59 1937.16,1285.59 \"/>\n",
       "<path clip-path=\"url(#clip902)\" d=\"M1982.2 1368.14 L1982.2 1423.18 L2027.24 1423.18 L2027.24 1368.14 L1982.2 1368.14 L1982.2 1368.14  Z\" fill=\"#009af9\" fill-rule=\"evenodd\" fill-opacity=\"1\"/>\n",
       "<polyline clip-path=\"url(#clip902)\" style=\"stroke:#000000; stroke-linecap:round; stroke-linejoin:round; stroke-width:4; stroke-opacity:1; fill:none\" points=\"1982.2,1368.14 1982.2,1423.18 2027.24,1423.18 2027.24,1368.14 1982.2,1368.14 \"/>\n",
       "<path clip-path=\"url(#clip902)\" d=\"M2027.24 1340.62 L2027.24 1423.18 L2072.27 1423.18 L2072.27 1340.62 L2027.24 1340.62 L2027.24 1340.62  Z\" fill=\"#009af9\" fill-rule=\"evenodd\" fill-opacity=\"1\"/>\n",
       "<polyline clip-path=\"url(#clip902)\" style=\"stroke:#000000; stroke-linecap:round; stroke-linejoin:round; stroke-width:4; stroke-opacity:1; fill:none\" points=\"2027.24,1340.62 2027.24,1423.18 2072.27,1423.18 2072.27,1340.62 2027.24,1340.62 \"/>\n",
       "<path clip-path=\"url(#clip902)\" d=\"M2072.27 1285.59 L2072.27 1423.18 L2117.31 1423.18 L2117.31 1285.59 L2072.27 1285.59 L2072.27 1285.59  Z\" fill=\"#009af9\" fill-rule=\"evenodd\" fill-opacity=\"1\"/>\n",
       "<polyline clip-path=\"url(#clip902)\" style=\"stroke:#000000; stroke-linecap:round; stroke-linejoin:round; stroke-width:4; stroke-opacity:1; fill:none\" points=\"2072.27,1285.59 2072.27,1423.18 2117.31,1423.18 2117.31,1285.59 2072.27,1285.59 \"/>\n",
       "<path clip-path=\"url(#clip902)\" d=\"M2117.31 1423.18 L2117.31 1423.18 L2162.35 1423.18 L2162.35 1423.18 L2117.31 1423.18 L2117.31 1423.18  Z\" fill=\"#009af9\" fill-rule=\"evenodd\" fill-opacity=\"1\"/>\n",
       "<polyline clip-path=\"url(#clip902)\" style=\"stroke:#000000; stroke-linecap:round; stroke-linejoin:round; stroke-width:4; stroke-opacity:1; fill:none\" points=\"2117.31,1423.18 2117.31,1423.18 2162.35,1423.18 2117.31,1423.18 \"/>\n",
       "<path clip-path=\"url(#clip902)\" d=\"M2162.35 1340.62 L2162.35 1423.18 L2207.39 1423.18 L2207.39 1340.62 L2162.35 1340.62 L2162.35 1340.62  Z\" fill=\"#009af9\" fill-rule=\"evenodd\" fill-opacity=\"1\"/>\n",
       "<polyline clip-path=\"url(#clip902)\" style=\"stroke:#000000; stroke-linecap:round; stroke-linejoin:round; stroke-width:4; stroke-opacity:1; fill:none\" points=\"2162.35,1340.62 2162.35,1423.18 2207.39,1423.18 2207.39,1340.62 2162.35,1340.62 \"/>\n",
       "<path clip-path=\"url(#clip902)\" d=\"M2207.39 1340.62 L2207.39 1423.18 L2252.42 1423.18 L2252.42 1340.62 L2207.39 1340.62 L2207.39 1340.62  Z\" fill=\"#009af9\" fill-rule=\"evenodd\" fill-opacity=\"1\"/>\n",
       "<polyline clip-path=\"url(#clip902)\" style=\"stroke:#000000; stroke-linecap:round; stroke-linejoin:round; stroke-width:4; stroke-opacity:1; fill:none\" points=\"2207.39,1340.62 2207.39,1423.18 2252.42,1423.18 2252.42,1340.62 2207.39,1340.62 \"/>\n",
       "<path clip-path=\"url(#clip902)\" d=\"M2252.42 1395.66 L2252.42 1423.18 L2297.46 1423.18 L2297.46 1395.66 L2252.42 1395.66 L2252.42 1395.66  Z\" fill=\"#009af9\" fill-rule=\"evenodd\" fill-opacity=\"1\"/>\n",
       "<polyline clip-path=\"url(#clip902)\" style=\"stroke:#000000; stroke-linecap:round; stroke-linejoin:round; stroke-width:4; stroke-opacity:1; fill:none\" points=\"2252.42,1395.66 2252.42,1423.18 2297.46,1423.18 2297.46,1395.66 2252.42,1395.66 \"/>\n",
       "<path clip-path=\"url(#clip902)\" d=\"M2297.46 1368.14 L2297.46 1423.18 L2342.5 1423.18 L2342.5 1368.14 L2297.46 1368.14 L2297.46 1368.14  Z\" fill=\"#009af9\" fill-rule=\"evenodd\" fill-opacity=\"1\"/>\n",
       "<polyline clip-path=\"url(#clip902)\" style=\"stroke:#000000; stroke-linecap:round; stroke-linejoin:round; stroke-width:4; stroke-opacity:1; fill:none\" points=\"2297.46,1368.14 2297.46,1423.18 2342.5,1423.18 2342.5,1368.14 2297.46,1368.14 \"/>\n",
       "<path clip-path=\"url(#clip902)\" d=\"M2342.5 1395.66 L2342.5 1423.18 L2387.53 1423.18 L2387.53 1395.66 L2342.5 1395.66 L2342.5 1395.66  Z\" fill=\"#009af9\" fill-rule=\"evenodd\" fill-opacity=\"1\"/>\n",
       "<polyline clip-path=\"url(#clip902)\" style=\"stroke:#000000; stroke-linecap:round; stroke-linejoin:round; stroke-width:4; stroke-opacity:1; fill:none\" points=\"2342.5,1395.66 2342.5,1423.18 2387.53,1423.18 2387.53,1395.66 2342.5,1395.66 \"/>\n",
       "<path clip-path=\"url(#clip902)\" d=\"M2387.53 1395.66 L2387.53 1423.18 L2432.57 1423.18 L2432.57 1395.66 L2387.53 1395.66 L2387.53 1395.66  Z\" fill=\"#009af9\" fill-rule=\"evenodd\" fill-opacity=\"1\"/>\n",
       "<polyline clip-path=\"url(#clip902)\" style=\"stroke:#000000; stroke-linecap:round; stroke-linejoin:round; stroke-width:4; stroke-opacity:1; fill:none\" points=\"2387.53,1395.66 2387.53,1423.18 2432.57,1423.18 2432.57,1395.66 2387.53,1395.66 \"/>\n",
       "<path clip-path=\"url(#clip902)\" d=\"M2432.57 1368.14 L2432.57 1423.18 L2477.61 1423.18 L2477.61 1368.14 L2432.57 1368.14 L2432.57 1368.14  Z\" fill=\"#009af9\" fill-rule=\"evenodd\" fill-opacity=\"1\"/>\n",
       "<polyline clip-path=\"url(#clip902)\" style=\"stroke:#000000; stroke-linecap:round; stroke-linejoin:round; stroke-width:4; stroke-opacity:1; fill:none\" points=\"2432.57,1368.14 2432.57,1423.18 2477.61,1423.18 2477.61,1368.14 2432.57,1368.14 \"/>\n",
       "<path clip-path=\"url(#clip902)\" d=\"M2477.61 1395.66 L2477.61 1423.18 L2522.65 1423.18 L2522.65 1395.66 L2477.61 1395.66 L2477.61 1395.66  Z\" fill=\"#009af9\" fill-rule=\"evenodd\" fill-opacity=\"1\"/>\n",
       "<polyline clip-path=\"url(#clip902)\" style=\"stroke:#000000; stroke-linecap:round; stroke-linejoin:round; stroke-width:4; stroke-opacity:1; fill:none\" points=\"2477.61,1395.66 2477.61,1423.18 2522.65,1423.18 2522.65,1395.66 2477.61,1395.66 \"/>\n",
       "<path clip-path=\"url(#clip902)\" d=\"M2522.65 1368.14 L2522.65 1423.18 L2567.68 1423.18 L2567.68 1368.14 L2522.65 1368.14 L2522.65 1368.14  Z\" fill=\"#009af9\" fill-rule=\"evenodd\" fill-opacity=\"1\"/>\n",
       "<polyline clip-path=\"url(#clip902)\" style=\"stroke:#000000; stroke-linecap:round; stroke-linejoin:round; stroke-width:4; stroke-opacity:1; fill:none\" points=\"2522.65,1368.14 2522.65,1423.18 2567.68,1423.18 2567.68,1368.14 2522.65,1368.14 \"/>\n",
       "<path clip-path=\"url(#clip902)\" d=\"M2567.68 1340.62 L2567.68 1423.18 L2612.72 1423.18 L2612.72 1340.62 L2567.68 1340.62 L2567.68 1340.62  Z\" fill=\"#009af9\" fill-rule=\"evenodd\" fill-opacity=\"1\"/>\n",
       "<polyline clip-path=\"url(#clip902)\" style=\"stroke:#000000; stroke-linecap:round; stroke-linejoin:round; stroke-width:4; stroke-opacity:1; fill:none\" points=\"2567.68,1340.62 2567.68,1423.18 2612.72,1423.18 2612.72,1340.62 2567.68,1340.62 \"/>\n",
       "<path clip-path=\"url(#clip902)\" d=\"M2612.72 1368.14 L2612.72 1423.18 L2657.76 1423.18 L2657.76 1368.14 L2612.72 1368.14 L2612.72 1368.14  Z\" fill=\"#009af9\" fill-rule=\"evenodd\" fill-opacity=\"1\"/>\n",
       "<polyline clip-path=\"url(#clip902)\" style=\"stroke:#000000; stroke-linecap:round; stroke-linejoin:round; stroke-width:4; stroke-opacity:1; fill:none\" points=\"2612.72,1368.14 2612.72,1423.18 2657.76,1423.18 2657.76,1368.14 2612.72,1368.14 \"/>\n",
       "<path clip-path=\"url(#clip902)\" d=\"M2657.76 1395.66 L2657.76 1423.18 L2702.79 1423.18 L2702.79 1395.66 L2657.76 1395.66 L2657.76 1395.66  Z\" fill=\"#009af9\" fill-rule=\"evenodd\" fill-opacity=\"1\"/>\n",
       "<polyline clip-path=\"url(#clip902)\" style=\"stroke:#000000; stroke-linecap:round; stroke-linejoin:round; stroke-width:4; stroke-opacity:1; fill:none\" points=\"2657.76,1395.66 2657.76,1423.18 2702.79,1423.18 2702.79,1395.66 2657.76,1395.66 \"/>\n",
       "<path clip-path=\"url(#clip902)\" d=\"M2702.79 1368.14 L2702.79 1423.18 L2747.83 1423.18 L2747.83 1368.14 L2702.79 1368.14 L2702.79 1368.14  Z\" fill=\"#009af9\" fill-rule=\"evenodd\" fill-opacity=\"1\"/>\n",
       "<polyline clip-path=\"url(#clip902)\" style=\"stroke:#000000; stroke-linecap:round; stroke-linejoin:round; stroke-width:4; stroke-opacity:1; fill:none\" points=\"2702.79,1368.14 2702.79,1423.18 2747.83,1423.18 2747.83,1368.14 2702.79,1368.14 \"/>\n",
       "<path clip-path=\"url(#clip902)\" d=\"M2747.83 1423.18 L2747.83 1423.18 L2792.87 1423.18 L2792.87 1423.18 L2747.83 1423.18 L2747.83 1423.18  Z\" fill=\"#009af9\" fill-rule=\"evenodd\" fill-opacity=\"1\"/>\n",
       "<polyline clip-path=\"url(#clip902)\" style=\"stroke:#000000; stroke-linecap:round; stroke-linejoin:round; stroke-width:4; stroke-opacity:1; fill:none\" points=\"2747.83,1423.18 2747.83,1423.18 2792.87,1423.18 2747.83,1423.18 \"/>\n",
       "<path clip-path=\"url(#clip902)\" d=\"M2792.87 1395.66 L2792.87 1423.18 L2837.91 1423.18 L2837.91 1395.66 L2792.87 1395.66 L2792.87 1395.66  Z\" fill=\"#009af9\" fill-rule=\"evenodd\" fill-opacity=\"1\"/>\n",
       "<polyline clip-path=\"url(#clip902)\" style=\"stroke:#000000; stroke-linecap:round; stroke-linejoin:round; stroke-width:4; stroke-opacity:1; fill:none\" points=\"2792.87,1395.66 2792.87,1423.18 2837.91,1423.18 2837.91,1395.66 2792.87,1395.66 \"/>\n",
       "<path clip-path=\"url(#clip902)\" d=\"M2837.91 1395.66 L2837.91 1423.18 L2882.94 1423.18 L2882.94 1395.66 L2837.91 1395.66 L2837.91 1395.66  Z\" fill=\"#009af9\" fill-rule=\"evenodd\" fill-opacity=\"1\"/>\n",
       "<polyline clip-path=\"url(#clip902)\" style=\"stroke:#000000; stroke-linecap:round; stroke-linejoin:round; stroke-width:4; stroke-opacity:1; fill:none\" points=\"2837.91,1395.66 2837.91,1423.18 2882.94,1423.18 2882.94,1395.66 2837.91,1395.66 \"/>\n",
       "<path clip-path=\"url(#clip902)\" d=\"M2882.94 1395.66 L2882.94 1423.18 L2927.98 1423.18 L2927.98 1395.66 L2882.94 1395.66 L2882.94 1395.66  Z\" fill=\"#009af9\" fill-rule=\"evenodd\" fill-opacity=\"1\"/>\n",
       "<polyline clip-path=\"url(#clip902)\" style=\"stroke:#000000; stroke-linecap:round; stroke-linejoin:round; stroke-width:4; stroke-opacity:1; fill:none\" points=\"2882.94,1395.66 2882.94,1423.18 2927.98,1423.18 2927.98,1395.66 2882.94,1395.66 \"/>\n",
       "<path clip-path=\"url(#clip902)\" d=\"M2927.98 1368.14 L2927.98 1423.18 L2973.02 1423.18 L2973.02 1368.14 L2927.98 1368.14 L2927.98 1368.14  Z\" fill=\"#009af9\" fill-rule=\"evenodd\" fill-opacity=\"1\"/>\n",
       "<polyline clip-path=\"url(#clip902)\" style=\"stroke:#000000; stroke-linecap:round; stroke-linejoin:round; stroke-width:4; stroke-opacity:1; fill:none\" points=\"2927.98,1368.14 2927.98,1423.18 2973.02,1423.18 2973.02,1368.14 2927.98,1368.14 \"/>\n",
       "<path clip-path=\"url(#clip902)\" d=\"M2973.02 1368.14 L2973.02 1423.18 L3018.06 1423.18 L3018.06 1368.14 L2973.02 1368.14 L2973.02 1368.14  Z\" fill=\"#009af9\" fill-rule=\"evenodd\" fill-opacity=\"1\"/>\n",
       "<polyline clip-path=\"url(#clip902)\" style=\"stroke:#000000; stroke-linecap:round; stroke-linejoin:round; stroke-width:4; stroke-opacity:1; fill:none\" points=\"2973.02,1368.14 2973.02,1423.18 3018.06,1423.18 3018.06,1368.14 2973.02,1368.14 \"/>\n",
       "<path clip-path=\"url(#clip902)\" d=\"M3018.06 1368.14 L3018.06 1423.18 L3063.09 1423.18 L3063.09 1368.14 L3018.06 1368.14 L3018.06 1368.14  Z\" fill=\"#009af9\" fill-rule=\"evenodd\" fill-opacity=\"1\"/>\n",
       "<polyline clip-path=\"url(#clip902)\" style=\"stroke:#000000; stroke-linecap:round; stroke-linejoin:round; stroke-width:4; stroke-opacity:1; fill:none\" points=\"3018.06,1368.14 3018.06,1423.18 3063.09,1423.18 3063.09,1368.14 3018.06,1368.14 \"/>\n",
       "<path clip-path=\"url(#clip902)\" d=\"M3063.09 1340.62 L3063.09 1423.18 L3108.13 1423.18 L3108.13 1340.62 L3063.09 1340.62 L3063.09 1340.62  Z\" fill=\"#009af9\" fill-rule=\"evenodd\" fill-opacity=\"1\"/>\n",
       "<polyline clip-path=\"url(#clip902)\" style=\"stroke:#000000; stroke-linecap:round; stroke-linejoin:round; stroke-width:4; stroke-opacity:1; fill:none\" points=\"3063.09,1340.62 3063.09,1423.18 3108.13,1423.18 3108.13,1340.62 3063.09,1340.62 \"/>\n",
       "<path clip-path=\"url(#clip902)\" d=\"M3108.13 1395.66 L3108.13 1423.18 L3153.17 1423.18 L3153.17 1395.66 L3108.13 1395.66 L3108.13 1395.66  Z\" fill=\"#009af9\" fill-rule=\"evenodd\" fill-opacity=\"1\"/>\n",
       "<polyline clip-path=\"url(#clip902)\" style=\"stroke:#000000; stroke-linecap:round; stroke-linejoin:round; stroke-width:4; stroke-opacity:1; fill:none\" points=\"3108.13,1395.66 3108.13,1423.18 3153.17,1423.18 3153.17,1395.66 3108.13,1395.66 \"/>\n",
       "<path clip-path=\"url(#clip902)\" d=\"M3153.17 1423.18 L3153.17 1423.18 L3198.2 1423.18 L3198.2 1423.18 L3153.17 1423.18 L3153.17 1423.18  Z\" fill=\"#009af9\" fill-rule=\"evenodd\" fill-opacity=\"1\"/>\n",
       "<polyline clip-path=\"url(#clip902)\" style=\"stroke:#000000; stroke-linecap:round; stroke-linejoin:round; stroke-width:4; stroke-opacity:1; fill:none\" points=\"3153.17,1423.18 3153.17,1423.18 3198.2,1423.18 3153.17,1423.18 \"/>\n",
       "<path clip-path=\"url(#clip902)\" d=\"M3198.2 1340.62 L3198.2 1423.18 L3243.24 1423.18 L3243.24 1340.62 L3198.2 1340.62 L3198.2 1340.62  Z\" fill=\"#009af9\" fill-rule=\"evenodd\" fill-opacity=\"1\"/>\n",
       "<polyline clip-path=\"url(#clip902)\" style=\"stroke:#000000; stroke-linecap:round; stroke-linejoin:round; stroke-width:4; stroke-opacity:1; fill:none\" points=\"3198.2,1340.62 3198.2,1423.18 3243.24,1423.18 3243.24,1340.62 3198.2,1340.62 \"/>\n",
       "<path clip-path=\"url(#clip902)\" d=\"M3243.24 1368.14 L3243.24 1423.18 L3288.28 1423.18 L3288.28 1368.14 L3243.24 1368.14 L3243.24 1368.14  Z\" fill=\"#009af9\" fill-rule=\"evenodd\" fill-opacity=\"1\"/>\n",
       "<polyline clip-path=\"url(#clip902)\" style=\"stroke:#000000; stroke-linecap:round; stroke-linejoin:round; stroke-width:4; stroke-opacity:1; fill:none\" points=\"3243.24,1368.14 3243.24,1423.18 3288.28,1423.18 3288.28,1368.14 3243.24,1368.14 \"/>\n",
       "<path clip-path=\"url(#clip902)\" d=\"M3288.28 1258.07 L3288.28 1423.18 L3333.32 1423.18 L3333.32 1258.07 L3288.28 1258.07 L3288.28 1258.07  Z\" fill=\"#009af9\" fill-rule=\"evenodd\" fill-opacity=\"1\"/>\n",
       "<polyline clip-path=\"url(#clip902)\" style=\"stroke:#000000; stroke-linecap:round; stroke-linejoin:round; stroke-width:4; stroke-opacity:1; fill:none\" points=\"3288.28,1258.07 3288.28,1423.18 3333.32,1423.18 3333.32,1258.07 3288.28,1258.07 \"/>\n",
       "<path clip-path=\"url(#clip902)\" d=\"M3333.32 1423.18 L3333.32 1423.18 L3378.35 1423.18 L3378.35 1423.18 L3333.32 1423.18 L3333.32 1423.18  Z\" fill=\"#009af9\" fill-rule=\"evenodd\" fill-opacity=\"1\"/>\n",
       "<polyline clip-path=\"url(#clip902)\" style=\"stroke:#000000; stroke-linecap:round; stroke-linejoin:round; stroke-width:4; stroke-opacity:1; fill:none\" points=\"3333.32,1423.18 3333.32,1423.18 3378.35,1423.18 3333.32,1423.18 \"/>\n",
       "<path clip-path=\"url(#clip902)\" d=\"M3378.35 1423.18 L3378.35 1423.18 L3423.39 1423.18 L3423.39 1423.18 L3378.35 1423.18 L3378.35 1423.18  Z\" fill=\"#009af9\" fill-rule=\"evenodd\" fill-opacity=\"1\"/>\n",
       "<polyline clip-path=\"url(#clip902)\" style=\"stroke:#000000; stroke-linecap:round; stroke-linejoin:round; stroke-width:4; stroke-opacity:1; fill:none\" points=\"3378.35,1423.18 3378.35,1423.18 3423.39,1423.18 3378.35,1423.18 \"/>\n",
       "<path clip-path=\"url(#clip902)\" d=\"M3423.39 1395.66 L3423.39 1423.18 L3468.43 1423.18 L3468.43 1395.66 L3423.39 1395.66 L3423.39 1395.66  Z\" fill=\"#009af9\" fill-rule=\"evenodd\" fill-opacity=\"1\"/>\n",
       "<polyline clip-path=\"url(#clip902)\" style=\"stroke:#000000; stroke-linecap:round; stroke-linejoin:round; stroke-width:4; stroke-opacity:1; fill:none\" points=\"3423.39,1395.66 3423.39,1423.18 3468.43,1423.18 3468.43,1395.66 3423.39,1395.66 \"/>\n",
       "<path clip-path=\"url(#clip902)\" d=\"M3468.43 1340.62 L3468.43 1423.18 L3513.46 1423.18 L3513.46 1340.62 L3468.43 1340.62 L3468.43 1340.62  Z\" fill=\"#009af9\" fill-rule=\"evenodd\" fill-opacity=\"1\"/>\n",
       "<polyline clip-path=\"url(#clip902)\" style=\"stroke:#000000; stroke-linecap:round; stroke-linejoin:round; stroke-width:4; stroke-opacity:1; fill:none\" points=\"3468.43,1340.62 3468.43,1423.18 3513.46,1423.18 3513.46,1340.62 3468.43,1340.62 \"/>\n",
       "<path clip-path=\"url(#clip902)\" d=\"M3513.46 1285.59 L3513.46 1423.18 L3558.5 1423.18 L3558.5 1285.59 L3513.46 1285.59 L3513.46 1285.59  Z\" fill=\"#009af9\" fill-rule=\"evenodd\" fill-opacity=\"1\"/>\n",
       "<polyline clip-path=\"url(#clip902)\" style=\"stroke:#000000; stroke-linecap:round; stroke-linejoin:round; stroke-width:4; stroke-opacity:1; fill:none\" points=\"3513.46,1285.59 3513.46,1423.18 3558.5,1423.18 3558.5,1285.59 3513.46,1285.59 \"/>\n",
       "<path clip-path=\"url(#clip902)\" d=\"M3558.5 1258.07 L3558.5 1423.18 L3603.54 1423.18 L3603.54 1258.07 L3558.5 1258.07 L3558.5 1258.07  Z\" fill=\"#009af9\" fill-rule=\"evenodd\" fill-opacity=\"1\"/>\n",
       "<polyline clip-path=\"url(#clip902)\" style=\"stroke:#000000; stroke-linecap:round; stroke-linejoin:round; stroke-width:4; stroke-opacity:1; fill:none\" points=\"3558.5,1258.07 3558.5,1423.18 3603.54,1423.18 3603.54,1258.07 3558.5,1258.07 \"/>\n",
       "<path clip-path=\"url(#clip902)\" d=\"M3603.54 1368.14 L3603.54 1423.18 L3648.58 1423.18 L3648.58 1368.14 L3603.54 1368.14 L3603.54 1368.14  Z\" fill=\"#009af9\" fill-rule=\"evenodd\" fill-opacity=\"1\"/>\n",
       "<polyline clip-path=\"url(#clip902)\" style=\"stroke:#000000; stroke-linecap:round; stroke-linejoin:round; stroke-width:4; stroke-opacity:1; fill:none\" points=\"3603.54,1368.14 3603.54,1423.18 3648.58,1423.18 3648.58,1368.14 3603.54,1368.14 \"/>\n",
       "<path clip-path=\"url(#clip902)\" d=\"M3648.58 1313.1 L3648.58 1423.18 L3693.61 1423.18 L3693.61 1313.1 L3648.58 1313.1 L3648.58 1313.1  Z\" fill=\"#009af9\" fill-rule=\"evenodd\" fill-opacity=\"1\"/>\n",
       "<polyline clip-path=\"url(#clip902)\" style=\"stroke:#000000; stroke-linecap:round; stroke-linejoin:round; stroke-width:4; stroke-opacity:1; fill:none\" points=\"3648.58,1313.1 3648.58,1423.18 3693.61,1423.18 3693.61,1313.1 3648.58,1313.1 \"/>\n",
       "<path clip-path=\"url(#clip902)\" d=\"M3693.61 1313.1 L3693.61 1423.18 L3738.65 1423.18 L3738.65 1313.1 L3693.61 1313.1 L3693.61 1313.1  Z\" fill=\"#009af9\" fill-rule=\"evenodd\" fill-opacity=\"1\"/>\n",
       "<polyline clip-path=\"url(#clip902)\" style=\"stroke:#000000; stroke-linecap:round; stroke-linejoin:round; stroke-width:4; stroke-opacity:1; fill:none\" points=\"3693.61,1313.1 3693.61,1423.18 3738.65,1423.18 3738.65,1313.1 3693.61,1313.1 \"/>\n",
       "<path clip-path=\"url(#clip902)\" d=\"M3738.65 1395.66 L3738.65 1423.18 L3783.69 1423.18 L3783.69 1395.66 L3738.65 1395.66 L3738.65 1395.66  Z\" fill=\"#009af9\" fill-rule=\"evenodd\" fill-opacity=\"1\"/>\n",
       "<polyline clip-path=\"url(#clip902)\" style=\"stroke:#000000; stroke-linecap:round; stroke-linejoin:round; stroke-width:4; stroke-opacity:1; fill:none\" points=\"3738.65,1395.66 3738.65,1423.18 3783.69,1423.18 3783.69,1395.66 3738.65,1395.66 \"/>\n",
       "<path clip-path=\"url(#clip902)\" d=\"M3783.69 1395.66 L3783.69 1423.18 L3828.72 1423.18 L3828.72 1395.66 L3783.69 1395.66 L3783.69 1395.66  Z\" fill=\"#009af9\" fill-rule=\"evenodd\" fill-opacity=\"1\"/>\n",
       "<polyline clip-path=\"url(#clip902)\" style=\"stroke:#000000; stroke-linecap:round; stroke-linejoin:round; stroke-width:4; stroke-opacity:1; fill:none\" points=\"3783.69,1395.66 3783.69,1423.18 3828.72,1423.18 3828.72,1395.66 3783.69,1395.66 \"/>\n",
       "<path clip-path=\"url(#clip902)\" d=\"M3828.72 1423.18 L3828.72 1423.18 L3873.76 1423.18 L3873.76 1423.18 L3828.72 1423.18 L3828.72 1423.18  Z\" fill=\"#009af9\" fill-rule=\"evenodd\" fill-opacity=\"1\"/>\n",
       "<polyline clip-path=\"url(#clip902)\" style=\"stroke:#000000; stroke-linecap:round; stroke-linejoin:round; stroke-width:4; stroke-opacity:1; fill:none\" points=\"3828.72,1423.18 3828.72,1423.18 3873.76,1423.18 3828.72,1423.18 \"/>\n",
       "<path clip-path=\"url(#clip902)\" d=\"M3873.76 1340.62 L3873.76 1423.18 L3918.8 1423.18 L3918.8 1340.62 L3873.76 1340.62 L3873.76 1340.62  Z\" fill=\"#009af9\" fill-rule=\"evenodd\" fill-opacity=\"1\"/>\n",
       "<polyline clip-path=\"url(#clip902)\" style=\"stroke:#000000; stroke-linecap:round; stroke-linejoin:round; stroke-width:4; stroke-opacity:1; fill:none\" points=\"3873.76,1340.62 3873.76,1423.18 3918.8,1423.18 3918.8,1340.62 3873.76,1340.62 \"/>\n",
       "<path clip-path=\"url(#clip902)\" d=\"M3918.8 1395.66 L3918.8 1423.18 L3963.84 1423.18 L3963.84 1395.66 L3918.8 1395.66 L3918.8 1395.66  Z\" fill=\"#009af9\" fill-rule=\"evenodd\" fill-opacity=\"1\"/>\n",
       "<polyline clip-path=\"url(#clip902)\" style=\"stroke:#000000; stroke-linecap:round; stroke-linejoin:round; stroke-width:4; stroke-opacity:1; fill:none\" points=\"3918.8,1395.66 3918.8,1423.18 3963.84,1423.18 3963.84,1395.66 3918.8,1395.66 \"/>\n",
       "<path clip-path=\"url(#clip902)\" d=\"M3963.84 1423.18 L3963.84 1423.18 L4008.87 1423.18 L4008.87 1423.18 L3963.84 1423.18 L3963.84 1423.18  Z\" fill=\"#009af9\" fill-rule=\"evenodd\" fill-opacity=\"1\"/>\n",
       "<polyline clip-path=\"url(#clip902)\" style=\"stroke:#000000; stroke-linecap:round; stroke-linejoin:round; stroke-width:4; stroke-opacity:1; fill:none\" points=\"3963.84,1423.18 3963.84,1423.18 4008.87,1423.18 3963.84,1423.18 \"/>\n",
       "<path clip-path=\"url(#clip902)\" d=\"M4008.87 1395.66 L4008.87 1423.18 L4053.91 1423.18 L4053.91 1395.66 L4008.87 1395.66 L4008.87 1395.66  Z\" fill=\"#009af9\" fill-rule=\"evenodd\" fill-opacity=\"1\"/>\n",
       "<polyline clip-path=\"url(#clip902)\" style=\"stroke:#000000; stroke-linecap:round; stroke-linejoin:round; stroke-width:4; stroke-opacity:1; fill:none\" points=\"4008.87,1395.66 4008.87,1423.18 4053.91,1423.18 4053.91,1395.66 4008.87,1395.66 \"/>\n",
       "<path clip-path=\"url(#clip902)\" d=\"M4053.91 1368.14 L4053.91 1423.18 L4098.95 1423.18 L4098.95 1368.14 L4053.91 1368.14 L4053.91 1368.14  Z\" fill=\"#009af9\" fill-rule=\"evenodd\" fill-opacity=\"1\"/>\n",
       "<polyline clip-path=\"url(#clip902)\" style=\"stroke:#000000; stroke-linecap:round; stroke-linejoin:round; stroke-width:4; stroke-opacity:1; fill:none\" points=\"4053.91,1368.14 4053.91,1423.18 4098.95,1423.18 4098.95,1368.14 4053.91,1368.14 \"/>\n",
       "<path clip-path=\"url(#clip902)\" d=\"M4098.95 1423.18 L4098.95 1423.18 L4143.99 1423.18 L4143.99 1423.18 L4098.95 1423.18 L4098.95 1423.18  Z\" fill=\"#009af9\" fill-rule=\"evenodd\" fill-opacity=\"1\"/>\n",
       "<polyline clip-path=\"url(#clip902)\" style=\"stroke:#000000; stroke-linecap:round; stroke-linejoin:round; stroke-width:4; stroke-opacity:1; fill:none\" points=\"4098.95,1423.18 4098.95,1423.18 4143.99,1423.18 4098.95,1423.18 \"/>\n",
       "<path clip-path=\"url(#clip902)\" d=\"M4143.99 1423.18 L4143.99 1423.18 L4189.02 1423.18 L4189.02 1423.18 L4143.99 1423.18 L4143.99 1423.18  Z\" fill=\"#009af9\" fill-rule=\"evenodd\" fill-opacity=\"1\"/>\n",
       "<polyline clip-path=\"url(#clip902)\" style=\"stroke:#000000; stroke-linecap:round; stroke-linejoin:round; stroke-width:4; stroke-opacity:1; fill:none\" points=\"4143.99,1423.18 4143.99,1423.18 4189.02,1423.18 4143.99,1423.18 \"/>\n",
       "<path clip-path=\"url(#clip902)\" d=\"M4189.02 1395.66 L4189.02 1423.18 L4234.06 1423.18 L4234.06 1395.66 L4189.02 1395.66 L4189.02 1395.66  Z\" fill=\"#009af9\" fill-rule=\"evenodd\" fill-opacity=\"1\"/>\n",
       "<polyline clip-path=\"url(#clip902)\" style=\"stroke:#000000; stroke-linecap:round; stroke-linejoin:round; stroke-width:4; stroke-opacity:1; fill:none\" points=\"4189.02,1395.66 4189.02,1423.18 4234.06,1423.18 4234.06,1395.66 4189.02,1395.66 \"/>\n",
       "<path clip-path=\"url(#clip902)\" d=\"M4234.06 1423.18 L4234.06 1423.18 L4279.1 1423.18 L4279.1 1423.18 L4234.06 1423.18 L4234.06 1423.18  Z\" fill=\"#009af9\" fill-rule=\"evenodd\" fill-opacity=\"1\"/>\n",
       "<polyline clip-path=\"url(#clip902)\" style=\"stroke:#000000; stroke-linecap:round; stroke-linejoin:round; stroke-width:4; stroke-opacity:1; fill:none\" points=\"4234.06,1423.18 4234.06,1423.18 4279.1,1423.18 4234.06,1423.18 \"/>\n",
       "<path clip-path=\"url(#clip902)\" d=\"M4279.1 1423.18 L4279.1 1423.18 L4324.13 1423.18 L4324.13 1423.18 L4279.1 1423.18 L4279.1 1423.18  Z\" fill=\"#009af9\" fill-rule=\"evenodd\" fill-opacity=\"1\"/>\n",
       "<polyline clip-path=\"url(#clip902)\" style=\"stroke:#000000; stroke-linecap:round; stroke-linejoin:round; stroke-width:4; stroke-opacity:1; fill:none\" points=\"4279.1,1423.18 4279.1,1423.18 4324.13,1423.18 4279.1,1423.18 \"/>\n",
       "<path clip-path=\"url(#clip902)\" d=\"M4324.13 1423.18 L4324.13 1423.18 L4369.17 1423.18 L4369.17 1423.18 L4324.13 1423.18 L4324.13 1423.18  Z\" fill=\"#009af9\" fill-rule=\"evenodd\" fill-opacity=\"1\"/>\n",
       "<polyline clip-path=\"url(#clip902)\" style=\"stroke:#000000; stroke-linecap:round; stroke-linejoin:round; stroke-width:4; stroke-opacity:1; fill:none\" points=\"4324.13,1423.18 4324.13,1423.18 4369.17,1423.18 4324.13,1423.18 \"/>\n",
       "<path clip-path=\"url(#clip902)\" d=\"M4369.17 1423.18 L4369.17 1423.18 L4414.21 1423.18 L4414.21 1423.18 L4369.17 1423.18 L4369.17 1423.18  Z\" fill=\"#009af9\" fill-rule=\"evenodd\" fill-opacity=\"1\"/>\n",
       "<polyline clip-path=\"url(#clip902)\" style=\"stroke:#000000; stroke-linecap:round; stroke-linejoin:round; stroke-width:4; stroke-opacity:1; fill:none\" points=\"4369.17,1423.18 4369.17,1423.18 4414.21,1423.18 4369.17,1423.18 \"/>\n",
       "<path clip-path=\"url(#clip902)\" d=\"M4414.21 1423.18 L4414.21 1423.18 L4459.25 1423.18 L4459.25 1423.18 L4414.21 1423.18 L4414.21 1423.18  Z\" fill=\"#009af9\" fill-rule=\"evenodd\" fill-opacity=\"1\"/>\n",
       "<polyline clip-path=\"url(#clip902)\" style=\"stroke:#000000; stroke-linecap:round; stroke-linejoin:round; stroke-width:4; stroke-opacity:1; fill:none\" points=\"4414.21,1423.18 4414.21,1423.18 4459.25,1423.18 4414.21,1423.18 \"/>\n",
       "<path clip-path=\"url(#clip902)\" d=\"M4459.25 1423.18 L4459.25 1423.18 L4504.28 1423.18 L4504.28 1423.18 L4459.25 1423.18 L4459.25 1423.18  Z\" fill=\"#009af9\" fill-rule=\"evenodd\" fill-opacity=\"1\"/>\n",
       "<polyline clip-path=\"url(#clip902)\" style=\"stroke:#000000; stroke-linecap:round; stroke-linejoin:round; stroke-width:4; stroke-opacity:1; fill:none\" points=\"4459.25,1423.18 4459.25,1423.18 4504.28,1423.18 4459.25,1423.18 \"/>\n",
       "<path clip-path=\"url(#clip902)\" d=\"M4504.28 1423.18 L4504.28 1423.18 L4549.32 1423.18 L4549.32 1423.18 L4504.28 1423.18 L4504.28 1423.18  Z\" fill=\"#009af9\" fill-rule=\"evenodd\" fill-opacity=\"1\"/>\n",
       "<polyline clip-path=\"url(#clip902)\" style=\"stroke:#000000; stroke-linecap:round; stroke-linejoin:round; stroke-width:4; stroke-opacity:1; fill:none\" points=\"4504.28,1423.18 4504.28,1423.18 4549.32,1423.18 4504.28,1423.18 \"/>\n",
       "<path clip-path=\"url(#clip902)\" d=\"M4549.32 1423.18 L4549.32 1423.18 L4594.36 1423.18 L4594.36 1423.18 L4549.32 1423.18 L4549.32 1423.18  Z\" fill=\"#009af9\" fill-rule=\"evenodd\" fill-opacity=\"1\"/>\n",
       "<polyline clip-path=\"url(#clip902)\" style=\"stroke:#000000; stroke-linecap:round; stroke-linejoin:round; stroke-width:4; stroke-opacity:1; fill:none\" points=\"4549.32,1423.18 4549.32,1423.18 4594.36,1423.18 4549.32,1423.18 \"/>\n",
       "<path clip-path=\"url(#clip902)\" d=\"M4594.36 1423.18 L4594.36 1423.18 L4639.39 1423.18 L4639.39 1423.18 L4594.36 1423.18 L4594.36 1423.18  Z\" fill=\"#009af9\" fill-rule=\"evenodd\" fill-opacity=\"1\"/>\n",
       "<polyline clip-path=\"url(#clip902)\" style=\"stroke:#000000; stroke-linecap:round; stroke-linejoin:round; stroke-width:4; stroke-opacity:1; fill:none\" points=\"4594.36,1423.18 4594.36,1423.18 4639.39,1423.18 4594.36,1423.18 \"/>\n",
       "<path clip-path=\"url(#clip902)\" d=\"M4639.39 1423.18 L4639.39 1423.18 L4684.43 1423.18 L4684.43 1423.18 L4639.39 1423.18 L4639.39 1423.18  Z\" fill=\"#009af9\" fill-rule=\"evenodd\" fill-opacity=\"1\"/>\n",
       "<polyline clip-path=\"url(#clip902)\" style=\"stroke:#000000; stroke-linecap:round; stroke-linejoin:round; stroke-width:4; stroke-opacity:1; fill:none\" points=\"4639.39,1423.18 4639.39,1423.18 4684.43,1423.18 4639.39,1423.18 \"/>\n",
       "<path clip-path=\"url(#clip902)\" d=\"M4684.43 1395.66 L4684.43 1423.18 L4729.47 1423.18 L4729.47 1395.66 L4684.43 1395.66 L4684.43 1395.66  Z\" fill=\"#009af9\" fill-rule=\"evenodd\" fill-opacity=\"1\"/>\n",
       "<polyline clip-path=\"url(#clip902)\" style=\"stroke:#000000; stroke-linecap:round; stroke-linejoin:round; stroke-width:4; stroke-opacity:1; fill:none\" points=\"4684.43,1395.66 4684.43,1423.18 4729.47,1423.18 4729.47,1395.66 4684.43,1395.66 \"/>\n",
       "<path clip-path=\"url(#clip902)\" d=\"M4729.47 1423.18 L4729.47 1423.18 L4774.51 1423.18 L4774.51 1423.18 L4729.47 1423.18 L4729.47 1423.18  Z\" fill=\"#009af9\" fill-rule=\"evenodd\" fill-opacity=\"1\"/>\n",
       "<polyline clip-path=\"url(#clip902)\" style=\"stroke:#000000; stroke-linecap:round; stroke-linejoin:round; stroke-width:4; stroke-opacity:1; fill:none\" points=\"4729.47,1423.18 4729.47,1423.18 4774.51,1423.18 4729.47,1423.18 \"/>\n",
       "<path clip-path=\"url(#clip902)\" d=\"M4774.51 1423.18 L4774.51 1423.18 L4819.54 1423.18 L4819.54 1423.18 L4774.51 1423.18 L4774.51 1423.18  Z\" fill=\"#009af9\" fill-rule=\"evenodd\" fill-opacity=\"1\"/>\n",
       "<polyline clip-path=\"url(#clip902)\" style=\"stroke:#000000; stroke-linecap:round; stroke-linejoin:round; stroke-width:4; stroke-opacity:1; fill:none\" points=\"4774.51,1423.18 4774.51,1423.18 4819.54,1423.18 4774.51,1423.18 \"/>\n",
       "<path clip-path=\"url(#clip902)\" d=\"M4819.54 1423.18 L4819.54 1423.18 L4864.58 1423.18 L4864.58 1423.18 L4819.54 1423.18 L4819.54 1423.18  Z\" fill=\"#009af9\" fill-rule=\"evenodd\" fill-opacity=\"1\"/>\n",
       "<polyline clip-path=\"url(#clip902)\" style=\"stroke:#000000; stroke-linecap:round; stroke-linejoin:round; stroke-width:4; stroke-opacity:1; fill:none\" points=\"4819.54,1423.18 4819.54,1423.18 4864.58,1423.18 4819.54,1423.18 \"/>\n",
       "<path clip-path=\"url(#clip902)\" d=\"M4864.58 1423.18 L4864.58 1423.18 L4909.62 1423.18 L4909.62 1423.18 L4864.58 1423.18 L4864.58 1423.18  Z\" fill=\"#009af9\" fill-rule=\"evenodd\" fill-opacity=\"1\"/>\n",
       "<polyline clip-path=\"url(#clip902)\" style=\"stroke:#000000; stroke-linecap:round; stroke-linejoin:round; stroke-width:4; stroke-opacity:1; fill:none\" points=\"4864.58,1423.18 4864.58,1423.18 4909.62,1423.18 4864.58,1423.18 \"/>\n",
       "<path clip-path=\"url(#clip902)\" d=\"M4909.62 1423.18 L4909.62 1423.18 L4954.66 1423.18 L4954.66 1423.18 L4909.62 1423.18 L4909.62 1423.18  Z\" fill=\"#009af9\" fill-rule=\"evenodd\" fill-opacity=\"1\"/>\n",
       "<polyline clip-path=\"url(#clip902)\" style=\"stroke:#000000; stroke-linecap:round; stroke-linejoin:round; stroke-width:4; stroke-opacity:1; fill:none\" points=\"4909.62,1423.18 4909.62,1423.18 4954.66,1423.18 4909.62,1423.18 \"/>\n",
       "<path clip-path=\"url(#clip902)\" d=\"M4954.66 1423.18 L4954.66 1423.18 L4999.69 1423.18 L4999.69 1423.18 L4954.66 1423.18 L4954.66 1423.18  Z\" fill=\"#009af9\" fill-rule=\"evenodd\" fill-opacity=\"1\"/>\n",
       "<polyline clip-path=\"url(#clip902)\" style=\"stroke:#000000; stroke-linecap:round; stroke-linejoin:round; stroke-width:4; stroke-opacity:1; fill:none\" points=\"4954.66,1423.18 4954.66,1423.18 4999.69,1423.18 4954.66,1423.18 \"/>\n",
       "<path clip-path=\"url(#clip902)\" d=\"M4999.69 1423.18 L4999.69 1423.18 L5044.73 1423.18 L5044.73 1423.18 L4999.69 1423.18 L4999.69 1423.18  Z\" fill=\"#009af9\" fill-rule=\"evenodd\" fill-opacity=\"1\"/>\n",
       "<polyline clip-path=\"url(#clip902)\" style=\"stroke:#000000; stroke-linecap:round; stroke-linejoin:round; stroke-width:4; stroke-opacity:1; fill:none\" points=\"4999.69,1423.18 4999.69,1423.18 5044.73,1423.18 4999.69,1423.18 \"/>\n",
       "<path clip-path=\"url(#clip902)\" d=\"M5044.73 1423.18 L5044.73 1423.18 L5089.77 1423.18 L5089.77 1423.18 L5044.73 1423.18 L5044.73 1423.18  Z\" fill=\"#009af9\" fill-rule=\"evenodd\" fill-opacity=\"1\"/>\n",
       "<polyline clip-path=\"url(#clip902)\" style=\"stroke:#000000; stroke-linecap:round; stroke-linejoin:round; stroke-width:4; stroke-opacity:1; fill:none\" points=\"5044.73,1423.18 5044.73,1423.18 5089.77,1423.18 5044.73,1423.18 \"/>\n",
       "<path clip-path=\"url(#clip902)\" d=\"M5089.77 1423.18 L5089.77 1423.18 L5134.8 1423.18 L5134.8 1423.18 L5089.77 1423.18 L5089.77 1423.18  Z\" fill=\"#009af9\" fill-rule=\"evenodd\" fill-opacity=\"1\"/>\n",
       "<polyline clip-path=\"url(#clip902)\" style=\"stroke:#000000; stroke-linecap:round; stroke-linejoin:round; stroke-width:4; stroke-opacity:1; fill:none\" points=\"5089.77,1423.18 5089.77,1423.18 5134.8,1423.18 5089.77,1423.18 \"/>\n",
       "<path clip-path=\"url(#clip902)\" d=\"M5134.8 1423.18 L5134.8 1423.18 L5179.84 1423.18 L5179.84 1423.18 L5134.8 1423.18 L5134.8 1423.18  Z\" fill=\"#009af9\" fill-rule=\"evenodd\" fill-opacity=\"1\"/>\n",
       "<polyline clip-path=\"url(#clip902)\" style=\"stroke:#000000; stroke-linecap:round; stroke-linejoin:round; stroke-width:4; stroke-opacity:1; fill:none\" points=\"5134.8,1423.18 5134.8,1423.18 5179.84,1423.18 5134.8,1423.18 \"/>\n",
       "<path clip-path=\"url(#clip902)\" d=\"M5179.84 1423.18 L5179.84 1423.18 L5224.88 1423.18 L5224.88 1423.18 L5179.84 1423.18 L5179.84 1423.18  Z\" fill=\"#009af9\" fill-rule=\"evenodd\" fill-opacity=\"1\"/>\n",
       "<polyline clip-path=\"url(#clip902)\" style=\"stroke:#000000; stroke-linecap:round; stroke-linejoin:round; stroke-width:4; stroke-opacity:1; fill:none\" points=\"5179.84,1423.18 5179.84,1423.18 5224.88,1423.18 5179.84,1423.18 \"/>\n",
       "<path clip-path=\"url(#clip902)\" d=\"M5224.88 1423.18 L5224.88 1423.18 L5269.92 1423.18 L5269.92 1423.18 L5224.88 1423.18 L5224.88 1423.18  Z\" fill=\"#009af9\" fill-rule=\"evenodd\" fill-opacity=\"1\"/>\n",
       "<polyline clip-path=\"url(#clip902)\" style=\"stroke:#000000; stroke-linecap:round; stroke-linejoin:round; stroke-width:4; stroke-opacity:1; fill:none\" points=\"5224.88,1423.18 5224.88,1423.18 5269.92,1423.18 5224.88,1423.18 \"/>\n",
       "<path clip-path=\"url(#clip902)\" d=\"M5269.92 1423.18 L5269.92 1423.18 L5314.95 1423.18 L5314.95 1423.18 L5269.92 1423.18 L5269.92 1423.18  Z\" fill=\"#009af9\" fill-rule=\"evenodd\" fill-opacity=\"1\"/>\n",
       "<polyline clip-path=\"url(#clip902)\" style=\"stroke:#000000; stroke-linecap:round; stroke-linejoin:round; stroke-width:4; stroke-opacity:1; fill:none\" points=\"5269.92,1423.18 5269.92,1423.18 5314.95,1423.18 5269.92,1423.18 \"/>\n",
       "<path clip-path=\"url(#clip902)\" d=\"M5314.95 1423.18 L5314.95 1423.18 L5359.99 1423.18 L5359.99 1423.18 L5314.95 1423.18 L5314.95 1423.18  Z\" fill=\"#009af9\" fill-rule=\"evenodd\" fill-opacity=\"1\"/>\n",
       "<polyline clip-path=\"url(#clip902)\" style=\"stroke:#000000; stroke-linecap:round; stroke-linejoin:round; stroke-width:4; stroke-opacity:1; fill:none\" points=\"5314.95,1423.18 5314.95,1423.18 5359.99,1423.18 5314.95,1423.18 \"/>\n",
       "<path clip-path=\"url(#clip902)\" d=\"M5359.99 1423.18 L5359.99 1423.18 L5405.03 1423.18 L5405.03 1423.18 L5359.99 1423.18 L5359.99 1423.18  Z\" fill=\"#009af9\" fill-rule=\"evenodd\" fill-opacity=\"1\"/>\n",
       "<polyline clip-path=\"url(#clip902)\" style=\"stroke:#000000; stroke-linecap:round; stroke-linejoin:round; stroke-width:4; stroke-opacity:1; fill:none\" points=\"5359.99,1423.18 5359.99,1423.18 5405.03,1423.18 5359.99,1423.18 \"/>\n",
       "<path clip-path=\"url(#clip902)\" d=\"M5405.03 1423.18 L5405.03 1423.18 L5450.06 1423.18 L5450.06 1423.18 L5405.03 1423.18 L5405.03 1423.18  Z\" fill=\"#009af9\" fill-rule=\"evenodd\" fill-opacity=\"1\"/>\n",
       "<polyline clip-path=\"url(#clip902)\" style=\"stroke:#000000; stroke-linecap:round; stroke-linejoin:round; stroke-width:4; stroke-opacity:1; fill:none\" points=\"5405.03,1423.18 5405.03,1423.18 5450.06,1423.18 5405.03,1423.18 \"/>\n",
       "<path clip-path=\"url(#clip902)\" d=\"M5450.06 1423.18 L5450.06 1423.18 L5495.1 1423.18 L5495.1 1423.18 L5450.06 1423.18 L5450.06 1423.18  Z\" fill=\"#009af9\" fill-rule=\"evenodd\" fill-opacity=\"1\"/>\n",
       "<polyline clip-path=\"url(#clip902)\" style=\"stroke:#000000; stroke-linecap:round; stroke-linejoin:round; stroke-width:4; stroke-opacity:1; fill:none\" points=\"5450.06,1423.18 5450.06,1423.18 5495.1,1423.18 5450.06,1423.18 \"/>\n",
       "<path clip-path=\"url(#clip902)\" d=\"M5495.1 1423.18 L5495.1 1423.18 L5540.14 1423.18 L5540.14 1423.18 L5495.1 1423.18 L5495.1 1423.18  Z\" fill=\"#009af9\" fill-rule=\"evenodd\" fill-opacity=\"1\"/>\n",
       "<polyline clip-path=\"url(#clip902)\" style=\"stroke:#000000; stroke-linecap:round; stroke-linejoin:round; stroke-width:4; stroke-opacity:1; fill:none\" points=\"5495.1,1423.18 5495.1,1423.18 5540.14,1423.18 5495.1,1423.18 \"/>\n",
       "<path clip-path=\"url(#clip902)\" d=\"M5540.14 1423.18 L5540.14 1423.18 L5585.18 1423.18 L5585.18 1423.18 L5540.14 1423.18 L5540.14 1423.18  Z\" fill=\"#009af9\" fill-rule=\"evenodd\" fill-opacity=\"1\"/>\n",
       "<polyline clip-path=\"url(#clip902)\" style=\"stroke:#000000; stroke-linecap:round; stroke-linejoin:round; stroke-width:4; stroke-opacity:1; fill:none\" points=\"5540.14,1423.18 5540.14,1423.18 5585.18,1423.18 5540.14,1423.18 \"/>\n",
       "<path clip-path=\"url(#clip902)\" d=\"M5585.18 1423.18 L5585.18 1423.18 L5630.21 1423.18 L5630.21 1423.18 L5585.18 1423.18 L5585.18 1423.18  Z\" fill=\"#009af9\" fill-rule=\"evenodd\" fill-opacity=\"1\"/>\n",
       "<polyline clip-path=\"url(#clip902)\" style=\"stroke:#000000; stroke-linecap:round; stroke-linejoin:round; stroke-width:4; stroke-opacity:1; fill:none\" points=\"5585.18,1423.18 5585.18,1423.18 5630.21,1423.18 5585.18,1423.18 \"/>\n",
       "<path clip-path=\"url(#clip902)\" d=\"M5630.21 1395.66 L5630.21 1423.18 L5675.25 1423.18 L5675.25 1395.66 L5630.21 1395.66 L5630.21 1395.66  Z\" fill=\"#009af9\" fill-rule=\"evenodd\" fill-opacity=\"1\"/>\n",
       "<polyline clip-path=\"url(#clip902)\" style=\"stroke:#000000; stroke-linecap:round; stroke-linejoin:round; stroke-width:4; stroke-opacity:1; fill:none\" points=\"5630.21,1395.66 5630.21,1423.18 5675.25,1423.18 5675.25,1395.66 5630.21,1395.66 \"/>\n",
       "<path clip-path=\"url(#clip902)\" d=\"M5675.25 1423.18 L5675.25 1423.18 L5720.29 1423.18 L5720.29 1423.18 L5675.25 1423.18 L5675.25 1423.18  Z\" fill=\"#009af9\" fill-rule=\"evenodd\" fill-opacity=\"1\"/>\n",
       "<polyline clip-path=\"url(#clip902)\" style=\"stroke:#000000; stroke-linecap:round; stroke-linejoin:round; stroke-width:4; stroke-opacity:1; fill:none\" points=\"5675.25,1423.18 5675.25,1423.18 5720.29,1423.18 5675.25,1423.18 \"/>\n",
       "<path clip-path=\"url(#clip902)\" d=\"M5720.29 1423.18 L5720.29 1423.18 L5765.32 1423.18 L5765.32 1423.18 L5720.29 1423.18 L5720.29 1423.18  Z\" fill=\"#009af9\" fill-rule=\"evenodd\" fill-opacity=\"1\"/>\n",
       "<polyline clip-path=\"url(#clip902)\" style=\"stroke:#000000; stroke-linecap:round; stroke-linejoin:round; stroke-width:4; stroke-opacity:1; fill:none\" points=\"5720.29,1423.18 5720.29,1423.18 5765.32,1423.18 5720.29,1423.18 \"/>\n",
       "<path clip-path=\"url(#clip902)\" d=\"M5765.32 1423.18 L5765.32 1423.18 L5810.36 1423.18 L5810.36 1423.18 L5765.32 1423.18 L5765.32 1423.18  Z\" fill=\"#009af9\" fill-rule=\"evenodd\" fill-opacity=\"1\"/>\n",
       "<polyline clip-path=\"url(#clip902)\" style=\"stroke:#000000; stroke-linecap:round; stroke-linejoin:round; stroke-width:4; stroke-opacity:1; fill:none\" points=\"5765.32,1423.18 5765.32,1423.18 5810.36,1423.18 5765.32,1423.18 \"/>\n",
       "<path clip-path=\"url(#clip902)\" d=\"M5810.36 1423.18 L5810.36 1423.18 L5855.4 1423.18 L5855.4 1423.18 L5810.36 1423.18 L5810.36 1423.18  Z\" fill=\"#009af9\" fill-rule=\"evenodd\" fill-opacity=\"1\"/>\n",
       "<polyline clip-path=\"url(#clip902)\" style=\"stroke:#000000; stroke-linecap:round; stroke-linejoin:round; stroke-width:4; stroke-opacity:1; fill:none\" points=\"5810.36,1423.18 5810.36,1423.18 5855.4,1423.18 5810.36,1423.18 \"/>\n",
       "<path clip-path=\"url(#clip902)\" d=\"M5855.4 1423.18 L5855.4 1423.18 L5900.44 1423.18 L5900.44 1423.18 L5855.4 1423.18 L5855.4 1423.18  Z\" fill=\"#009af9\" fill-rule=\"evenodd\" fill-opacity=\"1\"/>\n",
       "<polyline clip-path=\"url(#clip902)\" style=\"stroke:#000000; stroke-linecap:round; stroke-linejoin:round; stroke-width:4; stroke-opacity:1; fill:none\" points=\"5855.4,1423.18 5855.4,1423.18 5900.44,1423.18 5855.4,1423.18 \"/>\n",
       "<path clip-path=\"url(#clip902)\" d=\"M5900.44 1423.18 L5900.44 1423.18 L5945.47 1423.18 L5945.47 1423.18 L5900.44 1423.18 L5900.44 1423.18  Z\" fill=\"#009af9\" fill-rule=\"evenodd\" fill-opacity=\"1\"/>\n",
       "<polyline clip-path=\"url(#clip902)\" style=\"stroke:#000000; stroke-linecap:round; stroke-linejoin:round; stroke-width:4; stroke-opacity:1; fill:none\" points=\"5900.44,1423.18 5900.44,1423.18 5945.47,1423.18 5900.44,1423.18 \"/>\n",
       "<path clip-path=\"url(#clip902)\" d=\"M5945.47 1423.18 L5945.47 1423.18 L5990.51 1423.18 L5990.51 1423.18 L5945.47 1423.18 L5945.47 1423.18  Z\" fill=\"#009af9\" fill-rule=\"evenodd\" fill-opacity=\"1\"/>\n",
       "<polyline clip-path=\"url(#clip902)\" style=\"stroke:#000000; stroke-linecap:round; stroke-linejoin:round; stroke-width:4; stroke-opacity:1; fill:none\" points=\"5945.47,1423.18 5945.47,1423.18 5990.51,1423.18 5945.47,1423.18 \"/>\n",
       "<path clip-path=\"url(#clip902)\" d=\"M5990.51 1423.18 L5990.51 1423.18 L6035.55 1423.18 L6035.55 1423.18 L5990.51 1423.18 L5990.51 1423.18  Z\" fill=\"#009af9\" fill-rule=\"evenodd\" fill-opacity=\"1\"/>\n",
       "<polyline clip-path=\"url(#clip902)\" style=\"stroke:#000000; stroke-linecap:round; stroke-linejoin:round; stroke-width:4; stroke-opacity:1; fill:none\" points=\"5990.51,1423.18 5990.51,1423.18 6035.55,1423.18 5990.51,1423.18 \"/>\n",
       "<path clip-path=\"url(#clip902)\" d=\"M6035.55 1423.18 L6035.55 1423.18 L6080.59 1423.18 L6080.59 1423.18 L6035.55 1423.18 L6035.55 1423.18  Z\" fill=\"#009af9\" fill-rule=\"evenodd\" fill-opacity=\"1\"/>\n",
       "<polyline clip-path=\"url(#clip902)\" style=\"stroke:#000000; stroke-linecap:round; stroke-linejoin:round; stroke-width:4; stroke-opacity:1; fill:none\" points=\"6035.55,1423.18 6035.55,1423.18 6080.59,1423.18 6035.55,1423.18 \"/>\n",
       "<path clip-path=\"url(#clip902)\" d=\"M6080.59 1423.18 L6080.59 1423.18 L6125.62 1423.18 L6125.62 1423.18 L6080.59 1423.18 L6080.59 1423.18  Z\" fill=\"#009af9\" fill-rule=\"evenodd\" fill-opacity=\"1\"/>\n",
       "<polyline clip-path=\"url(#clip902)\" style=\"stroke:#000000; stroke-linecap:round; stroke-linejoin:round; stroke-width:4; stroke-opacity:1; fill:none\" points=\"6080.59,1423.18 6080.59,1423.18 6125.62,1423.18 6080.59,1423.18 \"/>\n",
       "<path clip-path=\"url(#clip902)\" d=\"M6125.62 1423.18 L6125.62 1423.18 L6170.66 1423.18 L6170.66 1423.18 L6125.62 1423.18 L6125.62 1423.18  Z\" fill=\"#009af9\" fill-rule=\"evenodd\" fill-opacity=\"1\"/>\n",
       "<polyline clip-path=\"url(#clip902)\" style=\"stroke:#000000; stroke-linecap:round; stroke-linejoin:round; stroke-width:4; stroke-opacity:1; fill:none\" points=\"6125.62,1423.18 6125.62,1423.18 6170.66,1423.18 6125.62,1423.18 \"/>\n",
       "<path clip-path=\"url(#clip902)\" d=\"M6170.66 1423.18 L6170.66 1423.18 L6215.7 1423.18 L6215.7 1423.18 L6170.66 1423.18 L6170.66 1423.18  Z\" fill=\"#009af9\" fill-rule=\"evenodd\" fill-opacity=\"1\"/>\n",
       "<polyline clip-path=\"url(#clip902)\" style=\"stroke:#000000; stroke-linecap:round; stroke-linejoin:round; stroke-width:4; stroke-opacity:1; fill:none\" points=\"6170.66,1423.18 6170.66,1423.18 6215.7,1423.18 6170.66,1423.18 \"/>\n",
       "<path clip-path=\"url(#clip902)\" d=\"M6215.7 1423.18 L6215.7 1423.18 L6260.73 1423.18 L6260.73 1423.18 L6215.7 1423.18 L6215.7 1423.18  Z\" fill=\"#009af9\" fill-rule=\"evenodd\" fill-opacity=\"1\"/>\n",
       "<polyline clip-path=\"url(#clip902)\" style=\"stroke:#000000; stroke-linecap:round; stroke-linejoin:round; stroke-width:4; stroke-opacity:1; fill:none\" points=\"6215.7,1423.18 6215.7,1423.18 6260.73,1423.18 6215.7,1423.18 \"/>\n",
       "<path clip-path=\"url(#clip902)\" d=\"M6260.73 1423.18 L6260.73 1423.18 L6305.77 1423.18 L6305.77 1423.18 L6260.73 1423.18 L6260.73 1423.18  Z\" fill=\"#009af9\" fill-rule=\"evenodd\" fill-opacity=\"1\"/>\n",
       "<polyline clip-path=\"url(#clip902)\" style=\"stroke:#000000; stroke-linecap:round; stroke-linejoin:round; stroke-width:4; stroke-opacity:1; fill:none\" points=\"6260.73,1423.18 6260.73,1423.18 6305.77,1423.18 6260.73,1423.18 \"/>\n",
       "<path clip-path=\"url(#clip902)\" d=\"M6305.77 1423.18 L6305.77 1423.18 L6350.81 1423.18 L6350.81 1423.18 L6305.77 1423.18 L6305.77 1423.18  Z\" fill=\"#009af9\" fill-rule=\"evenodd\" fill-opacity=\"1\"/>\n",
       "<polyline clip-path=\"url(#clip902)\" style=\"stroke:#000000; stroke-linecap:round; stroke-linejoin:round; stroke-width:4; stroke-opacity:1; fill:none\" points=\"6305.77,1423.18 6305.77,1423.18 6350.81,1423.18 6305.77,1423.18 \"/>\n",
       "<path clip-path=\"url(#clip902)\" d=\"M6350.81 1423.18 L6350.81 1423.18 L6395.85 1423.18 L6395.85 1423.18 L6350.81 1423.18 L6350.81 1423.18  Z\" fill=\"#009af9\" fill-rule=\"evenodd\" fill-opacity=\"1\"/>\n",
       "<polyline clip-path=\"url(#clip902)\" style=\"stroke:#000000; stroke-linecap:round; stroke-linejoin:round; stroke-width:4; stroke-opacity:1; fill:none\" points=\"6350.81,1423.18 6350.81,1423.18 6395.85,1423.18 6350.81,1423.18 \"/>\n",
       "<path clip-path=\"url(#clip902)\" d=\"M6395.85 1423.18 L6395.85 1423.18 L6440.88 1423.18 L6440.88 1423.18 L6395.85 1423.18 L6395.85 1423.18  Z\" fill=\"#009af9\" fill-rule=\"evenodd\" fill-opacity=\"1\"/>\n",
       "<polyline clip-path=\"url(#clip902)\" style=\"stroke:#000000; stroke-linecap:round; stroke-linejoin:round; stroke-width:4; stroke-opacity:1; fill:none\" points=\"6395.85,1423.18 6395.85,1423.18 6440.88,1423.18 6395.85,1423.18 \"/>\n",
       "<path clip-path=\"url(#clip902)\" d=\"M6440.88 1423.18 L6440.88 1423.18 L6485.92 1423.18 L6485.92 1423.18 L6440.88 1423.18 L6440.88 1423.18  Z\" fill=\"#009af9\" fill-rule=\"evenodd\" fill-opacity=\"1\"/>\n",
       "<polyline clip-path=\"url(#clip902)\" style=\"stroke:#000000; stroke-linecap:round; stroke-linejoin:round; stroke-width:4; stroke-opacity:1; fill:none\" points=\"6440.88,1423.18 6440.88,1423.18 6485.92,1423.18 6440.88,1423.18 \"/>\n",
       "<path clip-path=\"url(#clip902)\" d=\"M6485.92 1423.18 L6485.92 1423.18 L6530.96 1423.18 L6530.96 1423.18 L6485.92 1423.18 L6485.92 1423.18  Z\" fill=\"#009af9\" fill-rule=\"evenodd\" fill-opacity=\"1\"/>\n",
       "<polyline clip-path=\"url(#clip902)\" style=\"stroke:#000000; stroke-linecap:round; stroke-linejoin:round; stroke-width:4; stroke-opacity:1; fill:none\" points=\"6485.92,1423.18 6485.92,1423.18 6530.96,1423.18 6485.92,1423.18 \"/>\n",
       "<path clip-path=\"url(#clip902)\" d=\"M6530.96 1423.18 L6530.96 1423.18 L6575.99 1423.18 L6575.99 1423.18 L6530.96 1423.18 L6530.96 1423.18  Z\" fill=\"#009af9\" fill-rule=\"evenodd\" fill-opacity=\"1\"/>\n",
       "<polyline clip-path=\"url(#clip902)\" style=\"stroke:#000000; stroke-linecap:round; stroke-linejoin:round; stroke-width:4; stroke-opacity:1; fill:none\" points=\"6530.96,1423.18 6530.96,1423.18 6575.99,1423.18 6530.96,1423.18 \"/>\n",
       "<path clip-path=\"url(#clip902)\" d=\"M6575.99 1423.18 L6575.99 1423.18 L6621.03 1423.18 L6621.03 1423.18 L6575.99 1423.18 L6575.99 1423.18  Z\" fill=\"#009af9\" fill-rule=\"evenodd\" fill-opacity=\"1\"/>\n",
       "<polyline clip-path=\"url(#clip902)\" style=\"stroke:#000000; stroke-linecap:round; stroke-linejoin:round; stroke-width:4; stroke-opacity:1; fill:none\" points=\"6575.99,1423.18 6575.99,1423.18 6621.03,1423.18 6575.99,1423.18 \"/>\n",
       "<path clip-path=\"url(#clip902)\" d=\"M6621.03 1423.18 L6621.03 1423.18 L6666.07 1423.18 L6666.07 1423.18 L6621.03 1423.18 L6621.03 1423.18  Z\" fill=\"#009af9\" fill-rule=\"evenodd\" fill-opacity=\"1\"/>\n",
       "<polyline clip-path=\"url(#clip902)\" style=\"stroke:#000000; stroke-linecap:round; stroke-linejoin:round; stroke-width:4; stroke-opacity:1; fill:none\" points=\"6621.03,1423.18 6621.03,1423.18 6666.07,1423.18 6621.03,1423.18 \"/>\n",
       "<path clip-path=\"url(#clip902)\" d=\"M6666.07 1423.18 L6666.07 1423.18 L6711.11 1423.18 L6711.11 1423.18 L6666.07 1423.18 L6666.07 1423.18  Z\" fill=\"#009af9\" fill-rule=\"evenodd\" fill-opacity=\"1\"/>\n",
       "<polyline clip-path=\"url(#clip902)\" style=\"stroke:#000000; stroke-linecap:round; stroke-linejoin:round; stroke-width:4; stroke-opacity:1; fill:none\" points=\"6666.07,1423.18 6666.07,1423.18 6711.11,1423.18 6666.07,1423.18 \"/>\n",
       "<path clip-path=\"url(#clip902)\" d=\"M6711.11 1423.18 L6711.11 1423.18 L6756.14 1423.18 L6756.14 1423.18 L6711.11 1423.18 L6711.11 1423.18  Z\" fill=\"#009af9\" fill-rule=\"evenodd\" fill-opacity=\"1\"/>\n",
       "<polyline clip-path=\"url(#clip902)\" style=\"stroke:#000000; stroke-linecap:round; stroke-linejoin:round; stroke-width:4; stroke-opacity:1; fill:none\" points=\"6711.11,1423.18 6711.11,1423.18 6756.14,1423.18 6711.11,1423.18 \"/>\n",
       "<path clip-path=\"url(#clip902)\" d=\"M6756.14 1423.18 L6756.14 1423.18 L6801.18 1423.18 L6801.18 1423.18 L6756.14 1423.18 L6756.14 1423.18  Z\" fill=\"#009af9\" fill-rule=\"evenodd\" fill-opacity=\"1\"/>\n",
       "<polyline clip-path=\"url(#clip902)\" style=\"stroke:#000000; stroke-linecap:round; stroke-linejoin:round; stroke-width:4; stroke-opacity:1; fill:none\" points=\"6756.14,1423.18 6756.14,1423.18 6801.18,1423.18 6756.14,1423.18 \"/>\n",
       "<path clip-path=\"url(#clip902)\" d=\"M6801.18 1423.18 L6801.18 1423.18 L6846.22 1423.18 L6846.22 1423.18 L6801.18 1423.18 L6801.18 1423.18  Z\" fill=\"#009af9\" fill-rule=\"evenodd\" fill-opacity=\"1\"/>\n",
       "<polyline clip-path=\"url(#clip902)\" style=\"stroke:#000000; stroke-linecap:round; stroke-linejoin:round; stroke-width:4; stroke-opacity:1; fill:none\" points=\"6801.18,1423.18 6801.18,1423.18 6846.22,1423.18 6801.18,1423.18 \"/>\n",
       "<path clip-path=\"url(#clip902)\" d=\"M6846.22 1423.18 L6846.22 1423.18 L6891.26 1423.18 L6891.26 1423.18 L6846.22 1423.18 L6846.22 1423.18  Z\" fill=\"#009af9\" fill-rule=\"evenodd\" fill-opacity=\"1\"/>\n",
       "<polyline clip-path=\"url(#clip902)\" style=\"stroke:#000000; stroke-linecap:round; stroke-linejoin:round; stroke-width:4; stroke-opacity:1; fill:none\" points=\"6846.22,1423.18 6846.22,1423.18 6891.26,1423.18 6846.22,1423.18 \"/>\n",
       "<path clip-path=\"url(#clip902)\" d=\"M6891.26 1423.18 L6891.26 1423.18 L6936.29 1423.18 L6936.29 1423.18 L6891.26 1423.18 L6891.26 1423.18  Z\" fill=\"#009af9\" fill-rule=\"evenodd\" fill-opacity=\"1\"/>\n",
       "<polyline clip-path=\"url(#clip902)\" style=\"stroke:#000000; stroke-linecap:round; stroke-linejoin:round; stroke-width:4; stroke-opacity:1; fill:none\" points=\"6891.26,1423.18 6891.26,1423.18 6936.29,1423.18 6891.26,1423.18 \"/>\n",
       "<path clip-path=\"url(#clip902)\" d=\"M6936.29 1423.18 L6936.29 1423.18 L6981.33 1423.18 L6981.33 1423.18 L6936.29 1423.18 L6936.29 1423.18  Z\" fill=\"#009af9\" fill-rule=\"evenodd\" fill-opacity=\"1\"/>\n",
       "<polyline clip-path=\"url(#clip902)\" style=\"stroke:#000000; stroke-linecap:round; stroke-linejoin:round; stroke-width:4; stroke-opacity:1; fill:none\" points=\"6936.29,1423.18 6936.29,1423.18 6981.33,1423.18 6936.29,1423.18 \"/>\n",
       "<path clip-path=\"url(#clip902)\" d=\"M6981.33 1423.18 L6981.33 1423.18 L7026.37 1423.18 L7026.37 1423.18 L6981.33 1423.18 L6981.33 1423.18  Z\" fill=\"#009af9\" fill-rule=\"evenodd\" fill-opacity=\"1\"/>\n",
       "<polyline clip-path=\"url(#clip902)\" style=\"stroke:#000000; stroke-linecap:round; stroke-linejoin:round; stroke-width:4; stroke-opacity:1; fill:none\" points=\"6981.33,1423.18 6981.33,1423.18 7026.37,1423.18 6981.33,1423.18 \"/>\n",
       "<path clip-path=\"url(#clip902)\" d=\"M7026.37 1423.18 L7026.37 1423.18 L7071.4 1423.18 L7071.4 1423.18 L7026.37 1423.18 L7026.37 1423.18  Z\" fill=\"#009af9\" fill-rule=\"evenodd\" fill-opacity=\"1\"/>\n",
       "<polyline clip-path=\"url(#clip902)\" style=\"stroke:#000000; stroke-linecap:round; stroke-linejoin:round; stroke-width:4; stroke-opacity:1; fill:none\" points=\"7026.37,1423.18 7026.37,1423.18 7071.4,1423.18 7026.37,1423.18 \"/>\n",
       "<path clip-path=\"url(#clip902)\" d=\"M7071.4 1423.18 L7071.4 1423.18 L7116.44 1423.18 L7116.44 1423.18 L7071.4 1423.18 L7071.4 1423.18  Z\" fill=\"#009af9\" fill-rule=\"evenodd\" fill-opacity=\"1\"/>\n",
       "<polyline clip-path=\"url(#clip902)\" style=\"stroke:#000000; stroke-linecap:round; stroke-linejoin:round; stroke-width:4; stroke-opacity:1; fill:none\" points=\"7071.4,1423.18 7071.4,1423.18 7116.44,1423.18 7071.4,1423.18 \"/>\n",
       "<path clip-path=\"url(#clip902)\" d=\"M7116.44 1423.18 L7116.44 1423.18 L7161.48 1423.18 L7161.48 1423.18 L7116.44 1423.18 L7116.44 1423.18  Z\" fill=\"#009af9\" fill-rule=\"evenodd\" fill-opacity=\"1\"/>\n",
       "<polyline clip-path=\"url(#clip902)\" style=\"stroke:#000000; stroke-linecap:round; stroke-linejoin:round; stroke-width:4; stroke-opacity:1; fill:none\" points=\"7116.44,1423.18 7116.44,1423.18 7161.48,1423.18 7116.44,1423.18 \"/>\n",
       "<path clip-path=\"url(#clip902)\" d=\"M7161.48 1423.18 L7161.48 1423.18 L7206.52 1423.18 L7206.52 1423.18 L7161.48 1423.18 L7161.48 1423.18  Z\" fill=\"#009af9\" fill-rule=\"evenodd\" fill-opacity=\"1\"/>\n",
       "<polyline clip-path=\"url(#clip902)\" style=\"stroke:#000000; stroke-linecap:round; stroke-linejoin:round; stroke-width:4; stroke-opacity:1; fill:none\" points=\"7161.48,1423.18 7161.48,1423.18 7206.52,1423.18 7161.48,1423.18 \"/>\n",
       "<path clip-path=\"url(#clip902)\" d=\"M7206.52 1395.66 L7206.52 1423.18 L7251.55 1423.18 L7251.55 1395.66 L7206.52 1395.66 L7206.52 1395.66  Z\" fill=\"#009af9\" fill-rule=\"evenodd\" fill-opacity=\"1\"/>\n",
       "<polyline clip-path=\"url(#clip902)\" style=\"stroke:#000000; stroke-linecap:round; stroke-linejoin:round; stroke-width:4; stroke-opacity:1; fill:none\" points=\"7206.52,1395.66 7206.52,1423.18 7251.55,1423.18 7251.55,1395.66 7206.52,1395.66 \"/>\n",
       "<path clip-path=\"url(#clip902)\" d=\"M7251.55 1423.18 L7251.55 1423.18 L7296.59 1423.18 L7296.59 1423.18 L7251.55 1423.18 L7251.55 1423.18  Z\" fill=\"#009af9\" fill-rule=\"evenodd\" fill-opacity=\"1\"/>\n",
       "<polyline clip-path=\"url(#clip902)\" style=\"stroke:#000000; stroke-linecap:round; stroke-linejoin:round; stroke-width:4; stroke-opacity:1; fill:none\" points=\"7251.55,1423.18 7251.55,1423.18 7296.59,1423.18 7251.55,1423.18 \"/>\n",
       "<path clip-path=\"url(#clip902)\" d=\"M7296.59 1423.18 L7296.59 1423.18 L7341.63 1423.18 L7341.63 1423.18 L7296.59 1423.18 L7296.59 1423.18  Z\" fill=\"#009af9\" fill-rule=\"evenodd\" fill-opacity=\"1\"/>\n",
       "<polyline clip-path=\"url(#clip902)\" style=\"stroke:#000000; stroke-linecap:round; stroke-linejoin:round; stroke-width:4; stroke-opacity:1; fill:none\" points=\"7296.59,1423.18 7296.59,1423.18 7341.63,1423.18 7296.59,1423.18 \"/>\n",
       "<path clip-path=\"url(#clip902)\" d=\"M7341.63 1423.18 L7341.63 1423.18 L7386.66 1423.18 L7386.66 1423.18 L7341.63 1423.18 L7341.63 1423.18  Z\" fill=\"#009af9\" fill-rule=\"evenodd\" fill-opacity=\"1\"/>\n",
       "<polyline clip-path=\"url(#clip902)\" style=\"stroke:#000000; stroke-linecap:round; stroke-linejoin:round; stroke-width:4; stroke-opacity:1; fill:none\" points=\"7341.63,1423.18 7341.63,1423.18 7386.66,1423.18 7341.63,1423.18 \"/>\n",
       "<path clip-path=\"url(#clip902)\" d=\"M7386.66 1423.18 L7386.66 1423.18 L7431.7 1423.18 L7431.7 1423.18 L7386.66 1423.18 L7386.66 1423.18  Z\" fill=\"#009af9\" fill-rule=\"evenodd\" fill-opacity=\"1\"/>\n",
       "<polyline clip-path=\"url(#clip902)\" style=\"stroke:#000000; stroke-linecap:round; stroke-linejoin:round; stroke-width:4; stroke-opacity:1; fill:none\" points=\"7386.66,1423.18 7386.66,1423.18 7431.7,1423.18 7386.66,1423.18 \"/>\n",
       "<path clip-path=\"url(#clip902)\" d=\"M7431.7 1423.18 L7431.7 1423.18 L7476.74 1423.18 L7476.74 1423.18 L7431.7 1423.18 L7431.7 1423.18  Z\" fill=\"#009af9\" fill-rule=\"evenodd\" fill-opacity=\"1\"/>\n",
       "<polyline clip-path=\"url(#clip902)\" style=\"stroke:#000000; stroke-linecap:round; stroke-linejoin:round; stroke-width:4; stroke-opacity:1; fill:none\" points=\"7431.7,1423.18 7431.7,1423.18 7476.74,1423.18 7431.7,1423.18 \"/>\n",
       "<path clip-path=\"url(#clip902)\" d=\"M7476.74 1423.18 L7476.74 1423.18 L7521.78 1423.18 L7521.78 1423.18 L7476.74 1423.18 L7476.74 1423.18  Z\" fill=\"#009af9\" fill-rule=\"evenodd\" fill-opacity=\"1\"/>\n",
       "<polyline clip-path=\"url(#clip902)\" style=\"stroke:#000000; stroke-linecap:round; stroke-linejoin:round; stroke-width:4; stroke-opacity:1; fill:none\" points=\"7476.74,1423.18 7476.74,1423.18 7521.78,1423.18 7476.74,1423.18 \"/>\n",
       "<path clip-path=\"url(#clip902)\" d=\"M7521.78 1423.18 L7521.78 1423.18 L7566.81 1423.18 L7566.81 1423.18 L7521.78 1423.18 L7521.78 1423.18  Z\" fill=\"#009af9\" fill-rule=\"evenodd\" fill-opacity=\"1\"/>\n",
       "<polyline clip-path=\"url(#clip902)\" style=\"stroke:#000000; stroke-linecap:round; stroke-linejoin:round; stroke-width:4; stroke-opacity:1; fill:none\" points=\"7521.78,1423.18 7521.78,1423.18 7566.81,1423.18 7521.78,1423.18 \"/>\n",
       "<path clip-path=\"url(#clip902)\" d=\"M7566.81 1423.18 L7566.81 1423.18 L7611.85 1423.18 L7611.85 1423.18 L7566.81 1423.18 L7566.81 1423.18  Z\" fill=\"#009af9\" fill-rule=\"evenodd\" fill-opacity=\"1\"/>\n",
       "<polyline clip-path=\"url(#clip902)\" style=\"stroke:#000000; stroke-linecap:round; stroke-linejoin:round; stroke-width:4; stroke-opacity:1; fill:none\" points=\"7566.81,1423.18 7566.81,1423.18 7611.85,1423.18 7566.81,1423.18 \"/>\n",
       "<path clip-path=\"url(#clip902)\" d=\"M7611.85 1423.18 L7611.85 1423.18 L7656.89 1423.18 L7656.89 1423.18 L7611.85 1423.18 L7611.85 1423.18  Z\" fill=\"#009af9\" fill-rule=\"evenodd\" fill-opacity=\"1\"/>\n",
       "<polyline clip-path=\"url(#clip902)\" style=\"stroke:#000000; stroke-linecap:round; stroke-linejoin:round; stroke-width:4; stroke-opacity:1; fill:none\" points=\"7611.85,1423.18 7611.85,1423.18 7656.89,1423.18 7611.85,1423.18 \"/>\n",
       "<path clip-path=\"url(#clip902)\" d=\"M7656.89 1423.18 L7656.89 1423.18 L7701.93 1423.18 L7701.93 1423.18 L7656.89 1423.18 L7656.89 1423.18  Z\" fill=\"#009af9\" fill-rule=\"evenodd\" fill-opacity=\"1\"/>\n",
       "<polyline clip-path=\"url(#clip902)\" style=\"stroke:#000000; stroke-linecap:round; stroke-linejoin:round; stroke-width:4; stroke-opacity:1; fill:none\" points=\"7656.89,1423.18 7656.89,1423.18 7701.93,1423.18 7656.89,1423.18 \"/>\n",
       "<path clip-path=\"url(#clip902)\" d=\"M7701.93 1423.18 L7701.93 1423.18 L7746.96 1423.18 L7746.96 1423.18 L7701.93 1423.18 L7701.93 1423.18  Z\" fill=\"#009af9\" fill-rule=\"evenodd\" fill-opacity=\"1\"/>\n",
       "<polyline clip-path=\"url(#clip902)\" style=\"stroke:#000000; stroke-linecap:round; stroke-linejoin:round; stroke-width:4; stroke-opacity:1; fill:none\" points=\"7701.93,1423.18 7701.93,1423.18 7746.96,1423.18 7701.93,1423.18 \"/>\n",
       "<path clip-path=\"url(#clip902)\" d=\"M7746.96 1423.18 L7746.96 1423.18 L7792 1423.18 L7792 1423.18 L7746.96 1423.18 L7746.96 1423.18  Z\" fill=\"#009af9\" fill-rule=\"evenodd\" fill-opacity=\"1\"/>\n",
       "<polyline clip-path=\"url(#clip902)\" style=\"stroke:#000000; stroke-linecap:round; stroke-linejoin:round; stroke-width:4; stroke-opacity:1; fill:none\" points=\"7746.96,1423.18 7746.96,1423.18 7792,1423.18 7746.96,1423.18 \"/>\n",
       "<path clip-path=\"url(#clip902)\" d=\"M7792 1423.18 L7792 1423.18 L7837.04 1423.18 L7837.04 1423.18 L7792 1423.18 L7792 1423.18  Z\" fill=\"#009af9\" fill-rule=\"evenodd\" fill-opacity=\"1\"/>\n",
       "<polyline clip-path=\"url(#clip902)\" style=\"stroke:#000000; stroke-linecap:round; stroke-linejoin:round; stroke-width:4; stroke-opacity:1; fill:none\" points=\"7792,1423.18 7792,1423.18 7837.04,1423.18 7792,1423.18 \"/>\n",
       "<path clip-path=\"url(#clip902)\" d=\"M7837.04 1395.66 L7837.04 1423.18 L7882.07 1423.18 L7882.07 1395.66 L7837.04 1395.66 L7837.04 1395.66  Z\" fill=\"#009af9\" fill-rule=\"evenodd\" fill-opacity=\"1\"/>\n",
       "<polyline clip-path=\"url(#clip902)\" style=\"stroke:#000000; stroke-linecap:round; stroke-linejoin:round; stroke-width:4; stroke-opacity:1; fill:none\" points=\"7837.04,1395.66 7837.04,1423.18 7882.07,1423.18 7882.07,1395.66 7837.04,1395.66 \"/>\n",
       "<path clip-path=\"url(#clip902)\" d=\"M7882.07 1423.18 L7882.07 1423.18 L7927.11 1423.18 L7927.11 1423.18 L7882.07 1423.18 L7882.07 1423.18  Z\" fill=\"#009af9\" fill-rule=\"evenodd\" fill-opacity=\"1\"/>\n",
       "<polyline clip-path=\"url(#clip902)\" style=\"stroke:#000000; stroke-linecap:round; stroke-linejoin:round; stroke-width:4; stroke-opacity:1; fill:none\" points=\"7882.07,1423.18 7882.07,1423.18 7927.11,1423.18 7882.07,1423.18 \"/>\n",
       "<path clip-path=\"url(#clip902)\" d=\"M7927.11 1395.66 L7927.11 1423.18 L7972.15 1423.18 L7972.15 1395.66 L7927.11 1395.66 L7927.11 1395.66  Z\" fill=\"#009af9\" fill-rule=\"evenodd\" fill-opacity=\"1\"/>\n",
       "<polyline clip-path=\"url(#clip902)\" style=\"stroke:#000000; stroke-linecap:round; stroke-linejoin:round; stroke-width:4; stroke-opacity:1; fill:none\" points=\"7927.11,1395.66 7927.11,1423.18 7972.15,1423.18 7972.15,1395.66 7927.11,1395.66 \"/>\n",
       "<path clip-path=\"url(#clip902)\" d=\"M7972.15 1395.66 L7972.15 1423.18 L8017.19 1423.18 L8017.19 1395.66 L7972.15 1395.66 L7972.15 1395.66  Z\" fill=\"#009af9\" fill-rule=\"evenodd\" fill-opacity=\"1\"/>\n",
       "<polyline clip-path=\"url(#clip902)\" style=\"stroke:#000000; stroke-linecap:round; stroke-linejoin:round; stroke-width:4; stroke-opacity:1; fill:none\" points=\"7972.15,1395.66 7972.15,1423.18 8017.19,1423.18 8017.19,1395.66 7972.15,1395.66 \"/>\n",
       "<path clip-path=\"url(#clip902)\" d=\"M8017.19 1423.18 L8017.19 1423.18 L8062.22 1423.18 L8062.22 1423.18 L8017.19 1423.18 L8017.19 1423.18  Z\" fill=\"#009af9\" fill-rule=\"evenodd\" fill-opacity=\"1\"/>\n",
       "<polyline clip-path=\"url(#clip902)\" style=\"stroke:#000000; stroke-linecap:round; stroke-linejoin:round; stroke-width:4; stroke-opacity:1; fill:none\" points=\"8017.19,1423.18 8017.19,1423.18 8062.22,1423.18 8017.19,1423.18 \"/>\n",
       "<path clip-path=\"url(#clip902)\" d=\"M8062.22 1423.18 L8062.22 1423.18 L8107.26 1423.18 L8107.26 1423.18 L8062.22 1423.18 L8062.22 1423.18  Z\" fill=\"#009af9\" fill-rule=\"evenodd\" fill-opacity=\"1\"/>\n",
       "<polyline clip-path=\"url(#clip902)\" style=\"stroke:#000000; stroke-linecap:round; stroke-linejoin:round; stroke-width:4; stroke-opacity:1; fill:none\" points=\"8062.22,1423.18 8062.22,1423.18 8107.26,1423.18 8062.22,1423.18 \"/>\n",
       "<path clip-path=\"url(#clip902)\" d=\"M8107.26 1423.18 L8107.26 1423.18 L8152.3 1423.18 L8152.3 1423.18 L8107.26 1423.18 L8107.26 1423.18  Z\" fill=\"#009af9\" fill-rule=\"evenodd\" fill-opacity=\"1\"/>\n",
       "<polyline clip-path=\"url(#clip902)\" style=\"stroke:#000000; stroke-linecap:round; stroke-linejoin:round; stroke-width:4; stroke-opacity:1; fill:none\" points=\"8107.26,1423.18 8107.26,1423.18 8152.3,1423.18 8107.26,1423.18 \"/>\n",
       "<path clip-path=\"url(#clip902)\" d=\"M8152.3 1423.18 L8152.3 1423.18 L8197.33 1423.18 L8197.33 1423.18 L8152.3 1423.18 L8152.3 1423.18  Z\" fill=\"#009af9\" fill-rule=\"evenodd\" fill-opacity=\"1\"/>\n",
       "<polyline clip-path=\"url(#clip902)\" style=\"stroke:#000000; stroke-linecap:round; stroke-linejoin:round; stroke-width:4; stroke-opacity:1; fill:none\" points=\"8152.3,1423.18 8152.3,1423.18 8197.33,1423.18 8152.3,1423.18 \"/>\n",
       "<path clip-path=\"url(#clip902)\" d=\"M8197.33 1423.18 L8197.33 1423.18 L8242.37 1423.18 L8242.37 1423.18 L8197.33 1423.18 L8197.33 1423.18  Z\" fill=\"#009af9\" fill-rule=\"evenodd\" fill-opacity=\"1\"/>\n",
       "<polyline clip-path=\"url(#clip902)\" style=\"stroke:#000000; stroke-linecap:round; stroke-linejoin:round; stroke-width:4; stroke-opacity:1; fill:none\" points=\"8197.33,1423.18 8197.33,1423.18 8242.37,1423.18 8197.33,1423.18 \"/>\n",
       "<path clip-path=\"url(#clip902)\" d=\"M8242.37 1423.18 L8242.37 1423.18 L8287.41 1423.18 L8287.41 1423.18 L8242.37 1423.18 L8242.37 1423.18  Z\" fill=\"#009af9\" fill-rule=\"evenodd\" fill-opacity=\"1\"/>\n",
       "<polyline clip-path=\"url(#clip902)\" style=\"stroke:#000000; stroke-linecap:round; stroke-linejoin:round; stroke-width:4; stroke-opacity:1; fill:none\" points=\"8242.37,1423.18 8242.37,1423.18 8287.41,1423.18 8242.37,1423.18 \"/>\n",
       "<path clip-path=\"url(#clip902)\" d=\"M8287.41 1423.18 L8287.41 1423.18 L8332.45 1423.18 L8332.45 1423.18 L8287.41 1423.18 L8287.41 1423.18  Z\" fill=\"#009af9\" fill-rule=\"evenodd\" fill-opacity=\"1\"/>\n",
       "<polyline clip-path=\"url(#clip902)\" style=\"stroke:#000000; stroke-linecap:round; stroke-linejoin:round; stroke-width:4; stroke-opacity:1; fill:none\" points=\"8287.41,1423.18 8287.41,1423.18 8332.45,1423.18 8287.41,1423.18 \"/>\n",
       "<path clip-path=\"url(#clip902)\" d=\"M8332.45 1423.18 L8332.45 1423.18 L8377.48 1423.18 L8377.48 1423.18 L8332.45 1423.18 L8332.45 1423.18  Z\" fill=\"#009af9\" fill-rule=\"evenodd\" fill-opacity=\"1\"/>\n",
       "<polyline clip-path=\"url(#clip902)\" style=\"stroke:#000000; stroke-linecap:round; stroke-linejoin:round; stroke-width:4; stroke-opacity:1; fill:none\" points=\"8332.45,1423.18 8332.45,1423.18 8377.48,1423.18 8332.45,1423.18 \"/>\n",
       "<path clip-path=\"url(#clip902)\" d=\"M8377.48 1423.18 L8377.48 1423.18 L8422.52 1423.18 L8422.52 1423.18 L8377.48 1423.18 L8377.48 1423.18  Z\" fill=\"#009af9\" fill-rule=\"evenodd\" fill-opacity=\"1\"/>\n",
       "<polyline clip-path=\"url(#clip902)\" style=\"stroke:#000000; stroke-linecap:round; stroke-linejoin:round; stroke-width:4; stroke-opacity:1; fill:none\" points=\"8377.48,1423.18 8377.48,1423.18 8422.52,1423.18 8377.48,1423.18 \"/>\n",
       "<path clip-path=\"url(#clip902)\" d=\"M8422.52 1423.18 L8422.52 1423.18 L8467.56 1423.18 L8467.56 1423.18 L8422.52 1423.18 L8422.52 1423.18  Z\" fill=\"#009af9\" fill-rule=\"evenodd\" fill-opacity=\"1\"/>\n",
       "<polyline clip-path=\"url(#clip902)\" style=\"stroke:#000000; stroke-linecap:round; stroke-linejoin:round; stroke-width:4; stroke-opacity:1; fill:none\" points=\"8422.52,1423.18 8422.52,1423.18 8467.56,1423.18 8422.52,1423.18 \"/>\n",
       "<path clip-path=\"url(#clip902)\" d=\"M8467.56 1423.18 L8467.56 1423.18 L8512.59 1423.18 L8512.59 1423.18 L8467.56 1423.18 L8467.56 1423.18  Z\" fill=\"#009af9\" fill-rule=\"evenodd\" fill-opacity=\"1\"/>\n",
       "<polyline clip-path=\"url(#clip902)\" style=\"stroke:#000000; stroke-linecap:round; stroke-linejoin:round; stroke-width:4; stroke-opacity:1; fill:none\" points=\"8467.56,1423.18 8467.56,1423.18 8512.59,1423.18 8467.56,1423.18 \"/>\n",
       "<path clip-path=\"url(#clip902)\" d=\"M8512.59 1423.18 L8512.59 1423.18 L8557.63 1423.18 L8557.63 1423.18 L8512.59 1423.18 L8512.59 1423.18  Z\" fill=\"#009af9\" fill-rule=\"evenodd\" fill-opacity=\"1\"/>\n",
       "<polyline clip-path=\"url(#clip902)\" style=\"stroke:#000000; stroke-linecap:round; stroke-linejoin:round; stroke-width:4; stroke-opacity:1; fill:none\" points=\"8512.59,1423.18 8512.59,1423.18 8557.63,1423.18 8512.59,1423.18 \"/>\n",
       "<path clip-path=\"url(#clip902)\" d=\"M8557.63 1423.18 L8557.63 1423.18 L8602.67 1423.18 L8602.67 1423.18 L8557.63 1423.18 L8557.63 1423.18  Z\" fill=\"#009af9\" fill-rule=\"evenodd\" fill-opacity=\"1\"/>\n",
       "<polyline clip-path=\"url(#clip902)\" style=\"stroke:#000000; stroke-linecap:round; stroke-linejoin:round; stroke-width:4; stroke-opacity:1; fill:none\" points=\"8557.63,1423.18 8557.63,1423.18 8602.67,1423.18 8557.63,1423.18 \"/>\n",
       "<path clip-path=\"url(#clip902)\" d=\"M8602.67 1423.18 L8602.67 1423.18 L8647.71 1423.18 L8647.71 1423.18 L8602.67 1423.18 L8602.67 1423.18  Z\" fill=\"#009af9\" fill-rule=\"evenodd\" fill-opacity=\"1\"/>\n",
       "<polyline clip-path=\"url(#clip902)\" style=\"stroke:#000000; stroke-linecap:round; stroke-linejoin:round; stroke-width:4; stroke-opacity:1; fill:none\" points=\"8602.67,1423.18 8602.67,1423.18 8647.71,1423.18 8602.67,1423.18 \"/>\n",
       "<path clip-path=\"url(#clip902)\" d=\"M8647.71 1423.18 L8647.71 1423.18 L8692.74 1423.18 L8692.74 1423.18 L8647.71 1423.18 L8647.71 1423.18  Z\" fill=\"#009af9\" fill-rule=\"evenodd\" fill-opacity=\"1\"/>\n",
       "<polyline clip-path=\"url(#clip902)\" style=\"stroke:#000000; stroke-linecap:round; stroke-linejoin:round; stroke-width:4; stroke-opacity:1; fill:none\" points=\"8647.71,1423.18 8647.71,1423.18 8692.74,1423.18 8647.71,1423.18 \"/>\n",
       "<path clip-path=\"url(#clip902)\" d=\"M8692.74 1423.18 L8692.74 1423.18 L8737.78 1423.18 L8737.78 1423.18 L8692.74 1423.18 L8692.74 1423.18  Z\" fill=\"#009af9\" fill-rule=\"evenodd\" fill-opacity=\"1\"/>\n",
       "<polyline clip-path=\"url(#clip902)\" style=\"stroke:#000000; stroke-linecap:round; stroke-linejoin:round; stroke-width:4; stroke-opacity:1; fill:none\" points=\"8692.74,1423.18 8692.74,1423.18 8737.78,1423.18 8692.74,1423.18 \"/>\n",
       "<path clip-path=\"url(#clip902)\" d=\"M8737.78 1423.18 L8737.78 1423.18 L8782.82 1423.18 L8782.82 1423.18 L8737.78 1423.18 L8737.78 1423.18  Z\" fill=\"#009af9\" fill-rule=\"evenodd\" fill-opacity=\"1\"/>\n",
       "<polyline clip-path=\"url(#clip902)\" style=\"stroke:#000000; stroke-linecap:round; stroke-linejoin:round; stroke-width:4; stroke-opacity:1; fill:none\" points=\"8737.78,1423.18 8737.78,1423.18 8782.82,1423.18 8737.78,1423.18 \"/>\n",
       "<path clip-path=\"url(#clip902)\" d=\"M8782.82 1423.18 L8782.82 1423.18 L8827.86 1423.18 L8827.86 1423.18 L8782.82 1423.18 L8782.82 1423.18  Z\" fill=\"#009af9\" fill-rule=\"evenodd\" fill-opacity=\"1\"/>\n",
       "<polyline clip-path=\"url(#clip902)\" style=\"stroke:#000000; stroke-linecap:round; stroke-linejoin:round; stroke-width:4; stroke-opacity:1; fill:none\" points=\"8782.82,1423.18 8782.82,1423.18 8827.86,1423.18 8782.82,1423.18 \"/>\n",
       "<path clip-path=\"url(#clip902)\" d=\"M8827.86 1423.18 L8827.86 1423.18 L8872.89 1423.18 L8872.89 1423.18 L8827.86 1423.18 L8827.86 1423.18  Z\" fill=\"#009af9\" fill-rule=\"evenodd\" fill-opacity=\"1\"/>\n",
       "<polyline clip-path=\"url(#clip902)\" style=\"stroke:#000000; stroke-linecap:round; stroke-linejoin:round; stroke-width:4; stroke-opacity:1; fill:none\" points=\"8827.86,1423.18 8827.86,1423.18 8872.89,1423.18 8827.86,1423.18 \"/>\n",
       "<path clip-path=\"url(#clip902)\" d=\"M8872.89 1423.18 L8872.89 1423.18 L8917.93 1423.18 L8917.93 1423.18 L8872.89 1423.18 L8872.89 1423.18  Z\" fill=\"#009af9\" fill-rule=\"evenodd\" fill-opacity=\"1\"/>\n",
       "<polyline clip-path=\"url(#clip902)\" style=\"stroke:#000000; stroke-linecap:round; stroke-linejoin:round; stroke-width:4; stroke-opacity:1; fill:none\" points=\"8872.89,1423.18 8872.89,1423.18 8917.93,1423.18 8872.89,1423.18 \"/>\n",
       "<path clip-path=\"url(#clip902)\" d=\"M8917.93 1423.18 L8917.93 1423.18 L8962.97 1423.18 L8962.97 1423.18 L8917.93 1423.18 L8917.93 1423.18  Z\" fill=\"#009af9\" fill-rule=\"evenodd\" fill-opacity=\"1\"/>\n",
       "<polyline clip-path=\"url(#clip902)\" style=\"stroke:#000000; stroke-linecap:round; stroke-linejoin:round; stroke-width:4; stroke-opacity:1; fill:none\" points=\"8917.93,1423.18 8917.93,1423.18 8962.97,1423.18 8917.93,1423.18 \"/>\n",
       "<path clip-path=\"url(#clip902)\" d=\"M8962.97 1423.18 L8962.97 1423.18 L9008 1423.18 L9008 1423.18 L8962.97 1423.18 L8962.97 1423.18  Z\" fill=\"#009af9\" fill-rule=\"evenodd\" fill-opacity=\"1\"/>\n",
       "<polyline clip-path=\"url(#clip902)\" style=\"stroke:#000000; stroke-linecap:round; stroke-linejoin:round; stroke-width:4; stroke-opacity:1; fill:none\" points=\"8962.97,1423.18 8962.97,1423.18 9008,1423.18 8962.97,1423.18 \"/>\n",
       "<path clip-path=\"url(#clip902)\" d=\"M9008 1423.18 L9008 1423.18 L9053.04 1423.18 L9053.04 1423.18 L9008 1423.18 L9008 1423.18  Z\" fill=\"#009af9\" fill-rule=\"evenodd\" fill-opacity=\"1\"/>\n",
       "<polyline clip-path=\"url(#clip902)\" style=\"stroke:#000000; stroke-linecap:round; stroke-linejoin:round; stroke-width:4; stroke-opacity:1; fill:none\" points=\"9008,1423.18 9008,1423.18 9053.04,1423.18 9008,1423.18 \"/>\n",
       "<path clip-path=\"url(#clip902)\" d=\"M9053.04 1423.18 L9053.04 1423.18 L9098.08 1423.18 L9098.08 1423.18 L9053.04 1423.18 L9053.04 1423.18  Z\" fill=\"#009af9\" fill-rule=\"evenodd\" fill-opacity=\"1\"/>\n",
       "<polyline clip-path=\"url(#clip902)\" style=\"stroke:#000000; stroke-linecap:round; stroke-linejoin:round; stroke-width:4; stroke-opacity:1; fill:none\" points=\"9053.04,1423.18 9053.04,1423.18 9098.08,1423.18 9053.04,1423.18 \"/>\n",
       "<path clip-path=\"url(#clip902)\" d=\"M9098.08 1395.66 L9098.08 1423.18 L9143.12 1423.18 L9143.12 1395.66 L9098.08 1395.66 L9098.08 1395.66  Z\" fill=\"#009af9\" fill-rule=\"evenodd\" fill-opacity=\"1\"/>\n",
       "<polyline clip-path=\"url(#clip902)\" style=\"stroke:#000000; stroke-linecap:round; stroke-linejoin:round; stroke-width:4; stroke-opacity:1; fill:none\" points=\"9098.08,1395.66 9098.08,1423.18 9143.12,1423.18 9143.12,1395.66 9098.08,1395.66 \"/>\n",
       "<path clip-path=\"url(#clip902)\" d=\"M9143.12 1423.18 L9143.12 1423.18 L9188.15 1423.18 L9188.15 1423.18 L9143.12 1423.18 L9143.12 1423.18  Z\" fill=\"#009af9\" fill-rule=\"evenodd\" fill-opacity=\"1\"/>\n",
       "<polyline clip-path=\"url(#clip902)\" style=\"stroke:#000000; stroke-linecap:round; stroke-linejoin:round; stroke-width:4; stroke-opacity:1; fill:none\" points=\"9143.12,1423.18 9143.12,1423.18 9188.15,1423.18 9143.12,1423.18 \"/>\n",
       "<path clip-path=\"url(#clip902)\" d=\"M9188.15 1423.18 L9188.15 1423.18 L9233.19 1423.18 L9233.19 1423.18 L9188.15 1423.18 L9188.15 1423.18  Z\" fill=\"#009af9\" fill-rule=\"evenodd\" fill-opacity=\"1\"/>\n",
       "<polyline clip-path=\"url(#clip902)\" style=\"stroke:#000000; stroke-linecap:round; stroke-linejoin:round; stroke-width:4; stroke-opacity:1; fill:none\" points=\"9188.15,1423.18 9188.15,1423.18 9233.19,1423.18 9188.15,1423.18 \"/>\n",
       "<path clip-path=\"url(#clip902)\" d=\"M9233.19 1423.18 L9233.19 1423.18 L9278.23 1423.18 L9278.23 1423.18 L9233.19 1423.18 L9233.19 1423.18  Z\" fill=\"#009af9\" fill-rule=\"evenodd\" fill-opacity=\"1\"/>\n",
       "<polyline clip-path=\"url(#clip902)\" style=\"stroke:#000000; stroke-linecap:round; stroke-linejoin:round; stroke-width:4; stroke-opacity:1; fill:none\" points=\"9233.19,1423.18 9233.19,1423.18 9278.23,1423.18 9233.19,1423.18 \"/>\n",
       "<path clip-path=\"url(#clip902)\" d=\"M9278.23 1423.18 L9278.23 1423.18 L9323.26 1423.18 L9323.26 1423.18 L9278.23 1423.18 L9278.23 1423.18  Z\" fill=\"#009af9\" fill-rule=\"evenodd\" fill-opacity=\"1\"/>\n",
       "<polyline clip-path=\"url(#clip902)\" style=\"stroke:#000000; stroke-linecap:round; stroke-linejoin:round; stroke-width:4; stroke-opacity:1; fill:none\" points=\"9278.23,1423.18 9278.23,1423.18 9323.26,1423.18 9278.23,1423.18 \"/>\n",
       "<path clip-path=\"url(#clip902)\" d=\"M9323.26 1423.18 L9323.26 1423.18 L9368.3 1423.18 L9368.3 1423.18 L9323.26 1423.18 L9323.26 1423.18  Z\" fill=\"#009af9\" fill-rule=\"evenodd\" fill-opacity=\"1\"/>\n",
       "<polyline clip-path=\"url(#clip902)\" style=\"stroke:#000000; stroke-linecap:round; stroke-linejoin:round; stroke-width:4; stroke-opacity:1; fill:none\" points=\"9323.26,1423.18 9323.26,1423.18 9368.3,1423.18 9323.26,1423.18 \"/>\n",
       "<path clip-path=\"url(#clip902)\" d=\"M9368.3 1423.18 L9368.3 1423.18 L9413.34 1423.18 L9413.34 1423.18 L9368.3 1423.18 L9368.3 1423.18  Z\" fill=\"#009af9\" fill-rule=\"evenodd\" fill-opacity=\"1\"/>\n",
       "<polyline clip-path=\"url(#clip902)\" style=\"stroke:#000000; stroke-linecap:round; stroke-linejoin:round; stroke-width:4; stroke-opacity:1; fill:none\" points=\"9368.3,1423.18 9368.3,1423.18 9413.34,1423.18 9368.3,1423.18 \"/>\n",
       "<path clip-path=\"url(#clip902)\" d=\"M9413.34 1423.18 L9413.34 1423.18 L9458.38 1423.18 L9458.38 1423.18 L9413.34 1423.18 L9413.34 1423.18  Z\" fill=\"#009af9\" fill-rule=\"evenodd\" fill-opacity=\"1\"/>\n",
       "<polyline clip-path=\"url(#clip902)\" style=\"stroke:#000000; stroke-linecap:round; stroke-linejoin:round; stroke-width:4; stroke-opacity:1; fill:none\" points=\"9413.34,1423.18 9413.34,1423.18 9458.38,1423.18 9413.34,1423.18 \"/>\n",
       "<path clip-path=\"url(#clip902)\" d=\"M9458.38 1423.18 L9458.38 1423.18 L9503.41 1423.18 L9503.41 1423.18 L9458.38 1423.18 L9458.38 1423.18  Z\" fill=\"#009af9\" fill-rule=\"evenodd\" fill-opacity=\"1\"/>\n",
       "<polyline clip-path=\"url(#clip902)\" style=\"stroke:#000000; stroke-linecap:round; stroke-linejoin:round; stroke-width:4; stroke-opacity:1; fill:none\" points=\"9458.38,1423.18 9458.38,1423.18 9503.41,1423.18 9458.38,1423.18 \"/>\n",
       "<path clip-path=\"url(#clip902)\" d=\"M9503.41 1423.18 L9503.41 1423.18 L9548.45 1423.18 L9548.45 1423.18 L9503.41 1423.18 L9503.41 1423.18  Z\" fill=\"#009af9\" fill-rule=\"evenodd\" fill-opacity=\"1\"/>\n",
       "<polyline clip-path=\"url(#clip902)\" style=\"stroke:#000000; stroke-linecap:round; stroke-linejoin:round; stroke-width:4; stroke-opacity:1; fill:none\" points=\"9503.41,1423.18 9503.41,1423.18 9548.45,1423.18 9503.41,1423.18 \"/>\n",
       "<path clip-path=\"url(#clip902)\" d=\"M9548.45 1423.18 L9548.45 1423.18 L9593.49 1423.18 L9593.49 1423.18 L9548.45 1423.18 L9548.45 1423.18  Z\" fill=\"#009af9\" fill-rule=\"evenodd\" fill-opacity=\"1\"/>\n",
       "<polyline clip-path=\"url(#clip902)\" style=\"stroke:#000000; stroke-linecap:round; stroke-linejoin:round; stroke-width:4; stroke-opacity:1; fill:none\" points=\"9548.45,1423.18 9548.45,1423.18 9593.49,1423.18 9548.45,1423.18 \"/>\n",
       "<path clip-path=\"url(#clip902)\" d=\"M9593.49 1423.18 L9593.49 1423.18 L9638.53 1423.18 L9638.53 1423.18 L9593.49 1423.18 L9593.49 1423.18  Z\" fill=\"#009af9\" fill-rule=\"evenodd\" fill-opacity=\"1\"/>\n",
       "<polyline clip-path=\"url(#clip902)\" style=\"stroke:#000000; stroke-linecap:round; stroke-linejoin:round; stroke-width:4; stroke-opacity:1; fill:none\" points=\"9593.49,1423.18 9593.49,1423.18 9638.53,1423.18 9593.49,1423.18 \"/>\n",
       "<path clip-path=\"url(#clip902)\" d=\"M9638.53 1423.18 L9638.53 1423.18 L9683.56 1423.18 L9683.56 1423.18 L9638.53 1423.18 L9638.53 1423.18  Z\" fill=\"#009af9\" fill-rule=\"evenodd\" fill-opacity=\"1\"/>\n",
       "<polyline clip-path=\"url(#clip902)\" style=\"stroke:#000000; stroke-linecap:round; stroke-linejoin:round; stroke-width:4; stroke-opacity:1; fill:none\" points=\"9638.53,1423.18 9638.53,1423.18 9683.56,1423.18 9638.53,1423.18 \"/>\n",
       "<path clip-path=\"url(#clip902)\" d=\"M9683.56 1423.18 L9683.56 1423.18 L9728.6 1423.18 L9728.6 1423.18 L9683.56 1423.18 L9683.56 1423.18  Z\" fill=\"#009af9\" fill-rule=\"evenodd\" fill-opacity=\"1\"/>\n",
       "<polyline clip-path=\"url(#clip902)\" style=\"stroke:#000000; stroke-linecap:round; stroke-linejoin:round; stroke-width:4; stroke-opacity:1; fill:none\" points=\"9683.56,1423.18 9683.56,1423.18 9728.6,1423.18 9683.56,1423.18 \"/>\n",
       "<path clip-path=\"url(#clip902)\" d=\"M9728.6 1395.66 L9728.6 1423.18 L9773.64 1423.18 L9773.64 1395.66 L9728.6 1395.66 L9728.6 1395.66  Z\" fill=\"#009af9\" fill-rule=\"evenodd\" fill-opacity=\"1\"/>\n",
       "<polyline clip-path=\"url(#clip902)\" style=\"stroke:#000000; stroke-linecap:round; stroke-linejoin:round; stroke-width:4; stroke-opacity:1; fill:none\" points=\"9728.6,1395.66 9728.6,1423.18 9773.64,1423.18 9773.64,1395.66 9728.6,1395.66 \"/>\n",
       "<path clip-path=\"url(#clip902)\" d=\"M9773.64 1423.18 L9773.64 1423.18 L9818.67 1423.18 L9818.67 1423.18 L9773.64 1423.18 L9773.64 1423.18  Z\" fill=\"#009af9\" fill-rule=\"evenodd\" fill-opacity=\"1\"/>\n",
       "<polyline clip-path=\"url(#clip902)\" style=\"stroke:#000000; stroke-linecap:round; stroke-linejoin:round; stroke-width:4; stroke-opacity:1; fill:none\" points=\"9773.64,1423.18 9773.64,1423.18 9818.67,1423.18 9773.64,1423.18 \"/>\n",
       "<path clip-path=\"url(#clip902)\" d=\"M9818.67 1423.18 L9818.67 1423.18 L9863.71 1423.18 L9863.71 1423.18 L9818.67 1423.18 L9818.67 1423.18  Z\" fill=\"#009af9\" fill-rule=\"evenodd\" fill-opacity=\"1\"/>\n",
       "<polyline clip-path=\"url(#clip902)\" style=\"stroke:#000000; stroke-linecap:round; stroke-linejoin:round; stroke-width:4; stroke-opacity:1; fill:none\" points=\"9818.67,1423.18 9818.67,1423.18 9863.71,1423.18 9818.67,1423.18 \"/>\n",
       "<path clip-path=\"url(#clip902)\" d=\"M9863.71 1423.18 L9863.71 1423.18 L9908.75 1423.18 L9908.75 1423.18 L9863.71 1423.18 L9863.71 1423.18  Z\" fill=\"#009af9\" fill-rule=\"evenodd\" fill-opacity=\"1\"/>\n",
       "<polyline clip-path=\"url(#clip902)\" style=\"stroke:#000000; stroke-linecap:round; stroke-linejoin:round; stroke-width:4; stroke-opacity:1; fill:none\" points=\"9863.71,1423.18 9863.71,1423.18 9908.75,1423.18 9863.71,1423.18 \"/>\n",
       "<path clip-path=\"url(#clip902)\" d=\"M9908.75 1423.18 L9908.75 1423.18 L9953.79 1423.18 L9953.79 1423.18 L9908.75 1423.18 L9908.75 1423.18  Z\" fill=\"#009af9\" fill-rule=\"evenodd\" fill-opacity=\"1\"/>\n",
       "<polyline clip-path=\"url(#clip902)\" style=\"stroke:#000000; stroke-linecap:round; stroke-linejoin:round; stroke-width:4; stroke-opacity:1; fill:none\" points=\"9908.75,1423.18 9908.75,1423.18 9953.79,1423.18 9908.75,1423.18 \"/>\n",
       "<path clip-path=\"url(#clip902)\" d=\"M9953.79 1423.18 L9953.79 1423.18 L9998.82 1423.18 L9998.82 1423.18 L9953.79 1423.18 L9953.79 1423.18  Z\" fill=\"#009af9\" fill-rule=\"evenodd\" fill-opacity=\"1\"/>\n",
       "<polyline clip-path=\"url(#clip902)\" style=\"stroke:#000000; stroke-linecap:round; stroke-linejoin:round; stroke-width:4; stroke-opacity:1; fill:none\" points=\"9953.79,1423.18 9953.79,1423.18 9998.82,1423.18 9953.79,1423.18 \"/>\n",
       "<path clip-path=\"url(#clip902)\" d=\"M9998.82 1423.18 L9998.82 1423.18 L10043.9 1423.18 L10043.9 1423.18 L9998.82 1423.18 L9998.82 1423.18  Z\" fill=\"#009af9\" fill-rule=\"evenodd\" fill-opacity=\"1\"/>\n",
       "<polyline clip-path=\"url(#clip902)\" style=\"stroke:#000000; stroke-linecap:round; stroke-linejoin:round; stroke-width:4; stroke-opacity:1; fill:none\" points=\"9998.82,1423.18 9998.82,1423.18 10043.9,1423.18 9998.82,1423.18 \"/>\n",
       "<path clip-path=\"url(#clip902)\" d=\"M10043.9 1423.18 L10043.9 1423.18 L10088.9 1423.18 L10088.9 1423.18 L10043.9 1423.18 L10043.9 1423.18  Z\" fill=\"#009af9\" fill-rule=\"evenodd\" fill-opacity=\"1\"/>\n",
       "<polyline clip-path=\"url(#clip902)\" style=\"stroke:#000000; stroke-linecap:round; stroke-linejoin:round; stroke-width:4; stroke-opacity:1; fill:none\" points=\"10043.9,1423.18 10043.9,1423.18 10088.9,1423.18 10043.9,1423.18 \"/>\n",
       "<path clip-path=\"url(#clip902)\" d=\"M10088.9 1423.18 L10088.9 1423.18 L10133.9 1423.18 L10133.9 1423.18 L10088.9 1423.18 L10088.9 1423.18  Z\" fill=\"#009af9\" fill-rule=\"evenodd\" fill-opacity=\"1\"/>\n",
       "<polyline clip-path=\"url(#clip902)\" style=\"stroke:#000000; stroke-linecap:round; stroke-linejoin:round; stroke-width:4; stroke-opacity:1; fill:none\" points=\"10088.9,1423.18 10088.9,1423.18 10133.9,1423.18 10088.9,1423.18 \"/>\n",
       "<path clip-path=\"url(#clip902)\" d=\"M10133.9 1423.18 L10133.9 1423.18 L10179 1423.18 L10179 1423.18 L10133.9 1423.18 L10133.9 1423.18  Z\" fill=\"#009af9\" fill-rule=\"evenodd\" fill-opacity=\"1\"/>\n",
       "<polyline clip-path=\"url(#clip902)\" style=\"stroke:#000000; stroke-linecap:round; stroke-linejoin:round; stroke-width:4; stroke-opacity:1; fill:none\" points=\"10133.9,1423.18 10133.9,1423.18 10179,1423.18 10133.9,1423.18 \"/>\n",
       "<path clip-path=\"url(#clip902)\" d=\"M10179 1423.18 L10179 1423.18 L10224 1423.18 L10224 1423.18 L10179 1423.18 L10179 1423.18  Z\" fill=\"#009af9\" fill-rule=\"evenodd\" fill-opacity=\"1\"/>\n",
       "<polyline clip-path=\"url(#clip902)\" style=\"stroke:#000000; stroke-linecap:round; stroke-linejoin:round; stroke-width:4; stroke-opacity:1; fill:none\" points=\"10179,1423.18 10179,1423.18 10224,1423.18 10179,1423.18 \"/>\n",
       "<path clip-path=\"url(#clip902)\" d=\"M10224 1423.18 L10224 1423.18 L10269 1423.18 L10269 1423.18 L10224 1423.18 L10224 1423.18  Z\" fill=\"#009af9\" fill-rule=\"evenodd\" fill-opacity=\"1\"/>\n",
       "<polyline clip-path=\"url(#clip902)\" style=\"stroke:#000000; stroke-linecap:round; stroke-linejoin:round; stroke-width:4; stroke-opacity:1; fill:none\" points=\"10224,1423.18 10224,1423.18 10269,1423.18 10224,1423.18 \"/>\n",
       "<path clip-path=\"url(#clip902)\" d=\"M10269 1423.18 L10269 1423.18 L10314.1 1423.18 L10314.1 1423.18 L10269 1423.18 L10269 1423.18  Z\" fill=\"#009af9\" fill-rule=\"evenodd\" fill-opacity=\"1\"/>\n",
       "<polyline clip-path=\"url(#clip902)\" style=\"stroke:#000000; stroke-linecap:round; stroke-linejoin:round; stroke-width:4; stroke-opacity:1; fill:none\" points=\"10269,1423.18 10269,1423.18 10314.1,1423.18 10269,1423.18 \"/>\n",
       "<path clip-path=\"url(#clip902)\" d=\"M10314.1 1423.18 L10314.1 1423.18 L10359.1 1423.18 L10359.1 1423.18 L10314.1 1423.18 L10314.1 1423.18  Z\" fill=\"#009af9\" fill-rule=\"evenodd\" fill-opacity=\"1\"/>\n",
       "<polyline clip-path=\"url(#clip902)\" style=\"stroke:#000000; stroke-linecap:round; stroke-linejoin:round; stroke-width:4; stroke-opacity:1; fill:none\" points=\"10314.1,1423.18 10314.1,1423.18 10359.1,1423.18 10314.1,1423.18 \"/>\n",
       "<path clip-path=\"url(#clip902)\" d=\"M10359.1 1423.18 L10359.1 1423.18 L10404.2 1423.18 L10404.2 1423.18 L10359.1 1423.18 L10359.1 1423.18  Z\" fill=\"#009af9\" fill-rule=\"evenodd\" fill-opacity=\"1\"/>\n",
       "<polyline clip-path=\"url(#clip902)\" style=\"stroke:#000000; stroke-linecap:round; stroke-linejoin:round; stroke-width:4; stroke-opacity:1; fill:none\" points=\"10359.1,1423.18 10359.1,1423.18 10404.2,1423.18 10359.1,1423.18 \"/>\n",
       "<path clip-path=\"url(#clip902)\" d=\"M10404.2 1423.18 L10404.2 1423.18 L10449.2 1423.18 L10449.2 1423.18 L10404.2 1423.18 L10404.2 1423.18  Z\" fill=\"#009af9\" fill-rule=\"evenodd\" fill-opacity=\"1\"/>\n",
       "<polyline clip-path=\"url(#clip902)\" style=\"stroke:#000000; stroke-linecap:round; stroke-linejoin:round; stroke-width:4; stroke-opacity:1; fill:none\" points=\"10404.2,1423.18 10404.2,1423.18 10449.2,1423.18 10404.2,1423.18 \"/>\n",
       "<path clip-path=\"url(#clip902)\" d=\"M10449.2 1423.18 L10449.2 1423.18 L10494.2 1423.18 L10494.2 1423.18 L10449.2 1423.18 L10449.2 1423.18  Z\" fill=\"#009af9\" fill-rule=\"evenodd\" fill-opacity=\"1\"/>\n",
       "<polyline clip-path=\"url(#clip902)\" style=\"stroke:#000000; stroke-linecap:round; stroke-linejoin:round; stroke-width:4; stroke-opacity:1; fill:none\" points=\"10449.2,1423.18 10449.2,1423.18 10494.2,1423.18 10449.2,1423.18 \"/>\n",
       "<path clip-path=\"url(#clip902)\" d=\"M10494.2 1423.18 L10494.2 1423.18 L10539.3 1423.18 L10539.3 1423.18 L10494.2 1423.18 L10494.2 1423.18  Z\" fill=\"#009af9\" fill-rule=\"evenodd\" fill-opacity=\"1\"/>\n",
       "<polyline clip-path=\"url(#clip902)\" style=\"stroke:#000000; stroke-linecap:round; stroke-linejoin:round; stroke-width:4; stroke-opacity:1; fill:none\" points=\"10494.2,1423.18 10494.2,1423.18 10539.3,1423.18 10494.2,1423.18 \"/>\n",
       "<path clip-path=\"url(#clip902)\" d=\"M10539.3 1423.18 L10539.3 1423.18 L10584.3 1423.18 L10584.3 1423.18 L10539.3 1423.18 L10539.3 1423.18  Z\" fill=\"#009af9\" fill-rule=\"evenodd\" fill-opacity=\"1\"/>\n",
       "<polyline clip-path=\"url(#clip902)\" style=\"stroke:#000000; stroke-linecap:round; stroke-linejoin:round; stroke-width:4; stroke-opacity:1; fill:none\" points=\"10539.3,1423.18 10539.3,1423.18 10584.3,1423.18 10539.3,1423.18 \"/>\n",
       "<path clip-path=\"url(#clip902)\" d=\"M10584.3 1423.18 L10584.3 1423.18 L10629.3 1423.18 L10629.3 1423.18 L10584.3 1423.18 L10584.3 1423.18  Z\" fill=\"#009af9\" fill-rule=\"evenodd\" fill-opacity=\"1\"/>\n",
       "<polyline clip-path=\"url(#clip902)\" style=\"stroke:#000000; stroke-linecap:round; stroke-linejoin:round; stroke-width:4; stroke-opacity:1; fill:none\" points=\"10584.3,1423.18 10584.3,1423.18 10629.3,1423.18 10584.3,1423.18 \"/>\n",
       "<path clip-path=\"url(#clip902)\" d=\"M10629.3 1423.18 L10629.3 1423.18 L10674.4 1423.18 L10674.4 1423.18 L10629.3 1423.18 L10629.3 1423.18  Z\" fill=\"#009af9\" fill-rule=\"evenodd\" fill-opacity=\"1\"/>\n",
       "<polyline clip-path=\"url(#clip902)\" style=\"stroke:#000000; stroke-linecap:round; stroke-linejoin:round; stroke-width:4; stroke-opacity:1; fill:none\" points=\"10629.3,1423.18 10629.3,1423.18 10674.4,1423.18 10629.3,1423.18 \"/>\n",
       "<path clip-path=\"url(#clip902)\" d=\"M10674.4 1423.18 L10674.4 1423.18 L10719.4 1423.18 L10719.4 1423.18 L10674.4 1423.18 L10674.4 1423.18  Z\" fill=\"#009af9\" fill-rule=\"evenodd\" fill-opacity=\"1\"/>\n",
       "<polyline clip-path=\"url(#clip902)\" style=\"stroke:#000000; stroke-linecap:round; stroke-linejoin:round; stroke-width:4; stroke-opacity:1; fill:none\" points=\"10674.4,1423.18 10674.4,1423.18 10719.4,1423.18 10674.4,1423.18 \"/>\n",
       "<path clip-path=\"url(#clip902)\" d=\"M10719.4 1423.18 L10719.4 1423.18 L10764.5 1423.18 L10764.5 1423.18 L10719.4 1423.18 L10719.4 1423.18  Z\" fill=\"#009af9\" fill-rule=\"evenodd\" fill-opacity=\"1\"/>\n",
       "<polyline clip-path=\"url(#clip902)\" style=\"stroke:#000000; stroke-linecap:round; stroke-linejoin:round; stroke-width:4; stroke-opacity:1; fill:none\" points=\"10719.4,1423.18 10719.4,1423.18 10764.5,1423.18 10719.4,1423.18 \"/>\n",
       "<path clip-path=\"url(#clip902)\" d=\"M10764.5 1423.18 L10764.5 1423.18 L10809.5 1423.18 L10809.5 1423.18 L10764.5 1423.18 L10764.5 1423.18  Z\" fill=\"#009af9\" fill-rule=\"evenodd\" fill-opacity=\"1\"/>\n",
       "<polyline clip-path=\"url(#clip902)\" style=\"stroke:#000000; stroke-linecap:round; stroke-linejoin:round; stroke-width:4; stroke-opacity:1; fill:none\" points=\"10764.5,1423.18 10764.5,1423.18 10809.5,1423.18 10764.5,1423.18 \"/>\n",
       "<path clip-path=\"url(#clip902)\" d=\"M10809.5 1423.18 L10809.5 1423.18 L10854.5 1423.18 L10854.5 1423.18 L10809.5 1423.18 L10809.5 1423.18  Z\" fill=\"#009af9\" fill-rule=\"evenodd\" fill-opacity=\"1\"/>\n",
       "<polyline clip-path=\"url(#clip902)\" style=\"stroke:#000000; stroke-linecap:round; stroke-linejoin:round; stroke-width:4; stroke-opacity:1; fill:none\" points=\"10809.5,1423.18 10809.5,1423.18 10854.5,1423.18 10809.5,1423.18 \"/>\n",
       "<path clip-path=\"url(#clip902)\" d=\"M10854.5 1423.18 L10854.5 1423.18 L10899.6 1423.18 L10899.6 1423.18 L10854.5 1423.18 L10854.5 1423.18  Z\" fill=\"#009af9\" fill-rule=\"evenodd\" fill-opacity=\"1\"/>\n",
       "<polyline clip-path=\"url(#clip902)\" style=\"stroke:#000000; stroke-linecap:round; stroke-linejoin:round; stroke-width:4; stroke-opacity:1; fill:none\" points=\"10854.5,1423.18 10854.5,1423.18 10899.6,1423.18 10854.5,1423.18 \"/>\n",
       "<path clip-path=\"url(#clip902)\" d=\"M10899.6 1423.18 L10899.6 1423.18 L10944.6 1423.18 L10944.6 1423.18 L10899.6 1423.18 L10899.6 1423.18  Z\" fill=\"#009af9\" fill-rule=\"evenodd\" fill-opacity=\"1\"/>\n",
       "<polyline clip-path=\"url(#clip902)\" style=\"stroke:#000000; stroke-linecap:round; stroke-linejoin:round; stroke-width:4; stroke-opacity:1; fill:none\" points=\"10899.6,1423.18 10899.6,1423.18 10944.6,1423.18 10899.6,1423.18 \"/>\n",
       "<path clip-path=\"url(#clip902)\" d=\"M10944.6 1423.18 L10944.6 1423.18 L10989.6 1423.18 L10989.6 1423.18 L10944.6 1423.18 L10944.6 1423.18  Z\" fill=\"#009af9\" fill-rule=\"evenodd\" fill-opacity=\"1\"/>\n",
       "<polyline clip-path=\"url(#clip902)\" style=\"stroke:#000000; stroke-linecap:round; stroke-linejoin:round; stroke-width:4; stroke-opacity:1; fill:none\" points=\"10944.6,1423.18 10944.6,1423.18 10989.6,1423.18 10944.6,1423.18 \"/>\n",
       "<path clip-path=\"url(#clip902)\" d=\"M10989.6 1423.18 L10989.6 1423.18 L11034.7 1423.18 L11034.7 1423.18 L10989.6 1423.18 L10989.6 1423.18  Z\" fill=\"#009af9\" fill-rule=\"evenodd\" fill-opacity=\"1\"/>\n",
       "<polyline clip-path=\"url(#clip902)\" style=\"stroke:#000000; stroke-linecap:round; stroke-linejoin:round; stroke-width:4; stroke-opacity:1; fill:none\" points=\"10989.6,1423.18 10989.6,1423.18 11034.7,1423.18 10989.6,1423.18 \"/>\n",
       "<path clip-path=\"url(#clip902)\" d=\"M11034.7 1423.18 L11034.7 1423.18 L11079.7 1423.18 L11079.7 1423.18 L11034.7 1423.18 L11034.7 1423.18  Z\" fill=\"#009af9\" fill-rule=\"evenodd\" fill-opacity=\"1\"/>\n",
       "<polyline clip-path=\"url(#clip902)\" style=\"stroke:#000000; stroke-linecap:round; stroke-linejoin:round; stroke-width:4; stroke-opacity:1; fill:none\" points=\"11034.7,1423.18 11034.7,1423.18 11079.7,1423.18 11034.7,1423.18 \"/>\n",
       "<path clip-path=\"url(#clip902)\" d=\"M11079.7 1423.18 L11079.7 1423.18 L11124.8 1423.18 L11124.8 1423.18 L11079.7 1423.18 L11079.7 1423.18  Z\" fill=\"#009af9\" fill-rule=\"evenodd\" fill-opacity=\"1\"/>\n",
       "<polyline clip-path=\"url(#clip902)\" style=\"stroke:#000000; stroke-linecap:round; stroke-linejoin:round; stroke-width:4; stroke-opacity:1; fill:none\" points=\"11079.7,1423.18 11079.7,1423.18 11124.8,1423.18 11079.7,1423.18 \"/>\n",
       "<path clip-path=\"url(#clip902)\" d=\"M11124.8 1423.18 L11124.8 1423.18 L11169.8 1423.18 L11169.8 1423.18 L11124.8 1423.18 L11124.8 1423.18  Z\" fill=\"#009af9\" fill-rule=\"evenodd\" fill-opacity=\"1\"/>\n",
       "<polyline clip-path=\"url(#clip902)\" style=\"stroke:#000000; stroke-linecap:round; stroke-linejoin:round; stroke-width:4; stroke-opacity:1; fill:none\" points=\"11124.8,1423.18 11124.8,1423.18 11169.8,1423.18 11124.8,1423.18 \"/>\n",
       "<path clip-path=\"url(#clip902)\" d=\"M11169.8 1423.18 L11169.8 1423.18 L11214.8 1423.18 L11214.8 1423.18 L11169.8 1423.18 L11169.8 1423.18  Z\" fill=\"#009af9\" fill-rule=\"evenodd\" fill-opacity=\"1\"/>\n",
       "<polyline clip-path=\"url(#clip902)\" style=\"stroke:#000000; stroke-linecap:round; stroke-linejoin:round; stroke-width:4; stroke-opacity:1; fill:none\" points=\"11169.8,1423.18 11169.8,1423.18 11214.8,1423.18 11169.8,1423.18 \"/>\n",
       "<path clip-path=\"url(#clip902)\" d=\"M11214.8 1423.18 L11214.8 1423.18 L11259.9 1423.18 L11259.9 1423.18 L11214.8 1423.18 L11214.8 1423.18  Z\" fill=\"#009af9\" fill-rule=\"evenodd\" fill-opacity=\"1\"/>\n",
       "<polyline clip-path=\"url(#clip902)\" style=\"stroke:#000000; stroke-linecap:round; stroke-linejoin:round; stroke-width:4; stroke-opacity:1; fill:none\" points=\"11214.8,1423.18 11214.8,1423.18 11259.9,1423.18 11214.8,1423.18 \"/>\n",
       "<path clip-path=\"url(#clip902)\" d=\"M11259.9 1423.18 L11259.9 1423.18 L11304.9 1423.18 L11304.9 1423.18 L11259.9 1423.18 L11259.9 1423.18  Z\" fill=\"#009af9\" fill-rule=\"evenodd\" fill-opacity=\"1\"/>\n",
       "<polyline clip-path=\"url(#clip902)\" style=\"stroke:#000000; stroke-linecap:round; stroke-linejoin:round; stroke-width:4; stroke-opacity:1; fill:none\" points=\"11259.9,1423.18 11259.9,1423.18 11304.9,1423.18 11259.9,1423.18 \"/>\n",
       "<path clip-path=\"url(#clip902)\" d=\"M11304.9 1423.18 L11304.9 1423.18 L11349.9 1423.18 L11349.9 1423.18 L11304.9 1423.18 L11304.9 1423.18  Z\" fill=\"#009af9\" fill-rule=\"evenodd\" fill-opacity=\"1\"/>\n",
       "<polyline clip-path=\"url(#clip902)\" style=\"stroke:#000000; stroke-linecap:round; stroke-linejoin:round; stroke-width:4; stroke-opacity:1; fill:none\" points=\"11304.9,1423.18 11304.9,1423.18 11349.9,1423.18 11304.9,1423.18 \"/>\n",
       "<path clip-path=\"url(#clip902)\" d=\"M11349.9 1423.18 L11349.9 1423.18 L11395 1423.18 L11395 1423.18 L11349.9 1423.18 L11349.9 1423.18  Z\" fill=\"#009af9\" fill-rule=\"evenodd\" fill-opacity=\"1\"/>\n",
       "<polyline clip-path=\"url(#clip902)\" style=\"stroke:#000000; stroke-linecap:round; stroke-linejoin:round; stroke-width:4; stroke-opacity:1; fill:none\" points=\"11349.9,1423.18 11349.9,1423.18 11395,1423.18 11349.9,1423.18 \"/>\n",
       "<path clip-path=\"url(#clip902)\" d=\"M11395 1423.18 L11395 1423.18 L11440 1423.18 L11440 1423.18 L11395 1423.18 L11395 1423.18  Z\" fill=\"#009af9\" fill-rule=\"evenodd\" fill-opacity=\"1\"/>\n",
       "<polyline clip-path=\"url(#clip902)\" style=\"stroke:#000000; stroke-linecap:round; stroke-linejoin:round; stroke-width:4; stroke-opacity:1; fill:none\" points=\"11395,1423.18 11395,1423.18 11440,1423.18 11395,1423.18 \"/>\n",
       "<path clip-path=\"url(#clip902)\" d=\"M11440 1423.18 L11440 1423.18 L11485.1 1423.18 L11485.1 1423.18 L11440 1423.18 L11440 1423.18  Z\" fill=\"#009af9\" fill-rule=\"evenodd\" fill-opacity=\"1\"/>\n",
       "<polyline clip-path=\"url(#clip902)\" style=\"stroke:#000000; stroke-linecap:round; stroke-linejoin:round; stroke-width:4; stroke-opacity:1; fill:none\" points=\"11440,1423.18 11440,1423.18 11485.1,1423.18 11440,1423.18 \"/>\n",
       "<path clip-path=\"url(#clip902)\" d=\"M11485.1 1423.18 L11485.1 1423.18 L11530.1 1423.18 L11530.1 1423.18 L11485.1 1423.18 L11485.1 1423.18  Z\" fill=\"#009af9\" fill-rule=\"evenodd\" fill-opacity=\"1\"/>\n",
       "<polyline clip-path=\"url(#clip902)\" style=\"stroke:#000000; stroke-linecap:round; stroke-linejoin:round; stroke-width:4; stroke-opacity:1; fill:none\" points=\"11485.1,1423.18 11485.1,1423.18 11530.1,1423.18 11485.1,1423.18 \"/>\n",
       "<path clip-path=\"url(#clip902)\" d=\"M11530.1 1423.18 L11530.1 1423.18 L11575.1 1423.18 L11575.1 1423.18 L11530.1 1423.18 L11530.1 1423.18  Z\" fill=\"#009af9\" fill-rule=\"evenodd\" fill-opacity=\"1\"/>\n",
       "<polyline clip-path=\"url(#clip902)\" style=\"stroke:#000000; stroke-linecap:round; stroke-linejoin:round; stroke-width:4; stroke-opacity:1; fill:none\" points=\"11530.1,1423.18 11530.1,1423.18 11575.1,1423.18 11530.1,1423.18 \"/>\n",
       "<path clip-path=\"url(#clip902)\" d=\"M11575.1 1423.18 L11575.1 1423.18 L11620.2 1423.18 L11620.2 1423.18 L11575.1 1423.18 L11575.1 1423.18  Z\" fill=\"#009af9\" fill-rule=\"evenodd\" fill-opacity=\"1\"/>\n",
       "<polyline clip-path=\"url(#clip902)\" style=\"stroke:#000000; stroke-linecap:round; stroke-linejoin:round; stroke-width:4; stroke-opacity:1; fill:none\" points=\"11575.1,1423.18 11575.1,1423.18 11620.2,1423.18 11575.1,1423.18 \"/>\n",
       "<path clip-path=\"url(#clip902)\" d=\"M11620.2 1423.18 L11620.2 1423.18 L11665.2 1423.18 L11665.2 1423.18 L11620.2 1423.18 L11620.2 1423.18  Z\" fill=\"#009af9\" fill-rule=\"evenodd\" fill-opacity=\"1\"/>\n",
       "<polyline clip-path=\"url(#clip902)\" style=\"stroke:#000000; stroke-linecap:round; stroke-linejoin:round; stroke-width:4; stroke-opacity:1; fill:none\" points=\"11620.2,1423.18 11620.2,1423.18 11665.2,1423.18 11620.2,1423.18 \"/>\n",
       "<path clip-path=\"url(#clip902)\" d=\"M11665.2 1423.18 L11665.2 1423.18 L11710.2 1423.18 L11710.2 1423.18 L11665.2 1423.18 L11665.2 1423.18  Z\" fill=\"#009af9\" fill-rule=\"evenodd\" fill-opacity=\"1\"/>\n",
       "<polyline clip-path=\"url(#clip902)\" style=\"stroke:#000000; stroke-linecap:round; stroke-linejoin:round; stroke-width:4; stroke-opacity:1; fill:none\" points=\"11665.2,1423.18 11665.2,1423.18 11710.2,1423.18 11665.2,1423.18 \"/>\n",
       "<path clip-path=\"url(#clip902)\" d=\"M11710.2 1423.18 L11710.2 1423.18 L11755.3 1423.18 L11755.3 1423.18 L11710.2 1423.18 L11710.2 1423.18  Z\" fill=\"#009af9\" fill-rule=\"evenodd\" fill-opacity=\"1\"/>\n",
       "<polyline clip-path=\"url(#clip902)\" style=\"stroke:#000000; stroke-linecap:round; stroke-linejoin:round; stroke-width:4; stroke-opacity:1; fill:none\" points=\"11710.2,1423.18 11710.2,1423.18 11755.3,1423.18 11710.2,1423.18 \"/>\n",
       "<path clip-path=\"url(#clip902)\" d=\"M11755.3 1423.18 L11755.3 1423.18 L11800.3 1423.18 L11800.3 1423.18 L11755.3 1423.18 L11755.3 1423.18  Z\" fill=\"#009af9\" fill-rule=\"evenodd\" fill-opacity=\"1\"/>\n",
       "<polyline clip-path=\"url(#clip902)\" style=\"stroke:#000000; stroke-linecap:round; stroke-linejoin:round; stroke-width:4; stroke-opacity:1; fill:none\" points=\"11755.3,1423.18 11755.3,1423.18 11800.3,1423.18 11755.3,1423.18 \"/>\n",
       "<path clip-path=\"url(#clip902)\" d=\"M11800.3 1423.18 L11800.3 1423.18 L11845.3 1423.18 L11845.3 1423.18 L11800.3 1423.18 L11800.3 1423.18  Z\" fill=\"#009af9\" fill-rule=\"evenodd\" fill-opacity=\"1\"/>\n",
       "<polyline clip-path=\"url(#clip902)\" style=\"stroke:#000000; stroke-linecap:round; stroke-linejoin:round; stroke-width:4; stroke-opacity:1; fill:none\" points=\"11800.3,1423.18 11800.3,1423.18 11845.3,1423.18 11800.3,1423.18 \"/>\n",
       "<path clip-path=\"url(#clip902)\" d=\"M11845.3 1423.18 L11845.3 1423.18 L11890.4 1423.18 L11890.4 1423.18 L11845.3 1423.18 L11845.3 1423.18  Z\" fill=\"#009af9\" fill-rule=\"evenodd\" fill-opacity=\"1\"/>\n",
       "<polyline clip-path=\"url(#clip902)\" style=\"stroke:#000000; stroke-linecap:round; stroke-linejoin:round; stroke-width:4; stroke-opacity:1; fill:none\" points=\"11845.3,1423.18 11845.3,1423.18 11890.4,1423.18 11845.3,1423.18 \"/>\n",
       "<path clip-path=\"url(#clip902)\" d=\"M11890.4 1423.18 L11890.4 1423.18 L11935.4 1423.18 L11935.4 1423.18 L11890.4 1423.18 L11890.4 1423.18  Z\" fill=\"#009af9\" fill-rule=\"evenodd\" fill-opacity=\"1\"/>\n",
       "<polyline clip-path=\"url(#clip902)\" style=\"stroke:#000000; stroke-linecap:round; stroke-linejoin:round; stroke-width:4; stroke-opacity:1; fill:none\" points=\"11890.4,1423.18 11890.4,1423.18 11935.4,1423.18 11890.4,1423.18 \"/>\n",
       "<path clip-path=\"url(#clip902)\" d=\"M11935.4 1423.18 L11935.4 1423.18 L11980.5 1423.18 L11980.5 1423.18 L11935.4 1423.18 L11935.4 1423.18  Z\" fill=\"#009af9\" fill-rule=\"evenodd\" fill-opacity=\"1\"/>\n",
       "<polyline clip-path=\"url(#clip902)\" style=\"stroke:#000000; stroke-linecap:round; stroke-linejoin:round; stroke-width:4; stroke-opacity:1; fill:none\" points=\"11935.4,1423.18 11935.4,1423.18 11980.5,1423.18 11935.4,1423.18 \"/>\n",
       "<path clip-path=\"url(#clip902)\" d=\"M11980.5 1423.18 L11980.5 1423.18 L12025.5 1423.18 L12025.5 1423.18 L11980.5 1423.18 L11980.5 1423.18  Z\" fill=\"#009af9\" fill-rule=\"evenodd\" fill-opacity=\"1\"/>\n",
       "<polyline clip-path=\"url(#clip902)\" style=\"stroke:#000000; stroke-linecap:round; stroke-linejoin:round; stroke-width:4; stroke-opacity:1; fill:none\" points=\"11980.5,1423.18 11980.5,1423.18 12025.5,1423.18 11980.5,1423.18 \"/>\n",
       "<path clip-path=\"url(#clip902)\" d=\"M12025.5 1423.18 L12025.5 1423.18 L12070.5 1423.18 L12070.5 1423.18 L12025.5 1423.18 L12025.5 1423.18  Z\" fill=\"#009af9\" fill-rule=\"evenodd\" fill-opacity=\"1\"/>\n",
       "<polyline clip-path=\"url(#clip902)\" style=\"stroke:#000000; stroke-linecap:round; stroke-linejoin:round; stroke-width:4; stroke-opacity:1; fill:none\" points=\"12025.5,1423.18 12025.5,1423.18 12070.5,1423.18 12025.5,1423.18 \"/>\n",
       "<path clip-path=\"url(#clip902)\" d=\"M12070.5 1395.66 L12070.5 1423.18 L12115.6 1423.18 L12115.6 1395.66 L12070.5 1395.66 L12070.5 1395.66  Z\" fill=\"#009af9\" fill-rule=\"evenodd\" fill-opacity=\"1\"/>\n",
       "<polyline clip-path=\"url(#clip902)\" style=\"stroke:#000000; stroke-linecap:round; stroke-linejoin:round; stroke-width:4; stroke-opacity:1; fill:none\" points=\"12070.5,1395.66 12070.5,1423.18 12115.6,1423.18 12115.6,1395.66 12070.5,1395.66 \"/>\n",
       "<path clip-path=\"url(#clip902)\" d=\"M12115.6 1423.18 L12115.6 1423.18 L12160.6 1423.18 L12160.6 1423.18 L12115.6 1423.18 L12115.6 1423.18  Z\" fill=\"#009af9\" fill-rule=\"evenodd\" fill-opacity=\"1\"/>\n",
       "<polyline clip-path=\"url(#clip902)\" style=\"stroke:#000000; stroke-linecap:round; stroke-linejoin:round; stroke-width:4; stroke-opacity:1; fill:none\" points=\"12115.6,1423.18 12115.6,1423.18 12160.6,1423.18 12115.6,1423.18 \"/>\n",
       "<path clip-path=\"url(#clip902)\" d=\"M12160.6 1423.18 L12160.6 1423.18 L12205.6 1423.18 L12205.6 1423.18 L12160.6 1423.18 L12160.6 1423.18  Z\" fill=\"#009af9\" fill-rule=\"evenodd\" fill-opacity=\"1\"/>\n",
       "<polyline clip-path=\"url(#clip902)\" style=\"stroke:#000000; stroke-linecap:round; stroke-linejoin:round; stroke-width:4; stroke-opacity:1; fill:none\" points=\"12160.6,1423.18 12160.6,1423.18 12205.6,1423.18 12160.6,1423.18 \"/>\n",
       "<path clip-path=\"url(#clip902)\" d=\"M12205.6 1423.18 L12205.6 1423.18 L12250.7 1423.18 L12250.7 1423.18 L12205.6 1423.18 L12205.6 1423.18  Z\" fill=\"#009af9\" fill-rule=\"evenodd\" fill-opacity=\"1\"/>\n",
       "<polyline clip-path=\"url(#clip902)\" style=\"stroke:#000000; stroke-linecap:round; stroke-linejoin:round; stroke-width:4; stroke-opacity:1; fill:none\" points=\"12205.6,1423.18 12205.6,1423.18 12250.7,1423.18 12205.6,1423.18 \"/>\n",
       "<path clip-path=\"url(#clip902)\" d=\"M12250.7 1395.66 L12250.7 1423.18 L12295.7 1423.18 L12295.7 1395.66 L12250.7 1395.66 L12250.7 1395.66  Z\" fill=\"#009af9\" fill-rule=\"evenodd\" fill-opacity=\"1\"/>\n",
       "<polyline clip-path=\"url(#clip902)\" style=\"stroke:#000000; stroke-linecap:round; stroke-linejoin:round; stroke-width:4; stroke-opacity:1; fill:none\" points=\"12250.7,1395.66 12250.7,1423.18 12295.7,1423.18 12295.7,1395.66 12250.7,1395.66 \"/>\n",
       "<path clip-path=\"url(#clip902)\" d=\"M12295.7 1423.18 L12295.7 1423.18 L12340.8 1423.18 L12340.8 1423.18 L12295.7 1423.18 L12295.7 1423.18  Z\" fill=\"#009af9\" fill-rule=\"evenodd\" fill-opacity=\"1\"/>\n",
       "<polyline clip-path=\"url(#clip902)\" style=\"stroke:#000000; stroke-linecap:round; stroke-linejoin:round; stroke-width:4; stroke-opacity:1; fill:none\" points=\"12295.7,1423.18 12295.7,1423.18 12340.8,1423.18 12295.7,1423.18 \"/>\n",
       "<path clip-path=\"url(#clip902)\" d=\"M12340.8 1423.18 L12340.8 1423.18 L12385.8 1423.18 L12385.8 1423.18 L12340.8 1423.18 L12340.8 1423.18  Z\" fill=\"#009af9\" fill-rule=\"evenodd\" fill-opacity=\"1\"/>\n",
       "<polyline clip-path=\"url(#clip902)\" style=\"stroke:#000000; stroke-linecap:round; stroke-linejoin:round; stroke-width:4; stroke-opacity:1; fill:none\" points=\"12340.8,1423.18 12340.8,1423.18 12385.8,1423.18 12340.8,1423.18 \"/>\n",
       "<path clip-path=\"url(#clip902)\" d=\"M12385.8 1423.18 L12385.8 1423.18 L12430.8 1423.18 L12430.8 1423.18 L12385.8 1423.18 L12385.8 1423.18  Z\" fill=\"#009af9\" fill-rule=\"evenodd\" fill-opacity=\"1\"/>\n",
       "<polyline clip-path=\"url(#clip902)\" style=\"stroke:#000000; stroke-linecap:round; stroke-linejoin:round; stroke-width:4; stroke-opacity:1; fill:none\" points=\"12385.8,1423.18 12385.8,1423.18 12430.8,1423.18 12385.8,1423.18 \"/>\n",
       "<path clip-path=\"url(#clip902)\" d=\"M12430.8 1423.18 L12430.8 1423.18 L12475.9 1423.18 L12475.9 1423.18 L12430.8 1423.18 L12430.8 1423.18  Z\" fill=\"#009af9\" fill-rule=\"evenodd\" fill-opacity=\"1\"/>\n",
       "<polyline clip-path=\"url(#clip902)\" style=\"stroke:#000000; stroke-linecap:round; stroke-linejoin:round; stroke-width:4; stroke-opacity:1; fill:none\" points=\"12430.8,1423.18 12430.8,1423.18 12475.9,1423.18 12430.8,1423.18 \"/>\n",
       "<path clip-path=\"url(#clip902)\" d=\"M12475.9 1423.18 L12475.9 1423.18 L12520.9 1423.18 L12520.9 1423.18 L12475.9 1423.18 L12475.9 1423.18  Z\" fill=\"#009af9\" fill-rule=\"evenodd\" fill-opacity=\"1\"/>\n",
       "<polyline clip-path=\"url(#clip902)\" style=\"stroke:#000000; stroke-linecap:round; stroke-linejoin:round; stroke-width:4; stroke-opacity:1; fill:none\" points=\"12475.9,1423.18 12475.9,1423.18 12520.9,1423.18 12475.9,1423.18 \"/>\n",
       "<path clip-path=\"url(#clip902)\" d=\"M12520.9 1423.18 L12520.9 1423.18 L12565.9 1423.18 L12565.9 1423.18 L12520.9 1423.18 L12520.9 1423.18  Z\" fill=\"#009af9\" fill-rule=\"evenodd\" fill-opacity=\"1\"/>\n",
       "<polyline clip-path=\"url(#clip902)\" style=\"stroke:#000000; stroke-linecap:round; stroke-linejoin:round; stroke-width:4; stroke-opacity:1; fill:none\" points=\"12520.9,1423.18 12520.9,1423.18 12565.9,1423.18 12520.9,1423.18 \"/>\n",
       "<path clip-path=\"url(#clip902)\" d=\"M12565.9 1423.18 L12565.9 1423.18 L12611 1423.18 L12611 1423.18 L12565.9 1423.18 L12565.9 1423.18  Z\" fill=\"#009af9\" fill-rule=\"evenodd\" fill-opacity=\"1\"/>\n",
       "<polyline clip-path=\"url(#clip902)\" style=\"stroke:#000000; stroke-linecap:round; stroke-linejoin:round; stroke-width:4; stroke-opacity:1; fill:none\" points=\"12565.9,1423.18 12565.9,1423.18 12611,1423.18 12565.9,1423.18 \"/>\n",
       "<path clip-path=\"url(#clip902)\" d=\"M12611 1423.18 L12611 1423.18 L12656 1423.18 L12656 1423.18 L12611 1423.18 L12611 1423.18  Z\" fill=\"#009af9\" fill-rule=\"evenodd\" fill-opacity=\"1\"/>\n",
       "<polyline clip-path=\"url(#clip902)\" style=\"stroke:#000000; stroke-linecap:round; stroke-linejoin:round; stroke-width:4; stroke-opacity:1; fill:none\" points=\"12611,1423.18 12611,1423.18 12656,1423.18 12611,1423.18 \"/>\n",
       "<path clip-path=\"url(#clip902)\" d=\"M12656 1423.18 L12656 1423.18 L12701.1 1423.18 L12701.1 1423.18 L12656 1423.18 L12656 1423.18  Z\" fill=\"#009af9\" fill-rule=\"evenodd\" fill-opacity=\"1\"/>\n",
       "<polyline clip-path=\"url(#clip902)\" style=\"stroke:#000000; stroke-linecap:round; stroke-linejoin:round; stroke-width:4; stroke-opacity:1; fill:none\" points=\"12656,1423.18 12656,1423.18 12701.1,1423.18 12656,1423.18 \"/>\n",
       "<path clip-path=\"url(#clip902)\" d=\"M12701.1 1423.18 L12701.1 1423.18 L12746.1 1423.18 L12746.1 1423.18 L12701.1 1423.18 L12701.1 1423.18  Z\" fill=\"#009af9\" fill-rule=\"evenodd\" fill-opacity=\"1\"/>\n",
       "<polyline clip-path=\"url(#clip902)\" style=\"stroke:#000000; stroke-linecap:round; stroke-linejoin:round; stroke-width:4; stroke-opacity:1; fill:none\" points=\"12701.1,1423.18 12701.1,1423.18 12746.1,1423.18 12701.1,1423.18 \"/>\n",
       "<path clip-path=\"url(#clip902)\" d=\"M12746.1 1423.18 L12746.1 1423.18 L12791.1 1423.18 L12791.1 1423.18 L12746.1 1423.18 L12746.1 1423.18  Z\" fill=\"#009af9\" fill-rule=\"evenodd\" fill-opacity=\"1\"/>\n",
       "<polyline clip-path=\"url(#clip902)\" style=\"stroke:#000000; stroke-linecap:round; stroke-linejoin:round; stroke-width:4; stroke-opacity:1; fill:none\" points=\"12746.1,1423.18 12746.1,1423.18 12791.1,1423.18 12746.1,1423.18 \"/>\n",
       "<path clip-path=\"url(#clip902)\" d=\"M12791.1 1423.18 L12791.1 1423.18 L12836.2 1423.18 L12836.2 1423.18 L12791.1 1423.18 L12791.1 1423.18  Z\" fill=\"#009af9\" fill-rule=\"evenodd\" fill-opacity=\"1\"/>\n",
       "<polyline clip-path=\"url(#clip902)\" style=\"stroke:#000000; stroke-linecap:round; stroke-linejoin:round; stroke-width:4; stroke-opacity:1; fill:none\" points=\"12791.1,1423.18 12791.1,1423.18 12836.2,1423.18 12791.1,1423.18 \"/>\n",
       "<path clip-path=\"url(#clip902)\" d=\"M12836.2 1423.18 L12836.2 1423.18 L12881.2 1423.18 L12881.2 1423.18 L12836.2 1423.18 L12836.2 1423.18  Z\" fill=\"#009af9\" fill-rule=\"evenodd\" fill-opacity=\"1\"/>\n",
       "<polyline clip-path=\"url(#clip902)\" style=\"stroke:#000000; stroke-linecap:round; stroke-linejoin:round; stroke-width:4; stroke-opacity:1; fill:none\" points=\"12836.2,1423.18 12836.2,1423.18 12881.2,1423.18 12836.2,1423.18 \"/>\n",
       "<path clip-path=\"url(#clip902)\" d=\"M12881.2 1423.18 L12881.2 1423.18 L12926.2 1423.18 L12926.2 1423.18 L12881.2 1423.18 L12881.2 1423.18  Z\" fill=\"#009af9\" fill-rule=\"evenodd\" fill-opacity=\"1\"/>\n",
       "<polyline clip-path=\"url(#clip902)\" style=\"stroke:#000000; stroke-linecap:round; stroke-linejoin:round; stroke-width:4; stroke-opacity:1; fill:none\" points=\"12881.2,1423.18 12881.2,1423.18 12926.2,1423.18 12881.2,1423.18 \"/>\n",
       "<path clip-path=\"url(#clip902)\" d=\"M12926.2 1423.18 L12926.2 1423.18 L12971.3 1423.18 L12971.3 1423.18 L12926.2 1423.18 L12926.2 1423.18  Z\" fill=\"#009af9\" fill-rule=\"evenodd\" fill-opacity=\"1\"/>\n",
       "<polyline clip-path=\"url(#clip902)\" style=\"stroke:#000000; stroke-linecap:round; stroke-linejoin:round; stroke-width:4; stroke-opacity:1; fill:none\" points=\"12926.2,1423.18 12926.2,1423.18 12971.3,1423.18 12926.2,1423.18 \"/>\n",
       "<path clip-path=\"url(#clip902)\" d=\"M12971.3 1395.66 L12971.3 1423.18 L13016.3 1423.18 L13016.3 1395.66 L12971.3 1395.66 L12971.3 1395.66  Z\" fill=\"#009af9\" fill-rule=\"evenodd\" fill-opacity=\"1\"/>\n",
       "<polyline clip-path=\"url(#clip902)\" style=\"stroke:#000000; stroke-linecap:round; stroke-linejoin:round; stroke-width:4; stroke-opacity:1; fill:none\" points=\"12971.3,1395.66 12971.3,1423.18 13016.3,1423.18 13016.3,1395.66 12971.3,1395.66 \"/>\n",
       "<path clip-path=\"url(#clip902)\" d=\"M13016.3 1423.18 L13016.3 1423.18 L13061.4 1423.18 L13061.4 1423.18 L13016.3 1423.18 L13016.3 1423.18  Z\" fill=\"#009af9\" fill-rule=\"evenodd\" fill-opacity=\"1\"/>\n",
       "<polyline clip-path=\"url(#clip902)\" style=\"stroke:#000000; stroke-linecap:round; stroke-linejoin:round; stroke-width:4; stroke-opacity:1; fill:none\" points=\"13016.3,1423.18 13016.3,1423.18 13061.4,1423.18 13016.3,1423.18 \"/>\n",
       "<path clip-path=\"url(#clip902)\" d=\"M13061.4 1423.18 L13061.4 1423.18 L13106.4 1423.18 L13106.4 1423.18 L13061.4 1423.18 L13061.4 1423.18  Z\" fill=\"#009af9\" fill-rule=\"evenodd\" fill-opacity=\"1\"/>\n",
       "<polyline clip-path=\"url(#clip902)\" style=\"stroke:#000000; stroke-linecap:round; stroke-linejoin:round; stroke-width:4; stroke-opacity:1; fill:none\" points=\"13061.4,1423.18 13061.4,1423.18 13106.4,1423.18 13061.4,1423.18 \"/>\n",
       "<path clip-path=\"url(#clip902)\" d=\"M13106.4 1423.18 L13106.4 1423.18 L13151.4 1423.18 L13151.4 1423.18 L13106.4 1423.18 L13106.4 1423.18  Z\" fill=\"#009af9\" fill-rule=\"evenodd\" fill-opacity=\"1\"/>\n",
       "<polyline clip-path=\"url(#clip902)\" style=\"stroke:#000000; stroke-linecap:round; stroke-linejoin:round; stroke-width:4; stroke-opacity:1; fill:none\" points=\"13106.4,1423.18 13106.4,1423.18 13151.4,1423.18 13106.4,1423.18 \"/>\n",
       "<path clip-path=\"url(#clip902)\" d=\"M13151.4 1423.18 L13151.4 1423.18 L13196.5 1423.18 L13196.5 1423.18 L13151.4 1423.18 L13151.4 1423.18  Z\" fill=\"#009af9\" fill-rule=\"evenodd\" fill-opacity=\"1\"/>\n",
       "<polyline clip-path=\"url(#clip902)\" style=\"stroke:#000000; stroke-linecap:round; stroke-linejoin:round; stroke-width:4; stroke-opacity:1; fill:none\" points=\"13151.4,1423.18 13151.4,1423.18 13196.5,1423.18 13151.4,1423.18 \"/>\n",
       "<path clip-path=\"url(#clip902)\" d=\"M13196.5 1423.18 L13196.5 1423.18 L13241.5 1423.18 L13241.5 1423.18 L13196.5 1423.18 L13196.5 1423.18  Z\" fill=\"#009af9\" fill-rule=\"evenodd\" fill-opacity=\"1\"/>\n",
       "<polyline clip-path=\"url(#clip902)\" style=\"stroke:#000000; stroke-linecap:round; stroke-linejoin:round; stroke-width:4; stroke-opacity:1; fill:none\" points=\"13196.5,1423.18 13196.5,1423.18 13241.5,1423.18 13196.5,1423.18 \"/>\n",
       "<path clip-path=\"url(#clip902)\" d=\"M13241.5 1423.18 L13241.5 1423.18 L13286.5 1423.18 L13286.5 1423.18 L13241.5 1423.18 L13241.5 1423.18  Z\" fill=\"#009af9\" fill-rule=\"evenodd\" fill-opacity=\"1\"/>\n",
       "<polyline clip-path=\"url(#clip902)\" style=\"stroke:#000000; stroke-linecap:round; stroke-linejoin:round; stroke-width:4; stroke-opacity:1; fill:none\" points=\"13241.5,1423.18 13241.5,1423.18 13286.5,1423.18 13241.5,1423.18 \"/>\n",
       "<path clip-path=\"url(#clip902)\" d=\"M13286.5 1423.18 L13286.5 1423.18 L13331.6 1423.18 L13331.6 1423.18 L13286.5 1423.18 L13286.5 1423.18  Z\" fill=\"#009af9\" fill-rule=\"evenodd\" fill-opacity=\"1\"/>\n",
       "<polyline clip-path=\"url(#clip902)\" style=\"stroke:#000000; stroke-linecap:round; stroke-linejoin:round; stroke-width:4; stroke-opacity:1; fill:none\" points=\"13286.5,1423.18 13286.5,1423.18 13331.6,1423.18 13286.5,1423.18 \"/>\n",
       "<path clip-path=\"url(#clip902)\" d=\"M13331.6 1423.18 L13331.6 1423.18 L13376.6 1423.18 L13376.6 1423.18 L13331.6 1423.18 L13331.6 1423.18  Z\" fill=\"#009af9\" fill-rule=\"evenodd\" fill-opacity=\"1\"/>\n",
       "<polyline clip-path=\"url(#clip902)\" style=\"stroke:#000000; stroke-linecap:round; stroke-linejoin:round; stroke-width:4; stroke-opacity:1; fill:none\" points=\"13331.6,1423.18 13331.6,1423.18 13376.6,1423.18 13331.6,1423.18 \"/>\n",
       "<path clip-path=\"url(#clip902)\" d=\"M13376.6 1423.18 L13376.6 1423.18 L13421.7 1423.18 L13421.7 1423.18 L13376.6 1423.18 L13376.6 1423.18  Z\" fill=\"#009af9\" fill-rule=\"evenodd\" fill-opacity=\"1\"/>\n",
       "<polyline clip-path=\"url(#clip902)\" style=\"stroke:#000000; stroke-linecap:round; stroke-linejoin:round; stroke-width:4; stroke-opacity:1; fill:none\" points=\"13376.6,1423.18 13376.6,1423.18 13421.7,1423.18 13376.6,1423.18 \"/>\n",
       "<path clip-path=\"url(#clip902)\" d=\"M13421.7 1423.18 L13421.7 1423.18 L13466.7 1423.18 L13466.7 1423.18 L13421.7 1423.18 L13421.7 1423.18  Z\" fill=\"#009af9\" fill-rule=\"evenodd\" fill-opacity=\"1\"/>\n",
       "<polyline clip-path=\"url(#clip902)\" style=\"stroke:#000000; stroke-linecap:round; stroke-linejoin:round; stroke-width:4; stroke-opacity:1; fill:none\" points=\"13421.7,1423.18 13421.7,1423.18 13466.7,1423.18 13421.7,1423.18 \"/>\n",
       "<path clip-path=\"url(#clip902)\" d=\"M13466.7 1423.18 L13466.7 1423.18 L13511.7 1423.18 L13511.7 1423.18 L13466.7 1423.18 L13466.7 1423.18  Z\" fill=\"#009af9\" fill-rule=\"evenodd\" fill-opacity=\"1\"/>\n",
       "<polyline clip-path=\"url(#clip902)\" style=\"stroke:#000000; stroke-linecap:round; stroke-linejoin:round; stroke-width:4; stroke-opacity:1; fill:none\" points=\"13466.7,1423.18 13466.7,1423.18 13511.7,1423.18 13466.7,1423.18 \"/>\n",
       "<path clip-path=\"url(#clip902)\" d=\"M13511.7 1423.18 L13511.7 1423.18 L13556.8 1423.18 L13556.8 1423.18 L13511.7 1423.18 L13511.7 1423.18  Z\" fill=\"#009af9\" fill-rule=\"evenodd\" fill-opacity=\"1\"/>\n",
       "<polyline clip-path=\"url(#clip902)\" style=\"stroke:#000000; stroke-linecap:round; stroke-linejoin:round; stroke-width:4; stroke-opacity:1; fill:none\" points=\"13511.7,1423.18 13511.7,1423.18 13556.8,1423.18 13511.7,1423.18 \"/>\n",
       "<path clip-path=\"url(#clip902)\" d=\"M13556.8 1423.18 L13556.8 1423.18 L13601.8 1423.18 L13601.8 1423.18 L13556.8 1423.18 L13556.8 1423.18  Z\" fill=\"#009af9\" fill-rule=\"evenodd\" fill-opacity=\"1\"/>\n",
       "<polyline clip-path=\"url(#clip902)\" style=\"stroke:#000000; stroke-linecap:round; stroke-linejoin:round; stroke-width:4; stroke-opacity:1; fill:none\" points=\"13556.8,1423.18 13556.8,1423.18 13601.8,1423.18 13556.8,1423.18 \"/>\n",
       "<path clip-path=\"url(#clip902)\" d=\"M13601.8 1423.18 L13601.8 1423.18 L13646.8 1423.18 L13646.8 1423.18 L13601.8 1423.18 L13601.8 1423.18  Z\" fill=\"#009af9\" fill-rule=\"evenodd\" fill-opacity=\"1\"/>\n",
       "<polyline clip-path=\"url(#clip902)\" style=\"stroke:#000000; stroke-linecap:round; stroke-linejoin:round; stroke-width:4; stroke-opacity:1; fill:none\" points=\"13601.8,1423.18 13601.8,1423.18 13646.8,1423.18 13601.8,1423.18 \"/>\n",
       "<path clip-path=\"url(#clip902)\" d=\"M13646.8 1423.18 L13646.8 1423.18 L13691.9 1423.18 L13691.9 1423.18 L13646.8 1423.18 L13646.8 1423.18  Z\" fill=\"#009af9\" fill-rule=\"evenodd\" fill-opacity=\"1\"/>\n",
       "<polyline clip-path=\"url(#clip902)\" style=\"stroke:#000000; stroke-linecap:round; stroke-linejoin:round; stroke-width:4; stroke-opacity:1; fill:none\" points=\"13646.8,1423.18 13646.8,1423.18 13691.9,1423.18 13646.8,1423.18 \"/>\n",
       "<path clip-path=\"url(#clip902)\" d=\"M13691.9 1423.18 L13691.9 1423.18 L13736.9 1423.18 L13736.9 1423.18 L13691.9 1423.18 L13691.9 1423.18  Z\" fill=\"#009af9\" fill-rule=\"evenodd\" fill-opacity=\"1\"/>\n",
       "<polyline clip-path=\"url(#clip902)\" style=\"stroke:#000000; stroke-linecap:round; stroke-linejoin:round; stroke-width:4; stroke-opacity:1; fill:none\" points=\"13691.9,1423.18 13691.9,1423.18 13736.9,1423.18 13691.9,1423.18 \"/>\n",
       "<path clip-path=\"url(#clip902)\" d=\"M13736.9 1423.18 L13736.9 1423.18 L13781.9 1423.18 L13781.9 1423.18 L13736.9 1423.18 L13736.9 1423.18  Z\" fill=\"#009af9\" fill-rule=\"evenodd\" fill-opacity=\"1\"/>\n",
       "<polyline clip-path=\"url(#clip902)\" style=\"stroke:#000000; stroke-linecap:round; stroke-linejoin:round; stroke-width:4; stroke-opacity:1; fill:none\" points=\"13736.9,1423.18 13736.9,1423.18 13781.9,1423.18 13736.9,1423.18 \"/>\n",
       "<path clip-path=\"url(#clip902)\" d=\"M13781.9 1423.18 L13781.9 1423.18 L13827 1423.18 L13827 1423.18 L13781.9 1423.18 L13781.9 1423.18  Z\" fill=\"#009af9\" fill-rule=\"evenodd\" fill-opacity=\"1\"/>\n",
       "<polyline clip-path=\"url(#clip902)\" style=\"stroke:#000000; stroke-linecap:round; stroke-linejoin:round; stroke-width:4; stroke-opacity:1; fill:none\" points=\"13781.9,1423.18 13781.9,1423.18 13827,1423.18 13781.9,1423.18 \"/>\n",
       "<path clip-path=\"url(#clip902)\" d=\"M13827 1423.18 L13827 1423.18 L13872 1423.18 L13872 1423.18 L13827 1423.18 L13827 1423.18  Z\" fill=\"#009af9\" fill-rule=\"evenodd\" fill-opacity=\"1\"/>\n",
       "<polyline clip-path=\"url(#clip902)\" style=\"stroke:#000000; stroke-linecap:round; stroke-linejoin:round; stroke-width:4; stroke-opacity:1; fill:none\" points=\"13827,1423.18 13827,1423.18 13872,1423.18 13827,1423.18 \"/>\n",
       "<path clip-path=\"url(#clip902)\" d=\"M13872 1423.18 L13872 1423.18 L13917.1 1423.18 L13917.1 1423.18 L13872 1423.18 L13872 1423.18  Z\" fill=\"#009af9\" fill-rule=\"evenodd\" fill-opacity=\"1\"/>\n",
       "<polyline clip-path=\"url(#clip902)\" style=\"stroke:#000000; stroke-linecap:round; stroke-linejoin:round; stroke-width:4; stroke-opacity:1; fill:none\" points=\"13872,1423.18 13872,1423.18 13917.1,1423.18 13872,1423.18 \"/>\n",
       "<path clip-path=\"url(#clip902)\" d=\"M13917.1 1423.18 L13917.1 1423.18 L13962.1 1423.18 L13962.1 1423.18 L13917.1 1423.18 L13917.1 1423.18  Z\" fill=\"#009af9\" fill-rule=\"evenodd\" fill-opacity=\"1\"/>\n",
       "<polyline clip-path=\"url(#clip902)\" style=\"stroke:#000000; stroke-linecap:round; stroke-linejoin:round; stroke-width:4; stroke-opacity:1; fill:none\" points=\"13917.1,1423.18 13917.1,1423.18 13962.1,1423.18 13917.1,1423.18 \"/>\n",
       "<path clip-path=\"url(#clip902)\" d=\"M13962.1 1423.18 L13962.1 1423.18 L14007.1 1423.18 L14007.1 1423.18 L13962.1 1423.18 L13962.1 1423.18  Z\" fill=\"#009af9\" fill-rule=\"evenodd\" fill-opacity=\"1\"/>\n",
       "<polyline clip-path=\"url(#clip902)\" style=\"stroke:#000000; stroke-linecap:round; stroke-linejoin:round; stroke-width:4; stroke-opacity:1; fill:none\" points=\"13962.1,1423.18 13962.1,1423.18 14007.1,1423.18 13962.1,1423.18 \"/>\n",
       "<path clip-path=\"url(#clip902)\" d=\"M14007.1 1423.18 L14007.1 1423.18 L14052.2 1423.18 L14052.2 1423.18 L14007.1 1423.18 L14007.1 1423.18  Z\" fill=\"#009af9\" fill-rule=\"evenodd\" fill-opacity=\"1\"/>\n",
       "<polyline clip-path=\"url(#clip902)\" style=\"stroke:#000000; stroke-linecap:round; stroke-linejoin:round; stroke-width:4; stroke-opacity:1; fill:none\" points=\"14007.1,1423.18 14007.1,1423.18 14052.2,1423.18 14007.1,1423.18 \"/>\n",
       "<path clip-path=\"url(#clip902)\" d=\"M14052.2 1423.18 L14052.2 1423.18 L14097.2 1423.18 L14097.2 1423.18 L14052.2 1423.18 L14052.2 1423.18  Z\" fill=\"#009af9\" fill-rule=\"evenodd\" fill-opacity=\"1\"/>\n",
       "<polyline clip-path=\"url(#clip902)\" style=\"stroke:#000000; stroke-linecap:round; stroke-linejoin:round; stroke-width:4; stroke-opacity:1; fill:none\" points=\"14052.2,1423.18 14052.2,1423.18 14097.2,1423.18 14052.2,1423.18 \"/>\n",
       "<path clip-path=\"url(#clip902)\" d=\"M14097.2 1423.18 L14097.2 1423.18 L14142.2 1423.18 L14142.2 1423.18 L14097.2 1423.18 L14097.2 1423.18  Z\" fill=\"#009af9\" fill-rule=\"evenodd\" fill-opacity=\"1\"/>\n",
       "<polyline clip-path=\"url(#clip902)\" style=\"stroke:#000000; stroke-linecap:round; stroke-linejoin:round; stroke-width:4; stroke-opacity:1; fill:none\" points=\"14097.2,1423.18 14097.2,1423.18 14142.2,1423.18 14097.2,1423.18 \"/>\n",
       "<path clip-path=\"url(#clip902)\" d=\"M14142.2 1423.18 L14142.2 1423.18 L14187.3 1423.18 L14187.3 1423.18 L14142.2 1423.18 L14142.2 1423.18  Z\" fill=\"#009af9\" fill-rule=\"evenodd\" fill-opacity=\"1\"/>\n",
       "<polyline clip-path=\"url(#clip902)\" style=\"stroke:#000000; stroke-linecap:round; stroke-linejoin:round; stroke-width:4; stroke-opacity:1; fill:none\" points=\"14142.2,1423.18 14142.2,1423.18 14187.3,1423.18 14142.2,1423.18 \"/>\n",
       "<path clip-path=\"url(#clip902)\" d=\"M14187.3 1423.18 L14187.3 1423.18 L14232.3 1423.18 L14232.3 1423.18 L14187.3 1423.18 L14187.3 1423.18  Z\" fill=\"#009af9\" fill-rule=\"evenodd\" fill-opacity=\"1\"/>\n",
       "<polyline clip-path=\"url(#clip902)\" style=\"stroke:#000000; stroke-linecap:round; stroke-linejoin:round; stroke-width:4; stroke-opacity:1; fill:none\" points=\"14187.3,1423.18 14187.3,1423.18 14232.3,1423.18 14187.3,1423.18 \"/>\n",
       "<path clip-path=\"url(#clip902)\" d=\"M14232.3 1423.18 L14232.3 1423.18 L14277.4 1423.18 L14277.4 1423.18 L14232.3 1423.18 L14232.3 1423.18  Z\" fill=\"#009af9\" fill-rule=\"evenodd\" fill-opacity=\"1\"/>\n",
       "<polyline clip-path=\"url(#clip902)\" style=\"stroke:#000000; stroke-linecap:round; stroke-linejoin:round; stroke-width:4; stroke-opacity:1; fill:none\" points=\"14232.3,1423.18 14232.3,1423.18 14277.4,1423.18 14232.3,1423.18 \"/>\n",
       "<path clip-path=\"url(#clip902)\" d=\"M14277.4 1395.66 L14277.4 1423.18 L14322.4 1423.18 L14322.4 1395.66 L14277.4 1395.66 L14277.4 1395.66  Z\" fill=\"#009af9\" fill-rule=\"evenodd\" fill-opacity=\"1\"/>\n",
       "<polyline clip-path=\"url(#clip902)\" style=\"stroke:#000000; stroke-linecap:round; stroke-linejoin:round; stroke-width:4; stroke-opacity:1; fill:none\" points=\"14277.4,1395.66 14277.4,1423.18 14322.4,1423.18 14322.4,1395.66 14277.4,1395.66 \"/>\n",
       "<path clip-path=\"url(#clip902)\" d=\"M14322.4 1423.18 L14322.4 1423.18 L14367.4 1423.18 L14367.4 1423.18 L14322.4 1423.18 L14322.4 1423.18  Z\" fill=\"#009af9\" fill-rule=\"evenodd\" fill-opacity=\"1\"/>\n",
       "<polyline clip-path=\"url(#clip902)\" style=\"stroke:#000000; stroke-linecap:round; stroke-linejoin:round; stroke-width:4; stroke-opacity:1; fill:none\" points=\"14322.4,1423.18 14322.4,1423.18 14367.4,1423.18 14322.4,1423.18 \"/>\n",
       "<path clip-path=\"url(#clip902)\" d=\"M14367.4 1423.18 L14367.4 1423.18 L14412.5 1423.18 L14412.5 1423.18 L14367.4 1423.18 L14367.4 1423.18  Z\" fill=\"#009af9\" fill-rule=\"evenodd\" fill-opacity=\"1\"/>\n",
       "<polyline clip-path=\"url(#clip902)\" style=\"stroke:#000000; stroke-linecap:round; stroke-linejoin:round; stroke-width:4; stroke-opacity:1; fill:none\" points=\"14367.4,1423.18 14367.4,1423.18 14412.5,1423.18 14367.4,1423.18 \"/>\n",
       "<path clip-path=\"url(#clip902)\" d=\"M14412.5 1423.18 L14412.5 1423.18 L14457.5 1423.18 L14457.5 1423.18 L14412.5 1423.18 L14412.5 1423.18  Z\" fill=\"#009af9\" fill-rule=\"evenodd\" fill-opacity=\"1\"/>\n",
       "<polyline clip-path=\"url(#clip902)\" style=\"stroke:#000000; stroke-linecap:round; stroke-linejoin:round; stroke-width:4; stroke-opacity:1; fill:none\" points=\"14412.5,1423.18 14412.5,1423.18 14457.5,1423.18 14412.5,1423.18 \"/>\n",
       "<path clip-path=\"url(#clip902)\" d=\"M14457.5 1423.18 L14457.5 1423.18 L14502.5 1423.18 L14502.5 1423.18 L14457.5 1423.18 L14457.5 1423.18  Z\" fill=\"#009af9\" fill-rule=\"evenodd\" fill-opacity=\"1\"/>\n",
       "<polyline clip-path=\"url(#clip902)\" style=\"stroke:#000000; stroke-linecap:round; stroke-linejoin:round; stroke-width:4; stroke-opacity:1; fill:none\" points=\"14457.5,1423.18 14457.5,1423.18 14502.5,1423.18 14457.5,1423.18 \"/>\n",
       "<path clip-path=\"url(#clip902)\" d=\"M14502.5 1423.18 L14502.5 1423.18 L14547.6 1423.18 L14547.6 1423.18 L14502.5 1423.18 L14502.5 1423.18  Z\" fill=\"#009af9\" fill-rule=\"evenodd\" fill-opacity=\"1\"/>\n",
       "<polyline clip-path=\"url(#clip902)\" style=\"stroke:#000000; stroke-linecap:round; stroke-linejoin:round; stroke-width:4; stroke-opacity:1; fill:none\" points=\"14502.5,1423.18 14502.5,1423.18 14547.6,1423.18 14502.5,1423.18 \"/>\n",
       "<path clip-path=\"url(#clip902)\" d=\"M14547.6 1423.18 L14547.6 1423.18 L14592.6 1423.18 L14592.6 1423.18 L14547.6 1423.18 L14547.6 1423.18  Z\" fill=\"#009af9\" fill-rule=\"evenodd\" fill-opacity=\"1\"/>\n",
       "<polyline clip-path=\"url(#clip902)\" style=\"stroke:#000000; stroke-linecap:round; stroke-linejoin:round; stroke-width:4; stroke-opacity:1; fill:none\" points=\"14547.6,1423.18 14547.6,1423.18 14592.6,1423.18 14547.6,1423.18 \"/>\n",
       "<path clip-path=\"url(#clip902)\" d=\"M14592.6 1423.18 L14592.6 1423.18 L14637.7 1423.18 L14637.7 1423.18 L14592.6 1423.18 L14592.6 1423.18  Z\" fill=\"#009af9\" fill-rule=\"evenodd\" fill-opacity=\"1\"/>\n",
       "<polyline clip-path=\"url(#clip902)\" style=\"stroke:#000000; stroke-linecap:round; stroke-linejoin:round; stroke-width:4; stroke-opacity:1; fill:none\" points=\"14592.6,1423.18 14592.6,1423.18 14637.7,1423.18 14592.6,1423.18 \"/>\n",
       "<path clip-path=\"url(#clip902)\" d=\"M14637.7 1423.18 L14637.7 1423.18 L14682.7 1423.18 L14682.7 1423.18 L14637.7 1423.18 L14637.7 1423.18  Z\" fill=\"#009af9\" fill-rule=\"evenodd\" fill-opacity=\"1\"/>\n",
       "<polyline clip-path=\"url(#clip902)\" style=\"stroke:#000000; stroke-linecap:round; stroke-linejoin:round; stroke-width:4; stroke-opacity:1; fill:none\" points=\"14637.7,1423.18 14637.7,1423.18 14682.7,1423.18 14637.7,1423.18 \"/>\n",
       "<path clip-path=\"url(#clip902)\" d=\"M14682.7 1423.18 L14682.7 1423.18 L14727.7 1423.18 L14727.7 1423.18 L14682.7 1423.18 L14682.7 1423.18  Z\" fill=\"#009af9\" fill-rule=\"evenodd\" fill-opacity=\"1\"/>\n",
       "<polyline clip-path=\"url(#clip902)\" style=\"stroke:#000000; stroke-linecap:round; stroke-linejoin:round; stroke-width:4; stroke-opacity:1; fill:none\" points=\"14682.7,1423.18 14682.7,1423.18 14727.7,1423.18 14682.7,1423.18 \"/>\n",
       "<path clip-path=\"url(#clip902)\" d=\"M14727.7 1423.18 L14727.7 1423.18 L14772.8 1423.18 L14772.8 1423.18 L14727.7 1423.18 L14727.7 1423.18  Z\" fill=\"#009af9\" fill-rule=\"evenodd\" fill-opacity=\"1\"/>\n",
       "<polyline clip-path=\"url(#clip902)\" style=\"stroke:#000000; stroke-linecap:round; stroke-linejoin:round; stroke-width:4; stroke-opacity:1; fill:none\" points=\"14727.7,1423.18 14727.7,1423.18 14772.8,1423.18 14727.7,1423.18 \"/>\n",
       "<path clip-path=\"url(#clip902)\" d=\"M14772.8 1423.18 L14772.8 1423.18 L14817.8 1423.18 L14817.8 1423.18 L14772.8 1423.18 L14772.8 1423.18  Z\" fill=\"#009af9\" fill-rule=\"evenodd\" fill-opacity=\"1\"/>\n",
       "<polyline clip-path=\"url(#clip902)\" style=\"stroke:#000000; stroke-linecap:round; stroke-linejoin:round; stroke-width:4; stroke-opacity:1; fill:none\" points=\"14772.8,1423.18 14772.8,1423.18 14817.8,1423.18 14772.8,1423.18 \"/>\n",
       "<path clip-path=\"url(#clip902)\" d=\"M14817.8 1423.18 L14817.8 1423.18 L14862.8 1423.18 L14862.8 1423.18 L14817.8 1423.18 L14817.8 1423.18  Z\" fill=\"#009af9\" fill-rule=\"evenodd\" fill-opacity=\"1\"/>\n",
       "<polyline clip-path=\"url(#clip902)\" style=\"stroke:#000000; stroke-linecap:round; stroke-linejoin:round; stroke-width:4; stroke-opacity:1; fill:none\" points=\"14817.8,1423.18 14817.8,1423.18 14862.8,1423.18 14817.8,1423.18 \"/>\n",
       "<path clip-path=\"url(#clip902)\" d=\"M14862.8 1423.18 L14862.8 1423.18 L14907.9 1423.18 L14907.9 1423.18 L14862.8 1423.18 L14862.8 1423.18  Z\" fill=\"#009af9\" fill-rule=\"evenodd\" fill-opacity=\"1\"/>\n",
       "<polyline clip-path=\"url(#clip902)\" style=\"stroke:#000000; stroke-linecap:round; stroke-linejoin:round; stroke-width:4; stroke-opacity:1; fill:none\" points=\"14862.8,1423.18 14862.8,1423.18 14907.9,1423.18 14862.8,1423.18 \"/>\n",
       "<path clip-path=\"url(#clip902)\" d=\"M14907.9 1423.18 L14907.9 1423.18 L14952.9 1423.18 L14952.9 1423.18 L14907.9 1423.18 L14907.9 1423.18  Z\" fill=\"#009af9\" fill-rule=\"evenodd\" fill-opacity=\"1\"/>\n",
       "<polyline clip-path=\"url(#clip902)\" style=\"stroke:#000000; stroke-linecap:round; stroke-linejoin:round; stroke-width:4; stroke-opacity:1; fill:none\" points=\"14907.9,1423.18 14907.9,1423.18 14952.9,1423.18 14907.9,1423.18 \"/>\n",
       "<path clip-path=\"url(#clip902)\" d=\"M14952.9 1423.18 L14952.9 1423.18 L14998 1423.18 L14998 1423.18 L14952.9 1423.18 L14952.9 1423.18  Z\" fill=\"#009af9\" fill-rule=\"evenodd\" fill-opacity=\"1\"/>\n",
       "<polyline clip-path=\"url(#clip902)\" style=\"stroke:#000000; stroke-linecap:round; stroke-linejoin:round; stroke-width:4; stroke-opacity:1; fill:none\" points=\"14952.9,1423.18 14952.9,1423.18 14998,1423.18 14952.9,1423.18 \"/>\n",
       "<path clip-path=\"url(#clip902)\" d=\"M14998 1423.18 L14998 1423.18 L15043 1423.18 L15043 1423.18 L14998 1423.18 L14998 1423.18  Z\" fill=\"#009af9\" fill-rule=\"evenodd\" fill-opacity=\"1\"/>\n",
       "<polyline clip-path=\"url(#clip902)\" style=\"stroke:#000000; stroke-linecap:round; stroke-linejoin:round; stroke-width:4; stroke-opacity:1; fill:none\" points=\"14998,1423.18 14998,1423.18 15043,1423.18 14998,1423.18 \"/>\n",
       "<path clip-path=\"url(#clip902)\" d=\"M15043 1423.18 L15043 1423.18 L15088 1423.18 L15088 1423.18 L15043 1423.18 L15043 1423.18  Z\" fill=\"#009af9\" fill-rule=\"evenodd\" fill-opacity=\"1\"/>\n",
       "<polyline clip-path=\"url(#clip902)\" style=\"stroke:#000000; stroke-linecap:round; stroke-linejoin:round; stroke-width:4; stroke-opacity:1; fill:none\" points=\"15043,1423.18 15043,1423.18 15088,1423.18 15043,1423.18 \"/>\n",
       "<path clip-path=\"url(#clip902)\" d=\"M15088 1423.18 L15088 1423.18 L15133.1 1423.18 L15133.1 1423.18 L15088 1423.18 L15088 1423.18  Z\" fill=\"#009af9\" fill-rule=\"evenodd\" fill-opacity=\"1\"/>\n",
       "<polyline clip-path=\"url(#clip902)\" style=\"stroke:#000000; stroke-linecap:round; stroke-linejoin:round; stroke-width:4; stroke-opacity:1; fill:none\" points=\"15088,1423.18 15088,1423.18 15133.1,1423.18 15088,1423.18 \"/>\n",
       "<path clip-path=\"url(#clip902)\" d=\"M15133.1 1395.66 L15133.1 1423.18 L15178.1 1423.18 L15178.1 1395.66 L15133.1 1395.66 L15133.1 1395.66  Z\" fill=\"#009af9\" fill-rule=\"evenodd\" fill-opacity=\"1\"/>\n",
       "<polyline clip-path=\"url(#clip902)\" style=\"stroke:#000000; stroke-linecap:round; stroke-linejoin:round; stroke-width:4; stroke-opacity:1; fill:none\" points=\"15133.1,1395.66 15133.1,1423.18 15178.1,1423.18 15178.1,1395.66 15133.1,1395.66 \"/>\n",
       "<path clip-path=\"url(#clip902)\" d=\"M15178.1 1423.18 L15178.1 1423.18 L15223.1 1423.18 L15223.1 1423.18 L15178.1 1423.18 L15178.1 1423.18  Z\" fill=\"#009af9\" fill-rule=\"evenodd\" fill-opacity=\"1\"/>\n",
       "<polyline clip-path=\"url(#clip902)\" style=\"stroke:#000000; stroke-linecap:round; stroke-linejoin:round; stroke-width:4; stroke-opacity:1; fill:none\" points=\"15178.1,1423.18 15178.1,1423.18 15223.1,1423.18 15178.1,1423.18 \"/>\n",
       "<path clip-path=\"url(#clip902)\" d=\"M15223.1 1423.18 L15223.1 1423.18 L15268.2 1423.18 L15268.2 1423.18 L15223.1 1423.18 L15223.1 1423.18  Z\" fill=\"#009af9\" fill-rule=\"evenodd\" fill-opacity=\"1\"/>\n",
       "<polyline clip-path=\"url(#clip902)\" style=\"stroke:#000000; stroke-linecap:round; stroke-linejoin:round; stroke-width:4; stroke-opacity:1; fill:none\" points=\"15223.1,1423.18 15223.1,1423.18 15268.2,1423.18 15223.1,1423.18 \"/>\n",
       "<path clip-path=\"url(#clip902)\" d=\"M15268.2 1423.18 L15268.2 1423.18 L15313.2 1423.18 L15313.2 1423.18 L15268.2 1423.18 L15268.2 1423.18  Z\" fill=\"#009af9\" fill-rule=\"evenodd\" fill-opacity=\"1\"/>\n",
       "<polyline clip-path=\"url(#clip902)\" style=\"stroke:#000000; stroke-linecap:round; stroke-linejoin:round; stroke-width:4; stroke-opacity:1; fill:none\" points=\"15268.2,1423.18 15268.2,1423.18 15313.2,1423.18 15268.2,1423.18 \"/>\n",
       "<path clip-path=\"url(#clip902)\" d=\"M15313.2 1423.18 L15313.2 1423.18 L15358.3 1423.18 L15358.3 1423.18 L15313.2 1423.18 L15313.2 1423.18  Z\" fill=\"#009af9\" fill-rule=\"evenodd\" fill-opacity=\"1\"/>\n",
       "<polyline clip-path=\"url(#clip902)\" style=\"stroke:#000000; stroke-linecap:round; stroke-linejoin:round; stroke-width:4; stroke-opacity:1; fill:none\" points=\"15313.2,1423.18 15313.2,1423.18 15358.3,1423.18 15313.2,1423.18 \"/>\n",
       "<path clip-path=\"url(#clip902)\" d=\"M15358.3 1423.18 L15358.3 1423.18 L15403.3 1423.18 L15403.3 1423.18 L15358.3 1423.18 L15358.3 1423.18  Z\" fill=\"#009af9\" fill-rule=\"evenodd\" fill-opacity=\"1\"/>\n",
       "<polyline clip-path=\"url(#clip902)\" style=\"stroke:#000000; stroke-linecap:round; stroke-linejoin:round; stroke-width:4; stroke-opacity:1; fill:none\" points=\"15358.3,1423.18 15358.3,1423.18 15403.3,1423.18 15358.3,1423.18 \"/>\n",
       "<path clip-path=\"url(#clip902)\" d=\"M15403.3 1423.18 L15403.3 1423.18 L15448.3 1423.18 L15448.3 1423.18 L15403.3 1423.18 L15403.3 1423.18  Z\" fill=\"#009af9\" fill-rule=\"evenodd\" fill-opacity=\"1\"/>\n",
       "<polyline clip-path=\"url(#clip902)\" style=\"stroke:#000000; stroke-linecap:round; stroke-linejoin:round; stroke-width:4; stroke-opacity:1; fill:none\" points=\"15403.3,1423.18 15403.3,1423.18 15448.3,1423.18 15403.3,1423.18 \"/>\n",
       "<path clip-path=\"url(#clip902)\" d=\"M15448.3 1423.18 L15448.3 1423.18 L15493.4 1423.18 L15493.4 1423.18 L15448.3 1423.18 L15448.3 1423.18  Z\" fill=\"#009af9\" fill-rule=\"evenodd\" fill-opacity=\"1\"/>\n",
       "<polyline clip-path=\"url(#clip902)\" style=\"stroke:#000000; stroke-linecap:round; stroke-linejoin:round; stroke-width:4; stroke-opacity:1; fill:none\" points=\"15448.3,1423.18 15448.3,1423.18 15493.4,1423.18 15448.3,1423.18 \"/>\n",
       "<path clip-path=\"url(#clip902)\" d=\"M15493.4 1423.18 L15493.4 1423.18 L15538.4 1423.18 L15538.4 1423.18 L15493.4 1423.18 L15493.4 1423.18  Z\" fill=\"#009af9\" fill-rule=\"evenodd\" fill-opacity=\"1\"/>\n",
       "<polyline clip-path=\"url(#clip902)\" style=\"stroke:#000000; stroke-linecap:round; stroke-linejoin:round; stroke-width:4; stroke-opacity:1; fill:none\" points=\"15493.4,1423.18 15493.4,1423.18 15538.4,1423.18 15493.4,1423.18 \"/>\n",
       "<path clip-path=\"url(#clip902)\" d=\"M15538.4 1423.18 L15538.4 1423.18 L15583.4 1423.18 L15583.4 1423.18 L15538.4 1423.18 L15538.4 1423.18  Z\" fill=\"#009af9\" fill-rule=\"evenodd\" fill-opacity=\"1\"/>\n",
       "<polyline clip-path=\"url(#clip902)\" style=\"stroke:#000000; stroke-linecap:round; stroke-linejoin:round; stroke-width:4; stroke-opacity:1; fill:none\" points=\"15538.4,1423.18 15538.4,1423.18 15583.4,1423.18 15538.4,1423.18 \"/>\n",
       "<path clip-path=\"url(#clip902)\" d=\"M15583.4 1423.18 L15583.4 1423.18 L15628.5 1423.18 L15628.5 1423.18 L15583.4 1423.18 L15583.4 1423.18  Z\" fill=\"#009af9\" fill-rule=\"evenodd\" fill-opacity=\"1\"/>\n",
       "<polyline clip-path=\"url(#clip902)\" style=\"stroke:#000000; stroke-linecap:round; stroke-linejoin:round; stroke-width:4; stroke-opacity:1; fill:none\" points=\"15583.4,1423.18 15583.4,1423.18 15628.5,1423.18 15583.4,1423.18 \"/>\n",
       "<path clip-path=\"url(#clip902)\" d=\"M15628.5 1423.18 L15628.5 1423.18 L15673.5 1423.18 L15673.5 1423.18 L15628.5 1423.18 L15628.5 1423.18  Z\" fill=\"#009af9\" fill-rule=\"evenodd\" fill-opacity=\"1\"/>\n",
       "<polyline clip-path=\"url(#clip902)\" style=\"stroke:#000000; stroke-linecap:round; stroke-linejoin:round; stroke-width:4; stroke-opacity:1; fill:none\" points=\"15628.5,1423.18 15628.5,1423.18 15673.5,1423.18 15628.5,1423.18 \"/>\n",
       "<path clip-path=\"url(#clip902)\" d=\"M15673.5 1423.18 L15673.5 1423.18 L15718.5 1423.18 L15718.5 1423.18 L15673.5 1423.18 L15673.5 1423.18  Z\" fill=\"#009af9\" fill-rule=\"evenodd\" fill-opacity=\"1\"/>\n",
       "<polyline clip-path=\"url(#clip902)\" style=\"stroke:#000000; stroke-linecap:round; stroke-linejoin:round; stroke-width:4; stroke-opacity:1; fill:none\" points=\"15673.5,1423.18 15673.5,1423.18 15718.5,1423.18 15673.5,1423.18 \"/>\n",
       "<path clip-path=\"url(#clip902)\" d=\"M15718.5 1423.18 L15718.5 1423.18 L15763.6 1423.18 L15763.6 1423.18 L15718.5 1423.18 L15718.5 1423.18  Z\" fill=\"#009af9\" fill-rule=\"evenodd\" fill-opacity=\"1\"/>\n",
       "<polyline clip-path=\"url(#clip902)\" style=\"stroke:#000000; stroke-linecap:round; stroke-linejoin:round; stroke-width:4; stroke-opacity:1; fill:none\" points=\"15718.5,1423.18 15718.5,1423.18 15763.6,1423.18 15718.5,1423.18 \"/>\n",
       "<path clip-path=\"url(#clip902)\" d=\"M15763.6 1423.18 L15763.6 1423.18 L15808.6 1423.18 L15808.6 1423.18 L15763.6 1423.18 L15763.6 1423.18  Z\" fill=\"#009af9\" fill-rule=\"evenodd\" fill-opacity=\"1\"/>\n",
       "<polyline clip-path=\"url(#clip902)\" style=\"stroke:#000000; stroke-linecap:round; stroke-linejoin:round; stroke-width:4; stroke-opacity:1; fill:none\" points=\"15763.6,1423.18 15763.6,1423.18 15808.6,1423.18 15763.6,1423.18 \"/>\n",
       "<path clip-path=\"url(#clip902)\" d=\"M15808.6 1423.18 L15808.6 1423.18 L15853.7 1423.18 L15853.7 1423.18 L15808.6 1423.18 L15808.6 1423.18  Z\" fill=\"#009af9\" fill-rule=\"evenodd\" fill-opacity=\"1\"/>\n",
       "<polyline clip-path=\"url(#clip902)\" style=\"stroke:#000000; stroke-linecap:round; stroke-linejoin:round; stroke-width:4; stroke-opacity:1; fill:none\" points=\"15808.6,1423.18 15808.6,1423.18 15853.7,1423.18 15808.6,1423.18 \"/>\n",
       "<path clip-path=\"url(#clip902)\" d=\"M15853.7 1423.18 L15853.7 1423.18 L15898.7 1423.18 L15898.7 1423.18 L15853.7 1423.18 L15853.7 1423.18  Z\" fill=\"#009af9\" fill-rule=\"evenodd\" fill-opacity=\"1\"/>\n",
       "<polyline clip-path=\"url(#clip902)\" style=\"stroke:#000000; stroke-linecap:round; stroke-linejoin:round; stroke-width:4; stroke-opacity:1; fill:none\" points=\"15853.7,1423.18 15853.7,1423.18 15898.7,1423.18 15853.7,1423.18 \"/>\n",
       "<path clip-path=\"url(#clip902)\" d=\"M15898.7 1423.18 L15898.7 1423.18 L15943.7 1423.18 L15943.7 1423.18 L15898.7 1423.18 L15898.7 1423.18  Z\" fill=\"#009af9\" fill-rule=\"evenodd\" fill-opacity=\"1\"/>\n",
       "<polyline clip-path=\"url(#clip902)\" style=\"stroke:#000000; stroke-linecap:round; stroke-linejoin:round; stroke-width:4; stroke-opacity:1; fill:none\" points=\"15898.7,1423.18 15898.7,1423.18 15943.7,1423.18 15898.7,1423.18 \"/>\n",
       "<path clip-path=\"url(#clip902)\" d=\"M15943.7 1423.18 L15943.7 1423.18 L15988.8 1423.18 L15988.8 1423.18 L15943.7 1423.18 L15943.7 1423.18  Z\" fill=\"#009af9\" fill-rule=\"evenodd\" fill-opacity=\"1\"/>\n",
       "<polyline clip-path=\"url(#clip902)\" style=\"stroke:#000000; stroke-linecap:round; stroke-linejoin:round; stroke-width:4; stroke-opacity:1; fill:none\" points=\"15943.7,1423.18 15943.7,1423.18 15988.8,1423.18 15943.7,1423.18 \"/>\n",
       "<path clip-path=\"url(#clip902)\" d=\"M15988.8 1423.18 L15988.8 1423.18 L16033.8 1423.18 L16033.8 1423.18 L15988.8 1423.18 L15988.8 1423.18  Z\" fill=\"#009af9\" fill-rule=\"evenodd\" fill-opacity=\"1\"/>\n",
       "<polyline clip-path=\"url(#clip902)\" style=\"stroke:#000000; stroke-linecap:round; stroke-linejoin:round; stroke-width:4; stroke-opacity:1; fill:none\" points=\"15988.8,1423.18 15988.8,1423.18 16033.8,1423.18 15988.8,1423.18 \"/>\n",
       "<path clip-path=\"url(#clip902)\" d=\"M16033.8 1423.18 L16033.8 1423.18 L16078.8 1423.18 L16078.8 1423.18 L16033.8 1423.18 L16033.8 1423.18  Z\" fill=\"#009af9\" fill-rule=\"evenodd\" fill-opacity=\"1\"/>\n",
       "<polyline clip-path=\"url(#clip902)\" style=\"stroke:#000000; stroke-linecap:round; stroke-linejoin:round; stroke-width:4; stroke-opacity:1; fill:none\" points=\"16033.8,1423.18 16033.8,1423.18 16078.8,1423.18 16033.8,1423.18 \"/>\n",
       "<path clip-path=\"url(#clip902)\" d=\"M16078.8 1423.18 L16078.8 1423.18 L16123.9 1423.18 L16123.9 1423.18 L16078.8 1423.18 L16078.8 1423.18  Z\" fill=\"#009af9\" fill-rule=\"evenodd\" fill-opacity=\"1\"/>\n",
       "<polyline clip-path=\"url(#clip902)\" style=\"stroke:#000000; stroke-linecap:round; stroke-linejoin:round; stroke-width:4; stroke-opacity:1; fill:none\" points=\"16078.8,1423.18 16078.8,1423.18 16123.9,1423.18 16078.8,1423.18 \"/>\n",
       "<path clip-path=\"url(#clip902)\" d=\"M16123.9 1423.18 L16123.9 1423.18 L16168.9 1423.18 L16168.9 1423.18 L16123.9 1423.18 L16123.9 1423.18  Z\" fill=\"#009af9\" fill-rule=\"evenodd\" fill-opacity=\"1\"/>\n",
       "<polyline clip-path=\"url(#clip902)\" style=\"stroke:#000000; stroke-linecap:round; stroke-linejoin:round; stroke-width:4; stroke-opacity:1; fill:none\" points=\"16123.9,1423.18 16123.9,1423.18 16168.9,1423.18 16123.9,1423.18 \"/>\n",
       "<path clip-path=\"url(#clip902)\" d=\"M16168.9 1423.18 L16168.9 1423.18 L16214 1423.18 L16214 1423.18 L16168.9 1423.18 L16168.9 1423.18  Z\" fill=\"#009af9\" fill-rule=\"evenodd\" fill-opacity=\"1\"/>\n",
       "<polyline clip-path=\"url(#clip902)\" style=\"stroke:#000000; stroke-linecap:round; stroke-linejoin:round; stroke-width:4; stroke-opacity:1; fill:none\" points=\"16168.9,1423.18 16168.9,1423.18 16214,1423.18 16168.9,1423.18 \"/>\n",
       "<path clip-path=\"url(#clip902)\" d=\"M16214 1423.18 L16214 1423.18 L16259 1423.18 L16259 1423.18 L16214 1423.18 L16214 1423.18  Z\" fill=\"#009af9\" fill-rule=\"evenodd\" fill-opacity=\"1\"/>\n",
       "<polyline clip-path=\"url(#clip902)\" style=\"stroke:#000000; stroke-linecap:round; stroke-linejoin:round; stroke-width:4; stroke-opacity:1; fill:none\" points=\"16214,1423.18 16214,1423.18 16259,1423.18 16214,1423.18 \"/>\n",
       "<path clip-path=\"url(#clip902)\" d=\"M16259 1423.18 L16259 1423.18 L16304 1423.18 L16304 1423.18 L16259 1423.18 L16259 1423.18  Z\" fill=\"#009af9\" fill-rule=\"evenodd\" fill-opacity=\"1\"/>\n",
       "<polyline clip-path=\"url(#clip902)\" style=\"stroke:#000000; stroke-linecap:round; stroke-linejoin:round; stroke-width:4; stroke-opacity:1; fill:none\" points=\"16259,1423.18 16259,1423.18 16304,1423.18 16259,1423.18 \"/>\n",
       "<path clip-path=\"url(#clip902)\" d=\"M16304 1423.18 L16304 1423.18 L16349.1 1423.18 L16349.1 1423.18 L16304 1423.18 L16304 1423.18  Z\" fill=\"#009af9\" fill-rule=\"evenodd\" fill-opacity=\"1\"/>\n",
       "<polyline clip-path=\"url(#clip902)\" style=\"stroke:#000000; stroke-linecap:round; stroke-linejoin:round; stroke-width:4; stroke-opacity:1; fill:none\" points=\"16304,1423.18 16304,1423.18 16349.1,1423.18 16304,1423.18 \"/>\n",
       "<path clip-path=\"url(#clip902)\" d=\"M16349.1 1423.18 L16349.1 1423.18 L16394.1 1423.18 L16394.1 1423.18 L16349.1 1423.18 L16349.1 1423.18  Z\" fill=\"#009af9\" fill-rule=\"evenodd\" fill-opacity=\"1\"/>\n",
       "<polyline clip-path=\"url(#clip902)\" style=\"stroke:#000000; stroke-linecap:round; stroke-linejoin:round; stroke-width:4; stroke-opacity:1; fill:none\" points=\"16349.1,1423.18 16349.1,1423.18 16394.1,1423.18 16349.1,1423.18 \"/>\n",
       "<path clip-path=\"url(#clip902)\" d=\"M16394.1 1423.18 L16394.1 1423.18 L16439.1 1423.18 L16439.1 1423.18 L16394.1 1423.18 L16394.1 1423.18  Z\" fill=\"#009af9\" fill-rule=\"evenodd\" fill-opacity=\"1\"/>\n",
       "<polyline clip-path=\"url(#clip902)\" style=\"stroke:#000000; stroke-linecap:round; stroke-linejoin:round; stroke-width:4; stroke-opacity:1; fill:none\" points=\"16394.1,1423.18 16394.1,1423.18 16439.1,1423.18 16394.1,1423.18 \"/>\n",
       "<path clip-path=\"url(#clip902)\" d=\"M16439.1 1423.18 L16439.1 1423.18 L16484.2 1423.18 L16484.2 1423.18 L16439.1 1423.18 L16439.1 1423.18  Z\" fill=\"#009af9\" fill-rule=\"evenodd\" fill-opacity=\"1\"/>\n",
       "<polyline clip-path=\"url(#clip902)\" style=\"stroke:#000000; stroke-linecap:round; stroke-linejoin:round; stroke-width:4; stroke-opacity:1; fill:none\" points=\"16439.1,1423.18 16439.1,1423.18 16484.2,1423.18 16439.1,1423.18 \"/>\n",
       "<path clip-path=\"url(#clip902)\" d=\"M16484.2 1423.18 L16484.2 1423.18 L16529.2 1423.18 L16529.2 1423.18 L16484.2 1423.18 L16484.2 1423.18  Z\" fill=\"#009af9\" fill-rule=\"evenodd\" fill-opacity=\"1\"/>\n",
       "<polyline clip-path=\"url(#clip902)\" style=\"stroke:#000000; stroke-linecap:round; stroke-linejoin:round; stroke-width:4; stroke-opacity:1; fill:none\" points=\"16484.2,1423.18 16484.2,1423.18 16529.2,1423.18 16484.2,1423.18 \"/>\n",
       "<path clip-path=\"url(#clip902)\" d=\"M16529.2 1423.18 L16529.2 1423.18 L16574.3 1423.18 L16574.3 1423.18 L16529.2 1423.18 L16529.2 1423.18  Z\" fill=\"#009af9\" fill-rule=\"evenodd\" fill-opacity=\"1\"/>\n",
       "<polyline clip-path=\"url(#clip902)\" style=\"stroke:#000000; stroke-linecap:round; stroke-linejoin:round; stroke-width:4; stroke-opacity:1; fill:none\" points=\"16529.2,1423.18 16529.2,1423.18 16574.3,1423.18 16529.2,1423.18 \"/>\n",
       "<path clip-path=\"url(#clip902)\" d=\"M16574.3 1423.18 L16574.3 1423.18 L16619.3 1423.18 L16619.3 1423.18 L16574.3 1423.18 L16574.3 1423.18  Z\" fill=\"#009af9\" fill-rule=\"evenodd\" fill-opacity=\"1\"/>\n",
       "<polyline clip-path=\"url(#clip902)\" style=\"stroke:#000000; stroke-linecap:round; stroke-linejoin:round; stroke-width:4; stroke-opacity:1; fill:none\" points=\"16574.3,1423.18 16574.3,1423.18 16619.3,1423.18 16574.3,1423.18 \"/>\n",
       "<path clip-path=\"url(#clip902)\" d=\"M16619.3 1423.18 L16619.3 1423.18 L16664.3 1423.18 L16664.3 1423.18 L16619.3 1423.18 L16619.3 1423.18  Z\" fill=\"#009af9\" fill-rule=\"evenodd\" fill-opacity=\"1\"/>\n",
       "<polyline clip-path=\"url(#clip902)\" style=\"stroke:#000000; stroke-linecap:round; stroke-linejoin:round; stroke-width:4; stroke-opacity:1; fill:none\" points=\"16619.3,1423.18 16619.3,1423.18 16664.3,1423.18 16619.3,1423.18 \"/>\n",
       "<path clip-path=\"url(#clip902)\" d=\"M16664.3 1423.18 L16664.3 1423.18 L16709.4 1423.18 L16709.4 1423.18 L16664.3 1423.18 L16664.3 1423.18  Z\" fill=\"#009af9\" fill-rule=\"evenodd\" fill-opacity=\"1\"/>\n",
       "<polyline clip-path=\"url(#clip902)\" style=\"stroke:#000000; stroke-linecap:round; stroke-linejoin:round; stroke-width:4; stroke-opacity:1; fill:none\" points=\"16664.3,1423.18 16664.3,1423.18 16709.4,1423.18 16664.3,1423.18 \"/>\n",
       "<path clip-path=\"url(#clip902)\" d=\"M16709.4 1423.18 L16709.4 1423.18 L16754.4 1423.18 L16754.4 1423.18 L16709.4 1423.18 L16709.4 1423.18  Z\" fill=\"#009af9\" fill-rule=\"evenodd\" fill-opacity=\"1\"/>\n",
       "<polyline clip-path=\"url(#clip902)\" style=\"stroke:#000000; stroke-linecap:round; stroke-linejoin:round; stroke-width:4; stroke-opacity:1; fill:none\" points=\"16709.4,1423.18 16709.4,1423.18 16754.4,1423.18 16709.4,1423.18 \"/>\n",
       "<path clip-path=\"url(#clip902)\" d=\"M16754.4 1423.18 L16754.4 1423.18 L16799.4 1423.18 L16799.4 1423.18 L16754.4 1423.18 L16754.4 1423.18  Z\" fill=\"#009af9\" fill-rule=\"evenodd\" fill-opacity=\"1\"/>\n",
       "<polyline clip-path=\"url(#clip902)\" style=\"stroke:#000000; stroke-linecap:round; stroke-linejoin:round; stroke-width:4; stroke-opacity:1; fill:none\" points=\"16754.4,1423.18 16754.4,1423.18 16799.4,1423.18 16754.4,1423.18 \"/>\n",
       "<path clip-path=\"url(#clip902)\" d=\"M16799.4 1423.18 L16799.4 1423.18 L16844.5 1423.18 L16844.5 1423.18 L16799.4 1423.18 L16799.4 1423.18  Z\" fill=\"#009af9\" fill-rule=\"evenodd\" fill-opacity=\"1\"/>\n",
       "<polyline clip-path=\"url(#clip902)\" style=\"stroke:#000000; stroke-linecap:round; stroke-linejoin:round; stroke-width:4; stroke-opacity:1; fill:none\" points=\"16799.4,1423.18 16799.4,1423.18 16844.5,1423.18 16799.4,1423.18 \"/>\n",
       "<path clip-path=\"url(#clip902)\" d=\"M16844.5 1423.18 L16844.5 1423.18 L16889.5 1423.18 L16889.5 1423.18 L16844.5 1423.18 L16844.5 1423.18  Z\" fill=\"#009af9\" fill-rule=\"evenodd\" fill-opacity=\"1\"/>\n",
       "<polyline clip-path=\"url(#clip902)\" style=\"stroke:#000000; stroke-linecap:round; stroke-linejoin:round; stroke-width:4; stroke-opacity:1; fill:none\" points=\"16844.5,1423.18 16844.5,1423.18 16889.5,1423.18 16844.5,1423.18 \"/>\n",
       "<path clip-path=\"url(#clip902)\" d=\"M16889.5 1423.18 L16889.5 1423.18 L16934.6 1423.18 L16934.6 1423.18 L16889.5 1423.18 L16889.5 1423.18  Z\" fill=\"#009af9\" fill-rule=\"evenodd\" fill-opacity=\"1\"/>\n",
       "<polyline clip-path=\"url(#clip902)\" style=\"stroke:#000000; stroke-linecap:round; stroke-linejoin:round; stroke-width:4; stroke-opacity:1; fill:none\" points=\"16889.5,1423.18 16889.5,1423.18 16934.6,1423.18 16889.5,1423.18 \"/>\n",
       "<path clip-path=\"url(#clip902)\" d=\"M16934.6 1423.18 L16934.6 1423.18 L16979.6 1423.18 L16979.6 1423.18 L16934.6 1423.18 L16934.6 1423.18  Z\" fill=\"#009af9\" fill-rule=\"evenodd\" fill-opacity=\"1\"/>\n",
       "<polyline clip-path=\"url(#clip902)\" style=\"stroke:#000000; stroke-linecap:round; stroke-linejoin:round; stroke-width:4; stroke-opacity:1; fill:none\" points=\"16934.6,1423.18 16934.6,1423.18 16979.6,1423.18 16934.6,1423.18 \"/>\n",
       "<path clip-path=\"url(#clip902)\" d=\"M16979.6 1423.18 L16979.6 1423.18 L17024.6 1423.18 L17024.6 1423.18 L16979.6 1423.18 L16979.6 1423.18  Z\" fill=\"#009af9\" fill-rule=\"evenodd\" fill-opacity=\"1\"/>\n",
       "<polyline clip-path=\"url(#clip902)\" style=\"stroke:#000000; stroke-linecap:round; stroke-linejoin:round; stroke-width:4; stroke-opacity:1; fill:none\" points=\"16979.6,1423.18 16979.6,1423.18 17024.6,1423.18 16979.6,1423.18 \"/>\n",
       "<path clip-path=\"url(#clip902)\" d=\"M17024.6 1423.18 L17024.6 1423.18 L17069.7 1423.18 L17069.7 1423.18 L17024.6 1423.18 L17024.6 1423.18  Z\" fill=\"#009af9\" fill-rule=\"evenodd\" fill-opacity=\"1\"/>\n",
       "<polyline clip-path=\"url(#clip902)\" style=\"stroke:#000000; stroke-linecap:round; stroke-linejoin:round; stroke-width:4; stroke-opacity:1; fill:none\" points=\"17024.6,1423.18 17024.6,1423.18 17069.7,1423.18 17024.6,1423.18 \"/>\n",
       "<path clip-path=\"url(#clip902)\" d=\"M17069.7 1423.18 L17069.7 1423.18 L17114.7 1423.18 L17114.7 1423.18 L17069.7 1423.18 L17069.7 1423.18  Z\" fill=\"#009af9\" fill-rule=\"evenodd\" fill-opacity=\"1\"/>\n",
       "<polyline clip-path=\"url(#clip902)\" style=\"stroke:#000000; stroke-linecap:round; stroke-linejoin:round; stroke-width:4; stroke-opacity:1; fill:none\" points=\"17069.7,1423.18 17069.7,1423.18 17114.7,1423.18 17069.7,1423.18 \"/>\n",
       "<path clip-path=\"url(#clip902)\" d=\"M17114.7 1423.18 L17114.7 1423.18 L17159.7 1423.18 L17159.7 1423.18 L17114.7 1423.18 L17114.7 1423.18  Z\" fill=\"#009af9\" fill-rule=\"evenodd\" fill-opacity=\"1\"/>\n",
       "<polyline clip-path=\"url(#clip902)\" style=\"stroke:#000000; stroke-linecap:round; stroke-linejoin:round; stroke-width:4; stroke-opacity:1; fill:none\" points=\"17114.7,1423.18 17114.7,1423.18 17159.7,1423.18 17114.7,1423.18 \"/>\n",
       "<path clip-path=\"url(#clip902)\" d=\"M17159.7 1423.18 L17159.7 1423.18 L17204.8 1423.18 L17204.8 1423.18 L17159.7 1423.18 L17159.7 1423.18  Z\" fill=\"#009af9\" fill-rule=\"evenodd\" fill-opacity=\"1\"/>\n",
       "<polyline clip-path=\"url(#clip902)\" style=\"stroke:#000000; stroke-linecap:round; stroke-linejoin:round; stroke-width:4; stroke-opacity:1; fill:none\" points=\"17159.7,1423.18 17159.7,1423.18 17204.8,1423.18 17159.7,1423.18 \"/>\n",
       "<path clip-path=\"url(#clip902)\" d=\"M17204.8 1423.18 L17204.8 1423.18 L17249.8 1423.18 L17249.8 1423.18 L17204.8 1423.18 L17204.8 1423.18  Z\" fill=\"#009af9\" fill-rule=\"evenodd\" fill-opacity=\"1\"/>\n",
       "<polyline clip-path=\"url(#clip902)\" style=\"stroke:#000000; stroke-linecap:round; stroke-linejoin:round; stroke-width:4; stroke-opacity:1; fill:none\" points=\"17204.8,1423.18 17204.8,1423.18 17249.8,1423.18 17204.8,1423.18 \"/>\n",
       "<path clip-path=\"url(#clip902)\" d=\"M17249.8 1423.18 L17249.8 1423.18 L17294.9 1423.18 L17294.9 1423.18 L17249.8 1423.18 L17249.8 1423.18  Z\" fill=\"#009af9\" fill-rule=\"evenodd\" fill-opacity=\"1\"/>\n",
       "<polyline clip-path=\"url(#clip902)\" style=\"stroke:#000000; stroke-linecap:round; stroke-linejoin:round; stroke-width:4; stroke-opacity:1; fill:none\" points=\"17249.8,1423.18 17249.8,1423.18 17294.9,1423.18 17249.8,1423.18 \"/>\n",
       "<path clip-path=\"url(#clip902)\" d=\"M17294.9 1423.18 L17294.9 1423.18 L17339.9 1423.18 L17339.9 1423.18 L17294.9 1423.18 L17294.9 1423.18  Z\" fill=\"#009af9\" fill-rule=\"evenodd\" fill-opacity=\"1\"/>\n",
       "<polyline clip-path=\"url(#clip902)\" style=\"stroke:#000000; stroke-linecap:round; stroke-linejoin:round; stroke-width:4; stroke-opacity:1; fill:none\" points=\"17294.9,1423.18 17294.9,1423.18 17339.9,1423.18 17294.9,1423.18 \"/>\n",
       "<path clip-path=\"url(#clip902)\" d=\"M17339.9 1423.18 L17339.9 1423.18 L17384.9 1423.18 L17384.9 1423.18 L17339.9 1423.18 L17339.9 1423.18  Z\" fill=\"#009af9\" fill-rule=\"evenodd\" fill-opacity=\"1\"/>\n",
       "<polyline clip-path=\"url(#clip902)\" style=\"stroke:#000000; stroke-linecap:round; stroke-linejoin:round; stroke-width:4; stroke-opacity:1; fill:none\" points=\"17339.9,1423.18 17339.9,1423.18 17384.9,1423.18 17339.9,1423.18 \"/>\n",
       "<path clip-path=\"url(#clip902)\" d=\"M17384.9 1423.18 L17384.9 1423.18 L17430 1423.18 L17430 1423.18 L17384.9 1423.18 L17384.9 1423.18  Z\" fill=\"#009af9\" fill-rule=\"evenodd\" fill-opacity=\"1\"/>\n",
       "<polyline clip-path=\"url(#clip902)\" style=\"stroke:#000000; stroke-linecap:round; stroke-linejoin:round; stroke-width:4; stroke-opacity:1; fill:none\" points=\"17384.9,1423.18 17384.9,1423.18 17430,1423.18 17384.9,1423.18 \"/>\n",
       "<path clip-path=\"url(#clip902)\" d=\"M17430 1423.18 L17430 1423.18 L17475 1423.18 L17475 1423.18 L17430 1423.18 L17430 1423.18  Z\" fill=\"#009af9\" fill-rule=\"evenodd\" fill-opacity=\"1\"/>\n",
       "<polyline clip-path=\"url(#clip902)\" style=\"stroke:#000000; stroke-linecap:round; stroke-linejoin:round; stroke-width:4; stroke-opacity:1; fill:none\" points=\"17430,1423.18 17430,1423.18 17475,1423.18 17430,1423.18 \"/>\n",
       "<path clip-path=\"url(#clip902)\" d=\"M17475 1423.18 L17475 1423.18 L17520 1423.18 L17520 1423.18 L17475 1423.18 L17475 1423.18  Z\" fill=\"#009af9\" fill-rule=\"evenodd\" fill-opacity=\"1\"/>\n",
       "<polyline clip-path=\"url(#clip902)\" style=\"stroke:#000000; stroke-linecap:round; stroke-linejoin:round; stroke-width:4; stroke-opacity:1; fill:none\" points=\"17475,1423.18 17475,1423.18 17520,1423.18 17475,1423.18 \"/>\n",
       "<path clip-path=\"url(#clip902)\" d=\"M17520 1423.18 L17520 1423.18 L17565.1 1423.18 L17565.1 1423.18 L17520 1423.18 L17520 1423.18  Z\" fill=\"#009af9\" fill-rule=\"evenodd\" fill-opacity=\"1\"/>\n",
       "<polyline clip-path=\"url(#clip902)\" style=\"stroke:#000000; stroke-linecap:round; stroke-linejoin:round; stroke-width:4; stroke-opacity:1; fill:none\" points=\"17520,1423.18 17520,1423.18 17565.1,1423.18 17520,1423.18 \"/>\n",
       "<path clip-path=\"url(#clip902)\" d=\"M17565.1 1423.18 L17565.1 1423.18 L17610.1 1423.18 L17610.1 1423.18 L17565.1 1423.18 L17565.1 1423.18  Z\" fill=\"#009af9\" fill-rule=\"evenodd\" fill-opacity=\"1\"/>\n",
       "<polyline clip-path=\"url(#clip902)\" style=\"stroke:#000000; stroke-linecap:round; stroke-linejoin:round; stroke-width:4; stroke-opacity:1; fill:none\" points=\"17565.1,1423.18 17565.1,1423.18 17610.1,1423.18 17565.1,1423.18 \"/>\n",
       "<path clip-path=\"url(#clip902)\" d=\"M17610.1 1423.18 L17610.1 1423.18 L17655.1 1423.18 L17655.1 1423.18 L17610.1 1423.18 L17610.1 1423.18  Z\" fill=\"#009af9\" fill-rule=\"evenodd\" fill-opacity=\"1\"/>\n",
       "<polyline clip-path=\"url(#clip902)\" style=\"stroke:#000000; stroke-linecap:round; stroke-linejoin:round; stroke-width:4; stroke-opacity:1; fill:none\" points=\"17610.1,1423.18 17610.1,1423.18 17655.1,1423.18 17610.1,1423.18 \"/>\n",
       "<path clip-path=\"url(#clip902)\" d=\"M17655.1 1423.18 L17655.1 1423.18 L17700.2 1423.18 L17700.2 1423.18 L17655.1 1423.18 L17655.1 1423.18  Z\" fill=\"#009af9\" fill-rule=\"evenodd\" fill-opacity=\"1\"/>\n",
       "<polyline clip-path=\"url(#clip902)\" style=\"stroke:#000000; stroke-linecap:round; stroke-linejoin:round; stroke-width:4; stroke-opacity:1; fill:none\" points=\"17655.1,1423.18 17655.1,1423.18 17700.2,1423.18 17655.1,1423.18 \"/>\n",
       "<path clip-path=\"url(#clip902)\" d=\"M17700.2 1423.18 L17700.2 1423.18 L17745.2 1423.18 L17745.2 1423.18 L17700.2 1423.18 L17700.2 1423.18  Z\" fill=\"#009af9\" fill-rule=\"evenodd\" fill-opacity=\"1\"/>\n",
       "<polyline clip-path=\"url(#clip902)\" style=\"stroke:#000000; stroke-linecap:round; stroke-linejoin:round; stroke-width:4; stroke-opacity:1; fill:none\" points=\"17700.2,1423.18 17700.2,1423.18 17745.2,1423.18 17700.2,1423.18 \"/>\n",
       "<path clip-path=\"url(#clip902)\" d=\"M17745.2 1423.18 L17745.2 1423.18 L17790.3 1423.18 L17790.3 1423.18 L17745.2 1423.18 L17745.2 1423.18  Z\" fill=\"#009af9\" fill-rule=\"evenodd\" fill-opacity=\"1\"/>\n",
       "<polyline clip-path=\"url(#clip902)\" style=\"stroke:#000000; stroke-linecap:round; stroke-linejoin:round; stroke-width:4; stroke-opacity:1; fill:none\" points=\"17745.2,1423.18 17745.2,1423.18 17790.3,1423.18 17745.2,1423.18 \"/>\n",
       "<path clip-path=\"url(#clip902)\" d=\"M17790.3 1423.18 L17790.3 1423.18 L17835.3 1423.18 L17835.3 1423.18 L17790.3 1423.18 L17790.3 1423.18  Z\" fill=\"#009af9\" fill-rule=\"evenodd\" fill-opacity=\"1\"/>\n",
       "<polyline clip-path=\"url(#clip902)\" style=\"stroke:#000000; stroke-linecap:round; stroke-linejoin:round; stroke-width:4; stroke-opacity:1; fill:none\" points=\"17790.3,1423.18 17790.3,1423.18 17835.3,1423.18 17790.3,1423.18 \"/>\n",
       "<path clip-path=\"url(#clip902)\" d=\"M17835.3 1423.18 L17835.3 1423.18 L17880.3 1423.18 L17880.3 1423.18 L17835.3 1423.18 L17835.3 1423.18  Z\" fill=\"#009af9\" fill-rule=\"evenodd\" fill-opacity=\"1\"/>\n",
       "<polyline clip-path=\"url(#clip902)\" style=\"stroke:#000000; stroke-linecap:round; stroke-linejoin:round; stroke-width:4; stroke-opacity:1; fill:none\" points=\"17835.3,1423.18 17835.3,1423.18 17880.3,1423.18 17835.3,1423.18 \"/>\n",
       "<path clip-path=\"url(#clip902)\" d=\"M17880.3 1423.18 L17880.3 1423.18 L17925.4 1423.18 L17925.4 1423.18 L17880.3 1423.18 L17880.3 1423.18  Z\" fill=\"#009af9\" fill-rule=\"evenodd\" fill-opacity=\"1\"/>\n",
       "<polyline clip-path=\"url(#clip902)\" style=\"stroke:#000000; stroke-linecap:round; stroke-linejoin:round; stroke-width:4; stroke-opacity:1; fill:none\" points=\"17880.3,1423.18 17880.3,1423.18 17925.4,1423.18 17880.3,1423.18 \"/>\n",
       "<path clip-path=\"url(#clip902)\" d=\"M17925.4 1423.18 L17925.4 1423.18 L17970.4 1423.18 L17970.4 1423.18 L17925.4 1423.18 L17925.4 1423.18  Z\" fill=\"#009af9\" fill-rule=\"evenodd\" fill-opacity=\"1\"/>\n",
       "<polyline clip-path=\"url(#clip902)\" style=\"stroke:#000000; stroke-linecap:round; stroke-linejoin:round; stroke-width:4; stroke-opacity:1; fill:none\" points=\"17925.4,1423.18 17925.4,1423.18 17970.4,1423.18 17925.4,1423.18 \"/>\n",
       "<path clip-path=\"url(#clip902)\" d=\"M17970.4 1423.18 L17970.4 1423.18 L18015.4 1423.18 L18015.4 1423.18 L17970.4 1423.18 L17970.4 1423.18  Z\" fill=\"#009af9\" fill-rule=\"evenodd\" fill-opacity=\"1\"/>\n",
       "<polyline clip-path=\"url(#clip902)\" style=\"stroke:#000000; stroke-linecap:round; stroke-linejoin:round; stroke-width:4; stroke-opacity:1; fill:none\" points=\"17970.4,1423.18 17970.4,1423.18 18015.4,1423.18 17970.4,1423.18 \"/>\n",
       "<path clip-path=\"url(#clip902)\" d=\"M18015.4 1423.18 L18015.4 1423.18 L18060.5 1423.18 L18060.5 1423.18 L18015.4 1423.18 L18015.4 1423.18  Z\" fill=\"#009af9\" fill-rule=\"evenodd\" fill-opacity=\"1\"/>\n",
       "<polyline clip-path=\"url(#clip902)\" style=\"stroke:#000000; stroke-linecap:round; stroke-linejoin:round; stroke-width:4; stroke-opacity:1; fill:none\" points=\"18015.4,1423.18 18015.4,1423.18 18060.5,1423.18 18015.4,1423.18 \"/>\n",
       "<path clip-path=\"url(#clip902)\" d=\"M18060.5 1423.18 L18060.5 1423.18 L18105.5 1423.18 L18105.5 1423.18 L18060.5 1423.18 L18060.5 1423.18  Z\" fill=\"#009af9\" fill-rule=\"evenodd\" fill-opacity=\"1\"/>\n",
       "<polyline clip-path=\"url(#clip902)\" style=\"stroke:#000000; stroke-linecap:round; stroke-linejoin:round; stroke-width:4; stroke-opacity:1; fill:none\" points=\"18060.5,1423.18 18060.5,1423.18 18105.5,1423.18 18060.5,1423.18 \"/>\n",
       "<path clip-path=\"url(#clip902)\" d=\"M18105.5 1423.18 L18105.5 1423.18 L18150.6 1423.18 L18150.6 1423.18 L18105.5 1423.18 L18105.5 1423.18  Z\" fill=\"#009af9\" fill-rule=\"evenodd\" fill-opacity=\"1\"/>\n",
       "<polyline clip-path=\"url(#clip902)\" style=\"stroke:#000000; stroke-linecap:round; stroke-linejoin:round; stroke-width:4; stroke-opacity:1; fill:none\" points=\"18105.5,1423.18 18105.5,1423.18 18150.6,1423.18 18105.5,1423.18 \"/>\n",
       "<path clip-path=\"url(#clip902)\" d=\"M18150.6 1423.18 L18150.6 1423.18 L18195.6 1423.18 L18195.6 1423.18 L18150.6 1423.18 L18150.6 1423.18  Z\" fill=\"#009af9\" fill-rule=\"evenodd\" fill-opacity=\"1\"/>\n",
       "<polyline clip-path=\"url(#clip902)\" style=\"stroke:#000000; stroke-linecap:round; stroke-linejoin:round; stroke-width:4; stroke-opacity:1; fill:none\" points=\"18150.6,1423.18 18150.6,1423.18 18195.6,1423.18 18150.6,1423.18 \"/>\n",
       "<path clip-path=\"url(#clip902)\" d=\"M18195.6 1423.18 L18195.6 1423.18 L18240.6 1423.18 L18240.6 1423.18 L18195.6 1423.18 L18195.6 1423.18  Z\" fill=\"#009af9\" fill-rule=\"evenodd\" fill-opacity=\"1\"/>\n",
       "<polyline clip-path=\"url(#clip902)\" style=\"stroke:#000000; stroke-linecap:round; stroke-linejoin:round; stroke-width:4; stroke-opacity:1; fill:none\" points=\"18195.6,1423.18 18195.6,1423.18 18240.6,1423.18 18195.6,1423.18 \"/>\n",
       "<path clip-path=\"url(#clip902)\" d=\"M18240.6 1423.18 L18240.6 1423.18 L18285.7 1423.18 L18285.7 1423.18 L18240.6 1423.18 L18240.6 1423.18  Z\" fill=\"#009af9\" fill-rule=\"evenodd\" fill-opacity=\"1\"/>\n",
       "<polyline clip-path=\"url(#clip902)\" style=\"stroke:#000000; stroke-linecap:round; stroke-linejoin:round; stroke-width:4; stroke-opacity:1; fill:none\" points=\"18240.6,1423.18 18240.6,1423.18 18285.7,1423.18 18240.6,1423.18 \"/>\n",
       "<path clip-path=\"url(#clip902)\" d=\"M18285.7 1423.18 L18285.7 1423.18 L18330.7 1423.18 L18330.7 1423.18 L18285.7 1423.18 L18285.7 1423.18  Z\" fill=\"#009af9\" fill-rule=\"evenodd\" fill-opacity=\"1\"/>\n",
       "<polyline clip-path=\"url(#clip902)\" style=\"stroke:#000000; stroke-linecap:round; stroke-linejoin:round; stroke-width:4; stroke-opacity:1; fill:none\" points=\"18285.7,1423.18 18285.7,1423.18 18330.7,1423.18 18285.7,1423.18 \"/>\n",
       "<path clip-path=\"url(#clip902)\" d=\"M18330.7 1423.18 L18330.7 1423.18 L18375.7 1423.18 L18375.7 1423.18 L18330.7 1423.18 L18330.7 1423.18  Z\" fill=\"#009af9\" fill-rule=\"evenodd\" fill-opacity=\"1\"/>\n",
       "<polyline clip-path=\"url(#clip902)\" style=\"stroke:#000000; stroke-linecap:round; stroke-linejoin:round; stroke-width:4; stroke-opacity:1; fill:none\" points=\"18330.7,1423.18 18330.7,1423.18 18375.7,1423.18 18330.7,1423.18 \"/>\n",
       "<path clip-path=\"url(#clip902)\" d=\"M18375.7 1423.18 L18375.7 1423.18 L18420.8 1423.18 L18420.8 1423.18 L18375.7 1423.18 L18375.7 1423.18  Z\" fill=\"#009af9\" fill-rule=\"evenodd\" fill-opacity=\"1\"/>\n",
       "<polyline clip-path=\"url(#clip902)\" style=\"stroke:#000000; stroke-linecap:round; stroke-linejoin:round; stroke-width:4; stroke-opacity:1; fill:none\" points=\"18375.7,1423.18 18375.7,1423.18 18420.8,1423.18 18375.7,1423.18 \"/>\n",
       "<path clip-path=\"url(#clip902)\" d=\"M18420.8 1423.18 L18420.8 1423.18 L18465.8 1423.18 L18465.8 1423.18 L18420.8 1423.18 L18420.8 1423.18  Z\" fill=\"#009af9\" fill-rule=\"evenodd\" fill-opacity=\"1\"/>\n",
       "<polyline clip-path=\"url(#clip902)\" style=\"stroke:#000000; stroke-linecap:round; stroke-linejoin:round; stroke-width:4; stroke-opacity:1; fill:none\" points=\"18420.8,1423.18 18420.8,1423.18 18465.8,1423.18 18420.8,1423.18 \"/>\n",
       "<path clip-path=\"url(#clip902)\" d=\"M18465.8 1423.18 L18465.8 1423.18 L18510.9 1423.18 L18510.9 1423.18 L18465.8 1423.18 L18465.8 1423.18  Z\" fill=\"#009af9\" fill-rule=\"evenodd\" fill-opacity=\"1\"/>\n",
       "<polyline clip-path=\"url(#clip902)\" style=\"stroke:#000000; stroke-linecap:round; stroke-linejoin:round; stroke-width:4; stroke-opacity:1; fill:none\" points=\"18465.8,1423.18 18465.8,1423.18 18510.9,1423.18 18465.8,1423.18 \"/>\n",
       "<path clip-path=\"url(#clip902)\" d=\"M18510.9 1423.18 L18510.9 1423.18 L18555.9 1423.18 L18555.9 1423.18 L18510.9 1423.18 L18510.9 1423.18  Z\" fill=\"#009af9\" fill-rule=\"evenodd\" fill-opacity=\"1\"/>\n",
       "<polyline clip-path=\"url(#clip902)\" style=\"stroke:#000000; stroke-linecap:round; stroke-linejoin:round; stroke-width:4; stroke-opacity:1; fill:none\" points=\"18510.9,1423.18 18510.9,1423.18 18555.9,1423.18 18510.9,1423.18 \"/>\n",
       "<path clip-path=\"url(#clip902)\" d=\"M18555.9 1423.18 L18555.9 1423.18 L18600.9 1423.18 L18600.9 1423.18 L18555.9 1423.18 L18555.9 1423.18  Z\" fill=\"#009af9\" fill-rule=\"evenodd\" fill-opacity=\"1\"/>\n",
       "<polyline clip-path=\"url(#clip902)\" style=\"stroke:#000000; stroke-linecap:round; stroke-linejoin:round; stroke-width:4; stroke-opacity:1; fill:none\" points=\"18555.9,1423.18 18555.9,1423.18 18600.9,1423.18 18555.9,1423.18 \"/>\n",
       "<path clip-path=\"url(#clip902)\" d=\"M18600.9 1423.18 L18600.9 1423.18 L18646 1423.18 L18646 1423.18 L18600.9 1423.18 L18600.9 1423.18  Z\" fill=\"#009af9\" fill-rule=\"evenodd\" fill-opacity=\"1\"/>\n",
       "<polyline clip-path=\"url(#clip902)\" style=\"stroke:#000000; stroke-linecap:round; stroke-linejoin:round; stroke-width:4; stroke-opacity:1; fill:none\" points=\"18600.9,1423.18 18600.9,1423.18 18646,1423.18 18600.9,1423.18 \"/>\n",
       "<path clip-path=\"url(#clip902)\" d=\"M18646 1423.18 L18646 1423.18 L18691 1423.18 L18691 1423.18 L18646 1423.18 L18646 1423.18  Z\" fill=\"#009af9\" fill-rule=\"evenodd\" fill-opacity=\"1\"/>\n",
       "<polyline clip-path=\"url(#clip902)\" style=\"stroke:#000000; stroke-linecap:round; stroke-linejoin:round; stroke-width:4; stroke-opacity:1; fill:none\" points=\"18646,1423.18 18646,1423.18 18691,1423.18 18646,1423.18 \"/>\n",
       "<path clip-path=\"url(#clip902)\" d=\"M18691 1423.18 L18691 1423.18 L18736 1423.18 L18736 1423.18 L18691 1423.18 L18691 1423.18  Z\" fill=\"#009af9\" fill-rule=\"evenodd\" fill-opacity=\"1\"/>\n",
       "<polyline clip-path=\"url(#clip902)\" style=\"stroke:#000000; stroke-linecap:round; stroke-linejoin:round; stroke-width:4; stroke-opacity:1; fill:none\" points=\"18691,1423.18 18691,1423.18 18736,1423.18 18691,1423.18 \"/>\n",
       "<path clip-path=\"url(#clip902)\" d=\"M18736 1423.18 L18736 1423.18 L18781.1 1423.18 L18781.1 1423.18 L18736 1423.18 L18736 1423.18  Z\" fill=\"#009af9\" fill-rule=\"evenodd\" fill-opacity=\"1\"/>\n",
       "<polyline clip-path=\"url(#clip902)\" style=\"stroke:#000000; stroke-linecap:round; stroke-linejoin:round; stroke-width:4; stroke-opacity:1; fill:none\" points=\"18736,1423.18 18736,1423.18 18781.1,1423.18 18736,1423.18 \"/>\n",
       "<path clip-path=\"url(#clip902)\" d=\"M18781.1 1423.18 L18781.1 1423.18 L18826.1 1423.18 L18826.1 1423.18 L18781.1 1423.18 L18781.1 1423.18  Z\" fill=\"#009af9\" fill-rule=\"evenodd\" fill-opacity=\"1\"/>\n",
       "<polyline clip-path=\"url(#clip902)\" style=\"stroke:#000000; stroke-linecap:round; stroke-linejoin:round; stroke-width:4; stroke-opacity:1; fill:none\" points=\"18781.1,1423.18 18781.1,1423.18 18826.1,1423.18 18781.1,1423.18 \"/>\n",
       "<path clip-path=\"url(#clip902)\" d=\"M18826.1 1423.18 L18826.1 1423.18 L18871.2 1423.18 L18871.2 1423.18 L18826.1 1423.18 L18826.1 1423.18  Z\" fill=\"#009af9\" fill-rule=\"evenodd\" fill-opacity=\"1\"/>\n",
       "<polyline clip-path=\"url(#clip902)\" style=\"stroke:#000000; stroke-linecap:round; stroke-linejoin:round; stroke-width:4; stroke-opacity:1; fill:none\" points=\"18826.1,1423.18 18826.1,1423.18 18871.2,1423.18 18826.1,1423.18 \"/>\n",
       "<path clip-path=\"url(#clip902)\" d=\"M18871.2 1423.18 L18871.2 1423.18 L18916.2 1423.18 L18916.2 1423.18 L18871.2 1423.18 L18871.2 1423.18  Z\" fill=\"#009af9\" fill-rule=\"evenodd\" fill-opacity=\"1\"/>\n",
       "<polyline clip-path=\"url(#clip902)\" style=\"stroke:#000000; stroke-linecap:round; stroke-linejoin:round; stroke-width:4; stroke-opacity:1; fill:none\" points=\"18871.2,1423.18 18871.2,1423.18 18916.2,1423.18 18871.2,1423.18 \"/>\n",
       "<path clip-path=\"url(#clip902)\" d=\"M18916.2 1423.18 L18916.2 1423.18 L18961.2 1423.18 L18961.2 1423.18 L18916.2 1423.18 L18916.2 1423.18  Z\" fill=\"#009af9\" fill-rule=\"evenodd\" fill-opacity=\"1\"/>\n",
       "<polyline clip-path=\"url(#clip902)\" style=\"stroke:#000000; stroke-linecap:round; stroke-linejoin:round; stroke-width:4; stroke-opacity:1; fill:none\" points=\"18916.2,1423.18 18916.2,1423.18 18961.2,1423.18 18916.2,1423.18 \"/>\n",
       "<path clip-path=\"url(#clip902)\" d=\"M18961.2 1423.18 L18961.2 1423.18 L19006.3 1423.18 L19006.3 1423.18 L18961.2 1423.18 L18961.2 1423.18  Z\" fill=\"#009af9\" fill-rule=\"evenodd\" fill-opacity=\"1\"/>\n",
       "<polyline clip-path=\"url(#clip902)\" style=\"stroke:#000000; stroke-linecap:round; stroke-linejoin:round; stroke-width:4; stroke-opacity:1; fill:none\" points=\"18961.2,1423.18 18961.2,1423.18 19006.3,1423.18 18961.2,1423.18 \"/>\n",
       "<path clip-path=\"url(#clip902)\" d=\"M19006.3 1423.18 L19006.3 1423.18 L19051.3 1423.18 L19051.3 1423.18 L19006.3 1423.18 L19006.3 1423.18  Z\" fill=\"#009af9\" fill-rule=\"evenodd\" fill-opacity=\"1\"/>\n",
       "<polyline clip-path=\"url(#clip902)\" style=\"stroke:#000000; stroke-linecap:round; stroke-linejoin:round; stroke-width:4; stroke-opacity:1; fill:none\" points=\"19006.3,1423.18 19006.3,1423.18 19051.3,1423.18 19006.3,1423.18 \"/>\n",
       "<path clip-path=\"url(#clip902)\" d=\"M19051.3 1423.18 L19051.3 1423.18 L19096.3 1423.18 L19096.3 1423.18 L19051.3 1423.18 L19051.3 1423.18  Z\" fill=\"#009af9\" fill-rule=\"evenodd\" fill-opacity=\"1\"/>\n",
       "<polyline clip-path=\"url(#clip902)\" style=\"stroke:#000000; stroke-linecap:round; stroke-linejoin:round; stroke-width:4; stroke-opacity:1; fill:none\" points=\"19051.3,1423.18 19051.3,1423.18 19096.3,1423.18 19051.3,1423.18 \"/>\n",
       "<path clip-path=\"url(#clip902)\" d=\"M19096.3 1423.18 L19096.3 1423.18 L19141.4 1423.18 L19141.4 1423.18 L19096.3 1423.18 L19096.3 1423.18  Z\" fill=\"#009af9\" fill-rule=\"evenodd\" fill-opacity=\"1\"/>\n",
       "<polyline clip-path=\"url(#clip902)\" style=\"stroke:#000000; stroke-linecap:round; stroke-linejoin:round; stroke-width:4; stroke-opacity:1; fill:none\" points=\"19096.3,1423.18 19096.3,1423.18 19141.4,1423.18 19096.3,1423.18 \"/>\n",
       "<path clip-path=\"url(#clip902)\" d=\"M19141.4 1423.18 L19141.4 1423.18 L19186.4 1423.18 L19186.4 1423.18 L19141.4 1423.18 L19141.4 1423.18  Z\" fill=\"#009af9\" fill-rule=\"evenodd\" fill-opacity=\"1\"/>\n",
       "<polyline clip-path=\"url(#clip902)\" style=\"stroke:#000000; stroke-linecap:round; stroke-linejoin:round; stroke-width:4; stroke-opacity:1; fill:none\" points=\"19141.4,1423.18 19141.4,1423.18 19186.4,1423.18 19141.4,1423.18 \"/>\n",
       "<path clip-path=\"url(#clip902)\" d=\"M19186.4 1423.18 L19186.4 1423.18 L19231.5 1423.18 L19231.5 1423.18 L19186.4 1423.18 L19186.4 1423.18  Z\" fill=\"#009af9\" fill-rule=\"evenodd\" fill-opacity=\"1\"/>\n",
       "<polyline clip-path=\"url(#clip902)\" style=\"stroke:#000000; stroke-linecap:round; stroke-linejoin:round; stroke-width:4; stroke-opacity:1; fill:none\" points=\"19186.4,1423.18 19186.4,1423.18 19231.5,1423.18 19186.4,1423.18 \"/>\n",
       "<path clip-path=\"url(#clip902)\" d=\"M19231.5 1423.18 L19231.5 1423.18 L19276.5 1423.18 L19276.5 1423.18 L19231.5 1423.18 L19231.5 1423.18  Z\" fill=\"#009af9\" fill-rule=\"evenodd\" fill-opacity=\"1\"/>\n",
       "<polyline clip-path=\"url(#clip902)\" style=\"stroke:#000000; stroke-linecap:round; stroke-linejoin:round; stroke-width:4; stroke-opacity:1; fill:none\" points=\"19231.5,1423.18 19231.5,1423.18 19276.5,1423.18 19231.5,1423.18 \"/>\n",
       "<path clip-path=\"url(#clip902)\" d=\"M19276.5 1423.18 L19276.5 1423.18 L19321.5 1423.18 L19321.5 1423.18 L19276.5 1423.18 L19276.5 1423.18  Z\" fill=\"#009af9\" fill-rule=\"evenodd\" fill-opacity=\"1\"/>\n",
       "<polyline clip-path=\"url(#clip902)\" style=\"stroke:#000000; stroke-linecap:round; stroke-linejoin:round; stroke-width:4; stroke-opacity:1; fill:none\" points=\"19276.5,1423.18 19276.5,1423.18 19321.5,1423.18 19276.5,1423.18 \"/>\n",
       "<path clip-path=\"url(#clip902)\" d=\"M19321.5 1423.18 L19321.5 1423.18 L19366.6 1423.18 L19366.6 1423.18 L19321.5 1423.18 L19321.5 1423.18  Z\" fill=\"#009af9\" fill-rule=\"evenodd\" fill-opacity=\"1\"/>\n",
       "<polyline clip-path=\"url(#clip902)\" style=\"stroke:#000000; stroke-linecap:round; stroke-linejoin:round; stroke-width:4; stroke-opacity:1; fill:none\" points=\"19321.5,1423.18 19321.5,1423.18 19366.6,1423.18 19321.5,1423.18 \"/>\n",
       "<path clip-path=\"url(#clip902)\" d=\"M19366.6 1423.18 L19366.6 1423.18 L19411.6 1423.18 L19411.6 1423.18 L19366.6 1423.18 L19366.6 1423.18  Z\" fill=\"#009af9\" fill-rule=\"evenodd\" fill-opacity=\"1\"/>\n",
       "<polyline clip-path=\"url(#clip902)\" style=\"stroke:#000000; stroke-linecap:round; stroke-linejoin:round; stroke-width:4; stroke-opacity:1; fill:none\" points=\"19366.6,1423.18 19366.6,1423.18 19411.6,1423.18 19366.6,1423.18 \"/>\n",
       "<path clip-path=\"url(#clip902)\" d=\"M19411.6 1423.18 L19411.6 1423.18 L19456.6 1423.18 L19456.6 1423.18 L19411.6 1423.18 L19411.6 1423.18  Z\" fill=\"#009af9\" fill-rule=\"evenodd\" fill-opacity=\"1\"/>\n",
       "<polyline clip-path=\"url(#clip902)\" style=\"stroke:#000000; stroke-linecap:round; stroke-linejoin:round; stroke-width:4; stroke-opacity:1; fill:none\" points=\"19411.6,1423.18 19411.6,1423.18 19456.6,1423.18 19411.6,1423.18 \"/>\n",
       "<path clip-path=\"url(#clip902)\" d=\"M19456.6 1423.18 L19456.6 1423.18 L19501.7 1423.18 L19501.7 1423.18 L19456.6 1423.18 L19456.6 1423.18  Z\" fill=\"#009af9\" fill-rule=\"evenodd\" fill-opacity=\"1\"/>\n",
       "<polyline clip-path=\"url(#clip902)\" style=\"stroke:#000000; stroke-linecap:round; stroke-linejoin:round; stroke-width:4; stroke-opacity:1; fill:none\" points=\"19456.6,1423.18 19456.6,1423.18 19501.7,1423.18 19456.6,1423.18 \"/>\n",
       "<path clip-path=\"url(#clip902)\" d=\"M19501.7 1423.18 L19501.7 1423.18 L19546.7 1423.18 L19546.7 1423.18 L19501.7 1423.18 L19501.7 1423.18  Z\" fill=\"#009af9\" fill-rule=\"evenodd\" fill-opacity=\"1\"/>\n",
       "<polyline clip-path=\"url(#clip902)\" style=\"stroke:#000000; stroke-linecap:round; stroke-linejoin:round; stroke-width:4; stroke-opacity:1; fill:none\" points=\"19501.7,1423.18 19501.7,1423.18 19546.7,1423.18 19501.7,1423.18 \"/>\n",
       "<path clip-path=\"url(#clip902)\" d=\"M19546.7 1423.18 L19546.7 1423.18 L19591.7 1423.18 L19591.7 1423.18 L19546.7 1423.18 L19546.7 1423.18  Z\" fill=\"#009af9\" fill-rule=\"evenodd\" fill-opacity=\"1\"/>\n",
       "<polyline clip-path=\"url(#clip902)\" style=\"stroke:#000000; stroke-linecap:round; stroke-linejoin:round; stroke-width:4; stroke-opacity:1; fill:none\" points=\"19546.7,1423.18 19546.7,1423.18 19591.7,1423.18 19546.7,1423.18 \"/>\n",
       "<path clip-path=\"url(#clip902)\" d=\"M19591.7 1423.18 L19591.7 1423.18 L19636.8 1423.18 L19636.8 1423.18 L19591.7 1423.18 L19591.7 1423.18  Z\" fill=\"#009af9\" fill-rule=\"evenodd\" fill-opacity=\"1\"/>\n",
       "<polyline clip-path=\"url(#clip902)\" style=\"stroke:#000000; stroke-linecap:round; stroke-linejoin:round; stroke-width:4; stroke-opacity:1; fill:none\" points=\"19591.7,1423.18 19591.7,1423.18 19636.8,1423.18 19591.7,1423.18 \"/>\n",
       "<path clip-path=\"url(#clip902)\" d=\"M19636.8 1423.18 L19636.8 1423.18 L19681.8 1423.18 L19681.8 1423.18 L19636.8 1423.18 L19636.8 1423.18  Z\" fill=\"#009af9\" fill-rule=\"evenodd\" fill-opacity=\"1\"/>\n",
       "<polyline clip-path=\"url(#clip902)\" style=\"stroke:#000000; stroke-linecap:round; stroke-linejoin:round; stroke-width:4; stroke-opacity:1; fill:none\" points=\"19636.8,1423.18 19636.8,1423.18 19681.8,1423.18 19636.8,1423.18 \"/>\n",
       "<path clip-path=\"url(#clip902)\" d=\"M19681.8 1423.18 L19681.8 1423.18 L19726.9 1423.18 L19726.9 1423.18 L19681.8 1423.18 L19681.8 1423.18  Z\" fill=\"#009af9\" fill-rule=\"evenodd\" fill-opacity=\"1\"/>\n",
       "<polyline clip-path=\"url(#clip902)\" style=\"stroke:#000000; stroke-linecap:round; stroke-linejoin:round; stroke-width:4; stroke-opacity:1; fill:none\" points=\"19681.8,1423.18 19681.8,1423.18 19726.9,1423.18 19681.8,1423.18 \"/>\n",
       "<path clip-path=\"url(#clip902)\" d=\"M19726.9 1423.18 L19726.9 1423.18 L19771.9 1423.18 L19771.9 1423.18 L19726.9 1423.18 L19726.9 1423.18  Z\" fill=\"#009af9\" fill-rule=\"evenodd\" fill-opacity=\"1\"/>\n",
       "<polyline clip-path=\"url(#clip902)\" style=\"stroke:#000000; stroke-linecap:round; stroke-linejoin:round; stroke-width:4; stroke-opacity:1; fill:none\" points=\"19726.9,1423.18 19726.9,1423.18 19771.9,1423.18 19726.9,1423.18 \"/>\n",
       "<path clip-path=\"url(#clip902)\" d=\"M19771.9 1423.18 L19771.9 1423.18 L19816.9 1423.18 L19816.9 1423.18 L19771.9 1423.18 L19771.9 1423.18  Z\" fill=\"#009af9\" fill-rule=\"evenodd\" fill-opacity=\"1\"/>\n",
       "<polyline clip-path=\"url(#clip902)\" style=\"stroke:#000000; stroke-linecap:round; stroke-linejoin:round; stroke-width:4; stroke-opacity:1; fill:none\" points=\"19771.9,1423.18 19771.9,1423.18 19816.9,1423.18 19771.9,1423.18 \"/>\n",
       "<path clip-path=\"url(#clip902)\" d=\"M19816.9 1423.18 L19816.9 1423.18 L19862 1423.18 L19862 1423.18 L19816.9 1423.18 L19816.9 1423.18  Z\" fill=\"#009af9\" fill-rule=\"evenodd\" fill-opacity=\"1\"/>\n",
       "<polyline clip-path=\"url(#clip902)\" style=\"stroke:#000000; stroke-linecap:round; stroke-linejoin:round; stroke-width:4; stroke-opacity:1; fill:none\" points=\"19816.9,1423.18 19816.9,1423.18 19862,1423.18 19816.9,1423.18 \"/>\n",
       "<path clip-path=\"url(#clip902)\" d=\"M19862 1423.18 L19862 1423.18 L19907 1423.18 L19907 1423.18 L19862 1423.18 L19862 1423.18  Z\" fill=\"#009af9\" fill-rule=\"evenodd\" fill-opacity=\"1\"/>\n",
       "<polyline clip-path=\"url(#clip902)\" style=\"stroke:#000000; stroke-linecap:round; stroke-linejoin:round; stroke-width:4; stroke-opacity:1; fill:none\" points=\"19862,1423.18 19862,1423.18 19907,1423.18 19862,1423.18 \"/>\n",
       "<path clip-path=\"url(#clip902)\" d=\"M19907 1423.18 L19907 1423.18 L19952 1423.18 L19952 1423.18 L19907 1423.18 L19907 1423.18  Z\" fill=\"#009af9\" fill-rule=\"evenodd\" fill-opacity=\"1\"/>\n",
       "<polyline clip-path=\"url(#clip902)\" style=\"stroke:#000000; stroke-linecap:round; stroke-linejoin:round; stroke-width:4; stroke-opacity:1; fill:none\" points=\"19907,1423.18 19907,1423.18 19952,1423.18 19907,1423.18 \"/>\n",
       "<path clip-path=\"url(#clip902)\" d=\"M19952 1423.18 L19952 1423.18 L19997.1 1423.18 L19997.1 1423.18 L19952 1423.18 L19952 1423.18  Z\" fill=\"#009af9\" fill-rule=\"evenodd\" fill-opacity=\"1\"/>\n",
       "<polyline clip-path=\"url(#clip902)\" style=\"stroke:#000000; stroke-linecap:round; stroke-linejoin:round; stroke-width:4; stroke-opacity:1; fill:none\" points=\"19952,1423.18 19952,1423.18 19997.1,1423.18 19952,1423.18 \"/>\n",
       "<path clip-path=\"url(#clip902)\" d=\"M19997.1 1423.18 L19997.1 1423.18 L20042.1 1423.18 L20042.1 1423.18 L19997.1 1423.18 L19997.1 1423.18  Z\" fill=\"#009af9\" fill-rule=\"evenodd\" fill-opacity=\"1\"/>\n",
       "<polyline clip-path=\"url(#clip902)\" style=\"stroke:#000000; stroke-linecap:round; stroke-linejoin:round; stroke-width:4; stroke-opacity:1; fill:none\" points=\"19997.1,1423.18 19997.1,1423.18 20042.1,1423.18 19997.1,1423.18 \"/>\n",
       "<path clip-path=\"url(#clip902)\" d=\"M20042.1 1423.18 L20042.1 1423.18 L20087.2 1423.18 L20087.2 1423.18 L20042.1 1423.18 L20042.1 1423.18  Z\" fill=\"#009af9\" fill-rule=\"evenodd\" fill-opacity=\"1\"/>\n",
       "<polyline clip-path=\"url(#clip902)\" style=\"stroke:#000000; stroke-linecap:round; stroke-linejoin:round; stroke-width:4; stroke-opacity:1; fill:none\" points=\"20042.1,1423.18 20042.1,1423.18 20087.2,1423.18 20042.1,1423.18 \"/>\n",
       "<path clip-path=\"url(#clip902)\" d=\"M20087.2 1423.18 L20087.2 1423.18 L20132.2 1423.18 L20132.2 1423.18 L20087.2 1423.18 L20087.2 1423.18  Z\" fill=\"#009af9\" fill-rule=\"evenodd\" fill-opacity=\"1\"/>\n",
       "<polyline clip-path=\"url(#clip902)\" style=\"stroke:#000000; stroke-linecap:round; stroke-linejoin:round; stroke-width:4; stroke-opacity:1; fill:none\" points=\"20087.2,1423.18 20087.2,1423.18 20132.2,1423.18 20087.2,1423.18 \"/>\n",
       "<path clip-path=\"url(#clip902)\" d=\"M20132.2 1423.18 L20132.2 1423.18 L20177.2 1423.18 L20177.2 1423.18 L20132.2 1423.18 L20132.2 1423.18  Z\" fill=\"#009af9\" fill-rule=\"evenodd\" fill-opacity=\"1\"/>\n",
       "<polyline clip-path=\"url(#clip902)\" style=\"stroke:#000000; stroke-linecap:round; stroke-linejoin:round; stroke-width:4; stroke-opacity:1; fill:none\" points=\"20132.2,1423.18 20132.2,1423.18 20177.2,1423.18 20132.2,1423.18 \"/>\n",
       "<path clip-path=\"url(#clip902)\" d=\"M20177.2 1423.18 L20177.2 1423.18 L20222.3 1423.18 L20222.3 1423.18 L20177.2 1423.18 L20177.2 1423.18  Z\" fill=\"#009af9\" fill-rule=\"evenodd\" fill-opacity=\"1\"/>\n",
       "<polyline clip-path=\"url(#clip902)\" style=\"stroke:#000000; stroke-linecap:round; stroke-linejoin:round; stroke-width:4; stroke-opacity:1; fill:none\" points=\"20177.2,1423.18 20177.2,1423.18 20222.3,1423.18 20177.2,1423.18 \"/>\n",
       "<path clip-path=\"url(#clip902)\" d=\"M20222.3 1423.18 L20222.3 1423.18 L20267.3 1423.18 L20267.3 1423.18 L20222.3 1423.18 L20222.3 1423.18  Z\" fill=\"#009af9\" fill-rule=\"evenodd\" fill-opacity=\"1\"/>\n",
       "<polyline clip-path=\"url(#clip902)\" style=\"stroke:#000000; stroke-linecap:round; stroke-linejoin:round; stroke-width:4; stroke-opacity:1; fill:none\" points=\"20222.3,1423.18 20222.3,1423.18 20267.3,1423.18 20222.3,1423.18 \"/>\n",
       "<path clip-path=\"url(#clip902)\" d=\"M20267.3 1423.18 L20267.3 1423.18 L20312.3 1423.18 L20312.3 1423.18 L20267.3 1423.18 L20267.3 1423.18  Z\" fill=\"#009af9\" fill-rule=\"evenodd\" fill-opacity=\"1\"/>\n",
       "<polyline clip-path=\"url(#clip902)\" style=\"stroke:#000000; stroke-linecap:round; stroke-linejoin:round; stroke-width:4; stroke-opacity:1; fill:none\" points=\"20267.3,1423.18 20267.3,1423.18 20312.3,1423.18 20267.3,1423.18 \"/>\n",
       "<path clip-path=\"url(#clip902)\" d=\"M20312.3 1423.18 L20312.3 1423.18 L20357.4 1423.18 L20357.4 1423.18 L20312.3 1423.18 L20312.3 1423.18  Z\" fill=\"#009af9\" fill-rule=\"evenodd\" fill-opacity=\"1\"/>\n",
       "<polyline clip-path=\"url(#clip902)\" style=\"stroke:#000000; stroke-linecap:round; stroke-linejoin:round; stroke-width:4; stroke-opacity:1; fill:none\" points=\"20312.3,1423.18 20312.3,1423.18 20357.4,1423.18 20312.3,1423.18 \"/>\n",
       "<path clip-path=\"url(#clip902)\" d=\"M20357.4 1423.18 L20357.4 1423.18 L20402.4 1423.18 L20402.4 1423.18 L20357.4 1423.18 L20357.4 1423.18  Z\" fill=\"#009af9\" fill-rule=\"evenodd\" fill-opacity=\"1\"/>\n",
       "<polyline clip-path=\"url(#clip902)\" style=\"stroke:#000000; stroke-linecap:round; stroke-linejoin:round; stroke-width:4; stroke-opacity:1; fill:none\" points=\"20357.4,1423.18 20357.4,1423.18 20402.4,1423.18 20357.4,1423.18 \"/>\n",
       "<path clip-path=\"url(#clip902)\" d=\"M20402.4 1423.18 L20402.4 1423.18 L20447.5 1423.18 L20447.5 1423.18 L20402.4 1423.18 L20402.4 1423.18  Z\" fill=\"#009af9\" fill-rule=\"evenodd\" fill-opacity=\"1\"/>\n",
       "<polyline clip-path=\"url(#clip902)\" style=\"stroke:#000000; stroke-linecap:round; stroke-linejoin:round; stroke-width:4; stroke-opacity:1; fill:none\" points=\"20402.4,1423.18 20402.4,1423.18 20447.5,1423.18 20402.4,1423.18 \"/>\n",
       "<path clip-path=\"url(#clip902)\" d=\"M20447.5 1423.18 L20447.5 1423.18 L20492.5 1423.18 L20492.5 1423.18 L20447.5 1423.18 L20447.5 1423.18  Z\" fill=\"#009af9\" fill-rule=\"evenodd\" fill-opacity=\"1\"/>\n",
       "<polyline clip-path=\"url(#clip902)\" style=\"stroke:#000000; stroke-linecap:round; stroke-linejoin:round; stroke-width:4; stroke-opacity:1; fill:none\" points=\"20447.5,1423.18 20447.5,1423.18 20492.5,1423.18 20447.5,1423.18 \"/>\n",
       "<path clip-path=\"url(#clip902)\" d=\"M20492.5 1423.18 L20492.5 1423.18 L20537.5 1423.18 L20537.5 1423.18 L20492.5 1423.18 L20492.5 1423.18  Z\" fill=\"#009af9\" fill-rule=\"evenodd\" fill-opacity=\"1\"/>\n",
       "<polyline clip-path=\"url(#clip902)\" style=\"stroke:#000000; stroke-linecap:round; stroke-linejoin:round; stroke-width:4; stroke-opacity:1; fill:none\" points=\"20492.5,1423.18 20492.5,1423.18 20537.5,1423.18 20492.5,1423.18 \"/>\n",
       "<path clip-path=\"url(#clip902)\" d=\"M20537.5 1423.18 L20537.5 1423.18 L20582.6 1423.18 L20582.6 1423.18 L20537.5 1423.18 L20537.5 1423.18  Z\" fill=\"#009af9\" fill-rule=\"evenodd\" fill-opacity=\"1\"/>\n",
       "<polyline clip-path=\"url(#clip902)\" style=\"stroke:#000000; stroke-linecap:round; stroke-linejoin:round; stroke-width:4; stroke-opacity:1; fill:none\" points=\"20537.5,1423.18 20537.5,1423.18 20582.6,1423.18 20537.5,1423.18 \"/>\n",
       "<path clip-path=\"url(#clip902)\" d=\"M20582.6 1423.18 L20582.6 1423.18 L20627.6 1423.18 L20627.6 1423.18 L20582.6 1423.18 L20582.6 1423.18  Z\" fill=\"#009af9\" fill-rule=\"evenodd\" fill-opacity=\"1\"/>\n",
       "<polyline clip-path=\"url(#clip902)\" style=\"stroke:#000000; stroke-linecap:round; stroke-linejoin:round; stroke-width:4; stroke-opacity:1; fill:none\" points=\"20582.6,1423.18 20582.6,1423.18 20627.6,1423.18 20582.6,1423.18 \"/>\n",
       "<path clip-path=\"url(#clip902)\" d=\"M20627.6 1423.18 L20627.6 1423.18 L20672.6 1423.18 L20672.6 1423.18 L20627.6 1423.18 L20627.6 1423.18  Z\" fill=\"#009af9\" fill-rule=\"evenodd\" fill-opacity=\"1\"/>\n",
       "<polyline clip-path=\"url(#clip902)\" style=\"stroke:#000000; stroke-linecap:round; stroke-linejoin:round; stroke-width:4; stroke-opacity:1; fill:none\" points=\"20627.6,1423.18 20627.6,1423.18 20672.6,1423.18 20627.6,1423.18 \"/>\n",
       "<path clip-path=\"url(#clip902)\" d=\"M20672.6 1423.18 L20672.6 1423.18 L20717.7 1423.18 L20717.7 1423.18 L20672.6 1423.18 L20672.6 1423.18  Z\" fill=\"#009af9\" fill-rule=\"evenodd\" fill-opacity=\"1\"/>\n",
       "<polyline clip-path=\"url(#clip902)\" style=\"stroke:#000000; stroke-linecap:round; stroke-linejoin:round; stroke-width:4; stroke-opacity:1; fill:none\" points=\"20672.6,1423.18 20672.6,1423.18 20717.7,1423.18 20672.6,1423.18 \"/>\n",
       "<path clip-path=\"url(#clip902)\" d=\"M20717.7 1423.18 L20717.7 1423.18 L20762.7 1423.18 L20762.7 1423.18 L20717.7 1423.18 L20717.7 1423.18  Z\" fill=\"#009af9\" fill-rule=\"evenodd\" fill-opacity=\"1\"/>\n",
       "<polyline clip-path=\"url(#clip902)\" style=\"stroke:#000000; stroke-linecap:round; stroke-linejoin:round; stroke-width:4; stroke-opacity:1; fill:none\" points=\"20717.7,1423.18 20717.7,1423.18 20762.7,1423.18 20717.7,1423.18 \"/>\n",
       "<path clip-path=\"url(#clip902)\" d=\"M20762.7 1423.18 L20762.7 1423.18 L20807.8 1423.18 L20807.8 1423.18 L20762.7 1423.18 L20762.7 1423.18  Z\" fill=\"#009af9\" fill-rule=\"evenodd\" fill-opacity=\"1\"/>\n",
       "<polyline clip-path=\"url(#clip902)\" style=\"stroke:#000000; stroke-linecap:round; stroke-linejoin:round; stroke-width:4; stroke-opacity:1; fill:none\" points=\"20762.7,1423.18 20762.7,1423.18 20807.8,1423.18 20762.7,1423.18 \"/>\n",
       "<path clip-path=\"url(#clip902)\" d=\"M20807.8 1423.18 L20807.8 1423.18 L20852.8 1423.18 L20852.8 1423.18 L20807.8 1423.18 L20807.8 1423.18  Z\" fill=\"#009af9\" fill-rule=\"evenodd\" fill-opacity=\"1\"/>\n",
       "<polyline clip-path=\"url(#clip902)\" style=\"stroke:#000000; stroke-linecap:round; stroke-linejoin:round; stroke-width:4; stroke-opacity:1; fill:none\" points=\"20807.8,1423.18 20807.8,1423.18 20852.8,1423.18 20807.8,1423.18 \"/>\n",
       "<path clip-path=\"url(#clip902)\" d=\"M20852.8 1423.18 L20852.8 1423.18 L20897.8 1423.18 L20897.8 1423.18 L20852.8 1423.18 L20852.8 1423.18  Z\" fill=\"#009af9\" fill-rule=\"evenodd\" fill-opacity=\"1\"/>\n",
       "<polyline clip-path=\"url(#clip902)\" style=\"stroke:#000000; stroke-linecap:round; stroke-linejoin:round; stroke-width:4; stroke-opacity:1; fill:none\" points=\"20852.8,1423.18 20852.8,1423.18 20897.8,1423.18 20852.8,1423.18 \"/>\n",
       "<path clip-path=\"url(#clip902)\" d=\"M20897.8 1423.18 L20897.8 1423.18 L20942.9 1423.18 L20942.9 1423.18 L20897.8 1423.18 L20897.8 1423.18  Z\" fill=\"#009af9\" fill-rule=\"evenodd\" fill-opacity=\"1\"/>\n",
       "<polyline clip-path=\"url(#clip902)\" style=\"stroke:#000000; stroke-linecap:round; stroke-linejoin:round; stroke-width:4; stroke-opacity:1; fill:none\" points=\"20897.8,1423.18 20897.8,1423.18 20942.9,1423.18 20897.8,1423.18 \"/>\n",
       "<path clip-path=\"url(#clip902)\" d=\"M20942.9 1423.18 L20942.9 1423.18 L20987.9 1423.18 L20987.9 1423.18 L20942.9 1423.18 L20942.9 1423.18  Z\" fill=\"#009af9\" fill-rule=\"evenodd\" fill-opacity=\"1\"/>\n",
       "<polyline clip-path=\"url(#clip902)\" style=\"stroke:#000000; stroke-linecap:round; stroke-linejoin:round; stroke-width:4; stroke-opacity:1; fill:none\" points=\"20942.9,1423.18 20942.9,1423.18 20987.9,1423.18 20942.9,1423.18 \"/>\n",
       "<path clip-path=\"url(#clip902)\" d=\"M20987.9 1423.18 L20987.9 1423.18 L21032.9 1423.18 L21032.9 1423.18 L20987.9 1423.18 L20987.9 1423.18  Z\" fill=\"#009af9\" fill-rule=\"evenodd\" fill-opacity=\"1\"/>\n",
       "<polyline clip-path=\"url(#clip902)\" style=\"stroke:#000000; stroke-linecap:round; stroke-linejoin:round; stroke-width:4; stroke-opacity:1; fill:none\" points=\"20987.9,1423.18 20987.9,1423.18 21032.9,1423.18 20987.9,1423.18 \"/>\n",
       "<path clip-path=\"url(#clip902)\" d=\"M21032.9 1423.18 L21032.9 1423.18 L21078 1423.18 L21078 1423.18 L21032.9 1423.18 L21032.9 1423.18  Z\" fill=\"#009af9\" fill-rule=\"evenodd\" fill-opacity=\"1\"/>\n",
       "<polyline clip-path=\"url(#clip902)\" style=\"stroke:#000000; stroke-linecap:round; stroke-linejoin:round; stroke-width:4; stroke-opacity:1; fill:none\" points=\"21032.9,1423.18 21032.9,1423.18 21078,1423.18 21032.9,1423.18 \"/>\n",
       "<path clip-path=\"url(#clip902)\" d=\"M21078 1423.18 L21078 1423.18 L21123 1423.18 L21123 1423.18 L21078 1423.18 L21078 1423.18  Z\" fill=\"#009af9\" fill-rule=\"evenodd\" fill-opacity=\"1\"/>\n",
       "<polyline clip-path=\"url(#clip902)\" style=\"stroke:#000000; stroke-linecap:round; stroke-linejoin:round; stroke-width:4; stroke-opacity:1; fill:none\" points=\"21078,1423.18 21078,1423.18 21123,1423.18 21078,1423.18 \"/>\n",
       "<path clip-path=\"url(#clip902)\" d=\"M21123 1423.18 L21123 1423.18 L21168.1 1423.18 L21168.1 1423.18 L21123 1423.18 L21123 1423.18  Z\" fill=\"#009af9\" fill-rule=\"evenodd\" fill-opacity=\"1\"/>\n",
       "<polyline clip-path=\"url(#clip902)\" style=\"stroke:#000000; stroke-linecap:round; stroke-linejoin:round; stroke-width:4; stroke-opacity:1; fill:none\" points=\"21123,1423.18 21123,1423.18 21168.1,1423.18 21123,1423.18 \"/>\n",
       "<path clip-path=\"url(#clip902)\" d=\"M21168.1 1423.18 L21168.1 1423.18 L21213.1 1423.18 L21213.1 1423.18 L21168.1 1423.18 L21168.1 1423.18  Z\" fill=\"#009af9\" fill-rule=\"evenodd\" fill-opacity=\"1\"/>\n",
       "<polyline clip-path=\"url(#clip902)\" style=\"stroke:#000000; stroke-linecap:round; stroke-linejoin:round; stroke-width:4; stroke-opacity:1; fill:none\" points=\"21168.1,1423.18 21168.1,1423.18 21213.1,1423.18 21168.1,1423.18 \"/>\n",
       "<path clip-path=\"url(#clip902)\" d=\"M21213.1 1423.18 L21213.1 1423.18 L21258.1 1423.18 L21258.1 1423.18 L21213.1 1423.18 L21213.1 1423.18  Z\" fill=\"#009af9\" fill-rule=\"evenodd\" fill-opacity=\"1\"/>\n",
       "<polyline clip-path=\"url(#clip902)\" style=\"stroke:#000000; stroke-linecap:round; stroke-linejoin:round; stroke-width:4; stroke-opacity:1; fill:none\" points=\"21213.1,1423.18 21213.1,1423.18 21258.1,1423.18 21213.1,1423.18 \"/>\n",
       "<path clip-path=\"url(#clip902)\" d=\"M21258.1 1423.18 L21258.1 1423.18 L21303.2 1423.18 L21303.2 1423.18 L21258.1 1423.18 L21258.1 1423.18  Z\" fill=\"#009af9\" fill-rule=\"evenodd\" fill-opacity=\"1\"/>\n",
       "<polyline clip-path=\"url(#clip902)\" style=\"stroke:#000000; stroke-linecap:round; stroke-linejoin:round; stroke-width:4; stroke-opacity:1; fill:none\" points=\"21258.1,1423.18 21258.1,1423.18 21303.2,1423.18 21258.1,1423.18 \"/>\n",
       "<path clip-path=\"url(#clip902)\" d=\"M21303.2 1423.18 L21303.2 1423.18 L21348.2 1423.18 L21348.2 1423.18 L21303.2 1423.18 L21303.2 1423.18  Z\" fill=\"#009af9\" fill-rule=\"evenodd\" fill-opacity=\"1\"/>\n",
       "<polyline clip-path=\"url(#clip902)\" style=\"stroke:#000000; stroke-linecap:round; stroke-linejoin:round; stroke-width:4; stroke-opacity:1; fill:none\" points=\"21303.2,1423.18 21303.2,1423.18 21348.2,1423.18 21303.2,1423.18 \"/>\n",
       "<path clip-path=\"url(#clip902)\" d=\"M21348.2 1423.18 L21348.2 1423.18 L21393.2 1423.18 L21393.2 1423.18 L21348.2 1423.18 L21348.2 1423.18  Z\" fill=\"#009af9\" fill-rule=\"evenodd\" fill-opacity=\"1\"/>\n",
       "<polyline clip-path=\"url(#clip902)\" style=\"stroke:#000000; stroke-linecap:round; stroke-linejoin:round; stroke-width:4; stroke-opacity:1; fill:none\" points=\"21348.2,1423.18 21348.2,1423.18 21393.2,1423.18 21348.2,1423.18 \"/>\n",
       "<path clip-path=\"url(#clip902)\" d=\"M21393.2 1423.18 L21393.2 1423.18 L21438.3 1423.18 L21438.3 1423.18 L21393.2 1423.18 L21393.2 1423.18  Z\" fill=\"#009af9\" fill-rule=\"evenodd\" fill-opacity=\"1\"/>\n",
       "<polyline clip-path=\"url(#clip902)\" style=\"stroke:#000000; stroke-linecap:round; stroke-linejoin:round; stroke-width:4; stroke-opacity:1; fill:none\" points=\"21393.2,1423.18 21393.2,1423.18 21438.3,1423.18 21393.2,1423.18 \"/>\n",
       "<path clip-path=\"url(#clip902)\" d=\"M21438.3 1423.18 L21438.3 1423.18 L21483.3 1423.18 L21483.3 1423.18 L21438.3 1423.18 L21438.3 1423.18  Z\" fill=\"#009af9\" fill-rule=\"evenodd\" fill-opacity=\"1\"/>\n",
       "<polyline clip-path=\"url(#clip902)\" style=\"stroke:#000000; stroke-linecap:round; stroke-linejoin:round; stroke-width:4; stroke-opacity:1; fill:none\" points=\"21438.3,1423.18 21438.3,1423.18 21483.3,1423.18 21438.3,1423.18 \"/>\n",
       "<path clip-path=\"url(#clip902)\" d=\"M21483.3 1423.18 L21483.3 1423.18 L21528.3 1423.18 L21528.3 1423.18 L21483.3 1423.18 L21483.3 1423.18  Z\" fill=\"#009af9\" fill-rule=\"evenodd\" fill-opacity=\"1\"/>\n",
       "<polyline clip-path=\"url(#clip902)\" style=\"stroke:#000000; stroke-linecap:round; stroke-linejoin:round; stroke-width:4; stroke-opacity:1; fill:none\" points=\"21483.3,1423.18 21483.3,1423.18 21528.3,1423.18 21483.3,1423.18 \"/>\n",
       "<path clip-path=\"url(#clip902)\" d=\"M21528.3 1423.18 L21528.3 1423.18 L21573.4 1423.18 L21573.4 1423.18 L21528.3 1423.18 L21528.3 1423.18  Z\" fill=\"#009af9\" fill-rule=\"evenodd\" fill-opacity=\"1\"/>\n",
       "<polyline clip-path=\"url(#clip902)\" style=\"stroke:#000000; stroke-linecap:round; stroke-linejoin:round; stroke-width:4; stroke-opacity:1; fill:none\" points=\"21528.3,1423.18 21528.3,1423.18 21573.4,1423.18 21528.3,1423.18 \"/>\n",
       "<path clip-path=\"url(#clip902)\" d=\"M21573.4 1423.18 L21573.4 1423.18 L21618.4 1423.18 L21618.4 1423.18 L21573.4 1423.18 L21573.4 1423.18  Z\" fill=\"#009af9\" fill-rule=\"evenodd\" fill-opacity=\"1\"/>\n",
       "<polyline clip-path=\"url(#clip902)\" style=\"stroke:#000000; stroke-linecap:round; stroke-linejoin:round; stroke-width:4; stroke-opacity:1; fill:none\" points=\"21573.4,1423.18 21573.4,1423.18 21618.4,1423.18 21573.4,1423.18 \"/>\n",
       "<path clip-path=\"url(#clip902)\" d=\"M21618.4 1423.18 L21618.4 1423.18 L21663.5 1423.18 L21663.5 1423.18 L21618.4 1423.18 L21618.4 1423.18  Z\" fill=\"#009af9\" fill-rule=\"evenodd\" fill-opacity=\"1\"/>\n",
       "<polyline clip-path=\"url(#clip902)\" style=\"stroke:#000000; stroke-linecap:round; stroke-linejoin:round; stroke-width:4; stroke-opacity:1; fill:none\" points=\"21618.4,1423.18 21618.4,1423.18 21663.5,1423.18 21618.4,1423.18 \"/>\n",
       "<path clip-path=\"url(#clip902)\" d=\"M21663.5 1423.18 L21663.5 1423.18 L21708.5 1423.18 L21708.5 1423.18 L21663.5 1423.18 L21663.5 1423.18  Z\" fill=\"#009af9\" fill-rule=\"evenodd\" fill-opacity=\"1\"/>\n",
       "<polyline clip-path=\"url(#clip902)\" style=\"stroke:#000000; stroke-linecap:round; stroke-linejoin:round; stroke-width:4; stroke-opacity:1; fill:none\" points=\"21663.5,1423.18 21663.5,1423.18 21708.5,1423.18 21663.5,1423.18 \"/>\n",
       "<path clip-path=\"url(#clip902)\" d=\"M21708.5 1423.18 L21708.5 1423.18 L21753.5 1423.18 L21753.5 1423.18 L21708.5 1423.18 L21708.5 1423.18  Z\" fill=\"#009af9\" fill-rule=\"evenodd\" fill-opacity=\"1\"/>\n",
       "<polyline clip-path=\"url(#clip902)\" style=\"stroke:#000000; stroke-linecap:round; stroke-linejoin:round; stroke-width:4; stroke-opacity:1; fill:none\" points=\"21708.5,1423.18 21708.5,1423.18 21753.5,1423.18 21708.5,1423.18 \"/>\n",
       "<path clip-path=\"url(#clip902)\" d=\"M21753.5 1423.18 L21753.5 1423.18 L21798.6 1423.18 L21798.6 1423.18 L21753.5 1423.18 L21753.5 1423.18  Z\" fill=\"#009af9\" fill-rule=\"evenodd\" fill-opacity=\"1\"/>\n",
       "<polyline clip-path=\"url(#clip902)\" style=\"stroke:#000000; stroke-linecap:round; stroke-linejoin:round; stroke-width:4; stroke-opacity:1; fill:none\" points=\"21753.5,1423.18 21753.5,1423.18 21798.6,1423.18 21753.5,1423.18 \"/>\n",
       "<path clip-path=\"url(#clip902)\" d=\"M21798.6 1423.18 L21798.6 1423.18 L21843.6 1423.18 L21843.6 1423.18 L21798.6 1423.18 L21798.6 1423.18  Z\" fill=\"#009af9\" fill-rule=\"evenodd\" fill-opacity=\"1\"/>\n",
       "<polyline clip-path=\"url(#clip902)\" style=\"stroke:#000000; stroke-linecap:round; stroke-linejoin:round; stroke-width:4; stroke-opacity:1; fill:none\" points=\"21798.6,1423.18 21798.6,1423.18 21843.6,1423.18 21798.6,1423.18 \"/>\n",
       "<path clip-path=\"url(#clip902)\" d=\"M21843.6 1423.18 L21843.6 1423.18 L21888.6 1423.18 L21888.6 1423.18 L21843.6 1423.18 L21843.6 1423.18  Z\" fill=\"#009af9\" fill-rule=\"evenodd\" fill-opacity=\"1\"/>\n",
       "<polyline clip-path=\"url(#clip902)\" style=\"stroke:#000000; stroke-linecap:round; stroke-linejoin:round; stroke-width:4; stroke-opacity:1; fill:none\" points=\"21843.6,1423.18 21843.6,1423.18 21888.6,1423.18 21843.6,1423.18 \"/>\n",
       "<path clip-path=\"url(#clip902)\" d=\"M21888.6 1423.18 L21888.6 1423.18 L21933.7 1423.18 L21933.7 1423.18 L21888.6 1423.18 L21888.6 1423.18  Z\" fill=\"#009af9\" fill-rule=\"evenodd\" fill-opacity=\"1\"/>\n",
       "<polyline clip-path=\"url(#clip902)\" style=\"stroke:#000000; stroke-linecap:round; stroke-linejoin:round; stroke-width:4; stroke-opacity:1; fill:none\" points=\"21888.6,1423.18 21888.6,1423.18 21933.7,1423.18 21888.6,1423.18 \"/>\n",
       "<path clip-path=\"url(#clip902)\" d=\"M21933.7 1423.18 L21933.7 1423.18 L21978.7 1423.18 L21978.7 1423.18 L21933.7 1423.18 L21933.7 1423.18  Z\" fill=\"#009af9\" fill-rule=\"evenodd\" fill-opacity=\"1\"/>\n",
       "<polyline clip-path=\"url(#clip902)\" style=\"stroke:#000000; stroke-linecap:round; stroke-linejoin:round; stroke-width:4; stroke-opacity:1; fill:none\" points=\"21933.7,1423.18 21933.7,1423.18 21978.7,1423.18 21933.7,1423.18 \"/>\n",
       "<path clip-path=\"url(#clip902)\" d=\"M21978.7 1423.18 L21978.7 1423.18 L22023.8 1423.18 L22023.8 1423.18 L21978.7 1423.18 L21978.7 1423.18  Z\" fill=\"#009af9\" fill-rule=\"evenodd\" fill-opacity=\"1\"/>\n",
       "<polyline clip-path=\"url(#clip902)\" style=\"stroke:#000000; stroke-linecap:round; stroke-linejoin:round; stroke-width:4; stroke-opacity:1; fill:none\" points=\"21978.7,1423.18 21978.7,1423.18 22023.8,1423.18 21978.7,1423.18 \"/>\n",
       "<path clip-path=\"url(#clip902)\" d=\"M22023.8 1423.18 L22023.8 1423.18 L22068.8 1423.18 L22068.8 1423.18 L22023.8 1423.18 L22023.8 1423.18  Z\" fill=\"#009af9\" fill-rule=\"evenodd\" fill-opacity=\"1\"/>\n",
       "<polyline clip-path=\"url(#clip902)\" style=\"stroke:#000000; stroke-linecap:round; stroke-linejoin:round; stroke-width:4; stroke-opacity:1; fill:none\" points=\"22023.8,1423.18 22023.8,1423.18 22068.8,1423.18 22023.8,1423.18 \"/>\n",
       "<path clip-path=\"url(#clip902)\" d=\"M22068.8 1423.18 L22068.8 1423.18 L22113.8 1423.18 L22113.8 1423.18 L22068.8 1423.18 L22068.8 1423.18  Z\" fill=\"#009af9\" fill-rule=\"evenodd\" fill-opacity=\"1\"/>\n",
       "<polyline clip-path=\"url(#clip902)\" style=\"stroke:#000000; stroke-linecap:round; stroke-linejoin:round; stroke-width:4; stroke-opacity:1; fill:none\" points=\"22068.8,1423.18 22068.8,1423.18 22113.8,1423.18 22068.8,1423.18 \"/>\n",
       "<path clip-path=\"url(#clip902)\" d=\"M22113.8 1423.18 L22113.8 1423.18 L22158.9 1423.18 L22158.9 1423.18 L22113.8 1423.18 L22113.8 1423.18  Z\" fill=\"#009af9\" fill-rule=\"evenodd\" fill-opacity=\"1\"/>\n",
       "<polyline clip-path=\"url(#clip902)\" style=\"stroke:#000000; stroke-linecap:round; stroke-linejoin:round; stroke-width:4; stroke-opacity:1; fill:none\" points=\"22113.8,1423.18 22113.8,1423.18 22158.9,1423.18 22113.8,1423.18 \"/>\n",
       "<path clip-path=\"url(#clip902)\" d=\"M22158.9 1423.18 L22158.9 1423.18 L22203.9 1423.18 L22203.9 1423.18 L22158.9 1423.18 L22158.9 1423.18  Z\" fill=\"#009af9\" fill-rule=\"evenodd\" fill-opacity=\"1\"/>\n",
       "<polyline clip-path=\"url(#clip902)\" style=\"stroke:#000000; stroke-linecap:round; stroke-linejoin:round; stroke-width:4; stroke-opacity:1; fill:none\" points=\"22158.9,1423.18 22158.9,1423.18 22203.9,1423.18 22158.9,1423.18 \"/>\n",
       "<path clip-path=\"url(#clip902)\" d=\"M22203.9 1423.18 L22203.9 1423.18 L22248.9 1423.18 L22248.9 1423.18 L22203.9 1423.18 L22203.9 1423.18  Z\" fill=\"#009af9\" fill-rule=\"evenodd\" fill-opacity=\"1\"/>\n",
       "<polyline clip-path=\"url(#clip902)\" style=\"stroke:#000000; stroke-linecap:round; stroke-linejoin:round; stroke-width:4; stroke-opacity:1; fill:none\" points=\"22203.9,1423.18 22203.9,1423.18 22248.9,1423.18 22203.9,1423.18 \"/>\n",
       "<path clip-path=\"url(#clip902)\" d=\"M22248.9 1423.18 L22248.9 1423.18 L22294 1423.18 L22294 1423.18 L22248.9 1423.18 L22248.9 1423.18  Z\" fill=\"#009af9\" fill-rule=\"evenodd\" fill-opacity=\"1\"/>\n",
       "<polyline clip-path=\"url(#clip902)\" style=\"stroke:#000000; stroke-linecap:round; stroke-linejoin:round; stroke-width:4; stroke-opacity:1; fill:none\" points=\"22248.9,1423.18 22248.9,1423.18 22294,1423.18 22248.9,1423.18 \"/>\n",
       "<path clip-path=\"url(#clip902)\" d=\"M22294 1423.18 L22294 1423.18 L22339 1423.18 L22339 1423.18 L22294 1423.18 L22294 1423.18  Z\" fill=\"#009af9\" fill-rule=\"evenodd\" fill-opacity=\"1\"/>\n",
       "<polyline clip-path=\"url(#clip902)\" style=\"stroke:#000000; stroke-linecap:round; stroke-linejoin:round; stroke-width:4; stroke-opacity:1; fill:none\" points=\"22294,1423.18 22294,1423.18 22339,1423.18 22294,1423.18 \"/>\n",
       "<path clip-path=\"url(#clip902)\" d=\"M22339 1423.18 L22339 1423.18 L22384.1 1423.18 L22384.1 1423.18 L22339 1423.18 L22339 1423.18  Z\" fill=\"#009af9\" fill-rule=\"evenodd\" fill-opacity=\"1\"/>\n",
       "<polyline clip-path=\"url(#clip902)\" style=\"stroke:#000000; stroke-linecap:round; stroke-linejoin:round; stroke-width:4; stroke-opacity:1; fill:none\" points=\"22339,1423.18 22339,1423.18 22384.1,1423.18 22339,1423.18 \"/>\n",
       "<path clip-path=\"url(#clip902)\" d=\"M22384.1 1423.18 L22384.1 1423.18 L22429.1 1423.18 L22429.1 1423.18 L22384.1 1423.18 L22384.1 1423.18  Z\" fill=\"#009af9\" fill-rule=\"evenodd\" fill-opacity=\"1\"/>\n",
       "<polyline clip-path=\"url(#clip902)\" style=\"stroke:#000000; stroke-linecap:round; stroke-linejoin:round; stroke-width:4; stroke-opacity:1; fill:none\" points=\"22384.1,1423.18 22384.1,1423.18 22429.1,1423.18 22384.1,1423.18 \"/>\n",
       "<path clip-path=\"url(#clip902)\" d=\"M22429.1 1423.18 L22429.1 1423.18 L22474.1 1423.18 L22474.1 1423.18 L22429.1 1423.18 L22429.1 1423.18  Z\" fill=\"#009af9\" fill-rule=\"evenodd\" fill-opacity=\"1\"/>\n",
       "<polyline clip-path=\"url(#clip902)\" style=\"stroke:#000000; stroke-linecap:round; stroke-linejoin:round; stroke-width:4; stroke-opacity:1; fill:none\" points=\"22429.1,1423.18 22429.1,1423.18 22474.1,1423.18 22429.1,1423.18 \"/>\n",
       "<path clip-path=\"url(#clip902)\" d=\"M22474.1 1423.18 L22474.1 1423.18 L22519.2 1423.18 L22519.2 1423.18 L22474.1 1423.18 L22474.1 1423.18  Z\" fill=\"#009af9\" fill-rule=\"evenodd\" fill-opacity=\"1\"/>\n",
       "<polyline clip-path=\"url(#clip902)\" style=\"stroke:#000000; stroke-linecap:round; stroke-linejoin:round; stroke-width:4; stroke-opacity:1; fill:none\" points=\"22474.1,1423.18 22474.1,1423.18 22519.2,1423.18 22474.1,1423.18 \"/>\n",
       "<path clip-path=\"url(#clip902)\" d=\"M22519.2 1423.18 L22519.2 1423.18 L22564.2 1423.18 L22564.2 1423.18 L22519.2 1423.18 L22519.2 1423.18  Z\" fill=\"#009af9\" fill-rule=\"evenodd\" fill-opacity=\"1\"/>\n",
       "<polyline clip-path=\"url(#clip902)\" style=\"stroke:#000000; stroke-linecap:round; stroke-linejoin:round; stroke-width:4; stroke-opacity:1; fill:none\" points=\"22519.2,1423.18 22519.2,1423.18 22564.2,1423.18 22519.2,1423.18 \"/>\n",
       "<path clip-path=\"url(#clip902)\" d=\"M22564.2 1423.18 L22564.2 1423.18 L22609.2 1423.18 L22609.2 1423.18 L22564.2 1423.18 L22564.2 1423.18  Z\" fill=\"#009af9\" fill-rule=\"evenodd\" fill-opacity=\"1\"/>\n",
       "<polyline clip-path=\"url(#clip902)\" style=\"stroke:#000000; stroke-linecap:round; stroke-linejoin:round; stroke-width:4; stroke-opacity:1; fill:none\" points=\"22564.2,1423.18 22564.2,1423.18 22609.2,1423.18 22564.2,1423.18 \"/>\n",
       "<path clip-path=\"url(#clip902)\" d=\"M22609.2 1423.18 L22609.2 1423.18 L22654.3 1423.18 L22654.3 1423.18 L22609.2 1423.18 L22609.2 1423.18  Z\" fill=\"#009af9\" fill-rule=\"evenodd\" fill-opacity=\"1\"/>\n",
       "<polyline clip-path=\"url(#clip902)\" style=\"stroke:#000000; stroke-linecap:round; stroke-linejoin:round; stroke-width:4; stroke-opacity:1; fill:none\" points=\"22609.2,1423.18 22609.2,1423.18 22654.3,1423.18 22609.2,1423.18 \"/>\n",
       "<path clip-path=\"url(#clip902)\" d=\"M22654.3 1423.18 L22654.3 1423.18 L22699.3 1423.18 L22699.3 1423.18 L22654.3 1423.18 L22654.3 1423.18  Z\" fill=\"#009af9\" fill-rule=\"evenodd\" fill-opacity=\"1\"/>\n",
       "<polyline clip-path=\"url(#clip902)\" style=\"stroke:#000000; stroke-linecap:round; stroke-linejoin:round; stroke-width:4; stroke-opacity:1; fill:none\" points=\"22654.3,1423.18 22654.3,1423.18 22699.3,1423.18 22654.3,1423.18 \"/>\n",
       "<path clip-path=\"url(#clip902)\" d=\"M22699.3 1423.18 L22699.3 1423.18 L22744.4 1423.18 L22744.4 1423.18 L22699.3 1423.18 L22699.3 1423.18  Z\" fill=\"#009af9\" fill-rule=\"evenodd\" fill-opacity=\"1\"/>\n",
       "<polyline clip-path=\"url(#clip902)\" style=\"stroke:#000000; stroke-linecap:round; stroke-linejoin:round; stroke-width:4; stroke-opacity:1; fill:none\" points=\"22699.3,1423.18 22699.3,1423.18 22744.4,1423.18 22699.3,1423.18 \"/>\n",
       "<path clip-path=\"url(#clip902)\" d=\"M22744.4 1423.18 L22744.4 1423.18 L22789.4 1423.18 L22789.4 1423.18 L22744.4 1423.18 L22744.4 1423.18  Z\" fill=\"#009af9\" fill-rule=\"evenodd\" fill-opacity=\"1\"/>\n",
       "<polyline clip-path=\"url(#clip902)\" style=\"stroke:#000000; stroke-linecap:round; stroke-linejoin:round; stroke-width:4; stroke-opacity:1; fill:none\" points=\"22744.4,1423.18 22744.4,1423.18 22789.4,1423.18 22744.4,1423.18 \"/>\n",
       "<path clip-path=\"url(#clip902)\" d=\"M22789.4 1423.18 L22789.4 1423.18 L22834.4 1423.18 L22834.4 1423.18 L22789.4 1423.18 L22789.4 1423.18  Z\" fill=\"#009af9\" fill-rule=\"evenodd\" fill-opacity=\"1\"/>\n",
       "<polyline clip-path=\"url(#clip902)\" style=\"stroke:#000000; stroke-linecap:round; stroke-linejoin:round; stroke-width:4; stroke-opacity:1; fill:none\" points=\"22789.4,1423.18 22789.4,1423.18 22834.4,1423.18 22789.4,1423.18 \"/>\n",
       "<path clip-path=\"url(#clip902)\" d=\"M22834.4 1423.18 L22834.4 1423.18 L22879.5 1423.18 L22879.5 1423.18 L22834.4 1423.18 L22834.4 1423.18  Z\" fill=\"#009af9\" fill-rule=\"evenodd\" fill-opacity=\"1\"/>\n",
       "<polyline clip-path=\"url(#clip902)\" style=\"stroke:#000000; stroke-linecap:round; stroke-linejoin:round; stroke-width:4; stroke-opacity:1; fill:none\" points=\"22834.4,1423.18 22834.4,1423.18 22879.5,1423.18 22834.4,1423.18 \"/>\n",
       "<path clip-path=\"url(#clip902)\" d=\"M22879.5 1423.18 L22879.5 1423.18 L22924.5 1423.18 L22924.5 1423.18 L22879.5 1423.18 L22879.5 1423.18  Z\" fill=\"#009af9\" fill-rule=\"evenodd\" fill-opacity=\"1\"/>\n",
       "<polyline clip-path=\"url(#clip902)\" style=\"stroke:#000000; stroke-linecap:round; stroke-linejoin:round; stroke-width:4; stroke-opacity:1; fill:none\" points=\"22879.5,1423.18 22879.5,1423.18 22924.5,1423.18 22879.5,1423.18 \"/>\n",
       "<path clip-path=\"url(#clip902)\" d=\"M22924.5 1423.18 L22924.5 1423.18 L22969.5 1423.18 L22969.5 1423.18 L22924.5 1423.18 L22924.5 1423.18  Z\" fill=\"#009af9\" fill-rule=\"evenodd\" fill-opacity=\"1\"/>\n",
       "<polyline clip-path=\"url(#clip902)\" style=\"stroke:#000000; stroke-linecap:round; stroke-linejoin:round; stroke-width:4; stroke-opacity:1; fill:none\" points=\"22924.5,1423.18 22924.5,1423.18 22969.5,1423.18 22924.5,1423.18 \"/>\n",
       "<path clip-path=\"url(#clip902)\" d=\"M22969.5 1423.18 L22969.5 1423.18 L23014.6 1423.18 L23014.6 1423.18 L22969.5 1423.18 L22969.5 1423.18  Z\" fill=\"#009af9\" fill-rule=\"evenodd\" fill-opacity=\"1\"/>\n",
       "<polyline clip-path=\"url(#clip902)\" style=\"stroke:#000000; stroke-linecap:round; stroke-linejoin:round; stroke-width:4; stroke-opacity:1; fill:none\" points=\"22969.5,1423.18 22969.5,1423.18 23014.6,1423.18 22969.5,1423.18 \"/>\n",
       "<path clip-path=\"url(#clip902)\" d=\"M23014.6 1423.18 L23014.6 1423.18 L23059.6 1423.18 L23059.6 1423.18 L23014.6 1423.18 L23014.6 1423.18  Z\" fill=\"#009af9\" fill-rule=\"evenodd\" fill-opacity=\"1\"/>\n",
       "<polyline clip-path=\"url(#clip902)\" style=\"stroke:#000000; stroke-linecap:round; stroke-linejoin:round; stroke-width:4; stroke-opacity:1; fill:none\" points=\"23014.6,1423.18 23014.6,1423.18 23059.6,1423.18 23014.6,1423.18 \"/>\n",
       "<path clip-path=\"url(#clip902)\" d=\"M23059.6 1423.18 L23059.6 1423.18 L23104.7 1423.18 L23104.7 1423.18 L23059.6 1423.18 L23059.6 1423.18  Z\" fill=\"#009af9\" fill-rule=\"evenodd\" fill-opacity=\"1\"/>\n",
       "<polyline clip-path=\"url(#clip902)\" style=\"stroke:#000000; stroke-linecap:round; stroke-linejoin:round; stroke-width:4; stroke-opacity:1; fill:none\" points=\"23059.6,1423.18 23059.6,1423.18 23104.7,1423.18 23059.6,1423.18 \"/>\n",
       "<path clip-path=\"url(#clip902)\" d=\"M23104.7 1423.18 L23104.7 1423.18 L23149.7 1423.18 L23149.7 1423.18 L23104.7 1423.18 L23104.7 1423.18  Z\" fill=\"#009af9\" fill-rule=\"evenodd\" fill-opacity=\"1\"/>\n",
       "<polyline clip-path=\"url(#clip902)\" style=\"stroke:#000000; stroke-linecap:round; stroke-linejoin:round; stroke-width:4; stroke-opacity:1; fill:none\" points=\"23104.7,1423.18 23104.7,1423.18 23149.7,1423.18 23104.7,1423.18 \"/>\n",
       "<path clip-path=\"url(#clip902)\" d=\"M23149.7 1423.18 L23149.7 1423.18 L23194.7 1423.18 L23194.7 1423.18 L23149.7 1423.18 L23149.7 1423.18  Z\" fill=\"#009af9\" fill-rule=\"evenodd\" fill-opacity=\"1\"/>\n",
       "<polyline clip-path=\"url(#clip902)\" style=\"stroke:#000000; stroke-linecap:round; stroke-linejoin:round; stroke-width:4; stroke-opacity:1; fill:none\" points=\"23149.7,1423.18 23149.7,1423.18 23194.7,1423.18 23149.7,1423.18 \"/>\n",
       "<path clip-path=\"url(#clip902)\" d=\"M23194.7 1423.18 L23194.7 1423.18 L23239.8 1423.18 L23239.8 1423.18 L23194.7 1423.18 L23194.7 1423.18  Z\" fill=\"#009af9\" fill-rule=\"evenodd\" fill-opacity=\"1\"/>\n",
       "<polyline clip-path=\"url(#clip902)\" style=\"stroke:#000000; stroke-linecap:round; stroke-linejoin:round; stroke-width:4; stroke-opacity:1; fill:none\" points=\"23194.7,1423.18 23194.7,1423.18 23239.8,1423.18 23194.7,1423.18 \"/>\n",
       "<path clip-path=\"url(#clip902)\" d=\"M23239.8 1423.18 L23239.8 1423.18 L23284.8 1423.18 L23284.8 1423.18 L23239.8 1423.18 L23239.8 1423.18  Z\" fill=\"#009af9\" fill-rule=\"evenodd\" fill-opacity=\"1\"/>\n",
       "<polyline clip-path=\"url(#clip902)\" style=\"stroke:#000000; stroke-linecap:round; stroke-linejoin:round; stroke-width:4; stroke-opacity:1; fill:none\" points=\"23239.8,1423.18 23239.8,1423.18 23284.8,1423.18 23239.8,1423.18 \"/>\n",
       "<path clip-path=\"url(#clip902)\" d=\"M23284.8 1423.18 L23284.8 1423.18 L23329.8 1423.18 L23329.8 1423.18 L23284.8 1423.18 L23284.8 1423.18  Z\" fill=\"#009af9\" fill-rule=\"evenodd\" fill-opacity=\"1\"/>\n",
       "<polyline clip-path=\"url(#clip902)\" style=\"stroke:#000000; stroke-linecap:round; stroke-linejoin:round; stroke-width:4; stroke-opacity:1; fill:none\" points=\"23284.8,1423.18 23284.8,1423.18 23329.8,1423.18 23284.8,1423.18 \"/>\n",
       "<path clip-path=\"url(#clip902)\" d=\"M23329.8 1423.18 L23329.8 1423.18 L23374.9 1423.18 L23374.9 1423.18 L23329.8 1423.18 L23329.8 1423.18  Z\" fill=\"#009af9\" fill-rule=\"evenodd\" fill-opacity=\"1\"/>\n",
       "<polyline clip-path=\"url(#clip902)\" style=\"stroke:#000000; stroke-linecap:round; stroke-linejoin:round; stroke-width:4; stroke-opacity:1; fill:none\" points=\"23329.8,1423.18 23329.8,1423.18 23374.9,1423.18 23329.8,1423.18 \"/>\n",
       "<path clip-path=\"url(#clip902)\" d=\"M23374.9 1423.18 L23374.9 1423.18 L23419.9 1423.18 L23419.9 1423.18 L23374.9 1423.18 L23374.9 1423.18  Z\" fill=\"#009af9\" fill-rule=\"evenodd\" fill-opacity=\"1\"/>\n",
       "<polyline clip-path=\"url(#clip902)\" style=\"stroke:#000000; stroke-linecap:round; stroke-linejoin:round; stroke-width:4; stroke-opacity:1; fill:none\" points=\"23374.9,1423.18 23374.9,1423.18 23419.9,1423.18 23374.9,1423.18 \"/>\n",
       "<path clip-path=\"url(#clip902)\" d=\"M23419.9 1423.18 L23419.9 1423.18 L23464.9 1423.18 L23464.9 1423.18 L23419.9 1423.18 L23419.9 1423.18  Z\" fill=\"#009af9\" fill-rule=\"evenodd\" fill-opacity=\"1\"/>\n",
       "<polyline clip-path=\"url(#clip902)\" style=\"stroke:#000000; stroke-linecap:round; stroke-linejoin:round; stroke-width:4; stroke-opacity:1; fill:none\" points=\"23419.9,1423.18 23419.9,1423.18 23464.9,1423.18 23419.9,1423.18 \"/>\n",
       "<path clip-path=\"url(#clip902)\" d=\"M23464.9 1423.18 L23464.9 1423.18 L23510 1423.18 L23510 1423.18 L23464.9 1423.18 L23464.9 1423.18  Z\" fill=\"#009af9\" fill-rule=\"evenodd\" fill-opacity=\"1\"/>\n",
       "<polyline clip-path=\"url(#clip902)\" style=\"stroke:#000000; stroke-linecap:round; stroke-linejoin:round; stroke-width:4; stroke-opacity:1; fill:none\" points=\"23464.9,1423.18 23464.9,1423.18 23510,1423.18 23464.9,1423.18 \"/>\n",
       "<path clip-path=\"url(#clip902)\" d=\"M23510 1423.18 L23510 1423.18 L23555 1423.18 L23555 1423.18 L23510 1423.18 L23510 1423.18  Z\" fill=\"#009af9\" fill-rule=\"evenodd\" fill-opacity=\"1\"/>\n",
       "<polyline clip-path=\"url(#clip902)\" style=\"stroke:#000000; stroke-linecap:round; stroke-linejoin:round; stroke-width:4; stroke-opacity:1; fill:none\" points=\"23510,1423.18 23510,1423.18 23555,1423.18 23510,1423.18 \"/>\n",
       "<path clip-path=\"url(#clip902)\" d=\"M23555 1423.18 L23555 1423.18 L23600.1 1423.18 L23600.1 1423.18 L23555 1423.18 L23555 1423.18  Z\" fill=\"#009af9\" fill-rule=\"evenodd\" fill-opacity=\"1\"/>\n",
       "<polyline clip-path=\"url(#clip902)\" style=\"stroke:#000000; stroke-linecap:round; stroke-linejoin:round; stroke-width:4; stroke-opacity:1; fill:none\" points=\"23555,1423.18 23555,1423.18 23600.1,1423.18 23555,1423.18 \"/>\n",
       "<path clip-path=\"url(#clip902)\" d=\"M23600.1 1423.18 L23600.1 1423.18 L23645.1 1423.18 L23645.1 1423.18 L23600.1 1423.18 L23600.1 1423.18  Z\" fill=\"#009af9\" fill-rule=\"evenodd\" fill-opacity=\"1\"/>\n",
       "<polyline clip-path=\"url(#clip902)\" style=\"stroke:#000000; stroke-linecap:round; stroke-linejoin:round; stroke-width:4; stroke-opacity:1; fill:none\" points=\"23600.1,1423.18 23600.1,1423.18 23645.1,1423.18 23600.1,1423.18 \"/>\n",
       "<path clip-path=\"url(#clip902)\" d=\"M23645.1 1423.18 L23645.1 1423.18 L23690.1 1423.18 L23690.1 1423.18 L23645.1 1423.18 L23645.1 1423.18  Z\" fill=\"#009af9\" fill-rule=\"evenodd\" fill-opacity=\"1\"/>\n",
       "<polyline clip-path=\"url(#clip902)\" style=\"stroke:#000000; stroke-linecap:round; stroke-linejoin:round; stroke-width:4; stroke-opacity:1; fill:none\" points=\"23645.1,1423.18 23645.1,1423.18 23690.1,1423.18 23645.1,1423.18 \"/>\n",
       "<path clip-path=\"url(#clip902)\" d=\"M23690.1 1423.18 L23690.1 1423.18 L23735.2 1423.18 L23735.2 1423.18 L23690.1 1423.18 L23690.1 1423.18  Z\" fill=\"#009af9\" fill-rule=\"evenodd\" fill-opacity=\"1\"/>\n",
       "<polyline clip-path=\"url(#clip902)\" style=\"stroke:#000000; stroke-linecap:round; stroke-linejoin:round; stroke-width:4; stroke-opacity:1; fill:none\" points=\"23690.1,1423.18 23690.1,1423.18 23735.2,1423.18 23690.1,1423.18 \"/>\n",
       "<path clip-path=\"url(#clip902)\" d=\"M23735.2 1423.18 L23735.2 1423.18 L23780.2 1423.18 L23780.2 1423.18 L23735.2 1423.18 L23735.2 1423.18  Z\" fill=\"#009af9\" fill-rule=\"evenodd\" fill-opacity=\"1\"/>\n",
       "<polyline clip-path=\"url(#clip902)\" style=\"stroke:#000000; stroke-linecap:round; stroke-linejoin:round; stroke-width:4; stroke-opacity:1; fill:none\" points=\"23735.2,1423.18 23735.2,1423.18 23780.2,1423.18 23735.2,1423.18 \"/>\n",
       "<path clip-path=\"url(#clip902)\" d=\"M23780.2 1423.18 L23780.2 1423.18 L23825.2 1423.18 L23825.2 1423.18 L23780.2 1423.18 L23780.2 1423.18  Z\" fill=\"#009af9\" fill-rule=\"evenodd\" fill-opacity=\"1\"/>\n",
       "<polyline clip-path=\"url(#clip902)\" style=\"stroke:#000000; stroke-linecap:round; stroke-linejoin:round; stroke-width:4; stroke-opacity:1; fill:none\" points=\"23780.2,1423.18 23780.2,1423.18 23825.2,1423.18 23780.2,1423.18 \"/>\n",
       "<path clip-path=\"url(#clip902)\" d=\"M23825.2 1423.18 L23825.2 1423.18 L23870.3 1423.18 L23870.3 1423.18 L23825.2 1423.18 L23825.2 1423.18  Z\" fill=\"#009af9\" fill-rule=\"evenodd\" fill-opacity=\"1\"/>\n",
       "<polyline clip-path=\"url(#clip902)\" style=\"stroke:#000000; stroke-linecap:round; stroke-linejoin:round; stroke-width:4; stroke-opacity:1; fill:none\" points=\"23825.2,1423.18 23825.2,1423.18 23870.3,1423.18 23825.2,1423.18 \"/>\n",
       "<path clip-path=\"url(#clip902)\" d=\"M23870.3 1423.18 L23870.3 1423.18 L23915.3 1423.18 L23915.3 1423.18 L23870.3 1423.18 L23870.3 1423.18  Z\" fill=\"#009af9\" fill-rule=\"evenodd\" fill-opacity=\"1\"/>\n",
       "<polyline clip-path=\"url(#clip902)\" style=\"stroke:#000000; stroke-linecap:round; stroke-linejoin:round; stroke-width:4; stroke-opacity:1; fill:none\" points=\"23870.3,1423.18 23870.3,1423.18 23915.3,1423.18 23870.3,1423.18 \"/>\n",
       "<path clip-path=\"url(#clip902)\" d=\"M23915.3 1423.18 L23915.3 1423.18 L23960.4 1423.18 L23960.4 1423.18 L23915.3 1423.18 L23915.3 1423.18  Z\" fill=\"#009af9\" fill-rule=\"evenodd\" fill-opacity=\"1\"/>\n",
       "<polyline clip-path=\"url(#clip902)\" style=\"stroke:#000000; stroke-linecap:round; stroke-linejoin:round; stroke-width:4; stroke-opacity:1; fill:none\" points=\"23915.3,1423.18 23915.3,1423.18 23960.4,1423.18 23915.3,1423.18 \"/>\n",
       "<path clip-path=\"url(#clip902)\" d=\"M23960.4 1423.18 L23960.4 1423.18 L24005.4 1423.18 L24005.4 1423.18 L23960.4 1423.18 L23960.4 1423.18  Z\" fill=\"#009af9\" fill-rule=\"evenodd\" fill-opacity=\"1\"/>\n",
       "<polyline clip-path=\"url(#clip902)\" style=\"stroke:#000000; stroke-linecap:round; stroke-linejoin:round; stroke-width:4; stroke-opacity:1; fill:none\" points=\"23960.4,1423.18 23960.4,1423.18 24005.4,1423.18 23960.4,1423.18 \"/>\n",
       "<path clip-path=\"url(#clip902)\" d=\"M24005.4 1423.18 L24005.4 1423.18 L24050.4 1423.18 L24050.4 1423.18 L24005.4 1423.18 L24005.4 1423.18  Z\" fill=\"#009af9\" fill-rule=\"evenodd\" fill-opacity=\"1\"/>\n",
       "<polyline clip-path=\"url(#clip902)\" style=\"stroke:#000000; stroke-linecap:round; stroke-linejoin:round; stroke-width:4; stroke-opacity:1; fill:none\" points=\"24005.4,1423.18 24005.4,1423.18 24050.4,1423.18 24005.4,1423.18 \"/>\n",
       "<path clip-path=\"url(#clip902)\" d=\"M24050.4 1423.18 L24050.4 1423.18 L24095.5 1423.18 L24095.5 1423.18 L24050.4 1423.18 L24050.4 1423.18  Z\" fill=\"#009af9\" fill-rule=\"evenodd\" fill-opacity=\"1\"/>\n",
       "<polyline clip-path=\"url(#clip902)\" style=\"stroke:#000000; stroke-linecap:round; stroke-linejoin:round; stroke-width:4; stroke-opacity:1; fill:none\" points=\"24050.4,1423.18 24050.4,1423.18 24095.5,1423.18 24050.4,1423.18 \"/>\n",
       "<path clip-path=\"url(#clip902)\" d=\"M24095.5 1423.18 L24095.5 1423.18 L24140.5 1423.18 L24140.5 1423.18 L24095.5 1423.18 L24095.5 1423.18  Z\" fill=\"#009af9\" fill-rule=\"evenodd\" fill-opacity=\"1\"/>\n",
       "<polyline clip-path=\"url(#clip902)\" style=\"stroke:#000000; stroke-linecap:round; stroke-linejoin:round; stroke-width:4; stroke-opacity:1; fill:none\" points=\"24095.5,1423.18 24095.5,1423.18 24140.5,1423.18 24095.5,1423.18 \"/>\n",
       "<path clip-path=\"url(#clip902)\" d=\"M24140.5 1423.18 L24140.5 1423.18 L24185.5 1423.18 L24185.5 1423.18 L24140.5 1423.18 L24140.5 1423.18  Z\" fill=\"#009af9\" fill-rule=\"evenodd\" fill-opacity=\"1\"/>\n",
       "<polyline clip-path=\"url(#clip902)\" style=\"stroke:#000000; stroke-linecap:round; stroke-linejoin:round; stroke-width:4; stroke-opacity:1; fill:none\" points=\"24140.5,1423.18 24140.5,1423.18 24185.5,1423.18 24140.5,1423.18 \"/>\n",
       "<path clip-path=\"url(#clip902)\" d=\"M24185.5 1423.18 L24185.5 1423.18 L24230.6 1423.18 L24230.6 1423.18 L24185.5 1423.18 L24185.5 1423.18  Z\" fill=\"#009af9\" fill-rule=\"evenodd\" fill-opacity=\"1\"/>\n",
       "<polyline clip-path=\"url(#clip902)\" style=\"stroke:#000000; stroke-linecap:round; stroke-linejoin:round; stroke-width:4; stroke-opacity:1; fill:none\" points=\"24185.5,1423.18 24185.5,1423.18 24230.6,1423.18 24185.5,1423.18 \"/>\n",
       "<path clip-path=\"url(#clip902)\" d=\"M24230.6 1423.18 L24230.6 1423.18 L24275.6 1423.18 L24275.6 1423.18 L24230.6 1423.18 L24230.6 1423.18  Z\" fill=\"#009af9\" fill-rule=\"evenodd\" fill-opacity=\"1\"/>\n",
       "<polyline clip-path=\"url(#clip902)\" style=\"stroke:#000000; stroke-linecap:round; stroke-linejoin:round; stroke-width:4; stroke-opacity:1; fill:none\" points=\"24230.6,1423.18 24230.6,1423.18 24275.6,1423.18 24230.6,1423.18 \"/>\n",
       "<path clip-path=\"url(#clip902)\" d=\"M24275.6 1423.18 L24275.6 1423.18 L24320.7 1423.18 L24320.7 1423.18 L24275.6 1423.18 L24275.6 1423.18  Z\" fill=\"#009af9\" fill-rule=\"evenodd\" fill-opacity=\"1\"/>\n",
       "<polyline clip-path=\"url(#clip902)\" style=\"stroke:#000000; stroke-linecap:round; stroke-linejoin:round; stroke-width:4; stroke-opacity:1; fill:none\" points=\"24275.6,1423.18 24275.6,1423.18 24320.7,1423.18 24275.6,1423.18 \"/>\n",
       "<path clip-path=\"url(#clip902)\" d=\"M24320.7 1423.18 L24320.7 1423.18 L24365.7 1423.18 L24365.7 1423.18 L24320.7 1423.18 L24320.7 1423.18  Z\" fill=\"#009af9\" fill-rule=\"evenodd\" fill-opacity=\"1\"/>\n",
       "<polyline clip-path=\"url(#clip902)\" style=\"stroke:#000000; stroke-linecap:round; stroke-linejoin:round; stroke-width:4; stroke-opacity:1; fill:none\" points=\"24320.7,1423.18 24320.7,1423.18 24365.7,1423.18 24320.7,1423.18 \"/>\n",
       "<path clip-path=\"url(#clip902)\" d=\"M24365.7 1423.18 L24365.7 1423.18 L24410.7 1423.18 L24410.7 1423.18 L24365.7 1423.18 L24365.7 1423.18  Z\" fill=\"#009af9\" fill-rule=\"evenodd\" fill-opacity=\"1\"/>\n",
       "<polyline clip-path=\"url(#clip902)\" style=\"stroke:#000000; stroke-linecap:round; stroke-linejoin:round; stroke-width:4; stroke-opacity:1; fill:none\" points=\"24365.7,1423.18 24365.7,1423.18 24410.7,1423.18 24365.7,1423.18 \"/>\n",
       "<path clip-path=\"url(#clip902)\" d=\"M24410.7 1423.18 L24410.7 1423.18 L24455.8 1423.18 L24455.8 1423.18 L24410.7 1423.18 L24410.7 1423.18  Z\" fill=\"#009af9\" fill-rule=\"evenodd\" fill-opacity=\"1\"/>\n",
       "<polyline clip-path=\"url(#clip902)\" style=\"stroke:#000000; stroke-linecap:round; stroke-linejoin:round; stroke-width:4; stroke-opacity:1; fill:none\" points=\"24410.7,1423.18 24410.7,1423.18 24455.8,1423.18 24410.7,1423.18 \"/>\n",
       "<path clip-path=\"url(#clip902)\" d=\"M24455.8 1423.18 L24455.8 1423.18 L24500.8 1423.18 L24500.8 1423.18 L24455.8 1423.18 L24455.8 1423.18  Z\" fill=\"#009af9\" fill-rule=\"evenodd\" fill-opacity=\"1\"/>\n",
       "<polyline clip-path=\"url(#clip902)\" style=\"stroke:#000000; stroke-linecap:round; stroke-linejoin:round; stroke-width:4; stroke-opacity:1; fill:none\" points=\"24455.8,1423.18 24455.8,1423.18 24500.8,1423.18 24455.8,1423.18 \"/>\n",
       "<path clip-path=\"url(#clip902)\" d=\"M24500.8 1423.18 L24500.8 1423.18 L24545.8 1423.18 L24545.8 1423.18 L24500.8 1423.18 L24500.8 1423.18  Z\" fill=\"#009af9\" fill-rule=\"evenodd\" fill-opacity=\"1\"/>\n",
       "<polyline clip-path=\"url(#clip902)\" style=\"stroke:#000000; stroke-linecap:round; stroke-linejoin:round; stroke-width:4; stroke-opacity:1; fill:none\" points=\"24500.8,1423.18 24500.8,1423.18 24545.8,1423.18 24500.8,1423.18 \"/>\n",
       "<path clip-path=\"url(#clip902)\" d=\"M24545.8 1423.18 L24545.8 1423.18 L24590.9 1423.18 L24590.9 1423.18 L24545.8 1423.18 L24545.8 1423.18  Z\" fill=\"#009af9\" fill-rule=\"evenodd\" fill-opacity=\"1\"/>\n",
       "<polyline clip-path=\"url(#clip902)\" style=\"stroke:#000000; stroke-linecap:round; stroke-linejoin:round; stroke-width:4; stroke-opacity:1; fill:none\" points=\"24545.8,1423.18 24545.8,1423.18 24590.9,1423.18 24545.8,1423.18 \"/>\n",
       "<path clip-path=\"url(#clip902)\" d=\"M24590.9 1423.18 L24590.9 1423.18 L24635.9 1423.18 L24635.9 1423.18 L24590.9 1423.18 L24590.9 1423.18  Z\" fill=\"#009af9\" fill-rule=\"evenodd\" fill-opacity=\"1\"/>\n",
       "<polyline clip-path=\"url(#clip902)\" style=\"stroke:#000000; stroke-linecap:round; stroke-linejoin:round; stroke-width:4; stroke-opacity:1; fill:none\" points=\"24590.9,1423.18 24590.9,1423.18 24635.9,1423.18 24590.9,1423.18 \"/>\n",
       "<path clip-path=\"url(#clip902)\" d=\"M24635.9 1423.18 L24635.9 1423.18 L24681 1423.18 L24681 1423.18 L24635.9 1423.18 L24635.9 1423.18  Z\" fill=\"#009af9\" fill-rule=\"evenodd\" fill-opacity=\"1\"/>\n",
       "<polyline clip-path=\"url(#clip902)\" style=\"stroke:#000000; stroke-linecap:round; stroke-linejoin:round; stroke-width:4; stroke-opacity:1; fill:none\" points=\"24635.9,1423.18 24635.9,1423.18 24681,1423.18 24635.9,1423.18 \"/>\n",
       "<path clip-path=\"url(#clip902)\" d=\"M24681 1395.66 L24681 1423.18 L24726 1423.18 L24726 1395.66 L24681 1395.66 L24681 1395.66  Z\" fill=\"#009af9\" fill-rule=\"evenodd\" fill-opacity=\"1\"/>\n",
       "<polyline clip-path=\"url(#clip902)\" style=\"stroke:#000000; stroke-linecap:round; stroke-linejoin:round; stroke-width:4; stroke-opacity:1; fill:none\" points=\"24681,1395.66 24681,1423.18 24726,1423.18 24726,1395.66 24681,1395.66 \"/>\n",
       "<circle clip-path=\"url(#clip902)\" style=\"fill:#009af9; stroke:none; fill-opacity:0\" cx=\"428.415\" cy=\"1368.14\" r=\"2\"/>\n",
       "<circle clip-path=\"url(#clip902)\" style=\"fill:#009af9; stroke:none; fill-opacity:0\" cx=\"473.453\" cy=\"1285.59\" r=\"2\"/>\n",
       "<circle clip-path=\"url(#clip902)\" style=\"fill:#009af9; stroke:none; fill-opacity:0\" cx=\"518.49\" cy=\"680.175\" r=\"2\"/>\n",
       "<circle clip-path=\"url(#clip902)\" style=\"fill:#009af9; stroke:none; fill-opacity:0\" cx=\"563.527\" cy=\"47.2441\" r=\"2\"/>\n",
       "<circle clip-path=\"url(#clip902)\" style=\"fill:#009af9; stroke:none; fill-opacity:0\" cx=\"608.564\" cy=\"845.287\" r=\"2\"/>\n",
       "<circle clip-path=\"url(#clip902)\" style=\"fill:#009af9; stroke:none; fill-opacity:0\" cx=\"653.602\" cy=\"817.768\" r=\"2\"/>\n",
       "<circle clip-path=\"url(#clip902)\" style=\"fill:#009af9; stroke:none; fill-opacity:0\" cx=\"698.639\" cy=\"927.843\" r=\"2\"/>\n",
       "<circle clip-path=\"url(#clip902)\" style=\"fill:#009af9; stroke:none; fill-opacity:0\" cx=\"743.676\" cy=\"1092.96\" r=\"2\"/>\n",
       "<circle clip-path=\"url(#clip902)\" style=\"fill:#009af9; stroke:none; fill-opacity:0\" cx=\"788.713\" cy=\"1285.59\" r=\"2\"/>\n",
       "<circle clip-path=\"url(#clip902)\" style=\"fill:#009af9; stroke:none; fill-opacity:0\" cx=\"833.75\" cy=\"1147.99\" r=\"2\"/>\n",
       "<circle clip-path=\"url(#clip902)\" style=\"fill:#009af9; stroke:none; fill-opacity:0\" cx=\"878.788\" cy=\"1175.51\" r=\"2\"/>\n",
       "<circle clip-path=\"url(#clip902)\" style=\"fill:#009af9; stroke:none; fill-opacity:0\" cx=\"923.825\" cy=\"1203.03\" r=\"2\"/>\n",
       "<circle clip-path=\"url(#clip902)\" style=\"fill:#009af9; stroke:none; fill-opacity:0\" cx=\"968.862\" cy=\"1258.07\" r=\"2\"/>\n",
       "<circle clip-path=\"url(#clip902)\" style=\"fill:#009af9; stroke:none; fill-opacity:0\" cx=\"1013.9\" cy=\"1313.1\" r=\"2\"/>\n",
       "<circle clip-path=\"url(#clip902)\" style=\"fill:#009af9; stroke:none; fill-opacity:0\" cx=\"1058.94\" cy=\"1285.59\" r=\"2\"/>\n",
       "<circle clip-path=\"url(#clip902)\" style=\"fill:#009af9; stroke:none; fill-opacity:0\" cx=\"1103.97\" cy=\"1258.07\" r=\"2\"/>\n",
       "<circle clip-path=\"url(#clip902)\" style=\"fill:#009af9; stroke:none; fill-opacity:0\" cx=\"1149.01\" cy=\"1147.99\" r=\"2\"/>\n",
       "<circle clip-path=\"url(#clip902)\" style=\"fill:#009af9; stroke:none; fill-opacity:0\" cx=\"1194.05\" cy=\"1230.55\" r=\"2\"/>\n",
       "<circle clip-path=\"url(#clip902)\" style=\"fill:#009af9; stroke:none; fill-opacity:0\" cx=\"1239.09\" cy=\"1230.55\" r=\"2\"/>\n",
       "<circle clip-path=\"url(#clip902)\" style=\"fill:#009af9; stroke:none; fill-opacity:0\" cx=\"1284.12\" cy=\"955.362\" r=\"2\"/>\n",
       "<circle clip-path=\"url(#clip902)\" style=\"fill:#009af9; stroke:none; fill-opacity:0\" cx=\"1329.16\" cy=\"1065.44\" r=\"2\"/>\n",
       "<circle clip-path=\"url(#clip902)\" style=\"fill:#009af9; stroke:none; fill-opacity:0\" cx=\"1374.2\" cy=\"1065.44\" r=\"2\"/>\n",
       "<circle clip-path=\"url(#clip902)\" style=\"fill:#009af9; stroke:none; fill-opacity:0\" cx=\"1419.23\" cy=\"1120.47\" r=\"2\"/>\n",
       "<circle clip-path=\"url(#clip902)\" style=\"fill:#009af9; stroke:none; fill-opacity:0\" cx=\"1464.27\" cy=\"790.249\" r=\"2\"/>\n",
       "<circle clip-path=\"url(#clip902)\" style=\"fill:#009af9; stroke:none; fill-opacity:0\" cx=\"1509.31\" cy=\"1120.47\" r=\"2\"/>\n",
       "<circle clip-path=\"url(#clip902)\" style=\"fill:#009af9; stroke:none; fill-opacity:0\" cx=\"1554.35\" cy=\"817.768\" r=\"2\"/>\n",
       "<circle clip-path=\"url(#clip902)\" style=\"fill:#009af9; stroke:none; fill-opacity:0\" cx=\"1599.38\" cy=\"1120.47\" r=\"2\"/>\n",
       "<circle clip-path=\"url(#clip902)\" style=\"fill:#009af9; stroke:none; fill-opacity:0\" cx=\"1644.42\" cy=\"1120.47\" r=\"2\"/>\n",
       "<circle clip-path=\"url(#clip902)\" style=\"fill:#009af9; stroke:none; fill-opacity:0\" cx=\"1689.46\" cy=\"1120.47\" r=\"2\"/>\n",
       "<circle clip-path=\"url(#clip902)\" style=\"fill:#009af9; stroke:none; fill-opacity:0\" cx=\"1734.49\" cy=\"1065.44\" r=\"2\"/>\n",
       "<circle clip-path=\"url(#clip902)\" style=\"fill:#009af9; stroke:none; fill-opacity:0\" cx=\"1779.53\" cy=\"1120.47\" r=\"2\"/>\n",
       "<circle clip-path=\"url(#clip902)\" style=\"fill:#009af9; stroke:none; fill-opacity:0\" cx=\"1824.57\" cy=\"1258.07\" r=\"2\"/>\n",
       "<circle clip-path=\"url(#clip902)\" style=\"fill:#009af9; stroke:none; fill-opacity:0\" cx=\"1869.61\" cy=\"1230.55\" r=\"2\"/>\n",
       "<circle clip-path=\"url(#clip902)\" style=\"fill:#009af9; stroke:none; fill-opacity:0\" cx=\"1914.64\" cy=\"1313.1\" r=\"2\"/>\n",
       "<circle clip-path=\"url(#clip902)\" style=\"fill:#009af9; stroke:none; fill-opacity:0\" cx=\"1959.68\" cy=\"1285.59\" r=\"2\"/>\n",
       "<circle clip-path=\"url(#clip902)\" style=\"fill:#009af9; stroke:none; fill-opacity:0\" cx=\"2004.72\" cy=\"1368.14\" r=\"2\"/>\n",
       "<circle clip-path=\"url(#clip902)\" style=\"fill:#009af9; stroke:none; fill-opacity:0\" cx=\"2049.76\" cy=\"1340.62\" r=\"2\"/>\n",
       "<circle clip-path=\"url(#clip902)\" style=\"fill:#009af9; stroke:none; fill-opacity:0\" cx=\"2094.79\" cy=\"1285.59\" r=\"2\"/>\n",
       "<circle clip-path=\"url(#clip902)\" style=\"fill:#009af9; stroke:none; fill-opacity:0\" cx=\"2139.83\" cy=\"1423.18\" r=\"2\"/>\n",
       "<circle clip-path=\"url(#clip902)\" style=\"fill:#009af9; stroke:none; fill-opacity:0\" cx=\"2184.87\" cy=\"1340.62\" r=\"2\"/>\n",
       "<circle clip-path=\"url(#clip902)\" style=\"fill:#009af9; stroke:none; fill-opacity:0\" cx=\"2229.9\" cy=\"1340.62\" r=\"2\"/>\n",
       "<circle clip-path=\"url(#clip902)\" style=\"fill:#009af9; stroke:none; fill-opacity:0\" cx=\"2274.94\" cy=\"1395.66\" r=\"2\"/>\n",
       "<circle clip-path=\"url(#clip902)\" style=\"fill:#009af9; stroke:none; fill-opacity:0\" cx=\"2319.98\" cy=\"1368.14\" r=\"2\"/>\n",
       "</svg>\n"
      ],
      "text/html": [
       "<?xml version=\"1.0\" encoding=\"utf-8\"?>\n",
       "<svg xmlns=\"http://www.w3.org/2000/svg\" xmlns:xlink=\"http://www.w3.org/1999/xlink\" width=\"600\" height=\"400\" viewBox=\"0 0 2400 1600\">\n",
       "<defs>\n",
       "  <clipPath id=\"clip950\">\n",
       "    <rect x=\"0\" y=\"0\" width=\"2400\" height=\"1600\"/>\n",
       "  </clipPath>\n",
       "</defs>\n",
       "<path clip-path=\"url(#clip950)\" d=\"M0 1600 L2400 1600 L2400 0 L0 0  Z\" fill=\"#ffffff\" fill-rule=\"evenodd\" fill-opacity=\"1\"/>\n",
       "<defs>\n",
       "  <clipPath id=\"clip951\">\n",
       "    <rect x=\"480\" y=\"0\" width=\"1681\" height=\"1600\"/>\n",
       "  </clipPath>\n",
       "</defs>\n",
       "<path clip-path=\"url(#clip950)\" d=\"M205.121 1423.18 L2352.76 1423.18 L2352.76 47.2441 L205.121 47.2441  Z\" fill=\"#ffffff\" fill-rule=\"evenodd\" fill-opacity=\"1\"/>\n",
       "<defs>\n",
       "  <clipPath id=\"clip952\">\n",
       "    <rect x=\"205\" y=\"47\" width=\"2149\" height=\"1377\"/>\n",
       "  </clipPath>\n",
       "</defs>\n",
       "<polyline clip-path=\"url(#clip952)\" style=\"stroke:#000000; stroke-linecap:round; stroke-linejoin:round; stroke-width:2; stroke-opacity:0.1; fill:none\" points=\"495.971,1423.18 495.971,47.2441 \"/>\n",
       "<polyline clip-path=\"url(#clip952)\" style=\"stroke:#000000; stroke-linecap:round; stroke-linejoin:round; stroke-width:2; stroke-opacity:0.1; fill:none\" points=\"946.343,1423.18 946.343,47.2441 \"/>\n",
       "<polyline clip-path=\"url(#clip952)\" style=\"stroke:#000000; stroke-linecap:round; stroke-linejoin:round; stroke-width:2; stroke-opacity:0.1; fill:none\" points=\"1396.72,1423.18 1396.72,47.2441 \"/>\n",
       "<polyline clip-path=\"url(#clip952)\" style=\"stroke:#000000; stroke-linecap:round; stroke-linejoin:round; stroke-width:2; stroke-opacity:0.1; fill:none\" points=\"1847.09,1423.18 1847.09,47.2441 \"/>\n",
       "<polyline clip-path=\"url(#clip952)\" style=\"stroke:#000000; stroke-linecap:round; stroke-linejoin:round; stroke-width:2; stroke-opacity:0.1; fill:none\" points=\"2297.46,1423.18 2297.46,47.2441 \"/>\n",
       "<polyline clip-path=\"url(#clip950)\" style=\"stroke:#000000; stroke-linecap:round; stroke-linejoin:round; stroke-width:4; stroke-opacity:1; fill:none\" points=\"205.121,1423.18 2352.76,1423.18 \"/>\n",
       "<polyline clip-path=\"url(#clip950)\" style=\"stroke:#000000; stroke-linecap:round; stroke-linejoin:round; stroke-width:4; stroke-opacity:1; fill:none\" points=\"495.971,1423.18 495.971,1404.28 \"/>\n",
       "<polyline clip-path=\"url(#clip950)\" style=\"stroke:#000000; stroke-linecap:round; stroke-linejoin:round; stroke-width:4; stroke-opacity:1; fill:none\" points=\"946.343,1423.18 946.343,1404.28 \"/>\n",
       "<polyline clip-path=\"url(#clip950)\" style=\"stroke:#000000; stroke-linecap:round; stroke-linejoin:round; stroke-width:4; stroke-opacity:1; fill:none\" points=\"1396.72,1423.18 1396.72,1404.28 \"/>\n",
       "<polyline clip-path=\"url(#clip950)\" style=\"stroke:#000000; stroke-linecap:round; stroke-linejoin:round; stroke-width:4; stroke-opacity:1; fill:none\" points=\"1847.09,1423.18 1847.09,1404.28 \"/>\n",
       "<polyline clip-path=\"url(#clip950)\" style=\"stroke:#000000; stroke-linecap:round; stroke-linejoin:round; stroke-width:4; stroke-opacity:1; fill:none\" points=\"2297.46,1423.18 2297.46,1404.28 \"/>\n",
       "<path clip-path=\"url(#clip950)\" d=\"M448.529 1484.86 L448.529 1480.6 Q450.289 1481.44 452.094 1481.88 Q453.9 1482.32 455.636 1482.32 Q460.265 1482.32 462.696 1479.21 Q465.15 1476.09 465.497 1469.75 Q464.154 1471.74 462.094 1472.8 Q460.034 1473.87 457.534 1473.87 Q452.349 1473.87 449.316 1470.74 Q446.307 1467.59 446.307 1462.15 Q446.307 1456.83 449.455 1453.61 Q452.603 1450.39 457.835 1450.39 Q463.83 1450.39 466.978 1455 Q470.15 1459.58 470.15 1468.33 Q470.15 1476.51 466.261 1481.39 Q462.395 1486.25 455.844 1486.25 Q454.085 1486.25 452.279 1485.9 Q450.474 1485.56 448.529 1484.86 M457.835 1470.21 Q460.983 1470.21 462.812 1468.06 Q464.664 1465.9 464.664 1462.15 Q464.664 1458.43 462.812 1456.27 Q460.983 1454.1 457.835 1454.1 Q454.687 1454.1 452.835 1456.27 Q451.006 1458.43 451.006 1462.15 Q451.006 1465.9 452.835 1468.06 Q454.687 1470.21 457.835 1470.21 Z\" fill=\"#000000\" fill-rule=\"nonzero\" fill-opacity=\"1\" /><path clip-path=\"url(#clip950)\" d=\"M478.552 1479.7 L483.437 1479.7 L483.437 1485.58 L478.552 1485.58 L478.552 1479.7 Z\" fill=\"#000000\" fill-rule=\"nonzero\" fill-opacity=\"1\" /><path clip-path=\"url(#clip950)\" d=\"M507.788 1466.95 Q511.145 1467.66 513.02 1469.93 Q514.918 1472.2 514.918 1475.53 Q514.918 1480.65 511.399 1483.45 Q507.881 1486.25 501.399 1486.25 Q499.224 1486.25 496.909 1485.81 Q494.617 1485.39 492.163 1484.54 L492.163 1480.02 Q494.108 1481.16 496.423 1481.74 Q498.737 1482.32 501.261 1482.32 Q505.659 1482.32 507.95 1480.58 Q510.265 1478.84 510.265 1475.53 Q510.265 1472.48 508.112 1470.77 Q505.983 1469.03 502.163 1469.03 L498.136 1469.03 L498.136 1465.19 L502.349 1465.19 Q505.798 1465.19 507.626 1463.82 Q509.455 1462.43 509.455 1459.84 Q509.455 1457.18 507.557 1455.77 Q505.682 1454.33 502.163 1454.33 Q500.242 1454.33 498.043 1454.75 Q495.844 1455.16 493.205 1456.04 L493.205 1451.88 Q495.867 1451.14 498.182 1450.77 Q500.52 1450.39 502.58 1450.39 Q507.904 1450.39 511.006 1452.83 Q514.108 1455.23 514.108 1459.35 Q514.108 1462.22 512.464 1464.21 Q510.821 1466.18 507.788 1466.95 Z\" fill=\"#000000\" fill-rule=\"nonzero\" fill-opacity=\"1\" /><path clip-path=\"url(#clip950)\" d=\"M533.784 1469.17 Q530.45 1469.17 528.529 1470.95 Q526.631 1472.73 526.631 1475.86 Q526.631 1478.98 528.529 1480.77 Q530.45 1482.55 533.784 1482.55 Q537.117 1482.55 539.038 1480.77 Q540.959 1478.96 540.959 1475.86 Q540.959 1472.73 539.038 1470.95 Q537.14 1469.17 533.784 1469.17 M529.108 1467.18 Q526.098 1466.44 524.409 1464.38 Q522.742 1462.32 522.742 1459.35 Q522.742 1455.21 525.682 1452.8 Q528.645 1450.39 533.784 1450.39 Q538.946 1450.39 541.885 1452.8 Q544.825 1455.21 544.825 1459.35 Q544.825 1462.32 543.135 1464.38 Q541.469 1466.44 538.483 1467.18 Q541.862 1467.96 543.737 1470.26 Q545.635 1472.55 545.635 1475.86 Q545.635 1480.88 542.557 1483.57 Q539.501 1486.25 533.784 1486.25 Q528.066 1486.25 524.987 1483.57 Q521.932 1480.88 521.932 1475.86 Q521.932 1472.55 523.83 1470.26 Q525.728 1467.96 529.108 1467.18 M527.395 1459.79 Q527.395 1462.48 529.061 1463.98 Q530.751 1465.49 533.784 1465.49 Q536.793 1465.49 538.483 1463.98 Q540.196 1462.48 540.196 1459.79 Q540.196 1457.11 538.483 1455.6 Q536.793 1454.1 533.784 1454.1 Q530.751 1454.1 529.061 1455.6 Q527.395 1457.11 527.395 1459.79 Z\" fill=\"#000000\" fill-rule=\"nonzero\" fill-opacity=\"1\" /><path clip-path=\"url(#clip950)\" d=\"M898.855 1484.86 L898.855 1480.6 Q900.614 1481.44 902.42 1481.88 Q904.226 1482.32 905.962 1482.32 Q910.591 1482.32 913.022 1479.21 Q915.476 1476.09 915.823 1469.75 Q914.48 1471.74 912.42 1472.8 Q910.36 1473.87 907.86 1473.87 Q902.675 1473.87 899.642 1470.74 Q896.633 1467.59 896.633 1462.15 Q896.633 1456.83 899.781 1453.61 Q902.929 1450.39 908.161 1450.39 Q914.156 1450.39 917.304 1455 Q920.475 1459.58 920.475 1468.33 Q920.475 1476.51 916.587 1481.39 Q912.721 1486.25 906.17 1486.25 Q904.411 1486.25 902.605 1485.9 Q900.8 1485.56 898.855 1484.86 M908.161 1470.21 Q911.309 1470.21 913.138 1468.06 Q914.989 1465.9 914.989 1462.15 Q914.989 1458.43 913.138 1456.27 Q911.309 1454.1 908.161 1454.1 Q905.013 1454.1 903.161 1456.27 Q901.332 1458.43 901.332 1462.15 Q901.332 1465.9 903.161 1468.06 Q905.013 1470.21 908.161 1470.21 Z\" fill=\"#000000\" fill-rule=\"nonzero\" fill-opacity=\"1\" /><path clip-path=\"url(#clip950)\" d=\"M928.878 1479.7 L933.762 1479.7 L933.762 1485.58 L928.878 1485.58 L928.878 1479.7 Z\" fill=\"#000000\" fill-rule=\"nonzero\" fill-opacity=\"1\" /><path clip-path=\"url(#clip950)\" d=\"M956.795 1455.09 L944.989 1473.54 L956.795 1473.54 L956.795 1455.09 M955.568 1451.02 L961.447 1451.02 L961.447 1473.54 L966.378 1473.54 L966.378 1477.43 L961.447 1477.43 L961.447 1485.58 L956.795 1485.58 L956.795 1477.43 L941.193 1477.43 L941.193 1472.92 L955.568 1451.02 Z\" fill=\"#000000\" fill-rule=\"nonzero\" fill-opacity=\"1\" /><path clip-path=\"url(#clip950)\" d=\"M984.109 1454.1 Q980.498 1454.1 978.67 1457.66 Q976.864 1461.2 976.864 1468.33 Q976.864 1475.44 978.67 1479.01 Q980.498 1482.55 984.109 1482.55 Q987.744 1482.55 989.549 1479.01 Q991.378 1475.44 991.378 1468.33 Q991.378 1461.2 989.549 1457.66 Q987.744 1454.1 984.109 1454.1 M984.109 1450.39 Q989.92 1450.39 992.975 1455 Q996.054 1459.58 996.054 1468.33 Q996.054 1477.06 992.975 1481.67 Q989.92 1486.25 984.109 1486.25 Q978.299 1486.25 975.221 1481.67 Q972.165 1477.06 972.165 1468.33 Q972.165 1459.58 975.221 1455 Q978.299 1450.39 984.109 1450.39 Z\" fill=\"#000000\" fill-rule=\"nonzero\" fill-opacity=\"1\" /><path clip-path=\"url(#clip950)\" d=\"M1350.03 1484.86 L1350.03 1480.6 Q1351.79 1481.44 1353.59 1481.88 Q1355.4 1482.32 1357.13 1482.32 Q1361.76 1482.32 1364.19 1479.21 Q1366.65 1476.09 1366.99 1469.75 Q1365.65 1471.74 1363.59 1472.8 Q1361.53 1473.87 1359.03 1473.87 Q1353.85 1473.87 1350.81 1470.74 Q1347.8 1467.59 1347.8 1462.15 Q1347.8 1456.83 1350.95 1453.61 Q1354.1 1450.39 1359.33 1450.39 Q1365.33 1450.39 1368.47 1455 Q1371.65 1459.58 1371.65 1468.33 Q1371.65 1476.51 1367.76 1481.39 Q1363.89 1486.25 1357.34 1486.25 Q1355.58 1486.25 1353.78 1485.9 Q1351.97 1485.56 1350.03 1484.86 M1359.33 1470.21 Q1362.48 1470.21 1364.31 1468.06 Q1366.16 1465.9 1366.16 1462.15 Q1366.16 1458.43 1364.31 1456.27 Q1362.48 1454.1 1359.33 1454.1 Q1356.18 1454.1 1354.33 1456.27 Q1352.5 1458.43 1352.5 1462.15 Q1352.5 1465.9 1354.33 1468.06 Q1356.18 1470.21 1359.33 1470.21 Z\" fill=\"#000000\" fill-rule=\"nonzero\" fill-opacity=\"1\" /><path clip-path=\"url(#clip950)\" d=\"M1380.05 1479.7 L1384.93 1479.7 L1384.93 1485.58 L1380.05 1485.58 L1380.05 1479.7 Z\" fill=\"#000000\" fill-rule=\"nonzero\" fill-opacity=\"1\" /><path clip-path=\"url(#clip950)\" d=\"M1407.97 1455.09 L1396.16 1473.54 L1407.97 1473.54 L1407.97 1455.09 M1406.74 1451.02 L1412.62 1451.02 L1412.62 1473.54 L1417.55 1473.54 L1417.55 1477.43 L1412.62 1477.43 L1412.62 1485.58 L1407.97 1485.58 L1407.97 1477.43 L1392.36 1477.43 L1392.36 1472.92 L1406.74 1451.02 Z\" fill=\"#000000\" fill-rule=\"nonzero\" fill-opacity=\"1\" /><path clip-path=\"url(#clip950)\" d=\"M1429.31 1481.64 L1445.63 1481.64 L1445.63 1485.58 L1423.68 1485.58 L1423.68 1481.64 Q1426.34 1478.89 1430.93 1474.26 Q1435.53 1469.61 1436.72 1468.27 Q1438.96 1465.74 1439.84 1464.01 Q1440.74 1462.25 1440.74 1460.56 Q1440.74 1457.8 1438.8 1456.07 Q1436.88 1454.33 1433.78 1454.33 Q1431.58 1454.33 1429.12 1455.09 Q1426.69 1455.86 1423.91 1457.41 L1423.91 1452.69 Q1426.74 1451.55 1429.19 1450.97 Q1431.65 1450.39 1433.68 1450.39 Q1439.05 1450.39 1442.25 1453.08 Q1445.44 1455.77 1445.44 1460.26 Q1445.44 1462.39 1444.63 1464.31 Q1443.84 1466.2 1441.74 1468.8 Q1441.16 1469.47 1438.06 1472.69 Q1434.96 1475.88 1429.31 1481.64 Z\" fill=\"#000000\" fill-rule=\"nonzero\" fill-opacity=\"1\" /><path clip-path=\"url(#clip950)\" d=\"M1799.36 1484.86 L1799.36 1480.6 Q1801.12 1481.44 1802.92 1481.88 Q1804.73 1482.32 1806.46 1482.32 Q1811.09 1482.32 1813.52 1479.21 Q1815.98 1476.09 1816.32 1469.75 Q1814.98 1471.74 1812.92 1472.8 Q1810.86 1473.87 1808.36 1473.87 Q1803.18 1473.87 1800.14 1470.74 Q1797.13 1467.59 1797.13 1462.15 Q1797.13 1456.83 1800.28 1453.61 Q1803.43 1450.39 1808.66 1450.39 Q1814.66 1450.39 1817.81 1455 Q1820.98 1459.58 1820.98 1468.33 Q1820.98 1476.51 1817.09 1481.39 Q1813.22 1486.25 1806.67 1486.25 Q1804.91 1486.25 1803.11 1485.9 Q1801.3 1485.56 1799.36 1484.86 M1808.66 1470.21 Q1811.81 1470.21 1813.64 1468.06 Q1815.49 1465.9 1815.49 1462.15 Q1815.49 1458.43 1813.64 1456.27 Q1811.81 1454.1 1808.66 1454.1 Q1805.51 1454.1 1803.66 1456.27 Q1801.83 1458.43 1801.83 1462.15 Q1801.83 1465.9 1803.66 1468.06 Q1805.51 1470.21 1808.66 1470.21 Z\" fill=\"#000000\" fill-rule=\"nonzero\" fill-opacity=\"1\" /><path clip-path=\"url(#clip950)\" d=\"M1829.38 1479.7 L1834.26 1479.7 L1834.26 1485.58 L1829.38 1485.58 L1829.38 1479.7 Z\" fill=\"#000000\" fill-rule=\"nonzero\" fill-opacity=\"1\" /><path clip-path=\"url(#clip950)\" d=\"M1857.3 1455.09 L1845.49 1473.54 L1857.3 1473.54 L1857.3 1455.09 M1856.07 1451.02 L1861.95 1451.02 L1861.95 1473.54 L1866.88 1473.54 L1866.88 1477.43 L1861.95 1477.43 L1861.95 1485.58 L1857.3 1485.58 L1857.3 1477.43 L1841.69 1477.43 L1841.69 1472.92 L1856.07 1451.02 Z\" fill=\"#000000\" fill-rule=\"nonzero\" fill-opacity=\"1\" /><path clip-path=\"url(#clip950)\" d=\"M1887.46 1455.09 L1875.65 1473.54 L1887.46 1473.54 L1887.46 1455.09 M1886.23 1451.02 L1892.11 1451.02 L1892.11 1473.54 L1897.04 1473.54 L1897.04 1477.43 L1892.11 1477.43 L1892.11 1485.58 L1887.46 1485.58 L1887.46 1477.43 L1871.86 1477.43 L1871.86 1472.92 L1886.23 1451.02 Z\" fill=\"#000000\" fill-rule=\"nonzero\" fill-opacity=\"1\" /><path clip-path=\"url(#clip950)\" d=\"M2249.89 1484.86 L2249.89 1480.6 Q2251.65 1481.44 2253.46 1481.88 Q2255.26 1482.32 2257 1482.32 Q2261.63 1482.32 2264.06 1479.21 Q2266.51 1476.09 2266.86 1469.75 Q2265.52 1471.74 2263.46 1472.8 Q2261.4 1473.87 2258.9 1473.87 Q2253.71 1473.87 2250.68 1470.74 Q2247.67 1467.59 2247.67 1462.15 Q2247.67 1456.83 2250.82 1453.61 Q2253.96 1450.39 2259.2 1450.39 Q2265.19 1450.39 2268.34 1455 Q2271.51 1459.58 2271.51 1468.33 Q2271.51 1476.51 2267.62 1481.39 Q2263.76 1486.25 2257.21 1486.25 Q2255.45 1486.25 2253.64 1485.9 Q2251.83 1485.56 2249.89 1484.86 M2259.2 1470.21 Q2262.34 1470.21 2264.17 1468.06 Q2266.02 1465.9 2266.02 1462.15 Q2266.02 1458.43 2264.17 1456.27 Q2262.34 1454.1 2259.2 1454.1 Q2256.05 1454.1 2254.2 1456.27 Q2252.37 1458.43 2252.37 1462.15 Q2252.37 1465.9 2254.2 1468.06 Q2256.05 1470.21 2259.2 1470.21 Z\" fill=\"#000000\" fill-rule=\"nonzero\" fill-opacity=\"1\" /><path clip-path=\"url(#clip950)\" d=\"M2279.91 1479.7 L2284.8 1479.7 L2284.8 1485.58 L2279.91 1485.58 L2279.91 1479.7 Z\" fill=\"#000000\" fill-rule=\"nonzero\" fill-opacity=\"1\" /><path clip-path=\"url(#clip950)\" d=\"M2307.83 1455.09 L2296.02 1473.54 L2307.83 1473.54 L2307.83 1455.09 M2306.6 1451.02 L2312.48 1451.02 L2312.48 1473.54 L2317.41 1473.54 L2317.41 1477.43 L2312.48 1477.43 L2312.48 1485.58 L2307.83 1485.58 L2307.83 1477.43 L2292.23 1477.43 L2292.23 1472.92 L2306.6 1451.02 Z\" fill=\"#000000\" fill-rule=\"nonzero\" fill-opacity=\"1\" /><path clip-path=\"url(#clip950)\" d=\"M2335.72 1466.44 Q2332.58 1466.44 2330.72 1468.59 Q2328.89 1470.74 2328.89 1474.49 Q2328.89 1478.22 2330.72 1480.39 Q2332.58 1482.55 2335.72 1482.55 Q2338.87 1482.55 2340.7 1480.39 Q2342.55 1478.22 2342.55 1474.49 Q2342.55 1470.74 2340.7 1468.59 Q2338.87 1466.44 2335.72 1466.44 M2345.01 1451.78 L2345.01 1456.04 Q2343.25 1455.21 2341.44 1454.77 Q2339.66 1454.33 2337.9 1454.33 Q2333.27 1454.33 2330.82 1457.45 Q2328.39 1460.58 2328.04 1466.9 Q2329.4 1464.89 2331.46 1463.82 Q2333.52 1462.73 2336 1462.73 Q2341.21 1462.73 2344.22 1465.9 Q2347.25 1469.05 2347.25 1474.49 Q2347.25 1479.82 2344.1 1483.03 Q2340.95 1486.25 2335.72 1486.25 Q2329.73 1486.25 2326.56 1481.67 Q2323.39 1477.06 2323.39 1468.33 Q2323.39 1460.14 2327.27 1455.28 Q2331.16 1450.39 2337.71 1450.39 Q2339.47 1450.39 2341.26 1450.74 Q2343.06 1451.09 2345.01 1451.78 Z\" fill=\"#000000\" fill-rule=\"nonzero\" fill-opacity=\"1\" /><path clip-path=\"url(#clip950)\" d=\"M1110.28 1539.24 Q1112.48 1535.29 1115.53 1533.41 Q1118.59 1531.54 1122.72 1531.54 Q1128.29 1531.54 1131.32 1535.45 Q1134.34 1539.33 1134.34 1546.53 L1134.34 1568.04 L1128.45 1568.04 L1128.45 1546.72 Q1128.45 1541.59 1126.64 1539.11 Q1124.82 1536.63 1121.1 1536.63 Q1116.55 1536.63 1113.91 1539.65 Q1111.27 1542.68 1111.27 1547.9 L1111.27 1568.04 L1105.38 1568.04 L1105.38 1546.72 Q1105.38 1541.56 1103.56 1539.11 Q1101.75 1536.63 1097.96 1536.63 Q1093.47 1536.63 1090.83 1539.68 Q1088.19 1542.71 1088.19 1547.9 L1088.19 1568.04 L1082.3 1568.04 L1082.3 1532.4 L1088.19 1532.4 L1088.19 1537.93 Q1090.2 1534.66 1093 1533.1 Q1095.8 1531.54 1099.65 1531.54 Q1103.53 1531.54 1106.24 1533.51 Q1108.97 1535.48 1110.28 1539.24 Z\" fill=\"#000000\" fill-rule=\"nonzero\" fill-opacity=\"1\" /><path clip-path=\"url(#clip950)\" d=\"M1146.02 1532.4 L1151.88 1532.4 L1151.88 1568.04 L1146.02 1568.04 L1146.02 1532.4 M1146.02 1518.52 L1151.88 1518.52 L1151.88 1525.93 L1146.02 1525.93 L1146.02 1518.52 Z\" fill=\"#000000\" fill-rule=\"nonzero\" fill-opacity=\"1\" /><path clip-path=\"url(#clip950)\" d=\"M1164.13 1518.52 L1169.99 1518.52 L1169.99 1568.04 L1164.13 1568.04 L1164.13 1518.52 Z\" fill=\"#000000\" fill-rule=\"nonzero\" fill-opacity=\"1\" /><path clip-path=\"url(#clip950)\" d=\"M1182.24 1518.52 L1188.1 1518.52 L1188.1 1568.04 L1182.24 1568.04 L1182.24 1518.52 Z\" fill=\"#000000\" fill-rule=\"nonzero\" fill-opacity=\"1\" /><path clip-path=\"url(#clip950)\" d=\"M1200.35 1532.4 L1206.21 1532.4 L1206.21 1568.04 L1200.35 1568.04 L1200.35 1532.4 M1200.35 1518.52 L1206.21 1518.52 L1206.21 1525.93 L1200.35 1525.93 L1200.35 1518.52 Z\" fill=\"#000000\" fill-rule=\"nonzero\" fill-opacity=\"1\" /><path clip-path=\"url(#clip950)\" d=\"M1241.19 1533.45 L1241.19 1538.98 Q1238.71 1537.71 1236.03 1537.07 Q1233.36 1536.44 1230.5 1536.44 Q1226.13 1536.44 1223.94 1537.77 Q1221.77 1539.11 1221.77 1541.79 Q1221.77 1543.82 1223.33 1545 Q1224.89 1546.15 1229.6 1547.2 L1231.61 1547.64 Q1237.85 1548.98 1240.46 1551.43 Q1243.1 1553.85 1243.1 1558.21 Q1243.1 1563.17 1239.15 1566.07 Q1235.24 1568.97 1228.36 1568.97 Q1225.5 1568.97 1222.38 1568.39 Q1219.29 1567.85 1215.85 1566.74 L1215.85 1560.69 Q1219.1 1562.38 1222.25 1563.24 Q1225.4 1564.07 1228.49 1564.07 Q1232.63 1564.07 1234.86 1562.66 Q1237.08 1561.23 1237.08 1558.65 Q1237.08 1556.27 1235.46 1554.99 Q1233.87 1553.72 1228.43 1552.54 L1226.39 1552.07 Q1220.95 1550.92 1218.53 1548.56 Q1216.11 1546.18 1216.11 1542.04 Q1216.11 1537.01 1219.67 1534.27 Q1223.24 1531.54 1229.8 1531.54 Q1233.04 1531.54 1235.91 1532.01 Q1238.77 1532.49 1241.19 1533.45 Z\" fill=\"#000000\" fill-rule=\"nonzero\" fill-opacity=\"1\" /><path clip-path=\"url(#clip950)\" d=\"M1282.92 1548.76 L1282.92 1551.62 L1255.99 1551.62 Q1256.37 1557.67 1259.62 1560.85 Q1262.9 1564 1268.72 1564 Q1272.1 1564 1275.25 1563.17 Q1278.43 1562.35 1281.55 1560.69 L1281.55 1566.23 Q1278.4 1567.57 1275.09 1568.27 Q1271.78 1568.97 1268.37 1568.97 Q1259.84 1568.97 1254.84 1564 Q1249.88 1559.04 1249.88 1550.57 Q1249.88 1541.82 1254.59 1536.69 Q1259.33 1531.54 1267.35 1531.54 Q1274.55 1531.54 1278.72 1536.18 Q1282.92 1540.8 1282.92 1548.76 M1277.06 1547.04 Q1277 1542.23 1274.36 1539.37 Q1271.75 1536.5 1267.42 1536.5 Q1262.51 1536.5 1259.55 1539.27 Q1256.63 1542.04 1256.18 1547.07 L1277.06 1547.04 Z\" fill=\"#000000\" fill-rule=\"nonzero\" fill-opacity=\"1\" /><path clip-path=\"url(#clip950)\" d=\"M1318.18 1533.76 L1318.18 1539.24 Q1315.7 1537.87 1313.19 1537.2 Q1310.7 1536.5 1308.16 1536.5 Q1302.46 1536.5 1299.31 1540.13 Q1296.16 1543.73 1296.16 1550.25 Q1296.16 1556.78 1299.31 1560.4 Q1302.46 1564 1308.16 1564 Q1310.7 1564 1313.19 1563.33 Q1315.7 1562.63 1318.18 1561.26 L1318.18 1566.68 Q1315.73 1567.82 1313.09 1568.39 Q1310.48 1568.97 1307.52 1568.97 Q1299.47 1568.97 1294.73 1563.91 Q1289.98 1558.85 1289.98 1550.25 Q1289.98 1541.53 1294.76 1536.53 Q1299.56 1531.54 1307.9 1531.54 Q1310.61 1531.54 1313.19 1532.11 Q1315.76 1532.65 1318.18 1533.76 Z\" fill=\"#000000\" fill-rule=\"nonzero\" fill-opacity=\"1\" /><path clip-path=\"url(#clip950)\" d=\"M1342.18 1536.5 Q1337.47 1536.5 1334.73 1540.19 Q1332 1543.85 1332 1550.25 Q1332 1556.65 1334.7 1560.34 Q1337.44 1564 1342.18 1564 Q1346.86 1564 1349.6 1560.31 Q1352.34 1556.62 1352.34 1550.25 Q1352.34 1543.92 1349.6 1540.23 Q1346.86 1536.5 1342.18 1536.5 M1342.18 1531.54 Q1349.82 1531.54 1354.18 1536.5 Q1358.54 1541.47 1358.54 1550.25 Q1358.54 1559 1354.18 1564 Q1349.82 1568.97 1342.18 1568.97 Q1334.51 1568.97 1330.15 1564 Q1325.82 1559 1325.82 1550.25 Q1325.82 1541.47 1330.15 1536.5 Q1334.51 1531.54 1342.18 1531.54 Z\" fill=\"#000000\" fill-rule=\"nonzero\" fill-opacity=\"1\" /><path clip-path=\"url(#clip950)\" d=\"M1397.88 1546.53 L1397.88 1568.04 L1392.03 1568.04 L1392.03 1546.72 Q1392.03 1541.66 1390.05 1539.14 Q1388.08 1536.63 1384.13 1536.63 Q1379.39 1536.63 1376.65 1539.65 Q1373.91 1542.68 1373.91 1547.9 L1373.91 1568.04 L1368.03 1568.04 L1368.03 1532.4 L1373.91 1532.4 L1373.91 1537.93 Q1376.02 1534.72 1378.85 1533.13 Q1381.71 1531.54 1385.44 1531.54 Q1391.58 1531.54 1394.73 1535.36 Q1397.88 1539.14 1397.88 1546.53 Z\" fill=\"#000000\" fill-rule=\"nonzero\" fill-opacity=\"1\" /><path clip-path=\"url(#clip950)\" d=\"M1433.02 1537.81 L1433.02 1518.52 L1438.88 1518.52 L1438.88 1568.04 L1433.02 1568.04 L1433.02 1562.7 Q1431.17 1565.88 1428.34 1567.44 Q1425.54 1568.97 1421.59 1568.97 Q1415.13 1568.97 1411.06 1563.81 Q1407.02 1558.65 1407.02 1550.25 Q1407.02 1541.85 1411.06 1536.69 Q1415.13 1531.54 1421.59 1531.54 Q1425.54 1531.54 1428.34 1533.1 Q1431.17 1534.62 1433.02 1537.81 M1413.06 1550.25 Q1413.06 1556.71 1415.71 1560.4 Q1418.38 1564.07 1423.03 1564.07 Q1427.67 1564.07 1430.35 1560.4 Q1433.02 1556.71 1433.02 1550.25 Q1433.02 1543.79 1430.35 1540.13 Q1427.67 1536.44 1423.03 1536.44 Q1418.38 1536.44 1415.71 1540.13 Q1413.06 1543.79 1413.06 1550.25 Z\" fill=\"#000000\" fill-rule=\"nonzero\" fill-opacity=\"1\" /><path clip-path=\"url(#clip950)\" d=\"M1473.67 1533.45 L1473.67 1538.98 Q1471.18 1537.71 1468.51 1537.07 Q1465.84 1536.44 1462.97 1536.44 Q1458.61 1536.44 1456.41 1537.77 Q1454.25 1539.11 1454.25 1541.79 Q1454.25 1543.82 1455.81 1545 Q1457.37 1546.15 1462.08 1547.2 L1464.09 1547.64 Q1470.32 1548.98 1472.93 1551.43 Q1475.58 1553.85 1475.58 1558.21 Q1475.58 1563.17 1471.63 1566.07 Q1467.71 1568.97 1460.84 1568.97 Q1457.97 1568.97 1454.85 1568.39 Q1451.77 1567.85 1448.33 1566.74 L1448.33 1560.69 Q1451.58 1562.38 1454.73 1563.24 Q1457.88 1564.07 1460.97 1564.07 Q1465.1 1564.07 1467.33 1562.66 Q1469.56 1561.23 1469.56 1558.65 Q1469.56 1556.27 1467.94 1554.99 Q1466.34 1553.72 1460.9 1552.54 L1458.87 1552.07 Q1453.42 1550.92 1451 1548.56 Q1448.58 1546.18 1448.58 1542.04 Q1448.58 1537.01 1452.15 1534.27 Q1455.71 1531.54 1462.27 1531.54 Q1465.52 1531.54 1468.38 1532.01 Q1471.25 1532.49 1473.67 1533.45 Z\" fill=\"#000000\" fill-rule=\"nonzero\" fill-opacity=\"1\" /><polyline clip-path=\"url(#clip952)\" style=\"stroke:#000000; stroke-linecap:round; stroke-linejoin:round; stroke-width:2; stroke-opacity:0.1; fill:none\" points=\"205.121,1423.18 2352.76,1423.18 \"/>\n",
       "<polyline clip-path=\"url(#clip952)\" style=\"stroke:#000000; stroke-linecap:round; stroke-linejoin:round; stroke-width:2; stroke-opacity:0.1; fill:none\" points=\"205.121,1147.99 2352.76,1147.99 \"/>\n",
       "<polyline clip-path=\"url(#clip952)\" style=\"stroke:#000000; stroke-linecap:round; stroke-linejoin:round; stroke-width:2; stroke-opacity:0.1; fill:none\" points=\"205.121,872.806 2352.76,872.806 \"/>\n",
       "<polyline clip-path=\"url(#clip952)\" style=\"stroke:#000000; stroke-linecap:round; stroke-linejoin:round; stroke-width:2; stroke-opacity:0.1; fill:none\" points=\"205.121,597.618 2352.76,597.618 \"/>\n",
       "<polyline clip-path=\"url(#clip952)\" style=\"stroke:#000000; stroke-linecap:round; stroke-linejoin:round; stroke-width:2; stroke-opacity:0.1; fill:none\" points=\"205.121,322.431 2352.76,322.431 \"/>\n",
       "<polyline clip-path=\"url(#clip952)\" style=\"stroke:#000000; stroke-linecap:round; stroke-linejoin:round; stroke-width:2; stroke-opacity:0.1; fill:none\" points=\"205.121,47.2441 2352.76,47.2441 \"/>\n",
       "<polyline clip-path=\"url(#clip950)\" style=\"stroke:#000000; stroke-linecap:round; stroke-linejoin:round; stroke-width:4; stroke-opacity:1; fill:none\" points=\"205.121,1423.18 205.121,47.2441 \"/>\n",
       "<polyline clip-path=\"url(#clip950)\" style=\"stroke:#000000; stroke-linecap:round; stroke-linejoin:round; stroke-width:4; stroke-opacity:1; fill:none\" points=\"205.121,1423.18 224.019,1423.18 \"/>\n",
       "<polyline clip-path=\"url(#clip950)\" style=\"stroke:#000000; stroke-linecap:round; stroke-linejoin:round; stroke-width:4; stroke-opacity:1; fill:none\" points=\"205.121,1147.99 224.019,1147.99 \"/>\n",
       "<polyline clip-path=\"url(#clip950)\" style=\"stroke:#000000; stroke-linecap:round; stroke-linejoin:round; stroke-width:4; stroke-opacity:1; fill:none\" points=\"205.121,872.806 224.019,872.806 \"/>\n",
       "<polyline clip-path=\"url(#clip950)\" style=\"stroke:#000000; stroke-linecap:round; stroke-linejoin:round; stroke-width:4; stroke-opacity:1; fill:none\" points=\"205.121,597.618 224.019,597.618 \"/>\n",
       "<polyline clip-path=\"url(#clip950)\" style=\"stroke:#000000; stroke-linecap:round; stroke-linejoin:round; stroke-width:4; stroke-opacity:1; fill:none\" points=\"205.121,322.431 224.019,322.431 \"/>\n",
       "<polyline clip-path=\"url(#clip950)\" style=\"stroke:#000000; stroke-linecap:round; stroke-linejoin:round; stroke-width:4; stroke-opacity:1; fill:none\" points=\"205.121,47.2441 224.019,47.2441 \"/>\n",
       "<path clip-path=\"url(#clip950)\" d=\"M157.177 1408.98 Q153.566 1408.98 151.737 1412.54 Q149.931 1416.08 149.931 1423.21 Q149.931 1430.32 151.737 1433.89 Q153.566 1437.43 157.177 1437.43 Q160.811 1437.43 162.616 1433.89 Q164.445 1430.32 164.445 1423.21 Q164.445 1416.08 162.616 1412.54 Q160.811 1408.98 157.177 1408.98 M157.177 1405.27 Q162.987 1405.27 166.042 1409.88 Q169.121 1414.46 169.121 1423.21 Q169.121 1431.94 166.042 1436.55 Q162.987 1441.13 157.177 1441.13 Q151.366 1441.13 148.288 1436.55 Q145.232 1431.94 145.232 1423.21 Q145.232 1414.46 148.288 1409.88 Q151.366 1405.27 157.177 1405.27 Z\" fill=\"#000000\" fill-rule=\"nonzero\" fill-opacity=\"1\" /><path clip-path=\"url(#clip950)\" d=\"M117.825 1161.34 L125.464 1161.34 L125.464 1134.97 L117.154 1136.64 L117.154 1132.38 L125.418 1130.71 L130.093 1130.71 L130.093 1161.34 L137.732 1161.34 L137.732 1165.27 L117.825 1165.27 L117.825 1161.34 Z\" fill=\"#000000\" fill-rule=\"nonzero\" fill-opacity=\"1\" /><path clip-path=\"url(#clip950)\" d=\"M157.177 1133.79 Q153.566 1133.79 151.737 1137.36 Q149.931 1140.9 149.931 1148.03 Q149.931 1155.13 151.737 1158.7 Q153.566 1162.24 157.177 1162.24 Q160.811 1162.24 162.616 1158.7 Q164.445 1155.13 164.445 1148.03 Q164.445 1140.9 162.616 1137.36 Q160.811 1133.79 157.177 1133.79 M157.177 1130.09 Q162.987 1130.09 166.042 1134.69 Q169.121 1139.28 169.121 1148.03 Q169.121 1156.75 166.042 1161.36 Q162.987 1165.94 157.177 1165.94 Q151.366 1165.94 148.288 1161.36 Q145.232 1156.75 145.232 1148.03 Q145.232 1139.28 148.288 1134.69 Q151.366 1130.09 157.177 1130.09 Z\" fill=\"#000000\" fill-rule=\"nonzero\" fill-opacity=\"1\" /><path clip-path=\"url(#clip950)\" d=\"M121.043 886.15 L137.362 886.15 L137.362 890.086 L115.418 890.086 L115.418 886.15 Q118.08 883.396 122.663 878.766 Q127.269 874.113 128.45 872.771 Q130.695 870.248 131.575 868.512 Q132.478 866.752 132.478 865.063 Q132.478 862.308 130.533 860.572 Q128.612 858.836 125.51 858.836 Q123.311 858.836 120.857 859.6 Q118.427 860.363 115.649 861.914 L115.649 857.192 Q118.473 856.058 120.927 855.479 Q123.38 854.901 125.418 854.901 Q130.788 854.901 133.982 857.586 Q137.177 860.271 137.177 864.762 Q137.177 866.891 136.367 868.813 Q135.579 870.711 133.473 873.303 Q132.894 873.975 129.792 877.192 Q126.691 880.387 121.043 886.15 Z\" fill=\"#000000\" fill-rule=\"nonzero\" fill-opacity=\"1\" /><path clip-path=\"url(#clip950)\" d=\"M157.177 858.604 Q153.566 858.604 151.737 862.169 Q149.931 865.711 149.931 872.84 Q149.931 879.947 151.737 883.512 Q153.566 887.053 157.177 887.053 Q160.811 887.053 162.616 883.512 Q164.445 879.947 164.445 872.84 Q164.445 865.711 162.616 862.169 Q160.811 858.604 157.177 858.604 M157.177 854.901 Q162.987 854.901 166.042 859.507 Q169.121 864.09 169.121 872.84 Q169.121 881.567 166.042 886.174 Q162.987 890.757 157.177 890.757 Q151.366 890.757 148.288 886.174 Q145.232 881.567 145.232 872.84 Q145.232 864.09 148.288 859.507 Q151.366 854.901 157.177 854.901 Z\" fill=\"#000000\" fill-rule=\"nonzero\" fill-opacity=\"1\" /><path clip-path=\"url(#clip950)\" d=\"M131.181 596.264 Q134.538 596.982 136.413 599.25 Q138.311 601.519 138.311 604.852 Q138.311 609.968 134.792 612.769 Q131.274 615.57 124.793 615.57 Q122.617 615.57 120.302 615.13 Q118.01 614.713 115.556 613.857 L115.556 609.343 Q117.501 610.477 119.816 611.056 Q122.13 611.635 124.654 611.635 Q129.052 611.635 131.343 609.898 Q133.658 608.162 133.658 604.852 Q133.658 601.797 131.505 600.084 Q129.376 598.348 125.556 598.348 L121.529 598.348 L121.529 594.505 L125.742 594.505 Q129.191 594.505 131.019 593.139 Q132.848 591.75 132.848 589.158 Q132.848 586.496 130.95 585.084 Q129.075 583.649 125.556 583.649 Q123.635 583.649 121.436 584.065 Q119.237 584.482 116.598 585.362 L116.598 581.195 Q119.26 580.454 121.575 580.084 Q123.913 579.713 125.973 579.713 Q131.297 579.713 134.399 582.144 Q137.501 584.551 137.501 588.672 Q137.501 591.542 135.857 593.533 Q134.214 595.5 131.181 596.264 Z\" fill=\"#000000\" fill-rule=\"nonzero\" fill-opacity=\"1\" /><path clip-path=\"url(#clip950)\" d=\"M157.177 583.417 Q153.566 583.417 151.737 586.982 Q149.931 590.524 149.931 597.653 Q149.931 604.76 151.737 608.324 Q153.566 611.866 157.177 611.866 Q160.811 611.866 162.616 608.324 Q164.445 604.76 164.445 597.653 Q164.445 590.524 162.616 586.982 Q160.811 583.417 157.177 583.417 M157.177 579.713 Q162.987 579.713 166.042 584.32 Q169.121 588.903 169.121 597.653 Q169.121 606.38 166.042 610.986 Q162.987 615.57 157.177 615.57 Q151.366 615.57 148.288 610.986 Q145.232 606.38 145.232 597.653 Q145.232 588.903 148.288 584.32 Q151.366 579.713 157.177 579.713 Z\" fill=\"#000000\" fill-rule=\"nonzero\" fill-opacity=\"1\" /><path clip-path=\"url(#clip950)\" d=\"M129.862 309.225 L118.056 327.674 L129.862 327.674 L129.862 309.225 M128.635 305.151 L134.515 305.151 L134.515 327.674 L139.445 327.674 L139.445 331.563 L134.515 331.563 L134.515 339.711 L129.862 339.711 L129.862 331.563 L114.26 331.563 L114.26 327.049 L128.635 305.151 Z\" fill=\"#000000\" fill-rule=\"nonzero\" fill-opacity=\"1\" /><path clip-path=\"url(#clip950)\" d=\"M157.177 308.23 Q153.566 308.23 151.737 311.795 Q149.931 315.336 149.931 322.466 Q149.931 329.572 151.737 333.137 Q153.566 336.679 157.177 336.679 Q160.811 336.679 162.616 333.137 Q164.445 329.572 164.445 322.466 Q164.445 315.336 162.616 311.795 Q160.811 308.23 157.177 308.23 M157.177 304.526 Q162.987 304.526 166.042 309.133 Q169.121 313.716 169.121 322.466 Q169.121 331.193 166.042 335.799 Q162.987 340.383 157.177 340.383 Q151.366 340.383 148.288 335.799 Q145.232 331.193 145.232 322.466 Q145.232 313.716 148.288 309.133 Q151.366 304.526 157.177 304.526 Z\" fill=\"#000000\" fill-rule=\"nonzero\" fill-opacity=\"1\" /><path clip-path=\"url(#clip950)\" d=\"M117.061 29.9641 L135.417 29.9641 L135.417 33.8993 L121.343 33.8993 L121.343 42.3714 Q122.362 42.0242 123.38 41.8622 Q124.399 41.677 125.418 41.677 Q131.205 41.677 134.584 44.8483 Q137.964 48.0196 137.964 53.4362 Q137.964 59.0149 134.492 62.1167 Q131.019 65.1954 124.7 65.1954 Q122.524 65.1954 120.255 64.825 Q118.01 64.4547 115.603 63.7139 L115.603 59.0149 Q117.686 60.1491 119.908 60.7047 Q122.13 61.2602 124.607 61.2602 Q128.612 61.2602 130.95 59.1538 Q133.288 57.0473 133.288 53.4362 Q133.288 49.8251 130.95 47.7186 Q128.612 45.6122 124.607 45.6122 Q122.732 45.6122 120.857 46.0288 Q119.006 46.4455 117.061 47.3251 L117.061 29.9641 Z\" fill=\"#000000\" fill-rule=\"nonzero\" fill-opacity=\"1\" /><path clip-path=\"url(#clip950)\" d=\"M157.177 33.0428 Q153.566 33.0428 151.737 36.6076 Q149.931 40.1492 149.931 47.2788 Q149.931 54.3853 151.737 57.9501 Q153.566 61.4917 157.177 61.4917 Q160.811 61.4917 162.616 57.9501 Q164.445 54.3853 164.445 47.2788 Q164.445 40.1492 162.616 36.6076 Q160.811 33.0428 157.177 33.0428 M157.177 29.3391 Q162.987 29.3391 166.042 33.9456 Q169.121 38.5289 169.121 47.2788 Q169.121 56.0056 166.042 60.6121 Q162.987 65.1954 157.177 65.1954 Q151.366 65.1954 148.288 60.6121 Q145.232 56.0056 145.232 47.2788 Q145.232 38.5289 148.288 33.9456 Q151.366 29.3391 157.177 29.3391 Z\" fill=\"#000000\" fill-rule=\"nonzero\" fill-opacity=\"1\" /><path clip-path=\"url(#clip950)\" d=\"M29.7248 796.386 L35.1993 796.386 Q33.8307 798.869 33.1623 801.383 Q32.4621 803.866 32.4621 806.412 Q32.4621 812.11 36.0905 815.261 Q39.6872 818.412 46.212 818.412 Q52.7369 818.412 56.3653 815.261 Q59.9619 812.11 59.9619 806.412 Q59.9619 803.866 59.2935 801.383 Q58.5933 798.869 57.2247 796.386 L62.6355 796.386 Q63.7814 798.837 64.3543 801.479 Q64.9272 804.089 64.9272 807.049 Q64.9272 815.102 59.8664 819.844 Q54.8057 824.586 46.212 824.586 Q37.491 824.586 32.4939 819.812 Q27.4968 815.006 27.4968 806.667 Q27.4968 803.962 28.0697 801.383 Q28.6108 798.805 29.7248 796.386 Z\" fill=\"#000000\" fill-rule=\"nonzero\" fill-opacity=\"1\" /><path clip-path=\"url(#clip950)\" d=\"M32.4621 772.388 Q32.4621 777.098 36.1542 779.836 Q39.8145 782.573 46.212 782.573 Q52.6095 782.573 56.3017 779.867 Q59.9619 777.13 59.9619 772.388 Q59.9619 767.709 56.2698 764.972 Q52.5777 762.234 46.212 762.234 Q39.8781 762.234 36.186 764.972 Q32.4621 767.709 32.4621 772.388 M27.4968 772.388 Q27.4968 764.749 32.4621 760.388 Q37.4273 756.028 46.212 756.028 Q54.9649 756.028 59.9619 760.388 Q64.9272 764.749 64.9272 772.388 Q64.9272 780.058 59.9619 784.419 Q54.9649 788.748 46.212 788.748 Q37.4273 788.748 32.4621 784.419 Q27.4968 780.058 27.4968 772.388 Z\" fill=\"#000000\" fill-rule=\"nonzero\" fill-opacity=\"1\" /><path clip-path=\"url(#clip950)\" d=\"M49.9359 746.925 L28.3562 746.925 L28.3562 741.068 L49.7131 741.068 Q54.7739 741.068 57.3202 739.095 Q59.8346 737.122 59.8346 733.175 Q59.8346 728.432 56.8109 725.695 Q53.7872 722.926 48.5673 722.926 L28.3562 722.926 L28.3562 717.07 L64.0042 717.07 L64.0042 722.926 L58.5296 722.926 Q61.7762 725.059 63.3676 727.891 Q64.9272 730.692 64.9272 734.416 Q64.9272 740.559 61.1078 743.742 Q57.2883 746.925 49.9359 746.925 M27.4968 732.188 L27.4968 732.188 Z\" fill=\"#000000\" fill-rule=\"nonzero\" fill-opacity=\"1\" /><path clip-path=\"url(#clip950)\" d=\"M42.4881 675.374 L64.0042 675.374 L64.0042 681.231 L42.679 681.231 Q37.6183 681.231 35.1038 683.204 Q32.5894 685.178 32.5894 689.124 Q32.5894 693.867 35.6131 696.604 Q38.6368 699.341 43.8567 699.341 L64.0042 699.341 L64.0042 705.229 L28.3562 705.229 L28.3562 699.341 L33.8944 699.341 Q30.6797 697.241 29.0883 694.408 Q27.4968 691.543 27.4968 687.819 Q27.4968 681.676 31.3163 678.525 Q35.1038 675.374 42.4881 675.374 Z\" fill=\"#000000\" fill-rule=\"nonzero\" fill-opacity=\"1\" /><path clip-path=\"url(#clip950)\" d=\"M18.2347 657.9 L28.3562 657.9 L28.3562 645.837 L32.9077 645.837 L32.9077 657.9 L52.2594 657.9 Q56.6199 657.9 57.8613 656.723 Q59.1026 655.513 59.1026 651.853 L59.1026 645.837 L64.0042 645.837 L64.0042 651.853 Q64.0042 658.633 61.4897 661.211 Q58.9434 663.789 52.2594 663.789 L32.9077 663.789 L32.9077 668.086 L28.3562 668.086 L28.3562 663.789 L18.2347 663.789 L18.2347 657.9 Z\" fill=\"#000000\" fill-rule=\"nonzero\" fill-opacity=\"1\" /><path clip-path=\"url(#clip952)\" d=\"M405.897 1368.14 L405.897 1423.18 L450.934 1423.18 L450.934 1368.14 L405.897 1368.14 L405.897 1368.14  Z\" fill=\"#009af9\" fill-rule=\"evenodd\" fill-opacity=\"1\"/>\n",
       "<polyline clip-path=\"url(#clip952)\" style=\"stroke:#000000; stroke-linecap:round; stroke-linejoin:round; stroke-width:4; stroke-opacity:1; fill:none\" points=\"405.897,1368.14 405.897,1423.18 450.934,1423.18 450.934,1368.14 405.897,1368.14 \"/>\n",
       "<path clip-path=\"url(#clip952)\" d=\"M450.934 1285.59 L450.934 1423.18 L495.971 1423.18 L495.971 1285.59 L450.934 1285.59 L450.934 1285.59  Z\" fill=\"#009af9\" fill-rule=\"evenodd\" fill-opacity=\"1\"/>\n",
       "<polyline clip-path=\"url(#clip952)\" style=\"stroke:#000000; stroke-linecap:round; stroke-linejoin:round; stroke-width:4; stroke-opacity:1; fill:none\" points=\"450.934,1285.59 450.934,1423.18 495.971,1423.18 495.971,1285.59 450.934,1285.59 \"/>\n",
       "<path clip-path=\"url(#clip952)\" d=\"M495.971 680.175 L495.971 1423.18 L541.008 1423.18 L541.008 680.175 L495.971 680.175 L495.971 680.175  Z\" fill=\"#009af9\" fill-rule=\"evenodd\" fill-opacity=\"1\"/>\n",
       "<polyline clip-path=\"url(#clip952)\" style=\"stroke:#000000; stroke-linecap:round; stroke-linejoin:round; stroke-width:4; stroke-opacity:1; fill:none\" points=\"495.971,680.175 495.971,1423.18 541.008,1423.18 541.008,680.175 495.971,680.175 \"/>\n",
       "<path clip-path=\"url(#clip952)\" d=\"M541.008 47.2441 L541.008 1423.18 L586.046 1423.18 L586.046 47.2441 L541.008 47.2441 L541.008 47.2441  Z\" fill=\"#009af9\" fill-rule=\"evenodd\" fill-opacity=\"1\"/>\n",
       "<polyline clip-path=\"url(#clip952)\" style=\"stroke:#000000; stroke-linecap:round; stroke-linejoin:round; stroke-width:4; stroke-opacity:1; fill:none\" points=\"541.008,47.2441 541.008,1423.18 586.046,1423.18 586.046,47.2441 541.008,47.2441 \"/>\n",
       "<path clip-path=\"url(#clip952)\" d=\"M586.046 845.287 L586.046 1423.18 L631.083 1423.18 L631.083 845.287 L586.046 845.287 L586.046 845.287  Z\" fill=\"#009af9\" fill-rule=\"evenodd\" fill-opacity=\"1\"/>\n",
       "<polyline clip-path=\"url(#clip952)\" style=\"stroke:#000000; stroke-linecap:round; stroke-linejoin:round; stroke-width:4; stroke-opacity:1; fill:none\" points=\"586.046,845.287 586.046,1423.18 631.083,1423.18 631.083,845.287 586.046,845.287 \"/>\n",
       "<path clip-path=\"url(#clip952)\" d=\"M631.083 817.768 L631.083 1423.18 L676.12 1423.18 L676.12 817.768 L631.083 817.768 L631.083 817.768  Z\" fill=\"#009af9\" fill-rule=\"evenodd\" fill-opacity=\"1\"/>\n",
       "<polyline clip-path=\"url(#clip952)\" style=\"stroke:#000000; stroke-linecap:round; stroke-linejoin:round; stroke-width:4; stroke-opacity:1; fill:none\" points=\"631.083,817.768 631.083,1423.18 676.12,1423.18 676.12,817.768 631.083,817.768 \"/>\n",
       "<path clip-path=\"url(#clip952)\" d=\"M676.12 927.843 L676.12 1423.18 L721.157 1423.18 L721.157 927.843 L676.12 927.843 L676.12 927.843  Z\" fill=\"#009af9\" fill-rule=\"evenodd\" fill-opacity=\"1\"/>\n",
       "<polyline clip-path=\"url(#clip952)\" style=\"stroke:#000000; stroke-linecap:round; stroke-linejoin:round; stroke-width:4; stroke-opacity:1; fill:none\" points=\"676.12,927.843 676.12,1423.18 721.157,1423.18 721.157,927.843 676.12,927.843 \"/>\n",
       "<path clip-path=\"url(#clip952)\" d=\"M721.157 1092.96 L721.157 1423.18 L766.195 1423.18 L766.195 1092.96 L721.157 1092.96 L721.157 1092.96  Z\" fill=\"#009af9\" fill-rule=\"evenodd\" fill-opacity=\"1\"/>\n",
       "<polyline clip-path=\"url(#clip952)\" style=\"stroke:#000000; stroke-linecap:round; stroke-linejoin:round; stroke-width:4; stroke-opacity:1; fill:none\" points=\"721.157,1092.96 721.157,1423.18 766.195,1423.18 766.195,1092.96 721.157,1092.96 \"/>\n",
       "<path clip-path=\"url(#clip952)\" d=\"M766.195 1285.59 L766.195 1423.18 L811.232 1423.18 L811.232 1285.59 L766.195 1285.59 L766.195 1285.59  Z\" fill=\"#009af9\" fill-rule=\"evenodd\" fill-opacity=\"1\"/>\n",
       "<polyline clip-path=\"url(#clip952)\" style=\"stroke:#000000; stroke-linecap:round; stroke-linejoin:round; stroke-width:4; stroke-opacity:1; fill:none\" points=\"766.195,1285.59 766.195,1423.18 811.232,1423.18 811.232,1285.59 766.195,1285.59 \"/>\n",
       "<path clip-path=\"url(#clip952)\" d=\"M811.232 1147.99 L811.232 1423.18 L856.269 1423.18 L856.269 1147.99 L811.232 1147.99 L811.232 1147.99  Z\" fill=\"#009af9\" fill-rule=\"evenodd\" fill-opacity=\"1\"/>\n",
       "<polyline clip-path=\"url(#clip952)\" style=\"stroke:#000000; stroke-linecap:round; stroke-linejoin:round; stroke-width:4; stroke-opacity:1; fill:none\" points=\"811.232,1147.99 811.232,1423.18 856.269,1423.18 856.269,1147.99 811.232,1147.99 \"/>\n",
       "<path clip-path=\"url(#clip952)\" d=\"M856.269 1175.51 L856.269 1423.18 L901.306 1423.18 L901.306 1175.51 L856.269 1175.51 L856.269 1175.51  Z\" fill=\"#009af9\" fill-rule=\"evenodd\" fill-opacity=\"1\"/>\n",
       "<polyline clip-path=\"url(#clip952)\" style=\"stroke:#000000; stroke-linecap:round; stroke-linejoin:round; stroke-width:4; stroke-opacity:1; fill:none\" points=\"856.269,1175.51 856.269,1423.18 901.306,1423.18 901.306,1175.51 856.269,1175.51 \"/>\n",
       "<path clip-path=\"url(#clip952)\" d=\"M901.306 1203.03 L901.306 1423.18 L946.343 1423.18 L946.343 1203.03 L901.306 1203.03 L901.306 1203.03  Z\" fill=\"#009af9\" fill-rule=\"evenodd\" fill-opacity=\"1\"/>\n",
       "<polyline clip-path=\"url(#clip952)\" style=\"stroke:#000000; stroke-linecap:round; stroke-linejoin:round; stroke-width:4; stroke-opacity:1; fill:none\" points=\"901.306,1203.03 901.306,1423.18 946.343,1423.18 946.343,1203.03 901.306,1203.03 \"/>\n",
       "<path clip-path=\"url(#clip952)\" d=\"M946.343 1258.07 L946.343 1423.18 L991.381 1423.18 L991.381 1258.07 L946.343 1258.07 L946.343 1258.07  Z\" fill=\"#009af9\" fill-rule=\"evenodd\" fill-opacity=\"1\"/>\n",
       "<polyline clip-path=\"url(#clip952)\" style=\"stroke:#000000; stroke-linecap:round; stroke-linejoin:round; stroke-width:4; stroke-opacity:1; fill:none\" points=\"946.343,1258.07 946.343,1423.18 991.381,1423.18 991.381,1258.07 946.343,1258.07 \"/>\n",
       "<path clip-path=\"url(#clip952)\" d=\"M991.381 1313.1 L991.381 1423.18 L1036.42 1423.18 L1036.42 1313.1 L991.381 1313.1 L991.381 1313.1  Z\" fill=\"#009af9\" fill-rule=\"evenodd\" fill-opacity=\"1\"/>\n",
       "<polyline clip-path=\"url(#clip952)\" style=\"stroke:#000000; stroke-linecap:round; stroke-linejoin:round; stroke-width:4; stroke-opacity:1; fill:none\" points=\"991.381,1313.1 991.381,1423.18 1036.42,1423.18 1036.42,1313.1 991.381,1313.1 \"/>\n",
       "<path clip-path=\"url(#clip952)\" d=\"M1036.42 1285.59 L1036.42 1423.18 L1081.46 1423.18 L1081.46 1285.59 L1036.42 1285.59 L1036.42 1285.59  Z\" fill=\"#009af9\" fill-rule=\"evenodd\" fill-opacity=\"1\"/>\n",
       "<polyline clip-path=\"url(#clip952)\" style=\"stroke:#000000; stroke-linecap:round; stroke-linejoin:round; stroke-width:4; stroke-opacity:1; fill:none\" points=\"1036.42,1285.59 1036.42,1423.18 1081.46,1423.18 1081.46,1285.59 1036.42,1285.59 \"/>\n",
       "<path clip-path=\"url(#clip952)\" d=\"M1081.46 1258.07 L1081.46 1423.18 L1126.49 1423.18 L1126.49 1258.07 L1081.46 1258.07 L1081.46 1258.07  Z\" fill=\"#009af9\" fill-rule=\"evenodd\" fill-opacity=\"1\"/>\n",
       "<polyline clip-path=\"url(#clip952)\" style=\"stroke:#000000; stroke-linecap:round; stroke-linejoin:round; stroke-width:4; stroke-opacity:1; fill:none\" points=\"1081.46,1258.07 1081.46,1423.18 1126.49,1423.18 1126.49,1258.07 1081.46,1258.07 \"/>\n",
       "<path clip-path=\"url(#clip952)\" d=\"M1126.49 1147.99 L1126.49 1423.18 L1171.53 1423.18 L1171.53 1147.99 L1126.49 1147.99 L1126.49 1147.99  Z\" fill=\"#009af9\" fill-rule=\"evenodd\" fill-opacity=\"1\"/>\n",
       "<polyline clip-path=\"url(#clip952)\" style=\"stroke:#000000; stroke-linecap:round; stroke-linejoin:round; stroke-width:4; stroke-opacity:1; fill:none\" points=\"1126.49,1147.99 1126.49,1423.18 1171.53,1423.18 1171.53,1147.99 1126.49,1147.99 \"/>\n",
       "<path clip-path=\"url(#clip952)\" d=\"M1171.53 1230.55 L1171.53 1423.18 L1216.57 1423.18 L1216.57 1230.55 L1171.53 1230.55 L1171.53 1230.55  Z\" fill=\"#009af9\" fill-rule=\"evenodd\" fill-opacity=\"1\"/>\n",
       "<polyline clip-path=\"url(#clip952)\" style=\"stroke:#000000; stroke-linecap:round; stroke-linejoin:round; stroke-width:4; stroke-opacity:1; fill:none\" points=\"1171.53,1230.55 1171.53,1423.18 1216.57,1423.18 1216.57,1230.55 1171.53,1230.55 \"/>\n",
       "<path clip-path=\"url(#clip952)\" d=\"M1216.57 1230.55 L1216.57 1423.18 L1261.6 1423.18 L1261.6 1230.55 L1216.57 1230.55 L1216.57 1230.55  Z\" fill=\"#009af9\" fill-rule=\"evenodd\" fill-opacity=\"1\"/>\n",
       "<polyline clip-path=\"url(#clip952)\" style=\"stroke:#000000; stroke-linecap:round; stroke-linejoin:round; stroke-width:4; stroke-opacity:1; fill:none\" points=\"1216.57,1230.55 1216.57,1423.18 1261.6,1423.18 1261.6,1230.55 1216.57,1230.55 \"/>\n",
       "<path clip-path=\"url(#clip952)\" d=\"M1261.6 955.362 L1261.6 1423.18 L1306.64 1423.18 L1306.64 955.362 L1261.6 955.362 L1261.6 955.362  Z\" fill=\"#009af9\" fill-rule=\"evenodd\" fill-opacity=\"1\"/>\n",
       "<polyline clip-path=\"url(#clip952)\" style=\"stroke:#000000; stroke-linecap:round; stroke-linejoin:round; stroke-width:4; stroke-opacity:1; fill:none\" points=\"1261.6,955.362 1261.6,1423.18 1306.64,1423.18 1306.64,955.362 1261.6,955.362 \"/>\n",
       "<path clip-path=\"url(#clip952)\" d=\"M1306.64 1065.44 L1306.64 1423.18 L1351.68 1423.18 L1351.68 1065.44 L1306.64 1065.44 L1306.64 1065.44  Z\" fill=\"#009af9\" fill-rule=\"evenodd\" fill-opacity=\"1\"/>\n",
       "<polyline clip-path=\"url(#clip952)\" style=\"stroke:#000000; stroke-linecap:round; stroke-linejoin:round; stroke-width:4; stroke-opacity:1; fill:none\" points=\"1306.64,1065.44 1306.64,1423.18 1351.68,1423.18 1351.68,1065.44 1306.64,1065.44 \"/>\n",
       "<path clip-path=\"url(#clip952)\" d=\"M1351.68 1065.44 L1351.68 1423.18 L1396.72 1423.18 L1396.72 1065.44 L1351.68 1065.44 L1351.68 1065.44  Z\" fill=\"#009af9\" fill-rule=\"evenodd\" fill-opacity=\"1\"/>\n",
       "<polyline clip-path=\"url(#clip952)\" style=\"stroke:#000000; stroke-linecap:round; stroke-linejoin:round; stroke-width:4; stroke-opacity:1; fill:none\" points=\"1351.68,1065.44 1351.68,1423.18 1396.72,1423.18 1396.72,1065.44 1351.68,1065.44 \"/>\n",
       "<path clip-path=\"url(#clip952)\" d=\"M1396.72 1120.47 L1396.72 1423.18 L1441.75 1423.18 L1441.75 1120.47 L1396.72 1120.47 L1396.72 1120.47  Z\" fill=\"#009af9\" fill-rule=\"evenodd\" fill-opacity=\"1\"/>\n",
       "<polyline clip-path=\"url(#clip952)\" style=\"stroke:#000000; stroke-linecap:round; stroke-linejoin:round; stroke-width:4; stroke-opacity:1; fill:none\" points=\"1396.72,1120.47 1396.72,1423.18 1441.75,1423.18 1441.75,1120.47 1396.72,1120.47 \"/>\n",
       "<path clip-path=\"url(#clip952)\" d=\"M1441.75 790.249 L1441.75 1423.18 L1486.79 1423.18 L1486.79 790.249 L1441.75 790.249 L1441.75 790.249  Z\" fill=\"#009af9\" fill-rule=\"evenodd\" fill-opacity=\"1\"/>\n",
       "<polyline clip-path=\"url(#clip952)\" style=\"stroke:#000000; stroke-linecap:round; stroke-linejoin:round; stroke-width:4; stroke-opacity:1; fill:none\" points=\"1441.75,790.249 1441.75,1423.18 1486.79,1423.18 1486.79,790.249 1441.75,790.249 \"/>\n",
       "<path clip-path=\"url(#clip952)\" d=\"M1486.79 1120.47 L1486.79 1423.18 L1531.83 1423.18 L1531.83 1120.47 L1486.79 1120.47 L1486.79 1120.47  Z\" fill=\"#009af9\" fill-rule=\"evenodd\" fill-opacity=\"1\"/>\n",
       "<polyline clip-path=\"url(#clip952)\" style=\"stroke:#000000; stroke-linecap:round; stroke-linejoin:round; stroke-width:4; stroke-opacity:1; fill:none\" points=\"1486.79,1120.47 1486.79,1423.18 1531.83,1423.18 1531.83,1120.47 1486.79,1120.47 \"/>\n",
       "<path clip-path=\"url(#clip952)\" d=\"M1531.83 817.768 L1531.83 1423.18 L1576.86 1423.18 L1576.86 817.768 L1531.83 817.768 L1531.83 817.768  Z\" fill=\"#009af9\" fill-rule=\"evenodd\" fill-opacity=\"1\"/>\n",
       "<polyline clip-path=\"url(#clip952)\" style=\"stroke:#000000; stroke-linecap:round; stroke-linejoin:round; stroke-width:4; stroke-opacity:1; fill:none\" points=\"1531.83,817.768 1531.83,1423.18 1576.86,1423.18 1576.86,817.768 1531.83,817.768 \"/>\n",
       "<path clip-path=\"url(#clip952)\" d=\"M1576.86 1120.47 L1576.86 1423.18 L1621.9 1423.18 L1621.9 1120.47 L1576.86 1120.47 L1576.86 1120.47  Z\" fill=\"#009af9\" fill-rule=\"evenodd\" fill-opacity=\"1\"/>\n",
       "<polyline clip-path=\"url(#clip952)\" style=\"stroke:#000000; stroke-linecap:round; stroke-linejoin:round; stroke-width:4; stroke-opacity:1; fill:none\" points=\"1576.86,1120.47 1576.86,1423.18 1621.9,1423.18 1621.9,1120.47 1576.86,1120.47 \"/>\n",
       "<path clip-path=\"url(#clip952)\" d=\"M1621.9 1120.47 L1621.9 1423.18 L1666.94 1423.18 L1666.94 1120.47 L1621.9 1120.47 L1621.9 1120.47  Z\" fill=\"#009af9\" fill-rule=\"evenodd\" fill-opacity=\"1\"/>\n",
       "<polyline clip-path=\"url(#clip952)\" style=\"stroke:#000000; stroke-linecap:round; stroke-linejoin:round; stroke-width:4; stroke-opacity:1; fill:none\" points=\"1621.9,1120.47 1621.9,1423.18 1666.94,1423.18 1666.94,1120.47 1621.9,1120.47 \"/>\n",
       "<path clip-path=\"url(#clip952)\" d=\"M1666.94 1120.47 L1666.94 1423.18 L1711.98 1423.18 L1711.98 1120.47 L1666.94 1120.47 L1666.94 1120.47  Z\" fill=\"#009af9\" fill-rule=\"evenodd\" fill-opacity=\"1\"/>\n",
       "<polyline clip-path=\"url(#clip952)\" style=\"stroke:#000000; stroke-linecap:round; stroke-linejoin:round; stroke-width:4; stroke-opacity:1; fill:none\" points=\"1666.94,1120.47 1666.94,1423.18 1711.98,1423.18 1711.98,1120.47 1666.94,1120.47 \"/>\n",
       "<path clip-path=\"url(#clip952)\" d=\"M1711.98 1065.44 L1711.98 1423.18 L1757.01 1423.18 L1757.01 1065.44 L1711.98 1065.44 L1711.98 1065.44  Z\" fill=\"#009af9\" fill-rule=\"evenodd\" fill-opacity=\"1\"/>\n",
       "<polyline clip-path=\"url(#clip952)\" style=\"stroke:#000000; stroke-linecap:round; stroke-linejoin:round; stroke-width:4; stroke-opacity:1; fill:none\" points=\"1711.98,1065.44 1711.98,1423.18 1757.01,1423.18 1757.01,1065.44 1711.98,1065.44 \"/>\n",
       "<path clip-path=\"url(#clip952)\" d=\"M1757.01 1120.47 L1757.01 1423.18 L1802.05 1423.18 L1802.05 1120.47 L1757.01 1120.47 L1757.01 1120.47  Z\" fill=\"#009af9\" fill-rule=\"evenodd\" fill-opacity=\"1\"/>\n",
       "<polyline clip-path=\"url(#clip952)\" style=\"stroke:#000000; stroke-linecap:round; stroke-linejoin:round; stroke-width:4; stroke-opacity:1; fill:none\" points=\"1757.01,1120.47 1757.01,1423.18 1802.05,1423.18 1802.05,1120.47 1757.01,1120.47 \"/>\n",
       "<path clip-path=\"url(#clip952)\" d=\"M1802.05 1258.07 L1802.05 1423.18 L1847.09 1423.18 L1847.09 1258.07 L1802.05 1258.07 L1802.05 1258.07  Z\" fill=\"#009af9\" fill-rule=\"evenodd\" fill-opacity=\"1\"/>\n",
       "<polyline clip-path=\"url(#clip952)\" style=\"stroke:#000000; stroke-linecap:round; stroke-linejoin:round; stroke-width:4; stroke-opacity:1; fill:none\" points=\"1802.05,1258.07 1802.05,1423.18 1847.09,1423.18 1847.09,1258.07 1802.05,1258.07 \"/>\n",
       "<path clip-path=\"url(#clip952)\" d=\"M1847.09 1230.55 L1847.09 1423.18 L1892.12 1423.18 L1892.12 1230.55 L1847.09 1230.55 L1847.09 1230.55  Z\" fill=\"#009af9\" fill-rule=\"evenodd\" fill-opacity=\"1\"/>\n",
       "<polyline clip-path=\"url(#clip952)\" style=\"stroke:#000000; stroke-linecap:round; stroke-linejoin:round; stroke-width:4; stroke-opacity:1; fill:none\" points=\"1847.09,1230.55 1847.09,1423.18 1892.12,1423.18 1892.12,1230.55 1847.09,1230.55 \"/>\n",
       "<path clip-path=\"url(#clip952)\" d=\"M1892.12 1313.1 L1892.12 1423.18 L1937.16 1423.18 L1937.16 1313.1 L1892.12 1313.1 L1892.12 1313.1  Z\" fill=\"#009af9\" fill-rule=\"evenodd\" fill-opacity=\"1\"/>\n",
       "<polyline clip-path=\"url(#clip952)\" style=\"stroke:#000000; stroke-linecap:round; stroke-linejoin:round; stroke-width:4; stroke-opacity:1; fill:none\" points=\"1892.12,1313.1 1892.12,1423.18 1937.16,1423.18 1937.16,1313.1 1892.12,1313.1 \"/>\n",
       "<path clip-path=\"url(#clip952)\" d=\"M1937.16 1285.59 L1937.16 1423.18 L1982.2 1423.18 L1982.2 1285.59 L1937.16 1285.59 L1937.16 1285.59  Z\" fill=\"#009af9\" fill-rule=\"evenodd\" fill-opacity=\"1\"/>\n",
       "<polyline clip-path=\"url(#clip952)\" style=\"stroke:#000000; stroke-linecap:round; stroke-linejoin:round; stroke-width:4; stroke-opacity:1; fill:none\" points=\"1937.16,1285.59 1937.16,1423.18 1982.2,1423.18 1982.2,1285.59 1937.16,1285.59 \"/>\n",
       "<path clip-path=\"url(#clip952)\" d=\"M1982.2 1368.14 L1982.2 1423.18 L2027.24 1423.18 L2027.24 1368.14 L1982.2 1368.14 L1982.2 1368.14  Z\" fill=\"#009af9\" fill-rule=\"evenodd\" fill-opacity=\"1\"/>\n",
       "<polyline clip-path=\"url(#clip952)\" style=\"stroke:#000000; stroke-linecap:round; stroke-linejoin:round; stroke-width:4; stroke-opacity:1; fill:none\" points=\"1982.2,1368.14 1982.2,1423.18 2027.24,1423.18 2027.24,1368.14 1982.2,1368.14 \"/>\n",
       "<path clip-path=\"url(#clip952)\" d=\"M2027.24 1340.62 L2027.24 1423.18 L2072.27 1423.18 L2072.27 1340.62 L2027.24 1340.62 L2027.24 1340.62  Z\" fill=\"#009af9\" fill-rule=\"evenodd\" fill-opacity=\"1\"/>\n",
       "<polyline clip-path=\"url(#clip952)\" style=\"stroke:#000000; stroke-linecap:round; stroke-linejoin:round; stroke-width:4; stroke-opacity:1; fill:none\" points=\"2027.24,1340.62 2027.24,1423.18 2072.27,1423.18 2072.27,1340.62 2027.24,1340.62 \"/>\n",
       "<path clip-path=\"url(#clip952)\" d=\"M2072.27 1285.59 L2072.27 1423.18 L2117.31 1423.18 L2117.31 1285.59 L2072.27 1285.59 L2072.27 1285.59  Z\" fill=\"#009af9\" fill-rule=\"evenodd\" fill-opacity=\"1\"/>\n",
       "<polyline clip-path=\"url(#clip952)\" style=\"stroke:#000000; stroke-linecap:round; stroke-linejoin:round; stroke-width:4; stroke-opacity:1; fill:none\" points=\"2072.27,1285.59 2072.27,1423.18 2117.31,1423.18 2117.31,1285.59 2072.27,1285.59 \"/>\n",
       "<path clip-path=\"url(#clip952)\" d=\"M2117.31 1423.18 L2117.31 1423.18 L2162.35 1423.18 L2162.35 1423.18 L2117.31 1423.18 L2117.31 1423.18  Z\" fill=\"#009af9\" fill-rule=\"evenodd\" fill-opacity=\"1\"/>\n",
       "<polyline clip-path=\"url(#clip952)\" style=\"stroke:#000000; stroke-linecap:round; stroke-linejoin:round; stroke-width:4; stroke-opacity:1; fill:none\" points=\"2117.31,1423.18 2117.31,1423.18 2162.35,1423.18 2117.31,1423.18 \"/>\n",
       "<path clip-path=\"url(#clip952)\" d=\"M2162.35 1340.62 L2162.35 1423.18 L2207.39 1423.18 L2207.39 1340.62 L2162.35 1340.62 L2162.35 1340.62  Z\" fill=\"#009af9\" fill-rule=\"evenodd\" fill-opacity=\"1\"/>\n",
       "<polyline clip-path=\"url(#clip952)\" style=\"stroke:#000000; stroke-linecap:round; stroke-linejoin:round; stroke-width:4; stroke-opacity:1; fill:none\" points=\"2162.35,1340.62 2162.35,1423.18 2207.39,1423.18 2207.39,1340.62 2162.35,1340.62 \"/>\n",
       "<path clip-path=\"url(#clip952)\" d=\"M2207.39 1340.62 L2207.39 1423.18 L2252.42 1423.18 L2252.42 1340.62 L2207.39 1340.62 L2207.39 1340.62  Z\" fill=\"#009af9\" fill-rule=\"evenodd\" fill-opacity=\"1\"/>\n",
       "<polyline clip-path=\"url(#clip952)\" style=\"stroke:#000000; stroke-linecap:round; stroke-linejoin:round; stroke-width:4; stroke-opacity:1; fill:none\" points=\"2207.39,1340.62 2207.39,1423.18 2252.42,1423.18 2252.42,1340.62 2207.39,1340.62 \"/>\n",
       "<path clip-path=\"url(#clip952)\" d=\"M2252.42 1395.66 L2252.42 1423.18 L2297.46 1423.18 L2297.46 1395.66 L2252.42 1395.66 L2252.42 1395.66  Z\" fill=\"#009af9\" fill-rule=\"evenodd\" fill-opacity=\"1\"/>\n",
       "<polyline clip-path=\"url(#clip952)\" style=\"stroke:#000000; stroke-linecap:round; stroke-linejoin:round; stroke-width:4; stroke-opacity:1; fill:none\" points=\"2252.42,1395.66 2252.42,1423.18 2297.46,1423.18 2297.46,1395.66 2252.42,1395.66 \"/>\n",
       "<path clip-path=\"url(#clip952)\" d=\"M2297.46 1368.14 L2297.46 1423.18 L2342.5 1423.18 L2342.5 1368.14 L2297.46 1368.14 L2297.46 1368.14  Z\" fill=\"#009af9\" fill-rule=\"evenodd\" fill-opacity=\"1\"/>\n",
       "<polyline clip-path=\"url(#clip952)\" style=\"stroke:#000000; stroke-linecap:round; stroke-linejoin:round; stroke-width:4; stroke-opacity:1; fill:none\" points=\"2297.46,1368.14 2297.46,1423.18 2342.5,1423.18 2342.5,1368.14 2297.46,1368.14 \"/>\n",
       "<path clip-path=\"url(#clip952)\" d=\"M2342.5 1395.66 L2342.5 1423.18 L2387.53 1423.18 L2387.53 1395.66 L2342.5 1395.66 L2342.5 1395.66  Z\" fill=\"#009af9\" fill-rule=\"evenodd\" fill-opacity=\"1\"/>\n",
       "<polyline clip-path=\"url(#clip952)\" style=\"stroke:#000000; stroke-linecap:round; stroke-linejoin:round; stroke-width:4; stroke-opacity:1; fill:none\" points=\"2342.5,1395.66 2342.5,1423.18 2387.53,1423.18 2387.53,1395.66 2342.5,1395.66 \"/>\n",
       "<path clip-path=\"url(#clip952)\" d=\"M2387.53 1395.66 L2387.53 1423.18 L2432.57 1423.18 L2432.57 1395.66 L2387.53 1395.66 L2387.53 1395.66  Z\" fill=\"#009af9\" fill-rule=\"evenodd\" fill-opacity=\"1\"/>\n",
       "<polyline clip-path=\"url(#clip952)\" style=\"stroke:#000000; stroke-linecap:round; stroke-linejoin:round; stroke-width:4; stroke-opacity:1; fill:none\" points=\"2387.53,1395.66 2387.53,1423.18 2432.57,1423.18 2432.57,1395.66 2387.53,1395.66 \"/>\n",
       "<path clip-path=\"url(#clip952)\" d=\"M2432.57 1368.14 L2432.57 1423.18 L2477.61 1423.18 L2477.61 1368.14 L2432.57 1368.14 L2432.57 1368.14  Z\" fill=\"#009af9\" fill-rule=\"evenodd\" fill-opacity=\"1\"/>\n",
       "<polyline clip-path=\"url(#clip952)\" style=\"stroke:#000000; stroke-linecap:round; stroke-linejoin:round; stroke-width:4; stroke-opacity:1; fill:none\" points=\"2432.57,1368.14 2432.57,1423.18 2477.61,1423.18 2477.61,1368.14 2432.57,1368.14 \"/>\n",
       "<path clip-path=\"url(#clip952)\" d=\"M2477.61 1395.66 L2477.61 1423.18 L2522.65 1423.18 L2522.65 1395.66 L2477.61 1395.66 L2477.61 1395.66  Z\" fill=\"#009af9\" fill-rule=\"evenodd\" fill-opacity=\"1\"/>\n",
       "<polyline clip-path=\"url(#clip952)\" style=\"stroke:#000000; stroke-linecap:round; stroke-linejoin:round; stroke-width:4; stroke-opacity:1; fill:none\" points=\"2477.61,1395.66 2477.61,1423.18 2522.65,1423.18 2522.65,1395.66 2477.61,1395.66 \"/>\n",
       "<path clip-path=\"url(#clip952)\" d=\"M2522.65 1368.14 L2522.65 1423.18 L2567.68 1423.18 L2567.68 1368.14 L2522.65 1368.14 L2522.65 1368.14  Z\" fill=\"#009af9\" fill-rule=\"evenodd\" fill-opacity=\"1\"/>\n",
       "<polyline clip-path=\"url(#clip952)\" style=\"stroke:#000000; stroke-linecap:round; stroke-linejoin:round; stroke-width:4; stroke-opacity:1; fill:none\" points=\"2522.65,1368.14 2522.65,1423.18 2567.68,1423.18 2567.68,1368.14 2522.65,1368.14 \"/>\n",
       "<path clip-path=\"url(#clip952)\" d=\"M2567.68 1340.62 L2567.68 1423.18 L2612.72 1423.18 L2612.72 1340.62 L2567.68 1340.62 L2567.68 1340.62  Z\" fill=\"#009af9\" fill-rule=\"evenodd\" fill-opacity=\"1\"/>\n",
       "<polyline clip-path=\"url(#clip952)\" style=\"stroke:#000000; stroke-linecap:round; stroke-linejoin:round; stroke-width:4; stroke-opacity:1; fill:none\" points=\"2567.68,1340.62 2567.68,1423.18 2612.72,1423.18 2612.72,1340.62 2567.68,1340.62 \"/>\n",
       "<path clip-path=\"url(#clip952)\" d=\"M2612.72 1368.14 L2612.72 1423.18 L2657.76 1423.18 L2657.76 1368.14 L2612.72 1368.14 L2612.72 1368.14  Z\" fill=\"#009af9\" fill-rule=\"evenodd\" fill-opacity=\"1\"/>\n",
       "<polyline clip-path=\"url(#clip952)\" style=\"stroke:#000000; stroke-linecap:round; stroke-linejoin:round; stroke-width:4; stroke-opacity:1; fill:none\" points=\"2612.72,1368.14 2612.72,1423.18 2657.76,1423.18 2657.76,1368.14 2612.72,1368.14 \"/>\n",
       "<path clip-path=\"url(#clip952)\" d=\"M2657.76 1395.66 L2657.76 1423.18 L2702.79 1423.18 L2702.79 1395.66 L2657.76 1395.66 L2657.76 1395.66  Z\" fill=\"#009af9\" fill-rule=\"evenodd\" fill-opacity=\"1\"/>\n",
       "<polyline clip-path=\"url(#clip952)\" style=\"stroke:#000000; stroke-linecap:round; stroke-linejoin:round; stroke-width:4; stroke-opacity:1; fill:none\" points=\"2657.76,1395.66 2657.76,1423.18 2702.79,1423.18 2702.79,1395.66 2657.76,1395.66 \"/>\n",
       "<path clip-path=\"url(#clip952)\" d=\"M2702.79 1368.14 L2702.79 1423.18 L2747.83 1423.18 L2747.83 1368.14 L2702.79 1368.14 L2702.79 1368.14  Z\" fill=\"#009af9\" fill-rule=\"evenodd\" fill-opacity=\"1\"/>\n",
       "<polyline clip-path=\"url(#clip952)\" style=\"stroke:#000000; stroke-linecap:round; stroke-linejoin:round; stroke-width:4; stroke-opacity:1; fill:none\" points=\"2702.79,1368.14 2702.79,1423.18 2747.83,1423.18 2747.83,1368.14 2702.79,1368.14 \"/>\n",
       "<path clip-path=\"url(#clip952)\" d=\"M2747.83 1423.18 L2747.83 1423.18 L2792.87 1423.18 L2792.87 1423.18 L2747.83 1423.18 L2747.83 1423.18  Z\" fill=\"#009af9\" fill-rule=\"evenodd\" fill-opacity=\"1\"/>\n",
       "<polyline clip-path=\"url(#clip952)\" style=\"stroke:#000000; stroke-linecap:round; stroke-linejoin:round; stroke-width:4; stroke-opacity:1; fill:none\" points=\"2747.83,1423.18 2747.83,1423.18 2792.87,1423.18 2747.83,1423.18 \"/>\n",
       "<path clip-path=\"url(#clip952)\" d=\"M2792.87 1395.66 L2792.87 1423.18 L2837.91 1423.18 L2837.91 1395.66 L2792.87 1395.66 L2792.87 1395.66  Z\" fill=\"#009af9\" fill-rule=\"evenodd\" fill-opacity=\"1\"/>\n",
       "<polyline clip-path=\"url(#clip952)\" style=\"stroke:#000000; stroke-linecap:round; stroke-linejoin:round; stroke-width:4; stroke-opacity:1; fill:none\" points=\"2792.87,1395.66 2792.87,1423.18 2837.91,1423.18 2837.91,1395.66 2792.87,1395.66 \"/>\n",
       "<path clip-path=\"url(#clip952)\" d=\"M2837.91 1395.66 L2837.91 1423.18 L2882.94 1423.18 L2882.94 1395.66 L2837.91 1395.66 L2837.91 1395.66  Z\" fill=\"#009af9\" fill-rule=\"evenodd\" fill-opacity=\"1\"/>\n",
       "<polyline clip-path=\"url(#clip952)\" style=\"stroke:#000000; stroke-linecap:round; stroke-linejoin:round; stroke-width:4; stroke-opacity:1; fill:none\" points=\"2837.91,1395.66 2837.91,1423.18 2882.94,1423.18 2882.94,1395.66 2837.91,1395.66 \"/>\n",
       "<path clip-path=\"url(#clip952)\" d=\"M2882.94 1395.66 L2882.94 1423.18 L2927.98 1423.18 L2927.98 1395.66 L2882.94 1395.66 L2882.94 1395.66  Z\" fill=\"#009af9\" fill-rule=\"evenodd\" fill-opacity=\"1\"/>\n",
       "<polyline clip-path=\"url(#clip952)\" style=\"stroke:#000000; stroke-linecap:round; stroke-linejoin:round; stroke-width:4; stroke-opacity:1; fill:none\" points=\"2882.94,1395.66 2882.94,1423.18 2927.98,1423.18 2927.98,1395.66 2882.94,1395.66 \"/>\n",
       "<path clip-path=\"url(#clip952)\" d=\"M2927.98 1368.14 L2927.98 1423.18 L2973.02 1423.18 L2973.02 1368.14 L2927.98 1368.14 L2927.98 1368.14  Z\" fill=\"#009af9\" fill-rule=\"evenodd\" fill-opacity=\"1\"/>\n",
       "<polyline clip-path=\"url(#clip952)\" style=\"stroke:#000000; stroke-linecap:round; stroke-linejoin:round; stroke-width:4; stroke-opacity:1; fill:none\" points=\"2927.98,1368.14 2927.98,1423.18 2973.02,1423.18 2973.02,1368.14 2927.98,1368.14 \"/>\n",
       "<path clip-path=\"url(#clip952)\" d=\"M2973.02 1368.14 L2973.02 1423.18 L3018.06 1423.18 L3018.06 1368.14 L2973.02 1368.14 L2973.02 1368.14  Z\" fill=\"#009af9\" fill-rule=\"evenodd\" fill-opacity=\"1\"/>\n",
       "<polyline clip-path=\"url(#clip952)\" style=\"stroke:#000000; stroke-linecap:round; stroke-linejoin:round; stroke-width:4; stroke-opacity:1; fill:none\" points=\"2973.02,1368.14 2973.02,1423.18 3018.06,1423.18 3018.06,1368.14 2973.02,1368.14 \"/>\n",
       "<path clip-path=\"url(#clip952)\" d=\"M3018.06 1368.14 L3018.06 1423.18 L3063.09 1423.18 L3063.09 1368.14 L3018.06 1368.14 L3018.06 1368.14  Z\" fill=\"#009af9\" fill-rule=\"evenodd\" fill-opacity=\"1\"/>\n",
       "<polyline clip-path=\"url(#clip952)\" style=\"stroke:#000000; stroke-linecap:round; stroke-linejoin:round; stroke-width:4; stroke-opacity:1; fill:none\" points=\"3018.06,1368.14 3018.06,1423.18 3063.09,1423.18 3063.09,1368.14 3018.06,1368.14 \"/>\n",
       "<path clip-path=\"url(#clip952)\" d=\"M3063.09 1340.62 L3063.09 1423.18 L3108.13 1423.18 L3108.13 1340.62 L3063.09 1340.62 L3063.09 1340.62  Z\" fill=\"#009af9\" fill-rule=\"evenodd\" fill-opacity=\"1\"/>\n",
       "<polyline clip-path=\"url(#clip952)\" style=\"stroke:#000000; stroke-linecap:round; stroke-linejoin:round; stroke-width:4; stroke-opacity:1; fill:none\" points=\"3063.09,1340.62 3063.09,1423.18 3108.13,1423.18 3108.13,1340.62 3063.09,1340.62 \"/>\n",
       "<path clip-path=\"url(#clip952)\" d=\"M3108.13 1395.66 L3108.13 1423.18 L3153.17 1423.18 L3153.17 1395.66 L3108.13 1395.66 L3108.13 1395.66  Z\" fill=\"#009af9\" fill-rule=\"evenodd\" fill-opacity=\"1\"/>\n",
       "<polyline clip-path=\"url(#clip952)\" style=\"stroke:#000000; stroke-linecap:round; stroke-linejoin:round; stroke-width:4; stroke-opacity:1; fill:none\" points=\"3108.13,1395.66 3108.13,1423.18 3153.17,1423.18 3153.17,1395.66 3108.13,1395.66 \"/>\n",
       "<path clip-path=\"url(#clip952)\" d=\"M3153.17 1423.18 L3153.17 1423.18 L3198.2 1423.18 L3198.2 1423.18 L3153.17 1423.18 L3153.17 1423.18  Z\" fill=\"#009af9\" fill-rule=\"evenodd\" fill-opacity=\"1\"/>\n",
       "<polyline clip-path=\"url(#clip952)\" style=\"stroke:#000000; stroke-linecap:round; stroke-linejoin:round; stroke-width:4; stroke-opacity:1; fill:none\" points=\"3153.17,1423.18 3153.17,1423.18 3198.2,1423.18 3153.17,1423.18 \"/>\n",
       "<path clip-path=\"url(#clip952)\" d=\"M3198.2 1340.62 L3198.2 1423.18 L3243.24 1423.18 L3243.24 1340.62 L3198.2 1340.62 L3198.2 1340.62  Z\" fill=\"#009af9\" fill-rule=\"evenodd\" fill-opacity=\"1\"/>\n",
       "<polyline clip-path=\"url(#clip952)\" style=\"stroke:#000000; stroke-linecap:round; stroke-linejoin:round; stroke-width:4; stroke-opacity:1; fill:none\" points=\"3198.2,1340.62 3198.2,1423.18 3243.24,1423.18 3243.24,1340.62 3198.2,1340.62 \"/>\n",
       "<path clip-path=\"url(#clip952)\" d=\"M3243.24 1368.14 L3243.24 1423.18 L3288.28 1423.18 L3288.28 1368.14 L3243.24 1368.14 L3243.24 1368.14  Z\" fill=\"#009af9\" fill-rule=\"evenodd\" fill-opacity=\"1\"/>\n",
       "<polyline clip-path=\"url(#clip952)\" style=\"stroke:#000000; stroke-linecap:round; stroke-linejoin:round; stroke-width:4; stroke-opacity:1; fill:none\" points=\"3243.24,1368.14 3243.24,1423.18 3288.28,1423.18 3288.28,1368.14 3243.24,1368.14 \"/>\n",
       "<path clip-path=\"url(#clip952)\" d=\"M3288.28 1258.07 L3288.28 1423.18 L3333.32 1423.18 L3333.32 1258.07 L3288.28 1258.07 L3288.28 1258.07  Z\" fill=\"#009af9\" fill-rule=\"evenodd\" fill-opacity=\"1\"/>\n",
       "<polyline clip-path=\"url(#clip952)\" style=\"stroke:#000000; stroke-linecap:round; stroke-linejoin:round; stroke-width:4; stroke-opacity:1; fill:none\" points=\"3288.28,1258.07 3288.28,1423.18 3333.32,1423.18 3333.32,1258.07 3288.28,1258.07 \"/>\n",
       "<path clip-path=\"url(#clip952)\" d=\"M3333.32 1423.18 L3333.32 1423.18 L3378.35 1423.18 L3378.35 1423.18 L3333.32 1423.18 L3333.32 1423.18  Z\" fill=\"#009af9\" fill-rule=\"evenodd\" fill-opacity=\"1\"/>\n",
       "<polyline clip-path=\"url(#clip952)\" style=\"stroke:#000000; stroke-linecap:round; stroke-linejoin:round; stroke-width:4; stroke-opacity:1; fill:none\" points=\"3333.32,1423.18 3333.32,1423.18 3378.35,1423.18 3333.32,1423.18 \"/>\n",
       "<path clip-path=\"url(#clip952)\" d=\"M3378.35 1423.18 L3378.35 1423.18 L3423.39 1423.18 L3423.39 1423.18 L3378.35 1423.18 L3378.35 1423.18  Z\" fill=\"#009af9\" fill-rule=\"evenodd\" fill-opacity=\"1\"/>\n",
       "<polyline clip-path=\"url(#clip952)\" style=\"stroke:#000000; stroke-linecap:round; stroke-linejoin:round; stroke-width:4; stroke-opacity:1; fill:none\" points=\"3378.35,1423.18 3378.35,1423.18 3423.39,1423.18 3378.35,1423.18 \"/>\n",
       "<path clip-path=\"url(#clip952)\" d=\"M3423.39 1395.66 L3423.39 1423.18 L3468.43 1423.18 L3468.43 1395.66 L3423.39 1395.66 L3423.39 1395.66  Z\" fill=\"#009af9\" fill-rule=\"evenodd\" fill-opacity=\"1\"/>\n",
       "<polyline clip-path=\"url(#clip952)\" style=\"stroke:#000000; stroke-linecap:round; stroke-linejoin:round; stroke-width:4; stroke-opacity:1; fill:none\" points=\"3423.39,1395.66 3423.39,1423.18 3468.43,1423.18 3468.43,1395.66 3423.39,1395.66 \"/>\n",
       "<path clip-path=\"url(#clip952)\" d=\"M3468.43 1340.62 L3468.43 1423.18 L3513.46 1423.18 L3513.46 1340.62 L3468.43 1340.62 L3468.43 1340.62  Z\" fill=\"#009af9\" fill-rule=\"evenodd\" fill-opacity=\"1\"/>\n",
       "<polyline clip-path=\"url(#clip952)\" style=\"stroke:#000000; stroke-linecap:round; stroke-linejoin:round; stroke-width:4; stroke-opacity:1; fill:none\" points=\"3468.43,1340.62 3468.43,1423.18 3513.46,1423.18 3513.46,1340.62 3468.43,1340.62 \"/>\n",
       "<path clip-path=\"url(#clip952)\" d=\"M3513.46 1285.59 L3513.46 1423.18 L3558.5 1423.18 L3558.5 1285.59 L3513.46 1285.59 L3513.46 1285.59  Z\" fill=\"#009af9\" fill-rule=\"evenodd\" fill-opacity=\"1\"/>\n",
       "<polyline clip-path=\"url(#clip952)\" style=\"stroke:#000000; stroke-linecap:round; stroke-linejoin:round; stroke-width:4; stroke-opacity:1; fill:none\" points=\"3513.46,1285.59 3513.46,1423.18 3558.5,1423.18 3558.5,1285.59 3513.46,1285.59 \"/>\n",
       "<path clip-path=\"url(#clip952)\" d=\"M3558.5 1258.07 L3558.5 1423.18 L3603.54 1423.18 L3603.54 1258.07 L3558.5 1258.07 L3558.5 1258.07  Z\" fill=\"#009af9\" fill-rule=\"evenodd\" fill-opacity=\"1\"/>\n",
       "<polyline clip-path=\"url(#clip952)\" style=\"stroke:#000000; stroke-linecap:round; stroke-linejoin:round; stroke-width:4; stroke-opacity:1; fill:none\" points=\"3558.5,1258.07 3558.5,1423.18 3603.54,1423.18 3603.54,1258.07 3558.5,1258.07 \"/>\n",
       "<path clip-path=\"url(#clip952)\" d=\"M3603.54 1368.14 L3603.54 1423.18 L3648.58 1423.18 L3648.58 1368.14 L3603.54 1368.14 L3603.54 1368.14  Z\" fill=\"#009af9\" fill-rule=\"evenodd\" fill-opacity=\"1\"/>\n",
       "<polyline clip-path=\"url(#clip952)\" style=\"stroke:#000000; stroke-linecap:round; stroke-linejoin:round; stroke-width:4; stroke-opacity:1; fill:none\" points=\"3603.54,1368.14 3603.54,1423.18 3648.58,1423.18 3648.58,1368.14 3603.54,1368.14 \"/>\n",
       "<path clip-path=\"url(#clip952)\" d=\"M3648.58 1313.1 L3648.58 1423.18 L3693.61 1423.18 L3693.61 1313.1 L3648.58 1313.1 L3648.58 1313.1  Z\" fill=\"#009af9\" fill-rule=\"evenodd\" fill-opacity=\"1\"/>\n",
       "<polyline clip-path=\"url(#clip952)\" style=\"stroke:#000000; stroke-linecap:round; stroke-linejoin:round; stroke-width:4; stroke-opacity:1; fill:none\" points=\"3648.58,1313.1 3648.58,1423.18 3693.61,1423.18 3693.61,1313.1 3648.58,1313.1 \"/>\n",
       "<path clip-path=\"url(#clip952)\" d=\"M3693.61 1313.1 L3693.61 1423.18 L3738.65 1423.18 L3738.65 1313.1 L3693.61 1313.1 L3693.61 1313.1  Z\" fill=\"#009af9\" fill-rule=\"evenodd\" fill-opacity=\"1\"/>\n",
       "<polyline clip-path=\"url(#clip952)\" style=\"stroke:#000000; stroke-linecap:round; stroke-linejoin:round; stroke-width:4; stroke-opacity:1; fill:none\" points=\"3693.61,1313.1 3693.61,1423.18 3738.65,1423.18 3738.65,1313.1 3693.61,1313.1 \"/>\n",
       "<path clip-path=\"url(#clip952)\" d=\"M3738.65 1395.66 L3738.65 1423.18 L3783.69 1423.18 L3783.69 1395.66 L3738.65 1395.66 L3738.65 1395.66  Z\" fill=\"#009af9\" fill-rule=\"evenodd\" fill-opacity=\"1\"/>\n",
       "<polyline clip-path=\"url(#clip952)\" style=\"stroke:#000000; stroke-linecap:round; stroke-linejoin:round; stroke-width:4; stroke-opacity:1; fill:none\" points=\"3738.65,1395.66 3738.65,1423.18 3783.69,1423.18 3783.69,1395.66 3738.65,1395.66 \"/>\n",
       "<path clip-path=\"url(#clip952)\" d=\"M3783.69 1395.66 L3783.69 1423.18 L3828.72 1423.18 L3828.72 1395.66 L3783.69 1395.66 L3783.69 1395.66  Z\" fill=\"#009af9\" fill-rule=\"evenodd\" fill-opacity=\"1\"/>\n",
       "<polyline clip-path=\"url(#clip952)\" style=\"stroke:#000000; stroke-linecap:round; stroke-linejoin:round; stroke-width:4; stroke-opacity:1; fill:none\" points=\"3783.69,1395.66 3783.69,1423.18 3828.72,1423.18 3828.72,1395.66 3783.69,1395.66 \"/>\n",
       "<path clip-path=\"url(#clip952)\" d=\"M3828.72 1423.18 L3828.72 1423.18 L3873.76 1423.18 L3873.76 1423.18 L3828.72 1423.18 L3828.72 1423.18  Z\" fill=\"#009af9\" fill-rule=\"evenodd\" fill-opacity=\"1\"/>\n",
       "<polyline clip-path=\"url(#clip952)\" style=\"stroke:#000000; stroke-linecap:round; stroke-linejoin:round; stroke-width:4; stroke-opacity:1; fill:none\" points=\"3828.72,1423.18 3828.72,1423.18 3873.76,1423.18 3828.72,1423.18 \"/>\n",
       "<path clip-path=\"url(#clip952)\" d=\"M3873.76 1340.62 L3873.76 1423.18 L3918.8 1423.18 L3918.8 1340.62 L3873.76 1340.62 L3873.76 1340.62  Z\" fill=\"#009af9\" fill-rule=\"evenodd\" fill-opacity=\"1\"/>\n",
       "<polyline clip-path=\"url(#clip952)\" style=\"stroke:#000000; stroke-linecap:round; stroke-linejoin:round; stroke-width:4; stroke-opacity:1; fill:none\" points=\"3873.76,1340.62 3873.76,1423.18 3918.8,1423.18 3918.8,1340.62 3873.76,1340.62 \"/>\n",
       "<path clip-path=\"url(#clip952)\" d=\"M3918.8 1395.66 L3918.8 1423.18 L3963.84 1423.18 L3963.84 1395.66 L3918.8 1395.66 L3918.8 1395.66  Z\" fill=\"#009af9\" fill-rule=\"evenodd\" fill-opacity=\"1\"/>\n",
       "<polyline clip-path=\"url(#clip952)\" style=\"stroke:#000000; stroke-linecap:round; stroke-linejoin:round; stroke-width:4; stroke-opacity:1; fill:none\" points=\"3918.8,1395.66 3918.8,1423.18 3963.84,1423.18 3963.84,1395.66 3918.8,1395.66 \"/>\n",
       "<path clip-path=\"url(#clip952)\" d=\"M3963.84 1423.18 L3963.84 1423.18 L4008.87 1423.18 L4008.87 1423.18 L3963.84 1423.18 L3963.84 1423.18  Z\" fill=\"#009af9\" fill-rule=\"evenodd\" fill-opacity=\"1\"/>\n",
       "<polyline clip-path=\"url(#clip952)\" style=\"stroke:#000000; stroke-linecap:round; stroke-linejoin:round; stroke-width:4; stroke-opacity:1; fill:none\" points=\"3963.84,1423.18 3963.84,1423.18 4008.87,1423.18 3963.84,1423.18 \"/>\n",
       "<path clip-path=\"url(#clip952)\" d=\"M4008.87 1395.66 L4008.87 1423.18 L4053.91 1423.18 L4053.91 1395.66 L4008.87 1395.66 L4008.87 1395.66  Z\" fill=\"#009af9\" fill-rule=\"evenodd\" fill-opacity=\"1\"/>\n",
       "<polyline clip-path=\"url(#clip952)\" style=\"stroke:#000000; stroke-linecap:round; stroke-linejoin:round; stroke-width:4; stroke-opacity:1; fill:none\" points=\"4008.87,1395.66 4008.87,1423.18 4053.91,1423.18 4053.91,1395.66 4008.87,1395.66 \"/>\n",
       "<path clip-path=\"url(#clip952)\" d=\"M4053.91 1368.14 L4053.91 1423.18 L4098.95 1423.18 L4098.95 1368.14 L4053.91 1368.14 L4053.91 1368.14  Z\" fill=\"#009af9\" fill-rule=\"evenodd\" fill-opacity=\"1\"/>\n",
       "<polyline clip-path=\"url(#clip952)\" style=\"stroke:#000000; stroke-linecap:round; stroke-linejoin:round; stroke-width:4; stroke-opacity:1; fill:none\" points=\"4053.91,1368.14 4053.91,1423.18 4098.95,1423.18 4098.95,1368.14 4053.91,1368.14 \"/>\n",
       "<path clip-path=\"url(#clip952)\" d=\"M4098.95 1423.18 L4098.95 1423.18 L4143.99 1423.18 L4143.99 1423.18 L4098.95 1423.18 L4098.95 1423.18  Z\" fill=\"#009af9\" fill-rule=\"evenodd\" fill-opacity=\"1\"/>\n",
       "<polyline clip-path=\"url(#clip952)\" style=\"stroke:#000000; stroke-linecap:round; stroke-linejoin:round; stroke-width:4; stroke-opacity:1; fill:none\" points=\"4098.95,1423.18 4098.95,1423.18 4143.99,1423.18 4098.95,1423.18 \"/>\n",
       "<path clip-path=\"url(#clip952)\" d=\"M4143.99 1423.18 L4143.99 1423.18 L4189.02 1423.18 L4189.02 1423.18 L4143.99 1423.18 L4143.99 1423.18  Z\" fill=\"#009af9\" fill-rule=\"evenodd\" fill-opacity=\"1\"/>\n",
       "<polyline clip-path=\"url(#clip952)\" style=\"stroke:#000000; stroke-linecap:round; stroke-linejoin:round; stroke-width:4; stroke-opacity:1; fill:none\" points=\"4143.99,1423.18 4143.99,1423.18 4189.02,1423.18 4143.99,1423.18 \"/>\n",
       "<path clip-path=\"url(#clip952)\" d=\"M4189.02 1395.66 L4189.02 1423.18 L4234.06 1423.18 L4234.06 1395.66 L4189.02 1395.66 L4189.02 1395.66  Z\" fill=\"#009af9\" fill-rule=\"evenodd\" fill-opacity=\"1\"/>\n",
       "<polyline clip-path=\"url(#clip952)\" style=\"stroke:#000000; stroke-linecap:round; stroke-linejoin:round; stroke-width:4; stroke-opacity:1; fill:none\" points=\"4189.02,1395.66 4189.02,1423.18 4234.06,1423.18 4234.06,1395.66 4189.02,1395.66 \"/>\n",
       "<path clip-path=\"url(#clip952)\" d=\"M4234.06 1423.18 L4234.06 1423.18 L4279.1 1423.18 L4279.1 1423.18 L4234.06 1423.18 L4234.06 1423.18  Z\" fill=\"#009af9\" fill-rule=\"evenodd\" fill-opacity=\"1\"/>\n",
       "<polyline clip-path=\"url(#clip952)\" style=\"stroke:#000000; stroke-linecap:round; stroke-linejoin:round; stroke-width:4; stroke-opacity:1; fill:none\" points=\"4234.06,1423.18 4234.06,1423.18 4279.1,1423.18 4234.06,1423.18 \"/>\n",
       "<path clip-path=\"url(#clip952)\" d=\"M4279.1 1423.18 L4279.1 1423.18 L4324.13 1423.18 L4324.13 1423.18 L4279.1 1423.18 L4279.1 1423.18  Z\" fill=\"#009af9\" fill-rule=\"evenodd\" fill-opacity=\"1\"/>\n",
       "<polyline clip-path=\"url(#clip952)\" style=\"stroke:#000000; stroke-linecap:round; stroke-linejoin:round; stroke-width:4; stroke-opacity:1; fill:none\" points=\"4279.1,1423.18 4279.1,1423.18 4324.13,1423.18 4279.1,1423.18 \"/>\n",
       "<path clip-path=\"url(#clip952)\" d=\"M4324.13 1423.18 L4324.13 1423.18 L4369.17 1423.18 L4369.17 1423.18 L4324.13 1423.18 L4324.13 1423.18  Z\" fill=\"#009af9\" fill-rule=\"evenodd\" fill-opacity=\"1\"/>\n",
       "<polyline clip-path=\"url(#clip952)\" style=\"stroke:#000000; stroke-linecap:round; stroke-linejoin:round; stroke-width:4; stroke-opacity:1; fill:none\" points=\"4324.13,1423.18 4324.13,1423.18 4369.17,1423.18 4324.13,1423.18 \"/>\n",
       "<path clip-path=\"url(#clip952)\" d=\"M4369.17 1423.18 L4369.17 1423.18 L4414.21 1423.18 L4414.21 1423.18 L4369.17 1423.18 L4369.17 1423.18  Z\" fill=\"#009af9\" fill-rule=\"evenodd\" fill-opacity=\"1\"/>\n",
       "<polyline clip-path=\"url(#clip952)\" style=\"stroke:#000000; stroke-linecap:round; stroke-linejoin:round; stroke-width:4; stroke-opacity:1; fill:none\" points=\"4369.17,1423.18 4369.17,1423.18 4414.21,1423.18 4369.17,1423.18 \"/>\n",
       "<path clip-path=\"url(#clip952)\" d=\"M4414.21 1423.18 L4414.21 1423.18 L4459.25 1423.18 L4459.25 1423.18 L4414.21 1423.18 L4414.21 1423.18  Z\" fill=\"#009af9\" fill-rule=\"evenodd\" fill-opacity=\"1\"/>\n",
       "<polyline clip-path=\"url(#clip952)\" style=\"stroke:#000000; stroke-linecap:round; stroke-linejoin:round; stroke-width:4; stroke-opacity:1; fill:none\" points=\"4414.21,1423.18 4414.21,1423.18 4459.25,1423.18 4414.21,1423.18 \"/>\n",
       "<path clip-path=\"url(#clip952)\" d=\"M4459.25 1423.18 L4459.25 1423.18 L4504.28 1423.18 L4504.28 1423.18 L4459.25 1423.18 L4459.25 1423.18  Z\" fill=\"#009af9\" fill-rule=\"evenodd\" fill-opacity=\"1\"/>\n",
       "<polyline clip-path=\"url(#clip952)\" style=\"stroke:#000000; stroke-linecap:round; stroke-linejoin:round; stroke-width:4; stroke-opacity:1; fill:none\" points=\"4459.25,1423.18 4459.25,1423.18 4504.28,1423.18 4459.25,1423.18 \"/>\n",
       "<path clip-path=\"url(#clip952)\" d=\"M4504.28 1423.18 L4504.28 1423.18 L4549.32 1423.18 L4549.32 1423.18 L4504.28 1423.18 L4504.28 1423.18  Z\" fill=\"#009af9\" fill-rule=\"evenodd\" fill-opacity=\"1\"/>\n",
       "<polyline clip-path=\"url(#clip952)\" style=\"stroke:#000000; stroke-linecap:round; stroke-linejoin:round; stroke-width:4; stroke-opacity:1; fill:none\" points=\"4504.28,1423.18 4504.28,1423.18 4549.32,1423.18 4504.28,1423.18 \"/>\n",
       "<path clip-path=\"url(#clip952)\" d=\"M4549.32 1423.18 L4549.32 1423.18 L4594.36 1423.18 L4594.36 1423.18 L4549.32 1423.18 L4549.32 1423.18  Z\" fill=\"#009af9\" fill-rule=\"evenodd\" fill-opacity=\"1\"/>\n",
       "<polyline clip-path=\"url(#clip952)\" style=\"stroke:#000000; stroke-linecap:round; stroke-linejoin:round; stroke-width:4; stroke-opacity:1; fill:none\" points=\"4549.32,1423.18 4549.32,1423.18 4594.36,1423.18 4549.32,1423.18 \"/>\n",
       "<path clip-path=\"url(#clip952)\" d=\"M4594.36 1423.18 L4594.36 1423.18 L4639.39 1423.18 L4639.39 1423.18 L4594.36 1423.18 L4594.36 1423.18  Z\" fill=\"#009af9\" fill-rule=\"evenodd\" fill-opacity=\"1\"/>\n",
       "<polyline clip-path=\"url(#clip952)\" style=\"stroke:#000000; stroke-linecap:round; stroke-linejoin:round; stroke-width:4; stroke-opacity:1; fill:none\" points=\"4594.36,1423.18 4594.36,1423.18 4639.39,1423.18 4594.36,1423.18 \"/>\n",
       "<path clip-path=\"url(#clip952)\" d=\"M4639.39 1423.18 L4639.39 1423.18 L4684.43 1423.18 L4684.43 1423.18 L4639.39 1423.18 L4639.39 1423.18  Z\" fill=\"#009af9\" fill-rule=\"evenodd\" fill-opacity=\"1\"/>\n",
       "<polyline clip-path=\"url(#clip952)\" style=\"stroke:#000000; stroke-linecap:round; stroke-linejoin:round; stroke-width:4; stroke-opacity:1; fill:none\" points=\"4639.39,1423.18 4639.39,1423.18 4684.43,1423.18 4639.39,1423.18 \"/>\n",
       "<path clip-path=\"url(#clip952)\" d=\"M4684.43 1395.66 L4684.43 1423.18 L4729.47 1423.18 L4729.47 1395.66 L4684.43 1395.66 L4684.43 1395.66  Z\" fill=\"#009af9\" fill-rule=\"evenodd\" fill-opacity=\"1\"/>\n",
       "<polyline clip-path=\"url(#clip952)\" style=\"stroke:#000000; stroke-linecap:round; stroke-linejoin:round; stroke-width:4; stroke-opacity:1; fill:none\" points=\"4684.43,1395.66 4684.43,1423.18 4729.47,1423.18 4729.47,1395.66 4684.43,1395.66 \"/>\n",
       "<path clip-path=\"url(#clip952)\" d=\"M4729.47 1423.18 L4729.47 1423.18 L4774.51 1423.18 L4774.51 1423.18 L4729.47 1423.18 L4729.47 1423.18  Z\" fill=\"#009af9\" fill-rule=\"evenodd\" fill-opacity=\"1\"/>\n",
       "<polyline clip-path=\"url(#clip952)\" style=\"stroke:#000000; stroke-linecap:round; stroke-linejoin:round; stroke-width:4; stroke-opacity:1; fill:none\" points=\"4729.47,1423.18 4729.47,1423.18 4774.51,1423.18 4729.47,1423.18 \"/>\n",
       "<path clip-path=\"url(#clip952)\" d=\"M4774.51 1423.18 L4774.51 1423.18 L4819.54 1423.18 L4819.54 1423.18 L4774.51 1423.18 L4774.51 1423.18  Z\" fill=\"#009af9\" fill-rule=\"evenodd\" fill-opacity=\"1\"/>\n",
       "<polyline clip-path=\"url(#clip952)\" style=\"stroke:#000000; stroke-linecap:round; stroke-linejoin:round; stroke-width:4; stroke-opacity:1; fill:none\" points=\"4774.51,1423.18 4774.51,1423.18 4819.54,1423.18 4774.51,1423.18 \"/>\n",
       "<path clip-path=\"url(#clip952)\" d=\"M4819.54 1423.18 L4819.54 1423.18 L4864.58 1423.18 L4864.58 1423.18 L4819.54 1423.18 L4819.54 1423.18  Z\" fill=\"#009af9\" fill-rule=\"evenodd\" fill-opacity=\"1\"/>\n",
       "<polyline clip-path=\"url(#clip952)\" style=\"stroke:#000000; stroke-linecap:round; stroke-linejoin:round; stroke-width:4; stroke-opacity:1; fill:none\" points=\"4819.54,1423.18 4819.54,1423.18 4864.58,1423.18 4819.54,1423.18 \"/>\n",
       "<path clip-path=\"url(#clip952)\" d=\"M4864.58 1423.18 L4864.58 1423.18 L4909.62 1423.18 L4909.62 1423.18 L4864.58 1423.18 L4864.58 1423.18  Z\" fill=\"#009af9\" fill-rule=\"evenodd\" fill-opacity=\"1\"/>\n",
       "<polyline clip-path=\"url(#clip952)\" style=\"stroke:#000000; stroke-linecap:round; stroke-linejoin:round; stroke-width:4; stroke-opacity:1; fill:none\" points=\"4864.58,1423.18 4864.58,1423.18 4909.62,1423.18 4864.58,1423.18 \"/>\n",
       "<path clip-path=\"url(#clip952)\" d=\"M4909.62 1423.18 L4909.62 1423.18 L4954.66 1423.18 L4954.66 1423.18 L4909.62 1423.18 L4909.62 1423.18  Z\" fill=\"#009af9\" fill-rule=\"evenodd\" fill-opacity=\"1\"/>\n",
       "<polyline clip-path=\"url(#clip952)\" style=\"stroke:#000000; stroke-linecap:round; stroke-linejoin:round; stroke-width:4; stroke-opacity:1; fill:none\" points=\"4909.62,1423.18 4909.62,1423.18 4954.66,1423.18 4909.62,1423.18 \"/>\n",
       "<path clip-path=\"url(#clip952)\" d=\"M4954.66 1423.18 L4954.66 1423.18 L4999.69 1423.18 L4999.69 1423.18 L4954.66 1423.18 L4954.66 1423.18  Z\" fill=\"#009af9\" fill-rule=\"evenodd\" fill-opacity=\"1\"/>\n",
       "<polyline clip-path=\"url(#clip952)\" style=\"stroke:#000000; stroke-linecap:round; stroke-linejoin:round; stroke-width:4; stroke-opacity:1; fill:none\" points=\"4954.66,1423.18 4954.66,1423.18 4999.69,1423.18 4954.66,1423.18 \"/>\n",
       "<path clip-path=\"url(#clip952)\" d=\"M4999.69 1423.18 L4999.69 1423.18 L5044.73 1423.18 L5044.73 1423.18 L4999.69 1423.18 L4999.69 1423.18  Z\" fill=\"#009af9\" fill-rule=\"evenodd\" fill-opacity=\"1\"/>\n",
       "<polyline clip-path=\"url(#clip952)\" style=\"stroke:#000000; stroke-linecap:round; stroke-linejoin:round; stroke-width:4; stroke-opacity:1; fill:none\" points=\"4999.69,1423.18 4999.69,1423.18 5044.73,1423.18 4999.69,1423.18 \"/>\n",
       "<path clip-path=\"url(#clip952)\" d=\"M5044.73 1423.18 L5044.73 1423.18 L5089.77 1423.18 L5089.77 1423.18 L5044.73 1423.18 L5044.73 1423.18  Z\" fill=\"#009af9\" fill-rule=\"evenodd\" fill-opacity=\"1\"/>\n",
       "<polyline clip-path=\"url(#clip952)\" style=\"stroke:#000000; stroke-linecap:round; stroke-linejoin:round; stroke-width:4; stroke-opacity:1; fill:none\" points=\"5044.73,1423.18 5044.73,1423.18 5089.77,1423.18 5044.73,1423.18 \"/>\n",
       "<path clip-path=\"url(#clip952)\" d=\"M5089.77 1423.18 L5089.77 1423.18 L5134.8 1423.18 L5134.8 1423.18 L5089.77 1423.18 L5089.77 1423.18  Z\" fill=\"#009af9\" fill-rule=\"evenodd\" fill-opacity=\"1\"/>\n",
       "<polyline clip-path=\"url(#clip952)\" style=\"stroke:#000000; stroke-linecap:round; stroke-linejoin:round; stroke-width:4; stroke-opacity:1; fill:none\" points=\"5089.77,1423.18 5089.77,1423.18 5134.8,1423.18 5089.77,1423.18 \"/>\n",
       "<path clip-path=\"url(#clip952)\" d=\"M5134.8 1423.18 L5134.8 1423.18 L5179.84 1423.18 L5179.84 1423.18 L5134.8 1423.18 L5134.8 1423.18  Z\" fill=\"#009af9\" fill-rule=\"evenodd\" fill-opacity=\"1\"/>\n",
       "<polyline clip-path=\"url(#clip952)\" style=\"stroke:#000000; stroke-linecap:round; stroke-linejoin:round; stroke-width:4; stroke-opacity:1; fill:none\" points=\"5134.8,1423.18 5134.8,1423.18 5179.84,1423.18 5134.8,1423.18 \"/>\n",
       "<path clip-path=\"url(#clip952)\" d=\"M5179.84 1423.18 L5179.84 1423.18 L5224.88 1423.18 L5224.88 1423.18 L5179.84 1423.18 L5179.84 1423.18  Z\" fill=\"#009af9\" fill-rule=\"evenodd\" fill-opacity=\"1\"/>\n",
       "<polyline clip-path=\"url(#clip952)\" style=\"stroke:#000000; stroke-linecap:round; stroke-linejoin:round; stroke-width:4; stroke-opacity:1; fill:none\" points=\"5179.84,1423.18 5179.84,1423.18 5224.88,1423.18 5179.84,1423.18 \"/>\n",
       "<path clip-path=\"url(#clip952)\" d=\"M5224.88 1423.18 L5224.88 1423.18 L5269.92 1423.18 L5269.92 1423.18 L5224.88 1423.18 L5224.88 1423.18  Z\" fill=\"#009af9\" fill-rule=\"evenodd\" fill-opacity=\"1\"/>\n",
       "<polyline clip-path=\"url(#clip952)\" style=\"stroke:#000000; stroke-linecap:round; stroke-linejoin:round; stroke-width:4; stroke-opacity:1; fill:none\" points=\"5224.88,1423.18 5224.88,1423.18 5269.92,1423.18 5224.88,1423.18 \"/>\n",
       "<path clip-path=\"url(#clip952)\" d=\"M5269.92 1423.18 L5269.92 1423.18 L5314.95 1423.18 L5314.95 1423.18 L5269.92 1423.18 L5269.92 1423.18  Z\" fill=\"#009af9\" fill-rule=\"evenodd\" fill-opacity=\"1\"/>\n",
       "<polyline clip-path=\"url(#clip952)\" style=\"stroke:#000000; stroke-linecap:round; stroke-linejoin:round; stroke-width:4; stroke-opacity:1; fill:none\" points=\"5269.92,1423.18 5269.92,1423.18 5314.95,1423.18 5269.92,1423.18 \"/>\n",
       "<path clip-path=\"url(#clip952)\" d=\"M5314.95 1423.18 L5314.95 1423.18 L5359.99 1423.18 L5359.99 1423.18 L5314.95 1423.18 L5314.95 1423.18  Z\" fill=\"#009af9\" fill-rule=\"evenodd\" fill-opacity=\"1\"/>\n",
       "<polyline clip-path=\"url(#clip952)\" style=\"stroke:#000000; stroke-linecap:round; stroke-linejoin:round; stroke-width:4; stroke-opacity:1; fill:none\" points=\"5314.95,1423.18 5314.95,1423.18 5359.99,1423.18 5314.95,1423.18 \"/>\n",
       "<path clip-path=\"url(#clip952)\" d=\"M5359.99 1423.18 L5359.99 1423.18 L5405.03 1423.18 L5405.03 1423.18 L5359.99 1423.18 L5359.99 1423.18  Z\" fill=\"#009af9\" fill-rule=\"evenodd\" fill-opacity=\"1\"/>\n",
       "<polyline clip-path=\"url(#clip952)\" style=\"stroke:#000000; stroke-linecap:round; stroke-linejoin:round; stroke-width:4; stroke-opacity:1; fill:none\" points=\"5359.99,1423.18 5359.99,1423.18 5405.03,1423.18 5359.99,1423.18 \"/>\n",
       "<path clip-path=\"url(#clip952)\" d=\"M5405.03 1423.18 L5405.03 1423.18 L5450.06 1423.18 L5450.06 1423.18 L5405.03 1423.18 L5405.03 1423.18  Z\" fill=\"#009af9\" fill-rule=\"evenodd\" fill-opacity=\"1\"/>\n",
       "<polyline clip-path=\"url(#clip952)\" style=\"stroke:#000000; stroke-linecap:round; stroke-linejoin:round; stroke-width:4; stroke-opacity:1; fill:none\" points=\"5405.03,1423.18 5405.03,1423.18 5450.06,1423.18 5405.03,1423.18 \"/>\n",
       "<path clip-path=\"url(#clip952)\" d=\"M5450.06 1423.18 L5450.06 1423.18 L5495.1 1423.18 L5495.1 1423.18 L5450.06 1423.18 L5450.06 1423.18  Z\" fill=\"#009af9\" fill-rule=\"evenodd\" fill-opacity=\"1\"/>\n",
       "<polyline clip-path=\"url(#clip952)\" style=\"stroke:#000000; stroke-linecap:round; stroke-linejoin:round; stroke-width:4; stroke-opacity:1; fill:none\" points=\"5450.06,1423.18 5450.06,1423.18 5495.1,1423.18 5450.06,1423.18 \"/>\n",
       "<path clip-path=\"url(#clip952)\" d=\"M5495.1 1423.18 L5495.1 1423.18 L5540.14 1423.18 L5540.14 1423.18 L5495.1 1423.18 L5495.1 1423.18  Z\" fill=\"#009af9\" fill-rule=\"evenodd\" fill-opacity=\"1\"/>\n",
       "<polyline clip-path=\"url(#clip952)\" style=\"stroke:#000000; stroke-linecap:round; stroke-linejoin:round; stroke-width:4; stroke-opacity:1; fill:none\" points=\"5495.1,1423.18 5495.1,1423.18 5540.14,1423.18 5495.1,1423.18 \"/>\n",
       "<path clip-path=\"url(#clip952)\" d=\"M5540.14 1423.18 L5540.14 1423.18 L5585.18 1423.18 L5585.18 1423.18 L5540.14 1423.18 L5540.14 1423.18  Z\" fill=\"#009af9\" fill-rule=\"evenodd\" fill-opacity=\"1\"/>\n",
       "<polyline clip-path=\"url(#clip952)\" style=\"stroke:#000000; stroke-linecap:round; stroke-linejoin:round; stroke-width:4; stroke-opacity:1; fill:none\" points=\"5540.14,1423.18 5540.14,1423.18 5585.18,1423.18 5540.14,1423.18 \"/>\n",
       "<path clip-path=\"url(#clip952)\" d=\"M5585.18 1423.18 L5585.18 1423.18 L5630.21 1423.18 L5630.21 1423.18 L5585.18 1423.18 L5585.18 1423.18  Z\" fill=\"#009af9\" fill-rule=\"evenodd\" fill-opacity=\"1\"/>\n",
       "<polyline clip-path=\"url(#clip952)\" style=\"stroke:#000000; stroke-linecap:round; stroke-linejoin:round; stroke-width:4; stroke-opacity:1; fill:none\" points=\"5585.18,1423.18 5585.18,1423.18 5630.21,1423.18 5585.18,1423.18 \"/>\n",
       "<path clip-path=\"url(#clip952)\" d=\"M5630.21 1395.66 L5630.21 1423.18 L5675.25 1423.18 L5675.25 1395.66 L5630.21 1395.66 L5630.21 1395.66  Z\" fill=\"#009af9\" fill-rule=\"evenodd\" fill-opacity=\"1\"/>\n",
       "<polyline clip-path=\"url(#clip952)\" style=\"stroke:#000000; stroke-linecap:round; stroke-linejoin:round; stroke-width:4; stroke-opacity:1; fill:none\" points=\"5630.21,1395.66 5630.21,1423.18 5675.25,1423.18 5675.25,1395.66 5630.21,1395.66 \"/>\n",
       "<path clip-path=\"url(#clip952)\" d=\"M5675.25 1423.18 L5675.25 1423.18 L5720.29 1423.18 L5720.29 1423.18 L5675.25 1423.18 L5675.25 1423.18  Z\" fill=\"#009af9\" fill-rule=\"evenodd\" fill-opacity=\"1\"/>\n",
       "<polyline clip-path=\"url(#clip952)\" style=\"stroke:#000000; stroke-linecap:round; stroke-linejoin:round; stroke-width:4; stroke-opacity:1; fill:none\" points=\"5675.25,1423.18 5675.25,1423.18 5720.29,1423.18 5675.25,1423.18 \"/>\n",
       "<path clip-path=\"url(#clip952)\" d=\"M5720.29 1423.18 L5720.29 1423.18 L5765.32 1423.18 L5765.32 1423.18 L5720.29 1423.18 L5720.29 1423.18  Z\" fill=\"#009af9\" fill-rule=\"evenodd\" fill-opacity=\"1\"/>\n",
       "<polyline clip-path=\"url(#clip952)\" style=\"stroke:#000000; stroke-linecap:round; stroke-linejoin:round; stroke-width:4; stroke-opacity:1; fill:none\" points=\"5720.29,1423.18 5720.29,1423.18 5765.32,1423.18 5720.29,1423.18 \"/>\n",
       "<path clip-path=\"url(#clip952)\" d=\"M5765.32 1423.18 L5765.32 1423.18 L5810.36 1423.18 L5810.36 1423.18 L5765.32 1423.18 L5765.32 1423.18  Z\" fill=\"#009af9\" fill-rule=\"evenodd\" fill-opacity=\"1\"/>\n",
       "<polyline clip-path=\"url(#clip952)\" style=\"stroke:#000000; stroke-linecap:round; stroke-linejoin:round; stroke-width:4; stroke-opacity:1; fill:none\" points=\"5765.32,1423.18 5765.32,1423.18 5810.36,1423.18 5765.32,1423.18 \"/>\n",
       "<path clip-path=\"url(#clip952)\" d=\"M5810.36 1423.18 L5810.36 1423.18 L5855.4 1423.18 L5855.4 1423.18 L5810.36 1423.18 L5810.36 1423.18  Z\" fill=\"#009af9\" fill-rule=\"evenodd\" fill-opacity=\"1\"/>\n",
       "<polyline clip-path=\"url(#clip952)\" style=\"stroke:#000000; stroke-linecap:round; stroke-linejoin:round; stroke-width:4; stroke-opacity:1; fill:none\" points=\"5810.36,1423.18 5810.36,1423.18 5855.4,1423.18 5810.36,1423.18 \"/>\n",
       "<path clip-path=\"url(#clip952)\" d=\"M5855.4 1423.18 L5855.4 1423.18 L5900.44 1423.18 L5900.44 1423.18 L5855.4 1423.18 L5855.4 1423.18  Z\" fill=\"#009af9\" fill-rule=\"evenodd\" fill-opacity=\"1\"/>\n",
       "<polyline clip-path=\"url(#clip952)\" style=\"stroke:#000000; stroke-linecap:round; stroke-linejoin:round; stroke-width:4; stroke-opacity:1; fill:none\" points=\"5855.4,1423.18 5855.4,1423.18 5900.44,1423.18 5855.4,1423.18 \"/>\n",
       "<path clip-path=\"url(#clip952)\" d=\"M5900.44 1423.18 L5900.44 1423.18 L5945.47 1423.18 L5945.47 1423.18 L5900.44 1423.18 L5900.44 1423.18  Z\" fill=\"#009af9\" fill-rule=\"evenodd\" fill-opacity=\"1\"/>\n",
       "<polyline clip-path=\"url(#clip952)\" style=\"stroke:#000000; stroke-linecap:round; stroke-linejoin:round; stroke-width:4; stroke-opacity:1; fill:none\" points=\"5900.44,1423.18 5900.44,1423.18 5945.47,1423.18 5900.44,1423.18 \"/>\n",
       "<path clip-path=\"url(#clip952)\" d=\"M5945.47 1423.18 L5945.47 1423.18 L5990.51 1423.18 L5990.51 1423.18 L5945.47 1423.18 L5945.47 1423.18  Z\" fill=\"#009af9\" fill-rule=\"evenodd\" fill-opacity=\"1\"/>\n",
       "<polyline clip-path=\"url(#clip952)\" style=\"stroke:#000000; stroke-linecap:round; stroke-linejoin:round; stroke-width:4; stroke-opacity:1; fill:none\" points=\"5945.47,1423.18 5945.47,1423.18 5990.51,1423.18 5945.47,1423.18 \"/>\n",
       "<path clip-path=\"url(#clip952)\" d=\"M5990.51 1423.18 L5990.51 1423.18 L6035.55 1423.18 L6035.55 1423.18 L5990.51 1423.18 L5990.51 1423.18  Z\" fill=\"#009af9\" fill-rule=\"evenodd\" fill-opacity=\"1\"/>\n",
       "<polyline clip-path=\"url(#clip952)\" style=\"stroke:#000000; stroke-linecap:round; stroke-linejoin:round; stroke-width:4; stroke-opacity:1; fill:none\" points=\"5990.51,1423.18 5990.51,1423.18 6035.55,1423.18 5990.51,1423.18 \"/>\n",
       "<path clip-path=\"url(#clip952)\" d=\"M6035.55 1423.18 L6035.55 1423.18 L6080.59 1423.18 L6080.59 1423.18 L6035.55 1423.18 L6035.55 1423.18  Z\" fill=\"#009af9\" fill-rule=\"evenodd\" fill-opacity=\"1\"/>\n",
       "<polyline clip-path=\"url(#clip952)\" style=\"stroke:#000000; stroke-linecap:round; stroke-linejoin:round; stroke-width:4; stroke-opacity:1; fill:none\" points=\"6035.55,1423.18 6035.55,1423.18 6080.59,1423.18 6035.55,1423.18 \"/>\n",
       "<path clip-path=\"url(#clip952)\" d=\"M6080.59 1423.18 L6080.59 1423.18 L6125.62 1423.18 L6125.62 1423.18 L6080.59 1423.18 L6080.59 1423.18  Z\" fill=\"#009af9\" fill-rule=\"evenodd\" fill-opacity=\"1\"/>\n",
       "<polyline clip-path=\"url(#clip952)\" style=\"stroke:#000000; stroke-linecap:round; stroke-linejoin:round; stroke-width:4; stroke-opacity:1; fill:none\" points=\"6080.59,1423.18 6080.59,1423.18 6125.62,1423.18 6080.59,1423.18 \"/>\n",
       "<path clip-path=\"url(#clip952)\" d=\"M6125.62 1423.18 L6125.62 1423.18 L6170.66 1423.18 L6170.66 1423.18 L6125.62 1423.18 L6125.62 1423.18  Z\" fill=\"#009af9\" fill-rule=\"evenodd\" fill-opacity=\"1\"/>\n",
       "<polyline clip-path=\"url(#clip952)\" style=\"stroke:#000000; stroke-linecap:round; stroke-linejoin:round; stroke-width:4; stroke-opacity:1; fill:none\" points=\"6125.62,1423.18 6125.62,1423.18 6170.66,1423.18 6125.62,1423.18 \"/>\n",
       "<path clip-path=\"url(#clip952)\" d=\"M6170.66 1423.18 L6170.66 1423.18 L6215.7 1423.18 L6215.7 1423.18 L6170.66 1423.18 L6170.66 1423.18  Z\" fill=\"#009af9\" fill-rule=\"evenodd\" fill-opacity=\"1\"/>\n",
       "<polyline clip-path=\"url(#clip952)\" style=\"stroke:#000000; stroke-linecap:round; stroke-linejoin:round; stroke-width:4; stroke-opacity:1; fill:none\" points=\"6170.66,1423.18 6170.66,1423.18 6215.7,1423.18 6170.66,1423.18 \"/>\n",
       "<path clip-path=\"url(#clip952)\" d=\"M6215.7 1423.18 L6215.7 1423.18 L6260.73 1423.18 L6260.73 1423.18 L6215.7 1423.18 L6215.7 1423.18  Z\" fill=\"#009af9\" fill-rule=\"evenodd\" fill-opacity=\"1\"/>\n",
       "<polyline clip-path=\"url(#clip952)\" style=\"stroke:#000000; stroke-linecap:round; stroke-linejoin:round; stroke-width:4; stroke-opacity:1; fill:none\" points=\"6215.7,1423.18 6215.7,1423.18 6260.73,1423.18 6215.7,1423.18 \"/>\n",
       "<path clip-path=\"url(#clip952)\" d=\"M6260.73 1423.18 L6260.73 1423.18 L6305.77 1423.18 L6305.77 1423.18 L6260.73 1423.18 L6260.73 1423.18  Z\" fill=\"#009af9\" fill-rule=\"evenodd\" fill-opacity=\"1\"/>\n",
       "<polyline clip-path=\"url(#clip952)\" style=\"stroke:#000000; stroke-linecap:round; stroke-linejoin:round; stroke-width:4; stroke-opacity:1; fill:none\" points=\"6260.73,1423.18 6260.73,1423.18 6305.77,1423.18 6260.73,1423.18 \"/>\n",
       "<path clip-path=\"url(#clip952)\" d=\"M6305.77 1423.18 L6305.77 1423.18 L6350.81 1423.18 L6350.81 1423.18 L6305.77 1423.18 L6305.77 1423.18  Z\" fill=\"#009af9\" fill-rule=\"evenodd\" fill-opacity=\"1\"/>\n",
       "<polyline clip-path=\"url(#clip952)\" style=\"stroke:#000000; stroke-linecap:round; stroke-linejoin:round; stroke-width:4; stroke-opacity:1; fill:none\" points=\"6305.77,1423.18 6305.77,1423.18 6350.81,1423.18 6305.77,1423.18 \"/>\n",
       "<path clip-path=\"url(#clip952)\" d=\"M6350.81 1423.18 L6350.81 1423.18 L6395.85 1423.18 L6395.85 1423.18 L6350.81 1423.18 L6350.81 1423.18  Z\" fill=\"#009af9\" fill-rule=\"evenodd\" fill-opacity=\"1\"/>\n",
       "<polyline clip-path=\"url(#clip952)\" style=\"stroke:#000000; stroke-linecap:round; stroke-linejoin:round; stroke-width:4; stroke-opacity:1; fill:none\" points=\"6350.81,1423.18 6350.81,1423.18 6395.85,1423.18 6350.81,1423.18 \"/>\n",
       "<path clip-path=\"url(#clip952)\" d=\"M6395.85 1423.18 L6395.85 1423.18 L6440.88 1423.18 L6440.88 1423.18 L6395.85 1423.18 L6395.85 1423.18  Z\" fill=\"#009af9\" fill-rule=\"evenodd\" fill-opacity=\"1\"/>\n",
       "<polyline clip-path=\"url(#clip952)\" style=\"stroke:#000000; stroke-linecap:round; stroke-linejoin:round; stroke-width:4; stroke-opacity:1; fill:none\" points=\"6395.85,1423.18 6395.85,1423.18 6440.88,1423.18 6395.85,1423.18 \"/>\n",
       "<path clip-path=\"url(#clip952)\" d=\"M6440.88 1423.18 L6440.88 1423.18 L6485.92 1423.18 L6485.92 1423.18 L6440.88 1423.18 L6440.88 1423.18  Z\" fill=\"#009af9\" fill-rule=\"evenodd\" fill-opacity=\"1\"/>\n",
       "<polyline clip-path=\"url(#clip952)\" style=\"stroke:#000000; stroke-linecap:round; stroke-linejoin:round; stroke-width:4; stroke-opacity:1; fill:none\" points=\"6440.88,1423.18 6440.88,1423.18 6485.92,1423.18 6440.88,1423.18 \"/>\n",
       "<path clip-path=\"url(#clip952)\" d=\"M6485.92 1423.18 L6485.92 1423.18 L6530.96 1423.18 L6530.96 1423.18 L6485.92 1423.18 L6485.92 1423.18  Z\" fill=\"#009af9\" fill-rule=\"evenodd\" fill-opacity=\"1\"/>\n",
       "<polyline clip-path=\"url(#clip952)\" style=\"stroke:#000000; stroke-linecap:round; stroke-linejoin:round; stroke-width:4; stroke-opacity:1; fill:none\" points=\"6485.92,1423.18 6485.92,1423.18 6530.96,1423.18 6485.92,1423.18 \"/>\n",
       "<path clip-path=\"url(#clip952)\" d=\"M6530.96 1423.18 L6530.96 1423.18 L6575.99 1423.18 L6575.99 1423.18 L6530.96 1423.18 L6530.96 1423.18  Z\" fill=\"#009af9\" fill-rule=\"evenodd\" fill-opacity=\"1\"/>\n",
       "<polyline clip-path=\"url(#clip952)\" style=\"stroke:#000000; stroke-linecap:round; stroke-linejoin:round; stroke-width:4; stroke-opacity:1; fill:none\" points=\"6530.96,1423.18 6530.96,1423.18 6575.99,1423.18 6530.96,1423.18 \"/>\n",
       "<path clip-path=\"url(#clip952)\" d=\"M6575.99 1423.18 L6575.99 1423.18 L6621.03 1423.18 L6621.03 1423.18 L6575.99 1423.18 L6575.99 1423.18  Z\" fill=\"#009af9\" fill-rule=\"evenodd\" fill-opacity=\"1\"/>\n",
       "<polyline clip-path=\"url(#clip952)\" style=\"stroke:#000000; stroke-linecap:round; stroke-linejoin:round; stroke-width:4; stroke-opacity:1; fill:none\" points=\"6575.99,1423.18 6575.99,1423.18 6621.03,1423.18 6575.99,1423.18 \"/>\n",
       "<path clip-path=\"url(#clip952)\" d=\"M6621.03 1423.18 L6621.03 1423.18 L6666.07 1423.18 L6666.07 1423.18 L6621.03 1423.18 L6621.03 1423.18  Z\" fill=\"#009af9\" fill-rule=\"evenodd\" fill-opacity=\"1\"/>\n",
       "<polyline clip-path=\"url(#clip952)\" style=\"stroke:#000000; stroke-linecap:round; stroke-linejoin:round; stroke-width:4; stroke-opacity:1; fill:none\" points=\"6621.03,1423.18 6621.03,1423.18 6666.07,1423.18 6621.03,1423.18 \"/>\n",
       "<path clip-path=\"url(#clip952)\" d=\"M6666.07 1423.18 L6666.07 1423.18 L6711.11 1423.18 L6711.11 1423.18 L6666.07 1423.18 L6666.07 1423.18  Z\" fill=\"#009af9\" fill-rule=\"evenodd\" fill-opacity=\"1\"/>\n",
       "<polyline clip-path=\"url(#clip952)\" style=\"stroke:#000000; stroke-linecap:round; stroke-linejoin:round; stroke-width:4; stroke-opacity:1; fill:none\" points=\"6666.07,1423.18 6666.07,1423.18 6711.11,1423.18 6666.07,1423.18 \"/>\n",
       "<path clip-path=\"url(#clip952)\" d=\"M6711.11 1423.18 L6711.11 1423.18 L6756.14 1423.18 L6756.14 1423.18 L6711.11 1423.18 L6711.11 1423.18  Z\" fill=\"#009af9\" fill-rule=\"evenodd\" fill-opacity=\"1\"/>\n",
       "<polyline clip-path=\"url(#clip952)\" style=\"stroke:#000000; stroke-linecap:round; stroke-linejoin:round; stroke-width:4; stroke-opacity:1; fill:none\" points=\"6711.11,1423.18 6711.11,1423.18 6756.14,1423.18 6711.11,1423.18 \"/>\n",
       "<path clip-path=\"url(#clip952)\" d=\"M6756.14 1423.18 L6756.14 1423.18 L6801.18 1423.18 L6801.18 1423.18 L6756.14 1423.18 L6756.14 1423.18  Z\" fill=\"#009af9\" fill-rule=\"evenodd\" fill-opacity=\"1\"/>\n",
       "<polyline clip-path=\"url(#clip952)\" style=\"stroke:#000000; stroke-linecap:round; stroke-linejoin:round; stroke-width:4; stroke-opacity:1; fill:none\" points=\"6756.14,1423.18 6756.14,1423.18 6801.18,1423.18 6756.14,1423.18 \"/>\n",
       "<path clip-path=\"url(#clip952)\" d=\"M6801.18 1423.18 L6801.18 1423.18 L6846.22 1423.18 L6846.22 1423.18 L6801.18 1423.18 L6801.18 1423.18  Z\" fill=\"#009af9\" fill-rule=\"evenodd\" fill-opacity=\"1\"/>\n",
       "<polyline clip-path=\"url(#clip952)\" style=\"stroke:#000000; stroke-linecap:round; stroke-linejoin:round; stroke-width:4; stroke-opacity:1; fill:none\" points=\"6801.18,1423.18 6801.18,1423.18 6846.22,1423.18 6801.18,1423.18 \"/>\n",
       "<path clip-path=\"url(#clip952)\" d=\"M6846.22 1423.18 L6846.22 1423.18 L6891.26 1423.18 L6891.26 1423.18 L6846.22 1423.18 L6846.22 1423.18  Z\" fill=\"#009af9\" fill-rule=\"evenodd\" fill-opacity=\"1\"/>\n",
       "<polyline clip-path=\"url(#clip952)\" style=\"stroke:#000000; stroke-linecap:round; stroke-linejoin:round; stroke-width:4; stroke-opacity:1; fill:none\" points=\"6846.22,1423.18 6846.22,1423.18 6891.26,1423.18 6846.22,1423.18 \"/>\n",
       "<path clip-path=\"url(#clip952)\" d=\"M6891.26 1423.18 L6891.26 1423.18 L6936.29 1423.18 L6936.29 1423.18 L6891.26 1423.18 L6891.26 1423.18  Z\" fill=\"#009af9\" fill-rule=\"evenodd\" fill-opacity=\"1\"/>\n",
       "<polyline clip-path=\"url(#clip952)\" style=\"stroke:#000000; stroke-linecap:round; stroke-linejoin:round; stroke-width:4; stroke-opacity:1; fill:none\" points=\"6891.26,1423.18 6891.26,1423.18 6936.29,1423.18 6891.26,1423.18 \"/>\n",
       "<path clip-path=\"url(#clip952)\" d=\"M6936.29 1423.18 L6936.29 1423.18 L6981.33 1423.18 L6981.33 1423.18 L6936.29 1423.18 L6936.29 1423.18  Z\" fill=\"#009af9\" fill-rule=\"evenodd\" fill-opacity=\"1\"/>\n",
       "<polyline clip-path=\"url(#clip952)\" style=\"stroke:#000000; stroke-linecap:round; stroke-linejoin:round; stroke-width:4; stroke-opacity:1; fill:none\" points=\"6936.29,1423.18 6936.29,1423.18 6981.33,1423.18 6936.29,1423.18 \"/>\n",
       "<path clip-path=\"url(#clip952)\" d=\"M6981.33 1423.18 L6981.33 1423.18 L7026.37 1423.18 L7026.37 1423.18 L6981.33 1423.18 L6981.33 1423.18  Z\" fill=\"#009af9\" fill-rule=\"evenodd\" fill-opacity=\"1\"/>\n",
       "<polyline clip-path=\"url(#clip952)\" style=\"stroke:#000000; stroke-linecap:round; stroke-linejoin:round; stroke-width:4; stroke-opacity:1; fill:none\" points=\"6981.33,1423.18 6981.33,1423.18 7026.37,1423.18 6981.33,1423.18 \"/>\n",
       "<path clip-path=\"url(#clip952)\" d=\"M7026.37 1423.18 L7026.37 1423.18 L7071.4 1423.18 L7071.4 1423.18 L7026.37 1423.18 L7026.37 1423.18  Z\" fill=\"#009af9\" fill-rule=\"evenodd\" fill-opacity=\"1\"/>\n",
       "<polyline clip-path=\"url(#clip952)\" style=\"stroke:#000000; stroke-linecap:round; stroke-linejoin:round; stroke-width:4; stroke-opacity:1; fill:none\" points=\"7026.37,1423.18 7026.37,1423.18 7071.4,1423.18 7026.37,1423.18 \"/>\n",
       "<path clip-path=\"url(#clip952)\" d=\"M7071.4 1423.18 L7071.4 1423.18 L7116.44 1423.18 L7116.44 1423.18 L7071.4 1423.18 L7071.4 1423.18  Z\" fill=\"#009af9\" fill-rule=\"evenodd\" fill-opacity=\"1\"/>\n",
       "<polyline clip-path=\"url(#clip952)\" style=\"stroke:#000000; stroke-linecap:round; stroke-linejoin:round; stroke-width:4; stroke-opacity:1; fill:none\" points=\"7071.4,1423.18 7071.4,1423.18 7116.44,1423.18 7071.4,1423.18 \"/>\n",
       "<path clip-path=\"url(#clip952)\" d=\"M7116.44 1423.18 L7116.44 1423.18 L7161.48 1423.18 L7161.48 1423.18 L7116.44 1423.18 L7116.44 1423.18  Z\" fill=\"#009af9\" fill-rule=\"evenodd\" fill-opacity=\"1\"/>\n",
       "<polyline clip-path=\"url(#clip952)\" style=\"stroke:#000000; stroke-linecap:round; stroke-linejoin:round; stroke-width:4; stroke-opacity:1; fill:none\" points=\"7116.44,1423.18 7116.44,1423.18 7161.48,1423.18 7116.44,1423.18 \"/>\n",
       "<path clip-path=\"url(#clip952)\" d=\"M7161.48 1423.18 L7161.48 1423.18 L7206.52 1423.18 L7206.52 1423.18 L7161.48 1423.18 L7161.48 1423.18  Z\" fill=\"#009af9\" fill-rule=\"evenodd\" fill-opacity=\"1\"/>\n",
       "<polyline clip-path=\"url(#clip952)\" style=\"stroke:#000000; stroke-linecap:round; stroke-linejoin:round; stroke-width:4; stroke-opacity:1; fill:none\" points=\"7161.48,1423.18 7161.48,1423.18 7206.52,1423.18 7161.48,1423.18 \"/>\n",
       "<path clip-path=\"url(#clip952)\" d=\"M7206.52 1395.66 L7206.52 1423.18 L7251.55 1423.18 L7251.55 1395.66 L7206.52 1395.66 L7206.52 1395.66  Z\" fill=\"#009af9\" fill-rule=\"evenodd\" fill-opacity=\"1\"/>\n",
       "<polyline clip-path=\"url(#clip952)\" style=\"stroke:#000000; stroke-linecap:round; stroke-linejoin:round; stroke-width:4; stroke-opacity:1; fill:none\" points=\"7206.52,1395.66 7206.52,1423.18 7251.55,1423.18 7251.55,1395.66 7206.52,1395.66 \"/>\n",
       "<path clip-path=\"url(#clip952)\" d=\"M7251.55 1423.18 L7251.55 1423.18 L7296.59 1423.18 L7296.59 1423.18 L7251.55 1423.18 L7251.55 1423.18  Z\" fill=\"#009af9\" fill-rule=\"evenodd\" fill-opacity=\"1\"/>\n",
       "<polyline clip-path=\"url(#clip952)\" style=\"stroke:#000000; stroke-linecap:round; stroke-linejoin:round; stroke-width:4; stroke-opacity:1; fill:none\" points=\"7251.55,1423.18 7251.55,1423.18 7296.59,1423.18 7251.55,1423.18 \"/>\n",
       "<path clip-path=\"url(#clip952)\" d=\"M7296.59 1423.18 L7296.59 1423.18 L7341.63 1423.18 L7341.63 1423.18 L7296.59 1423.18 L7296.59 1423.18  Z\" fill=\"#009af9\" fill-rule=\"evenodd\" fill-opacity=\"1\"/>\n",
       "<polyline clip-path=\"url(#clip952)\" style=\"stroke:#000000; stroke-linecap:round; stroke-linejoin:round; stroke-width:4; stroke-opacity:1; fill:none\" points=\"7296.59,1423.18 7296.59,1423.18 7341.63,1423.18 7296.59,1423.18 \"/>\n",
       "<path clip-path=\"url(#clip952)\" d=\"M7341.63 1423.18 L7341.63 1423.18 L7386.66 1423.18 L7386.66 1423.18 L7341.63 1423.18 L7341.63 1423.18  Z\" fill=\"#009af9\" fill-rule=\"evenodd\" fill-opacity=\"1\"/>\n",
       "<polyline clip-path=\"url(#clip952)\" style=\"stroke:#000000; stroke-linecap:round; stroke-linejoin:round; stroke-width:4; stroke-opacity:1; fill:none\" points=\"7341.63,1423.18 7341.63,1423.18 7386.66,1423.18 7341.63,1423.18 \"/>\n",
       "<path clip-path=\"url(#clip952)\" d=\"M7386.66 1423.18 L7386.66 1423.18 L7431.7 1423.18 L7431.7 1423.18 L7386.66 1423.18 L7386.66 1423.18  Z\" fill=\"#009af9\" fill-rule=\"evenodd\" fill-opacity=\"1\"/>\n",
       "<polyline clip-path=\"url(#clip952)\" style=\"stroke:#000000; stroke-linecap:round; stroke-linejoin:round; stroke-width:4; stroke-opacity:1; fill:none\" points=\"7386.66,1423.18 7386.66,1423.18 7431.7,1423.18 7386.66,1423.18 \"/>\n",
       "<path clip-path=\"url(#clip952)\" d=\"M7431.7 1423.18 L7431.7 1423.18 L7476.74 1423.18 L7476.74 1423.18 L7431.7 1423.18 L7431.7 1423.18  Z\" fill=\"#009af9\" fill-rule=\"evenodd\" fill-opacity=\"1\"/>\n",
       "<polyline clip-path=\"url(#clip952)\" style=\"stroke:#000000; stroke-linecap:round; stroke-linejoin:round; stroke-width:4; stroke-opacity:1; fill:none\" points=\"7431.7,1423.18 7431.7,1423.18 7476.74,1423.18 7431.7,1423.18 \"/>\n",
       "<path clip-path=\"url(#clip952)\" d=\"M7476.74 1423.18 L7476.74 1423.18 L7521.78 1423.18 L7521.78 1423.18 L7476.74 1423.18 L7476.74 1423.18  Z\" fill=\"#009af9\" fill-rule=\"evenodd\" fill-opacity=\"1\"/>\n",
       "<polyline clip-path=\"url(#clip952)\" style=\"stroke:#000000; stroke-linecap:round; stroke-linejoin:round; stroke-width:4; stroke-opacity:1; fill:none\" points=\"7476.74,1423.18 7476.74,1423.18 7521.78,1423.18 7476.74,1423.18 \"/>\n",
       "<path clip-path=\"url(#clip952)\" d=\"M7521.78 1423.18 L7521.78 1423.18 L7566.81 1423.18 L7566.81 1423.18 L7521.78 1423.18 L7521.78 1423.18  Z\" fill=\"#009af9\" fill-rule=\"evenodd\" fill-opacity=\"1\"/>\n",
       "<polyline clip-path=\"url(#clip952)\" style=\"stroke:#000000; stroke-linecap:round; stroke-linejoin:round; stroke-width:4; stroke-opacity:1; fill:none\" points=\"7521.78,1423.18 7521.78,1423.18 7566.81,1423.18 7521.78,1423.18 \"/>\n",
       "<path clip-path=\"url(#clip952)\" d=\"M7566.81 1423.18 L7566.81 1423.18 L7611.85 1423.18 L7611.85 1423.18 L7566.81 1423.18 L7566.81 1423.18  Z\" fill=\"#009af9\" fill-rule=\"evenodd\" fill-opacity=\"1\"/>\n",
       "<polyline clip-path=\"url(#clip952)\" style=\"stroke:#000000; stroke-linecap:round; stroke-linejoin:round; stroke-width:4; stroke-opacity:1; fill:none\" points=\"7566.81,1423.18 7566.81,1423.18 7611.85,1423.18 7566.81,1423.18 \"/>\n",
       "<path clip-path=\"url(#clip952)\" d=\"M7611.85 1423.18 L7611.85 1423.18 L7656.89 1423.18 L7656.89 1423.18 L7611.85 1423.18 L7611.85 1423.18  Z\" fill=\"#009af9\" fill-rule=\"evenodd\" fill-opacity=\"1\"/>\n",
       "<polyline clip-path=\"url(#clip952)\" style=\"stroke:#000000; stroke-linecap:round; stroke-linejoin:round; stroke-width:4; stroke-opacity:1; fill:none\" points=\"7611.85,1423.18 7611.85,1423.18 7656.89,1423.18 7611.85,1423.18 \"/>\n",
       "<path clip-path=\"url(#clip952)\" d=\"M7656.89 1423.18 L7656.89 1423.18 L7701.93 1423.18 L7701.93 1423.18 L7656.89 1423.18 L7656.89 1423.18  Z\" fill=\"#009af9\" fill-rule=\"evenodd\" fill-opacity=\"1\"/>\n",
       "<polyline clip-path=\"url(#clip952)\" style=\"stroke:#000000; stroke-linecap:round; stroke-linejoin:round; stroke-width:4; stroke-opacity:1; fill:none\" points=\"7656.89,1423.18 7656.89,1423.18 7701.93,1423.18 7656.89,1423.18 \"/>\n",
       "<path clip-path=\"url(#clip952)\" d=\"M7701.93 1423.18 L7701.93 1423.18 L7746.96 1423.18 L7746.96 1423.18 L7701.93 1423.18 L7701.93 1423.18  Z\" fill=\"#009af9\" fill-rule=\"evenodd\" fill-opacity=\"1\"/>\n",
       "<polyline clip-path=\"url(#clip952)\" style=\"stroke:#000000; stroke-linecap:round; stroke-linejoin:round; stroke-width:4; stroke-opacity:1; fill:none\" points=\"7701.93,1423.18 7701.93,1423.18 7746.96,1423.18 7701.93,1423.18 \"/>\n",
       "<path clip-path=\"url(#clip952)\" d=\"M7746.96 1423.18 L7746.96 1423.18 L7792 1423.18 L7792 1423.18 L7746.96 1423.18 L7746.96 1423.18  Z\" fill=\"#009af9\" fill-rule=\"evenodd\" fill-opacity=\"1\"/>\n",
       "<polyline clip-path=\"url(#clip952)\" style=\"stroke:#000000; stroke-linecap:round; stroke-linejoin:round; stroke-width:4; stroke-opacity:1; fill:none\" points=\"7746.96,1423.18 7746.96,1423.18 7792,1423.18 7746.96,1423.18 \"/>\n",
       "<path clip-path=\"url(#clip952)\" d=\"M7792 1423.18 L7792 1423.18 L7837.04 1423.18 L7837.04 1423.18 L7792 1423.18 L7792 1423.18  Z\" fill=\"#009af9\" fill-rule=\"evenodd\" fill-opacity=\"1\"/>\n",
       "<polyline clip-path=\"url(#clip952)\" style=\"stroke:#000000; stroke-linecap:round; stroke-linejoin:round; stroke-width:4; stroke-opacity:1; fill:none\" points=\"7792,1423.18 7792,1423.18 7837.04,1423.18 7792,1423.18 \"/>\n",
       "<path clip-path=\"url(#clip952)\" d=\"M7837.04 1395.66 L7837.04 1423.18 L7882.07 1423.18 L7882.07 1395.66 L7837.04 1395.66 L7837.04 1395.66  Z\" fill=\"#009af9\" fill-rule=\"evenodd\" fill-opacity=\"1\"/>\n",
       "<polyline clip-path=\"url(#clip952)\" style=\"stroke:#000000; stroke-linecap:round; stroke-linejoin:round; stroke-width:4; stroke-opacity:1; fill:none\" points=\"7837.04,1395.66 7837.04,1423.18 7882.07,1423.18 7882.07,1395.66 7837.04,1395.66 \"/>\n",
       "<path clip-path=\"url(#clip952)\" d=\"M7882.07 1423.18 L7882.07 1423.18 L7927.11 1423.18 L7927.11 1423.18 L7882.07 1423.18 L7882.07 1423.18  Z\" fill=\"#009af9\" fill-rule=\"evenodd\" fill-opacity=\"1\"/>\n",
       "<polyline clip-path=\"url(#clip952)\" style=\"stroke:#000000; stroke-linecap:round; stroke-linejoin:round; stroke-width:4; stroke-opacity:1; fill:none\" points=\"7882.07,1423.18 7882.07,1423.18 7927.11,1423.18 7882.07,1423.18 \"/>\n",
       "<path clip-path=\"url(#clip952)\" d=\"M7927.11 1395.66 L7927.11 1423.18 L7972.15 1423.18 L7972.15 1395.66 L7927.11 1395.66 L7927.11 1395.66  Z\" fill=\"#009af9\" fill-rule=\"evenodd\" fill-opacity=\"1\"/>\n",
       "<polyline clip-path=\"url(#clip952)\" style=\"stroke:#000000; stroke-linecap:round; stroke-linejoin:round; stroke-width:4; stroke-opacity:1; fill:none\" points=\"7927.11,1395.66 7927.11,1423.18 7972.15,1423.18 7972.15,1395.66 7927.11,1395.66 \"/>\n",
       "<path clip-path=\"url(#clip952)\" d=\"M7972.15 1395.66 L7972.15 1423.18 L8017.19 1423.18 L8017.19 1395.66 L7972.15 1395.66 L7972.15 1395.66  Z\" fill=\"#009af9\" fill-rule=\"evenodd\" fill-opacity=\"1\"/>\n",
       "<polyline clip-path=\"url(#clip952)\" style=\"stroke:#000000; stroke-linecap:round; stroke-linejoin:round; stroke-width:4; stroke-opacity:1; fill:none\" points=\"7972.15,1395.66 7972.15,1423.18 8017.19,1423.18 8017.19,1395.66 7972.15,1395.66 \"/>\n",
       "<path clip-path=\"url(#clip952)\" d=\"M8017.19 1423.18 L8017.19 1423.18 L8062.22 1423.18 L8062.22 1423.18 L8017.19 1423.18 L8017.19 1423.18  Z\" fill=\"#009af9\" fill-rule=\"evenodd\" fill-opacity=\"1\"/>\n",
       "<polyline clip-path=\"url(#clip952)\" style=\"stroke:#000000; stroke-linecap:round; stroke-linejoin:round; stroke-width:4; stroke-opacity:1; fill:none\" points=\"8017.19,1423.18 8017.19,1423.18 8062.22,1423.18 8017.19,1423.18 \"/>\n",
       "<path clip-path=\"url(#clip952)\" d=\"M8062.22 1423.18 L8062.22 1423.18 L8107.26 1423.18 L8107.26 1423.18 L8062.22 1423.18 L8062.22 1423.18  Z\" fill=\"#009af9\" fill-rule=\"evenodd\" fill-opacity=\"1\"/>\n",
       "<polyline clip-path=\"url(#clip952)\" style=\"stroke:#000000; stroke-linecap:round; stroke-linejoin:round; stroke-width:4; stroke-opacity:1; fill:none\" points=\"8062.22,1423.18 8062.22,1423.18 8107.26,1423.18 8062.22,1423.18 \"/>\n",
       "<path clip-path=\"url(#clip952)\" d=\"M8107.26 1423.18 L8107.26 1423.18 L8152.3 1423.18 L8152.3 1423.18 L8107.26 1423.18 L8107.26 1423.18  Z\" fill=\"#009af9\" fill-rule=\"evenodd\" fill-opacity=\"1\"/>\n",
       "<polyline clip-path=\"url(#clip952)\" style=\"stroke:#000000; stroke-linecap:round; stroke-linejoin:round; stroke-width:4; stroke-opacity:1; fill:none\" points=\"8107.26,1423.18 8107.26,1423.18 8152.3,1423.18 8107.26,1423.18 \"/>\n",
       "<path clip-path=\"url(#clip952)\" d=\"M8152.3 1423.18 L8152.3 1423.18 L8197.33 1423.18 L8197.33 1423.18 L8152.3 1423.18 L8152.3 1423.18  Z\" fill=\"#009af9\" fill-rule=\"evenodd\" fill-opacity=\"1\"/>\n",
       "<polyline clip-path=\"url(#clip952)\" style=\"stroke:#000000; stroke-linecap:round; stroke-linejoin:round; stroke-width:4; stroke-opacity:1; fill:none\" points=\"8152.3,1423.18 8152.3,1423.18 8197.33,1423.18 8152.3,1423.18 \"/>\n",
       "<path clip-path=\"url(#clip952)\" d=\"M8197.33 1423.18 L8197.33 1423.18 L8242.37 1423.18 L8242.37 1423.18 L8197.33 1423.18 L8197.33 1423.18  Z\" fill=\"#009af9\" fill-rule=\"evenodd\" fill-opacity=\"1\"/>\n",
       "<polyline clip-path=\"url(#clip952)\" style=\"stroke:#000000; stroke-linecap:round; stroke-linejoin:round; stroke-width:4; stroke-opacity:1; fill:none\" points=\"8197.33,1423.18 8197.33,1423.18 8242.37,1423.18 8197.33,1423.18 \"/>\n",
       "<path clip-path=\"url(#clip952)\" d=\"M8242.37 1423.18 L8242.37 1423.18 L8287.41 1423.18 L8287.41 1423.18 L8242.37 1423.18 L8242.37 1423.18  Z\" fill=\"#009af9\" fill-rule=\"evenodd\" fill-opacity=\"1\"/>\n",
       "<polyline clip-path=\"url(#clip952)\" style=\"stroke:#000000; stroke-linecap:round; stroke-linejoin:round; stroke-width:4; stroke-opacity:1; fill:none\" points=\"8242.37,1423.18 8242.37,1423.18 8287.41,1423.18 8242.37,1423.18 \"/>\n",
       "<path clip-path=\"url(#clip952)\" d=\"M8287.41 1423.18 L8287.41 1423.18 L8332.45 1423.18 L8332.45 1423.18 L8287.41 1423.18 L8287.41 1423.18  Z\" fill=\"#009af9\" fill-rule=\"evenodd\" fill-opacity=\"1\"/>\n",
       "<polyline clip-path=\"url(#clip952)\" style=\"stroke:#000000; stroke-linecap:round; stroke-linejoin:round; stroke-width:4; stroke-opacity:1; fill:none\" points=\"8287.41,1423.18 8287.41,1423.18 8332.45,1423.18 8287.41,1423.18 \"/>\n",
       "<path clip-path=\"url(#clip952)\" d=\"M8332.45 1423.18 L8332.45 1423.18 L8377.48 1423.18 L8377.48 1423.18 L8332.45 1423.18 L8332.45 1423.18  Z\" fill=\"#009af9\" fill-rule=\"evenodd\" fill-opacity=\"1\"/>\n",
       "<polyline clip-path=\"url(#clip952)\" style=\"stroke:#000000; stroke-linecap:round; stroke-linejoin:round; stroke-width:4; stroke-opacity:1; fill:none\" points=\"8332.45,1423.18 8332.45,1423.18 8377.48,1423.18 8332.45,1423.18 \"/>\n",
       "<path clip-path=\"url(#clip952)\" d=\"M8377.48 1423.18 L8377.48 1423.18 L8422.52 1423.18 L8422.52 1423.18 L8377.48 1423.18 L8377.48 1423.18  Z\" fill=\"#009af9\" fill-rule=\"evenodd\" fill-opacity=\"1\"/>\n",
       "<polyline clip-path=\"url(#clip952)\" style=\"stroke:#000000; stroke-linecap:round; stroke-linejoin:round; stroke-width:4; stroke-opacity:1; fill:none\" points=\"8377.48,1423.18 8377.48,1423.18 8422.52,1423.18 8377.48,1423.18 \"/>\n",
       "<path clip-path=\"url(#clip952)\" d=\"M8422.52 1423.18 L8422.52 1423.18 L8467.56 1423.18 L8467.56 1423.18 L8422.52 1423.18 L8422.52 1423.18  Z\" fill=\"#009af9\" fill-rule=\"evenodd\" fill-opacity=\"1\"/>\n",
       "<polyline clip-path=\"url(#clip952)\" style=\"stroke:#000000; stroke-linecap:round; stroke-linejoin:round; stroke-width:4; stroke-opacity:1; fill:none\" points=\"8422.52,1423.18 8422.52,1423.18 8467.56,1423.18 8422.52,1423.18 \"/>\n",
       "<path clip-path=\"url(#clip952)\" d=\"M8467.56 1423.18 L8467.56 1423.18 L8512.59 1423.18 L8512.59 1423.18 L8467.56 1423.18 L8467.56 1423.18  Z\" fill=\"#009af9\" fill-rule=\"evenodd\" fill-opacity=\"1\"/>\n",
       "<polyline clip-path=\"url(#clip952)\" style=\"stroke:#000000; stroke-linecap:round; stroke-linejoin:round; stroke-width:4; stroke-opacity:1; fill:none\" points=\"8467.56,1423.18 8467.56,1423.18 8512.59,1423.18 8467.56,1423.18 \"/>\n",
       "<path clip-path=\"url(#clip952)\" d=\"M8512.59 1423.18 L8512.59 1423.18 L8557.63 1423.18 L8557.63 1423.18 L8512.59 1423.18 L8512.59 1423.18  Z\" fill=\"#009af9\" fill-rule=\"evenodd\" fill-opacity=\"1\"/>\n",
       "<polyline clip-path=\"url(#clip952)\" style=\"stroke:#000000; stroke-linecap:round; stroke-linejoin:round; stroke-width:4; stroke-opacity:1; fill:none\" points=\"8512.59,1423.18 8512.59,1423.18 8557.63,1423.18 8512.59,1423.18 \"/>\n",
       "<path clip-path=\"url(#clip952)\" d=\"M8557.63 1423.18 L8557.63 1423.18 L8602.67 1423.18 L8602.67 1423.18 L8557.63 1423.18 L8557.63 1423.18  Z\" fill=\"#009af9\" fill-rule=\"evenodd\" fill-opacity=\"1\"/>\n",
       "<polyline clip-path=\"url(#clip952)\" style=\"stroke:#000000; stroke-linecap:round; stroke-linejoin:round; stroke-width:4; stroke-opacity:1; fill:none\" points=\"8557.63,1423.18 8557.63,1423.18 8602.67,1423.18 8557.63,1423.18 \"/>\n",
       "<path clip-path=\"url(#clip952)\" d=\"M8602.67 1423.18 L8602.67 1423.18 L8647.71 1423.18 L8647.71 1423.18 L8602.67 1423.18 L8602.67 1423.18  Z\" fill=\"#009af9\" fill-rule=\"evenodd\" fill-opacity=\"1\"/>\n",
       "<polyline clip-path=\"url(#clip952)\" style=\"stroke:#000000; stroke-linecap:round; stroke-linejoin:round; stroke-width:4; stroke-opacity:1; fill:none\" points=\"8602.67,1423.18 8602.67,1423.18 8647.71,1423.18 8602.67,1423.18 \"/>\n",
       "<path clip-path=\"url(#clip952)\" d=\"M8647.71 1423.18 L8647.71 1423.18 L8692.74 1423.18 L8692.74 1423.18 L8647.71 1423.18 L8647.71 1423.18  Z\" fill=\"#009af9\" fill-rule=\"evenodd\" fill-opacity=\"1\"/>\n",
       "<polyline clip-path=\"url(#clip952)\" style=\"stroke:#000000; stroke-linecap:round; stroke-linejoin:round; stroke-width:4; stroke-opacity:1; fill:none\" points=\"8647.71,1423.18 8647.71,1423.18 8692.74,1423.18 8647.71,1423.18 \"/>\n",
       "<path clip-path=\"url(#clip952)\" d=\"M8692.74 1423.18 L8692.74 1423.18 L8737.78 1423.18 L8737.78 1423.18 L8692.74 1423.18 L8692.74 1423.18  Z\" fill=\"#009af9\" fill-rule=\"evenodd\" fill-opacity=\"1\"/>\n",
       "<polyline clip-path=\"url(#clip952)\" style=\"stroke:#000000; stroke-linecap:round; stroke-linejoin:round; stroke-width:4; stroke-opacity:1; fill:none\" points=\"8692.74,1423.18 8692.74,1423.18 8737.78,1423.18 8692.74,1423.18 \"/>\n",
       "<path clip-path=\"url(#clip952)\" d=\"M8737.78 1423.18 L8737.78 1423.18 L8782.82 1423.18 L8782.82 1423.18 L8737.78 1423.18 L8737.78 1423.18  Z\" fill=\"#009af9\" fill-rule=\"evenodd\" fill-opacity=\"1\"/>\n",
       "<polyline clip-path=\"url(#clip952)\" style=\"stroke:#000000; stroke-linecap:round; stroke-linejoin:round; stroke-width:4; stroke-opacity:1; fill:none\" points=\"8737.78,1423.18 8737.78,1423.18 8782.82,1423.18 8737.78,1423.18 \"/>\n",
       "<path clip-path=\"url(#clip952)\" d=\"M8782.82 1423.18 L8782.82 1423.18 L8827.86 1423.18 L8827.86 1423.18 L8782.82 1423.18 L8782.82 1423.18  Z\" fill=\"#009af9\" fill-rule=\"evenodd\" fill-opacity=\"1\"/>\n",
       "<polyline clip-path=\"url(#clip952)\" style=\"stroke:#000000; stroke-linecap:round; stroke-linejoin:round; stroke-width:4; stroke-opacity:1; fill:none\" points=\"8782.82,1423.18 8782.82,1423.18 8827.86,1423.18 8782.82,1423.18 \"/>\n",
       "<path clip-path=\"url(#clip952)\" d=\"M8827.86 1423.18 L8827.86 1423.18 L8872.89 1423.18 L8872.89 1423.18 L8827.86 1423.18 L8827.86 1423.18  Z\" fill=\"#009af9\" fill-rule=\"evenodd\" fill-opacity=\"1\"/>\n",
       "<polyline clip-path=\"url(#clip952)\" style=\"stroke:#000000; stroke-linecap:round; stroke-linejoin:round; stroke-width:4; stroke-opacity:1; fill:none\" points=\"8827.86,1423.18 8827.86,1423.18 8872.89,1423.18 8827.86,1423.18 \"/>\n",
       "<path clip-path=\"url(#clip952)\" d=\"M8872.89 1423.18 L8872.89 1423.18 L8917.93 1423.18 L8917.93 1423.18 L8872.89 1423.18 L8872.89 1423.18  Z\" fill=\"#009af9\" fill-rule=\"evenodd\" fill-opacity=\"1\"/>\n",
       "<polyline clip-path=\"url(#clip952)\" style=\"stroke:#000000; stroke-linecap:round; stroke-linejoin:round; stroke-width:4; stroke-opacity:1; fill:none\" points=\"8872.89,1423.18 8872.89,1423.18 8917.93,1423.18 8872.89,1423.18 \"/>\n",
       "<path clip-path=\"url(#clip952)\" d=\"M8917.93 1423.18 L8917.93 1423.18 L8962.97 1423.18 L8962.97 1423.18 L8917.93 1423.18 L8917.93 1423.18  Z\" fill=\"#009af9\" fill-rule=\"evenodd\" fill-opacity=\"1\"/>\n",
       "<polyline clip-path=\"url(#clip952)\" style=\"stroke:#000000; stroke-linecap:round; stroke-linejoin:round; stroke-width:4; stroke-opacity:1; fill:none\" points=\"8917.93,1423.18 8917.93,1423.18 8962.97,1423.18 8917.93,1423.18 \"/>\n",
       "<path clip-path=\"url(#clip952)\" d=\"M8962.97 1423.18 L8962.97 1423.18 L9008 1423.18 L9008 1423.18 L8962.97 1423.18 L8962.97 1423.18  Z\" fill=\"#009af9\" fill-rule=\"evenodd\" fill-opacity=\"1\"/>\n",
       "<polyline clip-path=\"url(#clip952)\" style=\"stroke:#000000; stroke-linecap:round; stroke-linejoin:round; stroke-width:4; stroke-opacity:1; fill:none\" points=\"8962.97,1423.18 8962.97,1423.18 9008,1423.18 8962.97,1423.18 \"/>\n",
       "<path clip-path=\"url(#clip952)\" d=\"M9008 1423.18 L9008 1423.18 L9053.04 1423.18 L9053.04 1423.18 L9008 1423.18 L9008 1423.18  Z\" fill=\"#009af9\" fill-rule=\"evenodd\" fill-opacity=\"1\"/>\n",
       "<polyline clip-path=\"url(#clip952)\" style=\"stroke:#000000; stroke-linecap:round; stroke-linejoin:round; stroke-width:4; stroke-opacity:1; fill:none\" points=\"9008,1423.18 9008,1423.18 9053.04,1423.18 9008,1423.18 \"/>\n",
       "<path clip-path=\"url(#clip952)\" d=\"M9053.04 1423.18 L9053.04 1423.18 L9098.08 1423.18 L9098.08 1423.18 L9053.04 1423.18 L9053.04 1423.18  Z\" fill=\"#009af9\" fill-rule=\"evenodd\" fill-opacity=\"1\"/>\n",
       "<polyline clip-path=\"url(#clip952)\" style=\"stroke:#000000; stroke-linecap:round; stroke-linejoin:round; stroke-width:4; stroke-opacity:1; fill:none\" points=\"9053.04,1423.18 9053.04,1423.18 9098.08,1423.18 9053.04,1423.18 \"/>\n",
       "<path clip-path=\"url(#clip952)\" d=\"M9098.08 1395.66 L9098.08 1423.18 L9143.12 1423.18 L9143.12 1395.66 L9098.08 1395.66 L9098.08 1395.66  Z\" fill=\"#009af9\" fill-rule=\"evenodd\" fill-opacity=\"1\"/>\n",
       "<polyline clip-path=\"url(#clip952)\" style=\"stroke:#000000; stroke-linecap:round; stroke-linejoin:round; stroke-width:4; stroke-opacity:1; fill:none\" points=\"9098.08,1395.66 9098.08,1423.18 9143.12,1423.18 9143.12,1395.66 9098.08,1395.66 \"/>\n",
       "<path clip-path=\"url(#clip952)\" d=\"M9143.12 1423.18 L9143.12 1423.18 L9188.15 1423.18 L9188.15 1423.18 L9143.12 1423.18 L9143.12 1423.18  Z\" fill=\"#009af9\" fill-rule=\"evenodd\" fill-opacity=\"1\"/>\n",
       "<polyline clip-path=\"url(#clip952)\" style=\"stroke:#000000; stroke-linecap:round; stroke-linejoin:round; stroke-width:4; stroke-opacity:1; fill:none\" points=\"9143.12,1423.18 9143.12,1423.18 9188.15,1423.18 9143.12,1423.18 \"/>\n",
       "<path clip-path=\"url(#clip952)\" d=\"M9188.15 1423.18 L9188.15 1423.18 L9233.19 1423.18 L9233.19 1423.18 L9188.15 1423.18 L9188.15 1423.18  Z\" fill=\"#009af9\" fill-rule=\"evenodd\" fill-opacity=\"1\"/>\n",
       "<polyline clip-path=\"url(#clip952)\" style=\"stroke:#000000; stroke-linecap:round; stroke-linejoin:round; stroke-width:4; stroke-opacity:1; fill:none\" points=\"9188.15,1423.18 9188.15,1423.18 9233.19,1423.18 9188.15,1423.18 \"/>\n",
       "<path clip-path=\"url(#clip952)\" d=\"M9233.19 1423.18 L9233.19 1423.18 L9278.23 1423.18 L9278.23 1423.18 L9233.19 1423.18 L9233.19 1423.18  Z\" fill=\"#009af9\" fill-rule=\"evenodd\" fill-opacity=\"1\"/>\n",
       "<polyline clip-path=\"url(#clip952)\" style=\"stroke:#000000; stroke-linecap:round; stroke-linejoin:round; stroke-width:4; stroke-opacity:1; fill:none\" points=\"9233.19,1423.18 9233.19,1423.18 9278.23,1423.18 9233.19,1423.18 \"/>\n",
       "<path clip-path=\"url(#clip952)\" d=\"M9278.23 1423.18 L9278.23 1423.18 L9323.26 1423.18 L9323.26 1423.18 L9278.23 1423.18 L9278.23 1423.18  Z\" fill=\"#009af9\" fill-rule=\"evenodd\" fill-opacity=\"1\"/>\n",
       "<polyline clip-path=\"url(#clip952)\" style=\"stroke:#000000; stroke-linecap:round; stroke-linejoin:round; stroke-width:4; stroke-opacity:1; fill:none\" points=\"9278.23,1423.18 9278.23,1423.18 9323.26,1423.18 9278.23,1423.18 \"/>\n",
       "<path clip-path=\"url(#clip952)\" d=\"M9323.26 1423.18 L9323.26 1423.18 L9368.3 1423.18 L9368.3 1423.18 L9323.26 1423.18 L9323.26 1423.18  Z\" fill=\"#009af9\" fill-rule=\"evenodd\" fill-opacity=\"1\"/>\n",
       "<polyline clip-path=\"url(#clip952)\" style=\"stroke:#000000; stroke-linecap:round; stroke-linejoin:round; stroke-width:4; stroke-opacity:1; fill:none\" points=\"9323.26,1423.18 9323.26,1423.18 9368.3,1423.18 9323.26,1423.18 \"/>\n",
       "<path clip-path=\"url(#clip952)\" d=\"M9368.3 1423.18 L9368.3 1423.18 L9413.34 1423.18 L9413.34 1423.18 L9368.3 1423.18 L9368.3 1423.18  Z\" fill=\"#009af9\" fill-rule=\"evenodd\" fill-opacity=\"1\"/>\n",
       "<polyline clip-path=\"url(#clip952)\" style=\"stroke:#000000; stroke-linecap:round; stroke-linejoin:round; stroke-width:4; stroke-opacity:1; fill:none\" points=\"9368.3,1423.18 9368.3,1423.18 9413.34,1423.18 9368.3,1423.18 \"/>\n",
       "<path clip-path=\"url(#clip952)\" d=\"M9413.34 1423.18 L9413.34 1423.18 L9458.38 1423.18 L9458.38 1423.18 L9413.34 1423.18 L9413.34 1423.18  Z\" fill=\"#009af9\" fill-rule=\"evenodd\" fill-opacity=\"1\"/>\n",
       "<polyline clip-path=\"url(#clip952)\" style=\"stroke:#000000; stroke-linecap:round; stroke-linejoin:round; stroke-width:4; stroke-opacity:1; fill:none\" points=\"9413.34,1423.18 9413.34,1423.18 9458.38,1423.18 9413.34,1423.18 \"/>\n",
       "<path clip-path=\"url(#clip952)\" d=\"M9458.38 1423.18 L9458.38 1423.18 L9503.41 1423.18 L9503.41 1423.18 L9458.38 1423.18 L9458.38 1423.18  Z\" fill=\"#009af9\" fill-rule=\"evenodd\" fill-opacity=\"1\"/>\n",
       "<polyline clip-path=\"url(#clip952)\" style=\"stroke:#000000; stroke-linecap:round; stroke-linejoin:round; stroke-width:4; stroke-opacity:1; fill:none\" points=\"9458.38,1423.18 9458.38,1423.18 9503.41,1423.18 9458.38,1423.18 \"/>\n",
       "<path clip-path=\"url(#clip952)\" d=\"M9503.41 1423.18 L9503.41 1423.18 L9548.45 1423.18 L9548.45 1423.18 L9503.41 1423.18 L9503.41 1423.18  Z\" fill=\"#009af9\" fill-rule=\"evenodd\" fill-opacity=\"1\"/>\n",
       "<polyline clip-path=\"url(#clip952)\" style=\"stroke:#000000; stroke-linecap:round; stroke-linejoin:round; stroke-width:4; stroke-opacity:1; fill:none\" points=\"9503.41,1423.18 9503.41,1423.18 9548.45,1423.18 9503.41,1423.18 \"/>\n",
       "<path clip-path=\"url(#clip952)\" d=\"M9548.45 1423.18 L9548.45 1423.18 L9593.49 1423.18 L9593.49 1423.18 L9548.45 1423.18 L9548.45 1423.18  Z\" fill=\"#009af9\" fill-rule=\"evenodd\" fill-opacity=\"1\"/>\n",
       "<polyline clip-path=\"url(#clip952)\" style=\"stroke:#000000; stroke-linecap:round; stroke-linejoin:round; stroke-width:4; stroke-opacity:1; fill:none\" points=\"9548.45,1423.18 9548.45,1423.18 9593.49,1423.18 9548.45,1423.18 \"/>\n",
       "<path clip-path=\"url(#clip952)\" d=\"M9593.49 1423.18 L9593.49 1423.18 L9638.53 1423.18 L9638.53 1423.18 L9593.49 1423.18 L9593.49 1423.18  Z\" fill=\"#009af9\" fill-rule=\"evenodd\" fill-opacity=\"1\"/>\n",
       "<polyline clip-path=\"url(#clip952)\" style=\"stroke:#000000; stroke-linecap:round; stroke-linejoin:round; stroke-width:4; stroke-opacity:1; fill:none\" points=\"9593.49,1423.18 9593.49,1423.18 9638.53,1423.18 9593.49,1423.18 \"/>\n",
       "<path clip-path=\"url(#clip952)\" d=\"M9638.53 1423.18 L9638.53 1423.18 L9683.56 1423.18 L9683.56 1423.18 L9638.53 1423.18 L9638.53 1423.18  Z\" fill=\"#009af9\" fill-rule=\"evenodd\" fill-opacity=\"1\"/>\n",
       "<polyline clip-path=\"url(#clip952)\" style=\"stroke:#000000; stroke-linecap:round; stroke-linejoin:round; stroke-width:4; stroke-opacity:1; fill:none\" points=\"9638.53,1423.18 9638.53,1423.18 9683.56,1423.18 9638.53,1423.18 \"/>\n",
       "<path clip-path=\"url(#clip952)\" d=\"M9683.56 1423.18 L9683.56 1423.18 L9728.6 1423.18 L9728.6 1423.18 L9683.56 1423.18 L9683.56 1423.18  Z\" fill=\"#009af9\" fill-rule=\"evenodd\" fill-opacity=\"1\"/>\n",
       "<polyline clip-path=\"url(#clip952)\" style=\"stroke:#000000; stroke-linecap:round; stroke-linejoin:round; stroke-width:4; stroke-opacity:1; fill:none\" points=\"9683.56,1423.18 9683.56,1423.18 9728.6,1423.18 9683.56,1423.18 \"/>\n",
       "<path clip-path=\"url(#clip952)\" d=\"M9728.6 1395.66 L9728.6 1423.18 L9773.64 1423.18 L9773.64 1395.66 L9728.6 1395.66 L9728.6 1395.66  Z\" fill=\"#009af9\" fill-rule=\"evenodd\" fill-opacity=\"1\"/>\n",
       "<polyline clip-path=\"url(#clip952)\" style=\"stroke:#000000; stroke-linecap:round; stroke-linejoin:round; stroke-width:4; stroke-opacity:1; fill:none\" points=\"9728.6,1395.66 9728.6,1423.18 9773.64,1423.18 9773.64,1395.66 9728.6,1395.66 \"/>\n",
       "<path clip-path=\"url(#clip952)\" d=\"M9773.64 1423.18 L9773.64 1423.18 L9818.67 1423.18 L9818.67 1423.18 L9773.64 1423.18 L9773.64 1423.18  Z\" fill=\"#009af9\" fill-rule=\"evenodd\" fill-opacity=\"1\"/>\n",
       "<polyline clip-path=\"url(#clip952)\" style=\"stroke:#000000; stroke-linecap:round; stroke-linejoin:round; stroke-width:4; stroke-opacity:1; fill:none\" points=\"9773.64,1423.18 9773.64,1423.18 9818.67,1423.18 9773.64,1423.18 \"/>\n",
       "<path clip-path=\"url(#clip952)\" d=\"M9818.67 1423.18 L9818.67 1423.18 L9863.71 1423.18 L9863.71 1423.18 L9818.67 1423.18 L9818.67 1423.18  Z\" fill=\"#009af9\" fill-rule=\"evenodd\" fill-opacity=\"1\"/>\n",
       "<polyline clip-path=\"url(#clip952)\" style=\"stroke:#000000; stroke-linecap:round; stroke-linejoin:round; stroke-width:4; stroke-opacity:1; fill:none\" points=\"9818.67,1423.18 9818.67,1423.18 9863.71,1423.18 9818.67,1423.18 \"/>\n",
       "<path clip-path=\"url(#clip952)\" d=\"M9863.71 1423.18 L9863.71 1423.18 L9908.75 1423.18 L9908.75 1423.18 L9863.71 1423.18 L9863.71 1423.18  Z\" fill=\"#009af9\" fill-rule=\"evenodd\" fill-opacity=\"1\"/>\n",
       "<polyline clip-path=\"url(#clip952)\" style=\"stroke:#000000; stroke-linecap:round; stroke-linejoin:round; stroke-width:4; stroke-opacity:1; fill:none\" points=\"9863.71,1423.18 9863.71,1423.18 9908.75,1423.18 9863.71,1423.18 \"/>\n",
       "<path clip-path=\"url(#clip952)\" d=\"M9908.75 1423.18 L9908.75 1423.18 L9953.79 1423.18 L9953.79 1423.18 L9908.75 1423.18 L9908.75 1423.18  Z\" fill=\"#009af9\" fill-rule=\"evenodd\" fill-opacity=\"1\"/>\n",
       "<polyline clip-path=\"url(#clip952)\" style=\"stroke:#000000; stroke-linecap:round; stroke-linejoin:round; stroke-width:4; stroke-opacity:1; fill:none\" points=\"9908.75,1423.18 9908.75,1423.18 9953.79,1423.18 9908.75,1423.18 \"/>\n",
       "<path clip-path=\"url(#clip952)\" d=\"M9953.79 1423.18 L9953.79 1423.18 L9998.82 1423.18 L9998.82 1423.18 L9953.79 1423.18 L9953.79 1423.18  Z\" fill=\"#009af9\" fill-rule=\"evenodd\" fill-opacity=\"1\"/>\n",
       "<polyline clip-path=\"url(#clip952)\" style=\"stroke:#000000; stroke-linecap:round; stroke-linejoin:round; stroke-width:4; stroke-opacity:1; fill:none\" points=\"9953.79,1423.18 9953.79,1423.18 9998.82,1423.18 9953.79,1423.18 \"/>\n",
       "<path clip-path=\"url(#clip952)\" d=\"M9998.82 1423.18 L9998.82 1423.18 L10043.9 1423.18 L10043.9 1423.18 L9998.82 1423.18 L9998.82 1423.18  Z\" fill=\"#009af9\" fill-rule=\"evenodd\" fill-opacity=\"1\"/>\n",
       "<polyline clip-path=\"url(#clip952)\" style=\"stroke:#000000; stroke-linecap:round; stroke-linejoin:round; stroke-width:4; stroke-opacity:1; fill:none\" points=\"9998.82,1423.18 9998.82,1423.18 10043.9,1423.18 9998.82,1423.18 \"/>\n",
       "<path clip-path=\"url(#clip952)\" d=\"M10043.9 1423.18 L10043.9 1423.18 L10088.9 1423.18 L10088.9 1423.18 L10043.9 1423.18 L10043.9 1423.18  Z\" fill=\"#009af9\" fill-rule=\"evenodd\" fill-opacity=\"1\"/>\n",
       "<polyline clip-path=\"url(#clip952)\" style=\"stroke:#000000; stroke-linecap:round; stroke-linejoin:round; stroke-width:4; stroke-opacity:1; fill:none\" points=\"10043.9,1423.18 10043.9,1423.18 10088.9,1423.18 10043.9,1423.18 \"/>\n",
       "<path clip-path=\"url(#clip952)\" d=\"M10088.9 1423.18 L10088.9 1423.18 L10133.9 1423.18 L10133.9 1423.18 L10088.9 1423.18 L10088.9 1423.18  Z\" fill=\"#009af9\" fill-rule=\"evenodd\" fill-opacity=\"1\"/>\n",
       "<polyline clip-path=\"url(#clip952)\" style=\"stroke:#000000; stroke-linecap:round; stroke-linejoin:round; stroke-width:4; stroke-opacity:1; fill:none\" points=\"10088.9,1423.18 10088.9,1423.18 10133.9,1423.18 10088.9,1423.18 \"/>\n",
       "<path clip-path=\"url(#clip952)\" d=\"M10133.9 1423.18 L10133.9 1423.18 L10179 1423.18 L10179 1423.18 L10133.9 1423.18 L10133.9 1423.18  Z\" fill=\"#009af9\" fill-rule=\"evenodd\" fill-opacity=\"1\"/>\n",
       "<polyline clip-path=\"url(#clip952)\" style=\"stroke:#000000; stroke-linecap:round; stroke-linejoin:round; stroke-width:4; stroke-opacity:1; fill:none\" points=\"10133.9,1423.18 10133.9,1423.18 10179,1423.18 10133.9,1423.18 \"/>\n",
       "<path clip-path=\"url(#clip952)\" d=\"M10179 1423.18 L10179 1423.18 L10224 1423.18 L10224 1423.18 L10179 1423.18 L10179 1423.18  Z\" fill=\"#009af9\" fill-rule=\"evenodd\" fill-opacity=\"1\"/>\n",
       "<polyline clip-path=\"url(#clip952)\" style=\"stroke:#000000; stroke-linecap:round; stroke-linejoin:round; stroke-width:4; stroke-opacity:1; fill:none\" points=\"10179,1423.18 10179,1423.18 10224,1423.18 10179,1423.18 \"/>\n",
       "<path clip-path=\"url(#clip952)\" d=\"M10224 1423.18 L10224 1423.18 L10269 1423.18 L10269 1423.18 L10224 1423.18 L10224 1423.18  Z\" fill=\"#009af9\" fill-rule=\"evenodd\" fill-opacity=\"1\"/>\n",
       "<polyline clip-path=\"url(#clip952)\" style=\"stroke:#000000; stroke-linecap:round; stroke-linejoin:round; stroke-width:4; stroke-opacity:1; fill:none\" points=\"10224,1423.18 10224,1423.18 10269,1423.18 10224,1423.18 \"/>\n",
       "<path clip-path=\"url(#clip952)\" d=\"M10269 1423.18 L10269 1423.18 L10314.1 1423.18 L10314.1 1423.18 L10269 1423.18 L10269 1423.18  Z\" fill=\"#009af9\" fill-rule=\"evenodd\" fill-opacity=\"1\"/>\n",
       "<polyline clip-path=\"url(#clip952)\" style=\"stroke:#000000; stroke-linecap:round; stroke-linejoin:round; stroke-width:4; stroke-opacity:1; fill:none\" points=\"10269,1423.18 10269,1423.18 10314.1,1423.18 10269,1423.18 \"/>\n",
       "<path clip-path=\"url(#clip952)\" d=\"M10314.1 1423.18 L10314.1 1423.18 L10359.1 1423.18 L10359.1 1423.18 L10314.1 1423.18 L10314.1 1423.18  Z\" fill=\"#009af9\" fill-rule=\"evenodd\" fill-opacity=\"1\"/>\n",
       "<polyline clip-path=\"url(#clip952)\" style=\"stroke:#000000; stroke-linecap:round; stroke-linejoin:round; stroke-width:4; stroke-opacity:1; fill:none\" points=\"10314.1,1423.18 10314.1,1423.18 10359.1,1423.18 10314.1,1423.18 \"/>\n",
       "<path clip-path=\"url(#clip952)\" d=\"M10359.1 1423.18 L10359.1 1423.18 L10404.2 1423.18 L10404.2 1423.18 L10359.1 1423.18 L10359.1 1423.18  Z\" fill=\"#009af9\" fill-rule=\"evenodd\" fill-opacity=\"1\"/>\n",
       "<polyline clip-path=\"url(#clip952)\" style=\"stroke:#000000; stroke-linecap:round; stroke-linejoin:round; stroke-width:4; stroke-opacity:1; fill:none\" points=\"10359.1,1423.18 10359.1,1423.18 10404.2,1423.18 10359.1,1423.18 \"/>\n",
       "<path clip-path=\"url(#clip952)\" d=\"M10404.2 1423.18 L10404.2 1423.18 L10449.2 1423.18 L10449.2 1423.18 L10404.2 1423.18 L10404.2 1423.18  Z\" fill=\"#009af9\" fill-rule=\"evenodd\" fill-opacity=\"1\"/>\n",
       "<polyline clip-path=\"url(#clip952)\" style=\"stroke:#000000; stroke-linecap:round; stroke-linejoin:round; stroke-width:4; stroke-opacity:1; fill:none\" points=\"10404.2,1423.18 10404.2,1423.18 10449.2,1423.18 10404.2,1423.18 \"/>\n",
       "<path clip-path=\"url(#clip952)\" d=\"M10449.2 1423.18 L10449.2 1423.18 L10494.2 1423.18 L10494.2 1423.18 L10449.2 1423.18 L10449.2 1423.18  Z\" fill=\"#009af9\" fill-rule=\"evenodd\" fill-opacity=\"1\"/>\n",
       "<polyline clip-path=\"url(#clip952)\" style=\"stroke:#000000; stroke-linecap:round; stroke-linejoin:round; stroke-width:4; stroke-opacity:1; fill:none\" points=\"10449.2,1423.18 10449.2,1423.18 10494.2,1423.18 10449.2,1423.18 \"/>\n",
       "<path clip-path=\"url(#clip952)\" d=\"M10494.2 1423.18 L10494.2 1423.18 L10539.3 1423.18 L10539.3 1423.18 L10494.2 1423.18 L10494.2 1423.18  Z\" fill=\"#009af9\" fill-rule=\"evenodd\" fill-opacity=\"1\"/>\n",
       "<polyline clip-path=\"url(#clip952)\" style=\"stroke:#000000; stroke-linecap:round; stroke-linejoin:round; stroke-width:4; stroke-opacity:1; fill:none\" points=\"10494.2,1423.18 10494.2,1423.18 10539.3,1423.18 10494.2,1423.18 \"/>\n",
       "<path clip-path=\"url(#clip952)\" d=\"M10539.3 1423.18 L10539.3 1423.18 L10584.3 1423.18 L10584.3 1423.18 L10539.3 1423.18 L10539.3 1423.18  Z\" fill=\"#009af9\" fill-rule=\"evenodd\" fill-opacity=\"1\"/>\n",
       "<polyline clip-path=\"url(#clip952)\" style=\"stroke:#000000; stroke-linecap:round; stroke-linejoin:round; stroke-width:4; stroke-opacity:1; fill:none\" points=\"10539.3,1423.18 10539.3,1423.18 10584.3,1423.18 10539.3,1423.18 \"/>\n",
       "<path clip-path=\"url(#clip952)\" d=\"M10584.3 1423.18 L10584.3 1423.18 L10629.3 1423.18 L10629.3 1423.18 L10584.3 1423.18 L10584.3 1423.18  Z\" fill=\"#009af9\" fill-rule=\"evenodd\" fill-opacity=\"1\"/>\n",
       "<polyline clip-path=\"url(#clip952)\" style=\"stroke:#000000; stroke-linecap:round; stroke-linejoin:round; stroke-width:4; stroke-opacity:1; fill:none\" points=\"10584.3,1423.18 10584.3,1423.18 10629.3,1423.18 10584.3,1423.18 \"/>\n",
       "<path clip-path=\"url(#clip952)\" d=\"M10629.3 1423.18 L10629.3 1423.18 L10674.4 1423.18 L10674.4 1423.18 L10629.3 1423.18 L10629.3 1423.18  Z\" fill=\"#009af9\" fill-rule=\"evenodd\" fill-opacity=\"1\"/>\n",
       "<polyline clip-path=\"url(#clip952)\" style=\"stroke:#000000; stroke-linecap:round; stroke-linejoin:round; stroke-width:4; stroke-opacity:1; fill:none\" points=\"10629.3,1423.18 10629.3,1423.18 10674.4,1423.18 10629.3,1423.18 \"/>\n",
       "<path clip-path=\"url(#clip952)\" d=\"M10674.4 1423.18 L10674.4 1423.18 L10719.4 1423.18 L10719.4 1423.18 L10674.4 1423.18 L10674.4 1423.18  Z\" fill=\"#009af9\" fill-rule=\"evenodd\" fill-opacity=\"1\"/>\n",
       "<polyline clip-path=\"url(#clip952)\" style=\"stroke:#000000; stroke-linecap:round; stroke-linejoin:round; stroke-width:4; stroke-opacity:1; fill:none\" points=\"10674.4,1423.18 10674.4,1423.18 10719.4,1423.18 10674.4,1423.18 \"/>\n",
       "<path clip-path=\"url(#clip952)\" d=\"M10719.4 1423.18 L10719.4 1423.18 L10764.5 1423.18 L10764.5 1423.18 L10719.4 1423.18 L10719.4 1423.18  Z\" fill=\"#009af9\" fill-rule=\"evenodd\" fill-opacity=\"1\"/>\n",
       "<polyline clip-path=\"url(#clip952)\" style=\"stroke:#000000; stroke-linecap:round; stroke-linejoin:round; stroke-width:4; stroke-opacity:1; fill:none\" points=\"10719.4,1423.18 10719.4,1423.18 10764.5,1423.18 10719.4,1423.18 \"/>\n",
       "<path clip-path=\"url(#clip952)\" d=\"M10764.5 1423.18 L10764.5 1423.18 L10809.5 1423.18 L10809.5 1423.18 L10764.5 1423.18 L10764.5 1423.18  Z\" fill=\"#009af9\" fill-rule=\"evenodd\" fill-opacity=\"1\"/>\n",
       "<polyline clip-path=\"url(#clip952)\" style=\"stroke:#000000; stroke-linecap:round; stroke-linejoin:round; stroke-width:4; stroke-opacity:1; fill:none\" points=\"10764.5,1423.18 10764.5,1423.18 10809.5,1423.18 10764.5,1423.18 \"/>\n",
       "<path clip-path=\"url(#clip952)\" d=\"M10809.5 1423.18 L10809.5 1423.18 L10854.5 1423.18 L10854.5 1423.18 L10809.5 1423.18 L10809.5 1423.18  Z\" fill=\"#009af9\" fill-rule=\"evenodd\" fill-opacity=\"1\"/>\n",
       "<polyline clip-path=\"url(#clip952)\" style=\"stroke:#000000; stroke-linecap:round; stroke-linejoin:round; stroke-width:4; stroke-opacity:1; fill:none\" points=\"10809.5,1423.18 10809.5,1423.18 10854.5,1423.18 10809.5,1423.18 \"/>\n",
       "<path clip-path=\"url(#clip952)\" d=\"M10854.5 1423.18 L10854.5 1423.18 L10899.6 1423.18 L10899.6 1423.18 L10854.5 1423.18 L10854.5 1423.18  Z\" fill=\"#009af9\" fill-rule=\"evenodd\" fill-opacity=\"1\"/>\n",
       "<polyline clip-path=\"url(#clip952)\" style=\"stroke:#000000; stroke-linecap:round; stroke-linejoin:round; stroke-width:4; stroke-opacity:1; fill:none\" points=\"10854.5,1423.18 10854.5,1423.18 10899.6,1423.18 10854.5,1423.18 \"/>\n",
       "<path clip-path=\"url(#clip952)\" d=\"M10899.6 1423.18 L10899.6 1423.18 L10944.6 1423.18 L10944.6 1423.18 L10899.6 1423.18 L10899.6 1423.18  Z\" fill=\"#009af9\" fill-rule=\"evenodd\" fill-opacity=\"1\"/>\n",
       "<polyline clip-path=\"url(#clip952)\" style=\"stroke:#000000; stroke-linecap:round; stroke-linejoin:round; stroke-width:4; stroke-opacity:1; fill:none\" points=\"10899.6,1423.18 10899.6,1423.18 10944.6,1423.18 10899.6,1423.18 \"/>\n",
       "<path clip-path=\"url(#clip952)\" d=\"M10944.6 1423.18 L10944.6 1423.18 L10989.6 1423.18 L10989.6 1423.18 L10944.6 1423.18 L10944.6 1423.18  Z\" fill=\"#009af9\" fill-rule=\"evenodd\" fill-opacity=\"1\"/>\n",
       "<polyline clip-path=\"url(#clip952)\" style=\"stroke:#000000; stroke-linecap:round; stroke-linejoin:round; stroke-width:4; stroke-opacity:1; fill:none\" points=\"10944.6,1423.18 10944.6,1423.18 10989.6,1423.18 10944.6,1423.18 \"/>\n",
       "<path clip-path=\"url(#clip952)\" d=\"M10989.6 1423.18 L10989.6 1423.18 L11034.7 1423.18 L11034.7 1423.18 L10989.6 1423.18 L10989.6 1423.18  Z\" fill=\"#009af9\" fill-rule=\"evenodd\" fill-opacity=\"1\"/>\n",
       "<polyline clip-path=\"url(#clip952)\" style=\"stroke:#000000; stroke-linecap:round; stroke-linejoin:round; stroke-width:4; stroke-opacity:1; fill:none\" points=\"10989.6,1423.18 10989.6,1423.18 11034.7,1423.18 10989.6,1423.18 \"/>\n",
       "<path clip-path=\"url(#clip952)\" d=\"M11034.7 1423.18 L11034.7 1423.18 L11079.7 1423.18 L11079.7 1423.18 L11034.7 1423.18 L11034.7 1423.18  Z\" fill=\"#009af9\" fill-rule=\"evenodd\" fill-opacity=\"1\"/>\n",
       "<polyline clip-path=\"url(#clip952)\" style=\"stroke:#000000; stroke-linecap:round; stroke-linejoin:round; stroke-width:4; stroke-opacity:1; fill:none\" points=\"11034.7,1423.18 11034.7,1423.18 11079.7,1423.18 11034.7,1423.18 \"/>\n",
       "<path clip-path=\"url(#clip952)\" d=\"M11079.7 1423.18 L11079.7 1423.18 L11124.8 1423.18 L11124.8 1423.18 L11079.7 1423.18 L11079.7 1423.18  Z\" fill=\"#009af9\" fill-rule=\"evenodd\" fill-opacity=\"1\"/>\n",
       "<polyline clip-path=\"url(#clip952)\" style=\"stroke:#000000; stroke-linecap:round; stroke-linejoin:round; stroke-width:4; stroke-opacity:1; fill:none\" points=\"11079.7,1423.18 11079.7,1423.18 11124.8,1423.18 11079.7,1423.18 \"/>\n",
       "<path clip-path=\"url(#clip952)\" d=\"M11124.8 1423.18 L11124.8 1423.18 L11169.8 1423.18 L11169.8 1423.18 L11124.8 1423.18 L11124.8 1423.18  Z\" fill=\"#009af9\" fill-rule=\"evenodd\" fill-opacity=\"1\"/>\n",
       "<polyline clip-path=\"url(#clip952)\" style=\"stroke:#000000; stroke-linecap:round; stroke-linejoin:round; stroke-width:4; stroke-opacity:1; fill:none\" points=\"11124.8,1423.18 11124.8,1423.18 11169.8,1423.18 11124.8,1423.18 \"/>\n",
       "<path clip-path=\"url(#clip952)\" d=\"M11169.8 1423.18 L11169.8 1423.18 L11214.8 1423.18 L11214.8 1423.18 L11169.8 1423.18 L11169.8 1423.18  Z\" fill=\"#009af9\" fill-rule=\"evenodd\" fill-opacity=\"1\"/>\n",
       "<polyline clip-path=\"url(#clip952)\" style=\"stroke:#000000; stroke-linecap:round; stroke-linejoin:round; stroke-width:4; stroke-opacity:1; fill:none\" points=\"11169.8,1423.18 11169.8,1423.18 11214.8,1423.18 11169.8,1423.18 \"/>\n",
       "<path clip-path=\"url(#clip952)\" d=\"M11214.8 1423.18 L11214.8 1423.18 L11259.9 1423.18 L11259.9 1423.18 L11214.8 1423.18 L11214.8 1423.18  Z\" fill=\"#009af9\" fill-rule=\"evenodd\" fill-opacity=\"1\"/>\n",
       "<polyline clip-path=\"url(#clip952)\" style=\"stroke:#000000; stroke-linecap:round; stroke-linejoin:round; stroke-width:4; stroke-opacity:1; fill:none\" points=\"11214.8,1423.18 11214.8,1423.18 11259.9,1423.18 11214.8,1423.18 \"/>\n",
       "<path clip-path=\"url(#clip952)\" d=\"M11259.9 1423.18 L11259.9 1423.18 L11304.9 1423.18 L11304.9 1423.18 L11259.9 1423.18 L11259.9 1423.18  Z\" fill=\"#009af9\" fill-rule=\"evenodd\" fill-opacity=\"1\"/>\n",
       "<polyline clip-path=\"url(#clip952)\" style=\"stroke:#000000; stroke-linecap:round; stroke-linejoin:round; stroke-width:4; stroke-opacity:1; fill:none\" points=\"11259.9,1423.18 11259.9,1423.18 11304.9,1423.18 11259.9,1423.18 \"/>\n",
       "<path clip-path=\"url(#clip952)\" d=\"M11304.9 1423.18 L11304.9 1423.18 L11349.9 1423.18 L11349.9 1423.18 L11304.9 1423.18 L11304.9 1423.18  Z\" fill=\"#009af9\" fill-rule=\"evenodd\" fill-opacity=\"1\"/>\n",
       "<polyline clip-path=\"url(#clip952)\" style=\"stroke:#000000; stroke-linecap:round; stroke-linejoin:round; stroke-width:4; stroke-opacity:1; fill:none\" points=\"11304.9,1423.18 11304.9,1423.18 11349.9,1423.18 11304.9,1423.18 \"/>\n",
       "<path clip-path=\"url(#clip952)\" d=\"M11349.9 1423.18 L11349.9 1423.18 L11395 1423.18 L11395 1423.18 L11349.9 1423.18 L11349.9 1423.18  Z\" fill=\"#009af9\" fill-rule=\"evenodd\" fill-opacity=\"1\"/>\n",
       "<polyline clip-path=\"url(#clip952)\" style=\"stroke:#000000; stroke-linecap:round; stroke-linejoin:round; stroke-width:4; stroke-opacity:1; fill:none\" points=\"11349.9,1423.18 11349.9,1423.18 11395,1423.18 11349.9,1423.18 \"/>\n",
       "<path clip-path=\"url(#clip952)\" d=\"M11395 1423.18 L11395 1423.18 L11440 1423.18 L11440 1423.18 L11395 1423.18 L11395 1423.18  Z\" fill=\"#009af9\" fill-rule=\"evenodd\" fill-opacity=\"1\"/>\n",
       "<polyline clip-path=\"url(#clip952)\" style=\"stroke:#000000; stroke-linecap:round; stroke-linejoin:round; stroke-width:4; stroke-opacity:1; fill:none\" points=\"11395,1423.18 11395,1423.18 11440,1423.18 11395,1423.18 \"/>\n",
       "<path clip-path=\"url(#clip952)\" d=\"M11440 1423.18 L11440 1423.18 L11485.1 1423.18 L11485.1 1423.18 L11440 1423.18 L11440 1423.18  Z\" fill=\"#009af9\" fill-rule=\"evenodd\" fill-opacity=\"1\"/>\n",
       "<polyline clip-path=\"url(#clip952)\" style=\"stroke:#000000; stroke-linecap:round; stroke-linejoin:round; stroke-width:4; stroke-opacity:1; fill:none\" points=\"11440,1423.18 11440,1423.18 11485.1,1423.18 11440,1423.18 \"/>\n",
       "<path clip-path=\"url(#clip952)\" d=\"M11485.1 1423.18 L11485.1 1423.18 L11530.1 1423.18 L11530.1 1423.18 L11485.1 1423.18 L11485.1 1423.18  Z\" fill=\"#009af9\" fill-rule=\"evenodd\" fill-opacity=\"1\"/>\n",
       "<polyline clip-path=\"url(#clip952)\" style=\"stroke:#000000; stroke-linecap:round; stroke-linejoin:round; stroke-width:4; stroke-opacity:1; fill:none\" points=\"11485.1,1423.18 11485.1,1423.18 11530.1,1423.18 11485.1,1423.18 \"/>\n",
       "<path clip-path=\"url(#clip952)\" d=\"M11530.1 1423.18 L11530.1 1423.18 L11575.1 1423.18 L11575.1 1423.18 L11530.1 1423.18 L11530.1 1423.18  Z\" fill=\"#009af9\" fill-rule=\"evenodd\" fill-opacity=\"1\"/>\n",
       "<polyline clip-path=\"url(#clip952)\" style=\"stroke:#000000; stroke-linecap:round; stroke-linejoin:round; stroke-width:4; stroke-opacity:1; fill:none\" points=\"11530.1,1423.18 11530.1,1423.18 11575.1,1423.18 11530.1,1423.18 \"/>\n",
       "<path clip-path=\"url(#clip952)\" d=\"M11575.1 1423.18 L11575.1 1423.18 L11620.2 1423.18 L11620.2 1423.18 L11575.1 1423.18 L11575.1 1423.18  Z\" fill=\"#009af9\" fill-rule=\"evenodd\" fill-opacity=\"1\"/>\n",
       "<polyline clip-path=\"url(#clip952)\" style=\"stroke:#000000; stroke-linecap:round; stroke-linejoin:round; stroke-width:4; stroke-opacity:1; fill:none\" points=\"11575.1,1423.18 11575.1,1423.18 11620.2,1423.18 11575.1,1423.18 \"/>\n",
       "<path clip-path=\"url(#clip952)\" d=\"M11620.2 1423.18 L11620.2 1423.18 L11665.2 1423.18 L11665.2 1423.18 L11620.2 1423.18 L11620.2 1423.18  Z\" fill=\"#009af9\" fill-rule=\"evenodd\" fill-opacity=\"1\"/>\n",
       "<polyline clip-path=\"url(#clip952)\" style=\"stroke:#000000; stroke-linecap:round; stroke-linejoin:round; stroke-width:4; stroke-opacity:1; fill:none\" points=\"11620.2,1423.18 11620.2,1423.18 11665.2,1423.18 11620.2,1423.18 \"/>\n",
       "<path clip-path=\"url(#clip952)\" d=\"M11665.2 1423.18 L11665.2 1423.18 L11710.2 1423.18 L11710.2 1423.18 L11665.2 1423.18 L11665.2 1423.18  Z\" fill=\"#009af9\" fill-rule=\"evenodd\" fill-opacity=\"1\"/>\n",
       "<polyline clip-path=\"url(#clip952)\" style=\"stroke:#000000; stroke-linecap:round; stroke-linejoin:round; stroke-width:4; stroke-opacity:1; fill:none\" points=\"11665.2,1423.18 11665.2,1423.18 11710.2,1423.18 11665.2,1423.18 \"/>\n",
       "<path clip-path=\"url(#clip952)\" d=\"M11710.2 1423.18 L11710.2 1423.18 L11755.3 1423.18 L11755.3 1423.18 L11710.2 1423.18 L11710.2 1423.18  Z\" fill=\"#009af9\" fill-rule=\"evenodd\" fill-opacity=\"1\"/>\n",
       "<polyline clip-path=\"url(#clip952)\" style=\"stroke:#000000; stroke-linecap:round; stroke-linejoin:round; stroke-width:4; stroke-opacity:1; fill:none\" points=\"11710.2,1423.18 11710.2,1423.18 11755.3,1423.18 11710.2,1423.18 \"/>\n",
       "<path clip-path=\"url(#clip952)\" d=\"M11755.3 1423.18 L11755.3 1423.18 L11800.3 1423.18 L11800.3 1423.18 L11755.3 1423.18 L11755.3 1423.18  Z\" fill=\"#009af9\" fill-rule=\"evenodd\" fill-opacity=\"1\"/>\n",
       "<polyline clip-path=\"url(#clip952)\" style=\"stroke:#000000; stroke-linecap:round; stroke-linejoin:round; stroke-width:4; stroke-opacity:1; fill:none\" points=\"11755.3,1423.18 11755.3,1423.18 11800.3,1423.18 11755.3,1423.18 \"/>\n",
       "<path clip-path=\"url(#clip952)\" d=\"M11800.3 1423.18 L11800.3 1423.18 L11845.3 1423.18 L11845.3 1423.18 L11800.3 1423.18 L11800.3 1423.18  Z\" fill=\"#009af9\" fill-rule=\"evenodd\" fill-opacity=\"1\"/>\n",
       "<polyline clip-path=\"url(#clip952)\" style=\"stroke:#000000; stroke-linecap:round; stroke-linejoin:round; stroke-width:4; stroke-opacity:1; fill:none\" points=\"11800.3,1423.18 11800.3,1423.18 11845.3,1423.18 11800.3,1423.18 \"/>\n",
       "<path clip-path=\"url(#clip952)\" d=\"M11845.3 1423.18 L11845.3 1423.18 L11890.4 1423.18 L11890.4 1423.18 L11845.3 1423.18 L11845.3 1423.18  Z\" fill=\"#009af9\" fill-rule=\"evenodd\" fill-opacity=\"1\"/>\n",
       "<polyline clip-path=\"url(#clip952)\" style=\"stroke:#000000; stroke-linecap:round; stroke-linejoin:round; stroke-width:4; stroke-opacity:1; fill:none\" points=\"11845.3,1423.18 11845.3,1423.18 11890.4,1423.18 11845.3,1423.18 \"/>\n",
       "<path clip-path=\"url(#clip952)\" d=\"M11890.4 1423.18 L11890.4 1423.18 L11935.4 1423.18 L11935.4 1423.18 L11890.4 1423.18 L11890.4 1423.18  Z\" fill=\"#009af9\" fill-rule=\"evenodd\" fill-opacity=\"1\"/>\n",
       "<polyline clip-path=\"url(#clip952)\" style=\"stroke:#000000; stroke-linecap:round; stroke-linejoin:round; stroke-width:4; stroke-opacity:1; fill:none\" points=\"11890.4,1423.18 11890.4,1423.18 11935.4,1423.18 11890.4,1423.18 \"/>\n",
       "<path clip-path=\"url(#clip952)\" d=\"M11935.4 1423.18 L11935.4 1423.18 L11980.5 1423.18 L11980.5 1423.18 L11935.4 1423.18 L11935.4 1423.18  Z\" fill=\"#009af9\" fill-rule=\"evenodd\" fill-opacity=\"1\"/>\n",
       "<polyline clip-path=\"url(#clip952)\" style=\"stroke:#000000; stroke-linecap:round; stroke-linejoin:round; stroke-width:4; stroke-opacity:1; fill:none\" points=\"11935.4,1423.18 11935.4,1423.18 11980.5,1423.18 11935.4,1423.18 \"/>\n",
       "<path clip-path=\"url(#clip952)\" d=\"M11980.5 1423.18 L11980.5 1423.18 L12025.5 1423.18 L12025.5 1423.18 L11980.5 1423.18 L11980.5 1423.18  Z\" fill=\"#009af9\" fill-rule=\"evenodd\" fill-opacity=\"1\"/>\n",
       "<polyline clip-path=\"url(#clip952)\" style=\"stroke:#000000; stroke-linecap:round; stroke-linejoin:round; stroke-width:4; stroke-opacity:1; fill:none\" points=\"11980.5,1423.18 11980.5,1423.18 12025.5,1423.18 11980.5,1423.18 \"/>\n",
       "<path clip-path=\"url(#clip952)\" d=\"M12025.5 1423.18 L12025.5 1423.18 L12070.5 1423.18 L12070.5 1423.18 L12025.5 1423.18 L12025.5 1423.18  Z\" fill=\"#009af9\" fill-rule=\"evenodd\" fill-opacity=\"1\"/>\n",
       "<polyline clip-path=\"url(#clip952)\" style=\"stroke:#000000; stroke-linecap:round; stroke-linejoin:round; stroke-width:4; stroke-opacity:1; fill:none\" points=\"12025.5,1423.18 12025.5,1423.18 12070.5,1423.18 12025.5,1423.18 \"/>\n",
       "<path clip-path=\"url(#clip952)\" d=\"M12070.5 1395.66 L12070.5 1423.18 L12115.6 1423.18 L12115.6 1395.66 L12070.5 1395.66 L12070.5 1395.66  Z\" fill=\"#009af9\" fill-rule=\"evenodd\" fill-opacity=\"1\"/>\n",
       "<polyline clip-path=\"url(#clip952)\" style=\"stroke:#000000; stroke-linecap:round; stroke-linejoin:round; stroke-width:4; stroke-opacity:1; fill:none\" points=\"12070.5,1395.66 12070.5,1423.18 12115.6,1423.18 12115.6,1395.66 12070.5,1395.66 \"/>\n",
       "<path clip-path=\"url(#clip952)\" d=\"M12115.6 1423.18 L12115.6 1423.18 L12160.6 1423.18 L12160.6 1423.18 L12115.6 1423.18 L12115.6 1423.18  Z\" fill=\"#009af9\" fill-rule=\"evenodd\" fill-opacity=\"1\"/>\n",
       "<polyline clip-path=\"url(#clip952)\" style=\"stroke:#000000; stroke-linecap:round; stroke-linejoin:round; stroke-width:4; stroke-opacity:1; fill:none\" points=\"12115.6,1423.18 12115.6,1423.18 12160.6,1423.18 12115.6,1423.18 \"/>\n",
       "<path clip-path=\"url(#clip952)\" d=\"M12160.6 1423.18 L12160.6 1423.18 L12205.6 1423.18 L12205.6 1423.18 L12160.6 1423.18 L12160.6 1423.18  Z\" fill=\"#009af9\" fill-rule=\"evenodd\" fill-opacity=\"1\"/>\n",
       "<polyline clip-path=\"url(#clip952)\" style=\"stroke:#000000; stroke-linecap:round; stroke-linejoin:round; stroke-width:4; stroke-opacity:1; fill:none\" points=\"12160.6,1423.18 12160.6,1423.18 12205.6,1423.18 12160.6,1423.18 \"/>\n",
       "<path clip-path=\"url(#clip952)\" d=\"M12205.6 1423.18 L12205.6 1423.18 L12250.7 1423.18 L12250.7 1423.18 L12205.6 1423.18 L12205.6 1423.18  Z\" fill=\"#009af9\" fill-rule=\"evenodd\" fill-opacity=\"1\"/>\n",
       "<polyline clip-path=\"url(#clip952)\" style=\"stroke:#000000; stroke-linecap:round; stroke-linejoin:round; stroke-width:4; stroke-opacity:1; fill:none\" points=\"12205.6,1423.18 12205.6,1423.18 12250.7,1423.18 12205.6,1423.18 \"/>\n",
       "<path clip-path=\"url(#clip952)\" d=\"M12250.7 1395.66 L12250.7 1423.18 L12295.7 1423.18 L12295.7 1395.66 L12250.7 1395.66 L12250.7 1395.66  Z\" fill=\"#009af9\" fill-rule=\"evenodd\" fill-opacity=\"1\"/>\n",
       "<polyline clip-path=\"url(#clip952)\" style=\"stroke:#000000; stroke-linecap:round; stroke-linejoin:round; stroke-width:4; stroke-opacity:1; fill:none\" points=\"12250.7,1395.66 12250.7,1423.18 12295.7,1423.18 12295.7,1395.66 12250.7,1395.66 \"/>\n",
       "<path clip-path=\"url(#clip952)\" d=\"M12295.7 1423.18 L12295.7 1423.18 L12340.8 1423.18 L12340.8 1423.18 L12295.7 1423.18 L12295.7 1423.18  Z\" fill=\"#009af9\" fill-rule=\"evenodd\" fill-opacity=\"1\"/>\n",
       "<polyline clip-path=\"url(#clip952)\" style=\"stroke:#000000; stroke-linecap:round; stroke-linejoin:round; stroke-width:4; stroke-opacity:1; fill:none\" points=\"12295.7,1423.18 12295.7,1423.18 12340.8,1423.18 12295.7,1423.18 \"/>\n",
       "<path clip-path=\"url(#clip952)\" d=\"M12340.8 1423.18 L12340.8 1423.18 L12385.8 1423.18 L12385.8 1423.18 L12340.8 1423.18 L12340.8 1423.18  Z\" fill=\"#009af9\" fill-rule=\"evenodd\" fill-opacity=\"1\"/>\n",
       "<polyline clip-path=\"url(#clip952)\" style=\"stroke:#000000; stroke-linecap:round; stroke-linejoin:round; stroke-width:4; stroke-opacity:1; fill:none\" points=\"12340.8,1423.18 12340.8,1423.18 12385.8,1423.18 12340.8,1423.18 \"/>\n",
       "<path clip-path=\"url(#clip952)\" d=\"M12385.8 1423.18 L12385.8 1423.18 L12430.8 1423.18 L12430.8 1423.18 L12385.8 1423.18 L12385.8 1423.18  Z\" fill=\"#009af9\" fill-rule=\"evenodd\" fill-opacity=\"1\"/>\n",
       "<polyline clip-path=\"url(#clip952)\" style=\"stroke:#000000; stroke-linecap:round; stroke-linejoin:round; stroke-width:4; stroke-opacity:1; fill:none\" points=\"12385.8,1423.18 12385.8,1423.18 12430.8,1423.18 12385.8,1423.18 \"/>\n",
       "<path clip-path=\"url(#clip952)\" d=\"M12430.8 1423.18 L12430.8 1423.18 L12475.9 1423.18 L12475.9 1423.18 L12430.8 1423.18 L12430.8 1423.18  Z\" fill=\"#009af9\" fill-rule=\"evenodd\" fill-opacity=\"1\"/>\n",
       "<polyline clip-path=\"url(#clip952)\" style=\"stroke:#000000; stroke-linecap:round; stroke-linejoin:round; stroke-width:4; stroke-opacity:1; fill:none\" points=\"12430.8,1423.18 12430.8,1423.18 12475.9,1423.18 12430.8,1423.18 \"/>\n",
       "<path clip-path=\"url(#clip952)\" d=\"M12475.9 1423.18 L12475.9 1423.18 L12520.9 1423.18 L12520.9 1423.18 L12475.9 1423.18 L12475.9 1423.18  Z\" fill=\"#009af9\" fill-rule=\"evenodd\" fill-opacity=\"1\"/>\n",
       "<polyline clip-path=\"url(#clip952)\" style=\"stroke:#000000; stroke-linecap:round; stroke-linejoin:round; stroke-width:4; stroke-opacity:1; fill:none\" points=\"12475.9,1423.18 12475.9,1423.18 12520.9,1423.18 12475.9,1423.18 \"/>\n",
       "<path clip-path=\"url(#clip952)\" d=\"M12520.9 1423.18 L12520.9 1423.18 L12565.9 1423.18 L12565.9 1423.18 L12520.9 1423.18 L12520.9 1423.18  Z\" fill=\"#009af9\" fill-rule=\"evenodd\" fill-opacity=\"1\"/>\n",
       "<polyline clip-path=\"url(#clip952)\" style=\"stroke:#000000; stroke-linecap:round; stroke-linejoin:round; stroke-width:4; stroke-opacity:1; fill:none\" points=\"12520.9,1423.18 12520.9,1423.18 12565.9,1423.18 12520.9,1423.18 \"/>\n",
       "<path clip-path=\"url(#clip952)\" d=\"M12565.9 1423.18 L12565.9 1423.18 L12611 1423.18 L12611 1423.18 L12565.9 1423.18 L12565.9 1423.18  Z\" fill=\"#009af9\" fill-rule=\"evenodd\" fill-opacity=\"1\"/>\n",
       "<polyline clip-path=\"url(#clip952)\" style=\"stroke:#000000; stroke-linecap:round; stroke-linejoin:round; stroke-width:4; stroke-opacity:1; fill:none\" points=\"12565.9,1423.18 12565.9,1423.18 12611,1423.18 12565.9,1423.18 \"/>\n",
       "<path clip-path=\"url(#clip952)\" d=\"M12611 1423.18 L12611 1423.18 L12656 1423.18 L12656 1423.18 L12611 1423.18 L12611 1423.18  Z\" fill=\"#009af9\" fill-rule=\"evenodd\" fill-opacity=\"1\"/>\n",
       "<polyline clip-path=\"url(#clip952)\" style=\"stroke:#000000; stroke-linecap:round; stroke-linejoin:round; stroke-width:4; stroke-opacity:1; fill:none\" points=\"12611,1423.18 12611,1423.18 12656,1423.18 12611,1423.18 \"/>\n",
       "<path clip-path=\"url(#clip952)\" d=\"M12656 1423.18 L12656 1423.18 L12701.1 1423.18 L12701.1 1423.18 L12656 1423.18 L12656 1423.18  Z\" fill=\"#009af9\" fill-rule=\"evenodd\" fill-opacity=\"1\"/>\n",
       "<polyline clip-path=\"url(#clip952)\" style=\"stroke:#000000; stroke-linecap:round; stroke-linejoin:round; stroke-width:4; stroke-opacity:1; fill:none\" points=\"12656,1423.18 12656,1423.18 12701.1,1423.18 12656,1423.18 \"/>\n",
       "<path clip-path=\"url(#clip952)\" d=\"M12701.1 1423.18 L12701.1 1423.18 L12746.1 1423.18 L12746.1 1423.18 L12701.1 1423.18 L12701.1 1423.18  Z\" fill=\"#009af9\" fill-rule=\"evenodd\" fill-opacity=\"1\"/>\n",
       "<polyline clip-path=\"url(#clip952)\" style=\"stroke:#000000; stroke-linecap:round; stroke-linejoin:round; stroke-width:4; stroke-opacity:1; fill:none\" points=\"12701.1,1423.18 12701.1,1423.18 12746.1,1423.18 12701.1,1423.18 \"/>\n",
       "<path clip-path=\"url(#clip952)\" d=\"M12746.1 1423.18 L12746.1 1423.18 L12791.1 1423.18 L12791.1 1423.18 L12746.1 1423.18 L12746.1 1423.18  Z\" fill=\"#009af9\" fill-rule=\"evenodd\" fill-opacity=\"1\"/>\n",
       "<polyline clip-path=\"url(#clip952)\" style=\"stroke:#000000; stroke-linecap:round; stroke-linejoin:round; stroke-width:4; stroke-opacity:1; fill:none\" points=\"12746.1,1423.18 12746.1,1423.18 12791.1,1423.18 12746.1,1423.18 \"/>\n",
       "<path clip-path=\"url(#clip952)\" d=\"M12791.1 1423.18 L12791.1 1423.18 L12836.2 1423.18 L12836.2 1423.18 L12791.1 1423.18 L12791.1 1423.18  Z\" fill=\"#009af9\" fill-rule=\"evenodd\" fill-opacity=\"1\"/>\n",
       "<polyline clip-path=\"url(#clip952)\" style=\"stroke:#000000; stroke-linecap:round; stroke-linejoin:round; stroke-width:4; stroke-opacity:1; fill:none\" points=\"12791.1,1423.18 12791.1,1423.18 12836.2,1423.18 12791.1,1423.18 \"/>\n",
       "<path clip-path=\"url(#clip952)\" d=\"M12836.2 1423.18 L12836.2 1423.18 L12881.2 1423.18 L12881.2 1423.18 L12836.2 1423.18 L12836.2 1423.18  Z\" fill=\"#009af9\" fill-rule=\"evenodd\" fill-opacity=\"1\"/>\n",
       "<polyline clip-path=\"url(#clip952)\" style=\"stroke:#000000; stroke-linecap:round; stroke-linejoin:round; stroke-width:4; stroke-opacity:1; fill:none\" points=\"12836.2,1423.18 12836.2,1423.18 12881.2,1423.18 12836.2,1423.18 \"/>\n",
       "<path clip-path=\"url(#clip952)\" d=\"M12881.2 1423.18 L12881.2 1423.18 L12926.2 1423.18 L12926.2 1423.18 L12881.2 1423.18 L12881.2 1423.18  Z\" fill=\"#009af9\" fill-rule=\"evenodd\" fill-opacity=\"1\"/>\n",
       "<polyline clip-path=\"url(#clip952)\" style=\"stroke:#000000; stroke-linecap:round; stroke-linejoin:round; stroke-width:4; stroke-opacity:1; fill:none\" points=\"12881.2,1423.18 12881.2,1423.18 12926.2,1423.18 12881.2,1423.18 \"/>\n",
       "<path clip-path=\"url(#clip952)\" d=\"M12926.2 1423.18 L12926.2 1423.18 L12971.3 1423.18 L12971.3 1423.18 L12926.2 1423.18 L12926.2 1423.18  Z\" fill=\"#009af9\" fill-rule=\"evenodd\" fill-opacity=\"1\"/>\n",
       "<polyline clip-path=\"url(#clip952)\" style=\"stroke:#000000; stroke-linecap:round; stroke-linejoin:round; stroke-width:4; stroke-opacity:1; fill:none\" points=\"12926.2,1423.18 12926.2,1423.18 12971.3,1423.18 12926.2,1423.18 \"/>\n",
       "<path clip-path=\"url(#clip952)\" d=\"M12971.3 1395.66 L12971.3 1423.18 L13016.3 1423.18 L13016.3 1395.66 L12971.3 1395.66 L12971.3 1395.66  Z\" fill=\"#009af9\" fill-rule=\"evenodd\" fill-opacity=\"1\"/>\n",
       "<polyline clip-path=\"url(#clip952)\" style=\"stroke:#000000; stroke-linecap:round; stroke-linejoin:round; stroke-width:4; stroke-opacity:1; fill:none\" points=\"12971.3,1395.66 12971.3,1423.18 13016.3,1423.18 13016.3,1395.66 12971.3,1395.66 \"/>\n",
       "<path clip-path=\"url(#clip952)\" d=\"M13016.3 1423.18 L13016.3 1423.18 L13061.4 1423.18 L13061.4 1423.18 L13016.3 1423.18 L13016.3 1423.18  Z\" fill=\"#009af9\" fill-rule=\"evenodd\" fill-opacity=\"1\"/>\n",
       "<polyline clip-path=\"url(#clip952)\" style=\"stroke:#000000; stroke-linecap:round; stroke-linejoin:round; stroke-width:4; stroke-opacity:1; fill:none\" points=\"13016.3,1423.18 13016.3,1423.18 13061.4,1423.18 13016.3,1423.18 \"/>\n",
       "<path clip-path=\"url(#clip952)\" d=\"M13061.4 1423.18 L13061.4 1423.18 L13106.4 1423.18 L13106.4 1423.18 L13061.4 1423.18 L13061.4 1423.18  Z\" fill=\"#009af9\" fill-rule=\"evenodd\" fill-opacity=\"1\"/>\n",
       "<polyline clip-path=\"url(#clip952)\" style=\"stroke:#000000; stroke-linecap:round; stroke-linejoin:round; stroke-width:4; stroke-opacity:1; fill:none\" points=\"13061.4,1423.18 13061.4,1423.18 13106.4,1423.18 13061.4,1423.18 \"/>\n",
       "<path clip-path=\"url(#clip952)\" d=\"M13106.4 1423.18 L13106.4 1423.18 L13151.4 1423.18 L13151.4 1423.18 L13106.4 1423.18 L13106.4 1423.18  Z\" fill=\"#009af9\" fill-rule=\"evenodd\" fill-opacity=\"1\"/>\n",
       "<polyline clip-path=\"url(#clip952)\" style=\"stroke:#000000; stroke-linecap:round; stroke-linejoin:round; stroke-width:4; stroke-opacity:1; fill:none\" points=\"13106.4,1423.18 13106.4,1423.18 13151.4,1423.18 13106.4,1423.18 \"/>\n",
       "<path clip-path=\"url(#clip952)\" d=\"M13151.4 1423.18 L13151.4 1423.18 L13196.5 1423.18 L13196.5 1423.18 L13151.4 1423.18 L13151.4 1423.18  Z\" fill=\"#009af9\" fill-rule=\"evenodd\" fill-opacity=\"1\"/>\n",
       "<polyline clip-path=\"url(#clip952)\" style=\"stroke:#000000; stroke-linecap:round; stroke-linejoin:round; stroke-width:4; stroke-opacity:1; fill:none\" points=\"13151.4,1423.18 13151.4,1423.18 13196.5,1423.18 13151.4,1423.18 \"/>\n",
       "<path clip-path=\"url(#clip952)\" d=\"M13196.5 1423.18 L13196.5 1423.18 L13241.5 1423.18 L13241.5 1423.18 L13196.5 1423.18 L13196.5 1423.18  Z\" fill=\"#009af9\" fill-rule=\"evenodd\" fill-opacity=\"1\"/>\n",
       "<polyline clip-path=\"url(#clip952)\" style=\"stroke:#000000; stroke-linecap:round; stroke-linejoin:round; stroke-width:4; stroke-opacity:1; fill:none\" points=\"13196.5,1423.18 13196.5,1423.18 13241.5,1423.18 13196.5,1423.18 \"/>\n",
       "<path clip-path=\"url(#clip952)\" d=\"M13241.5 1423.18 L13241.5 1423.18 L13286.5 1423.18 L13286.5 1423.18 L13241.5 1423.18 L13241.5 1423.18  Z\" fill=\"#009af9\" fill-rule=\"evenodd\" fill-opacity=\"1\"/>\n",
       "<polyline clip-path=\"url(#clip952)\" style=\"stroke:#000000; stroke-linecap:round; stroke-linejoin:round; stroke-width:4; stroke-opacity:1; fill:none\" points=\"13241.5,1423.18 13241.5,1423.18 13286.5,1423.18 13241.5,1423.18 \"/>\n",
       "<path clip-path=\"url(#clip952)\" d=\"M13286.5 1423.18 L13286.5 1423.18 L13331.6 1423.18 L13331.6 1423.18 L13286.5 1423.18 L13286.5 1423.18  Z\" fill=\"#009af9\" fill-rule=\"evenodd\" fill-opacity=\"1\"/>\n",
       "<polyline clip-path=\"url(#clip952)\" style=\"stroke:#000000; stroke-linecap:round; stroke-linejoin:round; stroke-width:4; stroke-opacity:1; fill:none\" points=\"13286.5,1423.18 13286.5,1423.18 13331.6,1423.18 13286.5,1423.18 \"/>\n",
       "<path clip-path=\"url(#clip952)\" d=\"M13331.6 1423.18 L13331.6 1423.18 L13376.6 1423.18 L13376.6 1423.18 L13331.6 1423.18 L13331.6 1423.18  Z\" fill=\"#009af9\" fill-rule=\"evenodd\" fill-opacity=\"1\"/>\n",
       "<polyline clip-path=\"url(#clip952)\" style=\"stroke:#000000; stroke-linecap:round; stroke-linejoin:round; stroke-width:4; stroke-opacity:1; fill:none\" points=\"13331.6,1423.18 13331.6,1423.18 13376.6,1423.18 13331.6,1423.18 \"/>\n",
       "<path clip-path=\"url(#clip952)\" d=\"M13376.6 1423.18 L13376.6 1423.18 L13421.7 1423.18 L13421.7 1423.18 L13376.6 1423.18 L13376.6 1423.18  Z\" fill=\"#009af9\" fill-rule=\"evenodd\" fill-opacity=\"1\"/>\n",
       "<polyline clip-path=\"url(#clip952)\" style=\"stroke:#000000; stroke-linecap:round; stroke-linejoin:round; stroke-width:4; stroke-opacity:1; fill:none\" points=\"13376.6,1423.18 13376.6,1423.18 13421.7,1423.18 13376.6,1423.18 \"/>\n",
       "<path clip-path=\"url(#clip952)\" d=\"M13421.7 1423.18 L13421.7 1423.18 L13466.7 1423.18 L13466.7 1423.18 L13421.7 1423.18 L13421.7 1423.18  Z\" fill=\"#009af9\" fill-rule=\"evenodd\" fill-opacity=\"1\"/>\n",
       "<polyline clip-path=\"url(#clip952)\" style=\"stroke:#000000; stroke-linecap:round; stroke-linejoin:round; stroke-width:4; stroke-opacity:1; fill:none\" points=\"13421.7,1423.18 13421.7,1423.18 13466.7,1423.18 13421.7,1423.18 \"/>\n",
       "<path clip-path=\"url(#clip952)\" d=\"M13466.7 1423.18 L13466.7 1423.18 L13511.7 1423.18 L13511.7 1423.18 L13466.7 1423.18 L13466.7 1423.18  Z\" fill=\"#009af9\" fill-rule=\"evenodd\" fill-opacity=\"1\"/>\n",
       "<polyline clip-path=\"url(#clip952)\" style=\"stroke:#000000; stroke-linecap:round; stroke-linejoin:round; stroke-width:4; stroke-opacity:1; fill:none\" points=\"13466.7,1423.18 13466.7,1423.18 13511.7,1423.18 13466.7,1423.18 \"/>\n",
       "<path clip-path=\"url(#clip952)\" d=\"M13511.7 1423.18 L13511.7 1423.18 L13556.8 1423.18 L13556.8 1423.18 L13511.7 1423.18 L13511.7 1423.18  Z\" fill=\"#009af9\" fill-rule=\"evenodd\" fill-opacity=\"1\"/>\n",
       "<polyline clip-path=\"url(#clip952)\" style=\"stroke:#000000; stroke-linecap:round; stroke-linejoin:round; stroke-width:4; stroke-opacity:1; fill:none\" points=\"13511.7,1423.18 13511.7,1423.18 13556.8,1423.18 13511.7,1423.18 \"/>\n",
       "<path clip-path=\"url(#clip952)\" d=\"M13556.8 1423.18 L13556.8 1423.18 L13601.8 1423.18 L13601.8 1423.18 L13556.8 1423.18 L13556.8 1423.18  Z\" fill=\"#009af9\" fill-rule=\"evenodd\" fill-opacity=\"1\"/>\n",
       "<polyline clip-path=\"url(#clip952)\" style=\"stroke:#000000; stroke-linecap:round; stroke-linejoin:round; stroke-width:4; stroke-opacity:1; fill:none\" points=\"13556.8,1423.18 13556.8,1423.18 13601.8,1423.18 13556.8,1423.18 \"/>\n",
       "<path clip-path=\"url(#clip952)\" d=\"M13601.8 1423.18 L13601.8 1423.18 L13646.8 1423.18 L13646.8 1423.18 L13601.8 1423.18 L13601.8 1423.18  Z\" fill=\"#009af9\" fill-rule=\"evenodd\" fill-opacity=\"1\"/>\n",
       "<polyline clip-path=\"url(#clip952)\" style=\"stroke:#000000; stroke-linecap:round; stroke-linejoin:round; stroke-width:4; stroke-opacity:1; fill:none\" points=\"13601.8,1423.18 13601.8,1423.18 13646.8,1423.18 13601.8,1423.18 \"/>\n",
       "<path clip-path=\"url(#clip952)\" d=\"M13646.8 1423.18 L13646.8 1423.18 L13691.9 1423.18 L13691.9 1423.18 L13646.8 1423.18 L13646.8 1423.18  Z\" fill=\"#009af9\" fill-rule=\"evenodd\" fill-opacity=\"1\"/>\n",
       "<polyline clip-path=\"url(#clip952)\" style=\"stroke:#000000; stroke-linecap:round; stroke-linejoin:round; stroke-width:4; stroke-opacity:1; fill:none\" points=\"13646.8,1423.18 13646.8,1423.18 13691.9,1423.18 13646.8,1423.18 \"/>\n",
       "<path clip-path=\"url(#clip952)\" d=\"M13691.9 1423.18 L13691.9 1423.18 L13736.9 1423.18 L13736.9 1423.18 L13691.9 1423.18 L13691.9 1423.18  Z\" fill=\"#009af9\" fill-rule=\"evenodd\" fill-opacity=\"1\"/>\n",
       "<polyline clip-path=\"url(#clip952)\" style=\"stroke:#000000; stroke-linecap:round; stroke-linejoin:round; stroke-width:4; stroke-opacity:1; fill:none\" points=\"13691.9,1423.18 13691.9,1423.18 13736.9,1423.18 13691.9,1423.18 \"/>\n",
       "<path clip-path=\"url(#clip952)\" d=\"M13736.9 1423.18 L13736.9 1423.18 L13781.9 1423.18 L13781.9 1423.18 L13736.9 1423.18 L13736.9 1423.18  Z\" fill=\"#009af9\" fill-rule=\"evenodd\" fill-opacity=\"1\"/>\n",
       "<polyline clip-path=\"url(#clip952)\" style=\"stroke:#000000; stroke-linecap:round; stroke-linejoin:round; stroke-width:4; stroke-opacity:1; fill:none\" points=\"13736.9,1423.18 13736.9,1423.18 13781.9,1423.18 13736.9,1423.18 \"/>\n",
       "<path clip-path=\"url(#clip952)\" d=\"M13781.9 1423.18 L13781.9 1423.18 L13827 1423.18 L13827 1423.18 L13781.9 1423.18 L13781.9 1423.18  Z\" fill=\"#009af9\" fill-rule=\"evenodd\" fill-opacity=\"1\"/>\n",
       "<polyline clip-path=\"url(#clip952)\" style=\"stroke:#000000; stroke-linecap:round; stroke-linejoin:round; stroke-width:4; stroke-opacity:1; fill:none\" points=\"13781.9,1423.18 13781.9,1423.18 13827,1423.18 13781.9,1423.18 \"/>\n",
       "<path clip-path=\"url(#clip952)\" d=\"M13827 1423.18 L13827 1423.18 L13872 1423.18 L13872 1423.18 L13827 1423.18 L13827 1423.18  Z\" fill=\"#009af9\" fill-rule=\"evenodd\" fill-opacity=\"1\"/>\n",
       "<polyline clip-path=\"url(#clip952)\" style=\"stroke:#000000; stroke-linecap:round; stroke-linejoin:round; stroke-width:4; stroke-opacity:1; fill:none\" points=\"13827,1423.18 13827,1423.18 13872,1423.18 13827,1423.18 \"/>\n",
       "<path clip-path=\"url(#clip952)\" d=\"M13872 1423.18 L13872 1423.18 L13917.1 1423.18 L13917.1 1423.18 L13872 1423.18 L13872 1423.18  Z\" fill=\"#009af9\" fill-rule=\"evenodd\" fill-opacity=\"1\"/>\n",
       "<polyline clip-path=\"url(#clip952)\" style=\"stroke:#000000; stroke-linecap:round; stroke-linejoin:round; stroke-width:4; stroke-opacity:1; fill:none\" points=\"13872,1423.18 13872,1423.18 13917.1,1423.18 13872,1423.18 \"/>\n",
       "<path clip-path=\"url(#clip952)\" d=\"M13917.1 1423.18 L13917.1 1423.18 L13962.1 1423.18 L13962.1 1423.18 L13917.1 1423.18 L13917.1 1423.18  Z\" fill=\"#009af9\" fill-rule=\"evenodd\" fill-opacity=\"1\"/>\n",
       "<polyline clip-path=\"url(#clip952)\" style=\"stroke:#000000; stroke-linecap:round; stroke-linejoin:round; stroke-width:4; stroke-opacity:1; fill:none\" points=\"13917.1,1423.18 13917.1,1423.18 13962.1,1423.18 13917.1,1423.18 \"/>\n",
       "<path clip-path=\"url(#clip952)\" d=\"M13962.1 1423.18 L13962.1 1423.18 L14007.1 1423.18 L14007.1 1423.18 L13962.1 1423.18 L13962.1 1423.18  Z\" fill=\"#009af9\" fill-rule=\"evenodd\" fill-opacity=\"1\"/>\n",
       "<polyline clip-path=\"url(#clip952)\" style=\"stroke:#000000; stroke-linecap:round; stroke-linejoin:round; stroke-width:4; stroke-opacity:1; fill:none\" points=\"13962.1,1423.18 13962.1,1423.18 14007.1,1423.18 13962.1,1423.18 \"/>\n",
       "<path clip-path=\"url(#clip952)\" d=\"M14007.1 1423.18 L14007.1 1423.18 L14052.2 1423.18 L14052.2 1423.18 L14007.1 1423.18 L14007.1 1423.18  Z\" fill=\"#009af9\" fill-rule=\"evenodd\" fill-opacity=\"1\"/>\n",
       "<polyline clip-path=\"url(#clip952)\" style=\"stroke:#000000; stroke-linecap:round; stroke-linejoin:round; stroke-width:4; stroke-opacity:1; fill:none\" points=\"14007.1,1423.18 14007.1,1423.18 14052.2,1423.18 14007.1,1423.18 \"/>\n",
       "<path clip-path=\"url(#clip952)\" d=\"M14052.2 1423.18 L14052.2 1423.18 L14097.2 1423.18 L14097.2 1423.18 L14052.2 1423.18 L14052.2 1423.18  Z\" fill=\"#009af9\" fill-rule=\"evenodd\" fill-opacity=\"1\"/>\n",
       "<polyline clip-path=\"url(#clip952)\" style=\"stroke:#000000; stroke-linecap:round; stroke-linejoin:round; stroke-width:4; stroke-opacity:1; fill:none\" points=\"14052.2,1423.18 14052.2,1423.18 14097.2,1423.18 14052.2,1423.18 \"/>\n",
       "<path clip-path=\"url(#clip952)\" d=\"M14097.2 1423.18 L14097.2 1423.18 L14142.2 1423.18 L14142.2 1423.18 L14097.2 1423.18 L14097.2 1423.18  Z\" fill=\"#009af9\" fill-rule=\"evenodd\" fill-opacity=\"1\"/>\n",
       "<polyline clip-path=\"url(#clip952)\" style=\"stroke:#000000; stroke-linecap:round; stroke-linejoin:round; stroke-width:4; stroke-opacity:1; fill:none\" points=\"14097.2,1423.18 14097.2,1423.18 14142.2,1423.18 14097.2,1423.18 \"/>\n",
       "<path clip-path=\"url(#clip952)\" d=\"M14142.2 1423.18 L14142.2 1423.18 L14187.3 1423.18 L14187.3 1423.18 L14142.2 1423.18 L14142.2 1423.18  Z\" fill=\"#009af9\" fill-rule=\"evenodd\" fill-opacity=\"1\"/>\n",
       "<polyline clip-path=\"url(#clip952)\" style=\"stroke:#000000; stroke-linecap:round; stroke-linejoin:round; stroke-width:4; stroke-opacity:1; fill:none\" points=\"14142.2,1423.18 14142.2,1423.18 14187.3,1423.18 14142.2,1423.18 \"/>\n",
       "<path clip-path=\"url(#clip952)\" d=\"M14187.3 1423.18 L14187.3 1423.18 L14232.3 1423.18 L14232.3 1423.18 L14187.3 1423.18 L14187.3 1423.18  Z\" fill=\"#009af9\" fill-rule=\"evenodd\" fill-opacity=\"1\"/>\n",
       "<polyline clip-path=\"url(#clip952)\" style=\"stroke:#000000; stroke-linecap:round; stroke-linejoin:round; stroke-width:4; stroke-opacity:1; fill:none\" points=\"14187.3,1423.18 14187.3,1423.18 14232.3,1423.18 14187.3,1423.18 \"/>\n",
       "<path clip-path=\"url(#clip952)\" d=\"M14232.3 1423.18 L14232.3 1423.18 L14277.4 1423.18 L14277.4 1423.18 L14232.3 1423.18 L14232.3 1423.18  Z\" fill=\"#009af9\" fill-rule=\"evenodd\" fill-opacity=\"1\"/>\n",
       "<polyline clip-path=\"url(#clip952)\" style=\"stroke:#000000; stroke-linecap:round; stroke-linejoin:round; stroke-width:4; stroke-opacity:1; fill:none\" points=\"14232.3,1423.18 14232.3,1423.18 14277.4,1423.18 14232.3,1423.18 \"/>\n",
       "<path clip-path=\"url(#clip952)\" d=\"M14277.4 1395.66 L14277.4 1423.18 L14322.4 1423.18 L14322.4 1395.66 L14277.4 1395.66 L14277.4 1395.66  Z\" fill=\"#009af9\" fill-rule=\"evenodd\" fill-opacity=\"1\"/>\n",
       "<polyline clip-path=\"url(#clip952)\" style=\"stroke:#000000; stroke-linecap:round; stroke-linejoin:round; stroke-width:4; stroke-opacity:1; fill:none\" points=\"14277.4,1395.66 14277.4,1423.18 14322.4,1423.18 14322.4,1395.66 14277.4,1395.66 \"/>\n",
       "<path clip-path=\"url(#clip952)\" d=\"M14322.4 1423.18 L14322.4 1423.18 L14367.4 1423.18 L14367.4 1423.18 L14322.4 1423.18 L14322.4 1423.18  Z\" fill=\"#009af9\" fill-rule=\"evenodd\" fill-opacity=\"1\"/>\n",
       "<polyline clip-path=\"url(#clip952)\" style=\"stroke:#000000; stroke-linecap:round; stroke-linejoin:round; stroke-width:4; stroke-opacity:1; fill:none\" points=\"14322.4,1423.18 14322.4,1423.18 14367.4,1423.18 14322.4,1423.18 \"/>\n",
       "<path clip-path=\"url(#clip952)\" d=\"M14367.4 1423.18 L14367.4 1423.18 L14412.5 1423.18 L14412.5 1423.18 L14367.4 1423.18 L14367.4 1423.18  Z\" fill=\"#009af9\" fill-rule=\"evenodd\" fill-opacity=\"1\"/>\n",
       "<polyline clip-path=\"url(#clip952)\" style=\"stroke:#000000; stroke-linecap:round; stroke-linejoin:round; stroke-width:4; stroke-opacity:1; fill:none\" points=\"14367.4,1423.18 14367.4,1423.18 14412.5,1423.18 14367.4,1423.18 \"/>\n",
       "<path clip-path=\"url(#clip952)\" d=\"M14412.5 1423.18 L14412.5 1423.18 L14457.5 1423.18 L14457.5 1423.18 L14412.5 1423.18 L14412.5 1423.18  Z\" fill=\"#009af9\" fill-rule=\"evenodd\" fill-opacity=\"1\"/>\n",
       "<polyline clip-path=\"url(#clip952)\" style=\"stroke:#000000; stroke-linecap:round; stroke-linejoin:round; stroke-width:4; stroke-opacity:1; fill:none\" points=\"14412.5,1423.18 14412.5,1423.18 14457.5,1423.18 14412.5,1423.18 \"/>\n",
       "<path clip-path=\"url(#clip952)\" d=\"M14457.5 1423.18 L14457.5 1423.18 L14502.5 1423.18 L14502.5 1423.18 L14457.5 1423.18 L14457.5 1423.18  Z\" fill=\"#009af9\" fill-rule=\"evenodd\" fill-opacity=\"1\"/>\n",
       "<polyline clip-path=\"url(#clip952)\" style=\"stroke:#000000; stroke-linecap:round; stroke-linejoin:round; stroke-width:4; stroke-opacity:1; fill:none\" points=\"14457.5,1423.18 14457.5,1423.18 14502.5,1423.18 14457.5,1423.18 \"/>\n",
       "<path clip-path=\"url(#clip952)\" d=\"M14502.5 1423.18 L14502.5 1423.18 L14547.6 1423.18 L14547.6 1423.18 L14502.5 1423.18 L14502.5 1423.18  Z\" fill=\"#009af9\" fill-rule=\"evenodd\" fill-opacity=\"1\"/>\n",
       "<polyline clip-path=\"url(#clip952)\" style=\"stroke:#000000; stroke-linecap:round; stroke-linejoin:round; stroke-width:4; stroke-opacity:1; fill:none\" points=\"14502.5,1423.18 14502.5,1423.18 14547.6,1423.18 14502.5,1423.18 \"/>\n",
       "<path clip-path=\"url(#clip952)\" d=\"M14547.6 1423.18 L14547.6 1423.18 L14592.6 1423.18 L14592.6 1423.18 L14547.6 1423.18 L14547.6 1423.18  Z\" fill=\"#009af9\" fill-rule=\"evenodd\" fill-opacity=\"1\"/>\n",
       "<polyline clip-path=\"url(#clip952)\" style=\"stroke:#000000; stroke-linecap:round; stroke-linejoin:round; stroke-width:4; stroke-opacity:1; fill:none\" points=\"14547.6,1423.18 14547.6,1423.18 14592.6,1423.18 14547.6,1423.18 \"/>\n",
       "<path clip-path=\"url(#clip952)\" d=\"M14592.6 1423.18 L14592.6 1423.18 L14637.7 1423.18 L14637.7 1423.18 L14592.6 1423.18 L14592.6 1423.18  Z\" fill=\"#009af9\" fill-rule=\"evenodd\" fill-opacity=\"1\"/>\n",
       "<polyline clip-path=\"url(#clip952)\" style=\"stroke:#000000; stroke-linecap:round; stroke-linejoin:round; stroke-width:4; stroke-opacity:1; fill:none\" points=\"14592.6,1423.18 14592.6,1423.18 14637.7,1423.18 14592.6,1423.18 \"/>\n",
       "<path clip-path=\"url(#clip952)\" d=\"M14637.7 1423.18 L14637.7 1423.18 L14682.7 1423.18 L14682.7 1423.18 L14637.7 1423.18 L14637.7 1423.18  Z\" fill=\"#009af9\" fill-rule=\"evenodd\" fill-opacity=\"1\"/>\n",
       "<polyline clip-path=\"url(#clip952)\" style=\"stroke:#000000; stroke-linecap:round; stroke-linejoin:round; stroke-width:4; stroke-opacity:1; fill:none\" points=\"14637.7,1423.18 14637.7,1423.18 14682.7,1423.18 14637.7,1423.18 \"/>\n",
       "<path clip-path=\"url(#clip952)\" d=\"M14682.7 1423.18 L14682.7 1423.18 L14727.7 1423.18 L14727.7 1423.18 L14682.7 1423.18 L14682.7 1423.18  Z\" fill=\"#009af9\" fill-rule=\"evenodd\" fill-opacity=\"1\"/>\n",
       "<polyline clip-path=\"url(#clip952)\" style=\"stroke:#000000; stroke-linecap:round; stroke-linejoin:round; stroke-width:4; stroke-opacity:1; fill:none\" points=\"14682.7,1423.18 14682.7,1423.18 14727.7,1423.18 14682.7,1423.18 \"/>\n",
       "<path clip-path=\"url(#clip952)\" d=\"M14727.7 1423.18 L14727.7 1423.18 L14772.8 1423.18 L14772.8 1423.18 L14727.7 1423.18 L14727.7 1423.18  Z\" fill=\"#009af9\" fill-rule=\"evenodd\" fill-opacity=\"1\"/>\n",
       "<polyline clip-path=\"url(#clip952)\" style=\"stroke:#000000; stroke-linecap:round; stroke-linejoin:round; stroke-width:4; stroke-opacity:1; fill:none\" points=\"14727.7,1423.18 14727.7,1423.18 14772.8,1423.18 14727.7,1423.18 \"/>\n",
       "<path clip-path=\"url(#clip952)\" d=\"M14772.8 1423.18 L14772.8 1423.18 L14817.8 1423.18 L14817.8 1423.18 L14772.8 1423.18 L14772.8 1423.18  Z\" fill=\"#009af9\" fill-rule=\"evenodd\" fill-opacity=\"1\"/>\n",
       "<polyline clip-path=\"url(#clip952)\" style=\"stroke:#000000; stroke-linecap:round; stroke-linejoin:round; stroke-width:4; stroke-opacity:1; fill:none\" points=\"14772.8,1423.18 14772.8,1423.18 14817.8,1423.18 14772.8,1423.18 \"/>\n",
       "<path clip-path=\"url(#clip952)\" d=\"M14817.8 1423.18 L14817.8 1423.18 L14862.8 1423.18 L14862.8 1423.18 L14817.8 1423.18 L14817.8 1423.18  Z\" fill=\"#009af9\" fill-rule=\"evenodd\" fill-opacity=\"1\"/>\n",
       "<polyline clip-path=\"url(#clip952)\" style=\"stroke:#000000; stroke-linecap:round; stroke-linejoin:round; stroke-width:4; stroke-opacity:1; fill:none\" points=\"14817.8,1423.18 14817.8,1423.18 14862.8,1423.18 14817.8,1423.18 \"/>\n",
       "<path clip-path=\"url(#clip952)\" d=\"M14862.8 1423.18 L14862.8 1423.18 L14907.9 1423.18 L14907.9 1423.18 L14862.8 1423.18 L14862.8 1423.18  Z\" fill=\"#009af9\" fill-rule=\"evenodd\" fill-opacity=\"1\"/>\n",
       "<polyline clip-path=\"url(#clip952)\" style=\"stroke:#000000; stroke-linecap:round; stroke-linejoin:round; stroke-width:4; stroke-opacity:1; fill:none\" points=\"14862.8,1423.18 14862.8,1423.18 14907.9,1423.18 14862.8,1423.18 \"/>\n",
       "<path clip-path=\"url(#clip952)\" d=\"M14907.9 1423.18 L14907.9 1423.18 L14952.9 1423.18 L14952.9 1423.18 L14907.9 1423.18 L14907.9 1423.18  Z\" fill=\"#009af9\" fill-rule=\"evenodd\" fill-opacity=\"1\"/>\n",
       "<polyline clip-path=\"url(#clip952)\" style=\"stroke:#000000; stroke-linecap:round; stroke-linejoin:round; stroke-width:4; stroke-opacity:1; fill:none\" points=\"14907.9,1423.18 14907.9,1423.18 14952.9,1423.18 14907.9,1423.18 \"/>\n",
       "<path clip-path=\"url(#clip952)\" d=\"M14952.9 1423.18 L14952.9 1423.18 L14998 1423.18 L14998 1423.18 L14952.9 1423.18 L14952.9 1423.18  Z\" fill=\"#009af9\" fill-rule=\"evenodd\" fill-opacity=\"1\"/>\n",
       "<polyline clip-path=\"url(#clip952)\" style=\"stroke:#000000; stroke-linecap:round; stroke-linejoin:round; stroke-width:4; stroke-opacity:1; fill:none\" points=\"14952.9,1423.18 14952.9,1423.18 14998,1423.18 14952.9,1423.18 \"/>\n",
       "<path clip-path=\"url(#clip952)\" d=\"M14998 1423.18 L14998 1423.18 L15043 1423.18 L15043 1423.18 L14998 1423.18 L14998 1423.18  Z\" fill=\"#009af9\" fill-rule=\"evenodd\" fill-opacity=\"1\"/>\n",
       "<polyline clip-path=\"url(#clip952)\" style=\"stroke:#000000; stroke-linecap:round; stroke-linejoin:round; stroke-width:4; stroke-opacity:1; fill:none\" points=\"14998,1423.18 14998,1423.18 15043,1423.18 14998,1423.18 \"/>\n",
       "<path clip-path=\"url(#clip952)\" d=\"M15043 1423.18 L15043 1423.18 L15088 1423.18 L15088 1423.18 L15043 1423.18 L15043 1423.18  Z\" fill=\"#009af9\" fill-rule=\"evenodd\" fill-opacity=\"1\"/>\n",
       "<polyline clip-path=\"url(#clip952)\" style=\"stroke:#000000; stroke-linecap:round; stroke-linejoin:round; stroke-width:4; stroke-opacity:1; fill:none\" points=\"15043,1423.18 15043,1423.18 15088,1423.18 15043,1423.18 \"/>\n",
       "<path clip-path=\"url(#clip952)\" d=\"M15088 1423.18 L15088 1423.18 L15133.1 1423.18 L15133.1 1423.18 L15088 1423.18 L15088 1423.18  Z\" fill=\"#009af9\" fill-rule=\"evenodd\" fill-opacity=\"1\"/>\n",
       "<polyline clip-path=\"url(#clip952)\" style=\"stroke:#000000; stroke-linecap:round; stroke-linejoin:round; stroke-width:4; stroke-opacity:1; fill:none\" points=\"15088,1423.18 15088,1423.18 15133.1,1423.18 15088,1423.18 \"/>\n",
       "<path clip-path=\"url(#clip952)\" d=\"M15133.1 1395.66 L15133.1 1423.18 L15178.1 1423.18 L15178.1 1395.66 L15133.1 1395.66 L15133.1 1395.66  Z\" fill=\"#009af9\" fill-rule=\"evenodd\" fill-opacity=\"1\"/>\n",
       "<polyline clip-path=\"url(#clip952)\" style=\"stroke:#000000; stroke-linecap:round; stroke-linejoin:round; stroke-width:4; stroke-opacity:1; fill:none\" points=\"15133.1,1395.66 15133.1,1423.18 15178.1,1423.18 15178.1,1395.66 15133.1,1395.66 \"/>\n",
       "<path clip-path=\"url(#clip952)\" d=\"M15178.1 1423.18 L15178.1 1423.18 L15223.1 1423.18 L15223.1 1423.18 L15178.1 1423.18 L15178.1 1423.18  Z\" fill=\"#009af9\" fill-rule=\"evenodd\" fill-opacity=\"1\"/>\n",
       "<polyline clip-path=\"url(#clip952)\" style=\"stroke:#000000; stroke-linecap:round; stroke-linejoin:round; stroke-width:4; stroke-opacity:1; fill:none\" points=\"15178.1,1423.18 15178.1,1423.18 15223.1,1423.18 15178.1,1423.18 \"/>\n",
       "<path clip-path=\"url(#clip952)\" d=\"M15223.1 1423.18 L15223.1 1423.18 L15268.2 1423.18 L15268.2 1423.18 L15223.1 1423.18 L15223.1 1423.18  Z\" fill=\"#009af9\" fill-rule=\"evenodd\" fill-opacity=\"1\"/>\n",
       "<polyline clip-path=\"url(#clip952)\" style=\"stroke:#000000; stroke-linecap:round; stroke-linejoin:round; stroke-width:4; stroke-opacity:1; fill:none\" points=\"15223.1,1423.18 15223.1,1423.18 15268.2,1423.18 15223.1,1423.18 \"/>\n",
       "<path clip-path=\"url(#clip952)\" d=\"M15268.2 1423.18 L15268.2 1423.18 L15313.2 1423.18 L15313.2 1423.18 L15268.2 1423.18 L15268.2 1423.18  Z\" fill=\"#009af9\" fill-rule=\"evenodd\" fill-opacity=\"1\"/>\n",
       "<polyline clip-path=\"url(#clip952)\" style=\"stroke:#000000; stroke-linecap:round; stroke-linejoin:round; stroke-width:4; stroke-opacity:1; fill:none\" points=\"15268.2,1423.18 15268.2,1423.18 15313.2,1423.18 15268.2,1423.18 \"/>\n",
       "<path clip-path=\"url(#clip952)\" d=\"M15313.2 1423.18 L15313.2 1423.18 L15358.3 1423.18 L15358.3 1423.18 L15313.2 1423.18 L15313.2 1423.18  Z\" fill=\"#009af9\" fill-rule=\"evenodd\" fill-opacity=\"1\"/>\n",
       "<polyline clip-path=\"url(#clip952)\" style=\"stroke:#000000; stroke-linecap:round; stroke-linejoin:round; stroke-width:4; stroke-opacity:1; fill:none\" points=\"15313.2,1423.18 15313.2,1423.18 15358.3,1423.18 15313.2,1423.18 \"/>\n",
       "<path clip-path=\"url(#clip952)\" d=\"M15358.3 1423.18 L15358.3 1423.18 L15403.3 1423.18 L15403.3 1423.18 L15358.3 1423.18 L15358.3 1423.18  Z\" fill=\"#009af9\" fill-rule=\"evenodd\" fill-opacity=\"1\"/>\n",
       "<polyline clip-path=\"url(#clip952)\" style=\"stroke:#000000; stroke-linecap:round; stroke-linejoin:round; stroke-width:4; stroke-opacity:1; fill:none\" points=\"15358.3,1423.18 15358.3,1423.18 15403.3,1423.18 15358.3,1423.18 \"/>\n",
       "<path clip-path=\"url(#clip952)\" d=\"M15403.3 1423.18 L15403.3 1423.18 L15448.3 1423.18 L15448.3 1423.18 L15403.3 1423.18 L15403.3 1423.18  Z\" fill=\"#009af9\" fill-rule=\"evenodd\" fill-opacity=\"1\"/>\n",
       "<polyline clip-path=\"url(#clip952)\" style=\"stroke:#000000; stroke-linecap:round; stroke-linejoin:round; stroke-width:4; stroke-opacity:1; fill:none\" points=\"15403.3,1423.18 15403.3,1423.18 15448.3,1423.18 15403.3,1423.18 \"/>\n",
       "<path clip-path=\"url(#clip952)\" d=\"M15448.3 1423.18 L15448.3 1423.18 L15493.4 1423.18 L15493.4 1423.18 L15448.3 1423.18 L15448.3 1423.18  Z\" fill=\"#009af9\" fill-rule=\"evenodd\" fill-opacity=\"1\"/>\n",
       "<polyline clip-path=\"url(#clip952)\" style=\"stroke:#000000; stroke-linecap:round; stroke-linejoin:round; stroke-width:4; stroke-opacity:1; fill:none\" points=\"15448.3,1423.18 15448.3,1423.18 15493.4,1423.18 15448.3,1423.18 \"/>\n",
       "<path clip-path=\"url(#clip952)\" d=\"M15493.4 1423.18 L15493.4 1423.18 L15538.4 1423.18 L15538.4 1423.18 L15493.4 1423.18 L15493.4 1423.18  Z\" fill=\"#009af9\" fill-rule=\"evenodd\" fill-opacity=\"1\"/>\n",
       "<polyline clip-path=\"url(#clip952)\" style=\"stroke:#000000; stroke-linecap:round; stroke-linejoin:round; stroke-width:4; stroke-opacity:1; fill:none\" points=\"15493.4,1423.18 15493.4,1423.18 15538.4,1423.18 15493.4,1423.18 \"/>\n",
       "<path clip-path=\"url(#clip952)\" d=\"M15538.4 1423.18 L15538.4 1423.18 L15583.4 1423.18 L15583.4 1423.18 L15538.4 1423.18 L15538.4 1423.18  Z\" fill=\"#009af9\" fill-rule=\"evenodd\" fill-opacity=\"1\"/>\n",
       "<polyline clip-path=\"url(#clip952)\" style=\"stroke:#000000; stroke-linecap:round; stroke-linejoin:round; stroke-width:4; stroke-opacity:1; fill:none\" points=\"15538.4,1423.18 15538.4,1423.18 15583.4,1423.18 15538.4,1423.18 \"/>\n",
       "<path clip-path=\"url(#clip952)\" d=\"M15583.4 1423.18 L15583.4 1423.18 L15628.5 1423.18 L15628.5 1423.18 L15583.4 1423.18 L15583.4 1423.18  Z\" fill=\"#009af9\" fill-rule=\"evenodd\" fill-opacity=\"1\"/>\n",
       "<polyline clip-path=\"url(#clip952)\" style=\"stroke:#000000; stroke-linecap:round; stroke-linejoin:round; stroke-width:4; stroke-opacity:1; fill:none\" points=\"15583.4,1423.18 15583.4,1423.18 15628.5,1423.18 15583.4,1423.18 \"/>\n",
       "<path clip-path=\"url(#clip952)\" d=\"M15628.5 1423.18 L15628.5 1423.18 L15673.5 1423.18 L15673.5 1423.18 L15628.5 1423.18 L15628.5 1423.18  Z\" fill=\"#009af9\" fill-rule=\"evenodd\" fill-opacity=\"1\"/>\n",
       "<polyline clip-path=\"url(#clip952)\" style=\"stroke:#000000; stroke-linecap:round; stroke-linejoin:round; stroke-width:4; stroke-opacity:1; fill:none\" points=\"15628.5,1423.18 15628.5,1423.18 15673.5,1423.18 15628.5,1423.18 \"/>\n",
       "<path clip-path=\"url(#clip952)\" d=\"M15673.5 1423.18 L15673.5 1423.18 L15718.5 1423.18 L15718.5 1423.18 L15673.5 1423.18 L15673.5 1423.18  Z\" fill=\"#009af9\" fill-rule=\"evenodd\" fill-opacity=\"1\"/>\n",
       "<polyline clip-path=\"url(#clip952)\" style=\"stroke:#000000; stroke-linecap:round; stroke-linejoin:round; stroke-width:4; stroke-opacity:1; fill:none\" points=\"15673.5,1423.18 15673.5,1423.18 15718.5,1423.18 15673.5,1423.18 \"/>\n",
       "<path clip-path=\"url(#clip952)\" d=\"M15718.5 1423.18 L15718.5 1423.18 L15763.6 1423.18 L15763.6 1423.18 L15718.5 1423.18 L15718.5 1423.18  Z\" fill=\"#009af9\" fill-rule=\"evenodd\" fill-opacity=\"1\"/>\n",
       "<polyline clip-path=\"url(#clip952)\" style=\"stroke:#000000; stroke-linecap:round; stroke-linejoin:round; stroke-width:4; stroke-opacity:1; fill:none\" points=\"15718.5,1423.18 15718.5,1423.18 15763.6,1423.18 15718.5,1423.18 \"/>\n",
       "<path clip-path=\"url(#clip952)\" d=\"M15763.6 1423.18 L15763.6 1423.18 L15808.6 1423.18 L15808.6 1423.18 L15763.6 1423.18 L15763.6 1423.18  Z\" fill=\"#009af9\" fill-rule=\"evenodd\" fill-opacity=\"1\"/>\n",
       "<polyline clip-path=\"url(#clip952)\" style=\"stroke:#000000; stroke-linecap:round; stroke-linejoin:round; stroke-width:4; stroke-opacity:1; fill:none\" points=\"15763.6,1423.18 15763.6,1423.18 15808.6,1423.18 15763.6,1423.18 \"/>\n",
       "<path clip-path=\"url(#clip952)\" d=\"M15808.6 1423.18 L15808.6 1423.18 L15853.7 1423.18 L15853.7 1423.18 L15808.6 1423.18 L15808.6 1423.18  Z\" fill=\"#009af9\" fill-rule=\"evenodd\" fill-opacity=\"1\"/>\n",
       "<polyline clip-path=\"url(#clip952)\" style=\"stroke:#000000; stroke-linecap:round; stroke-linejoin:round; stroke-width:4; stroke-opacity:1; fill:none\" points=\"15808.6,1423.18 15808.6,1423.18 15853.7,1423.18 15808.6,1423.18 \"/>\n",
       "<path clip-path=\"url(#clip952)\" d=\"M15853.7 1423.18 L15853.7 1423.18 L15898.7 1423.18 L15898.7 1423.18 L15853.7 1423.18 L15853.7 1423.18  Z\" fill=\"#009af9\" fill-rule=\"evenodd\" fill-opacity=\"1\"/>\n",
       "<polyline clip-path=\"url(#clip952)\" style=\"stroke:#000000; stroke-linecap:round; stroke-linejoin:round; stroke-width:4; stroke-opacity:1; fill:none\" points=\"15853.7,1423.18 15853.7,1423.18 15898.7,1423.18 15853.7,1423.18 \"/>\n",
       "<path clip-path=\"url(#clip952)\" d=\"M15898.7 1423.18 L15898.7 1423.18 L15943.7 1423.18 L15943.7 1423.18 L15898.7 1423.18 L15898.7 1423.18  Z\" fill=\"#009af9\" fill-rule=\"evenodd\" fill-opacity=\"1\"/>\n",
       "<polyline clip-path=\"url(#clip952)\" style=\"stroke:#000000; stroke-linecap:round; stroke-linejoin:round; stroke-width:4; stroke-opacity:1; fill:none\" points=\"15898.7,1423.18 15898.7,1423.18 15943.7,1423.18 15898.7,1423.18 \"/>\n",
       "<path clip-path=\"url(#clip952)\" d=\"M15943.7 1423.18 L15943.7 1423.18 L15988.8 1423.18 L15988.8 1423.18 L15943.7 1423.18 L15943.7 1423.18  Z\" fill=\"#009af9\" fill-rule=\"evenodd\" fill-opacity=\"1\"/>\n",
       "<polyline clip-path=\"url(#clip952)\" style=\"stroke:#000000; stroke-linecap:round; stroke-linejoin:round; stroke-width:4; stroke-opacity:1; fill:none\" points=\"15943.7,1423.18 15943.7,1423.18 15988.8,1423.18 15943.7,1423.18 \"/>\n",
       "<path clip-path=\"url(#clip952)\" d=\"M15988.8 1423.18 L15988.8 1423.18 L16033.8 1423.18 L16033.8 1423.18 L15988.8 1423.18 L15988.8 1423.18  Z\" fill=\"#009af9\" fill-rule=\"evenodd\" fill-opacity=\"1\"/>\n",
       "<polyline clip-path=\"url(#clip952)\" style=\"stroke:#000000; stroke-linecap:round; stroke-linejoin:round; stroke-width:4; stroke-opacity:1; fill:none\" points=\"15988.8,1423.18 15988.8,1423.18 16033.8,1423.18 15988.8,1423.18 \"/>\n",
       "<path clip-path=\"url(#clip952)\" d=\"M16033.8 1423.18 L16033.8 1423.18 L16078.8 1423.18 L16078.8 1423.18 L16033.8 1423.18 L16033.8 1423.18  Z\" fill=\"#009af9\" fill-rule=\"evenodd\" fill-opacity=\"1\"/>\n",
       "<polyline clip-path=\"url(#clip952)\" style=\"stroke:#000000; stroke-linecap:round; stroke-linejoin:round; stroke-width:4; stroke-opacity:1; fill:none\" points=\"16033.8,1423.18 16033.8,1423.18 16078.8,1423.18 16033.8,1423.18 \"/>\n",
       "<path clip-path=\"url(#clip952)\" d=\"M16078.8 1423.18 L16078.8 1423.18 L16123.9 1423.18 L16123.9 1423.18 L16078.8 1423.18 L16078.8 1423.18  Z\" fill=\"#009af9\" fill-rule=\"evenodd\" fill-opacity=\"1\"/>\n",
       "<polyline clip-path=\"url(#clip952)\" style=\"stroke:#000000; stroke-linecap:round; stroke-linejoin:round; stroke-width:4; stroke-opacity:1; fill:none\" points=\"16078.8,1423.18 16078.8,1423.18 16123.9,1423.18 16078.8,1423.18 \"/>\n",
       "<path clip-path=\"url(#clip952)\" d=\"M16123.9 1423.18 L16123.9 1423.18 L16168.9 1423.18 L16168.9 1423.18 L16123.9 1423.18 L16123.9 1423.18  Z\" fill=\"#009af9\" fill-rule=\"evenodd\" fill-opacity=\"1\"/>\n",
       "<polyline clip-path=\"url(#clip952)\" style=\"stroke:#000000; stroke-linecap:round; stroke-linejoin:round; stroke-width:4; stroke-opacity:1; fill:none\" points=\"16123.9,1423.18 16123.9,1423.18 16168.9,1423.18 16123.9,1423.18 \"/>\n",
       "<path clip-path=\"url(#clip952)\" d=\"M16168.9 1423.18 L16168.9 1423.18 L16214 1423.18 L16214 1423.18 L16168.9 1423.18 L16168.9 1423.18  Z\" fill=\"#009af9\" fill-rule=\"evenodd\" fill-opacity=\"1\"/>\n",
       "<polyline clip-path=\"url(#clip952)\" style=\"stroke:#000000; stroke-linecap:round; stroke-linejoin:round; stroke-width:4; stroke-opacity:1; fill:none\" points=\"16168.9,1423.18 16168.9,1423.18 16214,1423.18 16168.9,1423.18 \"/>\n",
       "<path clip-path=\"url(#clip952)\" d=\"M16214 1423.18 L16214 1423.18 L16259 1423.18 L16259 1423.18 L16214 1423.18 L16214 1423.18  Z\" fill=\"#009af9\" fill-rule=\"evenodd\" fill-opacity=\"1\"/>\n",
       "<polyline clip-path=\"url(#clip952)\" style=\"stroke:#000000; stroke-linecap:round; stroke-linejoin:round; stroke-width:4; stroke-opacity:1; fill:none\" points=\"16214,1423.18 16214,1423.18 16259,1423.18 16214,1423.18 \"/>\n",
       "<path clip-path=\"url(#clip952)\" d=\"M16259 1423.18 L16259 1423.18 L16304 1423.18 L16304 1423.18 L16259 1423.18 L16259 1423.18  Z\" fill=\"#009af9\" fill-rule=\"evenodd\" fill-opacity=\"1\"/>\n",
       "<polyline clip-path=\"url(#clip952)\" style=\"stroke:#000000; stroke-linecap:round; stroke-linejoin:round; stroke-width:4; stroke-opacity:1; fill:none\" points=\"16259,1423.18 16259,1423.18 16304,1423.18 16259,1423.18 \"/>\n",
       "<path clip-path=\"url(#clip952)\" d=\"M16304 1423.18 L16304 1423.18 L16349.1 1423.18 L16349.1 1423.18 L16304 1423.18 L16304 1423.18  Z\" fill=\"#009af9\" fill-rule=\"evenodd\" fill-opacity=\"1\"/>\n",
       "<polyline clip-path=\"url(#clip952)\" style=\"stroke:#000000; stroke-linecap:round; stroke-linejoin:round; stroke-width:4; stroke-opacity:1; fill:none\" points=\"16304,1423.18 16304,1423.18 16349.1,1423.18 16304,1423.18 \"/>\n",
       "<path clip-path=\"url(#clip952)\" d=\"M16349.1 1423.18 L16349.1 1423.18 L16394.1 1423.18 L16394.1 1423.18 L16349.1 1423.18 L16349.1 1423.18  Z\" fill=\"#009af9\" fill-rule=\"evenodd\" fill-opacity=\"1\"/>\n",
       "<polyline clip-path=\"url(#clip952)\" style=\"stroke:#000000; stroke-linecap:round; stroke-linejoin:round; stroke-width:4; stroke-opacity:1; fill:none\" points=\"16349.1,1423.18 16349.1,1423.18 16394.1,1423.18 16349.1,1423.18 \"/>\n",
       "<path clip-path=\"url(#clip952)\" d=\"M16394.1 1423.18 L16394.1 1423.18 L16439.1 1423.18 L16439.1 1423.18 L16394.1 1423.18 L16394.1 1423.18  Z\" fill=\"#009af9\" fill-rule=\"evenodd\" fill-opacity=\"1\"/>\n",
       "<polyline clip-path=\"url(#clip952)\" style=\"stroke:#000000; stroke-linecap:round; stroke-linejoin:round; stroke-width:4; stroke-opacity:1; fill:none\" points=\"16394.1,1423.18 16394.1,1423.18 16439.1,1423.18 16394.1,1423.18 \"/>\n",
       "<path clip-path=\"url(#clip952)\" d=\"M16439.1 1423.18 L16439.1 1423.18 L16484.2 1423.18 L16484.2 1423.18 L16439.1 1423.18 L16439.1 1423.18  Z\" fill=\"#009af9\" fill-rule=\"evenodd\" fill-opacity=\"1\"/>\n",
       "<polyline clip-path=\"url(#clip952)\" style=\"stroke:#000000; stroke-linecap:round; stroke-linejoin:round; stroke-width:4; stroke-opacity:1; fill:none\" points=\"16439.1,1423.18 16439.1,1423.18 16484.2,1423.18 16439.1,1423.18 \"/>\n",
       "<path clip-path=\"url(#clip952)\" d=\"M16484.2 1423.18 L16484.2 1423.18 L16529.2 1423.18 L16529.2 1423.18 L16484.2 1423.18 L16484.2 1423.18  Z\" fill=\"#009af9\" fill-rule=\"evenodd\" fill-opacity=\"1\"/>\n",
       "<polyline clip-path=\"url(#clip952)\" style=\"stroke:#000000; stroke-linecap:round; stroke-linejoin:round; stroke-width:4; stroke-opacity:1; fill:none\" points=\"16484.2,1423.18 16484.2,1423.18 16529.2,1423.18 16484.2,1423.18 \"/>\n",
       "<path clip-path=\"url(#clip952)\" d=\"M16529.2 1423.18 L16529.2 1423.18 L16574.3 1423.18 L16574.3 1423.18 L16529.2 1423.18 L16529.2 1423.18  Z\" fill=\"#009af9\" fill-rule=\"evenodd\" fill-opacity=\"1\"/>\n",
       "<polyline clip-path=\"url(#clip952)\" style=\"stroke:#000000; stroke-linecap:round; stroke-linejoin:round; stroke-width:4; stroke-opacity:1; fill:none\" points=\"16529.2,1423.18 16529.2,1423.18 16574.3,1423.18 16529.2,1423.18 \"/>\n",
       "<path clip-path=\"url(#clip952)\" d=\"M16574.3 1423.18 L16574.3 1423.18 L16619.3 1423.18 L16619.3 1423.18 L16574.3 1423.18 L16574.3 1423.18  Z\" fill=\"#009af9\" fill-rule=\"evenodd\" fill-opacity=\"1\"/>\n",
       "<polyline clip-path=\"url(#clip952)\" style=\"stroke:#000000; stroke-linecap:round; stroke-linejoin:round; stroke-width:4; stroke-opacity:1; fill:none\" points=\"16574.3,1423.18 16574.3,1423.18 16619.3,1423.18 16574.3,1423.18 \"/>\n",
       "<path clip-path=\"url(#clip952)\" d=\"M16619.3 1423.18 L16619.3 1423.18 L16664.3 1423.18 L16664.3 1423.18 L16619.3 1423.18 L16619.3 1423.18  Z\" fill=\"#009af9\" fill-rule=\"evenodd\" fill-opacity=\"1\"/>\n",
       "<polyline clip-path=\"url(#clip952)\" style=\"stroke:#000000; stroke-linecap:round; stroke-linejoin:round; stroke-width:4; stroke-opacity:1; fill:none\" points=\"16619.3,1423.18 16619.3,1423.18 16664.3,1423.18 16619.3,1423.18 \"/>\n",
       "<path clip-path=\"url(#clip952)\" d=\"M16664.3 1423.18 L16664.3 1423.18 L16709.4 1423.18 L16709.4 1423.18 L16664.3 1423.18 L16664.3 1423.18  Z\" fill=\"#009af9\" fill-rule=\"evenodd\" fill-opacity=\"1\"/>\n",
       "<polyline clip-path=\"url(#clip952)\" style=\"stroke:#000000; stroke-linecap:round; stroke-linejoin:round; stroke-width:4; stroke-opacity:1; fill:none\" points=\"16664.3,1423.18 16664.3,1423.18 16709.4,1423.18 16664.3,1423.18 \"/>\n",
       "<path clip-path=\"url(#clip952)\" d=\"M16709.4 1423.18 L16709.4 1423.18 L16754.4 1423.18 L16754.4 1423.18 L16709.4 1423.18 L16709.4 1423.18  Z\" fill=\"#009af9\" fill-rule=\"evenodd\" fill-opacity=\"1\"/>\n",
       "<polyline clip-path=\"url(#clip952)\" style=\"stroke:#000000; stroke-linecap:round; stroke-linejoin:round; stroke-width:4; stroke-opacity:1; fill:none\" points=\"16709.4,1423.18 16709.4,1423.18 16754.4,1423.18 16709.4,1423.18 \"/>\n",
       "<path clip-path=\"url(#clip952)\" d=\"M16754.4 1423.18 L16754.4 1423.18 L16799.4 1423.18 L16799.4 1423.18 L16754.4 1423.18 L16754.4 1423.18  Z\" fill=\"#009af9\" fill-rule=\"evenodd\" fill-opacity=\"1\"/>\n",
       "<polyline clip-path=\"url(#clip952)\" style=\"stroke:#000000; stroke-linecap:round; stroke-linejoin:round; stroke-width:4; stroke-opacity:1; fill:none\" points=\"16754.4,1423.18 16754.4,1423.18 16799.4,1423.18 16754.4,1423.18 \"/>\n",
       "<path clip-path=\"url(#clip952)\" d=\"M16799.4 1423.18 L16799.4 1423.18 L16844.5 1423.18 L16844.5 1423.18 L16799.4 1423.18 L16799.4 1423.18  Z\" fill=\"#009af9\" fill-rule=\"evenodd\" fill-opacity=\"1\"/>\n",
       "<polyline clip-path=\"url(#clip952)\" style=\"stroke:#000000; stroke-linecap:round; stroke-linejoin:round; stroke-width:4; stroke-opacity:1; fill:none\" points=\"16799.4,1423.18 16799.4,1423.18 16844.5,1423.18 16799.4,1423.18 \"/>\n",
       "<path clip-path=\"url(#clip952)\" d=\"M16844.5 1423.18 L16844.5 1423.18 L16889.5 1423.18 L16889.5 1423.18 L16844.5 1423.18 L16844.5 1423.18  Z\" fill=\"#009af9\" fill-rule=\"evenodd\" fill-opacity=\"1\"/>\n",
       "<polyline clip-path=\"url(#clip952)\" style=\"stroke:#000000; stroke-linecap:round; stroke-linejoin:round; stroke-width:4; stroke-opacity:1; fill:none\" points=\"16844.5,1423.18 16844.5,1423.18 16889.5,1423.18 16844.5,1423.18 \"/>\n",
       "<path clip-path=\"url(#clip952)\" d=\"M16889.5 1423.18 L16889.5 1423.18 L16934.6 1423.18 L16934.6 1423.18 L16889.5 1423.18 L16889.5 1423.18  Z\" fill=\"#009af9\" fill-rule=\"evenodd\" fill-opacity=\"1\"/>\n",
       "<polyline clip-path=\"url(#clip952)\" style=\"stroke:#000000; stroke-linecap:round; stroke-linejoin:round; stroke-width:4; stroke-opacity:1; fill:none\" points=\"16889.5,1423.18 16889.5,1423.18 16934.6,1423.18 16889.5,1423.18 \"/>\n",
       "<path clip-path=\"url(#clip952)\" d=\"M16934.6 1423.18 L16934.6 1423.18 L16979.6 1423.18 L16979.6 1423.18 L16934.6 1423.18 L16934.6 1423.18  Z\" fill=\"#009af9\" fill-rule=\"evenodd\" fill-opacity=\"1\"/>\n",
       "<polyline clip-path=\"url(#clip952)\" style=\"stroke:#000000; stroke-linecap:round; stroke-linejoin:round; stroke-width:4; stroke-opacity:1; fill:none\" points=\"16934.6,1423.18 16934.6,1423.18 16979.6,1423.18 16934.6,1423.18 \"/>\n",
       "<path clip-path=\"url(#clip952)\" d=\"M16979.6 1423.18 L16979.6 1423.18 L17024.6 1423.18 L17024.6 1423.18 L16979.6 1423.18 L16979.6 1423.18  Z\" fill=\"#009af9\" fill-rule=\"evenodd\" fill-opacity=\"1\"/>\n",
       "<polyline clip-path=\"url(#clip952)\" style=\"stroke:#000000; stroke-linecap:round; stroke-linejoin:round; stroke-width:4; stroke-opacity:1; fill:none\" points=\"16979.6,1423.18 16979.6,1423.18 17024.6,1423.18 16979.6,1423.18 \"/>\n",
       "<path clip-path=\"url(#clip952)\" d=\"M17024.6 1423.18 L17024.6 1423.18 L17069.7 1423.18 L17069.7 1423.18 L17024.6 1423.18 L17024.6 1423.18  Z\" fill=\"#009af9\" fill-rule=\"evenodd\" fill-opacity=\"1\"/>\n",
       "<polyline clip-path=\"url(#clip952)\" style=\"stroke:#000000; stroke-linecap:round; stroke-linejoin:round; stroke-width:4; stroke-opacity:1; fill:none\" points=\"17024.6,1423.18 17024.6,1423.18 17069.7,1423.18 17024.6,1423.18 \"/>\n",
       "<path clip-path=\"url(#clip952)\" d=\"M17069.7 1423.18 L17069.7 1423.18 L17114.7 1423.18 L17114.7 1423.18 L17069.7 1423.18 L17069.7 1423.18  Z\" fill=\"#009af9\" fill-rule=\"evenodd\" fill-opacity=\"1\"/>\n",
       "<polyline clip-path=\"url(#clip952)\" style=\"stroke:#000000; stroke-linecap:round; stroke-linejoin:round; stroke-width:4; stroke-opacity:1; fill:none\" points=\"17069.7,1423.18 17069.7,1423.18 17114.7,1423.18 17069.7,1423.18 \"/>\n",
       "<path clip-path=\"url(#clip952)\" d=\"M17114.7 1423.18 L17114.7 1423.18 L17159.7 1423.18 L17159.7 1423.18 L17114.7 1423.18 L17114.7 1423.18  Z\" fill=\"#009af9\" fill-rule=\"evenodd\" fill-opacity=\"1\"/>\n",
       "<polyline clip-path=\"url(#clip952)\" style=\"stroke:#000000; stroke-linecap:round; stroke-linejoin:round; stroke-width:4; stroke-opacity:1; fill:none\" points=\"17114.7,1423.18 17114.7,1423.18 17159.7,1423.18 17114.7,1423.18 \"/>\n",
       "<path clip-path=\"url(#clip952)\" d=\"M17159.7 1423.18 L17159.7 1423.18 L17204.8 1423.18 L17204.8 1423.18 L17159.7 1423.18 L17159.7 1423.18  Z\" fill=\"#009af9\" fill-rule=\"evenodd\" fill-opacity=\"1\"/>\n",
       "<polyline clip-path=\"url(#clip952)\" style=\"stroke:#000000; stroke-linecap:round; stroke-linejoin:round; stroke-width:4; stroke-opacity:1; fill:none\" points=\"17159.7,1423.18 17159.7,1423.18 17204.8,1423.18 17159.7,1423.18 \"/>\n",
       "<path clip-path=\"url(#clip952)\" d=\"M17204.8 1423.18 L17204.8 1423.18 L17249.8 1423.18 L17249.8 1423.18 L17204.8 1423.18 L17204.8 1423.18  Z\" fill=\"#009af9\" fill-rule=\"evenodd\" fill-opacity=\"1\"/>\n",
       "<polyline clip-path=\"url(#clip952)\" style=\"stroke:#000000; stroke-linecap:round; stroke-linejoin:round; stroke-width:4; stroke-opacity:1; fill:none\" points=\"17204.8,1423.18 17204.8,1423.18 17249.8,1423.18 17204.8,1423.18 \"/>\n",
       "<path clip-path=\"url(#clip952)\" d=\"M17249.8 1423.18 L17249.8 1423.18 L17294.9 1423.18 L17294.9 1423.18 L17249.8 1423.18 L17249.8 1423.18  Z\" fill=\"#009af9\" fill-rule=\"evenodd\" fill-opacity=\"1\"/>\n",
       "<polyline clip-path=\"url(#clip952)\" style=\"stroke:#000000; stroke-linecap:round; stroke-linejoin:round; stroke-width:4; stroke-opacity:1; fill:none\" points=\"17249.8,1423.18 17249.8,1423.18 17294.9,1423.18 17249.8,1423.18 \"/>\n",
       "<path clip-path=\"url(#clip952)\" d=\"M17294.9 1423.18 L17294.9 1423.18 L17339.9 1423.18 L17339.9 1423.18 L17294.9 1423.18 L17294.9 1423.18  Z\" fill=\"#009af9\" fill-rule=\"evenodd\" fill-opacity=\"1\"/>\n",
       "<polyline clip-path=\"url(#clip952)\" style=\"stroke:#000000; stroke-linecap:round; stroke-linejoin:round; stroke-width:4; stroke-opacity:1; fill:none\" points=\"17294.9,1423.18 17294.9,1423.18 17339.9,1423.18 17294.9,1423.18 \"/>\n",
       "<path clip-path=\"url(#clip952)\" d=\"M17339.9 1423.18 L17339.9 1423.18 L17384.9 1423.18 L17384.9 1423.18 L17339.9 1423.18 L17339.9 1423.18  Z\" fill=\"#009af9\" fill-rule=\"evenodd\" fill-opacity=\"1\"/>\n",
       "<polyline clip-path=\"url(#clip952)\" style=\"stroke:#000000; stroke-linecap:round; stroke-linejoin:round; stroke-width:4; stroke-opacity:1; fill:none\" points=\"17339.9,1423.18 17339.9,1423.18 17384.9,1423.18 17339.9,1423.18 \"/>\n",
       "<path clip-path=\"url(#clip952)\" d=\"M17384.9 1423.18 L17384.9 1423.18 L17430 1423.18 L17430 1423.18 L17384.9 1423.18 L17384.9 1423.18  Z\" fill=\"#009af9\" fill-rule=\"evenodd\" fill-opacity=\"1\"/>\n",
       "<polyline clip-path=\"url(#clip952)\" style=\"stroke:#000000; stroke-linecap:round; stroke-linejoin:round; stroke-width:4; stroke-opacity:1; fill:none\" points=\"17384.9,1423.18 17384.9,1423.18 17430,1423.18 17384.9,1423.18 \"/>\n",
       "<path clip-path=\"url(#clip952)\" d=\"M17430 1423.18 L17430 1423.18 L17475 1423.18 L17475 1423.18 L17430 1423.18 L17430 1423.18  Z\" fill=\"#009af9\" fill-rule=\"evenodd\" fill-opacity=\"1\"/>\n",
       "<polyline clip-path=\"url(#clip952)\" style=\"stroke:#000000; stroke-linecap:round; stroke-linejoin:round; stroke-width:4; stroke-opacity:1; fill:none\" points=\"17430,1423.18 17430,1423.18 17475,1423.18 17430,1423.18 \"/>\n",
       "<path clip-path=\"url(#clip952)\" d=\"M17475 1423.18 L17475 1423.18 L17520 1423.18 L17520 1423.18 L17475 1423.18 L17475 1423.18  Z\" fill=\"#009af9\" fill-rule=\"evenodd\" fill-opacity=\"1\"/>\n",
       "<polyline clip-path=\"url(#clip952)\" style=\"stroke:#000000; stroke-linecap:round; stroke-linejoin:round; stroke-width:4; stroke-opacity:1; fill:none\" points=\"17475,1423.18 17475,1423.18 17520,1423.18 17475,1423.18 \"/>\n",
       "<path clip-path=\"url(#clip952)\" d=\"M17520 1423.18 L17520 1423.18 L17565.1 1423.18 L17565.1 1423.18 L17520 1423.18 L17520 1423.18  Z\" fill=\"#009af9\" fill-rule=\"evenodd\" fill-opacity=\"1\"/>\n",
       "<polyline clip-path=\"url(#clip952)\" style=\"stroke:#000000; stroke-linecap:round; stroke-linejoin:round; stroke-width:4; stroke-opacity:1; fill:none\" points=\"17520,1423.18 17520,1423.18 17565.1,1423.18 17520,1423.18 \"/>\n",
       "<path clip-path=\"url(#clip952)\" d=\"M17565.1 1423.18 L17565.1 1423.18 L17610.1 1423.18 L17610.1 1423.18 L17565.1 1423.18 L17565.1 1423.18  Z\" fill=\"#009af9\" fill-rule=\"evenodd\" fill-opacity=\"1\"/>\n",
       "<polyline clip-path=\"url(#clip952)\" style=\"stroke:#000000; stroke-linecap:round; stroke-linejoin:round; stroke-width:4; stroke-opacity:1; fill:none\" points=\"17565.1,1423.18 17565.1,1423.18 17610.1,1423.18 17565.1,1423.18 \"/>\n",
       "<path clip-path=\"url(#clip952)\" d=\"M17610.1 1423.18 L17610.1 1423.18 L17655.1 1423.18 L17655.1 1423.18 L17610.1 1423.18 L17610.1 1423.18  Z\" fill=\"#009af9\" fill-rule=\"evenodd\" fill-opacity=\"1\"/>\n",
       "<polyline clip-path=\"url(#clip952)\" style=\"stroke:#000000; stroke-linecap:round; stroke-linejoin:round; stroke-width:4; stroke-opacity:1; fill:none\" points=\"17610.1,1423.18 17610.1,1423.18 17655.1,1423.18 17610.1,1423.18 \"/>\n",
       "<path clip-path=\"url(#clip952)\" d=\"M17655.1 1423.18 L17655.1 1423.18 L17700.2 1423.18 L17700.2 1423.18 L17655.1 1423.18 L17655.1 1423.18  Z\" fill=\"#009af9\" fill-rule=\"evenodd\" fill-opacity=\"1\"/>\n",
       "<polyline clip-path=\"url(#clip952)\" style=\"stroke:#000000; stroke-linecap:round; stroke-linejoin:round; stroke-width:4; stroke-opacity:1; fill:none\" points=\"17655.1,1423.18 17655.1,1423.18 17700.2,1423.18 17655.1,1423.18 \"/>\n",
       "<path clip-path=\"url(#clip952)\" d=\"M17700.2 1423.18 L17700.2 1423.18 L17745.2 1423.18 L17745.2 1423.18 L17700.2 1423.18 L17700.2 1423.18  Z\" fill=\"#009af9\" fill-rule=\"evenodd\" fill-opacity=\"1\"/>\n",
       "<polyline clip-path=\"url(#clip952)\" style=\"stroke:#000000; stroke-linecap:round; stroke-linejoin:round; stroke-width:4; stroke-opacity:1; fill:none\" points=\"17700.2,1423.18 17700.2,1423.18 17745.2,1423.18 17700.2,1423.18 \"/>\n",
       "<path clip-path=\"url(#clip952)\" d=\"M17745.2 1423.18 L17745.2 1423.18 L17790.3 1423.18 L17790.3 1423.18 L17745.2 1423.18 L17745.2 1423.18  Z\" fill=\"#009af9\" fill-rule=\"evenodd\" fill-opacity=\"1\"/>\n",
       "<polyline clip-path=\"url(#clip952)\" style=\"stroke:#000000; stroke-linecap:round; stroke-linejoin:round; stroke-width:4; stroke-opacity:1; fill:none\" points=\"17745.2,1423.18 17745.2,1423.18 17790.3,1423.18 17745.2,1423.18 \"/>\n",
       "<path clip-path=\"url(#clip952)\" d=\"M17790.3 1423.18 L17790.3 1423.18 L17835.3 1423.18 L17835.3 1423.18 L17790.3 1423.18 L17790.3 1423.18  Z\" fill=\"#009af9\" fill-rule=\"evenodd\" fill-opacity=\"1\"/>\n",
       "<polyline clip-path=\"url(#clip952)\" style=\"stroke:#000000; stroke-linecap:round; stroke-linejoin:round; stroke-width:4; stroke-opacity:1; fill:none\" points=\"17790.3,1423.18 17790.3,1423.18 17835.3,1423.18 17790.3,1423.18 \"/>\n",
       "<path clip-path=\"url(#clip952)\" d=\"M17835.3 1423.18 L17835.3 1423.18 L17880.3 1423.18 L17880.3 1423.18 L17835.3 1423.18 L17835.3 1423.18  Z\" fill=\"#009af9\" fill-rule=\"evenodd\" fill-opacity=\"1\"/>\n",
       "<polyline clip-path=\"url(#clip952)\" style=\"stroke:#000000; stroke-linecap:round; stroke-linejoin:round; stroke-width:4; stroke-opacity:1; fill:none\" points=\"17835.3,1423.18 17835.3,1423.18 17880.3,1423.18 17835.3,1423.18 \"/>\n",
       "<path clip-path=\"url(#clip952)\" d=\"M17880.3 1423.18 L17880.3 1423.18 L17925.4 1423.18 L17925.4 1423.18 L17880.3 1423.18 L17880.3 1423.18  Z\" fill=\"#009af9\" fill-rule=\"evenodd\" fill-opacity=\"1\"/>\n",
       "<polyline clip-path=\"url(#clip952)\" style=\"stroke:#000000; stroke-linecap:round; stroke-linejoin:round; stroke-width:4; stroke-opacity:1; fill:none\" points=\"17880.3,1423.18 17880.3,1423.18 17925.4,1423.18 17880.3,1423.18 \"/>\n",
       "<path clip-path=\"url(#clip952)\" d=\"M17925.4 1423.18 L17925.4 1423.18 L17970.4 1423.18 L17970.4 1423.18 L17925.4 1423.18 L17925.4 1423.18  Z\" fill=\"#009af9\" fill-rule=\"evenodd\" fill-opacity=\"1\"/>\n",
       "<polyline clip-path=\"url(#clip952)\" style=\"stroke:#000000; stroke-linecap:round; stroke-linejoin:round; stroke-width:4; stroke-opacity:1; fill:none\" points=\"17925.4,1423.18 17925.4,1423.18 17970.4,1423.18 17925.4,1423.18 \"/>\n",
       "<path clip-path=\"url(#clip952)\" d=\"M17970.4 1423.18 L17970.4 1423.18 L18015.4 1423.18 L18015.4 1423.18 L17970.4 1423.18 L17970.4 1423.18  Z\" fill=\"#009af9\" fill-rule=\"evenodd\" fill-opacity=\"1\"/>\n",
       "<polyline clip-path=\"url(#clip952)\" style=\"stroke:#000000; stroke-linecap:round; stroke-linejoin:round; stroke-width:4; stroke-opacity:1; fill:none\" points=\"17970.4,1423.18 17970.4,1423.18 18015.4,1423.18 17970.4,1423.18 \"/>\n",
       "<path clip-path=\"url(#clip952)\" d=\"M18015.4 1423.18 L18015.4 1423.18 L18060.5 1423.18 L18060.5 1423.18 L18015.4 1423.18 L18015.4 1423.18  Z\" fill=\"#009af9\" fill-rule=\"evenodd\" fill-opacity=\"1\"/>\n",
       "<polyline clip-path=\"url(#clip952)\" style=\"stroke:#000000; stroke-linecap:round; stroke-linejoin:round; stroke-width:4; stroke-opacity:1; fill:none\" points=\"18015.4,1423.18 18015.4,1423.18 18060.5,1423.18 18015.4,1423.18 \"/>\n",
       "<path clip-path=\"url(#clip952)\" d=\"M18060.5 1423.18 L18060.5 1423.18 L18105.5 1423.18 L18105.5 1423.18 L18060.5 1423.18 L18060.5 1423.18  Z\" fill=\"#009af9\" fill-rule=\"evenodd\" fill-opacity=\"1\"/>\n",
       "<polyline clip-path=\"url(#clip952)\" style=\"stroke:#000000; stroke-linecap:round; stroke-linejoin:round; stroke-width:4; stroke-opacity:1; fill:none\" points=\"18060.5,1423.18 18060.5,1423.18 18105.5,1423.18 18060.5,1423.18 \"/>\n",
       "<path clip-path=\"url(#clip952)\" d=\"M18105.5 1423.18 L18105.5 1423.18 L18150.6 1423.18 L18150.6 1423.18 L18105.5 1423.18 L18105.5 1423.18  Z\" fill=\"#009af9\" fill-rule=\"evenodd\" fill-opacity=\"1\"/>\n",
       "<polyline clip-path=\"url(#clip952)\" style=\"stroke:#000000; stroke-linecap:round; stroke-linejoin:round; stroke-width:4; stroke-opacity:1; fill:none\" points=\"18105.5,1423.18 18105.5,1423.18 18150.6,1423.18 18105.5,1423.18 \"/>\n",
       "<path clip-path=\"url(#clip952)\" d=\"M18150.6 1423.18 L18150.6 1423.18 L18195.6 1423.18 L18195.6 1423.18 L18150.6 1423.18 L18150.6 1423.18  Z\" fill=\"#009af9\" fill-rule=\"evenodd\" fill-opacity=\"1\"/>\n",
       "<polyline clip-path=\"url(#clip952)\" style=\"stroke:#000000; stroke-linecap:round; stroke-linejoin:round; stroke-width:4; stroke-opacity:1; fill:none\" points=\"18150.6,1423.18 18150.6,1423.18 18195.6,1423.18 18150.6,1423.18 \"/>\n",
       "<path clip-path=\"url(#clip952)\" d=\"M18195.6 1423.18 L18195.6 1423.18 L18240.6 1423.18 L18240.6 1423.18 L18195.6 1423.18 L18195.6 1423.18  Z\" fill=\"#009af9\" fill-rule=\"evenodd\" fill-opacity=\"1\"/>\n",
       "<polyline clip-path=\"url(#clip952)\" style=\"stroke:#000000; stroke-linecap:round; stroke-linejoin:round; stroke-width:4; stroke-opacity:1; fill:none\" points=\"18195.6,1423.18 18195.6,1423.18 18240.6,1423.18 18195.6,1423.18 \"/>\n",
       "<path clip-path=\"url(#clip952)\" d=\"M18240.6 1423.18 L18240.6 1423.18 L18285.7 1423.18 L18285.7 1423.18 L18240.6 1423.18 L18240.6 1423.18  Z\" fill=\"#009af9\" fill-rule=\"evenodd\" fill-opacity=\"1\"/>\n",
       "<polyline clip-path=\"url(#clip952)\" style=\"stroke:#000000; stroke-linecap:round; stroke-linejoin:round; stroke-width:4; stroke-opacity:1; fill:none\" points=\"18240.6,1423.18 18240.6,1423.18 18285.7,1423.18 18240.6,1423.18 \"/>\n",
       "<path clip-path=\"url(#clip952)\" d=\"M18285.7 1423.18 L18285.7 1423.18 L18330.7 1423.18 L18330.7 1423.18 L18285.7 1423.18 L18285.7 1423.18  Z\" fill=\"#009af9\" fill-rule=\"evenodd\" fill-opacity=\"1\"/>\n",
       "<polyline clip-path=\"url(#clip952)\" style=\"stroke:#000000; stroke-linecap:round; stroke-linejoin:round; stroke-width:4; stroke-opacity:1; fill:none\" points=\"18285.7,1423.18 18285.7,1423.18 18330.7,1423.18 18285.7,1423.18 \"/>\n",
       "<path clip-path=\"url(#clip952)\" d=\"M18330.7 1423.18 L18330.7 1423.18 L18375.7 1423.18 L18375.7 1423.18 L18330.7 1423.18 L18330.7 1423.18  Z\" fill=\"#009af9\" fill-rule=\"evenodd\" fill-opacity=\"1\"/>\n",
       "<polyline clip-path=\"url(#clip952)\" style=\"stroke:#000000; stroke-linecap:round; stroke-linejoin:round; stroke-width:4; stroke-opacity:1; fill:none\" points=\"18330.7,1423.18 18330.7,1423.18 18375.7,1423.18 18330.7,1423.18 \"/>\n",
       "<path clip-path=\"url(#clip952)\" d=\"M18375.7 1423.18 L18375.7 1423.18 L18420.8 1423.18 L18420.8 1423.18 L18375.7 1423.18 L18375.7 1423.18  Z\" fill=\"#009af9\" fill-rule=\"evenodd\" fill-opacity=\"1\"/>\n",
       "<polyline clip-path=\"url(#clip952)\" style=\"stroke:#000000; stroke-linecap:round; stroke-linejoin:round; stroke-width:4; stroke-opacity:1; fill:none\" points=\"18375.7,1423.18 18375.7,1423.18 18420.8,1423.18 18375.7,1423.18 \"/>\n",
       "<path clip-path=\"url(#clip952)\" d=\"M18420.8 1423.18 L18420.8 1423.18 L18465.8 1423.18 L18465.8 1423.18 L18420.8 1423.18 L18420.8 1423.18  Z\" fill=\"#009af9\" fill-rule=\"evenodd\" fill-opacity=\"1\"/>\n",
       "<polyline clip-path=\"url(#clip952)\" style=\"stroke:#000000; stroke-linecap:round; stroke-linejoin:round; stroke-width:4; stroke-opacity:1; fill:none\" points=\"18420.8,1423.18 18420.8,1423.18 18465.8,1423.18 18420.8,1423.18 \"/>\n",
       "<path clip-path=\"url(#clip952)\" d=\"M18465.8 1423.18 L18465.8 1423.18 L18510.9 1423.18 L18510.9 1423.18 L18465.8 1423.18 L18465.8 1423.18  Z\" fill=\"#009af9\" fill-rule=\"evenodd\" fill-opacity=\"1\"/>\n",
       "<polyline clip-path=\"url(#clip952)\" style=\"stroke:#000000; stroke-linecap:round; stroke-linejoin:round; stroke-width:4; stroke-opacity:1; fill:none\" points=\"18465.8,1423.18 18465.8,1423.18 18510.9,1423.18 18465.8,1423.18 \"/>\n",
       "<path clip-path=\"url(#clip952)\" d=\"M18510.9 1423.18 L18510.9 1423.18 L18555.9 1423.18 L18555.9 1423.18 L18510.9 1423.18 L18510.9 1423.18  Z\" fill=\"#009af9\" fill-rule=\"evenodd\" fill-opacity=\"1\"/>\n",
       "<polyline clip-path=\"url(#clip952)\" style=\"stroke:#000000; stroke-linecap:round; stroke-linejoin:round; stroke-width:4; stroke-opacity:1; fill:none\" points=\"18510.9,1423.18 18510.9,1423.18 18555.9,1423.18 18510.9,1423.18 \"/>\n",
       "<path clip-path=\"url(#clip952)\" d=\"M18555.9 1423.18 L18555.9 1423.18 L18600.9 1423.18 L18600.9 1423.18 L18555.9 1423.18 L18555.9 1423.18  Z\" fill=\"#009af9\" fill-rule=\"evenodd\" fill-opacity=\"1\"/>\n",
       "<polyline clip-path=\"url(#clip952)\" style=\"stroke:#000000; stroke-linecap:round; stroke-linejoin:round; stroke-width:4; stroke-opacity:1; fill:none\" points=\"18555.9,1423.18 18555.9,1423.18 18600.9,1423.18 18555.9,1423.18 \"/>\n",
       "<path clip-path=\"url(#clip952)\" d=\"M18600.9 1423.18 L18600.9 1423.18 L18646 1423.18 L18646 1423.18 L18600.9 1423.18 L18600.9 1423.18  Z\" fill=\"#009af9\" fill-rule=\"evenodd\" fill-opacity=\"1\"/>\n",
       "<polyline clip-path=\"url(#clip952)\" style=\"stroke:#000000; stroke-linecap:round; stroke-linejoin:round; stroke-width:4; stroke-opacity:1; fill:none\" points=\"18600.9,1423.18 18600.9,1423.18 18646,1423.18 18600.9,1423.18 \"/>\n",
       "<path clip-path=\"url(#clip952)\" d=\"M18646 1423.18 L18646 1423.18 L18691 1423.18 L18691 1423.18 L18646 1423.18 L18646 1423.18  Z\" fill=\"#009af9\" fill-rule=\"evenodd\" fill-opacity=\"1\"/>\n",
       "<polyline clip-path=\"url(#clip952)\" style=\"stroke:#000000; stroke-linecap:round; stroke-linejoin:round; stroke-width:4; stroke-opacity:1; fill:none\" points=\"18646,1423.18 18646,1423.18 18691,1423.18 18646,1423.18 \"/>\n",
       "<path clip-path=\"url(#clip952)\" d=\"M18691 1423.18 L18691 1423.18 L18736 1423.18 L18736 1423.18 L18691 1423.18 L18691 1423.18  Z\" fill=\"#009af9\" fill-rule=\"evenodd\" fill-opacity=\"1\"/>\n",
       "<polyline clip-path=\"url(#clip952)\" style=\"stroke:#000000; stroke-linecap:round; stroke-linejoin:round; stroke-width:4; stroke-opacity:1; fill:none\" points=\"18691,1423.18 18691,1423.18 18736,1423.18 18691,1423.18 \"/>\n",
       "<path clip-path=\"url(#clip952)\" d=\"M18736 1423.18 L18736 1423.18 L18781.1 1423.18 L18781.1 1423.18 L18736 1423.18 L18736 1423.18  Z\" fill=\"#009af9\" fill-rule=\"evenodd\" fill-opacity=\"1\"/>\n",
       "<polyline clip-path=\"url(#clip952)\" style=\"stroke:#000000; stroke-linecap:round; stroke-linejoin:round; stroke-width:4; stroke-opacity:1; fill:none\" points=\"18736,1423.18 18736,1423.18 18781.1,1423.18 18736,1423.18 \"/>\n",
       "<path clip-path=\"url(#clip952)\" d=\"M18781.1 1423.18 L18781.1 1423.18 L18826.1 1423.18 L18826.1 1423.18 L18781.1 1423.18 L18781.1 1423.18  Z\" fill=\"#009af9\" fill-rule=\"evenodd\" fill-opacity=\"1\"/>\n",
       "<polyline clip-path=\"url(#clip952)\" style=\"stroke:#000000; stroke-linecap:round; stroke-linejoin:round; stroke-width:4; stroke-opacity:1; fill:none\" points=\"18781.1,1423.18 18781.1,1423.18 18826.1,1423.18 18781.1,1423.18 \"/>\n",
       "<path clip-path=\"url(#clip952)\" d=\"M18826.1 1423.18 L18826.1 1423.18 L18871.2 1423.18 L18871.2 1423.18 L18826.1 1423.18 L18826.1 1423.18  Z\" fill=\"#009af9\" fill-rule=\"evenodd\" fill-opacity=\"1\"/>\n",
       "<polyline clip-path=\"url(#clip952)\" style=\"stroke:#000000; stroke-linecap:round; stroke-linejoin:round; stroke-width:4; stroke-opacity:1; fill:none\" points=\"18826.1,1423.18 18826.1,1423.18 18871.2,1423.18 18826.1,1423.18 \"/>\n",
       "<path clip-path=\"url(#clip952)\" d=\"M18871.2 1423.18 L18871.2 1423.18 L18916.2 1423.18 L18916.2 1423.18 L18871.2 1423.18 L18871.2 1423.18  Z\" fill=\"#009af9\" fill-rule=\"evenodd\" fill-opacity=\"1\"/>\n",
       "<polyline clip-path=\"url(#clip952)\" style=\"stroke:#000000; stroke-linecap:round; stroke-linejoin:round; stroke-width:4; stroke-opacity:1; fill:none\" points=\"18871.2,1423.18 18871.2,1423.18 18916.2,1423.18 18871.2,1423.18 \"/>\n",
       "<path clip-path=\"url(#clip952)\" d=\"M18916.2 1423.18 L18916.2 1423.18 L18961.2 1423.18 L18961.2 1423.18 L18916.2 1423.18 L18916.2 1423.18  Z\" fill=\"#009af9\" fill-rule=\"evenodd\" fill-opacity=\"1\"/>\n",
       "<polyline clip-path=\"url(#clip952)\" style=\"stroke:#000000; stroke-linecap:round; stroke-linejoin:round; stroke-width:4; stroke-opacity:1; fill:none\" points=\"18916.2,1423.18 18916.2,1423.18 18961.2,1423.18 18916.2,1423.18 \"/>\n",
       "<path clip-path=\"url(#clip952)\" d=\"M18961.2 1423.18 L18961.2 1423.18 L19006.3 1423.18 L19006.3 1423.18 L18961.2 1423.18 L18961.2 1423.18  Z\" fill=\"#009af9\" fill-rule=\"evenodd\" fill-opacity=\"1\"/>\n",
       "<polyline clip-path=\"url(#clip952)\" style=\"stroke:#000000; stroke-linecap:round; stroke-linejoin:round; stroke-width:4; stroke-opacity:1; fill:none\" points=\"18961.2,1423.18 18961.2,1423.18 19006.3,1423.18 18961.2,1423.18 \"/>\n",
       "<path clip-path=\"url(#clip952)\" d=\"M19006.3 1423.18 L19006.3 1423.18 L19051.3 1423.18 L19051.3 1423.18 L19006.3 1423.18 L19006.3 1423.18  Z\" fill=\"#009af9\" fill-rule=\"evenodd\" fill-opacity=\"1\"/>\n",
       "<polyline clip-path=\"url(#clip952)\" style=\"stroke:#000000; stroke-linecap:round; stroke-linejoin:round; stroke-width:4; stroke-opacity:1; fill:none\" points=\"19006.3,1423.18 19006.3,1423.18 19051.3,1423.18 19006.3,1423.18 \"/>\n",
       "<path clip-path=\"url(#clip952)\" d=\"M19051.3 1423.18 L19051.3 1423.18 L19096.3 1423.18 L19096.3 1423.18 L19051.3 1423.18 L19051.3 1423.18  Z\" fill=\"#009af9\" fill-rule=\"evenodd\" fill-opacity=\"1\"/>\n",
       "<polyline clip-path=\"url(#clip952)\" style=\"stroke:#000000; stroke-linecap:round; stroke-linejoin:round; stroke-width:4; stroke-opacity:1; fill:none\" points=\"19051.3,1423.18 19051.3,1423.18 19096.3,1423.18 19051.3,1423.18 \"/>\n",
       "<path clip-path=\"url(#clip952)\" d=\"M19096.3 1423.18 L19096.3 1423.18 L19141.4 1423.18 L19141.4 1423.18 L19096.3 1423.18 L19096.3 1423.18  Z\" fill=\"#009af9\" fill-rule=\"evenodd\" fill-opacity=\"1\"/>\n",
       "<polyline clip-path=\"url(#clip952)\" style=\"stroke:#000000; stroke-linecap:round; stroke-linejoin:round; stroke-width:4; stroke-opacity:1; fill:none\" points=\"19096.3,1423.18 19096.3,1423.18 19141.4,1423.18 19096.3,1423.18 \"/>\n",
       "<path clip-path=\"url(#clip952)\" d=\"M19141.4 1423.18 L19141.4 1423.18 L19186.4 1423.18 L19186.4 1423.18 L19141.4 1423.18 L19141.4 1423.18  Z\" fill=\"#009af9\" fill-rule=\"evenodd\" fill-opacity=\"1\"/>\n",
       "<polyline clip-path=\"url(#clip952)\" style=\"stroke:#000000; stroke-linecap:round; stroke-linejoin:round; stroke-width:4; stroke-opacity:1; fill:none\" points=\"19141.4,1423.18 19141.4,1423.18 19186.4,1423.18 19141.4,1423.18 \"/>\n",
       "<path clip-path=\"url(#clip952)\" d=\"M19186.4 1423.18 L19186.4 1423.18 L19231.5 1423.18 L19231.5 1423.18 L19186.4 1423.18 L19186.4 1423.18  Z\" fill=\"#009af9\" fill-rule=\"evenodd\" fill-opacity=\"1\"/>\n",
       "<polyline clip-path=\"url(#clip952)\" style=\"stroke:#000000; stroke-linecap:round; stroke-linejoin:round; stroke-width:4; stroke-opacity:1; fill:none\" points=\"19186.4,1423.18 19186.4,1423.18 19231.5,1423.18 19186.4,1423.18 \"/>\n",
       "<path clip-path=\"url(#clip952)\" d=\"M19231.5 1423.18 L19231.5 1423.18 L19276.5 1423.18 L19276.5 1423.18 L19231.5 1423.18 L19231.5 1423.18  Z\" fill=\"#009af9\" fill-rule=\"evenodd\" fill-opacity=\"1\"/>\n",
       "<polyline clip-path=\"url(#clip952)\" style=\"stroke:#000000; stroke-linecap:round; stroke-linejoin:round; stroke-width:4; stroke-opacity:1; fill:none\" points=\"19231.5,1423.18 19231.5,1423.18 19276.5,1423.18 19231.5,1423.18 \"/>\n",
       "<path clip-path=\"url(#clip952)\" d=\"M19276.5 1423.18 L19276.5 1423.18 L19321.5 1423.18 L19321.5 1423.18 L19276.5 1423.18 L19276.5 1423.18  Z\" fill=\"#009af9\" fill-rule=\"evenodd\" fill-opacity=\"1\"/>\n",
       "<polyline clip-path=\"url(#clip952)\" style=\"stroke:#000000; stroke-linecap:round; stroke-linejoin:round; stroke-width:4; stroke-opacity:1; fill:none\" points=\"19276.5,1423.18 19276.5,1423.18 19321.5,1423.18 19276.5,1423.18 \"/>\n",
       "<path clip-path=\"url(#clip952)\" d=\"M19321.5 1423.18 L19321.5 1423.18 L19366.6 1423.18 L19366.6 1423.18 L19321.5 1423.18 L19321.5 1423.18  Z\" fill=\"#009af9\" fill-rule=\"evenodd\" fill-opacity=\"1\"/>\n",
       "<polyline clip-path=\"url(#clip952)\" style=\"stroke:#000000; stroke-linecap:round; stroke-linejoin:round; stroke-width:4; stroke-opacity:1; fill:none\" points=\"19321.5,1423.18 19321.5,1423.18 19366.6,1423.18 19321.5,1423.18 \"/>\n",
       "<path clip-path=\"url(#clip952)\" d=\"M19366.6 1423.18 L19366.6 1423.18 L19411.6 1423.18 L19411.6 1423.18 L19366.6 1423.18 L19366.6 1423.18  Z\" fill=\"#009af9\" fill-rule=\"evenodd\" fill-opacity=\"1\"/>\n",
       "<polyline clip-path=\"url(#clip952)\" style=\"stroke:#000000; stroke-linecap:round; stroke-linejoin:round; stroke-width:4; stroke-opacity:1; fill:none\" points=\"19366.6,1423.18 19366.6,1423.18 19411.6,1423.18 19366.6,1423.18 \"/>\n",
       "<path clip-path=\"url(#clip952)\" d=\"M19411.6 1423.18 L19411.6 1423.18 L19456.6 1423.18 L19456.6 1423.18 L19411.6 1423.18 L19411.6 1423.18  Z\" fill=\"#009af9\" fill-rule=\"evenodd\" fill-opacity=\"1\"/>\n",
       "<polyline clip-path=\"url(#clip952)\" style=\"stroke:#000000; stroke-linecap:round; stroke-linejoin:round; stroke-width:4; stroke-opacity:1; fill:none\" points=\"19411.6,1423.18 19411.6,1423.18 19456.6,1423.18 19411.6,1423.18 \"/>\n",
       "<path clip-path=\"url(#clip952)\" d=\"M19456.6 1423.18 L19456.6 1423.18 L19501.7 1423.18 L19501.7 1423.18 L19456.6 1423.18 L19456.6 1423.18  Z\" fill=\"#009af9\" fill-rule=\"evenodd\" fill-opacity=\"1\"/>\n",
       "<polyline clip-path=\"url(#clip952)\" style=\"stroke:#000000; stroke-linecap:round; stroke-linejoin:round; stroke-width:4; stroke-opacity:1; fill:none\" points=\"19456.6,1423.18 19456.6,1423.18 19501.7,1423.18 19456.6,1423.18 \"/>\n",
       "<path clip-path=\"url(#clip952)\" d=\"M19501.7 1423.18 L19501.7 1423.18 L19546.7 1423.18 L19546.7 1423.18 L19501.7 1423.18 L19501.7 1423.18  Z\" fill=\"#009af9\" fill-rule=\"evenodd\" fill-opacity=\"1\"/>\n",
       "<polyline clip-path=\"url(#clip952)\" style=\"stroke:#000000; stroke-linecap:round; stroke-linejoin:round; stroke-width:4; stroke-opacity:1; fill:none\" points=\"19501.7,1423.18 19501.7,1423.18 19546.7,1423.18 19501.7,1423.18 \"/>\n",
       "<path clip-path=\"url(#clip952)\" d=\"M19546.7 1423.18 L19546.7 1423.18 L19591.7 1423.18 L19591.7 1423.18 L19546.7 1423.18 L19546.7 1423.18  Z\" fill=\"#009af9\" fill-rule=\"evenodd\" fill-opacity=\"1\"/>\n",
       "<polyline clip-path=\"url(#clip952)\" style=\"stroke:#000000; stroke-linecap:round; stroke-linejoin:round; stroke-width:4; stroke-opacity:1; fill:none\" points=\"19546.7,1423.18 19546.7,1423.18 19591.7,1423.18 19546.7,1423.18 \"/>\n",
       "<path clip-path=\"url(#clip952)\" d=\"M19591.7 1423.18 L19591.7 1423.18 L19636.8 1423.18 L19636.8 1423.18 L19591.7 1423.18 L19591.7 1423.18  Z\" fill=\"#009af9\" fill-rule=\"evenodd\" fill-opacity=\"1\"/>\n",
       "<polyline clip-path=\"url(#clip952)\" style=\"stroke:#000000; stroke-linecap:round; stroke-linejoin:round; stroke-width:4; stroke-opacity:1; fill:none\" points=\"19591.7,1423.18 19591.7,1423.18 19636.8,1423.18 19591.7,1423.18 \"/>\n",
       "<path clip-path=\"url(#clip952)\" d=\"M19636.8 1423.18 L19636.8 1423.18 L19681.8 1423.18 L19681.8 1423.18 L19636.8 1423.18 L19636.8 1423.18  Z\" fill=\"#009af9\" fill-rule=\"evenodd\" fill-opacity=\"1\"/>\n",
       "<polyline clip-path=\"url(#clip952)\" style=\"stroke:#000000; stroke-linecap:round; stroke-linejoin:round; stroke-width:4; stroke-opacity:1; fill:none\" points=\"19636.8,1423.18 19636.8,1423.18 19681.8,1423.18 19636.8,1423.18 \"/>\n",
       "<path clip-path=\"url(#clip952)\" d=\"M19681.8 1423.18 L19681.8 1423.18 L19726.9 1423.18 L19726.9 1423.18 L19681.8 1423.18 L19681.8 1423.18  Z\" fill=\"#009af9\" fill-rule=\"evenodd\" fill-opacity=\"1\"/>\n",
       "<polyline clip-path=\"url(#clip952)\" style=\"stroke:#000000; stroke-linecap:round; stroke-linejoin:round; stroke-width:4; stroke-opacity:1; fill:none\" points=\"19681.8,1423.18 19681.8,1423.18 19726.9,1423.18 19681.8,1423.18 \"/>\n",
       "<path clip-path=\"url(#clip952)\" d=\"M19726.9 1423.18 L19726.9 1423.18 L19771.9 1423.18 L19771.9 1423.18 L19726.9 1423.18 L19726.9 1423.18  Z\" fill=\"#009af9\" fill-rule=\"evenodd\" fill-opacity=\"1\"/>\n",
       "<polyline clip-path=\"url(#clip952)\" style=\"stroke:#000000; stroke-linecap:round; stroke-linejoin:round; stroke-width:4; stroke-opacity:1; fill:none\" points=\"19726.9,1423.18 19726.9,1423.18 19771.9,1423.18 19726.9,1423.18 \"/>\n",
       "<path clip-path=\"url(#clip952)\" d=\"M19771.9 1423.18 L19771.9 1423.18 L19816.9 1423.18 L19816.9 1423.18 L19771.9 1423.18 L19771.9 1423.18  Z\" fill=\"#009af9\" fill-rule=\"evenodd\" fill-opacity=\"1\"/>\n",
       "<polyline clip-path=\"url(#clip952)\" style=\"stroke:#000000; stroke-linecap:round; stroke-linejoin:round; stroke-width:4; stroke-opacity:1; fill:none\" points=\"19771.9,1423.18 19771.9,1423.18 19816.9,1423.18 19771.9,1423.18 \"/>\n",
       "<path clip-path=\"url(#clip952)\" d=\"M19816.9 1423.18 L19816.9 1423.18 L19862 1423.18 L19862 1423.18 L19816.9 1423.18 L19816.9 1423.18  Z\" fill=\"#009af9\" fill-rule=\"evenodd\" fill-opacity=\"1\"/>\n",
       "<polyline clip-path=\"url(#clip952)\" style=\"stroke:#000000; stroke-linecap:round; stroke-linejoin:round; stroke-width:4; stroke-opacity:1; fill:none\" points=\"19816.9,1423.18 19816.9,1423.18 19862,1423.18 19816.9,1423.18 \"/>\n",
       "<path clip-path=\"url(#clip952)\" d=\"M19862 1423.18 L19862 1423.18 L19907 1423.18 L19907 1423.18 L19862 1423.18 L19862 1423.18  Z\" fill=\"#009af9\" fill-rule=\"evenodd\" fill-opacity=\"1\"/>\n",
       "<polyline clip-path=\"url(#clip952)\" style=\"stroke:#000000; stroke-linecap:round; stroke-linejoin:round; stroke-width:4; stroke-opacity:1; fill:none\" points=\"19862,1423.18 19862,1423.18 19907,1423.18 19862,1423.18 \"/>\n",
       "<path clip-path=\"url(#clip952)\" d=\"M19907 1423.18 L19907 1423.18 L19952 1423.18 L19952 1423.18 L19907 1423.18 L19907 1423.18  Z\" fill=\"#009af9\" fill-rule=\"evenodd\" fill-opacity=\"1\"/>\n",
       "<polyline clip-path=\"url(#clip952)\" style=\"stroke:#000000; stroke-linecap:round; stroke-linejoin:round; stroke-width:4; stroke-opacity:1; fill:none\" points=\"19907,1423.18 19907,1423.18 19952,1423.18 19907,1423.18 \"/>\n",
       "<path clip-path=\"url(#clip952)\" d=\"M19952 1423.18 L19952 1423.18 L19997.1 1423.18 L19997.1 1423.18 L19952 1423.18 L19952 1423.18  Z\" fill=\"#009af9\" fill-rule=\"evenodd\" fill-opacity=\"1\"/>\n",
       "<polyline clip-path=\"url(#clip952)\" style=\"stroke:#000000; stroke-linecap:round; stroke-linejoin:round; stroke-width:4; stroke-opacity:1; fill:none\" points=\"19952,1423.18 19952,1423.18 19997.1,1423.18 19952,1423.18 \"/>\n",
       "<path clip-path=\"url(#clip952)\" d=\"M19997.1 1423.18 L19997.1 1423.18 L20042.1 1423.18 L20042.1 1423.18 L19997.1 1423.18 L19997.1 1423.18  Z\" fill=\"#009af9\" fill-rule=\"evenodd\" fill-opacity=\"1\"/>\n",
       "<polyline clip-path=\"url(#clip952)\" style=\"stroke:#000000; stroke-linecap:round; stroke-linejoin:round; stroke-width:4; stroke-opacity:1; fill:none\" points=\"19997.1,1423.18 19997.1,1423.18 20042.1,1423.18 19997.1,1423.18 \"/>\n",
       "<path clip-path=\"url(#clip952)\" d=\"M20042.1 1423.18 L20042.1 1423.18 L20087.2 1423.18 L20087.2 1423.18 L20042.1 1423.18 L20042.1 1423.18  Z\" fill=\"#009af9\" fill-rule=\"evenodd\" fill-opacity=\"1\"/>\n",
       "<polyline clip-path=\"url(#clip952)\" style=\"stroke:#000000; stroke-linecap:round; stroke-linejoin:round; stroke-width:4; stroke-opacity:1; fill:none\" points=\"20042.1,1423.18 20042.1,1423.18 20087.2,1423.18 20042.1,1423.18 \"/>\n",
       "<path clip-path=\"url(#clip952)\" d=\"M20087.2 1423.18 L20087.2 1423.18 L20132.2 1423.18 L20132.2 1423.18 L20087.2 1423.18 L20087.2 1423.18  Z\" fill=\"#009af9\" fill-rule=\"evenodd\" fill-opacity=\"1\"/>\n",
       "<polyline clip-path=\"url(#clip952)\" style=\"stroke:#000000; stroke-linecap:round; stroke-linejoin:round; stroke-width:4; stroke-opacity:1; fill:none\" points=\"20087.2,1423.18 20087.2,1423.18 20132.2,1423.18 20087.2,1423.18 \"/>\n",
       "<path clip-path=\"url(#clip952)\" d=\"M20132.2 1423.18 L20132.2 1423.18 L20177.2 1423.18 L20177.2 1423.18 L20132.2 1423.18 L20132.2 1423.18  Z\" fill=\"#009af9\" fill-rule=\"evenodd\" fill-opacity=\"1\"/>\n",
       "<polyline clip-path=\"url(#clip952)\" style=\"stroke:#000000; stroke-linecap:round; stroke-linejoin:round; stroke-width:4; stroke-opacity:1; fill:none\" points=\"20132.2,1423.18 20132.2,1423.18 20177.2,1423.18 20132.2,1423.18 \"/>\n",
       "<path clip-path=\"url(#clip952)\" d=\"M20177.2 1423.18 L20177.2 1423.18 L20222.3 1423.18 L20222.3 1423.18 L20177.2 1423.18 L20177.2 1423.18  Z\" fill=\"#009af9\" fill-rule=\"evenodd\" fill-opacity=\"1\"/>\n",
       "<polyline clip-path=\"url(#clip952)\" style=\"stroke:#000000; stroke-linecap:round; stroke-linejoin:round; stroke-width:4; stroke-opacity:1; fill:none\" points=\"20177.2,1423.18 20177.2,1423.18 20222.3,1423.18 20177.2,1423.18 \"/>\n",
       "<path clip-path=\"url(#clip952)\" d=\"M20222.3 1423.18 L20222.3 1423.18 L20267.3 1423.18 L20267.3 1423.18 L20222.3 1423.18 L20222.3 1423.18  Z\" fill=\"#009af9\" fill-rule=\"evenodd\" fill-opacity=\"1\"/>\n",
       "<polyline clip-path=\"url(#clip952)\" style=\"stroke:#000000; stroke-linecap:round; stroke-linejoin:round; stroke-width:4; stroke-opacity:1; fill:none\" points=\"20222.3,1423.18 20222.3,1423.18 20267.3,1423.18 20222.3,1423.18 \"/>\n",
       "<path clip-path=\"url(#clip952)\" d=\"M20267.3 1423.18 L20267.3 1423.18 L20312.3 1423.18 L20312.3 1423.18 L20267.3 1423.18 L20267.3 1423.18  Z\" fill=\"#009af9\" fill-rule=\"evenodd\" fill-opacity=\"1\"/>\n",
       "<polyline clip-path=\"url(#clip952)\" style=\"stroke:#000000; stroke-linecap:round; stroke-linejoin:round; stroke-width:4; stroke-opacity:1; fill:none\" points=\"20267.3,1423.18 20267.3,1423.18 20312.3,1423.18 20267.3,1423.18 \"/>\n",
       "<path clip-path=\"url(#clip952)\" d=\"M20312.3 1423.18 L20312.3 1423.18 L20357.4 1423.18 L20357.4 1423.18 L20312.3 1423.18 L20312.3 1423.18  Z\" fill=\"#009af9\" fill-rule=\"evenodd\" fill-opacity=\"1\"/>\n",
       "<polyline clip-path=\"url(#clip952)\" style=\"stroke:#000000; stroke-linecap:round; stroke-linejoin:round; stroke-width:4; stroke-opacity:1; fill:none\" points=\"20312.3,1423.18 20312.3,1423.18 20357.4,1423.18 20312.3,1423.18 \"/>\n",
       "<path clip-path=\"url(#clip952)\" d=\"M20357.4 1423.18 L20357.4 1423.18 L20402.4 1423.18 L20402.4 1423.18 L20357.4 1423.18 L20357.4 1423.18  Z\" fill=\"#009af9\" fill-rule=\"evenodd\" fill-opacity=\"1\"/>\n",
       "<polyline clip-path=\"url(#clip952)\" style=\"stroke:#000000; stroke-linecap:round; stroke-linejoin:round; stroke-width:4; stroke-opacity:1; fill:none\" points=\"20357.4,1423.18 20357.4,1423.18 20402.4,1423.18 20357.4,1423.18 \"/>\n",
       "<path clip-path=\"url(#clip952)\" d=\"M20402.4 1423.18 L20402.4 1423.18 L20447.5 1423.18 L20447.5 1423.18 L20402.4 1423.18 L20402.4 1423.18  Z\" fill=\"#009af9\" fill-rule=\"evenodd\" fill-opacity=\"1\"/>\n",
       "<polyline clip-path=\"url(#clip952)\" style=\"stroke:#000000; stroke-linecap:round; stroke-linejoin:round; stroke-width:4; stroke-opacity:1; fill:none\" points=\"20402.4,1423.18 20402.4,1423.18 20447.5,1423.18 20402.4,1423.18 \"/>\n",
       "<path clip-path=\"url(#clip952)\" d=\"M20447.5 1423.18 L20447.5 1423.18 L20492.5 1423.18 L20492.5 1423.18 L20447.5 1423.18 L20447.5 1423.18  Z\" fill=\"#009af9\" fill-rule=\"evenodd\" fill-opacity=\"1\"/>\n",
       "<polyline clip-path=\"url(#clip952)\" style=\"stroke:#000000; stroke-linecap:round; stroke-linejoin:round; stroke-width:4; stroke-opacity:1; fill:none\" points=\"20447.5,1423.18 20447.5,1423.18 20492.5,1423.18 20447.5,1423.18 \"/>\n",
       "<path clip-path=\"url(#clip952)\" d=\"M20492.5 1423.18 L20492.5 1423.18 L20537.5 1423.18 L20537.5 1423.18 L20492.5 1423.18 L20492.5 1423.18  Z\" fill=\"#009af9\" fill-rule=\"evenodd\" fill-opacity=\"1\"/>\n",
       "<polyline clip-path=\"url(#clip952)\" style=\"stroke:#000000; stroke-linecap:round; stroke-linejoin:round; stroke-width:4; stroke-opacity:1; fill:none\" points=\"20492.5,1423.18 20492.5,1423.18 20537.5,1423.18 20492.5,1423.18 \"/>\n",
       "<path clip-path=\"url(#clip952)\" d=\"M20537.5 1423.18 L20537.5 1423.18 L20582.6 1423.18 L20582.6 1423.18 L20537.5 1423.18 L20537.5 1423.18  Z\" fill=\"#009af9\" fill-rule=\"evenodd\" fill-opacity=\"1\"/>\n",
       "<polyline clip-path=\"url(#clip952)\" style=\"stroke:#000000; stroke-linecap:round; stroke-linejoin:round; stroke-width:4; stroke-opacity:1; fill:none\" points=\"20537.5,1423.18 20537.5,1423.18 20582.6,1423.18 20537.5,1423.18 \"/>\n",
       "<path clip-path=\"url(#clip952)\" d=\"M20582.6 1423.18 L20582.6 1423.18 L20627.6 1423.18 L20627.6 1423.18 L20582.6 1423.18 L20582.6 1423.18  Z\" fill=\"#009af9\" fill-rule=\"evenodd\" fill-opacity=\"1\"/>\n",
       "<polyline clip-path=\"url(#clip952)\" style=\"stroke:#000000; stroke-linecap:round; stroke-linejoin:round; stroke-width:4; stroke-opacity:1; fill:none\" points=\"20582.6,1423.18 20582.6,1423.18 20627.6,1423.18 20582.6,1423.18 \"/>\n",
       "<path clip-path=\"url(#clip952)\" d=\"M20627.6 1423.18 L20627.6 1423.18 L20672.6 1423.18 L20672.6 1423.18 L20627.6 1423.18 L20627.6 1423.18  Z\" fill=\"#009af9\" fill-rule=\"evenodd\" fill-opacity=\"1\"/>\n",
       "<polyline clip-path=\"url(#clip952)\" style=\"stroke:#000000; stroke-linecap:round; stroke-linejoin:round; stroke-width:4; stroke-opacity:1; fill:none\" points=\"20627.6,1423.18 20627.6,1423.18 20672.6,1423.18 20627.6,1423.18 \"/>\n",
       "<path clip-path=\"url(#clip952)\" d=\"M20672.6 1423.18 L20672.6 1423.18 L20717.7 1423.18 L20717.7 1423.18 L20672.6 1423.18 L20672.6 1423.18  Z\" fill=\"#009af9\" fill-rule=\"evenodd\" fill-opacity=\"1\"/>\n",
       "<polyline clip-path=\"url(#clip952)\" style=\"stroke:#000000; stroke-linecap:round; stroke-linejoin:round; stroke-width:4; stroke-opacity:1; fill:none\" points=\"20672.6,1423.18 20672.6,1423.18 20717.7,1423.18 20672.6,1423.18 \"/>\n",
       "<path clip-path=\"url(#clip952)\" d=\"M20717.7 1423.18 L20717.7 1423.18 L20762.7 1423.18 L20762.7 1423.18 L20717.7 1423.18 L20717.7 1423.18  Z\" fill=\"#009af9\" fill-rule=\"evenodd\" fill-opacity=\"1\"/>\n",
       "<polyline clip-path=\"url(#clip952)\" style=\"stroke:#000000; stroke-linecap:round; stroke-linejoin:round; stroke-width:4; stroke-opacity:1; fill:none\" points=\"20717.7,1423.18 20717.7,1423.18 20762.7,1423.18 20717.7,1423.18 \"/>\n",
       "<path clip-path=\"url(#clip952)\" d=\"M20762.7 1423.18 L20762.7 1423.18 L20807.8 1423.18 L20807.8 1423.18 L20762.7 1423.18 L20762.7 1423.18  Z\" fill=\"#009af9\" fill-rule=\"evenodd\" fill-opacity=\"1\"/>\n",
       "<polyline clip-path=\"url(#clip952)\" style=\"stroke:#000000; stroke-linecap:round; stroke-linejoin:round; stroke-width:4; stroke-opacity:1; fill:none\" points=\"20762.7,1423.18 20762.7,1423.18 20807.8,1423.18 20762.7,1423.18 \"/>\n",
       "<path clip-path=\"url(#clip952)\" d=\"M20807.8 1423.18 L20807.8 1423.18 L20852.8 1423.18 L20852.8 1423.18 L20807.8 1423.18 L20807.8 1423.18  Z\" fill=\"#009af9\" fill-rule=\"evenodd\" fill-opacity=\"1\"/>\n",
       "<polyline clip-path=\"url(#clip952)\" style=\"stroke:#000000; stroke-linecap:round; stroke-linejoin:round; stroke-width:4; stroke-opacity:1; fill:none\" points=\"20807.8,1423.18 20807.8,1423.18 20852.8,1423.18 20807.8,1423.18 \"/>\n",
       "<path clip-path=\"url(#clip952)\" d=\"M20852.8 1423.18 L20852.8 1423.18 L20897.8 1423.18 L20897.8 1423.18 L20852.8 1423.18 L20852.8 1423.18  Z\" fill=\"#009af9\" fill-rule=\"evenodd\" fill-opacity=\"1\"/>\n",
       "<polyline clip-path=\"url(#clip952)\" style=\"stroke:#000000; stroke-linecap:round; stroke-linejoin:round; stroke-width:4; stroke-opacity:1; fill:none\" points=\"20852.8,1423.18 20852.8,1423.18 20897.8,1423.18 20852.8,1423.18 \"/>\n",
       "<path clip-path=\"url(#clip952)\" d=\"M20897.8 1423.18 L20897.8 1423.18 L20942.9 1423.18 L20942.9 1423.18 L20897.8 1423.18 L20897.8 1423.18  Z\" fill=\"#009af9\" fill-rule=\"evenodd\" fill-opacity=\"1\"/>\n",
       "<polyline clip-path=\"url(#clip952)\" style=\"stroke:#000000; stroke-linecap:round; stroke-linejoin:round; stroke-width:4; stroke-opacity:1; fill:none\" points=\"20897.8,1423.18 20897.8,1423.18 20942.9,1423.18 20897.8,1423.18 \"/>\n",
       "<path clip-path=\"url(#clip952)\" d=\"M20942.9 1423.18 L20942.9 1423.18 L20987.9 1423.18 L20987.9 1423.18 L20942.9 1423.18 L20942.9 1423.18  Z\" fill=\"#009af9\" fill-rule=\"evenodd\" fill-opacity=\"1\"/>\n",
       "<polyline clip-path=\"url(#clip952)\" style=\"stroke:#000000; stroke-linecap:round; stroke-linejoin:round; stroke-width:4; stroke-opacity:1; fill:none\" points=\"20942.9,1423.18 20942.9,1423.18 20987.9,1423.18 20942.9,1423.18 \"/>\n",
       "<path clip-path=\"url(#clip952)\" d=\"M20987.9 1423.18 L20987.9 1423.18 L21032.9 1423.18 L21032.9 1423.18 L20987.9 1423.18 L20987.9 1423.18  Z\" fill=\"#009af9\" fill-rule=\"evenodd\" fill-opacity=\"1\"/>\n",
       "<polyline clip-path=\"url(#clip952)\" style=\"stroke:#000000; stroke-linecap:round; stroke-linejoin:round; stroke-width:4; stroke-opacity:1; fill:none\" points=\"20987.9,1423.18 20987.9,1423.18 21032.9,1423.18 20987.9,1423.18 \"/>\n",
       "<path clip-path=\"url(#clip952)\" d=\"M21032.9 1423.18 L21032.9 1423.18 L21078 1423.18 L21078 1423.18 L21032.9 1423.18 L21032.9 1423.18  Z\" fill=\"#009af9\" fill-rule=\"evenodd\" fill-opacity=\"1\"/>\n",
       "<polyline clip-path=\"url(#clip952)\" style=\"stroke:#000000; stroke-linecap:round; stroke-linejoin:round; stroke-width:4; stroke-opacity:1; fill:none\" points=\"21032.9,1423.18 21032.9,1423.18 21078,1423.18 21032.9,1423.18 \"/>\n",
       "<path clip-path=\"url(#clip952)\" d=\"M21078 1423.18 L21078 1423.18 L21123 1423.18 L21123 1423.18 L21078 1423.18 L21078 1423.18  Z\" fill=\"#009af9\" fill-rule=\"evenodd\" fill-opacity=\"1\"/>\n",
       "<polyline clip-path=\"url(#clip952)\" style=\"stroke:#000000; stroke-linecap:round; stroke-linejoin:round; stroke-width:4; stroke-opacity:1; fill:none\" points=\"21078,1423.18 21078,1423.18 21123,1423.18 21078,1423.18 \"/>\n",
       "<path clip-path=\"url(#clip952)\" d=\"M21123 1423.18 L21123 1423.18 L21168.1 1423.18 L21168.1 1423.18 L21123 1423.18 L21123 1423.18  Z\" fill=\"#009af9\" fill-rule=\"evenodd\" fill-opacity=\"1\"/>\n",
       "<polyline clip-path=\"url(#clip952)\" style=\"stroke:#000000; stroke-linecap:round; stroke-linejoin:round; stroke-width:4; stroke-opacity:1; fill:none\" points=\"21123,1423.18 21123,1423.18 21168.1,1423.18 21123,1423.18 \"/>\n",
       "<path clip-path=\"url(#clip952)\" d=\"M21168.1 1423.18 L21168.1 1423.18 L21213.1 1423.18 L21213.1 1423.18 L21168.1 1423.18 L21168.1 1423.18  Z\" fill=\"#009af9\" fill-rule=\"evenodd\" fill-opacity=\"1\"/>\n",
       "<polyline clip-path=\"url(#clip952)\" style=\"stroke:#000000; stroke-linecap:round; stroke-linejoin:round; stroke-width:4; stroke-opacity:1; fill:none\" points=\"21168.1,1423.18 21168.1,1423.18 21213.1,1423.18 21168.1,1423.18 \"/>\n",
       "<path clip-path=\"url(#clip952)\" d=\"M21213.1 1423.18 L21213.1 1423.18 L21258.1 1423.18 L21258.1 1423.18 L21213.1 1423.18 L21213.1 1423.18  Z\" fill=\"#009af9\" fill-rule=\"evenodd\" fill-opacity=\"1\"/>\n",
       "<polyline clip-path=\"url(#clip952)\" style=\"stroke:#000000; stroke-linecap:round; stroke-linejoin:round; stroke-width:4; stroke-opacity:1; fill:none\" points=\"21213.1,1423.18 21213.1,1423.18 21258.1,1423.18 21213.1,1423.18 \"/>\n",
       "<path clip-path=\"url(#clip952)\" d=\"M21258.1 1423.18 L21258.1 1423.18 L21303.2 1423.18 L21303.2 1423.18 L21258.1 1423.18 L21258.1 1423.18  Z\" fill=\"#009af9\" fill-rule=\"evenodd\" fill-opacity=\"1\"/>\n",
       "<polyline clip-path=\"url(#clip952)\" style=\"stroke:#000000; stroke-linecap:round; stroke-linejoin:round; stroke-width:4; stroke-opacity:1; fill:none\" points=\"21258.1,1423.18 21258.1,1423.18 21303.2,1423.18 21258.1,1423.18 \"/>\n",
       "<path clip-path=\"url(#clip952)\" d=\"M21303.2 1423.18 L21303.2 1423.18 L21348.2 1423.18 L21348.2 1423.18 L21303.2 1423.18 L21303.2 1423.18  Z\" fill=\"#009af9\" fill-rule=\"evenodd\" fill-opacity=\"1\"/>\n",
       "<polyline clip-path=\"url(#clip952)\" style=\"stroke:#000000; stroke-linecap:round; stroke-linejoin:round; stroke-width:4; stroke-opacity:1; fill:none\" points=\"21303.2,1423.18 21303.2,1423.18 21348.2,1423.18 21303.2,1423.18 \"/>\n",
       "<path clip-path=\"url(#clip952)\" d=\"M21348.2 1423.18 L21348.2 1423.18 L21393.2 1423.18 L21393.2 1423.18 L21348.2 1423.18 L21348.2 1423.18  Z\" fill=\"#009af9\" fill-rule=\"evenodd\" fill-opacity=\"1\"/>\n",
       "<polyline clip-path=\"url(#clip952)\" style=\"stroke:#000000; stroke-linecap:round; stroke-linejoin:round; stroke-width:4; stroke-opacity:1; fill:none\" points=\"21348.2,1423.18 21348.2,1423.18 21393.2,1423.18 21348.2,1423.18 \"/>\n",
       "<path clip-path=\"url(#clip952)\" d=\"M21393.2 1423.18 L21393.2 1423.18 L21438.3 1423.18 L21438.3 1423.18 L21393.2 1423.18 L21393.2 1423.18  Z\" fill=\"#009af9\" fill-rule=\"evenodd\" fill-opacity=\"1\"/>\n",
       "<polyline clip-path=\"url(#clip952)\" style=\"stroke:#000000; stroke-linecap:round; stroke-linejoin:round; stroke-width:4; stroke-opacity:1; fill:none\" points=\"21393.2,1423.18 21393.2,1423.18 21438.3,1423.18 21393.2,1423.18 \"/>\n",
       "<path clip-path=\"url(#clip952)\" d=\"M21438.3 1423.18 L21438.3 1423.18 L21483.3 1423.18 L21483.3 1423.18 L21438.3 1423.18 L21438.3 1423.18  Z\" fill=\"#009af9\" fill-rule=\"evenodd\" fill-opacity=\"1\"/>\n",
       "<polyline clip-path=\"url(#clip952)\" style=\"stroke:#000000; stroke-linecap:round; stroke-linejoin:round; stroke-width:4; stroke-opacity:1; fill:none\" points=\"21438.3,1423.18 21438.3,1423.18 21483.3,1423.18 21438.3,1423.18 \"/>\n",
       "<path clip-path=\"url(#clip952)\" d=\"M21483.3 1423.18 L21483.3 1423.18 L21528.3 1423.18 L21528.3 1423.18 L21483.3 1423.18 L21483.3 1423.18  Z\" fill=\"#009af9\" fill-rule=\"evenodd\" fill-opacity=\"1\"/>\n",
       "<polyline clip-path=\"url(#clip952)\" style=\"stroke:#000000; stroke-linecap:round; stroke-linejoin:round; stroke-width:4; stroke-opacity:1; fill:none\" points=\"21483.3,1423.18 21483.3,1423.18 21528.3,1423.18 21483.3,1423.18 \"/>\n",
       "<path clip-path=\"url(#clip952)\" d=\"M21528.3 1423.18 L21528.3 1423.18 L21573.4 1423.18 L21573.4 1423.18 L21528.3 1423.18 L21528.3 1423.18  Z\" fill=\"#009af9\" fill-rule=\"evenodd\" fill-opacity=\"1\"/>\n",
       "<polyline clip-path=\"url(#clip952)\" style=\"stroke:#000000; stroke-linecap:round; stroke-linejoin:round; stroke-width:4; stroke-opacity:1; fill:none\" points=\"21528.3,1423.18 21528.3,1423.18 21573.4,1423.18 21528.3,1423.18 \"/>\n",
       "<path clip-path=\"url(#clip952)\" d=\"M21573.4 1423.18 L21573.4 1423.18 L21618.4 1423.18 L21618.4 1423.18 L21573.4 1423.18 L21573.4 1423.18  Z\" fill=\"#009af9\" fill-rule=\"evenodd\" fill-opacity=\"1\"/>\n",
       "<polyline clip-path=\"url(#clip952)\" style=\"stroke:#000000; stroke-linecap:round; stroke-linejoin:round; stroke-width:4; stroke-opacity:1; fill:none\" points=\"21573.4,1423.18 21573.4,1423.18 21618.4,1423.18 21573.4,1423.18 \"/>\n",
       "<path clip-path=\"url(#clip952)\" d=\"M21618.4 1423.18 L21618.4 1423.18 L21663.5 1423.18 L21663.5 1423.18 L21618.4 1423.18 L21618.4 1423.18  Z\" fill=\"#009af9\" fill-rule=\"evenodd\" fill-opacity=\"1\"/>\n",
       "<polyline clip-path=\"url(#clip952)\" style=\"stroke:#000000; stroke-linecap:round; stroke-linejoin:round; stroke-width:4; stroke-opacity:1; fill:none\" points=\"21618.4,1423.18 21618.4,1423.18 21663.5,1423.18 21618.4,1423.18 \"/>\n",
       "<path clip-path=\"url(#clip952)\" d=\"M21663.5 1423.18 L21663.5 1423.18 L21708.5 1423.18 L21708.5 1423.18 L21663.5 1423.18 L21663.5 1423.18  Z\" fill=\"#009af9\" fill-rule=\"evenodd\" fill-opacity=\"1\"/>\n",
       "<polyline clip-path=\"url(#clip952)\" style=\"stroke:#000000; stroke-linecap:round; stroke-linejoin:round; stroke-width:4; stroke-opacity:1; fill:none\" points=\"21663.5,1423.18 21663.5,1423.18 21708.5,1423.18 21663.5,1423.18 \"/>\n",
       "<path clip-path=\"url(#clip952)\" d=\"M21708.5 1423.18 L21708.5 1423.18 L21753.5 1423.18 L21753.5 1423.18 L21708.5 1423.18 L21708.5 1423.18  Z\" fill=\"#009af9\" fill-rule=\"evenodd\" fill-opacity=\"1\"/>\n",
       "<polyline clip-path=\"url(#clip952)\" style=\"stroke:#000000; stroke-linecap:round; stroke-linejoin:round; stroke-width:4; stroke-opacity:1; fill:none\" points=\"21708.5,1423.18 21708.5,1423.18 21753.5,1423.18 21708.5,1423.18 \"/>\n",
       "<path clip-path=\"url(#clip952)\" d=\"M21753.5 1423.18 L21753.5 1423.18 L21798.6 1423.18 L21798.6 1423.18 L21753.5 1423.18 L21753.5 1423.18  Z\" fill=\"#009af9\" fill-rule=\"evenodd\" fill-opacity=\"1\"/>\n",
       "<polyline clip-path=\"url(#clip952)\" style=\"stroke:#000000; stroke-linecap:round; stroke-linejoin:round; stroke-width:4; stroke-opacity:1; fill:none\" points=\"21753.5,1423.18 21753.5,1423.18 21798.6,1423.18 21753.5,1423.18 \"/>\n",
       "<path clip-path=\"url(#clip952)\" d=\"M21798.6 1423.18 L21798.6 1423.18 L21843.6 1423.18 L21843.6 1423.18 L21798.6 1423.18 L21798.6 1423.18  Z\" fill=\"#009af9\" fill-rule=\"evenodd\" fill-opacity=\"1\"/>\n",
       "<polyline clip-path=\"url(#clip952)\" style=\"stroke:#000000; stroke-linecap:round; stroke-linejoin:round; stroke-width:4; stroke-opacity:1; fill:none\" points=\"21798.6,1423.18 21798.6,1423.18 21843.6,1423.18 21798.6,1423.18 \"/>\n",
       "<path clip-path=\"url(#clip952)\" d=\"M21843.6 1423.18 L21843.6 1423.18 L21888.6 1423.18 L21888.6 1423.18 L21843.6 1423.18 L21843.6 1423.18  Z\" fill=\"#009af9\" fill-rule=\"evenodd\" fill-opacity=\"1\"/>\n",
       "<polyline clip-path=\"url(#clip952)\" style=\"stroke:#000000; stroke-linecap:round; stroke-linejoin:round; stroke-width:4; stroke-opacity:1; fill:none\" points=\"21843.6,1423.18 21843.6,1423.18 21888.6,1423.18 21843.6,1423.18 \"/>\n",
       "<path clip-path=\"url(#clip952)\" d=\"M21888.6 1423.18 L21888.6 1423.18 L21933.7 1423.18 L21933.7 1423.18 L21888.6 1423.18 L21888.6 1423.18  Z\" fill=\"#009af9\" fill-rule=\"evenodd\" fill-opacity=\"1\"/>\n",
       "<polyline clip-path=\"url(#clip952)\" style=\"stroke:#000000; stroke-linecap:round; stroke-linejoin:round; stroke-width:4; stroke-opacity:1; fill:none\" points=\"21888.6,1423.18 21888.6,1423.18 21933.7,1423.18 21888.6,1423.18 \"/>\n",
       "<path clip-path=\"url(#clip952)\" d=\"M21933.7 1423.18 L21933.7 1423.18 L21978.7 1423.18 L21978.7 1423.18 L21933.7 1423.18 L21933.7 1423.18  Z\" fill=\"#009af9\" fill-rule=\"evenodd\" fill-opacity=\"1\"/>\n",
       "<polyline clip-path=\"url(#clip952)\" style=\"stroke:#000000; stroke-linecap:round; stroke-linejoin:round; stroke-width:4; stroke-opacity:1; fill:none\" points=\"21933.7,1423.18 21933.7,1423.18 21978.7,1423.18 21933.7,1423.18 \"/>\n",
       "<path clip-path=\"url(#clip952)\" d=\"M21978.7 1423.18 L21978.7 1423.18 L22023.8 1423.18 L22023.8 1423.18 L21978.7 1423.18 L21978.7 1423.18  Z\" fill=\"#009af9\" fill-rule=\"evenodd\" fill-opacity=\"1\"/>\n",
       "<polyline clip-path=\"url(#clip952)\" style=\"stroke:#000000; stroke-linecap:round; stroke-linejoin:round; stroke-width:4; stroke-opacity:1; fill:none\" points=\"21978.7,1423.18 21978.7,1423.18 22023.8,1423.18 21978.7,1423.18 \"/>\n",
       "<path clip-path=\"url(#clip952)\" d=\"M22023.8 1423.18 L22023.8 1423.18 L22068.8 1423.18 L22068.8 1423.18 L22023.8 1423.18 L22023.8 1423.18  Z\" fill=\"#009af9\" fill-rule=\"evenodd\" fill-opacity=\"1\"/>\n",
       "<polyline clip-path=\"url(#clip952)\" style=\"stroke:#000000; stroke-linecap:round; stroke-linejoin:round; stroke-width:4; stroke-opacity:1; fill:none\" points=\"22023.8,1423.18 22023.8,1423.18 22068.8,1423.18 22023.8,1423.18 \"/>\n",
       "<path clip-path=\"url(#clip952)\" d=\"M22068.8 1423.18 L22068.8 1423.18 L22113.8 1423.18 L22113.8 1423.18 L22068.8 1423.18 L22068.8 1423.18  Z\" fill=\"#009af9\" fill-rule=\"evenodd\" fill-opacity=\"1\"/>\n",
       "<polyline clip-path=\"url(#clip952)\" style=\"stroke:#000000; stroke-linecap:round; stroke-linejoin:round; stroke-width:4; stroke-opacity:1; fill:none\" points=\"22068.8,1423.18 22068.8,1423.18 22113.8,1423.18 22068.8,1423.18 \"/>\n",
       "<path clip-path=\"url(#clip952)\" d=\"M22113.8 1423.18 L22113.8 1423.18 L22158.9 1423.18 L22158.9 1423.18 L22113.8 1423.18 L22113.8 1423.18  Z\" fill=\"#009af9\" fill-rule=\"evenodd\" fill-opacity=\"1\"/>\n",
       "<polyline clip-path=\"url(#clip952)\" style=\"stroke:#000000; stroke-linecap:round; stroke-linejoin:round; stroke-width:4; stroke-opacity:1; fill:none\" points=\"22113.8,1423.18 22113.8,1423.18 22158.9,1423.18 22113.8,1423.18 \"/>\n",
       "<path clip-path=\"url(#clip952)\" d=\"M22158.9 1423.18 L22158.9 1423.18 L22203.9 1423.18 L22203.9 1423.18 L22158.9 1423.18 L22158.9 1423.18  Z\" fill=\"#009af9\" fill-rule=\"evenodd\" fill-opacity=\"1\"/>\n",
       "<polyline clip-path=\"url(#clip952)\" style=\"stroke:#000000; stroke-linecap:round; stroke-linejoin:round; stroke-width:4; stroke-opacity:1; fill:none\" points=\"22158.9,1423.18 22158.9,1423.18 22203.9,1423.18 22158.9,1423.18 \"/>\n",
       "<path clip-path=\"url(#clip952)\" d=\"M22203.9 1423.18 L22203.9 1423.18 L22248.9 1423.18 L22248.9 1423.18 L22203.9 1423.18 L22203.9 1423.18  Z\" fill=\"#009af9\" fill-rule=\"evenodd\" fill-opacity=\"1\"/>\n",
       "<polyline clip-path=\"url(#clip952)\" style=\"stroke:#000000; stroke-linecap:round; stroke-linejoin:round; stroke-width:4; stroke-opacity:1; fill:none\" points=\"22203.9,1423.18 22203.9,1423.18 22248.9,1423.18 22203.9,1423.18 \"/>\n",
       "<path clip-path=\"url(#clip952)\" d=\"M22248.9 1423.18 L22248.9 1423.18 L22294 1423.18 L22294 1423.18 L22248.9 1423.18 L22248.9 1423.18  Z\" fill=\"#009af9\" fill-rule=\"evenodd\" fill-opacity=\"1\"/>\n",
       "<polyline clip-path=\"url(#clip952)\" style=\"stroke:#000000; stroke-linecap:round; stroke-linejoin:round; stroke-width:4; stroke-opacity:1; fill:none\" points=\"22248.9,1423.18 22248.9,1423.18 22294,1423.18 22248.9,1423.18 \"/>\n",
       "<path clip-path=\"url(#clip952)\" d=\"M22294 1423.18 L22294 1423.18 L22339 1423.18 L22339 1423.18 L22294 1423.18 L22294 1423.18  Z\" fill=\"#009af9\" fill-rule=\"evenodd\" fill-opacity=\"1\"/>\n",
       "<polyline clip-path=\"url(#clip952)\" style=\"stroke:#000000; stroke-linecap:round; stroke-linejoin:round; stroke-width:4; stroke-opacity:1; fill:none\" points=\"22294,1423.18 22294,1423.18 22339,1423.18 22294,1423.18 \"/>\n",
       "<path clip-path=\"url(#clip952)\" d=\"M22339 1423.18 L22339 1423.18 L22384.1 1423.18 L22384.1 1423.18 L22339 1423.18 L22339 1423.18  Z\" fill=\"#009af9\" fill-rule=\"evenodd\" fill-opacity=\"1\"/>\n",
       "<polyline clip-path=\"url(#clip952)\" style=\"stroke:#000000; stroke-linecap:round; stroke-linejoin:round; stroke-width:4; stroke-opacity:1; fill:none\" points=\"22339,1423.18 22339,1423.18 22384.1,1423.18 22339,1423.18 \"/>\n",
       "<path clip-path=\"url(#clip952)\" d=\"M22384.1 1423.18 L22384.1 1423.18 L22429.1 1423.18 L22429.1 1423.18 L22384.1 1423.18 L22384.1 1423.18  Z\" fill=\"#009af9\" fill-rule=\"evenodd\" fill-opacity=\"1\"/>\n",
       "<polyline clip-path=\"url(#clip952)\" style=\"stroke:#000000; stroke-linecap:round; stroke-linejoin:round; stroke-width:4; stroke-opacity:1; fill:none\" points=\"22384.1,1423.18 22384.1,1423.18 22429.1,1423.18 22384.1,1423.18 \"/>\n",
       "<path clip-path=\"url(#clip952)\" d=\"M22429.1 1423.18 L22429.1 1423.18 L22474.1 1423.18 L22474.1 1423.18 L22429.1 1423.18 L22429.1 1423.18  Z\" fill=\"#009af9\" fill-rule=\"evenodd\" fill-opacity=\"1\"/>\n",
       "<polyline clip-path=\"url(#clip952)\" style=\"stroke:#000000; stroke-linecap:round; stroke-linejoin:round; stroke-width:4; stroke-opacity:1; fill:none\" points=\"22429.1,1423.18 22429.1,1423.18 22474.1,1423.18 22429.1,1423.18 \"/>\n",
       "<path clip-path=\"url(#clip952)\" d=\"M22474.1 1423.18 L22474.1 1423.18 L22519.2 1423.18 L22519.2 1423.18 L22474.1 1423.18 L22474.1 1423.18  Z\" fill=\"#009af9\" fill-rule=\"evenodd\" fill-opacity=\"1\"/>\n",
       "<polyline clip-path=\"url(#clip952)\" style=\"stroke:#000000; stroke-linecap:round; stroke-linejoin:round; stroke-width:4; stroke-opacity:1; fill:none\" points=\"22474.1,1423.18 22474.1,1423.18 22519.2,1423.18 22474.1,1423.18 \"/>\n",
       "<path clip-path=\"url(#clip952)\" d=\"M22519.2 1423.18 L22519.2 1423.18 L22564.2 1423.18 L22564.2 1423.18 L22519.2 1423.18 L22519.2 1423.18  Z\" fill=\"#009af9\" fill-rule=\"evenodd\" fill-opacity=\"1\"/>\n",
       "<polyline clip-path=\"url(#clip952)\" style=\"stroke:#000000; stroke-linecap:round; stroke-linejoin:round; stroke-width:4; stroke-opacity:1; fill:none\" points=\"22519.2,1423.18 22519.2,1423.18 22564.2,1423.18 22519.2,1423.18 \"/>\n",
       "<path clip-path=\"url(#clip952)\" d=\"M22564.2 1423.18 L22564.2 1423.18 L22609.2 1423.18 L22609.2 1423.18 L22564.2 1423.18 L22564.2 1423.18  Z\" fill=\"#009af9\" fill-rule=\"evenodd\" fill-opacity=\"1\"/>\n",
       "<polyline clip-path=\"url(#clip952)\" style=\"stroke:#000000; stroke-linecap:round; stroke-linejoin:round; stroke-width:4; stroke-opacity:1; fill:none\" points=\"22564.2,1423.18 22564.2,1423.18 22609.2,1423.18 22564.2,1423.18 \"/>\n",
       "<path clip-path=\"url(#clip952)\" d=\"M22609.2 1423.18 L22609.2 1423.18 L22654.3 1423.18 L22654.3 1423.18 L22609.2 1423.18 L22609.2 1423.18  Z\" fill=\"#009af9\" fill-rule=\"evenodd\" fill-opacity=\"1\"/>\n",
       "<polyline clip-path=\"url(#clip952)\" style=\"stroke:#000000; stroke-linecap:round; stroke-linejoin:round; stroke-width:4; stroke-opacity:1; fill:none\" points=\"22609.2,1423.18 22609.2,1423.18 22654.3,1423.18 22609.2,1423.18 \"/>\n",
       "<path clip-path=\"url(#clip952)\" d=\"M22654.3 1423.18 L22654.3 1423.18 L22699.3 1423.18 L22699.3 1423.18 L22654.3 1423.18 L22654.3 1423.18  Z\" fill=\"#009af9\" fill-rule=\"evenodd\" fill-opacity=\"1\"/>\n",
       "<polyline clip-path=\"url(#clip952)\" style=\"stroke:#000000; stroke-linecap:round; stroke-linejoin:round; stroke-width:4; stroke-opacity:1; fill:none\" points=\"22654.3,1423.18 22654.3,1423.18 22699.3,1423.18 22654.3,1423.18 \"/>\n",
       "<path clip-path=\"url(#clip952)\" d=\"M22699.3 1423.18 L22699.3 1423.18 L22744.4 1423.18 L22744.4 1423.18 L22699.3 1423.18 L22699.3 1423.18  Z\" fill=\"#009af9\" fill-rule=\"evenodd\" fill-opacity=\"1\"/>\n",
       "<polyline clip-path=\"url(#clip952)\" style=\"stroke:#000000; stroke-linecap:round; stroke-linejoin:round; stroke-width:4; stroke-opacity:1; fill:none\" points=\"22699.3,1423.18 22699.3,1423.18 22744.4,1423.18 22699.3,1423.18 \"/>\n",
       "<path clip-path=\"url(#clip952)\" d=\"M22744.4 1423.18 L22744.4 1423.18 L22789.4 1423.18 L22789.4 1423.18 L22744.4 1423.18 L22744.4 1423.18  Z\" fill=\"#009af9\" fill-rule=\"evenodd\" fill-opacity=\"1\"/>\n",
       "<polyline clip-path=\"url(#clip952)\" style=\"stroke:#000000; stroke-linecap:round; stroke-linejoin:round; stroke-width:4; stroke-opacity:1; fill:none\" points=\"22744.4,1423.18 22744.4,1423.18 22789.4,1423.18 22744.4,1423.18 \"/>\n",
       "<path clip-path=\"url(#clip952)\" d=\"M22789.4 1423.18 L22789.4 1423.18 L22834.4 1423.18 L22834.4 1423.18 L22789.4 1423.18 L22789.4 1423.18  Z\" fill=\"#009af9\" fill-rule=\"evenodd\" fill-opacity=\"1\"/>\n",
       "<polyline clip-path=\"url(#clip952)\" style=\"stroke:#000000; stroke-linecap:round; stroke-linejoin:round; stroke-width:4; stroke-opacity:1; fill:none\" points=\"22789.4,1423.18 22789.4,1423.18 22834.4,1423.18 22789.4,1423.18 \"/>\n",
       "<path clip-path=\"url(#clip952)\" d=\"M22834.4 1423.18 L22834.4 1423.18 L22879.5 1423.18 L22879.5 1423.18 L22834.4 1423.18 L22834.4 1423.18  Z\" fill=\"#009af9\" fill-rule=\"evenodd\" fill-opacity=\"1\"/>\n",
       "<polyline clip-path=\"url(#clip952)\" style=\"stroke:#000000; stroke-linecap:round; stroke-linejoin:round; stroke-width:4; stroke-opacity:1; fill:none\" points=\"22834.4,1423.18 22834.4,1423.18 22879.5,1423.18 22834.4,1423.18 \"/>\n",
       "<path clip-path=\"url(#clip952)\" d=\"M22879.5 1423.18 L22879.5 1423.18 L22924.5 1423.18 L22924.5 1423.18 L22879.5 1423.18 L22879.5 1423.18  Z\" fill=\"#009af9\" fill-rule=\"evenodd\" fill-opacity=\"1\"/>\n",
       "<polyline clip-path=\"url(#clip952)\" style=\"stroke:#000000; stroke-linecap:round; stroke-linejoin:round; stroke-width:4; stroke-opacity:1; fill:none\" points=\"22879.5,1423.18 22879.5,1423.18 22924.5,1423.18 22879.5,1423.18 \"/>\n",
       "<path clip-path=\"url(#clip952)\" d=\"M22924.5 1423.18 L22924.5 1423.18 L22969.5 1423.18 L22969.5 1423.18 L22924.5 1423.18 L22924.5 1423.18  Z\" fill=\"#009af9\" fill-rule=\"evenodd\" fill-opacity=\"1\"/>\n",
       "<polyline clip-path=\"url(#clip952)\" style=\"stroke:#000000; stroke-linecap:round; stroke-linejoin:round; stroke-width:4; stroke-opacity:1; fill:none\" points=\"22924.5,1423.18 22924.5,1423.18 22969.5,1423.18 22924.5,1423.18 \"/>\n",
       "<path clip-path=\"url(#clip952)\" d=\"M22969.5 1423.18 L22969.5 1423.18 L23014.6 1423.18 L23014.6 1423.18 L22969.5 1423.18 L22969.5 1423.18  Z\" fill=\"#009af9\" fill-rule=\"evenodd\" fill-opacity=\"1\"/>\n",
       "<polyline clip-path=\"url(#clip952)\" style=\"stroke:#000000; stroke-linecap:round; stroke-linejoin:round; stroke-width:4; stroke-opacity:1; fill:none\" points=\"22969.5,1423.18 22969.5,1423.18 23014.6,1423.18 22969.5,1423.18 \"/>\n",
       "<path clip-path=\"url(#clip952)\" d=\"M23014.6 1423.18 L23014.6 1423.18 L23059.6 1423.18 L23059.6 1423.18 L23014.6 1423.18 L23014.6 1423.18  Z\" fill=\"#009af9\" fill-rule=\"evenodd\" fill-opacity=\"1\"/>\n",
       "<polyline clip-path=\"url(#clip952)\" style=\"stroke:#000000; stroke-linecap:round; stroke-linejoin:round; stroke-width:4; stroke-opacity:1; fill:none\" points=\"23014.6,1423.18 23014.6,1423.18 23059.6,1423.18 23014.6,1423.18 \"/>\n",
       "<path clip-path=\"url(#clip952)\" d=\"M23059.6 1423.18 L23059.6 1423.18 L23104.7 1423.18 L23104.7 1423.18 L23059.6 1423.18 L23059.6 1423.18  Z\" fill=\"#009af9\" fill-rule=\"evenodd\" fill-opacity=\"1\"/>\n",
       "<polyline clip-path=\"url(#clip952)\" style=\"stroke:#000000; stroke-linecap:round; stroke-linejoin:round; stroke-width:4; stroke-opacity:1; fill:none\" points=\"23059.6,1423.18 23059.6,1423.18 23104.7,1423.18 23059.6,1423.18 \"/>\n",
       "<path clip-path=\"url(#clip952)\" d=\"M23104.7 1423.18 L23104.7 1423.18 L23149.7 1423.18 L23149.7 1423.18 L23104.7 1423.18 L23104.7 1423.18  Z\" fill=\"#009af9\" fill-rule=\"evenodd\" fill-opacity=\"1\"/>\n",
       "<polyline clip-path=\"url(#clip952)\" style=\"stroke:#000000; stroke-linecap:round; stroke-linejoin:round; stroke-width:4; stroke-opacity:1; fill:none\" points=\"23104.7,1423.18 23104.7,1423.18 23149.7,1423.18 23104.7,1423.18 \"/>\n",
       "<path clip-path=\"url(#clip952)\" d=\"M23149.7 1423.18 L23149.7 1423.18 L23194.7 1423.18 L23194.7 1423.18 L23149.7 1423.18 L23149.7 1423.18  Z\" fill=\"#009af9\" fill-rule=\"evenodd\" fill-opacity=\"1\"/>\n",
       "<polyline clip-path=\"url(#clip952)\" style=\"stroke:#000000; stroke-linecap:round; stroke-linejoin:round; stroke-width:4; stroke-opacity:1; fill:none\" points=\"23149.7,1423.18 23149.7,1423.18 23194.7,1423.18 23149.7,1423.18 \"/>\n",
       "<path clip-path=\"url(#clip952)\" d=\"M23194.7 1423.18 L23194.7 1423.18 L23239.8 1423.18 L23239.8 1423.18 L23194.7 1423.18 L23194.7 1423.18  Z\" fill=\"#009af9\" fill-rule=\"evenodd\" fill-opacity=\"1\"/>\n",
       "<polyline clip-path=\"url(#clip952)\" style=\"stroke:#000000; stroke-linecap:round; stroke-linejoin:round; stroke-width:4; stroke-opacity:1; fill:none\" points=\"23194.7,1423.18 23194.7,1423.18 23239.8,1423.18 23194.7,1423.18 \"/>\n",
       "<path clip-path=\"url(#clip952)\" d=\"M23239.8 1423.18 L23239.8 1423.18 L23284.8 1423.18 L23284.8 1423.18 L23239.8 1423.18 L23239.8 1423.18  Z\" fill=\"#009af9\" fill-rule=\"evenodd\" fill-opacity=\"1\"/>\n",
       "<polyline clip-path=\"url(#clip952)\" style=\"stroke:#000000; stroke-linecap:round; stroke-linejoin:round; stroke-width:4; stroke-opacity:1; fill:none\" points=\"23239.8,1423.18 23239.8,1423.18 23284.8,1423.18 23239.8,1423.18 \"/>\n",
       "<path clip-path=\"url(#clip952)\" d=\"M23284.8 1423.18 L23284.8 1423.18 L23329.8 1423.18 L23329.8 1423.18 L23284.8 1423.18 L23284.8 1423.18  Z\" fill=\"#009af9\" fill-rule=\"evenodd\" fill-opacity=\"1\"/>\n",
       "<polyline clip-path=\"url(#clip952)\" style=\"stroke:#000000; stroke-linecap:round; stroke-linejoin:round; stroke-width:4; stroke-opacity:1; fill:none\" points=\"23284.8,1423.18 23284.8,1423.18 23329.8,1423.18 23284.8,1423.18 \"/>\n",
       "<path clip-path=\"url(#clip952)\" d=\"M23329.8 1423.18 L23329.8 1423.18 L23374.9 1423.18 L23374.9 1423.18 L23329.8 1423.18 L23329.8 1423.18  Z\" fill=\"#009af9\" fill-rule=\"evenodd\" fill-opacity=\"1\"/>\n",
       "<polyline clip-path=\"url(#clip952)\" style=\"stroke:#000000; stroke-linecap:round; stroke-linejoin:round; stroke-width:4; stroke-opacity:1; fill:none\" points=\"23329.8,1423.18 23329.8,1423.18 23374.9,1423.18 23329.8,1423.18 \"/>\n",
       "<path clip-path=\"url(#clip952)\" d=\"M23374.9 1423.18 L23374.9 1423.18 L23419.9 1423.18 L23419.9 1423.18 L23374.9 1423.18 L23374.9 1423.18  Z\" fill=\"#009af9\" fill-rule=\"evenodd\" fill-opacity=\"1\"/>\n",
       "<polyline clip-path=\"url(#clip952)\" style=\"stroke:#000000; stroke-linecap:round; stroke-linejoin:round; stroke-width:4; stroke-opacity:1; fill:none\" points=\"23374.9,1423.18 23374.9,1423.18 23419.9,1423.18 23374.9,1423.18 \"/>\n",
       "<path clip-path=\"url(#clip952)\" d=\"M23419.9 1423.18 L23419.9 1423.18 L23464.9 1423.18 L23464.9 1423.18 L23419.9 1423.18 L23419.9 1423.18  Z\" fill=\"#009af9\" fill-rule=\"evenodd\" fill-opacity=\"1\"/>\n",
       "<polyline clip-path=\"url(#clip952)\" style=\"stroke:#000000; stroke-linecap:round; stroke-linejoin:round; stroke-width:4; stroke-opacity:1; fill:none\" points=\"23419.9,1423.18 23419.9,1423.18 23464.9,1423.18 23419.9,1423.18 \"/>\n",
       "<path clip-path=\"url(#clip952)\" d=\"M23464.9 1423.18 L23464.9 1423.18 L23510 1423.18 L23510 1423.18 L23464.9 1423.18 L23464.9 1423.18  Z\" fill=\"#009af9\" fill-rule=\"evenodd\" fill-opacity=\"1\"/>\n",
       "<polyline clip-path=\"url(#clip952)\" style=\"stroke:#000000; stroke-linecap:round; stroke-linejoin:round; stroke-width:4; stroke-opacity:1; fill:none\" points=\"23464.9,1423.18 23464.9,1423.18 23510,1423.18 23464.9,1423.18 \"/>\n",
       "<path clip-path=\"url(#clip952)\" d=\"M23510 1423.18 L23510 1423.18 L23555 1423.18 L23555 1423.18 L23510 1423.18 L23510 1423.18  Z\" fill=\"#009af9\" fill-rule=\"evenodd\" fill-opacity=\"1\"/>\n",
       "<polyline clip-path=\"url(#clip952)\" style=\"stroke:#000000; stroke-linecap:round; stroke-linejoin:round; stroke-width:4; stroke-opacity:1; fill:none\" points=\"23510,1423.18 23510,1423.18 23555,1423.18 23510,1423.18 \"/>\n",
       "<path clip-path=\"url(#clip952)\" d=\"M23555 1423.18 L23555 1423.18 L23600.1 1423.18 L23600.1 1423.18 L23555 1423.18 L23555 1423.18  Z\" fill=\"#009af9\" fill-rule=\"evenodd\" fill-opacity=\"1\"/>\n",
       "<polyline clip-path=\"url(#clip952)\" style=\"stroke:#000000; stroke-linecap:round; stroke-linejoin:round; stroke-width:4; stroke-opacity:1; fill:none\" points=\"23555,1423.18 23555,1423.18 23600.1,1423.18 23555,1423.18 \"/>\n",
       "<path clip-path=\"url(#clip952)\" d=\"M23600.1 1423.18 L23600.1 1423.18 L23645.1 1423.18 L23645.1 1423.18 L23600.1 1423.18 L23600.1 1423.18  Z\" fill=\"#009af9\" fill-rule=\"evenodd\" fill-opacity=\"1\"/>\n",
       "<polyline clip-path=\"url(#clip952)\" style=\"stroke:#000000; stroke-linecap:round; stroke-linejoin:round; stroke-width:4; stroke-opacity:1; fill:none\" points=\"23600.1,1423.18 23600.1,1423.18 23645.1,1423.18 23600.1,1423.18 \"/>\n",
       "<path clip-path=\"url(#clip952)\" d=\"M23645.1 1423.18 L23645.1 1423.18 L23690.1 1423.18 L23690.1 1423.18 L23645.1 1423.18 L23645.1 1423.18  Z\" fill=\"#009af9\" fill-rule=\"evenodd\" fill-opacity=\"1\"/>\n",
       "<polyline clip-path=\"url(#clip952)\" style=\"stroke:#000000; stroke-linecap:round; stroke-linejoin:round; stroke-width:4; stroke-opacity:1; fill:none\" points=\"23645.1,1423.18 23645.1,1423.18 23690.1,1423.18 23645.1,1423.18 \"/>\n",
       "<path clip-path=\"url(#clip952)\" d=\"M23690.1 1423.18 L23690.1 1423.18 L23735.2 1423.18 L23735.2 1423.18 L23690.1 1423.18 L23690.1 1423.18  Z\" fill=\"#009af9\" fill-rule=\"evenodd\" fill-opacity=\"1\"/>\n",
       "<polyline clip-path=\"url(#clip952)\" style=\"stroke:#000000; stroke-linecap:round; stroke-linejoin:round; stroke-width:4; stroke-opacity:1; fill:none\" points=\"23690.1,1423.18 23690.1,1423.18 23735.2,1423.18 23690.1,1423.18 \"/>\n",
       "<path clip-path=\"url(#clip952)\" d=\"M23735.2 1423.18 L23735.2 1423.18 L23780.2 1423.18 L23780.2 1423.18 L23735.2 1423.18 L23735.2 1423.18  Z\" fill=\"#009af9\" fill-rule=\"evenodd\" fill-opacity=\"1\"/>\n",
       "<polyline clip-path=\"url(#clip952)\" style=\"stroke:#000000; stroke-linecap:round; stroke-linejoin:round; stroke-width:4; stroke-opacity:1; fill:none\" points=\"23735.2,1423.18 23735.2,1423.18 23780.2,1423.18 23735.2,1423.18 \"/>\n",
       "<path clip-path=\"url(#clip952)\" d=\"M23780.2 1423.18 L23780.2 1423.18 L23825.2 1423.18 L23825.2 1423.18 L23780.2 1423.18 L23780.2 1423.18  Z\" fill=\"#009af9\" fill-rule=\"evenodd\" fill-opacity=\"1\"/>\n",
       "<polyline clip-path=\"url(#clip952)\" style=\"stroke:#000000; stroke-linecap:round; stroke-linejoin:round; stroke-width:4; stroke-opacity:1; fill:none\" points=\"23780.2,1423.18 23780.2,1423.18 23825.2,1423.18 23780.2,1423.18 \"/>\n",
       "<path clip-path=\"url(#clip952)\" d=\"M23825.2 1423.18 L23825.2 1423.18 L23870.3 1423.18 L23870.3 1423.18 L23825.2 1423.18 L23825.2 1423.18  Z\" fill=\"#009af9\" fill-rule=\"evenodd\" fill-opacity=\"1\"/>\n",
       "<polyline clip-path=\"url(#clip952)\" style=\"stroke:#000000; stroke-linecap:round; stroke-linejoin:round; stroke-width:4; stroke-opacity:1; fill:none\" points=\"23825.2,1423.18 23825.2,1423.18 23870.3,1423.18 23825.2,1423.18 \"/>\n",
       "<path clip-path=\"url(#clip952)\" d=\"M23870.3 1423.18 L23870.3 1423.18 L23915.3 1423.18 L23915.3 1423.18 L23870.3 1423.18 L23870.3 1423.18  Z\" fill=\"#009af9\" fill-rule=\"evenodd\" fill-opacity=\"1\"/>\n",
       "<polyline clip-path=\"url(#clip952)\" style=\"stroke:#000000; stroke-linecap:round; stroke-linejoin:round; stroke-width:4; stroke-opacity:1; fill:none\" points=\"23870.3,1423.18 23870.3,1423.18 23915.3,1423.18 23870.3,1423.18 \"/>\n",
       "<path clip-path=\"url(#clip952)\" d=\"M23915.3 1423.18 L23915.3 1423.18 L23960.4 1423.18 L23960.4 1423.18 L23915.3 1423.18 L23915.3 1423.18  Z\" fill=\"#009af9\" fill-rule=\"evenodd\" fill-opacity=\"1\"/>\n",
       "<polyline clip-path=\"url(#clip952)\" style=\"stroke:#000000; stroke-linecap:round; stroke-linejoin:round; stroke-width:4; stroke-opacity:1; fill:none\" points=\"23915.3,1423.18 23915.3,1423.18 23960.4,1423.18 23915.3,1423.18 \"/>\n",
       "<path clip-path=\"url(#clip952)\" d=\"M23960.4 1423.18 L23960.4 1423.18 L24005.4 1423.18 L24005.4 1423.18 L23960.4 1423.18 L23960.4 1423.18  Z\" fill=\"#009af9\" fill-rule=\"evenodd\" fill-opacity=\"1\"/>\n",
       "<polyline clip-path=\"url(#clip952)\" style=\"stroke:#000000; stroke-linecap:round; stroke-linejoin:round; stroke-width:4; stroke-opacity:1; fill:none\" points=\"23960.4,1423.18 23960.4,1423.18 24005.4,1423.18 23960.4,1423.18 \"/>\n",
       "<path clip-path=\"url(#clip952)\" d=\"M24005.4 1423.18 L24005.4 1423.18 L24050.4 1423.18 L24050.4 1423.18 L24005.4 1423.18 L24005.4 1423.18  Z\" fill=\"#009af9\" fill-rule=\"evenodd\" fill-opacity=\"1\"/>\n",
       "<polyline clip-path=\"url(#clip952)\" style=\"stroke:#000000; stroke-linecap:round; stroke-linejoin:round; stroke-width:4; stroke-opacity:1; fill:none\" points=\"24005.4,1423.18 24005.4,1423.18 24050.4,1423.18 24005.4,1423.18 \"/>\n",
       "<path clip-path=\"url(#clip952)\" d=\"M24050.4 1423.18 L24050.4 1423.18 L24095.5 1423.18 L24095.5 1423.18 L24050.4 1423.18 L24050.4 1423.18  Z\" fill=\"#009af9\" fill-rule=\"evenodd\" fill-opacity=\"1\"/>\n",
       "<polyline clip-path=\"url(#clip952)\" style=\"stroke:#000000; stroke-linecap:round; stroke-linejoin:round; stroke-width:4; stroke-opacity:1; fill:none\" points=\"24050.4,1423.18 24050.4,1423.18 24095.5,1423.18 24050.4,1423.18 \"/>\n",
       "<path clip-path=\"url(#clip952)\" d=\"M24095.5 1423.18 L24095.5 1423.18 L24140.5 1423.18 L24140.5 1423.18 L24095.5 1423.18 L24095.5 1423.18  Z\" fill=\"#009af9\" fill-rule=\"evenodd\" fill-opacity=\"1\"/>\n",
       "<polyline clip-path=\"url(#clip952)\" style=\"stroke:#000000; stroke-linecap:round; stroke-linejoin:round; stroke-width:4; stroke-opacity:1; fill:none\" points=\"24095.5,1423.18 24095.5,1423.18 24140.5,1423.18 24095.5,1423.18 \"/>\n",
       "<path clip-path=\"url(#clip952)\" d=\"M24140.5 1423.18 L24140.5 1423.18 L24185.5 1423.18 L24185.5 1423.18 L24140.5 1423.18 L24140.5 1423.18  Z\" fill=\"#009af9\" fill-rule=\"evenodd\" fill-opacity=\"1\"/>\n",
       "<polyline clip-path=\"url(#clip952)\" style=\"stroke:#000000; stroke-linecap:round; stroke-linejoin:round; stroke-width:4; stroke-opacity:1; fill:none\" points=\"24140.5,1423.18 24140.5,1423.18 24185.5,1423.18 24140.5,1423.18 \"/>\n",
       "<path clip-path=\"url(#clip952)\" d=\"M24185.5 1423.18 L24185.5 1423.18 L24230.6 1423.18 L24230.6 1423.18 L24185.5 1423.18 L24185.5 1423.18  Z\" fill=\"#009af9\" fill-rule=\"evenodd\" fill-opacity=\"1\"/>\n",
       "<polyline clip-path=\"url(#clip952)\" style=\"stroke:#000000; stroke-linecap:round; stroke-linejoin:round; stroke-width:4; stroke-opacity:1; fill:none\" points=\"24185.5,1423.18 24185.5,1423.18 24230.6,1423.18 24185.5,1423.18 \"/>\n",
       "<path clip-path=\"url(#clip952)\" d=\"M24230.6 1423.18 L24230.6 1423.18 L24275.6 1423.18 L24275.6 1423.18 L24230.6 1423.18 L24230.6 1423.18  Z\" fill=\"#009af9\" fill-rule=\"evenodd\" fill-opacity=\"1\"/>\n",
       "<polyline clip-path=\"url(#clip952)\" style=\"stroke:#000000; stroke-linecap:round; stroke-linejoin:round; stroke-width:4; stroke-opacity:1; fill:none\" points=\"24230.6,1423.18 24230.6,1423.18 24275.6,1423.18 24230.6,1423.18 \"/>\n",
       "<path clip-path=\"url(#clip952)\" d=\"M24275.6 1423.18 L24275.6 1423.18 L24320.7 1423.18 L24320.7 1423.18 L24275.6 1423.18 L24275.6 1423.18  Z\" fill=\"#009af9\" fill-rule=\"evenodd\" fill-opacity=\"1\"/>\n",
       "<polyline clip-path=\"url(#clip952)\" style=\"stroke:#000000; stroke-linecap:round; stroke-linejoin:round; stroke-width:4; stroke-opacity:1; fill:none\" points=\"24275.6,1423.18 24275.6,1423.18 24320.7,1423.18 24275.6,1423.18 \"/>\n",
       "<path clip-path=\"url(#clip952)\" d=\"M24320.7 1423.18 L24320.7 1423.18 L24365.7 1423.18 L24365.7 1423.18 L24320.7 1423.18 L24320.7 1423.18  Z\" fill=\"#009af9\" fill-rule=\"evenodd\" fill-opacity=\"1\"/>\n",
       "<polyline clip-path=\"url(#clip952)\" style=\"stroke:#000000; stroke-linecap:round; stroke-linejoin:round; stroke-width:4; stroke-opacity:1; fill:none\" points=\"24320.7,1423.18 24320.7,1423.18 24365.7,1423.18 24320.7,1423.18 \"/>\n",
       "<path clip-path=\"url(#clip952)\" d=\"M24365.7 1423.18 L24365.7 1423.18 L24410.7 1423.18 L24410.7 1423.18 L24365.7 1423.18 L24365.7 1423.18  Z\" fill=\"#009af9\" fill-rule=\"evenodd\" fill-opacity=\"1\"/>\n",
       "<polyline clip-path=\"url(#clip952)\" style=\"stroke:#000000; stroke-linecap:round; stroke-linejoin:round; stroke-width:4; stroke-opacity:1; fill:none\" points=\"24365.7,1423.18 24365.7,1423.18 24410.7,1423.18 24365.7,1423.18 \"/>\n",
       "<path clip-path=\"url(#clip952)\" d=\"M24410.7 1423.18 L24410.7 1423.18 L24455.8 1423.18 L24455.8 1423.18 L24410.7 1423.18 L24410.7 1423.18  Z\" fill=\"#009af9\" fill-rule=\"evenodd\" fill-opacity=\"1\"/>\n",
       "<polyline clip-path=\"url(#clip952)\" style=\"stroke:#000000; stroke-linecap:round; stroke-linejoin:round; stroke-width:4; stroke-opacity:1; fill:none\" points=\"24410.7,1423.18 24410.7,1423.18 24455.8,1423.18 24410.7,1423.18 \"/>\n",
       "<path clip-path=\"url(#clip952)\" d=\"M24455.8 1423.18 L24455.8 1423.18 L24500.8 1423.18 L24500.8 1423.18 L24455.8 1423.18 L24455.8 1423.18  Z\" fill=\"#009af9\" fill-rule=\"evenodd\" fill-opacity=\"1\"/>\n",
       "<polyline clip-path=\"url(#clip952)\" style=\"stroke:#000000; stroke-linecap:round; stroke-linejoin:round; stroke-width:4; stroke-opacity:1; fill:none\" points=\"24455.8,1423.18 24455.8,1423.18 24500.8,1423.18 24455.8,1423.18 \"/>\n",
       "<path clip-path=\"url(#clip952)\" d=\"M24500.8 1423.18 L24500.8 1423.18 L24545.8 1423.18 L24545.8 1423.18 L24500.8 1423.18 L24500.8 1423.18  Z\" fill=\"#009af9\" fill-rule=\"evenodd\" fill-opacity=\"1\"/>\n",
       "<polyline clip-path=\"url(#clip952)\" style=\"stroke:#000000; stroke-linecap:round; stroke-linejoin:round; stroke-width:4; stroke-opacity:1; fill:none\" points=\"24500.8,1423.18 24500.8,1423.18 24545.8,1423.18 24500.8,1423.18 \"/>\n",
       "<path clip-path=\"url(#clip952)\" d=\"M24545.8 1423.18 L24545.8 1423.18 L24590.9 1423.18 L24590.9 1423.18 L24545.8 1423.18 L24545.8 1423.18  Z\" fill=\"#009af9\" fill-rule=\"evenodd\" fill-opacity=\"1\"/>\n",
       "<polyline clip-path=\"url(#clip952)\" style=\"stroke:#000000; stroke-linecap:round; stroke-linejoin:round; stroke-width:4; stroke-opacity:1; fill:none\" points=\"24545.8,1423.18 24545.8,1423.18 24590.9,1423.18 24545.8,1423.18 \"/>\n",
       "<path clip-path=\"url(#clip952)\" d=\"M24590.9 1423.18 L24590.9 1423.18 L24635.9 1423.18 L24635.9 1423.18 L24590.9 1423.18 L24590.9 1423.18  Z\" fill=\"#009af9\" fill-rule=\"evenodd\" fill-opacity=\"1\"/>\n",
       "<polyline clip-path=\"url(#clip952)\" style=\"stroke:#000000; stroke-linecap:round; stroke-linejoin:round; stroke-width:4; stroke-opacity:1; fill:none\" points=\"24590.9,1423.18 24590.9,1423.18 24635.9,1423.18 24590.9,1423.18 \"/>\n",
       "<path clip-path=\"url(#clip952)\" d=\"M24635.9 1423.18 L24635.9 1423.18 L24681 1423.18 L24681 1423.18 L24635.9 1423.18 L24635.9 1423.18  Z\" fill=\"#009af9\" fill-rule=\"evenodd\" fill-opacity=\"1\"/>\n",
       "<polyline clip-path=\"url(#clip952)\" style=\"stroke:#000000; stroke-linecap:round; stroke-linejoin:round; stroke-width:4; stroke-opacity:1; fill:none\" points=\"24635.9,1423.18 24635.9,1423.18 24681,1423.18 24635.9,1423.18 \"/>\n",
       "<path clip-path=\"url(#clip952)\" d=\"M24681 1395.66 L24681 1423.18 L24726 1423.18 L24726 1395.66 L24681 1395.66 L24681 1395.66  Z\" fill=\"#009af9\" fill-rule=\"evenodd\" fill-opacity=\"1\"/>\n",
       "<polyline clip-path=\"url(#clip952)\" style=\"stroke:#000000; stroke-linecap:round; stroke-linejoin:round; stroke-width:4; stroke-opacity:1; fill:none\" points=\"24681,1395.66 24681,1423.18 24726,1423.18 24726,1395.66 24681,1395.66 \"/>\n",
       "<circle clip-path=\"url(#clip952)\" style=\"fill:#009af9; stroke:none; fill-opacity:0\" cx=\"428.415\" cy=\"1368.14\" r=\"2\"/>\n",
       "<circle clip-path=\"url(#clip952)\" style=\"fill:#009af9; stroke:none; fill-opacity:0\" cx=\"473.453\" cy=\"1285.59\" r=\"2\"/>\n",
       "<circle clip-path=\"url(#clip952)\" style=\"fill:#009af9; stroke:none; fill-opacity:0\" cx=\"518.49\" cy=\"680.175\" r=\"2\"/>\n",
       "<circle clip-path=\"url(#clip952)\" style=\"fill:#009af9; stroke:none; fill-opacity:0\" cx=\"563.527\" cy=\"47.2441\" r=\"2\"/>\n",
       "<circle clip-path=\"url(#clip952)\" style=\"fill:#009af9; stroke:none; fill-opacity:0\" cx=\"608.564\" cy=\"845.287\" r=\"2\"/>\n",
       "<circle clip-path=\"url(#clip952)\" style=\"fill:#009af9; stroke:none; fill-opacity:0\" cx=\"653.602\" cy=\"817.768\" r=\"2\"/>\n",
       "<circle clip-path=\"url(#clip952)\" style=\"fill:#009af9; stroke:none; fill-opacity:0\" cx=\"698.639\" cy=\"927.843\" r=\"2\"/>\n",
       "<circle clip-path=\"url(#clip952)\" style=\"fill:#009af9; stroke:none; fill-opacity:0\" cx=\"743.676\" cy=\"1092.96\" r=\"2\"/>\n",
       "<circle clip-path=\"url(#clip952)\" style=\"fill:#009af9; stroke:none; fill-opacity:0\" cx=\"788.713\" cy=\"1285.59\" r=\"2\"/>\n",
       "<circle clip-path=\"url(#clip952)\" style=\"fill:#009af9; stroke:none; fill-opacity:0\" cx=\"833.75\" cy=\"1147.99\" r=\"2\"/>\n",
       "<circle clip-path=\"url(#clip952)\" style=\"fill:#009af9; stroke:none; fill-opacity:0\" cx=\"878.788\" cy=\"1175.51\" r=\"2\"/>\n",
       "<circle clip-path=\"url(#clip952)\" style=\"fill:#009af9; stroke:none; fill-opacity:0\" cx=\"923.825\" cy=\"1203.03\" r=\"2\"/>\n",
       "<circle clip-path=\"url(#clip952)\" style=\"fill:#009af9; stroke:none; fill-opacity:0\" cx=\"968.862\" cy=\"1258.07\" r=\"2\"/>\n",
       "<circle clip-path=\"url(#clip952)\" style=\"fill:#009af9; stroke:none; fill-opacity:0\" cx=\"1013.9\" cy=\"1313.1\" r=\"2\"/>\n",
       "<circle clip-path=\"url(#clip952)\" style=\"fill:#009af9; stroke:none; fill-opacity:0\" cx=\"1058.94\" cy=\"1285.59\" r=\"2\"/>\n",
       "<circle clip-path=\"url(#clip952)\" style=\"fill:#009af9; stroke:none; fill-opacity:0\" cx=\"1103.97\" cy=\"1258.07\" r=\"2\"/>\n",
       "<circle clip-path=\"url(#clip952)\" style=\"fill:#009af9; stroke:none; fill-opacity:0\" cx=\"1149.01\" cy=\"1147.99\" r=\"2\"/>\n",
       "<circle clip-path=\"url(#clip952)\" style=\"fill:#009af9; stroke:none; fill-opacity:0\" cx=\"1194.05\" cy=\"1230.55\" r=\"2\"/>\n",
       "<circle clip-path=\"url(#clip952)\" style=\"fill:#009af9; stroke:none; fill-opacity:0\" cx=\"1239.09\" cy=\"1230.55\" r=\"2\"/>\n",
       "<circle clip-path=\"url(#clip952)\" style=\"fill:#009af9; stroke:none; fill-opacity:0\" cx=\"1284.12\" cy=\"955.362\" r=\"2\"/>\n",
       "<circle clip-path=\"url(#clip952)\" style=\"fill:#009af9; stroke:none; fill-opacity:0\" cx=\"1329.16\" cy=\"1065.44\" r=\"2\"/>\n",
       "<circle clip-path=\"url(#clip952)\" style=\"fill:#009af9; stroke:none; fill-opacity:0\" cx=\"1374.2\" cy=\"1065.44\" r=\"2\"/>\n",
       "<circle clip-path=\"url(#clip952)\" style=\"fill:#009af9; stroke:none; fill-opacity:0\" cx=\"1419.23\" cy=\"1120.47\" r=\"2\"/>\n",
       "<circle clip-path=\"url(#clip952)\" style=\"fill:#009af9; stroke:none; fill-opacity:0\" cx=\"1464.27\" cy=\"790.249\" r=\"2\"/>\n",
       "<circle clip-path=\"url(#clip952)\" style=\"fill:#009af9; stroke:none; fill-opacity:0\" cx=\"1509.31\" cy=\"1120.47\" r=\"2\"/>\n",
       "<circle clip-path=\"url(#clip952)\" style=\"fill:#009af9; stroke:none; fill-opacity:0\" cx=\"1554.35\" cy=\"817.768\" r=\"2\"/>\n",
       "<circle clip-path=\"url(#clip952)\" style=\"fill:#009af9; stroke:none; fill-opacity:0\" cx=\"1599.38\" cy=\"1120.47\" r=\"2\"/>\n",
       "<circle clip-path=\"url(#clip952)\" style=\"fill:#009af9; stroke:none; fill-opacity:0\" cx=\"1644.42\" cy=\"1120.47\" r=\"2\"/>\n",
       "<circle clip-path=\"url(#clip952)\" style=\"fill:#009af9; stroke:none; fill-opacity:0\" cx=\"1689.46\" cy=\"1120.47\" r=\"2\"/>\n",
       "<circle clip-path=\"url(#clip952)\" style=\"fill:#009af9; stroke:none; fill-opacity:0\" cx=\"1734.49\" cy=\"1065.44\" r=\"2\"/>\n",
       "<circle clip-path=\"url(#clip952)\" style=\"fill:#009af9; stroke:none; fill-opacity:0\" cx=\"1779.53\" cy=\"1120.47\" r=\"2\"/>\n",
       "<circle clip-path=\"url(#clip952)\" style=\"fill:#009af9; stroke:none; fill-opacity:0\" cx=\"1824.57\" cy=\"1258.07\" r=\"2\"/>\n",
       "<circle clip-path=\"url(#clip952)\" style=\"fill:#009af9; stroke:none; fill-opacity:0\" cx=\"1869.61\" cy=\"1230.55\" r=\"2\"/>\n",
       "<circle clip-path=\"url(#clip952)\" style=\"fill:#009af9; stroke:none; fill-opacity:0\" cx=\"1914.64\" cy=\"1313.1\" r=\"2\"/>\n",
       "<circle clip-path=\"url(#clip952)\" style=\"fill:#009af9; stroke:none; fill-opacity:0\" cx=\"1959.68\" cy=\"1285.59\" r=\"2\"/>\n",
       "<circle clip-path=\"url(#clip952)\" style=\"fill:#009af9; stroke:none; fill-opacity:0\" cx=\"2004.72\" cy=\"1368.14\" r=\"2\"/>\n",
       "<circle clip-path=\"url(#clip952)\" style=\"fill:#009af9; stroke:none; fill-opacity:0\" cx=\"2049.76\" cy=\"1340.62\" r=\"2\"/>\n",
       "<circle clip-path=\"url(#clip952)\" style=\"fill:#009af9; stroke:none; fill-opacity:0\" cx=\"2094.79\" cy=\"1285.59\" r=\"2\"/>\n",
       "<circle clip-path=\"url(#clip952)\" style=\"fill:#009af9; stroke:none; fill-opacity:0\" cx=\"2139.83\" cy=\"1423.18\" r=\"2\"/>\n",
       "<circle clip-path=\"url(#clip952)\" style=\"fill:#009af9; stroke:none; fill-opacity:0\" cx=\"2184.87\" cy=\"1340.62\" r=\"2\"/>\n",
       "<circle clip-path=\"url(#clip952)\" style=\"fill:#009af9; stroke:none; fill-opacity:0\" cx=\"2229.9\" cy=\"1340.62\" r=\"2\"/>\n",
       "<circle clip-path=\"url(#clip952)\" style=\"fill:#009af9; stroke:none; fill-opacity:0\" cx=\"2274.94\" cy=\"1395.66\" r=\"2\"/>\n",
       "<circle clip-path=\"url(#clip952)\" style=\"fill:#009af9; stroke:none; fill-opacity:0\" cx=\"2319.98\" cy=\"1368.14\" r=\"2\"/>\n",
       "</svg>\n"
      ]
     },
     "metadata": {},
     "output_type": "display_data"
    }
   ],
   "source": [
    "using Statistics # bring in statistical support for standard deviations\n",
    "t = c_bench.times / 1e6 # times in milliseconds\n",
    "m, σ = minimum(t), std(t)\n",
    "\n",
    "histogram(t, bins=500,\n",
    "    xlim=(m - 0.01, m + σ),\n",
    "    xlabel=\"milliseconds\", ylabel=\"count\", label=\"\")"
   ]
  },
  {
   "cell_type": "markdown",
   "metadata": {},
   "source": [
    "# 2. C with -ffast-math\n",
    "\n",
    "If we allow C to re-arrange the floating point operations, then it'll vectorize with SIMD (single instruction, multiple data) instructions."
   ]
  },
  {
   "cell_type": "code",
   "execution_count": 20,
   "metadata": {},
   "outputs": [
    {
     "data": {
      "text/plain": [
       "c_sum_fastmath (generic function with 1 method)"
      ]
     },
     "metadata": {},
     "output_type": "display_data"
    }
   ],
   "source": [
    "const Clib_fastmath = tempname()   # make a temporary file\n",
    "\n",
    "# The same as above but with a -ffast-math flag added\n",
    "open(`gcc -fPIC -O3 -msse3 -xc -shared -ffast-math -o $(Clib_fastmath * \".\" * Libdl.dlext) -`, \"w\") do f\n",
    "    print(f, C_code) \n",
    "end\n",
    "\n",
    "# define a Julia function that calls the C function:\n",
    "c_sum_fastmath(X::Array{Float64}) = ccall((\"c_sum\", Clib_fastmath), Float64, (Csize_t, Ptr{Float64}), length(X), X)"
   ]
  },
  {
   "cell_type": "code",
   "execution_count": 21,
   "metadata": {},
   "outputs": [
    {
     "data": {
      "text/plain": [
       "BenchmarkTools.Trial: 2728 samples with 1 evaluation.\n",
       " Range \u001b[90m(\u001b[39m\u001b[36m\u001b[1mmin\u001b[22m\u001b[39m … \u001b[35mmax\u001b[39m\u001b[90m):  \u001b[39m\u001b[36m\u001b[1m1.781 ms\u001b[22m\u001b[39m … \u001b[35m 2.565 ms\u001b[39m  \u001b[90m┊\u001b[39m GC \u001b[90m(\u001b[39mmin … max\u001b[90m): \u001b[39m0.00% … 0.00%\n",
       " Time  \u001b[90m(\u001b[39m\u001b[34m\u001b[1mmedian\u001b[22m\u001b[39m\u001b[90m):     \u001b[39m\u001b[34m\u001b[1m1.791 ms              \u001b[22m\u001b[39m\u001b[90m┊\u001b[39m GC \u001b[90m(\u001b[39mmedian\u001b[90m):    \u001b[39m0.00%\n",
       " Time  \u001b[90m(\u001b[39m\u001b[32m\u001b[1mmean\u001b[22m\u001b[39m ± \u001b[32mσ\u001b[39m\u001b[90m):   \u001b[39m\u001b[32m\u001b[1m1.821 ms\u001b[22m\u001b[39m ± \u001b[32m71.553 μs\u001b[39m  \u001b[90m┊\u001b[39m GC \u001b[90m(\u001b[39mmean ± σ\u001b[90m):  \u001b[39m0.00% ± 0.00%\n",
       "\n",
       "  \u001b[39m▇\u001b[39m█\u001b[34m▆\u001b[39m\u001b[39m▄\u001b[39m▃\u001b[39m▂\u001b[39m▁\u001b[39m▁\u001b[32m▁\u001b[39m\u001b[39m \u001b[39m \u001b[39m \u001b[39m \u001b[39m \u001b[39m \u001b[39m \u001b[39m \u001b[39m \u001b[39m \u001b[39m \u001b[39m \u001b[39m \u001b[39m \u001b[39m \u001b[39m \u001b[39m \u001b[39m \u001b[39m \u001b[39m \u001b[39m \u001b[39m \u001b[39m \u001b[39m \u001b[39m \u001b[39m \u001b[39m \u001b[39m \u001b[39m \u001b[39m \u001b[39m \u001b[39m \u001b[39m \u001b[39m \u001b[39m \u001b[39m \u001b[39m \u001b[39m \u001b[39m \u001b[39m \u001b[39m \u001b[39m \u001b[39m \u001b[39m \u001b[39m \u001b[39m \u001b[39m \u001b[39m \u001b[39m \u001b[39m \u001b[39m \n",
       "  \u001b[39m█\u001b[39m█\u001b[34m█\u001b[39m\u001b[39m█\u001b[39m█\u001b[39m█\u001b[39m█\u001b[39m█\u001b[32m█\u001b[39m\u001b[39m█\u001b[39m█\u001b[39m▆\u001b[39m▇\u001b[39m▇\u001b[39m▇\u001b[39m▇\u001b[39m▇\u001b[39m▆\u001b[39m▇\u001b[39m▇\u001b[39m█\u001b[39m█\u001b[39m█\u001b[39m▇\u001b[39m█\u001b[39m█\u001b[39m█\u001b[39m▇\u001b[39m▇\u001b[39m▇\u001b[39m▇\u001b[39m▆\u001b[39m▇\u001b[39m█\u001b[39m▇\u001b[39m▇\u001b[39m▇\u001b[39m▇\u001b[39m▆\u001b[39m▆\u001b[39m▅\u001b[39m▅\u001b[39m▅\u001b[39m▆\u001b[39m▆\u001b[39m▃\u001b[39m▅\u001b[39m▅\u001b[39m▄\u001b[39m▄\u001b[39m▄\u001b[39m▅\u001b[39m▄\u001b[39m▃\u001b[39m▃\u001b[39m▃\u001b[39m▃\u001b[39m▃\u001b[39m \u001b[39m█\n",
       "  1.78 ms\u001b[90m      \u001b[39m\u001b[90mHistogram: \u001b[39m\u001b[90m\u001b[1mlog(\u001b[22m\u001b[39m\u001b[90mfrequency\u001b[39m\u001b[90m\u001b[1m)\u001b[22m\u001b[39m\u001b[90m by time\u001b[39m     2.07 ms \u001b[0m\u001b[1m<\u001b[22m\n",
       "\n",
       " Memory estimate\u001b[90m: \u001b[39m\u001b[33m0 bytes\u001b[39m, allocs estimate\u001b[90m: \u001b[39m\u001b[33m0\u001b[39m."
      ]
     },
     "metadata": {},
     "output_type": "display_data"
    }
   ],
   "source": [
    "c_fastmath_bench = @benchmark $c_sum_fastmath($a)"
   ]
  },
  {
   "cell_type": "code",
   "execution_count": 22,
   "metadata": {},
   "outputs": [
    {
     "data": {
      "text/plain": [
       "1.781375"
      ]
     },
     "metadata": {},
     "output_type": "display_data"
    }
   ],
   "source": [
    "d[\"C -ffast-math\"] = minimum(c_fastmath_bench.times) / 1e6  # in milliseconds"
   ]
  },
  {
   "cell_type": "markdown",
   "metadata": {},
   "source": [
    "# 3. Python's built in `sum` "
   ]
  },
  {
   "cell_type": "markdown",
   "metadata": {},
   "source": [
    "The `PyCall` package provides a Julia interface to Python:"
   ]
  },
  {
   "cell_type": "code",
   "execution_count": 23,
   "metadata": {
    "scrolled": true
   },
   "outputs": [
    {
     "name": "stderr",
     "output_type": "stream",
     "text": [
      "\u001b[32m\u001b[1m   Resolving\u001b[22m\u001b[39m package versions...\n"
     ]
    },
    {
     "name": "stderr",
     "output_type": "stream",
     "text": [
      "\u001b[32m\u001b[1m   Installed\u001b[22m\u001b[39m Conda ── v1.9.1\n"
     ]
    },
    {
     "name": "stderr",
     "output_type": "stream",
     "text": [
      "\u001b[32m\u001b[1m   Installed\u001b[22m\u001b[39m PyCall ─ v1.96.1\n"
     ]
    },
    {
     "name": "stderr",
     "output_type": "stream",
     "text": [
      "\u001b[32m\u001b[1m    Updating\u001b[22m\u001b[39m `~/.julia/environments/v1.9/Project.toml`\n",
      "  \u001b[90m[438e738f] \u001b[39m\u001b[92m+ PyCall v1.96.1\u001b[39m\n",
      "\u001b[32m\u001b[1m    Updating\u001b[22m\u001b[39m `~/.julia/environments/v1.9/Manifest.toml`\n",
      " "
     ]
    },
    {
     "name": "stderr",
     "output_type": "stream",
     "text": [
      " \u001b[90m[8f4d0f93] \u001b[39m\u001b[92m+ Conda v1.9.1\u001b[39m\n",
      "  \u001b[90m[438e738f] \u001b[39m\u001b[92m+ PyCall v1.96.1\u001b[39m\n",
      "  \u001b[90m[81def892] \u001b[39m\u001b[92m+ VersionParsing v1.3.0\u001b[39m\n",
      "\u001b[32m\u001b[1m    Building\u001b[22m\u001b[39m Conda ─→ `~/.julia/scratchspaces/44cfe95a-1eb2-52ea-b672-e2afdf69b78f/8c86e48c0db1564a1d49548d3515ced5d604c408/build.log`\n"
     ]
    },
    {
     "name": "stderr",
     "output_type": "stream",
     "text": [
      "\u001b[32m\u001b[1m    Building\u001b[22m\u001b[39m PyCall → `~/.julia/scratchspaces/44cfe95a-1eb2-52ea-b672-e2afdf69b78f/43d304ac6f0354755f1d60730ece8c499980f7ba/build.log`\n"
     ]
    },
    {
     "name": "stderr",
     "output_type": "stream",
     "text": [
      "\u001b[32m\u001b[1mPrecompiling\u001b[22m\u001b[39m "
     ]
    },
    {
     "name": "stderr",
     "output_type": "stream",
     "text": [
      "project...\n"
     ]
    },
    {
     "name": "stderr",
     "output_type": "stream",
     "text": [
      "\u001b[32m  ✓ \u001b[39m\u001b[90mVersionParsing\u001b[39m\n"
     ]
    },
    {
     "name": "stderr",
     "output_type": "stream",
     "text": [
      "\u001b[32m  ✓ \u001b[39m\u001b[90mConda\u001b[39m\n"
     ]
    },
    {
     "name": "stderr",
     "output_type": "stream",
     "text": [
      "\u001b[32m  ✓ \u001b[39mPyCall\n",
      "  3 dependencies successfully precompiled in 16 seconds. 275 already precompiled.\n"
     ]
    }
   ],
   "source": [
    "using Pkg; Pkg.add(\"PyCall\")\n",
    "using PyCall"
   ]
  },
  {
   "cell_type": "code",
   "execution_count": 24,
   "metadata": {
    "scrolled": false
   },
   "outputs": [
    {
     "data": {
      "text/plain": [
       "PyObject <built-in function sum>"
      ]
     },
     "metadata": {},
     "output_type": "display_data"
    }
   ],
   "source": [
    "# get the Python built-in \"sum\" function:\n",
    "pysum = pybuiltin(\"sum\")"
   ]
  },
  {
   "cell_type": "code",
   "execution_count": 25,
   "metadata": {
    "scrolled": false
   },
   "outputs": [
    {
     "data": {
      "text/plain": [
       "4.99962757462204e6"
      ]
     },
     "metadata": {},
     "output_type": "display_data"
    }
   ],
   "source": [
    "pysum(a)"
   ]
  },
  {
   "cell_type": "code",
   "execution_count": 26,
   "metadata": {
    "scrolled": false
   },
   "outputs": [
    {
     "data": {
      "text/plain": [
       "true"
      ]
     },
     "metadata": {},
     "output_type": "display_data"
    }
   ],
   "source": [
    "pysum(a) ≈ sum(a)"
   ]
  },
  {
   "cell_type": "code",
   "execution_count": 27,
   "metadata": {
    "scrolled": false
   },
   "outputs": [
    {
     "data": {
      "text/plain": [
       "BenchmarkTools.Trial: 3 samples with 1 evaluation.\n",
       " Range \u001b[90m(\u001b[39m\u001b[36m\u001b[1mmin\u001b[22m\u001b[39m … \u001b[35mmax\u001b[39m\u001b[90m):  \u001b[39m\u001b[36m\u001b[1m1.693 s\u001b[22m\u001b[39m … \u001b[35m   1.912 s\u001b[39m  \u001b[90m┊\u001b[39m GC \u001b[90m(\u001b[39mmin … max\u001b[90m): \u001b[39m28.25% … 20.44%\n",
       " Time  \u001b[90m(\u001b[39m\u001b[34m\u001b[1mmedian\u001b[22m\u001b[39m\u001b[90m):     \u001b[39m\u001b[34m\u001b[1m1.874 s               \u001b[22m\u001b[39m\u001b[90m┊\u001b[39m GC \u001b[90m(\u001b[39mmedian\u001b[90m):    \u001b[39m22.23%\n",
       " Time  \u001b[90m(\u001b[39m\u001b[32m\u001b[1mmean\u001b[22m\u001b[39m ± \u001b[32mσ\u001b[39m\u001b[90m):   \u001b[39m\u001b[32m\u001b[1m1.827 s\u001b[22m\u001b[39m ± \u001b[32m117.223 ms\u001b[39m  \u001b[90m┊\u001b[39m GC \u001b[90m(\u001b[39mmean ± σ\u001b[90m):  \u001b[39m23.46% ±  4.09%\n",
       "\n",
       "  \u001b[34m█\u001b[39m\u001b[39m \u001b[39m \u001b[39m \u001b[39m \u001b[39m \u001b[39m \u001b[39m \u001b[39m \u001b[39m \u001b[39m \u001b[39m \u001b[39m \u001b[39m \u001b[39m \u001b[39m \u001b[39m \u001b[39m \u001b[39m \u001b[39m \u001b[39m \u001b[39m \u001b[39m \u001b[39m \u001b[39m \u001b[39m \u001b[39m \u001b[39m \u001b[39m \u001b[39m \u001b[39m \u001b[39m \u001b[39m \u001b[39m \u001b[39m \u001b[32m \u001b[39m\u001b[39m \u001b[39m \u001b[39m \u001b[39m \u001b[39m \u001b[39m \u001b[39m \u001b[39m \u001b[39m \u001b[39m \u001b[39m \u001b[39m█\u001b[39m \u001b[39m \u001b[39m \u001b[39m \u001b[39m \u001b[39m \u001b[39m \u001b[39m \u001b[39m \u001b[39m█\u001b[39m \u001b[39m \n",
       "  \u001b[34m█\u001b[39m\u001b[39m▁\u001b[39m▁\u001b[39m▁\u001b[39m▁\u001b[39m▁\u001b[39m▁\u001b[39m▁\u001b[39m▁\u001b[39m▁\u001b[39m▁\u001b[39m▁\u001b[39m▁\u001b[39m▁\u001b[39m▁\u001b[39m▁\u001b[39m▁\u001b[39m▁\u001b[39m▁\u001b[39m▁\u001b[39m▁\u001b[39m▁\u001b[39m▁\u001b[39m▁\u001b[39m▁\u001b[39m▁\u001b[39m▁\u001b[39m▁\u001b[39m▁\u001b[39m▁\u001b[39m▁\u001b[39m▁\u001b[39m▁\u001b[39m▁\u001b[39m▁\u001b[32m▁\u001b[39m\u001b[39m▁\u001b[39m▁\u001b[39m▁\u001b[39m▁\u001b[39m▁\u001b[39m▁\u001b[39m▁\u001b[39m▁\u001b[39m▁\u001b[39m▁\u001b[39m▁\u001b[39m█\u001b[39m▁\u001b[39m▁\u001b[39m▁\u001b[39m▁\u001b[39m▁\u001b[39m▁\u001b[39m▁\u001b[39m▁\u001b[39m▁\u001b[39m█\u001b[39m \u001b[39m▁\n",
       "  1.69 s\u001b[90m         Histogram: frequency by time\u001b[39m         1.91 s \u001b[0m\u001b[1m<\u001b[22m\n",
       "\n",
       " Memory estimate\u001b[90m: \u001b[39m\u001b[33m152.60 MiB\u001b[39m, allocs estimate\u001b[90m: \u001b[39m\u001b[33m10000042\u001b[39m."
      ]
     },
     "metadata": {},
     "output_type": "display_data"
    }
   ],
   "source": [
    "py_list_bench = @benchmark $pysum($a)"
   ]
  },
  {
   "cell_type": "code",
   "execution_count": 28,
   "metadata": {
    "scrolled": false
   },
   "outputs": [
    {
     "data": {
      "text/plain": [
       "Dict{Any, Any} with 3 entries:\n",
       "  \"C\"               => 9.37708\n",
       "  \"Python built-in\" => 1693.0\n",
       "  \"C -ffast-math\"   => 1.78137"
      ]
     },
     "metadata": {},
     "output_type": "display_data"
    }
   ],
   "source": [
    "d[\"Python built-in\"] = minimum(py_list_bench.times) / 1e6\n",
    "d"
   ]
  },
  {
   "cell_type": "markdown",
   "metadata": {},
   "source": [
    "# 4. Python: `numpy` \n",
    "\n",
    "## Takes advantage of hardware \"SIMD\", but only works when it works.\n",
    "\n",
    "`numpy` is an optimized C library, callable from Python.\n",
    "It may be installed within Julia as follows:"
   ]
  },
  {
   "cell_type": "code",
   "execution_count": 29,
   "metadata": {
    "scrolled": false
   },
   "outputs": [
    {
     "name": "stderr",
     "output_type": "stream",
     "text": [
      "\u001b[32m\u001b[1m   Resolving\u001b[22m\u001b[39m package versions...\n"
     ]
    },
    {
     "name": "stderr",
     "output_type": "stream",
     "text": [
      "\u001b[32m\u001b[1m    Updating\u001b[22m\u001b[39m `~/.julia/environments/v1.9/Project.toml`\n",
      "  \u001b[90m[8f4d0f93] \u001b[39m\u001b[92m+ Conda v1.9.1\u001b[39m\n",
      "\u001b[32m\u001b[1m  No Changes\u001b[22m\u001b[39m to `~/.julia/environments/v1.9/Manifest.toml`\n"
     ]
    }
   ],
   "source": [
    "using Pkg; Pkg.add(\"Conda\")\n",
    "using Conda"
   ]
  },
  {
   "cell_type": "code",
   "execution_count": 36,
   "metadata": {},
   "outputs": [
    {
     "name": "stderr",
     "output_type": "stream",
     "text": [
      "┌ Info: Running `conda install -y numpy` in root environment\n",
      "└ @ Conda /Users/sergio/.julia/packages/Conda/2lg2O/src/Conda.jl:127\n"
     ]
    },
    {
     "name": "stdout",
     "output_type": "stream",
     "text": [
      "Collecting package metadata (current_repodata.json): ...working... "
     ]
    },
    {
     "name": "stdout",
     "output_type": "stream",
     "text": [
      "done\n",
      "Solving environment: ...working... "
     ]
    },
    {
     "name": "stdout",
     "output_type": "stream",
     "text": [
      "done\n"
     ]
    },
    {
     "name": "stdout",
     "output_type": "stream",
     "text": [
      "\n",
      "# All requested packages already installed.\n",
      "\n"
     ]
    },
    {
     "name": "stderr",
     "output_type": "stream",
     "text": [
      "\n",
      "\n",
      "==> WARNING: A newer version of conda exists. <==\n",
      "  current version: 22.11.1\n",
      "  latest version: 23.9.0\n",
      "\n",
      "Please update conda by running\n",
      "\n",
      "    $ conda update -n base -c conda-forge conda\n",
      "\n",
      "Or to minimize the number of packages updated during conda update use\n",
      "\n",
      "     conda install conda=23.9.0\n",
      "\n",
      "\n"
     ]
    }
   ],
   "source": [
    "Conda.add(\"numpy\")"
   ]
  },
  {
   "cell_type": "code",
   "execution_count": 37,
   "metadata": {
    "scrolled": false
   },
   "outputs": [
    {
     "ename": "PyCall.PyError",
     "evalue": "PyError (PyImport_ImportModule\n\nThe Python package numpy could not be imported by pyimport. Usually this means\nthat you did not install numpy in the Python version being used by PyCall.\n\nPyCall is currently configured to use the Julia-specific Python distribution\ninstalled by the Conda.jl package.  To install the numpy module, you can\nuse `pyimport_conda(\"numpy\", PKG)`, where PKG is the Anaconda\npackage that contains the module numpy, or alternatively you can use the\nConda package directly (via `using Conda` followed by `Conda.add` etcetera).\n\nAlternatively, if you want to use a different Python distribution on your\nsystem, such as a system-wide Python (as opposed to the Julia-specific Python),\nyou can re-configure PyCall with that Python.   As explained in the PyCall\ndocumentation, set ENV[\"PYTHON\"] to the path/name of the python executable\nyou want to use, run Pkg.build(\"PyCall\"), and re-launch Julia.\n\n) <class 'ImportError'>\nImportError('\\n\\nIMPORTANT: PLEASE READ THIS FOR ADVICE ON HOW TO SOLVE THIS ISSUE!\\n\\nImporting the numpy C-extensions failed. This error can happen for\\nmany reasons, often due to issues with your setup or how NumPy was\\ninstalled.\\n\\nWe have compiled some common reasons and troubleshooting tips at:\\n\\n    https://numpy.org/devdocs/user/troubleshooting-importerror.html\\n\\nPlease note and check the following:\\n\\n  * The Python version is: Python3.9 from \"/Users/sergio/.julia/conda/3/bin/python\"\\n  * The NumPy version is: \"1.21.1\"\\n\\nand make sure that they are the versions you expect.\\nPlease carefully study the documentation linked above for further help.\\n\\nOriginal error was: dlopen(/Users/sergio/.local/lib/python3.9/site-packages/numpy/core/_multiarray_umath.cpython-39-darwin.so, 0x0002): tried: \\'/Users/sergio/.local/lib/python3.9/site-packages/numpy/core/_multiarray_umath.cpython-39-darwin.so\\' (mach-o file, but is an incompatible architecture (have \\'arm64\\', need \\'x86_64\\')), \\'/System/Volumes/Preboot/Cryptexes/OS/Users/sergio/.local/lib/python3.9/site-packages/numpy/core/_multiarray_umath.cpython-39-darwin.so\\' (no such file), \\'/Users/sergio/.local/lib/python3.9/site-packages/numpy/core/_multiarray_umath.cpython-39-darwin.so\\' (mach-o file, but is an incompatible architecture (have \\'arm64\\', need \\'x86_64\\'))\\n')\n  File \"/Users/sergio/.local/lib/python3.9/site-packages/numpy/__init__.py\", line 150, in <module>\n    from . import core\n  File \"/Users/sergio/.local/lib/python3.9/site-packages/numpy/core/__init__.py\", line 48, in <module>\n    raise ImportError(msg)\n",
     "output_type": "error",
     "traceback": [
      "PyError (PyImport_ImportModule\n",
      "\n",
      "The Python package numpy could not be imported by pyimport. Usually this means\n",
      "that you did not install numpy in the Python version being used by PyCall.\n",
      "\n",
      "PyCall is currently configured to use the Julia-specific Python distribution\n",
      "installed by the Conda.jl package.  To install the numpy module, you can\n",
      "use `pyimport_conda(\"numpy\", PKG)`, where PKG is the Anaconda\n",
      "package that contains the module numpy, or alternatively you can use the\n",
      "Conda package directly (via `using Conda` followed by `Conda.add` etcetera).\n",
      "\n",
      "Alternatively, if you want to use a different Python distribution on your\n",
      "system, such as a system-wide Python (as opposed to the Julia-specific Python),\n",
      "you can re-configure PyCall with that Python.   As explained in the PyCall\n",
      "documentation, set ENV[\"PYTHON\"] to the path/name of the python executable\n",
      "you want to use, run Pkg.build(\"PyCall\"), and re-launch Julia.\n",
      "\n",
      ") <class 'ImportError'>\n",
      "ImportError('\\n\\nIMPORTANT: PLEASE READ THIS FOR ADVICE ON HOW TO SOLVE THIS ISSUE!\\n\\nImporting the numpy C-extensions failed. This error can happen for\\nmany reasons, often due to issues with your setup or how NumPy was\\ninstalled.\\n\\nWe have compiled some common reasons and troubleshooting tips at:\\n\\n    https://numpy.org/devdocs/user/troubleshooting-importerror.html\\n\\nPlease note and check the following:\\n\\n  * The Python version is: Python3.9 from \"/Users/sergio/.julia/conda/3/bin/python\"\\n  * The NumPy version is: \"1.21.1\"\\n\\nand make sure that they are the versions you expect.\\nPlease carefully study the documentation linked above for further help.\\n\\nOriginal error was: dlopen(/Users/sergio/.local/lib/python3.9/site-packages/numpy/core/_multiarray_umath.cpython-39-darwin.so, 0x0002): tried: \\'/Users/sergio/.local/lib/python3.9/site-packages/numpy/core/_multiarray_umath.cpython-39-darwin.so\\' (mach-o file, but is an incompatible architecture (have \\'arm64\\', need \\'x86_64\\')), \\'/System/Volumes/Preboot/Cryptexes/OS/Users/sergio/.local/lib/python3.9/site-packages/numpy/core/_multiarray_umath.cpython-39-darwin.so\\' (no such file), \\'/Users/sergio/.local/lib/python3.9/site-packages/numpy/core/_multiarray_umath.cpython-39-darwin.so\\' (mach-o file, but is an incompatible architecture (have \\'arm64\\', need \\'x86_64\\'))\\n')\n",
      "  File \"/Users/sergio/.local/lib/python3.9/site-packages/numpy/__init__.py\", line 150, in <module>\n",
      "    from . import core\n",
      "  File \"/Users/sergio/.local/lib/python3.9/site-packages/numpy/core/__init__.py\", line 48, in <module>\n",
      "    raise ImportError(msg)\n",
      "\n",
      "\n",
      "Stacktrace:\n",
      " [1] pyimport(name::String)\n",
      "   @ PyCall ~/.julia/packages/PyCall/ilqDX/src/PyCall.jl:558\n",
      " [2] top-level scope\n",
      "   @ ~/code/computacion_numerica/6_SpeedTest.ipynb:1"
     ]
    }
   ],
   "source": [
    "numpy_sum = pyimport(\"numpy\")[\"sum\"]\n",
    "\n",
    "py_numpy_bench = @benchmark $numpy_sum($a)"
   ]
  },
  {
   "cell_type": "code",
   "execution_count": 34,
   "metadata": {
    "scrolled": false
   },
   "outputs": [
    {
     "ename": "UndefVarError",
     "evalue": "UndefVarError: `numpy_sum` not defined",
     "output_type": "error",
     "traceback": [
      "UndefVarError: `numpy_sum` not defined\n",
      "\n",
      "Stacktrace:\n",
      " [1] top-level scope\n",
      "   @ ~/code/computacion_numerica/6_SpeedTest.ipynb:1"
     ]
    }
   ],
   "source": [
    "numpy_sum(a)"
   ]
  },
  {
   "cell_type": "code",
   "execution_count": 35,
   "metadata": {
    "scrolled": false
   },
   "outputs": [
    {
     "ename": "UndefVarError",
     "evalue": "UndefVarError: `numpy_sum` not defined",
     "output_type": "error",
     "traceback": [
      "UndefVarError: `numpy_sum` not defined\n",
      "\n",
      "Stacktrace:\n",
      " [1] top-level scope\n",
      "   @ ~/code/computacion_numerica/6_SpeedTest.ipynb:1"
     ]
    }
   ],
   "source": [
    "numpy_sum(a) ≈ sum(a)"
   ]
  },
  {
   "cell_type": "code",
   "execution_count": 31,
   "metadata": {
    "scrolled": true
   },
   "outputs": [
    {
     "data": {
      "text/plain": [
       "Dict{Any,Any} with 4 entries:\n",
       "  \"C\"               => 11.063\n",
       "  \"Python numpy\"    => 6.64861\n",
       "  \"Python built-in\" => 904.664\n",
       "  \"C -ffast-math\"   => 6.95261"
      ]
     },
     "execution_count": 31,
     "metadata": {},
     "output_type": "execute_result"
    }
   ],
   "source": [
    "d[\"Python numpy\"] = minimum(py_numpy_bench.times) / 1e6\n",
    "d"
   ]
  },
  {
   "cell_type": "markdown",
   "metadata": {},
   "source": [
    "# 5. Python, hand-written "
   ]
  },
  {
   "cell_type": "code",
   "execution_count": 34,
   "metadata": {
    "scrolled": false
   },
   "outputs": [
    {
     "data": {
      "text/plain": [
       "PyObject <function py_sum at 0x11c844ee0>"
      ]
     },
     "metadata": {},
     "output_type": "display_data"
    }
   ],
   "source": [
    "py\"\"\"\n",
    "def py_sum(A):\n",
    "    s = 0.0\n",
    "    for a in A:\n",
    "        s += a\n",
    "    return s\n",
    "\"\"\"\n",
    "\n",
    "sum_py = py\"py_sum\""
   ]
  },
  {
   "cell_type": "code",
   "execution_count": 36,
   "metadata": {
    "scrolled": false
   },
   "outputs": [
    {
     "data": {
      "text/plain": [
       "BenchmarkTools.Trial: 4 samples with 1 evaluation.\n",
       " Range \u001b[90m(\u001b[39m\u001b[36m\u001b[1mmin\u001b[22m\u001b[39m … \u001b[35mmax\u001b[39m\u001b[90m):  \u001b[39m\u001b[36m\u001b[1m1.100 s\u001b[22m\u001b[39m … \u001b[35m   1.890 s\u001b[39m  \u001b[90m┊\u001b[39m GC \u001b[90m(\u001b[39mmin … max\u001b[90m): \u001b[39m13.92% … 26.63%\n",
       " Time  \u001b[90m(\u001b[39m\u001b[34m\u001b[1mmedian\u001b[22m\u001b[39m\u001b[90m):     \u001b[39m\u001b[34m\u001b[1m1.336 s               \u001b[22m\u001b[39m\u001b[90m┊\u001b[39m GC \u001b[90m(\u001b[39mmedian\u001b[90m):    \u001b[39m16.94%\n",
       " Time  \u001b[90m(\u001b[39m\u001b[32m\u001b[1mmean\u001b[22m\u001b[39m ± \u001b[32mσ\u001b[39m\u001b[90m):   \u001b[39m\u001b[32m\u001b[1m1.416 s\u001b[22m\u001b[39m ± \u001b[32m355.403 ms\u001b[39m  \u001b[90m┊\u001b[39m GC \u001b[90m(\u001b[39mmean ± σ\u001b[90m):  \u001b[39m19.59% ±  6.19%\n",
       "\n",
       "  \u001b[39m█\u001b[39m \u001b[39m \u001b[39m \u001b[39m \u001b[39m \u001b[39m█\u001b[34m \u001b[39m\u001b[39m \u001b[39m \u001b[39m \u001b[39m \u001b[39m \u001b[39m \u001b[39m \u001b[39m \u001b[39m \u001b[39m \u001b[39m \u001b[39m \u001b[39m \u001b[39m \u001b[39m \u001b[32m \u001b[39m\u001b[39m \u001b[39m \u001b[39m \u001b[39m█\u001b[39m \u001b[39m \u001b[39m \u001b[39m \u001b[39m \u001b[39m \u001b[39m \u001b[39m \u001b[39m \u001b[39m \u001b[39m \u001b[39m \u001b[39m \u001b[39m \u001b[39m \u001b[39m \u001b[39m \u001b[39m \u001b[39m \u001b[39m \u001b[39m \u001b[39m \u001b[39m \u001b[39m \u001b[39m \u001b[39m \u001b[39m \u001b[39m \u001b[39m \u001b[39m█\u001b[39m \u001b[39m \n",
       "  \u001b[39m█\u001b[39m▁\u001b[39m▁\u001b[39m▁\u001b[39m▁\u001b[39m▁\u001b[39m█\u001b[34m▁\u001b[39m\u001b[39m▁\u001b[39m▁\u001b[39m▁\u001b[39m▁\u001b[39m▁\u001b[39m▁\u001b[39m▁\u001b[39m▁\u001b[39m▁\u001b[39m▁\u001b[39m▁\u001b[39m▁\u001b[39m▁\u001b[39m▁\u001b[39m▁\u001b[32m▁\u001b[39m\u001b[39m▁\u001b[39m▁\u001b[39m▁\u001b[39m█\u001b[39m▁\u001b[39m▁\u001b[39m▁\u001b[39m▁\u001b[39m▁\u001b[39m▁\u001b[39m▁\u001b[39m▁\u001b[39m▁\u001b[39m▁\u001b[39m▁\u001b[39m▁\u001b[39m▁\u001b[39m▁\u001b[39m▁\u001b[39m▁\u001b[39m▁\u001b[39m▁\u001b[39m▁\u001b[39m▁\u001b[39m▁\u001b[39m▁\u001b[39m▁\u001b[39m▁\u001b[39m▁\u001b[39m▁\u001b[39m▁\u001b[39m▁\u001b[39m▁\u001b[39m█\u001b[39m \u001b[39m▁\n",
       "  1.1 s\u001b[90m          Histogram: frequency by time\u001b[39m         1.89 s \u001b[0m\u001b[1m<\u001b[22m\n",
       "\n",
       " Memory estimate\u001b[90m: \u001b[39m\u001b[33m152.60 MiB\u001b[39m, allocs estimate\u001b[90m: \u001b[39m\u001b[33m10000049\u001b[39m."
      ]
     },
     "metadata": {},
     "output_type": "display_data"
    }
   ],
   "source": [
    "py_hand = @benchmark $sum_py($a)"
   ]
  },
  {
   "cell_type": "code",
   "execution_count": 37,
   "metadata": {
    "scrolled": false
   },
   "outputs": [
    {
     "data": {
      "text/plain": [
       "4.998080118547292e6"
      ]
     },
     "metadata": {},
     "output_type": "display_data"
    }
   ],
   "source": [
    "sum_py(a)"
   ]
  },
  {
   "cell_type": "code",
   "execution_count": 38,
   "metadata": {
    "scrolled": false
   },
   "outputs": [
    {
     "data": {
      "text/plain": [
       "true"
      ]
     },
     "metadata": {},
     "output_type": "display_data"
    }
   ],
   "source": [
    "sum_py(a) ≈ sum(a)"
   ]
  },
  {
   "cell_type": "code",
   "execution_count": 39,
   "metadata": {
    "scrolled": true
   },
   "outputs": [
    {
     "data": {
      "text/plain": [
       "Dict{Any, Any} with 4 entries:\n",
       "  \"C\"                   => 9.38358\n",
       "  \"Python hand-written\" => 1099.93\n",
       "  \"Python built-in\"     => 850.908\n",
       "  \"C -ffast-math\"       => 1.77988"
      ]
     },
     "metadata": {},
     "output_type": "display_data"
    }
   ],
   "source": [
    "d[\"Python hand-written\"] = minimum(py_hand.times) / 1e6\n",
    "d"
   ]
  },
  {
   "cell_type": "markdown",
   "metadata": {},
   "source": [
    "# 6. Julia (built-in) \n",
    "\n",
    "## Written directly in Julia, not in C!"
   ]
  },
  {
   "cell_type": "code",
   "execution_count": 38,
   "metadata": {
    "scrolled": false
   },
   "outputs": [
    {
     "data": {
      "text/html": [
       "sum(a::<b>AbstractArray</b>; <i>dims, kw...</i>) in Base at <a href=\"https://github.com/JuliaLang/julia/tree/e4ee485e90961018b7e53ce14b8b99335953e176/base/reducedim.jl#L994\" target=\"_blank\">reducedim.jl:994</a>"
      ],
      "text/plain": [
       "sum(\u001b[90ma\u001b[39m::\u001b[1mAbstractArray\u001b[22m; dims, kw...)\n",
       "\u001b[90m     @\u001b[39m \u001b[90mBase\u001b[39m \u001b[90m\u001b[4mreducedim.jl:994\u001b[24m\u001b[39m"
      ]
     },
     "metadata": {},
     "output_type": "display_data"
    }
   ],
   "source": [
    "@which sum(a)"
   ]
  },
  {
   "cell_type": "code",
   "execution_count": 39,
   "metadata": {
    "scrolled": false
   },
   "outputs": [
    {
     "data": {
      "text/plain": [
       "BenchmarkTools.Trial: 2644 samples with 1 evaluation.\n",
       " Range \u001b[90m(\u001b[39m\u001b[36m\u001b[1mmin\u001b[22m\u001b[39m … \u001b[35mmax\u001b[39m\u001b[90m):  \u001b[39m\u001b[36m\u001b[1m1.832 ms\u001b[22m\u001b[39m … \u001b[35m 2.717 ms\u001b[39m  \u001b[90m┊\u001b[39m GC \u001b[90m(\u001b[39mmin … max\u001b[90m): \u001b[39m0.00% … 0.00%\n",
       " Time  \u001b[90m(\u001b[39m\u001b[34m\u001b[1mmedian\u001b[22m\u001b[39m\u001b[90m):     \u001b[39m\u001b[34m\u001b[1m1.849 ms              \u001b[22m\u001b[39m\u001b[90m┊\u001b[39m GC \u001b[90m(\u001b[39mmedian\u001b[90m):    \u001b[39m0.00%\n",
       " Time  \u001b[90m(\u001b[39m\u001b[32m\u001b[1mmean\u001b[22m\u001b[39m ± \u001b[32mσ\u001b[39m\u001b[90m):   \u001b[39m\u001b[32m\u001b[1m1.879 ms\u001b[22m\u001b[39m ± \u001b[32m72.289 μs\u001b[39m  \u001b[90m┊\u001b[39m GC \u001b[90m(\u001b[39mmean ± σ\u001b[90m):  \u001b[39m0.00% ± 0.00%\n",
       "\n",
       "  \u001b[39m▆\u001b[39m█\u001b[39m▇\u001b[34m▆\u001b[39m\u001b[39m▆\u001b[39m▄\u001b[39m▄\u001b[39m▃\u001b[39m▃\u001b[32m▂\u001b[39m\u001b[39m▁\u001b[39m▁\u001b[39m▂\u001b[39m \u001b[39m \u001b[39m \u001b[39m▁\u001b[39m \u001b[39m \u001b[39m \u001b[39m▁\u001b[39m \u001b[39m▁\u001b[39m▁\u001b[39m▁\u001b[39m▁\u001b[39m \u001b[39m \u001b[39m \u001b[39m▁\u001b[39m▁\u001b[39m \u001b[39m \u001b[39m \u001b[39m \u001b[39m \u001b[39m \u001b[39m \u001b[39m \u001b[39m \u001b[39m \u001b[39m \u001b[39m \u001b[39m \u001b[39m \u001b[39m \u001b[39m \u001b[39m \u001b[39m \u001b[39m \u001b[39m \u001b[39m \u001b[39m \u001b[39m \u001b[39m \u001b[39m \u001b[39m \u001b[39m \u001b[39m \u001b[39m▁\n",
       "  \u001b[39m█\u001b[39m█\u001b[39m█\u001b[34m█\u001b[39m\u001b[39m█\u001b[39m█\u001b[39m█\u001b[39m█\u001b[39m█\u001b[32m█\u001b[39m\u001b[39m█\u001b[39m█\u001b[39m█\u001b[39m█\u001b[39m▇\u001b[39m█\u001b[39m█\u001b[39m█\u001b[39m█\u001b[39m█\u001b[39m█\u001b[39m█\u001b[39m█\u001b[39m█\u001b[39m█\u001b[39m█\u001b[39m█\u001b[39m█\u001b[39m█\u001b[39m█\u001b[39m█\u001b[39m█\u001b[39m▇\u001b[39m█\u001b[39m█\u001b[39m█\u001b[39m█\u001b[39m█\u001b[39m█\u001b[39m▇\u001b[39m▆\u001b[39m▇\u001b[39m▇\u001b[39m▆\u001b[39m▆\u001b[39m▆\u001b[39m▅\u001b[39m▄\u001b[39m▄\u001b[39m▁\u001b[39m▆\u001b[39m▆\u001b[39m▄\u001b[39m▅\u001b[39m▄\u001b[39m▄\u001b[39m▄\u001b[39m▄\u001b[39m \u001b[39m█\n",
       "  1.83 ms\u001b[90m      \u001b[39m\u001b[90mHistogram: \u001b[39m\u001b[90m\u001b[1mlog(\u001b[22m\u001b[39m\u001b[90mfrequency\u001b[39m\u001b[90m\u001b[1m)\u001b[22m\u001b[39m\u001b[90m by time\u001b[39m     2.13 ms \u001b[0m\u001b[1m<\u001b[22m\n",
       "\n",
       " Memory estimate\u001b[90m: \u001b[39m\u001b[33m0 bytes\u001b[39m, allocs estimate\u001b[90m: \u001b[39m\u001b[33m0\u001b[39m."
      ]
     },
     "metadata": {},
     "output_type": "display_data"
    }
   ],
   "source": [
    "j_bench = @benchmark sum($a)"
   ]
  },
  {
   "cell_type": "code",
   "execution_count": 40,
   "metadata": {
    "scrolled": true
   },
   "outputs": [
    {
     "data": {
      "text/plain": [
       "Dict{Any, Any} with 4 entries:\n",
       "  \"C\"               => 9.37708\n",
       "  \"Python built-in\" => 1693.0\n",
       "  \"Julia built-in\"  => 1.83163\n",
       "  \"C -ffast-math\"   => 1.78137"
      ]
     },
     "metadata": {},
     "output_type": "display_data"
    }
   ],
   "source": [
    "d[\"Julia built-in\"] = minimum(j_bench.times) / 1e6\n",
    "d"
   ]
  },
  {
   "cell_type": "markdown",
   "metadata": {},
   "source": [
    "# 7. Julia (hand-written) "
   ]
  },
  {
   "cell_type": "code",
   "execution_count": 41,
   "metadata": {
    "scrolled": true
   },
   "outputs": [
    {
     "data": {
      "text/plain": [
       "mysum (generic function with 1 method)"
      ]
     },
     "metadata": {},
     "output_type": "display_data"
    }
   ],
   "source": [
    "function mysum(A)   \n",
    "    s = 0.0 # s = zero(eltype(a))\n",
    "    for a in A\n",
    "        s += a\n",
    "    end\n",
    "    s\n",
    "end"
   ]
  },
  {
   "cell_type": "code",
   "execution_count": 42,
   "metadata": {
    "scrolled": false
   },
   "outputs": [
    {
     "data": {
      "text/plain": [
       "BenchmarkTools.Trial: 525 samples with 1 evaluation.\n",
       " Range \u001b[90m(\u001b[39m\u001b[36m\u001b[1mmin\u001b[22m\u001b[39m … \u001b[35mmax\u001b[39m\u001b[90m):  \u001b[39m\u001b[36m\u001b[1m9.384 ms\u001b[22m\u001b[39m … \u001b[35m 12.973 ms\u001b[39m  \u001b[90m┊\u001b[39m GC \u001b[90m(\u001b[39mmin … max\u001b[90m): \u001b[39m0.00% … 0.00%\n",
       " Time  \u001b[90m(\u001b[39m\u001b[34m\u001b[1mmedian\u001b[22m\u001b[39m\u001b[90m):     \u001b[39m\u001b[34m\u001b[1m9.458 ms               \u001b[22m\u001b[39m\u001b[90m┊\u001b[39m GC \u001b[90m(\u001b[39mmedian\u001b[90m):    \u001b[39m0.00%\n",
       " Time  \u001b[90m(\u001b[39m\u001b[32m\u001b[1mmean\u001b[22m\u001b[39m ± \u001b[32mσ\u001b[39m\u001b[90m):   \u001b[39m\u001b[32m\u001b[1m9.519 ms\u001b[22m\u001b[39m ± \u001b[32m247.756 μs\u001b[39m  \u001b[90m┊\u001b[39m GC \u001b[90m(\u001b[39mmean ± σ\u001b[90m):  \u001b[39m0.00% ± 0.00%\n",
       "\n",
       "  \u001b[39m█\u001b[39m▃\u001b[39m▆\u001b[39m▅\u001b[39m▇\u001b[39m▅\u001b[34m▄\u001b[39m\u001b[39m \u001b[39m▁\u001b[39m \u001b[32m \u001b[39m\u001b[39m \u001b[39m \u001b[39m \u001b[39m \u001b[39m \u001b[39m \u001b[39m \u001b[39m \u001b[39m \u001b[39m \u001b[39m \u001b[39m \u001b[39m \u001b[39m \u001b[39m \u001b[39m \u001b[39m \u001b[39m \u001b[39m \u001b[39m \u001b[39m \u001b[39m \u001b[39m \u001b[39m \u001b[39m \u001b[39m \u001b[39m \u001b[39m \u001b[39m \u001b[39m \u001b[39m \u001b[39m \u001b[39m \u001b[39m \u001b[39m \u001b[39m \u001b[39m \u001b[39m \u001b[39m \u001b[39m \u001b[39m \u001b[39m \u001b[39m \u001b[39m \u001b[39m \u001b[39m \u001b[39m \u001b[39m \u001b[39m \u001b[39m \n",
       "  \u001b[39m█\u001b[39m█\u001b[39m█\u001b[39m█\u001b[39m█\u001b[39m█\u001b[34m█\u001b[39m\u001b[39m█\u001b[39m█\u001b[39m▇\u001b[32m▆\u001b[39m\u001b[39m▇\u001b[39m▄\u001b[39m▄\u001b[39m▄\u001b[39m▃\u001b[39m▃\u001b[39m▄\u001b[39m▃\u001b[39m▃\u001b[39m▃\u001b[39m▃\u001b[39m▄\u001b[39m▃\u001b[39m▂\u001b[39m▂\u001b[39m▃\u001b[39m▃\u001b[39m▃\u001b[39m▃\u001b[39m▂\u001b[39m▁\u001b[39m▂\u001b[39m▃\u001b[39m▂\u001b[39m▂\u001b[39m▃\u001b[39m▃\u001b[39m▂\u001b[39m▂\u001b[39m▂\u001b[39m▁\u001b[39m▃\u001b[39m▁\u001b[39m▂\u001b[39m▁\u001b[39m▁\u001b[39m▂\u001b[39m▁\u001b[39m▁\u001b[39m▁\u001b[39m▂\u001b[39m▂\u001b[39m▁\u001b[39m▂\u001b[39m▂\u001b[39m▃\u001b[39m▂\u001b[39m▂\u001b[39m \u001b[39m▃\n",
       "  9.38 ms\u001b[90m         Histogram: frequency by time\u001b[39m        10.2 ms \u001b[0m\u001b[1m<\u001b[22m\n",
       "\n",
       " Memory estimate\u001b[90m: \u001b[39m\u001b[33m0 bytes\u001b[39m, allocs estimate\u001b[90m: \u001b[39m\u001b[33m0\u001b[39m."
      ]
     },
     "metadata": {},
     "output_type": "display_data"
    }
   ],
   "source": [
    "j_bench_hand = @benchmark mysum($a)"
   ]
  },
  {
   "cell_type": "code",
   "execution_count": 45,
   "metadata": {
    "scrolled": true
   },
   "outputs": [
    {
     "data": {
      "text/plain": [
       "Dict{Any, Any} with 6 entries:\n",
       "  \"C\"                   => 9.38358\n",
       "  \"Julia hand-written\"  => 9.39042\n",
       "  \"Python hand-written\" => 1099.93\n",
       "  \"Python built-in\"     => 850.908\n",
       "  \"Julia built-in\"      => 1.82533\n",
       "  \"C -ffast-math\"       => 1.77988"
      ]
     },
     "metadata": {},
     "output_type": "display_data"
    }
   ],
   "source": [
    "d[\"Julia hand-written\"] = minimum(j_bench_hand.times) / 1e6\n",
    "d"
   ]
  },
  {
   "cell_type": "markdown",
   "metadata": {},
   "source": [
    "# 8. Julia (hand-written w. simd) "
   ]
  },
  {
   "cell_type": "code",
   "execution_count": 43,
   "metadata": {},
   "outputs": [
    {
     "data": {
      "text/plain": [
       "mysum_simd (generic function with 1 method)"
      ]
     },
     "metadata": {},
     "output_type": "display_data"
    }
   ],
   "source": [
    "function mysum_simd(A)   \n",
    "    s = 0.0 # s = zero(eltype(A))\n",
    "    @simd for a in A\n",
    "        s += a\n",
    "    end\n",
    "    s\n",
    "end"
   ]
  },
  {
   "cell_type": "code",
   "execution_count": 45,
   "metadata": {
    "scrolled": false
   },
   "outputs": [
    {
     "data": {
      "text/plain": [
       "BenchmarkTools.Trial: 1985 samples with 1 evaluation.\n",
       " Range \u001b[90m(\u001b[39m\u001b[36m\u001b[1mmin\u001b[22m\u001b[39m … \u001b[35mmax\u001b[39m\u001b[90m):  \u001b[39m\u001b[36m\u001b[1m2.360 ms\u001b[22m\u001b[39m … \u001b[35m  4.551 ms\u001b[39m  \u001b[90m┊\u001b[39m GC \u001b[90m(\u001b[39mmin … max\u001b[90m): \u001b[39m0.00% … 0.00%\n",
       " Time  \u001b[90m(\u001b[39m\u001b[34m\u001b[1mmedian\u001b[22m\u001b[39m\u001b[90m):     \u001b[39m\u001b[34m\u001b[1m2.403 ms               \u001b[22m\u001b[39m\u001b[90m┊\u001b[39m GC \u001b[90m(\u001b[39mmedian\u001b[90m):    \u001b[39m0.00%\n",
       " Time  \u001b[90m(\u001b[39m\u001b[32m\u001b[1mmean\u001b[22m\u001b[39m ± \u001b[32mσ\u001b[39m\u001b[90m):   \u001b[39m\u001b[32m\u001b[1m2.504 ms\u001b[22m\u001b[39m ± \u001b[32m212.434 μs\u001b[39m  \u001b[90m┊\u001b[39m GC \u001b[90m(\u001b[39mmean ± σ\u001b[90m):  \u001b[39m0.00% ± 0.00%\n",
       "\n",
       "  \u001b[39m█\u001b[39m▆\u001b[39m▅\u001b[34m▄\u001b[39m\u001b[39m▃\u001b[39m▃\u001b[39m▂\u001b[39m▂\u001b[39m▂\u001b[32m▁\u001b[39m\u001b[39m▂\u001b[39m▂\u001b[39m▂\u001b[39m▂\u001b[39m▁\u001b[39m▁\u001b[39m▁\u001b[39m▂\u001b[39m \u001b[39m▁\u001b[39m \u001b[39m \u001b[39m \u001b[39m \u001b[39m \u001b[39m \u001b[39m \u001b[39m \u001b[39m \u001b[39m \u001b[39m \u001b[39m \u001b[39m \u001b[39m \u001b[39m \u001b[39m \u001b[39m \u001b[39m \u001b[39m \u001b[39m \u001b[39m \u001b[39m \u001b[39m \u001b[39m \u001b[39m \u001b[39m \u001b[39m \u001b[39m \u001b[39m \u001b[39m \u001b[39m \u001b[39m \u001b[39m \u001b[39m \u001b[39m \u001b[39m \u001b[39m \u001b[39m \u001b[39m \u001b[39m \u001b[39m \n",
       "  \u001b[39m█\u001b[39m█\u001b[39m█\u001b[34m█\u001b[39m\u001b[39m█\u001b[39m█\u001b[39m█\u001b[39m█\u001b[39m█\u001b[32m█\u001b[39m\u001b[39m█\u001b[39m█\u001b[39m█\u001b[39m█\u001b[39m█\u001b[39m█\u001b[39m█\u001b[39m█\u001b[39m█\u001b[39m█\u001b[39m█\u001b[39m█\u001b[39m█\u001b[39m▇\u001b[39m█\u001b[39m█\u001b[39m█\u001b[39m▇\u001b[39m▇\u001b[39m▇\u001b[39m█\u001b[39m█\u001b[39m█\u001b[39m▆\u001b[39m█\u001b[39m▇\u001b[39m▇\u001b[39m▇\u001b[39m▇\u001b[39m▇\u001b[39m▆\u001b[39m▅\u001b[39m▅\u001b[39m▆\u001b[39m▆\u001b[39m▅\u001b[39m▃\u001b[39m▆\u001b[39m▆\u001b[39m▃\u001b[39m▁\u001b[39m▃\u001b[39m▄\u001b[39m▃\u001b[39m▃\u001b[39m▅\u001b[39m▄\u001b[39m▃\u001b[39m▃\u001b[39m \u001b[39m█\n",
       "  2.36 ms\u001b[90m      \u001b[39m\u001b[90mHistogram: \u001b[39m\u001b[90m\u001b[1mlog(\u001b[22m\u001b[39m\u001b[90mfrequency\u001b[39m\u001b[90m\u001b[1m)\u001b[22m\u001b[39m\u001b[90m by time\u001b[39m      3.27 ms \u001b[0m\u001b[1m<\u001b[22m\n",
       "\n",
       " Memory estimate\u001b[90m: \u001b[39m\u001b[33m0 bytes\u001b[39m, allocs estimate\u001b[90m: \u001b[39m\u001b[33m0\u001b[39m."
      ]
     },
     "metadata": {},
     "output_type": "display_data"
    }
   ],
   "source": [
    "j_bench_hand_simd = @benchmark mysum_simd($a)"
   ]
  },
  {
   "cell_type": "code",
   "execution_count": 46,
   "metadata": {},
   "outputs": [
    {
     "data": {
      "text/plain": [
       "4.99962757462173e6"
      ]
     },
     "metadata": {},
     "output_type": "display_data"
    }
   ],
   "source": [
    "mysum_simd(a)"
   ]
  },
  {
   "cell_type": "code",
   "execution_count": 47,
   "metadata": {
    "scrolled": true
   },
   "outputs": [
    {
     "data": {
      "text/plain": [
       "Dict{Any, Any} with 5 entries:\n",
       "  \"Julia hand-written simd\" => 2.35996\n",
       "  \"C\"                       => 9.37708\n",
       "  \"Python built-in\"         => 1693.0\n",
       "  \"Julia built-in\"          => 1.83163\n",
       "  \"C -ffast-math\"           => 1.78137"
      ]
     },
     "metadata": {},
     "output_type": "display_data"
    }
   ],
   "source": [
    "d[\"Julia hand-written simd\"] = minimum(j_bench_hand_simd.times) / 1e6\n",
    "d"
   ]
  },
  {
   "cell_type": "markdown",
   "metadata": {},
   "source": [
    "# Summary"
   ]
  },
  {
   "cell_type": "code",
   "execution_count": 48,
   "metadata": {
    "scrolled": true
   },
   "outputs": [
    {
     "name": "stdout",
     "output_type": "stream",
     "text": [
      "C -ffast-math...............1.8\n",
      "Julia built-in..............1.8\n",
      "Julia hand-written simd.....2.4\n",
      "C...........................9.4\n",
      "Python built-in..........1693.0\n"
     ]
    }
   ],
   "source": [
    "for (key, value) in sort(collect(d), by=last)\n",
    "    println(rpad(key, 25, \".\"), lpad(round(value; digits=1), 6, \".\"))\n",
    "end"
   ]
  },
  {
   "cell_type": "markdown",
   "metadata": {},
   "source": [
    "# Tarea\n",
    "\n",
    "    1. Implementar una aproximacion numerica de $\\pi$ usando los lenguajes Julia y C. \n",
    "    2. Comparar los resultados obtenidos para igual numero de iteraciones.\n",
    "    3. Evaluar los tiempos de ejecución para ambas implementaciones.\n",
    "\n",
    "https://towardsdatascience.com/computing-pi-in-only-3-lines-95c26276f4c9"
   ]
  }
 ],
 "metadata": {
  "anaconda-cloud": {},
  "kernelspec": {
   "display_name": "Julia 1.9.2",
   "language": "julia",
   "name": "julia-1.9"
  },
  "language_info": {
   "file_extension": ".jl",
   "mimetype": "application/julia",
   "name": "julia",
   "version": "1.9.2"
  },
  "toc": {
   "colors": {
    "hover_highlight": "#DAA520",
    "running_highlight": "#FF0000",
    "selected_highlight": "#FFD700"
   },
   "moveMenuLeft": true,
   "nav_menu": {
    "height": "212px",
    "width": "252px"
   },
   "navigate_menu": true,
   "number_sections": true,
   "sideBar": true,
   "threshold": "2",
   "toc_cell": false,
   "toc_section_display": "block",
   "toc_window_display": false
  }
 },
 "nbformat": 4,
 "nbformat_minor": 2
}
