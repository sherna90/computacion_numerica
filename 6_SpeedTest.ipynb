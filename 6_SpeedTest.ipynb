{
 "cells": [
  {
   "cell_type": "markdown",
   "metadata": {},
   "source": [
    "# Julia is fast\n",
    "\n",
    "Very often, benchmarks are used to compare languages.  These benchmarks can lead to long discussions, first as to exactly what is being benchmarked and secondly what explains the differences.  These simple questions can sometimes get more complicated than you at first might imagine.\n",
    "\n",
    "The purpose of this notebook is for you to see a simple benchmark for yourself.  One can read the notebook and see what happened on the author's Macbook Pro with a 4-core Intel Core I7, or run the notebook yourself.\n",
    "\n",
    "(This material began life as a wonderful lecture by Steven Johnson at MIT: https://github.com/stevengj/18S096/blob/master/lectures/lecture1/Boxes-and-registers.ipynb.)"
   ]
  },
  {
   "cell_type": "markdown",
   "metadata": {},
   "source": [
    "# Outline of this notebook\n",
    "\n",
    "- Define the sum function\n",
    "- Implementations & benchmarking of sum in...\n",
    "    - C (hand-written)\n",
    "    - C (hand-written with -ffast-math)\n",
    "    - python (built-in)\n",
    "    - python (numpy)\n",
    "    - python (hand-written)\n",
    "    - Julia (built-in)\n",
    "    - Julia (hand-written)\n",
    "    - Julia (hand-written with SIMD)\n",
    "- Summary of benchmarks"
   ]
  },
  {
   "cell_type": "markdown",
   "metadata": {},
   "source": [
    "# `sum`: An easy enough function to understand"
   ]
  },
  {
   "cell_type": "markdown",
   "metadata": {},
   "source": [
    "Consider the  **sum** function `sum(a)`, which computes\n",
    "$$\n",
    "\\mathrm{sum}(a) = \\sum_{i=1}^n a_i,\n",
    "$$\n",
    "where $n$ is the length of `a`."
   ]
  },
  {
   "cell_type": "code",
   "execution_count": 1,
   "metadata": {
    "scrolled": false
   },
   "outputs": [
    {
     "data": {
      "text/plain": [
       "10000000-element Vector{Float64}:\n",
       " 0.47240069358828063\n",
       " 0.06568864155679843\n",
       " 0.9909759083574514\n",
       " 0.46897668546119897\n",
       " 0.02485717299319168\n",
       " 0.8385925549285639\n",
       " 0.2202695117110115\n",
       " 0.28317717798999664\n",
       " 0.7786658806719643\n",
       " 0.31562981098932286\n",
       " ⋮\n",
       " 0.8466008310223045\n",
       " 0.9780782771480544\n",
       " 0.44739413517872695\n",
       " 0.21588210280256726\n",
       " 0.3004122322028897\n",
       " 0.4855029442225144\n",
       " 0.12464237460482042\n",
       " 0.6212690678291921\n",
       " 0.9247452754751478"
      ]
     },
     "metadata": {},
     "output_type": "display_data"
    }
   ],
   "source": [
    "a = rand(10^7) # 1D vector of random numbers, uniform on [0,1)"
   ]
  },
  {
   "cell_type": "code",
   "execution_count": 2,
   "metadata": {},
   "outputs": [
    {
     "data": {
      "text/plain": [
       "5.001831813857753e6"
      ]
     },
     "metadata": {},
     "output_type": "display_data"
    }
   ],
   "source": [
    "sum(a)"
   ]
  },
  {
   "cell_type": "markdown",
   "metadata": {},
   "source": [
    "The expected result is 0.5 * 10^7, since the mean of each entry is 0.5"
   ]
  },
  {
   "cell_type": "markdown",
   "metadata": {},
   "source": [
    "# Benchmarking a few ways in a few languages"
   ]
  },
  {
   "cell_type": "code",
   "execution_count": 3,
   "metadata": {},
   "outputs": [
    {
     "name": "stdout",
     "output_type": "stream",
     "text": [
      "  0.001930 seconds (1 allocation: 16 bytes)\n"
     ]
    },
    {
     "data": {
      "text/plain": [
       "5.001831813857753e6"
      ]
     },
     "metadata": {},
     "output_type": "display_data"
    }
   ],
   "source": [
    "@time sum(a)"
   ]
  },
  {
   "cell_type": "code",
   "execution_count": 4,
   "metadata": {},
   "outputs": [
    {
     "name": "stdout",
     "output_type": "stream",
     "text": [
      "  0.002779 seconds (1 allocation: 16 bytes)\n"
     ]
    },
    {
     "data": {
      "text/plain": [
       "5.001831813857753e6"
      ]
     },
     "metadata": {},
     "output_type": "display_data"
    }
   ],
   "source": [
    "@time sum(a)"
   ]
  },
  {
   "cell_type": "code",
   "execution_count": 5,
   "metadata": {},
   "outputs": [
    {
     "name": "stdout",
     "output_type": "stream",
     "text": [
      "  0.002598 seconds (1 allocation: 16 bytes)\n"
     ]
    },
    {
     "data": {
      "text/plain": [
       "5.001831813857753e6"
      ]
     },
     "metadata": {},
     "output_type": "display_data"
    }
   ],
   "source": [
    "@time sum(a)"
   ]
  },
  {
   "cell_type": "markdown",
   "metadata": {},
   "source": [
    "The `@time` macro can yield noisy results, so it's not our best choice for benchmarking!\n",
    "\n",
    "Luckily, Julia has a `BenchmarkTools.jl` package to make benchmarking easy and accurate:"
   ]
  },
  {
   "cell_type": "code",
   "execution_count": 6,
   "metadata": {},
   "outputs": [
    {
     "name": "stderr",
     "output_type": "stream",
     "text": [
      "\u001b[32m\u001b[1m   Resolving\u001b[22m\u001b[39m package versions...\n"
     ]
    },
    {
     "name": "stderr",
     "output_type": "stream",
     "text": [
      "\u001b[32m\u001b[1m  No Changes\u001b[22m\u001b[39m to `~/.julia/environments/v1.9/Project.toml`\n",
      "\u001b[32m\u001b[1m  No Changes\u001b[22m\u001b[39m to `~/.julia/environments/v1.9/Manifest.toml`\n"
     ]
    }
   ],
   "source": [
    " using Pkg\n",
    " Pkg.add(\"BenchmarkTools\")"
   ]
  },
  {
   "cell_type": "code",
   "execution_count": 7,
   "metadata": {
    "scrolled": false
   },
   "outputs": [],
   "source": [
    "using BenchmarkTools  "
   ]
  },
  {
   "cell_type": "code",
   "execution_count": 9,
   "metadata": {},
   "outputs": [
    {
     "data": {
      "text/plain": [
       "10000000"
      ]
     },
     "metadata": {},
     "output_type": "display_data"
    }
   ],
   "source": [
    "length(a)"
   ]
  },
  {
   "cell_type": "markdown",
   "metadata": {},
   "source": [
    "#  1. The C language\n",
    "\n",
    "C is often considered the gold standard: difficult on the human, nice for the machine. Getting within a factor of 2 of C is often satisfying. Nonetheless, even within C, there are many kinds of optimizations possible that a naive C writer may or may not get the advantage of.\n",
    "\n",
    "The current author does not speak C, so he does not read the cell below, but is happy to know that you can put C code in a Julia session, compile it, and run it. Note that the `\"\"\"` wrap a multi-line string."
   ]
  },
  {
   "cell_type": "code",
   "execution_count": 10,
   "metadata": {
    "scrolled": false
   },
   "outputs": [
    {
     "name": "stderr",
     "output_type": "stream",
     "text": [
      "WARNING: redefinition of constant Clib. This may fail, cause incorrect answers, or produce other errors.\n"
     ]
    },
    {
     "data": {
      "text/plain": [
       "c_sum (generic function with 1 method)"
      ]
     },
     "metadata": {},
     "output_type": "display_data"
    }
   ],
   "source": [
    "using Libdl\n",
    "C_code = \"\"\"\n",
    "#include <stddef.h>\n",
    "double c_sum(size_t n, double *X) {\n",
    "    double s = 0.0;\n",
    "    for (size_t i = 0; i < n; ++i) {\n",
    "        s += X[i];\n",
    "    }\n",
    "    return s;\n",
    "}\n",
    "\"\"\"\n",
    "\n",
    "const Clib = tempname()   # make a temporary file\n",
    "\n",
    "\n",
    "# compile to a shared library by piping C_code to gcc\n",
    "# (works only if you have gcc installed):\n",
    "\n",
    "open(`gcc -fPIC -O3 -msse3 -xc -shared -o $(Clib * \".\" * Libdl.dlext) -`, \"w\") do f\n",
    "    print(f, C_code) \n",
    "end\n",
    "\n",
    "# define a Julia function that calls the C function:\n",
    "c_sum(X::Array{Float64}) = ccall((\"c_sum\", Clib), Float64, (Csize_t, Ptr{Float64}), length(X), X)"
   ]
  },
  {
   "cell_type": "code",
   "execution_count": 14,
   "metadata": {
    "scrolled": false
   },
   "outputs": [
    {
     "data": {
      "text/plain": [
       "5.001831813857571e6"
      ]
     },
     "metadata": {},
     "output_type": "display_data"
    }
   ],
   "source": [
    "c_sum(a)"
   ]
  },
  {
   "cell_type": "code",
   "execution_count": 18,
   "metadata": {},
   "outputs": [
    {
     "data": {
      "text/plain": [
       "1.816079020500183e-7"
      ]
     },
     "metadata": {},
     "output_type": "display_data"
    }
   ],
   "source": [
    "abs(c_sum(a) - sum(a))"
   ]
  },
  {
   "cell_type": "code",
   "execution_count": 17,
   "metadata": {
    "scrolled": false
   },
   "outputs": [
    {
     "data": {
      "text/plain": [
       "true"
      ]
     },
     "metadata": {},
     "output_type": "display_data"
    }
   ],
   "source": [
    "c_sum(a) ≈ sum(a) # type \\approx and then <TAB> to get the ≈ symbolb"
   ]
  },
  {
   "cell_type": "code",
   "execution_count": 19,
   "metadata": {},
   "outputs": [
    {
     "data": {
      "text/plain": [
       "-1.816079020500183e-7"
      ]
     },
     "metadata": {},
     "output_type": "display_data"
    }
   ],
   "source": [
    "c_sum(a) - sum(a)  "
   ]
  },
  {
   "cell_type": "code",
   "execution_count": 13,
   "metadata": {
    "scrolled": true
   },
   "outputs": [
    {
     "data": {
      "text/plain": [
       "isapprox (generic function with 9 methods)"
      ]
     },
     "metadata": {},
     "output_type": "display_data"
    }
   ],
   "source": [
    "≈  # alias for the `isapprox` function"
   ]
  },
  {
   "cell_type": "markdown",
   "metadata": {},
   "source": [
    "We can now benchmark the C code directly from Julia:"
   ]
  },
  {
   "cell_type": "code",
   "execution_count": 20,
   "metadata": {
    "scrolled": false
   },
   "outputs": [
    {
     "data": {
      "text/plain": [
       "BenchmarkTools.Trial: 527 samples with 1 evaluation.\n",
       " Range \u001b[90m(\u001b[39m\u001b[36m\u001b[1mmin\u001b[22m\u001b[39m … \u001b[35mmax\u001b[39m\u001b[90m):  \u001b[39m\u001b[36m\u001b[1m9.384 ms\u001b[22m\u001b[39m … \u001b[35m 9.954 ms\u001b[39m  \u001b[90m┊\u001b[39m GC \u001b[90m(\u001b[39mmin … max\u001b[90m): \u001b[39m0.00% … 0.00%\n",
       " Time  \u001b[90m(\u001b[39m\u001b[34m\u001b[1mmedian\u001b[22m\u001b[39m\u001b[90m):     \u001b[39m\u001b[34m\u001b[1m9.473 ms              \u001b[22m\u001b[39m\u001b[90m┊\u001b[39m GC \u001b[90m(\u001b[39mmedian\u001b[90m):    \u001b[39m0.00%\n",
       " Time  \u001b[90m(\u001b[39m\u001b[32m\u001b[1mmean\u001b[22m\u001b[39m ± \u001b[32mσ\u001b[39m\u001b[90m):   \u001b[39m\u001b[32m\u001b[1m9.481 ms\u001b[22m\u001b[39m ± \u001b[32m51.890 μs\u001b[39m  \u001b[90m┊\u001b[39m GC \u001b[90m(\u001b[39mmean ± σ\u001b[90m):  \u001b[39m0.00% ± 0.00%\n",
       "\n",
       "  \u001b[39m \u001b[39m \u001b[39m \u001b[39m \u001b[39m \u001b[39m \u001b[39m \u001b[39m \u001b[39m \u001b[39m \u001b[39m \u001b[39m▅\u001b[39m▁\u001b[39m▅\u001b[39m▅\u001b[39m▄\u001b[39m▃\u001b[39m▇\u001b[39m▇\u001b[39m \u001b[34m█\u001b[39m\u001b[39m▄\u001b[32m▅\u001b[39m\u001b[39m \u001b[39m▁\u001b[39m▁\u001b[39m \u001b[39m \u001b[39m \u001b[39m \u001b[39m \u001b[39m \u001b[39m \u001b[39m \u001b[39m \u001b[39m \u001b[39m \u001b[39m \u001b[39m \u001b[39m \u001b[39m \u001b[39m \u001b[39m \u001b[39m \u001b[39m \u001b[39m \u001b[39m \u001b[39m \u001b[39m \u001b[39m \u001b[39m \u001b[39m \u001b[39m \u001b[39m \u001b[39m \u001b[39m \u001b[39m \u001b[39m \u001b[39m \u001b[39m \n",
       "  \u001b[39m▃\u001b[39m▄\u001b[39m▁\u001b[39m▂\u001b[39m▁\u001b[39m▄\u001b[39m▄\u001b[39m▄\u001b[39m▇\u001b[39m█\u001b[39m█\u001b[39m█\u001b[39m█\u001b[39m█\u001b[39m█\u001b[39m█\u001b[39m█\u001b[39m█\u001b[39m█\u001b[39m█\u001b[34m█\u001b[39m\u001b[39m█\u001b[32m█\u001b[39m\u001b[39m█\u001b[39m█\u001b[39m█\u001b[39m▇\u001b[39m▇\u001b[39m▆\u001b[39m▄\u001b[39m▆\u001b[39m▆\u001b[39m▅\u001b[39m▆\u001b[39m█\u001b[39m▅\u001b[39m▃\u001b[39m▄\u001b[39m▄\u001b[39m▅\u001b[39m▄\u001b[39m▃\u001b[39m▄\u001b[39m▃\u001b[39m▂\u001b[39m▄\u001b[39m▂\u001b[39m▂\u001b[39m▁\u001b[39m▁\u001b[39m▁\u001b[39m▃\u001b[39m▂\u001b[39m▃\u001b[39m▁\u001b[39m▂\u001b[39m▂\u001b[39m▂\u001b[39m \u001b[39m▄\n",
       "  9.38 ms\u001b[90m        Histogram: frequency by time\u001b[39m        9.64 ms \u001b[0m\u001b[1m<\u001b[22m\n",
       "\n",
       " Memory estimate\u001b[90m: \u001b[39m\u001b[33m0 bytes\u001b[39m, allocs estimate\u001b[90m: \u001b[39m\u001b[33m0\u001b[39m."
      ]
     },
     "metadata": {},
     "output_type": "display_data"
    }
   ],
   "source": [
    "c_bench = @benchmark c_sum($a)"
   ]
  },
  {
   "cell_type": "code",
   "execution_count": 21,
   "metadata": {
    "scrolled": false
   },
   "outputs": [
    {
     "name": "stdout",
     "output_type": "stream",
     "text": [
      "C: Fastest time was 9.383792 msec\n"
     ]
    }
   ],
   "source": [
    "println(\"C: Fastest time was $(minimum(c_bench.times) / 1e6) msec\")"
   ]
  },
  {
   "cell_type": "code",
   "execution_count": 22,
   "metadata": {
    "scrolled": true
   },
   "outputs": [
    {
     "data": {
      "text/plain": [
       "Dict{Any, Any} with 1 entry:\n",
       "  \"C\" => 9.38379"
      ]
     },
     "metadata": {},
     "output_type": "display_data"
    }
   ],
   "source": [
    "d = Dict()  # a \"dictionary\", i.e. an associative array\n",
    "d[\"C\"] = minimum(c_bench.times) / 1e6  # in milliseconds\n",
    "d"
   ]
  },
  {
   "cell_type": "code",
   "execution_count": 23,
   "metadata": {
    "scrolled": true
   },
   "outputs": [
    {
     "data": {
      "text/plain": [
       "Plots.GRBackend()"
      ]
     },
     "metadata": {},
     "output_type": "display_data"
    }
   ],
   "source": [
    "using Plots\n",
    "gr()"
   ]
  },
  {
   "cell_type": "code",
   "execution_count": 24,
   "metadata": {},
   "outputs": [
    {
     "data": {
      "image/png": "[encoded data removed]",
      "image/svg+xml": [
       "<?xml version=\"1.0\" encoding=\"utf-8\"?>\n",
       "<svg xmlns=\"http://www.w3.org/2000/svg\" xmlns:xlink=\"http://www.w3.org/1999/xlink\" width=\"600\" height=\"400\" viewBox=\"0 0 2400 1600\">\n",
       "<defs>\n",
       "  <clipPath id=\"clip620\">\n",
       "    <rect x=\"0\" y=\"0\" width=\"2400\" height=\"1600\"/>\n",
       "  </clipPath>\n",
       "</defs>\n",
       "<path clip-path=\"url(#clip620)\" d=\"M0 1600 L2400 1600 L2400 0 L0 0  Z\" fill=\"#ffffff\" fill-rule=\"evenodd\" fill-opacity=\"1\"/>\n",
       "<defs>\n",
       "  <clipPath id=\"clip621\">\n",
       "    <rect x=\"480\" y=\"0\" width=\"1681\" height=\"1600\"/>\n",
       "  </clipPath>\n",
       "</defs>\n",
       "<path clip-path=\"url(#clip620)\" d=\"M202.227 1423.18 L2352.76 1423.18 L2352.76 47.2441 L202.227 47.2441  Z\" fill=\"#ffffff\" fill-rule=\"evenodd\" fill-opacity=\"1\"/>\n",
       "<defs>\n",
       "  <clipPath id=\"clip622\">\n",
       "    <rect x=\"202\" y=\"47\" width=\"2152\" height=\"1377\"/>\n",
       "  </clipPath>\n",
       "</defs>\n",
       "<polyline clip-path=\"url(#clip622)\" style=\"stroke:#000000; stroke-linecap:round; stroke-linejoin:round; stroke-width:2; stroke-opacity:0.1; fill:none\" points=\"417.941,1423.18 417.941,47.2441 \"/>\n",
       "<polyline clip-path=\"url(#clip622)\" style=\"stroke:#000000; stroke-linecap:round; stroke-linejoin:round; stroke-width:2; stroke-opacity:0.1; fill:none\" points=\"765.418,1423.18 765.418,47.2441 \"/>\n",
       "<polyline clip-path=\"url(#clip622)\" style=\"stroke:#000000; stroke-linecap:round; stroke-linejoin:round; stroke-width:2; stroke-opacity:0.1; fill:none\" points=\"1112.89,1423.18 1112.89,47.2441 \"/>\n",
       "<polyline clip-path=\"url(#clip622)\" style=\"stroke:#000000; stroke-linecap:round; stroke-linejoin:round; stroke-width:2; stroke-opacity:0.1; fill:none\" points=\"1460.37,1423.18 1460.37,47.2441 \"/>\n",
       "<polyline clip-path=\"url(#clip622)\" style=\"stroke:#000000; stroke-linecap:round; stroke-linejoin:round; stroke-width:2; stroke-opacity:0.1; fill:none\" points=\"1807.85,1423.18 1807.85,47.2441 \"/>\n",
       "<polyline clip-path=\"url(#clip622)\" style=\"stroke:#000000; stroke-linecap:round; stroke-linejoin:round; stroke-width:2; stroke-opacity:0.1; fill:none\" points=\"2155.32,1423.18 2155.32,47.2441 \"/>\n",
       "<polyline clip-path=\"url(#clip620)\" style=\"stroke:#000000; stroke-linecap:round; stroke-linejoin:round; stroke-width:4; stroke-opacity:1; fill:none\" points=\"202.227,1423.18 2352.76,1423.18 \"/>\n",
       "<polyline clip-path=\"url(#clip620)\" style=\"stroke:#000000; stroke-linecap:round; stroke-linejoin:round; stroke-width:4; stroke-opacity:1; fill:none\" points=\"417.941,1423.18 417.941,1404.28 \"/>\n",
       "<polyline clip-path=\"url(#clip620)\" style=\"stroke:#000000; stroke-linecap:round; stroke-linejoin:round; stroke-width:4; stroke-opacity:1; fill:none\" points=\"765.418,1423.18 765.418,1404.28 \"/>\n",
       "<polyline clip-path=\"url(#clip620)\" style=\"stroke:#000000; stroke-linecap:round; stroke-linejoin:round; stroke-width:4; stroke-opacity:1; fill:none\" points=\"1112.89,1423.18 1112.89,1404.28 \"/>\n",
       "<polyline clip-path=\"url(#clip620)\" style=\"stroke:#000000; stroke-linecap:round; stroke-linejoin:round; stroke-width:4; stroke-opacity:1; fill:none\" points=\"1460.37,1423.18 1460.37,1404.28 \"/>\n",
       "<polyline clip-path=\"url(#clip620)\" style=\"stroke:#000000; stroke-linecap:round; stroke-linejoin:round; stroke-width:4; stroke-opacity:1; fill:none\" points=\"1807.85,1423.18 1807.85,1404.28 \"/>\n",
       "<polyline clip-path=\"url(#clip620)\" style=\"stroke:#000000; stroke-linecap:round; stroke-linejoin:round; stroke-width:4; stroke-opacity:1; fill:none\" points=\"2155.32,1423.18 2155.32,1404.28 \"/>\n",
       "<path clip-path=\"url(#clip620)\" d=\"M370.499 1484.86 L370.499 1480.6 Q372.258 1481.44 374.064 1481.88 Q375.869 1482.32 377.606 1482.32 Q382.235 1482.32 384.666 1479.21 Q387.119 1476.09 387.467 1469.75 Q386.124 1471.74 384.064 1472.8 Q382.004 1473.87 379.504 1473.87 Q374.318 1473.87 371.286 1470.74 Q368.277 1467.59 368.277 1462.15 Q368.277 1456.83 371.425 1453.61 Q374.573 1450.39 379.805 1450.39 Q385.8 1450.39 388.948 1455 Q392.119 1459.58 392.119 1468.33 Q392.119 1476.51 388.23 1481.39 Q384.365 1486.25 377.814 1486.25 Q376.055 1486.25 374.249 1485.9 Q372.443 1485.56 370.499 1484.86 M379.805 1470.21 Q382.953 1470.21 384.781 1468.06 Q386.633 1465.9 386.633 1462.15 Q386.633 1458.43 384.781 1456.27 Q382.953 1454.1 379.805 1454.1 Q376.656 1454.1 374.805 1456.27 Q372.976 1458.43 372.976 1462.15 Q372.976 1465.9 374.805 1468.06 Q376.656 1470.21 379.805 1470.21 Z\" fill=\"#000000\" fill-rule=\"nonzero\" fill-opacity=\"1\" /><path clip-path=\"url(#clip620)\" d=\"M400.522 1479.7 L405.406 1479.7 L405.406 1485.58 L400.522 1485.58 L400.522 1479.7 Z\" fill=\"#000000\" fill-rule=\"nonzero\" fill-opacity=\"1\" /><path clip-path=\"url(#clip620)\" d=\"M429.758 1466.95 Q433.114 1467.66 434.989 1469.93 Q436.888 1472.2 436.888 1475.53 Q436.888 1480.65 433.369 1483.45 Q429.851 1486.25 423.369 1486.25 Q421.193 1486.25 418.878 1485.81 Q416.587 1485.39 414.133 1484.54 L414.133 1480.02 Q416.078 1481.16 418.392 1481.74 Q420.707 1482.32 423.23 1482.32 Q427.628 1482.32 429.92 1480.58 Q432.235 1478.84 432.235 1475.53 Q432.235 1472.48 430.082 1470.77 Q427.952 1469.03 424.133 1469.03 L420.105 1469.03 L420.105 1465.19 L424.318 1465.19 Q427.767 1465.19 429.596 1463.82 Q431.425 1462.43 431.425 1459.84 Q431.425 1457.18 429.527 1455.77 Q427.652 1454.33 424.133 1454.33 Q422.212 1454.33 420.013 1454.75 Q417.814 1455.16 415.175 1456.04 L415.175 1451.88 Q417.837 1451.14 420.152 1450.77 Q422.49 1450.39 424.55 1450.39 Q429.874 1450.39 432.976 1452.83 Q436.077 1455.23 436.077 1459.35 Q436.077 1462.22 434.434 1464.21 Q432.79 1466.18 429.758 1466.95 Z\" fill=\"#000000\" fill-rule=\"nonzero\" fill-opacity=\"1\" /><path clip-path=\"url(#clip620)\" d=\"M455.753 1469.17 Q452.42 1469.17 450.499 1470.95 Q448.6 1472.73 448.6 1475.86 Q448.6 1478.98 450.499 1480.77 Q452.42 1482.55 455.753 1482.55 Q459.087 1482.55 461.008 1480.77 Q462.929 1478.96 462.929 1475.86 Q462.929 1472.73 461.008 1470.95 Q459.11 1469.17 455.753 1469.17 M451.077 1467.18 Q448.068 1466.44 446.378 1464.38 Q444.712 1462.32 444.712 1459.35 Q444.712 1455.21 447.651 1452.8 Q450.614 1450.39 455.753 1450.39 Q460.915 1450.39 463.855 1452.8 Q466.795 1455.21 466.795 1459.35 Q466.795 1462.32 465.105 1464.38 Q463.438 1466.44 460.452 1467.18 Q463.832 1467.96 465.707 1470.26 Q467.605 1472.55 467.605 1475.86 Q467.605 1480.88 464.526 1483.57 Q461.471 1486.25 455.753 1486.25 Q450.036 1486.25 446.957 1483.57 Q443.901 1480.88 443.901 1475.86 Q443.901 1472.55 445.8 1470.26 Q447.698 1467.96 451.077 1467.18 M449.364 1459.79 Q449.364 1462.48 451.031 1463.98 Q452.721 1465.49 455.753 1465.49 Q458.762 1465.49 460.452 1463.98 Q462.165 1462.48 462.165 1459.79 Q462.165 1457.11 460.452 1455.6 Q458.762 1454.1 455.753 1454.1 Q452.721 1454.1 451.031 1455.6 Q449.364 1457.11 449.364 1459.79 Z\" fill=\"#000000\" fill-rule=\"nonzero\" fill-opacity=\"1\" /><path clip-path=\"url(#clip620)\" d=\"M718.022 1484.86 L718.022 1480.6 Q719.781 1481.44 721.587 1481.88 Q723.392 1482.32 725.128 1482.32 Q729.758 1482.32 732.189 1479.21 Q734.642 1476.09 734.989 1469.75 Q733.647 1471.74 731.587 1472.8 Q729.527 1473.87 727.027 1473.87 Q721.841 1473.87 718.809 1470.74 Q715.8 1467.59 715.8 1462.15 Q715.8 1456.83 718.948 1453.61 Q722.096 1450.39 727.327 1450.39 Q733.323 1450.39 736.471 1455 Q739.642 1459.58 739.642 1468.33 Q739.642 1476.51 735.753 1481.39 Q731.888 1486.25 725.337 1486.25 Q723.577 1486.25 721.772 1485.9 Q719.966 1485.56 718.022 1484.86 M727.327 1470.21 Q730.476 1470.21 732.304 1468.06 Q734.156 1465.9 734.156 1462.15 Q734.156 1458.43 732.304 1456.27 Q730.476 1454.1 727.327 1454.1 Q724.179 1454.1 722.327 1456.27 Q720.499 1458.43 720.499 1462.15 Q720.499 1465.9 722.327 1468.06 Q724.179 1470.21 727.327 1470.21 Z\" fill=\"#000000\" fill-rule=\"nonzero\" fill-opacity=\"1\" /><path clip-path=\"url(#clip620)\" d=\"M748.045 1479.7 L752.929 1479.7 L752.929 1485.58 L748.045 1485.58 L748.045 1479.7 Z\" fill=\"#000000\" fill-rule=\"nonzero\" fill-opacity=\"1\" /><path clip-path=\"url(#clip620)\" d=\"M777.281 1466.95 Q780.637 1467.66 782.512 1469.93 Q784.41 1472.2 784.41 1475.53 Q784.41 1480.65 780.892 1483.45 Q777.373 1486.25 770.892 1486.25 Q768.716 1486.25 766.401 1485.81 Q764.11 1485.39 761.656 1484.54 L761.656 1480.02 Q763.6 1481.16 765.915 1481.74 Q768.23 1482.32 770.753 1482.32 Q775.151 1482.32 777.443 1480.58 Q779.758 1478.84 779.758 1475.53 Q779.758 1472.48 777.605 1470.77 Q775.475 1469.03 771.656 1469.03 L767.628 1469.03 L767.628 1465.19 L771.841 1465.19 Q775.29 1465.19 777.119 1463.82 Q778.948 1462.43 778.948 1459.84 Q778.948 1457.18 777.049 1455.77 Q775.174 1454.33 771.656 1454.33 Q769.735 1454.33 767.536 1454.75 Q765.336 1455.16 762.698 1456.04 L762.698 1451.88 Q765.36 1451.14 767.674 1450.77 Q770.012 1450.39 772.073 1450.39 Q777.397 1450.39 780.498 1452.83 Q783.6 1455.23 783.6 1459.35 Q783.6 1462.22 781.957 1464.21 Q780.313 1466.18 777.281 1466.95 Z\" fill=\"#000000\" fill-rule=\"nonzero\" fill-opacity=\"1\" /><path clip-path=\"url(#clip620)\" d=\"M793.415 1484.86 L793.415 1480.6 Q795.174 1481.44 796.98 1481.88 Q798.785 1482.32 800.521 1482.32 Q805.151 1482.32 807.582 1479.21 Q810.035 1476.09 810.383 1469.75 Q809.04 1471.74 806.98 1472.8 Q804.92 1473.87 802.42 1473.87 Q797.234 1473.87 794.202 1470.74 Q791.193 1467.59 791.193 1462.15 Q791.193 1456.83 794.341 1453.61 Q797.489 1450.39 802.721 1450.39 Q808.716 1450.39 811.864 1455 Q815.035 1459.58 815.035 1468.33 Q815.035 1476.51 811.146 1481.39 Q807.281 1486.25 800.73 1486.25 Q798.971 1486.25 797.165 1485.9 Q795.359 1485.56 793.415 1484.86 M802.721 1470.21 Q805.869 1470.21 807.697 1468.06 Q809.549 1465.9 809.549 1462.15 Q809.549 1458.43 807.697 1456.27 Q805.869 1454.1 802.721 1454.1 Q799.572 1454.1 797.721 1456.27 Q795.892 1458.43 795.892 1462.15 Q795.892 1465.9 797.721 1468.06 Q799.572 1470.21 802.721 1470.21 Z\" fill=\"#000000\" fill-rule=\"nonzero\" fill-opacity=\"1\" /><path clip-path=\"url(#clip620)\" d=\"M1065.41 1484.86 L1065.41 1480.6 Q1067.17 1481.44 1068.97 1481.88 Q1070.78 1482.32 1072.51 1482.32 Q1077.14 1482.32 1079.57 1479.21 Q1082.03 1476.09 1082.37 1469.75 Q1081.03 1471.74 1078.97 1472.8 Q1076.91 1473.87 1074.41 1473.87 Q1069.23 1473.87 1066.19 1470.74 Q1063.18 1467.59 1063.18 1462.15 Q1063.18 1456.83 1066.33 1453.61 Q1069.48 1450.39 1074.71 1450.39 Q1080.71 1450.39 1083.85 1455 Q1087.03 1459.58 1087.03 1468.33 Q1087.03 1476.51 1083.14 1481.39 Q1079.27 1486.25 1072.72 1486.25 Q1070.96 1486.25 1069.16 1485.9 Q1067.35 1485.56 1065.41 1484.86 M1074.71 1470.21 Q1077.86 1470.21 1079.69 1468.06 Q1081.54 1465.9 1081.54 1462.15 Q1081.54 1458.43 1079.69 1456.27 Q1077.86 1454.1 1074.71 1454.1 Q1071.56 1454.1 1069.71 1456.27 Q1067.88 1458.43 1067.88 1462.15 Q1067.88 1465.9 1069.71 1468.06 Q1071.56 1470.21 1074.71 1470.21 Z\" fill=\"#000000\" fill-rule=\"nonzero\" fill-opacity=\"1\" /><path clip-path=\"url(#clip620)\" d=\"M1095.43 1479.7 L1100.31 1479.7 L1100.31 1485.58 L1095.43 1485.58 L1095.43 1479.7 Z\" fill=\"#000000\" fill-rule=\"nonzero\" fill-opacity=\"1\" /><path clip-path=\"url(#clip620)\" d=\"M1123.35 1455.09 L1111.54 1473.54 L1123.35 1473.54 L1123.35 1455.09 M1122.12 1451.02 L1128 1451.02 L1128 1473.54 L1132.93 1473.54 L1132.93 1477.43 L1128 1477.43 L1128 1485.58 L1123.35 1485.58 L1123.35 1477.43 L1107.74 1477.43 L1107.74 1472.92 L1122.12 1451.02 Z\" fill=\"#000000\" fill-rule=\"nonzero\" fill-opacity=\"1\" /><path clip-path=\"url(#clip620)\" d=\"M1150.66 1454.1 Q1147.05 1454.1 1145.22 1457.66 Q1143.41 1461.2 1143.41 1468.33 Q1143.41 1475.44 1145.22 1479.01 Q1147.05 1482.55 1150.66 1482.55 Q1154.29 1482.55 1156.1 1479.01 Q1157.93 1475.44 1157.93 1468.33 Q1157.93 1461.2 1156.1 1457.66 Q1154.29 1454.1 1150.66 1454.1 M1150.66 1450.39 Q1156.47 1450.39 1159.53 1455 Q1162.6 1459.58 1162.6 1468.33 Q1162.6 1477.06 1159.53 1481.67 Q1156.47 1486.25 1150.66 1486.25 Q1144.85 1486.25 1141.77 1481.67 Q1138.72 1477.06 1138.72 1468.33 Q1138.72 1459.58 1141.77 1455 Q1144.85 1450.39 1150.66 1450.39 Z\" fill=\"#000000\" fill-rule=\"nonzero\" fill-opacity=\"1\" /><path clip-path=\"url(#clip620)\" d=\"M1413.5 1484.86 L1413.5 1480.6 Q1415.26 1481.44 1417.06 1481.88 Q1418.87 1482.32 1420.6 1482.32 Q1425.23 1482.32 1427.66 1479.21 Q1430.12 1476.09 1430.46 1469.75 Q1429.12 1471.74 1427.06 1472.8 Q1425 1473.87 1422.5 1473.87 Q1417.32 1473.87 1414.28 1470.74 Q1411.27 1467.59 1411.27 1462.15 Q1411.27 1456.83 1414.42 1453.61 Q1417.57 1450.39 1422.8 1450.39 Q1428.8 1450.39 1431.94 1455 Q1435.12 1459.58 1435.12 1468.33 Q1435.12 1476.51 1431.23 1481.39 Q1427.36 1486.25 1420.81 1486.25 Q1419.05 1486.25 1417.25 1485.9 Q1415.44 1485.56 1413.5 1484.86 M1422.8 1470.21 Q1425.95 1470.21 1427.78 1468.06 Q1429.63 1465.9 1429.63 1462.15 Q1429.63 1458.43 1427.78 1456.27 Q1425.95 1454.1 1422.8 1454.1 Q1419.65 1454.1 1417.8 1456.27 Q1415.97 1458.43 1415.97 1462.15 Q1415.97 1465.9 1417.8 1468.06 Q1419.65 1470.21 1422.8 1470.21 Z\" fill=\"#000000\" fill-rule=\"nonzero\" fill-opacity=\"1\" /><path clip-path=\"url(#clip620)\" d=\"M1443.52 1479.7 L1448.4 1479.7 L1448.4 1485.58 L1443.52 1485.58 L1443.52 1479.7 Z\" fill=\"#000000\" fill-rule=\"nonzero\" fill-opacity=\"1\" /><path clip-path=\"url(#clip620)\" d=\"M1471.44 1455.09 L1459.63 1473.54 L1471.44 1473.54 L1471.44 1455.09 M1470.21 1451.02 L1476.09 1451.02 L1476.09 1473.54 L1481.02 1473.54 L1481.02 1477.43 L1476.09 1477.43 L1476.09 1485.58 L1471.44 1485.58 L1471.44 1477.43 L1455.83 1477.43 L1455.83 1472.92 L1470.21 1451.02 Z\" fill=\"#000000\" fill-rule=\"nonzero\" fill-opacity=\"1\" /><path clip-path=\"url(#clip620)\" d=\"M1489.56 1481.64 L1497.2 1481.64 L1497.2 1455.28 L1488.89 1456.95 L1488.89 1452.69 L1497.15 1451.02 L1501.83 1451.02 L1501.83 1481.64 L1509.47 1481.64 L1509.47 1485.58 L1489.56 1485.58 L1489.56 1481.64 Z\" fill=\"#000000\" fill-rule=\"nonzero\" fill-opacity=\"1\" /><path clip-path=\"url(#clip620)\" d=\"M1761.16 1484.86 L1761.16 1480.6 Q1762.92 1481.44 1764.72 1481.88 Q1766.53 1482.32 1768.26 1482.32 Q1772.89 1482.32 1775.32 1479.21 Q1777.78 1476.09 1778.13 1469.75 Q1776.78 1471.74 1774.72 1472.8 Q1772.66 1473.87 1770.16 1473.87 Q1764.98 1473.87 1761.94 1470.74 Q1758.94 1467.59 1758.94 1462.15 Q1758.94 1456.83 1762.08 1453.61 Q1765.23 1450.39 1770.46 1450.39 Q1776.46 1450.39 1779.61 1455 Q1782.78 1459.58 1782.78 1468.33 Q1782.78 1476.51 1778.89 1481.39 Q1775.02 1486.25 1768.47 1486.25 Q1766.71 1486.25 1764.91 1485.9 Q1763.1 1485.56 1761.16 1484.86 M1770.46 1470.21 Q1773.61 1470.21 1775.44 1468.06 Q1777.29 1465.9 1777.29 1462.15 Q1777.29 1458.43 1775.44 1456.27 Q1773.61 1454.1 1770.46 1454.1 Q1767.32 1454.1 1765.46 1456.27 Q1763.63 1458.43 1763.63 1462.15 Q1763.63 1465.9 1765.46 1468.06 Q1767.32 1470.21 1770.46 1470.21 Z\" fill=\"#000000\" fill-rule=\"nonzero\" fill-opacity=\"1\" /><path clip-path=\"url(#clip620)\" d=\"M1791.18 1479.7 L1796.06 1479.7 L1796.06 1485.58 L1791.18 1485.58 L1791.18 1479.7 Z\" fill=\"#000000\" fill-rule=\"nonzero\" fill-opacity=\"1\" /><path clip-path=\"url(#clip620)\" d=\"M1819.1 1455.09 L1807.29 1473.54 L1819.1 1473.54 L1819.1 1455.09 M1817.87 1451.02 L1823.75 1451.02 L1823.75 1473.54 L1828.68 1473.54 L1828.68 1477.43 L1823.75 1477.43 L1823.75 1485.58 L1819.1 1485.58 L1819.1 1477.43 L1803.5 1477.43 L1803.5 1472.92 L1817.87 1451.02 Z\" fill=\"#000000\" fill-rule=\"nonzero\" fill-opacity=\"1\" /><path clip-path=\"url(#clip620)\" d=\"M1840.44 1481.64 L1856.76 1481.64 L1856.76 1485.58 L1834.81 1485.58 L1834.81 1481.64 Q1837.48 1478.89 1842.06 1474.26 Q1846.67 1469.61 1847.85 1468.27 Q1850.09 1465.74 1850.97 1464.01 Q1851.87 1462.25 1851.87 1460.56 Q1851.87 1457.8 1849.93 1456.07 Q1848.01 1454.33 1844.91 1454.33 Q1842.71 1454.33 1840.25 1455.09 Q1837.82 1455.86 1835.05 1457.41 L1835.05 1452.69 Q1837.87 1451.55 1840.32 1450.97 Q1842.78 1450.39 1844.81 1450.39 Q1850.18 1450.39 1853.38 1453.08 Q1856.57 1455.77 1856.57 1460.26 Q1856.57 1462.39 1855.76 1464.31 Q1854.98 1466.2 1852.87 1468.8 Q1852.29 1469.47 1849.19 1472.69 Q1846.09 1475.88 1840.44 1481.64 Z\" fill=\"#000000\" fill-rule=\"nonzero\" fill-opacity=\"1\" /><path clip-path=\"url(#clip620)\" d=\"M2108.16 1484.86 L2108.16 1480.6 Q2109.92 1481.44 2111.72 1481.88 Q2113.53 1482.32 2115.27 1482.32 Q2119.9 1482.32 2122.33 1479.21 Q2124.78 1476.09 2125.13 1469.75 Q2123.78 1471.74 2121.72 1472.8 Q2119.66 1473.87 2117.16 1473.87 Q2111.98 1473.87 2108.95 1470.74 Q2105.94 1467.59 2105.94 1462.15 Q2105.94 1456.83 2109.09 1453.61 Q2112.23 1450.39 2117.47 1450.39 Q2123.46 1450.39 2126.61 1455 Q2129.78 1459.58 2129.78 1468.33 Q2129.78 1476.51 2125.89 1481.39 Q2122.03 1486.25 2115.47 1486.25 Q2113.72 1486.25 2111.91 1485.9 Q2110.1 1485.56 2108.16 1484.86 M2117.47 1470.21 Q2120.61 1470.21 2122.44 1468.06 Q2124.29 1465.9 2124.29 1462.15 Q2124.29 1458.43 2122.44 1456.27 Q2120.61 1454.1 2117.47 1454.1 Q2114.32 1454.1 2112.47 1456.27 Q2110.64 1458.43 2110.64 1462.15 Q2110.64 1465.9 2112.47 1468.06 Q2114.32 1470.21 2117.47 1470.21 Z\" fill=\"#000000\" fill-rule=\"nonzero\" fill-opacity=\"1\" /><path clip-path=\"url(#clip620)\" d=\"M2138.18 1479.7 L2143.07 1479.7 L2143.07 1485.58 L2138.18 1485.58 L2138.18 1479.7 Z\" fill=\"#000000\" fill-rule=\"nonzero\" fill-opacity=\"1\" /><path clip-path=\"url(#clip620)\" d=\"M2166.1 1455.09 L2154.29 1473.54 L2166.1 1473.54 L2166.1 1455.09 M2164.87 1451.02 L2170.75 1451.02 L2170.75 1473.54 L2175.68 1473.54 L2175.68 1477.43 L2170.75 1477.43 L2170.75 1485.58 L2166.1 1485.58 L2166.1 1477.43 L2150.5 1477.43 L2150.5 1472.92 L2164.87 1451.02 Z\" fill=\"#000000\" fill-rule=\"nonzero\" fill-opacity=\"1\" /><path clip-path=\"url(#clip620)\" d=\"M2197.58 1466.95 Q2200.94 1467.66 2202.81 1469.93 Q2204.71 1472.2 2204.71 1475.53 Q2204.71 1480.65 2201.19 1483.45 Q2197.67 1486.25 2191.19 1486.25 Q2189.02 1486.25 2186.7 1485.81 Q2184.41 1485.39 2181.96 1484.54 L2181.96 1480.02 Q2183.9 1481.16 2186.21 1481.74 Q2188.53 1482.32 2191.05 1482.32 Q2195.45 1482.32 2197.74 1480.58 Q2200.06 1478.84 2200.06 1475.53 Q2200.06 1472.48 2197.9 1470.77 Q2195.78 1469.03 2191.96 1469.03 L2187.93 1469.03 L2187.93 1465.19 L2192.14 1465.19 Q2195.59 1465.19 2197.42 1463.82 Q2199.25 1462.43 2199.25 1459.84 Q2199.25 1457.18 2197.35 1455.77 Q2195.47 1454.33 2191.96 1454.33 Q2190.03 1454.33 2187.84 1454.75 Q2185.64 1455.16 2183 1456.04 L2183 1451.88 Q2185.66 1451.14 2187.97 1450.77 Q2190.31 1450.39 2192.37 1450.39 Q2197.7 1450.39 2200.8 1452.83 Q2203.9 1455.23 2203.9 1459.35 Q2203.9 1462.22 2202.26 1464.21 Q2200.61 1466.18 2197.58 1466.95 Z\" fill=\"#000000\" fill-rule=\"nonzero\" fill-opacity=\"1\" /><path clip-path=\"url(#clip620)\" d=\"M1108.83 1539.24 Q1111.03 1535.29 1114.08 1533.41 Q1117.14 1531.54 1121.28 1531.54 Q1126.85 1531.54 1129.87 1535.45 Q1132.89 1539.33 1132.89 1546.53 L1132.89 1568.04 L1127.01 1568.04 L1127.01 1546.72 Q1127.01 1541.59 1125.19 1539.11 Q1123.38 1536.63 1119.65 1536.63 Q1115.1 1536.63 1112.46 1539.65 Q1109.82 1542.68 1109.82 1547.9 L1109.82 1568.04 L1103.93 1568.04 L1103.93 1546.72 Q1103.93 1541.56 1102.12 1539.11 Q1100.3 1536.63 1096.51 1536.63 Q1092.03 1536.63 1089.39 1539.68 Q1086.74 1542.71 1086.74 1547.9 L1086.74 1568.04 L1080.86 1568.04 L1080.86 1532.4 L1086.74 1532.4 L1086.74 1537.93 Q1088.75 1534.66 1091.55 1533.1 Q1094.35 1531.54 1098.2 1531.54 Q1102.08 1531.54 1104.79 1533.51 Q1107.53 1535.48 1108.83 1539.24 Z\" fill=\"#000000\" fill-rule=\"nonzero\" fill-opacity=\"1\" /><path clip-path=\"url(#clip620)\" d=\"M1144.58 1532.4 L1150.43 1532.4 L1150.43 1568.04 L1144.58 1568.04 L1144.58 1532.4 M1144.58 1518.52 L1150.43 1518.52 L1150.43 1525.93 L1144.58 1525.93 L1144.58 1518.52 Z\" fill=\"#000000\" fill-rule=\"nonzero\" fill-opacity=\"1\" /><path clip-path=\"url(#clip620)\" d=\"M1162.69 1518.52 L1168.54 1518.52 L1168.54 1568.04 L1162.69 1568.04 L1162.69 1518.52 Z\" fill=\"#000000\" fill-rule=\"nonzero\" fill-opacity=\"1\" /><path clip-path=\"url(#clip620)\" d=\"M1180.8 1518.52 L1186.65 1518.52 L1186.65 1568.04 L1180.8 1568.04 L1180.8 1518.52 Z\" fill=\"#000000\" fill-rule=\"nonzero\" fill-opacity=\"1\" /><path clip-path=\"url(#clip620)\" d=\"M1198.91 1532.4 L1204.76 1532.4 L1204.76 1568.04 L1198.91 1568.04 L1198.91 1532.4 M1198.91 1518.52 L1204.76 1518.52 L1204.76 1525.93 L1198.91 1525.93 L1198.91 1518.52 Z\" fill=\"#000000\" fill-rule=\"nonzero\" fill-opacity=\"1\" /><path clip-path=\"url(#clip620)\" d=\"M1239.74 1533.45 L1239.74 1538.98 Q1237.26 1537.71 1234.59 1537.07 Q1231.91 1536.44 1229.05 1536.44 Q1224.69 1536.44 1222.49 1537.77 Q1220.33 1539.11 1220.33 1541.79 Q1220.33 1543.82 1221.89 1545 Q1223.45 1546.15 1228.16 1547.2 L1230.16 1547.64 Q1236.4 1548.98 1239.01 1551.43 Q1241.65 1553.85 1241.65 1558.21 Q1241.65 1563.17 1237.71 1566.07 Q1233.79 1568.97 1226.92 1568.97 Q1224.05 1568.97 1220.93 1568.39 Q1217.85 1567.85 1214.41 1566.74 L1214.41 1560.69 Q1217.65 1562.38 1220.81 1563.24 Q1223.96 1564.07 1227.04 1564.07 Q1231.18 1564.07 1233.41 1562.66 Q1235.64 1561.23 1235.64 1558.65 Q1235.64 1556.27 1234.01 1554.99 Q1232.42 1553.72 1226.98 1552.54 L1224.94 1552.07 Q1219.5 1550.92 1217.08 1548.56 Q1214.66 1546.18 1214.66 1542.04 Q1214.66 1537.01 1218.23 1534.27 Q1221.79 1531.54 1228.35 1531.54 Q1231.59 1531.54 1234.46 1532.01 Q1237.32 1532.49 1239.74 1533.45 Z\" fill=\"#000000\" fill-rule=\"nonzero\" fill-opacity=\"1\" /><path clip-path=\"url(#clip620)\" d=\"M1281.47 1548.76 L1281.47 1551.62 L1254.54 1551.62 Q1254.93 1557.67 1258.17 1560.85 Q1261.45 1564 1267.27 1564 Q1270.65 1564 1273.8 1563.17 Q1276.98 1562.35 1280.1 1560.69 L1280.1 1566.23 Q1276.95 1567.57 1273.64 1568.27 Q1270.33 1568.97 1266.92 1568.97 Q1258.39 1568.97 1253.4 1564 Q1248.43 1559.04 1248.43 1550.57 Q1248.43 1541.82 1253.14 1536.69 Q1257.89 1531.54 1265.91 1531.54 Q1273.1 1531.54 1277.27 1536.18 Q1281.47 1540.8 1281.47 1548.76 M1275.61 1547.04 Q1275.55 1542.23 1272.91 1539.37 Q1270.3 1536.5 1265.97 1536.5 Q1261.07 1536.5 1258.11 1539.27 Q1255.18 1542.04 1254.73 1547.07 L1275.61 1547.04 Z\" fill=\"#000000\" fill-rule=\"nonzero\" fill-opacity=\"1\" /><path clip-path=\"url(#clip620)\" d=\"M1316.74 1533.76 L1316.74 1539.24 Q1314.25 1537.87 1311.74 1537.2 Q1309.26 1536.5 1306.71 1536.5 Q1301.01 1536.5 1297.86 1540.13 Q1294.71 1543.73 1294.71 1550.25 Q1294.71 1556.78 1297.86 1560.4 Q1301.01 1564 1306.71 1564 Q1309.26 1564 1311.74 1563.33 Q1314.25 1562.63 1316.74 1561.26 L1316.74 1566.68 Q1314.29 1567.82 1311.64 1568.39 Q1309.03 1568.97 1306.07 1568.97 Q1298.02 1568.97 1293.28 1563.91 Q1288.54 1558.85 1288.54 1550.25 Q1288.54 1541.53 1293.31 1536.53 Q1298.12 1531.54 1306.46 1531.54 Q1309.16 1531.54 1311.74 1532.11 Q1314.32 1532.65 1316.74 1533.76 Z\" fill=\"#000000\" fill-rule=\"nonzero\" fill-opacity=\"1\" /><path clip-path=\"url(#clip620)\" d=\"M1340.73 1536.5 Q1336.02 1536.5 1333.29 1540.19 Q1330.55 1543.85 1330.55 1550.25 Q1330.55 1556.65 1333.26 1560.34 Q1335.99 1564 1340.73 1564 Q1345.41 1564 1348.15 1560.31 Q1350.89 1556.62 1350.89 1550.25 Q1350.89 1543.92 1348.15 1540.23 Q1345.41 1536.5 1340.73 1536.5 M1340.73 1531.54 Q1348.37 1531.54 1352.73 1536.5 Q1357.09 1541.47 1357.09 1550.25 Q1357.09 1559 1352.73 1564 Q1348.37 1568.97 1340.73 1568.97 Q1333.06 1568.97 1328.7 1564 Q1324.38 1559 1324.38 1550.25 Q1324.38 1541.47 1328.7 1536.5 Q1333.06 1531.54 1340.73 1531.54 Z\" fill=\"#000000\" fill-rule=\"nonzero\" fill-opacity=\"1\" /><path clip-path=\"url(#clip620)\" d=\"M1396.43 1546.53 L1396.43 1568.04 L1390.58 1568.04 L1390.58 1546.72 Q1390.58 1541.66 1388.61 1539.14 Q1386.63 1536.63 1382.68 1536.63 Q1377.94 1536.63 1375.21 1539.65 Q1372.47 1542.68 1372.47 1547.9 L1372.47 1568.04 L1366.58 1568.04 L1366.58 1532.4 L1372.47 1532.4 L1372.47 1537.93 Q1374.57 1534.72 1377.4 1533.13 Q1380.27 1531.54 1383.99 1531.54 Q1390.13 1531.54 1393.28 1535.36 Q1396.43 1539.14 1396.43 1546.53 Z\" fill=\"#000000\" fill-rule=\"nonzero\" fill-opacity=\"1\" /><path clip-path=\"url(#clip620)\" d=\"M1431.57 1537.81 L1431.57 1518.52 L1437.43 1518.52 L1437.43 1568.04 L1431.57 1568.04 L1431.57 1562.7 Q1429.73 1565.88 1426.89 1567.44 Q1424.09 1568.97 1420.15 1568.97 Q1413.69 1568.97 1409.61 1563.81 Q1405.57 1558.65 1405.57 1550.25 Q1405.57 1541.85 1409.61 1536.69 Q1413.69 1531.54 1420.15 1531.54 Q1424.09 1531.54 1426.89 1533.1 Q1429.73 1534.62 1431.57 1537.81 M1411.62 1550.25 Q1411.62 1556.71 1414.26 1560.4 Q1416.93 1564.07 1421.58 1564.07 Q1426.23 1564.07 1428.9 1560.4 Q1431.57 1556.71 1431.57 1550.25 Q1431.57 1543.79 1428.9 1540.13 Q1426.23 1536.44 1421.58 1536.44 Q1416.93 1536.44 1414.26 1540.13 Q1411.62 1543.79 1411.62 1550.25 Z\" fill=\"#000000\" fill-rule=\"nonzero\" fill-opacity=\"1\" /><path clip-path=\"url(#clip620)\" d=\"M1472.22 1533.45 L1472.22 1538.98 Q1469.74 1537.71 1467.06 1537.07 Q1464.39 1536.44 1461.52 1536.44 Q1457.16 1536.44 1454.97 1537.77 Q1452.8 1539.11 1452.8 1541.79 Q1452.8 1543.82 1454.36 1545 Q1455.92 1546.15 1460.63 1547.2 L1462.64 1547.64 Q1468.88 1548.98 1471.49 1551.43 Q1474.13 1553.85 1474.13 1558.21 Q1474.13 1563.17 1470.18 1566.07 Q1466.27 1568.97 1459.39 1568.97 Q1456.53 1568.97 1453.41 1568.39 Q1450.32 1567.85 1446.88 1566.74 L1446.88 1560.69 Q1450.13 1562.38 1453.28 1563.24 Q1456.43 1564.07 1459.52 1564.07 Q1463.66 1564.07 1465.88 1562.66 Q1468.11 1561.23 1468.11 1558.65 Q1468.11 1556.27 1466.49 1554.99 Q1464.9 1553.72 1459.46 1552.54 L1457.42 1552.07 Q1451.98 1550.92 1449.56 1548.56 Q1447.14 1546.18 1447.14 1542.04 Q1447.14 1537.01 1450.7 1534.27 Q1454.27 1531.54 1460.82 1531.54 Q1464.07 1531.54 1466.94 1532.01 Q1469.8 1532.49 1472.22 1533.45 Z\" fill=\"#000000\" fill-rule=\"nonzero\" fill-opacity=\"1\" /><polyline clip-path=\"url(#clip622)\" style=\"stroke:#000000; stroke-linecap:round; stroke-linejoin:round; stroke-width:2; stroke-opacity:0.1; fill:none\" points=\"202.227,1423.18 2352.76,1423.18 \"/>\n",
       "<polyline clip-path=\"url(#clip622)\" style=\"stroke:#000000; stroke-linecap:round; stroke-linejoin:round; stroke-width:2; stroke-opacity:0.1; fill:none\" points=\"202.227,1018.49 2352.76,1018.49 \"/>\n",
       "<polyline clip-path=\"url(#clip622)\" style=\"stroke:#000000; stroke-linecap:round; stroke-linejoin:round; stroke-width:2; stroke-opacity:0.1; fill:none\" points=\"202.227,613.806 2352.76,613.806 \"/>\n",
       "<polyline clip-path=\"url(#clip622)\" style=\"stroke:#000000; stroke-linecap:round; stroke-linejoin:round; stroke-width:2; stroke-opacity:0.1; fill:none\" points=\"202.227,209.119 2352.76,209.119 \"/>\n",
       "<polyline clip-path=\"url(#clip620)\" style=\"stroke:#000000; stroke-linecap:round; stroke-linejoin:round; stroke-width:4; stroke-opacity:1; fill:none\" points=\"202.227,1423.18 202.227,47.2441 \"/>\n",
       "<polyline clip-path=\"url(#clip620)\" style=\"stroke:#000000; stroke-linecap:round; stroke-linejoin:round; stroke-width:4; stroke-opacity:1; fill:none\" points=\"202.227,1423.18 221.125,1423.18 \"/>\n",
       "<polyline clip-path=\"url(#clip620)\" style=\"stroke:#000000; stroke-linecap:round; stroke-linejoin:round; stroke-width:4; stroke-opacity:1; fill:none\" points=\"202.227,1018.49 221.125,1018.49 \"/>\n",
       "<polyline clip-path=\"url(#clip620)\" style=\"stroke:#000000; stroke-linecap:round; stroke-linejoin:round; stroke-width:4; stroke-opacity:1; fill:none\" points=\"202.227,613.806 221.125,613.806 \"/>\n",
       "<polyline clip-path=\"url(#clip620)\" style=\"stroke:#000000; stroke-linecap:round; stroke-linejoin:round; stroke-width:4; stroke-opacity:1; fill:none\" points=\"202.227,209.119 221.125,209.119 \"/>\n",
       "<path clip-path=\"url(#clip620)\" d=\"M154.283 1408.98 Q150.672 1408.98 148.843 1412.54 Q147.038 1416.08 147.038 1423.21 Q147.038 1430.32 148.843 1433.89 Q150.672 1437.43 154.283 1437.43 Q157.917 1437.43 159.723 1433.89 Q161.552 1430.32 161.552 1423.21 Q161.552 1416.08 159.723 1412.54 Q157.917 1408.98 154.283 1408.98 M154.283 1405.27 Q160.093 1405.27 163.149 1409.88 Q166.227 1414.46 166.227 1423.21 Q166.227 1431.94 163.149 1436.55 Q160.093 1441.13 154.283 1441.13 Q148.473 1441.13 145.394 1436.55 Q142.339 1431.94 142.339 1423.21 Q142.339 1414.46 145.394 1409.88 Q148.473 1405.27 154.283 1405.27 Z\" fill=\"#000000\" fill-rule=\"nonzero\" fill-opacity=\"1\" /><path clip-path=\"url(#clip620)\" d=\"M145.325 1001.21 L163.681 1001.21 L163.681 1005.15 L149.607 1005.15 L149.607 1013.62 Q150.626 1013.27 151.644 1013.11 Q152.663 1012.93 153.681 1012.93 Q159.468 1012.93 162.848 1016.1 Q166.227 1019.27 166.227 1024.68 Q166.227 1030.26 162.755 1033.37 Q159.283 1036.44 152.964 1036.44 Q150.788 1036.44 148.519 1036.07 Q146.274 1035.7 143.866 1034.96 L143.866 1030.26 Q145.95 1031.4 148.172 1031.95 Q150.394 1032.51 152.871 1032.51 Q156.876 1032.51 159.214 1030.4 Q161.552 1028.3 161.552 1024.68 Q161.552 1021.07 159.214 1018.97 Q156.876 1016.86 152.871 1016.86 Q150.996 1016.86 149.121 1017.28 Q147.269 1017.69 145.325 1018.57 L145.325 1001.21 Z\" fill=\"#000000\" fill-rule=\"nonzero\" fill-opacity=\"1\" /><path clip-path=\"url(#clip620)\" d=\"M114.931 627.151 L122.57 627.151 L122.57 600.785 L114.26 602.452 L114.26 598.193 L122.524 596.526 L127.2 596.526 L127.2 627.151 L134.839 627.151 L134.839 631.086 L114.931 631.086 L114.931 627.151 Z\" fill=\"#000000\" fill-rule=\"nonzero\" fill-opacity=\"1\" /><path clip-path=\"url(#clip620)\" d=\"M154.283 599.605 Q150.672 599.605 148.843 603.169 Q147.038 606.711 147.038 613.841 Q147.038 620.947 148.843 624.512 Q150.672 628.053 154.283 628.053 Q157.917 628.053 159.723 624.512 Q161.552 620.947 161.552 613.841 Q161.552 606.711 159.723 603.169 Q157.917 599.605 154.283 599.605 M154.283 595.901 Q160.093 595.901 163.149 600.507 Q166.227 605.091 166.227 613.841 Q166.227 622.567 163.149 627.174 Q160.093 631.757 154.283 631.757 Q148.473 631.757 145.394 627.174 Q142.339 622.567 142.339 613.841 Q142.339 605.091 145.394 600.507 Q148.473 595.901 154.283 595.901 Z\" fill=\"#000000\" fill-rule=\"nonzero\" fill-opacity=\"1\" /><path clip-path=\"url(#clip620)\" d=\"M115.927 222.464 L123.566 222.464 L123.566 196.098 L115.256 197.765 L115.256 193.506 L123.519 191.839 L128.195 191.839 L128.195 222.464 L135.834 222.464 L135.834 226.399 L115.927 226.399 L115.927 222.464 Z\" fill=\"#000000\" fill-rule=\"nonzero\" fill-opacity=\"1\" /><path clip-path=\"url(#clip620)\" d=\"M145.325 191.839 L163.681 191.839 L163.681 195.774 L149.607 195.774 L149.607 204.246 Q150.626 203.899 151.644 203.737 Q152.663 203.552 153.681 203.552 Q159.468 203.552 162.848 206.723 Q166.227 209.894 166.227 215.311 Q166.227 220.89 162.755 223.991 Q159.283 227.07 152.964 227.07 Q150.788 227.07 148.519 226.7 Q146.274 226.329 143.866 225.589 L143.866 220.89 Q145.95 222.024 148.172 222.579 Q150.394 223.135 152.871 223.135 Q156.876 223.135 159.214 221.029 Q161.552 218.922 161.552 215.311 Q161.552 211.7 159.214 209.593 Q156.876 207.487 152.871 207.487 Q150.996 207.487 149.121 207.904 Q147.269 208.32 145.325 209.2 L145.325 191.839 Z\" fill=\"#000000\" fill-rule=\"nonzero\" fill-opacity=\"1\" /><path clip-path=\"url(#clip620)\" d=\"M29.7248 796.386 L35.1993 796.386 Q33.8307 798.869 33.1623 801.383 Q32.4621 803.866 32.4621 806.412 Q32.4621 812.11 36.0905 815.261 Q39.6872 818.412 46.212 818.412 Q52.7369 818.412 56.3653 815.261 Q59.9619 812.11 59.9619 806.412 Q59.9619 803.866 59.2935 801.383 Q58.5933 798.869 57.2247 796.386 L62.6355 796.386 Q63.7814 798.837 64.3543 801.479 Q64.9272 804.089 64.9272 807.049 Q64.9272 815.102 59.8664 819.844 Q54.8057 824.586 46.212 824.586 Q37.491 824.586 32.4939 819.812 Q27.4968 815.006 27.4968 806.667 Q27.4968 803.962 28.0697 801.383 Q28.6108 798.805 29.7248 796.386 Z\" fill=\"#000000\" fill-rule=\"nonzero\" fill-opacity=\"1\" /><path clip-path=\"url(#clip620)\" d=\"M32.4621 772.388 Q32.4621 777.098 36.1542 779.836 Q39.8145 782.573 46.212 782.573 Q52.6095 782.573 56.3017 779.867 Q59.9619 777.13 59.9619 772.388 Q59.9619 767.709 56.2698 764.972 Q52.5777 762.234 46.212 762.234 Q39.8781 762.234 36.186 764.972 Q32.4621 767.709 32.4621 772.388 M27.4968 772.388 Q27.4968 764.749 32.4621 760.388 Q37.4273 756.028 46.212 756.028 Q54.9649 756.028 59.9619 760.388 Q64.9272 764.749 64.9272 772.388 Q64.9272 780.058 59.9619 784.419 Q54.9649 788.748 46.212 788.748 Q37.4273 788.748 32.4621 784.419 Q27.4968 780.058 27.4968 772.388 Z\" fill=\"#000000\" fill-rule=\"nonzero\" fill-opacity=\"1\" /><path clip-path=\"url(#clip620)\" d=\"M49.9359 746.925 L28.3562 746.925 L28.3562 741.068 L49.7131 741.068 Q54.7739 741.068 57.3202 739.095 Q59.8346 737.122 59.8346 733.175 Q59.8346 728.432 56.8109 725.695 Q53.7872 722.926 48.5673 722.926 L28.3562 722.926 L28.3562 717.07 L64.0042 717.07 L64.0042 722.926 L58.5296 722.926 Q61.7762 725.059 63.3676 727.891 Q64.9272 730.692 64.9272 734.416 Q64.9272 740.559 61.1078 743.742 Q57.2883 746.925 49.9359 746.925 M27.4968 732.188 L27.4968 732.188 Z\" fill=\"#000000\" fill-rule=\"nonzero\" fill-opacity=\"1\" /><path clip-path=\"url(#clip620)\" d=\"M42.4881 675.374 L64.0042 675.374 L64.0042 681.231 L42.679 681.231 Q37.6183 681.231 35.1038 683.204 Q32.5894 685.178 32.5894 689.124 Q32.5894 693.867 35.6131 696.604 Q38.6368 699.341 43.8567 699.341 L64.0042 699.341 L64.0042 705.229 L28.3562 705.229 L28.3562 699.341 L33.8944 699.341 Q30.6797 697.241 29.0883 694.408 Q27.4968 691.543 27.4968 687.819 Q27.4968 681.676 31.3163 678.525 Q35.1038 675.374 42.4881 675.374 Z\" fill=\"#000000\" fill-rule=\"nonzero\" fill-opacity=\"1\" /><path clip-path=\"url(#clip620)\" d=\"M18.2347 657.9 L28.3562 657.9 L28.3562 645.837 L32.9077 645.837 L32.9077 657.9 L52.2594 657.9 Q56.6199 657.9 57.8613 656.723 Q59.1026 655.513 59.1026 651.853 L59.1026 645.837 L64.0042 645.837 L64.0042 651.853 Q64.0042 658.633 61.4897 661.211 Q58.9434 663.789 52.2594 663.789 L32.9077 663.789 L32.9077 668.086 L28.3562 668.086 L28.3562 663.789 L18.2347 663.789 L18.2347 657.9 Z\" fill=\"#000000\" fill-rule=\"nonzero\" fill-opacity=\"1\" /><path clip-path=\"url(#clip622)\" d=\"M487.436 1342.24 L487.436 1423.18 L556.932 1423.18 L556.932 1342.24 L487.436 1342.24 L487.436 1342.24  Z\" fill=\"#009af9\" fill-rule=\"evenodd\" fill-opacity=\"1\"/>\n",
       "<polyline clip-path=\"url(#clip622)\" style=\"stroke:#000000; stroke-linecap:round; stroke-linejoin:round; stroke-width:4; stroke-opacity:1; fill:none\" points=\"487.436,1342.24 487.436,1423.18 556.932,1423.18 556.932,1342.24 487.436,1342.24 \"/>\n",
       "<path clip-path=\"url(#clip622)\" d=\"M556.932 1423.18 L556.932 1423.18 L626.427 1423.18 L626.427 1423.18 L556.932 1423.18 L556.932 1423.18  Z\" fill=\"#009af9\" fill-rule=\"evenodd\" fill-opacity=\"1\"/>\n",
       "<polyline clip-path=\"url(#clip622)\" style=\"stroke:#000000; stroke-linecap:round; stroke-linejoin:round; stroke-width:4; stroke-opacity:1; fill:none\" points=\"556.932,1423.18 556.932,1423.18 626.427,1423.18 556.932,1423.18 \"/>\n",
       "<path clip-path=\"url(#clip622)\" d=\"M626.427 1342.24 L626.427 1423.18 L695.922 1423.18 L695.922 1342.24 L626.427 1342.24 L626.427 1342.24  Z\" fill=\"#009af9\" fill-rule=\"evenodd\" fill-opacity=\"1\"/>\n",
       "<polyline clip-path=\"url(#clip622)\" style=\"stroke:#000000; stroke-linecap:round; stroke-linejoin:round; stroke-width:4; stroke-opacity:1; fill:none\" points=\"626.427,1342.24 626.427,1423.18 695.922,1423.18 695.922,1342.24 626.427,1342.24 \"/>\n",
       "<path clip-path=\"url(#clip622)\" d=\"M695.922 1261.31 L695.922 1423.18 L765.418 1423.18 L765.418 1261.31 L695.922 1261.31 L695.922 1261.31  Z\" fill=\"#009af9\" fill-rule=\"evenodd\" fill-opacity=\"1\"/>\n",
       "<polyline clip-path=\"url(#clip622)\" style=\"stroke:#000000; stroke-linecap:round; stroke-linejoin:round; stroke-width:4; stroke-opacity:1; fill:none\" points=\"695.922,1261.31 695.922,1423.18 765.418,1423.18 765.418,1261.31 695.922,1261.31 \"/>\n",
       "<path clip-path=\"url(#clip622)\" d=\"M765.418 1342.24 L765.418 1423.18 L834.913 1423.18 L834.913 1342.24 L765.418 1342.24 L765.418 1342.24  Z\" fill=\"#009af9\" fill-rule=\"evenodd\" fill-opacity=\"1\"/>\n",
       "<polyline clip-path=\"url(#clip622)\" style=\"stroke:#000000; stroke-linecap:round; stroke-linejoin:round; stroke-width:4; stroke-opacity:1; fill:none\" points=\"765.418,1342.24 765.418,1423.18 834.913,1423.18 834.913,1342.24 765.418,1342.24 \"/>\n",
       "<path clip-path=\"url(#clip622)\" d=\"M834.913 1342.24 L834.913 1423.18 L904.408 1423.18 L904.408 1342.24 L834.913 1342.24 L834.913 1342.24  Z\" fill=\"#009af9\" fill-rule=\"evenodd\" fill-opacity=\"1\"/>\n",
       "<polyline clip-path=\"url(#clip622)\" style=\"stroke:#000000; stroke-linecap:round; stroke-linejoin:round; stroke-width:4; stroke-opacity:1; fill:none\" points=\"834.913,1342.24 834.913,1423.18 904.408,1423.18 904.408,1342.24 834.913,1342.24 \"/>\n",
       "<path clip-path=\"url(#clip622)\" d=\"M904.408 1423.18 L904.408 1423.18 L973.903 1423.18 L973.903 1423.18 L904.408 1423.18 L904.408 1423.18  Z\" fill=\"#009af9\" fill-rule=\"evenodd\" fill-opacity=\"1\"/>\n",
       "<polyline clip-path=\"url(#clip622)\" style=\"stroke:#000000; stroke-linecap:round; stroke-linejoin:round; stroke-width:4; stroke-opacity:1; fill:none\" points=\"904.408,1423.18 904.408,1423.18 973.903,1423.18 904.408,1423.18 \"/>\n",
       "<path clip-path=\"url(#clip622)\" d=\"M973.903 1342.24 L973.903 1423.18 L1043.4 1423.18 L1043.4 1342.24 L973.903 1342.24 L973.903 1342.24  Z\" fill=\"#009af9\" fill-rule=\"evenodd\" fill-opacity=\"1\"/>\n",
       "<polyline clip-path=\"url(#clip622)\" style=\"stroke:#000000; stroke-linecap:round; stroke-linejoin:round; stroke-width:4; stroke-opacity:1; fill:none\" points=\"973.903,1342.24 973.903,1423.18 1043.4,1423.18 1043.4,1342.24 973.903,1342.24 \"/>\n",
       "<path clip-path=\"url(#clip622)\" d=\"M1043.4 1423.18 L1043.4 1423.18 L1112.89 1423.18 L1112.89 1423.18 L1043.4 1423.18 L1043.4 1423.18  Z\" fill=\"#009af9\" fill-rule=\"evenodd\" fill-opacity=\"1\"/>\n",
       "<polyline clip-path=\"url(#clip622)\" style=\"stroke:#000000; stroke-linecap:round; stroke-linejoin:round; stroke-width:4; stroke-opacity:1; fill:none\" points=\"1043.4,1423.18 1043.4,1423.18 1112.89,1423.18 1043.4,1423.18 \"/>\n",
       "<path clip-path=\"url(#clip622)\" d=\"M1112.89 1423.18 L1112.89 1423.18 L1182.39 1423.18 L1182.39 1423.18 L1112.89 1423.18 L1112.89 1423.18  Z\" fill=\"#009af9\" fill-rule=\"evenodd\" fill-opacity=\"1\"/>\n",
       "<polyline clip-path=\"url(#clip622)\" style=\"stroke:#000000; stroke-linecap:round; stroke-linejoin:round; stroke-width:4; stroke-opacity:1; fill:none\" points=\"1112.89,1423.18 1112.89,1423.18 1182.39,1423.18 1112.89,1423.18 \"/>\n",
       "<path clip-path=\"url(#clip622)\" d=\"M1182.39 1423.18 L1182.39 1423.18 L1251.88 1423.18 L1251.88 1423.18 L1182.39 1423.18 L1182.39 1423.18  Z\" fill=\"#009af9\" fill-rule=\"evenodd\" fill-opacity=\"1\"/>\n",
       "<polyline clip-path=\"url(#clip622)\" style=\"stroke:#000000; stroke-linecap:round; stroke-linejoin:round; stroke-width:4; stroke-opacity:1; fill:none\" points=\"1182.39,1423.18 1182.39,1423.18 1251.88,1423.18 1182.39,1423.18 \"/>\n",
       "<path clip-path=\"url(#clip622)\" d=\"M1251.88 1423.18 L1251.88 1423.18 L1321.38 1423.18 L1321.38 1423.18 L1251.88 1423.18 L1251.88 1423.18  Z\" fill=\"#009af9\" fill-rule=\"evenodd\" fill-opacity=\"1\"/>\n",
       "<polyline clip-path=\"url(#clip622)\" style=\"stroke:#000000; stroke-linecap:round; stroke-linejoin:round; stroke-width:4; stroke-opacity:1; fill:none\" points=\"1251.88,1423.18 1251.88,1423.18 1321.38,1423.18 1251.88,1423.18 \"/>\n",
       "<path clip-path=\"url(#clip622)\" d=\"M1321.38 1180.37 L1321.38 1423.18 L1390.88 1423.18 L1390.88 1180.37 L1321.38 1180.37 L1321.38 1180.37  Z\" fill=\"#009af9\" fill-rule=\"evenodd\" fill-opacity=\"1\"/>\n",
       "<polyline clip-path=\"url(#clip622)\" style=\"stroke:#000000; stroke-linecap:round; stroke-linejoin:round; stroke-width:4; stroke-opacity:1; fill:none\" points=\"1321.38,1180.37 1321.38,1423.18 1390.88,1423.18 1390.88,1180.37 1321.38,1180.37 \"/>\n",
       "<path clip-path=\"url(#clip622)\" d=\"M1390.88 1342.24 L1390.88 1423.18 L1460.37 1423.18 L1460.37 1342.24 L1390.88 1342.24 L1390.88 1342.24  Z\" fill=\"#009af9\" fill-rule=\"evenodd\" fill-opacity=\"1\"/>\n",
       "<polyline clip-path=\"url(#clip622)\" style=\"stroke:#000000; stroke-linecap:round; stroke-linejoin:round; stroke-width:4; stroke-opacity:1; fill:none\" points=\"1390.88,1342.24 1390.88,1423.18 1460.37,1423.18 1460.37,1342.24 1390.88,1342.24 \"/>\n",
       "<path clip-path=\"url(#clip622)\" d=\"M1460.37 1180.37 L1460.37 1423.18 L1529.87 1423.18 L1529.87 1180.37 L1460.37 1180.37 L1460.37 1180.37  Z\" fill=\"#009af9\" fill-rule=\"evenodd\" fill-opacity=\"1\"/>\n",
       "<polyline clip-path=\"url(#clip622)\" style=\"stroke:#000000; stroke-linecap:round; stroke-linejoin:round; stroke-width:4; stroke-opacity:1; fill:none\" points=\"1460.37,1180.37 1460.37,1423.18 1529.87,1423.18 1529.87,1180.37 1460.37,1180.37 \"/>\n",
       "<path clip-path=\"url(#clip622)\" d=\"M1529.87 1261.31 L1529.87 1423.18 L1599.36 1423.18 L1599.36 1261.31 L1529.87 1261.31 L1529.87 1261.31  Z\" fill=\"#009af9\" fill-rule=\"evenodd\" fill-opacity=\"1\"/>\n",
       "<polyline clip-path=\"url(#clip622)\" style=\"stroke:#000000; stroke-linecap:round; stroke-linejoin:round; stroke-width:4; stroke-opacity:1; fill:none\" points=\"1529.87,1261.31 1529.87,1423.18 1599.36,1423.18 1599.36,1261.31 1529.87,1261.31 \"/>\n",
       "<path clip-path=\"url(#clip622)\" d=\"M1599.36 1342.24 L1599.36 1423.18 L1668.86 1423.18 L1668.86 1342.24 L1599.36 1342.24 L1599.36 1342.24  Z\" fill=\"#009af9\" fill-rule=\"evenodd\" fill-opacity=\"1\"/>\n",
       "<polyline clip-path=\"url(#clip622)\" style=\"stroke:#000000; stroke-linecap:round; stroke-linejoin:round; stroke-width:4; stroke-opacity:1; fill:none\" points=\"1599.36,1342.24 1599.36,1423.18 1668.86,1423.18 1668.86,1342.24 1599.36,1342.24 \"/>\n",
       "<path clip-path=\"url(#clip622)\" d=\"M1668.86 1342.24 L1668.86 1423.18 L1738.35 1423.18 L1738.35 1342.24 L1668.86 1342.24 L1668.86 1342.24  Z\" fill=\"#009af9\" fill-rule=\"evenodd\" fill-opacity=\"1\"/>\n",
       "<polyline clip-path=\"url(#clip622)\" style=\"stroke:#000000; stroke-linecap:round; stroke-linejoin:round; stroke-width:4; stroke-opacity:1; fill:none\" points=\"1668.86,1342.24 1668.86,1423.18 1738.35,1423.18 1738.35,1342.24 1668.86,1342.24 \"/>\n",
       "<path clip-path=\"url(#clip622)\" d=\"M1738.35 1099.43 L1738.35 1423.18 L1807.85 1423.18 L1807.85 1099.43 L1738.35 1099.43 L1738.35 1099.43  Z\" fill=\"#009af9\" fill-rule=\"evenodd\" fill-opacity=\"1\"/>\n",
       "<polyline clip-path=\"url(#clip622)\" style=\"stroke:#000000; stroke-linecap:round; stroke-linejoin:round; stroke-width:4; stroke-opacity:1; fill:none\" points=\"1738.35,1099.43 1738.35,1423.18 1807.85,1423.18 1807.85,1099.43 1738.35,1099.43 \"/>\n",
       "<path clip-path=\"url(#clip622)\" d=\"M1807.85 856.618 L1807.85 1423.18 L1877.34 1423.18 L1877.34 856.618 L1807.85 856.618 L1807.85 856.618  Z\" fill=\"#009af9\" fill-rule=\"evenodd\" fill-opacity=\"1\"/>\n",
       "<polyline clip-path=\"url(#clip622)\" style=\"stroke:#000000; stroke-linecap:round; stroke-linejoin:round; stroke-width:4; stroke-opacity:1; fill:none\" points=\"1807.85,856.618 1807.85,1423.18 1877.34,1423.18 1877.34,856.618 1807.85,856.618 \"/>\n",
       "<path clip-path=\"url(#clip622)\" d=\"M1877.34 1099.43 L1877.34 1423.18 L1946.84 1423.18 L1946.84 1099.43 L1877.34 1099.43 L1877.34 1099.43  Z\" fill=\"#009af9\" fill-rule=\"evenodd\" fill-opacity=\"1\"/>\n",
       "<polyline clip-path=\"url(#clip622)\" style=\"stroke:#000000; stroke-linecap:round; stroke-linejoin:round; stroke-width:4; stroke-opacity:1; fill:none\" points=\"1877.34,1099.43 1877.34,1423.18 1946.84,1423.18 1946.84,1099.43 1877.34,1099.43 \"/>\n",
       "<path clip-path=\"url(#clip622)\" d=\"M1946.84 1018.49 L1946.84 1423.18 L2016.33 1423.18 L2016.33 1018.49 L1946.84 1018.49 L1946.84 1018.49  Z\" fill=\"#009af9\" fill-rule=\"evenodd\" fill-opacity=\"1\"/>\n",
       "<polyline clip-path=\"url(#clip622)\" style=\"stroke:#000000; stroke-linecap:round; stroke-linejoin:round; stroke-width:4; stroke-opacity:1; fill:none\" points=\"1946.84,1018.49 1946.84,1423.18 2016.33,1423.18 2016.33,1018.49 1946.84,1018.49 \"/>\n",
       "<path clip-path=\"url(#clip622)\" d=\"M2016.33 937.555 L2016.33 1423.18 L2085.83 1423.18 L2085.83 937.555 L2016.33 937.555 L2016.33 937.555  Z\" fill=\"#009af9\" fill-rule=\"evenodd\" fill-opacity=\"1\"/>\n",
       "<polyline clip-path=\"url(#clip622)\" style=\"stroke:#000000; stroke-linecap:round; stroke-linejoin:round; stroke-width:4; stroke-opacity:1; fill:none\" points=\"2016.33,937.555 2016.33,1423.18 2085.83,1423.18 2085.83,937.555 2016.33,937.555 \"/>\n",
       "<path clip-path=\"url(#clip622)\" d=\"M2085.83 1018.49 L2085.83 1423.18 L2155.32 1423.18 L2155.32 1018.49 L2085.83 1018.49 L2085.83 1018.49  Z\" fill=\"#009af9\" fill-rule=\"evenodd\" fill-opacity=\"1\"/>\n",
       "<polyline clip-path=\"url(#clip622)\" style=\"stroke:#000000; stroke-linecap:round; stroke-linejoin:round; stroke-width:4; stroke-opacity:1; fill:none\" points=\"2085.83,1018.49 2085.83,1423.18 2155.32,1423.18 2155.32,1018.49 2085.83,1018.49 \"/>\n",
       "<path clip-path=\"url(#clip622)\" d=\"M2155.32 775.681 L2155.32 1423.18 L2224.82 1423.18 L2224.82 775.681 L2155.32 775.681 L2155.32 775.681  Z\" fill=\"#009af9\" fill-rule=\"evenodd\" fill-opacity=\"1\"/>\n",
       "<polyline clip-path=\"url(#clip622)\" style=\"stroke:#000000; stroke-linecap:round; stroke-linejoin:round; stroke-width:4; stroke-opacity:1; fill:none\" points=\"2155.32,775.681 2155.32,1423.18 2224.82,1423.18 2224.82,775.681 2155.32,775.681 \"/>\n",
       "<path clip-path=\"url(#clip622)\" d=\"M2224.82 775.681 L2224.82 1423.18 L2294.31 1423.18 L2294.31 775.681 L2224.82 775.681 L2224.82 775.681  Z\" fill=\"#009af9\" fill-rule=\"evenodd\" fill-opacity=\"1\"/>\n",
       "<polyline clip-path=\"url(#clip622)\" style=\"stroke:#000000; stroke-linecap:round; stroke-linejoin:round; stroke-width:4; stroke-opacity:1; fill:none\" points=\"2224.82,775.681 2224.82,1423.18 2294.31,1423.18 2294.31,775.681 2224.82,775.681 \"/>\n",
       "<path clip-path=\"url(#clip622)\" d=\"M2294.31 451.931 L2294.31 1423.18 L2363.81 1423.18 L2363.81 451.931 L2294.31 451.931 L2294.31 451.931  Z\" fill=\"#009af9\" fill-rule=\"evenodd\" fill-opacity=\"1\"/>\n",
       "<polyline clip-path=\"url(#clip622)\" style=\"stroke:#000000; stroke-linecap:round; stroke-linejoin:round; stroke-width:4; stroke-opacity:1; fill:none\" points=\"2294.31,451.931 2294.31,1423.18 2363.81,1423.18 2363.81,451.931 2294.31,451.931 \"/>\n",
       "<path clip-path=\"url(#clip622)\" d=\"M2363.81 775.681 L2363.81 1423.18 L2433.31 1423.18 L2433.31 775.681 L2363.81 775.681 L2363.81 775.681  Z\" fill=\"#009af9\" fill-rule=\"evenodd\" fill-opacity=\"1\"/>\n",
       "<polyline clip-path=\"url(#clip622)\" style=\"stroke:#000000; stroke-linecap:round; stroke-linejoin:round; stroke-width:4; stroke-opacity:1; fill:none\" points=\"2363.81,775.681 2363.81,1423.18 2433.31,1423.18 2433.31,775.681 2363.81,775.681 \"/>\n",
       "<path clip-path=\"url(#clip622)\" d=\"M2433.31 856.618 L2433.31 1423.18 L2502.8 1423.18 L2502.8 856.618 L2433.31 856.618 L2433.31 856.618  Z\" fill=\"#009af9\" fill-rule=\"evenodd\" fill-opacity=\"1\"/>\n",
       "<polyline clip-path=\"url(#clip622)\" style=\"stroke:#000000; stroke-linecap:round; stroke-linejoin:round; stroke-width:4; stroke-opacity:1; fill:none\" points=\"2433.31,856.618 2433.31,1423.18 2502.8,1423.18 2502.8,856.618 2433.31,856.618 \"/>\n",
       "<path clip-path=\"url(#clip622)\" d=\"M2502.8 613.806 L2502.8 1423.18 L2572.3 1423.18 L2572.3 613.806 L2502.8 613.806 L2502.8 613.806  Z\" fill=\"#009af9\" fill-rule=\"evenodd\" fill-opacity=\"1\"/>\n",
       "<polyline clip-path=\"url(#clip622)\" style=\"stroke:#000000; stroke-linecap:round; stroke-linejoin:round; stroke-width:4; stroke-opacity:1; fill:none\" points=\"2502.8,613.806 2502.8,1423.18 2572.3,1423.18 2572.3,613.806 2502.8,613.806 \"/>\n",
       "<path clip-path=\"url(#clip622)\" d=\"M2572.3 451.931 L2572.3 1423.18 L2641.79 1423.18 L2641.79 451.931 L2572.3 451.931 L2572.3 451.931  Z\" fill=\"#009af9\" fill-rule=\"evenodd\" fill-opacity=\"1\"/>\n",
       "<polyline clip-path=\"url(#clip622)\" style=\"stroke:#000000; stroke-linecap:round; stroke-linejoin:round; stroke-width:4; stroke-opacity:1; fill:none\" points=\"2572.3,451.931 2572.3,1423.18 2641.79,1423.18 2641.79,451.931 2572.3,451.931 \"/>\n",
       "<path clip-path=\"url(#clip622)\" d=\"M2641.79 613.806 L2641.79 1423.18 L2711.29 1423.18 L2711.29 613.806 L2641.79 613.806 L2641.79 613.806  Z\" fill=\"#009af9\" fill-rule=\"evenodd\" fill-opacity=\"1\"/>\n",
       "<polyline clip-path=\"url(#clip622)\" style=\"stroke:#000000; stroke-linecap:round; stroke-linejoin:round; stroke-width:4; stroke-opacity:1; fill:none\" points=\"2641.79,613.806 2641.79,1423.18 2711.29,1423.18 2711.29,613.806 2641.79,613.806 \"/>\n",
       "<path clip-path=\"url(#clip622)\" d=\"M2711.29 451.931 L2711.29 1423.18 L2780.78 1423.18 L2780.78 451.931 L2711.29 451.931 L2711.29 451.931  Z\" fill=\"#009af9\" fill-rule=\"evenodd\" fill-opacity=\"1\"/>\n",
       "<polyline clip-path=\"url(#clip622)\" style=\"stroke:#000000; stroke-linecap:round; stroke-linejoin:round; stroke-width:4; stroke-opacity:1; fill:none\" points=\"2711.29,451.931 2711.29,1423.18 2780.78,1423.18 2780.78,451.931 2711.29,451.931 \"/>\n",
       "<path clip-path=\"url(#clip622)\" d=\"M2780.78 532.868 L2780.78 1423.18 L2850.28 1423.18 L2850.28 532.868 L2780.78 532.868 L2780.78 532.868  Z\" fill=\"#009af9\" fill-rule=\"evenodd\" fill-opacity=\"1\"/>\n",
       "<polyline clip-path=\"url(#clip622)\" style=\"stroke:#000000; stroke-linecap:round; stroke-linejoin:round; stroke-width:4; stroke-opacity:1; fill:none\" points=\"2780.78,532.868 2780.78,1423.18 2850.28,1423.18 2850.28,532.868 2780.78,532.868 \"/>\n",
       "<path clip-path=\"url(#clip622)\" d=\"M2850.28 370.994 L2850.28 1423.18 L2919.77 1423.18 L2919.77 370.994 L2850.28 370.994 L2850.28 370.994  Z\" fill=\"#009af9\" fill-rule=\"evenodd\" fill-opacity=\"1\"/>\n",
       "<polyline clip-path=\"url(#clip622)\" style=\"stroke:#000000; stroke-linecap:round; stroke-linejoin:round; stroke-width:4; stroke-opacity:1; fill:none\" points=\"2850.28,370.994 2850.28,1423.18 2919.77,1423.18 2919.77,370.994 2850.28,370.994 \"/>\n",
       "<path clip-path=\"url(#clip622)\" d=\"M2919.77 775.681 L2919.77 1423.18 L2989.27 1423.18 L2989.27 775.681 L2919.77 775.681 L2919.77 775.681  Z\" fill=\"#009af9\" fill-rule=\"evenodd\" fill-opacity=\"1\"/>\n",
       "<polyline clip-path=\"url(#clip622)\" style=\"stroke:#000000; stroke-linecap:round; stroke-linejoin:round; stroke-width:4; stroke-opacity:1; fill:none\" points=\"2919.77,775.681 2919.77,1423.18 2989.27,1423.18 2989.27,775.681 2919.77,775.681 \"/>\n",
       "<path clip-path=\"url(#clip622)\" d=\"M2989.27 775.681 L2989.27 1423.18 L3058.76 1423.18 L3058.76 775.681 L2989.27 775.681 L2989.27 775.681  Z\" fill=\"#009af9\" fill-rule=\"evenodd\" fill-opacity=\"1\"/>\n",
       "<polyline clip-path=\"url(#clip622)\" style=\"stroke:#000000; stroke-linecap:round; stroke-linejoin:round; stroke-width:4; stroke-opacity:1; fill:none\" points=\"2989.27,775.681 2989.27,1423.18 3058.76,1423.18 3058.76,775.681 2989.27,775.681 \"/>\n",
       "<path clip-path=\"url(#clip622)\" d=\"M3058.76 613.806 L3058.76 1423.18 L3128.26 1423.18 L3128.26 613.806 L3058.76 613.806 L3058.76 613.806  Z\" fill=\"#009af9\" fill-rule=\"evenodd\" fill-opacity=\"1\"/>\n",
       "<polyline clip-path=\"url(#clip622)\" style=\"stroke:#000000; stroke-linecap:round; stroke-linejoin:round; stroke-width:4; stroke-opacity:1; fill:none\" points=\"3058.76,613.806 3058.76,1423.18 3128.26,1423.18 3128.26,613.806 3058.76,613.806 \"/>\n",
       "<path clip-path=\"url(#clip622)\" d=\"M3128.26 694.743 L3128.26 1423.18 L3197.75 1423.18 L3197.75 694.743 L3128.26 694.743 L3128.26 694.743  Z\" fill=\"#009af9\" fill-rule=\"evenodd\" fill-opacity=\"1\"/>\n",
       "<polyline clip-path=\"url(#clip622)\" style=\"stroke:#000000; stroke-linecap:round; stroke-linejoin:round; stroke-width:4; stroke-opacity:1; fill:none\" points=\"3128.26,694.743 3128.26,1423.18 3197.75,1423.18 3197.75,694.743 3128.26,694.743 \"/>\n",
       "<path clip-path=\"url(#clip622)\" d=\"M3197.75 290.056 L3197.75 1423.18 L3267.25 1423.18 L3267.25 290.056 L3197.75 290.056 L3197.75 290.056  Z\" fill=\"#009af9\" fill-rule=\"evenodd\" fill-opacity=\"1\"/>\n",
       "<polyline clip-path=\"url(#clip622)\" style=\"stroke:#000000; stroke-linecap:round; stroke-linejoin:round; stroke-width:4; stroke-opacity:1; fill:none\" points=\"3197.75,290.056 3197.75,1423.18 3267.25,1423.18 3267.25,290.056 3197.75,290.056 \"/>\n",
       "<path clip-path=\"url(#clip622)\" d=\"M3267.25 47.2441 L3267.25 1423.18 L3336.74 1423.18 L3336.74 47.2441 L3267.25 47.2441 L3267.25 47.2441  Z\" fill=\"#009af9\" fill-rule=\"evenodd\" fill-opacity=\"1\"/>\n",
       "<polyline clip-path=\"url(#clip622)\" style=\"stroke:#000000; stroke-linecap:round; stroke-linejoin:round; stroke-width:4; stroke-opacity:1; fill:none\" points=\"3267.25,47.2441 3267.25,1423.18 3336.74,1423.18 3336.74,47.2441 3267.25,47.2441 \"/>\n",
       "<path clip-path=\"url(#clip622)\" d=\"M3336.74 775.681 L3336.74 1423.18 L3406.24 1423.18 L3406.24 775.681 L3336.74 775.681 L3336.74 775.681  Z\" fill=\"#009af9\" fill-rule=\"evenodd\" fill-opacity=\"1\"/>\n",
       "<polyline clip-path=\"url(#clip622)\" style=\"stroke:#000000; stroke-linecap:round; stroke-linejoin:round; stroke-width:4; stroke-opacity:1; fill:none\" points=\"3336.74,775.681 3336.74,1423.18 3406.24,1423.18 3406.24,775.681 3336.74,775.681 \"/>\n",
       "<path clip-path=\"url(#clip622)\" d=\"M3406.24 209.119 L3406.24 1423.18 L3475.73 1423.18 L3475.73 209.119 L3406.24 209.119 L3406.24 209.119  Z\" fill=\"#009af9\" fill-rule=\"evenodd\" fill-opacity=\"1\"/>\n",
       "<polyline clip-path=\"url(#clip622)\" style=\"stroke:#000000; stroke-linecap:round; stroke-linejoin:round; stroke-width:4; stroke-opacity:1; fill:none\" points=\"3406.24,209.119 3406.24,1423.18 3475.73,1423.18 3475.73,209.119 3406.24,209.119 \"/>\n",
       "<path clip-path=\"url(#clip622)\" d=\"M3475.73 1099.43 L3475.73 1423.18 L3545.23 1423.18 L3545.23 1099.43 L3475.73 1099.43 L3475.73 1099.43  Z\" fill=\"#009af9\" fill-rule=\"evenodd\" fill-opacity=\"1\"/>\n",
       "<polyline clip-path=\"url(#clip622)\" style=\"stroke:#000000; stroke-linecap:round; stroke-linejoin:round; stroke-width:4; stroke-opacity:1; fill:none\" points=\"3475.73,1099.43 3475.73,1423.18 3545.23,1423.18 3545.23,1099.43 3475.73,1099.43 \"/>\n",
       "<path clip-path=\"url(#clip622)\" d=\"M3545.23 694.743 L3545.23 1423.18 L3614.73 1423.18 L3614.73 694.743 L3545.23 694.743 L3545.23 694.743  Z\" fill=\"#009af9\" fill-rule=\"evenodd\" fill-opacity=\"1\"/>\n",
       "<polyline clip-path=\"url(#clip622)\" style=\"stroke:#000000; stroke-linecap:round; stroke-linejoin:round; stroke-width:4; stroke-opacity:1; fill:none\" points=\"3545.23,694.743 3545.23,1423.18 3614.73,1423.18 3614.73,694.743 3545.23,694.743 \"/>\n",
       "<path clip-path=\"url(#clip622)\" d=\"M3614.73 451.931 L3614.73 1423.18 L3684.22 1423.18 L3684.22 451.931 L3614.73 451.931 L3614.73 451.931  Z\" fill=\"#009af9\" fill-rule=\"evenodd\" fill-opacity=\"1\"/>\n",
       "<polyline clip-path=\"url(#clip622)\" style=\"stroke:#000000; stroke-linecap:round; stroke-linejoin:round; stroke-width:4; stroke-opacity:1; fill:none\" points=\"3614.73,451.931 3614.73,1423.18 3684.22,1423.18 3684.22,451.931 3614.73,451.931 \"/>\n",
       "<path clip-path=\"url(#clip622)\" d=\"M3684.22 290.056 L3684.22 1423.18 L3753.72 1423.18 L3753.72 290.056 L3684.22 290.056 L3684.22 290.056  Z\" fill=\"#009af9\" fill-rule=\"evenodd\" fill-opacity=\"1\"/>\n",
       "<polyline clip-path=\"url(#clip622)\" style=\"stroke:#000000; stroke-linecap:round; stroke-linejoin:round; stroke-width:4; stroke-opacity:1; fill:none\" points=\"3684.22,290.056 3684.22,1423.18 3753.72,1423.18 3753.72,290.056 3684.22,290.056 \"/>\n",
       "<path clip-path=\"url(#clip622)\" d=\"M3753.72 128.181 L3753.72 1423.18 L3823.21 1423.18 L3823.21 128.181 L3753.72 128.181 L3753.72 128.181  Z\" fill=\"#009af9\" fill-rule=\"evenodd\" fill-opacity=\"1\"/>\n",
       "<polyline clip-path=\"url(#clip622)\" style=\"stroke:#000000; stroke-linecap:round; stroke-linejoin:round; stroke-width:4; stroke-opacity:1; fill:none\" points=\"3753.72,128.181 3753.72,1423.18 3823.21,1423.18 3823.21,128.181 3753.72,128.181 \"/>\n",
       "<path clip-path=\"url(#clip622)\" d=\"M3823.21 1099.43 L3823.21 1423.18 L3892.71 1423.18 L3892.71 1099.43 L3823.21 1099.43 L3823.21 1099.43  Z\" fill=\"#009af9\" fill-rule=\"evenodd\" fill-opacity=\"1\"/>\n",
       "<polyline clip-path=\"url(#clip622)\" style=\"stroke:#000000; stroke-linecap:round; stroke-linejoin:round; stroke-width:4; stroke-opacity:1; fill:none\" points=\"3823.21,1099.43 3823.21,1423.18 3892.71,1423.18 3892.71,1099.43 3823.21,1099.43 \"/>\n",
       "<path clip-path=\"url(#clip622)\" d=\"M3892.71 370.994 L3892.71 1423.18 L3962.2 1423.18 L3962.2 370.994 L3892.71 370.994 L3892.71 370.994  Z\" fill=\"#009af9\" fill-rule=\"evenodd\" fill-opacity=\"1\"/>\n",
       "<polyline clip-path=\"url(#clip622)\" style=\"stroke:#000000; stroke-linecap:round; stroke-linejoin:round; stroke-width:4; stroke-opacity:1; fill:none\" points=\"3892.71,370.994 3892.71,1423.18 3962.2,1423.18 3962.2,370.994 3892.71,370.994 \"/>\n",
       "<path clip-path=\"url(#clip622)\" d=\"M3962.2 451.931 L3962.2 1423.18 L4031.7 1423.18 L4031.7 451.931 L3962.2 451.931 L3962.2 451.931  Z\" fill=\"#009af9\" fill-rule=\"evenodd\" fill-opacity=\"1\"/>\n",
       "<polyline clip-path=\"url(#clip622)\" style=\"stroke:#000000; stroke-linecap:round; stroke-linejoin:round; stroke-width:4; stroke-opacity:1; fill:none\" points=\"3962.2,451.931 3962.2,1423.18 4031.7,1423.18 4031.7,451.931 3962.2,451.931 \"/>\n",
       "<path clip-path=\"url(#clip622)\" d=\"M4031.7 856.618 L4031.7 1423.18 L4101.19 1423.18 L4101.19 856.618 L4031.7 856.618 L4031.7 856.618  Z\" fill=\"#009af9\" fill-rule=\"evenodd\" fill-opacity=\"1\"/>\n",
       "<polyline clip-path=\"url(#clip622)\" style=\"stroke:#000000; stroke-linecap:round; stroke-linejoin:round; stroke-width:4; stroke-opacity:1; fill:none\" points=\"4031.7,856.618 4031.7,1423.18 4101.19,1423.18 4101.19,856.618 4031.7,856.618 \"/>\n",
       "<path clip-path=\"url(#clip622)\" d=\"M4101.19 775.681 L4101.19 1423.18 L4170.69 1423.18 L4170.69 775.681 L4101.19 775.681 L4101.19 775.681  Z\" fill=\"#009af9\" fill-rule=\"evenodd\" fill-opacity=\"1\"/>\n",
       "<polyline clip-path=\"url(#clip622)\" style=\"stroke:#000000; stroke-linecap:round; stroke-linejoin:round; stroke-width:4; stroke-opacity:1; fill:none\" points=\"4101.19,775.681 4101.19,1423.18 4170.69,1423.18 4170.69,775.681 4101.19,775.681 \"/>\n",
       "<path clip-path=\"url(#clip622)\" d=\"M4170.69 937.555 L4170.69 1423.18 L4240.18 1423.18 L4240.18 937.555 L4170.69 937.555 L4170.69 937.555  Z\" fill=\"#009af9\" fill-rule=\"evenodd\" fill-opacity=\"1\"/>\n",
       "<polyline clip-path=\"url(#clip622)\" style=\"stroke:#000000; stroke-linecap:round; stroke-linejoin:round; stroke-width:4; stroke-opacity:1; fill:none\" points=\"4170.69,937.555 4170.69,1423.18 4240.18,1423.18 4240.18,937.555 4170.69,937.555 \"/>\n",
       "<path clip-path=\"url(#clip622)\" d=\"M4240.18 694.743 L4240.18 1423.18 L4309.68 1423.18 L4309.68 694.743 L4240.18 694.743 L4240.18 694.743  Z\" fill=\"#009af9\" fill-rule=\"evenodd\" fill-opacity=\"1\"/>\n",
       "<polyline clip-path=\"url(#clip622)\" style=\"stroke:#000000; stroke-linecap:round; stroke-linejoin:round; stroke-width:4; stroke-opacity:1; fill:none\" points=\"4240.18,694.743 4240.18,1423.18 4309.68,1423.18 4309.68,694.743 4240.18,694.743 \"/>\n",
       "<path clip-path=\"url(#clip622)\" d=\"M4309.68 1018.49 L4309.68 1423.18 L4379.17 1423.18 L4379.17 1018.49 L4309.68 1018.49 L4309.68 1018.49  Z\" fill=\"#009af9\" fill-rule=\"evenodd\" fill-opacity=\"1\"/>\n",
       "<polyline clip-path=\"url(#clip622)\" style=\"stroke:#000000; stroke-linecap:round; stroke-linejoin:round; stroke-width:4; stroke-opacity:1; fill:none\" points=\"4309.68,1018.49 4309.68,1423.18 4379.17,1423.18 4379.17,1018.49 4309.68,1018.49 \"/>\n",
       "<path clip-path=\"url(#clip622)\" d=\"M4379.17 937.555 L4379.17 1423.18 L4448.67 1423.18 L4448.67 937.555 L4379.17 937.555 L4379.17 937.555  Z\" fill=\"#009af9\" fill-rule=\"evenodd\" fill-opacity=\"1\"/>\n",
       "<polyline clip-path=\"url(#clip622)\" style=\"stroke:#000000; stroke-linecap:round; stroke-linejoin:round; stroke-width:4; stroke-opacity:1; fill:none\" points=\"4379.17,937.555 4379.17,1423.18 4448.67,1423.18 4448.67,937.555 4379.17,937.555 \"/>\n",
       "<path clip-path=\"url(#clip622)\" d=\"M4448.67 775.681 L4448.67 1423.18 L4518.16 1423.18 L4518.16 775.681 L4448.67 775.681 L4448.67 775.681  Z\" fill=\"#009af9\" fill-rule=\"evenodd\" fill-opacity=\"1\"/>\n",
       "<polyline clip-path=\"url(#clip622)\" style=\"stroke:#000000; stroke-linecap:round; stroke-linejoin:round; stroke-width:4; stroke-opacity:1; fill:none\" points=\"4448.67,775.681 4448.67,1423.18 4518.16,1423.18 4518.16,775.681 4448.67,775.681 \"/>\n",
       "<path clip-path=\"url(#clip622)\" d=\"M4518.16 937.555 L4518.16 1423.18 L4587.66 1423.18 L4587.66 937.555 L4518.16 937.555 L4518.16 937.555  Z\" fill=\"#009af9\" fill-rule=\"evenodd\" fill-opacity=\"1\"/>\n",
       "<polyline clip-path=\"url(#clip622)\" style=\"stroke:#000000; stroke-linecap:round; stroke-linejoin:round; stroke-width:4; stroke-opacity:1; fill:none\" points=\"4518.16,937.555 4518.16,1423.18 4587.66,1423.18 4587.66,937.555 4518.16,937.555 \"/>\n",
       "<path clip-path=\"url(#clip622)\" d=\"M4587.66 937.555 L4587.66 1423.18 L4657.16 1423.18 L4657.16 937.555 L4587.66 937.555 L4587.66 937.555  Z\" fill=\"#009af9\" fill-rule=\"evenodd\" fill-opacity=\"1\"/>\n",
       "<polyline clip-path=\"url(#clip622)\" style=\"stroke:#000000; stroke-linecap:round; stroke-linejoin:round; stroke-width:4; stroke-opacity:1; fill:none\" points=\"4587.66,937.555 4587.66,1423.18 4657.16,1423.18 4657.16,937.555 4587.66,937.555 \"/>\n",
       "<path clip-path=\"url(#clip622)\" d=\"M4657.16 1018.49 L4657.16 1423.18 L4726.65 1423.18 L4726.65 1018.49 L4657.16 1018.49 L4657.16 1018.49  Z\" fill=\"#009af9\" fill-rule=\"evenodd\" fill-opacity=\"1\"/>\n",
       "<polyline clip-path=\"url(#clip622)\" style=\"stroke:#000000; stroke-linecap:round; stroke-linejoin:round; stroke-width:4; stroke-opacity:1; fill:none\" points=\"4657.16,1018.49 4657.16,1423.18 4726.65,1423.18 4726.65,1018.49 4657.16,1018.49 \"/>\n",
       "<path clip-path=\"url(#clip622)\" d=\"M4726.65 1099.43 L4726.65 1423.18 L4796.15 1423.18 L4796.15 1099.43 L4726.65 1099.43 L4726.65 1099.43  Z\" fill=\"#009af9\" fill-rule=\"evenodd\" fill-opacity=\"1\"/>\n",
       "<polyline clip-path=\"url(#clip622)\" style=\"stroke:#000000; stroke-linecap:round; stroke-linejoin:round; stroke-width:4; stroke-opacity:1; fill:none\" points=\"4726.65,1099.43 4726.65,1423.18 4796.15,1423.18 4796.15,1099.43 4726.65,1099.43 \"/>\n",
       "<path clip-path=\"url(#clip622)\" d=\"M4796.15 694.743 L4796.15 1423.18 L4865.64 1423.18 L4865.64 694.743 L4796.15 694.743 L4796.15 694.743  Z\" fill=\"#009af9\" fill-rule=\"evenodd\" fill-opacity=\"1\"/>\n",
       "<polyline clip-path=\"url(#clip622)\" style=\"stroke:#000000; stroke-linecap:round; stroke-linejoin:round; stroke-width:4; stroke-opacity:1; fill:none\" points=\"4796.15,694.743 4796.15,1423.18 4865.64,1423.18 4865.64,694.743 4796.15,694.743 \"/>\n",
       "<path clip-path=\"url(#clip622)\" d=\"M4865.64 1261.31 L4865.64 1423.18 L4935.14 1423.18 L4935.14 1261.31 L4865.64 1261.31 L4865.64 1261.31  Z\" fill=\"#009af9\" fill-rule=\"evenodd\" fill-opacity=\"1\"/>\n",
       "<polyline clip-path=\"url(#clip622)\" style=\"stroke:#000000; stroke-linecap:round; stroke-linejoin:round; stroke-width:4; stroke-opacity:1; fill:none\" points=\"4865.64,1261.31 4865.64,1423.18 4935.14,1423.18 4935.14,1261.31 4865.64,1261.31 \"/>\n",
       "<path clip-path=\"url(#clip622)\" d=\"M4935.14 1180.37 L4935.14 1423.18 L5004.63 1423.18 L5004.63 1180.37 L4935.14 1180.37 L4935.14 1180.37  Z\" fill=\"#009af9\" fill-rule=\"evenodd\" fill-opacity=\"1\"/>\n",
       "<polyline clip-path=\"url(#clip622)\" style=\"stroke:#000000; stroke-linecap:round; stroke-linejoin:round; stroke-width:4; stroke-opacity:1; fill:none\" points=\"4935.14,1180.37 4935.14,1423.18 5004.63,1423.18 5004.63,1180.37 4935.14,1180.37 \"/>\n",
       "<path clip-path=\"url(#clip622)\" d=\"M5004.63 1342.24 L5004.63 1423.18 L5074.13 1423.18 L5074.13 1342.24 L5004.63 1342.24 L5004.63 1342.24  Z\" fill=\"#009af9\" fill-rule=\"evenodd\" fill-opacity=\"1\"/>\n",
       "<polyline clip-path=\"url(#clip622)\" style=\"stroke:#000000; stroke-linecap:round; stroke-linejoin:round; stroke-width:4; stroke-opacity:1; fill:none\" points=\"5004.63,1342.24 5004.63,1423.18 5074.13,1423.18 5074.13,1342.24 5004.63,1342.24 \"/>\n",
       "<path clip-path=\"url(#clip622)\" d=\"M5074.13 1261.31 L5074.13 1423.18 L5143.62 1423.18 L5143.62 1261.31 L5074.13 1261.31 L5074.13 1261.31  Z\" fill=\"#009af9\" fill-rule=\"evenodd\" fill-opacity=\"1\"/>\n",
       "<polyline clip-path=\"url(#clip622)\" style=\"stroke:#000000; stroke-linecap:round; stroke-linejoin:round; stroke-width:4; stroke-opacity:1; fill:none\" points=\"5074.13,1261.31 5074.13,1423.18 5143.62,1423.18 5143.62,1261.31 5074.13,1261.31 \"/>\n",
       "<path clip-path=\"url(#clip622)\" d=\"M5143.62 1018.49 L5143.62 1423.18 L5213.12 1423.18 L5213.12 1018.49 L5143.62 1018.49 L5143.62 1018.49  Z\" fill=\"#009af9\" fill-rule=\"evenodd\" fill-opacity=\"1\"/>\n",
       "<polyline clip-path=\"url(#clip622)\" style=\"stroke:#000000; stroke-linecap:round; stroke-linejoin:round; stroke-width:4; stroke-opacity:1; fill:none\" points=\"5143.62,1018.49 5143.62,1423.18 5213.12,1423.18 5213.12,1018.49 5143.62,1018.49 \"/>\n",
       "<path clip-path=\"url(#clip622)\" d=\"M5213.12 1180.37 L5213.12 1423.18 L5282.61 1423.18 L5282.61 1180.37 L5213.12 1180.37 L5213.12 1180.37  Z\" fill=\"#009af9\" fill-rule=\"evenodd\" fill-opacity=\"1\"/>\n",
       "<polyline clip-path=\"url(#clip622)\" style=\"stroke:#000000; stroke-linecap:round; stroke-linejoin:round; stroke-width:4; stroke-opacity:1; fill:none\" points=\"5213.12,1180.37 5213.12,1423.18 5282.61,1423.18 5282.61,1180.37 5213.12,1180.37 \"/>\n",
       "<path clip-path=\"url(#clip622)\" d=\"M5282.61 1261.31 L5282.61 1423.18 L5352.11 1423.18 L5352.11 1261.31 L5282.61 1261.31 L5282.61 1261.31  Z\" fill=\"#009af9\" fill-rule=\"evenodd\" fill-opacity=\"1\"/>\n",
       "<polyline clip-path=\"url(#clip622)\" style=\"stroke:#000000; stroke-linecap:round; stroke-linejoin:round; stroke-width:4; stroke-opacity:1; fill:none\" points=\"5282.61,1261.31 5282.61,1423.18 5352.11,1423.18 5352.11,1261.31 5282.61,1261.31 \"/>\n",
       "<path clip-path=\"url(#clip622)\" d=\"M5352.11 937.555 L5352.11 1423.18 L5421.6 1423.18 L5421.6 937.555 L5352.11 937.555 L5352.11 937.555  Z\" fill=\"#009af9\" fill-rule=\"evenodd\" fill-opacity=\"1\"/>\n",
       "<polyline clip-path=\"url(#clip622)\" style=\"stroke:#000000; stroke-linecap:round; stroke-linejoin:round; stroke-width:4; stroke-opacity:1; fill:none\" points=\"5352.11,937.555 5352.11,1423.18 5421.6,1423.18 5421.6,937.555 5352.11,937.555 \"/>\n",
       "<path clip-path=\"url(#clip622)\" d=\"M5421.6 1342.24 L5421.6 1423.18 L5491.1 1423.18 L5491.1 1342.24 L5421.6 1342.24 L5421.6 1342.24  Z\" fill=\"#009af9\" fill-rule=\"evenodd\" fill-opacity=\"1\"/>\n",
       "<polyline clip-path=\"url(#clip622)\" style=\"stroke:#000000; stroke-linecap:round; stroke-linejoin:round; stroke-width:4; stroke-opacity:1; fill:none\" points=\"5421.6,1342.24 5421.6,1423.18 5491.1,1423.18 5491.1,1342.24 5421.6,1342.24 \"/>\n",
       "<path clip-path=\"url(#clip622)\" d=\"M5491.1 1018.49 L5491.1 1423.18 L5560.59 1423.18 L5560.59 1018.49 L5491.1 1018.49 L5491.1 1018.49  Z\" fill=\"#009af9\" fill-rule=\"evenodd\" fill-opacity=\"1\"/>\n",
       "<polyline clip-path=\"url(#clip622)\" style=\"stroke:#000000; stroke-linecap:round; stroke-linejoin:round; stroke-width:4; stroke-opacity:1; fill:none\" points=\"5491.1,1018.49 5491.1,1423.18 5560.59,1423.18 5560.59,1018.49 5491.1,1018.49 \"/>\n",
       "<path clip-path=\"url(#clip622)\" d=\"M5560.59 1099.43 L5560.59 1423.18 L5630.09 1423.18 L5630.09 1099.43 L5560.59 1099.43 L5560.59 1099.43  Z\" fill=\"#009af9\" fill-rule=\"evenodd\" fill-opacity=\"1\"/>\n",
       "<polyline clip-path=\"url(#clip622)\" style=\"stroke:#000000; stroke-linecap:round; stroke-linejoin:round; stroke-width:4; stroke-opacity:1; fill:none\" points=\"5560.59,1099.43 5560.59,1423.18 5630.09,1423.18 5630.09,1099.43 5560.59,1099.43 \"/>\n",
       "<path clip-path=\"url(#clip622)\" d=\"M5630.09 1099.43 L5630.09 1423.18 L5699.58 1423.18 L5699.58 1099.43 L5630.09 1099.43 L5630.09 1099.43  Z\" fill=\"#009af9\" fill-rule=\"evenodd\" fill-opacity=\"1\"/>\n",
       "<polyline clip-path=\"url(#clip622)\" style=\"stroke:#000000; stroke-linecap:round; stroke-linejoin:round; stroke-width:4; stroke-opacity:1; fill:none\" points=\"5630.09,1099.43 5630.09,1423.18 5699.58,1423.18 5699.58,1099.43 5630.09,1099.43 \"/>\n",
       "<path clip-path=\"url(#clip622)\" d=\"M5699.58 1180.37 L5699.58 1423.18 L5769.08 1423.18 L5769.08 1180.37 L5699.58 1180.37 L5699.58 1180.37  Z\" fill=\"#009af9\" fill-rule=\"evenodd\" fill-opacity=\"1\"/>\n",
       "<polyline clip-path=\"url(#clip622)\" style=\"stroke:#000000; stroke-linecap:round; stroke-linejoin:round; stroke-width:4; stroke-opacity:1; fill:none\" points=\"5699.58,1180.37 5699.58,1423.18 5769.08,1423.18 5769.08,1180.37 5699.58,1180.37 \"/>\n",
       "<path clip-path=\"url(#clip622)\" d=\"M5769.08 856.618 L5769.08 1423.18 L5838.58 1423.18 L5838.58 856.618 L5769.08 856.618 L5769.08 856.618  Z\" fill=\"#009af9\" fill-rule=\"evenodd\" fill-opacity=\"1\"/>\n",
       "<polyline clip-path=\"url(#clip622)\" style=\"stroke:#000000; stroke-linecap:round; stroke-linejoin:round; stroke-width:4; stroke-opacity:1; fill:none\" points=\"5769.08,856.618 5769.08,1423.18 5838.58,1423.18 5838.58,856.618 5769.08,856.618 \"/>\n",
       "<path clip-path=\"url(#clip622)\" d=\"M5838.58 937.555 L5838.58 1423.18 L5908.07 1423.18 L5908.07 937.555 L5838.58 937.555 L5838.58 937.555  Z\" fill=\"#009af9\" fill-rule=\"evenodd\" fill-opacity=\"1\"/>\n",
       "<polyline clip-path=\"url(#clip622)\" style=\"stroke:#000000; stroke-linecap:round; stroke-linejoin:round; stroke-width:4; stroke-opacity:1; fill:none\" points=\"5838.58,937.555 5838.58,1423.18 5908.07,1423.18 5908.07,937.555 5838.58,937.555 \"/>\n",
       "<path clip-path=\"url(#clip622)\" d=\"M5908.07 1342.24 L5908.07 1423.18 L5977.57 1423.18 L5977.57 1342.24 L5908.07 1342.24 L5908.07 1342.24  Z\" fill=\"#009af9\" fill-rule=\"evenodd\" fill-opacity=\"1\"/>\n",
       "<polyline clip-path=\"url(#clip622)\" style=\"stroke:#000000; stroke-linecap:round; stroke-linejoin:round; stroke-width:4; stroke-opacity:1; fill:none\" points=\"5908.07,1342.24 5908.07,1423.18 5977.57,1423.18 5977.57,1342.24 5908.07,1342.24 \"/>\n",
       "<path clip-path=\"url(#clip622)\" d=\"M5977.57 1018.49 L5977.57 1423.18 L6047.06 1423.18 L6047.06 1018.49 L5977.57 1018.49 L5977.57 1018.49  Z\" fill=\"#009af9\" fill-rule=\"evenodd\" fill-opacity=\"1\"/>\n",
       "<polyline clip-path=\"url(#clip622)\" style=\"stroke:#000000; stroke-linecap:round; stroke-linejoin:round; stroke-width:4; stroke-opacity:1; fill:none\" points=\"5977.57,1018.49 5977.57,1423.18 6047.06,1423.18 6047.06,1018.49 5977.57,1018.49 \"/>\n",
       "<path clip-path=\"url(#clip622)\" d=\"M6047.06 1261.31 L6047.06 1423.18 L6116.56 1423.18 L6116.56 1261.31 L6047.06 1261.31 L6047.06 1261.31  Z\" fill=\"#009af9\" fill-rule=\"evenodd\" fill-opacity=\"1\"/>\n",
       "<polyline clip-path=\"url(#clip622)\" style=\"stroke:#000000; stroke-linecap:round; stroke-linejoin:round; stroke-width:4; stroke-opacity:1; fill:none\" points=\"6047.06,1261.31 6047.06,1423.18 6116.56,1423.18 6116.56,1261.31 6047.06,1261.31 \"/>\n",
       "<path clip-path=\"url(#clip622)\" d=\"M6116.56 1342.24 L6116.56 1423.18 L6186.05 1423.18 L6186.05 1342.24 L6116.56 1342.24 L6116.56 1342.24  Z\" fill=\"#009af9\" fill-rule=\"evenodd\" fill-opacity=\"1\"/>\n",
       "<polyline clip-path=\"url(#clip622)\" style=\"stroke:#000000; stroke-linecap:round; stroke-linejoin:round; stroke-width:4; stroke-opacity:1; fill:none\" points=\"6116.56,1342.24 6116.56,1423.18 6186.05,1423.18 6186.05,1342.24 6116.56,1342.24 \"/>\n",
       "<path clip-path=\"url(#clip622)\" d=\"M6186.05 1342.24 L6186.05 1423.18 L6255.55 1423.18 L6255.55 1342.24 L6186.05 1342.24 L6186.05 1342.24  Z\" fill=\"#009af9\" fill-rule=\"evenodd\" fill-opacity=\"1\"/>\n",
       "<polyline clip-path=\"url(#clip622)\" style=\"stroke:#000000; stroke-linecap:round; stroke-linejoin:round; stroke-width:4; stroke-opacity:1; fill:none\" points=\"6186.05,1342.24 6186.05,1423.18 6255.55,1423.18 6255.55,1342.24 6186.05,1342.24 \"/>\n",
       "<path clip-path=\"url(#clip622)\" d=\"M6255.55 1261.31 L6255.55 1423.18 L6325.04 1423.18 L6325.04 1261.31 L6255.55 1261.31 L6255.55 1261.31  Z\" fill=\"#009af9\" fill-rule=\"evenodd\" fill-opacity=\"1\"/>\n",
       "<polyline clip-path=\"url(#clip622)\" style=\"stroke:#000000; stroke-linecap:round; stroke-linejoin:round; stroke-width:4; stroke-opacity:1; fill:none\" points=\"6255.55,1261.31 6255.55,1423.18 6325.04,1423.18 6325.04,1261.31 6255.55,1261.31 \"/>\n",
       "<path clip-path=\"url(#clip622)\" d=\"M6325.04 1180.37 L6325.04 1423.18 L6394.54 1423.18 L6394.54 1180.37 L6325.04 1180.37 L6325.04 1180.37  Z\" fill=\"#009af9\" fill-rule=\"evenodd\" fill-opacity=\"1\"/>\n",
       "<polyline clip-path=\"url(#clip622)\" style=\"stroke:#000000; stroke-linecap:round; stroke-linejoin:round; stroke-width:4; stroke-opacity:1; fill:none\" points=\"6325.04,1180.37 6325.04,1423.18 6394.54,1423.18 6394.54,1180.37 6325.04,1180.37 \"/>\n",
       "<path clip-path=\"url(#clip622)\" d=\"M6394.54 1180.37 L6394.54 1423.18 L6464.03 1423.18 L6464.03 1180.37 L6394.54 1180.37 L6394.54 1180.37  Z\" fill=\"#009af9\" fill-rule=\"evenodd\" fill-opacity=\"1\"/>\n",
       "<polyline clip-path=\"url(#clip622)\" style=\"stroke:#000000; stroke-linecap:round; stroke-linejoin:round; stroke-width:4; stroke-opacity:1; fill:none\" points=\"6394.54,1180.37 6394.54,1423.18 6464.03,1423.18 6464.03,1180.37 6394.54,1180.37 \"/>\n",
       "<path clip-path=\"url(#clip622)\" d=\"M6464.03 1180.37 L6464.03 1423.18 L6533.53 1423.18 L6533.53 1180.37 L6464.03 1180.37 L6464.03 1180.37  Z\" fill=\"#009af9\" fill-rule=\"evenodd\" fill-opacity=\"1\"/>\n",
       "<polyline clip-path=\"url(#clip622)\" style=\"stroke:#000000; stroke-linecap:round; stroke-linejoin:round; stroke-width:4; stroke-opacity:1; fill:none\" points=\"6464.03,1180.37 6464.03,1423.18 6533.53,1423.18 6533.53,1180.37 6464.03,1180.37 \"/>\n",
       "<path clip-path=\"url(#clip622)\" d=\"M6533.53 1099.43 L6533.53 1423.18 L6603.02 1423.18 L6603.02 1099.43 L6533.53 1099.43 L6533.53 1099.43  Z\" fill=\"#009af9\" fill-rule=\"evenodd\" fill-opacity=\"1\"/>\n",
       "<polyline clip-path=\"url(#clip622)\" style=\"stroke:#000000; stroke-linecap:round; stroke-linejoin:round; stroke-width:4; stroke-opacity:1; fill:none\" points=\"6533.53,1099.43 6533.53,1423.18 6603.02,1423.18 6603.02,1099.43 6533.53,1099.43 \"/>\n",
       "<path clip-path=\"url(#clip622)\" d=\"M6603.02 1342.24 L6603.02 1423.18 L6672.52 1423.18 L6672.52 1342.24 L6603.02 1342.24 L6603.02 1342.24  Z\" fill=\"#009af9\" fill-rule=\"evenodd\" fill-opacity=\"1\"/>\n",
       "<polyline clip-path=\"url(#clip622)\" style=\"stroke:#000000; stroke-linecap:round; stroke-linejoin:round; stroke-width:4; stroke-opacity:1; fill:none\" points=\"6603.02,1342.24 6603.02,1423.18 6672.52,1423.18 6672.52,1342.24 6603.02,1342.24 \"/>\n",
       "<path clip-path=\"url(#clip622)\" d=\"M6672.52 1180.37 L6672.52 1423.18 L6742.01 1423.18 L6742.01 1180.37 L6672.52 1180.37 L6672.52 1180.37  Z\" fill=\"#009af9\" fill-rule=\"evenodd\" fill-opacity=\"1\"/>\n",
       "<polyline clip-path=\"url(#clip622)\" style=\"stroke:#000000; stroke-linecap:round; stroke-linejoin:round; stroke-width:4; stroke-opacity:1; fill:none\" points=\"6672.52,1180.37 6672.52,1423.18 6742.01,1423.18 6742.01,1180.37 6672.52,1180.37 \"/>\n",
       "<path clip-path=\"url(#clip622)\" d=\"M6742.01 1342.24 L6742.01 1423.18 L6811.51 1423.18 L6811.51 1342.24 L6742.01 1342.24 L6742.01 1342.24  Z\" fill=\"#009af9\" fill-rule=\"evenodd\" fill-opacity=\"1\"/>\n",
       "<polyline clip-path=\"url(#clip622)\" style=\"stroke:#000000; stroke-linecap:round; stroke-linejoin:round; stroke-width:4; stroke-opacity:1; fill:none\" points=\"6742.01,1342.24 6742.01,1423.18 6811.51,1423.18 6811.51,1342.24 6742.01,1342.24 \"/>\n",
       "<path clip-path=\"url(#clip622)\" d=\"M6811.51 1342.24 L6811.51 1423.18 L6881.01 1423.18 L6881.01 1342.24 L6811.51 1342.24 L6811.51 1342.24  Z\" fill=\"#009af9\" fill-rule=\"evenodd\" fill-opacity=\"1\"/>\n",
       "<polyline clip-path=\"url(#clip622)\" style=\"stroke:#000000; stroke-linecap:round; stroke-linejoin:round; stroke-width:4; stroke-opacity:1; fill:none\" points=\"6811.51,1342.24 6811.51,1423.18 6881.01,1423.18 6881.01,1342.24 6811.51,1342.24 \"/>\n",
       "<path clip-path=\"url(#clip622)\" d=\"M6881.01 1261.31 L6881.01 1423.18 L6950.5 1423.18 L6950.5 1261.31 L6881.01 1261.31 L6881.01 1261.31  Z\" fill=\"#009af9\" fill-rule=\"evenodd\" fill-opacity=\"1\"/>\n",
       "<polyline clip-path=\"url(#clip622)\" style=\"stroke:#000000; stroke-linecap:round; stroke-linejoin:round; stroke-width:4; stroke-opacity:1; fill:none\" points=\"6881.01,1261.31 6881.01,1423.18 6950.5,1423.18 6950.5,1261.31 6881.01,1261.31 \"/>\n",
       "<path clip-path=\"url(#clip622)\" d=\"M6950.5 1342.24 L6950.5 1423.18 L7020 1423.18 L7020 1342.24 L6950.5 1342.24 L6950.5 1342.24  Z\" fill=\"#009af9\" fill-rule=\"evenodd\" fill-opacity=\"1\"/>\n",
       "<polyline clip-path=\"url(#clip622)\" style=\"stroke:#000000; stroke-linecap:round; stroke-linejoin:round; stroke-width:4; stroke-opacity:1; fill:none\" points=\"6950.5,1342.24 6950.5,1423.18 7020,1423.18 7020,1342.24 6950.5,1342.24 \"/>\n",
       "<path clip-path=\"url(#clip622)\" d=\"M7020 1261.31 L7020 1423.18 L7089.49 1423.18 L7089.49 1261.31 L7020 1261.31 L7020 1261.31  Z\" fill=\"#009af9\" fill-rule=\"evenodd\" fill-opacity=\"1\"/>\n",
       "<polyline clip-path=\"url(#clip622)\" style=\"stroke:#000000; stroke-linecap:round; stroke-linejoin:round; stroke-width:4; stroke-opacity:1; fill:none\" points=\"7020,1261.31 7020,1423.18 7089.49,1423.18 7089.49,1261.31 7020,1261.31 \"/>\n",
       "<path clip-path=\"url(#clip622)\" d=\"M7089.49 1261.31 L7089.49 1423.18 L7158.99 1423.18 L7158.99 1261.31 L7089.49 1261.31 L7089.49 1261.31  Z\" fill=\"#009af9\" fill-rule=\"evenodd\" fill-opacity=\"1\"/>\n",
       "<polyline clip-path=\"url(#clip622)\" style=\"stroke:#000000; stroke-linecap:round; stroke-linejoin:round; stroke-width:4; stroke-opacity:1; fill:none\" points=\"7089.49,1261.31 7089.49,1423.18 7158.99,1423.18 7158.99,1261.31 7089.49,1261.31 \"/>\n",
       "<path clip-path=\"url(#clip622)\" d=\"M7158.99 1180.37 L7158.99 1423.18 L7228.48 1423.18 L7228.48 1180.37 L7158.99 1180.37 L7158.99 1180.37  Z\" fill=\"#009af9\" fill-rule=\"evenodd\" fill-opacity=\"1\"/>\n",
       "<polyline clip-path=\"url(#clip622)\" style=\"stroke:#000000; stroke-linecap:round; stroke-linejoin:round; stroke-width:4; stroke-opacity:1; fill:none\" points=\"7158.99,1180.37 7158.99,1423.18 7228.48,1423.18 7228.48,1180.37 7158.99,1180.37 \"/>\n",
       "<path clip-path=\"url(#clip622)\" d=\"M7228.48 1423.18 L7228.48 1423.18 L7297.98 1423.18 L7297.98 1423.18 L7228.48 1423.18 L7228.48 1423.18  Z\" fill=\"#009af9\" fill-rule=\"evenodd\" fill-opacity=\"1\"/>\n",
       "<polyline clip-path=\"url(#clip622)\" style=\"stroke:#000000; stroke-linecap:round; stroke-linejoin:round; stroke-width:4; stroke-opacity:1; fill:none\" points=\"7228.48,1423.18 7228.48,1423.18 7297.98,1423.18 7228.48,1423.18 \"/>\n",
       "<path clip-path=\"url(#clip622)\" d=\"M7297.98 1342.24 L7297.98 1423.18 L7367.47 1423.18 L7367.47 1342.24 L7297.98 1342.24 L7297.98 1342.24  Z\" fill=\"#009af9\" fill-rule=\"evenodd\" fill-opacity=\"1\"/>\n",
       "<polyline clip-path=\"url(#clip622)\" style=\"stroke:#000000; stroke-linecap:round; stroke-linejoin:round; stroke-width:4; stroke-opacity:1; fill:none\" points=\"7297.98,1342.24 7297.98,1423.18 7367.47,1423.18 7367.47,1342.24 7297.98,1342.24 \"/>\n",
       "<path clip-path=\"url(#clip622)\" d=\"M7367.47 1423.18 L7367.47 1423.18 L7436.97 1423.18 L7436.97 1423.18 L7367.47 1423.18 L7367.47 1423.18  Z\" fill=\"#009af9\" fill-rule=\"evenodd\" fill-opacity=\"1\"/>\n",
       "<polyline clip-path=\"url(#clip622)\" style=\"stroke:#000000; stroke-linecap:round; stroke-linejoin:round; stroke-width:4; stroke-opacity:1; fill:none\" points=\"7367.47,1423.18 7367.47,1423.18 7436.97,1423.18 7367.47,1423.18 \"/>\n",
       "<path clip-path=\"url(#clip622)\" d=\"M7436.97 1261.31 L7436.97 1423.18 L7506.46 1423.18 L7506.46 1261.31 L7436.97 1261.31 L7436.97 1261.31  Z\" fill=\"#009af9\" fill-rule=\"evenodd\" fill-opacity=\"1\"/>\n",
       "<polyline clip-path=\"url(#clip622)\" style=\"stroke:#000000; stroke-linecap:round; stroke-linejoin:round; stroke-width:4; stroke-opacity:1; fill:none\" points=\"7436.97,1261.31 7436.97,1423.18 7506.46,1423.18 7506.46,1261.31 7436.97,1261.31 \"/>\n",
       "<path clip-path=\"url(#clip622)\" d=\"M7506.46 1261.31 L7506.46 1423.18 L7575.96 1423.18 L7575.96 1261.31 L7506.46 1261.31 L7506.46 1261.31  Z\" fill=\"#009af9\" fill-rule=\"evenodd\" fill-opacity=\"1\"/>\n",
       "<polyline clip-path=\"url(#clip622)\" style=\"stroke:#000000; stroke-linecap:round; stroke-linejoin:round; stroke-width:4; stroke-opacity:1; fill:none\" points=\"7506.46,1261.31 7506.46,1423.18 7575.96,1423.18 7575.96,1261.31 7506.46,1261.31 \"/>\n",
       "<path clip-path=\"url(#clip622)\" d=\"M7575.96 1423.18 L7575.96 1423.18 L7645.45 1423.18 L7645.45 1423.18 L7575.96 1423.18 L7575.96 1423.18  Z\" fill=\"#009af9\" fill-rule=\"evenodd\" fill-opacity=\"1\"/>\n",
       "<polyline clip-path=\"url(#clip622)\" style=\"stroke:#000000; stroke-linecap:round; stroke-linejoin:round; stroke-width:4; stroke-opacity:1; fill:none\" points=\"7575.96,1423.18 7575.96,1423.18 7645.45,1423.18 7575.96,1423.18 \"/>\n",
       "<path clip-path=\"url(#clip622)\" d=\"M7645.45 1342.24 L7645.45 1423.18 L7714.95 1423.18 L7714.95 1342.24 L7645.45 1342.24 L7645.45 1342.24  Z\" fill=\"#009af9\" fill-rule=\"evenodd\" fill-opacity=\"1\"/>\n",
       "<polyline clip-path=\"url(#clip622)\" style=\"stroke:#000000; stroke-linecap:round; stroke-linejoin:round; stroke-width:4; stroke-opacity:1; fill:none\" points=\"7645.45,1342.24 7645.45,1423.18 7714.95,1423.18 7714.95,1342.24 7645.45,1342.24 \"/>\n",
       "<path clip-path=\"url(#clip622)\" d=\"M7714.95 1342.24 L7714.95 1423.18 L7784.44 1423.18 L7784.44 1342.24 L7714.95 1342.24 L7714.95 1342.24  Z\" fill=\"#009af9\" fill-rule=\"evenodd\" fill-opacity=\"1\"/>\n",
       "<polyline clip-path=\"url(#clip622)\" style=\"stroke:#000000; stroke-linecap:round; stroke-linejoin:round; stroke-width:4; stroke-opacity:1; fill:none\" points=\"7714.95,1342.24 7714.95,1423.18 7784.44,1423.18 7784.44,1342.24 7714.95,1342.24 \"/>\n",
       "<path clip-path=\"url(#clip622)\" d=\"M7784.44 1423.18 L7784.44 1423.18 L7853.94 1423.18 L7853.94 1423.18 L7784.44 1423.18 L7784.44 1423.18  Z\" fill=\"#009af9\" fill-rule=\"evenodd\" fill-opacity=\"1\"/>\n",
       "<polyline clip-path=\"url(#clip622)\" style=\"stroke:#000000; stroke-linecap:round; stroke-linejoin:round; stroke-width:4; stroke-opacity:1; fill:none\" points=\"7784.44,1423.18 7784.44,1423.18 7853.94,1423.18 7784.44,1423.18 \"/>\n",
       "<path clip-path=\"url(#clip622)\" d=\"M7853.94 1423.18 L7853.94 1423.18 L7923.44 1423.18 L7923.44 1423.18 L7853.94 1423.18 L7853.94 1423.18  Z\" fill=\"#009af9\" fill-rule=\"evenodd\" fill-opacity=\"1\"/>\n",
       "<polyline clip-path=\"url(#clip622)\" style=\"stroke:#000000; stroke-linecap:round; stroke-linejoin:round; stroke-width:4; stroke-opacity:1; fill:none\" points=\"7853.94,1423.18 7853.94,1423.18 7923.44,1423.18 7853.94,1423.18 \"/>\n",
       "<path clip-path=\"url(#clip622)\" d=\"M7923.44 1423.18 L7923.44 1423.18 L7992.93 1423.18 L7992.93 1423.18 L7923.44 1423.18 L7923.44 1423.18  Z\" fill=\"#009af9\" fill-rule=\"evenodd\" fill-opacity=\"1\"/>\n",
       "<polyline clip-path=\"url(#clip622)\" style=\"stroke:#000000; stroke-linecap:round; stroke-linejoin:round; stroke-width:4; stroke-opacity:1; fill:none\" points=\"7923.44,1423.18 7923.44,1423.18 7992.93,1423.18 7923.44,1423.18 \"/>\n",
       "<path clip-path=\"url(#clip622)\" d=\"M7992.93 1423.18 L7992.93 1423.18 L8062.43 1423.18 L8062.43 1423.18 L7992.93 1423.18 L7992.93 1423.18  Z\" fill=\"#009af9\" fill-rule=\"evenodd\" fill-opacity=\"1\"/>\n",
       "<polyline clip-path=\"url(#clip622)\" style=\"stroke:#000000; stroke-linecap:round; stroke-linejoin:round; stroke-width:4; stroke-opacity:1; fill:none\" points=\"7992.93,1423.18 7992.93,1423.18 8062.43,1423.18 7992.93,1423.18 \"/>\n",
       "<path clip-path=\"url(#clip622)\" d=\"M8062.43 1423.18 L8062.43 1423.18 L8131.92 1423.18 L8131.92 1423.18 L8062.43 1423.18 L8062.43 1423.18  Z\" fill=\"#009af9\" fill-rule=\"evenodd\" fill-opacity=\"1\"/>\n",
       "<polyline clip-path=\"url(#clip622)\" style=\"stroke:#000000; stroke-linecap:round; stroke-linejoin:round; stroke-width:4; stroke-opacity:1; fill:none\" points=\"8062.43,1423.18 8062.43,1423.18 8131.92,1423.18 8062.43,1423.18 \"/>\n",
       "<path clip-path=\"url(#clip622)\" d=\"M8131.92 1423.18 L8131.92 1423.18 L8201.42 1423.18 L8201.42 1423.18 L8131.92 1423.18 L8131.92 1423.18  Z\" fill=\"#009af9\" fill-rule=\"evenodd\" fill-opacity=\"1\"/>\n",
       "<polyline clip-path=\"url(#clip622)\" style=\"stroke:#000000; stroke-linecap:round; stroke-linejoin:round; stroke-width:4; stroke-opacity:1; fill:none\" points=\"8131.92,1423.18 8131.92,1423.18 8201.42,1423.18 8131.92,1423.18 \"/>\n",
       "<path clip-path=\"url(#clip622)\" d=\"M8201.42 1423.18 L8201.42 1423.18 L8270.91 1423.18 L8270.91 1423.18 L8201.42 1423.18 L8201.42 1423.18  Z\" fill=\"#009af9\" fill-rule=\"evenodd\" fill-opacity=\"1\"/>\n",
       "<polyline clip-path=\"url(#clip622)\" style=\"stroke:#000000; stroke-linecap:round; stroke-linejoin:round; stroke-width:4; stroke-opacity:1; fill:none\" points=\"8201.42,1423.18 8201.42,1423.18 8270.91,1423.18 8201.42,1423.18 \"/>\n",
       "<path clip-path=\"url(#clip622)\" d=\"M8270.91 1423.18 L8270.91 1423.18 L8340.41 1423.18 L8340.41 1423.18 L8270.91 1423.18 L8270.91 1423.18  Z\" fill=\"#009af9\" fill-rule=\"evenodd\" fill-opacity=\"1\"/>\n",
       "<polyline clip-path=\"url(#clip622)\" style=\"stroke:#000000; stroke-linecap:round; stroke-linejoin:round; stroke-width:4; stroke-opacity:1; fill:none\" points=\"8270.91,1423.18 8270.91,1423.18 8340.41,1423.18 8270.91,1423.18 \"/>\n",
       "<path clip-path=\"url(#clip622)\" d=\"M8340.41 1342.24 L8340.41 1423.18 L8409.9 1423.18 L8409.9 1342.24 L8340.41 1342.24 L8340.41 1342.24  Z\" fill=\"#009af9\" fill-rule=\"evenodd\" fill-opacity=\"1\"/>\n",
       "<polyline clip-path=\"url(#clip622)\" style=\"stroke:#000000; stroke-linecap:round; stroke-linejoin:round; stroke-width:4; stroke-opacity:1; fill:none\" points=\"8340.41,1342.24 8340.41,1423.18 8409.9,1423.18 8409.9,1342.24 8340.41,1342.24 \"/>\n",
       "<path clip-path=\"url(#clip622)\" d=\"M8409.9 1342.24 L8409.9 1423.18 L8479.4 1423.18 L8479.4 1342.24 L8409.9 1342.24 L8409.9 1342.24  Z\" fill=\"#009af9\" fill-rule=\"evenodd\" fill-opacity=\"1\"/>\n",
       "<polyline clip-path=\"url(#clip622)\" style=\"stroke:#000000; stroke-linecap:round; stroke-linejoin:round; stroke-width:4; stroke-opacity:1; fill:none\" points=\"8409.9,1342.24 8409.9,1423.18 8479.4,1423.18 8479.4,1342.24 8409.9,1342.24 \"/>\n",
       "<path clip-path=\"url(#clip622)\" d=\"M8479.4 1423.18 L8479.4 1423.18 L8548.89 1423.18 L8548.89 1423.18 L8479.4 1423.18 L8479.4 1423.18  Z\" fill=\"#009af9\" fill-rule=\"evenodd\" fill-opacity=\"1\"/>\n",
       "<polyline clip-path=\"url(#clip622)\" style=\"stroke:#000000; stroke-linecap:round; stroke-linejoin:round; stroke-width:4; stroke-opacity:1; fill:none\" points=\"8479.4,1423.18 8479.4,1423.18 8548.89,1423.18 8479.4,1423.18 \"/>\n",
       "<path clip-path=\"url(#clip622)\" d=\"M8548.89 1342.24 L8548.89 1423.18 L8618.39 1423.18 L8618.39 1342.24 L8548.89 1342.24 L8548.89 1342.24  Z\" fill=\"#009af9\" fill-rule=\"evenodd\" fill-opacity=\"1\"/>\n",
       "<polyline clip-path=\"url(#clip622)\" style=\"stroke:#000000; stroke-linecap:round; stroke-linejoin:round; stroke-width:4; stroke-opacity:1; fill:none\" points=\"8548.89,1342.24 8548.89,1423.18 8618.39,1423.18 8618.39,1342.24 8548.89,1342.24 \"/>\n",
       "<path clip-path=\"url(#clip622)\" d=\"M8618.39 1423.18 L8618.39 1423.18 L8687.88 1423.18 L8687.88 1423.18 L8618.39 1423.18 L8618.39 1423.18  Z\" fill=\"#009af9\" fill-rule=\"evenodd\" fill-opacity=\"1\"/>\n",
       "<polyline clip-path=\"url(#clip622)\" style=\"stroke:#000000; stroke-linecap:round; stroke-linejoin:round; stroke-width:4; stroke-opacity:1; fill:none\" points=\"8618.39,1423.18 8618.39,1423.18 8687.88,1423.18 8618.39,1423.18 \"/>\n",
       "<path clip-path=\"url(#clip622)\" d=\"M8687.88 1423.18 L8687.88 1423.18 L8757.38 1423.18 L8757.38 1423.18 L8687.88 1423.18 L8687.88 1423.18  Z\" fill=\"#009af9\" fill-rule=\"evenodd\" fill-opacity=\"1\"/>\n",
       "<polyline clip-path=\"url(#clip622)\" style=\"stroke:#000000; stroke-linecap:round; stroke-linejoin:round; stroke-width:4; stroke-opacity:1; fill:none\" points=\"8687.88,1423.18 8687.88,1423.18 8757.38,1423.18 8687.88,1423.18 \"/>\n",
       "<path clip-path=\"url(#clip622)\" d=\"M8757.38 1261.31 L8757.38 1423.18 L8826.87 1423.18 L8826.87 1261.31 L8757.38 1261.31 L8757.38 1261.31  Z\" fill=\"#009af9\" fill-rule=\"evenodd\" fill-opacity=\"1\"/>\n",
       "<polyline clip-path=\"url(#clip622)\" style=\"stroke:#000000; stroke-linecap:round; stroke-linejoin:round; stroke-width:4; stroke-opacity:1; fill:none\" points=\"8757.38,1261.31 8757.38,1423.18 8826.87,1423.18 8826.87,1261.31 8757.38,1261.31 \"/>\n",
       "<path clip-path=\"url(#clip622)\" d=\"M8826.87 1423.18 L8826.87 1423.18 L8896.37 1423.18 L8896.37 1423.18 L8826.87 1423.18 L8826.87 1423.18  Z\" fill=\"#009af9\" fill-rule=\"evenodd\" fill-opacity=\"1\"/>\n",
       "<polyline clip-path=\"url(#clip622)\" style=\"stroke:#000000; stroke-linecap:round; stroke-linejoin:round; stroke-width:4; stroke-opacity:1; fill:none\" points=\"8826.87,1423.18 8826.87,1423.18 8896.37,1423.18 8826.87,1423.18 \"/>\n",
       "<path clip-path=\"url(#clip622)\" d=\"M8896.37 1423.18 L8896.37 1423.18 L8965.86 1423.18 L8965.86 1423.18 L8896.37 1423.18 L8896.37 1423.18  Z\" fill=\"#009af9\" fill-rule=\"evenodd\" fill-opacity=\"1\"/>\n",
       "<polyline clip-path=\"url(#clip622)\" style=\"stroke:#000000; stroke-linecap:round; stroke-linejoin:round; stroke-width:4; stroke-opacity:1; fill:none\" points=\"8896.37,1423.18 8896.37,1423.18 8965.86,1423.18 8896.37,1423.18 \"/>\n",
       "<path clip-path=\"url(#clip622)\" d=\"M8965.86 1423.18 L8965.86 1423.18 L9035.36 1423.18 L9035.36 1423.18 L8965.86 1423.18 L8965.86 1423.18  Z\" fill=\"#009af9\" fill-rule=\"evenodd\" fill-opacity=\"1\"/>\n",
       "<polyline clip-path=\"url(#clip622)\" style=\"stroke:#000000; stroke-linecap:round; stroke-linejoin:round; stroke-width:4; stroke-opacity:1; fill:none\" points=\"8965.86,1423.18 8965.86,1423.18 9035.36,1423.18 8965.86,1423.18 \"/>\n",
       "<path clip-path=\"url(#clip622)\" d=\"M9035.36 1342.24 L9035.36 1423.18 L9104.86 1423.18 L9104.86 1342.24 L9035.36 1342.24 L9035.36 1342.24  Z\" fill=\"#009af9\" fill-rule=\"evenodd\" fill-opacity=\"1\"/>\n",
       "<polyline clip-path=\"url(#clip622)\" style=\"stroke:#000000; stroke-linecap:round; stroke-linejoin:round; stroke-width:4; stroke-opacity:1; fill:none\" points=\"9035.36,1342.24 9035.36,1423.18 9104.86,1423.18 9104.86,1342.24 9035.36,1342.24 \"/>\n",
       "<path clip-path=\"url(#clip622)\" d=\"M9104.86 1423.18 L9104.86 1423.18 L9174.35 1423.18 L9174.35 1423.18 L9104.86 1423.18 L9104.86 1423.18  Z\" fill=\"#009af9\" fill-rule=\"evenodd\" fill-opacity=\"1\"/>\n",
       "<polyline clip-path=\"url(#clip622)\" style=\"stroke:#000000; stroke-linecap:round; stroke-linejoin:round; stroke-width:4; stroke-opacity:1; fill:none\" points=\"9104.86,1423.18 9104.86,1423.18 9174.35,1423.18 9104.86,1423.18 \"/>\n",
       "<path clip-path=\"url(#clip622)\" d=\"M9174.35 1423.18 L9174.35 1423.18 L9243.85 1423.18 L9243.85 1423.18 L9174.35 1423.18 L9174.35 1423.18  Z\" fill=\"#009af9\" fill-rule=\"evenodd\" fill-opacity=\"1\"/>\n",
       "<polyline clip-path=\"url(#clip622)\" style=\"stroke:#000000; stroke-linecap:round; stroke-linejoin:round; stroke-width:4; stroke-opacity:1; fill:none\" points=\"9174.35,1423.18 9174.35,1423.18 9243.85,1423.18 9174.35,1423.18 \"/>\n",
       "<path clip-path=\"url(#clip622)\" d=\"M9243.85 1342.24 L9243.85 1423.18 L9313.34 1423.18 L9313.34 1342.24 L9243.85 1342.24 L9243.85 1342.24  Z\" fill=\"#009af9\" fill-rule=\"evenodd\" fill-opacity=\"1\"/>\n",
       "<polyline clip-path=\"url(#clip622)\" style=\"stroke:#000000; stroke-linecap:round; stroke-linejoin:round; stroke-width:4; stroke-opacity:1; fill:none\" points=\"9243.85,1342.24 9243.85,1423.18 9313.34,1423.18 9313.34,1342.24 9243.85,1342.24 \"/>\n",
       "<path clip-path=\"url(#clip622)\" d=\"M9313.34 1423.18 L9313.34 1423.18 L9382.84 1423.18 L9382.84 1423.18 L9313.34 1423.18 L9313.34 1423.18  Z\" fill=\"#009af9\" fill-rule=\"evenodd\" fill-opacity=\"1\"/>\n",
       "<polyline clip-path=\"url(#clip622)\" style=\"stroke:#000000; stroke-linecap:round; stroke-linejoin:round; stroke-width:4; stroke-opacity:1; fill:none\" points=\"9313.34,1423.18 9313.34,1423.18 9382.84,1423.18 9313.34,1423.18 \"/>\n",
       "<path clip-path=\"url(#clip622)\" d=\"M9382.84 1342.24 L9382.84 1423.18 L9452.33 1423.18 L9452.33 1342.24 L9382.84 1342.24 L9382.84 1342.24  Z\" fill=\"#009af9\" fill-rule=\"evenodd\" fill-opacity=\"1\"/>\n",
       "<polyline clip-path=\"url(#clip622)\" style=\"stroke:#000000; stroke-linecap:round; stroke-linejoin:round; stroke-width:4; stroke-opacity:1; fill:none\" points=\"9382.84,1342.24 9382.84,1423.18 9452.33,1423.18 9452.33,1342.24 9382.84,1342.24 \"/>\n",
       "<path clip-path=\"url(#clip622)\" d=\"M9452.33 1423.18 L9452.33 1423.18 L9521.83 1423.18 L9521.83 1423.18 L9452.33 1423.18 L9452.33 1423.18  Z\" fill=\"#009af9\" fill-rule=\"evenodd\" fill-opacity=\"1\"/>\n",
       "<polyline clip-path=\"url(#clip622)\" style=\"stroke:#000000; stroke-linecap:round; stroke-linejoin:round; stroke-width:4; stroke-opacity:1; fill:none\" points=\"9452.33,1423.18 9452.33,1423.18 9521.83,1423.18 9452.33,1423.18 \"/>\n",
       "<path clip-path=\"url(#clip622)\" d=\"M9521.83 1423.18 L9521.83 1423.18 L9591.32 1423.18 L9591.32 1423.18 L9521.83 1423.18 L9521.83 1423.18  Z\" fill=\"#009af9\" fill-rule=\"evenodd\" fill-opacity=\"1\"/>\n",
       "<polyline clip-path=\"url(#clip622)\" style=\"stroke:#000000; stroke-linecap:round; stroke-linejoin:round; stroke-width:4; stroke-opacity:1; fill:none\" points=\"9521.83,1423.18 9521.83,1423.18 9591.32,1423.18 9521.83,1423.18 \"/>\n",
       "<path clip-path=\"url(#clip622)\" d=\"M9591.32 1423.18 L9591.32 1423.18 L9660.82 1423.18 L9660.82 1423.18 L9591.32 1423.18 L9591.32 1423.18  Z\" fill=\"#009af9\" fill-rule=\"evenodd\" fill-opacity=\"1\"/>\n",
       "<polyline clip-path=\"url(#clip622)\" style=\"stroke:#000000; stroke-linecap:round; stroke-linejoin:round; stroke-width:4; stroke-opacity:1; fill:none\" points=\"9591.32,1423.18 9591.32,1423.18 9660.82,1423.18 9591.32,1423.18 \"/>\n",
       "<path clip-path=\"url(#clip622)\" d=\"M9660.82 1423.18 L9660.82 1423.18 L9730.31 1423.18 L9730.31 1423.18 L9660.82 1423.18 L9660.82 1423.18  Z\" fill=\"#009af9\" fill-rule=\"evenodd\" fill-opacity=\"1\"/>\n",
       "<polyline clip-path=\"url(#clip622)\" style=\"stroke:#000000; stroke-linecap:round; stroke-linejoin:round; stroke-width:4; stroke-opacity:1; fill:none\" points=\"9660.82,1423.18 9660.82,1423.18 9730.31,1423.18 9660.82,1423.18 \"/>\n",
       "<path clip-path=\"url(#clip622)\" d=\"M9730.31 1423.18 L9730.31 1423.18 L9799.81 1423.18 L9799.81 1423.18 L9730.31 1423.18 L9730.31 1423.18  Z\" fill=\"#009af9\" fill-rule=\"evenodd\" fill-opacity=\"1\"/>\n",
       "<polyline clip-path=\"url(#clip622)\" style=\"stroke:#000000; stroke-linecap:round; stroke-linejoin:round; stroke-width:4; stroke-opacity:1; fill:none\" points=\"9730.31,1423.18 9730.31,1423.18 9799.81,1423.18 9730.31,1423.18 \"/>\n",
       "<path clip-path=\"url(#clip622)\" d=\"M9799.81 1342.24 L9799.81 1423.18 L9869.3 1423.18 L9869.3 1342.24 L9799.81 1342.24 L9799.81 1342.24  Z\" fill=\"#009af9\" fill-rule=\"evenodd\" fill-opacity=\"1\"/>\n",
       "<polyline clip-path=\"url(#clip622)\" style=\"stroke:#000000; stroke-linecap:round; stroke-linejoin:round; stroke-width:4; stroke-opacity:1; fill:none\" points=\"9799.81,1342.24 9799.81,1423.18 9869.3,1423.18 9869.3,1342.24 9799.81,1342.24 \"/>\n",
       "<path clip-path=\"url(#clip622)\" d=\"M9869.3 1423.18 L9869.3 1423.18 L9938.8 1423.18 L9938.8 1423.18 L9869.3 1423.18 L9869.3 1423.18  Z\" fill=\"#009af9\" fill-rule=\"evenodd\" fill-opacity=\"1\"/>\n",
       "<polyline clip-path=\"url(#clip622)\" style=\"stroke:#000000; stroke-linecap:round; stroke-linejoin:round; stroke-width:4; stroke-opacity:1; fill:none\" points=\"9869.3,1423.18 9869.3,1423.18 9938.8,1423.18 9869.3,1423.18 \"/>\n",
       "<path clip-path=\"url(#clip622)\" d=\"M9938.8 1423.18 L9938.8 1423.18 L10008.3 1423.18 L10008.3 1423.18 L9938.8 1423.18 L9938.8 1423.18  Z\" fill=\"#009af9\" fill-rule=\"evenodd\" fill-opacity=\"1\"/>\n",
       "<polyline clip-path=\"url(#clip622)\" style=\"stroke:#000000; stroke-linecap:round; stroke-linejoin:round; stroke-width:4; stroke-opacity:1; fill:none\" points=\"9938.8,1423.18 9938.8,1423.18 10008.3,1423.18 9938.8,1423.18 \"/>\n",
       "<path clip-path=\"url(#clip622)\" d=\"M10008.3 1423.18 L10008.3 1423.18 L10077.8 1423.18 L10077.8 1423.18 L10008.3 1423.18 L10008.3 1423.18  Z\" fill=\"#009af9\" fill-rule=\"evenodd\" fill-opacity=\"1\"/>\n",
       "<polyline clip-path=\"url(#clip622)\" style=\"stroke:#000000; stroke-linecap:round; stroke-linejoin:round; stroke-width:4; stroke-opacity:1; fill:none\" points=\"10008.3,1423.18 10008.3,1423.18 10077.8,1423.18 10008.3,1423.18 \"/>\n",
       "<path clip-path=\"url(#clip622)\" d=\"M10077.8 1423.18 L10077.8 1423.18 L10147.3 1423.18 L10147.3 1423.18 L10077.8 1423.18 L10077.8 1423.18  Z\" fill=\"#009af9\" fill-rule=\"evenodd\" fill-opacity=\"1\"/>\n",
       "<polyline clip-path=\"url(#clip622)\" style=\"stroke:#000000; stroke-linecap:round; stroke-linejoin:round; stroke-width:4; stroke-opacity:1; fill:none\" points=\"10077.8,1423.18 10077.8,1423.18 10147.3,1423.18 10077.8,1423.18 \"/>\n",
       "<path clip-path=\"url(#clip622)\" d=\"M10147.3 1423.18 L10147.3 1423.18 L10216.8 1423.18 L10216.8 1423.18 L10147.3 1423.18 L10147.3 1423.18  Z\" fill=\"#009af9\" fill-rule=\"evenodd\" fill-opacity=\"1\"/>\n",
       "<polyline clip-path=\"url(#clip622)\" style=\"stroke:#000000; stroke-linecap:round; stroke-linejoin:round; stroke-width:4; stroke-opacity:1; fill:none\" points=\"10147.3,1423.18 10147.3,1423.18 10216.8,1423.18 10147.3,1423.18 \"/>\n",
       "<path clip-path=\"url(#clip622)\" d=\"M10216.8 1423.18 L10216.8 1423.18 L10286.3 1423.18 L10286.3 1423.18 L10216.8 1423.18 L10216.8 1423.18  Z\" fill=\"#009af9\" fill-rule=\"evenodd\" fill-opacity=\"1\"/>\n",
       "<polyline clip-path=\"url(#clip622)\" style=\"stroke:#000000; stroke-linecap:round; stroke-linejoin:round; stroke-width:4; stroke-opacity:1; fill:none\" points=\"10216.8,1423.18 10216.8,1423.18 10286.3,1423.18 10216.8,1423.18 \"/>\n",
       "<path clip-path=\"url(#clip622)\" d=\"M10286.3 1423.18 L10286.3 1423.18 L10355.8 1423.18 L10355.8 1423.18 L10286.3 1423.18 L10286.3 1423.18  Z\" fill=\"#009af9\" fill-rule=\"evenodd\" fill-opacity=\"1\"/>\n",
       "<polyline clip-path=\"url(#clip622)\" style=\"stroke:#000000; stroke-linecap:round; stroke-linejoin:round; stroke-width:4; stroke-opacity:1; fill:none\" points=\"10286.3,1423.18 10286.3,1423.18 10355.8,1423.18 10286.3,1423.18 \"/>\n",
       "<path clip-path=\"url(#clip622)\" d=\"M10355.8 1423.18 L10355.8 1423.18 L10425.3 1423.18 L10425.3 1423.18 L10355.8 1423.18 L10355.8 1423.18  Z\" fill=\"#009af9\" fill-rule=\"evenodd\" fill-opacity=\"1\"/>\n",
       "<polyline clip-path=\"url(#clip622)\" style=\"stroke:#000000; stroke-linecap:round; stroke-linejoin:round; stroke-width:4; stroke-opacity:1; fill:none\" points=\"10355.8,1423.18 10355.8,1423.18 10425.3,1423.18 10355.8,1423.18 \"/>\n",
       "<path clip-path=\"url(#clip622)\" d=\"M10425.3 1423.18 L10425.3 1423.18 L10494.8 1423.18 L10494.8 1423.18 L10425.3 1423.18 L10425.3 1423.18  Z\" fill=\"#009af9\" fill-rule=\"evenodd\" fill-opacity=\"1\"/>\n",
       "<polyline clip-path=\"url(#clip622)\" style=\"stroke:#000000; stroke-linecap:round; stroke-linejoin:round; stroke-width:4; stroke-opacity:1; fill:none\" points=\"10425.3,1423.18 10425.3,1423.18 10494.8,1423.18 10425.3,1423.18 \"/>\n",
       "<path clip-path=\"url(#clip622)\" d=\"M10494.8 1423.18 L10494.8 1423.18 L10564.3 1423.18 L10564.3 1423.18 L10494.8 1423.18 L10494.8 1423.18  Z\" fill=\"#009af9\" fill-rule=\"evenodd\" fill-opacity=\"1\"/>\n",
       "<polyline clip-path=\"url(#clip622)\" style=\"stroke:#000000; stroke-linecap:round; stroke-linejoin:round; stroke-width:4; stroke-opacity:1; fill:none\" points=\"10494.8,1423.18 10494.8,1423.18 10564.3,1423.18 10494.8,1423.18 \"/>\n",
       "<path clip-path=\"url(#clip622)\" d=\"M10564.3 1423.18 L10564.3 1423.18 L10633.8 1423.18 L10633.8 1423.18 L10564.3 1423.18 L10564.3 1423.18  Z\" fill=\"#009af9\" fill-rule=\"evenodd\" fill-opacity=\"1\"/>\n",
       "<polyline clip-path=\"url(#clip622)\" style=\"stroke:#000000; stroke-linecap:round; stroke-linejoin:round; stroke-width:4; stroke-opacity:1; fill:none\" points=\"10564.3,1423.18 10564.3,1423.18 10633.8,1423.18 10564.3,1423.18 \"/>\n",
       "<path clip-path=\"url(#clip622)\" d=\"M10633.8 1423.18 L10633.8 1423.18 L10703.2 1423.18 L10703.2 1423.18 L10633.8 1423.18 L10633.8 1423.18  Z\" fill=\"#009af9\" fill-rule=\"evenodd\" fill-opacity=\"1\"/>\n",
       "<polyline clip-path=\"url(#clip622)\" style=\"stroke:#000000; stroke-linecap:round; stroke-linejoin:round; stroke-width:4; stroke-opacity:1; fill:none\" points=\"10633.8,1423.18 10633.8,1423.18 10703.2,1423.18 10633.8,1423.18 \"/>\n",
       "<path clip-path=\"url(#clip622)\" d=\"M10703.2 1423.18 L10703.2 1423.18 L10772.7 1423.18 L10772.7 1423.18 L10703.2 1423.18 L10703.2 1423.18  Z\" fill=\"#009af9\" fill-rule=\"evenodd\" fill-opacity=\"1\"/>\n",
       "<polyline clip-path=\"url(#clip622)\" style=\"stroke:#000000; stroke-linecap:round; stroke-linejoin:round; stroke-width:4; stroke-opacity:1; fill:none\" points=\"10703.2,1423.18 10703.2,1423.18 10772.7,1423.18 10703.2,1423.18 \"/>\n",
       "<path clip-path=\"url(#clip622)\" d=\"M10772.7 1423.18 L10772.7 1423.18 L10842.2 1423.18 L10842.2 1423.18 L10772.7 1423.18 L10772.7 1423.18  Z\" fill=\"#009af9\" fill-rule=\"evenodd\" fill-opacity=\"1\"/>\n",
       "<polyline clip-path=\"url(#clip622)\" style=\"stroke:#000000; stroke-linecap:round; stroke-linejoin:round; stroke-width:4; stroke-opacity:1; fill:none\" points=\"10772.7,1423.18 10772.7,1423.18 10842.2,1423.18 10772.7,1423.18 \"/>\n",
       "<path clip-path=\"url(#clip622)\" d=\"M10842.2 1342.24 L10842.2 1423.18 L10911.7 1423.18 L10911.7 1342.24 L10842.2 1342.24 L10842.2 1342.24  Z\" fill=\"#009af9\" fill-rule=\"evenodd\" fill-opacity=\"1\"/>\n",
       "<polyline clip-path=\"url(#clip622)\" style=\"stroke:#000000; stroke-linecap:round; stroke-linejoin:round; stroke-width:4; stroke-opacity:1; fill:none\" points=\"10842.2,1342.24 10842.2,1423.18 10911.7,1423.18 10911.7,1342.24 10842.2,1342.24 \"/>\n",
       "<path clip-path=\"url(#clip622)\" d=\"M10911.7 1423.18 L10911.7 1423.18 L10981.2 1423.18 L10981.2 1423.18 L10911.7 1423.18 L10911.7 1423.18  Z\" fill=\"#009af9\" fill-rule=\"evenodd\" fill-opacity=\"1\"/>\n",
       "<polyline clip-path=\"url(#clip622)\" style=\"stroke:#000000; stroke-linecap:round; stroke-linejoin:round; stroke-width:4; stroke-opacity:1; fill:none\" points=\"10911.7,1423.18 10911.7,1423.18 10981.2,1423.18 10911.7,1423.18 \"/>\n",
       "<path clip-path=\"url(#clip622)\" d=\"M10981.2 1423.18 L10981.2 1423.18 L11050.7 1423.18 L11050.7 1423.18 L10981.2 1423.18 L10981.2 1423.18  Z\" fill=\"#009af9\" fill-rule=\"evenodd\" fill-opacity=\"1\"/>\n",
       "<polyline clip-path=\"url(#clip622)\" style=\"stroke:#000000; stroke-linecap:round; stroke-linejoin:round; stroke-width:4; stroke-opacity:1; fill:none\" points=\"10981.2,1423.18 10981.2,1423.18 11050.7,1423.18 10981.2,1423.18 \"/>\n",
       "<path clip-path=\"url(#clip622)\" d=\"M11050.7 1342.24 L11050.7 1423.18 L11120.2 1423.18 L11120.2 1342.24 L11050.7 1342.24 L11050.7 1342.24  Z\" fill=\"#009af9\" fill-rule=\"evenodd\" fill-opacity=\"1\"/>\n",
       "<polyline clip-path=\"url(#clip622)\" style=\"stroke:#000000; stroke-linecap:round; stroke-linejoin:round; stroke-width:4; stroke-opacity:1; fill:none\" points=\"11050.7,1342.24 11050.7,1423.18 11120.2,1423.18 11120.2,1342.24 11050.7,1342.24 \"/>\n",
       "<path clip-path=\"url(#clip622)\" d=\"M11120.2 1423.18 L11120.2 1423.18 L11189.7 1423.18 L11189.7 1423.18 L11120.2 1423.18 L11120.2 1423.18  Z\" fill=\"#009af9\" fill-rule=\"evenodd\" fill-opacity=\"1\"/>\n",
       "<polyline clip-path=\"url(#clip622)\" style=\"stroke:#000000; stroke-linecap:round; stroke-linejoin:round; stroke-width:4; stroke-opacity:1; fill:none\" points=\"11120.2,1423.18 11120.2,1423.18 11189.7,1423.18 11120.2,1423.18 \"/>\n",
       "<path clip-path=\"url(#clip622)\" d=\"M11189.7 1423.18 L11189.7 1423.18 L11259.2 1423.18 L11259.2 1423.18 L11189.7 1423.18 L11189.7 1423.18  Z\" fill=\"#009af9\" fill-rule=\"evenodd\" fill-opacity=\"1\"/>\n",
       "<polyline clip-path=\"url(#clip622)\" style=\"stroke:#000000; stroke-linecap:round; stroke-linejoin:round; stroke-width:4; stroke-opacity:1; fill:none\" points=\"11189.7,1423.18 11189.7,1423.18 11259.2,1423.18 11189.7,1423.18 \"/>\n",
       "<path clip-path=\"url(#clip622)\" d=\"M11259.2 1423.18 L11259.2 1423.18 L11328.7 1423.18 L11328.7 1423.18 L11259.2 1423.18 L11259.2 1423.18  Z\" fill=\"#009af9\" fill-rule=\"evenodd\" fill-opacity=\"1\"/>\n",
       "<polyline clip-path=\"url(#clip622)\" style=\"stroke:#000000; stroke-linecap:round; stroke-linejoin:round; stroke-width:4; stroke-opacity:1; fill:none\" points=\"11259.2,1423.18 11259.2,1423.18 11328.7,1423.18 11259.2,1423.18 \"/>\n",
       "<path clip-path=\"url(#clip622)\" d=\"M11328.7 1342.24 L11328.7 1423.18 L11398.2 1423.18 L11398.2 1342.24 L11328.7 1342.24 L11328.7 1342.24  Z\" fill=\"#009af9\" fill-rule=\"evenodd\" fill-opacity=\"1\"/>\n",
       "<polyline clip-path=\"url(#clip622)\" style=\"stroke:#000000; stroke-linecap:round; stroke-linejoin:round; stroke-width:4; stroke-opacity:1; fill:none\" points=\"11328.7,1342.24 11328.7,1423.18 11398.2,1423.18 11398.2,1342.24 11328.7,1342.24 \"/>\n",
       "<path clip-path=\"url(#clip622)\" d=\"M11398.2 1423.18 L11398.2 1423.18 L11467.7 1423.18 L11467.7 1423.18 L11398.2 1423.18 L11398.2 1423.18  Z\" fill=\"#009af9\" fill-rule=\"evenodd\" fill-opacity=\"1\"/>\n",
       "<polyline clip-path=\"url(#clip622)\" style=\"stroke:#000000; stroke-linecap:round; stroke-linejoin:round; stroke-width:4; stroke-opacity:1; fill:none\" points=\"11398.2,1423.18 11398.2,1423.18 11467.7,1423.18 11398.2,1423.18 \"/>\n",
       "<path clip-path=\"url(#clip622)\" d=\"M11467.7 1423.18 L11467.7 1423.18 L11537.2 1423.18 L11537.2 1423.18 L11467.7 1423.18 L11467.7 1423.18  Z\" fill=\"#009af9\" fill-rule=\"evenodd\" fill-opacity=\"1\"/>\n",
       "<polyline clip-path=\"url(#clip622)\" style=\"stroke:#000000; stroke-linecap:round; stroke-linejoin:round; stroke-width:4; stroke-opacity:1; fill:none\" points=\"11467.7,1423.18 11467.7,1423.18 11537.2,1423.18 11467.7,1423.18 \"/>\n",
       "<path clip-path=\"url(#clip622)\" d=\"M11537.2 1423.18 L11537.2 1423.18 L11606.7 1423.18 L11606.7 1423.18 L11537.2 1423.18 L11537.2 1423.18  Z\" fill=\"#009af9\" fill-rule=\"evenodd\" fill-opacity=\"1\"/>\n",
       "<polyline clip-path=\"url(#clip622)\" style=\"stroke:#000000; stroke-linecap:round; stroke-linejoin:round; stroke-width:4; stroke-opacity:1; fill:none\" points=\"11537.2,1423.18 11537.2,1423.18 11606.7,1423.18 11537.2,1423.18 \"/>\n",
       "<path clip-path=\"url(#clip622)\" d=\"M11606.7 1423.18 L11606.7 1423.18 L11676.2 1423.18 L11676.2 1423.18 L11606.7 1423.18 L11606.7 1423.18  Z\" fill=\"#009af9\" fill-rule=\"evenodd\" fill-opacity=\"1\"/>\n",
       "<polyline clip-path=\"url(#clip622)\" style=\"stroke:#000000; stroke-linecap:round; stroke-linejoin:round; stroke-width:4; stroke-opacity:1; fill:none\" points=\"11606.7,1423.18 11606.7,1423.18 11676.2,1423.18 11606.7,1423.18 \"/>\n",
       "<path clip-path=\"url(#clip622)\" d=\"M11676.2 1423.18 L11676.2 1423.18 L11745.7 1423.18 L11745.7 1423.18 L11676.2 1423.18 L11676.2 1423.18  Z\" fill=\"#009af9\" fill-rule=\"evenodd\" fill-opacity=\"1\"/>\n",
       "<polyline clip-path=\"url(#clip622)\" style=\"stroke:#000000; stroke-linecap:round; stroke-linejoin:round; stroke-width:4; stroke-opacity:1; fill:none\" points=\"11676.2,1423.18 11676.2,1423.18 11745.7,1423.18 11676.2,1423.18 \"/>\n",
       "<path clip-path=\"url(#clip622)\" d=\"M11745.7 1423.18 L11745.7 1423.18 L11815.2 1423.18 L11815.2 1423.18 L11745.7 1423.18 L11745.7 1423.18  Z\" fill=\"#009af9\" fill-rule=\"evenodd\" fill-opacity=\"1\"/>\n",
       "<polyline clip-path=\"url(#clip622)\" style=\"stroke:#000000; stroke-linecap:round; stroke-linejoin:round; stroke-width:4; stroke-opacity:1; fill:none\" points=\"11745.7,1423.18 11745.7,1423.18 11815.2,1423.18 11745.7,1423.18 \"/>\n",
       "<path clip-path=\"url(#clip622)\" d=\"M11815.2 1423.18 L11815.2 1423.18 L11884.7 1423.18 L11884.7 1423.18 L11815.2 1423.18 L11815.2 1423.18  Z\" fill=\"#009af9\" fill-rule=\"evenodd\" fill-opacity=\"1\"/>\n",
       "<polyline clip-path=\"url(#clip622)\" style=\"stroke:#000000; stroke-linecap:round; stroke-linejoin:round; stroke-width:4; stroke-opacity:1; fill:none\" points=\"11815.2,1423.18 11815.2,1423.18 11884.7,1423.18 11815.2,1423.18 \"/>\n",
       "<path clip-path=\"url(#clip622)\" d=\"M11884.7 1423.18 L11884.7 1423.18 L11954.2 1423.18 L11954.2 1423.18 L11884.7 1423.18 L11884.7 1423.18  Z\" fill=\"#009af9\" fill-rule=\"evenodd\" fill-opacity=\"1\"/>\n",
       "<polyline clip-path=\"url(#clip622)\" style=\"stroke:#000000; stroke-linecap:round; stroke-linejoin:round; stroke-width:4; stroke-opacity:1; fill:none\" points=\"11884.7,1423.18 11884.7,1423.18 11954.2,1423.18 11884.7,1423.18 \"/>\n",
       "<path clip-path=\"url(#clip622)\" d=\"M11954.2 1423.18 L11954.2 1423.18 L12023.7 1423.18 L12023.7 1423.18 L11954.2 1423.18 L11954.2 1423.18  Z\" fill=\"#009af9\" fill-rule=\"evenodd\" fill-opacity=\"1\"/>\n",
       "<polyline clip-path=\"url(#clip622)\" style=\"stroke:#000000; stroke-linecap:round; stroke-linejoin:round; stroke-width:4; stroke-opacity:1; fill:none\" points=\"11954.2,1423.18 11954.2,1423.18 12023.7,1423.18 11954.2,1423.18 \"/>\n",
       "<path clip-path=\"url(#clip622)\" d=\"M12023.7 1423.18 L12023.7 1423.18 L12093.2 1423.18 L12093.2 1423.18 L12023.7 1423.18 L12023.7 1423.18  Z\" fill=\"#009af9\" fill-rule=\"evenodd\" fill-opacity=\"1\"/>\n",
       "<polyline clip-path=\"url(#clip622)\" style=\"stroke:#000000; stroke-linecap:round; stroke-linejoin:round; stroke-width:4; stroke-opacity:1; fill:none\" points=\"12023.7,1423.18 12023.7,1423.18 12093.2,1423.18 12023.7,1423.18 \"/>\n",
       "<path clip-path=\"url(#clip622)\" d=\"M12093.2 1423.18 L12093.2 1423.18 L12162.6 1423.18 L12162.6 1423.18 L12093.2 1423.18 L12093.2 1423.18  Z\" fill=\"#009af9\" fill-rule=\"evenodd\" fill-opacity=\"1\"/>\n",
       "<polyline clip-path=\"url(#clip622)\" style=\"stroke:#000000; stroke-linecap:round; stroke-linejoin:round; stroke-width:4; stroke-opacity:1; fill:none\" points=\"12093.2,1423.18 12093.2,1423.18 12162.6,1423.18 12093.2,1423.18 \"/>\n",
       "<path clip-path=\"url(#clip622)\" d=\"M12162.6 1423.18 L12162.6 1423.18 L12232.1 1423.18 L12232.1 1423.18 L12162.6 1423.18 L12162.6 1423.18  Z\" fill=\"#009af9\" fill-rule=\"evenodd\" fill-opacity=\"1\"/>\n",
       "<polyline clip-path=\"url(#clip622)\" style=\"stroke:#000000; stroke-linecap:round; stroke-linejoin:round; stroke-width:4; stroke-opacity:1; fill:none\" points=\"12162.6,1423.18 12162.6,1423.18 12232.1,1423.18 12162.6,1423.18 \"/>\n",
       "<path clip-path=\"url(#clip622)\" d=\"M12232.1 1423.18 L12232.1 1423.18 L12301.6 1423.18 L12301.6 1423.18 L12232.1 1423.18 L12232.1 1423.18  Z\" fill=\"#009af9\" fill-rule=\"evenodd\" fill-opacity=\"1\"/>\n",
       "<polyline clip-path=\"url(#clip622)\" style=\"stroke:#000000; stroke-linecap:round; stroke-linejoin:round; stroke-width:4; stroke-opacity:1; fill:none\" points=\"12232.1,1423.18 12232.1,1423.18 12301.6,1423.18 12232.1,1423.18 \"/>\n",
       "<path clip-path=\"url(#clip622)\" d=\"M12301.6 1423.18 L12301.6 1423.18 L12371.1 1423.18 L12371.1 1423.18 L12301.6 1423.18 L12301.6 1423.18  Z\" fill=\"#009af9\" fill-rule=\"evenodd\" fill-opacity=\"1\"/>\n",
       "<polyline clip-path=\"url(#clip622)\" style=\"stroke:#000000; stroke-linecap:round; stroke-linejoin:round; stroke-width:4; stroke-opacity:1; fill:none\" points=\"12301.6,1423.18 12301.6,1423.18 12371.1,1423.18 12301.6,1423.18 \"/>\n",
       "<path clip-path=\"url(#clip622)\" d=\"M12371.1 1423.18 L12371.1 1423.18 L12440.6 1423.18 L12440.6 1423.18 L12371.1 1423.18 L12371.1 1423.18  Z\" fill=\"#009af9\" fill-rule=\"evenodd\" fill-opacity=\"1\"/>\n",
       "<polyline clip-path=\"url(#clip622)\" style=\"stroke:#000000; stroke-linecap:round; stroke-linejoin:round; stroke-width:4; stroke-opacity:1; fill:none\" points=\"12371.1,1423.18 12371.1,1423.18 12440.6,1423.18 12371.1,1423.18 \"/>\n",
       "<path clip-path=\"url(#clip622)\" d=\"M12440.6 1423.18 L12440.6 1423.18 L12510.1 1423.18 L12510.1 1423.18 L12440.6 1423.18 L12440.6 1423.18  Z\" fill=\"#009af9\" fill-rule=\"evenodd\" fill-opacity=\"1\"/>\n",
       "<polyline clip-path=\"url(#clip622)\" style=\"stroke:#000000; stroke-linecap:round; stroke-linejoin:round; stroke-width:4; stroke-opacity:1; fill:none\" points=\"12440.6,1423.18 12440.6,1423.18 12510.1,1423.18 12440.6,1423.18 \"/>\n",
       "<path clip-path=\"url(#clip622)\" d=\"M12510.1 1423.18 L12510.1 1423.18 L12579.6 1423.18 L12579.6 1423.18 L12510.1 1423.18 L12510.1 1423.18  Z\" fill=\"#009af9\" fill-rule=\"evenodd\" fill-opacity=\"1\"/>\n",
       "<polyline clip-path=\"url(#clip622)\" style=\"stroke:#000000; stroke-linecap:round; stroke-linejoin:round; stroke-width:4; stroke-opacity:1; fill:none\" points=\"12510.1,1423.18 12510.1,1423.18 12579.6,1423.18 12510.1,1423.18 \"/>\n",
       "<path clip-path=\"url(#clip622)\" d=\"M12579.6 1423.18 L12579.6 1423.18 L12649.1 1423.18 L12649.1 1423.18 L12579.6 1423.18 L12579.6 1423.18  Z\" fill=\"#009af9\" fill-rule=\"evenodd\" fill-opacity=\"1\"/>\n",
       "<polyline clip-path=\"url(#clip622)\" style=\"stroke:#000000; stroke-linecap:round; stroke-linejoin:round; stroke-width:4; stroke-opacity:1; fill:none\" points=\"12579.6,1423.18 12579.6,1423.18 12649.1,1423.18 12579.6,1423.18 \"/>\n",
       "<path clip-path=\"url(#clip622)\" d=\"M12649.1 1423.18 L12649.1 1423.18 L12718.6 1423.18 L12718.6 1423.18 L12649.1 1423.18 L12649.1 1423.18  Z\" fill=\"#009af9\" fill-rule=\"evenodd\" fill-opacity=\"1\"/>\n",
       "<polyline clip-path=\"url(#clip622)\" style=\"stroke:#000000; stroke-linecap:round; stroke-linejoin:round; stroke-width:4; stroke-opacity:1; fill:none\" points=\"12649.1,1423.18 12649.1,1423.18 12718.6,1423.18 12649.1,1423.18 \"/>\n",
       "<path clip-path=\"url(#clip622)\" d=\"M12718.6 1423.18 L12718.6 1423.18 L12788.1 1423.18 L12788.1 1423.18 L12718.6 1423.18 L12718.6 1423.18  Z\" fill=\"#009af9\" fill-rule=\"evenodd\" fill-opacity=\"1\"/>\n",
       "<polyline clip-path=\"url(#clip622)\" style=\"stroke:#000000; stroke-linecap:round; stroke-linejoin:round; stroke-width:4; stroke-opacity:1; fill:none\" points=\"12718.6,1423.18 12718.6,1423.18 12788.1,1423.18 12718.6,1423.18 \"/>\n",
       "<path clip-path=\"url(#clip622)\" d=\"M12788.1 1423.18 L12788.1 1423.18 L12857.6 1423.18 L12857.6 1423.18 L12788.1 1423.18 L12788.1 1423.18  Z\" fill=\"#009af9\" fill-rule=\"evenodd\" fill-opacity=\"1\"/>\n",
       "<polyline clip-path=\"url(#clip622)\" style=\"stroke:#000000; stroke-linecap:round; stroke-linejoin:round; stroke-width:4; stroke-opacity:1; fill:none\" points=\"12788.1,1423.18 12788.1,1423.18 12857.6,1423.18 12788.1,1423.18 \"/>\n",
       "<path clip-path=\"url(#clip622)\" d=\"M12857.6 1423.18 L12857.6 1423.18 L12927.1 1423.18 L12927.1 1423.18 L12857.6 1423.18 L12857.6 1423.18  Z\" fill=\"#009af9\" fill-rule=\"evenodd\" fill-opacity=\"1\"/>\n",
       "<polyline clip-path=\"url(#clip622)\" style=\"stroke:#000000; stroke-linecap:round; stroke-linejoin:round; stroke-width:4; stroke-opacity:1; fill:none\" points=\"12857.6,1423.18 12857.6,1423.18 12927.1,1423.18 12857.6,1423.18 \"/>\n",
       "<path clip-path=\"url(#clip622)\" d=\"M12927.1 1423.18 L12927.1 1423.18 L12996.6 1423.18 L12996.6 1423.18 L12927.1 1423.18 L12927.1 1423.18  Z\" fill=\"#009af9\" fill-rule=\"evenodd\" fill-opacity=\"1\"/>\n",
       "<polyline clip-path=\"url(#clip622)\" style=\"stroke:#000000; stroke-linecap:round; stroke-linejoin:round; stroke-width:4; stroke-opacity:1; fill:none\" points=\"12927.1,1423.18 12927.1,1423.18 12996.6,1423.18 12927.1,1423.18 \"/>\n",
       "<path clip-path=\"url(#clip622)\" d=\"M12996.6 1423.18 L12996.6 1423.18 L13066.1 1423.18 L13066.1 1423.18 L12996.6 1423.18 L12996.6 1423.18  Z\" fill=\"#009af9\" fill-rule=\"evenodd\" fill-opacity=\"1\"/>\n",
       "<polyline clip-path=\"url(#clip622)\" style=\"stroke:#000000; stroke-linecap:round; stroke-linejoin:round; stroke-width:4; stroke-opacity:1; fill:none\" points=\"12996.6,1423.18 12996.6,1423.18 13066.1,1423.18 12996.6,1423.18 \"/>\n",
       "<path clip-path=\"url(#clip622)\" d=\"M13066.1 1423.18 L13066.1 1423.18 L13135.6 1423.18 L13135.6 1423.18 L13066.1 1423.18 L13066.1 1423.18  Z\" fill=\"#009af9\" fill-rule=\"evenodd\" fill-opacity=\"1\"/>\n",
       "<polyline clip-path=\"url(#clip622)\" style=\"stroke:#000000; stroke-linecap:round; stroke-linejoin:round; stroke-width:4; stroke-opacity:1; fill:none\" points=\"13066.1,1423.18 13066.1,1423.18 13135.6,1423.18 13066.1,1423.18 \"/>\n",
       "<path clip-path=\"url(#clip622)\" d=\"M13135.6 1423.18 L13135.6 1423.18 L13205.1 1423.18 L13205.1 1423.18 L13135.6 1423.18 L13135.6 1423.18  Z\" fill=\"#009af9\" fill-rule=\"evenodd\" fill-opacity=\"1\"/>\n",
       "<polyline clip-path=\"url(#clip622)\" style=\"stroke:#000000; stroke-linecap:round; stroke-linejoin:round; stroke-width:4; stroke-opacity:1; fill:none\" points=\"13135.6,1423.18 13135.6,1423.18 13205.1,1423.18 13135.6,1423.18 \"/>\n",
       "<path clip-path=\"url(#clip622)\" d=\"M13205.1 1423.18 L13205.1 1423.18 L13274.6 1423.18 L13274.6 1423.18 L13205.1 1423.18 L13205.1 1423.18  Z\" fill=\"#009af9\" fill-rule=\"evenodd\" fill-opacity=\"1\"/>\n",
       "<polyline clip-path=\"url(#clip622)\" style=\"stroke:#000000; stroke-linecap:round; stroke-linejoin:round; stroke-width:4; stroke-opacity:1; fill:none\" points=\"13205.1,1423.18 13205.1,1423.18 13274.6,1423.18 13205.1,1423.18 \"/>\n",
       "<path clip-path=\"url(#clip622)\" d=\"M13274.6 1423.18 L13274.6 1423.18 L13344.1 1423.18 L13344.1 1423.18 L13274.6 1423.18 L13274.6 1423.18  Z\" fill=\"#009af9\" fill-rule=\"evenodd\" fill-opacity=\"1\"/>\n",
       "<polyline clip-path=\"url(#clip622)\" style=\"stroke:#000000; stroke-linecap:round; stroke-linejoin:round; stroke-width:4; stroke-opacity:1; fill:none\" points=\"13274.6,1423.18 13274.6,1423.18 13344.1,1423.18 13274.6,1423.18 \"/>\n",
       "<path clip-path=\"url(#clip622)\" d=\"M13344.1 1423.18 L13344.1 1423.18 L13413.6 1423.18 L13413.6 1423.18 L13344.1 1423.18 L13344.1 1423.18  Z\" fill=\"#009af9\" fill-rule=\"evenodd\" fill-opacity=\"1\"/>\n",
       "<polyline clip-path=\"url(#clip622)\" style=\"stroke:#000000; stroke-linecap:round; stroke-linejoin:round; stroke-width:4; stroke-opacity:1; fill:none\" points=\"13344.1,1423.18 13344.1,1423.18 13413.6,1423.18 13344.1,1423.18 \"/>\n",
       "<path clip-path=\"url(#clip622)\" d=\"M13413.6 1423.18 L13413.6 1423.18 L13483.1 1423.18 L13483.1 1423.18 L13413.6 1423.18 L13413.6 1423.18  Z\" fill=\"#009af9\" fill-rule=\"evenodd\" fill-opacity=\"1\"/>\n",
       "<polyline clip-path=\"url(#clip622)\" style=\"stroke:#000000; stroke-linecap:round; stroke-linejoin:round; stroke-width:4; stroke-opacity:1; fill:none\" points=\"13413.6,1423.18 13413.6,1423.18 13483.1,1423.18 13413.6,1423.18 \"/>\n",
       "<path clip-path=\"url(#clip622)\" d=\"M13483.1 1423.18 L13483.1 1423.18 L13552.6 1423.18 L13552.6 1423.18 L13483.1 1423.18 L13483.1 1423.18  Z\" fill=\"#009af9\" fill-rule=\"evenodd\" fill-opacity=\"1\"/>\n",
       "<polyline clip-path=\"url(#clip622)\" style=\"stroke:#000000; stroke-linecap:round; stroke-linejoin:round; stroke-width:4; stroke-opacity:1; fill:none\" points=\"13483.1,1423.18 13483.1,1423.18 13552.6,1423.18 13483.1,1423.18 \"/>\n",
       "<path clip-path=\"url(#clip622)\" d=\"M13552.6 1423.18 L13552.6 1423.18 L13622.1 1423.18 L13622.1 1423.18 L13552.6 1423.18 L13552.6 1423.18  Z\" fill=\"#009af9\" fill-rule=\"evenodd\" fill-opacity=\"1\"/>\n",
       "<polyline clip-path=\"url(#clip622)\" style=\"stroke:#000000; stroke-linecap:round; stroke-linejoin:round; stroke-width:4; stroke-opacity:1; fill:none\" points=\"13552.6,1423.18 13552.6,1423.18 13622.1,1423.18 13552.6,1423.18 \"/>\n",
       "<path clip-path=\"url(#clip622)\" d=\"M13622.1 1423.18 L13622.1 1423.18 L13691.5 1423.18 L13691.5 1423.18 L13622.1 1423.18 L13622.1 1423.18  Z\" fill=\"#009af9\" fill-rule=\"evenodd\" fill-opacity=\"1\"/>\n",
       "<polyline clip-path=\"url(#clip622)\" style=\"stroke:#000000; stroke-linecap:round; stroke-linejoin:round; stroke-width:4; stroke-opacity:1; fill:none\" points=\"13622.1,1423.18 13622.1,1423.18 13691.5,1423.18 13622.1,1423.18 \"/>\n",
       "<path clip-path=\"url(#clip622)\" d=\"M13691.5 1423.18 L13691.5 1423.18 L13761 1423.18 L13761 1423.18 L13691.5 1423.18 L13691.5 1423.18  Z\" fill=\"#009af9\" fill-rule=\"evenodd\" fill-opacity=\"1\"/>\n",
       "<polyline clip-path=\"url(#clip622)\" style=\"stroke:#000000; stroke-linecap:round; stroke-linejoin:round; stroke-width:4; stroke-opacity:1; fill:none\" points=\"13691.5,1423.18 13691.5,1423.18 13761,1423.18 13691.5,1423.18 \"/>\n",
       "<path clip-path=\"url(#clip622)\" d=\"M13761 1423.18 L13761 1423.18 L13830.5 1423.18 L13830.5 1423.18 L13761 1423.18 L13761 1423.18  Z\" fill=\"#009af9\" fill-rule=\"evenodd\" fill-opacity=\"1\"/>\n",
       "<polyline clip-path=\"url(#clip622)\" style=\"stroke:#000000; stroke-linecap:round; stroke-linejoin:round; stroke-width:4; stroke-opacity:1; fill:none\" points=\"13761,1423.18 13761,1423.18 13830.5,1423.18 13761,1423.18 \"/>\n",
       "<path clip-path=\"url(#clip622)\" d=\"M13830.5 1423.18 L13830.5 1423.18 L13900 1423.18 L13900 1423.18 L13830.5 1423.18 L13830.5 1423.18  Z\" fill=\"#009af9\" fill-rule=\"evenodd\" fill-opacity=\"1\"/>\n",
       "<polyline clip-path=\"url(#clip622)\" style=\"stroke:#000000; stroke-linecap:round; stroke-linejoin:round; stroke-width:4; stroke-opacity:1; fill:none\" points=\"13830.5,1423.18 13830.5,1423.18 13900,1423.18 13830.5,1423.18 \"/>\n",
       "<path clip-path=\"url(#clip622)\" d=\"M13900 1423.18 L13900 1423.18 L13969.5 1423.18 L13969.5 1423.18 L13900 1423.18 L13900 1423.18  Z\" fill=\"#009af9\" fill-rule=\"evenodd\" fill-opacity=\"1\"/>\n",
       "<polyline clip-path=\"url(#clip622)\" style=\"stroke:#000000; stroke-linecap:round; stroke-linejoin:round; stroke-width:4; stroke-opacity:1; fill:none\" points=\"13900,1423.18 13900,1423.18 13969.5,1423.18 13900,1423.18 \"/>\n",
       "<path clip-path=\"url(#clip622)\" d=\"M13969.5 1423.18 L13969.5 1423.18 L14039 1423.18 L14039 1423.18 L13969.5 1423.18 L13969.5 1423.18  Z\" fill=\"#009af9\" fill-rule=\"evenodd\" fill-opacity=\"1\"/>\n",
       "<polyline clip-path=\"url(#clip622)\" style=\"stroke:#000000; stroke-linecap:round; stroke-linejoin:round; stroke-width:4; stroke-opacity:1; fill:none\" points=\"13969.5,1423.18 13969.5,1423.18 14039,1423.18 13969.5,1423.18 \"/>\n",
       "<path clip-path=\"url(#clip622)\" d=\"M14039 1423.18 L14039 1423.18 L14108.5 1423.18 L14108.5 1423.18 L14039 1423.18 L14039 1423.18  Z\" fill=\"#009af9\" fill-rule=\"evenodd\" fill-opacity=\"1\"/>\n",
       "<polyline clip-path=\"url(#clip622)\" style=\"stroke:#000000; stroke-linecap:round; stroke-linejoin:round; stroke-width:4; stroke-opacity:1; fill:none\" points=\"14039,1423.18 14039,1423.18 14108.5,1423.18 14039,1423.18 \"/>\n",
       "<path clip-path=\"url(#clip622)\" d=\"M14108.5 1423.18 L14108.5 1423.18 L14178 1423.18 L14178 1423.18 L14108.5 1423.18 L14108.5 1423.18  Z\" fill=\"#009af9\" fill-rule=\"evenodd\" fill-opacity=\"1\"/>\n",
       "<polyline clip-path=\"url(#clip622)\" style=\"stroke:#000000; stroke-linecap:round; stroke-linejoin:round; stroke-width:4; stroke-opacity:1; fill:none\" points=\"14108.5,1423.18 14108.5,1423.18 14178,1423.18 14108.5,1423.18 \"/>\n",
       "<path clip-path=\"url(#clip622)\" d=\"M14178 1423.18 L14178 1423.18 L14247.5 1423.18 L14247.5 1423.18 L14178 1423.18 L14178 1423.18  Z\" fill=\"#009af9\" fill-rule=\"evenodd\" fill-opacity=\"1\"/>\n",
       "<polyline clip-path=\"url(#clip622)\" style=\"stroke:#000000; stroke-linecap:round; stroke-linejoin:round; stroke-width:4; stroke-opacity:1; fill:none\" points=\"14178,1423.18 14178,1423.18 14247.5,1423.18 14178,1423.18 \"/>\n",
       "<path clip-path=\"url(#clip622)\" d=\"M14247.5 1423.18 L14247.5 1423.18 L14317 1423.18 L14317 1423.18 L14247.5 1423.18 L14247.5 1423.18  Z\" fill=\"#009af9\" fill-rule=\"evenodd\" fill-opacity=\"1\"/>\n",
       "<polyline clip-path=\"url(#clip622)\" style=\"stroke:#000000; stroke-linecap:round; stroke-linejoin:round; stroke-width:4; stroke-opacity:1; fill:none\" points=\"14247.5,1423.18 14247.5,1423.18 14317,1423.18 14247.5,1423.18 \"/>\n",
       "<path clip-path=\"url(#clip622)\" d=\"M14317 1423.18 L14317 1423.18 L14386.5 1423.18 L14386.5 1423.18 L14317 1423.18 L14317 1423.18  Z\" fill=\"#009af9\" fill-rule=\"evenodd\" fill-opacity=\"1\"/>\n",
       "<polyline clip-path=\"url(#clip622)\" style=\"stroke:#000000; stroke-linecap:round; stroke-linejoin:round; stroke-width:4; stroke-opacity:1; fill:none\" points=\"14317,1423.18 14317,1423.18 14386.5,1423.18 14317,1423.18 \"/>\n",
       "<path clip-path=\"url(#clip622)\" d=\"M14386.5 1423.18 L14386.5 1423.18 L14456 1423.18 L14456 1423.18 L14386.5 1423.18 L14386.5 1423.18  Z\" fill=\"#009af9\" fill-rule=\"evenodd\" fill-opacity=\"1\"/>\n",
       "<polyline clip-path=\"url(#clip622)\" style=\"stroke:#000000; stroke-linecap:round; stroke-linejoin:round; stroke-width:4; stroke-opacity:1; fill:none\" points=\"14386.5,1423.18 14386.5,1423.18 14456,1423.18 14386.5,1423.18 \"/>\n",
       "<path clip-path=\"url(#clip622)\" d=\"M14456 1423.18 L14456 1423.18 L14525.5 1423.18 L14525.5 1423.18 L14456 1423.18 L14456 1423.18  Z\" fill=\"#009af9\" fill-rule=\"evenodd\" fill-opacity=\"1\"/>\n",
       "<polyline clip-path=\"url(#clip622)\" style=\"stroke:#000000; stroke-linecap:round; stroke-linejoin:round; stroke-width:4; stroke-opacity:1; fill:none\" points=\"14456,1423.18 14456,1423.18 14525.5,1423.18 14456,1423.18 \"/>\n",
       "<path clip-path=\"url(#clip622)\" d=\"M14525.5 1423.18 L14525.5 1423.18 L14595 1423.18 L14595 1423.18 L14525.5 1423.18 L14525.5 1423.18  Z\" fill=\"#009af9\" fill-rule=\"evenodd\" fill-opacity=\"1\"/>\n",
       "<polyline clip-path=\"url(#clip622)\" style=\"stroke:#000000; stroke-linecap:round; stroke-linejoin:round; stroke-width:4; stroke-opacity:1; fill:none\" points=\"14525.5,1423.18 14525.5,1423.18 14595,1423.18 14525.5,1423.18 \"/>\n",
       "<path clip-path=\"url(#clip622)\" d=\"M14595 1423.18 L14595 1423.18 L14664.5 1423.18 L14664.5 1423.18 L14595 1423.18 L14595 1423.18  Z\" fill=\"#009af9\" fill-rule=\"evenodd\" fill-opacity=\"1\"/>\n",
       "<polyline clip-path=\"url(#clip622)\" style=\"stroke:#000000; stroke-linecap:round; stroke-linejoin:round; stroke-width:4; stroke-opacity:1; fill:none\" points=\"14595,1423.18 14595,1423.18 14664.5,1423.18 14595,1423.18 \"/>\n",
       "<path clip-path=\"url(#clip622)\" d=\"M14664.5 1423.18 L14664.5 1423.18 L14734 1423.18 L14734 1423.18 L14664.5 1423.18 L14664.5 1423.18  Z\" fill=\"#009af9\" fill-rule=\"evenodd\" fill-opacity=\"1\"/>\n",
       "<polyline clip-path=\"url(#clip622)\" style=\"stroke:#000000; stroke-linecap:round; stroke-linejoin:round; stroke-width:4; stroke-opacity:1; fill:none\" points=\"14664.5,1423.18 14664.5,1423.18 14734,1423.18 14664.5,1423.18 \"/>\n",
       "<path clip-path=\"url(#clip622)\" d=\"M14734 1423.18 L14734 1423.18 L14803.5 1423.18 L14803.5 1423.18 L14734 1423.18 L14734 1423.18  Z\" fill=\"#009af9\" fill-rule=\"evenodd\" fill-opacity=\"1\"/>\n",
       "<polyline clip-path=\"url(#clip622)\" style=\"stroke:#000000; stroke-linecap:round; stroke-linejoin:round; stroke-width:4; stroke-opacity:1; fill:none\" points=\"14734,1423.18 14734,1423.18 14803.5,1423.18 14734,1423.18 \"/>\n",
       "<path clip-path=\"url(#clip622)\" d=\"M14803.5 1423.18 L14803.5 1423.18 L14873 1423.18 L14873 1423.18 L14803.5 1423.18 L14803.5 1423.18  Z\" fill=\"#009af9\" fill-rule=\"evenodd\" fill-opacity=\"1\"/>\n",
       "<polyline clip-path=\"url(#clip622)\" style=\"stroke:#000000; stroke-linecap:round; stroke-linejoin:round; stroke-width:4; stroke-opacity:1; fill:none\" points=\"14803.5,1423.18 14803.5,1423.18 14873,1423.18 14803.5,1423.18 \"/>\n",
       "<path clip-path=\"url(#clip622)\" d=\"M14873 1423.18 L14873 1423.18 L14942.5 1423.18 L14942.5 1423.18 L14873 1423.18 L14873 1423.18  Z\" fill=\"#009af9\" fill-rule=\"evenodd\" fill-opacity=\"1\"/>\n",
       "<polyline clip-path=\"url(#clip622)\" style=\"stroke:#000000; stroke-linecap:round; stroke-linejoin:round; stroke-width:4; stroke-opacity:1; fill:none\" points=\"14873,1423.18 14873,1423.18 14942.5,1423.18 14873,1423.18 \"/>\n",
       "<path clip-path=\"url(#clip622)\" d=\"M14942.5 1423.18 L14942.5 1423.18 L15012 1423.18 L15012 1423.18 L14942.5 1423.18 L14942.5 1423.18  Z\" fill=\"#009af9\" fill-rule=\"evenodd\" fill-opacity=\"1\"/>\n",
       "<polyline clip-path=\"url(#clip622)\" style=\"stroke:#000000; stroke-linecap:round; stroke-linejoin:round; stroke-width:4; stroke-opacity:1; fill:none\" points=\"14942.5,1423.18 14942.5,1423.18 15012,1423.18 14942.5,1423.18 \"/>\n",
       "<path clip-path=\"url(#clip622)\" d=\"M15012 1423.18 L15012 1423.18 L15081.5 1423.18 L15081.5 1423.18 L15012 1423.18 L15012 1423.18  Z\" fill=\"#009af9\" fill-rule=\"evenodd\" fill-opacity=\"1\"/>\n",
       "<polyline clip-path=\"url(#clip622)\" style=\"stroke:#000000; stroke-linecap:round; stroke-linejoin:round; stroke-width:4; stroke-opacity:1; fill:none\" points=\"15012,1423.18 15012,1423.18 15081.5,1423.18 15012,1423.18 \"/>\n",
       "<path clip-path=\"url(#clip622)\" d=\"M15081.5 1423.18 L15081.5 1423.18 L15150.9 1423.18 L15150.9 1423.18 L15081.5 1423.18 L15081.5 1423.18  Z\" fill=\"#009af9\" fill-rule=\"evenodd\" fill-opacity=\"1\"/>\n",
       "<polyline clip-path=\"url(#clip622)\" style=\"stroke:#000000; stroke-linecap:round; stroke-linejoin:round; stroke-width:4; stroke-opacity:1; fill:none\" points=\"15081.5,1423.18 15081.5,1423.18 15150.9,1423.18 15081.5,1423.18 \"/>\n",
       "<path clip-path=\"url(#clip622)\" d=\"M15150.9 1423.18 L15150.9 1423.18 L15220.4 1423.18 L15220.4 1423.18 L15150.9 1423.18 L15150.9 1423.18  Z\" fill=\"#009af9\" fill-rule=\"evenodd\" fill-opacity=\"1\"/>\n",
       "<polyline clip-path=\"url(#clip622)\" style=\"stroke:#000000; stroke-linecap:round; stroke-linejoin:round; stroke-width:4; stroke-opacity:1; fill:none\" points=\"15150.9,1423.18 15150.9,1423.18 15220.4,1423.18 15150.9,1423.18 \"/>\n",
       "<path clip-path=\"url(#clip622)\" d=\"M15220.4 1423.18 L15220.4 1423.18 L15289.9 1423.18 L15289.9 1423.18 L15220.4 1423.18 L15220.4 1423.18  Z\" fill=\"#009af9\" fill-rule=\"evenodd\" fill-opacity=\"1\"/>\n",
       "<polyline clip-path=\"url(#clip622)\" style=\"stroke:#000000; stroke-linecap:round; stroke-linejoin:round; stroke-width:4; stroke-opacity:1; fill:none\" points=\"15220.4,1423.18 15220.4,1423.18 15289.9,1423.18 15220.4,1423.18 \"/>\n",
       "<path clip-path=\"url(#clip622)\" d=\"M15289.9 1423.18 L15289.9 1423.18 L15359.4 1423.18 L15359.4 1423.18 L15289.9 1423.18 L15289.9 1423.18  Z\" fill=\"#009af9\" fill-rule=\"evenodd\" fill-opacity=\"1\"/>\n",
       "<polyline clip-path=\"url(#clip622)\" style=\"stroke:#000000; stroke-linecap:round; stroke-linejoin:round; stroke-width:4; stroke-opacity:1; fill:none\" points=\"15289.9,1423.18 15289.9,1423.18 15359.4,1423.18 15289.9,1423.18 \"/>\n",
       "<path clip-path=\"url(#clip622)\" d=\"M15359.4 1423.18 L15359.4 1423.18 L15428.9 1423.18 L15428.9 1423.18 L15359.4 1423.18 L15359.4 1423.18  Z\" fill=\"#009af9\" fill-rule=\"evenodd\" fill-opacity=\"1\"/>\n",
       "<polyline clip-path=\"url(#clip622)\" style=\"stroke:#000000; stroke-linecap:round; stroke-linejoin:round; stroke-width:4; stroke-opacity:1; fill:none\" points=\"15359.4,1423.18 15359.4,1423.18 15428.9,1423.18 15359.4,1423.18 \"/>\n",
       "<path clip-path=\"url(#clip622)\" d=\"M15428.9 1423.18 L15428.9 1423.18 L15498.4 1423.18 L15498.4 1423.18 L15428.9 1423.18 L15428.9 1423.18  Z\" fill=\"#009af9\" fill-rule=\"evenodd\" fill-opacity=\"1\"/>\n",
       "<polyline clip-path=\"url(#clip622)\" style=\"stroke:#000000; stroke-linecap:round; stroke-linejoin:round; stroke-width:4; stroke-opacity:1; fill:none\" points=\"15428.9,1423.18 15428.9,1423.18 15498.4,1423.18 15428.9,1423.18 \"/>\n",
       "<path clip-path=\"url(#clip622)\" d=\"M15498.4 1423.18 L15498.4 1423.18 L15567.9 1423.18 L15567.9 1423.18 L15498.4 1423.18 L15498.4 1423.18  Z\" fill=\"#009af9\" fill-rule=\"evenodd\" fill-opacity=\"1\"/>\n",
       "<polyline clip-path=\"url(#clip622)\" style=\"stroke:#000000; stroke-linecap:round; stroke-linejoin:round; stroke-width:4; stroke-opacity:1; fill:none\" points=\"15498.4,1423.18 15498.4,1423.18 15567.9,1423.18 15498.4,1423.18 \"/>\n",
       "<path clip-path=\"url(#clip622)\" d=\"M15567.9 1423.18 L15567.9 1423.18 L15637.4 1423.18 L15637.4 1423.18 L15567.9 1423.18 L15567.9 1423.18  Z\" fill=\"#009af9\" fill-rule=\"evenodd\" fill-opacity=\"1\"/>\n",
       "<polyline clip-path=\"url(#clip622)\" style=\"stroke:#000000; stroke-linecap:round; stroke-linejoin:round; stroke-width:4; stroke-opacity:1; fill:none\" points=\"15567.9,1423.18 15567.9,1423.18 15637.4,1423.18 15567.9,1423.18 \"/>\n",
       "<path clip-path=\"url(#clip622)\" d=\"M15637.4 1423.18 L15637.4 1423.18 L15706.9 1423.18 L15706.9 1423.18 L15637.4 1423.18 L15637.4 1423.18  Z\" fill=\"#009af9\" fill-rule=\"evenodd\" fill-opacity=\"1\"/>\n",
       "<polyline clip-path=\"url(#clip622)\" style=\"stroke:#000000; stroke-linecap:round; stroke-linejoin:round; stroke-width:4; stroke-opacity:1; fill:none\" points=\"15637.4,1423.18 15637.4,1423.18 15706.9,1423.18 15637.4,1423.18 \"/>\n",
       "<path clip-path=\"url(#clip622)\" d=\"M15706.9 1423.18 L15706.9 1423.18 L15776.4 1423.18 L15776.4 1423.18 L15706.9 1423.18 L15706.9 1423.18  Z\" fill=\"#009af9\" fill-rule=\"evenodd\" fill-opacity=\"1\"/>\n",
       "<polyline clip-path=\"url(#clip622)\" style=\"stroke:#000000; stroke-linecap:round; stroke-linejoin:round; stroke-width:4; stroke-opacity:1; fill:none\" points=\"15706.9,1423.18 15706.9,1423.18 15776.4,1423.18 15706.9,1423.18 \"/>\n",
       "<path clip-path=\"url(#clip622)\" d=\"M15776.4 1423.18 L15776.4 1423.18 L15845.9 1423.18 L15845.9 1423.18 L15776.4 1423.18 L15776.4 1423.18  Z\" fill=\"#009af9\" fill-rule=\"evenodd\" fill-opacity=\"1\"/>\n",
       "<polyline clip-path=\"url(#clip622)\" style=\"stroke:#000000; stroke-linecap:round; stroke-linejoin:round; stroke-width:4; stroke-opacity:1; fill:none\" points=\"15776.4,1423.18 15776.4,1423.18 15845.9,1423.18 15776.4,1423.18 \"/>\n",
       "<path clip-path=\"url(#clip622)\" d=\"M15845.9 1423.18 L15845.9 1423.18 L15915.4 1423.18 L15915.4 1423.18 L15845.9 1423.18 L15845.9 1423.18  Z\" fill=\"#009af9\" fill-rule=\"evenodd\" fill-opacity=\"1\"/>\n",
       "<polyline clip-path=\"url(#clip622)\" style=\"stroke:#000000; stroke-linecap:round; stroke-linejoin:round; stroke-width:4; stroke-opacity:1; fill:none\" points=\"15845.9,1423.18 15845.9,1423.18 15915.4,1423.18 15845.9,1423.18 \"/>\n",
       "<path clip-path=\"url(#clip622)\" d=\"M15915.4 1423.18 L15915.4 1423.18 L15984.9 1423.18 L15984.9 1423.18 L15915.4 1423.18 L15915.4 1423.18  Z\" fill=\"#009af9\" fill-rule=\"evenodd\" fill-opacity=\"1\"/>\n",
       "<polyline clip-path=\"url(#clip622)\" style=\"stroke:#000000; stroke-linecap:round; stroke-linejoin:round; stroke-width:4; stroke-opacity:1; fill:none\" points=\"15915.4,1423.18 15915.4,1423.18 15984.9,1423.18 15915.4,1423.18 \"/>\n",
       "<path clip-path=\"url(#clip622)\" d=\"M15984.9 1423.18 L15984.9 1423.18 L16054.4 1423.18 L16054.4 1423.18 L15984.9 1423.18 L15984.9 1423.18  Z\" fill=\"#009af9\" fill-rule=\"evenodd\" fill-opacity=\"1\"/>\n",
       "<polyline clip-path=\"url(#clip622)\" style=\"stroke:#000000; stroke-linecap:round; stroke-linejoin:round; stroke-width:4; stroke-opacity:1; fill:none\" points=\"15984.9,1423.18 15984.9,1423.18 16054.4,1423.18 15984.9,1423.18 \"/>\n",
       "<path clip-path=\"url(#clip622)\" d=\"M16054.4 1423.18 L16054.4 1423.18 L16123.9 1423.18 L16123.9 1423.18 L16054.4 1423.18 L16054.4 1423.18  Z\" fill=\"#009af9\" fill-rule=\"evenodd\" fill-opacity=\"1\"/>\n",
       "<polyline clip-path=\"url(#clip622)\" style=\"stroke:#000000; stroke-linecap:round; stroke-linejoin:round; stroke-width:4; stroke-opacity:1; fill:none\" points=\"16054.4,1423.18 16054.4,1423.18 16123.9,1423.18 16054.4,1423.18 \"/>\n",
       "<path clip-path=\"url(#clip622)\" d=\"M16123.9 1423.18 L16123.9 1423.18 L16193.4 1423.18 L16193.4 1423.18 L16123.9 1423.18 L16123.9 1423.18  Z\" fill=\"#009af9\" fill-rule=\"evenodd\" fill-opacity=\"1\"/>\n",
       "<polyline clip-path=\"url(#clip622)\" style=\"stroke:#000000; stroke-linecap:round; stroke-linejoin:round; stroke-width:4; stroke-opacity:1; fill:none\" points=\"16123.9,1423.18 16123.9,1423.18 16193.4,1423.18 16123.9,1423.18 \"/>\n",
       "<path clip-path=\"url(#clip622)\" d=\"M16193.4 1423.18 L16193.4 1423.18 L16262.9 1423.18 L16262.9 1423.18 L16193.4 1423.18 L16193.4 1423.18  Z\" fill=\"#009af9\" fill-rule=\"evenodd\" fill-opacity=\"1\"/>\n",
       "<polyline clip-path=\"url(#clip622)\" style=\"stroke:#000000; stroke-linecap:round; stroke-linejoin:round; stroke-width:4; stroke-opacity:1; fill:none\" points=\"16193.4,1423.18 16193.4,1423.18 16262.9,1423.18 16193.4,1423.18 \"/>\n",
       "<path clip-path=\"url(#clip622)\" d=\"M16262.9 1423.18 L16262.9 1423.18 L16332.4 1423.18 L16332.4 1423.18 L16262.9 1423.18 L16262.9 1423.18  Z\" fill=\"#009af9\" fill-rule=\"evenodd\" fill-opacity=\"1\"/>\n",
       "<polyline clip-path=\"url(#clip622)\" style=\"stroke:#000000; stroke-linecap:round; stroke-linejoin:round; stroke-width:4; stroke-opacity:1; fill:none\" points=\"16262.9,1423.18 16262.9,1423.18 16332.4,1423.18 16262.9,1423.18 \"/>\n",
       "<path clip-path=\"url(#clip622)\" d=\"M16332.4 1423.18 L16332.4 1423.18 L16401.9 1423.18 L16401.9 1423.18 L16332.4 1423.18 L16332.4 1423.18  Z\" fill=\"#009af9\" fill-rule=\"evenodd\" fill-opacity=\"1\"/>\n",
       "<polyline clip-path=\"url(#clip622)\" style=\"stroke:#000000; stroke-linecap:round; stroke-linejoin:round; stroke-width:4; stroke-opacity:1; fill:none\" points=\"16332.4,1423.18 16332.4,1423.18 16401.9,1423.18 16332.4,1423.18 \"/>\n",
       "<path clip-path=\"url(#clip622)\" d=\"M16401.9 1423.18 L16401.9 1423.18 L16471.4 1423.18 L16471.4 1423.18 L16401.9 1423.18 L16401.9 1423.18  Z\" fill=\"#009af9\" fill-rule=\"evenodd\" fill-opacity=\"1\"/>\n",
       "<polyline clip-path=\"url(#clip622)\" style=\"stroke:#000000; stroke-linecap:round; stroke-linejoin:round; stroke-width:4; stroke-opacity:1; fill:none\" points=\"16401.9,1423.18 16401.9,1423.18 16471.4,1423.18 16401.9,1423.18 \"/>\n",
       "<path clip-path=\"url(#clip622)\" d=\"M16471.4 1423.18 L16471.4 1423.18 L16540.9 1423.18 L16540.9 1423.18 L16471.4 1423.18 L16471.4 1423.18  Z\" fill=\"#009af9\" fill-rule=\"evenodd\" fill-opacity=\"1\"/>\n",
       "<polyline clip-path=\"url(#clip622)\" style=\"stroke:#000000; stroke-linecap:round; stroke-linejoin:round; stroke-width:4; stroke-opacity:1; fill:none\" points=\"16471.4,1423.18 16471.4,1423.18 16540.9,1423.18 16471.4,1423.18 \"/>\n",
       "<path clip-path=\"url(#clip622)\" d=\"M16540.9 1423.18 L16540.9 1423.18 L16610.3 1423.18 L16610.3 1423.18 L16540.9 1423.18 L16540.9 1423.18  Z\" fill=\"#009af9\" fill-rule=\"evenodd\" fill-opacity=\"1\"/>\n",
       "<polyline clip-path=\"url(#clip622)\" style=\"stroke:#000000; stroke-linecap:round; stroke-linejoin:round; stroke-width:4; stroke-opacity:1; fill:none\" points=\"16540.9,1423.18 16540.9,1423.18 16610.3,1423.18 16540.9,1423.18 \"/>\n",
       "<path clip-path=\"url(#clip622)\" d=\"M16610.3 1423.18 L16610.3 1423.18 L16679.8 1423.18 L16679.8 1423.18 L16610.3 1423.18 L16610.3 1423.18  Z\" fill=\"#009af9\" fill-rule=\"evenodd\" fill-opacity=\"1\"/>\n",
       "<polyline clip-path=\"url(#clip622)\" style=\"stroke:#000000; stroke-linecap:round; stroke-linejoin:round; stroke-width:4; stroke-opacity:1; fill:none\" points=\"16610.3,1423.18 16610.3,1423.18 16679.8,1423.18 16610.3,1423.18 \"/>\n",
       "<path clip-path=\"url(#clip622)\" d=\"M16679.8 1423.18 L16679.8 1423.18 L16749.3 1423.18 L16749.3 1423.18 L16679.8 1423.18 L16679.8 1423.18  Z\" fill=\"#009af9\" fill-rule=\"evenodd\" fill-opacity=\"1\"/>\n",
       "<polyline clip-path=\"url(#clip622)\" style=\"stroke:#000000; stroke-linecap:round; stroke-linejoin:round; stroke-width:4; stroke-opacity:1; fill:none\" points=\"16679.8,1423.18 16679.8,1423.18 16749.3,1423.18 16679.8,1423.18 \"/>\n",
       "<path clip-path=\"url(#clip622)\" d=\"M16749.3 1423.18 L16749.3 1423.18 L16818.8 1423.18 L16818.8 1423.18 L16749.3 1423.18 L16749.3 1423.18  Z\" fill=\"#009af9\" fill-rule=\"evenodd\" fill-opacity=\"1\"/>\n",
       "<polyline clip-path=\"url(#clip622)\" style=\"stroke:#000000; stroke-linecap:round; stroke-linejoin:round; stroke-width:4; stroke-opacity:1; fill:none\" points=\"16749.3,1423.18 16749.3,1423.18 16818.8,1423.18 16749.3,1423.18 \"/>\n",
       "<path clip-path=\"url(#clip622)\" d=\"M16818.8 1423.18 L16818.8 1423.18 L16888.3 1423.18 L16888.3 1423.18 L16818.8 1423.18 L16818.8 1423.18  Z\" fill=\"#009af9\" fill-rule=\"evenodd\" fill-opacity=\"1\"/>\n",
       "<polyline clip-path=\"url(#clip622)\" style=\"stroke:#000000; stroke-linecap:round; stroke-linejoin:round; stroke-width:4; stroke-opacity:1; fill:none\" points=\"16818.8,1423.18 16818.8,1423.18 16888.3,1423.18 16818.8,1423.18 \"/>\n",
       "<path clip-path=\"url(#clip622)\" d=\"M16888.3 1423.18 L16888.3 1423.18 L16957.8 1423.18 L16957.8 1423.18 L16888.3 1423.18 L16888.3 1423.18  Z\" fill=\"#009af9\" fill-rule=\"evenodd\" fill-opacity=\"1\"/>\n",
       "<polyline clip-path=\"url(#clip622)\" style=\"stroke:#000000; stroke-linecap:round; stroke-linejoin:round; stroke-width:4; stroke-opacity:1; fill:none\" points=\"16888.3,1423.18 16888.3,1423.18 16957.8,1423.18 16888.3,1423.18 \"/>\n",
       "<path clip-path=\"url(#clip622)\" d=\"M16957.8 1423.18 L16957.8 1423.18 L17027.3 1423.18 L17027.3 1423.18 L16957.8 1423.18 L16957.8 1423.18  Z\" fill=\"#009af9\" fill-rule=\"evenodd\" fill-opacity=\"1\"/>\n",
       "<polyline clip-path=\"url(#clip622)\" style=\"stroke:#000000; stroke-linecap:round; stroke-linejoin:round; stroke-width:4; stroke-opacity:1; fill:none\" points=\"16957.8,1423.18 16957.8,1423.18 17027.3,1423.18 16957.8,1423.18 \"/>\n",
       "<path clip-path=\"url(#clip622)\" d=\"M17027.3 1423.18 L17027.3 1423.18 L17096.8 1423.18 L17096.8 1423.18 L17027.3 1423.18 L17027.3 1423.18  Z\" fill=\"#009af9\" fill-rule=\"evenodd\" fill-opacity=\"1\"/>\n",
       "<polyline clip-path=\"url(#clip622)\" style=\"stroke:#000000; stroke-linecap:round; stroke-linejoin:round; stroke-width:4; stroke-opacity:1; fill:none\" points=\"17027.3,1423.18 17027.3,1423.18 17096.8,1423.18 17027.3,1423.18 \"/>\n",
       "<path clip-path=\"url(#clip622)\" d=\"M17096.8 1423.18 L17096.8 1423.18 L17166.3 1423.18 L17166.3 1423.18 L17096.8 1423.18 L17096.8 1423.18  Z\" fill=\"#009af9\" fill-rule=\"evenodd\" fill-opacity=\"1\"/>\n",
       "<polyline clip-path=\"url(#clip622)\" style=\"stroke:#000000; stroke-linecap:round; stroke-linejoin:round; stroke-width:4; stroke-opacity:1; fill:none\" points=\"17096.8,1423.18 17096.8,1423.18 17166.3,1423.18 17096.8,1423.18 \"/>\n",
       "<path clip-path=\"url(#clip622)\" d=\"M17166.3 1423.18 L17166.3 1423.18 L17235.8 1423.18 L17235.8 1423.18 L17166.3 1423.18 L17166.3 1423.18  Z\" fill=\"#009af9\" fill-rule=\"evenodd\" fill-opacity=\"1\"/>\n",
       "<polyline clip-path=\"url(#clip622)\" style=\"stroke:#000000; stroke-linecap:round; stroke-linejoin:round; stroke-width:4; stroke-opacity:1; fill:none\" points=\"17166.3,1423.18 17166.3,1423.18 17235.8,1423.18 17166.3,1423.18 \"/>\n",
       "<path clip-path=\"url(#clip622)\" d=\"M17235.8 1423.18 L17235.8 1423.18 L17305.3 1423.18 L17305.3 1423.18 L17235.8 1423.18 L17235.8 1423.18  Z\" fill=\"#009af9\" fill-rule=\"evenodd\" fill-opacity=\"1\"/>\n",
       "<polyline clip-path=\"url(#clip622)\" style=\"stroke:#000000; stroke-linecap:round; stroke-linejoin:round; stroke-width:4; stroke-opacity:1; fill:none\" points=\"17235.8,1423.18 17235.8,1423.18 17305.3,1423.18 17235.8,1423.18 \"/>\n",
       "<path clip-path=\"url(#clip622)\" d=\"M17305.3 1423.18 L17305.3 1423.18 L17374.8 1423.18 L17374.8 1423.18 L17305.3 1423.18 L17305.3 1423.18  Z\" fill=\"#009af9\" fill-rule=\"evenodd\" fill-opacity=\"1\"/>\n",
       "<polyline clip-path=\"url(#clip622)\" style=\"stroke:#000000; stroke-linecap:round; stroke-linejoin:round; stroke-width:4; stroke-opacity:1; fill:none\" points=\"17305.3,1423.18 17305.3,1423.18 17374.8,1423.18 17305.3,1423.18 \"/>\n",
       "<path clip-path=\"url(#clip622)\" d=\"M17374.8 1423.18 L17374.8 1423.18 L17444.3 1423.18 L17444.3 1423.18 L17374.8 1423.18 L17374.8 1423.18  Z\" fill=\"#009af9\" fill-rule=\"evenodd\" fill-opacity=\"1\"/>\n",
       "<polyline clip-path=\"url(#clip622)\" style=\"stroke:#000000; stroke-linecap:round; stroke-linejoin:round; stroke-width:4; stroke-opacity:1; fill:none\" points=\"17374.8,1423.18 17374.8,1423.18 17444.3,1423.18 17374.8,1423.18 \"/>\n",
       "<path clip-path=\"url(#clip622)\" d=\"M17444.3 1423.18 L17444.3 1423.18 L17513.8 1423.18 L17513.8 1423.18 L17444.3 1423.18 L17444.3 1423.18  Z\" fill=\"#009af9\" fill-rule=\"evenodd\" fill-opacity=\"1\"/>\n",
       "<polyline clip-path=\"url(#clip622)\" style=\"stroke:#000000; stroke-linecap:round; stroke-linejoin:round; stroke-width:4; stroke-opacity:1; fill:none\" points=\"17444.3,1423.18 17444.3,1423.18 17513.8,1423.18 17444.3,1423.18 \"/>\n",
       "<path clip-path=\"url(#clip622)\" d=\"M17513.8 1423.18 L17513.8 1423.18 L17583.3 1423.18 L17583.3 1423.18 L17513.8 1423.18 L17513.8 1423.18  Z\" fill=\"#009af9\" fill-rule=\"evenodd\" fill-opacity=\"1\"/>\n",
       "<polyline clip-path=\"url(#clip622)\" style=\"stroke:#000000; stroke-linecap:round; stroke-linejoin:round; stroke-width:4; stroke-opacity:1; fill:none\" points=\"17513.8,1423.18 17513.8,1423.18 17583.3,1423.18 17513.8,1423.18 \"/>\n",
       "<path clip-path=\"url(#clip622)\" d=\"M17583.3 1423.18 L17583.3 1423.18 L17652.8 1423.18 L17652.8 1423.18 L17583.3 1423.18 L17583.3 1423.18  Z\" fill=\"#009af9\" fill-rule=\"evenodd\" fill-opacity=\"1\"/>\n",
       "<polyline clip-path=\"url(#clip622)\" style=\"stroke:#000000; stroke-linecap:round; stroke-linejoin:round; stroke-width:4; stroke-opacity:1; fill:none\" points=\"17583.3,1423.18 17583.3,1423.18 17652.8,1423.18 17583.3,1423.18 \"/>\n",
       "<path clip-path=\"url(#clip622)\" d=\"M17652.8 1423.18 L17652.8 1423.18 L17722.3 1423.18 L17722.3 1423.18 L17652.8 1423.18 L17652.8 1423.18  Z\" fill=\"#009af9\" fill-rule=\"evenodd\" fill-opacity=\"1\"/>\n",
       "<polyline clip-path=\"url(#clip622)\" style=\"stroke:#000000; stroke-linecap:round; stroke-linejoin:round; stroke-width:4; stroke-opacity:1; fill:none\" points=\"17652.8,1423.18 17652.8,1423.18 17722.3,1423.18 17652.8,1423.18 \"/>\n",
       "<path clip-path=\"url(#clip622)\" d=\"M17722.3 1423.18 L17722.3 1423.18 L17791.8 1423.18 L17791.8 1423.18 L17722.3 1423.18 L17722.3 1423.18  Z\" fill=\"#009af9\" fill-rule=\"evenodd\" fill-opacity=\"1\"/>\n",
       "<polyline clip-path=\"url(#clip622)\" style=\"stroke:#000000; stroke-linecap:round; stroke-linejoin:round; stroke-width:4; stroke-opacity:1; fill:none\" points=\"17722.3,1423.18 17722.3,1423.18 17791.8,1423.18 17722.3,1423.18 \"/>\n",
       "<path clip-path=\"url(#clip622)\" d=\"M17791.8 1423.18 L17791.8 1423.18 L17861.3 1423.18 L17861.3 1423.18 L17791.8 1423.18 L17791.8 1423.18  Z\" fill=\"#009af9\" fill-rule=\"evenodd\" fill-opacity=\"1\"/>\n",
       "<polyline clip-path=\"url(#clip622)\" style=\"stroke:#000000; stroke-linecap:round; stroke-linejoin:round; stroke-width:4; stroke-opacity:1; fill:none\" points=\"17791.8,1423.18 17791.8,1423.18 17861.3,1423.18 17791.8,1423.18 \"/>\n",
       "<path clip-path=\"url(#clip622)\" d=\"M17861.3 1423.18 L17861.3 1423.18 L17930.8 1423.18 L17930.8 1423.18 L17861.3 1423.18 L17861.3 1423.18  Z\" fill=\"#009af9\" fill-rule=\"evenodd\" fill-opacity=\"1\"/>\n",
       "<polyline clip-path=\"url(#clip622)\" style=\"stroke:#000000; stroke-linecap:round; stroke-linejoin:round; stroke-width:4; stroke-opacity:1; fill:none\" points=\"17861.3,1423.18 17861.3,1423.18 17930.8,1423.18 17861.3,1423.18 \"/>\n",
       "<path clip-path=\"url(#clip622)\" d=\"M17930.8 1423.18 L17930.8 1423.18 L18000.3 1423.18 L18000.3 1423.18 L17930.8 1423.18 L17930.8 1423.18  Z\" fill=\"#009af9\" fill-rule=\"evenodd\" fill-opacity=\"1\"/>\n",
       "<polyline clip-path=\"url(#clip622)\" style=\"stroke:#000000; stroke-linecap:round; stroke-linejoin:round; stroke-width:4; stroke-opacity:1; fill:none\" points=\"17930.8,1423.18 17930.8,1423.18 18000.3,1423.18 17930.8,1423.18 \"/>\n",
       "<path clip-path=\"url(#clip622)\" d=\"M18000.3 1423.18 L18000.3 1423.18 L18069.8 1423.18 L18069.8 1423.18 L18000.3 1423.18 L18000.3 1423.18  Z\" fill=\"#009af9\" fill-rule=\"evenodd\" fill-opacity=\"1\"/>\n",
       "<polyline clip-path=\"url(#clip622)\" style=\"stroke:#000000; stroke-linecap:round; stroke-linejoin:round; stroke-width:4; stroke-opacity:1; fill:none\" points=\"18000.3,1423.18 18000.3,1423.18 18069.8,1423.18 18000.3,1423.18 \"/>\n",
       "<path clip-path=\"url(#clip622)\" d=\"M18069.8 1423.18 L18069.8 1423.18 L18139.2 1423.18 L18139.2 1423.18 L18069.8 1423.18 L18069.8 1423.18  Z\" fill=\"#009af9\" fill-rule=\"evenodd\" fill-opacity=\"1\"/>\n",
       "<polyline clip-path=\"url(#clip622)\" style=\"stroke:#000000; stroke-linecap:round; stroke-linejoin:round; stroke-width:4; stroke-opacity:1; fill:none\" points=\"18069.8,1423.18 18069.8,1423.18 18139.2,1423.18 18069.8,1423.18 \"/>\n",
       "<path clip-path=\"url(#clip622)\" d=\"M18139.2 1423.18 L18139.2 1423.18 L18208.7 1423.18 L18208.7 1423.18 L18139.2 1423.18 L18139.2 1423.18  Z\" fill=\"#009af9\" fill-rule=\"evenodd\" fill-opacity=\"1\"/>\n",
       "<polyline clip-path=\"url(#clip622)\" style=\"stroke:#000000; stroke-linecap:round; stroke-linejoin:round; stroke-width:4; stroke-opacity:1; fill:none\" points=\"18139.2,1423.18 18139.2,1423.18 18208.7,1423.18 18139.2,1423.18 \"/>\n",
       "<path clip-path=\"url(#clip622)\" d=\"M18208.7 1423.18 L18208.7 1423.18 L18278.2 1423.18 L18278.2 1423.18 L18208.7 1423.18 L18208.7 1423.18  Z\" fill=\"#009af9\" fill-rule=\"evenodd\" fill-opacity=\"1\"/>\n",
       "<polyline clip-path=\"url(#clip622)\" style=\"stroke:#000000; stroke-linecap:round; stroke-linejoin:round; stroke-width:4; stroke-opacity:1; fill:none\" points=\"18208.7,1423.18 18208.7,1423.18 18278.2,1423.18 18208.7,1423.18 \"/>\n",
       "<path clip-path=\"url(#clip622)\" d=\"M18278.2 1423.18 L18278.2 1423.18 L18347.7 1423.18 L18347.7 1423.18 L18278.2 1423.18 L18278.2 1423.18  Z\" fill=\"#009af9\" fill-rule=\"evenodd\" fill-opacity=\"1\"/>\n",
       "<polyline clip-path=\"url(#clip622)\" style=\"stroke:#000000; stroke-linecap:round; stroke-linejoin:round; stroke-width:4; stroke-opacity:1; fill:none\" points=\"18278.2,1423.18 18278.2,1423.18 18347.7,1423.18 18278.2,1423.18 \"/>\n",
       "<path clip-path=\"url(#clip622)\" d=\"M18347.7 1423.18 L18347.7 1423.18 L18417.2 1423.18 L18417.2 1423.18 L18347.7 1423.18 L18347.7 1423.18  Z\" fill=\"#009af9\" fill-rule=\"evenodd\" fill-opacity=\"1\"/>\n",
       "<polyline clip-path=\"url(#clip622)\" style=\"stroke:#000000; stroke-linecap:round; stroke-linejoin:round; stroke-width:4; stroke-opacity:1; fill:none\" points=\"18347.7,1423.18 18347.7,1423.18 18417.2,1423.18 18347.7,1423.18 \"/>\n",
       "<path clip-path=\"url(#clip622)\" d=\"M18417.2 1423.18 L18417.2 1423.18 L18486.7 1423.18 L18486.7 1423.18 L18417.2 1423.18 L18417.2 1423.18  Z\" fill=\"#009af9\" fill-rule=\"evenodd\" fill-opacity=\"1\"/>\n",
       "<polyline clip-path=\"url(#clip622)\" style=\"stroke:#000000; stroke-linecap:round; stroke-linejoin:round; stroke-width:4; stroke-opacity:1; fill:none\" points=\"18417.2,1423.18 18417.2,1423.18 18486.7,1423.18 18417.2,1423.18 \"/>\n",
       "<path clip-path=\"url(#clip622)\" d=\"M18486.7 1423.18 L18486.7 1423.18 L18556.2 1423.18 L18556.2 1423.18 L18486.7 1423.18 L18486.7 1423.18  Z\" fill=\"#009af9\" fill-rule=\"evenodd\" fill-opacity=\"1\"/>\n",
       "<polyline clip-path=\"url(#clip622)\" style=\"stroke:#000000; stroke-linecap:round; stroke-linejoin:round; stroke-width:4; stroke-opacity:1; fill:none\" points=\"18486.7,1423.18 18486.7,1423.18 18556.2,1423.18 18486.7,1423.18 \"/>\n",
       "<path clip-path=\"url(#clip622)\" d=\"M18556.2 1423.18 L18556.2 1423.18 L18625.7 1423.18 L18625.7 1423.18 L18556.2 1423.18 L18556.2 1423.18  Z\" fill=\"#009af9\" fill-rule=\"evenodd\" fill-opacity=\"1\"/>\n",
       "<polyline clip-path=\"url(#clip622)\" style=\"stroke:#000000; stroke-linecap:round; stroke-linejoin:round; stroke-width:4; stroke-opacity:1; fill:none\" points=\"18556.2,1423.18 18556.2,1423.18 18625.7,1423.18 18556.2,1423.18 \"/>\n",
       "<path clip-path=\"url(#clip622)\" d=\"M18625.7 1423.18 L18625.7 1423.18 L18695.2 1423.18 L18695.2 1423.18 L18625.7 1423.18 L18625.7 1423.18  Z\" fill=\"#009af9\" fill-rule=\"evenodd\" fill-opacity=\"1\"/>\n",
       "<polyline clip-path=\"url(#clip622)\" style=\"stroke:#000000; stroke-linecap:round; stroke-linejoin:round; stroke-width:4; stroke-opacity:1; fill:none\" points=\"18625.7,1423.18 18625.7,1423.18 18695.2,1423.18 18625.7,1423.18 \"/>\n",
       "<path clip-path=\"url(#clip622)\" d=\"M18695.2 1423.18 L18695.2 1423.18 L18764.7 1423.18 L18764.7 1423.18 L18695.2 1423.18 L18695.2 1423.18  Z\" fill=\"#009af9\" fill-rule=\"evenodd\" fill-opacity=\"1\"/>\n",
       "<polyline clip-path=\"url(#clip622)\" style=\"stroke:#000000; stroke-linecap:round; stroke-linejoin:round; stroke-width:4; stroke-opacity:1; fill:none\" points=\"18695.2,1423.18 18695.2,1423.18 18764.7,1423.18 18695.2,1423.18 \"/>\n",
       "<path clip-path=\"url(#clip622)\" d=\"M18764.7 1423.18 L18764.7 1423.18 L18834.2 1423.18 L18834.2 1423.18 L18764.7 1423.18 L18764.7 1423.18  Z\" fill=\"#009af9\" fill-rule=\"evenodd\" fill-opacity=\"1\"/>\n",
       "<polyline clip-path=\"url(#clip622)\" style=\"stroke:#000000; stroke-linecap:round; stroke-linejoin:round; stroke-width:4; stroke-opacity:1; fill:none\" points=\"18764.7,1423.18 18764.7,1423.18 18834.2,1423.18 18764.7,1423.18 \"/>\n",
       "<path clip-path=\"url(#clip622)\" d=\"M18834.2 1423.18 L18834.2 1423.18 L18903.7 1423.18 L18903.7 1423.18 L18834.2 1423.18 L18834.2 1423.18  Z\" fill=\"#009af9\" fill-rule=\"evenodd\" fill-opacity=\"1\"/>\n",
       "<polyline clip-path=\"url(#clip622)\" style=\"stroke:#000000; stroke-linecap:round; stroke-linejoin:round; stroke-width:4; stroke-opacity:1; fill:none\" points=\"18834.2,1423.18 18834.2,1423.18 18903.7,1423.18 18834.2,1423.18 \"/>\n",
       "<path clip-path=\"url(#clip622)\" d=\"M18903.7 1423.18 L18903.7 1423.18 L18973.2 1423.18 L18973.2 1423.18 L18903.7 1423.18 L18903.7 1423.18  Z\" fill=\"#009af9\" fill-rule=\"evenodd\" fill-opacity=\"1\"/>\n",
       "<polyline clip-path=\"url(#clip622)\" style=\"stroke:#000000; stroke-linecap:round; stroke-linejoin:round; stroke-width:4; stroke-opacity:1; fill:none\" points=\"18903.7,1423.18 18903.7,1423.18 18973.2,1423.18 18903.7,1423.18 \"/>\n",
       "<path clip-path=\"url(#clip622)\" d=\"M18973.2 1423.18 L18973.2 1423.18 L19042.7 1423.18 L19042.7 1423.18 L18973.2 1423.18 L18973.2 1423.18  Z\" fill=\"#009af9\" fill-rule=\"evenodd\" fill-opacity=\"1\"/>\n",
       "<polyline clip-path=\"url(#clip622)\" style=\"stroke:#000000; stroke-linecap:round; stroke-linejoin:round; stroke-width:4; stroke-opacity:1; fill:none\" points=\"18973.2,1423.18 18973.2,1423.18 19042.7,1423.18 18973.2,1423.18 \"/>\n",
       "<path clip-path=\"url(#clip622)\" d=\"M19042.7 1423.18 L19042.7 1423.18 L19112.2 1423.18 L19112.2 1423.18 L19042.7 1423.18 L19042.7 1423.18  Z\" fill=\"#009af9\" fill-rule=\"evenodd\" fill-opacity=\"1\"/>\n",
       "<polyline clip-path=\"url(#clip622)\" style=\"stroke:#000000; stroke-linecap:round; stroke-linejoin:round; stroke-width:4; stroke-opacity:1; fill:none\" points=\"19042.7,1423.18 19042.7,1423.18 19112.2,1423.18 19042.7,1423.18 \"/>\n",
       "<path clip-path=\"url(#clip622)\" d=\"M19112.2 1423.18 L19112.2 1423.18 L19181.7 1423.18 L19181.7 1423.18 L19112.2 1423.18 L19112.2 1423.18  Z\" fill=\"#009af9\" fill-rule=\"evenodd\" fill-opacity=\"1\"/>\n",
       "<polyline clip-path=\"url(#clip622)\" style=\"stroke:#000000; stroke-linecap:round; stroke-linejoin:round; stroke-width:4; stroke-opacity:1; fill:none\" points=\"19112.2,1423.18 19112.2,1423.18 19181.7,1423.18 19112.2,1423.18 \"/>\n",
       "<path clip-path=\"url(#clip622)\" d=\"M19181.7 1423.18 L19181.7 1423.18 L19251.2 1423.18 L19251.2 1423.18 L19181.7 1423.18 L19181.7 1423.18  Z\" fill=\"#009af9\" fill-rule=\"evenodd\" fill-opacity=\"1\"/>\n",
       "<polyline clip-path=\"url(#clip622)\" style=\"stroke:#000000; stroke-linecap:round; stroke-linejoin:round; stroke-width:4; stroke-opacity:1; fill:none\" points=\"19181.7,1423.18 19181.7,1423.18 19251.2,1423.18 19181.7,1423.18 \"/>\n",
       "<path clip-path=\"url(#clip622)\" d=\"M19251.2 1423.18 L19251.2 1423.18 L19320.7 1423.18 L19320.7 1423.18 L19251.2 1423.18 L19251.2 1423.18  Z\" fill=\"#009af9\" fill-rule=\"evenodd\" fill-opacity=\"1\"/>\n",
       "<polyline clip-path=\"url(#clip622)\" style=\"stroke:#000000; stroke-linecap:round; stroke-linejoin:round; stroke-width:4; stroke-opacity:1; fill:none\" points=\"19251.2,1423.18 19251.2,1423.18 19320.7,1423.18 19251.2,1423.18 \"/>\n",
       "<path clip-path=\"url(#clip622)\" d=\"M19320.7 1423.18 L19320.7 1423.18 L19390.2 1423.18 L19390.2 1423.18 L19320.7 1423.18 L19320.7 1423.18  Z\" fill=\"#009af9\" fill-rule=\"evenodd\" fill-opacity=\"1\"/>\n",
       "<polyline clip-path=\"url(#clip622)\" style=\"stroke:#000000; stroke-linecap:round; stroke-linejoin:round; stroke-width:4; stroke-opacity:1; fill:none\" points=\"19320.7,1423.18 19320.7,1423.18 19390.2,1423.18 19320.7,1423.18 \"/>\n",
       "<path clip-path=\"url(#clip622)\" d=\"M19390.2 1423.18 L19390.2 1423.18 L19459.7 1423.18 L19459.7 1423.18 L19390.2 1423.18 L19390.2 1423.18  Z\" fill=\"#009af9\" fill-rule=\"evenodd\" fill-opacity=\"1\"/>\n",
       "<polyline clip-path=\"url(#clip622)\" style=\"stroke:#000000; stroke-linecap:round; stroke-linejoin:round; stroke-width:4; stroke-opacity:1; fill:none\" points=\"19390.2,1423.18 19390.2,1423.18 19459.7,1423.18 19390.2,1423.18 \"/>\n",
       "<path clip-path=\"url(#clip622)\" d=\"M19459.7 1423.18 L19459.7 1423.18 L19529.2 1423.18 L19529.2 1423.18 L19459.7 1423.18 L19459.7 1423.18  Z\" fill=\"#009af9\" fill-rule=\"evenodd\" fill-opacity=\"1\"/>\n",
       "<polyline clip-path=\"url(#clip622)\" style=\"stroke:#000000; stroke-linecap:round; stroke-linejoin:round; stroke-width:4; stroke-opacity:1; fill:none\" points=\"19459.7,1423.18 19459.7,1423.18 19529.2,1423.18 19459.7,1423.18 \"/>\n",
       "<path clip-path=\"url(#clip622)\" d=\"M19529.2 1423.18 L19529.2 1423.18 L19598.6 1423.18 L19598.6 1423.18 L19529.2 1423.18 L19529.2 1423.18  Z\" fill=\"#009af9\" fill-rule=\"evenodd\" fill-opacity=\"1\"/>\n",
       "<polyline clip-path=\"url(#clip622)\" style=\"stroke:#000000; stroke-linecap:round; stroke-linejoin:round; stroke-width:4; stroke-opacity:1; fill:none\" points=\"19529.2,1423.18 19529.2,1423.18 19598.6,1423.18 19529.2,1423.18 \"/>\n",
       "<path clip-path=\"url(#clip622)\" d=\"M19598.6 1423.18 L19598.6 1423.18 L19668.1 1423.18 L19668.1 1423.18 L19598.6 1423.18 L19598.6 1423.18  Z\" fill=\"#009af9\" fill-rule=\"evenodd\" fill-opacity=\"1\"/>\n",
       "<polyline clip-path=\"url(#clip622)\" style=\"stroke:#000000; stroke-linecap:round; stroke-linejoin:round; stroke-width:4; stroke-opacity:1; fill:none\" points=\"19598.6,1423.18 19598.6,1423.18 19668.1,1423.18 19598.6,1423.18 \"/>\n",
       "<path clip-path=\"url(#clip622)\" d=\"M19668.1 1423.18 L19668.1 1423.18 L19737.6 1423.18 L19737.6 1423.18 L19668.1 1423.18 L19668.1 1423.18  Z\" fill=\"#009af9\" fill-rule=\"evenodd\" fill-opacity=\"1\"/>\n",
       "<polyline clip-path=\"url(#clip622)\" style=\"stroke:#000000; stroke-linecap:round; stroke-linejoin:round; stroke-width:4; stroke-opacity:1; fill:none\" points=\"19668.1,1423.18 19668.1,1423.18 19737.6,1423.18 19668.1,1423.18 \"/>\n",
       "<path clip-path=\"url(#clip622)\" d=\"M19737.6 1423.18 L19737.6 1423.18 L19807.1 1423.18 L19807.1 1423.18 L19737.6 1423.18 L19737.6 1423.18  Z\" fill=\"#009af9\" fill-rule=\"evenodd\" fill-opacity=\"1\"/>\n",
       "<polyline clip-path=\"url(#clip622)\" style=\"stroke:#000000; stroke-linecap:round; stroke-linejoin:round; stroke-width:4; stroke-opacity:1; fill:none\" points=\"19737.6,1423.18 19737.6,1423.18 19807.1,1423.18 19737.6,1423.18 \"/>\n",
       "<path clip-path=\"url(#clip622)\" d=\"M19807.1 1423.18 L19807.1 1423.18 L19876.6 1423.18 L19876.6 1423.18 L19807.1 1423.18 L19807.1 1423.18  Z\" fill=\"#009af9\" fill-rule=\"evenodd\" fill-opacity=\"1\"/>\n",
       "<polyline clip-path=\"url(#clip622)\" style=\"stroke:#000000; stroke-linecap:round; stroke-linejoin:round; stroke-width:4; stroke-opacity:1; fill:none\" points=\"19807.1,1423.18 19807.1,1423.18 19876.6,1423.18 19807.1,1423.18 \"/>\n",
       "<path clip-path=\"url(#clip622)\" d=\"M19876.6 1423.18 L19876.6 1423.18 L19946.1 1423.18 L19946.1 1423.18 L19876.6 1423.18 L19876.6 1423.18  Z\" fill=\"#009af9\" fill-rule=\"evenodd\" fill-opacity=\"1\"/>\n",
       "<polyline clip-path=\"url(#clip622)\" style=\"stroke:#000000; stroke-linecap:round; stroke-linejoin:round; stroke-width:4; stroke-opacity:1; fill:none\" points=\"19876.6,1423.18 19876.6,1423.18 19946.1,1423.18 19876.6,1423.18 \"/>\n",
       "<path clip-path=\"url(#clip622)\" d=\"M19946.1 1423.18 L19946.1 1423.18 L20015.6 1423.18 L20015.6 1423.18 L19946.1 1423.18 L19946.1 1423.18  Z\" fill=\"#009af9\" fill-rule=\"evenodd\" fill-opacity=\"1\"/>\n",
       "<polyline clip-path=\"url(#clip622)\" style=\"stroke:#000000; stroke-linecap:round; stroke-linejoin:round; stroke-width:4; stroke-opacity:1; fill:none\" points=\"19946.1,1423.18 19946.1,1423.18 20015.6,1423.18 19946.1,1423.18 \"/>\n",
       "<path clip-path=\"url(#clip622)\" d=\"M20015.6 1423.18 L20015.6 1423.18 L20085.1 1423.18 L20085.1 1423.18 L20015.6 1423.18 L20015.6 1423.18  Z\" fill=\"#009af9\" fill-rule=\"evenodd\" fill-opacity=\"1\"/>\n",
       "<polyline clip-path=\"url(#clip622)\" style=\"stroke:#000000; stroke-linecap:round; stroke-linejoin:round; stroke-width:4; stroke-opacity:1; fill:none\" points=\"20015.6,1423.18 20015.6,1423.18 20085.1,1423.18 20015.6,1423.18 \"/>\n",
       "<path clip-path=\"url(#clip622)\" d=\"M20085.1 1423.18 L20085.1 1423.18 L20154.6 1423.18 L20154.6 1423.18 L20085.1 1423.18 L20085.1 1423.18  Z\" fill=\"#009af9\" fill-rule=\"evenodd\" fill-opacity=\"1\"/>\n",
       "<polyline clip-path=\"url(#clip622)\" style=\"stroke:#000000; stroke-linecap:round; stroke-linejoin:round; stroke-width:4; stroke-opacity:1; fill:none\" points=\"20085.1,1423.18 20085.1,1423.18 20154.6,1423.18 20085.1,1423.18 \"/>\n",
       "<path clip-path=\"url(#clip622)\" d=\"M20154.6 1423.18 L20154.6 1423.18 L20224.1 1423.18 L20224.1 1423.18 L20154.6 1423.18 L20154.6 1423.18  Z\" fill=\"#009af9\" fill-rule=\"evenodd\" fill-opacity=\"1\"/>\n",
       "<polyline clip-path=\"url(#clip622)\" style=\"stroke:#000000; stroke-linecap:round; stroke-linejoin:round; stroke-width:4; stroke-opacity:1; fill:none\" points=\"20154.6,1423.18 20154.6,1423.18 20224.1,1423.18 20154.6,1423.18 \"/>\n",
       "<path clip-path=\"url(#clip622)\" d=\"M20224.1 1423.18 L20224.1 1423.18 L20293.6 1423.18 L20293.6 1423.18 L20224.1 1423.18 L20224.1 1423.18  Z\" fill=\"#009af9\" fill-rule=\"evenodd\" fill-opacity=\"1\"/>\n",
       "<polyline clip-path=\"url(#clip622)\" style=\"stroke:#000000; stroke-linecap:round; stroke-linejoin:round; stroke-width:4; stroke-opacity:1; fill:none\" points=\"20224.1,1423.18 20224.1,1423.18 20293.6,1423.18 20224.1,1423.18 \"/>\n",
       "<path clip-path=\"url(#clip622)\" d=\"M20293.6 1342.24 L20293.6 1423.18 L20363.1 1423.18 L20363.1 1342.24 L20293.6 1342.24 L20293.6 1342.24  Z\" fill=\"#009af9\" fill-rule=\"evenodd\" fill-opacity=\"1\"/>\n",
       "<polyline clip-path=\"url(#clip622)\" style=\"stroke:#000000; stroke-linecap:round; stroke-linejoin:round; stroke-width:4; stroke-opacity:1; fill:none\" points=\"20293.6,1342.24 20293.6,1423.18 20363.1,1423.18 20363.1,1342.24 20293.6,1342.24 \"/>\n",
       "<circle clip-path=\"url(#clip622)\" style=\"fill:#009af9; stroke:none; fill-opacity:0\" cx=\"522.184\" cy=\"1342.24\" r=\"2\"/>\n",
       "<circle clip-path=\"url(#clip622)\" style=\"fill:#009af9; stroke:none; fill-opacity:0\" cx=\"591.679\" cy=\"1423.18\" r=\"2\"/>\n",
       "<circle clip-path=\"url(#clip622)\" style=\"fill:#009af9; stroke:none; fill-opacity:0\" cx=\"661.175\" cy=\"1342.24\" r=\"2\"/>\n",
       "<circle clip-path=\"url(#clip622)\" style=\"fill:#009af9; stroke:none; fill-opacity:0\" cx=\"730.67\" cy=\"1261.31\" r=\"2\"/>\n",
       "<circle clip-path=\"url(#clip622)\" style=\"fill:#009af9; stroke:none; fill-opacity:0\" cx=\"800.165\" cy=\"1342.24\" r=\"2\"/>\n",
       "<circle clip-path=\"url(#clip622)\" style=\"fill:#009af9; stroke:none; fill-opacity:0\" cx=\"869.66\" cy=\"1342.24\" r=\"2\"/>\n",
       "<circle clip-path=\"url(#clip622)\" style=\"fill:#009af9; stroke:none; fill-opacity:0\" cx=\"939.156\" cy=\"1423.18\" r=\"2\"/>\n",
       "<circle clip-path=\"url(#clip622)\" style=\"fill:#009af9; stroke:none; fill-opacity:0\" cx=\"1008.65\" cy=\"1342.24\" r=\"2\"/>\n",
       "<circle clip-path=\"url(#clip622)\" style=\"fill:#009af9; stroke:none; fill-opacity:0\" cx=\"1078.15\" cy=\"1423.18\" r=\"2\"/>\n",
       "<circle clip-path=\"url(#clip622)\" style=\"fill:#009af9; stroke:none; fill-opacity:0\" cx=\"1147.64\" cy=\"1423.18\" r=\"2\"/>\n",
       "<circle clip-path=\"url(#clip622)\" style=\"fill:#009af9; stroke:none; fill-opacity:0\" cx=\"1217.14\" cy=\"1423.18\" r=\"2\"/>\n",
       "<circle clip-path=\"url(#clip622)\" style=\"fill:#009af9; stroke:none; fill-opacity:0\" cx=\"1286.63\" cy=\"1423.18\" r=\"2\"/>\n",
       "<circle clip-path=\"url(#clip622)\" style=\"fill:#009af9; stroke:none; fill-opacity:0\" cx=\"1356.13\" cy=\"1180.37\" r=\"2\"/>\n",
       "<circle clip-path=\"url(#clip622)\" style=\"fill:#009af9; stroke:none; fill-opacity:0\" cx=\"1425.62\" cy=\"1342.24\" r=\"2\"/>\n",
       "<circle clip-path=\"url(#clip622)\" style=\"fill:#009af9; stroke:none; fill-opacity:0\" cx=\"1495.12\" cy=\"1180.37\" r=\"2\"/>\n",
       "<circle clip-path=\"url(#clip622)\" style=\"fill:#009af9; stroke:none; fill-opacity:0\" cx=\"1564.61\" cy=\"1261.31\" r=\"2\"/>\n",
       "<circle clip-path=\"url(#clip622)\" style=\"fill:#009af9; stroke:none; fill-opacity:0\" cx=\"1634.11\" cy=\"1342.24\" r=\"2\"/>\n",
       "<circle clip-path=\"url(#clip622)\" style=\"fill:#009af9; stroke:none; fill-opacity:0\" cx=\"1703.6\" cy=\"1342.24\" r=\"2\"/>\n",
       "<circle clip-path=\"url(#clip622)\" style=\"fill:#009af9; stroke:none; fill-opacity:0\" cx=\"1773.1\" cy=\"1099.43\" r=\"2\"/>\n",
       "<circle clip-path=\"url(#clip622)\" style=\"fill:#009af9; stroke:none; fill-opacity:0\" cx=\"1842.59\" cy=\"856.618\" r=\"2\"/>\n",
       "<circle clip-path=\"url(#clip622)\" style=\"fill:#009af9; stroke:none; fill-opacity:0\" cx=\"1912.09\" cy=\"1099.43\" r=\"2\"/>\n",
       "<circle clip-path=\"url(#clip622)\" style=\"fill:#009af9; stroke:none; fill-opacity:0\" cx=\"1981.59\" cy=\"1018.49\" r=\"2\"/>\n",
       "<circle clip-path=\"url(#clip622)\" style=\"fill:#009af9; stroke:none; fill-opacity:0\" cx=\"2051.08\" cy=\"937.555\" r=\"2\"/>\n",
       "<circle clip-path=\"url(#clip622)\" style=\"fill:#009af9; stroke:none; fill-opacity:0\" cx=\"2120.58\" cy=\"1018.49\" r=\"2\"/>\n",
       "<circle clip-path=\"url(#clip622)\" style=\"fill:#009af9; stroke:none; fill-opacity:0\" cx=\"2190.07\" cy=\"775.681\" r=\"2\"/>\n",
       "<circle clip-path=\"url(#clip622)\" style=\"fill:#009af9; stroke:none; fill-opacity:0\" cx=\"2259.57\" cy=\"775.681\" r=\"2\"/>\n",
       "<circle clip-path=\"url(#clip622)\" style=\"fill:#009af9; stroke:none; fill-opacity:0\" cx=\"2329.06\" cy=\"451.931\" r=\"2\"/>\n",
       "</svg>\n"
      ],
      "text/html": [
       "<?xml version=\"1.0\" encoding=\"utf-8\"?>\n",
       "<svg xmlns=\"http://www.w3.org/2000/svg\" xmlns:xlink=\"http://www.w3.org/1999/xlink\" width=\"600\" height=\"400\" viewBox=\"0 0 2400 1600\">\n",
       "<defs>\n",
       "  <clipPath id=\"clip670\">\n",
       "    <rect x=\"0\" y=\"0\" width=\"2400\" height=\"1600\"/>\n",
       "  </clipPath>\n",
       "</defs>\n",
       "<path clip-path=\"url(#clip670)\" d=\"M0 1600 L2400 1600 L2400 0 L0 0  Z\" fill=\"#ffffff\" fill-rule=\"evenodd\" fill-opacity=\"1\"/>\n",
       "<defs>\n",
       "  <clipPath id=\"clip671\">\n",
       "    <rect x=\"480\" y=\"0\" width=\"1681\" height=\"1600\"/>\n",
       "  </clipPath>\n",
       "</defs>\n",
       "<path clip-path=\"url(#clip670)\" d=\"M202.227 1423.18 L2352.76 1423.18 L2352.76 47.2441 L202.227 47.2441  Z\" fill=\"#ffffff\" fill-rule=\"evenodd\" fill-opacity=\"1\"/>\n",
       "<defs>\n",
       "  <clipPath id=\"clip672\">\n",
       "    <rect x=\"202\" y=\"47\" width=\"2152\" height=\"1377\"/>\n",
       "  </clipPath>\n",
       "</defs>\n",
       "<polyline clip-path=\"url(#clip672)\" style=\"stroke:#000000; stroke-linecap:round; stroke-linejoin:round; stroke-width:2; stroke-opacity:0.1; fill:none\" points=\"417.941,1423.18 417.941,47.2441 \"/>\n",
       "<polyline clip-path=\"url(#clip672)\" style=\"stroke:#000000; stroke-linecap:round; stroke-linejoin:round; stroke-width:2; stroke-opacity:0.1; fill:none\" points=\"765.418,1423.18 765.418,47.2441 \"/>\n",
       "<polyline clip-path=\"url(#clip672)\" style=\"stroke:#000000; stroke-linecap:round; stroke-linejoin:round; stroke-width:2; stroke-opacity:0.1; fill:none\" points=\"1112.89,1423.18 1112.89,47.2441 \"/>\n",
       "<polyline clip-path=\"url(#clip672)\" style=\"stroke:#000000; stroke-linecap:round; stroke-linejoin:round; stroke-width:2; stroke-opacity:0.1; fill:none\" points=\"1460.37,1423.18 1460.37,47.2441 \"/>\n",
       "<polyline clip-path=\"url(#clip672)\" style=\"stroke:#000000; stroke-linecap:round; stroke-linejoin:round; stroke-width:2; stroke-opacity:0.1; fill:none\" points=\"1807.85,1423.18 1807.85,47.2441 \"/>\n",
       "<polyline clip-path=\"url(#clip672)\" style=\"stroke:#000000; stroke-linecap:round; stroke-linejoin:round; stroke-width:2; stroke-opacity:0.1; fill:none\" points=\"2155.32,1423.18 2155.32,47.2441 \"/>\n",
       "<polyline clip-path=\"url(#clip670)\" style=\"stroke:#000000; stroke-linecap:round; stroke-linejoin:round; stroke-width:4; stroke-opacity:1; fill:none\" points=\"202.227,1423.18 2352.76,1423.18 \"/>\n",
       "<polyline clip-path=\"url(#clip670)\" style=\"stroke:#000000; stroke-linecap:round; stroke-linejoin:round; stroke-width:4; stroke-opacity:1; fill:none\" points=\"417.941,1423.18 417.941,1404.28 \"/>\n",
       "<polyline clip-path=\"url(#clip670)\" style=\"stroke:#000000; stroke-linecap:round; stroke-linejoin:round; stroke-width:4; stroke-opacity:1; fill:none\" points=\"765.418,1423.18 765.418,1404.28 \"/>\n",
       "<polyline clip-path=\"url(#clip670)\" style=\"stroke:#000000; stroke-linecap:round; stroke-linejoin:round; stroke-width:4; stroke-opacity:1; fill:none\" points=\"1112.89,1423.18 1112.89,1404.28 \"/>\n",
       "<polyline clip-path=\"url(#clip670)\" style=\"stroke:#000000; stroke-linecap:round; stroke-linejoin:round; stroke-width:4; stroke-opacity:1; fill:none\" points=\"1460.37,1423.18 1460.37,1404.28 \"/>\n",
       "<polyline clip-path=\"url(#clip670)\" style=\"stroke:#000000; stroke-linecap:round; stroke-linejoin:round; stroke-width:4; stroke-opacity:1; fill:none\" points=\"1807.85,1423.18 1807.85,1404.28 \"/>\n",
       "<polyline clip-path=\"url(#clip670)\" style=\"stroke:#000000; stroke-linecap:round; stroke-linejoin:round; stroke-width:4; stroke-opacity:1; fill:none\" points=\"2155.32,1423.18 2155.32,1404.28 \"/>\n",
       "<path clip-path=\"url(#clip670)\" d=\"M370.499 1484.86 L370.499 1480.6 Q372.258 1481.44 374.064 1481.88 Q375.869 1482.32 377.606 1482.32 Q382.235 1482.32 384.666 1479.21 Q387.119 1476.09 387.467 1469.75 Q386.124 1471.74 384.064 1472.8 Q382.004 1473.87 379.504 1473.87 Q374.318 1473.87 371.286 1470.74 Q368.277 1467.59 368.277 1462.15 Q368.277 1456.83 371.425 1453.61 Q374.573 1450.39 379.805 1450.39 Q385.8 1450.39 388.948 1455 Q392.119 1459.58 392.119 1468.33 Q392.119 1476.51 388.23 1481.39 Q384.365 1486.25 377.814 1486.25 Q376.055 1486.25 374.249 1485.9 Q372.443 1485.56 370.499 1484.86 M379.805 1470.21 Q382.953 1470.21 384.781 1468.06 Q386.633 1465.9 386.633 1462.15 Q386.633 1458.43 384.781 1456.27 Q382.953 1454.1 379.805 1454.1 Q376.656 1454.1 374.805 1456.27 Q372.976 1458.43 372.976 1462.15 Q372.976 1465.9 374.805 1468.06 Q376.656 1470.21 379.805 1470.21 Z\" fill=\"#000000\" fill-rule=\"nonzero\" fill-opacity=\"1\" /><path clip-path=\"url(#clip670)\" d=\"M400.522 1479.7 L405.406 1479.7 L405.406 1485.58 L400.522 1485.58 L400.522 1479.7 Z\" fill=\"#000000\" fill-rule=\"nonzero\" fill-opacity=\"1\" /><path clip-path=\"url(#clip670)\" d=\"M429.758 1466.95 Q433.114 1467.66 434.989 1469.93 Q436.888 1472.2 436.888 1475.53 Q436.888 1480.65 433.369 1483.45 Q429.851 1486.25 423.369 1486.25 Q421.193 1486.25 418.878 1485.81 Q416.587 1485.39 414.133 1484.54 L414.133 1480.02 Q416.078 1481.16 418.392 1481.74 Q420.707 1482.32 423.23 1482.32 Q427.628 1482.32 429.92 1480.58 Q432.235 1478.84 432.235 1475.53 Q432.235 1472.48 430.082 1470.77 Q427.952 1469.03 424.133 1469.03 L420.105 1469.03 L420.105 1465.19 L424.318 1465.19 Q427.767 1465.19 429.596 1463.82 Q431.425 1462.43 431.425 1459.84 Q431.425 1457.18 429.527 1455.77 Q427.652 1454.33 424.133 1454.33 Q422.212 1454.33 420.013 1454.75 Q417.814 1455.16 415.175 1456.04 L415.175 1451.88 Q417.837 1451.14 420.152 1450.77 Q422.49 1450.39 424.55 1450.39 Q429.874 1450.39 432.976 1452.83 Q436.077 1455.23 436.077 1459.35 Q436.077 1462.22 434.434 1464.21 Q432.79 1466.18 429.758 1466.95 Z\" fill=\"#000000\" fill-rule=\"nonzero\" fill-opacity=\"1\" /><path clip-path=\"url(#clip670)\" d=\"M455.753 1469.17 Q452.42 1469.17 450.499 1470.95 Q448.6 1472.73 448.6 1475.86 Q448.6 1478.98 450.499 1480.77 Q452.42 1482.55 455.753 1482.55 Q459.087 1482.55 461.008 1480.77 Q462.929 1478.96 462.929 1475.86 Q462.929 1472.73 461.008 1470.95 Q459.11 1469.17 455.753 1469.17 M451.077 1467.18 Q448.068 1466.44 446.378 1464.38 Q444.712 1462.32 444.712 1459.35 Q444.712 1455.21 447.651 1452.8 Q450.614 1450.39 455.753 1450.39 Q460.915 1450.39 463.855 1452.8 Q466.795 1455.21 466.795 1459.35 Q466.795 1462.32 465.105 1464.38 Q463.438 1466.44 460.452 1467.18 Q463.832 1467.96 465.707 1470.26 Q467.605 1472.55 467.605 1475.86 Q467.605 1480.88 464.526 1483.57 Q461.471 1486.25 455.753 1486.25 Q450.036 1486.25 446.957 1483.57 Q443.901 1480.88 443.901 1475.86 Q443.901 1472.55 445.8 1470.26 Q447.698 1467.96 451.077 1467.18 M449.364 1459.79 Q449.364 1462.48 451.031 1463.98 Q452.721 1465.49 455.753 1465.49 Q458.762 1465.49 460.452 1463.98 Q462.165 1462.48 462.165 1459.79 Q462.165 1457.11 460.452 1455.6 Q458.762 1454.1 455.753 1454.1 Q452.721 1454.1 451.031 1455.6 Q449.364 1457.11 449.364 1459.79 Z\" fill=\"#000000\" fill-rule=\"nonzero\" fill-opacity=\"1\" /><path clip-path=\"url(#clip670)\" d=\"M718.022 1484.86 L718.022 1480.6 Q719.781 1481.44 721.587 1481.88 Q723.392 1482.32 725.128 1482.32 Q729.758 1482.32 732.189 1479.21 Q734.642 1476.09 734.989 1469.75 Q733.647 1471.74 731.587 1472.8 Q729.527 1473.87 727.027 1473.87 Q721.841 1473.87 718.809 1470.74 Q715.8 1467.59 715.8 1462.15 Q715.8 1456.83 718.948 1453.61 Q722.096 1450.39 727.327 1450.39 Q733.323 1450.39 736.471 1455 Q739.642 1459.58 739.642 1468.33 Q739.642 1476.51 735.753 1481.39 Q731.888 1486.25 725.337 1486.25 Q723.577 1486.25 721.772 1485.9 Q719.966 1485.56 718.022 1484.86 M727.327 1470.21 Q730.476 1470.21 732.304 1468.06 Q734.156 1465.9 734.156 1462.15 Q734.156 1458.43 732.304 1456.27 Q730.476 1454.1 727.327 1454.1 Q724.179 1454.1 722.327 1456.27 Q720.499 1458.43 720.499 1462.15 Q720.499 1465.9 722.327 1468.06 Q724.179 1470.21 727.327 1470.21 Z\" fill=\"#000000\" fill-rule=\"nonzero\" fill-opacity=\"1\" /><path clip-path=\"url(#clip670)\" d=\"M748.045 1479.7 L752.929 1479.7 L752.929 1485.58 L748.045 1485.58 L748.045 1479.7 Z\" fill=\"#000000\" fill-rule=\"nonzero\" fill-opacity=\"1\" /><path clip-path=\"url(#clip670)\" d=\"M777.281 1466.95 Q780.637 1467.66 782.512 1469.93 Q784.41 1472.2 784.41 1475.53 Q784.41 1480.65 780.892 1483.45 Q777.373 1486.25 770.892 1486.25 Q768.716 1486.25 766.401 1485.81 Q764.11 1485.39 761.656 1484.54 L761.656 1480.02 Q763.6 1481.16 765.915 1481.74 Q768.23 1482.32 770.753 1482.32 Q775.151 1482.32 777.443 1480.58 Q779.758 1478.84 779.758 1475.53 Q779.758 1472.48 777.605 1470.77 Q775.475 1469.03 771.656 1469.03 L767.628 1469.03 L767.628 1465.19 L771.841 1465.19 Q775.29 1465.19 777.119 1463.82 Q778.948 1462.43 778.948 1459.84 Q778.948 1457.18 777.049 1455.77 Q775.174 1454.33 771.656 1454.33 Q769.735 1454.33 767.536 1454.75 Q765.336 1455.16 762.698 1456.04 L762.698 1451.88 Q765.36 1451.14 767.674 1450.77 Q770.012 1450.39 772.073 1450.39 Q777.397 1450.39 780.498 1452.83 Q783.6 1455.23 783.6 1459.35 Q783.6 1462.22 781.957 1464.21 Q780.313 1466.18 777.281 1466.95 Z\" fill=\"#000000\" fill-rule=\"nonzero\" fill-opacity=\"1\" /><path clip-path=\"url(#clip670)\" d=\"M793.415 1484.86 L793.415 1480.6 Q795.174 1481.44 796.98 1481.88 Q798.785 1482.32 800.521 1482.32 Q805.151 1482.32 807.582 1479.21 Q810.035 1476.09 810.383 1469.75 Q809.04 1471.74 806.98 1472.8 Q804.92 1473.87 802.42 1473.87 Q797.234 1473.87 794.202 1470.74 Q791.193 1467.59 791.193 1462.15 Q791.193 1456.83 794.341 1453.61 Q797.489 1450.39 802.721 1450.39 Q808.716 1450.39 811.864 1455 Q815.035 1459.58 815.035 1468.33 Q815.035 1476.51 811.146 1481.39 Q807.281 1486.25 800.73 1486.25 Q798.971 1486.25 797.165 1485.9 Q795.359 1485.56 793.415 1484.86 M802.721 1470.21 Q805.869 1470.21 807.697 1468.06 Q809.549 1465.9 809.549 1462.15 Q809.549 1458.43 807.697 1456.27 Q805.869 1454.1 802.721 1454.1 Q799.572 1454.1 797.721 1456.27 Q795.892 1458.43 795.892 1462.15 Q795.892 1465.9 797.721 1468.06 Q799.572 1470.21 802.721 1470.21 Z\" fill=\"#000000\" fill-rule=\"nonzero\" fill-opacity=\"1\" /><path clip-path=\"url(#clip670)\" d=\"M1065.41 1484.86 L1065.41 1480.6 Q1067.17 1481.44 1068.97 1481.88 Q1070.78 1482.32 1072.51 1482.32 Q1077.14 1482.32 1079.57 1479.21 Q1082.03 1476.09 1082.37 1469.75 Q1081.03 1471.74 1078.97 1472.8 Q1076.91 1473.87 1074.41 1473.87 Q1069.23 1473.87 1066.19 1470.74 Q1063.18 1467.59 1063.18 1462.15 Q1063.18 1456.83 1066.33 1453.61 Q1069.48 1450.39 1074.71 1450.39 Q1080.71 1450.39 1083.85 1455 Q1087.03 1459.58 1087.03 1468.33 Q1087.03 1476.51 1083.14 1481.39 Q1079.27 1486.25 1072.72 1486.25 Q1070.96 1486.25 1069.16 1485.9 Q1067.35 1485.56 1065.41 1484.86 M1074.71 1470.21 Q1077.86 1470.21 1079.69 1468.06 Q1081.54 1465.9 1081.54 1462.15 Q1081.54 1458.43 1079.69 1456.27 Q1077.86 1454.1 1074.71 1454.1 Q1071.56 1454.1 1069.71 1456.27 Q1067.88 1458.43 1067.88 1462.15 Q1067.88 1465.9 1069.71 1468.06 Q1071.56 1470.21 1074.71 1470.21 Z\" fill=\"#000000\" fill-rule=\"nonzero\" fill-opacity=\"1\" /><path clip-path=\"url(#clip670)\" d=\"M1095.43 1479.7 L1100.31 1479.7 L1100.31 1485.58 L1095.43 1485.58 L1095.43 1479.7 Z\" fill=\"#000000\" fill-rule=\"nonzero\" fill-opacity=\"1\" /><path clip-path=\"url(#clip670)\" d=\"M1123.35 1455.09 L1111.54 1473.54 L1123.35 1473.54 L1123.35 1455.09 M1122.12 1451.02 L1128 1451.02 L1128 1473.54 L1132.93 1473.54 L1132.93 1477.43 L1128 1477.43 L1128 1485.58 L1123.35 1485.58 L1123.35 1477.43 L1107.74 1477.43 L1107.74 1472.92 L1122.12 1451.02 Z\" fill=\"#000000\" fill-rule=\"nonzero\" fill-opacity=\"1\" /><path clip-path=\"url(#clip670)\" d=\"M1150.66 1454.1 Q1147.05 1454.1 1145.22 1457.66 Q1143.41 1461.2 1143.41 1468.33 Q1143.41 1475.44 1145.22 1479.01 Q1147.05 1482.55 1150.66 1482.55 Q1154.29 1482.55 1156.1 1479.01 Q1157.93 1475.44 1157.93 1468.33 Q1157.93 1461.2 1156.1 1457.66 Q1154.29 1454.1 1150.66 1454.1 M1150.66 1450.39 Q1156.47 1450.39 1159.53 1455 Q1162.6 1459.58 1162.6 1468.33 Q1162.6 1477.06 1159.53 1481.67 Q1156.47 1486.25 1150.66 1486.25 Q1144.85 1486.25 1141.77 1481.67 Q1138.72 1477.06 1138.72 1468.33 Q1138.72 1459.58 1141.77 1455 Q1144.85 1450.39 1150.66 1450.39 Z\" fill=\"#000000\" fill-rule=\"nonzero\" fill-opacity=\"1\" /><path clip-path=\"url(#clip670)\" d=\"M1413.5 1484.86 L1413.5 1480.6 Q1415.26 1481.44 1417.06 1481.88 Q1418.87 1482.32 1420.6 1482.32 Q1425.23 1482.32 1427.66 1479.21 Q1430.12 1476.09 1430.46 1469.75 Q1429.12 1471.74 1427.06 1472.8 Q1425 1473.87 1422.5 1473.87 Q1417.32 1473.87 1414.28 1470.74 Q1411.27 1467.59 1411.27 1462.15 Q1411.27 1456.83 1414.42 1453.61 Q1417.57 1450.39 1422.8 1450.39 Q1428.8 1450.39 1431.94 1455 Q1435.12 1459.58 1435.12 1468.33 Q1435.12 1476.51 1431.23 1481.39 Q1427.36 1486.25 1420.81 1486.25 Q1419.05 1486.25 1417.25 1485.9 Q1415.44 1485.56 1413.5 1484.86 M1422.8 1470.21 Q1425.95 1470.21 1427.78 1468.06 Q1429.63 1465.9 1429.63 1462.15 Q1429.63 1458.43 1427.78 1456.27 Q1425.95 1454.1 1422.8 1454.1 Q1419.65 1454.1 1417.8 1456.27 Q1415.97 1458.43 1415.97 1462.15 Q1415.97 1465.9 1417.8 1468.06 Q1419.65 1470.21 1422.8 1470.21 Z\" fill=\"#000000\" fill-rule=\"nonzero\" fill-opacity=\"1\" /><path clip-path=\"url(#clip670)\" d=\"M1443.52 1479.7 L1448.4 1479.7 L1448.4 1485.58 L1443.52 1485.58 L1443.52 1479.7 Z\" fill=\"#000000\" fill-rule=\"nonzero\" fill-opacity=\"1\" /><path clip-path=\"url(#clip670)\" d=\"M1471.44 1455.09 L1459.63 1473.54 L1471.44 1473.54 L1471.44 1455.09 M1470.21 1451.02 L1476.09 1451.02 L1476.09 1473.54 L1481.02 1473.54 L1481.02 1477.43 L1476.09 1477.43 L1476.09 1485.58 L1471.44 1485.58 L1471.44 1477.43 L1455.83 1477.43 L1455.83 1472.92 L1470.21 1451.02 Z\" fill=\"#000000\" fill-rule=\"nonzero\" fill-opacity=\"1\" /><path clip-path=\"url(#clip670)\" d=\"M1489.56 1481.64 L1497.2 1481.64 L1497.2 1455.28 L1488.89 1456.95 L1488.89 1452.69 L1497.15 1451.02 L1501.83 1451.02 L1501.83 1481.64 L1509.47 1481.64 L1509.47 1485.58 L1489.56 1485.58 L1489.56 1481.64 Z\" fill=\"#000000\" fill-rule=\"nonzero\" fill-opacity=\"1\" /><path clip-path=\"url(#clip670)\" d=\"M1761.16 1484.86 L1761.16 1480.6 Q1762.92 1481.44 1764.72 1481.88 Q1766.53 1482.32 1768.26 1482.32 Q1772.89 1482.32 1775.32 1479.21 Q1777.78 1476.09 1778.13 1469.75 Q1776.78 1471.74 1774.72 1472.8 Q1772.66 1473.87 1770.16 1473.87 Q1764.98 1473.87 1761.94 1470.74 Q1758.94 1467.59 1758.94 1462.15 Q1758.94 1456.83 1762.08 1453.61 Q1765.23 1450.39 1770.46 1450.39 Q1776.46 1450.39 1779.61 1455 Q1782.78 1459.58 1782.78 1468.33 Q1782.78 1476.51 1778.89 1481.39 Q1775.02 1486.25 1768.47 1486.25 Q1766.71 1486.25 1764.91 1485.9 Q1763.1 1485.56 1761.16 1484.86 M1770.46 1470.21 Q1773.61 1470.21 1775.44 1468.06 Q1777.29 1465.9 1777.29 1462.15 Q1777.29 1458.43 1775.44 1456.27 Q1773.61 1454.1 1770.46 1454.1 Q1767.32 1454.1 1765.46 1456.27 Q1763.63 1458.43 1763.63 1462.15 Q1763.63 1465.9 1765.46 1468.06 Q1767.32 1470.21 1770.46 1470.21 Z\" fill=\"#000000\" fill-rule=\"nonzero\" fill-opacity=\"1\" /><path clip-path=\"url(#clip670)\" d=\"M1791.18 1479.7 L1796.06 1479.7 L1796.06 1485.58 L1791.18 1485.58 L1791.18 1479.7 Z\" fill=\"#000000\" fill-rule=\"nonzero\" fill-opacity=\"1\" /><path clip-path=\"url(#clip670)\" d=\"M1819.1 1455.09 L1807.29 1473.54 L1819.1 1473.54 L1819.1 1455.09 M1817.87 1451.02 L1823.75 1451.02 L1823.75 1473.54 L1828.68 1473.54 L1828.68 1477.43 L1823.75 1477.43 L1823.75 1485.58 L1819.1 1485.58 L1819.1 1477.43 L1803.5 1477.43 L1803.5 1472.92 L1817.87 1451.02 Z\" fill=\"#000000\" fill-rule=\"nonzero\" fill-opacity=\"1\" /><path clip-path=\"url(#clip670)\" d=\"M1840.44 1481.64 L1856.76 1481.64 L1856.76 1485.58 L1834.81 1485.58 L1834.81 1481.64 Q1837.48 1478.89 1842.06 1474.26 Q1846.67 1469.61 1847.85 1468.27 Q1850.09 1465.74 1850.97 1464.01 Q1851.87 1462.25 1851.87 1460.56 Q1851.87 1457.8 1849.93 1456.07 Q1848.01 1454.33 1844.91 1454.33 Q1842.71 1454.33 1840.25 1455.09 Q1837.82 1455.86 1835.05 1457.41 L1835.05 1452.69 Q1837.87 1451.55 1840.32 1450.97 Q1842.78 1450.39 1844.81 1450.39 Q1850.18 1450.39 1853.38 1453.08 Q1856.57 1455.77 1856.57 1460.26 Q1856.57 1462.39 1855.76 1464.31 Q1854.98 1466.2 1852.87 1468.8 Q1852.29 1469.47 1849.19 1472.69 Q1846.09 1475.88 1840.44 1481.64 Z\" fill=\"#000000\" fill-rule=\"nonzero\" fill-opacity=\"1\" /><path clip-path=\"url(#clip670)\" d=\"M2108.16 1484.86 L2108.16 1480.6 Q2109.92 1481.44 2111.72 1481.88 Q2113.53 1482.32 2115.27 1482.32 Q2119.9 1482.32 2122.33 1479.21 Q2124.78 1476.09 2125.13 1469.75 Q2123.78 1471.74 2121.72 1472.8 Q2119.66 1473.87 2117.16 1473.87 Q2111.98 1473.87 2108.95 1470.74 Q2105.94 1467.59 2105.94 1462.15 Q2105.94 1456.83 2109.09 1453.61 Q2112.23 1450.39 2117.47 1450.39 Q2123.46 1450.39 2126.61 1455 Q2129.78 1459.58 2129.78 1468.33 Q2129.78 1476.51 2125.89 1481.39 Q2122.03 1486.25 2115.47 1486.25 Q2113.72 1486.25 2111.91 1485.9 Q2110.1 1485.56 2108.16 1484.86 M2117.47 1470.21 Q2120.61 1470.21 2122.44 1468.06 Q2124.29 1465.9 2124.29 1462.15 Q2124.29 1458.43 2122.44 1456.27 Q2120.61 1454.1 2117.47 1454.1 Q2114.32 1454.1 2112.47 1456.27 Q2110.64 1458.43 2110.64 1462.15 Q2110.64 1465.9 2112.47 1468.06 Q2114.32 1470.21 2117.47 1470.21 Z\" fill=\"#000000\" fill-rule=\"nonzero\" fill-opacity=\"1\" /><path clip-path=\"url(#clip670)\" d=\"M2138.18 1479.7 L2143.07 1479.7 L2143.07 1485.58 L2138.18 1485.58 L2138.18 1479.7 Z\" fill=\"#000000\" fill-rule=\"nonzero\" fill-opacity=\"1\" /><path clip-path=\"url(#clip670)\" d=\"M2166.1 1455.09 L2154.29 1473.54 L2166.1 1473.54 L2166.1 1455.09 M2164.87 1451.02 L2170.75 1451.02 L2170.75 1473.54 L2175.68 1473.54 L2175.68 1477.43 L2170.75 1477.43 L2170.75 1485.58 L2166.1 1485.58 L2166.1 1477.43 L2150.5 1477.43 L2150.5 1472.92 L2164.87 1451.02 Z\" fill=\"#000000\" fill-rule=\"nonzero\" fill-opacity=\"1\" /><path clip-path=\"url(#clip670)\" d=\"M2197.58 1466.95 Q2200.94 1467.66 2202.81 1469.93 Q2204.71 1472.2 2204.71 1475.53 Q2204.71 1480.65 2201.19 1483.45 Q2197.67 1486.25 2191.19 1486.25 Q2189.02 1486.25 2186.7 1485.81 Q2184.41 1485.39 2181.96 1484.54 L2181.96 1480.02 Q2183.9 1481.16 2186.21 1481.74 Q2188.53 1482.32 2191.05 1482.32 Q2195.45 1482.32 2197.74 1480.58 Q2200.06 1478.84 2200.06 1475.53 Q2200.06 1472.48 2197.9 1470.77 Q2195.78 1469.03 2191.96 1469.03 L2187.93 1469.03 L2187.93 1465.19 L2192.14 1465.19 Q2195.59 1465.19 2197.42 1463.82 Q2199.25 1462.43 2199.25 1459.84 Q2199.25 1457.18 2197.35 1455.77 Q2195.47 1454.33 2191.96 1454.33 Q2190.03 1454.33 2187.84 1454.75 Q2185.64 1455.16 2183 1456.04 L2183 1451.88 Q2185.66 1451.14 2187.97 1450.77 Q2190.31 1450.39 2192.37 1450.39 Q2197.7 1450.39 2200.8 1452.83 Q2203.9 1455.23 2203.9 1459.35 Q2203.9 1462.22 2202.26 1464.21 Q2200.61 1466.18 2197.58 1466.95 Z\" fill=\"#000000\" fill-rule=\"nonzero\" fill-opacity=\"1\" /><path clip-path=\"url(#clip670)\" d=\"M1108.83 1539.24 Q1111.03 1535.29 1114.08 1533.41 Q1117.14 1531.54 1121.28 1531.54 Q1126.85 1531.54 1129.87 1535.45 Q1132.89 1539.33 1132.89 1546.53 L1132.89 1568.04 L1127.01 1568.04 L1127.01 1546.72 Q1127.01 1541.59 1125.19 1539.11 Q1123.38 1536.63 1119.65 1536.63 Q1115.1 1536.63 1112.46 1539.65 Q1109.82 1542.68 1109.82 1547.9 L1109.82 1568.04 L1103.93 1568.04 L1103.93 1546.72 Q1103.93 1541.56 1102.12 1539.11 Q1100.3 1536.63 1096.51 1536.63 Q1092.03 1536.63 1089.39 1539.68 Q1086.74 1542.71 1086.74 1547.9 L1086.74 1568.04 L1080.86 1568.04 L1080.86 1532.4 L1086.74 1532.4 L1086.74 1537.93 Q1088.75 1534.66 1091.55 1533.1 Q1094.35 1531.54 1098.2 1531.54 Q1102.08 1531.54 1104.79 1533.51 Q1107.53 1535.48 1108.83 1539.24 Z\" fill=\"#000000\" fill-rule=\"nonzero\" fill-opacity=\"1\" /><path clip-path=\"url(#clip670)\" d=\"M1144.58 1532.4 L1150.43 1532.4 L1150.43 1568.04 L1144.58 1568.04 L1144.58 1532.4 M1144.58 1518.52 L1150.43 1518.52 L1150.43 1525.93 L1144.58 1525.93 L1144.58 1518.52 Z\" fill=\"#000000\" fill-rule=\"nonzero\" fill-opacity=\"1\" /><path clip-path=\"url(#clip670)\" d=\"M1162.69 1518.52 L1168.54 1518.52 L1168.54 1568.04 L1162.69 1568.04 L1162.69 1518.52 Z\" fill=\"#000000\" fill-rule=\"nonzero\" fill-opacity=\"1\" /><path clip-path=\"url(#clip670)\" d=\"M1180.8 1518.52 L1186.65 1518.52 L1186.65 1568.04 L1180.8 1568.04 L1180.8 1518.52 Z\" fill=\"#000000\" fill-rule=\"nonzero\" fill-opacity=\"1\" /><path clip-path=\"url(#clip670)\" d=\"M1198.91 1532.4 L1204.76 1532.4 L1204.76 1568.04 L1198.91 1568.04 L1198.91 1532.4 M1198.91 1518.52 L1204.76 1518.52 L1204.76 1525.93 L1198.91 1525.93 L1198.91 1518.52 Z\" fill=\"#000000\" fill-rule=\"nonzero\" fill-opacity=\"1\" /><path clip-path=\"url(#clip670)\" d=\"M1239.74 1533.45 L1239.74 1538.98 Q1237.26 1537.71 1234.59 1537.07 Q1231.91 1536.44 1229.05 1536.44 Q1224.69 1536.44 1222.49 1537.77 Q1220.33 1539.11 1220.33 1541.79 Q1220.33 1543.82 1221.89 1545 Q1223.45 1546.15 1228.16 1547.2 L1230.16 1547.64 Q1236.4 1548.98 1239.01 1551.43 Q1241.65 1553.85 1241.65 1558.21 Q1241.65 1563.17 1237.71 1566.07 Q1233.79 1568.97 1226.92 1568.97 Q1224.05 1568.97 1220.93 1568.39 Q1217.85 1567.85 1214.41 1566.74 L1214.41 1560.69 Q1217.65 1562.38 1220.81 1563.24 Q1223.96 1564.07 1227.04 1564.07 Q1231.18 1564.07 1233.41 1562.66 Q1235.64 1561.23 1235.64 1558.65 Q1235.64 1556.27 1234.01 1554.99 Q1232.42 1553.72 1226.98 1552.54 L1224.94 1552.07 Q1219.5 1550.92 1217.08 1548.56 Q1214.66 1546.18 1214.66 1542.04 Q1214.66 1537.01 1218.23 1534.27 Q1221.79 1531.54 1228.35 1531.54 Q1231.59 1531.54 1234.46 1532.01 Q1237.32 1532.49 1239.74 1533.45 Z\" fill=\"#000000\" fill-rule=\"nonzero\" fill-opacity=\"1\" /><path clip-path=\"url(#clip670)\" d=\"M1281.47 1548.76 L1281.47 1551.62 L1254.54 1551.62 Q1254.93 1557.67 1258.17 1560.85 Q1261.45 1564 1267.27 1564 Q1270.65 1564 1273.8 1563.17 Q1276.98 1562.35 1280.1 1560.69 L1280.1 1566.23 Q1276.95 1567.57 1273.64 1568.27 Q1270.33 1568.97 1266.92 1568.97 Q1258.39 1568.97 1253.4 1564 Q1248.43 1559.04 1248.43 1550.57 Q1248.43 1541.82 1253.14 1536.69 Q1257.89 1531.54 1265.91 1531.54 Q1273.1 1531.54 1277.27 1536.18 Q1281.47 1540.8 1281.47 1548.76 M1275.61 1547.04 Q1275.55 1542.23 1272.91 1539.37 Q1270.3 1536.5 1265.97 1536.5 Q1261.07 1536.5 1258.11 1539.27 Q1255.18 1542.04 1254.73 1547.07 L1275.61 1547.04 Z\" fill=\"#000000\" fill-rule=\"nonzero\" fill-opacity=\"1\" /><path clip-path=\"url(#clip670)\" d=\"M1316.74 1533.76 L1316.74 1539.24 Q1314.25 1537.87 1311.74 1537.2 Q1309.26 1536.5 1306.71 1536.5 Q1301.01 1536.5 1297.86 1540.13 Q1294.71 1543.73 1294.71 1550.25 Q1294.71 1556.78 1297.86 1560.4 Q1301.01 1564 1306.71 1564 Q1309.26 1564 1311.74 1563.33 Q1314.25 1562.63 1316.74 1561.26 L1316.74 1566.68 Q1314.29 1567.82 1311.64 1568.39 Q1309.03 1568.97 1306.07 1568.97 Q1298.02 1568.97 1293.28 1563.91 Q1288.54 1558.85 1288.54 1550.25 Q1288.54 1541.53 1293.31 1536.53 Q1298.12 1531.54 1306.46 1531.54 Q1309.16 1531.54 1311.74 1532.11 Q1314.32 1532.65 1316.74 1533.76 Z\" fill=\"#000000\" fill-rule=\"nonzero\" fill-opacity=\"1\" /><path clip-path=\"url(#clip670)\" d=\"M1340.73 1536.5 Q1336.02 1536.5 1333.29 1540.19 Q1330.55 1543.85 1330.55 1550.25 Q1330.55 1556.65 1333.26 1560.34 Q1335.99 1564 1340.73 1564 Q1345.41 1564 1348.15 1560.31 Q1350.89 1556.62 1350.89 1550.25 Q1350.89 1543.92 1348.15 1540.23 Q1345.41 1536.5 1340.73 1536.5 M1340.73 1531.54 Q1348.37 1531.54 1352.73 1536.5 Q1357.09 1541.47 1357.09 1550.25 Q1357.09 1559 1352.73 1564 Q1348.37 1568.97 1340.73 1568.97 Q1333.06 1568.97 1328.7 1564 Q1324.38 1559 1324.38 1550.25 Q1324.38 1541.47 1328.7 1536.5 Q1333.06 1531.54 1340.73 1531.54 Z\" fill=\"#000000\" fill-rule=\"nonzero\" fill-opacity=\"1\" /><path clip-path=\"url(#clip670)\" d=\"M1396.43 1546.53 L1396.43 1568.04 L1390.58 1568.04 L1390.58 1546.72 Q1390.58 1541.66 1388.61 1539.14 Q1386.63 1536.63 1382.68 1536.63 Q1377.94 1536.63 1375.21 1539.65 Q1372.47 1542.68 1372.47 1547.9 L1372.47 1568.04 L1366.58 1568.04 L1366.58 1532.4 L1372.47 1532.4 L1372.47 1537.93 Q1374.57 1534.72 1377.4 1533.13 Q1380.27 1531.54 1383.99 1531.54 Q1390.13 1531.54 1393.28 1535.36 Q1396.43 1539.14 1396.43 1546.53 Z\" fill=\"#000000\" fill-rule=\"nonzero\" fill-opacity=\"1\" /><path clip-path=\"url(#clip670)\" d=\"M1431.57 1537.81 L1431.57 1518.52 L1437.43 1518.52 L1437.43 1568.04 L1431.57 1568.04 L1431.57 1562.7 Q1429.73 1565.88 1426.89 1567.44 Q1424.09 1568.97 1420.15 1568.97 Q1413.69 1568.97 1409.61 1563.81 Q1405.57 1558.65 1405.57 1550.25 Q1405.57 1541.85 1409.61 1536.69 Q1413.69 1531.54 1420.15 1531.54 Q1424.09 1531.54 1426.89 1533.1 Q1429.73 1534.62 1431.57 1537.81 M1411.62 1550.25 Q1411.62 1556.71 1414.26 1560.4 Q1416.93 1564.07 1421.58 1564.07 Q1426.23 1564.07 1428.9 1560.4 Q1431.57 1556.71 1431.57 1550.25 Q1431.57 1543.79 1428.9 1540.13 Q1426.23 1536.44 1421.58 1536.44 Q1416.93 1536.44 1414.26 1540.13 Q1411.62 1543.79 1411.62 1550.25 Z\" fill=\"#000000\" fill-rule=\"nonzero\" fill-opacity=\"1\" /><path clip-path=\"url(#clip670)\" d=\"M1472.22 1533.45 L1472.22 1538.98 Q1469.74 1537.71 1467.06 1537.07 Q1464.39 1536.44 1461.52 1536.44 Q1457.16 1536.44 1454.97 1537.77 Q1452.8 1539.11 1452.8 1541.79 Q1452.8 1543.82 1454.36 1545 Q1455.92 1546.15 1460.63 1547.2 L1462.64 1547.64 Q1468.88 1548.98 1471.49 1551.43 Q1474.13 1553.85 1474.13 1558.21 Q1474.13 1563.17 1470.18 1566.07 Q1466.27 1568.97 1459.39 1568.97 Q1456.53 1568.97 1453.41 1568.39 Q1450.32 1567.85 1446.88 1566.74 L1446.88 1560.69 Q1450.13 1562.38 1453.28 1563.24 Q1456.43 1564.07 1459.52 1564.07 Q1463.66 1564.07 1465.88 1562.66 Q1468.11 1561.23 1468.11 1558.65 Q1468.11 1556.27 1466.49 1554.99 Q1464.9 1553.72 1459.46 1552.54 L1457.42 1552.07 Q1451.98 1550.92 1449.56 1548.56 Q1447.14 1546.18 1447.14 1542.04 Q1447.14 1537.01 1450.7 1534.27 Q1454.27 1531.54 1460.82 1531.54 Q1464.07 1531.54 1466.94 1532.01 Q1469.8 1532.49 1472.22 1533.45 Z\" fill=\"#000000\" fill-rule=\"nonzero\" fill-opacity=\"1\" /><polyline clip-path=\"url(#clip672)\" style=\"stroke:#000000; stroke-linecap:round; stroke-linejoin:round; stroke-width:2; stroke-opacity:0.1; fill:none\" points=\"202.227,1423.18 2352.76,1423.18 \"/>\n",
       "<polyline clip-path=\"url(#clip672)\" style=\"stroke:#000000; stroke-linecap:round; stroke-linejoin:round; stroke-width:2; stroke-opacity:0.1; fill:none\" points=\"202.227,1018.49 2352.76,1018.49 \"/>\n",
       "<polyline clip-path=\"url(#clip672)\" style=\"stroke:#000000; stroke-linecap:round; stroke-linejoin:round; stroke-width:2; stroke-opacity:0.1; fill:none\" points=\"202.227,613.806 2352.76,613.806 \"/>\n",
       "<polyline clip-path=\"url(#clip672)\" style=\"stroke:#000000; stroke-linecap:round; stroke-linejoin:round; stroke-width:2; stroke-opacity:0.1; fill:none\" points=\"202.227,209.119 2352.76,209.119 \"/>\n",
       "<polyline clip-path=\"url(#clip670)\" style=\"stroke:#000000; stroke-linecap:round; stroke-linejoin:round; stroke-width:4; stroke-opacity:1; fill:none\" points=\"202.227,1423.18 202.227,47.2441 \"/>\n",
       "<polyline clip-path=\"url(#clip670)\" style=\"stroke:#000000; stroke-linecap:round; stroke-linejoin:round; stroke-width:4; stroke-opacity:1; fill:none\" points=\"202.227,1423.18 221.125,1423.18 \"/>\n",
       "<polyline clip-path=\"url(#clip670)\" style=\"stroke:#000000; stroke-linecap:round; stroke-linejoin:round; stroke-width:4; stroke-opacity:1; fill:none\" points=\"202.227,1018.49 221.125,1018.49 \"/>\n",
       "<polyline clip-path=\"url(#clip670)\" style=\"stroke:#000000; stroke-linecap:round; stroke-linejoin:round; stroke-width:4; stroke-opacity:1; fill:none\" points=\"202.227,613.806 221.125,613.806 \"/>\n",
       "<polyline clip-path=\"url(#clip670)\" style=\"stroke:#000000; stroke-linecap:round; stroke-linejoin:round; stroke-width:4; stroke-opacity:1; fill:none\" points=\"202.227,209.119 221.125,209.119 \"/>\n",
       "<path clip-path=\"url(#clip670)\" d=\"M154.283 1408.98 Q150.672 1408.98 148.843 1412.54 Q147.038 1416.08 147.038 1423.21 Q147.038 1430.32 148.843 1433.89 Q150.672 1437.43 154.283 1437.43 Q157.917 1437.43 159.723 1433.89 Q161.552 1430.32 161.552 1423.21 Q161.552 1416.08 159.723 1412.54 Q157.917 1408.98 154.283 1408.98 M154.283 1405.27 Q160.093 1405.27 163.149 1409.88 Q166.227 1414.46 166.227 1423.21 Q166.227 1431.94 163.149 1436.55 Q160.093 1441.13 154.283 1441.13 Q148.473 1441.13 145.394 1436.55 Q142.339 1431.94 142.339 1423.21 Q142.339 1414.46 145.394 1409.88 Q148.473 1405.27 154.283 1405.27 Z\" fill=\"#000000\" fill-rule=\"nonzero\" fill-opacity=\"1\" /><path clip-path=\"url(#clip670)\" d=\"M145.325 1001.21 L163.681 1001.21 L163.681 1005.15 L149.607 1005.15 L149.607 1013.62 Q150.626 1013.27 151.644 1013.11 Q152.663 1012.93 153.681 1012.93 Q159.468 1012.93 162.848 1016.1 Q166.227 1019.27 166.227 1024.68 Q166.227 1030.26 162.755 1033.37 Q159.283 1036.44 152.964 1036.44 Q150.788 1036.44 148.519 1036.07 Q146.274 1035.7 143.866 1034.96 L143.866 1030.26 Q145.95 1031.4 148.172 1031.95 Q150.394 1032.51 152.871 1032.51 Q156.876 1032.51 159.214 1030.4 Q161.552 1028.3 161.552 1024.68 Q161.552 1021.07 159.214 1018.97 Q156.876 1016.86 152.871 1016.86 Q150.996 1016.86 149.121 1017.28 Q147.269 1017.69 145.325 1018.57 L145.325 1001.21 Z\" fill=\"#000000\" fill-rule=\"nonzero\" fill-opacity=\"1\" /><path clip-path=\"url(#clip670)\" d=\"M114.931 627.151 L122.57 627.151 L122.57 600.785 L114.26 602.452 L114.26 598.193 L122.524 596.526 L127.2 596.526 L127.2 627.151 L134.839 627.151 L134.839 631.086 L114.931 631.086 L114.931 627.151 Z\" fill=\"#000000\" fill-rule=\"nonzero\" fill-opacity=\"1\" /><path clip-path=\"url(#clip670)\" d=\"M154.283 599.605 Q150.672 599.605 148.843 603.169 Q147.038 606.711 147.038 613.841 Q147.038 620.947 148.843 624.512 Q150.672 628.053 154.283 628.053 Q157.917 628.053 159.723 624.512 Q161.552 620.947 161.552 613.841 Q161.552 606.711 159.723 603.169 Q157.917 599.605 154.283 599.605 M154.283 595.901 Q160.093 595.901 163.149 600.507 Q166.227 605.091 166.227 613.841 Q166.227 622.567 163.149 627.174 Q160.093 631.757 154.283 631.757 Q148.473 631.757 145.394 627.174 Q142.339 622.567 142.339 613.841 Q142.339 605.091 145.394 600.507 Q148.473 595.901 154.283 595.901 Z\" fill=\"#000000\" fill-rule=\"nonzero\" fill-opacity=\"1\" /><path clip-path=\"url(#clip670)\" d=\"M115.927 222.464 L123.566 222.464 L123.566 196.098 L115.256 197.765 L115.256 193.506 L123.519 191.839 L128.195 191.839 L128.195 222.464 L135.834 222.464 L135.834 226.399 L115.927 226.399 L115.927 222.464 Z\" fill=\"#000000\" fill-rule=\"nonzero\" fill-opacity=\"1\" /><path clip-path=\"url(#clip670)\" d=\"M145.325 191.839 L163.681 191.839 L163.681 195.774 L149.607 195.774 L149.607 204.246 Q150.626 203.899 151.644 203.737 Q152.663 203.552 153.681 203.552 Q159.468 203.552 162.848 206.723 Q166.227 209.894 166.227 215.311 Q166.227 220.89 162.755 223.991 Q159.283 227.07 152.964 227.07 Q150.788 227.07 148.519 226.7 Q146.274 226.329 143.866 225.589 L143.866 220.89 Q145.95 222.024 148.172 222.579 Q150.394 223.135 152.871 223.135 Q156.876 223.135 159.214 221.029 Q161.552 218.922 161.552 215.311 Q161.552 211.7 159.214 209.593 Q156.876 207.487 152.871 207.487 Q150.996 207.487 149.121 207.904 Q147.269 208.32 145.325 209.2 L145.325 191.839 Z\" fill=\"#000000\" fill-rule=\"nonzero\" fill-opacity=\"1\" /><path clip-path=\"url(#clip670)\" d=\"M29.7248 796.386 L35.1993 796.386 Q33.8307 798.869 33.1623 801.383 Q32.4621 803.866 32.4621 806.412 Q32.4621 812.11 36.0905 815.261 Q39.6872 818.412 46.212 818.412 Q52.7369 818.412 56.3653 815.261 Q59.9619 812.11 59.9619 806.412 Q59.9619 803.866 59.2935 801.383 Q58.5933 798.869 57.2247 796.386 L62.6355 796.386 Q63.7814 798.837 64.3543 801.479 Q64.9272 804.089 64.9272 807.049 Q64.9272 815.102 59.8664 819.844 Q54.8057 824.586 46.212 824.586 Q37.491 824.586 32.4939 819.812 Q27.4968 815.006 27.4968 806.667 Q27.4968 803.962 28.0697 801.383 Q28.6108 798.805 29.7248 796.386 Z\" fill=\"#000000\" fill-rule=\"nonzero\" fill-opacity=\"1\" /><path clip-path=\"url(#clip670)\" d=\"M32.4621 772.388 Q32.4621 777.098 36.1542 779.836 Q39.8145 782.573 46.212 782.573 Q52.6095 782.573 56.3017 779.867 Q59.9619 777.13 59.9619 772.388 Q59.9619 767.709 56.2698 764.972 Q52.5777 762.234 46.212 762.234 Q39.8781 762.234 36.186 764.972 Q32.4621 767.709 32.4621 772.388 M27.4968 772.388 Q27.4968 764.749 32.4621 760.388 Q37.4273 756.028 46.212 756.028 Q54.9649 756.028 59.9619 760.388 Q64.9272 764.749 64.9272 772.388 Q64.9272 780.058 59.9619 784.419 Q54.9649 788.748 46.212 788.748 Q37.4273 788.748 32.4621 784.419 Q27.4968 780.058 27.4968 772.388 Z\" fill=\"#000000\" fill-rule=\"nonzero\" fill-opacity=\"1\" /><path clip-path=\"url(#clip670)\" d=\"M49.9359 746.925 L28.3562 746.925 L28.3562 741.068 L49.7131 741.068 Q54.7739 741.068 57.3202 739.095 Q59.8346 737.122 59.8346 733.175 Q59.8346 728.432 56.8109 725.695 Q53.7872 722.926 48.5673 722.926 L28.3562 722.926 L28.3562 717.07 L64.0042 717.07 L64.0042 722.926 L58.5296 722.926 Q61.7762 725.059 63.3676 727.891 Q64.9272 730.692 64.9272 734.416 Q64.9272 740.559 61.1078 743.742 Q57.2883 746.925 49.9359 746.925 M27.4968 732.188 L27.4968 732.188 Z\" fill=\"#000000\" fill-rule=\"nonzero\" fill-opacity=\"1\" /><path clip-path=\"url(#clip670)\" d=\"M42.4881 675.374 L64.0042 675.374 L64.0042 681.231 L42.679 681.231 Q37.6183 681.231 35.1038 683.204 Q32.5894 685.178 32.5894 689.124 Q32.5894 693.867 35.6131 696.604 Q38.6368 699.341 43.8567 699.341 L64.0042 699.341 L64.0042 705.229 L28.3562 705.229 L28.3562 699.341 L33.8944 699.341 Q30.6797 697.241 29.0883 694.408 Q27.4968 691.543 27.4968 687.819 Q27.4968 681.676 31.3163 678.525 Q35.1038 675.374 42.4881 675.374 Z\" fill=\"#000000\" fill-rule=\"nonzero\" fill-opacity=\"1\" /><path clip-path=\"url(#clip670)\" d=\"M18.2347 657.9 L28.3562 657.9 L28.3562 645.837 L32.9077 645.837 L32.9077 657.9 L52.2594 657.9 Q56.6199 657.9 57.8613 656.723 Q59.1026 655.513 59.1026 651.853 L59.1026 645.837 L64.0042 645.837 L64.0042 651.853 Q64.0042 658.633 61.4897 661.211 Q58.9434 663.789 52.2594 663.789 L32.9077 663.789 L32.9077 668.086 L28.3562 668.086 L28.3562 663.789 L18.2347 663.789 L18.2347 657.9 Z\" fill=\"#000000\" fill-rule=\"nonzero\" fill-opacity=\"1\" /><path clip-path=\"url(#clip672)\" d=\"M487.436 1342.24 L487.436 1423.18 L556.932 1423.18 L556.932 1342.24 L487.436 1342.24 L487.436 1342.24  Z\" fill=\"#009af9\" fill-rule=\"evenodd\" fill-opacity=\"1\"/>\n",
       "<polyline clip-path=\"url(#clip672)\" style=\"stroke:#000000; stroke-linecap:round; stroke-linejoin:round; stroke-width:4; stroke-opacity:1; fill:none\" points=\"487.436,1342.24 487.436,1423.18 556.932,1423.18 556.932,1342.24 487.436,1342.24 \"/>\n",
       "<path clip-path=\"url(#clip672)\" d=\"M556.932 1423.18 L556.932 1423.18 L626.427 1423.18 L626.427 1423.18 L556.932 1423.18 L556.932 1423.18  Z\" fill=\"#009af9\" fill-rule=\"evenodd\" fill-opacity=\"1\"/>\n",
       "<polyline clip-path=\"url(#clip672)\" style=\"stroke:#000000; stroke-linecap:round; stroke-linejoin:round; stroke-width:4; stroke-opacity:1; fill:none\" points=\"556.932,1423.18 556.932,1423.18 626.427,1423.18 556.932,1423.18 \"/>\n",
       "<path clip-path=\"url(#clip672)\" d=\"M626.427 1342.24 L626.427 1423.18 L695.922 1423.18 L695.922 1342.24 L626.427 1342.24 L626.427 1342.24  Z\" fill=\"#009af9\" fill-rule=\"evenodd\" fill-opacity=\"1\"/>\n",
       "<polyline clip-path=\"url(#clip672)\" style=\"stroke:#000000; stroke-linecap:round; stroke-linejoin:round; stroke-width:4; stroke-opacity:1; fill:none\" points=\"626.427,1342.24 626.427,1423.18 695.922,1423.18 695.922,1342.24 626.427,1342.24 \"/>\n",
       "<path clip-path=\"url(#clip672)\" d=\"M695.922 1261.31 L695.922 1423.18 L765.418 1423.18 L765.418 1261.31 L695.922 1261.31 L695.922 1261.31  Z\" fill=\"#009af9\" fill-rule=\"evenodd\" fill-opacity=\"1\"/>\n",
       "<polyline clip-path=\"url(#clip672)\" style=\"stroke:#000000; stroke-linecap:round; stroke-linejoin:round; stroke-width:4; stroke-opacity:1; fill:none\" points=\"695.922,1261.31 695.922,1423.18 765.418,1423.18 765.418,1261.31 695.922,1261.31 \"/>\n",
       "<path clip-path=\"url(#clip672)\" d=\"M765.418 1342.24 L765.418 1423.18 L834.913 1423.18 L834.913 1342.24 L765.418 1342.24 L765.418 1342.24  Z\" fill=\"#009af9\" fill-rule=\"evenodd\" fill-opacity=\"1\"/>\n",
       "<polyline clip-path=\"url(#clip672)\" style=\"stroke:#000000; stroke-linecap:round; stroke-linejoin:round; stroke-width:4; stroke-opacity:1; fill:none\" points=\"765.418,1342.24 765.418,1423.18 834.913,1423.18 834.913,1342.24 765.418,1342.24 \"/>\n",
       "<path clip-path=\"url(#clip672)\" d=\"M834.913 1342.24 L834.913 1423.18 L904.408 1423.18 L904.408 1342.24 L834.913 1342.24 L834.913 1342.24  Z\" fill=\"#009af9\" fill-rule=\"evenodd\" fill-opacity=\"1\"/>\n",
       "<polyline clip-path=\"url(#clip672)\" style=\"stroke:#000000; stroke-linecap:round; stroke-linejoin:round; stroke-width:4; stroke-opacity:1; fill:none\" points=\"834.913,1342.24 834.913,1423.18 904.408,1423.18 904.408,1342.24 834.913,1342.24 \"/>\n",
       "<path clip-path=\"url(#clip672)\" d=\"M904.408 1423.18 L904.408 1423.18 L973.903 1423.18 L973.903 1423.18 L904.408 1423.18 L904.408 1423.18  Z\" fill=\"#009af9\" fill-rule=\"evenodd\" fill-opacity=\"1\"/>\n",
       "<polyline clip-path=\"url(#clip672)\" style=\"stroke:#000000; stroke-linecap:round; stroke-linejoin:round; stroke-width:4; stroke-opacity:1; fill:none\" points=\"904.408,1423.18 904.408,1423.18 973.903,1423.18 904.408,1423.18 \"/>\n",
       "<path clip-path=\"url(#clip672)\" d=\"M973.903 1342.24 L973.903 1423.18 L1043.4 1423.18 L1043.4 1342.24 L973.903 1342.24 L973.903 1342.24  Z\" fill=\"#009af9\" fill-rule=\"evenodd\" fill-opacity=\"1\"/>\n",
       "<polyline clip-path=\"url(#clip672)\" style=\"stroke:#000000; stroke-linecap:round; stroke-linejoin:round; stroke-width:4; stroke-opacity:1; fill:none\" points=\"973.903,1342.24 973.903,1423.18 1043.4,1423.18 1043.4,1342.24 973.903,1342.24 \"/>\n",
       "<path clip-path=\"url(#clip672)\" d=\"M1043.4 1423.18 L1043.4 1423.18 L1112.89 1423.18 L1112.89 1423.18 L1043.4 1423.18 L1043.4 1423.18  Z\" fill=\"#009af9\" fill-rule=\"evenodd\" fill-opacity=\"1\"/>\n",
       "<polyline clip-path=\"url(#clip672)\" style=\"stroke:#000000; stroke-linecap:round; stroke-linejoin:round; stroke-width:4; stroke-opacity:1; fill:none\" points=\"1043.4,1423.18 1043.4,1423.18 1112.89,1423.18 1043.4,1423.18 \"/>\n",
       "<path clip-path=\"url(#clip672)\" d=\"M1112.89 1423.18 L1112.89 1423.18 L1182.39 1423.18 L1182.39 1423.18 L1112.89 1423.18 L1112.89 1423.18  Z\" fill=\"#009af9\" fill-rule=\"evenodd\" fill-opacity=\"1\"/>\n",
       "<polyline clip-path=\"url(#clip672)\" style=\"stroke:#000000; stroke-linecap:round; stroke-linejoin:round; stroke-width:4; stroke-opacity:1; fill:none\" points=\"1112.89,1423.18 1112.89,1423.18 1182.39,1423.18 1112.89,1423.18 \"/>\n",
       "<path clip-path=\"url(#clip672)\" d=\"M1182.39 1423.18 L1182.39 1423.18 L1251.88 1423.18 L1251.88 1423.18 L1182.39 1423.18 L1182.39 1423.18  Z\" fill=\"#009af9\" fill-rule=\"evenodd\" fill-opacity=\"1\"/>\n",
       "<polyline clip-path=\"url(#clip672)\" style=\"stroke:#000000; stroke-linecap:round; stroke-linejoin:round; stroke-width:4; stroke-opacity:1; fill:none\" points=\"1182.39,1423.18 1182.39,1423.18 1251.88,1423.18 1182.39,1423.18 \"/>\n",
       "<path clip-path=\"url(#clip672)\" d=\"M1251.88 1423.18 L1251.88 1423.18 L1321.38 1423.18 L1321.38 1423.18 L1251.88 1423.18 L1251.88 1423.18  Z\" fill=\"#009af9\" fill-rule=\"evenodd\" fill-opacity=\"1\"/>\n",
       "<polyline clip-path=\"url(#clip672)\" style=\"stroke:#000000; stroke-linecap:round; stroke-linejoin:round; stroke-width:4; stroke-opacity:1; fill:none\" points=\"1251.88,1423.18 1251.88,1423.18 1321.38,1423.18 1251.88,1423.18 \"/>\n",
       "<path clip-path=\"url(#clip672)\" d=\"M1321.38 1180.37 L1321.38 1423.18 L1390.88 1423.18 L1390.88 1180.37 L1321.38 1180.37 L1321.38 1180.37  Z\" fill=\"#009af9\" fill-rule=\"evenodd\" fill-opacity=\"1\"/>\n",
       "<polyline clip-path=\"url(#clip672)\" style=\"stroke:#000000; stroke-linecap:round; stroke-linejoin:round; stroke-width:4; stroke-opacity:1; fill:none\" points=\"1321.38,1180.37 1321.38,1423.18 1390.88,1423.18 1390.88,1180.37 1321.38,1180.37 \"/>\n",
       "<path clip-path=\"url(#clip672)\" d=\"M1390.88 1342.24 L1390.88 1423.18 L1460.37 1423.18 L1460.37 1342.24 L1390.88 1342.24 L1390.88 1342.24  Z\" fill=\"#009af9\" fill-rule=\"evenodd\" fill-opacity=\"1\"/>\n",
       "<polyline clip-path=\"url(#clip672)\" style=\"stroke:#000000; stroke-linecap:round; stroke-linejoin:round; stroke-width:4; stroke-opacity:1; fill:none\" points=\"1390.88,1342.24 1390.88,1423.18 1460.37,1423.18 1460.37,1342.24 1390.88,1342.24 \"/>\n",
       "<path clip-path=\"url(#clip672)\" d=\"M1460.37 1180.37 L1460.37 1423.18 L1529.87 1423.18 L1529.87 1180.37 L1460.37 1180.37 L1460.37 1180.37  Z\" fill=\"#009af9\" fill-rule=\"evenodd\" fill-opacity=\"1\"/>\n",
       "<polyline clip-path=\"url(#clip672)\" style=\"stroke:#000000; stroke-linecap:round; stroke-linejoin:round; stroke-width:4; stroke-opacity:1; fill:none\" points=\"1460.37,1180.37 1460.37,1423.18 1529.87,1423.18 1529.87,1180.37 1460.37,1180.37 \"/>\n",
       "<path clip-path=\"url(#clip672)\" d=\"M1529.87 1261.31 L1529.87 1423.18 L1599.36 1423.18 L1599.36 1261.31 L1529.87 1261.31 L1529.87 1261.31  Z\" fill=\"#009af9\" fill-rule=\"evenodd\" fill-opacity=\"1\"/>\n",
       "<polyline clip-path=\"url(#clip672)\" style=\"stroke:#000000; stroke-linecap:round; stroke-linejoin:round; stroke-width:4; stroke-opacity:1; fill:none\" points=\"1529.87,1261.31 1529.87,1423.18 1599.36,1423.18 1599.36,1261.31 1529.87,1261.31 \"/>\n",
       "<path clip-path=\"url(#clip672)\" d=\"M1599.36 1342.24 L1599.36 1423.18 L1668.86 1423.18 L1668.86 1342.24 L1599.36 1342.24 L1599.36 1342.24  Z\" fill=\"#009af9\" fill-rule=\"evenodd\" fill-opacity=\"1\"/>\n",
       "<polyline clip-path=\"url(#clip672)\" style=\"stroke:#000000; stroke-linecap:round; stroke-linejoin:round; stroke-width:4; stroke-opacity:1; fill:none\" points=\"1599.36,1342.24 1599.36,1423.18 1668.86,1423.18 1668.86,1342.24 1599.36,1342.24 \"/>\n",
       "<path clip-path=\"url(#clip672)\" d=\"M1668.86 1342.24 L1668.86 1423.18 L1738.35 1423.18 L1738.35 1342.24 L1668.86 1342.24 L1668.86 1342.24  Z\" fill=\"#009af9\" fill-rule=\"evenodd\" fill-opacity=\"1\"/>\n",
       "<polyline clip-path=\"url(#clip672)\" style=\"stroke:#000000; stroke-linecap:round; stroke-linejoin:round; stroke-width:4; stroke-opacity:1; fill:none\" points=\"1668.86,1342.24 1668.86,1423.18 1738.35,1423.18 1738.35,1342.24 1668.86,1342.24 \"/>\n",
       "<path clip-path=\"url(#clip672)\" d=\"M1738.35 1099.43 L1738.35 1423.18 L1807.85 1423.18 L1807.85 1099.43 L1738.35 1099.43 L1738.35 1099.43  Z\" fill=\"#009af9\" fill-rule=\"evenodd\" fill-opacity=\"1\"/>\n",
       "<polyline clip-path=\"url(#clip672)\" style=\"stroke:#000000; stroke-linecap:round; stroke-linejoin:round; stroke-width:4; stroke-opacity:1; fill:none\" points=\"1738.35,1099.43 1738.35,1423.18 1807.85,1423.18 1807.85,1099.43 1738.35,1099.43 \"/>\n",
       "<path clip-path=\"url(#clip672)\" d=\"M1807.85 856.618 L1807.85 1423.18 L1877.34 1423.18 L1877.34 856.618 L1807.85 856.618 L1807.85 856.618  Z\" fill=\"#009af9\" fill-rule=\"evenodd\" fill-opacity=\"1\"/>\n",
       "<polyline clip-path=\"url(#clip672)\" style=\"stroke:#000000; stroke-linecap:round; stroke-linejoin:round; stroke-width:4; stroke-opacity:1; fill:none\" points=\"1807.85,856.618 1807.85,1423.18 1877.34,1423.18 1877.34,856.618 1807.85,856.618 \"/>\n",
       "<path clip-path=\"url(#clip672)\" d=\"M1877.34 1099.43 L1877.34 1423.18 L1946.84 1423.18 L1946.84 1099.43 L1877.34 1099.43 L1877.34 1099.43  Z\" fill=\"#009af9\" fill-rule=\"evenodd\" fill-opacity=\"1\"/>\n",
       "<polyline clip-path=\"url(#clip672)\" style=\"stroke:#000000; stroke-linecap:round; stroke-linejoin:round; stroke-width:4; stroke-opacity:1; fill:none\" points=\"1877.34,1099.43 1877.34,1423.18 1946.84,1423.18 1946.84,1099.43 1877.34,1099.43 \"/>\n",
       "<path clip-path=\"url(#clip672)\" d=\"M1946.84 1018.49 L1946.84 1423.18 L2016.33 1423.18 L2016.33 1018.49 L1946.84 1018.49 L1946.84 1018.49  Z\" fill=\"#009af9\" fill-rule=\"evenodd\" fill-opacity=\"1\"/>\n",
       "<polyline clip-path=\"url(#clip672)\" style=\"stroke:#000000; stroke-linecap:round; stroke-linejoin:round; stroke-width:4; stroke-opacity:1; fill:none\" points=\"1946.84,1018.49 1946.84,1423.18 2016.33,1423.18 2016.33,1018.49 1946.84,1018.49 \"/>\n",
       "<path clip-path=\"url(#clip672)\" d=\"M2016.33 937.555 L2016.33 1423.18 L2085.83 1423.18 L2085.83 937.555 L2016.33 937.555 L2016.33 937.555  Z\" fill=\"#009af9\" fill-rule=\"evenodd\" fill-opacity=\"1\"/>\n",
       "<polyline clip-path=\"url(#clip672)\" style=\"stroke:#000000; stroke-linecap:round; stroke-linejoin:round; stroke-width:4; stroke-opacity:1; fill:none\" points=\"2016.33,937.555 2016.33,1423.18 2085.83,1423.18 2085.83,937.555 2016.33,937.555 \"/>\n",
       "<path clip-path=\"url(#clip672)\" d=\"M2085.83 1018.49 L2085.83 1423.18 L2155.32 1423.18 L2155.32 1018.49 L2085.83 1018.49 L2085.83 1018.49  Z\" fill=\"#009af9\" fill-rule=\"evenodd\" fill-opacity=\"1\"/>\n",
       "<polyline clip-path=\"url(#clip672)\" style=\"stroke:#000000; stroke-linecap:round; stroke-linejoin:round; stroke-width:4; stroke-opacity:1; fill:none\" points=\"2085.83,1018.49 2085.83,1423.18 2155.32,1423.18 2155.32,1018.49 2085.83,1018.49 \"/>\n",
       "<path clip-path=\"url(#clip672)\" d=\"M2155.32 775.681 L2155.32 1423.18 L2224.82 1423.18 L2224.82 775.681 L2155.32 775.681 L2155.32 775.681  Z\" fill=\"#009af9\" fill-rule=\"evenodd\" fill-opacity=\"1\"/>\n",
       "<polyline clip-path=\"url(#clip672)\" style=\"stroke:#000000; stroke-linecap:round; stroke-linejoin:round; stroke-width:4; stroke-opacity:1; fill:none\" points=\"2155.32,775.681 2155.32,1423.18 2224.82,1423.18 2224.82,775.681 2155.32,775.681 \"/>\n",
       "<path clip-path=\"url(#clip672)\" d=\"M2224.82 775.681 L2224.82 1423.18 L2294.31 1423.18 L2294.31 775.681 L2224.82 775.681 L2224.82 775.681  Z\" fill=\"#009af9\" fill-rule=\"evenodd\" fill-opacity=\"1\"/>\n",
       "<polyline clip-path=\"url(#clip672)\" style=\"stroke:#000000; stroke-linecap:round; stroke-linejoin:round; stroke-width:4; stroke-opacity:1; fill:none\" points=\"2224.82,775.681 2224.82,1423.18 2294.31,1423.18 2294.31,775.681 2224.82,775.681 \"/>\n",
       "<path clip-path=\"url(#clip672)\" d=\"M2294.31 451.931 L2294.31 1423.18 L2363.81 1423.18 L2363.81 451.931 L2294.31 451.931 L2294.31 451.931  Z\" fill=\"#009af9\" fill-rule=\"evenodd\" fill-opacity=\"1\"/>\n",
       "<polyline clip-path=\"url(#clip672)\" style=\"stroke:#000000; stroke-linecap:round; stroke-linejoin:round; stroke-width:4; stroke-opacity:1; fill:none\" points=\"2294.31,451.931 2294.31,1423.18 2363.81,1423.18 2363.81,451.931 2294.31,451.931 \"/>\n",
       "<path clip-path=\"url(#clip672)\" d=\"M2363.81 775.681 L2363.81 1423.18 L2433.31 1423.18 L2433.31 775.681 L2363.81 775.681 L2363.81 775.681  Z\" fill=\"#009af9\" fill-rule=\"evenodd\" fill-opacity=\"1\"/>\n",
       "<polyline clip-path=\"url(#clip672)\" style=\"stroke:#000000; stroke-linecap:round; stroke-linejoin:round; stroke-width:4; stroke-opacity:1; fill:none\" points=\"2363.81,775.681 2363.81,1423.18 2433.31,1423.18 2433.31,775.681 2363.81,775.681 \"/>\n",
       "<path clip-path=\"url(#clip672)\" d=\"M2433.31 856.618 L2433.31 1423.18 L2502.8 1423.18 L2502.8 856.618 L2433.31 856.618 L2433.31 856.618  Z\" fill=\"#009af9\" fill-rule=\"evenodd\" fill-opacity=\"1\"/>\n",
       "<polyline clip-path=\"url(#clip672)\" style=\"stroke:#000000; stroke-linecap:round; stroke-linejoin:round; stroke-width:4; stroke-opacity:1; fill:none\" points=\"2433.31,856.618 2433.31,1423.18 2502.8,1423.18 2502.8,856.618 2433.31,856.618 \"/>\n",
       "<path clip-path=\"url(#clip672)\" d=\"M2502.8 613.806 L2502.8 1423.18 L2572.3 1423.18 L2572.3 613.806 L2502.8 613.806 L2502.8 613.806  Z\" fill=\"#009af9\" fill-rule=\"evenodd\" fill-opacity=\"1\"/>\n",
       "<polyline clip-path=\"url(#clip672)\" style=\"stroke:#000000; stroke-linecap:round; stroke-linejoin:round; stroke-width:4; stroke-opacity:1; fill:none\" points=\"2502.8,613.806 2502.8,1423.18 2572.3,1423.18 2572.3,613.806 2502.8,613.806 \"/>\n",
       "<path clip-path=\"url(#clip672)\" d=\"M2572.3 451.931 L2572.3 1423.18 L2641.79 1423.18 L2641.79 451.931 L2572.3 451.931 L2572.3 451.931  Z\" fill=\"#009af9\" fill-rule=\"evenodd\" fill-opacity=\"1\"/>\n",
       "<polyline clip-path=\"url(#clip672)\" style=\"stroke:#000000; stroke-linecap:round; stroke-linejoin:round; stroke-width:4; stroke-opacity:1; fill:none\" points=\"2572.3,451.931 2572.3,1423.18 2641.79,1423.18 2641.79,451.931 2572.3,451.931 \"/>\n",
       "<path clip-path=\"url(#clip672)\" d=\"M2641.79 613.806 L2641.79 1423.18 L2711.29 1423.18 L2711.29 613.806 L2641.79 613.806 L2641.79 613.806  Z\" fill=\"#009af9\" fill-rule=\"evenodd\" fill-opacity=\"1\"/>\n",
       "<polyline clip-path=\"url(#clip672)\" style=\"stroke:#000000; stroke-linecap:round; stroke-linejoin:round; stroke-width:4; stroke-opacity:1; fill:none\" points=\"2641.79,613.806 2641.79,1423.18 2711.29,1423.18 2711.29,613.806 2641.79,613.806 \"/>\n",
       "<path clip-path=\"url(#clip672)\" d=\"M2711.29 451.931 L2711.29 1423.18 L2780.78 1423.18 L2780.78 451.931 L2711.29 451.931 L2711.29 451.931  Z\" fill=\"#009af9\" fill-rule=\"evenodd\" fill-opacity=\"1\"/>\n",
       "<polyline clip-path=\"url(#clip672)\" style=\"stroke:#000000; stroke-linecap:round; stroke-linejoin:round; stroke-width:4; stroke-opacity:1; fill:none\" points=\"2711.29,451.931 2711.29,1423.18 2780.78,1423.18 2780.78,451.931 2711.29,451.931 \"/>\n",
       "<path clip-path=\"url(#clip672)\" d=\"M2780.78 532.868 L2780.78 1423.18 L2850.28 1423.18 L2850.28 532.868 L2780.78 532.868 L2780.78 532.868  Z\" fill=\"#009af9\" fill-rule=\"evenodd\" fill-opacity=\"1\"/>\n",
       "<polyline clip-path=\"url(#clip672)\" style=\"stroke:#000000; stroke-linecap:round; stroke-linejoin:round; stroke-width:4; stroke-opacity:1; fill:none\" points=\"2780.78,532.868 2780.78,1423.18 2850.28,1423.18 2850.28,532.868 2780.78,532.868 \"/>\n",
       "<path clip-path=\"url(#clip672)\" d=\"M2850.28 370.994 L2850.28 1423.18 L2919.77 1423.18 L2919.77 370.994 L2850.28 370.994 L2850.28 370.994  Z\" fill=\"#009af9\" fill-rule=\"evenodd\" fill-opacity=\"1\"/>\n",
       "<polyline clip-path=\"url(#clip672)\" style=\"stroke:#000000; stroke-linecap:round; stroke-linejoin:round; stroke-width:4; stroke-opacity:1; fill:none\" points=\"2850.28,370.994 2850.28,1423.18 2919.77,1423.18 2919.77,370.994 2850.28,370.994 \"/>\n",
       "<path clip-path=\"url(#clip672)\" d=\"M2919.77 775.681 L2919.77 1423.18 L2989.27 1423.18 L2989.27 775.681 L2919.77 775.681 L2919.77 775.681  Z\" fill=\"#009af9\" fill-rule=\"evenodd\" fill-opacity=\"1\"/>\n",
       "<polyline clip-path=\"url(#clip672)\" style=\"stroke:#000000; stroke-linecap:round; stroke-linejoin:round; stroke-width:4; stroke-opacity:1; fill:none\" points=\"2919.77,775.681 2919.77,1423.18 2989.27,1423.18 2989.27,775.681 2919.77,775.681 \"/>\n",
       "<path clip-path=\"url(#clip672)\" d=\"M2989.27 775.681 L2989.27 1423.18 L3058.76 1423.18 L3058.76 775.681 L2989.27 775.681 L2989.27 775.681  Z\" fill=\"#009af9\" fill-rule=\"evenodd\" fill-opacity=\"1\"/>\n",
       "<polyline clip-path=\"url(#clip672)\" style=\"stroke:#000000; stroke-linecap:round; stroke-linejoin:round; stroke-width:4; stroke-opacity:1; fill:none\" points=\"2989.27,775.681 2989.27,1423.18 3058.76,1423.18 3058.76,775.681 2989.27,775.681 \"/>\n",
       "<path clip-path=\"url(#clip672)\" d=\"M3058.76 613.806 L3058.76 1423.18 L3128.26 1423.18 L3128.26 613.806 L3058.76 613.806 L3058.76 613.806  Z\" fill=\"#009af9\" fill-rule=\"evenodd\" fill-opacity=\"1\"/>\n",
       "<polyline clip-path=\"url(#clip672)\" style=\"stroke:#000000; stroke-linecap:round; stroke-linejoin:round; stroke-width:4; stroke-opacity:1; fill:none\" points=\"3058.76,613.806 3058.76,1423.18 3128.26,1423.18 3128.26,613.806 3058.76,613.806 \"/>\n",
       "<path clip-path=\"url(#clip672)\" d=\"M3128.26 694.743 L3128.26 1423.18 L3197.75 1423.18 L3197.75 694.743 L3128.26 694.743 L3128.26 694.743  Z\" fill=\"#009af9\" fill-rule=\"evenodd\" fill-opacity=\"1\"/>\n",
       "<polyline clip-path=\"url(#clip672)\" style=\"stroke:#000000; stroke-linecap:round; stroke-linejoin:round; stroke-width:4; stroke-opacity:1; fill:none\" points=\"3128.26,694.743 3128.26,1423.18 3197.75,1423.18 3197.75,694.743 3128.26,694.743 \"/>\n",
       "<path clip-path=\"url(#clip672)\" d=\"M3197.75 290.056 L3197.75 1423.18 L3267.25 1423.18 L3267.25 290.056 L3197.75 290.056 L3197.75 290.056  Z\" fill=\"#009af9\" fill-rule=\"evenodd\" fill-opacity=\"1\"/>\n",
       "<polyline clip-path=\"url(#clip672)\" style=\"stroke:#000000; stroke-linecap:round; stroke-linejoin:round; stroke-width:4; stroke-opacity:1; fill:none\" points=\"3197.75,290.056 3197.75,1423.18 3267.25,1423.18 3267.25,290.056 3197.75,290.056 \"/>\n",
       "<path clip-path=\"url(#clip672)\" d=\"M3267.25 47.2441 L3267.25 1423.18 L3336.74 1423.18 L3336.74 47.2441 L3267.25 47.2441 L3267.25 47.2441  Z\" fill=\"#009af9\" fill-rule=\"evenodd\" fill-opacity=\"1\"/>\n",
       "<polyline clip-path=\"url(#clip672)\" style=\"stroke:#000000; stroke-linecap:round; stroke-linejoin:round; stroke-width:4; stroke-opacity:1; fill:none\" points=\"3267.25,47.2441 3267.25,1423.18 3336.74,1423.18 3336.74,47.2441 3267.25,47.2441 \"/>\n",
       "<path clip-path=\"url(#clip672)\" d=\"M3336.74 775.681 L3336.74 1423.18 L3406.24 1423.18 L3406.24 775.681 L3336.74 775.681 L3336.74 775.681  Z\" fill=\"#009af9\" fill-rule=\"evenodd\" fill-opacity=\"1\"/>\n",
       "<polyline clip-path=\"url(#clip672)\" style=\"stroke:#000000; stroke-linecap:round; stroke-linejoin:round; stroke-width:4; stroke-opacity:1; fill:none\" points=\"3336.74,775.681 3336.74,1423.18 3406.24,1423.18 3406.24,775.681 3336.74,775.681 \"/>\n",
       "<path clip-path=\"url(#clip672)\" d=\"M3406.24 209.119 L3406.24 1423.18 L3475.73 1423.18 L3475.73 209.119 L3406.24 209.119 L3406.24 209.119  Z\" fill=\"#009af9\" fill-rule=\"evenodd\" fill-opacity=\"1\"/>\n",
       "<polyline clip-path=\"url(#clip672)\" style=\"stroke:#000000; stroke-linecap:round; stroke-linejoin:round; stroke-width:4; stroke-opacity:1; fill:none\" points=\"3406.24,209.119 3406.24,1423.18 3475.73,1423.18 3475.73,209.119 3406.24,209.119 \"/>\n",
       "<path clip-path=\"url(#clip672)\" d=\"M3475.73 1099.43 L3475.73 1423.18 L3545.23 1423.18 L3545.23 1099.43 L3475.73 1099.43 L3475.73 1099.43  Z\" fill=\"#009af9\" fill-rule=\"evenodd\" fill-opacity=\"1\"/>\n",
       "<polyline clip-path=\"url(#clip672)\" style=\"stroke:#000000; stroke-linecap:round; stroke-linejoin:round; stroke-width:4; stroke-opacity:1; fill:none\" points=\"3475.73,1099.43 3475.73,1423.18 3545.23,1423.18 3545.23,1099.43 3475.73,1099.43 \"/>\n",
       "<path clip-path=\"url(#clip672)\" d=\"M3545.23 694.743 L3545.23 1423.18 L3614.73 1423.18 L3614.73 694.743 L3545.23 694.743 L3545.23 694.743  Z\" fill=\"#009af9\" fill-rule=\"evenodd\" fill-opacity=\"1\"/>\n",
       "<polyline clip-path=\"url(#clip672)\" style=\"stroke:#000000; stroke-linecap:round; stroke-linejoin:round; stroke-width:4; stroke-opacity:1; fill:none\" points=\"3545.23,694.743 3545.23,1423.18 3614.73,1423.18 3614.73,694.743 3545.23,694.743 \"/>\n",
       "<path clip-path=\"url(#clip672)\" d=\"M3614.73 451.931 L3614.73 1423.18 L3684.22 1423.18 L3684.22 451.931 L3614.73 451.931 L3614.73 451.931  Z\" fill=\"#009af9\" fill-rule=\"evenodd\" fill-opacity=\"1\"/>\n",
       "<polyline clip-path=\"url(#clip672)\" style=\"stroke:#000000; stroke-linecap:round; stroke-linejoin:round; stroke-width:4; stroke-opacity:1; fill:none\" points=\"3614.73,451.931 3614.73,1423.18 3684.22,1423.18 3684.22,451.931 3614.73,451.931 \"/>\n",
       "<path clip-path=\"url(#clip672)\" d=\"M3684.22 290.056 L3684.22 1423.18 L3753.72 1423.18 L3753.72 290.056 L3684.22 290.056 L3684.22 290.056  Z\" fill=\"#009af9\" fill-rule=\"evenodd\" fill-opacity=\"1\"/>\n",
       "<polyline clip-path=\"url(#clip672)\" style=\"stroke:#000000; stroke-linecap:round; stroke-linejoin:round; stroke-width:4; stroke-opacity:1; fill:none\" points=\"3684.22,290.056 3684.22,1423.18 3753.72,1423.18 3753.72,290.056 3684.22,290.056 \"/>\n",
       "<path clip-path=\"url(#clip672)\" d=\"M3753.72 128.181 L3753.72 1423.18 L3823.21 1423.18 L3823.21 128.181 L3753.72 128.181 L3753.72 128.181  Z\" fill=\"#009af9\" fill-rule=\"evenodd\" fill-opacity=\"1\"/>\n",
       "<polyline clip-path=\"url(#clip672)\" style=\"stroke:#000000; stroke-linecap:round; stroke-linejoin:round; stroke-width:4; stroke-opacity:1; fill:none\" points=\"3753.72,128.181 3753.72,1423.18 3823.21,1423.18 3823.21,128.181 3753.72,128.181 \"/>\n",
       "<path clip-path=\"url(#clip672)\" d=\"M3823.21 1099.43 L3823.21 1423.18 L3892.71 1423.18 L3892.71 1099.43 L3823.21 1099.43 L3823.21 1099.43  Z\" fill=\"#009af9\" fill-rule=\"evenodd\" fill-opacity=\"1\"/>\n",
       "<polyline clip-path=\"url(#clip672)\" style=\"stroke:#000000; stroke-linecap:round; stroke-linejoin:round; stroke-width:4; stroke-opacity:1; fill:none\" points=\"3823.21,1099.43 3823.21,1423.18 3892.71,1423.18 3892.71,1099.43 3823.21,1099.43 \"/>\n",
       "<path clip-path=\"url(#clip672)\" d=\"M3892.71 370.994 L3892.71 1423.18 L3962.2 1423.18 L3962.2 370.994 L3892.71 370.994 L3892.71 370.994  Z\" fill=\"#009af9\" fill-rule=\"evenodd\" fill-opacity=\"1\"/>\n",
       "<polyline clip-path=\"url(#clip672)\" style=\"stroke:#000000; stroke-linecap:round; stroke-linejoin:round; stroke-width:4; stroke-opacity:1; fill:none\" points=\"3892.71,370.994 3892.71,1423.18 3962.2,1423.18 3962.2,370.994 3892.71,370.994 \"/>\n",
       "<path clip-path=\"url(#clip672)\" d=\"M3962.2 451.931 L3962.2 1423.18 L4031.7 1423.18 L4031.7 451.931 L3962.2 451.931 L3962.2 451.931  Z\" fill=\"#009af9\" fill-rule=\"evenodd\" fill-opacity=\"1\"/>\n",
       "<polyline clip-path=\"url(#clip672)\" style=\"stroke:#000000; stroke-linecap:round; stroke-linejoin:round; stroke-width:4; stroke-opacity:1; fill:none\" points=\"3962.2,451.931 3962.2,1423.18 4031.7,1423.18 4031.7,451.931 3962.2,451.931 \"/>\n",
       "<path clip-path=\"url(#clip672)\" d=\"M4031.7 856.618 L4031.7 1423.18 L4101.19 1423.18 L4101.19 856.618 L4031.7 856.618 L4031.7 856.618  Z\" fill=\"#009af9\" fill-rule=\"evenodd\" fill-opacity=\"1\"/>\n",
       "<polyline clip-path=\"url(#clip672)\" style=\"stroke:#000000; stroke-linecap:round; stroke-linejoin:round; stroke-width:4; stroke-opacity:1; fill:none\" points=\"4031.7,856.618 4031.7,1423.18 4101.19,1423.18 4101.19,856.618 4031.7,856.618 \"/>\n",
       "<path clip-path=\"url(#clip672)\" d=\"M4101.19 775.681 L4101.19 1423.18 L4170.69 1423.18 L4170.69 775.681 L4101.19 775.681 L4101.19 775.681  Z\" fill=\"#009af9\" fill-rule=\"evenodd\" fill-opacity=\"1\"/>\n",
       "<polyline clip-path=\"url(#clip672)\" style=\"stroke:#000000; stroke-linecap:round; stroke-linejoin:round; stroke-width:4; stroke-opacity:1; fill:none\" points=\"4101.19,775.681 4101.19,1423.18 4170.69,1423.18 4170.69,775.681 4101.19,775.681 \"/>\n",
       "<path clip-path=\"url(#clip672)\" d=\"M4170.69 937.555 L4170.69 1423.18 L4240.18 1423.18 L4240.18 937.555 L4170.69 937.555 L4170.69 937.555  Z\" fill=\"#009af9\" fill-rule=\"evenodd\" fill-opacity=\"1\"/>\n",
       "<polyline clip-path=\"url(#clip672)\" style=\"stroke:#000000; stroke-linecap:round; stroke-linejoin:round; stroke-width:4; stroke-opacity:1; fill:none\" points=\"4170.69,937.555 4170.69,1423.18 4240.18,1423.18 4240.18,937.555 4170.69,937.555 \"/>\n",
       "<path clip-path=\"url(#clip672)\" d=\"M4240.18 694.743 L4240.18 1423.18 L4309.68 1423.18 L4309.68 694.743 L4240.18 694.743 L4240.18 694.743  Z\" fill=\"#009af9\" fill-rule=\"evenodd\" fill-opacity=\"1\"/>\n",
       "<polyline clip-path=\"url(#clip672)\" style=\"stroke:#000000; stroke-linecap:round; stroke-linejoin:round; stroke-width:4; stroke-opacity:1; fill:none\" points=\"4240.18,694.743 4240.18,1423.18 4309.68,1423.18 4309.68,694.743 4240.18,694.743 \"/>\n",
       "<path clip-path=\"url(#clip672)\" d=\"M4309.68 1018.49 L4309.68 1423.18 L4379.17 1423.18 L4379.17 1018.49 L4309.68 1018.49 L4309.68 1018.49  Z\" fill=\"#009af9\" fill-rule=\"evenodd\" fill-opacity=\"1\"/>\n",
       "<polyline clip-path=\"url(#clip672)\" style=\"stroke:#000000; stroke-linecap:round; stroke-linejoin:round; stroke-width:4; stroke-opacity:1; fill:none\" points=\"4309.68,1018.49 4309.68,1423.18 4379.17,1423.18 4379.17,1018.49 4309.68,1018.49 \"/>\n",
       "<path clip-path=\"url(#clip672)\" d=\"M4379.17 937.555 L4379.17 1423.18 L4448.67 1423.18 L4448.67 937.555 L4379.17 937.555 L4379.17 937.555  Z\" fill=\"#009af9\" fill-rule=\"evenodd\" fill-opacity=\"1\"/>\n",
       "<polyline clip-path=\"url(#clip672)\" style=\"stroke:#000000; stroke-linecap:round; stroke-linejoin:round; stroke-width:4; stroke-opacity:1; fill:none\" points=\"4379.17,937.555 4379.17,1423.18 4448.67,1423.18 4448.67,937.555 4379.17,937.555 \"/>\n",
       "<path clip-path=\"url(#clip672)\" d=\"M4448.67 775.681 L4448.67 1423.18 L4518.16 1423.18 L4518.16 775.681 L4448.67 775.681 L4448.67 775.681  Z\" fill=\"#009af9\" fill-rule=\"evenodd\" fill-opacity=\"1\"/>\n",
       "<polyline clip-path=\"url(#clip672)\" style=\"stroke:#000000; stroke-linecap:round; stroke-linejoin:round; stroke-width:4; stroke-opacity:1; fill:none\" points=\"4448.67,775.681 4448.67,1423.18 4518.16,1423.18 4518.16,775.681 4448.67,775.681 \"/>\n",
       "<path clip-path=\"url(#clip672)\" d=\"M4518.16 937.555 L4518.16 1423.18 L4587.66 1423.18 L4587.66 937.555 L4518.16 937.555 L4518.16 937.555  Z\" fill=\"#009af9\" fill-rule=\"evenodd\" fill-opacity=\"1\"/>\n",
       "<polyline clip-path=\"url(#clip672)\" style=\"stroke:#000000; stroke-linecap:round; stroke-linejoin:round; stroke-width:4; stroke-opacity:1; fill:none\" points=\"4518.16,937.555 4518.16,1423.18 4587.66,1423.18 4587.66,937.555 4518.16,937.555 \"/>\n",
       "<path clip-path=\"url(#clip672)\" d=\"M4587.66 937.555 L4587.66 1423.18 L4657.16 1423.18 L4657.16 937.555 L4587.66 937.555 L4587.66 937.555  Z\" fill=\"#009af9\" fill-rule=\"evenodd\" fill-opacity=\"1\"/>\n",
       "<polyline clip-path=\"url(#clip672)\" style=\"stroke:#000000; stroke-linecap:round; stroke-linejoin:round; stroke-width:4; stroke-opacity:1; fill:none\" points=\"4587.66,937.555 4587.66,1423.18 4657.16,1423.18 4657.16,937.555 4587.66,937.555 \"/>\n",
       "<path clip-path=\"url(#clip672)\" d=\"M4657.16 1018.49 L4657.16 1423.18 L4726.65 1423.18 L4726.65 1018.49 L4657.16 1018.49 L4657.16 1018.49  Z\" fill=\"#009af9\" fill-rule=\"evenodd\" fill-opacity=\"1\"/>\n",
       "<polyline clip-path=\"url(#clip672)\" style=\"stroke:#000000; stroke-linecap:round; stroke-linejoin:round; stroke-width:4; stroke-opacity:1; fill:none\" points=\"4657.16,1018.49 4657.16,1423.18 4726.65,1423.18 4726.65,1018.49 4657.16,1018.49 \"/>\n",
       "<path clip-path=\"url(#clip672)\" d=\"M4726.65 1099.43 L4726.65 1423.18 L4796.15 1423.18 L4796.15 1099.43 L4726.65 1099.43 L4726.65 1099.43  Z\" fill=\"#009af9\" fill-rule=\"evenodd\" fill-opacity=\"1\"/>\n",
       "<polyline clip-path=\"url(#clip672)\" style=\"stroke:#000000; stroke-linecap:round; stroke-linejoin:round; stroke-width:4; stroke-opacity:1; fill:none\" points=\"4726.65,1099.43 4726.65,1423.18 4796.15,1423.18 4796.15,1099.43 4726.65,1099.43 \"/>\n",
       "<path clip-path=\"url(#clip672)\" d=\"M4796.15 694.743 L4796.15 1423.18 L4865.64 1423.18 L4865.64 694.743 L4796.15 694.743 L4796.15 694.743  Z\" fill=\"#009af9\" fill-rule=\"evenodd\" fill-opacity=\"1\"/>\n",
       "<polyline clip-path=\"url(#clip672)\" style=\"stroke:#000000; stroke-linecap:round; stroke-linejoin:round; stroke-width:4; stroke-opacity:1; fill:none\" points=\"4796.15,694.743 4796.15,1423.18 4865.64,1423.18 4865.64,694.743 4796.15,694.743 \"/>\n",
       "<path clip-path=\"url(#clip672)\" d=\"M4865.64 1261.31 L4865.64 1423.18 L4935.14 1423.18 L4935.14 1261.31 L4865.64 1261.31 L4865.64 1261.31  Z\" fill=\"#009af9\" fill-rule=\"evenodd\" fill-opacity=\"1\"/>\n",
       "<polyline clip-path=\"url(#clip672)\" style=\"stroke:#000000; stroke-linecap:round; stroke-linejoin:round; stroke-width:4; stroke-opacity:1; fill:none\" points=\"4865.64,1261.31 4865.64,1423.18 4935.14,1423.18 4935.14,1261.31 4865.64,1261.31 \"/>\n",
       "<path clip-path=\"url(#clip672)\" d=\"M4935.14 1180.37 L4935.14 1423.18 L5004.63 1423.18 L5004.63 1180.37 L4935.14 1180.37 L4935.14 1180.37  Z\" fill=\"#009af9\" fill-rule=\"evenodd\" fill-opacity=\"1\"/>\n",
       "<polyline clip-path=\"url(#clip672)\" style=\"stroke:#000000; stroke-linecap:round; stroke-linejoin:round; stroke-width:4; stroke-opacity:1; fill:none\" points=\"4935.14,1180.37 4935.14,1423.18 5004.63,1423.18 5004.63,1180.37 4935.14,1180.37 \"/>\n",
       "<path clip-path=\"url(#clip672)\" d=\"M5004.63 1342.24 L5004.63 1423.18 L5074.13 1423.18 L5074.13 1342.24 L5004.63 1342.24 L5004.63 1342.24  Z\" fill=\"#009af9\" fill-rule=\"evenodd\" fill-opacity=\"1\"/>\n",
       "<polyline clip-path=\"url(#clip672)\" style=\"stroke:#000000; stroke-linecap:round; stroke-linejoin:round; stroke-width:4; stroke-opacity:1; fill:none\" points=\"5004.63,1342.24 5004.63,1423.18 5074.13,1423.18 5074.13,1342.24 5004.63,1342.24 \"/>\n",
       "<path clip-path=\"url(#clip672)\" d=\"M5074.13 1261.31 L5074.13 1423.18 L5143.62 1423.18 L5143.62 1261.31 L5074.13 1261.31 L5074.13 1261.31  Z\" fill=\"#009af9\" fill-rule=\"evenodd\" fill-opacity=\"1\"/>\n",
       "<polyline clip-path=\"url(#clip672)\" style=\"stroke:#000000; stroke-linecap:round; stroke-linejoin:round; stroke-width:4; stroke-opacity:1; fill:none\" points=\"5074.13,1261.31 5074.13,1423.18 5143.62,1423.18 5143.62,1261.31 5074.13,1261.31 \"/>\n",
       "<path clip-path=\"url(#clip672)\" d=\"M5143.62 1018.49 L5143.62 1423.18 L5213.12 1423.18 L5213.12 1018.49 L5143.62 1018.49 L5143.62 1018.49  Z\" fill=\"#009af9\" fill-rule=\"evenodd\" fill-opacity=\"1\"/>\n",
       "<polyline clip-path=\"url(#clip672)\" style=\"stroke:#000000; stroke-linecap:round; stroke-linejoin:round; stroke-width:4; stroke-opacity:1; fill:none\" points=\"5143.62,1018.49 5143.62,1423.18 5213.12,1423.18 5213.12,1018.49 5143.62,1018.49 \"/>\n",
       "<path clip-path=\"url(#clip672)\" d=\"M5213.12 1180.37 L5213.12 1423.18 L5282.61 1423.18 L5282.61 1180.37 L5213.12 1180.37 L5213.12 1180.37  Z\" fill=\"#009af9\" fill-rule=\"evenodd\" fill-opacity=\"1\"/>\n",
       "<polyline clip-path=\"url(#clip672)\" style=\"stroke:#000000; stroke-linecap:round; stroke-linejoin:round; stroke-width:4; stroke-opacity:1; fill:none\" points=\"5213.12,1180.37 5213.12,1423.18 5282.61,1423.18 5282.61,1180.37 5213.12,1180.37 \"/>\n",
       "<path clip-path=\"url(#clip672)\" d=\"M5282.61 1261.31 L5282.61 1423.18 L5352.11 1423.18 L5352.11 1261.31 L5282.61 1261.31 L5282.61 1261.31  Z\" fill=\"#009af9\" fill-rule=\"evenodd\" fill-opacity=\"1\"/>\n",
       "<polyline clip-path=\"url(#clip672)\" style=\"stroke:#000000; stroke-linecap:round; stroke-linejoin:round; stroke-width:4; stroke-opacity:1; fill:none\" points=\"5282.61,1261.31 5282.61,1423.18 5352.11,1423.18 5352.11,1261.31 5282.61,1261.31 \"/>\n",
       "<path clip-path=\"url(#clip672)\" d=\"M5352.11 937.555 L5352.11 1423.18 L5421.6 1423.18 L5421.6 937.555 L5352.11 937.555 L5352.11 937.555  Z\" fill=\"#009af9\" fill-rule=\"evenodd\" fill-opacity=\"1\"/>\n",
       "<polyline clip-path=\"url(#clip672)\" style=\"stroke:#000000; stroke-linecap:round; stroke-linejoin:round; stroke-width:4; stroke-opacity:1; fill:none\" points=\"5352.11,937.555 5352.11,1423.18 5421.6,1423.18 5421.6,937.555 5352.11,937.555 \"/>\n",
       "<path clip-path=\"url(#clip672)\" d=\"M5421.6 1342.24 L5421.6 1423.18 L5491.1 1423.18 L5491.1 1342.24 L5421.6 1342.24 L5421.6 1342.24  Z\" fill=\"#009af9\" fill-rule=\"evenodd\" fill-opacity=\"1\"/>\n",
       "<polyline clip-path=\"url(#clip672)\" style=\"stroke:#000000; stroke-linecap:round; stroke-linejoin:round; stroke-width:4; stroke-opacity:1; fill:none\" points=\"5421.6,1342.24 5421.6,1423.18 5491.1,1423.18 5491.1,1342.24 5421.6,1342.24 \"/>\n",
       "<path clip-path=\"url(#clip672)\" d=\"M5491.1 1018.49 L5491.1 1423.18 L5560.59 1423.18 L5560.59 1018.49 L5491.1 1018.49 L5491.1 1018.49  Z\" fill=\"#009af9\" fill-rule=\"evenodd\" fill-opacity=\"1\"/>\n",
       "<polyline clip-path=\"url(#clip672)\" style=\"stroke:#000000; stroke-linecap:round; stroke-linejoin:round; stroke-width:4; stroke-opacity:1; fill:none\" points=\"5491.1,1018.49 5491.1,1423.18 5560.59,1423.18 5560.59,1018.49 5491.1,1018.49 \"/>\n",
       "<path clip-path=\"url(#clip672)\" d=\"M5560.59 1099.43 L5560.59 1423.18 L5630.09 1423.18 L5630.09 1099.43 L5560.59 1099.43 L5560.59 1099.43  Z\" fill=\"#009af9\" fill-rule=\"evenodd\" fill-opacity=\"1\"/>\n",
       "<polyline clip-path=\"url(#clip672)\" style=\"stroke:#000000; stroke-linecap:round; stroke-linejoin:round; stroke-width:4; stroke-opacity:1; fill:none\" points=\"5560.59,1099.43 5560.59,1423.18 5630.09,1423.18 5630.09,1099.43 5560.59,1099.43 \"/>\n",
       "<path clip-path=\"url(#clip672)\" d=\"M5630.09 1099.43 L5630.09 1423.18 L5699.58 1423.18 L5699.58 1099.43 L5630.09 1099.43 L5630.09 1099.43  Z\" fill=\"#009af9\" fill-rule=\"evenodd\" fill-opacity=\"1\"/>\n",
       "<polyline clip-path=\"url(#clip672)\" style=\"stroke:#000000; stroke-linecap:round; stroke-linejoin:round; stroke-width:4; stroke-opacity:1; fill:none\" points=\"5630.09,1099.43 5630.09,1423.18 5699.58,1423.18 5699.58,1099.43 5630.09,1099.43 \"/>\n",
       "<path clip-path=\"url(#clip672)\" d=\"M5699.58 1180.37 L5699.58 1423.18 L5769.08 1423.18 L5769.08 1180.37 L5699.58 1180.37 L5699.58 1180.37  Z\" fill=\"#009af9\" fill-rule=\"evenodd\" fill-opacity=\"1\"/>\n",
       "<polyline clip-path=\"url(#clip672)\" style=\"stroke:#000000; stroke-linecap:round; stroke-linejoin:round; stroke-width:4; stroke-opacity:1; fill:none\" points=\"5699.58,1180.37 5699.58,1423.18 5769.08,1423.18 5769.08,1180.37 5699.58,1180.37 \"/>\n",
       "<path clip-path=\"url(#clip672)\" d=\"M5769.08 856.618 L5769.08 1423.18 L5838.58 1423.18 L5838.58 856.618 L5769.08 856.618 L5769.08 856.618  Z\" fill=\"#009af9\" fill-rule=\"evenodd\" fill-opacity=\"1\"/>\n",
       "<polyline clip-path=\"url(#clip672)\" style=\"stroke:#000000; stroke-linecap:round; stroke-linejoin:round; stroke-width:4; stroke-opacity:1; fill:none\" points=\"5769.08,856.618 5769.08,1423.18 5838.58,1423.18 5838.58,856.618 5769.08,856.618 \"/>\n",
       "<path clip-path=\"url(#clip672)\" d=\"M5838.58 937.555 L5838.58 1423.18 L5908.07 1423.18 L5908.07 937.555 L5838.58 937.555 L5838.58 937.555  Z\" fill=\"#009af9\" fill-rule=\"evenodd\" fill-opacity=\"1\"/>\n",
       "<polyline clip-path=\"url(#clip672)\" style=\"stroke:#000000; stroke-linecap:round; stroke-linejoin:round; stroke-width:4; stroke-opacity:1; fill:none\" points=\"5838.58,937.555 5838.58,1423.18 5908.07,1423.18 5908.07,937.555 5838.58,937.555 \"/>\n",
       "<path clip-path=\"url(#clip672)\" d=\"M5908.07 1342.24 L5908.07 1423.18 L5977.57 1423.18 L5977.57 1342.24 L5908.07 1342.24 L5908.07 1342.24  Z\" fill=\"#009af9\" fill-rule=\"evenodd\" fill-opacity=\"1\"/>\n",
       "<polyline clip-path=\"url(#clip672)\" style=\"stroke:#000000; stroke-linecap:round; stroke-linejoin:round; stroke-width:4; stroke-opacity:1; fill:none\" points=\"5908.07,1342.24 5908.07,1423.18 5977.57,1423.18 5977.57,1342.24 5908.07,1342.24 \"/>\n",
       "<path clip-path=\"url(#clip672)\" d=\"M5977.57 1018.49 L5977.57 1423.18 L6047.06 1423.18 L6047.06 1018.49 L5977.57 1018.49 L5977.57 1018.49  Z\" fill=\"#009af9\" fill-rule=\"evenodd\" fill-opacity=\"1\"/>\n",
       "<polyline clip-path=\"url(#clip672)\" style=\"stroke:#000000; stroke-linecap:round; stroke-linejoin:round; stroke-width:4; stroke-opacity:1; fill:none\" points=\"5977.57,1018.49 5977.57,1423.18 6047.06,1423.18 6047.06,1018.49 5977.57,1018.49 \"/>\n",
       "<path clip-path=\"url(#clip672)\" d=\"M6047.06 1261.31 L6047.06 1423.18 L6116.56 1423.18 L6116.56 1261.31 L6047.06 1261.31 L6047.06 1261.31  Z\" fill=\"#009af9\" fill-rule=\"evenodd\" fill-opacity=\"1\"/>\n",
       "<polyline clip-path=\"url(#clip672)\" style=\"stroke:#000000; stroke-linecap:round; stroke-linejoin:round; stroke-width:4; stroke-opacity:1; fill:none\" points=\"6047.06,1261.31 6047.06,1423.18 6116.56,1423.18 6116.56,1261.31 6047.06,1261.31 \"/>\n",
       "<path clip-path=\"url(#clip672)\" d=\"M6116.56 1342.24 L6116.56 1423.18 L6186.05 1423.18 L6186.05 1342.24 L6116.56 1342.24 L6116.56 1342.24  Z\" fill=\"#009af9\" fill-rule=\"evenodd\" fill-opacity=\"1\"/>\n",
       "<polyline clip-path=\"url(#clip672)\" style=\"stroke:#000000; stroke-linecap:round; stroke-linejoin:round; stroke-width:4; stroke-opacity:1; fill:none\" points=\"6116.56,1342.24 6116.56,1423.18 6186.05,1423.18 6186.05,1342.24 6116.56,1342.24 \"/>\n",
       "<path clip-path=\"url(#clip672)\" d=\"M6186.05 1342.24 L6186.05 1423.18 L6255.55 1423.18 L6255.55 1342.24 L6186.05 1342.24 L6186.05 1342.24  Z\" fill=\"#009af9\" fill-rule=\"evenodd\" fill-opacity=\"1\"/>\n",
       "<polyline clip-path=\"url(#clip672)\" style=\"stroke:#000000; stroke-linecap:round; stroke-linejoin:round; stroke-width:4; stroke-opacity:1; fill:none\" points=\"6186.05,1342.24 6186.05,1423.18 6255.55,1423.18 6255.55,1342.24 6186.05,1342.24 \"/>\n",
       "<path clip-path=\"url(#clip672)\" d=\"M6255.55 1261.31 L6255.55 1423.18 L6325.04 1423.18 L6325.04 1261.31 L6255.55 1261.31 L6255.55 1261.31  Z\" fill=\"#009af9\" fill-rule=\"evenodd\" fill-opacity=\"1\"/>\n",
       "<polyline clip-path=\"url(#clip672)\" style=\"stroke:#000000; stroke-linecap:round; stroke-linejoin:round; stroke-width:4; stroke-opacity:1; fill:none\" points=\"6255.55,1261.31 6255.55,1423.18 6325.04,1423.18 6325.04,1261.31 6255.55,1261.31 \"/>\n",
       "<path clip-path=\"url(#clip672)\" d=\"M6325.04 1180.37 L6325.04 1423.18 L6394.54 1423.18 L6394.54 1180.37 L6325.04 1180.37 L6325.04 1180.37  Z\" fill=\"#009af9\" fill-rule=\"evenodd\" fill-opacity=\"1\"/>\n",
       "<polyline clip-path=\"url(#clip672)\" style=\"stroke:#000000; stroke-linecap:round; stroke-linejoin:round; stroke-width:4; stroke-opacity:1; fill:none\" points=\"6325.04,1180.37 6325.04,1423.18 6394.54,1423.18 6394.54,1180.37 6325.04,1180.37 \"/>\n",
       "<path clip-path=\"url(#clip672)\" d=\"M6394.54 1180.37 L6394.54 1423.18 L6464.03 1423.18 L6464.03 1180.37 L6394.54 1180.37 L6394.54 1180.37  Z\" fill=\"#009af9\" fill-rule=\"evenodd\" fill-opacity=\"1\"/>\n",
       "<polyline clip-path=\"url(#clip672)\" style=\"stroke:#000000; stroke-linecap:round; stroke-linejoin:round; stroke-width:4; stroke-opacity:1; fill:none\" points=\"6394.54,1180.37 6394.54,1423.18 6464.03,1423.18 6464.03,1180.37 6394.54,1180.37 \"/>\n",
       "<path clip-path=\"url(#clip672)\" d=\"M6464.03 1180.37 L6464.03 1423.18 L6533.53 1423.18 L6533.53 1180.37 L6464.03 1180.37 L6464.03 1180.37  Z\" fill=\"#009af9\" fill-rule=\"evenodd\" fill-opacity=\"1\"/>\n",
       "<polyline clip-path=\"url(#clip672)\" style=\"stroke:#000000; stroke-linecap:round; stroke-linejoin:round; stroke-width:4; stroke-opacity:1; fill:none\" points=\"6464.03,1180.37 6464.03,1423.18 6533.53,1423.18 6533.53,1180.37 6464.03,1180.37 \"/>\n",
       "<path clip-path=\"url(#clip672)\" d=\"M6533.53 1099.43 L6533.53 1423.18 L6603.02 1423.18 L6603.02 1099.43 L6533.53 1099.43 L6533.53 1099.43  Z\" fill=\"#009af9\" fill-rule=\"evenodd\" fill-opacity=\"1\"/>\n",
       "<polyline clip-path=\"url(#clip672)\" style=\"stroke:#000000; stroke-linecap:round; stroke-linejoin:round; stroke-width:4; stroke-opacity:1; fill:none\" points=\"6533.53,1099.43 6533.53,1423.18 6603.02,1423.18 6603.02,1099.43 6533.53,1099.43 \"/>\n",
       "<path clip-path=\"url(#clip672)\" d=\"M6603.02 1342.24 L6603.02 1423.18 L6672.52 1423.18 L6672.52 1342.24 L6603.02 1342.24 L6603.02 1342.24  Z\" fill=\"#009af9\" fill-rule=\"evenodd\" fill-opacity=\"1\"/>\n",
       "<polyline clip-path=\"url(#clip672)\" style=\"stroke:#000000; stroke-linecap:round; stroke-linejoin:round; stroke-width:4; stroke-opacity:1; fill:none\" points=\"6603.02,1342.24 6603.02,1423.18 6672.52,1423.18 6672.52,1342.24 6603.02,1342.24 \"/>\n",
       "<path clip-path=\"url(#clip672)\" d=\"M6672.52 1180.37 L6672.52 1423.18 L6742.01 1423.18 L6742.01 1180.37 L6672.52 1180.37 L6672.52 1180.37  Z\" fill=\"#009af9\" fill-rule=\"evenodd\" fill-opacity=\"1\"/>\n",
       "<polyline clip-path=\"url(#clip672)\" style=\"stroke:#000000; stroke-linecap:round; stroke-linejoin:round; stroke-width:4; stroke-opacity:1; fill:none\" points=\"6672.52,1180.37 6672.52,1423.18 6742.01,1423.18 6742.01,1180.37 6672.52,1180.37 \"/>\n",
       "<path clip-path=\"url(#clip672)\" d=\"M6742.01 1342.24 L6742.01 1423.18 L6811.51 1423.18 L6811.51 1342.24 L6742.01 1342.24 L6742.01 1342.24  Z\" fill=\"#009af9\" fill-rule=\"evenodd\" fill-opacity=\"1\"/>\n",
       "<polyline clip-path=\"url(#clip672)\" style=\"stroke:#000000; stroke-linecap:round; stroke-linejoin:round; stroke-width:4; stroke-opacity:1; fill:none\" points=\"6742.01,1342.24 6742.01,1423.18 6811.51,1423.18 6811.51,1342.24 6742.01,1342.24 \"/>\n",
       "<path clip-path=\"url(#clip672)\" d=\"M6811.51 1342.24 L6811.51 1423.18 L6881.01 1423.18 L6881.01 1342.24 L6811.51 1342.24 L6811.51 1342.24  Z\" fill=\"#009af9\" fill-rule=\"evenodd\" fill-opacity=\"1\"/>\n",
       "<polyline clip-path=\"url(#clip672)\" style=\"stroke:#000000; stroke-linecap:round; stroke-linejoin:round; stroke-width:4; stroke-opacity:1; fill:none\" points=\"6811.51,1342.24 6811.51,1423.18 6881.01,1423.18 6881.01,1342.24 6811.51,1342.24 \"/>\n",
       "<path clip-path=\"url(#clip672)\" d=\"M6881.01 1261.31 L6881.01 1423.18 L6950.5 1423.18 L6950.5 1261.31 L6881.01 1261.31 L6881.01 1261.31  Z\" fill=\"#009af9\" fill-rule=\"evenodd\" fill-opacity=\"1\"/>\n",
       "<polyline clip-path=\"url(#clip672)\" style=\"stroke:#000000; stroke-linecap:round; stroke-linejoin:round; stroke-width:4; stroke-opacity:1; fill:none\" points=\"6881.01,1261.31 6881.01,1423.18 6950.5,1423.18 6950.5,1261.31 6881.01,1261.31 \"/>\n",
       "<path clip-path=\"url(#clip672)\" d=\"M6950.5 1342.24 L6950.5 1423.18 L7020 1423.18 L7020 1342.24 L6950.5 1342.24 L6950.5 1342.24  Z\" fill=\"#009af9\" fill-rule=\"evenodd\" fill-opacity=\"1\"/>\n",
       "<polyline clip-path=\"url(#clip672)\" style=\"stroke:#000000; stroke-linecap:round; stroke-linejoin:round; stroke-width:4; stroke-opacity:1; fill:none\" points=\"6950.5,1342.24 6950.5,1423.18 7020,1423.18 7020,1342.24 6950.5,1342.24 \"/>\n",
       "<path clip-path=\"url(#clip672)\" d=\"M7020 1261.31 L7020 1423.18 L7089.49 1423.18 L7089.49 1261.31 L7020 1261.31 L7020 1261.31  Z\" fill=\"#009af9\" fill-rule=\"evenodd\" fill-opacity=\"1\"/>\n",
       "<polyline clip-path=\"url(#clip672)\" style=\"stroke:#000000; stroke-linecap:round; stroke-linejoin:round; stroke-width:4; stroke-opacity:1; fill:none\" points=\"7020,1261.31 7020,1423.18 7089.49,1423.18 7089.49,1261.31 7020,1261.31 \"/>\n",
       "<path clip-path=\"url(#clip672)\" d=\"M7089.49 1261.31 L7089.49 1423.18 L7158.99 1423.18 L7158.99 1261.31 L7089.49 1261.31 L7089.49 1261.31  Z\" fill=\"#009af9\" fill-rule=\"evenodd\" fill-opacity=\"1\"/>\n",
       "<polyline clip-path=\"url(#clip672)\" style=\"stroke:#000000; stroke-linecap:round; stroke-linejoin:round; stroke-width:4; stroke-opacity:1; fill:none\" points=\"7089.49,1261.31 7089.49,1423.18 7158.99,1423.18 7158.99,1261.31 7089.49,1261.31 \"/>\n",
       "<path clip-path=\"url(#clip672)\" d=\"M7158.99 1180.37 L7158.99 1423.18 L7228.48 1423.18 L7228.48 1180.37 L7158.99 1180.37 L7158.99 1180.37  Z\" fill=\"#009af9\" fill-rule=\"evenodd\" fill-opacity=\"1\"/>\n",
       "<polyline clip-path=\"url(#clip672)\" style=\"stroke:#000000; stroke-linecap:round; stroke-linejoin:round; stroke-width:4; stroke-opacity:1; fill:none\" points=\"7158.99,1180.37 7158.99,1423.18 7228.48,1423.18 7228.48,1180.37 7158.99,1180.37 \"/>\n",
       "<path clip-path=\"url(#clip672)\" d=\"M7228.48 1423.18 L7228.48 1423.18 L7297.98 1423.18 L7297.98 1423.18 L7228.48 1423.18 L7228.48 1423.18  Z\" fill=\"#009af9\" fill-rule=\"evenodd\" fill-opacity=\"1\"/>\n",
       "<polyline clip-path=\"url(#clip672)\" style=\"stroke:#000000; stroke-linecap:round; stroke-linejoin:round; stroke-width:4; stroke-opacity:1; fill:none\" points=\"7228.48,1423.18 7228.48,1423.18 7297.98,1423.18 7228.48,1423.18 \"/>\n",
       "<path clip-path=\"url(#clip672)\" d=\"M7297.98 1342.24 L7297.98 1423.18 L7367.47 1423.18 L7367.47 1342.24 L7297.98 1342.24 L7297.98 1342.24  Z\" fill=\"#009af9\" fill-rule=\"evenodd\" fill-opacity=\"1\"/>\n",
       "<polyline clip-path=\"url(#clip672)\" style=\"stroke:#000000; stroke-linecap:round; stroke-linejoin:round; stroke-width:4; stroke-opacity:1; fill:none\" points=\"7297.98,1342.24 7297.98,1423.18 7367.47,1423.18 7367.47,1342.24 7297.98,1342.24 \"/>\n",
       "<path clip-path=\"url(#clip672)\" d=\"M7367.47 1423.18 L7367.47 1423.18 L7436.97 1423.18 L7436.97 1423.18 L7367.47 1423.18 L7367.47 1423.18  Z\" fill=\"#009af9\" fill-rule=\"evenodd\" fill-opacity=\"1\"/>\n",
       "<polyline clip-path=\"url(#clip672)\" style=\"stroke:#000000; stroke-linecap:round; stroke-linejoin:round; stroke-width:4; stroke-opacity:1; fill:none\" points=\"7367.47,1423.18 7367.47,1423.18 7436.97,1423.18 7367.47,1423.18 \"/>\n",
       "<path clip-path=\"url(#clip672)\" d=\"M7436.97 1261.31 L7436.97 1423.18 L7506.46 1423.18 L7506.46 1261.31 L7436.97 1261.31 L7436.97 1261.31  Z\" fill=\"#009af9\" fill-rule=\"evenodd\" fill-opacity=\"1\"/>\n",
       "<polyline clip-path=\"url(#clip672)\" style=\"stroke:#000000; stroke-linecap:round; stroke-linejoin:round; stroke-width:4; stroke-opacity:1; fill:none\" points=\"7436.97,1261.31 7436.97,1423.18 7506.46,1423.18 7506.46,1261.31 7436.97,1261.31 \"/>\n",
       "<path clip-path=\"url(#clip672)\" d=\"M7506.46 1261.31 L7506.46 1423.18 L7575.96 1423.18 L7575.96 1261.31 L7506.46 1261.31 L7506.46 1261.31  Z\" fill=\"#009af9\" fill-rule=\"evenodd\" fill-opacity=\"1\"/>\n",
       "<polyline clip-path=\"url(#clip672)\" style=\"stroke:#000000; stroke-linecap:round; stroke-linejoin:round; stroke-width:4; stroke-opacity:1; fill:none\" points=\"7506.46,1261.31 7506.46,1423.18 7575.96,1423.18 7575.96,1261.31 7506.46,1261.31 \"/>\n",
       "<path clip-path=\"url(#clip672)\" d=\"M7575.96 1423.18 L7575.96 1423.18 L7645.45 1423.18 L7645.45 1423.18 L7575.96 1423.18 L7575.96 1423.18  Z\" fill=\"#009af9\" fill-rule=\"evenodd\" fill-opacity=\"1\"/>\n",
       "<polyline clip-path=\"url(#clip672)\" style=\"stroke:#000000; stroke-linecap:round; stroke-linejoin:round; stroke-width:4; stroke-opacity:1; fill:none\" points=\"7575.96,1423.18 7575.96,1423.18 7645.45,1423.18 7575.96,1423.18 \"/>\n",
       "<path clip-path=\"url(#clip672)\" d=\"M7645.45 1342.24 L7645.45 1423.18 L7714.95 1423.18 L7714.95 1342.24 L7645.45 1342.24 L7645.45 1342.24  Z\" fill=\"#009af9\" fill-rule=\"evenodd\" fill-opacity=\"1\"/>\n",
       "<polyline clip-path=\"url(#clip672)\" style=\"stroke:#000000; stroke-linecap:round; stroke-linejoin:round; stroke-width:4; stroke-opacity:1; fill:none\" points=\"7645.45,1342.24 7645.45,1423.18 7714.95,1423.18 7714.95,1342.24 7645.45,1342.24 \"/>\n",
       "<path clip-path=\"url(#clip672)\" d=\"M7714.95 1342.24 L7714.95 1423.18 L7784.44 1423.18 L7784.44 1342.24 L7714.95 1342.24 L7714.95 1342.24  Z\" fill=\"#009af9\" fill-rule=\"evenodd\" fill-opacity=\"1\"/>\n",
       "<polyline clip-path=\"url(#clip672)\" style=\"stroke:#000000; stroke-linecap:round; stroke-linejoin:round; stroke-width:4; stroke-opacity:1; fill:none\" points=\"7714.95,1342.24 7714.95,1423.18 7784.44,1423.18 7784.44,1342.24 7714.95,1342.24 \"/>\n",
       "<path clip-path=\"url(#clip672)\" d=\"M7784.44 1423.18 L7784.44 1423.18 L7853.94 1423.18 L7853.94 1423.18 L7784.44 1423.18 L7784.44 1423.18  Z\" fill=\"#009af9\" fill-rule=\"evenodd\" fill-opacity=\"1\"/>\n",
       "<polyline clip-path=\"url(#clip672)\" style=\"stroke:#000000; stroke-linecap:round; stroke-linejoin:round; stroke-width:4; stroke-opacity:1; fill:none\" points=\"7784.44,1423.18 7784.44,1423.18 7853.94,1423.18 7784.44,1423.18 \"/>\n",
       "<path clip-path=\"url(#clip672)\" d=\"M7853.94 1423.18 L7853.94 1423.18 L7923.44 1423.18 L7923.44 1423.18 L7853.94 1423.18 L7853.94 1423.18  Z\" fill=\"#009af9\" fill-rule=\"evenodd\" fill-opacity=\"1\"/>\n",
       "<polyline clip-path=\"url(#clip672)\" style=\"stroke:#000000; stroke-linecap:round; stroke-linejoin:round; stroke-width:4; stroke-opacity:1; fill:none\" points=\"7853.94,1423.18 7853.94,1423.18 7923.44,1423.18 7853.94,1423.18 \"/>\n",
       "<path clip-path=\"url(#clip672)\" d=\"M7923.44 1423.18 L7923.44 1423.18 L7992.93 1423.18 L7992.93 1423.18 L7923.44 1423.18 L7923.44 1423.18  Z\" fill=\"#009af9\" fill-rule=\"evenodd\" fill-opacity=\"1\"/>\n",
       "<polyline clip-path=\"url(#clip672)\" style=\"stroke:#000000; stroke-linecap:round; stroke-linejoin:round; stroke-width:4; stroke-opacity:1; fill:none\" points=\"7923.44,1423.18 7923.44,1423.18 7992.93,1423.18 7923.44,1423.18 \"/>\n",
       "<path clip-path=\"url(#clip672)\" d=\"M7992.93 1423.18 L7992.93 1423.18 L8062.43 1423.18 L8062.43 1423.18 L7992.93 1423.18 L7992.93 1423.18  Z\" fill=\"#009af9\" fill-rule=\"evenodd\" fill-opacity=\"1\"/>\n",
       "<polyline clip-path=\"url(#clip672)\" style=\"stroke:#000000; stroke-linecap:round; stroke-linejoin:round; stroke-width:4; stroke-opacity:1; fill:none\" points=\"7992.93,1423.18 7992.93,1423.18 8062.43,1423.18 7992.93,1423.18 \"/>\n",
       "<path clip-path=\"url(#clip672)\" d=\"M8062.43 1423.18 L8062.43 1423.18 L8131.92 1423.18 L8131.92 1423.18 L8062.43 1423.18 L8062.43 1423.18  Z\" fill=\"#009af9\" fill-rule=\"evenodd\" fill-opacity=\"1\"/>\n",
       "<polyline clip-path=\"url(#clip672)\" style=\"stroke:#000000; stroke-linecap:round; stroke-linejoin:round; stroke-width:4; stroke-opacity:1; fill:none\" points=\"8062.43,1423.18 8062.43,1423.18 8131.92,1423.18 8062.43,1423.18 \"/>\n",
       "<path clip-path=\"url(#clip672)\" d=\"M8131.92 1423.18 L8131.92 1423.18 L8201.42 1423.18 L8201.42 1423.18 L8131.92 1423.18 L8131.92 1423.18  Z\" fill=\"#009af9\" fill-rule=\"evenodd\" fill-opacity=\"1\"/>\n",
       "<polyline clip-path=\"url(#clip672)\" style=\"stroke:#000000; stroke-linecap:round; stroke-linejoin:round; stroke-width:4; stroke-opacity:1; fill:none\" points=\"8131.92,1423.18 8131.92,1423.18 8201.42,1423.18 8131.92,1423.18 \"/>\n",
       "<path clip-path=\"url(#clip672)\" d=\"M8201.42 1423.18 L8201.42 1423.18 L8270.91 1423.18 L8270.91 1423.18 L8201.42 1423.18 L8201.42 1423.18  Z\" fill=\"#009af9\" fill-rule=\"evenodd\" fill-opacity=\"1\"/>\n",
       "<polyline clip-path=\"url(#clip672)\" style=\"stroke:#000000; stroke-linecap:round; stroke-linejoin:round; stroke-width:4; stroke-opacity:1; fill:none\" points=\"8201.42,1423.18 8201.42,1423.18 8270.91,1423.18 8201.42,1423.18 \"/>\n",
       "<path clip-path=\"url(#clip672)\" d=\"M8270.91 1423.18 L8270.91 1423.18 L8340.41 1423.18 L8340.41 1423.18 L8270.91 1423.18 L8270.91 1423.18  Z\" fill=\"#009af9\" fill-rule=\"evenodd\" fill-opacity=\"1\"/>\n",
       "<polyline clip-path=\"url(#clip672)\" style=\"stroke:#000000; stroke-linecap:round; stroke-linejoin:round; stroke-width:4; stroke-opacity:1; fill:none\" points=\"8270.91,1423.18 8270.91,1423.18 8340.41,1423.18 8270.91,1423.18 \"/>\n",
       "<path clip-path=\"url(#clip672)\" d=\"M8340.41 1342.24 L8340.41 1423.18 L8409.9 1423.18 L8409.9 1342.24 L8340.41 1342.24 L8340.41 1342.24  Z\" fill=\"#009af9\" fill-rule=\"evenodd\" fill-opacity=\"1\"/>\n",
       "<polyline clip-path=\"url(#clip672)\" style=\"stroke:#000000; stroke-linecap:round; stroke-linejoin:round; stroke-width:4; stroke-opacity:1; fill:none\" points=\"8340.41,1342.24 8340.41,1423.18 8409.9,1423.18 8409.9,1342.24 8340.41,1342.24 \"/>\n",
       "<path clip-path=\"url(#clip672)\" d=\"M8409.9 1342.24 L8409.9 1423.18 L8479.4 1423.18 L8479.4 1342.24 L8409.9 1342.24 L8409.9 1342.24  Z\" fill=\"#009af9\" fill-rule=\"evenodd\" fill-opacity=\"1\"/>\n",
       "<polyline clip-path=\"url(#clip672)\" style=\"stroke:#000000; stroke-linecap:round; stroke-linejoin:round; stroke-width:4; stroke-opacity:1; fill:none\" points=\"8409.9,1342.24 8409.9,1423.18 8479.4,1423.18 8479.4,1342.24 8409.9,1342.24 \"/>\n",
       "<path clip-path=\"url(#clip672)\" d=\"M8479.4 1423.18 L8479.4 1423.18 L8548.89 1423.18 L8548.89 1423.18 L8479.4 1423.18 L8479.4 1423.18  Z\" fill=\"#009af9\" fill-rule=\"evenodd\" fill-opacity=\"1\"/>\n",
       "<polyline clip-path=\"url(#clip672)\" style=\"stroke:#000000; stroke-linecap:round; stroke-linejoin:round; stroke-width:4; stroke-opacity:1; fill:none\" points=\"8479.4,1423.18 8479.4,1423.18 8548.89,1423.18 8479.4,1423.18 \"/>\n",
       "<path clip-path=\"url(#clip672)\" d=\"M8548.89 1342.24 L8548.89 1423.18 L8618.39 1423.18 L8618.39 1342.24 L8548.89 1342.24 L8548.89 1342.24  Z\" fill=\"#009af9\" fill-rule=\"evenodd\" fill-opacity=\"1\"/>\n",
       "<polyline clip-path=\"url(#clip672)\" style=\"stroke:#000000; stroke-linecap:round; stroke-linejoin:round; stroke-width:4; stroke-opacity:1; fill:none\" points=\"8548.89,1342.24 8548.89,1423.18 8618.39,1423.18 8618.39,1342.24 8548.89,1342.24 \"/>\n",
       "<path clip-path=\"url(#clip672)\" d=\"M8618.39 1423.18 L8618.39 1423.18 L8687.88 1423.18 L8687.88 1423.18 L8618.39 1423.18 L8618.39 1423.18  Z\" fill=\"#009af9\" fill-rule=\"evenodd\" fill-opacity=\"1\"/>\n",
       "<polyline clip-path=\"url(#clip672)\" style=\"stroke:#000000; stroke-linecap:round; stroke-linejoin:round; stroke-width:4; stroke-opacity:1; fill:none\" points=\"8618.39,1423.18 8618.39,1423.18 8687.88,1423.18 8618.39,1423.18 \"/>\n",
       "<path clip-path=\"url(#clip672)\" d=\"M8687.88 1423.18 L8687.88 1423.18 L8757.38 1423.18 L8757.38 1423.18 L8687.88 1423.18 L8687.88 1423.18  Z\" fill=\"#009af9\" fill-rule=\"evenodd\" fill-opacity=\"1\"/>\n",
       "<polyline clip-path=\"url(#clip672)\" style=\"stroke:#000000; stroke-linecap:round; stroke-linejoin:round; stroke-width:4; stroke-opacity:1; fill:none\" points=\"8687.88,1423.18 8687.88,1423.18 8757.38,1423.18 8687.88,1423.18 \"/>\n",
       "<path clip-path=\"url(#clip672)\" d=\"M8757.38 1261.31 L8757.38 1423.18 L8826.87 1423.18 L8826.87 1261.31 L8757.38 1261.31 L8757.38 1261.31  Z\" fill=\"#009af9\" fill-rule=\"evenodd\" fill-opacity=\"1\"/>\n",
       "<polyline clip-path=\"url(#clip672)\" style=\"stroke:#000000; stroke-linecap:round; stroke-linejoin:round; stroke-width:4; stroke-opacity:1; fill:none\" points=\"8757.38,1261.31 8757.38,1423.18 8826.87,1423.18 8826.87,1261.31 8757.38,1261.31 \"/>\n",
       "<path clip-path=\"url(#clip672)\" d=\"M8826.87 1423.18 L8826.87 1423.18 L8896.37 1423.18 L8896.37 1423.18 L8826.87 1423.18 L8826.87 1423.18  Z\" fill=\"#009af9\" fill-rule=\"evenodd\" fill-opacity=\"1\"/>\n",
       "<polyline clip-path=\"url(#clip672)\" style=\"stroke:#000000; stroke-linecap:round; stroke-linejoin:round; stroke-width:4; stroke-opacity:1; fill:none\" points=\"8826.87,1423.18 8826.87,1423.18 8896.37,1423.18 8826.87,1423.18 \"/>\n",
       "<path clip-path=\"url(#clip672)\" d=\"M8896.37 1423.18 L8896.37 1423.18 L8965.86 1423.18 L8965.86 1423.18 L8896.37 1423.18 L8896.37 1423.18  Z\" fill=\"#009af9\" fill-rule=\"evenodd\" fill-opacity=\"1\"/>\n",
       "<polyline clip-path=\"url(#clip672)\" style=\"stroke:#000000; stroke-linecap:round; stroke-linejoin:round; stroke-width:4; stroke-opacity:1; fill:none\" points=\"8896.37,1423.18 8896.37,1423.18 8965.86,1423.18 8896.37,1423.18 \"/>\n",
       "<path clip-path=\"url(#clip672)\" d=\"M8965.86 1423.18 L8965.86 1423.18 L9035.36 1423.18 L9035.36 1423.18 L8965.86 1423.18 L8965.86 1423.18  Z\" fill=\"#009af9\" fill-rule=\"evenodd\" fill-opacity=\"1\"/>\n",
       "<polyline clip-path=\"url(#clip672)\" style=\"stroke:#000000; stroke-linecap:round; stroke-linejoin:round; stroke-width:4; stroke-opacity:1; fill:none\" points=\"8965.86,1423.18 8965.86,1423.18 9035.36,1423.18 8965.86,1423.18 \"/>\n",
       "<path clip-path=\"url(#clip672)\" d=\"M9035.36 1342.24 L9035.36 1423.18 L9104.86 1423.18 L9104.86 1342.24 L9035.36 1342.24 L9035.36 1342.24  Z\" fill=\"#009af9\" fill-rule=\"evenodd\" fill-opacity=\"1\"/>\n",
       "<polyline clip-path=\"url(#clip672)\" style=\"stroke:#000000; stroke-linecap:round; stroke-linejoin:round; stroke-width:4; stroke-opacity:1; fill:none\" points=\"9035.36,1342.24 9035.36,1423.18 9104.86,1423.18 9104.86,1342.24 9035.36,1342.24 \"/>\n",
       "<path clip-path=\"url(#clip672)\" d=\"M9104.86 1423.18 L9104.86 1423.18 L9174.35 1423.18 L9174.35 1423.18 L9104.86 1423.18 L9104.86 1423.18  Z\" fill=\"#009af9\" fill-rule=\"evenodd\" fill-opacity=\"1\"/>\n",
       "<polyline clip-path=\"url(#clip672)\" style=\"stroke:#000000; stroke-linecap:round; stroke-linejoin:round; stroke-width:4; stroke-opacity:1; fill:none\" points=\"9104.86,1423.18 9104.86,1423.18 9174.35,1423.18 9104.86,1423.18 \"/>\n",
       "<path clip-path=\"url(#clip672)\" d=\"M9174.35 1423.18 L9174.35 1423.18 L9243.85 1423.18 L9243.85 1423.18 L9174.35 1423.18 L9174.35 1423.18  Z\" fill=\"#009af9\" fill-rule=\"evenodd\" fill-opacity=\"1\"/>\n",
       "<polyline clip-path=\"url(#clip672)\" style=\"stroke:#000000; stroke-linecap:round; stroke-linejoin:round; stroke-width:4; stroke-opacity:1; fill:none\" points=\"9174.35,1423.18 9174.35,1423.18 9243.85,1423.18 9174.35,1423.18 \"/>\n",
       "<path clip-path=\"url(#clip672)\" d=\"M9243.85 1342.24 L9243.85 1423.18 L9313.34 1423.18 L9313.34 1342.24 L9243.85 1342.24 L9243.85 1342.24  Z\" fill=\"#009af9\" fill-rule=\"evenodd\" fill-opacity=\"1\"/>\n",
       "<polyline clip-path=\"url(#clip672)\" style=\"stroke:#000000; stroke-linecap:round; stroke-linejoin:round; stroke-width:4; stroke-opacity:1; fill:none\" points=\"9243.85,1342.24 9243.85,1423.18 9313.34,1423.18 9313.34,1342.24 9243.85,1342.24 \"/>\n",
       "<path clip-path=\"url(#clip672)\" d=\"M9313.34 1423.18 L9313.34 1423.18 L9382.84 1423.18 L9382.84 1423.18 L9313.34 1423.18 L9313.34 1423.18  Z\" fill=\"#009af9\" fill-rule=\"evenodd\" fill-opacity=\"1\"/>\n",
       "<polyline clip-path=\"url(#clip672)\" style=\"stroke:#000000; stroke-linecap:round; stroke-linejoin:round; stroke-width:4; stroke-opacity:1; fill:none\" points=\"9313.34,1423.18 9313.34,1423.18 9382.84,1423.18 9313.34,1423.18 \"/>\n",
       "<path clip-path=\"url(#clip672)\" d=\"M9382.84 1342.24 L9382.84 1423.18 L9452.33 1423.18 L9452.33 1342.24 L9382.84 1342.24 L9382.84 1342.24  Z\" fill=\"#009af9\" fill-rule=\"evenodd\" fill-opacity=\"1\"/>\n",
       "<polyline clip-path=\"url(#clip672)\" style=\"stroke:#000000; stroke-linecap:round; stroke-linejoin:round; stroke-width:4; stroke-opacity:1; fill:none\" points=\"9382.84,1342.24 9382.84,1423.18 9452.33,1423.18 9452.33,1342.24 9382.84,1342.24 \"/>\n",
       "<path clip-path=\"url(#clip672)\" d=\"M9452.33 1423.18 L9452.33 1423.18 L9521.83 1423.18 L9521.83 1423.18 L9452.33 1423.18 L9452.33 1423.18  Z\" fill=\"#009af9\" fill-rule=\"evenodd\" fill-opacity=\"1\"/>\n",
       "<polyline clip-path=\"url(#clip672)\" style=\"stroke:#000000; stroke-linecap:round; stroke-linejoin:round; stroke-width:4; stroke-opacity:1; fill:none\" points=\"9452.33,1423.18 9452.33,1423.18 9521.83,1423.18 9452.33,1423.18 \"/>\n",
       "<path clip-path=\"url(#clip672)\" d=\"M9521.83 1423.18 L9521.83 1423.18 L9591.32 1423.18 L9591.32 1423.18 L9521.83 1423.18 L9521.83 1423.18  Z\" fill=\"#009af9\" fill-rule=\"evenodd\" fill-opacity=\"1\"/>\n",
       "<polyline clip-path=\"url(#clip672)\" style=\"stroke:#000000; stroke-linecap:round; stroke-linejoin:round; stroke-width:4; stroke-opacity:1; fill:none\" points=\"9521.83,1423.18 9521.83,1423.18 9591.32,1423.18 9521.83,1423.18 \"/>\n",
       "<path clip-path=\"url(#clip672)\" d=\"M9591.32 1423.18 L9591.32 1423.18 L9660.82 1423.18 L9660.82 1423.18 L9591.32 1423.18 L9591.32 1423.18  Z\" fill=\"#009af9\" fill-rule=\"evenodd\" fill-opacity=\"1\"/>\n",
       "<polyline clip-path=\"url(#clip672)\" style=\"stroke:#000000; stroke-linecap:round; stroke-linejoin:round; stroke-width:4; stroke-opacity:1; fill:none\" points=\"9591.32,1423.18 9591.32,1423.18 9660.82,1423.18 9591.32,1423.18 \"/>\n",
       "<path clip-path=\"url(#clip672)\" d=\"M9660.82 1423.18 L9660.82 1423.18 L9730.31 1423.18 L9730.31 1423.18 L9660.82 1423.18 L9660.82 1423.18  Z\" fill=\"#009af9\" fill-rule=\"evenodd\" fill-opacity=\"1\"/>\n",
       "<polyline clip-path=\"url(#clip672)\" style=\"stroke:#000000; stroke-linecap:round; stroke-linejoin:round; stroke-width:4; stroke-opacity:1; fill:none\" points=\"9660.82,1423.18 9660.82,1423.18 9730.31,1423.18 9660.82,1423.18 \"/>\n",
       "<path clip-path=\"url(#clip672)\" d=\"M9730.31 1423.18 L9730.31 1423.18 L9799.81 1423.18 L9799.81 1423.18 L9730.31 1423.18 L9730.31 1423.18  Z\" fill=\"#009af9\" fill-rule=\"evenodd\" fill-opacity=\"1\"/>\n",
       "<polyline clip-path=\"url(#clip672)\" style=\"stroke:#000000; stroke-linecap:round; stroke-linejoin:round; stroke-width:4; stroke-opacity:1; fill:none\" points=\"9730.31,1423.18 9730.31,1423.18 9799.81,1423.18 9730.31,1423.18 \"/>\n",
       "<path clip-path=\"url(#clip672)\" d=\"M9799.81 1342.24 L9799.81 1423.18 L9869.3 1423.18 L9869.3 1342.24 L9799.81 1342.24 L9799.81 1342.24  Z\" fill=\"#009af9\" fill-rule=\"evenodd\" fill-opacity=\"1\"/>\n",
       "<polyline clip-path=\"url(#clip672)\" style=\"stroke:#000000; stroke-linecap:round; stroke-linejoin:round; stroke-width:4; stroke-opacity:1; fill:none\" points=\"9799.81,1342.24 9799.81,1423.18 9869.3,1423.18 9869.3,1342.24 9799.81,1342.24 \"/>\n",
       "<path clip-path=\"url(#clip672)\" d=\"M9869.3 1423.18 L9869.3 1423.18 L9938.8 1423.18 L9938.8 1423.18 L9869.3 1423.18 L9869.3 1423.18  Z\" fill=\"#009af9\" fill-rule=\"evenodd\" fill-opacity=\"1\"/>\n",
       "<polyline clip-path=\"url(#clip672)\" style=\"stroke:#000000; stroke-linecap:round; stroke-linejoin:round; stroke-width:4; stroke-opacity:1; fill:none\" points=\"9869.3,1423.18 9869.3,1423.18 9938.8,1423.18 9869.3,1423.18 \"/>\n",
       "<path clip-path=\"url(#clip672)\" d=\"M9938.8 1423.18 L9938.8 1423.18 L10008.3 1423.18 L10008.3 1423.18 L9938.8 1423.18 L9938.8 1423.18  Z\" fill=\"#009af9\" fill-rule=\"evenodd\" fill-opacity=\"1\"/>\n",
       "<polyline clip-path=\"url(#clip672)\" style=\"stroke:#000000; stroke-linecap:round; stroke-linejoin:round; stroke-width:4; stroke-opacity:1; fill:none\" points=\"9938.8,1423.18 9938.8,1423.18 10008.3,1423.18 9938.8,1423.18 \"/>\n",
       "<path clip-path=\"url(#clip672)\" d=\"M10008.3 1423.18 L10008.3 1423.18 L10077.8 1423.18 L10077.8 1423.18 L10008.3 1423.18 L10008.3 1423.18  Z\" fill=\"#009af9\" fill-rule=\"evenodd\" fill-opacity=\"1\"/>\n",
       "<polyline clip-path=\"url(#clip672)\" style=\"stroke:#000000; stroke-linecap:round; stroke-linejoin:round; stroke-width:4; stroke-opacity:1; fill:none\" points=\"10008.3,1423.18 10008.3,1423.18 10077.8,1423.18 10008.3,1423.18 \"/>\n",
       "<path clip-path=\"url(#clip672)\" d=\"M10077.8 1423.18 L10077.8 1423.18 L10147.3 1423.18 L10147.3 1423.18 L10077.8 1423.18 L10077.8 1423.18  Z\" fill=\"#009af9\" fill-rule=\"evenodd\" fill-opacity=\"1\"/>\n",
       "<polyline clip-path=\"url(#clip672)\" style=\"stroke:#000000; stroke-linecap:round; stroke-linejoin:round; stroke-width:4; stroke-opacity:1; fill:none\" points=\"10077.8,1423.18 10077.8,1423.18 10147.3,1423.18 10077.8,1423.18 \"/>\n",
       "<path clip-path=\"url(#clip672)\" d=\"M10147.3 1423.18 L10147.3 1423.18 L10216.8 1423.18 L10216.8 1423.18 L10147.3 1423.18 L10147.3 1423.18  Z\" fill=\"#009af9\" fill-rule=\"evenodd\" fill-opacity=\"1\"/>\n",
       "<polyline clip-path=\"url(#clip672)\" style=\"stroke:#000000; stroke-linecap:round; stroke-linejoin:round; stroke-width:4; stroke-opacity:1; fill:none\" points=\"10147.3,1423.18 10147.3,1423.18 10216.8,1423.18 10147.3,1423.18 \"/>\n",
       "<path clip-path=\"url(#clip672)\" d=\"M10216.8 1423.18 L10216.8 1423.18 L10286.3 1423.18 L10286.3 1423.18 L10216.8 1423.18 L10216.8 1423.18  Z\" fill=\"#009af9\" fill-rule=\"evenodd\" fill-opacity=\"1\"/>\n",
       "<polyline clip-path=\"url(#clip672)\" style=\"stroke:#000000; stroke-linecap:round; stroke-linejoin:round; stroke-width:4; stroke-opacity:1; fill:none\" points=\"10216.8,1423.18 10216.8,1423.18 10286.3,1423.18 10216.8,1423.18 \"/>\n",
       "<path clip-path=\"url(#clip672)\" d=\"M10286.3 1423.18 L10286.3 1423.18 L10355.8 1423.18 L10355.8 1423.18 L10286.3 1423.18 L10286.3 1423.18  Z\" fill=\"#009af9\" fill-rule=\"evenodd\" fill-opacity=\"1\"/>\n",
       "<polyline clip-path=\"url(#clip672)\" style=\"stroke:#000000; stroke-linecap:round; stroke-linejoin:round; stroke-width:4; stroke-opacity:1; fill:none\" points=\"10286.3,1423.18 10286.3,1423.18 10355.8,1423.18 10286.3,1423.18 \"/>\n",
       "<path clip-path=\"url(#clip672)\" d=\"M10355.8 1423.18 L10355.8 1423.18 L10425.3 1423.18 L10425.3 1423.18 L10355.8 1423.18 L10355.8 1423.18  Z\" fill=\"#009af9\" fill-rule=\"evenodd\" fill-opacity=\"1\"/>\n",
       "<polyline clip-path=\"url(#clip672)\" style=\"stroke:#000000; stroke-linecap:round; stroke-linejoin:round; stroke-width:4; stroke-opacity:1; fill:none\" points=\"10355.8,1423.18 10355.8,1423.18 10425.3,1423.18 10355.8,1423.18 \"/>\n",
       "<path clip-path=\"url(#clip672)\" d=\"M10425.3 1423.18 L10425.3 1423.18 L10494.8 1423.18 L10494.8 1423.18 L10425.3 1423.18 L10425.3 1423.18  Z\" fill=\"#009af9\" fill-rule=\"evenodd\" fill-opacity=\"1\"/>\n",
       "<polyline clip-path=\"url(#clip672)\" style=\"stroke:#000000; stroke-linecap:round; stroke-linejoin:round; stroke-width:4; stroke-opacity:1; fill:none\" points=\"10425.3,1423.18 10425.3,1423.18 10494.8,1423.18 10425.3,1423.18 \"/>\n",
       "<path clip-path=\"url(#clip672)\" d=\"M10494.8 1423.18 L10494.8 1423.18 L10564.3 1423.18 L10564.3 1423.18 L10494.8 1423.18 L10494.8 1423.18  Z\" fill=\"#009af9\" fill-rule=\"evenodd\" fill-opacity=\"1\"/>\n",
       "<polyline clip-path=\"url(#clip672)\" style=\"stroke:#000000; stroke-linecap:round; stroke-linejoin:round; stroke-width:4; stroke-opacity:1; fill:none\" points=\"10494.8,1423.18 10494.8,1423.18 10564.3,1423.18 10494.8,1423.18 \"/>\n",
       "<path clip-path=\"url(#clip672)\" d=\"M10564.3 1423.18 L10564.3 1423.18 L10633.8 1423.18 L10633.8 1423.18 L10564.3 1423.18 L10564.3 1423.18  Z\" fill=\"#009af9\" fill-rule=\"evenodd\" fill-opacity=\"1\"/>\n",
       "<polyline clip-path=\"url(#clip672)\" style=\"stroke:#000000; stroke-linecap:round; stroke-linejoin:round; stroke-width:4; stroke-opacity:1; fill:none\" points=\"10564.3,1423.18 10564.3,1423.18 10633.8,1423.18 10564.3,1423.18 \"/>\n",
       "<path clip-path=\"url(#clip672)\" d=\"M10633.8 1423.18 L10633.8 1423.18 L10703.2 1423.18 L10703.2 1423.18 L10633.8 1423.18 L10633.8 1423.18  Z\" fill=\"#009af9\" fill-rule=\"evenodd\" fill-opacity=\"1\"/>\n",
       "<polyline clip-path=\"url(#clip672)\" style=\"stroke:#000000; stroke-linecap:round; stroke-linejoin:round; stroke-width:4; stroke-opacity:1; fill:none\" points=\"10633.8,1423.18 10633.8,1423.18 10703.2,1423.18 10633.8,1423.18 \"/>\n",
       "<path clip-path=\"url(#clip672)\" d=\"M10703.2 1423.18 L10703.2 1423.18 L10772.7 1423.18 L10772.7 1423.18 L10703.2 1423.18 L10703.2 1423.18  Z\" fill=\"#009af9\" fill-rule=\"evenodd\" fill-opacity=\"1\"/>\n",
       "<polyline clip-path=\"url(#clip672)\" style=\"stroke:#000000; stroke-linecap:round; stroke-linejoin:round; stroke-width:4; stroke-opacity:1; fill:none\" points=\"10703.2,1423.18 10703.2,1423.18 10772.7,1423.18 10703.2,1423.18 \"/>\n",
       "<path clip-path=\"url(#clip672)\" d=\"M10772.7 1423.18 L10772.7 1423.18 L10842.2 1423.18 L10842.2 1423.18 L10772.7 1423.18 L10772.7 1423.18  Z\" fill=\"#009af9\" fill-rule=\"evenodd\" fill-opacity=\"1\"/>\n",
       "<polyline clip-path=\"url(#clip672)\" style=\"stroke:#000000; stroke-linecap:round; stroke-linejoin:round; stroke-width:4; stroke-opacity:1; fill:none\" points=\"10772.7,1423.18 10772.7,1423.18 10842.2,1423.18 10772.7,1423.18 \"/>\n",
       "<path clip-path=\"url(#clip672)\" d=\"M10842.2 1342.24 L10842.2 1423.18 L10911.7 1423.18 L10911.7 1342.24 L10842.2 1342.24 L10842.2 1342.24  Z\" fill=\"#009af9\" fill-rule=\"evenodd\" fill-opacity=\"1\"/>\n",
       "<polyline clip-path=\"url(#clip672)\" style=\"stroke:#000000; stroke-linecap:round; stroke-linejoin:round; stroke-width:4; stroke-opacity:1; fill:none\" points=\"10842.2,1342.24 10842.2,1423.18 10911.7,1423.18 10911.7,1342.24 10842.2,1342.24 \"/>\n",
       "<path clip-path=\"url(#clip672)\" d=\"M10911.7 1423.18 L10911.7 1423.18 L10981.2 1423.18 L10981.2 1423.18 L10911.7 1423.18 L10911.7 1423.18  Z\" fill=\"#009af9\" fill-rule=\"evenodd\" fill-opacity=\"1\"/>\n",
       "<polyline clip-path=\"url(#clip672)\" style=\"stroke:#000000; stroke-linecap:round; stroke-linejoin:round; stroke-width:4; stroke-opacity:1; fill:none\" points=\"10911.7,1423.18 10911.7,1423.18 10981.2,1423.18 10911.7,1423.18 \"/>\n",
       "<path clip-path=\"url(#clip672)\" d=\"M10981.2 1423.18 L10981.2 1423.18 L11050.7 1423.18 L11050.7 1423.18 L10981.2 1423.18 L10981.2 1423.18  Z\" fill=\"#009af9\" fill-rule=\"evenodd\" fill-opacity=\"1\"/>\n",
       "<polyline clip-path=\"url(#clip672)\" style=\"stroke:#000000; stroke-linecap:round; stroke-linejoin:round; stroke-width:4; stroke-opacity:1; fill:none\" points=\"10981.2,1423.18 10981.2,1423.18 11050.7,1423.18 10981.2,1423.18 \"/>\n",
       "<path clip-path=\"url(#clip672)\" d=\"M11050.7 1342.24 L11050.7 1423.18 L11120.2 1423.18 L11120.2 1342.24 L11050.7 1342.24 L11050.7 1342.24  Z\" fill=\"#009af9\" fill-rule=\"evenodd\" fill-opacity=\"1\"/>\n",
       "<polyline clip-path=\"url(#clip672)\" style=\"stroke:#000000; stroke-linecap:round; stroke-linejoin:round; stroke-width:4; stroke-opacity:1; fill:none\" points=\"11050.7,1342.24 11050.7,1423.18 11120.2,1423.18 11120.2,1342.24 11050.7,1342.24 \"/>\n",
       "<path clip-path=\"url(#clip672)\" d=\"M11120.2 1423.18 L11120.2 1423.18 L11189.7 1423.18 L11189.7 1423.18 L11120.2 1423.18 L11120.2 1423.18  Z\" fill=\"#009af9\" fill-rule=\"evenodd\" fill-opacity=\"1\"/>\n",
       "<polyline clip-path=\"url(#clip672)\" style=\"stroke:#000000; stroke-linecap:round; stroke-linejoin:round; stroke-width:4; stroke-opacity:1; fill:none\" points=\"11120.2,1423.18 11120.2,1423.18 11189.7,1423.18 11120.2,1423.18 \"/>\n",
       "<path clip-path=\"url(#clip672)\" d=\"M11189.7 1423.18 L11189.7 1423.18 L11259.2 1423.18 L11259.2 1423.18 L11189.7 1423.18 L11189.7 1423.18  Z\" fill=\"#009af9\" fill-rule=\"evenodd\" fill-opacity=\"1\"/>\n",
       "<polyline clip-path=\"url(#clip672)\" style=\"stroke:#000000; stroke-linecap:round; stroke-linejoin:round; stroke-width:4; stroke-opacity:1; fill:none\" points=\"11189.7,1423.18 11189.7,1423.18 11259.2,1423.18 11189.7,1423.18 \"/>\n",
       "<path clip-path=\"url(#clip672)\" d=\"M11259.2 1423.18 L11259.2 1423.18 L11328.7 1423.18 L11328.7 1423.18 L11259.2 1423.18 L11259.2 1423.18  Z\" fill=\"#009af9\" fill-rule=\"evenodd\" fill-opacity=\"1\"/>\n",
       "<polyline clip-path=\"url(#clip672)\" style=\"stroke:#000000; stroke-linecap:round; stroke-linejoin:round; stroke-width:4; stroke-opacity:1; fill:none\" points=\"11259.2,1423.18 11259.2,1423.18 11328.7,1423.18 11259.2,1423.18 \"/>\n",
       "<path clip-path=\"url(#clip672)\" d=\"M11328.7 1342.24 L11328.7 1423.18 L11398.2 1423.18 L11398.2 1342.24 L11328.7 1342.24 L11328.7 1342.24  Z\" fill=\"#009af9\" fill-rule=\"evenodd\" fill-opacity=\"1\"/>\n",
       "<polyline clip-path=\"url(#clip672)\" style=\"stroke:#000000; stroke-linecap:round; stroke-linejoin:round; stroke-width:4; stroke-opacity:1; fill:none\" points=\"11328.7,1342.24 11328.7,1423.18 11398.2,1423.18 11398.2,1342.24 11328.7,1342.24 \"/>\n",
       "<path clip-path=\"url(#clip672)\" d=\"M11398.2 1423.18 L11398.2 1423.18 L11467.7 1423.18 L11467.7 1423.18 L11398.2 1423.18 L11398.2 1423.18  Z\" fill=\"#009af9\" fill-rule=\"evenodd\" fill-opacity=\"1\"/>\n",
       "<polyline clip-path=\"url(#clip672)\" style=\"stroke:#000000; stroke-linecap:round; stroke-linejoin:round; stroke-width:4; stroke-opacity:1; fill:none\" points=\"11398.2,1423.18 11398.2,1423.18 11467.7,1423.18 11398.2,1423.18 \"/>\n",
       "<path clip-path=\"url(#clip672)\" d=\"M11467.7 1423.18 L11467.7 1423.18 L11537.2 1423.18 L11537.2 1423.18 L11467.7 1423.18 L11467.7 1423.18  Z\" fill=\"#009af9\" fill-rule=\"evenodd\" fill-opacity=\"1\"/>\n",
       "<polyline clip-path=\"url(#clip672)\" style=\"stroke:#000000; stroke-linecap:round; stroke-linejoin:round; stroke-width:4; stroke-opacity:1; fill:none\" points=\"11467.7,1423.18 11467.7,1423.18 11537.2,1423.18 11467.7,1423.18 \"/>\n",
       "<path clip-path=\"url(#clip672)\" d=\"M11537.2 1423.18 L11537.2 1423.18 L11606.7 1423.18 L11606.7 1423.18 L11537.2 1423.18 L11537.2 1423.18  Z\" fill=\"#009af9\" fill-rule=\"evenodd\" fill-opacity=\"1\"/>\n",
       "<polyline clip-path=\"url(#clip672)\" style=\"stroke:#000000; stroke-linecap:round; stroke-linejoin:round; stroke-width:4; stroke-opacity:1; fill:none\" points=\"11537.2,1423.18 11537.2,1423.18 11606.7,1423.18 11537.2,1423.18 \"/>\n",
       "<path clip-path=\"url(#clip672)\" d=\"M11606.7 1423.18 L11606.7 1423.18 L11676.2 1423.18 L11676.2 1423.18 L11606.7 1423.18 L11606.7 1423.18  Z\" fill=\"#009af9\" fill-rule=\"evenodd\" fill-opacity=\"1\"/>\n",
       "<polyline clip-path=\"url(#clip672)\" style=\"stroke:#000000; stroke-linecap:round; stroke-linejoin:round; stroke-width:4; stroke-opacity:1; fill:none\" points=\"11606.7,1423.18 11606.7,1423.18 11676.2,1423.18 11606.7,1423.18 \"/>\n",
       "<path clip-path=\"url(#clip672)\" d=\"M11676.2 1423.18 L11676.2 1423.18 L11745.7 1423.18 L11745.7 1423.18 L11676.2 1423.18 L11676.2 1423.18  Z\" fill=\"#009af9\" fill-rule=\"evenodd\" fill-opacity=\"1\"/>\n",
       "<polyline clip-path=\"url(#clip672)\" style=\"stroke:#000000; stroke-linecap:round; stroke-linejoin:round; stroke-width:4; stroke-opacity:1; fill:none\" points=\"11676.2,1423.18 11676.2,1423.18 11745.7,1423.18 11676.2,1423.18 \"/>\n",
       "<path clip-path=\"url(#clip672)\" d=\"M11745.7 1423.18 L11745.7 1423.18 L11815.2 1423.18 L11815.2 1423.18 L11745.7 1423.18 L11745.7 1423.18  Z\" fill=\"#009af9\" fill-rule=\"evenodd\" fill-opacity=\"1\"/>\n",
       "<polyline clip-path=\"url(#clip672)\" style=\"stroke:#000000; stroke-linecap:round; stroke-linejoin:round; stroke-width:4; stroke-opacity:1; fill:none\" points=\"11745.7,1423.18 11745.7,1423.18 11815.2,1423.18 11745.7,1423.18 \"/>\n",
       "<path clip-path=\"url(#clip672)\" d=\"M11815.2 1423.18 L11815.2 1423.18 L11884.7 1423.18 L11884.7 1423.18 L11815.2 1423.18 L11815.2 1423.18  Z\" fill=\"#009af9\" fill-rule=\"evenodd\" fill-opacity=\"1\"/>\n",
       "<polyline clip-path=\"url(#clip672)\" style=\"stroke:#000000; stroke-linecap:round; stroke-linejoin:round; stroke-width:4; stroke-opacity:1; fill:none\" points=\"11815.2,1423.18 11815.2,1423.18 11884.7,1423.18 11815.2,1423.18 \"/>\n",
       "<path clip-path=\"url(#clip672)\" d=\"M11884.7 1423.18 L11884.7 1423.18 L11954.2 1423.18 L11954.2 1423.18 L11884.7 1423.18 L11884.7 1423.18  Z\" fill=\"#009af9\" fill-rule=\"evenodd\" fill-opacity=\"1\"/>\n",
       "<polyline clip-path=\"url(#clip672)\" style=\"stroke:#000000; stroke-linecap:round; stroke-linejoin:round; stroke-width:4; stroke-opacity:1; fill:none\" points=\"11884.7,1423.18 11884.7,1423.18 11954.2,1423.18 11884.7,1423.18 \"/>\n",
       "<path clip-path=\"url(#clip672)\" d=\"M11954.2 1423.18 L11954.2 1423.18 L12023.7 1423.18 L12023.7 1423.18 L11954.2 1423.18 L11954.2 1423.18  Z\" fill=\"#009af9\" fill-rule=\"evenodd\" fill-opacity=\"1\"/>\n",
       "<polyline clip-path=\"url(#clip672)\" style=\"stroke:#000000; stroke-linecap:round; stroke-linejoin:round; stroke-width:4; stroke-opacity:1; fill:none\" points=\"11954.2,1423.18 11954.2,1423.18 12023.7,1423.18 11954.2,1423.18 \"/>\n",
       "<path clip-path=\"url(#clip672)\" d=\"M12023.7 1423.18 L12023.7 1423.18 L12093.2 1423.18 L12093.2 1423.18 L12023.7 1423.18 L12023.7 1423.18  Z\" fill=\"#009af9\" fill-rule=\"evenodd\" fill-opacity=\"1\"/>\n",
       "<polyline clip-path=\"url(#clip672)\" style=\"stroke:#000000; stroke-linecap:round; stroke-linejoin:round; stroke-width:4; stroke-opacity:1; fill:none\" points=\"12023.7,1423.18 12023.7,1423.18 12093.2,1423.18 12023.7,1423.18 \"/>\n",
       "<path clip-path=\"url(#clip672)\" d=\"M12093.2 1423.18 L12093.2 1423.18 L12162.6 1423.18 L12162.6 1423.18 L12093.2 1423.18 L12093.2 1423.18  Z\" fill=\"#009af9\" fill-rule=\"evenodd\" fill-opacity=\"1\"/>\n",
       "<polyline clip-path=\"url(#clip672)\" style=\"stroke:#000000; stroke-linecap:round; stroke-linejoin:round; stroke-width:4; stroke-opacity:1; fill:none\" points=\"12093.2,1423.18 12093.2,1423.18 12162.6,1423.18 12093.2,1423.18 \"/>\n",
       "<path clip-path=\"url(#clip672)\" d=\"M12162.6 1423.18 L12162.6 1423.18 L12232.1 1423.18 L12232.1 1423.18 L12162.6 1423.18 L12162.6 1423.18  Z\" fill=\"#009af9\" fill-rule=\"evenodd\" fill-opacity=\"1\"/>\n",
       "<polyline clip-path=\"url(#clip672)\" style=\"stroke:#000000; stroke-linecap:round; stroke-linejoin:round; stroke-width:4; stroke-opacity:1; fill:none\" points=\"12162.6,1423.18 12162.6,1423.18 12232.1,1423.18 12162.6,1423.18 \"/>\n",
       "<path clip-path=\"url(#clip672)\" d=\"M12232.1 1423.18 L12232.1 1423.18 L12301.6 1423.18 L12301.6 1423.18 L12232.1 1423.18 L12232.1 1423.18  Z\" fill=\"#009af9\" fill-rule=\"evenodd\" fill-opacity=\"1\"/>\n",
       "<polyline clip-path=\"url(#clip672)\" style=\"stroke:#000000; stroke-linecap:round; stroke-linejoin:round; stroke-width:4; stroke-opacity:1; fill:none\" points=\"12232.1,1423.18 12232.1,1423.18 12301.6,1423.18 12232.1,1423.18 \"/>\n",
       "<path clip-path=\"url(#clip672)\" d=\"M12301.6 1423.18 L12301.6 1423.18 L12371.1 1423.18 L12371.1 1423.18 L12301.6 1423.18 L12301.6 1423.18  Z\" fill=\"#009af9\" fill-rule=\"evenodd\" fill-opacity=\"1\"/>\n",
       "<polyline clip-path=\"url(#clip672)\" style=\"stroke:#000000; stroke-linecap:round; stroke-linejoin:round; stroke-width:4; stroke-opacity:1; fill:none\" points=\"12301.6,1423.18 12301.6,1423.18 12371.1,1423.18 12301.6,1423.18 \"/>\n",
       "<path clip-path=\"url(#clip672)\" d=\"M12371.1 1423.18 L12371.1 1423.18 L12440.6 1423.18 L12440.6 1423.18 L12371.1 1423.18 L12371.1 1423.18  Z\" fill=\"#009af9\" fill-rule=\"evenodd\" fill-opacity=\"1\"/>\n",
       "<polyline clip-path=\"url(#clip672)\" style=\"stroke:#000000; stroke-linecap:round; stroke-linejoin:round; stroke-width:4; stroke-opacity:1; fill:none\" points=\"12371.1,1423.18 12371.1,1423.18 12440.6,1423.18 12371.1,1423.18 \"/>\n",
       "<path clip-path=\"url(#clip672)\" d=\"M12440.6 1423.18 L12440.6 1423.18 L12510.1 1423.18 L12510.1 1423.18 L12440.6 1423.18 L12440.6 1423.18  Z\" fill=\"#009af9\" fill-rule=\"evenodd\" fill-opacity=\"1\"/>\n",
       "<polyline clip-path=\"url(#clip672)\" style=\"stroke:#000000; stroke-linecap:round; stroke-linejoin:round; stroke-width:4; stroke-opacity:1; fill:none\" points=\"12440.6,1423.18 12440.6,1423.18 12510.1,1423.18 12440.6,1423.18 \"/>\n",
       "<path clip-path=\"url(#clip672)\" d=\"M12510.1 1423.18 L12510.1 1423.18 L12579.6 1423.18 L12579.6 1423.18 L12510.1 1423.18 L12510.1 1423.18  Z\" fill=\"#009af9\" fill-rule=\"evenodd\" fill-opacity=\"1\"/>\n",
       "<polyline clip-path=\"url(#clip672)\" style=\"stroke:#000000; stroke-linecap:round; stroke-linejoin:round; stroke-width:4; stroke-opacity:1; fill:none\" points=\"12510.1,1423.18 12510.1,1423.18 12579.6,1423.18 12510.1,1423.18 \"/>\n",
       "<path clip-path=\"url(#clip672)\" d=\"M12579.6 1423.18 L12579.6 1423.18 L12649.1 1423.18 L12649.1 1423.18 L12579.6 1423.18 L12579.6 1423.18  Z\" fill=\"#009af9\" fill-rule=\"evenodd\" fill-opacity=\"1\"/>\n",
       "<polyline clip-path=\"url(#clip672)\" style=\"stroke:#000000; stroke-linecap:round; stroke-linejoin:round; stroke-width:4; stroke-opacity:1; fill:none\" points=\"12579.6,1423.18 12579.6,1423.18 12649.1,1423.18 12579.6,1423.18 \"/>\n",
       "<path clip-path=\"url(#clip672)\" d=\"M12649.1 1423.18 L12649.1 1423.18 L12718.6 1423.18 L12718.6 1423.18 L12649.1 1423.18 L12649.1 1423.18  Z\" fill=\"#009af9\" fill-rule=\"evenodd\" fill-opacity=\"1\"/>\n",
       "<polyline clip-path=\"url(#clip672)\" style=\"stroke:#000000; stroke-linecap:round; stroke-linejoin:round; stroke-width:4; stroke-opacity:1; fill:none\" points=\"12649.1,1423.18 12649.1,1423.18 12718.6,1423.18 12649.1,1423.18 \"/>\n",
       "<path clip-path=\"url(#clip672)\" d=\"M12718.6 1423.18 L12718.6 1423.18 L12788.1 1423.18 L12788.1 1423.18 L12718.6 1423.18 L12718.6 1423.18  Z\" fill=\"#009af9\" fill-rule=\"evenodd\" fill-opacity=\"1\"/>\n",
       "<polyline clip-path=\"url(#clip672)\" style=\"stroke:#000000; stroke-linecap:round; stroke-linejoin:round; stroke-width:4; stroke-opacity:1; fill:none\" points=\"12718.6,1423.18 12718.6,1423.18 12788.1,1423.18 12718.6,1423.18 \"/>\n",
       "<path clip-path=\"url(#clip672)\" d=\"M12788.1 1423.18 L12788.1 1423.18 L12857.6 1423.18 L12857.6 1423.18 L12788.1 1423.18 L12788.1 1423.18  Z\" fill=\"#009af9\" fill-rule=\"evenodd\" fill-opacity=\"1\"/>\n",
       "<polyline clip-path=\"url(#clip672)\" style=\"stroke:#000000; stroke-linecap:round; stroke-linejoin:round; stroke-width:4; stroke-opacity:1; fill:none\" points=\"12788.1,1423.18 12788.1,1423.18 12857.6,1423.18 12788.1,1423.18 \"/>\n",
       "<path clip-path=\"url(#clip672)\" d=\"M12857.6 1423.18 L12857.6 1423.18 L12927.1 1423.18 L12927.1 1423.18 L12857.6 1423.18 L12857.6 1423.18  Z\" fill=\"#009af9\" fill-rule=\"evenodd\" fill-opacity=\"1\"/>\n",
       "<polyline clip-path=\"url(#clip672)\" style=\"stroke:#000000; stroke-linecap:round; stroke-linejoin:round; stroke-width:4; stroke-opacity:1; fill:none\" points=\"12857.6,1423.18 12857.6,1423.18 12927.1,1423.18 12857.6,1423.18 \"/>\n",
       "<path clip-path=\"url(#clip672)\" d=\"M12927.1 1423.18 L12927.1 1423.18 L12996.6 1423.18 L12996.6 1423.18 L12927.1 1423.18 L12927.1 1423.18  Z\" fill=\"#009af9\" fill-rule=\"evenodd\" fill-opacity=\"1\"/>\n",
       "<polyline clip-path=\"url(#clip672)\" style=\"stroke:#000000; stroke-linecap:round; stroke-linejoin:round; stroke-width:4; stroke-opacity:1; fill:none\" points=\"12927.1,1423.18 12927.1,1423.18 12996.6,1423.18 12927.1,1423.18 \"/>\n",
       "<path clip-path=\"url(#clip672)\" d=\"M12996.6 1423.18 L12996.6 1423.18 L13066.1 1423.18 L13066.1 1423.18 L12996.6 1423.18 L12996.6 1423.18  Z\" fill=\"#009af9\" fill-rule=\"evenodd\" fill-opacity=\"1\"/>\n",
       "<polyline clip-path=\"url(#clip672)\" style=\"stroke:#000000; stroke-linecap:round; stroke-linejoin:round; stroke-width:4; stroke-opacity:1; fill:none\" points=\"12996.6,1423.18 12996.6,1423.18 13066.1,1423.18 12996.6,1423.18 \"/>\n",
       "<path clip-path=\"url(#clip672)\" d=\"M13066.1 1423.18 L13066.1 1423.18 L13135.6 1423.18 L13135.6 1423.18 L13066.1 1423.18 L13066.1 1423.18  Z\" fill=\"#009af9\" fill-rule=\"evenodd\" fill-opacity=\"1\"/>\n",
       "<polyline clip-path=\"url(#clip672)\" style=\"stroke:#000000; stroke-linecap:round; stroke-linejoin:round; stroke-width:4; stroke-opacity:1; fill:none\" points=\"13066.1,1423.18 13066.1,1423.18 13135.6,1423.18 13066.1,1423.18 \"/>\n",
       "<path clip-path=\"url(#clip672)\" d=\"M13135.6 1423.18 L13135.6 1423.18 L13205.1 1423.18 L13205.1 1423.18 L13135.6 1423.18 L13135.6 1423.18  Z\" fill=\"#009af9\" fill-rule=\"evenodd\" fill-opacity=\"1\"/>\n",
       "<polyline clip-path=\"url(#clip672)\" style=\"stroke:#000000; stroke-linecap:round; stroke-linejoin:round; stroke-width:4; stroke-opacity:1; fill:none\" points=\"13135.6,1423.18 13135.6,1423.18 13205.1,1423.18 13135.6,1423.18 \"/>\n",
       "<path clip-path=\"url(#clip672)\" d=\"M13205.1 1423.18 L13205.1 1423.18 L13274.6 1423.18 L13274.6 1423.18 L13205.1 1423.18 L13205.1 1423.18  Z\" fill=\"#009af9\" fill-rule=\"evenodd\" fill-opacity=\"1\"/>\n",
       "<polyline clip-path=\"url(#clip672)\" style=\"stroke:#000000; stroke-linecap:round; stroke-linejoin:round; stroke-width:4; stroke-opacity:1; fill:none\" points=\"13205.1,1423.18 13205.1,1423.18 13274.6,1423.18 13205.1,1423.18 \"/>\n",
       "<path clip-path=\"url(#clip672)\" d=\"M13274.6 1423.18 L13274.6 1423.18 L13344.1 1423.18 L13344.1 1423.18 L13274.6 1423.18 L13274.6 1423.18  Z\" fill=\"#009af9\" fill-rule=\"evenodd\" fill-opacity=\"1\"/>\n",
       "<polyline clip-path=\"url(#clip672)\" style=\"stroke:#000000; stroke-linecap:round; stroke-linejoin:round; stroke-width:4; stroke-opacity:1; fill:none\" points=\"13274.6,1423.18 13274.6,1423.18 13344.1,1423.18 13274.6,1423.18 \"/>\n",
       "<path clip-path=\"url(#clip672)\" d=\"M13344.1 1423.18 L13344.1 1423.18 L13413.6 1423.18 L13413.6 1423.18 L13344.1 1423.18 L13344.1 1423.18  Z\" fill=\"#009af9\" fill-rule=\"evenodd\" fill-opacity=\"1\"/>\n",
       "<polyline clip-path=\"url(#clip672)\" style=\"stroke:#000000; stroke-linecap:round; stroke-linejoin:round; stroke-width:4; stroke-opacity:1; fill:none\" points=\"13344.1,1423.18 13344.1,1423.18 13413.6,1423.18 13344.1,1423.18 \"/>\n",
       "<path clip-path=\"url(#clip672)\" d=\"M13413.6 1423.18 L13413.6 1423.18 L13483.1 1423.18 L13483.1 1423.18 L13413.6 1423.18 L13413.6 1423.18  Z\" fill=\"#009af9\" fill-rule=\"evenodd\" fill-opacity=\"1\"/>\n",
       "<polyline clip-path=\"url(#clip672)\" style=\"stroke:#000000; stroke-linecap:round; stroke-linejoin:round; stroke-width:4; stroke-opacity:1; fill:none\" points=\"13413.6,1423.18 13413.6,1423.18 13483.1,1423.18 13413.6,1423.18 \"/>\n",
       "<path clip-path=\"url(#clip672)\" d=\"M13483.1 1423.18 L13483.1 1423.18 L13552.6 1423.18 L13552.6 1423.18 L13483.1 1423.18 L13483.1 1423.18  Z\" fill=\"#009af9\" fill-rule=\"evenodd\" fill-opacity=\"1\"/>\n",
       "<polyline clip-path=\"url(#clip672)\" style=\"stroke:#000000; stroke-linecap:round; stroke-linejoin:round; stroke-width:4; stroke-opacity:1; fill:none\" points=\"13483.1,1423.18 13483.1,1423.18 13552.6,1423.18 13483.1,1423.18 \"/>\n",
       "<path clip-path=\"url(#clip672)\" d=\"M13552.6 1423.18 L13552.6 1423.18 L13622.1 1423.18 L13622.1 1423.18 L13552.6 1423.18 L13552.6 1423.18  Z\" fill=\"#009af9\" fill-rule=\"evenodd\" fill-opacity=\"1\"/>\n",
       "<polyline clip-path=\"url(#clip672)\" style=\"stroke:#000000; stroke-linecap:round; stroke-linejoin:round; stroke-width:4; stroke-opacity:1; fill:none\" points=\"13552.6,1423.18 13552.6,1423.18 13622.1,1423.18 13552.6,1423.18 \"/>\n",
       "<path clip-path=\"url(#clip672)\" d=\"M13622.1 1423.18 L13622.1 1423.18 L13691.5 1423.18 L13691.5 1423.18 L13622.1 1423.18 L13622.1 1423.18  Z\" fill=\"#009af9\" fill-rule=\"evenodd\" fill-opacity=\"1\"/>\n",
       "<polyline clip-path=\"url(#clip672)\" style=\"stroke:#000000; stroke-linecap:round; stroke-linejoin:round; stroke-width:4; stroke-opacity:1; fill:none\" points=\"13622.1,1423.18 13622.1,1423.18 13691.5,1423.18 13622.1,1423.18 \"/>\n",
       "<path clip-path=\"url(#clip672)\" d=\"M13691.5 1423.18 L13691.5 1423.18 L13761 1423.18 L13761 1423.18 L13691.5 1423.18 L13691.5 1423.18  Z\" fill=\"#009af9\" fill-rule=\"evenodd\" fill-opacity=\"1\"/>\n",
       "<polyline clip-path=\"url(#clip672)\" style=\"stroke:#000000; stroke-linecap:round; stroke-linejoin:round; stroke-width:4; stroke-opacity:1; fill:none\" points=\"13691.5,1423.18 13691.5,1423.18 13761,1423.18 13691.5,1423.18 \"/>\n",
       "<path clip-path=\"url(#clip672)\" d=\"M13761 1423.18 L13761 1423.18 L13830.5 1423.18 L13830.5 1423.18 L13761 1423.18 L13761 1423.18  Z\" fill=\"#009af9\" fill-rule=\"evenodd\" fill-opacity=\"1\"/>\n",
       "<polyline clip-path=\"url(#clip672)\" style=\"stroke:#000000; stroke-linecap:round; stroke-linejoin:round; stroke-width:4; stroke-opacity:1; fill:none\" points=\"13761,1423.18 13761,1423.18 13830.5,1423.18 13761,1423.18 \"/>\n",
       "<path clip-path=\"url(#clip672)\" d=\"M13830.5 1423.18 L13830.5 1423.18 L13900 1423.18 L13900 1423.18 L13830.5 1423.18 L13830.5 1423.18  Z\" fill=\"#009af9\" fill-rule=\"evenodd\" fill-opacity=\"1\"/>\n",
       "<polyline clip-path=\"url(#clip672)\" style=\"stroke:#000000; stroke-linecap:round; stroke-linejoin:round; stroke-width:4; stroke-opacity:1; fill:none\" points=\"13830.5,1423.18 13830.5,1423.18 13900,1423.18 13830.5,1423.18 \"/>\n",
       "<path clip-path=\"url(#clip672)\" d=\"M13900 1423.18 L13900 1423.18 L13969.5 1423.18 L13969.5 1423.18 L13900 1423.18 L13900 1423.18  Z\" fill=\"#009af9\" fill-rule=\"evenodd\" fill-opacity=\"1\"/>\n",
       "<polyline clip-path=\"url(#clip672)\" style=\"stroke:#000000; stroke-linecap:round; stroke-linejoin:round; stroke-width:4; stroke-opacity:1; fill:none\" points=\"13900,1423.18 13900,1423.18 13969.5,1423.18 13900,1423.18 \"/>\n",
       "<path clip-path=\"url(#clip672)\" d=\"M13969.5 1423.18 L13969.5 1423.18 L14039 1423.18 L14039 1423.18 L13969.5 1423.18 L13969.5 1423.18  Z\" fill=\"#009af9\" fill-rule=\"evenodd\" fill-opacity=\"1\"/>\n",
       "<polyline clip-path=\"url(#clip672)\" style=\"stroke:#000000; stroke-linecap:round; stroke-linejoin:round; stroke-width:4; stroke-opacity:1; fill:none\" points=\"13969.5,1423.18 13969.5,1423.18 14039,1423.18 13969.5,1423.18 \"/>\n",
       "<path clip-path=\"url(#clip672)\" d=\"M14039 1423.18 L14039 1423.18 L14108.5 1423.18 L14108.5 1423.18 L14039 1423.18 L14039 1423.18  Z\" fill=\"#009af9\" fill-rule=\"evenodd\" fill-opacity=\"1\"/>\n",
       "<polyline clip-path=\"url(#clip672)\" style=\"stroke:#000000; stroke-linecap:round; stroke-linejoin:round; stroke-width:4; stroke-opacity:1; fill:none\" points=\"14039,1423.18 14039,1423.18 14108.5,1423.18 14039,1423.18 \"/>\n",
       "<path clip-path=\"url(#clip672)\" d=\"M14108.5 1423.18 L14108.5 1423.18 L14178 1423.18 L14178 1423.18 L14108.5 1423.18 L14108.5 1423.18  Z\" fill=\"#009af9\" fill-rule=\"evenodd\" fill-opacity=\"1\"/>\n",
       "<polyline clip-path=\"url(#clip672)\" style=\"stroke:#000000; stroke-linecap:round; stroke-linejoin:round; stroke-width:4; stroke-opacity:1; fill:none\" points=\"14108.5,1423.18 14108.5,1423.18 14178,1423.18 14108.5,1423.18 \"/>\n",
       "<path clip-path=\"url(#clip672)\" d=\"M14178 1423.18 L14178 1423.18 L14247.5 1423.18 L14247.5 1423.18 L14178 1423.18 L14178 1423.18  Z\" fill=\"#009af9\" fill-rule=\"evenodd\" fill-opacity=\"1\"/>\n",
       "<polyline clip-path=\"url(#clip672)\" style=\"stroke:#000000; stroke-linecap:round; stroke-linejoin:round; stroke-width:4; stroke-opacity:1; fill:none\" points=\"14178,1423.18 14178,1423.18 14247.5,1423.18 14178,1423.18 \"/>\n",
       "<path clip-path=\"url(#clip672)\" d=\"M14247.5 1423.18 L14247.5 1423.18 L14317 1423.18 L14317 1423.18 L14247.5 1423.18 L14247.5 1423.18  Z\" fill=\"#009af9\" fill-rule=\"evenodd\" fill-opacity=\"1\"/>\n",
       "<polyline clip-path=\"url(#clip672)\" style=\"stroke:#000000; stroke-linecap:round; stroke-linejoin:round; stroke-width:4; stroke-opacity:1; fill:none\" points=\"14247.5,1423.18 14247.5,1423.18 14317,1423.18 14247.5,1423.18 \"/>\n",
       "<path clip-path=\"url(#clip672)\" d=\"M14317 1423.18 L14317 1423.18 L14386.5 1423.18 L14386.5 1423.18 L14317 1423.18 L14317 1423.18  Z\" fill=\"#009af9\" fill-rule=\"evenodd\" fill-opacity=\"1\"/>\n",
       "<polyline clip-path=\"url(#clip672)\" style=\"stroke:#000000; stroke-linecap:round; stroke-linejoin:round; stroke-width:4; stroke-opacity:1; fill:none\" points=\"14317,1423.18 14317,1423.18 14386.5,1423.18 14317,1423.18 \"/>\n",
       "<path clip-path=\"url(#clip672)\" d=\"M14386.5 1423.18 L14386.5 1423.18 L14456 1423.18 L14456 1423.18 L14386.5 1423.18 L14386.5 1423.18  Z\" fill=\"#009af9\" fill-rule=\"evenodd\" fill-opacity=\"1\"/>\n",
       "<polyline clip-path=\"url(#clip672)\" style=\"stroke:#000000; stroke-linecap:round; stroke-linejoin:round; stroke-width:4; stroke-opacity:1; fill:none\" points=\"14386.5,1423.18 14386.5,1423.18 14456,1423.18 14386.5,1423.18 \"/>\n",
       "<path clip-path=\"url(#clip672)\" d=\"M14456 1423.18 L14456 1423.18 L14525.5 1423.18 L14525.5 1423.18 L14456 1423.18 L14456 1423.18  Z\" fill=\"#009af9\" fill-rule=\"evenodd\" fill-opacity=\"1\"/>\n",
       "<polyline clip-path=\"url(#clip672)\" style=\"stroke:#000000; stroke-linecap:round; stroke-linejoin:round; stroke-width:4; stroke-opacity:1; fill:none\" points=\"14456,1423.18 14456,1423.18 14525.5,1423.18 14456,1423.18 \"/>\n",
       "<path clip-path=\"url(#clip672)\" d=\"M14525.5 1423.18 L14525.5 1423.18 L14595 1423.18 L14595 1423.18 L14525.5 1423.18 L14525.5 1423.18  Z\" fill=\"#009af9\" fill-rule=\"evenodd\" fill-opacity=\"1\"/>\n",
       "<polyline clip-path=\"url(#clip672)\" style=\"stroke:#000000; stroke-linecap:round; stroke-linejoin:round; stroke-width:4; stroke-opacity:1; fill:none\" points=\"14525.5,1423.18 14525.5,1423.18 14595,1423.18 14525.5,1423.18 \"/>\n",
       "<path clip-path=\"url(#clip672)\" d=\"M14595 1423.18 L14595 1423.18 L14664.5 1423.18 L14664.5 1423.18 L14595 1423.18 L14595 1423.18  Z\" fill=\"#009af9\" fill-rule=\"evenodd\" fill-opacity=\"1\"/>\n",
       "<polyline clip-path=\"url(#clip672)\" style=\"stroke:#000000; stroke-linecap:round; stroke-linejoin:round; stroke-width:4; stroke-opacity:1; fill:none\" points=\"14595,1423.18 14595,1423.18 14664.5,1423.18 14595,1423.18 \"/>\n",
       "<path clip-path=\"url(#clip672)\" d=\"M14664.5 1423.18 L14664.5 1423.18 L14734 1423.18 L14734 1423.18 L14664.5 1423.18 L14664.5 1423.18  Z\" fill=\"#009af9\" fill-rule=\"evenodd\" fill-opacity=\"1\"/>\n",
       "<polyline clip-path=\"url(#clip672)\" style=\"stroke:#000000; stroke-linecap:round; stroke-linejoin:round; stroke-width:4; stroke-opacity:1; fill:none\" points=\"14664.5,1423.18 14664.5,1423.18 14734,1423.18 14664.5,1423.18 \"/>\n",
       "<path clip-path=\"url(#clip672)\" d=\"M14734 1423.18 L14734 1423.18 L14803.5 1423.18 L14803.5 1423.18 L14734 1423.18 L14734 1423.18  Z\" fill=\"#009af9\" fill-rule=\"evenodd\" fill-opacity=\"1\"/>\n",
       "<polyline clip-path=\"url(#clip672)\" style=\"stroke:#000000; stroke-linecap:round; stroke-linejoin:round; stroke-width:4; stroke-opacity:1; fill:none\" points=\"14734,1423.18 14734,1423.18 14803.5,1423.18 14734,1423.18 \"/>\n",
       "<path clip-path=\"url(#clip672)\" d=\"M14803.5 1423.18 L14803.5 1423.18 L14873 1423.18 L14873 1423.18 L14803.5 1423.18 L14803.5 1423.18  Z\" fill=\"#009af9\" fill-rule=\"evenodd\" fill-opacity=\"1\"/>\n",
       "<polyline clip-path=\"url(#clip672)\" style=\"stroke:#000000; stroke-linecap:round; stroke-linejoin:round; stroke-width:4; stroke-opacity:1; fill:none\" points=\"14803.5,1423.18 14803.5,1423.18 14873,1423.18 14803.5,1423.18 \"/>\n",
       "<path clip-path=\"url(#clip672)\" d=\"M14873 1423.18 L14873 1423.18 L14942.5 1423.18 L14942.5 1423.18 L14873 1423.18 L14873 1423.18  Z\" fill=\"#009af9\" fill-rule=\"evenodd\" fill-opacity=\"1\"/>\n",
       "<polyline clip-path=\"url(#clip672)\" style=\"stroke:#000000; stroke-linecap:round; stroke-linejoin:round; stroke-width:4; stroke-opacity:1; fill:none\" points=\"14873,1423.18 14873,1423.18 14942.5,1423.18 14873,1423.18 \"/>\n",
       "<path clip-path=\"url(#clip672)\" d=\"M14942.5 1423.18 L14942.5 1423.18 L15012 1423.18 L15012 1423.18 L14942.5 1423.18 L14942.5 1423.18  Z\" fill=\"#009af9\" fill-rule=\"evenodd\" fill-opacity=\"1\"/>\n",
       "<polyline clip-path=\"url(#clip672)\" style=\"stroke:#000000; stroke-linecap:round; stroke-linejoin:round; stroke-width:4; stroke-opacity:1; fill:none\" points=\"14942.5,1423.18 14942.5,1423.18 15012,1423.18 14942.5,1423.18 \"/>\n",
       "<path clip-path=\"url(#clip672)\" d=\"M15012 1423.18 L15012 1423.18 L15081.5 1423.18 L15081.5 1423.18 L15012 1423.18 L15012 1423.18  Z\" fill=\"#009af9\" fill-rule=\"evenodd\" fill-opacity=\"1\"/>\n",
       "<polyline clip-path=\"url(#clip672)\" style=\"stroke:#000000; stroke-linecap:round; stroke-linejoin:round; stroke-width:4; stroke-opacity:1; fill:none\" points=\"15012,1423.18 15012,1423.18 15081.5,1423.18 15012,1423.18 \"/>\n",
       "<path clip-path=\"url(#clip672)\" d=\"M15081.5 1423.18 L15081.5 1423.18 L15150.9 1423.18 L15150.9 1423.18 L15081.5 1423.18 L15081.5 1423.18  Z\" fill=\"#009af9\" fill-rule=\"evenodd\" fill-opacity=\"1\"/>\n",
       "<polyline clip-path=\"url(#clip672)\" style=\"stroke:#000000; stroke-linecap:round; stroke-linejoin:round; stroke-width:4; stroke-opacity:1; fill:none\" points=\"15081.5,1423.18 15081.5,1423.18 15150.9,1423.18 15081.5,1423.18 \"/>\n",
       "<path clip-path=\"url(#clip672)\" d=\"M15150.9 1423.18 L15150.9 1423.18 L15220.4 1423.18 L15220.4 1423.18 L15150.9 1423.18 L15150.9 1423.18  Z\" fill=\"#009af9\" fill-rule=\"evenodd\" fill-opacity=\"1\"/>\n",
       "<polyline clip-path=\"url(#clip672)\" style=\"stroke:#000000; stroke-linecap:round; stroke-linejoin:round; stroke-width:4; stroke-opacity:1; fill:none\" points=\"15150.9,1423.18 15150.9,1423.18 15220.4,1423.18 15150.9,1423.18 \"/>\n",
       "<path clip-path=\"url(#clip672)\" d=\"M15220.4 1423.18 L15220.4 1423.18 L15289.9 1423.18 L15289.9 1423.18 L15220.4 1423.18 L15220.4 1423.18  Z\" fill=\"#009af9\" fill-rule=\"evenodd\" fill-opacity=\"1\"/>\n",
       "<polyline clip-path=\"url(#clip672)\" style=\"stroke:#000000; stroke-linecap:round; stroke-linejoin:round; stroke-width:4; stroke-opacity:1; fill:none\" points=\"15220.4,1423.18 15220.4,1423.18 15289.9,1423.18 15220.4,1423.18 \"/>\n",
       "<path clip-path=\"url(#clip672)\" d=\"M15289.9 1423.18 L15289.9 1423.18 L15359.4 1423.18 L15359.4 1423.18 L15289.9 1423.18 L15289.9 1423.18  Z\" fill=\"#009af9\" fill-rule=\"evenodd\" fill-opacity=\"1\"/>\n",
       "<polyline clip-path=\"url(#clip672)\" style=\"stroke:#000000; stroke-linecap:round; stroke-linejoin:round; stroke-width:4; stroke-opacity:1; fill:none\" points=\"15289.9,1423.18 15289.9,1423.18 15359.4,1423.18 15289.9,1423.18 \"/>\n",
       "<path clip-path=\"url(#clip672)\" d=\"M15359.4 1423.18 L15359.4 1423.18 L15428.9 1423.18 L15428.9 1423.18 L15359.4 1423.18 L15359.4 1423.18  Z\" fill=\"#009af9\" fill-rule=\"evenodd\" fill-opacity=\"1\"/>\n",
       "<polyline clip-path=\"url(#clip672)\" style=\"stroke:#000000; stroke-linecap:round; stroke-linejoin:round; stroke-width:4; stroke-opacity:1; fill:none\" points=\"15359.4,1423.18 15359.4,1423.18 15428.9,1423.18 15359.4,1423.18 \"/>\n",
       "<path clip-path=\"url(#clip672)\" d=\"M15428.9 1423.18 L15428.9 1423.18 L15498.4 1423.18 L15498.4 1423.18 L15428.9 1423.18 L15428.9 1423.18  Z\" fill=\"#009af9\" fill-rule=\"evenodd\" fill-opacity=\"1\"/>\n",
       "<polyline clip-path=\"url(#clip672)\" style=\"stroke:#000000; stroke-linecap:round; stroke-linejoin:round; stroke-width:4; stroke-opacity:1; fill:none\" points=\"15428.9,1423.18 15428.9,1423.18 15498.4,1423.18 15428.9,1423.18 \"/>\n",
       "<path clip-path=\"url(#clip672)\" d=\"M15498.4 1423.18 L15498.4 1423.18 L15567.9 1423.18 L15567.9 1423.18 L15498.4 1423.18 L15498.4 1423.18  Z\" fill=\"#009af9\" fill-rule=\"evenodd\" fill-opacity=\"1\"/>\n",
       "<polyline clip-path=\"url(#clip672)\" style=\"stroke:#000000; stroke-linecap:round; stroke-linejoin:round; stroke-width:4; stroke-opacity:1; fill:none\" points=\"15498.4,1423.18 15498.4,1423.18 15567.9,1423.18 15498.4,1423.18 \"/>\n",
       "<path clip-path=\"url(#clip672)\" d=\"M15567.9 1423.18 L15567.9 1423.18 L15637.4 1423.18 L15637.4 1423.18 L15567.9 1423.18 L15567.9 1423.18  Z\" fill=\"#009af9\" fill-rule=\"evenodd\" fill-opacity=\"1\"/>\n",
       "<polyline clip-path=\"url(#clip672)\" style=\"stroke:#000000; stroke-linecap:round; stroke-linejoin:round; stroke-width:4; stroke-opacity:1; fill:none\" points=\"15567.9,1423.18 15567.9,1423.18 15637.4,1423.18 15567.9,1423.18 \"/>\n",
       "<path clip-path=\"url(#clip672)\" d=\"M15637.4 1423.18 L15637.4 1423.18 L15706.9 1423.18 L15706.9 1423.18 L15637.4 1423.18 L15637.4 1423.18  Z\" fill=\"#009af9\" fill-rule=\"evenodd\" fill-opacity=\"1\"/>\n",
       "<polyline clip-path=\"url(#clip672)\" style=\"stroke:#000000; stroke-linecap:round; stroke-linejoin:round; stroke-width:4; stroke-opacity:1; fill:none\" points=\"15637.4,1423.18 15637.4,1423.18 15706.9,1423.18 15637.4,1423.18 \"/>\n",
       "<path clip-path=\"url(#clip672)\" d=\"M15706.9 1423.18 L15706.9 1423.18 L15776.4 1423.18 L15776.4 1423.18 L15706.9 1423.18 L15706.9 1423.18  Z\" fill=\"#009af9\" fill-rule=\"evenodd\" fill-opacity=\"1\"/>\n",
       "<polyline clip-path=\"url(#clip672)\" style=\"stroke:#000000; stroke-linecap:round; stroke-linejoin:round; stroke-width:4; stroke-opacity:1; fill:none\" points=\"15706.9,1423.18 15706.9,1423.18 15776.4,1423.18 15706.9,1423.18 \"/>\n",
       "<path clip-path=\"url(#clip672)\" d=\"M15776.4 1423.18 L15776.4 1423.18 L15845.9 1423.18 L15845.9 1423.18 L15776.4 1423.18 L15776.4 1423.18  Z\" fill=\"#009af9\" fill-rule=\"evenodd\" fill-opacity=\"1\"/>\n",
       "<polyline clip-path=\"url(#clip672)\" style=\"stroke:#000000; stroke-linecap:round; stroke-linejoin:round; stroke-width:4; stroke-opacity:1; fill:none\" points=\"15776.4,1423.18 15776.4,1423.18 15845.9,1423.18 15776.4,1423.18 \"/>\n",
       "<path clip-path=\"url(#clip672)\" d=\"M15845.9 1423.18 L15845.9 1423.18 L15915.4 1423.18 L15915.4 1423.18 L15845.9 1423.18 L15845.9 1423.18  Z\" fill=\"#009af9\" fill-rule=\"evenodd\" fill-opacity=\"1\"/>\n",
       "<polyline clip-path=\"url(#clip672)\" style=\"stroke:#000000; stroke-linecap:round; stroke-linejoin:round; stroke-width:4; stroke-opacity:1; fill:none\" points=\"15845.9,1423.18 15845.9,1423.18 15915.4,1423.18 15845.9,1423.18 \"/>\n",
       "<path clip-path=\"url(#clip672)\" d=\"M15915.4 1423.18 L15915.4 1423.18 L15984.9 1423.18 L15984.9 1423.18 L15915.4 1423.18 L15915.4 1423.18  Z\" fill=\"#009af9\" fill-rule=\"evenodd\" fill-opacity=\"1\"/>\n",
       "<polyline clip-path=\"url(#clip672)\" style=\"stroke:#000000; stroke-linecap:round; stroke-linejoin:round; stroke-width:4; stroke-opacity:1; fill:none\" points=\"15915.4,1423.18 15915.4,1423.18 15984.9,1423.18 15915.4,1423.18 \"/>\n",
       "<path clip-path=\"url(#clip672)\" d=\"M15984.9 1423.18 L15984.9 1423.18 L16054.4 1423.18 L16054.4 1423.18 L15984.9 1423.18 L15984.9 1423.18  Z\" fill=\"#009af9\" fill-rule=\"evenodd\" fill-opacity=\"1\"/>\n",
       "<polyline clip-path=\"url(#clip672)\" style=\"stroke:#000000; stroke-linecap:round; stroke-linejoin:round; stroke-width:4; stroke-opacity:1; fill:none\" points=\"15984.9,1423.18 15984.9,1423.18 16054.4,1423.18 15984.9,1423.18 \"/>\n",
       "<path clip-path=\"url(#clip672)\" d=\"M16054.4 1423.18 L16054.4 1423.18 L16123.9 1423.18 L16123.9 1423.18 L16054.4 1423.18 L16054.4 1423.18  Z\" fill=\"#009af9\" fill-rule=\"evenodd\" fill-opacity=\"1\"/>\n",
       "<polyline clip-path=\"url(#clip672)\" style=\"stroke:#000000; stroke-linecap:round; stroke-linejoin:round; stroke-width:4; stroke-opacity:1; fill:none\" points=\"16054.4,1423.18 16054.4,1423.18 16123.9,1423.18 16054.4,1423.18 \"/>\n",
       "<path clip-path=\"url(#clip672)\" d=\"M16123.9 1423.18 L16123.9 1423.18 L16193.4 1423.18 L16193.4 1423.18 L16123.9 1423.18 L16123.9 1423.18  Z\" fill=\"#009af9\" fill-rule=\"evenodd\" fill-opacity=\"1\"/>\n",
       "<polyline clip-path=\"url(#clip672)\" style=\"stroke:#000000; stroke-linecap:round; stroke-linejoin:round; stroke-width:4; stroke-opacity:1; fill:none\" points=\"16123.9,1423.18 16123.9,1423.18 16193.4,1423.18 16123.9,1423.18 \"/>\n",
       "<path clip-path=\"url(#clip672)\" d=\"M16193.4 1423.18 L16193.4 1423.18 L16262.9 1423.18 L16262.9 1423.18 L16193.4 1423.18 L16193.4 1423.18  Z\" fill=\"#009af9\" fill-rule=\"evenodd\" fill-opacity=\"1\"/>\n",
       "<polyline clip-path=\"url(#clip672)\" style=\"stroke:#000000; stroke-linecap:round; stroke-linejoin:round; stroke-width:4; stroke-opacity:1; fill:none\" points=\"16193.4,1423.18 16193.4,1423.18 16262.9,1423.18 16193.4,1423.18 \"/>\n",
       "<path clip-path=\"url(#clip672)\" d=\"M16262.9 1423.18 L16262.9 1423.18 L16332.4 1423.18 L16332.4 1423.18 L16262.9 1423.18 L16262.9 1423.18  Z\" fill=\"#009af9\" fill-rule=\"evenodd\" fill-opacity=\"1\"/>\n",
       "<polyline clip-path=\"url(#clip672)\" style=\"stroke:#000000; stroke-linecap:round; stroke-linejoin:round; stroke-width:4; stroke-opacity:1; fill:none\" points=\"16262.9,1423.18 16262.9,1423.18 16332.4,1423.18 16262.9,1423.18 \"/>\n",
       "<path clip-path=\"url(#clip672)\" d=\"M16332.4 1423.18 L16332.4 1423.18 L16401.9 1423.18 L16401.9 1423.18 L16332.4 1423.18 L16332.4 1423.18  Z\" fill=\"#009af9\" fill-rule=\"evenodd\" fill-opacity=\"1\"/>\n",
       "<polyline clip-path=\"url(#clip672)\" style=\"stroke:#000000; stroke-linecap:round; stroke-linejoin:round; stroke-width:4; stroke-opacity:1; fill:none\" points=\"16332.4,1423.18 16332.4,1423.18 16401.9,1423.18 16332.4,1423.18 \"/>\n",
       "<path clip-path=\"url(#clip672)\" d=\"M16401.9 1423.18 L16401.9 1423.18 L16471.4 1423.18 L16471.4 1423.18 L16401.9 1423.18 L16401.9 1423.18  Z\" fill=\"#009af9\" fill-rule=\"evenodd\" fill-opacity=\"1\"/>\n",
       "<polyline clip-path=\"url(#clip672)\" style=\"stroke:#000000; stroke-linecap:round; stroke-linejoin:round; stroke-width:4; stroke-opacity:1; fill:none\" points=\"16401.9,1423.18 16401.9,1423.18 16471.4,1423.18 16401.9,1423.18 \"/>\n",
       "<path clip-path=\"url(#clip672)\" d=\"M16471.4 1423.18 L16471.4 1423.18 L16540.9 1423.18 L16540.9 1423.18 L16471.4 1423.18 L16471.4 1423.18  Z\" fill=\"#009af9\" fill-rule=\"evenodd\" fill-opacity=\"1\"/>\n",
       "<polyline clip-path=\"url(#clip672)\" style=\"stroke:#000000; stroke-linecap:round; stroke-linejoin:round; stroke-width:4; stroke-opacity:1; fill:none\" points=\"16471.4,1423.18 16471.4,1423.18 16540.9,1423.18 16471.4,1423.18 \"/>\n",
       "<path clip-path=\"url(#clip672)\" d=\"M16540.9 1423.18 L16540.9 1423.18 L16610.3 1423.18 L16610.3 1423.18 L16540.9 1423.18 L16540.9 1423.18  Z\" fill=\"#009af9\" fill-rule=\"evenodd\" fill-opacity=\"1\"/>\n",
       "<polyline clip-path=\"url(#clip672)\" style=\"stroke:#000000; stroke-linecap:round; stroke-linejoin:round; stroke-width:4; stroke-opacity:1; fill:none\" points=\"16540.9,1423.18 16540.9,1423.18 16610.3,1423.18 16540.9,1423.18 \"/>\n",
       "<path clip-path=\"url(#clip672)\" d=\"M16610.3 1423.18 L16610.3 1423.18 L16679.8 1423.18 L16679.8 1423.18 L16610.3 1423.18 L16610.3 1423.18  Z\" fill=\"#009af9\" fill-rule=\"evenodd\" fill-opacity=\"1\"/>\n",
       "<polyline clip-path=\"url(#clip672)\" style=\"stroke:#000000; stroke-linecap:round; stroke-linejoin:round; stroke-width:4; stroke-opacity:1; fill:none\" points=\"16610.3,1423.18 16610.3,1423.18 16679.8,1423.18 16610.3,1423.18 \"/>\n",
       "<path clip-path=\"url(#clip672)\" d=\"M16679.8 1423.18 L16679.8 1423.18 L16749.3 1423.18 L16749.3 1423.18 L16679.8 1423.18 L16679.8 1423.18  Z\" fill=\"#009af9\" fill-rule=\"evenodd\" fill-opacity=\"1\"/>\n",
       "<polyline clip-path=\"url(#clip672)\" style=\"stroke:#000000; stroke-linecap:round; stroke-linejoin:round; stroke-width:4; stroke-opacity:1; fill:none\" points=\"16679.8,1423.18 16679.8,1423.18 16749.3,1423.18 16679.8,1423.18 \"/>\n",
       "<path clip-path=\"url(#clip672)\" d=\"M16749.3 1423.18 L16749.3 1423.18 L16818.8 1423.18 L16818.8 1423.18 L16749.3 1423.18 L16749.3 1423.18  Z\" fill=\"#009af9\" fill-rule=\"evenodd\" fill-opacity=\"1\"/>\n",
       "<polyline clip-path=\"url(#clip672)\" style=\"stroke:#000000; stroke-linecap:round; stroke-linejoin:round; stroke-width:4; stroke-opacity:1; fill:none\" points=\"16749.3,1423.18 16749.3,1423.18 16818.8,1423.18 16749.3,1423.18 \"/>\n",
       "<path clip-path=\"url(#clip672)\" d=\"M16818.8 1423.18 L16818.8 1423.18 L16888.3 1423.18 L16888.3 1423.18 L16818.8 1423.18 L16818.8 1423.18  Z\" fill=\"#009af9\" fill-rule=\"evenodd\" fill-opacity=\"1\"/>\n",
       "<polyline clip-path=\"url(#clip672)\" style=\"stroke:#000000; stroke-linecap:round; stroke-linejoin:round; stroke-width:4; stroke-opacity:1; fill:none\" points=\"16818.8,1423.18 16818.8,1423.18 16888.3,1423.18 16818.8,1423.18 \"/>\n",
       "<path clip-path=\"url(#clip672)\" d=\"M16888.3 1423.18 L16888.3 1423.18 L16957.8 1423.18 L16957.8 1423.18 L16888.3 1423.18 L16888.3 1423.18  Z\" fill=\"#009af9\" fill-rule=\"evenodd\" fill-opacity=\"1\"/>\n",
       "<polyline clip-path=\"url(#clip672)\" style=\"stroke:#000000; stroke-linecap:round; stroke-linejoin:round; stroke-width:4; stroke-opacity:1; fill:none\" points=\"16888.3,1423.18 16888.3,1423.18 16957.8,1423.18 16888.3,1423.18 \"/>\n",
       "<path clip-path=\"url(#clip672)\" d=\"M16957.8 1423.18 L16957.8 1423.18 L17027.3 1423.18 L17027.3 1423.18 L16957.8 1423.18 L16957.8 1423.18  Z\" fill=\"#009af9\" fill-rule=\"evenodd\" fill-opacity=\"1\"/>\n",
       "<polyline clip-path=\"url(#clip672)\" style=\"stroke:#000000; stroke-linecap:round; stroke-linejoin:round; stroke-width:4; stroke-opacity:1; fill:none\" points=\"16957.8,1423.18 16957.8,1423.18 17027.3,1423.18 16957.8,1423.18 \"/>\n",
       "<path clip-path=\"url(#clip672)\" d=\"M17027.3 1423.18 L17027.3 1423.18 L17096.8 1423.18 L17096.8 1423.18 L17027.3 1423.18 L17027.3 1423.18  Z\" fill=\"#009af9\" fill-rule=\"evenodd\" fill-opacity=\"1\"/>\n",
       "<polyline clip-path=\"url(#clip672)\" style=\"stroke:#000000; stroke-linecap:round; stroke-linejoin:round; stroke-width:4; stroke-opacity:1; fill:none\" points=\"17027.3,1423.18 17027.3,1423.18 17096.8,1423.18 17027.3,1423.18 \"/>\n",
       "<path clip-path=\"url(#clip672)\" d=\"M17096.8 1423.18 L17096.8 1423.18 L17166.3 1423.18 L17166.3 1423.18 L17096.8 1423.18 L17096.8 1423.18  Z\" fill=\"#009af9\" fill-rule=\"evenodd\" fill-opacity=\"1\"/>\n",
       "<polyline clip-path=\"url(#clip672)\" style=\"stroke:#000000; stroke-linecap:round; stroke-linejoin:round; stroke-width:4; stroke-opacity:1; fill:none\" points=\"17096.8,1423.18 17096.8,1423.18 17166.3,1423.18 17096.8,1423.18 \"/>\n",
       "<path clip-path=\"url(#clip672)\" d=\"M17166.3 1423.18 L17166.3 1423.18 L17235.8 1423.18 L17235.8 1423.18 L17166.3 1423.18 L17166.3 1423.18  Z\" fill=\"#009af9\" fill-rule=\"evenodd\" fill-opacity=\"1\"/>\n",
       "<polyline clip-path=\"url(#clip672)\" style=\"stroke:#000000; stroke-linecap:round; stroke-linejoin:round; stroke-width:4; stroke-opacity:1; fill:none\" points=\"17166.3,1423.18 17166.3,1423.18 17235.8,1423.18 17166.3,1423.18 \"/>\n",
       "<path clip-path=\"url(#clip672)\" d=\"M17235.8 1423.18 L17235.8 1423.18 L17305.3 1423.18 L17305.3 1423.18 L17235.8 1423.18 L17235.8 1423.18  Z\" fill=\"#009af9\" fill-rule=\"evenodd\" fill-opacity=\"1\"/>\n",
       "<polyline clip-path=\"url(#clip672)\" style=\"stroke:#000000; stroke-linecap:round; stroke-linejoin:round; stroke-width:4; stroke-opacity:1; fill:none\" points=\"17235.8,1423.18 17235.8,1423.18 17305.3,1423.18 17235.8,1423.18 \"/>\n",
       "<path clip-path=\"url(#clip672)\" d=\"M17305.3 1423.18 L17305.3 1423.18 L17374.8 1423.18 L17374.8 1423.18 L17305.3 1423.18 L17305.3 1423.18  Z\" fill=\"#009af9\" fill-rule=\"evenodd\" fill-opacity=\"1\"/>\n",
       "<polyline clip-path=\"url(#clip672)\" style=\"stroke:#000000; stroke-linecap:round; stroke-linejoin:round; stroke-width:4; stroke-opacity:1; fill:none\" points=\"17305.3,1423.18 17305.3,1423.18 17374.8,1423.18 17305.3,1423.18 \"/>\n",
       "<path clip-path=\"url(#clip672)\" d=\"M17374.8 1423.18 L17374.8 1423.18 L17444.3 1423.18 L17444.3 1423.18 L17374.8 1423.18 L17374.8 1423.18  Z\" fill=\"#009af9\" fill-rule=\"evenodd\" fill-opacity=\"1\"/>\n",
       "<polyline clip-path=\"url(#clip672)\" style=\"stroke:#000000; stroke-linecap:round; stroke-linejoin:round; stroke-width:4; stroke-opacity:1; fill:none\" points=\"17374.8,1423.18 17374.8,1423.18 17444.3,1423.18 17374.8,1423.18 \"/>\n",
       "<path clip-path=\"url(#clip672)\" d=\"M17444.3 1423.18 L17444.3 1423.18 L17513.8 1423.18 L17513.8 1423.18 L17444.3 1423.18 L17444.3 1423.18  Z\" fill=\"#009af9\" fill-rule=\"evenodd\" fill-opacity=\"1\"/>\n",
       "<polyline clip-path=\"url(#clip672)\" style=\"stroke:#000000; stroke-linecap:round; stroke-linejoin:round; stroke-width:4; stroke-opacity:1; fill:none\" points=\"17444.3,1423.18 17444.3,1423.18 17513.8,1423.18 17444.3,1423.18 \"/>\n",
       "<path clip-path=\"url(#clip672)\" d=\"M17513.8 1423.18 L17513.8 1423.18 L17583.3 1423.18 L17583.3 1423.18 L17513.8 1423.18 L17513.8 1423.18  Z\" fill=\"#009af9\" fill-rule=\"evenodd\" fill-opacity=\"1\"/>\n",
       "<polyline clip-path=\"url(#clip672)\" style=\"stroke:#000000; stroke-linecap:round; stroke-linejoin:round; stroke-width:4; stroke-opacity:1; fill:none\" points=\"17513.8,1423.18 17513.8,1423.18 17583.3,1423.18 17513.8,1423.18 \"/>\n",
       "<path clip-path=\"url(#clip672)\" d=\"M17583.3 1423.18 L17583.3 1423.18 L17652.8 1423.18 L17652.8 1423.18 L17583.3 1423.18 L17583.3 1423.18  Z\" fill=\"#009af9\" fill-rule=\"evenodd\" fill-opacity=\"1\"/>\n",
       "<polyline clip-path=\"url(#clip672)\" style=\"stroke:#000000; stroke-linecap:round; stroke-linejoin:round; stroke-width:4; stroke-opacity:1; fill:none\" points=\"17583.3,1423.18 17583.3,1423.18 17652.8,1423.18 17583.3,1423.18 \"/>\n",
       "<path clip-path=\"url(#clip672)\" d=\"M17652.8 1423.18 L17652.8 1423.18 L17722.3 1423.18 L17722.3 1423.18 L17652.8 1423.18 L17652.8 1423.18  Z\" fill=\"#009af9\" fill-rule=\"evenodd\" fill-opacity=\"1\"/>\n",
       "<polyline clip-path=\"url(#clip672)\" style=\"stroke:#000000; stroke-linecap:round; stroke-linejoin:round; stroke-width:4; stroke-opacity:1; fill:none\" points=\"17652.8,1423.18 17652.8,1423.18 17722.3,1423.18 17652.8,1423.18 \"/>\n",
       "<path clip-path=\"url(#clip672)\" d=\"M17722.3 1423.18 L17722.3 1423.18 L17791.8 1423.18 L17791.8 1423.18 L17722.3 1423.18 L17722.3 1423.18  Z\" fill=\"#009af9\" fill-rule=\"evenodd\" fill-opacity=\"1\"/>\n",
       "<polyline clip-path=\"url(#clip672)\" style=\"stroke:#000000; stroke-linecap:round; stroke-linejoin:round; stroke-width:4; stroke-opacity:1; fill:none\" points=\"17722.3,1423.18 17722.3,1423.18 17791.8,1423.18 17722.3,1423.18 \"/>\n",
       "<path clip-path=\"url(#clip672)\" d=\"M17791.8 1423.18 L17791.8 1423.18 L17861.3 1423.18 L17861.3 1423.18 L17791.8 1423.18 L17791.8 1423.18  Z\" fill=\"#009af9\" fill-rule=\"evenodd\" fill-opacity=\"1\"/>\n",
       "<polyline clip-path=\"url(#clip672)\" style=\"stroke:#000000; stroke-linecap:round; stroke-linejoin:round; stroke-width:4; stroke-opacity:1; fill:none\" points=\"17791.8,1423.18 17791.8,1423.18 17861.3,1423.18 17791.8,1423.18 \"/>\n",
       "<path clip-path=\"url(#clip672)\" d=\"M17861.3 1423.18 L17861.3 1423.18 L17930.8 1423.18 L17930.8 1423.18 L17861.3 1423.18 L17861.3 1423.18  Z\" fill=\"#009af9\" fill-rule=\"evenodd\" fill-opacity=\"1\"/>\n",
       "<polyline clip-path=\"url(#clip672)\" style=\"stroke:#000000; stroke-linecap:round; stroke-linejoin:round; stroke-width:4; stroke-opacity:1; fill:none\" points=\"17861.3,1423.18 17861.3,1423.18 17930.8,1423.18 17861.3,1423.18 \"/>\n",
       "<path clip-path=\"url(#clip672)\" d=\"M17930.8 1423.18 L17930.8 1423.18 L18000.3 1423.18 L18000.3 1423.18 L17930.8 1423.18 L17930.8 1423.18  Z\" fill=\"#009af9\" fill-rule=\"evenodd\" fill-opacity=\"1\"/>\n",
       "<polyline clip-path=\"url(#clip672)\" style=\"stroke:#000000; stroke-linecap:round; stroke-linejoin:round; stroke-width:4; stroke-opacity:1; fill:none\" points=\"17930.8,1423.18 17930.8,1423.18 18000.3,1423.18 17930.8,1423.18 \"/>\n",
       "<path clip-path=\"url(#clip672)\" d=\"M18000.3 1423.18 L18000.3 1423.18 L18069.8 1423.18 L18069.8 1423.18 L18000.3 1423.18 L18000.3 1423.18  Z\" fill=\"#009af9\" fill-rule=\"evenodd\" fill-opacity=\"1\"/>\n",
       "<polyline clip-path=\"url(#clip672)\" style=\"stroke:#000000; stroke-linecap:round; stroke-linejoin:round; stroke-width:4; stroke-opacity:1; fill:none\" points=\"18000.3,1423.18 18000.3,1423.18 18069.8,1423.18 18000.3,1423.18 \"/>\n",
       "<path clip-path=\"url(#clip672)\" d=\"M18069.8 1423.18 L18069.8 1423.18 L18139.2 1423.18 L18139.2 1423.18 L18069.8 1423.18 L18069.8 1423.18  Z\" fill=\"#009af9\" fill-rule=\"evenodd\" fill-opacity=\"1\"/>\n",
       "<polyline clip-path=\"url(#clip672)\" style=\"stroke:#000000; stroke-linecap:round; stroke-linejoin:round; stroke-width:4; stroke-opacity:1; fill:none\" points=\"18069.8,1423.18 18069.8,1423.18 18139.2,1423.18 18069.8,1423.18 \"/>\n",
       "<path clip-path=\"url(#clip672)\" d=\"M18139.2 1423.18 L18139.2 1423.18 L18208.7 1423.18 L18208.7 1423.18 L18139.2 1423.18 L18139.2 1423.18  Z\" fill=\"#009af9\" fill-rule=\"evenodd\" fill-opacity=\"1\"/>\n",
       "<polyline clip-path=\"url(#clip672)\" style=\"stroke:#000000; stroke-linecap:round; stroke-linejoin:round; stroke-width:4; stroke-opacity:1; fill:none\" points=\"18139.2,1423.18 18139.2,1423.18 18208.7,1423.18 18139.2,1423.18 \"/>\n",
       "<path clip-path=\"url(#clip672)\" d=\"M18208.7 1423.18 L18208.7 1423.18 L18278.2 1423.18 L18278.2 1423.18 L18208.7 1423.18 L18208.7 1423.18  Z\" fill=\"#009af9\" fill-rule=\"evenodd\" fill-opacity=\"1\"/>\n",
       "<polyline clip-path=\"url(#clip672)\" style=\"stroke:#000000; stroke-linecap:round; stroke-linejoin:round; stroke-width:4; stroke-opacity:1; fill:none\" points=\"18208.7,1423.18 18208.7,1423.18 18278.2,1423.18 18208.7,1423.18 \"/>\n",
       "<path clip-path=\"url(#clip672)\" d=\"M18278.2 1423.18 L18278.2 1423.18 L18347.7 1423.18 L18347.7 1423.18 L18278.2 1423.18 L18278.2 1423.18  Z\" fill=\"#009af9\" fill-rule=\"evenodd\" fill-opacity=\"1\"/>\n",
       "<polyline clip-path=\"url(#clip672)\" style=\"stroke:#000000; stroke-linecap:round; stroke-linejoin:round; stroke-width:4; stroke-opacity:1; fill:none\" points=\"18278.2,1423.18 18278.2,1423.18 18347.7,1423.18 18278.2,1423.18 \"/>\n",
       "<path clip-path=\"url(#clip672)\" d=\"M18347.7 1423.18 L18347.7 1423.18 L18417.2 1423.18 L18417.2 1423.18 L18347.7 1423.18 L18347.7 1423.18  Z\" fill=\"#009af9\" fill-rule=\"evenodd\" fill-opacity=\"1\"/>\n",
       "<polyline clip-path=\"url(#clip672)\" style=\"stroke:#000000; stroke-linecap:round; stroke-linejoin:round; stroke-width:4; stroke-opacity:1; fill:none\" points=\"18347.7,1423.18 18347.7,1423.18 18417.2,1423.18 18347.7,1423.18 \"/>\n",
       "<path clip-path=\"url(#clip672)\" d=\"M18417.2 1423.18 L18417.2 1423.18 L18486.7 1423.18 L18486.7 1423.18 L18417.2 1423.18 L18417.2 1423.18  Z\" fill=\"#009af9\" fill-rule=\"evenodd\" fill-opacity=\"1\"/>\n",
       "<polyline clip-path=\"url(#clip672)\" style=\"stroke:#000000; stroke-linecap:round; stroke-linejoin:round; stroke-width:4; stroke-opacity:1; fill:none\" points=\"18417.2,1423.18 18417.2,1423.18 18486.7,1423.18 18417.2,1423.18 \"/>\n",
       "<path clip-path=\"url(#clip672)\" d=\"M18486.7 1423.18 L18486.7 1423.18 L18556.2 1423.18 L18556.2 1423.18 L18486.7 1423.18 L18486.7 1423.18  Z\" fill=\"#009af9\" fill-rule=\"evenodd\" fill-opacity=\"1\"/>\n",
       "<polyline clip-path=\"url(#clip672)\" style=\"stroke:#000000; stroke-linecap:round; stroke-linejoin:round; stroke-width:4; stroke-opacity:1; fill:none\" points=\"18486.7,1423.18 18486.7,1423.18 18556.2,1423.18 18486.7,1423.18 \"/>\n",
       "<path clip-path=\"url(#clip672)\" d=\"M18556.2 1423.18 L18556.2 1423.18 L18625.7 1423.18 L18625.7 1423.18 L18556.2 1423.18 L18556.2 1423.18  Z\" fill=\"#009af9\" fill-rule=\"evenodd\" fill-opacity=\"1\"/>\n",
       "<polyline clip-path=\"url(#clip672)\" style=\"stroke:#000000; stroke-linecap:round; stroke-linejoin:round; stroke-width:4; stroke-opacity:1; fill:none\" points=\"18556.2,1423.18 18556.2,1423.18 18625.7,1423.18 18556.2,1423.18 \"/>\n",
       "<path clip-path=\"url(#clip672)\" d=\"M18625.7 1423.18 L18625.7 1423.18 L18695.2 1423.18 L18695.2 1423.18 L18625.7 1423.18 L18625.7 1423.18  Z\" fill=\"#009af9\" fill-rule=\"evenodd\" fill-opacity=\"1\"/>\n",
       "<polyline clip-path=\"url(#clip672)\" style=\"stroke:#000000; stroke-linecap:round; stroke-linejoin:round; stroke-width:4; stroke-opacity:1; fill:none\" points=\"18625.7,1423.18 18625.7,1423.18 18695.2,1423.18 18625.7,1423.18 \"/>\n",
       "<path clip-path=\"url(#clip672)\" d=\"M18695.2 1423.18 L18695.2 1423.18 L18764.7 1423.18 L18764.7 1423.18 L18695.2 1423.18 L18695.2 1423.18  Z\" fill=\"#009af9\" fill-rule=\"evenodd\" fill-opacity=\"1\"/>\n",
       "<polyline clip-path=\"url(#clip672)\" style=\"stroke:#000000; stroke-linecap:round; stroke-linejoin:round; stroke-width:4; stroke-opacity:1; fill:none\" points=\"18695.2,1423.18 18695.2,1423.18 18764.7,1423.18 18695.2,1423.18 \"/>\n",
       "<path clip-path=\"url(#clip672)\" d=\"M18764.7 1423.18 L18764.7 1423.18 L18834.2 1423.18 L18834.2 1423.18 L18764.7 1423.18 L18764.7 1423.18  Z\" fill=\"#009af9\" fill-rule=\"evenodd\" fill-opacity=\"1\"/>\n",
       "<polyline clip-path=\"url(#clip672)\" style=\"stroke:#000000; stroke-linecap:round; stroke-linejoin:round; stroke-width:4; stroke-opacity:1; fill:none\" points=\"18764.7,1423.18 18764.7,1423.18 18834.2,1423.18 18764.7,1423.18 \"/>\n",
       "<path clip-path=\"url(#clip672)\" d=\"M18834.2 1423.18 L18834.2 1423.18 L18903.7 1423.18 L18903.7 1423.18 L18834.2 1423.18 L18834.2 1423.18  Z\" fill=\"#009af9\" fill-rule=\"evenodd\" fill-opacity=\"1\"/>\n",
       "<polyline clip-path=\"url(#clip672)\" style=\"stroke:#000000; stroke-linecap:round; stroke-linejoin:round; stroke-width:4; stroke-opacity:1; fill:none\" points=\"18834.2,1423.18 18834.2,1423.18 18903.7,1423.18 18834.2,1423.18 \"/>\n",
       "<path clip-path=\"url(#clip672)\" d=\"M18903.7 1423.18 L18903.7 1423.18 L18973.2 1423.18 L18973.2 1423.18 L18903.7 1423.18 L18903.7 1423.18  Z\" fill=\"#009af9\" fill-rule=\"evenodd\" fill-opacity=\"1\"/>\n",
       "<polyline clip-path=\"url(#clip672)\" style=\"stroke:#000000; stroke-linecap:round; stroke-linejoin:round; stroke-width:4; stroke-opacity:1; fill:none\" points=\"18903.7,1423.18 18903.7,1423.18 18973.2,1423.18 18903.7,1423.18 \"/>\n",
       "<path clip-path=\"url(#clip672)\" d=\"M18973.2 1423.18 L18973.2 1423.18 L19042.7 1423.18 L19042.7 1423.18 L18973.2 1423.18 L18973.2 1423.18  Z\" fill=\"#009af9\" fill-rule=\"evenodd\" fill-opacity=\"1\"/>\n",
       "<polyline clip-path=\"url(#clip672)\" style=\"stroke:#000000; stroke-linecap:round; stroke-linejoin:round; stroke-width:4; stroke-opacity:1; fill:none\" points=\"18973.2,1423.18 18973.2,1423.18 19042.7,1423.18 18973.2,1423.18 \"/>\n",
       "<path clip-path=\"url(#clip672)\" d=\"M19042.7 1423.18 L19042.7 1423.18 L19112.2 1423.18 L19112.2 1423.18 L19042.7 1423.18 L19042.7 1423.18  Z\" fill=\"#009af9\" fill-rule=\"evenodd\" fill-opacity=\"1\"/>\n",
       "<polyline clip-path=\"url(#clip672)\" style=\"stroke:#000000; stroke-linecap:round; stroke-linejoin:round; stroke-width:4; stroke-opacity:1; fill:none\" points=\"19042.7,1423.18 19042.7,1423.18 19112.2,1423.18 19042.7,1423.18 \"/>\n",
       "<path clip-path=\"url(#clip672)\" d=\"M19112.2 1423.18 L19112.2 1423.18 L19181.7 1423.18 L19181.7 1423.18 L19112.2 1423.18 L19112.2 1423.18  Z\" fill=\"#009af9\" fill-rule=\"evenodd\" fill-opacity=\"1\"/>\n",
       "<polyline clip-path=\"url(#clip672)\" style=\"stroke:#000000; stroke-linecap:round; stroke-linejoin:round; stroke-width:4; stroke-opacity:1; fill:none\" points=\"19112.2,1423.18 19112.2,1423.18 19181.7,1423.18 19112.2,1423.18 \"/>\n",
       "<path clip-path=\"url(#clip672)\" d=\"M19181.7 1423.18 L19181.7 1423.18 L19251.2 1423.18 L19251.2 1423.18 L19181.7 1423.18 L19181.7 1423.18  Z\" fill=\"#009af9\" fill-rule=\"evenodd\" fill-opacity=\"1\"/>\n",
       "<polyline clip-path=\"url(#clip672)\" style=\"stroke:#000000; stroke-linecap:round; stroke-linejoin:round; stroke-width:4; stroke-opacity:1; fill:none\" points=\"19181.7,1423.18 19181.7,1423.18 19251.2,1423.18 19181.7,1423.18 \"/>\n",
       "<path clip-path=\"url(#clip672)\" d=\"M19251.2 1423.18 L19251.2 1423.18 L19320.7 1423.18 L19320.7 1423.18 L19251.2 1423.18 L19251.2 1423.18  Z\" fill=\"#009af9\" fill-rule=\"evenodd\" fill-opacity=\"1\"/>\n",
       "<polyline clip-path=\"url(#clip672)\" style=\"stroke:#000000; stroke-linecap:round; stroke-linejoin:round; stroke-width:4; stroke-opacity:1; fill:none\" points=\"19251.2,1423.18 19251.2,1423.18 19320.7,1423.18 19251.2,1423.18 \"/>\n",
       "<path clip-path=\"url(#clip672)\" d=\"M19320.7 1423.18 L19320.7 1423.18 L19390.2 1423.18 L19390.2 1423.18 L19320.7 1423.18 L19320.7 1423.18  Z\" fill=\"#009af9\" fill-rule=\"evenodd\" fill-opacity=\"1\"/>\n",
       "<polyline clip-path=\"url(#clip672)\" style=\"stroke:#000000; stroke-linecap:round; stroke-linejoin:round; stroke-width:4; stroke-opacity:1; fill:none\" points=\"19320.7,1423.18 19320.7,1423.18 19390.2,1423.18 19320.7,1423.18 \"/>\n",
       "<path clip-path=\"url(#clip672)\" d=\"M19390.2 1423.18 L19390.2 1423.18 L19459.7 1423.18 L19459.7 1423.18 L19390.2 1423.18 L19390.2 1423.18  Z\" fill=\"#009af9\" fill-rule=\"evenodd\" fill-opacity=\"1\"/>\n",
       "<polyline clip-path=\"url(#clip672)\" style=\"stroke:#000000; stroke-linecap:round; stroke-linejoin:round; stroke-width:4; stroke-opacity:1; fill:none\" points=\"19390.2,1423.18 19390.2,1423.18 19459.7,1423.18 19390.2,1423.18 \"/>\n",
       "<path clip-path=\"url(#clip672)\" d=\"M19459.7 1423.18 L19459.7 1423.18 L19529.2 1423.18 L19529.2 1423.18 L19459.7 1423.18 L19459.7 1423.18  Z\" fill=\"#009af9\" fill-rule=\"evenodd\" fill-opacity=\"1\"/>\n",
       "<polyline clip-path=\"url(#clip672)\" style=\"stroke:#000000; stroke-linecap:round; stroke-linejoin:round; stroke-width:4; stroke-opacity:1; fill:none\" points=\"19459.7,1423.18 19459.7,1423.18 19529.2,1423.18 19459.7,1423.18 \"/>\n",
       "<path clip-path=\"url(#clip672)\" d=\"M19529.2 1423.18 L19529.2 1423.18 L19598.6 1423.18 L19598.6 1423.18 L19529.2 1423.18 L19529.2 1423.18  Z\" fill=\"#009af9\" fill-rule=\"evenodd\" fill-opacity=\"1\"/>\n",
       "<polyline clip-path=\"url(#clip672)\" style=\"stroke:#000000; stroke-linecap:round; stroke-linejoin:round; stroke-width:4; stroke-opacity:1; fill:none\" points=\"19529.2,1423.18 19529.2,1423.18 19598.6,1423.18 19529.2,1423.18 \"/>\n",
       "<path clip-path=\"url(#clip672)\" d=\"M19598.6 1423.18 L19598.6 1423.18 L19668.1 1423.18 L19668.1 1423.18 L19598.6 1423.18 L19598.6 1423.18  Z\" fill=\"#009af9\" fill-rule=\"evenodd\" fill-opacity=\"1\"/>\n",
       "<polyline clip-path=\"url(#clip672)\" style=\"stroke:#000000; stroke-linecap:round; stroke-linejoin:round; stroke-width:4; stroke-opacity:1; fill:none\" points=\"19598.6,1423.18 19598.6,1423.18 19668.1,1423.18 19598.6,1423.18 \"/>\n",
       "<path clip-path=\"url(#clip672)\" d=\"M19668.1 1423.18 L19668.1 1423.18 L19737.6 1423.18 L19737.6 1423.18 L19668.1 1423.18 L19668.1 1423.18  Z\" fill=\"#009af9\" fill-rule=\"evenodd\" fill-opacity=\"1\"/>\n",
       "<polyline clip-path=\"url(#clip672)\" style=\"stroke:#000000; stroke-linecap:round; stroke-linejoin:round; stroke-width:4; stroke-opacity:1; fill:none\" points=\"19668.1,1423.18 19668.1,1423.18 19737.6,1423.18 19668.1,1423.18 \"/>\n",
       "<path clip-path=\"url(#clip672)\" d=\"M19737.6 1423.18 L19737.6 1423.18 L19807.1 1423.18 L19807.1 1423.18 L19737.6 1423.18 L19737.6 1423.18  Z\" fill=\"#009af9\" fill-rule=\"evenodd\" fill-opacity=\"1\"/>\n",
       "<polyline clip-path=\"url(#clip672)\" style=\"stroke:#000000; stroke-linecap:round; stroke-linejoin:round; stroke-width:4; stroke-opacity:1; fill:none\" points=\"19737.6,1423.18 19737.6,1423.18 19807.1,1423.18 19737.6,1423.18 \"/>\n",
       "<path clip-path=\"url(#clip672)\" d=\"M19807.1 1423.18 L19807.1 1423.18 L19876.6 1423.18 L19876.6 1423.18 L19807.1 1423.18 L19807.1 1423.18  Z\" fill=\"#009af9\" fill-rule=\"evenodd\" fill-opacity=\"1\"/>\n",
       "<polyline clip-path=\"url(#clip672)\" style=\"stroke:#000000; stroke-linecap:round; stroke-linejoin:round; stroke-width:4; stroke-opacity:1; fill:none\" points=\"19807.1,1423.18 19807.1,1423.18 19876.6,1423.18 19807.1,1423.18 \"/>\n",
       "<path clip-path=\"url(#clip672)\" d=\"M19876.6 1423.18 L19876.6 1423.18 L19946.1 1423.18 L19946.1 1423.18 L19876.6 1423.18 L19876.6 1423.18  Z\" fill=\"#009af9\" fill-rule=\"evenodd\" fill-opacity=\"1\"/>\n",
       "<polyline clip-path=\"url(#clip672)\" style=\"stroke:#000000; stroke-linecap:round; stroke-linejoin:round; stroke-width:4; stroke-opacity:1; fill:none\" points=\"19876.6,1423.18 19876.6,1423.18 19946.1,1423.18 19876.6,1423.18 \"/>\n",
       "<path clip-path=\"url(#clip672)\" d=\"M19946.1 1423.18 L19946.1 1423.18 L20015.6 1423.18 L20015.6 1423.18 L19946.1 1423.18 L19946.1 1423.18  Z\" fill=\"#009af9\" fill-rule=\"evenodd\" fill-opacity=\"1\"/>\n",
       "<polyline clip-path=\"url(#clip672)\" style=\"stroke:#000000; stroke-linecap:round; stroke-linejoin:round; stroke-width:4; stroke-opacity:1; fill:none\" points=\"19946.1,1423.18 19946.1,1423.18 20015.6,1423.18 19946.1,1423.18 \"/>\n",
       "<path clip-path=\"url(#clip672)\" d=\"M20015.6 1423.18 L20015.6 1423.18 L20085.1 1423.18 L20085.1 1423.18 L20015.6 1423.18 L20015.6 1423.18  Z\" fill=\"#009af9\" fill-rule=\"evenodd\" fill-opacity=\"1\"/>\n",
       "<polyline clip-path=\"url(#clip672)\" style=\"stroke:#000000; stroke-linecap:round; stroke-linejoin:round; stroke-width:4; stroke-opacity:1; fill:none\" points=\"20015.6,1423.18 20015.6,1423.18 20085.1,1423.18 20015.6,1423.18 \"/>\n",
       "<path clip-path=\"url(#clip672)\" d=\"M20085.1 1423.18 L20085.1 1423.18 L20154.6 1423.18 L20154.6 1423.18 L20085.1 1423.18 L20085.1 1423.18  Z\" fill=\"#009af9\" fill-rule=\"evenodd\" fill-opacity=\"1\"/>\n",
       "<polyline clip-path=\"url(#clip672)\" style=\"stroke:#000000; stroke-linecap:round; stroke-linejoin:round; stroke-width:4; stroke-opacity:1; fill:none\" points=\"20085.1,1423.18 20085.1,1423.18 20154.6,1423.18 20085.1,1423.18 \"/>\n",
       "<path clip-path=\"url(#clip672)\" d=\"M20154.6 1423.18 L20154.6 1423.18 L20224.1 1423.18 L20224.1 1423.18 L20154.6 1423.18 L20154.6 1423.18  Z\" fill=\"#009af9\" fill-rule=\"evenodd\" fill-opacity=\"1\"/>\n",
       "<polyline clip-path=\"url(#clip672)\" style=\"stroke:#000000; stroke-linecap:round; stroke-linejoin:round; stroke-width:4; stroke-opacity:1; fill:none\" points=\"20154.6,1423.18 20154.6,1423.18 20224.1,1423.18 20154.6,1423.18 \"/>\n",
       "<path clip-path=\"url(#clip672)\" d=\"M20224.1 1423.18 L20224.1 1423.18 L20293.6 1423.18 L20293.6 1423.18 L20224.1 1423.18 L20224.1 1423.18  Z\" fill=\"#009af9\" fill-rule=\"evenodd\" fill-opacity=\"1\"/>\n",
       "<polyline clip-path=\"url(#clip672)\" style=\"stroke:#000000; stroke-linecap:round; stroke-linejoin:round; stroke-width:4; stroke-opacity:1; fill:none\" points=\"20224.1,1423.18 20224.1,1423.18 20293.6,1423.18 20224.1,1423.18 \"/>\n",
       "<path clip-path=\"url(#clip672)\" d=\"M20293.6 1342.24 L20293.6 1423.18 L20363.1 1423.18 L20363.1 1342.24 L20293.6 1342.24 L20293.6 1342.24  Z\" fill=\"#009af9\" fill-rule=\"evenodd\" fill-opacity=\"1\"/>\n",
       "<polyline clip-path=\"url(#clip672)\" style=\"stroke:#000000; stroke-linecap:round; stroke-linejoin:round; stroke-width:4; stroke-opacity:1; fill:none\" points=\"20293.6,1342.24 20293.6,1423.18 20363.1,1423.18 20363.1,1342.24 20293.6,1342.24 \"/>\n",
       "<circle clip-path=\"url(#clip672)\" style=\"fill:#009af9; stroke:none; fill-opacity:0\" cx=\"522.184\" cy=\"1342.24\" r=\"2\"/>\n",
       "<circle clip-path=\"url(#clip672)\" style=\"fill:#009af9; stroke:none; fill-opacity:0\" cx=\"591.679\" cy=\"1423.18\" r=\"2\"/>\n",
       "<circle clip-path=\"url(#clip672)\" style=\"fill:#009af9; stroke:none; fill-opacity:0\" cx=\"661.175\" cy=\"1342.24\" r=\"2\"/>\n",
       "<circle clip-path=\"url(#clip672)\" style=\"fill:#009af9; stroke:none; fill-opacity:0\" cx=\"730.67\" cy=\"1261.31\" r=\"2\"/>\n",
       "<circle clip-path=\"url(#clip672)\" style=\"fill:#009af9; stroke:none; fill-opacity:0\" cx=\"800.165\" cy=\"1342.24\" r=\"2\"/>\n",
       "<circle clip-path=\"url(#clip672)\" style=\"fill:#009af9; stroke:none; fill-opacity:0\" cx=\"869.66\" cy=\"1342.24\" r=\"2\"/>\n",
       "<circle clip-path=\"url(#clip672)\" style=\"fill:#009af9; stroke:none; fill-opacity:0\" cx=\"939.156\" cy=\"1423.18\" r=\"2\"/>\n",
       "<circle clip-path=\"url(#clip672)\" style=\"fill:#009af9; stroke:none; fill-opacity:0\" cx=\"1008.65\" cy=\"1342.24\" r=\"2\"/>\n",
       "<circle clip-path=\"url(#clip672)\" style=\"fill:#009af9; stroke:none; fill-opacity:0\" cx=\"1078.15\" cy=\"1423.18\" r=\"2\"/>\n",
       "<circle clip-path=\"url(#clip672)\" style=\"fill:#009af9; stroke:none; fill-opacity:0\" cx=\"1147.64\" cy=\"1423.18\" r=\"2\"/>\n",
       "<circle clip-path=\"url(#clip672)\" style=\"fill:#009af9; stroke:none; fill-opacity:0\" cx=\"1217.14\" cy=\"1423.18\" r=\"2\"/>\n",
       "<circle clip-path=\"url(#clip672)\" style=\"fill:#009af9; stroke:none; fill-opacity:0\" cx=\"1286.63\" cy=\"1423.18\" r=\"2\"/>\n",
       "<circle clip-path=\"url(#clip672)\" style=\"fill:#009af9; stroke:none; fill-opacity:0\" cx=\"1356.13\" cy=\"1180.37\" r=\"2\"/>\n",
       "<circle clip-path=\"url(#clip672)\" style=\"fill:#009af9; stroke:none; fill-opacity:0\" cx=\"1425.62\" cy=\"1342.24\" r=\"2\"/>\n",
       "<circle clip-path=\"url(#clip672)\" style=\"fill:#009af9; stroke:none; fill-opacity:0\" cx=\"1495.12\" cy=\"1180.37\" r=\"2\"/>\n",
       "<circle clip-path=\"url(#clip672)\" style=\"fill:#009af9; stroke:none; fill-opacity:0\" cx=\"1564.61\" cy=\"1261.31\" r=\"2\"/>\n",
       "<circle clip-path=\"url(#clip672)\" style=\"fill:#009af9; stroke:none; fill-opacity:0\" cx=\"1634.11\" cy=\"1342.24\" r=\"2\"/>\n",
       "<circle clip-path=\"url(#clip672)\" style=\"fill:#009af9; stroke:none; fill-opacity:0\" cx=\"1703.6\" cy=\"1342.24\" r=\"2\"/>\n",
       "<circle clip-path=\"url(#clip672)\" style=\"fill:#009af9; stroke:none; fill-opacity:0\" cx=\"1773.1\" cy=\"1099.43\" r=\"2\"/>\n",
       "<circle clip-path=\"url(#clip672)\" style=\"fill:#009af9; stroke:none; fill-opacity:0\" cx=\"1842.59\" cy=\"856.618\" r=\"2\"/>\n",
       "<circle clip-path=\"url(#clip672)\" style=\"fill:#009af9; stroke:none; fill-opacity:0\" cx=\"1912.09\" cy=\"1099.43\" r=\"2\"/>\n",
       "<circle clip-path=\"url(#clip672)\" style=\"fill:#009af9; stroke:none; fill-opacity:0\" cx=\"1981.59\" cy=\"1018.49\" r=\"2\"/>\n",
       "<circle clip-path=\"url(#clip672)\" style=\"fill:#009af9; stroke:none; fill-opacity:0\" cx=\"2051.08\" cy=\"937.555\" r=\"2\"/>\n",
       "<circle clip-path=\"url(#clip672)\" style=\"fill:#009af9; stroke:none; fill-opacity:0\" cx=\"2120.58\" cy=\"1018.49\" r=\"2\"/>\n",
       "<circle clip-path=\"url(#clip672)\" style=\"fill:#009af9; stroke:none; fill-opacity:0\" cx=\"2190.07\" cy=\"775.681\" r=\"2\"/>\n",
       "<circle clip-path=\"url(#clip672)\" style=\"fill:#009af9; stroke:none; fill-opacity:0\" cx=\"2259.57\" cy=\"775.681\" r=\"2\"/>\n",
       "<circle clip-path=\"url(#clip672)\" style=\"fill:#009af9; stroke:none; fill-opacity:0\" cx=\"2329.06\" cy=\"451.931\" r=\"2\"/>\n",
       "</svg>\n"
      ]
     },
     "metadata": {},
     "output_type": "display_data"
    }
   ],
   "source": [
    "using Statistics # bring in statistical support for standard deviations\n",
    "t = c_bench.times / 1e6 # times in milliseconds\n",
    "m, σ = minimum(t), std(t)\n",
    "\n",
    "histogram(t, bins=500,\n",
    "    xlim=(m - 0.01, m + σ),\n",
    "    xlabel=\"milliseconds\", ylabel=\"count\", label=\"\")"
   ]
  },
  {
   "cell_type": "markdown",
   "metadata": {},
   "source": [
    "# 2. C with -ffast-math\n",
    "\n",
    "If we allow C to re-arrange the floating point operations, then it'll vectorize with SIMD (single instruction, multiple data) instructions."
   ]
  },
  {
   "cell_type": "code",
   "execution_count": 25,
   "metadata": {},
   "outputs": [
    {
     "data": {
      "text/plain": [
       "c_sum_fastmath (generic function with 1 method)"
      ]
     },
     "metadata": {},
     "output_type": "display_data"
    }
   ],
   "source": [
    "const Clib_fastmath = tempname()   # make a temporary file\n",
    "\n",
    "# The same as above but with a -ffast-math flag added\n",
    "open(`gcc -fPIC -O3 -msse3 -xc -shared -ffast-math -o $(Clib_fastmath * \".\" * Libdl.dlext) -`, \"w\") do f\n",
    "    print(f, C_code) \n",
    "end\n",
    "\n",
    "# define a Julia function that calls the C function:\n",
    "c_sum_fastmath(X::Array{Float64}) = ccall((\"c_sum\", Clib_fastmath), Float64, (Csize_t, Ptr{Float64}), length(X), X)"
   ]
  },
  {
   "cell_type": "code",
   "execution_count": 26,
   "metadata": {},
   "outputs": [
    {
     "data": {
      "text/plain": [
       "BenchmarkTools.Trial: 2726 samples with 1 evaluation.\n",
       " Range \u001b[90m(\u001b[39m\u001b[36m\u001b[1mmin\u001b[22m\u001b[39m … \u001b[35mmax\u001b[39m\u001b[90m):  \u001b[39m\u001b[36m\u001b[1m1.783 ms\u001b[22m\u001b[39m … \u001b[35m 2.288 ms\u001b[39m  \u001b[90m┊\u001b[39m GC \u001b[90m(\u001b[39mmin … max\u001b[90m): \u001b[39m0.00% … 0.00%\n",
       " Time  \u001b[90m(\u001b[39m\u001b[34m\u001b[1mmedian\u001b[22m\u001b[39m\u001b[90m):     \u001b[39m\u001b[34m\u001b[1m1.808 ms              \u001b[22m\u001b[39m\u001b[90m┊\u001b[39m GC \u001b[90m(\u001b[39mmedian\u001b[90m):    \u001b[39m0.00%\n",
       " Time  \u001b[90m(\u001b[39m\u001b[32m\u001b[1mmean\u001b[22m\u001b[39m ± \u001b[32mσ\u001b[39m\u001b[90m):   \u001b[39m\u001b[32m\u001b[1m1.822 ms\u001b[22m\u001b[39m ± \u001b[32m40.161 μs\u001b[39m  \u001b[90m┊\u001b[39m GC \u001b[90m(\u001b[39mmean ± σ\u001b[90m):  \u001b[39m0.00% ± 0.00%\n",
       "\n",
       "  \u001b[39m \u001b[39m█\u001b[39m▃\u001b[39m▁\u001b[39m \u001b[39m \u001b[39m \u001b[39m \u001b[34m \u001b[39m\u001b[39m \u001b[39m \u001b[39m \u001b[32m \u001b[39m\u001b[39m \u001b[39m \u001b[39m \u001b[39m \u001b[39m \u001b[39m \u001b[39m \u001b[39m \u001b[39m \u001b[39m \u001b[39m \u001b[39m \u001b[39m \u001b[39m \u001b[39m \u001b[39m \u001b[39m \u001b[39m \u001b[39m \u001b[39m \u001b[39m \u001b[39m \u001b[39m \u001b[39m \u001b[39m \u001b[39m \u001b[39m \u001b[39m \u001b[39m \u001b[39m \u001b[39m \u001b[39m \u001b[39m \u001b[39m \u001b[39m \u001b[39m \u001b[39m \u001b[39m \u001b[39m \u001b[39m \u001b[39m \u001b[39m \u001b[39m \u001b[39m \u001b[39m \u001b[39m \u001b[39m \n",
       "  \u001b[39m▆\u001b[39m█\u001b[39m█\u001b[39m█\u001b[39m█\u001b[39m▇\u001b[39m▆\u001b[39m▅\u001b[34m▅\u001b[39m\u001b[39m▅\u001b[39m▄\u001b[39m▄\u001b[32m▃\u001b[39m\u001b[39m▄\u001b[39m▄\u001b[39m▄\u001b[39m▃\u001b[39m▄\u001b[39m▃\u001b[39m▃\u001b[39m▂\u001b[39m▃\u001b[39m▂\u001b[39m▃\u001b[39m▄\u001b[39m▂\u001b[39m▃\u001b[39m▂\u001b[39m▂\u001b[39m▂\u001b[39m▁\u001b[39m▂\u001b[39m▂\u001b[39m▂\u001b[39m▂\u001b[39m▂\u001b[39m▁\u001b[39m▁\u001b[39m▁\u001b[39m▁\u001b[39m▁\u001b[39m▁\u001b[39m▁\u001b[39m▁\u001b[39m▁\u001b[39m▁\u001b[39m▁\u001b[39m▁\u001b[39m▁\u001b[39m▁\u001b[39m▁\u001b[39m▁\u001b[39m▁\u001b[39m▁\u001b[39m▁\u001b[39m▁\u001b[39m▁\u001b[39m▁\u001b[39m \u001b[39m▂\n",
       "  1.78 ms\u001b[90m        Histogram: frequency by time\u001b[39m        1.97 ms \u001b[0m\u001b[1m<\u001b[22m\n",
       "\n",
       " Memory estimate\u001b[90m: \u001b[39m\u001b[33m0 bytes\u001b[39m, allocs estimate\u001b[90m: \u001b[39m\u001b[33m0\u001b[39m."
      ]
     },
     "metadata": {},
     "output_type": "display_data"
    }
   ],
   "source": [
    "c_fastmath_bench = @benchmark $c_sum_fastmath($a)"
   ]
  },
  {
   "cell_type": "code",
   "execution_count": 28,
   "metadata": {},
   "outputs": [
    {
     "data": {
      "text/plain": [
       "1.783041"
      ]
     },
     "metadata": {},
     "output_type": "display_data"
    }
   ],
   "source": [
    "d[\"C -ffast-math\"] = minimum(c_fastmath_bench.times) / 1e6  # in milliseconds"
   ]
  },
  {
   "cell_type": "markdown",
   "metadata": {},
   "source": [
    "# 3. Python's built in `sum` "
   ]
  },
  {
   "cell_type": "markdown",
   "metadata": {},
   "source": [
    "The `PyCall` package provides a Julia interface to Python:"
   ]
  },
  {
   "cell_type": "code",
   "execution_count": 29,
   "metadata": {
    "scrolled": true
   },
   "outputs": [
    {
     "name": "stderr",
     "output_type": "stream",
     "text": [
      "\u001b[32m\u001b[1m   Resolving\u001b[22m\u001b[39m package versions...\n"
     ]
    },
    {
     "name": "stderr",
     "output_type": "stream",
     "text": [
      "\u001b[32m\u001b[1m  No Changes\u001b[22m\u001b[39m to `~/.julia/environments/v1.9/Project.toml`\n",
      "\u001b[32m\u001b[1m  No Changes\u001b[22m\u001b[39m to `~/.julia/environments/v1.9/Manifest.toml`\n"
     ]
    }
   ],
   "source": [
    "using Pkg; Pkg.add(\"PyCall\")\n",
    "using PyCall"
   ]
  },
  {
   "cell_type": "code",
   "execution_count": 30,
   "metadata": {
    "scrolled": false
   },
   "outputs": [
    {
     "data": {
      "text/plain": [
       "PyObject <built-in function sum>"
      ]
     },
     "metadata": {},
     "output_type": "display_data"
    }
   ],
   "source": [
    "# get the Python built-in \"sum\" function:\n",
    "pysum = pybuiltin(\"sum\")"
   ]
  },
  {
   "cell_type": "code",
   "execution_count": 31,
   "metadata": {
    "scrolled": false
   },
   "outputs": [
    {
     "data": {
      "text/plain": [
       "5.001831813857571e6"
      ]
     },
     "metadata": {},
     "output_type": "display_data"
    }
   ],
   "source": [
    "pysum(a)"
   ]
  },
  {
   "cell_type": "code",
   "execution_count": 32,
   "metadata": {
    "scrolled": false
   },
   "outputs": [
    {
     "data": {
      "text/plain": [
       "true"
      ]
     },
     "metadata": {},
     "output_type": "display_data"
    }
   ],
   "source": [
    "pysum(a) ≈ sum(a)"
   ]
  },
  {
   "cell_type": "code",
   "execution_count": 33,
   "metadata": {
    "scrolled": false
   },
   "outputs": [
    {
     "data": {
      "text/plain": [
       "BenchmarkTools.Trial: 4 samples with 1 evaluation.\n",
       " Range \u001b[90m(\u001b[39m\u001b[36m\u001b[1mmin\u001b[22m\u001b[39m … \u001b[35mmax\u001b[39m\u001b[90m):  \u001b[39m\u001b[36m\u001b[1m940.423 ms\u001b[22m\u001b[39m … \u001b[35m   1.687 s\u001b[39m  \u001b[90m┊\u001b[39m GC \u001b[90m(\u001b[39mmin … max\u001b[90m): \u001b[39m22.39% … 25.19%\n",
       " Time  \u001b[90m(\u001b[39m\u001b[34m\u001b[1mmedian\u001b[22m\u001b[39m\u001b[90m):     \u001b[39m\u001b[34m\u001b[1m   1.476 s               \u001b[22m\u001b[39m\u001b[90m┊\u001b[39m GC \u001b[90m(\u001b[39mmedian\u001b[90m):    \u001b[39m23.42%\n",
       " Time  \u001b[90m(\u001b[39m\u001b[32m\u001b[1mmean\u001b[22m\u001b[39m ± \u001b[32mσ\u001b[39m\u001b[90m):   \u001b[39m\u001b[32m\u001b[1m   1.395 s\u001b[22m\u001b[39m ± \u001b[32m318.716 ms\u001b[39m  \u001b[90m┊\u001b[39m GC \u001b[90m(\u001b[39mmean ± σ\u001b[90m):  \u001b[39m23.78% ±  1.23%\n",
       "\n",
       "  \u001b[39m█\u001b[39m \u001b[39m \u001b[39m \u001b[39m \u001b[39m \u001b[39m \u001b[39m \u001b[39m \u001b[39m \u001b[39m \u001b[39m \u001b[39m \u001b[39m \u001b[39m \u001b[39m \u001b[39m \u001b[39m \u001b[39m \u001b[39m \u001b[39m \u001b[39m \u001b[39m \u001b[39m \u001b[39m \u001b[39m \u001b[39m \u001b[39m \u001b[39m \u001b[39m \u001b[39m \u001b[39m \u001b[39m \u001b[39m \u001b[39m \u001b[39m \u001b[39m \u001b[32m \u001b[39m\u001b[39m \u001b[39m \u001b[39m \u001b[39m \u001b[39m \u001b[34m█\u001b[39m\u001b[39m█\u001b[39m \u001b[39m \u001b[39m \u001b[39m \u001b[39m \u001b[39m \u001b[39m \u001b[39m \u001b[39m \u001b[39m \u001b[39m \u001b[39m \u001b[39m \u001b[39m \u001b[39m \u001b[39m█\u001b[39m \u001b[39m \n",
       "  \u001b[39m█\u001b[39m▁\u001b[39m▁\u001b[39m▁\u001b[39m▁\u001b[39m▁\u001b[39m▁\u001b[39m▁\u001b[39m▁\u001b[39m▁\u001b[39m▁\u001b[39m▁\u001b[39m▁\u001b[39m▁\u001b[39m▁\u001b[39m▁\u001b[39m▁\u001b[39m▁\u001b[39m▁\u001b[39m▁\u001b[39m▁\u001b[39m▁\u001b[39m▁\u001b[39m▁\u001b[39m▁\u001b[39m▁\u001b[39m▁\u001b[39m▁\u001b[39m▁\u001b[39m▁\u001b[39m▁\u001b[39m▁\u001b[39m▁\u001b[39m▁\u001b[39m▁\u001b[39m▁\u001b[39m▁\u001b[32m▁\u001b[39m\u001b[39m▁\u001b[39m▁\u001b[39m▁\u001b[39m▁\u001b[39m▁\u001b[34m█\u001b[39m\u001b[39m█\u001b[39m▁\u001b[39m▁\u001b[39m▁\u001b[39m▁\u001b[39m▁\u001b[39m▁\u001b[39m▁\u001b[39m▁\u001b[39m▁\u001b[39m▁\u001b[39m▁\u001b[39m▁\u001b[39m▁\u001b[39m▁\u001b[39m▁\u001b[39m█\u001b[39m \u001b[39m▁\n",
       "  940 ms\u001b[90m           Histogram: frequency by time\u001b[39m          1.69 s \u001b[0m\u001b[1m<\u001b[22m\n",
       "\n",
       " Memory estimate\u001b[90m: \u001b[39m\u001b[33m152.60 MiB\u001b[39m, allocs estimate\u001b[90m: \u001b[39m\u001b[33m10000042\u001b[39m."
      ]
     },
     "metadata": {},
     "output_type": "display_data"
    }
   ],
   "source": [
    "py_list_bench = @benchmark $pysum($a)"
   ]
  },
  {
   "cell_type": "code",
   "execution_count": 34,
   "metadata": {
    "scrolled": false
   },
   "outputs": [
    {
     "data": {
      "text/plain": [
       "Dict{Any, Any} with 3 entries:\n",
       "  \"C\"               => 9.38379\n",
       "  \"Python built-in\" => 940.423\n",
       "  \"C -ffast-math\"   => 1.78304"
      ]
     },
     "metadata": {},
     "output_type": "display_data"
    }
   ],
   "source": [
    "d[\"Python built-in\"] = minimum(py_list_bench.times) / 1e6\n",
    "d"
   ]
  },
  {
   "cell_type": "markdown",
   "metadata": {},
   "source": [
    "# 4. Python: `numpy` \n",
    "\n",
    "## Takes advantage of hardware \"SIMD\", but only works when it works.\n",
    "\n",
    "`numpy` is an optimized C library, callable from Python.\n",
    "It may be installed within Julia as follows:"
   ]
  },
  {
   "cell_type": "code",
   "execution_count": 35,
   "metadata": {
    "scrolled": false
   },
   "outputs": [
    {
     "name": "stderr",
     "output_type": "stream",
     "text": [
      "\u001b[32m\u001b[1m   Resolving\u001b[22m\u001b[39m package versions...\n"
     ]
    },
    {
     "name": "stderr",
     "output_type": "stream",
     "text": [
      "\u001b[32m\u001b[1m  No Changes\u001b[22m\u001b[39m to `~/.julia/environments/v1.9/Project.toml`\n",
      "\u001b[32m\u001b[1m  No Changes\u001b[22m\u001b[39m to `~/.julia/environments/v1.9/Manifest.toml`\n"
     ]
    }
   ],
   "source": [
    "using Pkg; Pkg.add(\"Conda\")\n",
    "using Conda"
   ]
  },
  {
   "cell_type": "code",
   "execution_count": 36,
   "metadata": {},
   "outputs": [
    {
     "name": "stderr",
     "output_type": "stream",
     "text": [
      "┌ Info: Running `conda install -y numpy` in root environment\n",
      "└ @ Conda /Users/sergio/.julia/packages/Conda/2lg2O/src/Conda.jl:127\n"
     ]
    },
    {
     "name": "stdout",
     "output_type": "stream",
     "text": [
      "Collecting package metadata (current_repodata.json): ...working... "
     ]
    },
    {
     "name": "stdout",
     "output_type": "stream",
     "text": [
      "done\n",
      "Solving environment: ...working... "
     ]
    },
    {
     "name": "stdout",
     "output_type": "stream",
     "text": [
      "done\n"
     ]
    },
    {
     "name": "stdout",
     "output_type": "stream",
     "text": [
      "\n",
      "# All requested packages already installed.\n",
      "\n"
     ]
    },
    {
     "name": "stderr",
     "output_type": "stream",
     "text": [
      "\n",
      "\n",
      "==> WARNING: A newer version of conda exists. <==\n",
      "  current version: 22.11.1\n",
      "  latest version: 23.9.0\n",
      "\n",
      "Please update conda by running\n",
      "\n",
      "    $ conda update -n base -c conda-forge conda\n",
      "\n",
      "Or to minimize the number of packages updated during conda update use\n",
      "\n",
      "     conda install conda=23.9.0\n",
      "\n",
      "\n"
     ]
    }
   ],
   "source": [
    "Conda.add(\"numpy\")"
   ]
  },
  {
   "cell_type": "code",
   "execution_count": 37,
   "metadata": {
    "scrolled": false
   },
   "outputs": [
    {
     "ename": "PyCall.PyError",
     "evalue": "PyError (PyImport_ImportModule\n\nThe Python package numpy could not be imported by pyimport. Usually this means\nthat you did not install numpy in the Python version being used by PyCall.\n\nPyCall is currently configured to use the Julia-specific Python distribution\ninstalled by the Conda.jl package.  To install the numpy module, you can\nuse `pyimport_conda(\"numpy\", PKG)`, where PKG is the Anaconda\npackage that contains the module numpy, or alternatively you can use the\nConda package directly (via `using Conda` followed by `Conda.add` etcetera).\n\nAlternatively, if you want to use a different Python distribution on your\nsystem, such as a system-wide Python (as opposed to the Julia-specific Python),\nyou can re-configure PyCall with that Python.   As explained in the PyCall\ndocumentation, set ENV[\"PYTHON\"] to the path/name of the python executable\nyou want to use, run Pkg.build(\"PyCall\"), and re-launch Julia.\n\n) <class 'ImportError'>\nImportError('\\n\\nIMPORTANT: PLEASE READ THIS FOR ADVICE ON HOW TO SOLVE THIS ISSUE!\\n\\nImporting the numpy C-extensions failed. This error can happen for\\nmany reasons, often due to issues with your setup or how NumPy was\\ninstalled.\\n\\nWe have compiled some common reasons and troubleshooting tips at:\\n\\n    https://numpy.org/devdocs/user/troubleshooting-importerror.html\\n\\nPlease note and check the following:\\n\\n  * The Python version is: Python3.9 from \"/Users/sergio/.julia/conda/3/bin/python\"\\n  * The NumPy version is: \"1.21.1\"\\n\\nand make sure that they are the versions you expect.\\nPlease carefully study the documentation linked above for further help.\\n\\nOriginal error was: dlopen(/Users/sergio/.local/lib/python3.9/site-packages/numpy/core/_multiarray_umath.cpython-39-darwin.so, 0x0002): tried: \\'/Users/sergio/.local/lib/python3.9/site-packages/numpy/core/_multiarray_umath.cpython-39-darwin.so\\' (mach-o file, but is an incompatible architecture (have \\'arm64\\', need \\'x86_64\\')), \\'/System/Volumes/Preboot/Cryptexes/OS/Users/sergio/.local/lib/python3.9/site-packages/numpy/core/_multiarray_umath.cpython-39-darwin.so\\' (no such file), \\'/Users/sergio/.local/lib/python3.9/site-packages/numpy/core/_multiarray_umath.cpython-39-darwin.so\\' (mach-o file, but is an incompatible architecture (have \\'arm64\\', need \\'x86_64\\'))\\n')\n  File \"/Users/sergio/.local/lib/python3.9/site-packages/numpy/__init__.py\", line 150, in <module>\n    from . import core\n  File \"/Users/sergio/.local/lib/python3.9/site-packages/numpy/core/__init__.py\", line 48, in <module>\n    raise ImportError(msg)\n",
     "output_type": "error",
     "traceback": [
      "PyError (PyImport_ImportModule\n",
      "\n",
      "The Python package numpy could not be imported by pyimport. Usually this means\n",
      "that you did not install numpy in the Python version being used by PyCall.\n",
      "\n",
      "PyCall is currently configured to use the Julia-specific Python distribution\n",
      "installed by the Conda.jl package.  To install the numpy module, you can\n",
      "use `pyimport_conda(\"numpy\", PKG)`, where PKG is the Anaconda\n",
      "package that contains the module numpy, or alternatively you can use the\n",
      "Conda package directly (via `using Conda` followed by `Conda.add` etcetera).\n",
      "\n",
      "Alternatively, if you want to use a different Python distribution on your\n",
      "system, such as a system-wide Python (as opposed to the Julia-specific Python),\n",
      "you can re-configure PyCall with that Python.   As explained in the PyCall\n",
      "documentation, set ENV[\"PYTHON\"] to the path/name of the python executable\n",
      "you want to use, run Pkg.build(\"PyCall\"), and re-launch Julia.\n",
      "\n",
      ") <class 'ImportError'>\n",
      "ImportError('\\n\\nIMPORTANT: PLEASE READ THIS FOR ADVICE ON HOW TO SOLVE THIS ISSUE!\\n\\nImporting the numpy C-extensions failed. This error can happen for\\nmany reasons, often due to issues with your setup or how NumPy was\\ninstalled.\\n\\nWe have compiled some common reasons and troubleshooting tips at:\\n\\n    https://numpy.org/devdocs/user/troubleshooting-importerror.html\\n\\nPlease note and check the following:\\n\\n  * The Python version is: Python3.9 from \"/Users/sergio/.julia/conda/3/bin/python\"\\n  * The NumPy version is: \"1.21.1\"\\n\\nand make sure that they are the versions you expect.\\nPlease carefully study the documentation linked above for further help.\\n\\nOriginal error was: dlopen(/Users/sergio/.local/lib/python3.9/site-packages/numpy/core/_multiarray_umath.cpython-39-darwin.so, 0x0002): tried: \\'/Users/sergio/.local/lib/python3.9/site-packages/numpy/core/_multiarray_umath.cpython-39-darwin.so\\' (mach-o file, but is an incompatible architecture (have \\'arm64\\', need \\'x86_64\\')), \\'/System/Volumes/Preboot/Cryptexes/OS/Users/sergio/.local/lib/python3.9/site-packages/numpy/core/_multiarray_umath.cpython-39-darwin.so\\' (no such file), \\'/Users/sergio/.local/lib/python3.9/site-packages/numpy/core/_multiarray_umath.cpython-39-darwin.so\\' (mach-o file, but is an incompatible architecture (have \\'arm64\\', need \\'x86_64\\'))\\n')\n",
      "  File \"/Users/sergio/.local/lib/python3.9/site-packages/numpy/__init__.py\", line 150, in <module>\n",
      "    from . import core\n",
      "  File \"/Users/sergio/.local/lib/python3.9/site-packages/numpy/core/__init__.py\", line 48, in <module>\n",
      "    raise ImportError(msg)\n",
      "\n",
      "\n",
      "Stacktrace:\n",
      " [1] pyimport(name::String)\n",
      "   @ PyCall ~/.julia/packages/PyCall/ilqDX/src/PyCall.jl:558\n",
      " [2] top-level scope\n",
      "   @ ~/code/computacion_numerica/6_SpeedTest.ipynb:1"
     ]
    }
   ],
   "source": [
    "numpy_sum = pyimport(\"numpy\")[\"sum\"]\n",
    "\n",
    "py_numpy_bench = @benchmark $numpy_sum($a)"
   ]
  },
  {
   "cell_type": "code",
   "execution_count": 34,
   "metadata": {
    "scrolled": false
   },
   "outputs": [
    {
     "ename": "UndefVarError",
     "evalue": "UndefVarError: `numpy_sum` not defined",
     "output_type": "error",
     "traceback": [
      "UndefVarError: `numpy_sum` not defined\n",
      "\n",
      "Stacktrace:\n",
      " [1] top-level scope\n",
      "   @ ~/code/computacion_numerica/6_SpeedTest.ipynb:1"
     ]
    }
   ],
   "source": [
    "numpy_sum(a)"
   ]
  },
  {
   "cell_type": "code",
   "execution_count": 35,
   "metadata": {
    "scrolled": false
   },
   "outputs": [
    {
     "ename": "UndefVarError",
     "evalue": "UndefVarError: `numpy_sum` not defined",
     "output_type": "error",
     "traceback": [
      "UndefVarError: `numpy_sum` not defined\n",
      "\n",
      "Stacktrace:\n",
      " [1] top-level scope\n",
      "   @ ~/code/computacion_numerica/6_SpeedTest.ipynb:1"
     ]
    }
   ],
   "source": [
    "numpy_sum(a) ≈ sum(a)"
   ]
  },
  {
   "cell_type": "code",
   "execution_count": 31,
   "metadata": {
    "scrolled": true
   },
   "outputs": [
    {
     "data": {
      "text/plain": [
       "Dict{Any,Any} with 4 entries:\n",
       "  \"C\"               => 11.063\n",
       "  \"Python numpy\"    => 6.64861\n",
       "  \"Python built-in\" => 904.664\n",
       "  \"C -ffast-math\"   => 6.95261"
      ]
     },
     "execution_count": 31,
     "metadata": {},
     "output_type": "execute_result"
    }
   ],
   "source": [
    "d[\"Python numpy\"] = minimum(py_numpy_bench.times) / 1e6\n",
    "d"
   ]
  },
  {
   "cell_type": "markdown",
   "metadata": {},
   "source": [
    "# 5. Python, hand-written "
   ]
  },
  {
   "cell_type": "code",
   "execution_count": 38,
   "metadata": {
    "scrolled": false
   },
   "outputs": [
    {
     "data": {
      "text/plain": [
       "PyObject <function py_sum at 0x18ccb8550>"
      ]
     },
     "metadata": {},
     "output_type": "display_data"
    }
   ],
   "source": [
    "py\"\"\"\n",
    "def py_sum(A):\n",
    "    s = 0.0\n",
    "    for a in A:\n",
    "        s += a\n",
    "    return s\n",
    "\"\"\"\n",
    "\n",
    "sum_py = py\"py_sum\""
   ]
  },
  {
   "cell_type": "code",
   "execution_count": 39,
   "metadata": {
    "scrolled": false
   },
   "outputs": [
    {
     "data": {
      "text/plain": [
       "BenchmarkTools.Trial: 3 samples with 1 evaluation.\n",
       " Range \u001b[90m(\u001b[39m\u001b[36m\u001b[1mmin\u001b[22m\u001b[39m … \u001b[35mmax\u001b[39m\u001b[90m):  \u001b[39m\u001b[36m\u001b[1m1.220 s\u001b[22m\u001b[39m … \u001b[35m   1.918 s\u001b[39m  \u001b[90m┊\u001b[39m GC \u001b[90m(\u001b[39mmin … max\u001b[90m): \u001b[39m17.30% … 15.53%\n",
       " Time  \u001b[90m(\u001b[39m\u001b[34m\u001b[1mmedian\u001b[22m\u001b[39m\u001b[90m):     \u001b[39m\u001b[34m\u001b[1m1.916 s               \u001b[22m\u001b[39m\u001b[90m┊\u001b[39m GC \u001b[90m(\u001b[39mmedian\u001b[90m):    \u001b[39m15.55%\n",
       " Time  \u001b[90m(\u001b[39m\u001b[32m\u001b[1mmean\u001b[22m\u001b[39m ± \u001b[32mσ\u001b[39m\u001b[90m):   \u001b[39m\u001b[32m\u001b[1m1.685 s\u001b[22m\u001b[39m ± \u001b[32m402.338 ms\u001b[39m  \u001b[90m┊\u001b[39m GC \u001b[90m(\u001b[39mmean ± σ\u001b[90m):  \u001b[39m18.59% ±  3.61%\n",
       "\n",
       "  \u001b[34m▁\u001b[39m\u001b[39m \u001b[39m \u001b[39m \u001b[39m \u001b[39m \u001b[39m \u001b[39m \u001b[39m \u001b[39m \u001b[39m \u001b[39m \u001b[39m \u001b[39m \u001b[39m \u001b[39m \u001b[39m \u001b[39m \u001b[39m \u001b[39m \u001b[39m \u001b[39m \u001b[39m \u001b[39m \u001b[39m \u001b[39m \u001b[39m \u001b[39m \u001b[39m \u001b[39m \u001b[39m \u001b[39m \u001b[39m \u001b[39m \u001b[39m \u001b[39m \u001b[39m \u001b[39m \u001b[39m \u001b[32m \u001b[39m\u001b[39m \u001b[39m \u001b[39m \u001b[39m \u001b[39m \u001b[39m \u001b[39m \u001b[39m \u001b[39m \u001b[39m \u001b[39m \u001b[39m \u001b[39m \u001b[39m \u001b[39m \u001b[39m \u001b[39m \u001b[39m█\u001b[39m \u001b[39m \n",
       "  \u001b[34m█\u001b[39m\u001b[39m▁\u001b[39m▁\u001b[39m▁\u001b[39m▁\u001b[39m▁\u001b[39m▁\u001b[39m▁\u001b[39m▁\u001b[39m▁\u001b[39m▁\u001b[39m▁\u001b[39m▁\u001b[39m▁\u001b[39m▁\u001b[39m▁\u001b[39m▁\u001b[39m▁\u001b[39m▁\u001b[39m▁\u001b[39m▁\u001b[39m▁\u001b[39m▁\u001b[39m▁\u001b[39m▁\u001b[39m▁\u001b[39m▁\u001b[39m▁\u001b[39m▁\u001b[39m▁\u001b[39m▁\u001b[39m▁\u001b[39m▁\u001b[39m▁\u001b[39m▁\u001b[39m▁\u001b[39m▁\u001b[39m▁\u001b[39m▁\u001b[32m▁\u001b[39m\u001b[39m▁\u001b[39m▁\u001b[39m▁\u001b[39m▁\u001b[39m▁\u001b[39m▁\u001b[39m▁\u001b[39m▁\u001b[39m▁\u001b[39m▁\u001b[39m▁\u001b[39m▁\u001b[39m▁\u001b[39m▁\u001b[39m▁\u001b[39m▁\u001b[39m▁\u001b[39m█\u001b[39m \u001b[39m▁\n",
       "  1.22 s\u001b[90m         Histogram: frequency by time\u001b[39m         1.92 s \u001b[0m\u001b[1m<\u001b[22m\n",
       "\n",
       " Memory estimate\u001b[90m: \u001b[39m\u001b[33m152.60 MiB\u001b[39m, allocs estimate\u001b[90m: \u001b[39m\u001b[33m10000042\u001b[39m."
      ]
     },
     "metadata": {},
     "output_type": "display_data"
    }
   ],
   "source": [
    "py_hand = @benchmark $sum_py($a)"
   ]
  },
  {
   "cell_type": "code",
   "execution_count": 40,
   "metadata": {
    "scrolled": false
   },
   "outputs": [
    {
     "data": {
      "text/plain": [
       "5.001831813857571e6"
      ]
     },
     "metadata": {},
     "output_type": "display_data"
    }
   ],
   "source": [
    "sum_py(a)"
   ]
  },
  {
   "cell_type": "code",
   "execution_count": 41,
   "metadata": {
    "scrolled": false
   },
   "outputs": [
    {
     "data": {
      "text/plain": [
       "true"
      ]
     },
     "metadata": {},
     "output_type": "display_data"
    }
   ],
   "source": [
    "sum_py(a) ≈ sum(a)"
   ]
  },
  {
   "cell_type": "code",
   "execution_count": 42,
   "metadata": {
    "scrolled": true
   },
   "outputs": [
    {
     "data": {
      "text/plain": [
       "Dict{Any, Any} with 4 entries:\n",
       "  \"C\"                   => 9.38379\n",
       "  \"Python hand-written\" => 1220.33\n",
       "  \"Python built-in\"     => 940.423\n",
       "  \"C -ffast-math\"       => 1.78304"
      ]
     },
     "metadata": {},
     "output_type": "display_data"
    }
   ],
   "source": [
    "d[\"Python hand-written\"] = minimum(py_hand.times) / 1e6\n",
    "d"
   ]
  },
  {
   "cell_type": "markdown",
   "metadata": {},
   "source": [
    "# 6. Julia (built-in) \n",
    "\n",
    "## Written directly in Julia, not in C!"
   ]
  },
  {
   "cell_type": "code",
   "execution_count": 43,
   "metadata": {
    "scrolled": false
   },
   "outputs": [
    {
     "data": {
      "text/html": [
       "sum(a::<b>AbstractArray</b>; <i>dims, kw...</i>) in Base at <a href=\"https://github.com/JuliaLang/julia/tree/e4ee485e90961018b7e53ce14b8b99335953e176/base/reducedim.jl#L994\" target=\"_blank\">reducedim.jl:994</a>"
      ],
      "text/plain": [
       "sum(\u001b[90ma\u001b[39m::\u001b[1mAbstractArray\u001b[22m; dims, kw...)\n",
       "\u001b[90m     @\u001b[39m \u001b[90mBase\u001b[39m \u001b[90m\u001b[4mreducedim.jl:994\u001b[24m\u001b[39m"
      ]
     },
     "metadata": {},
     "output_type": "display_data"
    }
   ],
   "source": [
    "@which sum(a)"
   ]
  },
  {
   "cell_type": "code",
   "execution_count": 45,
   "metadata": {
    "scrolled": false
   },
   "outputs": [
    {
     "data": {
      "text/plain": [
       "BenchmarkTools.Trial: 2632 samples with 1 evaluation.\n",
       " Range \u001b[90m(\u001b[39m\u001b[36m\u001b[1mmin\u001b[22m\u001b[39m … \u001b[35mmax\u001b[39m\u001b[90m):  \u001b[39m\u001b[36m\u001b[1m1.833 ms\u001b[22m\u001b[39m … \u001b[35m 2.251 ms\u001b[39m  \u001b[90m┊\u001b[39m GC \u001b[90m(\u001b[39mmin … max\u001b[90m): \u001b[39m0.00% … 0.00%\n",
       " Time  \u001b[90m(\u001b[39m\u001b[34m\u001b[1mmedian\u001b[22m\u001b[39m\u001b[90m):     \u001b[39m\u001b[34m\u001b[1m1.865 ms              \u001b[22m\u001b[39m\u001b[90m┊\u001b[39m GC \u001b[90m(\u001b[39mmedian\u001b[90m):    \u001b[39m0.00%\n",
       " Time  \u001b[90m(\u001b[39m\u001b[32m\u001b[1mmean\u001b[22m\u001b[39m ± \u001b[32mσ\u001b[39m\u001b[90m):   \u001b[39m\u001b[32m\u001b[1m1.886 ms\u001b[22m\u001b[39m ± \u001b[32m52.121 μs\u001b[39m  \u001b[90m┊\u001b[39m GC \u001b[90m(\u001b[39mmean ± σ\u001b[90m):  \u001b[39m0.00% ± 0.00%\n",
       "\n",
       "  \u001b[39m \u001b[39m▃\u001b[39m█\u001b[39m▄\u001b[39m▂\u001b[39m▁\u001b[39m \u001b[39m \u001b[34m \u001b[39m\u001b[39m \u001b[39m \u001b[39m \u001b[39m \u001b[32m \u001b[39m\u001b[39m \u001b[39m \u001b[39m \u001b[39m \u001b[39m \u001b[39m \u001b[39m \u001b[39m \u001b[39m \u001b[39m \u001b[39m \u001b[39m \u001b[39m \u001b[39m \u001b[39m \u001b[39m \u001b[39m \u001b[39m \u001b[39m \u001b[39m \u001b[39m \u001b[39m \u001b[39m \u001b[39m \u001b[39m \u001b[39m \u001b[39m \u001b[39m \u001b[39m \u001b[39m \u001b[39m \u001b[39m \u001b[39m \u001b[39m \u001b[39m \u001b[39m \u001b[39m \u001b[39m \u001b[39m \u001b[39m \u001b[39m \u001b[39m \u001b[39m \u001b[39m \u001b[39m \u001b[39m \n",
       "  \u001b[39m▄\u001b[39m█\u001b[39m█\u001b[39m█\u001b[39m█\u001b[39m█\u001b[39m█\u001b[39m▆\u001b[34m▄\u001b[39m\u001b[39m▄\u001b[39m▄\u001b[39m▅\u001b[39m▄\u001b[32m▄\u001b[39m\u001b[39m▄\u001b[39m▄\u001b[39m▄\u001b[39m▃\u001b[39m▃\u001b[39m▃\u001b[39m▄\u001b[39m▄\u001b[39m▃\u001b[39m▄\u001b[39m▂\u001b[39m▃\u001b[39m▃\u001b[39m▂\u001b[39m▂\u001b[39m▂\u001b[39m▂\u001b[39m▂\u001b[39m▂\u001b[39m▂\u001b[39m▂\u001b[39m▂\u001b[39m▁\u001b[39m▂\u001b[39m▂\u001b[39m▁\u001b[39m▂\u001b[39m▂\u001b[39m▁\u001b[39m▁\u001b[39m▁\u001b[39m▁\u001b[39m▁\u001b[39m▁\u001b[39m▁\u001b[39m▁\u001b[39m▁\u001b[39m▁\u001b[39m▁\u001b[39m▁\u001b[39m▁\u001b[39m▁\u001b[39m▁\u001b[39m▁\u001b[39m \u001b[39m▂\n",
       "  1.83 ms\u001b[90m        Histogram: frequency by time\u001b[39m        2.07 ms \u001b[0m\u001b[1m<\u001b[22m\n",
       "\n",
       " Memory estimate\u001b[90m: \u001b[39m\u001b[33m0 bytes\u001b[39m, allocs estimate\u001b[90m: \u001b[39m\u001b[33m0\u001b[39m."
      ]
     },
     "metadata": {},
     "output_type": "display_data"
    }
   ],
   "source": [
    "j_bench = @benchmark sum($a)"
   ]
  },
  {
   "cell_type": "code",
   "execution_count": 46,
   "metadata": {
    "scrolled": true
   },
   "outputs": [
    {
     "data": {
      "text/plain": [
       "Dict{Any, Any} with 5 entries:\n",
       "  \"C\"                   => 9.38379\n",
       "  \"Python hand-written\" => 1220.33\n",
       "  \"Python built-in\"     => 940.423\n",
       "  \"Julia built-in\"      => 1.83346\n",
       "  \"C -ffast-math\"       => 1.78304"
      ]
     },
     "metadata": {},
     "output_type": "display_data"
    }
   ],
   "source": [
    "d[\"Julia built-in\"] = minimum(j_bench.times) / 1e6\n",
    "d"
   ]
  },
  {
   "cell_type": "markdown",
   "metadata": {},
   "source": [
    "# 7. Julia (hand-written) "
   ]
  },
  {
   "cell_type": "code",
   "execution_count": 47,
   "metadata": {
    "scrolled": true
   },
   "outputs": [
    {
     "data": {
      "text/plain": [
       "mysum (generic function with 1 method)"
      ]
     },
     "metadata": {},
     "output_type": "display_data"
    }
   ],
   "source": [
    "function mysum(A)   \n",
    "    s = 0.0 # s = zero(eltype(a))\n",
    "    for a in A\n",
    "        s += a\n",
    "    end\n",
    "    s\n",
    "end"
   ]
  },
  {
   "cell_type": "code",
   "execution_count": 49,
   "metadata": {
    "scrolled": false
   },
   "outputs": [
    {
     "data": {
      "text/plain": [
       "BenchmarkTools.Trial: 527 samples with 1 evaluation.\n",
       " Range \u001b[90m(\u001b[39m\u001b[36m\u001b[1mmin\u001b[22m\u001b[39m … \u001b[35mmax\u001b[39m\u001b[90m):  \u001b[39m\u001b[36m\u001b[1m9.384 ms\u001b[22m\u001b[39m … \u001b[35m 9.980 ms\u001b[39m  \u001b[90m┊\u001b[39m GC \u001b[90m(\u001b[39mmin … max\u001b[90m): \u001b[39m0.00% … 0.00%\n",
       " Time  \u001b[90m(\u001b[39m\u001b[34m\u001b[1mmedian\u001b[22m\u001b[39m\u001b[90m):     \u001b[39m\u001b[34m\u001b[1m9.469 ms              \u001b[22m\u001b[39m\u001b[90m┊\u001b[39m GC \u001b[90m(\u001b[39mmedian\u001b[90m):    \u001b[39m0.00%\n",
       " Time  \u001b[90m(\u001b[39m\u001b[32m\u001b[1mmean\u001b[22m\u001b[39m ± \u001b[32mσ\u001b[39m\u001b[90m):   \u001b[39m\u001b[32m\u001b[1m9.475 ms\u001b[22m\u001b[39m ± \u001b[32m44.548 μs\u001b[39m  \u001b[90m┊\u001b[39m GC \u001b[90m(\u001b[39mmean ± σ\u001b[90m):  \u001b[39m0.00% ± 0.00%\n",
       "\n",
       "  \u001b[39m \u001b[39m \u001b[39m \u001b[39m \u001b[39m \u001b[39m \u001b[39m \u001b[39m \u001b[39m \u001b[39m \u001b[39m \u001b[39m \u001b[39m \u001b[39m \u001b[39m \u001b[39m \u001b[39m \u001b[39m▁\u001b[39m▄\u001b[39m▇\u001b[39m▅\u001b[39m█\u001b[39m▂\u001b[39m▁\u001b[34m█\u001b[39m\u001b[39m▂\u001b[32m▆\u001b[39m\u001b[39m▁\u001b[39m▁\u001b[39m▂\u001b[39m \u001b[39m \u001b[39m \u001b[39m \u001b[39m \u001b[39m \u001b[39m \u001b[39m \u001b[39m \u001b[39m \u001b[39m \u001b[39m \u001b[39m \u001b[39m \u001b[39m \u001b[39m \u001b[39m \u001b[39m \u001b[39m \u001b[39m \u001b[39m \u001b[39m \u001b[39m \u001b[39m \u001b[39m \u001b[39m \u001b[39m \u001b[39m \u001b[39m \u001b[39m \n",
       "  \u001b[39m▃\u001b[39m▁\u001b[39m▃\u001b[39m▁\u001b[39m▂\u001b[39m▁\u001b[39m▃\u001b[39m▄\u001b[39m▃\u001b[39m▂\u001b[39m▆\u001b[39m▅\u001b[39m▅\u001b[39m▆\u001b[39m█\u001b[39m▇\u001b[39m▇\u001b[39m█\u001b[39m█\u001b[39m█\u001b[39m█\u001b[39m█\u001b[39m█\u001b[39m█\u001b[34m█\u001b[39m\u001b[39m█\u001b[32m█\u001b[39m\u001b[39m█\u001b[39m█\u001b[39m█\u001b[39m█\u001b[39m▇\u001b[39m▆\u001b[39m█\u001b[39m▅\u001b[39m▆\u001b[39m▇\u001b[39m▆\u001b[39m▄\u001b[39m▄\u001b[39m▄\u001b[39m▂\u001b[39m▄\u001b[39m▅\u001b[39m▂\u001b[39m▃\u001b[39m▃\u001b[39m▁\u001b[39m▃\u001b[39m▃\u001b[39m▄\u001b[39m▃\u001b[39m▂\u001b[39m▂\u001b[39m▂\u001b[39m▂\u001b[39m▁\u001b[39m▂\u001b[39m \u001b[39m▄\n",
       "  9.38 ms\u001b[90m        Histogram: frequency by time\u001b[39m        9.59 ms \u001b[0m\u001b[1m<\u001b[22m\n",
       "\n",
       " Memory estimate\u001b[90m: \u001b[39m\u001b[33m0 bytes\u001b[39m, allocs estimate\u001b[90m: \u001b[39m\u001b[33m0\u001b[39m."
      ]
     },
     "metadata": {},
     "output_type": "display_data"
    }
   ],
   "source": [
    "j_bench_hand = @benchmark mysum($a)"
   ]
  },
  {
   "cell_type": "code",
   "execution_count": 50,
   "metadata": {
    "scrolled": true
   },
   "outputs": [
    {
     "data": {
      "text/plain": [
       "Dict{Any, Any} with 6 entries:\n",
       "  \"C\"                   => 9.38379\n",
       "  \"Julia hand-written\"  => 9.38408\n",
       "  \"Python hand-written\" => 1220.33\n",
       "  \"Python built-in\"     => 940.423\n",
       "  \"Julia built-in\"      => 1.83346\n",
       "  \"C -ffast-math\"       => 1.78304"
      ]
     },
     "metadata": {},
     "output_type": "display_data"
    }
   ],
   "source": [
    "d[\"Julia hand-written\"] = minimum(j_bench_hand.times) / 1e6\n",
    "d"
   ]
  },
  {
   "cell_type": "markdown",
   "metadata": {},
   "source": [
    "# 8. Julia (hand-written w. simd) "
   ]
  },
  {
   "cell_type": "code",
   "execution_count": 51,
   "metadata": {},
   "outputs": [
    {
     "data": {
      "text/plain": [
       "mysum_simd (generic function with 1 method)"
      ]
     },
     "metadata": {},
     "output_type": "display_data"
    }
   ],
   "source": [
    "function mysum_simd(A)   \n",
    "    s = 0.0 # s = zero(eltype(A))\n",
    "    @simd for a in A\n",
    "        s += a\n",
    "    end\n",
    "    s\n",
    "end"
   ]
  },
  {
   "cell_type": "code",
   "execution_count": 52,
   "metadata": {
    "scrolled": false
   },
   "outputs": [
    {
     "data": {
      "text/plain": [
       "BenchmarkTools.Trial: 2074 samples with 1 evaluation.\n",
       " Range \u001b[90m(\u001b[39m\u001b[36m\u001b[1mmin\u001b[22m\u001b[39m … \u001b[35mmax\u001b[39m\u001b[90m):  \u001b[39m\u001b[36m\u001b[1m2.360 ms\u001b[22m\u001b[39m … \u001b[35m 2.597 ms\u001b[39m  \u001b[90m┊\u001b[39m GC \u001b[90m(\u001b[39mmin … max\u001b[90m): \u001b[39m0.00% … 0.00%\n",
       " Time  \u001b[90m(\u001b[39m\u001b[34m\u001b[1mmedian\u001b[22m\u001b[39m\u001b[90m):     \u001b[39m\u001b[34m\u001b[1m2.389 ms              \u001b[22m\u001b[39m\u001b[90m┊\u001b[39m GC \u001b[90m(\u001b[39mmedian\u001b[90m):    \u001b[39m0.00%\n",
       " Time  \u001b[90m(\u001b[39m\u001b[32m\u001b[1mmean\u001b[22m\u001b[39m ± \u001b[32mσ\u001b[39m\u001b[90m):   \u001b[39m\u001b[32m\u001b[1m2.396 ms\u001b[22m\u001b[39m ± \u001b[32m31.483 μs\u001b[39m  \u001b[90m┊\u001b[39m GC \u001b[90m(\u001b[39mmean ± σ\u001b[90m):  \u001b[39m0.00% ± 0.00%\n",
       "\n",
       "  \u001b[39m \u001b[39m█\u001b[39m▂\u001b[39m \u001b[39m \u001b[39m \u001b[39m \u001b[39m \u001b[39m \u001b[39m \u001b[39m \u001b[39m \u001b[34m \u001b[39m\u001b[39m \u001b[39m \u001b[32m \u001b[39m\u001b[39m \u001b[39m \u001b[39m \u001b[39m \u001b[39m \u001b[39m \u001b[39m \u001b[39m \u001b[39m \u001b[39m \u001b[39m \u001b[39m \u001b[39m \u001b[39m \u001b[39m \u001b[39m \u001b[39m \u001b[39m \u001b[39m \u001b[39m \u001b[39m \u001b[39m \u001b[39m \u001b[39m \u001b[39m \u001b[39m \u001b[39m \u001b[39m \u001b[39m \u001b[39m \u001b[39m \u001b[39m \u001b[39m \u001b[39m \u001b[39m \u001b[39m \u001b[39m \u001b[39m \u001b[39m \u001b[39m \u001b[39m \u001b[39m \u001b[39m \u001b[39m \n",
       "  \u001b[39m▅\u001b[39m█\u001b[39m█\u001b[39m█\u001b[39m▇\u001b[39m▆\u001b[39m▆\u001b[39m▆\u001b[39m▅\u001b[39m▅\u001b[39m▅\u001b[39m▅\u001b[34m▄\u001b[39m\u001b[39m▄\u001b[39m▄\u001b[32m▄\u001b[39m\u001b[39m▅\u001b[39m▄\u001b[39m▅\u001b[39m▅\u001b[39m▅\u001b[39m▅\u001b[39m▄\u001b[39m▄\u001b[39m▃\u001b[39m▄\u001b[39m▃\u001b[39m▃\u001b[39m▃\u001b[39m▃\u001b[39m▃\u001b[39m▂\u001b[39m▂\u001b[39m▂\u001b[39m▂\u001b[39m▂\u001b[39m▂\u001b[39m▂\u001b[39m▁\u001b[39m▁\u001b[39m▁\u001b[39m▁\u001b[39m▁\u001b[39m▁\u001b[39m▁\u001b[39m▁\u001b[39m▁\u001b[39m▁\u001b[39m▁\u001b[39m▁\u001b[39m▁\u001b[39m▁\u001b[39m▁\u001b[39m▁\u001b[39m▁\u001b[39m▁\u001b[39m▁\u001b[39m▁\u001b[39m \u001b[39m▂\n",
       "  2.36 ms\u001b[90m        Histogram: frequency by time\u001b[39m         2.5 ms \u001b[0m\u001b[1m<\u001b[22m\n",
       "\n",
       " Memory estimate\u001b[90m: \u001b[39m\u001b[33m0 bytes\u001b[39m, allocs estimate\u001b[90m: \u001b[39m\u001b[33m0\u001b[39m."
      ]
     },
     "metadata": {},
     "output_type": "display_data"
    }
   ],
   "source": [
    "j_bench_hand_simd = @benchmark mysum_simd($a)"
   ]
  },
  {
   "cell_type": "code",
   "execution_count": 53,
   "metadata": {},
   "outputs": [
    {
     "data": {
      "text/plain": [
       "5.001831813857792e6"
      ]
     },
     "metadata": {},
     "output_type": "display_data"
    }
   ],
   "source": [
    "mysum_simd(a)"
   ]
  },
  {
   "cell_type": "code",
   "execution_count": 54,
   "metadata": {
    "scrolled": true
   },
   "outputs": [
    {
     "data": {
      "text/plain": [
       "Dict{Any, Any} with 7 entries:\n",
       "  \"Julia hand-written simd\" => 2.36046\n",
       "  \"C\"                       => 9.38379\n",
       "  \"Julia hand-written\"      => 9.38408\n",
       "  \"Python hand-written\"     => 1220.33\n",
       "  \"Python built-in\"         => 940.423\n",
       "  \"Julia built-in\"          => 1.83346\n",
       "  \"C -ffast-math\"           => 1.78304"
      ]
     },
     "metadata": {},
     "output_type": "display_data"
    }
   ],
   "source": [
    "d[\"Julia hand-written simd\"] = minimum(j_bench_hand_simd.times) / 1e6\n",
    "d"
   ]
  },
  {
   "cell_type": "markdown",
   "metadata": {},
   "source": [
    "# Summary"
   ]
  },
  {
   "cell_type": "code",
   "execution_count": 55,
   "metadata": {
    "scrolled": true
   },
   "outputs": [
    {
     "name": "stdout",
     "output_type": "stream",
     "text": [
      "C -ffast-math...............1.8\n",
      "Julia built-in..............1.8\n",
      "Julia hand-written simd.....2.4\n",
      "C...........................9.4\n",
      "Julia hand-written..........9.4\n",
      "Python built-in...........940.4\n",
      "Python hand-written......1220.3\n"
     ]
    }
   ],
   "source": [
    "for (key, value) in sort(collect(d), by=last)\n",
    "    println(rpad(key, 25, \".\"), lpad(round(value; digits=1), 6, \".\"))\n",
    "end"
   ]
  },
  {
   "cell_type": "markdown",
   "metadata": {},
   "source": [
    "# Tarea\n",
    "\n",
    "    1. Implementar una aproximacion numerica de $\\pi$ usando los lenguajes Julia y C. \n",
    "    2. Comparar los resultados obtenidos para igual numero de iteraciones.\n",
    "    3. Evaluar los tiempos de ejecución para ambas implementaciones.\n",
    "\n",
    "https://towardsdatascience.com/computing-pi-in-only-3-lines-95c26276f4c9"
   ]
  },
  {
   "cell_type": "code",
   "execution_count": 57,
   "metadata": {},
   "outputs": [
    {
     "data": {
      "text/plain": [
       "BenchmarkTools.Trial: 17 samples with 1 evaluation.\n",
       " Range \u001b[90m(\u001b[39m\u001b[36m\u001b[1mmin\u001b[22m\u001b[39m … \u001b[35mmax\u001b[39m\u001b[90m):  \u001b[39m\u001b[36m\u001b[1m293.772 ms\u001b[22m\u001b[39m … \u001b[35m294.698 ms\u001b[39m  \u001b[90m┊\u001b[39m GC \u001b[90m(\u001b[39mmin … max\u001b[90m): \u001b[39m0.00% … 0.00%\n",
       " Time  \u001b[90m(\u001b[39m\u001b[34m\u001b[1mmedian\u001b[22m\u001b[39m\u001b[90m):     \u001b[39m\u001b[34m\u001b[1m294.421 ms               \u001b[22m\u001b[39m\u001b[90m┊\u001b[39m GC \u001b[90m(\u001b[39mmedian\u001b[90m):    \u001b[39m0.00%\n",
       " Time  \u001b[90m(\u001b[39m\u001b[32m\u001b[1mmean\u001b[22m\u001b[39m ± \u001b[32mσ\u001b[39m\u001b[90m):   \u001b[39m\u001b[32m\u001b[1m294.359 ms\u001b[22m\u001b[39m ± \u001b[32m262.080 μs\u001b[39m  \u001b[90m┊\u001b[39m GC \u001b[90m(\u001b[39mmean ± σ\u001b[90m):  \u001b[39m0.00% ± 0.00%\n",
       "\n",
       "  \u001b[39m█\u001b[39m \u001b[39m \u001b[39m \u001b[39m \u001b[39m \u001b[39m \u001b[39m \u001b[39m \u001b[39m \u001b[39m \u001b[39m \u001b[39m \u001b[39m \u001b[39m█\u001b[39m \u001b[39m \u001b[39m█\u001b[39m \u001b[39m \u001b[39m \u001b[39m \u001b[39m \u001b[39m█\u001b[39m \u001b[39m \u001b[39m \u001b[39m█\u001b[39m \u001b[39m \u001b[39m \u001b[39m \u001b[39m \u001b[39m \u001b[39m█\u001b[39m \u001b[39m█\u001b[39m \u001b[39m█\u001b[34m \u001b[39m\u001b[39m \u001b[39m \u001b[39m█\u001b[39m█\u001b[39m█\u001b[39m \u001b[39m \u001b[39m \u001b[39m \u001b[39m█\u001b[39m█\u001b[39m \u001b[39m \u001b[39m█\u001b[39m \u001b[39m \u001b[39m \u001b[39m \u001b[39m█\u001b[39m█\u001b[39m█\u001b[39m \u001b[39m \n",
       "  \u001b[39m█\u001b[39m▁\u001b[39m▁\u001b[39m▁\u001b[39m▁\u001b[39m▁\u001b[39m▁\u001b[39m▁\u001b[39m▁\u001b[39m▁\u001b[39m▁\u001b[39m▁\u001b[39m▁\u001b[39m▁\u001b[39m█\u001b[39m▁\u001b[39m▁\u001b[39m█\u001b[39m▁\u001b[39m▁\u001b[39m▁\u001b[39m▁\u001b[39m▁\u001b[39m█\u001b[39m▁\u001b[39m▁\u001b[39m▁\u001b[39m█\u001b[39m▁\u001b[39m▁\u001b[39m▁\u001b[39m▁\u001b[39m▁\u001b[39m▁\u001b[39m█\u001b[39m▁\u001b[39m█\u001b[39m▁\u001b[39m█\u001b[34m▁\u001b[39m\u001b[39m▁\u001b[39m▁\u001b[39m█\u001b[39m█\u001b[39m█\u001b[39m▁\u001b[39m▁\u001b[39m▁\u001b[39m▁\u001b[39m█\u001b[39m█\u001b[39m▁\u001b[39m▁\u001b[39m█\u001b[39m▁\u001b[39m▁\u001b[39m▁\u001b[39m▁\u001b[39m█\u001b[39m█\u001b[39m█\u001b[39m \u001b[39m▁\n",
       "  294 ms\u001b[90m           Histogram: frequency by time\u001b[39m          295 ms \u001b[0m\u001b[1m<\u001b[22m\n",
       "\n",
       " Memory estimate\u001b[90m: \u001b[39m\u001b[33m48 bytes\u001b[39m, allocs estimate\u001b[90m: \u001b[39m\u001b[33m3\u001b[39m."
      ]
     },
     "metadata": {},
     "output_type": "display_data"
    }
   ],
   "source": [
    "py\"\"\"\n",
    "def py_pi(N):\n",
    "    pi = 0.0\n",
    "    for i in range(N):\n",
    "        pi += 4 * ((-1) ** i) / (2 * i + 1)\n",
    "    return pi\n",
    "\"\"\"\n",
    "\n",
    "N=1000000\n",
    "pi_py = py\"py_pi\"\n",
    "py_hand = @benchmark $pi_py($N)"
   ]
  },
  {
   "cell_type": "code",
   "execution_count": 58,
   "metadata": {},
   "outputs": [
    {
     "data": {
      "text/plain": [
       "BenchmarkTools.Trial: 34 samples with 1 evaluation.\n",
       " Range \u001b[90m(\u001b[39m\u001b[36m\u001b[1mmin\u001b[22m\u001b[39m … \u001b[35mmax\u001b[39m\u001b[90m):  \u001b[39m\u001b[36m\u001b[1m143.167 ms\u001b[22m\u001b[39m … \u001b[35m150.934 ms\u001b[39m  \u001b[90m┊\u001b[39m GC \u001b[90m(\u001b[39mmin … max\u001b[90m): \u001b[39m0.00% … 0.00%\n",
       " Time  \u001b[90m(\u001b[39m\u001b[34m\u001b[1mmedian\u001b[22m\u001b[39m\u001b[90m):     \u001b[39m\u001b[34m\u001b[1m148.033 ms               \u001b[22m\u001b[39m\u001b[90m┊\u001b[39m GC \u001b[90m(\u001b[39mmedian\u001b[90m):    \u001b[39m0.00%\n",
       " Time  \u001b[90m(\u001b[39m\u001b[32m\u001b[1mmean\u001b[22m\u001b[39m ± \u001b[32mσ\u001b[39m\u001b[90m):   \u001b[39m\u001b[32m\u001b[1m147.982 ms\u001b[22m\u001b[39m ± \u001b[32m  1.785 ms\u001b[39m  \u001b[90m┊\u001b[39m GC \u001b[90m(\u001b[39mmean ± σ\u001b[90m):  \u001b[39m0.00% ± 0.00%\n",
       "\n",
       "  \u001b[39m \u001b[39m \u001b[39m \u001b[39m \u001b[39m \u001b[39m \u001b[39m \u001b[39m \u001b[39m \u001b[39m \u001b[39m \u001b[39m \u001b[39m \u001b[39m \u001b[39m \u001b[39m \u001b[39m \u001b[39m \u001b[39m \u001b[39m \u001b[39m \u001b[39m \u001b[39m \u001b[39m \u001b[39m \u001b[39m \u001b[39m█\u001b[39m \u001b[39m \u001b[39m \u001b[39m \u001b[39m \u001b[39m \u001b[39m \u001b[39m \u001b[39m▁\u001b[39m \u001b[39m \u001b[34m▄\u001b[39m\u001b[39m \u001b[39m \u001b[39m \u001b[39m \u001b[39m \u001b[39m▁\u001b[39m▁\u001b[39m \u001b[39m \u001b[39m \u001b[39m \u001b[39m \u001b[39m▁\u001b[39m \u001b[39m \u001b[39m \u001b[39m \u001b[39m \u001b[39m \u001b[39m \u001b[39m \u001b[39m▁\u001b[39m \u001b[39m \n",
       "  \u001b[39m▆\u001b[39m▁\u001b[39m▁\u001b[39m▁\u001b[39m▁\u001b[39m▁\u001b[39m▁\u001b[39m▁\u001b[39m▆\u001b[39m▁\u001b[39m▁\u001b[39m▁\u001b[39m▁\u001b[39m▁\u001b[39m▁\u001b[39m▁\u001b[39m▁\u001b[39m▁\u001b[39m▁\u001b[39m▁\u001b[39m▆\u001b[39m▆\u001b[39m▁\u001b[39m▁\u001b[39m▆\u001b[39m▁\u001b[39m█\u001b[39m▁\u001b[39m▆\u001b[39m▁\u001b[39m▁\u001b[39m▆\u001b[39m▁\u001b[39m▆\u001b[39m▆\u001b[39m█\u001b[39m▆\u001b[39m▁\u001b[34m█\u001b[39m\u001b[39m▁\u001b[39m▁\u001b[39m▁\u001b[39m▁\u001b[39m▆\u001b[39m█\u001b[39m█\u001b[39m▆\u001b[39m▆\u001b[39m▁\u001b[39m▆\u001b[39m▁\u001b[39m█\u001b[39m▆\u001b[39m▆\u001b[39m▁\u001b[39m▁\u001b[39m▆\u001b[39m▁\u001b[39m▁\u001b[39m▁\u001b[39m█\u001b[39m \u001b[39m▁\n",
       "  143 ms\u001b[90m           Histogram: frequency by time\u001b[39m          151 ms \u001b[0m\u001b[1m<\u001b[22m\n",
       "\n",
       " Memory estimate\u001b[90m: \u001b[39m\u001b[33m48 bytes\u001b[39m, allocs estimate\u001b[90m: \u001b[39m\u001b[33m3\u001b[39m."
      ]
     },
     "metadata": {},
     "output_type": "display_data"
    }
   ],
   "source": [
    "py\"\"\"\n",
    "def py_pi_mod(N):\n",
    "    pi = 0.0\n",
    "    for i in range(N):\n",
    "        pi += 4 * (1 - (i % 2) * 2) / (2 * i + 1)\n",
    "    return pi\n",
    "\"\"\"\n",
    "\n",
    "pi_py_mod = py\"py_pi_mod\"\n",
    "py_hand = @benchmark $pi_py_mod($N)"
   ]
  },
  {
   "cell_type": "code",
   "execution_count": 60,
   "metadata": {},
   "outputs": [
    {
     "data": {
      "text/plain": [
       "true"
      ]
     },
     "metadata": {},
     "output_type": "display_data"
    }
   ],
   "source": [
    "pi_py_mod(N)==pi_py(N)"
   ]
  },
  {
   "cell_type": "code",
   "execution_count": 68,
   "metadata": {},
   "outputs": [
    {
     "data": {
      "text/plain": [
       "c_pi (generic function with 1 method)"
      ]
     },
     "metadata": {},
     "output_type": "display_data"
    }
   ],
   "source": [
    "C_code_pi = \"\"\"\n",
    "#include <stddef.h>\n",
    "double c_pi(size_t n) {\n",
    "    double pi = 0.0;\n",
    "    for (size_t i = 0; i < n; ++i) {\n",
    "        pi += 4.0 * (1.0 - (i % 2) * 2.0) / (2.0 * i + 1.0);\n",
    "    }\n",
    "    return pi;\n",
    "}\n",
    "\"\"\"\n",
    "\n",
    "const Clib_pi = tempname()   # make a temporary file\n",
    "\n",
    "# compile to a shared library by piping C_code to gcc\n",
    "# (works only if you have gcc installed):\n",
    "\n",
    "open(`gcc -fPIC -O3 -msse3 -xc -shared -o $(Clib_pi * \".\" * Libdl.dlext) -`, \"w\") do f\n",
    "    print(f, C_code_pi) \n",
    "end\n",
    "\n",
    "# define a Julia function that calls the C function:\n",
    "c_pi(X::Int64) = ccall((\"c_pi\", Clib_pi), Float64, (Csize_t,), X)"
   ]
  },
  {
   "cell_type": "code",
   "execution_count": 70,
   "metadata": {},
   "outputs": [
    {
     "data": {
      "text/plain": [
       "BenchmarkTools.Trial: 5277 samples with 1 evaluation.\n",
       " Range \u001b[90m(\u001b[39m\u001b[36m\u001b[1mmin\u001b[22m\u001b[39m … \u001b[35mmax\u001b[39m\u001b[90m):  \u001b[39m\u001b[36m\u001b[1m936.291 μs\u001b[22m\u001b[39m … \u001b[35m 1.287 ms\u001b[39m  \u001b[90m┊\u001b[39m GC \u001b[90m(\u001b[39mmin … max\u001b[90m): \u001b[39m0.00% … 0.00%\n",
       " Time  \u001b[90m(\u001b[39m\u001b[34m\u001b[1mmedian\u001b[22m\u001b[39m\u001b[90m):     \u001b[39m\u001b[34m\u001b[1m939.292 μs              \u001b[22m\u001b[39m\u001b[90m┊\u001b[39m GC \u001b[90m(\u001b[39mmedian\u001b[90m):    \u001b[39m0.00%\n",
       " Time  \u001b[90m(\u001b[39m\u001b[32m\u001b[1mmean\u001b[22m\u001b[39m ± \u001b[32mσ\u001b[39m\u001b[90m):   \u001b[39m\u001b[32m\u001b[1m946.222 μs\u001b[22m\u001b[39m ± \u001b[32m14.141 μs\u001b[39m  \u001b[90m┊\u001b[39m GC \u001b[90m(\u001b[39mmean ± σ\u001b[90m):  \u001b[39m0.00% ± 0.00%\n",
       "\n",
       "  \u001b[39m█\u001b[39m▁\u001b[39m▃\u001b[34m▇\u001b[39m\u001b[39m▃\u001b[39m▄\u001b[39m▃\u001b[39m▃\u001b[39m▃\u001b[39m▁\u001b[39m▁\u001b[32m▂\u001b[39m\u001b[39m▂\u001b[39m▂\u001b[39m▂\u001b[39m▂\u001b[39m▁\u001b[39m▁\u001b[39m▁\u001b[39m▁\u001b[39m▁\u001b[39m▁\u001b[39m▁\u001b[39m▁\u001b[39m▁\u001b[39m▁\u001b[39m▁\u001b[39m \u001b[39m▁\u001b[39m▁\u001b[39m▁\u001b[39m \u001b[39m \u001b[39m \u001b[39m▁\u001b[39m \u001b[39m \u001b[39m \u001b[39m \u001b[39m▁\u001b[39m \u001b[39m \u001b[39m \u001b[39m \u001b[39m \u001b[39m \u001b[39m \u001b[39m \u001b[39m \u001b[39m \u001b[39m \u001b[39m \u001b[39m \u001b[39m \u001b[39m \u001b[39m \u001b[39m \u001b[39m \u001b[39m \u001b[39m \u001b[39m \u001b[39m▁\n",
       "  \u001b[39m█\u001b[39m█\u001b[39m█\u001b[34m█\u001b[39m\u001b[39m█\u001b[39m█\u001b[39m█\u001b[39m█\u001b[39m█\u001b[39m█\u001b[39m█\u001b[32m█\u001b[39m\u001b[39m█\u001b[39m█\u001b[39m█\u001b[39m█\u001b[39m█\u001b[39m█\u001b[39m█\u001b[39m█\u001b[39m█\u001b[39m█\u001b[39m█\u001b[39m█\u001b[39m█\u001b[39m█\u001b[39m█\u001b[39m█\u001b[39m█\u001b[39m█\u001b[39m█\u001b[39m█\u001b[39m█\u001b[39m█\u001b[39m█\u001b[39m█\u001b[39m█\u001b[39m▇\u001b[39m█\u001b[39m█\u001b[39m█\u001b[39m█\u001b[39m▇\u001b[39m▇\u001b[39m▇\u001b[39m▆\u001b[39m▅\u001b[39m▆\u001b[39m▅\u001b[39m▇\u001b[39m▆\u001b[39m▄\u001b[39m▂\u001b[39m▆\u001b[39m▅\u001b[39m▄\u001b[39m▆\u001b[39m▆\u001b[39m▆\u001b[39m▆\u001b[39m \u001b[39m█\n",
       "  936 μs\u001b[90m        \u001b[39m\u001b[90mHistogram: \u001b[39m\u001b[90m\u001b[1mlog(\u001b[22m\u001b[39m\u001b[90mfrequency\u001b[39m\u001b[90m\u001b[1m)\u001b[22m\u001b[39m\u001b[90m by time\u001b[39m       991 μs \u001b[0m\u001b[1m<\u001b[22m\n",
       "\n",
       " Memory estimate\u001b[90m: \u001b[39m\u001b[33m0 bytes\u001b[39m, allocs estimate\u001b[90m: \u001b[39m\u001b[33m0\u001b[39m."
      ]
     },
     "metadata": {},
     "output_type": "display_data"
    }
   ],
   "source": [
    "c_pi_bench = @benchmark $c_pi($N)"
   ]
  },
  {
   "cell_type": "code",
   "execution_count": 73,
   "metadata": {},
   "outputs": [
    {
     "name": "stderr",
     "output_type": "stream",
     "text": [
      "WARNING: redefinition of constant Clib_pi_fastmath. This may fail, cause incorrect answers, or produce other errors.\n"
     ]
    },
    {
     "data": {
      "text/plain": [
       "c_pi_fastmath (generic function with 1 method)"
      ]
     },
     "metadata": {},
     "output_type": "display_data"
    }
   ],
   "source": [
    "const Clib_pi_fastmath = tempname()   # make a temporary file\n",
    "\n",
    "# The same as above but with a -ffast-math flag added\n",
    "open(`gcc -fPIC -O3 -msse3 -xc -shared -ffast-math -o $(Clib_pi_fastmath * \".\" * Libdl.dlext) -`, \"w\") do f\n",
    "    print(f, C_code_pi) \n",
    "end\n",
    "\n",
    "# define a Julia function that calls the C function:\n",
    "c_pi_fastmath(X::Int64) = ccall((\"c_pi\", Clib_pi_fastmath), Float64, (Csize_t,), X)"
   ]
  },
  {
   "cell_type": "code",
   "execution_count": 74,
   "metadata": {},
   "outputs": [
    {
     "data": {
      "text/plain": [
       "BenchmarkTools.Trial: 6767 samples with 1 evaluation.\n",
       " Range \u001b[90m(\u001b[39m\u001b[36m\u001b[1mmin\u001b[22m\u001b[39m … \u001b[35mmax\u001b[39m\u001b[90m):  \u001b[39m\u001b[36m\u001b[1m730.416 μs\u001b[22m\u001b[39m … \u001b[35m823.333 μs\u001b[39m  \u001b[90m┊\u001b[39m GC \u001b[90m(\u001b[39mmin … max\u001b[90m): \u001b[39m0.00% … 0.00%\n",
       " Time  \u001b[90m(\u001b[39m\u001b[34m\u001b[1mmedian\u001b[22m\u001b[39m\u001b[90m):     \u001b[39m\u001b[34m\u001b[1m733.500 μs               \u001b[22m\u001b[39m\u001b[90m┊\u001b[39m GC \u001b[90m(\u001b[39mmedian\u001b[90m):    \u001b[39m0.00%\n",
       " Time  \u001b[90m(\u001b[39m\u001b[32m\u001b[1mmean\u001b[22m\u001b[39m ± \u001b[32mσ\u001b[39m\u001b[90m):   \u001b[39m\u001b[32m\u001b[1m737.562 μs\u001b[22m\u001b[39m ± \u001b[32m 10.450 μs\u001b[39m  \u001b[90m┊\u001b[39m GC \u001b[90m(\u001b[39mmean ± σ\u001b[90m):  \u001b[39m0.00% ± 0.00%\n",
       "\n",
       "  \u001b[39m█\u001b[39m▄\u001b[39m▂\u001b[39m▃\u001b[34m▇\u001b[39m\u001b[39m▃\u001b[39m▁\u001b[39m▃\u001b[39m▂\u001b[39m \u001b[32m▁\u001b[39m\u001b[39m▂\u001b[39m▂\u001b[39m▁\u001b[39m▂\u001b[39m▂\u001b[39m▁\u001b[39m▁\u001b[39m▂\u001b[39m▂\u001b[39m▁\u001b[39m▁\u001b[39m▁\u001b[39m \u001b[39m \u001b[39m \u001b[39m \u001b[39m \u001b[39m \u001b[39m \u001b[39m \u001b[39m \u001b[39m \u001b[39m \u001b[39m \u001b[39m \u001b[39m \u001b[39m \u001b[39m \u001b[39m \u001b[39m \u001b[39m \u001b[39m \u001b[39m \u001b[39m \u001b[39m \u001b[39m \u001b[39m \u001b[39m \u001b[39m \u001b[39m \u001b[39m \u001b[39m \u001b[39m \u001b[39m \u001b[39m \u001b[39m \u001b[39m \u001b[39m \u001b[39m \u001b[39m \u001b[39m \u001b[39m▁\n",
       "  \u001b[39m█\u001b[39m█\u001b[39m█\u001b[39m█\u001b[34m█\u001b[39m\u001b[39m█\u001b[39m█\u001b[39m█\u001b[39m█\u001b[39m█\u001b[32m█\u001b[39m\u001b[39m█\u001b[39m█\u001b[39m█\u001b[39m█\u001b[39m█\u001b[39m█\u001b[39m█\u001b[39m█\u001b[39m█\u001b[39m█\u001b[39m█\u001b[39m█\u001b[39m█\u001b[39m█\u001b[39m█\u001b[39m█\u001b[39m█\u001b[39m█\u001b[39m█\u001b[39m▇\u001b[39m█\u001b[39m█\u001b[39m█\u001b[39m▇\u001b[39m█\u001b[39m█\u001b[39m█\u001b[39m█\u001b[39m█\u001b[39m█\u001b[39m▇\u001b[39m█\u001b[39m█\u001b[39m▇\u001b[39m▇\u001b[39m▆\u001b[39m█\u001b[39m▇\u001b[39m▆\u001b[39m▆\u001b[39m▅\u001b[39m▆\u001b[39m▅\u001b[39m▅\u001b[39m▅\u001b[39m▄\u001b[39m▅\u001b[39m▄\u001b[39m▅\u001b[39m▄\u001b[39m \u001b[39m█\n",
       "  730 μs\u001b[90m        \u001b[39m\u001b[90mHistogram: \u001b[39m\u001b[90m\u001b[1mlog(\u001b[22m\u001b[39m\u001b[90mfrequency\u001b[39m\u001b[90m\u001b[1m)\u001b[22m\u001b[39m\u001b[90m by time\u001b[39m        775 μs \u001b[0m\u001b[1m<\u001b[22m\n",
       "\n",
       " Memory estimate\u001b[90m: \u001b[39m\u001b[33m0 bytes\u001b[39m, allocs estimate\u001b[90m: \u001b[39m\u001b[33m0\u001b[39m."
      ]
     },
     "metadata": {},
     "output_type": "display_data"
    }
   ],
   "source": [
    "c_pi_fastmath_bench = @benchmark $c_pi_fastmath($N)"
   ]
  },
  {
   "cell_type": "code",
   "execution_count": 81,
   "metadata": {},
   "outputs": [
    {
     "data": {
      "text/plain": [
       "pi_julia (generic function with 1 method)"
      ]
     },
     "metadata": {},
     "output_type": "display_data"
    }
   ],
   "source": [
    "function pi_julia(N)   \n",
    "    pi = 0.0 # s = zero(eltype(A))\n",
    "    for i in range(0,N)\n",
    "        pi += 4.0 * (1.0 - (i % 2) * 2.0) / (2.0 * i + 1.0)\n",
    "    end\n",
    "    return pi\n",
    "end"
   ]
  },
  {
   "cell_type": "code",
   "execution_count": 83,
   "metadata": {},
   "outputs": [
    {
     "data": {
      "text/plain": [
       "BenchmarkTools.Trial: 5280 samples with 1 evaluation.\n",
       " Range \u001b[90m(\u001b[39m\u001b[36m\u001b[1mmin\u001b[22m\u001b[39m … \u001b[35mmax\u001b[39m\u001b[90m):  \u001b[39m\u001b[36m\u001b[1m936.458 μs\u001b[22m\u001b[39m … \u001b[35m 1.076 ms\u001b[39m  \u001b[90m┊\u001b[39m GC \u001b[90m(\u001b[39mmin … max\u001b[90m): \u001b[39m0.00% … 0.00%\n",
       " Time  \u001b[90m(\u001b[39m\u001b[34m\u001b[1mmedian\u001b[22m\u001b[39m\u001b[90m):     \u001b[39m\u001b[34m\u001b[1m939.334 μs              \u001b[22m\u001b[39m\u001b[90m┊\u001b[39m GC \u001b[90m(\u001b[39mmedian\u001b[90m):    \u001b[39m0.00%\n",
       " Time  \u001b[90m(\u001b[39m\u001b[32m\u001b[1mmean\u001b[22m\u001b[39m ± \u001b[32mσ\u001b[39m\u001b[90m):   \u001b[39m\u001b[32m\u001b[1m945.726 μs\u001b[22m\u001b[39m ± \u001b[32m12.237 μs\u001b[39m  \u001b[90m┊\u001b[39m GC \u001b[90m(\u001b[39mmean ± σ\u001b[90m):  \u001b[39m0.00% ± 0.00%\n",
       "\n",
       "  \u001b[39m█\u001b[39m \u001b[39m▃\u001b[34m▇\u001b[39m\u001b[39m \u001b[39m▃\u001b[39m▂\u001b[39m▂\u001b[39m▁\u001b[39m▂\u001b[39m▂\u001b[32m▁\u001b[39m\u001b[39m▂\u001b[39m▂\u001b[39m▂\u001b[39m▃\u001b[39m▂\u001b[39m▂\u001b[39m▁\u001b[39m▂\u001b[39m▁\u001b[39m▁\u001b[39m▁\u001b[39m▁\u001b[39m▁\u001b[39m▁\u001b[39m▁\u001b[39m▁\u001b[39m▁\u001b[39m▁\u001b[39m▁\u001b[39m▁\u001b[39m▁\u001b[39m \u001b[39m▁\u001b[39m \u001b[39m \u001b[39m \u001b[39m \u001b[39m \u001b[39m \u001b[39m \u001b[39m \u001b[39m \u001b[39m \u001b[39m \u001b[39m \u001b[39m \u001b[39m \u001b[39m \u001b[39m \u001b[39m \u001b[39m \u001b[39m \u001b[39m \u001b[39m \u001b[39m \u001b[39m \u001b[39m \u001b[39m \u001b[39m \u001b[39m▁\n",
       "  \u001b[39m█\u001b[39m█\u001b[39m█\u001b[34m█\u001b[39m\u001b[39m█\u001b[39m█\u001b[39m█\u001b[39m█\u001b[39m█\u001b[39m█\u001b[39m█\u001b[32m█\u001b[39m\u001b[39m█\u001b[39m█\u001b[39m█\u001b[39m█\u001b[39m█\u001b[39m█\u001b[39m█\u001b[39m█\u001b[39m█\u001b[39m█\u001b[39m█\u001b[39m█\u001b[39m█\u001b[39m█\u001b[39m█\u001b[39m█\u001b[39m█\u001b[39m█\u001b[39m█\u001b[39m█\u001b[39m█\u001b[39m█\u001b[39m█\u001b[39m█\u001b[39m█\u001b[39m▇\u001b[39m▇\u001b[39m█\u001b[39m▇\u001b[39m▇\u001b[39m▆\u001b[39m▆\u001b[39m▆\u001b[39m▇\u001b[39m▇\u001b[39m▆\u001b[39m▆\u001b[39m▅\u001b[39m▅\u001b[39m▃\u001b[39m▅\u001b[39m▅\u001b[39m▅\u001b[39m▅\u001b[39m▅\u001b[39m▆\u001b[39m▅\u001b[39m▆\u001b[39m \u001b[39m█\n",
       "  936 μs\u001b[90m        \u001b[39m\u001b[90mHistogram: \u001b[39m\u001b[90m\u001b[1mlog(\u001b[22m\u001b[39m\u001b[90mfrequency\u001b[39m\u001b[90m\u001b[1m)\u001b[22m\u001b[39m\u001b[90m by time\u001b[39m       988 μs \u001b[0m\u001b[1m<\u001b[22m\n",
       "\n",
       " Memory estimate\u001b[90m: \u001b[39m\u001b[33m0 bytes\u001b[39m, allocs estimate\u001b[90m: \u001b[39m\u001b[33m0\u001b[39m."
      ]
     },
     "metadata": {},
     "output_type": "display_data"
    }
   ],
   "source": [
    "j_bench_julia = @benchmark pi_julia($N)"
   ]
  },
  {
   "cell_type": "code",
   "execution_count": 85,
   "metadata": {},
   "outputs": [
    {
     "data": {
      "text/plain": [
       "pi_julia_simd (generic function with 1 method)"
      ]
     },
     "metadata": {},
     "output_type": "display_data"
    }
   ],
   "source": [
    "function pi_julia_simd(N)   \n",
    "    pi = 0.0 # s = zero(eltype(A))\n",
    "     @simd for i in range(0,N)\n",
    "        pi += 4.0 * (1.0 - (i % 2) * 2.0) / (2.0 * i + 1.0)\n",
    "    end\n",
    "    return pi\n",
    "end"
   ]
  },
  {
   "cell_type": "code",
   "execution_count": 86,
   "metadata": {},
   "outputs": [
    {
     "data": {
      "text/plain": [
       "BenchmarkTools.Trial: 7948 samples with 1 evaluation.\n",
       " Range \u001b[90m(\u001b[39m\u001b[36m\u001b[1mmin\u001b[22m\u001b[39m … \u001b[35mmax\u001b[39m\u001b[90m):  \u001b[39m\u001b[36m\u001b[1m621.083 μs\u001b[22m\u001b[39m … \u001b[35m722.083 μs\u001b[39m  \u001b[90m┊\u001b[39m GC \u001b[90m(\u001b[39mmin … max\u001b[90m): \u001b[39m0.00% … 0.00%\n",
       " Time  \u001b[90m(\u001b[39m\u001b[34m\u001b[1mmedian\u001b[22m\u001b[39m\u001b[90m):     \u001b[39m\u001b[34m\u001b[1m624.042 μs               \u001b[22m\u001b[39m\u001b[90m┊\u001b[39m GC \u001b[90m(\u001b[39mmedian\u001b[90m):    \u001b[39m0.00%\n",
       " Time  \u001b[90m(\u001b[39m\u001b[32m\u001b[1mmean\u001b[22m\u001b[39m ± \u001b[32mσ\u001b[39m\u001b[90m):   \u001b[39m\u001b[32m\u001b[1m627.767 μs\u001b[22m\u001b[39m ± \u001b[32m  9.655 μs\u001b[39m  \u001b[90m┊\u001b[39m GC \u001b[90m(\u001b[39mmean ± σ\u001b[90m):  \u001b[39m0.00% ± 0.00%\n",
       "\n",
       "  \u001b[39m█\u001b[39m▁\u001b[39m▁\u001b[39m▁\u001b[39m▆\u001b[34m▃\u001b[39m\u001b[39m \u001b[39m▁\u001b[39m▂\u001b[39m▁\u001b[39m \u001b[32m▁\u001b[39m\u001b[39m▁\u001b[39m▁\u001b[39m▁\u001b[39m▁\u001b[39m▂\u001b[39m▂\u001b[39m▁\u001b[39m▁\u001b[39m▁\u001b[39m▁\u001b[39m▁\u001b[39m▁\u001b[39m \u001b[39m▁\u001b[39m▁\u001b[39m \u001b[39m \u001b[39m \u001b[39m \u001b[39m \u001b[39m \u001b[39m \u001b[39m \u001b[39m \u001b[39m \u001b[39m \u001b[39m \u001b[39m \u001b[39m \u001b[39m \u001b[39m \u001b[39m \u001b[39m \u001b[39m \u001b[39m \u001b[39m \u001b[39m \u001b[39m \u001b[39m \u001b[39m \u001b[39m \u001b[39m \u001b[39m \u001b[39m \u001b[39m \u001b[39m \u001b[39m \u001b[39m \u001b[39m \u001b[39m \u001b[39m▁\n",
       "  \u001b[39m█\u001b[39m█\u001b[39m█\u001b[39m█\u001b[39m█\u001b[34m█\u001b[39m\u001b[39m█\u001b[39m█\u001b[39m█\u001b[39m█\u001b[39m█\u001b[32m█\u001b[39m\u001b[39m█\u001b[39m█\u001b[39m█\u001b[39m█\u001b[39m█\u001b[39m█\u001b[39m█\u001b[39m█\u001b[39m█\u001b[39m█\u001b[39m█\u001b[39m█\u001b[39m█\u001b[39m█\u001b[39m█\u001b[39m█\u001b[39m█\u001b[39m█\u001b[39m▇\u001b[39m▇\u001b[39m█\u001b[39m▇\u001b[39m█\u001b[39m█\u001b[39m█\u001b[39m█\u001b[39m▇\u001b[39m█\u001b[39m█\u001b[39m█\u001b[39m█\u001b[39m█\u001b[39m▇\u001b[39m█\u001b[39m█\u001b[39m▇\u001b[39m▇\u001b[39m▆\u001b[39m▇\u001b[39m▆\u001b[39m▆\u001b[39m▆\u001b[39m▆\u001b[39m▆\u001b[39m▅\u001b[39m▅\u001b[39m▅\u001b[39m▅\u001b[39m▆\u001b[39m \u001b[39m█\n",
       "  621 μs\u001b[90m        \u001b[39m\u001b[90mHistogram: \u001b[39m\u001b[90m\u001b[1mlog(\u001b[22m\u001b[39m\u001b[90mfrequency\u001b[39m\u001b[90m\u001b[1m)\u001b[22m\u001b[39m\u001b[90m by time\u001b[39m        660 μs \u001b[0m\u001b[1m<\u001b[22m\n",
       "\n",
       " Memory estimate\u001b[90m: \u001b[39m\u001b[33m0 bytes\u001b[39m, allocs estimate\u001b[90m: \u001b[39m\u001b[33m0\u001b[39m."
      ]
     },
     "metadata": {},
     "output_type": "display_data"
    }
   ],
   "source": [
    "j_bench_julia_simd = @benchmark pi_julia_simd($N)"
   ]
  }
 ],
 "metadata": {
  "anaconda-cloud": {},
  "kernelspec": {
   "display_name": "Julia 1.9.2",
   "language": "julia",
   "name": "julia-1.9"
  },
  "language_info": {
   "file_extension": ".jl",
   "mimetype": "application/julia",
   "name": "julia",
   "version": "1.9.2"
  },
  "toc": {
   "colors": {
    "hover_highlight": "#DAA520",
    "running_highlight": "#FF0000",
    "selected_highlight": "#FFD700"
   },
   "moveMenuLeft": true,
   "nav_menu": {
    "height": "212px",
    "width": "252px"
   },
   "navigate_menu": true,
   "number_sections": true,
   "sideBar": true,
   "threshold": "2",
   "toc_cell": false,
   "toc_section_display": "block",
   "toc_window_display": false
  }
 },
 "nbformat": 4,
 "nbformat_minor": 2
}
