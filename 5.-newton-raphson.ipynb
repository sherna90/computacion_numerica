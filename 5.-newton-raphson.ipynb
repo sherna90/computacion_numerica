{
 "cells": [
  {
   "cell_type": "markdown",
   "id": "704594cc",
   "metadata": {},
   "source": [
    "# Raices de funciones\n",
    "\n",
    "En muchos problemas buscamos conocer el valor $\\hat x$ que cumple la condición $f(\\hat x)=0$. Este valor se le llama la raiz o cero de la función $f(x)$.\n",
    "\n",
    "Podemos usar métodos iterativos para aproximar el error absoluto $\\vert f(\\hat x)-0 \\vert <= \\varepsilon$, para una tolerancia dada $\\varepsilon$.\n",
    "\n",
    "Los métodos iterativos van a construir una secuencia de valores $x_i \\mapsto \\hat x$ tal que $i=1 \\ldots n$ siendo $n$ la cantidad total de iteraciones."
   ]
  },
  {
   "cell_type": "markdown",
   "id": "b68f82f0",
   "metadata": {},
   "source": [
    "## Método de Newton\n",
    "\n",
    "Este método utiliza una expansi\\'on de Taylor de primer orden para encontrar raices. Si $f(x)$ es continua en el intervalo $[a,b]$, entonces repetimos la siguiente iteraci\\'on:\n",
    "\n",
    "\n",
    "1.- $x_{n+1} = x_n - \\frac{f(x_n)}{f'(x_n)}.$ \n",
    "\n",
    "2.- Continuar\n",
    "    \n"
   ]
  },
  {
   "cell_type": "code",
   "execution_count": 2,
   "id": "72a3bf4e",
   "metadata": {},
   "outputs": [
    {
     "data": {
      "text/plain": [
       "newton_raphson (generic function with 1 method)"
      ]
     },
     "metadata": {},
     "output_type": "display_data"
    }
   ],
   "source": [
    "function newton_raphson(f::Function,df::Function,a,eps,N)\n",
    "    n=1\n",
    "    x=0. \n",
    "    x_old=a\n",
    "    while n<=N\n",
    "        x=x_old-f(x_old)/df(x_old)\n",
    "        y=f(x)\n",
    "        if f(x)==0 || abs(x-x_old)<eps\n",
    "            return y,x,n\n",
    "        end\n",
    "        x_old=x\n",
    "        n=n+1 \n",
    "    end\n",
    "    println(\"Method did not converge. The last iteration gives $x with\n",
    "    function value $f(x)\")\n",
    "end\n",
    "            "
   ]
  },
  {
   "cell_type": "code",
   "execution_count": 5,
   "id": "082e6e76",
   "metadata": {},
   "outputs": [
    {
     "name": "stdout",
     "output_type": "stream",
     "text": [
      "El valor de x es -0.4364131329990945, iteraciones : 5"
     ]
    }
   ],
   "source": [
    "f(x)=x^5+2x^3-5x-2\n",
    "df(x)=5x^4+6x^2-5\n",
    "y,x,n=newton_raphson(f,df,0,eps(),20)\n",
    "print(\"El valor de x es $x, iteraciones : $n\")"
   ]
  },
  {
   "cell_type": "code",
   "execution_count": 6,
   "id": "227ad9b0",
   "metadata": {},
   "outputs": [
    {
     "name": "stdout",
     "output_type": "stream",
     "text": [
      "error absoluto : 0.0"
     ]
    }
   ],
   "source": [
    "err=abs(f(x))\n",
    "print(\"error absoluto : $err\")"
   ]
  },
  {
   "cell_type": "code",
   "execution_count": 7,
   "id": "dc08de14",
   "metadata": {},
   "outputs": [
    {
     "name": "stderr",
     "output_type": "stream",
     "text": [
      "\u001b[32m\u001b[1m    Updating\u001b[22m\u001b[39m registry at `~/.julia/registries/General.toml`\n"
     ]
    },
    {
     "name": "stderr",
     "output_type": "stream",
     "text": [
      "\u001b[32m\u001b[1m   Resolving\u001b[22m\u001b[39m package versions...\n"
     ]
    },
    {
     "name": "stderr",
     "output_type": "stream",
     "text": [
      "\u001b[32m\u001b[1m  No Changes\u001b[22m\u001b[39m to `~/.julia/environments/v1.7/Project.toml`\n",
      "\u001b[32m\u001b[1m  No Changes\u001b[22m\u001b[39m to `~/.julia/environments/v1.7/Manifest.toml`\n"
     ]
    }
   ],
   "source": [
    "using Pkg;\n",
    "\n",
    "Pkg.add(\"Roots\");"
   ]
  },
  {
   "cell_type": "code",
   "execution_count": 8,
   "id": "02ab6ee2",
   "metadata": {},
   "outputs": [
    {
     "data": {
      "text/plain": [
       "-0.4364131329990945"
      ]
     },
     "metadata": {},
     "output_type": "display_data"
    }
   ],
   "source": [
    "using Roots;\n",
    "\n",
    "x_r=find_zero((f,df),0, Roots.Newton())"
   ]
  },
  {
   "cell_type": "code",
   "execution_count": 10,
   "id": "266bd81b",
   "metadata": {},
   "outputs": [
    {
     "data": {
      "text/plain": [
       "true"
      ]
     },
     "metadata": {},
     "output_type": "display_data"
    }
   ],
   "source": [
    "x==x_r"
   ]
  },
  {
   "cell_type": "code",
   "execution_count": 14,
   "id": "94d373c7",
   "metadata": {},
   "outputs": [
    {
     "data": {
      "image/png": "[encoded data removed]",
      "image/svg+xml": "<?xml version=\"1.0\" encoding=\"utf-8\"?>\n<svg xmlns=\"http://www.w3.org/2000/svg\" xmlns:xlink=\"http://www.w3.org/1999/xlink\" width=\"600\" height=\"400\" viewBox=\"0 0 2400 1600\">\n<defs>\n  <clipPath id=\"clip130\">\n    <rect x=\"0\" y=\"0\" width=\"2400\" height=\"1600\"/>\n  </clipPath>\n</defs>\n<path clip-path=\"url(#clip130)\" d=\"\nM0 1600 L2400 1600 L2400 0 L0 0  Z\n  \" fill=\"#ffffff\" fill-rule=\"evenodd\" fill-opacity=\"1\"/>\n<defs>\n  <clipPath id=\"clip131\">\n    <rect x=\"480\" y=\"0\" width=\"1681\" height=\"1600\"/>\n  </clipPath>\n</defs>\n<path clip-path=\"url(#clip130)\" d=\"\nM140.696 1486.45 L2352.76 1486.45 L2352.76 47.2441 L140.696 47.2441  Z\n  \" fill=\"#ffffff\" fill-rule=\"evenodd\" fill-opacity=\"1\"/>\n<defs>\n  <clipPath id=\"clip132\">\n    <rect x=\"140\" y=\"47\" width=\"2213\" height=\"1440\"/>\n  </clipPath>\n</defs>\n<polyline clip-path=\"url(#clip132)\" style=\"stroke:#000000; stroke-linecap:butt; stroke-linejoin:round; stroke-width:2; stroke-opacity:0.1; fill:none\" points=\"\n  203.301,1486.45 203.301,47.2441 \n  \"/>\n<polyline clip-path=\"url(#clip132)\" style=\"stroke:#000000; stroke-linecap:butt; stroke-linejoin:round; stroke-width:2; stroke-opacity:0.1; fill:none\" points=\"\n  725.013,1486.45 725.013,47.2441 \n  \"/>\n<polyline clip-path=\"url(#clip132)\" style=\"stroke:#000000; stroke-linecap:butt; stroke-linejoin:round; stroke-width:2; stroke-opacity:0.1; fill:none\" points=\"\n  1246.73,1486.45 1246.73,47.2441 \n  \"/>\n<polyline clip-path=\"url(#clip132)\" style=\"stroke:#000000; stroke-linecap:butt; stroke-linejoin:round; stroke-width:2; stroke-opacity:0.1; fill:none\" points=\"\n  1768.44,1486.45 1768.44,47.2441 \n  \"/>\n<polyline clip-path=\"url(#clip132)\" style=\"stroke:#000000; stroke-linecap:butt; stroke-linejoin:round; stroke-width:2; stroke-opacity:0.1; fill:none\" points=\"\n  2290.15,1486.45 2290.15,47.2441 \n  \"/>\n<polyline clip-path=\"url(#clip130)\" style=\"stroke:#000000; stroke-linecap:butt; stroke-linejoin:round; stroke-width:4; stroke-opacity:1; fill:none\" points=\"\n  140.696,1486.45 2352.76,1486.45 \n  \"/>\n<polyline clip-path=\"url(#clip130)\" style=\"stroke:#000000; stroke-linecap:butt; stroke-linejoin:round; stroke-width:4; stroke-opacity:1; fill:none\" points=\"\n  203.301,1486.45 203.301,1467.55 \n  \"/>\n<polyline clip-path=\"url(#clip130)\" style=\"stroke:#000000; stroke-linecap:butt; stroke-linejoin:round; stroke-width:4; stroke-opacity:1; fill:none\" points=\"\n  725.013,1486.45 725.013,1467.55 \n  \"/>\n<polyline clip-path=\"url(#clip130)\" style=\"stroke:#000000; stroke-linecap:butt; stroke-linejoin:round; stroke-width:4; stroke-opacity:1; fill:none\" points=\"\n  1246.73,1486.45 1246.73,1467.55 \n  \"/>\n<polyline clip-path=\"url(#clip130)\" style=\"stroke:#000000; stroke-linecap:butt; stroke-linejoin:round; stroke-width:4; stroke-opacity:1; fill:none\" points=\"\n  1768.44,1486.45 1768.44,1467.55 \n  \"/>\n<polyline clip-path=\"url(#clip130)\" style=\"stroke:#000000; stroke-linecap:butt; stroke-linejoin:round; stroke-width:4; stroke-opacity:1; fill:none\" points=\"\n  2290.15,1486.45 2290.15,1467.55 \n  \"/>\n<path clip-path=\"url(#clip130)\" d=\"M180.685 1517.37 Q177.074 1517.37 175.246 1520.93 Q173.44 1524.47 173.44 1531.6 Q173.44 1538.71 175.246 1542.27 Q177.074 1545.82 180.685 1545.82 Q184.32 1545.82 186.125 1542.27 Q187.954 1538.71 187.954 1531.6 Q187.954 1524.47 186.125 1520.93 Q184.32 1517.37 180.685 1517.37 M180.685 1513.66 Q186.496 1513.66 189.551 1518.27 Q192.63 1522.85 192.63 1531.6 Q192.63 1540.33 189.551 1544.94 Q186.496 1549.52 180.685 1549.52 Q174.875 1549.52 171.797 1544.94 Q168.741 1540.33 168.741 1531.6 Q168.741 1522.85 171.797 1518.27 Q174.875 1513.66 180.685 1513.66 Z\" fill=\"#000000\" fill-rule=\"evenodd\" fill-opacity=\"1\" /><path clip-path=\"url(#clip130)\" d=\"M200.847 1542.97 L205.732 1542.97 L205.732 1548.85 L200.847 1548.85 L200.847 1542.97 Z\" fill=\"#000000\" fill-rule=\"evenodd\" fill-opacity=\"1\" /><path clip-path=\"url(#clip130)\" d=\"M225.917 1517.37 Q222.306 1517.37 220.477 1520.93 Q218.671 1524.47 218.671 1531.6 Q218.671 1538.71 220.477 1542.27 Q222.306 1545.82 225.917 1545.82 Q229.551 1545.82 231.356 1542.27 Q233.185 1538.71 233.185 1531.6 Q233.185 1524.47 231.356 1520.93 Q229.551 1517.37 225.917 1517.37 M225.917 1513.66 Q231.727 1513.66 234.782 1518.27 Q237.861 1522.85 237.861 1531.6 Q237.861 1540.33 234.782 1544.94 Q231.727 1549.52 225.917 1549.52 Q220.106 1549.52 217.028 1544.94 Q213.972 1540.33 213.972 1531.6 Q213.972 1522.85 217.028 1518.27 Q220.106 1513.66 225.917 1513.66 Z\" fill=\"#000000\" fill-rule=\"evenodd\" fill-opacity=\"1\" /><path clip-path=\"url(#clip130)\" d=\"M702.895 1517.37 Q699.284 1517.37 697.456 1520.93 Q695.65 1524.47 695.65 1531.6 Q695.65 1538.71 697.456 1542.27 Q699.284 1545.82 702.895 1545.82 Q706.53 1545.82 708.335 1542.27 Q710.164 1538.71 710.164 1531.6 Q710.164 1524.47 708.335 1520.93 Q706.53 1517.37 702.895 1517.37 M702.895 1513.66 Q708.706 1513.66 711.761 1518.27 Q714.84 1522.85 714.84 1531.6 Q714.84 1540.33 711.761 1544.94 Q708.706 1549.52 702.895 1549.52 Q697.085 1549.52 694.007 1544.94 Q690.951 1540.33 690.951 1531.6 Q690.951 1522.85 694.007 1518.27 Q697.085 1513.66 702.895 1513.66 Z\" fill=\"#000000\" fill-rule=\"evenodd\" fill-opacity=\"1\" /><path clip-path=\"url(#clip130)\" d=\"M723.057 1542.97 L727.942 1542.97 L727.942 1548.85 L723.057 1548.85 L723.057 1542.97 Z\" fill=\"#000000\" fill-rule=\"evenodd\" fill-opacity=\"1\" /><path clip-path=\"url(#clip130)\" d=\"M738.173 1514.29 L756.529 1514.29 L756.529 1518.22 L742.455 1518.22 L742.455 1526.7 Q743.474 1526.35 744.492 1526.19 Q745.511 1526 746.529 1526 Q752.316 1526 755.696 1529.17 Q759.076 1532.34 759.076 1537.76 Q759.076 1543.34 755.603 1546.44 Q752.131 1549.52 745.812 1549.52 Q743.636 1549.52 741.367 1549.15 Q739.122 1548.78 736.715 1548.04 L736.715 1543.34 Q738.798 1544.47 741.02 1545.03 Q743.242 1545.58 745.719 1545.58 Q749.724 1545.58 752.062 1543.48 Q754.4 1541.37 754.4 1537.76 Q754.4 1534.15 752.062 1532.04 Q749.724 1529.94 745.719 1529.94 Q743.844 1529.94 741.969 1530.35 Q740.117 1530.77 738.173 1531.65 L738.173 1514.29 Z\" fill=\"#000000\" fill-rule=\"evenodd\" fill-opacity=\"1\" /><path clip-path=\"url(#clip130)\" d=\"M1213.88 1544.91 L1221.52 1544.91 L1221.52 1518.55 L1213.21 1520.21 L1213.21 1515.95 L1221.47 1514.29 L1226.15 1514.29 L1226.15 1544.91 L1233.79 1544.91 L1233.79 1548.85 L1213.88 1548.85 L1213.88 1544.91 Z\" fill=\"#000000\" fill-rule=\"evenodd\" fill-opacity=\"1\" /><path clip-path=\"url(#clip130)\" d=\"M1243.23 1542.97 L1248.11 1542.97 L1248.11 1548.85 L1243.23 1548.85 L1243.23 1542.97 Z\" fill=\"#000000\" fill-rule=\"evenodd\" fill-opacity=\"1\" /><path clip-path=\"url(#clip130)\" d=\"M1268.3 1517.37 Q1264.69 1517.37 1262.86 1520.93 Q1261.05 1524.47 1261.05 1531.6 Q1261.05 1538.71 1262.86 1542.27 Q1264.69 1545.82 1268.3 1545.82 Q1271.93 1545.82 1273.74 1542.27 Q1275.57 1538.71 1275.57 1531.6 Q1275.57 1524.47 1273.74 1520.93 Q1271.93 1517.37 1268.3 1517.37 M1268.3 1513.66 Q1274.11 1513.66 1277.17 1518.27 Q1280.24 1522.85 1280.24 1531.6 Q1280.24 1540.33 1277.17 1544.94 Q1274.11 1549.52 1268.3 1549.52 Q1262.49 1549.52 1259.41 1544.94 Q1256.36 1540.33 1256.36 1531.6 Q1256.36 1522.85 1259.41 1518.27 Q1262.49 1513.66 1268.3 1513.66 Z\" fill=\"#000000\" fill-rule=\"evenodd\" fill-opacity=\"1\" /><path clip-path=\"url(#clip130)\" d=\"M1736.09 1544.91 L1743.73 1544.91 L1743.73 1518.55 L1735.42 1520.21 L1735.42 1515.95 L1743.68 1514.29 L1748.36 1514.29 L1748.36 1544.91 L1756 1544.91 L1756 1548.85 L1736.09 1548.85 L1736.09 1544.91 Z\" fill=\"#000000\" fill-rule=\"evenodd\" fill-opacity=\"1\" /><path clip-path=\"url(#clip130)\" d=\"M1765.44 1542.97 L1770.32 1542.97 L1770.32 1548.85 L1765.44 1548.85 L1765.44 1542.97 Z\" fill=\"#000000\" fill-rule=\"evenodd\" fill-opacity=\"1\" /><path clip-path=\"url(#clip130)\" d=\"M1780.56 1514.29 L1798.91 1514.29 L1798.91 1518.22 L1784.84 1518.22 L1784.84 1526.7 Q1785.86 1526.35 1786.88 1526.19 Q1787.89 1526 1788.91 1526 Q1794.7 1526 1798.08 1529.17 Q1801.46 1532.34 1801.46 1537.76 Q1801.46 1543.34 1797.99 1546.44 Q1794.51 1549.52 1788.19 1549.52 Q1786.02 1549.52 1783.75 1549.15 Q1781.51 1548.78 1779.1 1548.04 L1779.1 1543.34 Q1781.18 1544.47 1783.4 1545.03 Q1785.63 1545.58 1788.1 1545.58 Q1792.11 1545.58 1794.44 1543.48 Q1796.78 1541.37 1796.78 1537.76 Q1796.78 1534.15 1794.44 1532.04 Q1792.11 1529.94 1788.1 1529.94 Q1786.23 1529.94 1784.35 1530.35 Q1782.5 1530.77 1780.56 1531.65 L1780.56 1514.29 Z\" fill=\"#000000\" fill-rule=\"evenodd\" fill-opacity=\"1\" /><path clip-path=\"url(#clip130)\" d=\"M2261.39 1544.91 L2277.71 1544.91 L2277.71 1548.85 L2255.76 1548.85 L2255.76 1544.91 Q2258.43 1542.16 2263.01 1537.53 Q2267.62 1532.88 2268.8 1531.53 Q2271.04 1529.01 2271.92 1527.27 Q2272.82 1525.51 2272.82 1523.82 Q2272.82 1521.07 2270.88 1519.33 Q2268.96 1517.6 2265.86 1517.6 Q2263.66 1517.6 2261.2 1518.36 Q2258.77 1519.13 2256 1520.68 L2256 1515.95 Q2258.82 1514.82 2261.27 1514.24 Q2263.73 1513.66 2265.76 1513.66 Q2271.13 1513.66 2274.33 1516.35 Q2277.52 1519.03 2277.52 1523.52 Q2277.52 1525.65 2276.71 1527.57 Q2275.93 1529.47 2273.82 1532.07 Q2273.24 1532.74 2270.14 1535.95 Q2267.04 1539.15 2261.39 1544.91 Z\" fill=\"#000000\" fill-rule=\"evenodd\" fill-opacity=\"1\" /><path clip-path=\"url(#clip130)\" d=\"M2287.52 1542.97 L2292.41 1542.97 L2292.41 1548.85 L2287.52 1548.85 L2287.52 1542.97 Z\" fill=\"#000000\" fill-rule=\"evenodd\" fill-opacity=\"1\" /><path clip-path=\"url(#clip130)\" d=\"M2312.59 1517.37 Q2308.98 1517.37 2307.15 1520.93 Q2305.35 1524.47 2305.35 1531.6 Q2305.35 1538.71 2307.15 1542.27 Q2308.98 1545.82 2312.59 1545.82 Q2316.23 1545.82 2318.03 1542.27 Q2319.86 1538.71 2319.86 1531.6 Q2319.86 1524.47 2318.03 1520.93 Q2316.23 1517.37 2312.59 1517.37 M2312.59 1513.66 Q2318.4 1513.66 2321.46 1518.27 Q2324.54 1522.85 2324.54 1531.6 Q2324.54 1540.33 2321.46 1544.94 Q2318.4 1549.52 2312.59 1549.52 Q2306.78 1549.52 2303.7 1544.94 Q2300.65 1540.33 2300.65 1531.6 Q2300.65 1522.85 2303.7 1518.27 Q2306.78 1513.66 2312.59 1513.66 Z\" fill=\"#000000\" fill-rule=\"evenodd\" fill-opacity=\"1\" /><polyline clip-path=\"url(#clip132)\" style=\"stroke:#000000; stroke-linecap:butt; stroke-linejoin:round; stroke-width:2; stroke-opacity:0.1; fill:none\" points=\"\n  140.696,1290.45 2352.76,1290.45 \n  \"/>\n<polyline clip-path=\"url(#clip132)\" style=\"stroke:#000000; stroke-linecap:butt; stroke-linejoin:round; stroke-width:2; stroke-opacity:0.1; fill:none\" points=\"\n  140.696,956.431 2352.76,956.431 \n  \"/>\n<polyline clip-path=\"url(#clip132)\" style=\"stroke:#000000; stroke-linecap:butt; stroke-linejoin:round; stroke-width:2; stroke-opacity:0.1; fill:none\" points=\"\n  140.696,622.41 2352.76,622.41 \n  \"/>\n<polyline clip-path=\"url(#clip132)\" style=\"stroke:#000000; stroke-linecap:butt; stroke-linejoin:round; stroke-width:2; stroke-opacity:0.1; fill:none\" points=\"\n  140.696,288.389 2352.76,288.389 \n  \"/>\n<polyline clip-path=\"url(#clip130)\" style=\"stroke:#000000; stroke-linecap:butt; stroke-linejoin:round; stroke-width:4; stroke-opacity:1; fill:none\" points=\"\n  140.696,1486.45 140.696,47.2441 \n  \"/>\n<polyline clip-path=\"url(#clip130)\" style=\"stroke:#000000; stroke-linecap:butt; stroke-linejoin:round; stroke-width:4; stroke-opacity:1; fill:none\" points=\"\n  140.696,1290.45 159.593,1290.45 \n  \"/>\n<polyline clip-path=\"url(#clip130)\" style=\"stroke:#000000; stroke-linecap:butt; stroke-linejoin:round; stroke-width:4; stroke-opacity:1; fill:none\" points=\"\n  140.696,956.431 159.593,956.431 \n  \"/>\n<polyline clip-path=\"url(#clip130)\" style=\"stroke:#000000; stroke-linecap:butt; stroke-linejoin:round; stroke-width:4; stroke-opacity:1; fill:none\" points=\"\n  140.696,622.41 159.593,622.41 \n  \"/>\n<polyline clip-path=\"url(#clip130)\" style=\"stroke:#000000; stroke-linecap:butt; stroke-linejoin:round; stroke-width:4; stroke-opacity:1; fill:none\" points=\"\n  140.696,288.389 159.593,288.389 \n  \"/>\n<path clip-path=\"url(#clip130)\" d=\"M92.7512 1276.25 Q89.1401 1276.25 87.3114 1279.82 Q85.5058 1283.36 85.5058 1290.49 Q85.5058 1297.59 87.3114 1301.16 Q89.1401 1304.7 92.7512 1304.7 Q96.3854 1304.7 98.1909 1301.16 Q100.02 1297.59 100.02 1290.49 Q100.02 1283.36 98.1909 1279.82 Q96.3854 1276.25 92.7512 1276.25 M92.7512 1272.55 Q98.5613 1272.55 101.617 1277.15 Q104.696 1281.74 104.696 1290.49 Q104.696 1299.21 101.617 1303.82 Q98.5613 1308.4 92.7512 1308.4 Q86.941 1308.4 83.8623 1303.82 Q80.8068 1299.21 80.8068 1290.49 Q80.8068 1281.74 83.8623 1277.15 Q86.941 1272.55 92.7512 1272.55 Z\" fill=\"#000000\" fill-rule=\"evenodd\" fill-opacity=\"1\" /><path clip-path=\"url(#clip130)\" d=\"M53.3995 969.776 L61.0384 969.776 L61.0384 943.41 L52.7282 945.077 L52.7282 940.818 L60.9921 939.151 L65.668 939.151 L65.668 969.776 L73.3068 969.776 L73.3068 973.711 L53.3995 973.711 L53.3995 969.776 Z\" fill=\"#000000\" fill-rule=\"evenodd\" fill-opacity=\"1\" /><path clip-path=\"url(#clip130)\" d=\"M92.7512 942.23 Q89.1401 942.23 87.3114 945.794 Q85.5058 949.336 85.5058 956.466 Q85.5058 963.572 87.3114 967.137 Q89.1401 970.679 92.7512 970.679 Q96.3854 970.679 98.1909 967.137 Q100.02 963.572 100.02 956.466 Q100.02 949.336 98.1909 945.794 Q96.3854 942.23 92.7512 942.23 M92.7512 938.526 Q98.5613 938.526 101.617 943.132 Q104.696 947.716 104.696 956.466 Q104.696 965.193 101.617 969.799 Q98.5613 974.382 92.7512 974.382 Q86.941 974.382 83.8623 969.799 Q80.8068 965.193 80.8068 956.466 Q80.8068 947.716 83.8623 943.132 Q86.941 938.526 92.7512 938.526 Z\" fill=\"#000000\" fill-rule=\"evenodd\" fill-opacity=\"1\" /><path clip-path=\"url(#clip130)\" d=\"M56.6171 635.755 L72.9365 635.755 L72.9365 639.69 L50.9921 639.69 L50.9921 635.755 Q53.6541 633 58.2375 628.371 Q62.8439 623.718 64.0245 622.375 Q66.2698 619.852 67.1494 618.116 Q68.0522 616.357 68.0522 614.667 Q68.0522 611.912 66.1078 610.176 Q64.1865 608.44 61.0847 608.44 Q58.8856 608.44 56.4319 609.204 Q54.0014 609.968 51.2236 611.519 L51.2236 606.797 Q54.0477 605.662 56.5014 605.084 Q58.955 604.505 60.9921 604.505 Q66.3624 604.505 69.5568 607.19 Q72.7513 609.875 72.7513 614.366 Q72.7513 616.496 71.9411 618.417 Q71.1541 620.315 69.0476 622.908 Q68.4689 623.579 65.367 626.796 Q62.2652 629.991 56.6171 635.755 Z\" fill=\"#000000\" fill-rule=\"evenodd\" fill-opacity=\"1\" /><path clip-path=\"url(#clip130)\" d=\"M92.7512 608.209 Q89.1401 608.209 87.3114 611.773 Q85.5058 615.315 85.5058 622.445 Q85.5058 629.551 87.3114 633.116 Q89.1401 636.658 92.7512 636.658 Q96.3854 636.658 98.1909 633.116 Q100.02 629.551 100.02 622.445 Q100.02 615.315 98.1909 611.773 Q96.3854 608.209 92.7512 608.209 M92.7512 604.505 Q98.5613 604.505 101.617 609.111 Q104.696 613.695 104.696 622.445 Q104.696 631.171 101.617 635.778 Q98.5613 640.361 92.7512 640.361 Q86.941 640.361 83.8623 635.778 Q80.8068 631.171 80.8068 622.445 Q80.8068 613.695 83.8623 609.111 Q86.941 604.505 92.7512 604.505 Z\" fill=\"#000000\" fill-rule=\"evenodd\" fill-opacity=\"1\" /><path clip-path=\"url(#clip130)\" d=\"M66.7559 287.035 Q70.1124 287.752 71.9874 290.021 Q73.8855 292.289 73.8855 295.623 Q73.8855 300.738 70.367 303.539 Q66.8485 306.34 60.3671 306.34 Q58.1912 306.34 55.8764 305.9 Q53.5847 305.484 51.131 304.627 L51.131 300.113 Q53.0754 301.248 55.3903 301.826 Q57.7051 302.405 60.2282 302.405 Q64.6263 302.405 66.918 300.669 Q69.2328 298.933 69.2328 295.623 Q69.2328 292.567 67.08 290.854 Q64.9504 289.118 61.131 289.118 L57.1032 289.118 L57.1032 285.275 L61.3161 285.275 Q64.7652 285.275 66.5939 283.91 Q68.4226 282.521 68.4226 279.928 Q68.4226 277.266 66.5245 275.854 Q64.6495 274.419 61.131 274.419 Q59.2097 274.419 57.0106 274.836 Q54.8115 275.252 52.1727 276.132 L52.1727 271.965 Q54.8347 271.225 57.1495 270.854 Q59.4875 270.484 61.5476 270.484 Q66.8717 270.484 69.9735 272.914 Q73.0753 275.322 73.0753 279.442 Q73.0753 282.313 71.4318 284.303 Q69.7883 286.271 66.7559 287.035 Z\" fill=\"#000000\" fill-rule=\"evenodd\" fill-opacity=\"1\" /><path clip-path=\"url(#clip130)\" d=\"M92.7512 274.188 Q89.1401 274.188 87.3114 277.752 Q85.5058 281.294 85.5058 288.424 Q85.5058 295.53 87.3114 299.095 Q89.1401 302.637 92.7512 302.637 Q96.3854 302.637 98.1909 299.095 Q100.02 295.53 100.02 288.424 Q100.02 281.294 98.1909 277.752 Q96.3854 274.188 92.7512 274.188 M92.7512 270.484 Q98.5613 270.484 101.617 275.09 Q104.696 279.674 104.696 288.424 Q104.696 297.15 101.617 301.757 Q98.5613 306.34 92.7512 306.34 Q86.941 306.34 83.8623 301.757 Q80.8068 297.15 80.8068 288.424 Q80.8068 279.674 83.8623 275.09 Q86.941 270.484 92.7512 270.484 Z\" fill=\"#000000\" fill-rule=\"evenodd\" fill-opacity=\"1\" /><polyline clip-path=\"url(#clip132)\" style=\"stroke:#009af9; stroke-linecap:butt; stroke-linejoin:round; stroke-width:4; stroke-opacity:1; fill:none\" points=\"\n  203.301,1357.26 307.643,1373.89 411.986,1390.11 516.328,1405.47 620.671,1419.44 725.013,1431.37 829.356,1440.44 933.698,1445.64 1038.04,1445.72 1142.38,1439.14 \n  1246.73,1424.06 1351.07,1398.26 1455.41,1359.12 1559.75,1303.58 1664.1,1228.12 1768.44,1128.66 1872.78,1000.6 1977.12,838.703 2081.47,637.118 2185.81,389.297 \n  2290.15,87.9763 \n  \"/>\n<path clip-path=\"url(#clip130)\" d=\"\nM1980.81 198.898 L2279.02 198.898 L2279.02 95.2176 L1980.81 95.2176  Z\n  \" fill=\"#ffffff\" fill-rule=\"evenodd\" fill-opacity=\"1\"/>\n<polyline clip-path=\"url(#clip130)\" style=\"stroke:#000000; stroke-linecap:butt; stroke-linejoin:round; stroke-width:4; stroke-opacity:1; fill:none\" points=\"\n  1980.81,198.898 2279.02,198.898 2279.02,95.2176 1980.81,95.2176 1980.81,198.898 \n  \"/>\n<polyline clip-path=\"url(#clip130)\" style=\"stroke:#009af9; stroke-linecap:butt; stroke-linejoin:round; stroke-width:4; stroke-opacity:1; fill:none\" points=\"\n  2005.38,147.058 2152.85,147.058 \n  \"/>\n<path clip-path=\"url(#clip130)\" d=\"M2191.28 166.745 Q2189.47 171.375 2187.76 172.787 Q2186.04 174.199 2183.17 174.199 L2179.77 174.199 L2179.77 170.634 L2182.27 170.634 Q2184.03 170.634 2185 169.8 Q2185.98 168.967 2187.16 165.865 L2187.92 163.921 L2177.43 138.412 L2181.95 138.412 L2190.05 158.689 L2198.15 138.412 L2202.66 138.412 L2191.28 166.745 Z\" fill=\"#000000\" fill-rule=\"evenodd\" fill-opacity=\"1\" /><path clip-path=\"url(#clip130)\" d=\"M2209.96 160.402 L2217.6 160.402 L2217.6 134.037 L2209.29 135.703 L2209.29 131.444 L2217.55 129.778 L2222.22 129.778 L2222.22 160.402 L2229.86 160.402 L2229.86 164.338 L2209.96 164.338 L2209.96 160.402 Z\" fill=\"#000000\" fill-rule=\"evenodd\" fill-opacity=\"1\" /></svg>\n",
      "text/html": [
       "<?xml version=\"1.0\" encoding=\"utf-8\"?>\n",
       "<svg xmlns=\"http://www.w3.org/2000/svg\" xmlns:xlink=\"http://www.w3.org/1999/xlink\" width=\"600\" height=\"400\" viewBox=\"0 0 2400 1600\">\n",
       "<defs>\n",
       "  <clipPath id=\"clip180\">\n",
       "    <rect x=\"0\" y=\"0\" width=\"2400\" height=\"1600\"/>\n",
       "  </clipPath>\n",
       "</defs>\n",
       "<path clip-path=\"url(#clip180)\" d=\"\n",
       "M0 1600 L2400 1600 L2400 0 L0 0  Z\n",
       "  \" fill=\"#ffffff\" fill-rule=\"evenodd\" fill-opacity=\"1\"/>\n",
       "<defs>\n",
       "  <clipPath id=\"clip181\">\n",
       "    <rect x=\"480\" y=\"0\" width=\"1681\" height=\"1600\"/>\n",
       "  </clipPath>\n",
       "</defs>\n",
       "<path clip-path=\"url(#clip180)\" d=\"\n",
       "M140.696 1486.45 L2352.76 1486.45 L2352.76 47.2441 L140.696 47.2441  Z\n",
       "  \" fill=\"#ffffff\" fill-rule=\"evenodd\" fill-opacity=\"1\"/>\n",
       "<defs>\n",
       "  <clipPath id=\"clip182\">\n",
       "    <rect x=\"140\" y=\"47\" width=\"2213\" height=\"1440\"/>\n",
       "  </clipPath>\n",
       "</defs>\n",
       "<polyline clip-path=\"url(#clip182)\" style=\"stroke:#000000; stroke-linecap:butt; stroke-linejoin:round; stroke-width:2; stroke-opacity:0.1; fill:none\" points=\"\n",
       "  203.301,1486.45 203.301,47.2441 \n",
       "  \"/>\n",
       "<polyline clip-path=\"url(#clip182)\" style=\"stroke:#000000; stroke-linecap:butt; stroke-linejoin:round; stroke-width:2; stroke-opacity:0.1; fill:none\" points=\"\n",
       "  725.013,1486.45 725.013,47.2441 \n",
       "  \"/>\n",
       "<polyline clip-path=\"url(#clip182)\" style=\"stroke:#000000; stroke-linecap:butt; stroke-linejoin:round; stroke-width:2; stroke-opacity:0.1; fill:none\" points=\"\n",
       "  1246.73,1486.45 1246.73,47.2441 \n",
       "  \"/>\n",
       "<polyline clip-path=\"url(#clip182)\" style=\"stroke:#000000; stroke-linecap:butt; stroke-linejoin:round; stroke-width:2; stroke-opacity:0.1; fill:none\" points=\"\n",
       "  1768.44,1486.45 1768.44,47.2441 \n",
       "  \"/>\n",
       "<polyline clip-path=\"url(#clip182)\" style=\"stroke:#000000; stroke-linecap:butt; stroke-linejoin:round; stroke-width:2; stroke-opacity:0.1; fill:none\" points=\"\n",
       "  2290.15,1486.45 2290.15,47.2441 \n",
       "  \"/>\n",
       "<polyline clip-path=\"url(#clip180)\" style=\"stroke:#000000; stroke-linecap:butt; stroke-linejoin:round; stroke-width:4; stroke-opacity:1; fill:none\" points=\"\n",
       "  140.696,1486.45 2352.76,1486.45 \n",
       "  \"/>\n",
       "<polyline clip-path=\"url(#clip180)\" style=\"stroke:#000000; stroke-linecap:butt; stroke-linejoin:round; stroke-width:4; stroke-opacity:1; fill:none\" points=\"\n",
       "  203.301,1486.45 203.301,1467.55 \n",
       "  \"/>\n",
       "<polyline clip-path=\"url(#clip180)\" style=\"stroke:#000000; stroke-linecap:butt; stroke-linejoin:round; stroke-width:4; stroke-opacity:1; fill:none\" points=\"\n",
       "  725.013,1486.45 725.013,1467.55 \n",
       "  \"/>\n",
       "<polyline clip-path=\"url(#clip180)\" style=\"stroke:#000000; stroke-linecap:butt; stroke-linejoin:round; stroke-width:4; stroke-opacity:1; fill:none\" points=\"\n",
       "  1246.73,1486.45 1246.73,1467.55 \n",
       "  \"/>\n",
       "<polyline clip-path=\"url(#clip180)\" style=\"stroke:#000000; stroke-linecap:butt; stroke-linejoin:round; stroke-width:4; stroke-opacity:1; fill:none\" points=\"\n",
       "  1768.44,1486.45 1768.44,1467.55 \n",
       "  \"/>\n",
       "<polyline clip-path=\"url(#clip180)\" style=\"stroke:#000000; stroke-linecap:butt; stroke-linejoin:round; stroke-width:4; stroke-opacity:1; fill:none\" points=\"\n",
       "  2290.15,1486.45 2290.15,1467.55 \n",
       "  \"/>\n",
       "<path clip-path=\"url(#clip180)\" d=\"M180.685 1517.37 Q177.074 1517.37 175.246 1520.93 Q173.44 1524.47 173.44 1531.6 Q173.44 1538.71 175.246 1542.27 Q177.074 1545.82 180.685 1545.82 Q184.32 1545.82 186.125 1542.27 Q187.954 1538.71 187.954 1531.6 Q187.954 1524.47 186.125 1520.93 Q184.32 1517.37 180.685 1517.37 M180.685 1513.66 Q186.496 1513.66 189.551 1518.27 Q192.63 1522.85 192.63 1531.6 Q192.63 1540.33 189.551 1544.94 Q186.496 1549.52 180.685 1549.52 Q174.875 1549.52 171.797 1544.94 Q168.741 1540.33 168.741 1531.6 Q168.741 1522.85 171.797 1518.27 Q174.875 1513.66 180.685 1513.66 Z\" fill=\"#000000\" fill-rule=\"evenodd\" fill-opacity=\"1\" /><path clip-path=\"url(#clip180)\" d=\"M200.847 1542.97 L205.732 1542.97 L205.732 1548.85 L200.847 1548.85 L200.847 1542.97 Z\" fill=\"#000000\" fill-rule=\"evenodd\" fill-opacity=\"1\" /><path clip-path=\"url(#clip180)\" d=\"M225.917 1517.37 Q222.306 1517.37 220.477 1520.93 Q218.671 1524.47 218.671 1531.6 Q218.671 1538.71 220.477 1542.27 Q222.306 1545.82 225.917 1545.82 Q229.551 1545.82 231.356 1542.27 Q233.185 1538.71 233.185 1531.6 Q233.185 1524.47 231.356 1520.93 Q229.551 1517.37 225.917 1517.37 M225.917 1513.66 Q231.727 1513.66 234.782 1518.27 Q237.861 1522.85 237.861 1531.6 Q237.861 1540.33 234.782 1544.94 Q231.727 1549.52 225.917 1549.52 Q220.106 1549.52 217.028 1544.94 Q213.972 1540.33 213.972 1531.6 Q213.972 1522.85 217.028 1518.27 Q220.106 1513.66 225.917 1513.66 Z\" fill=\"#000000\" fill-rule=\"evenodd\" fill-opacity=\"1\" /><path clip-path=\"url(#clip180)\" d=\"M702.895 1517.37 Q699.284 1517.37 697.456 1520.93 Q695.65 1524.47 695.65 1531.6 Q695.65 1538.71 697.456 1542.27 Q699.284 1545.82 702.895 1545.82 Q706.53 1545.82 708.335 1542.27 Q710.164 1538.71 710.164 1531.6 Q710.164 1524.47 708.335 1520.93 Q706.53 1517.37 702.895 1517.37 M702.895 1513.66 Q708.706 1513.66 711.761 1518.27 Q714.84 1522.85 714.84 1531.6 Q714.84 1540.33 711.761 1544.94 Q708.706 1549.52 702.895 1549.52 Q697.085 1549.52 694.007 1544.94 Q690.951 1540.33 690.951 1531.6 Q690.951 1522.85 694.007 1518.27 Q697.085 1513.66 702.895 1513.66 Z\" fill=\"#000000\" fill-rule=\"evenodd\" fill-opacity=\"1\" /><path clip-path=\"url(#clip180)\" d=\"M723.057 1542.97 L727.942 1542.97 L727.942 1548.85 L723.057 1548.85 L723.057 1542.97 Z\" fill=\"#000000\" fill-rule=\"evenodd\" fill-opacity=\"1\" /><path clip-path=\"url(#clip180)\" d=\"M738.173 1514.29 L756.529 1514.29 L756.529 1518.22 L742.455 1518.22 L742.455 1526.7 Q743.474 1526.35 744.492 1526.19 Q745.511 1526 746.529 1526 Q752.316 1526 755.696 1529.17 Q759.076 1532.34 759.076 1537.76 Q759.076 1543.34 755.603 1546.44 Q752.131 1549.52 745.812 1549.52 Q743.636 1549.52 741.367 1549.15 Q739.122 1548.78 736.715 1548.04 L736.715 1543.34 Q738.798 1544.47 741.02 1545.03 Q743.242 1545.58 745.719 1545.58 Q749.724 1545.58 752.062 1543.48 Q754.4 1541.37 754.4 1537.76 Q754.4 1534.15 752.062 1532.04 Q749.724 1529.94 745.719 1529.94 Q743.844 1529.94 741.969 1530.35 Q740.117 1530.77 738.173 1531.65 L738.173 1514.29 Z\" fill=\"#000000\" fill-rule=\"evenodd\" fill-opacity=\"1\" /><path clip-path=\"url(#clip180)\" d=\"M1213.88 1544.91 L1221.52 1544.91 L1221.52 1518.55 L1213.21 1520.21 L1213.21 1515.95 L1221.47 1514.29 L1226.15 1514.29 L1226.15 1544.91 L1233.79 1544.91 L1233.79 1548.85 L1213.88 1548.85 L1213.88 1544.91 Z\" fill=\"#000000\" fill-rule=\"evenodd\" fill-opacity=\"1\" /><path clip-path=\"url(#clip180)\" d=\"M1243.23 1542.97 L1248.11 1542.97 L1248.11 1548.85 L1243.23 1548.85 L1243.23 1542.97 Z\" fill=\"#000000\" fill-rule=\"evenodd\" fill-opacity=\"1\" /><path clip-path=\"url(#clip180)\" d=\"M1268.3 1517.37 Q1264.69 1517.37 1262.86 1520.93 Q1261.05 1524.47 1261.05 1531.6 Q1261.05 1538.71 1262.86 1542.27 Q1264.69 1545.82 1268.3 1545.82 Q1271.93 1545.82 1273.74 1542.27 Q1275.57 1538.71 1275.57 1531.6 Q1275.57 1524.47 1273.74 1520.93 Q1271.93 1517.37 1268.3 1517.37 M1268.3 1513.66 Q1274.11 1513.66 1277.17 1518.27 Q1280.24 1522.85 1280.24 1531.6 Q1280.24 1540.33 1277.17 1544.94 Q1274.11 1549.52 1268.3 1549.52 Q1262.49 1549.52 1259.41 1544.94 Q1256.36 1540.33 1256.36 1531.6 Q1256.36 1522.85 1259.41 1518.27 Q1262.49 1513.66 1268.3 1513.66 Z\" fill=\"#000000\" fill-rule=\"evenodd\" fill-opacity=\"1\" /><path clip-path=\"url(#clip180)\" d=\"M1736.09 1544.91 L1743.73 1544.91 L1743.73 1518.55 L1735.42 1520.21 L1735.42 1515.95 L1743.68 1514.29 L1748.36 1514.29 L1748.36 1544.91 L1756 1544.91 L1756 1548.85 L1736.09 1548.85 L1736.09 1544.91 Z\" fill=\"#000000\" fill-rule=\"evenodd\" fill-opacity=\"1\" /><path clip-path=\"url(#clip180)\" d=\"M1765.44 1542.97 L1770.32 1542.97 L1770.32 1548.85 L1765.44 1548.85 L1765.44 1542.97 Z\" fill=\"#000000\" fill-rule=\"evenodd\" fill-opacity=\"1\" /><path clip-path=\"url(#clip180)\" d=\"M1780.56 1514.29 L1798.91 1514.29 L1798.91 1518.22 L1784.84 1518.22 L1784.84 1526.7 Q1785.86 1526.35 1786.88 1526.19 Q1787.89 1526 1788.91 1526 Q1794.7 1526 1798.08 1529.17 Q1801.46 1532.34 1801.46 1537.76 Q1801.46 1543.34 1797.99 1546.44 Q1794.51 1549.52 1788.19 1549.52 Q1786.02 1549.52 1783.75 1549.15 Q1781.51 1548.78 1779.1 1548.04 L1779.1 1543.34 Q1781.18 1544.47 1783.4 1545.03 Q1785.63 1545.58 1788.1 1545.58 Q1792.11 1545.58 1794.44 1543.48 Q1796.78 1541.37 1796.78 1537.76 Q1796.78 1534.15 1794.44 1532.04 Q1792.11 1529.94 1788.1 1529.94 Q1786.23 1529.94 1784.35 1530.35 Q1782.5 1530.77 1780.56 1531.65 L1780.56 1514.29 Z\" fill=\"#000000\" fill-rule=\"evenodd\" fill-opacity=\"1\" /><path clip-path=\"url(#clip180)\" d=\"M2261.39 1544.91 L2277.71 1544.91 L2277.71 1548.85 L2255.76 1548.85 L2255.76 1544.91 Q2258.43 1542.16 2263.01 1537.53 Q2267.62 1532.88 2268.8 1531.53 Q2271.04 1529.01 2271.92 1527.27 Q2272.82 1525.51 2272.82 1523.82 Q2272.82 1521.07 2270.88 1519.33 Q2268.96 1517.6 2265.86 1517.6 Q2263.66 1517.6 2261.2 1518.36 Q2258.77 1519.13 2256 1520.68 L2256 1515.95 Q2258.82 1514.82 2261.27 1514.24 Q2263.73 1513.66 2265.76 1513.66 Q2271.13 1513.66 2274.33 1516.35 Q2277.52 1519.03 2277.52 1523.52 Q2277.52 1525.65 2276.71 1527.57 Q2275.93 1529.47 2273.82 1532.07 Q2273.24 1532.74 2270.14 1535.95 Q2267.04 1539.15 2261.39 1544.91 Z\" fill=\"#000000\" fill-rule=\"evenodd\" fill-opacity=\"1\" /><path clip-path=\"url(#clip180)\" d=\"M2287.52 1542.97 L2292.41 1542.97 L2292.41 1548.85 L2287.52 1548.85 L2287.52 1542.97 Z\" fill=\"#000000\" fill-rule=\"evenodd\" fill-opacity=\"1\" /><path clip-path=\"url(#clip180)\" d=\"M2312.59 1517.37 Q2308.98 1517.37 2307.15 1520.93 Q2305.35 1524.47 2305.35 1531.6 Q2305.35 1538.71 2307.15 1542.27 Q2308.98 1545.82 2312.59 1545.82 Q2316.23 1545.82 2318.03 1542.27 Q2319.86 1538.71 2319.86 1531.6 Q2319.86 1524.47 2318.03 1520.93 Q2316.23 1517.37 2312.59 1517.37 M2312.59 1513.66 Q2318.4 1513.66 2321.46 1518.27 Q2324.54 1522.85 2324.54 1531.6 Q2324.54 1540.33 2321.46 1544.94 Q2318.4 1549.52 2312.59 1549.52 Q2306.78 1549.52 2303.7 1544.94 Q2300.65 1540.33 2300.65 1531.6 Q2300.65 1522.85 2303.7 1518.27 Q2306.78 1513.66 2312.59 1513.66 Z\" fill=\"#000000\" fill-rule=\"evenodd\" fill-opacity=\"1\" /><polyline clip-path=\"url(#clip182)\" style=\"stroke:#000000; stroke-linecap:butt; stroke-linejoin:round; stroke-width:2; stroke-opacity:0.1; fill:none\" points=\"\n",
       "  140.696,1290.45 2352.76,1290.45 \n",
       "  \"/>\n",
       "<polyline clip-path=\"url(#clip182)\" style=\"stroke:#000000; stroke-linecap:butt; stroke-linejoin:round; stroke-width:2; stroke-opacity:0.1; fill:none\" points=\"\n",
       "  140.696,956.431 2352.76,956.431 \n",
       "  \"/>\n",
       "<polyline clip-path=\"url(#clip182)\" style=\"stroke:#000000; stroke-linecap:butt; stroke-linejoin:round; stroke-width:2; stroke-opacity:0.1; fill:none\" points=\"\n",
       "  140.696,622.41 2352.76,622.41 \n",
       "  \"/>\n",
       "<polyline clip-path=\"url(#clip182)\" style=\"stroke:#000000; stroke-linecap:butt; stroke-linejoin:round; stroke-width:2; stroke-opacity:0.1; fill:none\" points=\"\n",
       "  140.696,288.389 2352.76,288.389 \n",
       "  \"/>\n",
       "<polyline clip-path=\"url(#clip180)\" style=\"stroke:#000000; stroke-linecap:butt; stroke-linejoin:round; stroke-width:4; stroke-opacity:1; fill:none\" points=\"\n",
       "  140.696,1486.45 140.696,47.2441 \n",
       "  \"/>\n",
       "<polyline clip-path=\"url(#clip180)\" style=\"stroke:#000000; stroke-linecap:butt; stroke-linejoin:round; stroke-width:4; stroke-opacity:1; fill:none\" points=\"\n",
       "  140.696,1290.45 159.593,1290.45 \n",
       "  \"/>\n",
       "<polyline clip-path=\"url(#clip180)\" style=\"stroke:#000000; stroke-linecap:butt; stroke-linejoin:round; stroke-width:4; stroke-opacity:1; fill:none\" points=\"\n",
       "  140.696,956.431 159.593,956.431 \n",
       "  \"/>\n",
       "<polyline clip-path=\"url(#clip180)\" style=\"stroke:#000000; stroke-linecap:butt; stroke-linejoin:round; stroke-width:4; stroke-opacity:1; fill:none\" points=\"\n",
       "  140.696,622.41 159.593,622.41 \n",
       "  \"/>\n",
       "<polyline clip-path=\"url(#clip180)\" style=\"stroke:#000000; stroke-linecap:butt; stroke-linejoin:round; stroke-width:4; stroke-opacity:1; fill:none\" points=\"\n",
       "  140.696,288.389 159.593,288.389 \n",
       "  \"/>\n",
       "<path clip-path=\"url(#clip180)\" d=\"M92.7512 1276.25 Q89.1401 1276.25 87.3114 1279.82 Q85.5058 1283.36 85.5058 1290.49 Q85.5058 1297.59 87.3114 1301.16 Q89.1401 1304.7 92.7512 1304.7 Q96.3854 1304.7 98.1909 1301.16 Q100.02 1297.59 100.02 1290.49 Q100.02 1283.36 98.1909 1279.82 Q96.3854 1276.25 92.7512 1276.25 M92.7512 1272.55 Q98.5613 1272.55 101.617 1277.15 Q104.696 1281.74 104.696 1290.49 Q104.696 1299.21 101.617 1303.82 Q98.5613 1308.4 92.7512 1308.4 Q86.941 1308.4 83.8623 1303.82 Q80.8068 1299.21 80.8068 1290.49 Q80.8068 1281.74 83.8623 1277.15 Q86.941 1272.55 92.7512 1272.55 Z\" fill=\"#000000\" fill-rule=\"evenodd\" fill-opacity=\"1\" /><path clip-path=\"url(#clip180)\" d=\"M53.3995 969.776 L61.0384 969.776 L61.0384 943.41 L52.7282 945.077 L52.7282 940.818 L60.9921 939.151 L65.668 939.151 L65.668 969.776 L73.3068 969.776 L73.3068 973.711 L53.3995 973.711 L53.3995 969.776 Z\" fill=\"#000000\" fill-rule=\"evenodd\" fill-opacity=\"1\" /><path clip-path=\"url(#clip180)\" d=\"M92.7512 942.23 Q89.1401 942.23 87.3114 945.794 Q85.5058 949.336 85.5058 956.466 Q85.5058 963.572 87.3114 967.137 Q89.1401 970.679 92.7512 970.679 Q96.3854 970.679 98.1909 967.137 Q100.02 963.572 100.02 956.466 Q100.02 949.336 98.1909 945.794 Q96.3854 942.23 92.7512 942.23 M92.7512 938.526 Q98.5613 938.526 101.617 943.132 Q104.696 947.716 104.696 956.466 Q104.696 965.193 101.617 969.799 Q98.5613 974.382 92.7512 974.382 Q86.941 974.382 83.8623 969.799 Q80.8068 965.193 80.8068 956.466 Q80.8068 947.716 83.8623 943.132 Q86.941 938.526 92.7512 938.526 Z\" fill=\"#000000\" fill-rule=\"evenodd\" fill-opacity=\"1\" /><path clip-path=\"url(#clip180)\" d=\"M56.6171 635.755 L72.9365 635.755 L72.9365 639.69 L50.9921 639.69 L50.9921 635.755 Q53.6541 633 58.2375 628.371 Q62.8439 623.718 64.0245 622.375 Q66.2698 619.852 67.1494 618.116 Q68.0522 616.357 68.0522 614.667 Q68.0522 611.912 66.1078 610.176 Q64.1865 608.44 61.0847 608.44 Q58.8856 608.44 56.4319 609.204 Q54.0014 609.968 51.2236 611.519 L51.2236 606.797 Q54.0477 605.662 56.5014 605.084 Q58.955 604.505 60.9921 604.505 Q66.3624 604.505 69.5568 607.19 Q72.7513 609.875 72.7513 614.366 Q72.7513 616.496 71.9411 618.417 Q71.1541 620.315 69.0476 622.908 Q68.4689 623.579 65.367 626.796 Q62.2652 629.991 56.6171 635.755 Z\" fill=\"#000000\" fill-rule=\"evenodd\" fill-opacity=\"1\" /><path clip-path=\"url(#clip180)\" d=\"M92.7512 608.209 Q89.1401 608.209 87.3114 611.773 Q85.5058 615.315 85.5058 622.445 Q85.5058 629.551 87.3114 633.116 Q89.1401 636.658 92.7512 636.658 Q96.3854 636.658 98.1909 633.116 Q100.02 629.551 100.02 622.445 Q100.02 615.315 98.1909 611.773 Q96.3854 608.209 92.7512 608.209 M92.7512 604.505 Q98.5613 604.505 101.617 609.111 Q104.696 613.695 104.696 622.445 Q104.696 631.171 101.617 635.778 Q98.5613 640.361 92.7512 640.361 Q86.941 640.361 83.8623 635.778 Q80.8068 631.171 80.8068 622.445 Q80.8068 613.695 83.8623 609.111 Q86.941 604.505 92.7512 604.505 Z\" fill=\"#000000\" fill-rule=\"evenodd\" fill-opacity=\"1\" /><path clip-path=\"url(#clip180)\" d=\"M66.7559 287.035 Q70.1124 287.752 71.9874 290.021 Q73.8855 292.289 73.8855 295.623 Q73.8855 300.738 70.367 303.539 Q66.8485 306.34 60.3671 306.34 Q58.1912 306.34 55.8764 305.9 Q53.5847 305.484 51.131 304.627 L51.131 300.113 Q53.0754 301.248 55.3903 301.826 Q57.7051 302.405 60.2282 302.405 Q64.6263 302.405 66.918 300.669 Q69.2328 298.933 69.2328 295.623 Q69.2328 292.567 67.08 290.854 Q64.9504 289.118 61.131 289.118 L57.1032 289.118 L57.1032 285.275 L61.3161 285.275 Q64.7652 285.275 66.5939 283.91 Q68.4226 282.521 68.4226 279.928 Q68.4226 277.266 66.5245 275.854 Q64.6495 274.419 61.131 274.419 Q59.2097 274.419 57.0106 274.836 Q54.8115 275.252 52.1727 276.132 L52.1727 271.965 Q54.8347 271.225 57.1495 270.854 Q59.4875 270.484 61.5476 270.484 Q66.8717 270.484 69.9735 272.914 Q73.0753 275.322 73.0753 279.442 Q73.0753 282.313 71.4318 284.303 Q69.7883 286.271 66.7559 287.035 Z\" fill=\"#000000\" fill-rule=\"evenodd\" fill-opacity=\"1\" /><path clip-path=\"url(#clip180)\" d=\"M92.7512 274.188 Q89.1401 274.188 87.3114 277.752 Q85.5058 281.294 85.5058 288.424 Q85.5058 295.53 87.3114 299.095 Q89.1401 302.637 92.7512 302.637 Q96.3854 302.637 98.1909 299.095 Q100.02 295.53 100.02 288.424 Q100.02 281.294 98.1909 277.752 Q96.3854 274.188 92.7512 274.188 M92.7512 270.484 Q98.5613 270.484 101.617 275.09 Q104.696 279.674 104.696 288.424 Q104.696 297.15 101.617 301.757 Q98.5613 306.34 92.7512 306.34 Q86.941 306.34 83.8623 301.757 Q80.8068 297.15 80.8068 288.424 Q80.8068 279.674 83.8623 275.09 Q86.941 270.484 92.7512 270.484 Z\" fill=\"#000000\" fill-rule=\"evenodd\" fill-opacity=\"1\" /><polyline clip-path=\"url(#clip182)\" style=\"stroke:#009af9; stroke-linecap:butt; stroke-linejoin:round; stroke-width:4; stroke-opacity:1; fill:none\" points=\"\n",
       "  203.301,1357.26 307.643,1373.89 411.986,1390.11 516.328,1405.47 620.671,1419.44 725.013,1431.37 829.356,1440.44 933.698,1445.64 1038.04,1445.72 1142.38,1439.14 \n",
       "  1246.73,1424.06 1351.07,1398.26 1455.41,1359.12 1559.75,1303.58 1664.1,1228.12 1768.44,1128.66 1872.78,1000.6 1977.12,838.703 2081.47,637.118 2185.81,389.297 \n",
       "  2290.15,87.9763 \n",
       "  \"/>\n",
       "<path clip-path=\"url(#clip180)\" d=\"\n",
       "M1980.81 198.898 L2279.02 198.898 L2279.02 95.2176 L1980.81 95.2176  Z\n",
       "  \" fill=\"#ffffff\" fill-rule=\"evenodd\" fill-opacity=\"1\"/>\n",
       "<polyline clip-path=\"url(#clip180)\" style=\"stroke:#000000; stroke-linecap:butt; stroke-linejoin:round; stroke-width:4; stroke-opacity:1; fill:none\" points=\"\n",
       "  1980.81,198.898 2279.02,198.898 2279.02,95.2176 1980.81,95.2176 1980.81,198.898 \n",
       "  \"/>\n",
       "<polyline clip-path=\"url(#clip180)\" style=\"stroke:#009af9; stroke-linecap:butt; stroke-linejoin:round; stroke-width:4; stroke-opacity:1; fill:none\" points=\"\n",
       "  2005.38,147.058 2152.85,147.058 \n",
       "  \"/>\n",
       "<path clip-path=\"url(#clip180)\" d=\"M2191.28 166.745 Q2189.47 171.375 2187.76 172.787 Q2186.04 174.199 2183.17 174.199 L2179.77 174.199 L2179.77 170.634 L2182.27 170.634 Q2184.03 170.634 2185 169.8 Q2185.98 168.967 2187.16 165.865 L2187.92 163.921 L2177.43 138.412 L2181.95 138.412 L2190.05 158.689 L2198.15 138.412 L2202.66 138.412 L2191.28 166.745 Z\" fill=\"#000000\" fill-rule=\"evenodd\" fill-opacity=\"1\" /><path clip-path=\"url(#clip180)\" d=\"M2209.96 160.402 L2217.6 160.402 L2217.6 134.037 L2209.29 135.703 L2209.29 131.444 L2217.55 129.778 L2222.22 129.778 L2222.22 160.402 L2229.86 160.402 L2229.86 164.338 L2209.96 164.338 L2209.96 160.402 Z\" fill=\"#000000\" fill-rule=\"evenodd\" fill-opacity=\"1\" /></svg>\n"
      ]
     },
     "metadata": {},
     "output_type": "display_data"
    }
   ],
   "source": [
    "using Plots\n",
    "\n",
    "x=0:0.1:2\n",
    "y=f.(x)\n",
    "\n",
    "plot(x,y)"
   ]
  },
  {
   "cell_type": "markdown",
   "id": "e8018e9f",
   "metadata": {},
   "source": [
    "https://github.com/JuliaMath/Roots.jl#multiple-zeros"
   ]
  },
  {
   "cell_type": "code",
   "execution_count": 15,
   "id": "77b14618",
   "metadata": {},
   "outputs": [
    {
     "data": {
      "text/plain": [
       "3-element Vector{Float64}:\n",
       " -1.0\n",
       " -0.43641313299909457\n",
       "  1.3196411672093118"
      ]
     },
     "metadata": {},
     "output_type": "display_data"
    }
   ],
   "source": [
    "find_zeros(f, -2,  2)"
   ]
  },
  {
   "cell_type": "code",
   "execution_count": 16,
   "id": "1fb9e8ae",
   "metadata": {},
   "outputs": [
    {
     "name": "stdout",
     "output_type": "stream",
     "text": [
      "El valor de x es 1.3196411672093118, iteraciones : 8"
     ]
    }
   ],
   "source": [
    "y,x,n=newton_raphson(f,df,1.0,eps(),100)\n",
    "print(\"El valor de x es $x, iteraciones : $n\")"
   ]
  },
  {
   "cell_type": "markdown",
   "id": "c02d54e3",
   "metadata": {},
   "source": [
    "# Metodo de la Secante\n",
    "\n",
    "El metodo de la secante utiliza una aproximación numerica de la derivada. \n",
    "\t\t\n",
    "1.- $x_{n+1} = x_n - \\frac{f(x_n)\\left( x_n - x_{n-1} \\right)}{f(x_n) -\n",
    "            f(x_{n-1})}.$ \n",
    "\n",
    "2.- Repetir hasta alcanzar la tolerancia especificada $\\vert x_{n+1} - x_n \\vert \\leq \\varepsilon$.\n",
    "\t"
   ]
  },
  {
   "cell_type": "code",
   "execution_count": 17,
   "id": "f70fc6e4",
   "metadata": {},
   "outputs": [
    {
     "data": {
      "text/plain": [
       "secant (generic function with 1 method)"
      ]
     },
     "metadata": {},
     "output_type": "display_data"
    }
   ],
   "source": [
    "function secant(f::Function,a,b,eps,N)\n",
    "    n=1\n",
    "    x=0. # to ensure the value of p carries out of the while loop\n",
    "    x_old=a\n",
    "    x_temp=b \n",
    "    while n<=N\n",
    "        x=x_old-f(x_old)*(x_old-x_temp)/(f(x_old)-f(x_temp))\n",
    "        y=f(x)\n",
    "        if y==0 || abs(x-x_old)<eps\n",
    "            return y,x,n\n",
    "        end\n",
    "    x_temp=x_old\n",
    "    x_old=x\n",
    "    n=n+1\n",
    "    end\n",
    "    y=f(x)\n",
    "    println(\"Method did not converge. The last iteration gives $x with function value $y\")\n",
    "end"
   ]
  },
  {
   "cell_type": "code",
   "execution_count": 18,
   "id": "d5c47080",
   "metadata": {},
   "outputs": [
    {
     "name": "stdout",
     "output_type": "stream",
     "text": [
      "El valor de x es -0.4364131329990945, iteraciones : 8"
     ]
    }
   ],
   "source": [
    "y,x,n=secant(f,0,0.1,eps(),20)\n",
    "print(\"El valor de x es $x, iteraciones : $n\")"
   ]
  },
  {
   "cell_type": "markdown",
   "id": "f5ed4581",
   "metadata": {},
   "source": [
    "# Tarea \n",
    "\n",
    "1.- Usando los métodos de la secante, Newton-Raphson y bisección, calcular el cero en el intervalo indicado de las funciones siguientes con un error $\\varepsilon =10^{-6}$ usando el criterio de parada $|x_n-x_{n-1}|\\leq\\epsilon$:\n",
    "    \n",
    "a) $f(x)=\\mathrm{e}^x+2\\cos x-7=0$, para $x$ en el intervalo $[2,3]$.\n",
    "    \n",
    "b) $f(x)=\\ln x-\\frac{1}{20}\\mathrm{e}^x=0$, para $x$ en el intervalo $[1,2]$.\n",
    "\n",
    "2.- Estimar el orden de convergencia para distintos valores de $\\varepsilon$. \n",
    "\n"
   ]
  },
  {
   "cell_type": "code",
   "execution_count": 20,
   "id": "f1c03f38",
   "metadata": {},
   "outputs": [
    {
     "name": "stderr",
     "output_type": "stream",
     "text": [
      "\u001b[32m\u001b[1m   Resolving\u001b[22m\u001b[39m package versions...\n"
     ]
    },
    {
     "name": "stderr",
     "output_type": "stream",
     "text": [
      "\u001b[32m\u001b[1m   Installed\u001b[22m\u001b[39m DiffResults ────────── v1.0.3\n",
      "\u001b[32m\u001b[1m   Installed\u001b[22m\u001b[39m DiffRules ──────────── v1.11.1\n",
      "\u001b[32m\u001b[1m   Installed\u001b[22m\u001b[39m CommonSubexpressions ─ v0.3.0\n"
     ]
    },
    {
     "name": "stderr",
     "output_type": "stream",
     "text": [
      "\u001b[32m\u001b[1m   Installed\u001b[22m\u001b[39m ForwardDiff ────────── v0.10.32\n"
     ]
    },
    {
     "name": "stderr",
     "output_type": "stream",
     "text": [
      "\u001b[32m\u001b[1m    Updating\u001b[22m\u001b[39m `~/.julia/environments/v1.7/Project.toml`\n",
      " \u001b[90m [f6369f11] \u001b[39m\u001b[92m+ ForwardDiff v0.10.32\u001b[39m\n",
      "\u001b[32m\u001b[1m    Updating\u001b[22m\u001b[39m `~/.julia/environments/v1.7/Manifest.toml`\n",
      " \u001b[90m [bbf7d656] \u001b[39m\u001b[92m+ CommonSubexpressions v0.3.0\u001b[39m\n",
      " \u001b[90m [163ba53b] \u001b[39m\u001b[92m+ DiffResults v1.0.3\u001b[39m\n",
      " \u001b[90m [b552c78f] \u001b[39m\u001b[92m+ DiffRules v1.11.1\u001b[39m\n",
      " \u001b[90m [f6369f11] \u001b[39m\u001b[92m+ ForwardDiff v0.10.32\u001b[39m\n"
     ]
    },
    {
     "name": "stderr",
     "output_type": "stream",
     "text": [
      "\u001b[32m\u001b[1mPrecompiling\u001b[22m\u001b[39m project...\n"
     ]
    },
    {
     "name": "stderr",
     "output_type": "stream",
     "text": [
      "\u001b[32m  ✓ \u001b[39m\u001b[90mCommonSubexpressions\u001b[39m\n"
     ]
    },
    {
     "name": "stderr",
     "output_type": "stream",
     "text": [
      "\u001b[32m  ✓ \u001b[39m\u001b[90mDiffResults\u001b[39m\n"
     ]
    },
    {
     "name": "stderr",
     "output_type": "stream",
     "text": [
      "\u001b[32m  ✓ \u001b[39m\u001b[90mDiffRules\u001b[39m\n"
     ]
    },
    {
     "name": "stderr",
     "output_type": "stream",
     "text": [
      "\u001b[32m  ✓ \u001b[39mForwardDiff\n",
      "  4 dependencies successfully precompiled in 5 seconds (147 already precompiled)\n"
     ]
    }
   ],
   "source": [
    "Pkg.add(\"ForwardDiff\");"
   ]
  },
  {
   "cell_type": "code",
   "execution_count": 87,
   "id": "29517e80",
   "metadata": {},
   "outputs": [
    {
     "data": {
      "text/plain": [
       "bisection (generic function with 1 method)"
      ]
     },
     "metadata": {},
     "output_type": "display_data"
    }
   ],
   "source": [
    "function bisection(f::Function,a,b,eps,N)\n",
    "    n=1\n",
    "    c=0\n",
    "    while n<=N\n",
    "        c=a+(b-a)/2\n",
    "        println(\"($a,$b)\")\n",
    "        if f(c)==0 || abs(a-b)<=eps\n",
    "            break\n",
    "        end\n",
    "        if f(a)f(c)<0\n",
    "            b=c\n",
    "        else\n",
    "            a=c\n",
    "        end\n",
    "        n+=1\n",
    "    end\n",
    "    y=f(c)\n",
    "    return y,c,n,a,b\n",
    "end"
   ]
  },
  {
   "cell_type": "markdown",
   "id": "21dd33ce",
   "metadata": {},
   "source": [
    "# Funcion 1\n",
    "\n",
    "a) $f(x)=\\mathrm{e}^x+2\\cos x-7=0$, para $x$ en el intervalo $[2,3]$."
   ]
  },
  {
   "cell_type": "code",
   "execution_count": 33,
   "id": "04d20b87",
   "metadata": {},
   "outputs": [
    {
     "data": {
      "text/plain": [
       "D1 (generic function with 1 method)"
      ]
     },
     "metadata": {},
     "output_type": "display_data"
    }
   ],
   "source": [
    "using ForwardDiff\n",
    "\n",
    "f1(x)=exp(x)+2*cos(x)-7\n",
    "df1(x)=exp(x)-2*sin(x)\n",
    "D1(f1) = x -> ForwardDiff.derivative(f1,float(x))"
   ]
  },
  {
   "cell_type": "code",
   "execution_count": 53,
   "id": "94ebcc5d",
   "metadata": {},
   "outputs": [
    {
     "data": {
      "image/png": "[encoded data removed]",
      "image/svg+xml": "<?xml version=\"1.0\" encoding=\"utf-8\"?>\n<svg xmlns=\"http://www.w3.org/2000/svg\" xmlns:xlink=\"http://www.w3.org/1999/xlink\" width=\"600\" height=\"400\" viewBox=\"0 0 2400 1600\">\n<defs>\n  <clipPath id=\"clip220\">\n    <rect x=\"0\" y=\"0\" width=\"2400\" height=\"1600\"/>\n  </clipPath>\n</defs>\n<path clip-path=\"url(#clip220)\" d=\"\nM0 1600 L2400 1600 L2400 0 L0 0  Z\n  \" fill=\"#ffffff\" fill-rule=\"evenodd\" fill-opacity=\"1\"/>\n<defs>\n  <clipPath id=\"clip221\">\n    <rect x=\"480\" y=\"0\" width=\"1681\" height=\"1600\"/>\n  </clipPath>\n</defs>\n<path clip-path=\"url(#clip220)\" d=\"\nM184.191 1486.45 L2352.76 1486.45 L2352.76 47.2441 L184.191 47.2441  Z\n  \" fill=\"#ffffff\" fill-rule=\"evenodd\" fill-opacity=\"1\"/>\n<defs>\n  <clipPath id=\"clip222\">\n    <rect x=\"184\" y=\"47\" width=\"2170\" height=\"1440\"/>\n  </clipPath>\n</defs>\n<polyline clip-path=\"url(#clip222)\" style=\"stroke:#000000; stroke-linecap:butt; stroke-linejoin:round; stroke-width:2; stroke-opacity:0.1; fill:none\" points=\"\n  245.565,1486.45 245.565,47.2441 \n  \"/>\n<polyline clip-path=\"url(#clip222)\" style=\"stroke:#000000; stroke-linecap:butt; stroke-linejoin:round; stroke-width:2; stroke-opacity:0.1; fill:none\" points=\"\n  757.019,1486.45 757.019,47.2441 \n  \"/>\n<polyline clip-path=\"url(#clip222)\" style=\"stroke:#000000; stroke-linecap:butt; stroke-linejoin:round; stroke-width:2; stroke-opacity:0.1; fill:none\" points=\"\n  1268.47,1486.45 1268.47,47.2441 \n  \"/>\n<polyline clip-path=\"url(#clip222)\" style=\"stroke:#000000; stroke-linecap:butt; stroke-linejoin:round; stroke-width:2; stroke-opacity:0.1; fill:none\" points=\"\n  1779.93,1486.45 1779.93,47.2441 \n  \"/>\n<polyline clip-path=\"url(#clip222)\" style=\"stroke:#000000; stroke-linecap:butt; stroke-linejoin:round; stroke-width:2; stroke-opacity:0.1; fill:none\" points=\"\n  2291.38,1486.45 2291.38,47.2441 \n  \"/>\n<polyline clip-path=\"url(#clip220)\" style=\"stroke:#000000; stroke-linecap:butt; stroke-linejoin:round; stroke-width:4; stroke-opacity:1; fill:none\" points=\"\n  184.191,1486.45 2352.76,1486.45 \n  \"/>\n<polyline clip-path=\"url(#clip220)\" style=\"stroke:#000000; stroke-linecap:butt; stroke-linejoin:round; stroke-width:4; stroke-opacity:1; fill:none\" points=\"\n  245.565,1486.45 245.565,1467.55 \n  \"/>\n<polyline clip-path=\"url(#clip220)\" style=\"stroke:#000000; stroke-linecap:butt; stroke-linejoin:round; stroke-width:4; stroke-opacity:1; fill:none\" points=\"\n  757.019,1486.45 757.019,1467.55 \n  \"/>\n<polyline clip-path=\"url(#clip220)\" style=\"stroke:#000000; stroke-linecap:butt; stroke-linejoin:round; stroke-width:4; stroke-opacity:1; fill:none\" points=\"\n  1268.47,1486.45 1268.47,1467.55 \n  \"/>\n<polyline clip-path=\"url(#clip220)\" style=\"stroke:#000000; stroke-linecap:butt; stroke-linejoin:round; stroke-width:4; stroke-opacity:1; fill:none\" points=\"\n  1779.93,1486.45 1779.93,1467.55 \n  \"/>\n<polyline clip-path=\"url(#clip220)\" style=\"stroke:#000000; stroke-linecap:butt; stroke-linejoin:round; stroke-width:4; stroke-opacity:1; fill:none\" points=\"\n  2291.38,1486.45 2291.38,1467.55 \n  \"/>\n<path clip-path=\"url(#clip220)\" d=\"M201.723 1544.91 L218.042 1544.91 L218.042 1548.85 L196.098 1548.85 L196.098 1544.91 Q198.76 1542.16 203.343 1537.53 Q207.95 1532.88 209.13 1531.53 Q211.376 1529.01 212.255 1527.27 Q213.158 1525.51 213.158 1523.82 Q213.158 1521.07 211.213 1519.33 Q209.292 1517.6 206.19 1517.6 Q203.991 1517.6 201.538 1518.36 Q199.107 1519.13 196.329 1520.68 L196.329 1515.95 Q199.153 1514.82 201.607 1514.24 Q204.061 1513.66 206.098 1513.66 Q211.468 1513.66 214.663 1516.35 Q217.857 1519.03 217.857 1523.52 Q217.857 1525.65 217.047 1527.57 Q216.26 1529.47 214.153 1532.07 Q213.575 1532.74 210.473 1535.95 Q207.371 1539.15 201.723 1544.91 Z\" fill=\"#000000\" fill-rule=\"evenodd\" fill-opacity=\"1\" /><path clip-path=\"url(#clip220)\" d=\"M227.857 1542.97 L232.741 1542.97 L232.741 1548.85 L227.857 1548.85 L227.857 1542.97 Z\" fill=\"#000000\" fill-rule=\"evenodd\" fill-opacity=\"1\" /><path clip-path=\"url(#clip220)\" d=\"M252.926 1517.37 Q249.315 1517.37 247.486 1520.93 Q245.681 1524.47 245.681 1531.6 Q245.681 1538.71 247.486 1542.27 Q249.315 1545.82 252.926 1545.82 Q256.56 1545.82 258.366 1542.27 Q260.195 1538.71 260.195 1531.6 Q260.195 1524.47 258.366 1520.93 Q256.56 1517.37 252.926 1517.37 M252.926 1513.66 Q258.736 1513.66 261.792 1518.27 Q264.871 1522.85 264.871 1531.6 Q264.871 1540.33 261.792 1544.94 Q258.736 1549.52 252.926 1549.52 Q247.116 1549.52 244.037 1544.94 Q240.982 1540.33 240.982 1531.6 Q240.982 1522.85 244.037 1518.27 Q247.116 1513.66 252.926 1513.66 Z\" fill=\"#000000\" fill-rule=\"evenodd\" fill-opacity=\"1\" /><path clip-path=\"url(#clip220)\" d=\"M283.088 1517.37 Q279.477 1517.37 277.648 1520.93 Q275.843 1524.47 275.843 1531.6 Q275.843 1538.71 277.648 1542.27 Q279.477 1545.82 283.088 1545.82 Q286.722 1545.82 288.528 1542.27 Q290.357 1538.71 290.357 1531.6 Q290.357 1524.47 288.528 1520.93 Q286.722 1517.37 283.088 1517.37 M283.088 1513.66 Q288.898 1513.66 291.954 1518.27 Q295.032 1522.85 295.032 1531.6 Q295.032 1540.33 291.954 1544.94 Q288.898 1549.52 283.088 1549.52 Q277.278 1549.52 274.199 1544.94 Q271.144 1540.33 271.144 1531.6 Q271.144 1522.85 274.199 1518.27 Q277.278 1513.66 283.088 1513.66 Z\" fill=\"#000000\" fill-rule=\"evenodd\" fill-opacity=\"1\" /><path clip-path=\"url(#clip220)\" d=\"M713.675 1544.91 L729.994 1544.91 L729.994 1548.85 L708.05 1548.85 L708.05 1544.91 Q710.712 1542.16 715.295 1537.53 Q719.901 1532.88 721.082 1531.53 Q723.327 1529.01 724.207 1527.27 Q725.11 1525.51 725.11 1523.82 Q725.11 1521.07 723.165 1519.33 Q721.244 1517.6 718.142 1517.6 Q715.943 1517.6 713.489 1518.36 Q711.059 1519.13 708.281 1520.68 L708.281 1515.95 Q711.105 1514.82 713.559 1514.24 Q716.013 1513.66 718.05 1513.66 Q723.42 1513.66 726.614 1516.35 Q729.809 1519.03 729.809 1523.52 Q729.809 1525.65 728.999 1527.57 Q728.212 1529.47 726.105 1532.07 Q725.526 1532.74 722.425 1535.95 Q719.323 1539.15 713.675 1544.91 Z\" fill=\"#000000\" fill-rule=\"evenodd\" fill-opacity=\"1\" /><path clip-path=\"url(#clip220)\" d=\"M739.809 1542.97 L744.693 1542.97 L744.693 1548.85 L739.809 1548.85 L739.809 1542.97 Z\" fill=\"#000000\" fill-rule=\"evenodd\" fill-opacity=\"1\" /><path clip-path=\"url(#clip220)\" d=\"M758.906 1544.91 L775.225 1544.91 L775.225 1548.85 L753.281 1548.85 L753.281 1544.91 Q755.943 1542.16 760.526 1537.53 Q765.133 1532.88 766.313 1531.53 Q768.559 1529.01 769.438 1527.27 Q770.341 1525.51 770.341 1523.82 Q770.341 1521.07 768.396 1519.33 Q766.475 1517.6 763.373 1517.6 Q761.174 1517.6 758.721 1518.36 Q756.29 1519.13 753.512 1520.68 L753.512 1515.95 Q756.336 1514.82 758.79 1514.24 Q761.244 1513.66 763.281 1513.66 Q768.651 1513.66 771.846 1516.35 Q775.04 1519.03 775.04 1523.52 Q775.04 1525.65 774.23 1527.57 Q773.443 1529.47 771.336 1532.07 Q770.758 1532.74 767.656 1535.95 Q764.554 1539.15 758.906 1544.91 Z\" fill=\"#000000\" fill-rule=\"evenodd\" fill-opacity=\"1\" /><path clip-path=\"url(#clip220)\" d=\"M785.086 1514.29 L803.443 1514.29 L803.443 1518.22 L789.369 1518.22 L789.369 1526.7 Q790.387 1526.35 791.406 1526.19 Q792.424 1526 793.443 1526 Q799.23 1526 802.609 1529.17 Q805.989 1532.34 805.989 1537.76 Q805.989 1543.34 802.517 1546.44 Q799.044 1549.52 792.725 1549.52 Q790.549 1549.52 788.281 1549.15 Q786.035 1548.78 783.628 1548.04 L783.628 1543.34 Q785.711 1544.47 787.933 1545.03 Q790.156 1545.58 792.632 1545.58 Q796.637 1545.58 798.975 1543.48 Q801.313 1541.37 801.313 1537.76 Q801.313 1534.15 798.975 1532.04 Q796.637 1529.94 792.632 1529.94 Q790.757 1529.94 788.882 1530.35 Q787.031 1530.77 785.086 1531.65 L785.086 1514.29 Z\" fill=\"#000000\" fill-rule=\"evenodd\" fill-opacity=\"1\" /><path clip-path=\"url(#clip220)\" d=\"M1224.63 1544.91 L1240.95 1544.91 L1240.95 1548.85 L1219.01 1548.85 L1219.01 1544.91 Q1221.67 1542.16 1226.25 1537.53 Q1230.86 1532.88 1232.04 1531.53 Q1234.28 1529.01 1235.16 1527.27 Q1236.07 1525.51 1236.07 1523.82 Q1236.07 1521.07 1234.12 1519.33 Q1232.2 1517.6 1229.1 1517.6 Q1226.9 1517.6 1224.45 1518.36 Q1222.02 1519.13 1219.24 1520.68 L1219.24 1515.95 Q1222.06 1514.82 1224.52 1514.24 Q1226.97 1513.66 1229.01 1513.66 Q1234.38 1513.66 1237.57 1516.35 Q1240.77 1519.03 1240.77 1523.52 Q1240.77 1525.65 1239.95 1527.57 Q1239.17 1529.47 1237.06 1532.07 Q1236.48 1532.74 1233.38 1535.95 Q1230.28 1539.15 1224.63 1544.91 Z\" fill=\"#000000\" fill-rule=\"evenodd\" fill-opacity=\"1\" /><path clip-path=\"url(#clip220)\" d=\"M1250.77 1542.97 L1255.65 1542.97 L1255.65 1548.85 L1250.77 1548.85 L1250.77 1542.97 Z\" fill=\"#000000\" fill-rule=\"evenodd\" fill-opacity=\"1\" /><path clip-path=\"url(#clip220)\" d=\"M1265.88 1514.29 L1284.24 1514.29 L1284.24 1518.22 L1270.16 1518.22 L1270.16 1526.7 Q1271.18 1526.35 1272.2 1526.19 Q1273.22 1526 1274.24 1526 Q1280.02 1526 1283.4 1529.17 Q1286.78 1532.34 1286.78 1537.76 Q1286.78 1543.34 1283.31 1546.44 Q1279.84 1549.52 1273.52 1549.52 Q1271.34 1549.52 1269.08 1549.15 Q1266.83 1548.78 1264.42 1548.04 L1264.42 1543.34 Q1266.51 1544.47 1268.73 1545.03 Q1270.95 1545.58 1273.43 1545.58 Q1277.43 1545.58 1279.77 1543.48 Q1282.11 1541.37 1282.11 1537.76 Q1282.11 1534.15 1279.77 1532.04 Q1277.43 1529.94 1273.43 1529.94 Q1271.55 1529.94 1269.68 1530.35 Q1267.83 1530.77 1265.88 1531.65 L1265.88 1514.29 Z\" fill=\"#000000\" fill-rule=\"evenodd\" fill-opacity=\"1\" /><path clip-path=\"url(#clip220)\" d=\"M1306 1517.37 Q1302.39 1517.37 1300.56 1520.93 Q1298.75 1524.47 1298.75 1531.6 Q1298.75 1538.71 1300.56 1542.27 Q1302.39 1545.82 1306 1545.82 Q1309.63 1545.82 1311.44 1542.27 Q1313.26 1538.71 1313.26 1531.6 Q1313.26 1524.47 1311.44 1520.93 Q1309.63 1517.37 1306 1517.37 M1306 1513.66 Q1311.81 1513.66 1314.86 1518.27 Q1317.94 1522.85 1317.94 1531.6 Q1317.94 1540.33 1314.86 1544.94 Q1311.81 1549.52 1306 1549.52 Q1300.19 1549.52 1297.11 1544.94 Q1294.05 1540.33 1294.05 1531.6 Q1294.05 1522.85 1297.11 1518.27 Q1300.19 1513.66 1306 1513.66 Z\" fill=\"#000000\" fill-rule=\"evenodd\" fill-opacity=\"1\" /><path clip-path=\"url(#clip220)\" d=\"M1736.58 1544.91 L1752.9 1544.91 L1752.9 1548.85 L1730.96 1548.85 L1730.96 1544.91 Q1733.62 1542.16 1738.2 1537.53 Q1742.81 1532.88 1743.99 1531.53 Q1746.24 1529.01 1747.12 1527.27 Q1748.02 1525.51 1748.02 1523.82 Q1748.02 1521.07 1746.07 1519.33 Q1744.15 1517.6 1741.05 1517.6 Q1738.85 1517.6 1736.4 1518.36 Q1733.97 1519.13 1731.19 1520.68 L1731.19 1515.95 Q1734.01 1514.82 1736.47 1514.24 Q1738.92 1513.66 1740.96 1513.66 Q1746.33 1513.66 1749.52 1516.35 Q1752.72 1519.03 1752.72 1523.52 Q1752.72 1525.65 1751.91 1527.57 Q1751.12 1529.47 1749.01 1532.07 Q1748.43 1532.74 1745.33 1535.95 Q1742.23 1539.15 1736.58 1544.91 Z\" fill=\"#000000\" fill-rule=\"evenodd\" fill-opacity=\"1\" /><path clip-path=\"url(#clip220)\" d=\"M1762.72 1542.97 L1767.6 1542.97 L1767.6 1548.85 L1762.72 1548.85 L1762.72 1542.97 Z\" fill=\"#000000\" fill-rule=\"evenodd\" fill-opacity=\"1\" /><path clip-path=\"url(#clip220)\" d=\"M1776.61 1514.29 L1798.83 1514.29 L1798.83 1516.28 L1786.28 1548.85 L1781.4 1548.85 L1793.2 1518.22 L1776.61 1518.22 L1776.61 1514.29 Z\" fill=\"#000000\" fill-rule=\"evenodd\" fill-opacity=\"1\" /><path clip-path=\"url(#clip220)\" d=\"M1807.99 1514.29 L1826.35 1514.29 L1826.35 1518.22 L1812.28 1518.22 L1812.28 1526.7 Q1813.3 1526.35 1814.31 1526.19 Q1815.33 1526 1816.35 1526 Q1822.14 1526 1825.52 1529.17 Q1828.9 1532.34 1828.9 1537.76 Q1828.9 1543.34 1825.42 1546.44 Q1821.95 1549.52 1815.63 1549.52 Q1813.46 1549.52 1811.19 1549.15 Q1808.94 1548.78 1806.54 1548.04 L1806.54 1543.34 Q1808.62 1544.47 1810.84 1545.03 Q1813.06 1545.58 1815.54 1545.58 Q1819.55 1545.58 1821.88 1543.48 Q1824.22 1541.37 1824.22 1537.76 Q1824.22 1534.15 1821.88 1532.04 Q1819.55 1529.94 1815.54 1529.94 Q1813.67 1529.94 1811.79 1530.35 Q1809.94 1530.77 1807.99 1531.65 L1807.99 1514.29 Z\" fill=\"#000000\" fill-rule=\"evenodd\" fill-opacity=\"1\" /><path clip-path=\"url(#clip220)\" d=\"M2257.61 1530.21 Q2260.96 1530.93 2262.84 1533.2 Q2264.74 1535.47 2264.74 1538.8 Q2264.74 1543.92 2261.22 1546.72 Q2257.7 1549.52 2251.22 1549.52 Q2249.04 1549.52 2246.73 1549.08 Q2244.44 1548.66 2241.98 1547.81 L2241.98 1543.29 Q2243.93 1544.43 2246.24 1545.01 Q2248.56 1545.58 2251.08 1545.58 Q2255.48 1545.58 2257.77 1543.85 Q2260.09 1542.11 2260.09 1538.8 Q2260.09 1535.75 2257.93 1534.03 Q2255.8 1532.3 2251.98 1532.3 L2247.96 1532.3 L2247.96 1528.45 L2252.17 1528.45 Q2255.62 1528.45 2257.45 1527.09 Q2259.28 1525.7 2259.28 1523.11 Q2259.28 1520.45 2257.38 1519.03 Q2255.5 1517.6 2251.98 1517.6 Q2250.06 1517.6 2247.86 1518.01 Q2245.66 1518.43 2243.03 1519.31 L2243.03 1515.14 Q2245.69 1514.4 2248 1514.03 Q2250.34 1513.66 2252.4 1513.66 Q2257.72 1513.66 2260.83 1516.09 Q2263.93 1518.5 2263.93 1522.62 Q2263.93 1525.49 2262.28 1527.48 Q2260.64 1529.45 2257.61 1530.21 Z\" fill=\"#000000\" fill-rule=\"evenodd\" fill-opacity=\"1\" /><path clip-path=\"url(#clip220)\" d=\"M2273.6 1542.97 L2278.49 1542.97 L2278.49 1548.85 L2273.6 1548.85 L2273.6 1542.97 Z\" fill=\"#000000\" fill-rule=\"evenodd\" fill-opacity=\"1\" /><path clip-path=\"url(#clip220)\" d=\"M2298.67 1517.37 Q2295.06 1517.37 2293.23 1520.93 Q2291.43 1524.47 2291.43 1531.6 Q2291.43 1538.71 2293.23 1542.27 Q2295.06 1545.82 2298.67 1545.82 Q2302.31 1545.82 2304.11 1542.27 Q2305.94 1538.71 2305.94 1531.6 Q2305.94 1524.47 2304.11 1520.93 Q2302.31 1517.37 2298.67 1517.37 M2298.67 1513.66 Q2304.48 1513.66 2307.54 1518.27 Q2310.62 1522.85 2310.62 1531.6 Q2310.62 1540.33 2307.54 1544.94 Q2304.48 1549.52 2298.67 1549.52 Q2292.86 1549.52 2289.78 1544.94 Q2286.73 1540.33 2286.73 1531.6 Q2286.73 1522.85 2289.78 1518.27 Q2292.86 1513.66 2298.67 1513.66 Z\" fill=\"#000000\" fill-rule=\"evenodd\" fill-opacity=\"1\" /><path clip-path=\"url(#clip220)\" d=\"M2328.83 1517.37 Q2325.22 1517.37 2323.4 1520.93 Q2321.59 1524.47 2321.59 1531.6 Q2321.59 1538.71 2323.4 1542.27 Q2325.22 1545.82 2328.83 1545.82 Q2332.47 1545.82 2334.27 1542.27 Q2336.1 1538.71 2336.1 1531.6 Q2336.1 1524.47 2334.27 1520.93 Q2332.47 1517.37 2328.83 1517.37 M2328.83 1513.66 Q2334.65 1513.66 2337.7 1518.27 Q2340.78 1522.85 2340.78 1531.6 Q2340.78 1540.33 2337.7 1544.94 Q2334.65 1549.52 2328.83 1549.52 Q2323.02 1549.52 2319.95 1544.94 Q2316.89 1540.33 2316.89 1531.6 Q2316.89 1522.85 2319.95 1518.27 Q2323.02 1513.66 2328.83 1513.66 Z\" fill=\"#000000\" fill-rule=\"evenodd\" fill-opacity=\"1\" /><polyline clip-path=\"url(#clip222)\" style=\"stroke:#000000; stroke-linecap:butt; stroke-linejoin:round; stroke-width:2; stroke-opacity:0.1; fill:none\" points=\"\n  184.191,1393.61 2352.76,1393.61 \n  \"/>\n<polyline clip-path=\"url(#clip222)\" style=\"stroke:#000000; stroke-linecap:butt; stroke-linejoin:round; stroke-width:2; stroke-opacity:0.1; fill:none\" points=\"\n  184.191,1099.69 2352.76,1099.69 \n  \"/>\n<polyline clip-path=\"url(#clip222)\" style=\"stroke:#000000; stroke-linecap:butt; stroke-linejoin:round; stroke-width:2; stroke-opacity:0.1; fill:none\" points=\"\n  184.191,805.779 2352.76,805.779 \n  \"/>\n<polyline clip-path=\"url(#clip222)\" style=\"stroke:#000000; stroke-linecap:butt; stroke-linejoin:round; stroke-width:2; stroke-opacity:0.1; fill:none\" points=\"\n  184.191,511.865 2352.76,511.865 \n  \"/>\n<polyline clip-path=\"url(#clip222)\" style=\"stroke:#000000; stroke-linecap:butt; stroke-linejoin:round; stroke-width:2; stroke-opacity:0.1; fill:none\" points=\"\n  184.191,217.951 2352.76,217.951 \n  \"/>\n<polyline clip-path=\"url(#clip220)\" style=\"stroke:#000000; stroke-linecap:butt; stroke-linejoin:round; stroke-width:4; stroke-opacity:1; fill:none\" points=\"\n  184.191,1486.45 184.191,47.2441 \n  \"/>\n<polyline clip-path=\"url(#clip220)\" style=\"stroke:#000000; stroke-linecap:butt; stroke-linejoin:round; stroke-width:4; stroke-opacity:1; fill:none\" points=\"\n  184.191,1393.61 203.088,1393.61 \n  \"/>\n<polyline clip-path=\"url(#clip220)\" style=\"stroke:#000000; stroke-linecap:butt; stroke-linejoin:round; stroke-width:4; stroke-opacity:1; fill:none\" points=\"\n  184.191,1099.69 203.088,1099.69 \n  \"/>\n<polyline clip-path=\"url(#clip220)\" style=\"stroke:#000000; stroke-linecap:butt; stroke-linejoin:round; stroke-width:4; stroke-opacity:1; fill:none\" points=\"\n  184.191,805.779 203.088,805.779 \n  \"/>\n<polyline clip-path=\"url(#clip220)\" style=\"stroke:#000000; stroke-linecap:butt; stroke-linejoin:round; stroke-width:4; stroke-opacity:1; fill:none\" points=\"\n  184.191,511.865 203.088,511.865 \n  \"/>\n<polyline clip-path=\"url(#clip220)\" style=\"stroke:#000000; stroke-linecap:butt; stroke-linejoin:round; stroke-width:4; stroke-opacity:1; fill:none\" points=\"\n  184.191,217.951 203.088,217.951 \n  \"/>\n<path clip-path=\"url(#clip220)\" d=\"M91.0151 1379.4 Q87.404 1379.4 85.5753 1382.97 Q83.7697 1386.51 83.7697 1393.64 Q83.7697 1400.75 85.5753 1404.31 Q87.404 1407.85 91.0151 1407.85 Q94.6493 1407.85 96.4548 1404.31 Q98.2835 1400.75 98.2835 1393.64 Q98.2835 1386.51 96.4548 1382.97 Q94.6493 1379.4 91.0151 1379.4 M91.0151 1375.7 Q96.8252 1375.7 99.8808 1380.31 Q102.959 1384.89 102.959 1393.64 Q102.959 1402.37 99.8808 1406.97 Q96.8252 1411.56 91.0151 1411.56 Q85.2049 1411.56 82.1262 1406.97 Q79.0707 1402.37 79.0707 1393.64 Q79.0707 1384.89 82.1262 1380.31 Q85.2049 1375.7 91.0151 1375.7 Z\" fill=\"#000000\" fill-rule=\"evenodd\" fill-opacity=\"1\" /><path clip-path=\"url(#clip220)\" d=\"M111.177 1405.01 L116.061 1405.01 L116.061 1410.89 L111.177 1410.89 L111.177 1405.01 Z\" fill=\"#000000\" fill-rule=\"evenodd\" fill-opacity=\"1\" /><path clip-path=\"url(#clip220)\" d=\"M136.246 1379.4 Q132.635 1379.4 130.807 1382.97 Q129.001 1386.51 129.001 1393.64 Q129.001 1400.75 130.807 1404.31 Q132.635 1407.85 136.246 1407.85 Q139.881 1407.85 141.686 1404.31 Q143.515 1400.75 143.515 1393.64 Q143.515 1386.51 141.686 1382.97 Q139.881 1379.4 136.246 1379.4 M136.246 1375.7 Q142.056 1375.7 145.112 1380.31 Q148.191 1384.89 148.191 1393.64 Q148.191 1402.37 145.112 1406.97 Q142.056 1411.56 136.246 1411.56 Q130.436 1411.56 127.357 1406.97 Q124.302 1402.37 124.302 1393.64 Q124.302 1384.89 127.357 1380.31 Q130.436 1375.7 136.246 1375.7 Z\" fill=\"#000000\" fill-rule=\"evenodd\" fill-opacity=\"1\" /><path clip-path=\"url(#clip220)\" d=\"M86.0382 1113.04 L102.358 1113.04 L102.358 1116.97 L80.4133 1116.97 L80.4133 1113.04 Q83.0753 1110.28 87.6586 1105.65 Q92.2651 1101 93.4456 1099.66 Q95.691 1097.13 96.5706 1095.4 Q97.4734 1093.64 97.4734 1091.95 Q97.4734 1089.19 95.5289 1087.46 Q93.6076 1085.72 90.5058 1085.72 Q88.3067 1085.72 85.8531 1086.49 Q83.4225 1087.25 80.6447 1088.8 L80.6447 1084.08 Q83.4688 1082.94 85.9225 1082.37 Q88.3762 1081.79 90.4132 1081.79 Q95.7836 1081.79 98.978 1084.47 Q102.172 1087.16 102.172 1091.65 Q102.172 1093.78 101.362 1095.7 Q100.575 1097.6 98.4687 1100.19 Q97.89 1100.86 94.7882 1104.08 Q91.6864 1107.27 86.0382 1113.04 Z\" fill=\"#000000\" fill-rule=\"evenodd\" fill-opacity=\"1\" /><path clip-path=\"url(#clip220)\" d=\"M112.172 1111.09 L117.057 1111.09 L117.057 1116.97 L112.172 1116.97 L112.172 1111.09 Z\" fill=\"#000000\" fill-rule=\"evenodd\" fill-opacity=\"1\" /><path clip-path=\"url(#clip220)\" d=\"M127.288 1082.41 L145.644 1082.41 L145.644 1086.35 L131.57 1086.35 L131.57 1094.82 Q132.589 1094.47 133.607 1094.31 Q134.626 1094.13 135.644 1094.13 Q141.431 1094.13 144.811 1097.3 Q148.191 1100.47 148.191 1105.88 Q148.191 1111.46 144.718 1114.57 Q141.246 1117.64 134.927 1117.64 Q132.751 1117.64 130.482 1117.27 Q128.237 1116.9 125.83 1116.16 L125.83 1111.46 Q127.913 1112.6 130.135 1113.15 Q132.357 1113.71 134.834 1113.71 Q138.839 1113.71 141.177 1111.6 Q143.515 1109.5 143.515 1105.88 Q143.515 1102.27 141.177 1100.17 Q138.839 1098.06 134.834 1098.06 Q132.959 1098.06 131.084 1098.48 Q129.232 1098.89 127.288 1099.77 L127.288 1082.41 Z\" fill=\"#000000\" fill-rule=\"evenodd\" fill-opacity=\"1\" /><path clip-path=\"url(#clip220)\" d=\"M81.0614 788.499 L99.4178 788.499 L99.4178 792.434 L85.3438 792.434 L85.3438 800.906 Q86.3623 800.559 87.3808 800.397 Q88.3993 800.212 89.4178 800.212 Q95.2049 800.212 98.5845 803.383 Q101.964 806.554 101.964 811.971 Q101.964 817.549 98.4919 820.651 Q95.0197 823.73 88.7003 823.73 Q86.5243 823.73 84.2558 823.36 Q82.0105 822.989 79.6031 822.248 L79.6031 817.549 Q81.6864 818.684 83.9086 819.239 Q86.1308 819.795 88.6077 819.795 Q92.6123 819.795 94.9502 817.688 Q97.2882 815.582 97.2882 811.971 Q97.2882 808.36 94.9502 806.253 Q92.6123 804.147 88.6077 804.147 Q86.7327 804.147 84.8577 804.563 Q83.0058 804.98 81.0614 805.86 L81.0614 788.499 Z\" fill=\"#000000\" fill-rule=\"evenodd\" fill-opacity=\"1\" /><path clip-path=\"url(#clip220)\" d=\"M111.177 817.179 L116.061 817.179 L116.061 823.059 L111.177 823.059 L111.177 817.179 Z\" fill=\"#000000\" fill-rule=\"evenodd\" fill-opacity=\"1\" /><path clip-path=\"url(#clip220)\" d=\"M136.246 791.577 Q132.635 791.577 130.807 795.142 Q129.001 798.684 129.001 805.813 Q129.001 812.92 130.807 816.485 Q132.635 820.026 136.246 820.026 Q139.881 820.026 141.686 816.485 Q143.515 812.92 143.515 805.813 Q143.515 798.684 141.686 795.142 Q139.881 791.577 136.246 791.577 M136.246 787.874 Q142.056 787.874 145.112 792.48 Q148.191 797.063 148.191 805.813 Q148.191 814.54 145.112 819.147 Q142.056 823.73 136.246 823.73 Q130.436 823.73 127.357 819.147 Q124.302 814.54 124.302 805.813 Q124.302 797.063 127.357 792.48 Q130.436 787.874 136.246 787.874 Z\" fill=\"#000000\" fill-rule=\"evenodd\" fill-opacity=\"1\" /><path clip-path=\"url(#clip220)\" d=\"M80.8299 494.585 L103.052 494.585 L103.052 496.576 L90.5058 529.145 L85.6216 529.145 L97.4271 498.52 L80.8299 498.52 L80.8299 494.585 Z\" fill=\"#000000\" fill-rule=\"evenodd\" fill-opacity=\"1\" /><path clip-path=\"url(#clip220)\" d=\"M112.172 523.265 L117.057 523.265 L117.057 529.145 L112.172 529.145 L112.172 523.265 Z\" fill=\"#000000\" fill-rule=\"evenodd\" fill-opacity=\"1\" /><path clip-path=\"url(#clip220)\" d=\"M127.288 494.585 L145.644 494.585 L145.644 498.52 L131.57 498.52 L131.57 506.992 Q132.589 506.645 133.607 506.483 Q134.626 506.298 135.644 506.298 Q141.431 506.298 144.811 509.469 Q148.191 512.64 148.191 518.057 Q148.191 523.636 144.718 526.737 Q141.246 529.816 134.927 529.816 Q132.751 529.816 130.482 529.446 Q128.237 529.075 125.83 528.335 L125.83 523.636 Q127.913 524.77 130.135 525.325 Q132.357 525.881 134.834 525.881 Q138.839 525.881 141.177 523.775 Q143.515 521.668 143.515 518.057 Q143.515 514.446 141.177 512.339 Q138.839 510.233 134.834 510.233 Q132.959 510.233 131.084 510.65 Q129.232 511.066 127.288 511.946 L127.288 494.585 Z\" fill=\"#000000\" fill-rule=\"evenodd\" fill-opacity=\"1\" /><path clip-path=\"url(#clip220)\" d=\"M51.6634 231.296 L59.3023 231.296 L59.3023 204.93 L50.9921 206.597 L50.9921 202.338 L59.256 200.671 L63.9319 200.671 L63.9319 231.296 L71.5707 231.296 L71.5707 235.231 L51.6634 235.231 L51.6634 231.296 Z\" fill=\"#000000\" fill-rule=\"evenodd\" fill-opacity=\"1\" /><path clip-path=\"url(#clip220)\" d=\"M91.0151 203.75 Q87.404 203.75 85.5753 207.315 Q83.7697 210.856 83.7697 217.986 Q83.7697 225.092 85.5753 228.657 Q87.404 232.199 91.0151 232.199 Q94.6493 232.199 96.4548 228.657 Q98.2835 225.092 98.2835 217.986 Q98.2835 210.856 96.4548 207.315 Q94.6493 203.75 91.0151 203.75 M91.0151 200.046 Q96.8252 200.046 99.8808 204.653 Q102.959 209.236 102.959 217.986 Q102.959 226.713 99.8808 231.319 Q96.8252 235.902 91.0151 235.902 Q85.2049 235.902 82.1262 231.319 Q79.0707 226.713 79.0707 217.986 Q79.0707 209.236 82.1262 204.653 Q85.2049 200.046 91.0151 200.046 Z\" fill=\"#000000\" fill-rule=\"evenodd\" fill-opacity=\"1\" /><path clip-path=\"url(#clip220)\" d=\"M111.177 229.351 L116.061 229.351 L116.061 235.231 L111.177 235.231 L111.177 229.351 Z\" fill=\"#000000\" fill-rule=\"evenodd\" fill-opacity=\"1\" /><path clip-path=\"url(#clip220)\" d=\"M136.246 203.75 Q132.635 203.75 130.807 207.315 Q129.001 210.856 129.001 217.986 Q129.001 225.092 130.807 228.657 Q132.635 232.199 136.246 232.199 Q139.881 232.199 141.686 228.657 Q143.515 225.092 143.515 217.986 Q143.515 210.856 141.686 207.315 Q139.881 203.75 136.246 203.75 M136.246 200.046 Q142.056 200.046 145.112 204.653 Q148.191 209.236 148.191 217.986 Q148.191 226.713 145.112 231.319 Q142.056 235.902 136.246 235.902 Q130.436 235.902 127.357 231.319 Q124.302 226.713 124.302 217.986 Q124.302 209.236 127.357 204.653 Q130.436 200.046 136.246 200.046 Z\" fill=\"#000000\" fill-rule=\"evenodd\" fill-opacity=\"1\" /><polyline clip-path=\"url(#clip222)\" style=\"stroke:#009af9; stroke-linecap:butt; stroke-linejoin:round; stroke-width:4; stroke-opacity:1; fill:none\" points=\"\n  245.565,1445.72 450.147,1375.21 654.728,1293.91 859.31,1200.61 1063.89,1094 1268.47,972.697 1473.05,835.175 1677.64,679.797 1882.22,504.787 2086.8,308.214 \n  2291.38,87.9763 \n  \"/>\n<path clip-path=\"url(#clip220)\" d=\"\nM1987.09 198.898 L2280.47 198.898 L2280.47 95.2176 L1987.09 95.2176  Z\n  \" fill=\"#ffffff\" fill-rule=\"evenodd\" fill-opacity=\"1\"/>\n<polyline clip-path=\"url(#clip220)\" style=\"stroke:#000000; stroke-linecap:butt; stroke-linejoin:round; stroke-width:4; stroke-opacity:1; fill:none\" points=\"\n  1987.09,198.898 2280.47,198.898 2280.47,95.2176 1987.09,95.2176 1987.09,198.898 \n  \"/>\n<polyline clip-path=\"url(#clip220)\" style=\"stroke:#009af9; stroke-linecap:butt; stroke-linejoin:round; stroke-width:4; stroke-opacity:1; fill:none\" points=\"\n  2011.18,147.058 2155.75,147.058 \n  \"/>\n<path clip-path=\"url(#clip220)\" d=\"M2193.69 166.745 Q2191.89 171.375 2190.17 172.787 Q2188.46 174.199 2185.59 174.199 L2182.19 174.199 L2182.19 170.634 L2184.69 170.634 Q2186.45 170.634 2187.42 169.8 Q2188.39 168.967 2189.57 165.865 L2190.34 163.921 L2179.85 138.412 L2184.36 138.412 L2192.47 158.689 L2200.57 138.412 L2205.08 138.412 L2193.69 166.745 Z\" fill=\"#000000\" fill-rule=\"evenodd\" fill-opacity=\"1\" /><path clip-path=\"url(#clip220)\" d=\"M2212.37 160.402 L2220.01 160.402 L2220.01 134.037 L2211.7 135.703 L2211.7 131.444 L2219.97 129.778 L2224.64 129.778 L2224.64 160.402 L2232.28 160.402 L2232.28 164.338 L2212.37 164.338 L2212.37 160.402 Z\" fill=\"#000000\" fill-rule=\"evenodd\" fill-opacity=\"1\" /></svg>\n",
      "text/html": [
       "<?xml version=\"1.0\" encoding=\"utf-8\"?>\n",
       "<svg xmlns=\"http://www.w3.org/2000/svg\" xmlns:xlink=\"http://www.w3.org/1999/xlink\" width=\"600\" height=\"400\" viewBox=\"0 0 2400 1600\">\n",
       "<defs>\n",
       "  <clipPath id=\"clip270\">\n",
       "    <rect x=\"0\" y=\"0\" width=\"2400\" height=\"1600\"/>\n",
       "  </clipPath>\n",
       "</defs>\n",
       "<path clip-path=\"url(#clip270)\" d=\"\n",
       "M0 1600 L2400 1600 L2400 0 L0 0  Z\n",
       "  \" fill=\"#ffffff\" fill-rule=\"evenodd\" fill-opacity=\"1\"/>\n",
       "<defs>\n",
       "  <clipPath id=\"clip271\">\n",
       "    <rect x=\"480\" y=\"0\" width=\"1681\" height=\"1600\"/>\n",
       "  </clipPath>\n",
       "</defs>\n",
       "<path clip-path=\"url(#clip270)\" d=\"\n",
       "M184.191 1486.45 L2352.76 1486.45 L2352.76 47.2441 L184.191 47.2441  Z\n",
       "  \" fill=\"#ffffff\" fill-rule=\"evenodd\" fill-opacity=\"1\"/>\n",
       "<defs>\n",
       "  <clipPath id=\"clip272\">\n",
       "    <rect x=\"184\" y=\"47\" width=\"2170\" height=\"1440\"/>\n",
       "  </clipPath>\n",
       "</defs>\n",
       "<polyline clip-path=\"url(#clip272)\" style=\"stroke:#000000; stroke-linecap:butt; stroke-linejoin:round; stroke-width:2; stroke-opacity:0.1; fill:none\" points=\"\n",
       "  245.565,1486.45 245.565,47.2441 \n",
       "  \"/>\n",
       "<polyline clip-path=\"url(#clip272)\" style=\"stroke:#000000; stroke-linecap:butt; stroke-linejoin:round; stroke-width:2; stroke-opacity:0.1; fill:none\" points=\"\n",
       "  757.019,1486.45 757.019,47.2441 \n",
       "  \"/>\n",
       "<polyline clip-path=\"url(#clip272)\" style=\"stroke:#000000; stroke-linecap:butt; stroke-linejoin:round; stroke-width:2; stroke-opacity:0.1; fill:none\" points=\"\n",
       "  1268.47,1486.45 1268.47,47.2441 \n",
       "  \"/>\n",
       "<polyline clip-path=\"url(#clip272)\" style=\"stroke:#000000; stroke-linecap:butt; stroke-linejoin:round; stroke-width:2; stroke-opacity:0.1; fill:none\" points=\"\n",
       "  1779.93,1486.45 1779.93,47.2441 \n",
       "  \"/>\n",
       "<polyline clip-path=\"url(#clip272)\" style=\"stroke:#000000; stroke-linecap:butt; stroke-linejoin:round; stroke-width:2; stroke-opacity:0.1; fill:none\" points=\"\n",
       "  2291.38,1486.45 2291.38,47.2441 \n",
       "  \"/>\n",
       "<polyline clip-path=\"url(#clip270)\" style=\"stroke:#000000; stroke-linecap:butt; stroke-linejoin:round; stroke-width:4; stroke-opacity:1; fill:none\" points=\"\n",
       "  184.191,1486.45 2352.76,1486.45 \n",
       "  \"/>\n",
       "<polyline clip-path=\"url(#clip270)\" style=\"stroke:#000000; stroke-linecap:butt; stroke-linejoin:round; stroke-width:4; stroke-opacity:1; fill:none\" points=\"\n",
       "  245.565,1486.45 245.565,1467.55 \n",
       "  \"/>\n",
       "<polyline clip-path=\"url(#clip270)\" style=\"stroke:#000000; stroke-linecap:butt; stroke-linejoin:round; stroke-width:4; stroke-opacity:1; fill:none\" points=\"\n",
       "  757.019,1486.45 757.019,1467.55 \n",
       "  \"/>\n",
       "<polyline clip-path=\"url(#clip270)\" style=\"stroke:#000000; stroke-linecap:butt; stroke-linejoin:round; stroke-width:4; stroke-opacity:1; fill:none\" points=\"\n",
       "  1268.47,1486.45 1268.47,1467.55 \n",
       "  \"/>\n",
       "<polyline clip-path=\"url(#clip270)\" style=\"stroke:#000000; stroke-linecap:butt; stroke-linejoin:round; stroke-width:4; stroke-opacity:1; fill:none\" points=\"\n",
       "  1779.93,1486.45 1779.93,1467.55 \n",
       "  \"/>\n",
       "<polyline clip-path=\"url(#clip270)\" style=\"stroke:#000000; stroke-linecap:butt; stroke-linejoin:round; stroke-width:4; stroke-opacity:1; fill:none\" points=\"\n",
       "  2291.38,1486.45 2291.38,1467.55 \n",
       "  \"/>\n",
       "<path clip-path=\"url(#clip270)\" d=\"M201.723 1544.91 L218.042 1544.91 L218.042 1548.85 L196.098 1548.85 L196.098 1544.91 Q198.76 1542.16 203.343 1537.53 Q207.95 1532.88 209.13 1531.53 Q211.376 1529.01 212.255 1527.27 Q213.158 1525.51 213.158 1523.82 Q213.158 1521.07 211.213 1519.33 Q209.292 1517.6 206.19 1517.6 Q203.991 1517.6 201.538 1518.36 Q199.107 1519.13 196.329 1520.68 L196.329 1515.95 Q199.153 1514.82 201.607 1514.24 Q204.061 1513.66 206.098 1513.66 Q211.468 1513.66 214.663 1516.35 Q217.857 1519.03 217.857 1523.52 Q217.857 1525.65 217.047 1527.57 Q216.26 1529.47 214.153 1532.07 Q213.575 1532.74 210.473 1535.95 Q207.371 1539.15 201.723 1544.91 Z\" fill=\"#000000\" fill-rule=\"evenodd\" fill-opacity=\"1\" /><path clip-path=\"url(#clip270)\" d=\"M227.857 1542.97 L232.741 1542.97 L232.741 1548.85 L227.857 1548.85 L227.857 1542.97 Z\" fill=\"#000000\" fill-rule=\"evenodd\" fill-opacity=\"1\" /><path clip-path=\"url(#clip270)\" d=\"M252.926 1517.37 Q249.315 1517.37 247.486 1520.93 Q245.681 1524.47 245.681 1531.6 Q245.681 1538.71 247.486 1542.27 Q249.315 1545.82 252.926 1545.82 Q256.56 1545.82 258.366 1542.27 Q260.195 1538.71 260.195 1531.6 Q260.195 1524.47 258.366 1520.93 Q256.56 1517.37 252.926 1517.37 M252.926 1513.66 Q258.736 1513.66 261.792 1518.27 Q264.871 1522.85 264.871 1531.6 Q264.871 1540.33 261.792 1544.94 Q258.736 1549.52 252.926 1549.52 Q247.116 1549.52 244.037 1544.94 Q240.982 1540.33 240.982 1531.6 Q240.982 1522.85 244.037 1518.27 Q247.116 1513.66 252.926 1513.66 Z\" fill=\"#000000\" fill-rule=\"evenodd\" fill-opacity=\"1\" /><path clip-path=\"url(#clip270)\" d=\"M283.088 1517.37 Q279.477 1517.37 277.648 1520.93 Q275.843 1524.47 275.843 1531.6 Q275.843 1538.71 277.648 1542.27 Q279.477 1545.82 283.088 1545.82 Q286.722 1545.82 288.528 1542.27 Q290.357 1538.71 290.357 1531.6 Q290.357 1524.47 288.528 1520.93 Q286.722 1517.37 283.088 1517.37 M283.088 1513.66 Q288.898 1513.66 291.954 1518.27 Q295.032 1522.85 295.032 1531.6 Q295.032 1540.33 291.954 1544.94 Q288.898 1549.52 283.088 1549.52 Q277.278 1549.52 274.199 1544.94 Q271.144 1540.33 271.144 1531.6 Q271.144 1522.85 274.199 1518.27 Q277.278 1513.66 283.088 1513.66 Z\" fill=\"#000000\" fill-rule=\"evenodd\" fill-opacity=\"1\" /><path clip-path=\"url(#clip270)\" d=\"M713.675 1544.91 L729.994 1544.91 L729.994 1548.85 L708.05 1548.85 L708.05 1544.91 Q710.712 1542.16 715.295 1537.53 Q719.901 1532.88 721.082 1531.53 Q723.327 1529.01 724.207 1527.27 Q725.11 1525.51 725.11 1523.82 Q725.11 1521.07 723.165 1519.33 Q721.244 1517.6 718.142 1517.6 Q715.943 1517.6 713.489 1518.36 Q711.059 1519.13 708.281 1520.68 L708.281 1515.95 Q711.105 1514.82 713.559 1514.24 Q716.013 1513.66 718.05 1513.66 Q723.42 1513.66 726.614 1516.35 Q729.809 1519.03 729.809 1523.52 Q729.809 1525.65 728.999 1527.57 Q728.212 1529.47 726.105 1532.07 Q725.526 1532.74 722.425 1535.95 Q719.323 1539.15 713.675 1544.91 Z\" fill=\"#000000\" fill-rule=\"evenodd\" fill-opacity=\"1\" /><path clip-path=\"url(#clip270)\" d=\"M739.809 1542.97 L744.693 1542.97 L744.693 1548.85 L739.809 1548.85 L739.809 1542.97 Z\" fill=\"#000000\" fill-rule=\"evenodd\" fill-opacity=\"1\" /><path clip-path=\"url(#clip270)\" d=\"M758.906 1544.91 L775.225 1544.91 L775.225 1548.85 L753.281 1548.85 L753.281 1544.91 Q755.943 1542.16 760.526 1537.53 Q765.133 1532.88 766.313 1531.53 Q768.559 1529.01 769.438 1527.27 Q770.341 1525.51 770.341 1523.82 Q770.341 1521.07 768.396 1519.33 Q766.475 1517.6 763.373 1517.6 Q761.174 1517.6 758.721 1518.36 Q756.29 1519.13 753.512 1520.68 L753.512 1515.95 Q756.336 1514.82 758.79 1514.24 Q761.244 1513.66 763.281 1513.66 Q768.651 1513.66 771.846 1516.35 Q775.04 1519.03 775.04 1523.52 Q775.04 1525.65 774.23 1527.57 Q773.443 1529.47 771.336 1532.07 Q770.758 1532.74 767.656 1535.95 Q764.554 1539.15 758.906 1544.91 Z\" fill=\"#000000\" fill-rule=\"evenodd\" fill-opacity=\"1\" /><path clip-path=\"url(#clip270)\" d=\"M785.086 1514.29 L803.443 1514.29 L803.443 1518.22 L789.369 1518.22 L789.369 1526.7 Q790.387 1526.35 791.406 1526.19 Q792.424 1526 793.443 1526 Q799.23 1526 802.609 1529.17 Q805.989 1532.34 805.989 1537.76 Q805.989 1543.34 802.517 1546.44 Q799.044 1549.52 792.725 1549.52 Q790.549 1549.52 788.281 1549.15 Q786.035 1548.78 783.628 1548.04 L783.628 1543.34 Q785.711 1544.47 787.933 1545.03 Q790.156 1545.58 792.632 1545.58 Q796.637 1545.58 798.975 1543.48 Q801.313 1541.37 801.313 1537.76 Q801.313 1534.15 798.975 1532.04 Q796.637 1529.94 792.632 1529.94 Q790.757 1529.94 788.882 1530.35 Q787.031 1530.77 785.086 1531.65 L785.086 1514.29 Z\" fill=\"#000000\" fill-rule=\"evenodd\" fill-opacity=\"1\" /><path clip-path=\"url(#clip270)\" d=\"M1224.63 1544.91 L1240.95 1544.91 L1240.95 1548.85 L1219.01 1548.85 L1219.01 1544.91 Q1221.67 1542.16 1226.25 1537.53 Q1230.86 1532.88 1232.04 1531.53 Q1234.28 1529.01 1235.16 1527.27 Q1236.07 1525.51 1236.07 1523.82 Q1236.07 1521.07 1234.12 1519.33 Q1232.2 1517.6 1229.1 1517.6 Q1226.9 1517.6 1224.45 1518.36 Q1222.02 1519.13 1219.24 1520.68 L1219.24 1515.95 Q1222.06 1514.82 1224.52 1514.24 Q1226.97 1513.66 1229.01 1513.66 Q1234.38 1513.66 1237.57 1516.35 Q1240.77 1519.03 1240.77 1523.52 Q1240.77 1525.65 1239.95 1527.57 Q1239.17 1529.47 1237.06 1532.07 Q1236.48 1532.74 1233.38 1535.95 Q1230.28 1539.15 1224.63 1544.91 Z\" fill=\"#000000\" fill-rule=\"evenodd\" fill-opacity=\"1\" /><path clip-path=\"url(#clip270)\" d=\"M1250.77 1542.97 L1255.65 1542.97 L1255.65 1548.85 L1250.77 1548.85 L1250.77 1542.97 Z\" fill=\"#000000\" fill-rule=\"evenodd\" fill-opacity=\"1\" /><path clip-path=\"url(#clip270)\" d=\"M1265.88 1514.29 L1284.24 1514.29 L1284.24 1518.22 L1270.16 1518.22 L1270.16 1526.7 Q1271.18 1526.35 1272.2 1526.19 Q1273.22 1526 1274.24 1526 Q1280.02 1526 1283.4 1529.17 Q1286.78 1532.34 1286.78 1537.76 Q1286.78 1543.34 1283.31 1546.44 Q1279.84 1549.52 1273.52 1549.52 Q1271.34 1549.52 1269.08 1549.15 Q1266.83 1548.78 1264.42 1548.04 L1264.42 1543.34 Q1266.51 1544.47 1268.73 1545.03 Q1270.95 1545.58 1273.43 1545.58 Q1277.43 1545.58 1279.77 1543.48 Q1282.11 1541.37 1282.11 1537.76 Q1282.11 1534.15 1279.77 1532.04 Q1277.43 1529.94 1273.43 1529.94 Q1271.55 1529.94 1269.68 1530.35 Q1267.83 1530.77 1265.88 1531.65 L1265.88 1514.29 Z\" fill=\"#000000\" fill-rule=\"evenodd\" fill-opacity=\"1\" /><path clip-path=\"url(#clip270)\" d=\"M1306 1517.37 Q1302.39 1517.37 1300.56 1520.93 Q1298.75 1524.47 1298.75 1531.6 Q1298.75 1538.71 1300.56 1542.27 Q1302.39 1545.82 1306 1545.82 Q1309.63 1545.82 1311.44 1542.27 Q1313.26 1538.71 1313.26 1531.6 Q1313.26 1524.47 1311.44 1520.93 Q1309.63 1517.37 1306 1517.37 M1306 1513.66 Q1311.81 1513.66 1314.86 1518.27 Q1317.94 1522.85 1317.94 1531.6 Q1317.94 1540.33 1314.86 1544.94 Q1311.81 1549.52 1306 1549.52 Q1300.19 1549.52 1297.11 1544.94 Q1294.05 1540.33 1294.05 1531.6 Q1294.05 1522.85 1297.11 1518.27 Q1300.19 1513.66 1306 1513.66 Z\" fill=\"#000000\" fill-rule=\"evenodd\" fill-opacity=\"1\" /><path clip-path=\"url(#clip270)\" d=\"M1736.58 1544.91 L1752.9 1544.91 L1752.9 1548.85 L1730.96 1548.85 L1730.96 1544.91 Q1733.62 1542.16 1738.2 1537.53 Q1742.81 1532.88 1743.99 1531.53 Q1746.24 1529.01 1747.12 1527.27 Q1748.02 1525.51 1748.02 1523.82 Q1748.02 1521.07 1746.07 1519.33 Q1744.15 1517.6 1741.05 1517.6 Q1738.85 1517.6 1736.4 1518.36 Q1733.97 1519.13 1731.19 1520.68 L1731.19 1515.95 Q1734.01 1514.82 1736.47 1514.24 Q1738.92 1513.66 1740.96 1513.66 Q1746.33 1513.66 1749.52 1516.35 Q1752.72 1519.03 1752.72 1523.52 Q1752.72 1525.65 1751.91 1527.57 Q1751.12 1529.47 1749.01 1532.07 Q1748.43 1532.74 1745.33 1535.95 Q1742.23 1539.15 1736.58 1544.91 Z\" fill=\"#000000\" fill-rule=\"evenodd\" fill-opacity=\"1\" /><path clip-path=\"url(#clip270)\" d=\"M1762.72 1542.97 L1767.6 1542.97 L1767.6 1548.85 L1762.72 1548.85 L1762.72 1542.97 Z\" fill=\"#000000\" fill-rule=\"evenodd\" fill-opacity=\"1\" /><path clip-path=\"url(#clip270)\" d=\"M1776.61 1514.29 L1798.83 1514.29 L1798.83 1516.28 L1786.28 1548.85 L1781.4 1548.85 L1793.2 1518.22 L1776.61 1518.22 L1776.61 1514.29 Z\" fill=\"#000000\" fill-rule=\"evenodd\" fill-opacity=\"1\" /><path clip-path=\"url(#clip270)\" d=\"M1807.99 1514.29 L1826.35 1514.29 L1826.35 1518.22 L1812.28 1518.22 L1812.28 1526.7 Q1813.3 1526.35 1814.31 1526.19 Q1815.33 1526 1816.35 1526 Q1822.14 1526 1825.52 1529.17 Q1828.9 1532.34 1828.9 1537.76 Q1828.9 1543.34 1825.42 1546.44 Q1821.95 1549.52 1815.63 1549.52 Q1813.46 1549.52 1811.19 1549.15 Q1808.94 1548.78 1806.54 1548.04 L1806.54 1543.34 Q1808.62 1544.47 1810.84 1545.03 Q1813.06 1545.58 1815.54 1545.58 Q1819.55 1545.58 1821.88 1543.48 Q1824.22 1541.37 1824.22 1537.76 Q1824.22 1534.15 1821.88 1532.04 Q1819.55 1529.94 1815.54 1529.94 Q1813.67 1529.94 1811.79 1530.35 Q1809.94 1530.77 1807.99 1531.65 L1807.99 1514.29 Z\" fill=\"#000000\" fill-rule=\"evenodd\" fill-opacity=\"1\" /><path clip-path=\"url(#clip270)\" d=\"M2257.61 1530.21 Q2260.96 1530.93 2262.84 1533.2 Q2264.74 1535.47 2264.74 1538.8 Q2264.74 1543.92 2261.22 1546.72 Q2257.7 1549.52 2251.22 1549.52 Q2249.04 1549.52 2246.73 1549.08 Q2244.44 1548.66 2241.98 1547.81 L2241.98 1543.29 Q2243.93 1544.43 2246.24 1545.01 Q2248.56 1545.58 2251.08 1545.58 Q2255.48 1545.58 2257.77 1543.85 Q2260.09 1542.11 2260.09 1538.8 Q2260.09 1535.75 2257.93 1534.03 Q2255.8 1532.3 2251.98 1532.3 L2247.96 1532.3 L2247.96 1528.45 L2252.17 1528.45 Q2255.62 1528.45 2257.45 1527.09 Q2259.28 1525.7 2259.28 1523.11 Q2259.28 1520.45 2257.38 1519.03 Q2255.5 1517.6 2251.98 1517.6 Q2250.06 1517.6 2247.86 1518.01 Q2245.66 1518.43 2243.03 1519.31 L2243.03 1515.14 Q2245.69 1514.4 2248 1514.03 Q2250.34 1513.66 2252.4 1513.66 Q2257.72 1513.66 2260.83 1516.09 Q2263.93 1518.5 2263.93 1522.62 Q2263.93 1525.49 2262.28 1527.48 Q2260.64 1529.45 2257.61 1530.21 Z\" fill=\"#000000\" fill-rule=\"evenodd\" fill-opacity=\"1\" /><path clip-path=\"url(#clip270)\" d=\"M2273.6 1542.97 L2278.49 1542.97 L2278.49 1548.85 L2273.6 1548.85 L2273.6 1542.97 Z\" fill=\"#000000\" fill-rule=\"evenodd\" fill-opacity=\"1\" /><path clip-path=\"url(#clip270)\" d=\"M2298.67 1517.37 Q2295.06 1517.37 2293.23 1520.93 Q2291.43 1524.47 2291.43 1531.6 Q2291.43 1538.71 2293.23 1542.27 Q2295.06 1545.82 2298.67 1545.82 Q2302.31 1545.82 2304.11 1542.27 Q2305.94 1538.71 2305.94 1531.6 Q2305.94 1524.47 2304.11 1520.93 Q2302.31 1517.37 2298.67 1517.37 M2298.67 1513.66 Q2304.48 1513.66 2307.54 1518.27 Q2310.62 1522.85 2310.62 1531.6 Q2310.62 1540.33 2307.54 1544.94 Q2304.48 1549.52 2298.67 1549.52 Q2292.86 1549.52 2289.78 1544.94 Q2286.73 1540.33 2286.73 1531.6 Q2286.73 1522.85 2289.78 1518.27 Q2292.86 1513.66 2298.67 1513.66 Z\" fill=\"#000000\" fill-rule=\"evenodd\" fill-opacity=\"1\" /><path clip-path=\"url(#clip270)\" d=\"M2328.83 1517.37 Q2325.22 1517.37 2323.4 1520.93 Q2321.59 1524.47 2321.59 1531.6 Q2321.59 1538.71 2323.4 1542.27 Q2325.22 1545.82 2328.83 1545.82 Q2332.47 1545.82 2334.27 1542.27 Q2336.1 1538.71 2336.1 1531.6 Q2336.1 1524.47 2334.27 1520.93 Q2332.47 1517.37 2328.83 1517.37 M2328.83 1513.66 Q2334.65 1513.66 2337.7 1518.27 Q2340.78 1522.85 2340.78 1531.6 Q2340.78 1540.33 2337.7 1544.94 Q2334.65 1549.52 2328.83 1549.52 Q2323.02 1549.52 2319.95 1544.94 Q2316.89 1540.33 2316.89 1531.6 Q2316.89 1522.85 2319.95 1518.27 Q2323.02 1513.66 2328.83 1513.66 Z\" fill=\"#000000\" fill-rule=\"evenodd\" fill-opacity=\"1\" /><polyline clip-path=\"url(#clip272)\" style=\"stroke:#000000; stroke-linecap:butt; stroke-linejoin:round; stroke-width:2; stroke-opacity:0.1; fill:none\" points=\"\n",
       "  184.191,1393.61 2352.76,1393.61 \n",
       "  \"/>\n",
       "<polyline clip-path=\"url(#clip272)\" style=\"stroke:#000000; stroke-linecap:butt; stroke-linejoin:round; stroke-width:2; stroke-opacity:0.1; fill:none\" points=\"\n",
       "  184.191,1099.69 2352.76,1099.69 \n",
       "  \"/>\n",
       "<polyline clip-path=\"url(#clip272)\" style=\"stroke:#000000; stroke-linecap:butt; stroke-linejoin:round; stroke-width:2; stroke-opacity:0.1; fill:none\" points=\"\n",
       "  184.191,805.779 2352.76,805.779 \n",
       "  \"/>\n",
       "<polyline clip-path=\"url(#clip272)\" style=\"stroke:#000000; stroke-linecap:butt; stroke-linejoin:round; stroke-width:2; stroke-opacity:0.1; fill:none\" points=\"\n",
       "  184.191,511.865 2352.76,511.865 \n",
       "  \"/>\n",
       "<polyline clip-path=\"url(#clip272)\" style=\"stroke:#000000; stroke-linecap:butt; stroke-linejoin:round; stroke-width:2; stroke-opacity:0.1; fill:none\" points=\"\n",
       "  184.191,217.951 2352.76,217.951 \n",
       "  \"/>\n",
       "<polyline clip-path=\"url(#clip270)\" style=\"stroke:#000000; stroke-linecap:butt; stroke-linejoin:round; stroke-width:4; stroke-opacity:1; fill:none\" points=\"\n",
       "  184.191,1486.45 184.191,47.2441 \n",
       "  \"/>\n",
       "<polyline clip-path=\"url(#clip270)\" style=\"stroke:#000000; stroke-linecap:butt; stroke-linejoin:round; stroke-width:4; stroke-opacity:1; fill:none\" points=\"\n",
       "  184.191,1393.61 203.088,1393.61 \n",
       "  \"/>\n",
       "<polyline clip-path=\"url(#clip270)\" style=\"stroke:#000000; stroke-linecap:butt; stroke-linejoin:round; stroke-width:4; stroke-opacity:1; fill:none\" points=\"\n",
       "  184.191,1099.69 203.088,1099.69 \n",
       "  \"/>\n",
       "<polyline clip-path=\"url(#clip270)\" style=\"stroke:#000000; stroke-linecap:butt; stroke-linejoin:round; stroke-width:4; stroke-opacity:1; fill:none\" points=\"\n",
       "  184.191,805.779 203.088,805.779 \n",
       "  \"/>\n",
       "<polyline clip-path=\"url(#clip270)\" style=\"stroke:#000000; stroke-linecap:butt; stroke-linejoin:round; stroke-width:4; stroke-opacity:1; fill:none\" points=\"\n",
       "  184.191,511.865 203.088,511.865 \n",
       "  \"/>\n",
       "<polyline clip-path=\"url(#clip270)\" style=\"stroke:#000000; stroke-linecap:butt; stroke-linejoin:round; stroke-width:4; stroke-opacity:1; fill:none\" points=\"\n",
       "  184.191,217.951 203.088,217.951 \n",
       "  \"/>\n",
       "<path clip-path=\"url(#clip270)\" d=\"M91.0151 1379.4 Q87.404 1379.4 85.5753 1382.97 Q83.7697 1386.51 83.7697 1393.64 Q83.7697 1400.75 85.5753 1404.31 Q87.404 1407.85 91.0151 1407.85 Q94.6493 1407.85 96.4548 1404.31 Q98.2835 1400.75 98.2835 1393.64 Q98.2835 1386.51 96.4548 1382.97 Q94.6493 1379.4 91.0151 1379.4 M91.0151 1375.7 Q96.8252 1375.7 99.8808 1380.31 Q102.959 1384.89 102.959 1393.64 Q102.959 1402.37 99.8808 1406.97 Q96.8252 1411.56 91.0151 1411.56 Q85.2049 1411.56 82.1262 1406.97 Q79.0707 1402.37 79.0707 1393.64 Q79.0707 1384.89 82.1262 1380.31 Q85.2049 1375.7 91.0151 1375.7 Z\" fill=\"#000000\" fill-rule=\"evenodd\" fill-opacity=\"1\" /><path clip-path=\"url(#clip270)\" d=\"M111.177 1405.01 L116.061 1405.01 L116.061 1410.89 L111.177 1410.89 L111.177 1405.01 Z\" fill=\"#000000\" fill-rule=\"evenodd\" fill-opacity=\"1\" /><path clip-path=\"url(#clip270)\" d=\"M136.246 1379.4 Q132.635 1379.4 130.807 1382.97 Q129.001 1386.51 129.001 1393.64 Q129.001 1400.75 130.807 1404.31 Q132.635 1407.85 136.246 1407.85 Q139.881 1407.85 141.686 1404.31 Q143.515 1400.75 143.515 1393.64 Q143.515 1386.51 141.686 1382.97 Q139.881 1379.4 136.246 1379.4 M136.246 1375.7 Q142.056 1375.7 145.112 1380.31 Q148.191 1384.89 148.191 1393.64 Q148.191 1402.37 145.112 1406.97 Q142.056 1411.56 136.246 1411.56 Q130.436 1411.56 127.357 1406.97 Q124.302 1402.37 124.302 1393.64 Q124.302 1384.89 127.357 1380.31 Q130.436 1375.7 136.246 1375.7 Z\" fill=\"#000000\" fill-rule=\"evenodd\" fill-opacity=\"1\" /><path clip-path=\"url(#clip270)\" d=\"M86.0382 1113.04 L102.358 1113.04 L102.358 1116.97 L80.4133 1116.97 L80.4133 1113.04 Q83.0753 1110.28 87.6586 1105.65 Q92.2651 1101 93.4456 1099.66 Q95.691 1097.13 96.5706 1095.4 Q97.4734 1093.64 97.4734 1091.95 Q97.4734 1089.19 95.5289 1087.46 Q93.6076 1085.72 90.5058 1085.72 Q88.3067 1085.72 85.8531 1086.49 Q83.4225 1087.25 80.6447 1088.8 L80.6447 1084.08 Q83.4688 1082.94 85.9225 1082.37 Q88.3762 1081.79 90.4132 1081.79 Q95.7836 1081.79 98.978 1084.47 Q102.172 1087.16 102.172 1091.65 Q102.172 1093.78 101.362 1095.7 Q100.575 1097.6 98.4687 1100.19 Q97.89 1100.86 94.7882 1104.08 Q91.6864 1107.27 86.0382 1113.04 Z\" fill=\"#000000\" fill-rule=\"evenodd\" fill-opacity=\"1\" /><path clip-path=\"url(#clip270)\" d=\"M112.172 1111.09 L117.057 1111.09 L117.057 1116.97 L112.172 1116.97 L112.172 1111.09 Z\" fill=\"#000000\" fill-rule=\"evenodd\" fill-opacity=\"1\" /><path clip-path=\"url(#clip270)\" d=\"M127.288 1082.41 L145.644 1082.41 L145.644 1086.35 L131.57 1086.35 L131.57 1094.82 Q132.589 1094.47 133.607 1094.31 Q134.626 1094.13 135.644 1094.13 Q141.431 1094.13 144.811 1097.3 Q148.191 1100.47 148.191 1105.88 Q148.191 1111.46 144.718 1114.57 Q141.246 1117.64 134.927 1117.64 Q132.751 1117.64 130.482 1117.27 Q128.237 1116.9 125.83 1116.16 L125.83 1111.46 Q127.913 1112.6 130.135 1113.15 Q132.357 1113.71 134.834 1113.71 Q138.839 1113.71 141.177 1111.6 Q143.515 1109.5 143.515 1105.88 Q143.515 1102.27 141.177 1100.17 Q138.839 1098.06 134.834 1098.06 Q132.959 1098.06 131.084 1098.48 Q129.232 1098.89 127.288 1099.77 L127.288 1082.41 Z\" fill=\"#000000\" fill-rule=\"evenodd\" fill-opacity=\"1\" /><path clip-path=\"url(#clip270)\" d=\"M81.0614 788.499 L99.4178 788.499 L99.4178 792.434 L85.3438 792.434 L85.3438 800.906 Q86.3623 800.559 87.3808 800.397 Q88.3993 800.212 89.4178 800.212 Q95.2049 800.212 98.5845 803.383 Q101.964 806.554 101.964 811.971 Q101.964 817.549 98.4919 820.651 Q95.0197 823.73 88.7003 823.73 Q86.5243 823.73 84.2558 823.36 Q82.0105 822.989 79.6031 822.248 L79.6031 817.549 Q81.6864 818.684 83.9086 819.239 Q86.1308 819.795 88.6077 819.795 Q92.6123 819.795 94.9502 817.688 Q97.2882 815.582 97.2882 811.971 Q97.2882 808.36 94.9502 806.253 Q92.6123 804.147 88.6077 804.147 Q86.7327 804.147 84.8577 804.563 Q83.0058 804.98 81.0614 805.86 L81.0614 788.499 Z\" fill=\"#000000\" fill-rule=\"evenodd\" fill-opacity=\"1\" /><path clip-path=\"url(#clip270)\" d=\"M111.177 817.179 L116.061 817.179 L116.061 823.059 L111.177 823.059 L111.177 817.179 Z\" fill=\"#000000\" fill-rule=\"evenodd\" fill-opacity=\"1\" /><path clip-path=\"url(#clip270)\" d=\"M136.246 791.577 Q132.635 791.577 130.807 795.142 Q129.001 798.684 129.001 805.813 Q129.001 812.92 130.807 816.485 Q132.635 820.026 136.246 820.026 Q139.881 820.026 141.686 816.485 Q143.515 812.92 143.515 805.813 Q143.515 798.684 141.686 795.142 Q139.881 791.577 136.246 791.577 M136.246 787.874 Q142.056 787.874 145.112 792.48 Q148.191 797.063 148.191 805.813 Q148.191 814.54 145.112 819.147 Q142.056 823.73 136.246 823.73 Q130.436 823.73 127.357 819.147 Q124.302 814.54 124.302 805.813 Q124.302 797.063 127.357 792.48 Q130.436 787.874 136.246 787.874 Z\" fill=\"#000000\" fill-rule=\"evenodd\" fill-opacity=\"1\" /><path clip-path=\"url(#clip270)\" d=\"M80.8299 494.585 L103.052 494.585 L103.052 496.576 L90.5058 529.145 L85.6216 529.145 L97.4271 498.52 L80.8299 498.52 L80.8299 494.585 Z\" fill=\"#000000\" fill-rule=\"evenodd\" fill-opacity=\"1\" /><path clip-path=\"url(#clip270)\" d=\"M112.172 523.265 L117.057 523.265 L117.057 529.145 L112.172 529.145 L112.172 523.265 Z\" fill=\"#000000\" fill-rule=\"evenodd\" fill-opacity=\"1\" /><path clip-path=\"url(#clip270)\" d=\"M127.288 494.585 L145.644 494.585 L145.644 498.52 L131.57 498.52 L131.57 506.992 Q132.589 506.645 133.607 506.483 Q134.626 506.298 135.644 506.298 Q141.431 506.298 144.811 509.469 Q148.191 512.64 148.191 518.057 Q148.191 523.636 144.718 526.737 Q141.246 529.816 134.927 529.816 Q132.751 529.816 130.482 529.446 Q128.237 529.075 125.83 528.335 L125.83 523.636 Q127.913 524.77 130.135 525.325 Q132.357 525.881 134.834 525.881 Q138.839 525.881 141.177 523.775 Q143.515 521.668 143.515 518.057 Q143.515 514.446 141.177 512.339 Q138.839 510.233 134.834 510.233 Q132.959 510.233 131.084 510.65 Q129.232 511.066 127.288 511.946 L127.288 494.585 Z\" fill=\"#000000\" fill-rule=\"evenodd\" fill-opacity=\"1\" /><path clip-path=\"url(#clip270)\" d=\"M51.6634 231.296 L59.3023 231.296 L59.3023 204.93 L50.9921 206.597 L50.9921 202.338 L59.256 200.671 L63.9319 200.671 L63.9319 231.296 L71.5707 231.296 L71.5707 235.231 L51.6634 235.231 L51.6634 231.296 Z\" fill=\"#000000\" fill-rule=\"evenodd\" fill-opacity=\"1\" /><path clip-path=\"url(#clip270)\" d=\"M91.0151 203.75 Q87.404 203.75 85.5753 207.315 Q83.7697 210.856 83.7697 217.986 Q83.7697 225.092 85.5753 228.657 Q87.404 232.199 91.0151 232.199 Q94.6493 232.199 96.4548 228.657 Q98.2835 225.092 98.2835 217.986 Q98.2835 210.856 96.4548 207.315 Q94.6493 203.75 91.0151 203.75 M91.0151 200.046 Q96.8252 200.046 99.8808 204.653 Q102.959 209.236 102.959 217.986 Q102.959 226.713 99.8808 231.319 Q96.8252 235.902 91.0151 235.902 Q85.2049 235.902 82.1262 231.319 Q79.0707 226.713 79.0707 217.986 Q79.0707 209.236 82.1262 204.653 Q85.2049 200.046 91.0151 200.046 Z\" fill=\"#000000\" fill-rule=\"evenodd\" fill-opacity=\"1\" /><path clip-path=\"url(#clip270)\" d=\"M111.177 229.351 L116.061 229.351 L116.061 235.231 L111.177 235.231 L111.177 229.351 Z\" fill=\"#000000\" fill-rule=\"evenodd\" fill-opacity=\"1\" /><path clip-path=\"url(#clip270)\" d=\"M136.246 203.75 Q132.635 203.75 130.807 207.315 Q129.001 210.856 129.001 217.986 Q129.001 225.092 130.807 228.657 Q132.635 232.199 136.246 232.199 Q139.881 232.199 141.686 228.657 Q143.515 225.092 143.515 217.986 Q143.515 210.856 141.686 207.315 Q139.881 203.75 136.246 203.75 M136.246 200.046 Q142.056 200.046 145.112 204.653 Q148.191 209.236 148.191 217.986 Q148.191 226.713 145.112 231.319 Q142.056 235.902 136.246 235.902 Q130.436 235.902 127.357 231.319 Q124.302 226.713 124.302 217.986 Q124.302 209.236 127.357 204.653 Q130.436 200.046 136.246 200.046 Z\" fill=\"#000000\" fill-rule=\"evenodd\" fill-opacity=\"1\" /><polyline clip-path=\"url(#clip272)\" style=\"stroke:#009af9; stroke-linecap:butt; stroke-linejoin:round; stroke-width:4; stroke-opacity:1; fill:none\" points=\"\n",
       "  245.565,1445.72 450.147,1375.21 654.728,1293.91 859.31,1200.61 1063.89,1094 1268.47,972.697 1473.05,835.175 1677.64,679.797 1882.22,504.787 2086.8,308.214 \n",
       "  2291.38,87.9763 \n",
       "  \"/>\n",
       "<path clip-path=\"url(#clip270)\" d=\"\n",
       "M1987.09 198.898 L2280.47 198.898 L2280.47 95.2176 L1987.09 95.2176  Z\n",
       "  \" fill=\"#ffffff\" fill-rule=\"evenodd\" fill-opacity=\"1\"/>\n",
       "<polyline clip-path=\"url(#clip270)\" style=\"stroke:#000000; stroke-linecap:butt; stroke-linejoin:round; stroke-width:4; stroke-opacity:1; fill:none\" points=\"\n",
       "  1987.09,198.898 2280.47,198.898 2280.47,95.2176 1987.09,95.2176 1987.09,198.898 \n",
       "  \"/>\n",
       "<polyline clip-path=\"url(#clip270)\" style=\"stroke:#009af9; stroke-linecap:butt; stroke-linejoin:round; stroke-width:4; stroke-opacity:1; fill:none\" points=\"\n",
       "  2011.18,147.058 2155.75,147.058 \n",
       "  \"/>\n",
       "<path clip-path=\"url(#clip270)\" d=\"M2193.69 166.745 Q2191.89 171.375 2190.17 172.787 Q2188.46 174.199 2185.59 174.199 L2182.19 174.199 L2182.19 170.634 L2184.69 170.634 Q2186.45 170.634 2187.42 169.8 Q2188.39 168.967 2189.57 165.865 L2190.34 163.921 L2179.85 138.412 L2184.36 138.412 L2192.47 158.689 L2200.57 138.412 L2205.08 138.412 L2193.69 166.745 Z\" fill=\"#000000\" fill-rule=\"evenodd\" fill-opacity=\"1\" /><path clip-path=\"url(#clip270)\" d=\"M2212.37 160.402 L2220.01 160.402 L2220.01 134.037 L2211.7 135.703 L2211.7 131.444 L2219.97 129.778 L2224.64 129.778 L2224.64 160.402 L2232.28 160.402 L2232.28 164.338 L2212.37 164.338 L2212.37 160.402 Z\" fill=\"#000000\" fill-rule=\"evenodd\" fill-opacity=\"1\" /></svg>\n"
      ]
     },
     "metadata": {},
     "output_type": "display_data"
    }
   ],
   "source": [
    "r=2.0:0.1:3.0\n",
    "\n",
    "plot(r,f1.(r))"
   ]
  },
  {
   "cell_type": "code",
   "execution_count": 54,
   "id": "52f1df6e",
   "metadata": {},
   "outputs": [
    {
     "name": "stdout",
     "output_type": "stream",
     "text": [
      "Metodo de Newton : El valor de x es 2.0752694070309663, iteraciones : 6"
     ]
    }
   ],
   "source": [
    "y,x,n=newton_raphson(f1,df1,2.5,eps(),100)\n",
    "print(\"Metodo de Newton : El valor de x es $x, iteraciones : $n\")"
   ]
  },
  {
   "cell_type": "code",
   "execution_count": 68,
   "id": "7b05128d",
   "metadata": {},
   "outputs": [
    {
     "name": "stdout",
     "output_type": "stream",
     "text": [
      "Metodo de Newton (AutoDiff): El valor de x es 2.0752694070309663, iteraciones : 6"
     ]
    }
   ],
   "source": [
    "y,x,n=newton_raphson(f1,D1(f1),2.5,eps(),100)\n",
    "print(\"Metodo de Newton (AutoDiff): El valor de x es $x, iteraciones : $n\")"
   ]
  },
  {
   "cell_type": "code",
   "execution_count": 82,
   "id": "9ffd4208",
   "metadata": {},
   "outputs": [
    {
     "name": "stdout",
     "output_type": "stream",
     "text": [
      "Metodo de la Biseccion : El valor de x es 2.0752694070309663, iteraciones : 50"
     ]
    }
   ],
   "source": [
    "tracker = Roots.Tracks()\n",
    "x=find_zero(f1, (2.0,3.0), Roots.Bisection(),tracks=tracker)\n",
    "n=tracker.steps\n",
    "print(\"Metodo de la Biseccion : El valor de x es $x, iteraciones : $n\")"
   ]
  },
  {
   "cell_type": "code",
   "execution_count": 88,
   "id": "50d700bd",
   "metadata": {},
   "outputs": [
    {
     "name": "stdout",
     "output_type": "stream",
     "text": [
      "(2,3)\n",
      "(2,2.5)\n",
      "(2,2.25)\n",
      "(2,2.125)\n",
      "(2.0625,2.125)\n",
      "(2.0625,2.09375)\n",
      "(2.0625,2.078125)\n",
      "(2.0703125,2.078125)\n",
      "(2.07421875,2.078125)\n",
      "(2.07421875,2.076171875)\n",
      "(2.0751953125,2.076171875)\n",
      "(2.0751953125,2.07568359375)\n",
      "(2.0751953125,2.075439453125)\n",
      "(2.0751953125,2.0753173828125)\n",
      "(2.07525634765625,2.0753173828125)\n",
      "(2.07525634765625,2.075286865234375)\n",
      "(2.07525634765625,2.0752716064453125)\n",
      "(2.0752639770507812,2.0752716064453125)\n",
      "(2.075267791748047,2.0752716064453125)\n",
      "(2.075267791748047,2.0752696990966797)\n",
      "(2.0752687454223633,2.0752696990966797)\n",
      "(2.0752692222595215,2.0752696990966797)\n",
      "(2.0752692222595215,2.0752694606781006)\n",
      "(2.075269341468811,2.0752694606781006)\n",
      "(2.075269401073456,2.0752694606781006)\n",
      "(2.075269401073456,2.075269430875778)\n",
      "(2.075269401073456,2.075269415974617)\n",
      "(2.075269401073456,2.0752694085240364)\n",
      "(2.075269404798746,2.0752694085240364)\n",
      "(2.0752694066613913,2.0752694085240364)\n",
      "(2.0752694066613913,2.075269407592714)\n",
      "(2.0752694066613913,2.0752694071270525)\n",
      "(2.075269406894222,2.0752694071270525)\n",
      "(2.0752694070106372,2.0752694071270525)\n",
      "(2.0752694070106372,2.075269407068845)\n",
      "(2.0752694070106372,2.075269407039741)\n",
      "(2.075269407025189,2.075269407039741)\n",
      "(2.075269407025189,2.075269407032465)\n",
      "(2.075269407028827,2.075269407032465)\n",
      "(2.075269407030646,2.075269407032465)\n",
      "(2.075269407030646,2.0752694070315556)\n",
      "(2.075269407030646,2.075269407031101)\n",
      "(2.0752694070308735,2.075269407031101)\n",
      "(2.0752694070308735,2.075269407030987)\n",
      "(2.0752694070309303,2.075269407030987)\n",
      "(2.0752694070309587,2.075269407030987)\n",
      "(2.0752694070309587,2.075269407030973)\n",
      "(2.075269407030966,2.075269407030973)\n",
      "(2.075269407030966,2.0752694070309694)\n",
      "(2.075269407030966,2.0752694070309676)\n",
      "(2.075269407030966,2.0752694070309667)\n",
      "Metodo de la Biseccion : El valor de x es 2.0752694070309663, iteraciones : 52"
     ]
    }
   ],
   "source": [
    "y,x,n,a,b=bisection(f1,2,3,eps(),51)\n",
    "print(\"Metodo de la Biseccion : El valor de x es $x, iteraciones : $n\")"
   ]
  },
  {
   "cell_type": "code",
   "execution_count": 89,
   "id": "129c8787",
   "metadata": {},
   "outputs": [
    {
     "data": {
      "text/plain": [
       "Results of univariate zero finding:\n",
       "\n",
       "* Converged to: 2.0752694070309663\n",
       "* Algorithm: Bisection()\n",
       "* iterations: 50\n",
       "* function evaluations ≈ 53\n",
       "* stopped as x_n ≈ x_{n-1} using atol=xatol, rtol=xrtol\n",
       "\n",
       "Trace:\n",
       "(a₀, b₀) = ( 2, 2.5 )\n",
       "(a₁, b₁) = ( 2, 2.25 )\n",
       "(a₂, b₂) = ( 2, 2.125 )\n",
       "(a₃, b₃) = ( 2.0625, 2.125 )\n",
       "(a₄, b₄) = ( 2.0625, 2.09375 )\n",
       "(a₅, b₅) = ( 2.0625, 2.078125 )\n",
       "(a₆, b₆) = ( 2.0703125, 2.078125 )\n",
       "(a₇, b₇) = ( 2.07421875, 2.078125 )\n",
       "(a₈, b₈) = ( 2.07421875, 2.076171875 )\n",
       "(a₉, b₉) = ( 2.0751953125, 2.076171875 )\n",
       "(a₁₀, b₁₀) = ( 2.0751953125, 2.07568359375 )\n",
       "(a₁₁, b₁₁) = ( 2.0751953125, 2.075439453125 )\n",
       "(a₁₂, b₁₂) = ( 2.0751953125, 2.0753173828125 )\n",
       "(a₁₃, b₁₃) = ( 2.07525634765625, 2.0753173828125 )\n",
       "(a₁₄, b₁₄) = ( 2.07525634765625, 2.075286865234375 )\n",
       "(a₁₅, b₁₅) = ( 2.07525634765625, 2.0752716064453125 )\n",
       "(a₁₆, b₁₆) = ( 2.0752639770507812, 2.0752716064453125 )\n",
       "(a₁₇, b₁₇) = ( 2.0752677917480469, 2.0752716064453125 )\n",
       "(a₁₈, b₁₈) = ( 2.0752677917480469, 2.0752696990966797 )\n",
       "(a₁₉, b₁₉) = ( 2.0752687454223633, 2.0752696990966797 )\n",
       "(a₂₀, b₂₀) = ( 2.0752692222595215, 2.0752696990966797 )\n",
       "(a₂₁, b₂₁) = ( 2.0752692222595215, 2.0752694606781006 )\n",
       "(a₂₂, b₂₂) = ( 2.075269341468811, 2.0752694606781006 )\n",
       "(a₂₃, b₂₃) = ( 2.0752694010734558, 2.0752694606781006 )\n",
       "(a₂₄, b₂₄) = ( 2.0752694010734558, 2.0752694308757782 )\n",
       "(a₂₅, b₂₅) = ( 2.0752694010734558, 2.075269415974617 )\n",
       "(a₂₆, b₂₆) = ( 2.0752694010734558, 2.0752694085240364 )\n",
       "(a₂₇, b₂₇) = ( 2.0752694047987461, 2.0752694085240364 )\n",
       "(a₂₈, b₂₈) = ( 2.0752694066613913, 2.0752694085240364 )\n",
       "(a₂₉, b₂₉) = ( 2.0752694066613913, 2.0752694075927138 )\n",
       "(a₃₀, b₃₀) = ( 2.0752694066613913, 2.0752694071270525 )\n",
       "(a₃₁, b₃₁) = ( 2.0752694068942219, 2.0752694071270525 )\n",
       "(a₃₂, b₃₂) = ( 2.0752694070106372, 2.0752694071270525 )\n",
       "(a₃₃, b₃₃) = ( 2.0752694070106372, 2.0752694070688449 )\n",
       "(a₃₄, b₃₄) = ( 2.0752694070106372, 2.0752694070397411 )\n",
       "(a₃₅, b₃₅) = ( 2.0752694070251891, 2.0752694070397411 )\n",
       "(a₃₆, b₃₆) = ( 2.0752694070251891, 2.0752694070324651 )\n",
       "(a₃₇, b₃₇) = ( 2.0752694070288271, 2.0752694070324651 )\n",
       "(a₃₈, b₃₈) = ( 2.0752694070306461, 2.0752694070324651 )\n",
       "(a₃₉, b₃₉) = ( 2.0752694070306461, 2.0752694070315556 )\n",
       "(a₄₀, b₄₀) = ( 2.0752694070306461, 2.0752694070311009 )\n",
       "(a₄₁, b₄₁) = ( 2.0752694070308735, 2.0752694070311009 )\n",
       "(a₄₂, b₄₂) = ( 2.0752694070308735, 2.0752694070309872 )\n",
       "(a₄₃, b₄₃) = ( 2.0752694070309303, 2.0752694070309872 )\n",
       "(a₄₄, b₄₄) = ( 2.0752694070309587, 2.0752694070309872 )\n",
       "(a₄₅, b₄₅) = ( 2.0752694070309587, 2.075269407030973 )\n",
       "(a₄₆, b₄₆) = ( 2.0752694070309659, 2.075269407030973 )\n",
       "(a₄₇, b₄₇) = ( 2.0752694070309659, 2.0752694070309694 )\n",
       "(a₄₈, b₄₈) = ( 2.0752694070309659, 2.0752694070309676 )\n",
       "(a₄₉, b₄₉) = ( 2.0752694070309659, 2.0752694070309667 )\n",
       "(a₅₀, b₅₀) = ( 2.0752694070309659, 2.0752694070309663 )\n",
       "\n"
      ]
     },
     "metadata": {},
     "output_type": "display_data"
    }
   ],
   "source": [
    "tracker"
   ]
  },
  {
   "cell_type": "code",
   "execution_count": 98,
   "id": "cf244ef6",
   "metadata": {},
   "outputs": [],
   "source": [
    "tol=[1e-1,1e-2,1e-3,1e-6,1e-9,1e-12,1e-14,eps()]\n",
    "\n",
    "n_iter_nr=Vector{Float64}()\n",
    "n_iter_sec=Vector{Float64}()\n",
    "n_iter_bis=Vector{Float64}()\n",
    "\n",
    "for e in tol\n",
    "    y,x,n=newton_raphson(f1,df1,2.5,e,100)\n",
    "    append!(n_iter_nr, n)\n",
    "    y,x,n=secant(f1,2.0,3.0,e,100)\n",
    "    append!(n_iter_sec, n)\n",
    "end\n",
    "    "
   ]
  },
  {
   "cell_type": "code",
   "execution_count": 99,
   "id": "2290a2a3",
   "metadata": {},
   "outputs": [
    {
     "data": {
      "image/png": "[encoded data removed]",
      "image/svg+xml": "<?xml version=\"1.0\" encoding=\"utf-8\"?>\n<svg xmlns=\"http://www.w3.org/2000/svg\" xmlns:xlink=\"http://www.w3.org/1999/xlink\" width=\"600\" height=\"400\" viewBox=\"0 0 2400 1600\">\n<defs>\n  <clipPath id=\"clip490\">\n    <rect x=\"0\" y=\"0\" width=\"2400\" height=\"1600\"/>\n  </clipPath>\n</defs>\n<path clip-path=\"url(#clip490)\" d=\"\nM0 1600 L2400 1600 L2400 0 L0 0  Z\n  \" fill=\"#ffffff\" fill-rule=\"evenodd\" fill-opacity=\"1\"/>\n<defs>\n  <clipPath id=\"clip491\">\n    <rect x=\"480\" y=\"0\" width=\"1681\" height=\"1600\"/>\n  </clipPath>\n</defs>\n<path clip-path=\"url(#clip490)\" d=\"\nM112.177 1486.45 L2352.76 1486.45 L2352.76 47.2441 L112.177 47.2441  Z\n  \" fill=\"#ffffff\" fill-rule=\"evenodd\" fill-opacity=\"1\"/>\n<defs>\n  <clipPath id=\"clip492\">\n    <rect x=\"112\" y=\"47\" width=\"2242\" height=\"1440\"/>\n  </clipPath>\n</defs>\n<polyline clip-path=\"url(#clip492)\" style=\"stroke:#000000; stroke-linecap:butt; stroke-linejoin:round; stroke-width:2; stroke-opacity:0.1; fill:none\" points=\"\n  175.59,1486.45 175.59,47.2441 \n  \"/>\n<polyline clip-path=\"url(#clip492)\" style=\"stroke:#000000; stroke-linecap:butt; stroke-linejoin:round; stroke-width:2; stroke-opacity:0.1; fill:none\" points=\"\n  704.028,1486.45 704.028,47.2441 \n  \"/>\n<polyline clip-path=\"url(#clip492)\" style=\"stroke:#000000; stroke-linecap:butt; stroke-linejoin:round; stroke-width:2; stroke-opacity:0.1; fill:none\" points=\"\n  1232.47,1486.45 1232.47,47.2441 \n  \"/>\n<polyline clip-path=\"url(#clip492)\" style=\"stroke:#000000; stroke-linecap:butt; stroke-linejoin:round; stroke-width:2; stroke-opacity:0.1; fill:none\" points=\"\n  1760.9,1486.45 1760.9,47.2441 \n  \"/>\n<polyline clip-path=\"url(#clip492)\" style=\"stroke:#000000; stroke-linecap:butt; stroke-linejoin:round; stroke-width:2; stroke-opacity:0.1; fill:none\" points=\"\n  2289.34,1486.45 2289.34,47.2441 \n  \"/>\n<polyline clip-path=\"url(#clip490)\" style=\"stroke:#000000; stroke-linecap:butt; stroke-linejoin:round; stroke-width:4; stroke-opacity:1; fill:none\" points=\"\n  112.177,1486.45 2352.76,1486.45 \n  \"/>\n<polyline clip-path=\"url(#clip490)\" style=\"stroke:#000000; stroke-linecap:butt; stroke-linejoin:round; stroke-width:4; stroke-opacity:1; fill:none\" points=\"\n  175.59,1486.45 175.59,1467.55 \n  \"/>\n<polyline clip-path=\"url(#clip490)\" style=\"stroke:#000000; stroke-linecap:butt; stroke-linejoin:round; stroke-width:4; stroke-opacity:1; fill:none\" points=\"\n  704.028,1486.45 704.028,1467.55 \n  \"/>\n<polyline clip-path=\"url(#clip490)\" style=\"stroke:#000000; stroke-linecap:butt; stroke-linejoin:round; stroke-width:4; stroke-opacity:1; fill:none\" points=\"\n  1232.47,1486.45 1232.47,1467.55 \n  \"/>\n<polyline clip-path=\"url(#clip490)\" style=\"stroke:#000000; stroke-linecap:butt; stroke-linejoin:round; stroke-width:4; stroke-opacity:1; fill:none\" points=\"\n  1760.9,1486.45 1760.9,1467.55 \n  \"/>\n<polyline clip-path=\"url(#clip490)\" style=\"stroke:#000000; stroke-linecap:butt; stroke-linejoin:round; stroke-width:4; stroke-opacity:1; fill:none\" points=\"\n  2289.34,1486.45 2289.34,1467.55 \n  \"/>\n<path clip-path=\"url(#clip490)\" d=\"M122.812 1517.37 Q119.201 1517.37 117.373 1520.93 Q115.567 1524.47 115.567 1531.6 Q115.567 1538.71 117.373 1542.27 Q119.201 1545.82 122.812 1545.82 Q126.447 1545.82 128.252 1542.27 Q130.081 1538.71 130.081 1531.6 Q130.081 1524.47 128.252 1520.93 Q126.447 1517.37 122.812 1517.37 M122.812 1513.66 Q128.622 1513.66 131.678 1518.27 Q134.757 1522.85 134.757 1531.6 Q134.757 1540.33 131.678 1544.94 Q128.622 1549.52 122.812 1549.52 Q117.002 1549.52 113.923 1544.94 Q110.868 1540.33 110.868 1531.6 Q110.868 1522.85 113.923 1518.27 Q117.002 1513.66 122.812 1513.66 Z\" fill=\"#000000\" fill-rule=\"evenodd\" fill-opacity=\"1\" /><path clip-path=\"url(#clip490)\" d=\"M142.974 1542.97 L147.858 1542.97 L147.858 1548.85 L142.974 1548.85 L142.974 1542.97 Z\" fill=\"#000000\" fill-rule=\"evenodd\" fill-opacity=\"1\" /><path clip-path=\"url(#clip490)\" d=\"M168.044 1517.37 Q164.432 1517.37 162.604 1520.93 Q160.798 1524.47 160.798 1531.6 Q160.798 1538.71 162.604 1542.27 Q164.432 1545.82 168.044 1545.82 Q171.678 1545.82 173.483 1542.27 Q175.312 1538.71 175.312 1531.6 Q175.312 1524.47 173.483 1520.93 Q171.678 1517.37 168.044 1517.37 M168.044 1513.66 Q173.854 1513.66 176.909 1518.27 Q179.988 1522.85 179.988 1531.6 Q179.988 1540.33 176.909 1544.94 Q173.854 1549.52 168.044 1549.52 Q162.233 1549.52 159.155 1544.94 Q156.099 1540.33 156.099 1531.6 Q156.099 1522.85 159.155 1518.27 Q162.233 1513.66 168.044 1513.66 Z\" fill=\"#000000\" fill-rule=\"evenodd\" fill-opacity=\"1\" /><path clip-path=\"url(#clip490)\" d=\"M198.205 1517.37 Q194.594 1517.37 192.766 1520.93 Q190.96 1524.47 190.96 1531.6 Q190.96 1538.71 192.766 1542.27 Q194.594 1545.82 198.205 1545.82 Q201.84 1545.82 203.645 1542.27 Q205.474 1538.71 205.474 1531.6 Q205.474 1524.47 203.645 1520.93 Q201.84 1517.37 198.205 1517.37 M198.205 1513.66 Q204.016 1513.66 207.071 1518.27 Q210.15 1522.85 210.15 1531.6 Q210.15 1540.33 207.071 1544.94 Q204.016 1549.52 198.205 1549.52 Q192.395 1549.52 189.317 1544.94 Q186.261 1540.33 186.261 1531.6 Q186.261 1522.85 189.317 1518.27 Q192.395 1513.66 198.205 1513.66 Z\" fill=\"#000000\" fill-rule=\"evenodd\" fill-opacity=\"1\" /><path clip-path=\"url(#clip490)\" d=\"M228.367 1517.37 Q224.756 1517.37 222.927 1520.93 Q221.122 1524.47 221.122 1531.6 Q221.122 1538.71 222.927 1542.27 Q224.756 1545.82 228.367 1545.82 Q232.002 1545.82 233.807 1542.27 Q235.636 1538.71 235.636 1531.6 Q235.636 1524.47 233.807 1520.93 Q232.002 1517.37 228.367 1517.37 M228.367 1513.66 Q234.177 1513.66 237.233 1518.27 Q240.312 1522.85 240.312 1531.6 Q240.312 1540.33 237.233 1544.94 Q234.177 1549.52 228.367 1549.52 Q222.557 1549.52 219.478 1544.94 Q216.423 1540.33 216.423 1531.6 Q216.423 1522.85 219.478 1518.27 Q222.557 1513.66 228.367 1513.66 Z\" fill=\"#000000\" fill-rule=\"evenodd\" fill-opacity=\"1\" /><path clip-path=\"url(#clip490)\" d=\"M651.748 1517.37 Q648.137 1517.37 646.309 1520.93 Q644.503 1524.47 644.503 1531.6 Q644.503 1538.71 646.309 1542.27 Q648.137 1545.82 651.748 1545.82 Q655.383 1545.82 657.188 1542.27 Q659.017 1538.71 659.017 1531.6 Q659.017 1524.47 657.188 1520.93 Q655.383 1517.37 651.748 1517.37 M651.748 1513.66 Q657.559 1513.66 660.614 1518.27 Q663.693 1522.85 663.693 1531.6 Q663.693 1540.33 660.614 1544.94 Q657.559 1549.52 651.748 1549.52 Q645.938 1549.52 642.86 1544.94 Q639.804 1540.33 639.804 1531.6 Q639.804 1522.85 642.86 1518.27 Q645.938 1513.66 651.748 1513.66 Z\" fill=\"#000000\" fill-rule=\"evenodd\" fill-opacity=\"1\" /><path clip-path=\"url(#clip490)\" d=\"M671.91 1542.97 L676.795 1542.97 L676.795 1548.85 L671.91 1548.85 L671.91 1542.97 Z\" fill=\"#000000\" fill-rule=\"evenodd\" fill-opacity=\"1\" /><path clip-path=\"url(#clip490)\" d=\"M696.98 1517.37 Q693.368 1517.37 691.54 1520.93 Q689.734 1524.47 689.734 1531.6 Q689.734 1538.71 691.54 1542.27 Q693.368 1545.82 696.98 1545.82 Q700.614 1545.82 702.419 1542.27 Q704.248 1538.71 704.248 1531.6 Q704.248 1524.47 702.419 1520.93 Q700.614 1517.37 696.98 1517.37 M696.98 1513.66 Q702.79 1513.66 705.845 1518.27 Q708.924 1522.85 708.924 1531.6 Q708.924 1540.33 705.845 1544.94 Q702.79 1549.52 696.98 1549.52 Q691.169 1549.52 688.091 1544.94 Q685.035 1540.33 685.035 1531.6 Q685.035 1522.85 688.091 1518.27 Q691.169 1513.66 696.98 1513.66 Z\" fill=\"#000000\" fill-rule=\"evenodd\" fill-opacity=\"1\" /><path clip-path=\"url(#clip490)\" d=\"M721.169 1544.91 L737.489 1544.91 L737.489 1548.85 L715.544 1548.85 L715.544 1544.91 Q718.206 1542.16 722.79 1537.53 Q727.396 1532.88 728.577 1531.53 Q730.822 1529.01 731.702 1527.27 Q732.604 1525.51 732.604 1523.82 Q732.604 1521.07 730.66 1519.33 Q728.739 1517.6 725.637 1517.6 Q723.438 1517.6 720.984 1518.36 Q718.554 1519.13 715.776 1520.68 L715.776 1515.95 Q718.6 1514.82 721.054 1514.24 Q723.507 1513.66 725.544 1513.66 Q730.915 1513.66 734.109 1516.35 Q737.303 1519.03 737.303 1523.52 Q737.303 1525.65 736.493 1527.57 Q735.706 1529.47 733.6 1532.07 Q733.021 1532.74 729.919 1535.95 Q726.817 1539.15 721.169 1544.91 Z\" fill=\"#000000\" fill-rule=\"evenodd\" fill-opacity=\"1\" /><path clip-path=\"url(#clip490)\" d=\"M747.35 1514.29 L765.706 1514.29 L765.706 1518.22 L751.632 1518.22 L751.632 1526.7 Q752.651 1526.35 753.669 1526.19 Q754.688 1526 755.706 1526 Q761.493 1526 764.873 1529.17 Q768.252 1532.34 768.252 1537.76 Q768.252 1543.34 764.78 1546.44 Q761.308 1549.52 754.989 1549.52 Q752.813 1549.52 750.544 1549.15 Q748.299 1548.78 745.891 1548.04 L745.891 1543.34 Q747.975 1544.47 750.197 1545.03 Q752.419 1545.58 754.896 1545.58 Q758.901 1545.58 761.239 1543.48 Q763.576 1541.37 763.576 1537.76 Q763.576 1534.15 761.239 1532.04 Q758.901 1529.94 754.896 1529.94 Q753.021 1529.94 751.146 1530.35 Q749.294 1530.77 747.35 1531.65 L747.35 1514.29 Z\" fill=\"#000000\" fill-rule=\"evenodd\" fill-opacity=\"1\" /><path clip-path=\"url(#clip490)\" d=\"M1179.69 1517.37 Q1176.08 1517.37 1174.25 1520.93 Q1172.44 1524.47 1172.44 1531.6 Q1172.44 1538.71 1174.25 1542.27 Q1176.08 1545.82 1179.69 1545.82 Q1183.32 1545.82 1185.13 1542.27 Q1186.96 1538.71 1186.96 1531.6 Q1186.96 1524.47 1185.13 1520.93 Q1183.32 1517.37 1179.69 1517.37 M1179.69 1513.66 Q1185.5 1513.66 1188.55 1518.27 Q1191.63 1522.85 1191.63 1531.6 Q1191.63 1540.33 1188.55 1544.94 Q1185.5 1549.52 1179.69 1549.52 Q1173.88 1549.52 1170.8 1544.94 Q1167.74 1540.33 1167.74 1531.6 Q1167.74 1522.85 1170.8 1518.27 Q1173.88 1513.66 1179.69 1513.66 Z\" fill=\"#000000\" fill-rule=\"evenodd\" fill-opacity=\"1\" /><path clip-path=\"url(#clip490)\" d=\"M1199.85 1542.97 L1204.74 1542.97 L1204.74 1548.85 L1199.85 1548.85 L1199.85 1542.97 Z\" fill=\"#000000\" fill-rule=\"evenodd\" fill-opacity=\"1\" /><path clip-path=\"url(#clip490)\" d=\"M1224.92 1517.37 Q1221.31 1517.37 1219.48 1520.93 Q1217.67 1524.47 1217.67 1531.6 Q1217.67 1538.71 1219.48 1542.27 Q1221.31 1545.82 1224.92 1545.82 Q1228.55 1545.82 1230.36 1542.27 Q1232.19 1538.71 1232.19 1531.6 Q1232.19 1524.47 1230.36 1520.93 Q1228.55 1517.37 1224.92 1517.37 M1224.92 1513.66 Q1230.73 1513.66 1233.79 1518.27 Q1236.86 1522.85 1236.86 1531.6 Q1236.86 1540.33 1233.79 1544.94 Q1230.73 1549.52 1224.92 1549.52 Q1219.11 1549.52 1216.03 1544.94 Q1212.98 1540.33 1212.98 1531.6 Q1212.98 1522.85 1216.03 1518.27 Q1219.11 1513.66 1224.92 1513.66 Z\" fill=\"#000000\" fill-rule=\"evenodd\" fill-opacity=\"1\" /><path clip-path=\"url(#clip490)\" d=\"M1245.13 1514.29 L1263.48 1514.29 L1263.48 1518.22 L1249.41 1518.22 L1249.41 1526.7 Q1250.43 1526.35 1251.45 1526.19 Q1252.47 1526 1253.48 1526 Q1259.27 1526 1262.65 1529.17 Q1266.03 1532.34 1266.03 1537.76 Q1266.03 1543.34 1262.56 1546.44 Q1259.09 1549.52 1252.77 1549.52 Q1250.59 1549.52 1248.32 1549.15 Q1246.08 1548.78 1243.67 1548.04 L1243.67 1543.34 Q1245.75 1544.47 1247.98 1545.03 Q1250.2 1545.58 1252.67 1545.58 Q1256.68 1545.58 1259.02 1543.48 Q1261.36 1541.37 1261.36 1537.76 Q1261.36 1534.15 1259.02 1532.04 Q1256.68 1529.94 1252.67 1529.94 Q1250.8 1529.94 1248.92 1530.35 Q1247.07 1530.77 1245.13 1531.65 L1245.13 1514.29 Z\" fill=\"#000000\" fill-rule=\"evenodd\" fill-opacity=\"1\" /><path clip-path=\"url(#clip490)\" d=\"M1285.24 1517.37 Q1281.63 1517.37 1279.8 1520.93 Q1278 1524.47 1278 1531.6 Q1278 1538.71 1279.8 1542.27 Q1281.63 1545.82 1285.24 1545.82 Q1288.88 1545.82 1290.68 1542.27 Q1292.51 1538.71 1292.51 1531.6 Q1292.51 1524.47 1290.68 1520.93 Q1288.88 1517.37 1285.24 1517.37 M1285.24 1513.66 Q1291.05 1513.66 1294.11 1518.27 Q1297.19 1522.85 1297.19 1531.6 Q1297.19 1540.33 1294.11 1544.94 Q1291.05 1549.52 1285.24 1549.52 Q1279.43 1549.52 1276.36 1544.94 Q1273.3 1540.33 1273.3 1531.6 Q1273.3 1522.85 1276.36 1518.27 Q1279.43 1513.66 1285.24 1513.66 Z\" fill=\"#000000\" fill-rule=\"evenodd\" fill-opacity=\"1\" /><path clip-path=\"url(#clip490)\" d=\"M1708.63 1517.37 Q1705.01 1517.37 1703.19 1520.93 Q1701.38 1524.47 1701.38 1531.6 Q1701.38 1538.71 1703.19 1542.27 Q1705.01 1545.82 1708.63 1545.82 Q1712.26 1545.82 1714.06 1542.27 Q1715.89 1538.71 1715.89 1531.6 Q1715.89 1524.47 1714.06 1520.93 Q1712.26 1517.37 1708.63 1517.37 M1708.63 1513.66 Q1714.44 1513.66 1717.49 1518.27 Q1720.57 1522.85 1720.57 1531.6 Q1720.57 1540.33 1717.49 1544.94 Q1714.44 1549.52 1708.63 1549.52 Q1702.81 1549.52 1699.74 1544.94 Q1696.68 1540.33 1696.68 1531.6 Q1696.68 1522.85 1699.74 1518.27 Q1702.81 1513.66 1708.63 1513.66 Z\" fill=\"#000000\" fill-rule=\"evenodd\" fill-opacity=\"1\" /><path clip-path=\"url(#clip490)\" d=\"M1728.79 1542.97 L1733.67 1542.97 L1733.67 1548.85 L1728.79 1548.85 L1728.79 1542.97 Z\" fill=\"#000000\" fill-rule=\"evenodd\" fill-opacity=\"1\" /><path clip-path=\"url(#clip490)\" d=\"M1753.86 1517.37 Q1750.25 1517.37 1748.42 1520.93 Q1746.61 1524.47 1746.61 1531.6 Q1746.61 1538.71 1748.42 1542.27 Q1750.25 1545.82 1753.86 1545.82 Q1757.49 1545.82 1759.3 1542.27 Q1761.12 1538.71 1761.12 1531.6 Q1761.12 1524.47 1759.3 1520.93 Q1757.49 1517.37 1753.86 1517.37 M1753.86 1513.66 Q1759.67 1513.66 1762.72 1518.27 Q1765.8 1522.85 1765.8 1531.6 Q1765.8 1540.33 1762.72 1544.94 Q1759.67 1549.52 1753.86 1549.52 Q1748.05 1549.52 1744.97 1544.94 Q1741.91 1540.33 1741.91 1531.6 Q1741.91 1522.85 1744.97 1518.27 Q1748.05 1513.66 1753.86 1513.66 Z\" fill=\"#000000\" fill-rule=\"evenodd\" fill-opacity=\"1\" /><path clip-path=\"url(#clip490)\" d=\"M1772.84 1514.29 L1795.06 1514.29 L1795.06 1516.28 L1782.51 1548.85 L1777.63 1548.85 L1789.43 1518.22 L1772.84 1518.22 L1772.84 1514.29 Z\" fill=\"#000000\" fill-rule=\"evenodd\" fill-opacity=\"1\" /><path clip-path=\"url(#clip490)\" d=\"M1804.23 1514.29 L1822.58 1514.29 L1822.58 1518.22 L1808.51 1518.22 L1808.51 1526.7 Q1809.53 1526.35 1810.55 1526.19 Q1811.56 1526 1812.58 1526 Q1818.37 1526 1821.75 1529.17 Q1825.13 1532.34 1825.13 1537.76 Q1825.13 1543.34 1821.66 1546.44 Q1818.18 1549.52 1811.87 1549.52 Q1809.69 1549.52 1807.42 1549.15 Q1805.18 1548.78 1802.77 1548.04 L1802.77 1543.34 Q1804.85 1544.47 1807.07 1545.03 Q1809.3 1545.58 1811.77 1545.58 Q1815.78 1545.58 1818.12 1543.48 Q1820.45 1541.37 1820.45 1537.76 Q1820.45 1534.15 1818.12 1532.04 Q1815.78 1529.94 1811.77 1529.94 Q1809.9 1529.94 1808.02 1530.35 Q1806.17 1530.77 1804.23 1531.65 L1804.23 1514.29 Z\" fill=\"#000000\" fill-rule=\"evenodd\" fill-opacity=\"1\" /><path clip-path=\"url(#clip490)\" d=\"M2236.57 1517.37 Q2232.95 1517.37 2231.13 1520.93 Q2229.32 1524.47 2229.32 1531.6 Q2229.32 1538.71 2231.13 1542.27 Q2232.95 1545.82 2236.57 1545.82 Q2240.2 1545.82 2242.01 1542.27 Q2243.83 1538.71 2243.83 1531.6 Q2243.83 1524.47 2242.01 1520.93 Q2240.2 1517.37 2236.57 1517.37 M2236.57 1513.66 Q2242.38 1513.66 2245.43 1518.27 Q2248.51 1522.85 2248.51 1531.6 Q2248.51 1540.33 2245.43 1544.94 Q2242.38 1549.52 2236.57 1549.52 Q2230.76 1549.52 2227.68 1544.94 Q2224.62 1540.33 2224.62 1531.6 Q2224.62 1522.85 2227.68 1518.27 Q2230.76 1513.66 2236.57 1513.66 Z\" fill=\"#000000\" fill-rule=\"evenodd\" fill-opacity=\"1\" /><path clip-path=\"url(#clip490)\" d=\"M2256.73 1542.97 L2261.61 1542.97 L2261.61 1548.85 L2256.73 1548.85 L2256.73 1542.97 Z\" fill=\"#000000\" fill-rule=\"evenodd\" fill-opacity=\"1\" /><path clip-path=\"url(#clip490)\" d=\"M2272.61 1544.91 L2280.25 1544.91 L2280.25 1518.55 L2271.94 1520.21 L2271.94 1515.95 L2280.2 1514.29 L2284.88 1514.29 L2284.88 1544.91 L2292.51 1544.91 L2292.51 1548.85 L2272.61 1548.85 L2272.61 1544.91 Z\" fill=\"#000000\" fill-rule=\"evenodd\" fill-opacity=\"1\" /><path clip-path=\"url(#clip490)\" d=\"M2311.96 1517.37 Q2308.35 1517.37 2306.52 1520.93 Q2304.71 1524.47 2304.71 1531.6 Q2304.71 1538.71 2306.52 1542.27 Q2308.35 1545.82 2311.96 1545.82 Q2315.59 1545.82 2317.4 1542.27 Q2319.23 1538.71 2319.23 1531.6 Q2319.23 1524.47 2317.4 1520.93 Q2315.59 1517.37 2311.96 1517.37 M2311.96 1513.66 Q2317.77 1513.66 2320.82 1518.27 Q2323.9 1522.85 2323.9 1531.6 Q2323.9 1540.33 2320.82 1544.94 Q2317.77 1549.52 2311.96 1549.52 Q2306.15 1549.52 2303.07 1544.94 Q2300.01 1540.33 2300.01 1531.6 Q2300.01 1522.85 2303.07 1518.27 Q2306.15 1513.66 2311.96 1513.66 Z\" fill=\"#000000\" fill-rule=\"evenodd\" fill-opacity=\"1\" /><path clip-path=\"url(#clip490)\" d=\"M2342.12 1517.37 Q2338.51 1517.37 2336.68 1520.93 Q2334.88 1524.47 2334.88 1531.6 Q2334.88 1538.71 2336.68 1542.27 Q2338.51 1545.82 2342.12 1545.82 Q2345.76 1545.82 2347.56 1542.27 Q2349.39 1538.71 2349.39 1531.6 Q2349.39 1524.47 2347.56 1520.93 Q2345.76 1517.37 2342.12 1517.37 M2342.12 1513.66 Q2347.93 1513.66 2350.99 1518.27 Q2354.07 1522.85 2354.07 1531.6 Q2354.07 1540.33 2350.99 1544.94 Q2347.93 1549.52 2342.12 1549.52 Q2336.31 1549.52 2333.23 1544.94 Q2330.18 1540.33 2330.18 1531.6 Q2330.18 1522.85 2333.23 1518.27 Q2336.31 1513.66 2342.12 1513.66 Z\" fill=\"#000000\" fill-rule=\"evenodd\" fill-opacity=\"1\" /><polyline clip-path=\"url(#clip492)\" style=\"stroke:#000000; stroke-linecap:butt; stroke-linejoin:round; stroke-width:2; stroke-opacity:0.1; fill:none\" points=\"\n  112.177,1445.72 2352.76,1445.72 \n  \"/>\n<polyline clip-path=\"url(#clip492)\" style=\"stroke:#000000; stroke-linecap:butt; stroke-linejoin:round; stroke-width:2; stroke-opacity:0.1; fill:none\" points=\"\n  112.177,1219.43 2352.76,1219.43 \n  \"/>\n<polyline clip-path=\"url(#clip492)\" style=\"stroke:#000000; stroke-linecap:butt; stroke-linejoin:round; stroke-width:2; stroke-opacity:0.1; fill:none\" points=\"\n  112.177,993.136 2352.76,993.136 \n  \"/>\n<polyline clip-path=\"url(#clip492)\" style=\"stroke:#000000; stroke-linecap:butt; stroke-linejoin:round; stroke-width:2; stroke-opacity:0.1; fill:none\" points=\"\n  112.177,766.846 2352.76,766.846 \n  \"/>\n<polyline clip-path=\"url(#clip492)\" style=\"stroke:#000000; stroke-linecap:butt; stroke-linejoin:round; stroke-width:2; stroke-opacity:0.1; fill:none\" points=\"\n  112.177,540.556 2352.76,540.556 \n  \"/>\n<polyline clip-path=\"url(#clip492)\" style=\"stroke:#000000; stroke-linecap:butt; stroke-linejoin:round; stroke-width:2; stroke-opacity:0.1; fill:none\" points=\"\n  112.177,314.266 2352.76,314.266 \n  \"/>\n<polyline clip-path=\"url(#clip492)\" style=\"stroke:#000000; stroke-linecap:butt; stroke-linejoin:round; stroke-width:2; stroke-opacity:0.1; fill:none\" points=\"\n  112.177,87.9763 2352.76,87.9763 \n  \"/>\n<polyline clip-path=\"url(#clip490)\" style=\"stroke:#000000; stroke-linecap:butt; stroke-linejoin:round; stroke-width:4; stroke-opacity:1; fill:none\" points=\"\n  112.177,1486.45 112.177,47.2441 \n  \"/>\n<polyline clip-path=\"url(#clip490)\" style=\"stroke:#000000; stroke-linecap:butt; stroke-linejoin:round; stroke-width:4; stroke-opacity:1; fill:none\" points=\"\n  112.177,1445.72 131.075,1445.72 \n  \"/>\n<polyline clip-path=\"url(#clip490)\" style=\"stroke:#000000; stroke-linecap:butt; stroke-linejoin:round; stroke-width:4; stroke-opacity:1; fill:none\" points=\"\n  112.177,1219.43 131.075,1219.43 \n  \"/>\n<polyline clip-path=\"url(#clip490)\" style=\"stroke:#000000; stroke-linecap:butt; stroke-linejoin:round; stroke-width:4; stroke-opacity:1; fill:none\" points=\"\n  112.177,993.136 131.075,993.136 \n  \"/>\n<polyline clip-path=\"url(#clip490)\" style=\"stroke:#000000; stroke-linecap:butt; stroke-linejoin:round; stroke-width:4; stroke-opacity:1; fill:none\" points=\"\n  112.177,766.846 131.075,766.846 \n  \"/>\n<polyline clip-path=\"url(#clip490)\" style=\"stroke:#000000; stroke-linecap:butt; stroke-linejoin:round; stroke-width:4; stroke-opacity:1; fill:none\" points=\"\n  112.177,540.556 131.075,540.556 \n  \"/>\n<polyline clip-path=\"url(#clip490)\" style=\"stroke:#000000; stroke-linecap:butt; stroke-linejoin:round; stroke-width:4; stroke-opacity:1; fill:none\" points=\"\n  112.177,314.266 131.075,314.266 \n  \"/>\n<polyline clip-path=\"url(#clip490)\" style=\"stroke:#000000; stroke-linecap:butt; stroke-linejoin:round; stroke-width:4; stroke-opacity:1; fill:none\" points=\"\n  112.177,87.9763 131.075,87.9763 \n  \"/>\n<path clip-path=\"url(#clip490)\" d=\"M56.2699 1459.06 L63.9087 1459.06 L63.9087 1432.69 L55.5986 1434.36 L55.5986 1430.1 L63.8624 1428.44 L68.5383 1428.44 L68.5383 1459.06 L76.1772 1459.06 L76.1772 1463 L56.2699 1463 L56.2699 1459.06 Z\" fill=\"#000000\" fill-rule=\"evenodd\" fill-opacity=\"1\" /><path clip-path=\"url(#clip490)\" d=\"M59.8578 1232.77 L76.1772 1232.77 L76.1772 1236.71 L54.2328 1236.71 L54.2328 1232.77 Q56.8949 1230.02 61.4782 1225.39 Q66.0846 1220.73 67.2652 1219.39 Q69.5105 1216.87 70.3902 1215.13 Q71.2929 1213.37 71.2929 1211.68 Q71.2929 1208.93 69.3485 1207.19 Q67.4272 1205.46 64.3254 1205.46 Q62.1263 1205.46 59.6726 1206.22 Q57.2421 1206.98 54.4643 1208.53 L54.4643 1203.81 Q57.2884 1202.68 59.7421 1202.1 Q62.1958 1201.52 64.2328 1201.52 Q69.6031 1201.52 72.7976 1204.21 Q75.992 1206.89 75.992 1211.38 Q75.992 1213.51 75.1818 1215.43 Q74.3948 1217.33 72.2883 1219.92 Q71.7096 1220.59 68.6078 1223.81 Q65.5059 1227.01 59.8578 1232.77 Z\" fill=\"#000000\" fill-rule=\"evenodd\" fill-opacity=\"1\" /><path clip-path=\"url(#clip490)\" d=\"M69.0476 991.782 Q72.404 992.499 74.279 994.768 Q76.1772 997.036 76.1772 1000.37 Q76.1772 1005.49 72.6587 1008.29 Q69.1402 1011.09 62.6587 1011.09 Q60.4828 1011.09 58.168 1010.65 Q55.8764 1010.23 53.4227 1009.37 L53.4227 1004.86 Q55.3671 1005.99 57.6819 1006.57 Q59.9967 1007.15 62.5198 1007.15 Q66.918 1007.15 69.2096 1005.42 Q71.5244 1003.68 71.5244 1000.37 Q71.5244 997.314 69.3717 995.601 Q67.242 993.865 63.4226 993.865 L59.3949 993.865 L59.3949 990.022 L63.6078 990.022 Q67.0569 990.022 68.8855 988.657 Q70.7142 987.268 70.7142 984.675 Q70.7142 982.013 68.8161 980.601 Q66.9411 979.166 63.4226 979.166 Q61.5013 979.166 59.3023 979.583 Q57.1032 979.999 54.4643 980.879 L54.4643 976.712 Q57.1264 975.972 59.4412 975.601 Q61.7791 975.231 63.8393 975.231 Q69.1633 975.231 72.2652 977.661 Q75.367 980.069 75.367 984.189 Q75.367 987.06 73.7235 989.05 Q72.08 991.018 69.0476 991.782 Z\" fill=\"#000000\" fill-rule=\"evenodd\" fill-opacity=\"1\" /><path clip-path=\"url(#clip490)\" d=\"M66.5939 753.64 L54.7884 772.089 L66.5939 772.089 L66.5939 753.64 M65.367 749.566 L71.2466 749.566 L71.2466 772.089 L76.1772 772.089 L76.1772 775.978 L71.2466 775.978 L71.2466 784.126 L66.5939 784.126 L66.5939 775.978 L50.9921 775.978 L50.9921 771.464 L65.367 749.566 Z\" fill=\"#000000\" fill-rule=\"evenodd\" fill-opacity=\"1\" /><path clip-path=\"url(#clip490)\" d=\"M55.2745 523.276 L73.6309 523.276 L73.6309 527.211 L59.5569 527.211 L59.5569 535.683 Q60.5754 535.336 61.5939 535.174 Q62.6124 534.989 63.6309 534.989 Q69.418 534.989 72.7976 538.16 Q76.1772 541.332 76.1772 546.748 Q76.1772 552.327 72.705 555.429 Q69.2328 558.507 62.9134 558.507 Q60.7374 558.507 58.4689 558.137 Q56.2236 557.767 53.8162 557.026 L53.8162 552.327 Q55.8995 553.461 58.1217 554.017 Q60.3439 554.572 62.8208 554.572 Q66.8254 554.572 69.1633 552.466 Q71.5013 550.359 71.5013 546.748 Q71.5013 543.137 69.1633 541.031 Q66.8254 538.924 62.8208 538.924 Q60.9458 538.924 59.0708 539.341 Q57.2189 539.757 55.2745 540.637 L55.2745 523.276 Z\" fill=\"#000000\" fill-rule=\"evenodd\" fill-opacity=\"1\" /><path clip-path=\"url(#clip490)\" d=\"M64.6495 312.403 Q61.5013 312.403 59.6495 314.556 Q57.8208 316.708 57.8208 320.458 Q57.8208 324.185 59.6495 326.361 Q61.5013 328.514 64.6495 328.514 Q67.7976 328.514 69.6263 326.361 Q71.4781 324.185 71.4781 320.458 Q71.4781 316.708 69.6263 314.556 Q67.7976 312.403 64.6495 312.403 M73.9318 297.75 L73.9318 302.009 Q72.1726 301.176 70.367 300.736 Q68.5846 300.296 66.8254 300.296 Q62.1958 300.296 59.7421 303.421 Q57.3115 306.546 56.9643 312.866 Q58.33 310.852 60.3902 309.787 Q62.4504 308.699 64.9272 308.699 Q70.1355 308.699 73.1448 311.87 Q76.1772 315.018 76.1772 320.458 Q76.1772 325.782 73.029 329 Q69.8809 332.217 64.6495 332.217 Q58.6541 332.217 55.4828 327.634 Q52.3116 323.028 52.3116 314.301 Q52.3116 306.107 56.2004 301.245 Q60.0893 296.361 66.6402 296.361 Q68.3994 296.361 70.1818 296.708 Q71.9874 297.056 73.9318 297.75 Z\" fill=\"#000000\" fill-rule=\"evenodd\" fill-opacity=\"1\" /><path clip-path=\"url(#clip490)\" d=\"M53.9551 70.6963 L76.1772 70.6963 L76.1772 72.687 L63.6309 105.256 L58.7467 105.256 L70.5522 74.6314 L53.9551 74.6314 L53.9551 70.6963 Z\" fill=\"#000000\" fill-rule=\"evenodd\" fill-opacity=\"1\" /><polyline clip-path=\"url(#clip492)\" style=\"stroke:#009af9; stroke-linecap:butt; stroke-linejoin:round; stroke-width:4; stroke-opacity:1; fill:none\" points=\"\n  2289.34,1219.43 386.965,993.136 196.727,766.846 175.611,540.556 175.59,540.556 175.59,314.266 175.59,314.266 175.59,314.266 \n  \"/>\n<polyline clip-path=\"url(#clip492)\" style=\"stroke:#e26f46; stroke-linecap:butt; stroke-linejoin:round; stroke-width:4; stroke-opacity:1; fill:none\" points=\"\n  2289.34,1445.72 386.965,993.136 196.727,766.846 175.611,540.556 175.59,314.266 175.59,87.9763 175.59,87.9763 175.59,87.9763 \n  \"/>\n<path clip-path=\"url(#clip490)\" d=\"\nM1976.69 250.738 L2278.07 250.738 L2278.07 95.2176 L1976.69 95.2176  Z\n  \" fill=\"#ffffff\" fill-rule=\"evenodd\" fill-opacity=\"1\"/>\n<polyline clip-path=\"url(#clip490)\" style=\"stroke:#000000; stroke-linecap:butt; stroke-linejoin:round; stroke-width:4; stroke-opacity:1; fill:none\" points=\"\n  1976.69,250.738 2278.07,250.738 2278.07,95.2176 1976.69,95.2176 1976.69,250.738 \n  \"/>\n<polyline clip-path=\"url(#clip490)\" style=\"stroke:#009af9; stroke-linecap:butt; stroke-linejoin:round; stroke-width:4; stroke-opacity:1; fill:none\" points=\"\n  2001.58,147.058 2150.95,147.058 \n  \"/>\n<path clip-path=\"url(#clip490)\" d=\"M2189.69 166.745 Q2187.89 171.375 2186.17 172.787 Q2184.46 174.199 2181.59 174.199 L2178.19 174.199 L2178.19 170.634 L2180.69 170.634 Q2182.45 170.634 2183.42 169.8 Q2184.39 168.967 2185.57 165.865 L2186.34 163.921 L2175.85 138.412 L2180.36 138.412 L2188.46 158.689 L2196.57 138.412 L2201.08 138.412 L2189.69 166.745 Z\" fill=\"#000000\" fill-rule=\"evenodd\" fill-opacity=\"1\" /><path clip-path=\"url(#clip490)\" d=\"M2208.37 160.402 L2216.01 160.402 L2216.01 134.037 L2207.7 135.703 L2207.7 131.444 L2215.96 129.778 L2220.64 129.778 L2220.64 160.402 L2228.28 160.402 L2228.28 164.338 L2208.37 164.338 L2208.37 160.402 Z\" fill=\"#000000\" fill-rule=\"evenodd\" fill-opacity=\"1\" /><polyline clip-path=\"url(#clip490)\" style=\"stroke:#e26f46; stroke-linecap:butt; stroke-linejoin:round; stroke-width:4; stroke-opacity:1; fill:none\" points=\"\n  2001.58,198.898 2150.95,198.898 \n  \"/>\n<path clip-path=\"url(#clip490)\" d=\"M2189.69 218.585 Q2187.89 223.215 2186.17 224.627 Q2184.46 226.039 2181.59 226.039 L2178.19 226.039 L2178.19 222.474 L2180.69 222.474 Q2182.45 222.474 2183.42 221.64 Q2184.39 220.807 2185.57 217.705 L2186.34 215.761 L2175.85 190.252 L2180.36 190.252 L2188.46 210.529 L2196.57 190.252 L2201.08 190.252 L2189.69 218.585 Z\" fill=\"#000000\" fill-rule=\"evenodd\" fill-opacity=\"1\" /><path clip-path=\"url(#clip490)\" d=\"M2211.59 212.242 L2227.91 212.242 L2227.91 216.178 L2205.96 216.178 L2205.96 212.242 Q2208.63 209.488 2213.21 204.858 Q2217.82 200.205 2219 198.863 Q2221.24 196.34 2222.12 194.604 Q2223.02 192.844 2223.02 191.155 Q2223.02 188.4 2221.08 186.664 Q2219.16 184.928 2216.06 184.928 Q2213.86 184.928 2211.4 185.692 Q2208.97 186.455 2206.2 188.006 L2206.2 183.284 Q2209.02 182.15 2211.47 181.571 Q2213.93 180.993 2215.96 180.993 Q2221.33 180.993 2224.53 183.678 Q2227.72 186.363 2227.72 190.854 Q2227.72 192.983 2226.91 194.905 Q2226.13 196.803 2224.02 199.395 Q2223.44 200.067 2220.34 203.284 Q2217.24 206.479 2211.59 212.242 Z\" fill=\"#000000\" fill-rule=\"evenodd\" fill-opacity=\"1\" /></svg>\n",
      "text/html": [
       "<?xml version=\"1.0\" encoding=\"utf-8\"?>\n",
       "<svg xmlns=\"http://www.w3.org/2000/svg\" xmlns:xlink=\"http://www.w3.org/1999/xlink\" width=\"600\" height=\"400\" viewBox=\"0 0 2400 1600\">\n",
       "<defs>\n",
       "  <clipPath id=\"clip540\">\n",
       "    <rect x=\"0\" y=\"0\" width=\"2400\" height=\"1600\"/>\n",
       "  </clipPath>\n",
       "</defs>\n",
       "<path clip-path=\"url(#clip540)\" d=\"\n",
       "M0 1600 L2400 1600 L2400 0 L0 0  Z\n",
       "  \" fill=\"#ffffff\" fill-rule=\"evenodd\" fill-opacity=\"1\"/>\n",
       "<defs>\n",
       "  <clipPath id=\"clip541\">\n",
       "    <rect x=\"480\" y=\"0\" width=\"1681\" height=\"1600\"/>\n",
       "  </clipPath>\n",
       "</defs>\n",
       "<path clip-path=\"url(#clip540)\" d=\"\n",
       "M112.177 1486.45 L2352.76 1486.45 L2352.76 47.2441 L112.177 47.2441  Z\n",
       "  \" fill=\"#ffffff\" fill-rule=\"evenodd\" fill-opacity=\"1\"/>\n",
       "<defs>\n",
       "  <clipPath id=\"clip542\">\n",
       "    <rect x=\"112\" y=\"47\" width=\"2242\" height=\"1440\"/>\n",
       "  </clipPath>\n",
       "</defs>\n",
       "<polyline clip-path=\"url(#clip542)\" style=\"stroke:#000000; stroke-linecap:butt; stroke-linejoin:round; stroke-width:2; stroke-opacity:0.1; fill:none\" points=\"\n",
       "  175.59,1486.45 175.59,47.2441 \n",
       "  \"/>\n",
       "<polyline clip-path=\"url(#clip542)\" style=\"stroke:#000000; stroke-linecap:butt; stroke-linejoin:round; stroke-width:2; stroke-opacity:0.1; fill:none\" points=\"\n",
       "  704.028,1486.45 704.028,47.2441 \n",
       "  \"/>\n",
       "<polyline clip-path=\"url(#clip542)\" style=\"stroke:#000000; stroke-linecap:butt; stroke-linejoin:round; stroke-width:2; stroke-opacity:0.1; fill:none\" points=\"\n",
       "  1232.47,1486.45 1232.47,47.2441 \n",
       "  \"/>\n",
       "<polyline clip-path=\"url(#clip542)\" style=\"stroke:#000000; stroke-linecap:butt; stroke-linejoin:round; stroke-width:2; stroke-opacity:0.1; fill:none\" points=\"\n",
       "  1760.9,1486.45 1760.9,47.2441 \n",
       "  \"/>\n",
       "<polyline clip-path=\"url(#clip542)\" style=\"stroke:#000000; stroke-linecap:butt; stroke-linejoin:round; stroke-width:2; stroke-opacity:0.1; fill:none\" points=\"\n",
       "  2289.34,1486.45 2289.34,47.2441 \n",
       "  \"/>\n",
       "<polyline clip-path=\"url(#clip540)\" style=\"stroke:#000000; stroke-linecap:butt; stroke-linejoin:round; stroke-width:4; stroke-opacity:1; fill:none\" points=\"\n",
       "  112.177,1486.45 2352.76,1486.45 \n",
       "  \"/>\n",
       "<polyline clip-path=\"url(#clip540)\" style=\"stroke:#000000; stroke-linecap:butt; stroke-linejoin:round; stroke-width:4; stroke-opacity:1; fill:none\" points=\"\n",
       "  175.59,1486.45 175.59,1467.55 \n",
       "  \"/>\n",
       "<polyline clip-path=\"url(#clip540)\" style=\"stroke:#000000; stroke-linecap:butt; stroke-linejoin:round; stroke-width:4; stroke-opacity:1; fill:none\" points=\"\n",
       "  704.028,1486.45 704.028,1467.55 \n",
       "  \"/>\n",
       "<polyline clip-path=\"url(#clip540)\" style=\"stroke:#000000; stroke-linecap:butt; stroke-linejoin:round; stroke-width:4; stroke-opacity:1; fill:none\" points=\"\n",
       "  1232.47,1486.45 1232.47,1467.55 \n",
       "  \"/>\n",
       "<polyline clip-path=\"url(#clip540)\" style=\"stroke:#000000; stroke-linecap:butt; stroke-linejoin:round; stroke-width:4; stroke-opacity:1; fill:none\" points=\"\n",
       "  1760.9,1486.45 1760.9,1467.55 \n",
       "  \"/>\n",
       "<polyline clip-path=\"url(#clip540)\" style=\"stroke:#000000; stroke-linecap:butt; stroke-linejoin:round; stroke-width:4; stroke-opacity:1; fill:none\" points=\"\n",
       "  2289.34,1486.45 2289.34,1467.55 \n",
       "  \"/>\n",
       "<path clip-path=\"url(#clip540)\" d=\"M122.812 1517.37 Q119.201 1517.37 117.373 1520.93 Q115.567 1524.47 115.567 1531.6 Q115.567 1538.71 117.373 1542.27 Q119.201 1545.82 122.812 1545.82 Q126.447 1545.82 128.252 1542.27 Q130.081 1538.71 130.081 1531.6 Q130.081 1524.47 128.252 1520.93 Q126.447 1517.37 122.812 1517.37 M122.812 1513.66 Q128.622 1513.66 131.678 1518.27 Q134.757 1522.85 134.757 1531.6 Q134.757 1540.33 131.678 1544.94 Q128.622 1549.52 122.812 1549.52 Q117.002 1549.52 113.923 1544.94 Q110.868 1540.33 110.868 1531.6 Q110.868 1522.85 113.923 1518.27 Q117.002 1513.66 122.812 1513.66 Z\" fill=\"#000000\" fill-rule=\"evenodd\" fill-opacity=\"1\" /><path clip-path=\"url(#clip540)\" d=\"M142.974 1542.97 L147.858 1542.97 L147.858 1548.85 L142.974 1548.85 L142.974 1542.97 Z\" fill=\"#000000\" fill-rule=\"evenodd\" fill-opacity=\"1\" /><path clip-path=\"url(#clip540)\" d=\"M168.044 1517.37 Q164.432 1517.37 162.604 1520.93 Q160.798 1524.47 160.798 1531.6 Q160.798 1538.71 162.604 1542.27 Q164.432 1545.82 168.044 1545.82 Q171.678 1545.82 173.483 1542.27 Q175.312 1538.71 175.312 1531.6 Q175.312 1524.47 173.483 1520.93 Q171.678 1517.37 168.044 1517.37 M168.044 1513.66 Q173.854 1513.66 176.909 1518.27 Q179.988 1522.85 179.988 1531.6 Q179.988 1540.33 176.909 1544.94 Q173.854 1549.52 168.044 1549.52 Q162.233 1549.52 159.155 1544.94 Q156.099 1540.33 156.099 1531.6 Q156.099 1522.85 159.155 1518.27 Q162.233 1513.66 168.044 1513.66 Z\" fill=\"#000000\" fill-rule=\"evenodd\" fill-opacity=\"1\" /><path clip-path=\"url(#clip540)\" d=\"M198.205 1517.37 Q194.594 1517.37 192.766 1520.93 Q190.96 1524.47 190.96 1531.6 Q190.96 1538.71 192.766 1542.27 Q194.594 1545.82 198.205 1545.82 Q201.84 1545.82 203.645 1542.27 Q205.474 1538.71 205.474 1531.6 Q205.474 1524.47 203.645 1520.93 Q201.84 1517.37 198.205 1517.37 M198.205 1513.66 Q204.016 1513.66 207.071 1518.27 Q210.15 1522.85 210.15 1531.6 Q210.15 1540.33 207.071 1544.94 Q204.016 1549.52 198.205 1549.52 Q192.395 1549.52 189.317 1544.94 Q186.261 1540.33 186.261 1531.6 Q186.261 1522.85 189.317 1518.27 Q192.395 1513.66 198.205 1513.66 Z\" fill=\"#000000\" fill-rule=\"evenodd\" fill-opacity=\"1\" /><path clip-path=\"url(#clip540)\" d=\"M228.367 1517.37 Q224.756 1517.37 222.927 1520.93 Q221.122 1524.47 221.122 1531.6 Q221.122 1538.71 222.927 1542.27 Q224.756 1545.82 228.367 1545.82 Q232.002 1545.82 233.807 1542.27 Q235.636 1538.71 235.636 1531.6 Q235.636 1524.47 233.807 1520.93 Q232.002 1517.37 228.367 1517.37 M228.367 1513.66 Q234.177 1513.66 237.233 1518.27 Q240.312 1522.85 240.312 1531.6 Q240.312 1540.33 237.233 1544.94 Q234.177 1549.52 228.367 1549.52 Q222.557 1549.52 219.478 1544.94 Q216.423 1540.33 216.423 1531.6 Q216.423 1522.85 219.478 1518.27 Q222.557 1513.66 228.367 1513.66 Z\" fill=\"#000000\" fill-rule=\"evenodd\" fill-opacity=\"1\" /><path clip-path=\"url(#clip540)\" d=\"M651.748 1517.37 Q648.137 1517.37 646.309 1520.93 Q644.503 1524.47 644.503 1531.6 Q644.503 1538.71 646.309 1542.27 Q648.137 1545.82 651.748 1545.82 Q655.383 1545.82 657.188 1542.27 Q659.017 1538.71 659.017 1531.6 Q659.017 1524.47 657.188 1520.93 Q655.383 1517.37 651.748 1517.37 M651.748 1513.66 Q657.559 1513.66 660.614 1518.27 Q663.693 1522.85 663.693 1531.6 Q663.693 1540.33 660.614 1544.94 Q657.559 1549.52 651.748 1549.52 Q645.938 1549.52 642.86 1544.94 Q639.804 1540.33 639.804 1531.6 Q639.804 1522.85 642.86 1518.27 Q645.938 1513.66 651.748 1513.66 Z\" fill=\"#000000\" fill-rule=\"evenodd\" fill-opacity=\"1\" /><path clip-path=\"url(#clip540)\" d=\"M671.91 1542.97 L676.795 1542.97 L676.795 1548.85 L671.91 1548.85 L671.91 1542.97 Z\" fill=\"#000000\" fill-rule=\"evenodd\" fill-opacity=\"1\" /><path clip-path=\"url(#clip540)\" d=\"M696.98 1517.37 Q693.368 1517.37 691.54 1520.93 Q689.734 1524.47 689.734 1531.6 Q689.734 1538.71 691.54 1542.27 Q693.368 1545.82 696.98 1545.82 Q700.614 1545.82 702.419 1542.27 Q704.248 1538.71 704.248 1531.6 Q704.248 1524.47 702.419 1520.93 Q700.614 1517.37 696.98 1517.37 M696.98 1513.66 Q702.79 1513.66 705.845 1518.27 Q708.924 1522.85 708.924 1531.6 Q708.924 1540.33 705.845 1544.94 Q702.79 1549.52 696.98 1549.52 Q691.169 1549.52 688.091 1544.94 Q685.035 1540.33 685.035 1531.6 Q685.035 1522.85 688.091 1518.27 Q691.169 1513.66 696.98 1513.66 Z\" fill=\"#000000\" fill-rule=\"evenodd\" fill-opacity=\"1\" /><path clip-path=\"url(#clip540)\" d=\"M721.169 1544.91 L737.489 1544.91 L737.489 1548.85 L715.544 1548.85 L715.544 1544.91 Q718.206 1542.16 722.79 1537.53 Q727.396 1532.88 728.577 1531.53 Q730.822 1529.01 731.702 1527.27 Q732.604 1525.51 732.604 1523.82 Q732.604 1521.07 730.66 1519.33 Q728.739 1517.6 725.637 1517.6 Q723.438 1517.6 720.984 1518.36 Q718.554 1519.13 715.776 1520.68 L715.776 1515.95 Q718.6 1514.82 721.054 1514.24 Q723.507 1513.66 725.544 1513.66 Q730.915 1513.66 734.109 1516.35 Q737.303 1519.03 737.303 1523.52 Q737.303 1525.65 736.493 1527.57 Q735.706 1529.47 733.6 1532.07 Q733.021 1532.74 729.919 1535.95 Q726.817 1539.15 721.169 1544.91 Z\" fill=\"#000000\" fill-rule=\"evenodd\" fill-opacity=\"1\" /><path clip-path=\"url(#clip540)\" d=\"M747.35 1514.29 L765.706 1514.29 L765.706 1518.22 L751.632 1518.22 L751.632 1526.7 Q752.651 1526.35 753.669 1526.19 Q754.688 1526 755.706 1526 Q761.493 1526 764.873 1529.17 Q768.252 1532.34 768.252 1537.76 Q768.252 1543.34 764.78 1546.44 Q761.308 1549.52 754.989 1549.52 Q752.813 1549.52 750.544 1549.15 Q748.299 1548.78 745.891 1548.04 L745.891 1543.34 Q747.975 1544.47 750.197 1545.03 Q752.419 1545.58 754.896 1545.58 Q758.901 1545.58 761.239 1543.48 Q763.576 1541.37 763.576 1537.76 Q763.576 1534.15 761.239 1532.04 Q758.901 1529.94 754.896 1529.94 Q753.021 1529.94 751.146 1530.35 Q749.294 1530.77 747.35 1531.65 L747.35 1514.29 Z\" fill=\"#000000\" fill-rule=\"evenodd\" fill-opacity=\"1\" /><path clip-path=\"url(#clip540)\" d=\"M1179.69 1517.37 Q1176.08 1517.37 1174.25 1520.93 Q1172.44 1524.47 1172.44 1531.6 Q1172.44 1538.71 1174.25 1542.27 Q1176.08 1545.82 1179.69 1545.82 Q1183.32 1545.82 1185.13 1542.27 Q1186.96 1538.71 1186.96 1531.6 Q1186.96 1524.47 1185.13 1520.93 Q1183.32 1517.37 1179.69 1517.37 M1179.69 1513.66 Q1185.5 1513.66 1188.55 1518.27 Q1191.63 1522.85 1191.63 1531.6 Q1191.63 1540.33 1188.55 1544.94 Q1185.5 1549.52 1179.69 1549.52 Q1173.88 1549.52 1170.8 1544.94 Q1167.74 1540.33 1167.74 1531.6 Q1167.74 1522.85 1170.8 1518.27 Q1173.88 1513.66 1179.69 1513.66 Z\" fill=\"#000000\" fill-rule=\"evenodd\" fill-opacity=\"1\" /><path clip-path=\"url(#clip540)\" d=\"M1199.85 1542.97 L1204.74 1542.97 L1204.74 1548.85 L1199.85 1548.85 L1199.85 1542.97 Z\" fill=\"#000000\" fill-rule=\"evenodd\" fill-opacity=\"1\" /><path clip-path=\"url(#clip540)\" d=\"M1224.92 1517.37 Q1221.31 1517.37 1219.48 1520.93 Q1217.67 1524.47 1217.67 1531.6 Q1217.67 1538.71 1219.48 1542.27 Q1221.31 1545.82 1224.92 1545.82 Q1228.55 1545.82 1230.36 1542.27 Q1232.19 1538.71 1232.19 1531.6 Q1232.19 1524.47 1230.36 1520.93 Q1228.55 1517.37 1224.92 1517.37 M1224.92 1513.66 Q1230.73 1513.66 1233.79 1518.27 Q1236.86 1522.85 1236.86 1531.6 Q1236.86 1540.33 1233.79 1544.94 Q1230.73 1549.52 1224.92 1549.52 Q1219.11 1549.52 1216.03 1544.94 Q1212.98 1540.33 1212.98 1531.6 Q1212.98 1522.85 1216.03 1518.27 Q1219.11 1513.66 1224.92 1513.66 Z\" fill=\"#000000\" fill-rule=\"evenodd\" fill-opacity=\"1\" /><path clip-path=\"url(#clip540)\" d=\"M1245.13 1514.29 L1263.48 1514.29 L1263.48 1518.22 L1249.41 1518.22 L1249.41 1526.7 Q1250.43 1526.35 1251.45 1526.19 Q1252.47 1526 1253.48 1526 Q1259.27 1526 1262.65 1529.17 Q1266.03 1532.34 1266.03 1537.76 Q1266.03 1543.34 1262.56 1546.44 Q1259.09 1549.52 1252.77 1549.52 Q1250.59 1549.52 1248.32 1549.15 Q1246.08 1548.78 1243.67 1548.04 L1243.67 1543.34 Q1245.75 1544.47 1247.98 1545.03 Q1250.2 1545.58 1252.67 1545.58 Q1256.68 1545.58 1259.02 1543.48 Q1261.36 1541.37 1261.36 1537.76 Q1261.36 1534.15 1259.02 1532.04 Q1256.68 1529.94 1252.67 1529.94 Q1250.8 1529.94 1248.92 1530.35 Q1247.07 1530.77 1245.13 1531.65 L1245.13 1514.29 Z\" fill=\"#000000\" fill-rule=\"evenodd\" fill-opacity=\"1\" /><path clip-path=\"url(#clip540)\" d=\"M1285.24 1517.37 Q1281.63 1517.37 1279.8 1520.93 Q1278 1524.47 1278 1531.6 Q1278 1538.71 1279.8 1542.27 Q1281.63 1545.82 1285.24 1545.82 Q1288.88 1545.82 1290.68 1542.27 Q1292.51 1538.71 1292.51 1531.6 Q1292.51 1524.47 1290.68 1520.93 Q1288.88 1517.37 1285.24 1517.37 M1285.24 1513.66 Q1291.05 1513.66 1294.11 1518.27 Q1297.19 1522.85 1297.19 1531.6 Q1297.19 1540.33 1294.11 1544.94 Q1291.05 1549.52 1285.24 1549.52 Q1279.43 1549.52 1276.36 1544.94 Q1273.3 1540.33 1273.3 1531.6 Q1273.3 1522.85 1276.36 1518.27 Q1279.43 1513.66 1285.24 1513.66 Z\" fill=\"#000000\" fill-rule=\"evenodd\" fill-opacity=\"1\" /><path clip-path=\"url(#clip540)\" d=\"M1708.63 1517.37 Q1705.01 1517.37 1703.19 1520.93 Q1701.38 1524.47 1701.38 1531.6 Q1701.38 1538.71 1703.19 1542.27 Q1705.01 1545.82 1708.63 1545.82 Q1712.26 1545.82 1714.06 1542.27 Q1715.89 1538.71 1715.89 1531.6 Q1715.89 1524.47 1714.06 1520.93 Q1712.26 1517.37 1708.63 1517.37 M1708.63 1513.66 Q1714.44 1513.66 1717.49 1518.27 Q1720.57 1522.85 1720.57 1531.6 Q1720.57 1540.33 1717.49 1544.94 Q1714.44 1549.52 1708.63 1549.52 Q1702.81 1549.52 1699.74 1544.94 Q1696.68 1540.33 1696.68 1531.6 Q1696.68 1522.85 1699.74 1518.27 Q1702.81 1513.66 1708.63 1513.66 Z\" fill=\"#000000\" fill-rule=\"evenodd\" fill-opacity=\"1\" /><path clip-path=\"url(#clip540)\" d=\"M1728.79 1542.97 L1733.67 1542.97 L1733.67 1548.85 L1728.79 1548.85 L1728.79 1542.97 Z\" fill=\"#000000\" fill-rule=\"evenodd\" fill-opacity=\"1\" /><path clip-path=\"url(#clip540)\" d=\"M1753.86 1517.37 Q1750.25 1517.37 1748.42 1520.93 Q1746.61 1524.47 1746.61 1531.6 Q1746.61 1538.71 1748.42 1542.27 Q1750.25 1545.82 1753.86 1545.82 Q1757.49 1545.82 1759.3 1542.27 Q1761.12 1538.71 1761.12 1531.6 Q1761.12 1524.47 1759.3 1520.93 Q1757.49 1517.37 1753.86 1517.37 M1753.86 1513.66 Q1759.67 1513.66 1762.72 1518.27 Q1765.8 1522.85 1765.8 1531.6 Q1765.8 1540.33 1762.72 1544.94 Q1759.67 1549.52 1753.86 1549.52 Q1748.05 1549.52 1744.97 1544.94 Q1741.91 1540.33 1741.91 1531.6 Q1741.91 1522.85 1744.97 1518.27 Q1748.05 1513.66 1753.86 1513.66 Z\" fill=\"#000000\" fill-rule=\"evenodd\" fill-opacity=\"1\" /><path clip-path=\"url(#clip540)\" d=\"M1772.84 1514.29 L1795.06 1514.29 L1795.06 1516.28 L1782.51 1548.85 L1777.63 1548.85 L1789.43 1518.22 L1772.84 1518.22 L1772.84 1514.29 Z\" fill=\"#000000\" fill-rule=\"evenodd\" fill-opacity=\"1\" /><path clip-path=\"url(#clip540)\" d=\"M1804.23 1514.29 L1822.58 1514.29 L1822.58 1518.22 L1808.51 1518.22 L1808.51 1526.7 Q1809.53 1526.35 1810.55 1526.19 Q1811.56 1526 1812.58 1526 Q1818.37 1526 1821.75 1529.17 Q1825.13 1532.34 1825.13 1537.76 Q1825.13 1543.34 1821.66 1546.44 Q1818.18 1549.52 1811.87 1549.52 Q1809.69 1549.52 1807.42 1549.15 Q1805.18 1548.78 1802.77 1548.04 L1802.77 1543.34 Q1804.85 1544.47 1807.07 1545.03 Q1809.3 1545.58 1811.77 1545.58 Q1815.78 1545.58 1818.12 1543.48 Q1820.45 1541.37 1820.45 1537.76 Q1820.45 1534.15 1818.12 1532.04 Q1815.78 1529.94 1811.77 1529.94 Q1809.9 1529.94 1808.02 1530.35 Q1806.17 1530.77 1804.23 1531.65 L1804.23 1514.29 Z\" fill=\"#000000\" fill-rule=\"evenodd\" fill-opacity=\"1\" /><path clip-path=\"url(#clip540)\" d=\"M2236.57 1517.37 Q2232.95 1517.37 2231.13 1520.93 Q2229.32 1524.47 2229.32 1531.6 Q2229.32 1538.71 2231.13 1542.27 Q2232.95 1545.82 2236.57 1545.82 Q2240.2 1545.82 2242.01 1542.27 Q2243.83 1538.71 2243.83 1531.6 Q2243.83 1524.47 2242.01 1520.93 Q2240.2 1517.37 2236.57 1517.37 M2236.57 1513.66 Q2242.38 1513.66 2245.43 1518.27 Q2248.51 1522.85 2248.51 1531.6 Q2248.51 1540.33 2245.43 1544.94 Q2242.38 1549.52 2236.57 1549.52 Q2230.76 1549.52 2227.68 1544.94 Q2224.62 1540.33 2224.62 1531.6 Q2224.62 1522.85 2227.68 1518.27 Q2230.76 1513.66 2236.57 1513.66 Z\" fill=\"#000000\" fill-rule=\"evenodd\" fill-opacity=\"1\" /><path clip-path=\"url(#clip540)\" d=\"M2256.73 1542.97 L2261.61 1542.97 L2261.61 1548.85 L2256.73 1548.85 L2256.73 1542.97 Z\" fill=\"#000000\" fill-rule=\"evenodd\" fill-opacity=\"1\" /><path clip-path=\"url(#clip540)\" d=\"M2272.61 1544.91 L2280.25 1544.91 L2280.25 1518.55 L2271.94 1520.21 L2271.94 1515.95 L2280.2 1514.29 L2284.88 1514.29 L2284.88 1544.91 L2292.51 1544.91 L2292.51 1548.85 L2272.61 1548.85 L2272.61 1544.91 Z\" fill=\"#000000\" fill-rule=\"evenodd\" fill-opacity=\"1\" /><path clip-path=\"url(#clip540)\" d=\"M2311.96 1517.37 Q2308.35 1517.37 2306.52 1520.93 Q2304.71 1524.47 2304.71 1531.6 Q2304.71 1538.71 2306.52 1542.27 Q2308.35 1545.82 2311.96 1545.82 Q2315.59 1545.82 2317.4 1542.27 Q2319.23 1538.71 2319.23 1531.6 Q2319.23 1524.47 2317.4 1520.93 Q2315.59 1517.37 2311.96 1517.37 M2311.96 1513.66 Q2317.77 1513.66 2320.82 1518.27 Q2323.9 1522.85 2323.9 1531.6 Q2323.9 1540.33 2320.82 1544.94 Q2317.77 1549.52 2311.96 1549.52 Q2306.15 1549.52 2303.07 1544.94 Q2300.01 1540.33 2300.01 1531.6 Q2300.01 1522.85 2303.07 1518.27 Q2306.15 1513.66 2311.96 1513.66 Z\" fill=\"#000000\" fill-rule=\"evenodd\" fill-opacity=\"1\" /><path clip-path=\"url(#clip540)\" d=\"M2342.12 1517.37 Q2338.51 1517.37 2336.68 1520.93 Q2334.88 1524.47 2334.88 1531.6 Q2334.88 1538.71 2336.68 1542.27 Q2338.51 1545.82 2342.12 1545.82 Q2345.76 1545.82 2347.56 1542.27 Q2349.39 1538.71 2349.39 1531.6 Q2349.39 1524.47 2347.56 1520.93 Q2345.76 1517.37 2342.12 1517.37 M2342.12 1513.66 Q2347.93 1513.66 2350.99 1518.27 Q2354.07 1522.85 2354.07 1531.6 Q2354.07 1540.33 2350.99 1544.94 Q2347.93 1549.52 2342.12 1549.52 Q2336.31 1549.52 2333.23 1544.94 Q2330.18 1540.33 2330.18 1531.6 Q2330.18 1522.85 2333.23 1518.27 Q2336.31 1513.66 2342.12 1513.66 Z\" fill=\"#000000\" fill-rule=\"evenodd\" fill-opacity=\"1\" /><polyline clip-path=\"url(#clip542)\" style=\"stroke:#000000; stroke-linecap:butt; stroke-linejoin:round; stroke-width:2; stroke-opacity:0.1; fill:none\" points=\"\n",
       "  112.177,1445.72 2352.76,1445.72 \n",
       "  \"/>\n",
       "<polyline clip-path=\"url(#clip542)\" style=\"stroke:#000000; stroke-linecap:butt; stroke-linejoin:round; stroke-width:2; stroke-opacity:0.1; fill:none\" points=\"\n",
       "  112.177,1219.43 2352.76,1219.43 \n",
       "  \"/>\n",
       "<polyline clip-path=\"url(#clip542)\" style=\"stroke:#000000; stroke-linecap:butt; stroke-linejoin:round; stroke-width:2; stroke-opacity:0.1; fill:none\" points=\"\n",
       "  112.177,993.136 2352.76,993.136 \n",
       "  \"/>\n",
       "<polyline clip-path=\"url(#clip542)\" style=\"stroke:#000000; stroke-linecap:butt; stroke-linejoin:round; stroke-width:2; stroke-opacity:0.1; fill:none\" points=\"\n",
       "  112.177,766.846 2352.76,766.846 \n",
       "  \"/>\n",
       "<polyline clip-path=\"url(#clip542)\" style=\"stroke:#000000; stroke-linecap:butt; stroke-linejoin:round; stroke-width:2; stroke-opacity:0.1; fill:none\" points=\"\n",
       "  112.177,540.556 2352.76,540.556 \n",
       "  \"/>\n",
       "<polyline clip-path=\"url(#clip542)\" style=\"stroke:#000000; stroke-linecap:butt; stroke-linejoin:round; stroke-width:2; stroke-opacity:0.1; fill:none\" points=\"\n",
       "  112.177,314.266 2352.76,314.266 \n",
       "  \"/>\n",
       "<polyline clip-path=\"url(#clip542)\" style=\"stroke:#000000; stroke-linecap:butt; stroke-linejoin:round; stroke-width:2; stroke-opacity:0.1; fill:none\" points=\"\n",
       "  112.177,87.9763 2352.76,87.9763 \n",
       "  \"/>\n",
       "<polyline clip-path=\"url(#clip540)\" style=\"stroke:#000000; stroke-linecap:butt; stroke-linejoin:round; stroke-width:4; stroke-opacity:1; fill:none\" points=\"\n",
       "  112.177,1486.45 112.177,47.2441 \n",
       "  \"/>\n",
       "<polyline clip-path=\"url(#clip540)\" style=\"stroke:#000000; stroke-linecap:butt; stroke-linejoin:round; stroke-width:4; stroke-opacity:1; fill:none\" points=\"\n",
       "  112.177,1445.72 131.075,1445.72 \n",
       "  \"/>\n",
       "<polyline clip-path=\"url(#clip540)\" style=\"stroke:#000000; stroke-linecap:butt; stroke-linejoin:round; stroke-width:4; stroke-opacity:1; fill:none\" points=\"\n",
       "  112.177,1219.43 131.075,1219.43 \n",
       "  \"/>\n",
       "<polyline clip-path=\"url(#clip540)\" style=\"stroke:#000000; stroke-linecap:butt; stroke-linejoin:round; stroke-width:4; stroke-opacity:1; fill:none\" points=\"\n",
       "  112.177,993.136 131.075,993.136 \n",
       "  \"/>\n",
       "<polyline clip-path=\"url(#clip540)\" style=\"stroke:#000000; stroke-linecap:butt; stroke-linejoin:round; stroke-width:4; stroke-opacity:1; fill:none\" points=\"\n",
       "  112.177,766.846 131.075,766.846 \n",
       "  \"/>\n",
       "<polyline clip-path=\"url(#clip540)\" style=\"stroke:#000000; stroke-linecap:butt; stroke-linejoin:round; stroke-width:4; stroke-opacity:1; fill:none\" points=\"\n",
       "  112.177,540.556 131.075,540.556 \n",
       "  \"/>\n",
       "<polyline clip-path=\"url(#clip540)\" style=\"stroke:#000000; stroke-linecap:butt; stroke-linejoin:round; stroke-width:4; stroke-opacity:1; fill:none\" points=\"\n",
       "  112.177,314.266 131.075,314.266 \n",
       "  \"/>\n",
       "<polyline clip-path=\"url(#clip540)\" style=\"stroke:#000000; stroke-linecap:butt; stroke-linejoin:round; stroke-width:4; stroke-opacity:1; fill:none\" points=\"\n",
       "  112.177,87.9763 131.075,87.9763 \n",
       "  \"/>\n",
       "<path clip-path=\"url(#clip540)\" d=\"M56.2699 1459.06 L63.9087 1459.06 L63.9087 1432.69 L55.5986 1434.36 L55.5986 1430.1 L63.8624 1428.44 L68.5383 1428.44 L68.5383 1459.06 L76.1772 1459.06 L76.1772 1463 L56.2699 1463 L56.2699 1459.06 Z\" fill=\"#000000\" fill-rule=\"evenodd\" fill-opacity=\"1\" /><path clip-path=\"url(#clip540)\" d=\"M59.8578 1232.77 L76.1772 1232.77 L76.1772 1236.71 L54.2328 1236.71 L54.2328 1232.77 Q56.8949 1230.02 61.4782 1225.39 Q66.0846 1220.73 67.2652 1219.39 Q69.5105 1216.87 70.3902 1215.13 Q71.2929 1213.37 71.2929 1211.68 Q71.2929 1208.93 69.3485 1207.19 Q67.4272 1205.46 64.3254 1205.46 Q62.1263 1205.46 59.6726 1206.22 Q57.2421 1206.98 54.4643 1208.53 L54.4643 1203.81 Q57.2884 1202.68 59.7421 1202.1 Q62.1958 1201.52 64.2328 1201.52 Q69.6031 1201.52 72.7976 1204.21 Q75.992 1206.89 75.992 1211.38 Q75.992 1213.51 75.1818 1215.43 Q74.3948 1217.33 72.2883 1219.92 Q71.7096 1220.59 68.6078 1223.81 Q65.5059 1227.01 59.8578 1232.77 Z\" fill=\"#000000\" fill-rule=\"evenodd\" fill-opacity=\"1\" /><path clip-path=\"url(#clip540)\" d=\"M69.0476 991.782 Q72.404 992.499 74.279 994.768 Q76.1772 997.036 76.1772 1000.37 Q76.1772 1005.49 72.6587 1008.29 Q69.1402 1011.09 62.6587 1011.09 Q60.4828 1011.09 58.168 1010.65 Q55.8764 1010.23 53.4227 1009.37 L53.4227 1004.86 Q55.3671 1005.99 57.6819 1006.57 Q59.9967 1007.15 62.5198 1007.15 Q66.918 1007.15 69.2096 1005.42 Q71.5244 1003.68 71.5244 1000.37 Q71.5244 997.314 69.3717 995.601 Q67.242 993.865 63.4226 993.865 L59.3949 993.865 L59.3949 990.022 L63.6078 990.022 Q67.0569 990.022 68.8855 988.657 Q70.7142 987.268 70.7142 984.675 Q70.7142 982.013 68.8161 980.601 Q66.9411 979.166 63.4226 979.166 Q61.5013 979.166 59.3023 979.583 Q57.1032 979.999 54.4643 980.879 L54.4643 976.712 Q57.1264 975.972 59.4412 975.601 Q61.7791 975.231 63.8393 975.231 Q69.1633 975.231 72.2652 977.661 Q75.367 980.069 75.367 984.189 Q75.367 987.06 73.7235 989.05 Q72.08 991.018 69.0476 991.782 Z\" fill=\"#000000\" fill-rule=\"evenodd\" fill-opacity=\"1\" /><path clip-path=\"url(#clip540)\" d=\"M66.5939 753.64 L54.7884 772.089 L66.5939 772.089 L66.5939 753.64 M65.367 749.566 L71.2466 749.566 L71.2466 772.089 L76.1772 772.089 L76.1772 775.978 L71.2466 775.978 L71.2466 784.126 L66.5939 784.126 L66.5939 775.978 L50.9921 775.978 L50.9921 771.464 L65.367 749.566 Z\" fill=\"#000000\" fill-rule=\"evenodd\" fill-opacity=\"1\" /><path clip-path=\"url(#clip540)\" d=\"M55.2745 523.276 L73.6309 523.276 L73.6309 527.211 L59.5569 527.211 L59.5569 535.683 Q60.5754 535.336 61.5939 535.174 Q62.6124 534.989 63.6309 534.989 Q69.418 534.989 72.7976 538.16 Q76.1772 541.332 76.1772 546.748 Q76.1772 552.327 72.705 555.429 Q69.2328 558.507 62.9134 558.507 Q60.7374 558.507 58.4689 558.137 Q56.2236 557.767 53.8162 557.026 L53.8162 552.327 Q55.8995 553.461 58.1217 554.017 Q60.3439 554.572 62.8208 554.572 Q66.8254 554.572 69.1633 552.466 Q71.5013 550.359 71.5013 546.748 Q71.5013 543.137 69.1633 541.031 Q66.8254 538.924 62.8208 538.924 Q60.9458 538.924 59.0708 539.341 Q57.2189 539.757 55.2745 540.637 L55.2745 523.276 Z\" fill=\"#000000\" fill-rule=\"evenodd\" fill-opacity=\"1\" /><path clip-path=\"url(#clip540)\" d=\"M64.6495 312.403 Q61.5013 312.403 59.6495 314.556 Q57.8208 316.708 57.8208 320.458 Q57.8208 324.185 59.6495 326.361 Q61.5013 328.514 64.6495 328.514 Q67.7976 328.514 69.6263 326.361 Q71.4781 324.185 71.4781 320.458 Q71.4781 316.708 69.6263 314.556 Q67.7976 312.403 64.6495 312.403 M73.9318 297.75 L73.9318 302.009 Q72.1726 301.176 70.367 300.736 Q68.5846 300.296 66.8254 300.296 Q62.1958 300.296 59.7421 303.421 Q57.3115 306.546 56.9643 312.866 Q58.33 310.852 60.3902 309.787 Q62.4504 308.699 64.9272 308.699 Q70.1355 308.699 73.1448 311.87 Q76.1772 315.018 76.1772 320.458 Q76.1772 325.782 73.029 329 Q69.8809 332.217 64.6495 332.217 Q58.6541 332.217 55.4828 327.634 Q52.3116 323.028 52.3116 314.301 Q52.3116 306.107 56.2004 301.245 Q60.0893 296.361 66.6402 296.361 Q68.3994 296.361 70.1818 296.708 Q71.9874 297.056 73.9318 297.75 Z\" fill=\"#000000\" fill-rule=\"evenodd\" fill-opacity=\"1\" /><path clip-path=\"url(#clip540)\" d=\"M53.9551 70.6963 L76.1772 70.6963 L76.1772 72.687 L63.6309 105.256 L58.7467 105.256 L70.5522 74.6314 L53.9551 74.6314 L53.9551 70.6963 Z\" fill=\"#000000\" fill-rule=\"evenodd\" fill-opacity=\"1\" /><polyline clip-path=\"url(#clip542)\" style=\"stroke:#009af9; stroke-linecap:butt; stroke-linejoin:round; stroke-width:4; stroke-opacity:1; fill:none\" points=\"\n",
       "  2289.34,1219.43 386.965,993.136 196.727,766.846 175.611,540.556 175.59,540.556 175.59,314.266 175.59,314.266 175.59,314.266 \n",
       "  \"/>\n",
       "<polyline clip-path=\"url(#clip542)\" style=\"stroke:#e26f46; stroke-linecap:butt; stroke-linejoin:round; stroke-width:4; stroke-opacity:1; fill:none\" points=\"\n",
       "  2289.34,1445.72 386.965,993.136 196.727,766.846 175.611,540.556 175.59,314.266 175.59,87.9763 175.59,87.9763 175.59,87.9763 \n",
       "  \"/>\n",
       "<path clip-path=\"url(#clip540)\" d=\"\n",
       "M1976.69 250.738 L2278.07 250.738 L2278.07 95.2176 L1976.69 95.2176  Z\n",
       "  \" fill=\"#ffffff\" fill-rule=\"evenodd\" fill-opacity=\"1\"/>\n",
       "<polyline clip-path=\"url(#clip540)\" style=\"stroke:#000000; stroke-linecap:butt; stroke-linejoin:round; stroke-width:4; stroke-opacity:1; fill:none\" points=\"\n",
       "  1976.69,250.738 2278.07,250.738 2278.07,95.2176 1976.69,95.2176 1976.69,250.738 \n",
       "  \"/>\n",
       "<polyline clip-path=\"url(#clip540)\" style=\"stroke:#009af9; stroke-linecap:butt; stroke-linejoin:round; stroke-width:4; stroke-opacity:1; fill:none\" points=\"\n",
       "  2001.58,147.058 2150.95,147.058 \n",
       "  \"/>\n",
       "<path clip-path=\"url(#clip540)\" d=\"M2189.69 166.745 Q2187.89 171.375 2186.17 172.787 Q2184.46 174.199 2181.59 174.199 L2178.19 174.199 L2178.19 170.634 L2180.69 170.634 Q2182.45 170.634 2183.42 169.8 Q2184.39 168.967 2185.57 165.865 L2186.34 163.921 L2175.85 138.412 L2180.36 138.412 L2188.46 158.689 L2196.57 138.412 L2201.08 138.412 L2189.69 166.745 Z\" fill=\"#000000\" fill-rule=\"evenodd\" fill-opacity=\"1\" /><path clip-path=\"url(#clip540)\" d=\"M2208.37 160.402 L2216.01 160.402 L2216.01 134.037 L2207.7 135.703 L2207.7 131.444 L2215.96 129.778 L2220.64 129.778 L2220.64 160.402 L2228.28 160.402 L2228.28 164.338 L2208.37 164.338 L2208.37 160.402 Z\" fill=\"#000000\" fill-rule=\"evenodd\" fill-opacity=\"1\" /><polyline clip-path=\"url(#clip540)\" style=\"stroke:#e26f46; stroke-linecap:butt; stroke-linejoin:round; stroke-width:4; stroke-opacity:1; fill:none\" points=\"\n",
       "  2001.58,198.898 2150.95,198.898 \n",
       "  \"/>\n",
       "<path clip-path=\"url(#clip540)\" d=\"M2189.69 218.585 Q2187.89 223.215 2186.17 224.627 Q2184.46 226.039 2181.59 226.039 L2178.19 226.039 L2178.19 222.474 L2180.69 222.474 Q2182.45 222.474 2183.42 221.64 Q2184.39 220.807 2185.57 217.705 L2186.34 215.761 L2175.85 190.252 L2180.36 190.252 L2188.46 210.529 L2196.57 190.252 L2201.08 190.252 L2189.69 218.585 Z\" fill=\"#000000\" fill-rule=\"evenodd\" fill-opacity=\"1\" /><path clip-path=\"url(#clip540)\" d=\"M2211.59 212.242 L2227.91 212.242 L2227.91 216.178 L2205.96 216.178 L2205.96 212.242 Q2208.63 209.488 2213.21 204.858 Q2217.82 200.205 2219 198.863 Q2221.24 196.34 2222.12 194.604 Q2223.02 192.844 2223.02 191.155 Q2223.02 188.4 2221.08 186.664 Q2219.16 184.928 2216.06 184.928 Q2213.86 184.928 2211.4 185.692 Q2208.97 186.455 2206.2 188.006 L2206.2 183.284 Q2209.02 182.15 2211.47 181.571 Q2213.93 180.993 2215.96 180.993 Q2221.33 180.993 2224.53 183.678 Q2227.72 186.363 2227.72 190.854 Q2227.72 192.983 2226.91 194.905 Q2226.13 196.803 2224.02 199.395 Q2223.44 200.067 2220.34 203.284 Q2217.24 206.479 2211.59 212.242 Z\" fill=\"#000000\" fill-rule=\"evenodd\" fill-opacity=\"1\" /></svg>\n"
      ]
     },
     "metadata": {},
     "output_type": "display_data"
    }
   ],
   "source": [
    "plot(tol,n_iter_nr)\n",
    "plot!(tol,n_iter_sec)"
   ]
  }
 ],
 "metadata": {
  "kernelspec": {
   "display_name": "Julia 1.7.3",
   "language": "julia",
   "name": "julia-1.7"
  },
  "language_info": {
   "file_extension": ".jl",
   "mimetype": "application/julia",
   "name": "julia",
   "version": "1.7.3"
  },
  "vscode": {
   "interpreter": {
    "hash": "52ee2977380704a66854748a73250e0671a9318bd5b3fd45a3df9f851ae61629"
   }
  }
 },
 "nbformat": 4,
 "nbformat_minor": 5
}
