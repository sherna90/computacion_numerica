{
 "cells": [
  {
   "cell_type": "markdown",
   "metadata": {},
   "source": [
    "# EigenFaces"
   ]
  },
  {
   "cell_type": "code",
   "execution_count": null,
   "metadata": {},
   "outputs": [],
   "source": [
    "using Images,Colors\n",
    "using ImageTransformations\n",
    "\n",
    "path=\"eigenvalue_pics/\"\n",
    "dim=64\n",
    "\n",
    "function images_to_mat(pathlist,dim,data_type)\n",
    "    mat=zeros(data_type,length(pathlist),dim*dim)\n",
    "    for (index,images) in enumerate(pathlist)\n",
    "        img=load(images)\n",
    "        img_g=Gray.(img)\n",
    "        img_g=imresize(img_g,dim,dim)\n",
    "        img_g=255*data_type.(img_g)\n",
    "        img_g=reshape(img_g,(1,dim*dim))\n",
    "        mat[index,:]=img_g\n",
    "    end \n",
    "    return mat\n",
    "end\n",
    "\n",
    "pathlist=[]\n",
    "for d in readdir(path)\n",
    "    for f in readdir(path*d)\n",
    "        file_path=path*d*\"/\"*f\n",
    "        push!(pathlist,file_path)\n",
    "    end \n",
    "end "
   ]
  },
  {
   "cell_type": "code",
   "execution_count": null,
   "metadata": {},
   "outputs": [],
   "source": [
    "mat=images_to_mat(pathlist,dim,Float64)\n",
    "mu=mean!(transpose(ones(4096)),mat)\n",
    "centered_mat=mat.-mu"
   ]
  }
 ],
 "metadata": {
  "kernelspec": {
   "display_name": "fortuna",
   "language": "python",
   "name": "fortuna"
  },
  "language_info": {
   "name": "python",
   "version": "3.10.12"
  },
  "orig_nbformat": 4
 },
 "nbformat": 4,
 "nbformat_minor": 2
}
