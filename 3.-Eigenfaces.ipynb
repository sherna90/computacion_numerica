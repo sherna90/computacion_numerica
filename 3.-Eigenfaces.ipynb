{
 "cells": [
  {
   "cell_type": "markdown",
   "metadata": {},
   "source": [
    "# Algoritmo PCA\n",
    "\n",
    "El algoritmo PCA (Análisis de Componentes Principales) permite encontrar una representación de baja dimensionalidad $\\mathbf{y_i}$ que explica la varianza de los datos originales $\\mathbf{x_i}$. \n",
    "\n",
    "\\begin{align*}\n",
    "\\mathbf{y_i}=U^T (\\mathbf{x_i}-\\mu)\\\\\n",
    "\\tilde{\\mathbf{x_i}}=U \\mathbf{y_i} +\\mu\n",
    "\\end{align*}"
   ]
  },
  {
   "cell_type": "code",
   "execution_count": 11,
   "metadata": {},
   "outputs": [
    {
     "data": {
      "text/plain": [
       "2.5979517653630966"
      ]
     },
     "metadata": {},
     "output_type": "display_data"
    }
   ],
   "source": [
    "using LinearAlgebra; \n",
    "using MultivariateStats;\n",
    "using Statistics;\n",
    "\n",
    "X=[ 7  4  3;\n",
    "    4  1  8; \n",
    "    6  3  5;\n",
    "    8  6  1;\n",
    "    8  5  7;\n",
    "    7  2  9;\n",
    "    5  3  3;\n",
    "    9  5  8;\n",
    "    7  4  5;\n",
    "    8  2  2];\n",
    "μ=mean!([1. 1. 1.],X)\n",
    "X_m=(X.-μ)\n",
    "M = fit(PCA, transpose(X_m),maxoutdim=2)\n",
    "Yte = transform(M, transpose(X_m))\n",
    "X_r=transpose(reconstruct(M, Yte)).+μ\n",
    "E=norm(X-X_r)"
   ]
  },
  {
   "cell_type": "code",
   "execution_count": 19,
   "metadata": {},
   "outputs": [
    {
     "data": {
      "text/plain": [
       "PCA(indim = 3, outdim = 2, principalratio = 0.9409505391500154)\n",
       "\n",
       "Pattern matrix (unstandardized loadings):\n",
       "──────────────────────\n",
       "         PC1       PC2\n",
       "──────────────────────\n",
       "1  -0.395715  1.34028\n",
       "2  -0.720434  1.26714\n",
       "3   2.75651   0.523582\n",
       "──────────────────────\n",
       "\n",
       "Importance of components:\n",
       "─────────────────────────────────────────────\n",
       "                                PC1       PC2\n",
       "─────────────────────────────────────────────\n",
       "SS Loadings (Eigenvalues)  8.27394   3.67613\n",
       "Variance explained         0.651492  0.289459\n",
       "Cumulative variance        0.651492  0.940951\n",
       "Proportion explained       0.692376  0.307624\n",
       "Cumulative proportion      0.692376  1.0\n",
       "─────────────────────────────────────────────"
      ]
     },
     "metadata": {},
     "output_type": "display_data"
    }
   ],
   "source": [
    "M"
   ]
  },
  {
   "cell_type": "code",
   "execution_count": 13,
   "metadata": {},
   "outputs": [
    {
     "data": {
      "text/plain": [
       "Matrix{Float64}\u001b[90m (alias for \u001b[39m\u001b[90mArray{Float64, 2}\u001b[39m\u001b[90m)\u001b[39m"
      ]
     },
     "metadata": {},
     "output_type": "display_data"
    }
   ],
   "source": [
    "typeof(X_m)"
   ]
  },
  {
   "cell_type": "code",
   "execution_count": 16,
   "metadata": {},
   "outputs": [],
   "source": [
    "values,vectors=eigen(cov(X_m));"
   ]
  },
  {
   "cell_type": "code",
   "execution_count": 20,
   "metadata": {},
   "outputs": [
    {
     "data": {
      "text/plain": [
       "3×2 Matrix{Float64}:\n",
       " -0.395715  1.34028\n",
       " -0.720434  1.26714\n",
       "  2.75651   0.523582"
      ]
     },
     "metadata": {},
     "output_type": "display_data"
    }
   ],
   "source": [
    "U=[vectors[:,3] vectors[:,2]]\n",
    "V=sort(values[2:3],rev=true)\n",
    "U_s=sqrt.(V)'.*U"
   ]
  },
  {
   "cell_type": "code",
   "execution_count": 24,
   "metadata": {},
   "outputs": [
    {
     "data": {
      "text/plain": [
       "3×2 Matrix{Float64}:\n",
       " -0.137571  0.699037\n",
       " -0.25046   0.660889\n",
       "  0.958303  0.27308"
      ]
     },
     "metadata": {},
     "output_type": "display_data"
    }
   ],
   "source": [
    "U"
   ]
  },
  {
   "cell_type": "code",
   "execution_count": 23,
   "metadata": {},
   "outputs": [
    {
     "data": {
      "text/plain": [
       "3×2 Matrix{Float64}:\n",
       " -0.137571  0.699037\n",
       " -0.25046   0.660889\n",
       "  0.958303  0.27308"
      ]
     },
     "metadata": {},
     "output_type": "display_data"
    }
   ],
   "source": [
    "M.proj"
   ]
  },
  {
   "cell_type": "code",
   "execution_count": 21,
   "metadata": {},
   "outputs": [
    {
     "name": "stdout",
     "output_type": "stream",
     "text": [
      "Proportion explained : [0.6923759694669046, 0.3076240305330955]"
     ]
    }
   ],
   "source": [
    "imp=V./sum(V)\n",
    "print(\"Proportion explained : $imp\")"
   ]
  },
  {
   "cell_type": "code",
   "execution_count": 25,
   "metadata": {},
   "outputs": [
    {
     "data": {
      "text/plain": [
       "10×3 Matrix{Float64}:\n",
       " 7.07496  3.92443   2.99101\n",
       " 4.35819  0.638889  7.95704\n",
       " 6.18905  2.8094    4.97733\n",
       " 8.4573   5.53896   0.945154\n",
       " 8.31521  4.68222   6.9622\n",
       " 6.43642  2.56818   9.06759\n",
       " 5.56336  2.43204   2.93243\n",
       " 8.88185  5.11912   8.01417\n",
       " 7.19307  3.80535   4.97684\n",
       " 6.53059  3.48141   2.17623"
      ]
     },
     "metadata": {},
     "output_type": "display_data"
    }
   ],
   "source": [
    "Y_t=transpose(U)*transpose(X_m)\n",
    "X_r2=transpose(U*Y_t).+μ"
   ]
  },
  {
   "cell_type": "code",
   "execution_count": 26,
   "metadata": {},
   "outputs": [
    {
     "data": {
      "text/plain": [
       "2×3 transpose(::Matrix{Float64}) with eltype Float64:\n",
       " -0.137571  -0.25046   0.958303\n",
       "  0.699037   0.660889  0.27308"
      ]
     },
     "metadata": {},
     "output_type": "display_data"
    }
   ],
   "source": [
    "transpose(U)"
   ]
  },
  {
   "cell_type": "code",
   "execution_count": 27,
   "metadata": {},
   "outputs": [
    {
     "data": {
      "image/png": "[encoded data removed]",
      "image/svg+xml": [
       "<?xml version=\"1.0\" encoding=\"utf-8\"?>\n",
       "<svg xmlns=\"http://www.w3.org/2000/svg\" xmlns:xlink=\"http://www.w3.org/1999/xlink\" width=\"600\" height=\"400\" viewBox=\"0 0 2400 1600\">\n",
       "<defs>\n",
       "  <clipPath id=\"clip650\">\n",
       "    <rect x=\"0\" y=\"0\" width=\"2400\" height=\"1600\"/>\n",
       "  </clipPath>\n",
       "</defs>\n",
       "<path clip-path=\"url(#clip650)\" d=\"M0 1600 L2400 1600 L2400 0 L0 0  Z\" fill=\"#ffffff\" fill-rule=\"evenodd\" fill-opacity=\"1\"/>\n",
       "<defs>\n",
       "  <clipPath id=\"clip651\">\n",
       "    <rect x=\"480\" y=\"0\" width=\"1681\" height=\"1600\"/>\n",
       "  </clipPath>\n",
       "</defs>\n",
       "<path clip-path=\"url(#clip650)\" d=\"M112.177 1486.45 L2352.76 1486.45 L2352.76 47.2441 L112.177 47.2441  Z\" fill=\"#ffffff\" fill-rule=\"evenodd\" fill-opacity=\"1\"/>\n",
       "<defs>\n",
       "  <clipPath id=\"clip652\">\n",
       "    <rect x=\"112\" y=\"47\" width=\"2242\" height=\"1440\"/>\n",
       "  </clipPath>\n",
       "</defs>\n",
       "<polyline clip-path=\"url(#clip652)\" style=\"stroke:#000000; stroke-linecap:round; stroke-linejoin:round; stroke-width:2; stroke-opacity:0.1; fill:none\" points=\"175.59,1486.45 175.59,47.2441 \"/>\n",
       "<polyline clip-path=\"url(#clip652)\" style=\"stroke:#000000; stroke-linecap:round; stroke-linejoin:round; stroke-width:2; stroke-opacity:0.1; fill:none\" points=\"704.028,1486.45 704.028,47.2441 \"/>\n",
       "<polyline clip-path=\"url(#clip652)\" style=\"stroke:#000000; stroke-linecap:round; stroke-linejoin:round; stroke-width:2; stroke-opacity:0.1; fill:none\" points=\"1232.47,1486.45 1232.47,47.2441 \"/>\n",
       "<polyline clip-path=\"url(#clip652)\" style=\"stroke:#000000; stroke-linecap:round; stroke-linejoin:round; stroke-width:2; stroke-opacity:0.1; fill:none\" points=\"1760.9,1486.45 1760.9,47.2441 \"/>\n",
       "<polyline clip-path=\"url(#clip652)\" style=\"stroke:#000000; stroke-linecap:round; stroke-linejoin:round; stroke-width:2; stroke-opacity:0.1; fill:none\" points=\"2289.34,1486.45 2289.34,47.2441 \"/>\n",
       "<polyline clip-path=\"url(#clip650)\" style=\"stroke:#000000; stroke-linecap:round; stroke-linejoin:round; stroke-width:4; stroke-opacity:1; fill:none\" points=\"112.177,1486.45 2352.76,1486.45 \"/>\n",
       "<polyline clip-path=\"url(#clip650)\" style=\"stroke:#000000; stroke-linecap:round; stroke-linejoin:round; stroke-width:4; stroke-opacity:1; fill:none\" points=\"175.59,1486.45 175.59,1467.55 \"/>\n",
       "<polyline clip-path=\"url(#clip650)\" style=\"stroke:#000000; stroke-linecap:round; stroke-linejoin:round; stroke-width:4; stroke-opacity:1; fill:none\" points=\"704.028,1486.45 704.028,1467.55 \"/>\n",
       "<polyline clip-path=\"url(#clip650)\" style=\"stroke:#000000; stroke-linecap:round; stroke-linejoin:round; stroke-width:4; stroke-opacity:1; fill:none\" points=\"1232.47,1486.45 1232.47,1467.55 \"/>\n",
       "<polyline clip-path=\"url(#clip650)\" style=\"stroke:#000000; stroke-linecap:round; stroke-linejoin:round; stroke-width:4; stroke-opacity:1; fill:none\" points=\"1760.9,1486.45 1760.9,1467.55 \"/>\n",
       "<polyline clip-path=\"url(#clip650)\" style=\"stroke:#000000; stroke-linecap:round; stroke-linejoin:round; stroke-width:4; stroke-opacity:1; fill:none\" points=\"2289.34,1486.45 2289.34,1467.55 \"/>\n",
       "<path clip-path=\"url(#clip650)\" d=\"M142.743 1544.91 L150.382 1544.91 L150.382 1518.55 L142.071 1520.21 L142.071 1515.95 L150.335 1514.29 L155.011 1514.29 L155.011 1544.91 L162.65 1544.91 L162.65 1548.85 L142.743 1548.85 L142.743 1544.91 Z\" fill=\"#000000\" fill-rule=\"nonzero\" fill-opacity=\"1\" /><path clip-path=\"url(#clip650)\" d=\"M172.094 1542.97 L176.979 1542.97 L176.979 1548.85 L172.094 1548.85 L172.094 1542.97 Z\" fill=\"#000000\" fill-rule=\"nonzero\" fill-opacity=\"1\" /><path clip-path=\"url(#clip650)\" d=\"M197.164 1517.37 Q193.553 1517.37 191.724 1520.93 Q189.918 1524.47 189.918 1531.6 Q189.918 1538.71 191.724 1542.27 Q193.553 1545.82 197.164 1545.82 Q200.798 1545.82 202.604 1542.27 Q204.432 1538.71 204.432 1531.6 Q204.432 1524.47 202.604 1520.93 Q200.798 1517.37 197.164 1517.37 M197.164 1513.66 Q202.974 1513.66 206.029 1518.27 Q209.108 1522.85 209.108 1531.6 Q209.108 1540.33 206.029 1544.94 Q202.974 1549.52 197.164 1549.52 Q191.354 1549.52 188.275 1544.94 Q185.219 1540.33 185.219 1531.6 Q185.219 1522.85 188.275 1518.27 Q191.354 1513.66 197.164 1513.66 Z\" fill=\"#000000\" fill-rule=\"nonzero\" fill-opacity=\"1\" /><path clip-path=\"url(#clip650)\" d=\"M671.679 1544.91 L679.318 1544.91 L679.318 1518.55 L671.008 1520.21 L671.008 1515.95 L679.271 1514.29 L683.947 1514.29 L683.947 1544.91 L691.586 1544.91 L691.586 1548.85 L671.679 1548.85 L671.679 1544.91 Z\" fill=\"#000000\" fill-rule=\"nonzero\" fill-opacity=\"1\" /><path clip-path=\"url(#clip650)\" d=\"M701.03 1542.97 L705.915 1542.97 L705.915 1548.85 L701.03 1548.85 L701.03 1542.97 Z\" fill=\"#000000\" fill-rule=\"nonzero\" fill-opacity=\"1\" /><path clip-path=\"url(#clip650)\" d=\"M716.146 1514.29 L734.503 1514.29 L734.503 1518.22 L720.429 1518.22 L720.429 1526.7 Q721.447 1526.35 722.466 1526.19 Q723.484 1526 724.503 1526 Q730.29 1526 733.669 1529.17 Q737.049 1532.34 737.049 1537.76 Q737.049 1543.34 733.577 1546.44 Q730.104 1549.52 723.785 1549.52 Q721.609 1549.52 719.341 1549.15 Q717.095 1548.78 714.688 1548.04 L714.688 1543.34 Q716.771 1544.47 718.993 1545.03 Q721.216 1545.58 723.692 1545.58 Q727.697 1545.58 730.035 1543.48 Q732.373 1541.37 732.373 1537.76 Q732.373 1534.15 730.035 1532.04 Q727.697 1529.94 723.692 1529.94 Q721.817 1529.94 719.942 1530.35 Q718.091 1530.77 716.146 1531.65 L716.146 1514.29 Z\" fill=\"#000000\" fill-rule=\"nonzero\" fill-opacity=\"1\" /><path clip-path=\"url(#clip650)\" d=\"M1203.71 1544.91 L1220.02 1544.91 L1220.02 1548.85 L1198.08 1548.85 L1198.08 1544.91 Q1200.74 1542.16 1205.33 1537.53 Q1209.93 1532.88 1211.11 1531.53 Q1213.36 1529.01 1214.24 1527.27 Q1215.14 1525.51 1215.14 1523.82 Q1215.14 1521.07 1213.2 1519.33 Q1211.27 1517.6 1208.17 1517.6 Q1205.97 1517.6 1203.52 1518.36 Q1201.09 1519.13 1198.31 1520.68 L1198.31 1515.95 Q1201.14 1514.82 1203.59 1514.24 Q1206.04 1513.66 1208.08 1513.66 Q1213.45 1513.66 1216.64 1516.35 Q1219.84 1519.03 1219.84 1523.52 Q1219.84 1525.65 1219.03 1527.57 Q1218.24 1529.47 1216.14 1532.07 Q1215.56 1532.74 1212.46 1535.95 Q1209.35 1539.15 1203.71 1544.91 Z\" fill=\"#000000\" fill-rule=\"nonzero\" fill-opacity=\"1\" /><path clip-path=\"url(#clip650)\" d=\"M1229.84 1542.97 L1234.72 1542.97 L1234.72 1548.85 L1229.84 1548.85 L1229.84 1542.97 Z\" fill=\"#000000\" fill-rule=\"nonzero\" fill-opacity=\"1\" /><path clip-path=\"url(#clip650)\" d=\"M1254.91 1517.37 Q1251.3 1517.37 1249.47 1520.93 Q1247.66 1524.47 1247.66 1531.6 Q1247.66 1538.71 1249.47 1542.27 Q1251.3 1545.82 1254.91 1545.82 Q1258.54 1545.82 1260.35 1542.27 Q1262.18 1538.71 1262.18 1531.6 Q1262.18 1524.47 1260.35 1520.93 Q1258.54 1517.37 1254.91 1517.37 M1254.91 1513.66 Q1260.72 1513.66 1263.77 1518.27 Q1266.85 1522.85 1266.85 1531.6 Q1266.85 1540.33 1263.77 1544.94 Q1260.72 1549.52 1254.91 1549.52 Q1249.1 1549.52 1246.02 1544.94 Q1242.96 1540.33 1242.96 1531.6 Q1242.96 1522.85 1246.02 1518.27 Q1249.1 1513.66 1254.91 1513.66 Z\" fill=\"#000000\" fill-rule=\"nonzero\" fill-opacity=\"1\" /><path clip-path=\"url(#clip650)\" d=\"M1732.64 1544.91 L1748.96 1544.91 L1748.96 1548.85 L1727.02 1548.85 L1727.02 1544.91 Q1729.68 1542.16 1734.26 1537.53 Q1738.87 1532.88 1740.05 1531.53 Q1742.29 1529.01 1743.17 1527.27 Q1744.08 1525.51 1744.08 1523.82 Q1744.08 1521.07 1742.13 1519.33 Q1740.21 1517.6 1737.11 1517.6 Q1734.91 1517.6 1732.46 1518.36 Q1730.03 1519.13 1727.25 1520.68 L1727.25 1515.95 Q1730.07 1514.82 1732.53 1514.24 Q1734.98 1513.66 1737.02 1513.66 Q1742.39 1513.66 1745.58 1516.35 Q1748.78 1519.03 1748.78 1523.52 Q1748.78 1525.65 1747.97 1527.57 Q1747.18 1529.47 1745.07 1532.07 Q1744.49 1532.74 1741.39 1535.95 Q1738.29 1539.15 1732.64 1544.91 Z\" fill=\"#000000\" fill-rule=\"nonzero\" fill-opacity=\"1\" /><path clip-path=\"url(#clip650)\" d=\"M1758.78 1542.97 L1763.66 1542.97 L1763.66 1548.85 L1758.78 1548.85 L1758.78 1542.97 Z\" fill=\"#000000\" fill-rule=\"nonzero\" fill-opacity=\"1\" /><path clip-path=\"url(#clip650)\" d=\"M1773.89 1514.29 L1792.25 1514.29 L1792.25 1518.22 L1778.17 1518.22 L1778.17 1526.7 Q1779.19 1526.35 1780.21 1526.19 Q1781.23 1526 1782.25 1526 Q1788.03 1526 1791.41 1529.17 Q1794.79 1532.34 1794.79 1537.76 Q1794.79 1543.34 1791.32 1546.44 Q1787.85 1549.52 1781.53 1549.52 Q1779.35 1549.52 1777.09 1549.15 Q1774.84 1548.78 1772.43 1548.04 L1772.43 1543.34 Q1774.52 1544.47 1776.74 1545.03 Q1778.96 1545.58 1781.44 1545.58 Q1785.44 1545.58 1787.78 1543.48 Q1790.12 1541.37 1790.12 1537.76 Q1790.12 1534.15 1787.78 1532.04 Q1785.44 1529.94 1781.44 1529.94 Q1779.56 1529.94 1777.69 1530.35 Q1775.84 1530.77 1773.89 1531.65 L1773.89 1514.29 Z\" fill=\"#000000\" fill-rule=\"nonzero\" fill-opacity=\"1\" /><path clip-path=\"url(#clip650)\" d=\"M2270.65 1530.21 Q2274.01 1530.93 2275.88 1533.2 Q2277.78 1535.47 2277.78 1538.8 Q2277.78 1543.92 2274.26 1546.72 Q2270.74 1549.52 2264.26 1549.52 Q2262.09 1549.52 2259.77 1549.08 Q2257.48 1548.66 2255.03 1547.81 L2255.03 1543.29 Q2256.97 1544.43 2259.29 1545.01 Q2261.6 1545.58 2264.12 1545.58 Q2268.52 1545.58 2270.81 1543.85 Q2273.13 1542.11 2273.13 1538.8 Q2273.13 1535.75 2270.98 1534.03 Q2268.85 1532.3 2265.03 1532.3 L2261 1532.3 L2261 1528.45 L2265.21 1528.45 Q2268.66 1528.45 2270.49 1527.09 Q2272.32 1525.7 2272.32 1523.11 Q2272.32 1520.45 2270.42 1519.03 Q2268.54 1517.6 2265.03 1517.6 Q2263.11 1517.6 2260.91 1518.01 Q2258.71 1518.43 2256.07 1519.31 L2256.07 1515.14 Q2258.73 1514.4 2261.04 1514.03 Q2263.38 1513.66 2265.44 1513.66 Q2270.77 1513.66 2273.87 1516.09 Q2276.97 1518.5 2276.97 1522.62 Q2276.97 1525.49 2275.33 1527.48 Q2273.68 1529.45 2270.65 1530.21 Z\" fill=\"#000000\" fill-rule=\"nonzero\" fill-opacity=\"1\" /><path clip-path=\"url(#clip650)\" d=\"M2286.65 1542.97 L2291.53 1542.97 L2291.53 1548.85 L2286.65 1548.85 L2286.65 1542.97 Z\" fill=\"#000000\" fill-rule=\"nonzero\" fill-opacity=\"1\" /><path clip-path=\"url(#clip650)\" d=\"M2311.72 1517.37 Q2308.1 1517.37 2306.28 1520.93 Q2304.47 1524.47 2304.47 1531.6 Q2304.47 1538.71 2306.28 1542.27 Q2308.1 1545.82 2311.72 1545.82 Q2315.35 1545.82 2317.16 1542.27 Q2318.98 1538.71 2318.98 1531.6 Q2318.98 1524.47 2317.16 1520.93 Q2315.35 1517.37 2311.72 1517.37 M2311.72 1513.66 Q2317.53 1513.66 2320.58 1518.27 Q2323.66 1522.85 2323.66 1531.6 Q2323.66 1540.33 2320.58 1544.94 Q2317.53 1549.52 2311.72 1549.52 Q2305.91 1549.52 2302.83 1544.94 Q2299.77 1540.33 2299.77 1531.6 Q2299.77 1522.85 2302.83 1518.27 Q2305.91 1513.66 2311.72 1513.66 Z\" fill=\"#000000\" fill-rule=\"nonzero\" fill-opacity=\"1\" /><polyline clip-path=\"url(#clip652)\" style=\"stroke:#000000; stroke-linecap:round; stroke-linejoin:round; stroke-width:2; stroke-opacity:0.1; fill:none\" points=\"112.177,1220.14 2352.76,1220.14 \"/>\n",
       "<polyline clip-path=\"url(#clip652)\" style=\"stroke:#000000; stroke-linecap:round; stroke-linejoin:round; stroke-width:2; stroke-opacity:0.1; fill:none\" points=\"112.177,859.227 2352.76,859.227 \"/>\n",
       "<polyline clip-path=\"url(#clip652)\" style=\"stroke:#000000; stroke-linecap:round; stroke-linejoin:round; stroke-width:2; stroke-opacity:0.1; fill:none\" points=\"112.177,498.319 2352.76,498.319 \"/>\n",
       "<polyline clip-path=\"url(#clip652)\" style=\"stroke:#000000; stroke-linecap:round; stroke-linejoin:round; stroke-width:2; stroke-opacity:0.1; fill:none\" points=\"112.177,137.41 2352.76,137.41 \"/>\n",
       "<polyline clip-path=\"url(#clip650)\" style=\"stroke:#000000; stroke-linecap:round; stroke-linejoin:round; stroke-width:4; stroke-opacity:1; fill:none\" points=\"112.177,1486.45 112.177,47.2441 \"/>\n",
       "<polyline clip-path=\"url(#clip650)\" style=\"stroke:#000000; stroke-linecap:round; stroke-linejoin:round; stroke-width:4; stroke-opacity:1; fill:none\" points=\"112.177,1220.14 131.075,1220.14 \"/>\n",
       "<polyline clip-path=\"url(#clip650)\" style=\"stroke:#000000; stroke-linecap:round; stroke-linejoin:round; stroke-width:4; stroke-opacity:1; fill:none\" points=\"112.177,859.227 131.075,859.227 \"/>\n",
       "<polyline clip-path=\"url(#clip650)\" style=\"stroke:#000000; stroke-linecap:round; stroke-linejoin:round; stroke-width:4; stroke-opacity:1; fill:none\" points=\"112.177,498.319 131.075,498.319 \"/>\n",
       "<polyline clip-path=\"url(#clip650)\" style=\"stroke:#000000; stroke-linecap:round; stroke-linejoin:round; stroke-width:4; stroke-opacity:1; fill:none\" points=\"112.177,137.41 131.075,137.41 \"/>\n",
       "<path clip-path=\"url(#clip650)\" d=\"M59.8578 1233.48 L76.1772 1233.48 L76.1772 1237.42 L54.2328 1237.42 L54.2328 1233.48 Q56.8949 1230.73 61.4782 1226.1 Q66.0846 1221.44 67.2652 1220.1 Q69.5105 1217.58 70.3902 1215.84 Q71.2929 1214.08 71.2929 1212.39 Q71.2929 1209.64 69.3485 1207.9 Q67.4272 1206.17 64.3254 1206.17 Q62.1263 1206.17 59.6726 1206.93 Q57.2421 1207.69 54.4643 1209.24 L54.4643 1204.52 Q57.2884 1203.39 59.7421 1202.81 Q62.1958 1202.23 64.2328 1202.23 Q69.6031 1202.23 72.7976 1204.92 Q75.992 1207.6 75.992 1212.09 Q75.992 1214.22 75.1818 1216.14 Q74.3948 1218.04 72.2883 1220.63 Q71.7096 1221.3 68.6078 1224.52 Q65.5059 1227.72 59.8578 1233.48 Z\" fill=\"#000000\" fill-rule=\"nonzero\" fill-opacity=\"1\" /><path clip-path=\"url(#clip650)\" d=\"M66.5939 846.021 L54.7884 864.47 L66.5939 864.47 L66.5939 846.021 M65.367 841.947 L71.2466 841.947 L71.2466 864.47 L76.1772 864.47 L76.1772 868.359 L71.2466 868.359 L71.2466 876.507 L66.5939 876.507 L66.5939 868.359 L50.9921 868.359 L50.9921 863.845 L65.367 841.947 Z\" fill=\"#000000\" fill-rule=\"nonzero\" fill-opacity=\"1\" /><path clip-path=\"url(#clip650)\" d=\"M64.6495 496.455 Q61.5013 496.455 59.6495 498.608 Q57.8208 500.761 57.8208 504.511 Q57.8208 508.238 59.6495 510.413 Q61.5013 512.566 64.6495 512.566 Q67.7976 512.566 69.6263 510.413 Q71.4781 508.238 71.4781 504.511 Q71.4781 500.761 69.6263 498.608 Q67.7976 496.455 64.6495 496.455 M73.9318 481.802 L73.9318 486.062 Q72.1726 485.228 70.367 484.789 Q68.5846 484.349 66.8254 484.349 Q62.1958 484.349 59.7421 487.474 Q57.3115 490.599 56.9643 496.918 Q58.33 494.904 60.3902 493.839 Q62.4504 492.751 64.9272 492.751 Q70.1355 492.751 73.1448 495.923 Q76.1772 499.071 76.1772 504.511 Q76.1772 509.835 73.029 513.052 Q69.8809 516.27 64.6495 516.27 Q58.6541 516.27 55.4828 511.687 Q52.3116 507.08 52.3116 498.353 Q52.3116 490.159 56.2004 485.298 Q60.0893 480.414 66.6402 480.414 Q68.3994 480.414 70.1818 480.761 Q71.9874 481.108 73.9318 481.802 Z\" fill=\"#000000\" fill-rule=\"nonzero\" fill-opacity=\"1\" /><path clip-path=\"url(#clip650)\" d=\"M64.3254 138.278 Q60.9921 138.278 59.0708 140.061 Q57.1726 141.843 57.1726 144.968 Q57.1726 148.093 59.0708 149.876 Q60.9921 151.658 64.3254 151.658 Q67.6587 151.658 69.58 149.876 Q71.5013 148.07 71.5013 144.968 Q71.5013 141.843 69.58 140.061 Q67.6819 138.278 64.3254 138.278 M59.6495 136.288 Q56.6402 135.547 54.9504 133.487 Q53.2838 131.427 53.2838 128.464 Q53.2838 124.32 56.2236 121.913 Q59.1865 119.505 64.3254 119.505 Q69.4874 119.505 72.4272 121.913 Q75.367 124.32 75.367 128.464 Q75.367 131.427 73.6772 133.487 Q72.0105 135.547 69.0244 136.288 Q72.404 137.075 74.279 139.366 Q76.1772 141.658 76.1772 144.968 Q76.1772 149.991 73.0985 152.676 Q70.0429 155.362 64.3254 155.362 Q58.6078 155.362 55.5291 152.676 Q52.4736 149.991 52.4736 144.968 Q52.4736 141.658 54.3717 139.366 Q56.2699 137.075 59.6495 136.288 M57.9365 128.903 Q57.9365 131.589 59.6032 133.093 Q61.293 134.598 64.3254 134.598 Q67.3346 134.598 69.0244 133.093 Q70.7374 131.589 70.7374 128.903 Q70.7374 126.218 69.0244 124.714 Q67.3346 123.209 64.3254 123.209 Q61.293 123.209 59.6032 124.714 Q57.9365 126.218 57.9365 128.903 Z\" fill=\"#000000\" fill-rule=\"nonzero\" fill-opacity=\"1\" /><polyline clip-path=\"url(#clip652)\" style=\"stroke:#009af9; stroke-linecap:round; stroke-linejoin:round; stroke-width:4; stroke-opacity:1; fill:none\" points=\"175.59,87.9763 1232.47,917.671 2289.34,1445.72 \"/>\n",
       "<path clip-path=\"url(#clip650)\" d=\"M2001.58 198.898 L2278.07 198.898 L2278.07 95.2176 L2001.58 95.2176  Z\" fill=\"#ffffff\" fill-rule=\"evenodd\" fill-opacity=\"1\"/>\n",
       "<polyline clip-path=\"url(#clip650)\" style=\"stroke:#000000; stroke-linecap:round; stroke-linejoin:round; stroke-width:4; stroke-opacity:1; fill:none\" points=\"2001.58,198.898 2278.07,198.898 2278.07,95.2176 2001.58,95.2176 2001.58,198.898 \"/>\n",
       "<polyline clip-path=\"url(#clip650)\" style=\"stroke:#009af9; stroke-linecap:round; stroke-linejoin:round; stroke-width:4; stroke-opacity:1; fill:none\" points=\"2026.48,147.058 2175.85,147.058 \"/>\n",
       "<path clip-path=\"url(#clip650)\" d=\"M2214.59 166.745 Q2212.78 171.375 2211.07 172.787 Q2209.36 174.199 2206.49 174.199 L2203.08 174.199 L2203.08 170.634 L2205.58 170.634 Q2207.34 170.634 2208.31 169.8 Q2209.29 168.967 2210.47 165.865 L2211.23 163.921 L2200.74 138.412 L2205.26 138.412 L2213.36 158.689 L2221.46 138.412 L2225.98 138.412 L2214.59 166.745 Z\" fill=\"#000000\" fill-rule=\"nonzero\" fill-opacity=\"1\" /><path clip-path=\"url(#clip650)\" d=\"M2233.27 160.402 L2240.91 160.402 L2240.91 134.037 L2232.6 135.703 L2232.6 131.444 L2240.86 129.778 L2245.54 129.778 L2245.54 160.402 L2253.17 160.402 L2253.17 164.338 L2233.27 164.338 L2233.27 160.402 Z\" fill=\"#000000\" fill-rule=\"nonzero\" fill-opacity=\"1\" /></svg>\n"
      ],
      "text/html": [
       "<?xml version=\"1.0\" encoding=\"utf-8\"?>\n",
       "<svg xmlns=\"http://www.w3.org/2000/svg\" xmlns:xlink=\"http://www.w3.org/1999/xlink\" width=\"600\" height=\"400\" viewBox=\"0 0 2400 1600\">\n",
       "<defs>\n",
       "  <clipPath id=\"clip700\">\n",
       "    <rect x=\"0\" y=\"0\" width=\"2400\" height=\"1600\"/>\n",
       "  </clipPath>\n",
       "</defs>\n",
       "<path clip-path=\"url(#clip700)\" d=\"M0 1600 L2400 1600 L2400 0 L0 0  Z\" fill=\"#ffffff\" fill-rule=\"evenodd\" fill-opacity=\"1\"/>\n",
       "<defs>\n",
       "  <clipPath id=\"clip701\">\n",
       "    <rect x=\"480\" y=\"0\" width=\"1681\" height=\"1600\"/>\n",
       "  </clipPath>\n",
       "</defs>\n",
       "<path clip-path=\"url(#clip700)\" d=\"M112.177 1486.45 L2352.76 1486.45 L2352.76 47.2441 L112.177 47.2441  Z\" fill=\"#ffffff\" fill-rule=\"evenodd\" fill-opacity=\"1\"/>\n",
       "<defs>\n",
       "  <clipPath id=\"clip702\">\n",
       "    <rect x=\"112\" y=\"47\" width=\"2242\" height=\"1440\"/>\n",
       "  </clipPath>\n",
       "</defs>\n",
       "<polyline clip-path=\"url(#clip702)\" style=\"stroke:#000000; stroke-linecap:round; stroke-linejoin:round; stroke-width:2; stroke-opacity:0.1; fill:none\" points=\"175.59,1486.45 175.59,47.2441 \"/>\n",
       "<polyline clip-path=\"url(#clip702)\" style=\"stroke:#000000; stroke-linecap:round; stroke-linejoin:round; stroke-width:2; stroke-opacity:0.1; fill:none\" points=\"704.028,1486.45 704.028,47.2441 \"/>\n",
       "<polyline clip-path=\"url(#clip702)\" style=\"stroke:#000000; stroke-linecap:round; stroke-linejoin:round; stroke-width:2; stroke-opacity:0.1; fill:none\" points=\"1232.47,1486.45 1232.47,47.2441 \"/>\n",
       "<polyline clip-path=\"url(#clip702)\" style=\"stroke:#000000; stroke-linecap:round; stroke-linejoin:round; stroke-width:2; stroke-opacity:0.1; fill:none\" points=\"1760.9,1486.45 1760.9,47.2441 \"/>\n",
       "<polyline clip-path=\"url(#clip702)\" style=\"stroke:#000000; stroke-linecap:round; stroke-linejoin:round; stroke-width:2; stroke-opacity:0.1; fill:none\" points=\"2289.34,1486.45 2289.34,47.2441 \"/>\n",
       "<polyline clip-path=\"url(#clip700)\" style=\"stroke:#000000; stroke-linecap:round; stroke-linejoin:round; stroke-width:4; stroke-opacity:1; fill:none\" points=\"112.177,1486.45 2352.76,1486.45 \"/>\n",
       "<polyline clip-path=\"url(#clip700)\" style=\"stroke:#000000; stroke-linecap:round; stroke-linejoin:round; stroke-width:4; stroke-opacity:1; fill:none\" points=\"175.59,1486.45 175.59,1467.55 \"/>\n",
       "<polyline clip-path=\"url(#clip700)\" style=\"stroke:#000000; stroke-linecap:round; stroke-linejoin:round; stroke-width:4; stroke-opacity:1; fill:none\" points=\"704.028,1486.45 704.028,1467.55 \"/>\n",
       "<polyline clip-path=\"url(#clip700)\" style=\"stroke:#000000; stroke-linecap:round; stroke-linejoin:round; stroke-width:4; stroke-opacity:1; fill:none\" points=\"1232.47,1486.45 1232.47,1467.55 \"/>\n",
       "<polyline clip-path=\"url(#clip700)\" style=\"stroke:#000000; stroke-linecap:round; stroke-linejoin:round; stroke-width:4; stroke-opacity:1; fill:none\" points=\"1760.9,1486.45 1760.9,1467.55 \"/>\n",
       "<polyline clip-path=\"url(#clip700)\" style=\"stroke:#000000; stroke-linecap:round; stroke-linejoin:round; stroke-width:4; stroke-opacity:1; fill:none\" points=\"2289.34,1486.45 2289.34,1467.55 \"/>\n",
       "<path clip-path=\"url(#clip700)\" d=\"M142.743 1544.91 L150.382 1544.91 L150.382 1518.55 L142.071 1520.21 L142.071 1515.95 L150.335 1514.29 L155.011 1514.29 L155.011 1544.91 L162.65 1544.91 L162.65 1548.85 L142.743 1548.85 L142.743 1544.91 Z\" fill=\"#000000\" fill-rule=\"nonzero\" fill-opacity=\"1\" /><path clip-path=\"url(#clip700)\" d=\"M172.094 1542.97 L176.979 1542.97 L176.979 1548.85 L172.094 1548.85 L172.094 1542.97 Z\" fill=\"#000000\" fill-rule=\"nonzero\" fill-opacity=\"1\" /><path clip-path=\"url(#clip700)\" d=\"M197.164 1517.37 Q193.553 1517.37 191.724 1520.93 Q189.918 1524.47 189.918 1531.6 Q189.918 1538.71 191.724 1542.27 Q193.553 1545.82 197.164 1545.82 Q200.798 1545.82 202.604 1542.27 Q204.432 1538.71 204.432 1531.6 Q204.432 1524.47 202.604 1520.93 Q200.798 1517.37 197.164 1517.37 M197.164 1513.66 Q202.974 1513.66 206.029 1518.27 Q209.108 1522.85 209.108 1531.6 Q209.108 1540.33 206.029 1544.94 Q202.974 1549.52 197.164 1549.52 Q191.354 1549.52 188.275 1544.94 Q185.219 1540.33 185.219 1531.6 Q185.219 1522.85 188.275 1518.27 Q191.354 1513.66 197.164 1513.66 Z\" fill=\"#000000\" fill-rule=\"nonzero\" fill-opacity=\"1\" /><path clip-path=\"url(#clip700)\" d=\"M671.679 1544.91 L679.318 1544.91 L679.318 1518.55 L671.008 1520.21 L671.008 1515.95 L679.271 1514.29 L683.947 1514.29 L683.947 1544.91 L691.586 1544.91 L691.586 1548.85 L671.679 1548.85 L671.679 1544.91 Z\" fill=\"#000000\" fill-rule=\"nonzero\" fill-opacity=\"1\" /><path clip-path=\"url(#clip700)\" d=\"M701.03 1542.97 L705.915 1542.97 L705.915 1548.85 L701.03 1548.85 L701.03 1542.97 Z\" fill=\"#000000\" fill-rule=\"nonzero\" fill-opacity=\"1\" /><path clip-path=\"url(#clip700)\" d=\"M716.146 1514.29 L734.503 1514.29 L734.503 1518.22 L720.429 1518.22 L720.429 1526.7 Q721.447 1526.35 722.466 1526.19 Q723.484 1526 724.503 1526 Q730.29 1526 733.669 1529.17 Q737.049 1532.34 737.049 1537.76 Q737.049 1543.34 733.577 1546.44 Q730.104 1549.52 723.785 1549.52 Q721.609 1549.52 719.341 1549.15 Q717.095 1548.78 714.688 1548.04 L714.688 1543.34 Q716.771 1544.47 718.993 1545.03 Q721.216 1545.58 723.692 1545.58 Q727.697 1545.58 730.035 1543.48 Q732.373 1541.37 732.373 1537.76 Q732.373 1534.15 730.035 1532.04 Q727.697 1529.94 723.692 1529.94 Q721.817 1529.94 719.942 1530.35 Q718.091 1530.77 716.146 1531.65 L716.146 1514.29 Z\" fill=\"#000000\" fill-rule=\"nonzero\" fill-opacity=\"1\" /><path clip-path=\"url(#clip700)\" d=\"M1203.71 1544.91 L1220.02 1544.91 L1220.02 1548.85 L1198.08 1548.85 L1198.08 1544.91 Q1200.74 1542.16 1205.33 1537.53 Q1209.93 1532.88 1211.11 1531.53 Q1213.36 1529.01 1214.24 1527.27 Q1215.14 1525.51 1215.14 1523.82 Q1215.14 1521.07 1213.2 1519.33 Q1211.27 1517.6 1208.17 1517.6 Q1205.97 1517.6 1203.52 1518.36 Q1201.09 1519.13 1198.31 1520.68 L1198.31 1515.95 Q1201.14 1514.82 1203.59 1514.24 Q1206.04 1513.66 1208.08 1513.66 Q1213.45 1513.66 1216.64 1516.35 Q1219.84 1519.03 1219.84 1523.52 Q1219.84 1525.65 1219.03 1527.57 Q1218.24 1529.47 1216.14 1532.07 Q1215.56 1532.74 1212.46 1535.95 Q1209.35 1539.15 1203.71 1544.91 Z\" fill=\"#000000\" fill-rule=\"nonzero\" fill-opacity=\"1\" /><path clip-path=\"url(#clip700)\" d=\"M1229.84 1542.97 L1234.72 1542.97 L1234.72 1548.85 L1229.84 1548.85 L1229.84 1542.97 Z\" fill=\"#000000\" fill-rule=\"nonzero\" fill-opacity=\"1\" /><path clip-path=\"url(#clip700)\" d=\"M1254.91 1517.37 Q1251.3 1517.37 1249.47 1520.93 Q1247.66 1524.47 1247.66 1531.6 Q1247.66 1538.71 1249.47 1542.27 Q1251.3 1545.82 1254.91 1545.82 Q1258.54 1545.82 1260.35 1542.27 Q1262.18 1538.71 1262.18 1531.6 Q1262.18 1524.47 1260.35 1520.93 Q1258.54 1517.37 1254.91 1517.37 M1254.91 1513.66 Q1260.72 1513.66 1263.77 1518.27 Q1266.85 1522.85 1266.85 1531.6 Q1266.85 1540.33 1263.77 1544.94 Q1260.72 1549.52 1254.91 1549.52 Q1249.1 1549.52 1246.02 1544.94 Q1242.96 1540.33 1242.96 1531.6 Q1242.96 1522.85 1246.02 1518.27 Q1249.1 1513.66 1254.91 1513.66 Z\" fill=\"#000000\" fill-rule=\"nonzero\" fill-opacity=\"1\" /><path clip-path=\"url(#clip700)\" d=\"M1732.64 1544.91 L1748.96 1544.91 L1748.96 1548.85 L1727.02 1548.85 L1727.02 1544.91 Q1729.68 1542.16 1734.26 1537.53 Q1738.87 1532.88 1740.05 1531.53 Q1742.29 1529.01 1743.17 1527.27 Q1744.08 1525.51 1744.08 1523.82 Q1744.08 1521.07 1742.13 1519.33 Q1740.21 1517.6 1737.11 1517.6 Q1734.91 1517.6 1732.46 1518.36 Q1730.03 1519.13 1727.25 1520.68 L1727.25 1515.95 Q1730.07 1514.82 1732.53 1514.24 Q1734.98 1513.66 1737.02 1513.66 Q1742.39 1513.66 1745.58 1516.35 Q1748.78 1519.03 1748.78 1523.52 Q1748.78 1525.65 1747.97 1527.57 Q1747.18 1529.47 1745.07 1532.07 Q1744.49 1532.74 1741.39 1535.95 Q1738.29 1539.15 1732.64 1544.91 Z\" fill=\"#000000\" fill-rule=\"nonzero\" fill-opacity=\"1\" /><path clip-path=\"url(#clip700)\" d=\"M1758.78 1542.97 L1763.66 1542.97 L1763.66 1548.85 L1758.78 1548.85 L1758.78 1542.97 Z\" fill=\"#000000\" fill-rule=\"nonzero\" fill-opacity=\"1\" /><path clip-path=\"url(#clip700)\" d=\"M1773.89 1514.29 L1792.25 1514.29 L1792.25 1518.22 L1778.17 1518.22 L1778.17 1526.7 Q1779.19 1526.35 1780.21 1526.19 Q1781.23 1526 1782.25 1526 Q1788.03 1526 1791.41 1529.17 Q1794.79 1532.34 1794.79 1537.76 Q1794.79 1543.34 1791.32 1546.44 Q1787.85 1549.52 1781.53 1549.52 Q1779.35 1549.52 1777.09 1549.15 Q1774.84 1548.78 1772.43 1548.04 L1772.43 1543.34 Q1774.52 1544.47 1776.74 1545.03 Q1778.96 1545.58 1781.44 1545.58 Q1785.44 1545.58 1787.78 1543.48 Q1790.12 1541.37 1790.12 1537.76 Q1790.12 1534.15 1787.78 1532.04 Q1785.44 1529.94 1781.44 1529.94 Q1779.56 1529.94 1777.69 1530.35 Q1775.84 1530.77 1773.89 1531.65 L1773.89 1514.29 Z\" fill=\"#000000\" fill-rule=\"nonzero\" fill-opacity=\"1\" /><path clip-path=\"url(#clip700)\" d=\"M2270.65 1530.21 Q2274.01 1530.93 2275.88 1533.2 Q2277.78 1535.47 2277.78 1538.8 Q2277.78 1543.92 2274.26 1546.72 Q2270.74 1549.52 2264.26 1549.52 Q2262.09 1549.52 2259.77 1549.08 Q2257.48 1548.66 2255.03 1547.81 L2255.03 1543.29 Q2256.97 1544.43 2259.29 1545.01 Q2261.6 1545.58 2264.12 1545.58 Q2268.52 1545.58 2270.81 1543.85 Q2273.13 1542.11 2273.13 1538.8 Q2273.13 1535.75 2270.98 1534.03 Q2268.85 1532.3 2265.03 1532.3 L2261 1532.3 L2261 1528.45 L2265.21 1528.45 Q2268.66 1528.45 2270.49 1527.09 Q2272.32 1525.7 2272.32 1523.11 Q2272.32 1520.45 2270.42 1519.03 Q2268.54 1517.6 2265.03 1517.6 Q2263.11 1517.6 2260.91 1518.01 Q2258.71 1518.43 2256.07 1519.31 L2256.07 1515.14 Q2258.73 1514.4 2261.04 1514.03 Q2263.38 1513.66 2265.44 1513.66 Q2270.77 1513.66 2273.87 1516.09 Q2276.97 1518.5 2276.97 1522.62 Q2276.97 1525.49 2275.33 1527.48 Q2273.68 1529.45 2270.65 1530.21 Z\" fill=\"#000000\" fill-rule=\"nonzero\" fill-opacity=\"1\" /><path clip-path=\"url(#clip700)\" d=\"M2286.65 1542.97 L2291.53 1542.97 L2291.53 1548.85 L2286.65 1548.85 L2286.65 1542.97 Z\" fill=\"#000000\" fill-rule=\"nonzero\" fill-opacity=\"1\" /><path clip-path=\"url(#clip700)\" d=\"M2311.72 1517.37 Q2308.1 1517.37 2306.28 1520.93 Q2304.47 1524.47 2304.47 1531.6 Q2304.47 1538.71 2306.28 1542.27 Q2308.1 1545.82 2311.72 1545.82 Q2315.35 1545.82 2317.16 1542.27 Q2318.98 1538.71 2318.98 1531.6 Q2318.98 1524.47 2317.16 1520.93 Q2315.35 1517.37 2311.72 1517.37 M2311.72 1513.66 Q2317.53 1513.66 2320.58 1518.27 Q2323.66 1522.85 2323.66 1531.6 Q2323.66 1540.33 2320.58 1544.94 Q2317.53 1549.52 2311.72 1549.52 Q2305.91 1549.52 2302.83 1544.94 Q2299.77 1540.33 2299.77 1531.6 Q2299.77 1522.85 2302.83 1518.27 Q2305.91 1513.66 2311.72 1513.66 Z\" fill=\"#000000\" fill-rule=\"nonzero\" fill-opacity=\"1\" /><polyline clip-path=\"url(#clip702)\" style=\"stroke:#000000; stroke-linecap:round; stroke-linejoin:round; stroke-width:2; stroke-opacity:0.1; fill:none\" points=\"112.177,1220.14 2352.76,1220.14 \"/>\n",
       "<polyline clip-path=\"url(#clip702)\" style=\"stroke:#000000; stroke-linecap:round; stroke-linejoin:round; stroke-width:2; stroke-opacity:0.1; fill:none\" points=\"112.177,859.227 2352.76,859.227 \"/>\n",
       "<polyline clip-path=\"url(#clip702)\" style=\"stroke:#000000; stroke-linecap:round; stroke-linejoin:round; stroke-width:2; stroke-opacity:0.1; fill:none\" points=\"112.177,498.319 2352.76,498.319 \"/>\n",
       "<polyline clip-path=\"url(#clip702)\" style=\"stroke:#000000; stroke-linecap:round; stroke-linejoin:round; stroke-width:2; stroke-opacity:0.1; fill:none\" points=\"112.177,137.41 2352.76,137.41 \"/>\n",
       "<polyline clip-path=\"url(#clip700)\" style=\"stroke:#000000; stroke-linecap:round; stroke-linejoin:round; stroke-width:4; stroke-opacity:1; fill:none\" points=\"112.177,1486.45 112.177,47.2441 \"/>\n",
       "<polyline clip-path=\"url(#clip700)\" style=\"stroke:#000000; stroke-linecap:round; stroke-linejoin:round; stroke-width:4; stroke-opacity:1; fill:none\" points=\"112.177,1220.14 131.075,1220.14 \"/>\n",
       "<polyline clip-path=\"url(#clip700)\" style=\"stroke:#000000; stroke-linecap:round; stroke-linejoin:round; stroke-width:4; stroke-opacity:1; fill:none\" points=\"112.177,859.227 131.075,859.227 \"/>\n",
       "<polyline clip-path=\"url(#clip700)\" style=\"stroke:#000000; stroke-linecap:round; stroke-linejoin:round; stroke-width:4; stroke-opacity:1; fill:none\" points=\"112.177,498.319 131.075,498.319 \"/>\n",
       "<polyline clip-path=\"url(#clip700)\" style=\"stroke:#000000; stroke-linecap:round; stroke-linejoin:round; stroke-width:4; stroke-opacity:1; fill:none\" points=\"112.177,137.41 131.075,137.41 \"/>\n",
       "<path clip-path=\"url(#clip700)\" d=\"M59.8578 1233.48 L76.1772 1233.48 L76.1772 1237.42 L54.2328 1237.42 L54.2328 1233.48 Q56.8949 1230.73 61.4782 1226.1 Q66.0846 1221.44 67.2652 1220.1 Q69.5105 1217.58 70.3902 1215.84 Q71.2929 1214.08 71.2929 1212.39 Q71.2929 1209.64 69.3485 1207.9 Q67.4272 1206.17 64.3254 1206.17 Q62.1263 1206.17 59.6726 1206.93 Q57.2421 1207.69 54.4643 1209.24 L54.4643 1204.52 Q57.2884 1203.39 59.7421 1202.81 Q62.1958 1202.23 64.2328 1202.23 Q69.6031 1202.23 72.7976 1204.92 Q75.992 1207.6 75.992 1212.09 Q75.992 1214.22 75.1818 1216.14 Q74.3948 1218.04 72.2883 1220.63 Q71.7096 1221.3 68.6078 1224.52 Q65.5059 1227.72 59.8578 1233.48 Z\" fill=\"#000000\" fill-rule=\"nonzero\" fill-opacity=\"1\" /><path clip-path=\"url(#clip700)\" d=\"M66.5939 846.021 L54.7884 864.47 L66.5939 864.47 L66.5939 846.021 M65.367 841.947 L71.2466 841.947 L71.2466 864.47 L76.1772 864.47 L76.1772 868.359 L71.2466 868.359 L71.2466 876.507 L66.5939 876.507 L66.5939 868.359 L50.9921 868.359 L50.9921 863.845 L65.367 841.947 Z\" fill=\"#000000\" fill-rule=\"nonzero\" fill-opacity=\"1\" /><path clip-path=\"url(#clip700)\" d=\"M64.6495 496.455 Q61.5013 496.455 59.6495 498.608 Q57.8208 500.761 57.8208 504.511 Q57.8208 508.238 59.6495 510.413 Q61.5013 512.566 64.6495 512.566 Q67.7976 512.566 69.6263 510.413 Q71.4781 508.238 71.4781 504.511 Q71.4781 500.761 69.6263 498.608 Q67.7976 496.455 64.6495 496.455 M73.9318 481.802 L73.9318 486.062 Q72.1726 485.228 70.367 484.789 Q68.5846 484.349 66.8254 484.349 Q62.1958 484.349 59.7421 487.474 Q57.3115 490.599 56.9643 496.918 Q58.33 494.904 60.3902 493.839 Q62.4504 492.751 64.9272 492.751 Q70.1355 492.751 73.1448 495.923 Q76.1772 499.071 76.1772 504.511 Q76.1772 509.835 73.029 513.052 Q69.8809 516.27 64.6495 516.27 Q58.6541 516.27 55.4828 511.687 Q52.3116 507.08 52.3116 498.353 Q52.3116 490.159 56.2004 485.298 Q60.0893 480.414 66.6402 480.414 Q68.3994 480.414 70.1818 480.761 Q71.9874 481.108 73.9318 481.802 Z\" fill=\"#000000\" fill-rule=\"nonzero\" fill-opacity=\"1\" /><path clip-path=\"url(#clip700)\" d=\"M64.3254 138.278 Q60.9921 138.278 59.0708 140.061 Q57.1726 141.843 57.1726 144.968 Q57.1726 148.093 59.0708 149.876 Q60.9921 151.658 64.3254 151.658 Q67.6587 151.658 69.58 149.876 Q71.5013 148.07 71.5013 144.968 Q71.5013 141.843 69.58 140.061 Q67.6819 138.278 64.3254 138.278 M59.6495 136.288 Q56.6402 135.547 54.9504 133.487 Q53.2838 131.427 53.2838 128.464 Q53.2838 124.32 56.2236 121.913 Q59.1865 119.505 64.3254 119.505 Q69.4874 119.505 72.4272 121.913 Q75.367 124.32 75.367 128.464 Q75.367 131.427 73.6772 133.487 Q72.0105 135.547 69.0244 136.288 Q72.404 137.075 74.279 139.366 Q76.1772 141.658 76.1772 144.968 Q76.1772 149.991 73.0985 152.676 Q70.0429 155.362 64.3254 155.362 Q58.6078 155.362 55.5291 152.676 Q52.4736 149.991 52.4736 144.968 Q52.4736 141.658 54.3717 139.366 Q56.2699 137.075 59.6495 136.288 M57.9365 128.903 Q57.9365 131.589 59.6032 133.093 Q61.293 134.598 64.3254 134.598 Q67.3346 134.598 69.0244 133.093 Q70.7374 131.589 70.7374 128.903 Q70.7374 126.218 69.0244 124.714 Q67.3346 123.209 64.3254 123.209 Q61.293 123.209 59.6032 124.714 Q57.9365 126.218 57.9365 128.903 Z\" fill=\"#000000\" fill-rule=\"nonzero\" fill-opacity=\"1\" /><polyline clip-path=\"url(#clip702)\" style=\"stroke:#009af9; stroke-linecap:round; stroke-linejoin:round; stroke-width:4; stroke-opacity:1; fill:none\" points=\"175.59,87.9763 1232.47,917.671 2289.34,1445.72 \"/>\n",
       "<path clip-path=\"url(#clip700)\" d=\"M2001.58 198.898 L2278.07 198.898 L2278.07 95.2176 L2001.58 95.2176  Z\" fill=\"#ffffff\" fill-rule=\"evenodd\" fill-opacity=\"1\"/>\n",
       "<polyline clip-path=\"url(#clip700)\" style=\"stroke:#000000; stroke-linecap:round; stroke-linejoin:round; stroke-width:4; stroke-opacity:1; fill:none\" points=\"2001.58,198.898 2278.07,198.898 2278.07,95.2176 2001.58,95.2176 2001.58,198.898 \"/>\n",
       "<polyline clip-path=\"url(#clip700)\" style=\"stroke:#009af9; stroke-linecap:round; stroke-linejoin:round; stroke-width:4; stroke-opacity:1; fill:none\" points=\"2026.48,147.058 2175.85,147.058 \"/>\n",
       "<path clip-path=\"url(#clip700)\" d=\"M2214.59 166.745 Q2212.78 171.375 2211.07 172.787 Q2209.36 174.199 2206.49 174.199 L2203.08 174.199 L2203.08 170.634 L2205.58 170.634 Q2207.34 170.634 2208.31 169.8 Q2209.29 168.967 2210.47 165.865 L2211.23 163.921 L2200.74 138.412 L2205.26 138.412 L2213.36 158.689 L2221.46 138.412 L2225.98 138.412 L2214.59 166.745 Z\" fill=\"#000000\" fill-rule=\"nonzero\" fill-opacity=\"1\" /><path clip-path=\"url(#clip700)\" d=\"M2233.27 160.402 L2240.91 160.402 L2240.91 134.037 L2232.6 135.703 L2232.6 131.444 L2240.86 129.778 L2245.54 129.778 L2245.54 160.402 L2253.17 160.402 L2253.17 164.338 L2233.27 164.338 L2233.27 160.402 Z\" fill=\"#000000\" fill-rule=\"nonzero\" fill-opacity=\"1\" /></svg>\n"
      ]
     },
     "metadata": {},
     "output_type": "display_data"
    }
   ],
   "source": [
    "using Plots;\n",
    "\n",
    "plot(sort(values,rev=true))"
   ]
  },
  {
   "cell_type": "code",
   "execution_count": 30,
   "metadata": {},
   "outputs": [
    {
     "data": {
      "text/plain": [
       "2.5979517653630966"
      ]
     },
     "metadata": {},
     "output_type": "display_data"
    }
   ],
   "source": [
    "norm(X-X_r)"
   ]
  },
  {
   "cell_type": "markdown",
   "metadata": {},
   "source": [
    "# EigenFaces\n",
    "\n",
    "En el caso del reconocimiento facial, el algoritmo Eigenfaces utiliza esta representación de baja dimensionalidad para comparar caras nuevas (no utilizadas para ajustar los valores y vectores propios). Sin embargo, una de los problemas al utlizar esta técnica es determinar la dimensionalidad \\emph{intrinsica} de los datos. Esto quiere decir que el número de componentes principales es desconocido y debe determinarse mediante un compromiso entre el error de reconstrucción $E=\\sum_i^n (\\mathbf{x_i}-\\tilde{\\mathbf{x_i}})^2$ y la capacidad de comprimir y explicar los datos.\n",
    "\n",
    "https://bio322.epfl.ch/notebooks/pca.html"
   ]
  },
  {
   "cell_type": "code",
   "execution_count": 213,
   "metadata": {},
   "outputs": [
    {
     "data": {
      "text/plain": [
       "images_to_mat (generic function with 1 method)"
      ]
     },
     "metadata": {},
     "output_type": "display_data"
    }
   ],
   "source": [
    "using Images,Colors\n",
    "using ImageTransformations\n",
    "\n",
    "path=\"eigenvalue_pics/\"\n",
    "dim=64\n",
    "\n",
    "function images_to_mat(pathlist,dim,data_type)\n",
    "    mat=zeros(data_type,length(pathlist),dim*dim)\n",
    "    for (index,images) in enumerate(pathlist)\n",
    "        img=load(images)\n",
    "        img_g=Gray.(img)\n",
    "        img_g=imresize(img_g,dim,dim)\n",
    "        img_g=255*data_type.(img_g)\n",
    "        img_g=reshape(img_g,(1,dim*dim))\n",
    "        mat[index,:]=img_g\n",
    "    end \n",
    "    return mat\n",
    "end\n",
    "\n"
   ]
  },
  {
   "cell_type": "code",
   "execution_count": 214,
   "metadata": {},
   "outputs": [],
   "source": [
    "pathlist=[]\n",
    "names=[]\n",
    "for d in readdir(path)\n",
    "    for f in readdir(path*d)\n",
    "        file_path=path*d*\"/\"*f\n",
    "        push!(pathlist,file_path)\n",
    "        push!(names,d)\n",
    "    end \n",
    "end "
   ]
  },
  {
   "cell_type": "code",
   "execution_count": 249,
   "metadata": {},
   "outputs": [],
   "source": [
    "using LinearAlgebra; \n",
    "using MultivariateStats;\n",
    "using Statistics;\n",
    "\n",
    "my_type=Float32\n",
    "mat=images_to_mat(pathlist,dim,my_type)\n",
    "mean_face=mean!(transpose(ones(dim*dim)),mat)\n",
    "centered_mat=mat.-my_type.(mean_face);"
   ]
  },
  {
   "cell_type": "code",
   "execution_count": 250,
   "metadata": {},
   "outputs": [
    {
     "data": {
      "text/plain": [
       "Matrix{Float32}\u001b[90m (alias for \u001b[39m\u001b[90mArray{Float32, 2}\u001b[39m\u001b[90m)\u001b[39m"
      ]
     },
     "metadata": {},
     "output_type": "display_data"
    }
   ],
   "source": [
    "typeof(centered_mat)"
   ]
  },
  {
   "cell_type": "code",
   "execution_count": 251,
   "metadata": {},
   "outputs": [],
   "source": [
    "values,vectors=eigen(cov(centered_mat));"
   ]
  },
  {
   "cell_type": "code",
   "execution_count": 252,
   "metadata": {},
   "outputs": [],
   "source": [
    "sorted_values=sort(values,rev=true);"
   ]
  },
  {
   "cell_type": "code",
   "execution_count": 253,
   "metadata": {},
   "outputs": [
    {
     "data": {
      "text/plain": [
       "4096"
      ]
     },
     "metadata": {},
     "output_type": "display_data"
    }
   ],
   "source": [
    "length(sorted_values)"
   ]
  },
  {
   "cell_type": "code",
   "execution_count": 254,
   "metadata": {},
   "outputs": [
    {
     "data": {
      "image/png": "[encoded data removed]",
      "image/svg+xml": [
       "<?xml version=\"1.0\" encoding=\"utf-8\"?>\n",
       "<svg xmlns=\"http://www.w3.org/2000/svg\" xmlns:xlink=\"http://www.w3.org/1999/xlink\" width=\"600\" height=\"400\" viewBox=\"0 0 2400 1600\">\n",
       "<defs>\n",
       "  <clipPath id=\"clip100\">\n",
       "    <rect x=\"0\" y=\"0\" width=\"2400\" height=\"1600\"/>\n",
       "  </clipPath>\n",
       "</defs>\n",
       "<path clip-path=\"url(#clip100)\" d=\"M0 1600 L2400 1600 L2400 0 L0 0  Z\" fill=\"#ffffff\" fill-rule=\"evenodd\" fill-opacity=\"1\"/>\n",
       "<defs>\n",
       "  <clipPath id=\"clip101\">\n",
       "    <rect x=\"480\" y=\"0\" width=\"1681\" height=\"1600\"/>\n",
       "  </clipPath>\n",
       "</defs>\n",
       "<path clip-path=\"url(#clip100)\" d=\"M156.112 1486.45 L2352.76 1486.45 L2352.76 47.2441 L156.112 47.2441  Z\" fill=\"#ffffff\" fill-rule=\"evenodd\" fill-opacity=\"1\"/>\n",
       "<defs>\n",
       "  <clipPath id=\"clip102\">\n",
       "    <rect x=\"156\" y=\"47\" width=\"2198\" height=\"1440\"/>\n",
       "  </clipPath>\n",
       "</defs>\n",
       "<polyline clip-path=\"url(#clip102)\" style=\"stroke:#000000; stroke-linecap:round; stroke-linejoin:round; stroke-width:2; stroke-opacity:0.1; fill:none\" points=\"197.349,1486.45 197.349,47.2441 \"/>\n",
       "<polyline clip-path=\"url(#clip102)\" style=\"stroke:#000000; stroke-linecap:round; stroke-linejoin:round; stroke-width:2; stroke-opacity:0.1; fill:none\" points=\"720.658,1486.45 720.658,47.2441 \"/>\n",
       "<polyline clip-path=\"url(#clip102)\" style=\"stroke:#000000; stroke-linecap:round; stroke-linejoin:round; stroke-width:2; stroke-opacity:0.1; fill:none\" points=\"1243.97,1486.45 1243.97,47.2441 \"/>\n",
       "<polyline clip-path=\"url(#clip102)\" style=\"stroke:#000000; stroke-linecap:round; stroke-linejoin:round; stroke-width:2; stroke-opacity:0.1; fill:none\" points=\"1767.28,1486.45 1767.28,47.2441 \"/>\n",
       "<polyline clip-path=\"url(#clip102)\" style=\"stroke:#000000; stroke-linecap:round; stroke-linejoin:round; stroke-width:2; stroke-opacity:0.1; fill:none\" points=\"2290.59,1486.45 2290.59,47.2441 \"/>\n",
       "<polyline clip-path=\"url(#clip100)\" style=\"stroke:#000000; stroke-linecap:round; stroke-linejoin:round; stroke-width:4; stroke-opacity:1; fill:none\" points=\"156.112,1486.45 2352.76,1486.45 \"/>\n",
       "<polyline clip-path=\"url(#clip100)\" style=\"stroke:#000000; stroke-linecap:round; stroke-linejoin:round; stroke-width:4; stroke-opacity:1; fill:none\" points=\"197.349,1486.45 197.349,1467.55 \"/>\n",
       "<polyline clip-path=\"url(#clip100)\" style=\"stroke:#000000; stroke-linecap:round; stroke-linejoin:round; stroke-width:4; stroke-opacity:1; fill:none\" points=\"720.658,1486.45 720.658,1467.55 \"/>\n",
       "<polyline clip-path=\"url(#clip100)\" style=\"stroke:#000000; stroke-linecap:round; stroke-linejoin:round; stroke-width:4; stroke-opacity:1; fill:none\" points=\"1243.97,1486.45 1243.97,1467.55 \"/>\n",
       "<polyline clip-path=\"url(#clip100)\" style=\"stroke:#000000; stroke-linecap:round; stroke-linejoin:round; stroke-width:4; stroke-opacity:1; fill:none\" points=\"1767.28,1486.45 1767.28,1467.55 \"/>\n",
       "<polyline clip-path=\"url(#clip100)\" style=\"stroke:#000000; stroke-linecap:round; stroke-linejoin:round; stroke-width:4; stroke-opacity:1; fill:none\" points=\"2290.59,1486.45 2290.59,1467.55 \"/>\n",
       "<path clip-path=\"url(#clip100)\" d=\"M197.349 1517.37 Q193.738 1517.37 191.909 1520.93 Q190.104 1524.47 190.104 1531.6 Q190.104 1538.71 191.909 1542.27 Q193.738 1545.82 197.349 1545.82 Q200.983 1545.82 202.789 1542.27 Q204.617 1538.71 204.617 1531.6 Q204.617 1524.47 202.789 1520.93 Q200.983 1517.37 197.349 1517.37 M197.349 1513.66 Q203.159 1513.66 206.215 1518.27 Q209.293 1522.85 209.293 1531.6 Q209.293 1540.33 206.215 1544.94 Q203.159 1549.52 197.349 1549.52 Q191.539 1549.52 188.46 1544.94 Q185.405 1540.33 185.405 1531.6 Q185.405 1522.85 188.46 1518.27 Q191.539 1513.66 197.349 1513.66 Z\" fill=\"#000000\" fill-rule=\"nonzero\" fill-opacity=\"1\" /><path clip-path=\"url(#clip100)\" d=\"M699.929 1544.91 L716.249 1544.91 L716.249 1548.85 L694.304 1548.85 L694.304 1544.91 Q696.966 1542.16 701.55 1537.53 Q706.156 1532.88 707.337 1531.53 Q709.582 1529.01 710.462 1527.27 Q711.364 1525.51 711.364 1523.82 Q711.364 1521.07 709.42 1519.33 Q707.499 1517.6 704.397 1517.6 Q702.198 1517.6 699.744 1518.36 Q697.314 1519.13 694.536 1520.68 L694.536 1515.95 Q697.36 1514.82 699.814 1514.24 Q702.267 1513.66 704.304 1513.66 Q709.675 1513.66 712.869 1516.35 Q716.063 1519.03 716.063 1523.52 Q716.063 1525.65 715.253 1527.57 Q714.466 1529.47 712.36 1532.07 Q711.781 1532.74 708.679 1535.95 Q705.577 1539.15 699.929 1544.91 Z\" fill=\"#000000\" fill-rule=\"nonzero\" fill-opacity=\"1\" /><path clip-path=\"url(#clip100)\" d=\"M726.11 1514.29 L744.466 1514.29 L744.466 1518.22 L730.392 1518.22 L730.392 1526.7 Q731.411 1526.35 732.429 1526.19 Q733.448 1526 734.466 1526 Q740.253 1526 743.633 1529.17 Q747.012 1532.34 747.012 1537.76 Q747.012 1543.34 743.54 1546.44 Q740.068 1549.52 733.749 1549.52 Q731.573 1549.52 729.304 1549.15 Q727.059 1548.78 724.651 1548.04 L724.651 1543.34 Q726.735 1544.47 728.957 1545.03 Q731.179 1545.58 733.656 1545.58 Q737.661 1545.58 739.999 1543.48 Q742.336 1541.37 742.336 1537.76 Q742.336 1534.15 739.999 1532.04 Q737.661 1529.94 733.656 1529.94 Q731.781 1529.94 729.906 1530.35 Q728.054 1530.77 726.11 1531.65 L726.11 1514.29 Z\" fill=\"#000000\" fill-rule=\"nonzero\" fill-opacity=\"1\" /><path clip-path=\"url(#clip100)\" d=\"M1218.67 1514.29 L1237.02 1514.29 L1237.02 1518.22 L1222.95 1518.22 L1222.95 1526.7 Q1223.97 1526.35 1224.99 1526.19 Q1226 1526 1227.02 1526 Q1232.81 1526 1236.19 1529.17 Q1239.57 1532.34 1239.57 1537.76 Q1239.57 1543.34 1236.1 1546.44 Q1232.63 1549.52 1226.31 1549.52 Q1224.13 1549.52 1221.86 1549.15 Q1219.62 1548.78 1217.21 1548.04 L1217.21 1543.34 Q1219.29 1544.47 1221.51 1545.03 Q1223.74 1545.58 1226.21 1545.58 Q1230.22 1545.58 1232.56 1543.48 Q1234.89 1541.37 1234.89 1537.76 Q1234.89 1534.15 1232.56 1532.04 Q1230.22 1529.94 1226.21 1529.94 Q1224.34 1529.94 1222.46 1530.35 Q1220.61 1530.77 1218.67 1531.65 L1218.67 1514.29 Z\" fill=\"#000000\" fill-rule=\"nonzero\" fill-opacity=\"1\" /><path clip-path=\"url(#clip100)\" d=\"M1258.78 1517.37 Q1255.17 1517.37 1253.34 1520.93 Q1251.54 1524.47 1251.54 1531.6 Q1251.54 1538.71 1253.34 1542.27 Q1255.17 1545.82 1258.78 1545.82 Q1262.42 1545.82 1264.22 1542.27 Q1266.05 1538.71 1266.05 1531.6 Q1266.05 1524.47 1264.22 1520.93 Q1262.42 1517.37 1258.78 1517.37 M1258.78 1513.66 Q1264.59 1513.66 1267.65 1518.27 Q1270.73 1522.85 1270.73 1531.6 Q1270.73 1540.33 1267.65 1544.94 Q1264.59 1549.52 1258.78 1549.52 Q1252.97 1549.52 1249.89 1544.94 Q1246.84 1540.33 1246.84 1531.6 Q1246.84 1522.85 1249.89 1518.27 Q1252.97 1513.66 1258.78 1513.66 Z\" fill=\"#000000\" fill-rule=\"nonzero\" fill-opacity=\"1\" /><path clip-path=\"url(#clip100)\" d=\"M1741.13 1514.29 L1763.35 1514.29 L1763.35 1516.28 L1750.81 1548.85 L1745.92 1548.85 L1757.73 1518.22 L1741.13 1518.22 L1741.13 1514.29 Z\" fill=\"#000000\" fill-rule=\"nonzero\" fill-opacity=\"1\" /><path clip-path=\"url(#clip100)\" d=\"M1772.52 1514.29 L1790.88 1514.29 L1790.88 1518.22 L1776.8 1518.22 L1776.8 1526.7 Q1777.82 1526.35 1778.84 1526.19 Q1779.86 1526 1780.88 1526 Q1786.66 1526 1790.04 1529.17 Q1793.42 1532.34 1793.42 1537.76 Q1793.42 1543.34 1789.95 1546.44 Q1786.48 1549.52 1780.16 1549.52 Q1777.98 1549.52 1775.71 1549.15 Q1773.47 1548.78 1771.06 1548.04 L1771.06 1543.34 Q1773.15 1544.47 1775.37 1545.03 Q1777.59 1545.58 1780.07 1545.58 Q1784.07 1545.58 1786.41 1543.48 Q1788.75 1541.37 1788.75 1537.76 Q1788.75 1534.15 1786.41 1532.04 Q1784.07 1529.94 1780.07 1529.94 Q1778.19 1529.94 1776.32 1530.35 Q1774.46 1530.77 1772.52 1531.65 L1772.52 1514.29 Z\" fill=\"#000000\" fill-rule=\"nonzero\" fill-opacity=\"1\" /><path clip-path=\"url(#clip100)\" d=\"M2250.19 1544.91 L2257.83 1544.91 L2257.83 1518.55 L2249.52 1520.21 L2249.52 1515.95 L2257.79 1514.29 L2262.46 1514.29 L2262.46 1544.91 L2270.1 1544.91 L2270.1 1548.85 L2250.19 1548.85 L2250.19 1544.91 Z\" fill=\"#000000\" fill-rule=\"nonzero\" fill-opacity=\"1\" /><path clip-path=\"url(#clip100)\" d=\"M2289.55 1517.37 Q2285.93 1517.37 2284.11 1520.93 Q2282.3 1524.47 2282.3 1531.6 Q2282.3 1538.71 2284.11 1542.27 Q2285.93 1545.82 2289.55 1545.82 Q2293.18 1545.82 2294.98 1542.27 Q2296.81 1538.71 2296.81 1531.6 Q2296.81 1524.47 2294.98 1520.93 Q2293.18 1517.37 2289.55 1517.37 M2289.55 1513.66 Q2295.36 1513.66 2298.41 1518.27 Q2301.49 1522.85 2301.49 1531.6 Q2301.49 1540.33 2298.41 1544.94 Q2295.36 1549.52 2289.55 1549.52 Q2283.73 1549.52 2280.66 1544.94 Q2277.6 1540.33 2277.6 1531.6 Q2277.6 1522.85 2280.66 1518.27 Q2283.73 1513.66 2289.55 1513.66 Z\" fill=\"#000000\" fill-rule=\"nonzero\" fill-opacity=\"1\" /><path clip-path=\"url(#clip100)\" d=\"M2319.71 1517.37 Q2316.1 1517.37 2314.27 1520.93 Q2312.46 1524.47 2312.46 1531.6 Q2312.46 1538.71 2314.27 1542.27 Q2316.1 1545.82 2319.71 1545.82 Q2323.34 1545.82 2325.15 1542.27 Q2326.98 1538.71 2326.98 1531.6 Q2326.98 1524.47 2325.15 1520.93 Q2323.34 1517.37 2319.71 1517.37 M2319.71 1513.66 Q2325.52 1513.66 2328.57 1518.27 Q2331.65 1522.85 2331.65 1531.6 Q2331.65 1540.33 2328.57 1544.94 Q2325.52 1549.52 2319.71 1549.52 Q2313.9 1549.52 2310.82 1544.94 Q2307.76 1540.33 2307.76 1531.6 Q2307.76 1522.85 2310.82 1518.27 Q2313.9 1513.66 2319.71 1513.66 Z\" fill=\"#000000\" fill-rule=\"nonzero\" fill-opacity=\"1\" /><polyline clip-path=\"url(#clip102)\" style=\"stroke:#000000; stroke-linecap:round; stroke-linejoin:round; stroke-width:2; stroke-opacity:0.1; fill:none\" points=\"156.112,1445.72 2352.76,1445.72 \"/>\n",
       "<polyline clip-path=\"url(#clip102)\" style=\"stroke:#000000; stroke-linecap:round; stroke-linejoin:round; stroke-width:2; stroke-opacity:0.1; fill:none\" points=\"156.112,1053.1 2352.76,1053.1 \"/>\n",
       "<polyline clip-path=\"url(#clip102)\" style=\"stroke:#000000; stroke-linecap:round; stroke-linejoin:round; stroke-width:2; stroke-opacity:0.1; fill:none\" points=\"156.112,660.491 2352.76,660.491 \"/>\n",
       "<polyline clip-path=\"url(#clip102)\" style=\"stroke:#000000; stroke-linecap:round; stroke-linejoin:round; stroke-width:2; stroke-opacity:0.1; fill:none\" points=\"156.112,267.879 2352.76,267.879 \"/>\n",
       "<polyline clip-path=\"url(#clip100)\" style=\"stroke:#000000; stroke-linecap:round; stroke-linejoin:round; stroke-width:4; stroke-opacity:1; fill:none\" points=\"156.112,1486.45 156.112,47.2441 \"/>\n",
       "<polyline clip-path=\"url(#clip100)\" style=\"stroke:#000000; stroke-linecap:round; stroke-linejoin:round; stroke-width:4; stroke-opacity:1; fill:none\" points=\"156.112,1445.72 175.01,1445.72 \"/>\n",
       "<polyline clip-path=\"url(#clip100)\" style=\"stroke:#000000; stroke-linecap:round; stroke-linejoin:round; stroke-width:4; stroke-opacity:1; fill:none\" points=\"156.112,1053.1 175.01,1053.1 \"/>\n",
       "<polyline clip-path=\"url(#clip100)\" style=\"stroke:#000000; stroke-linecap:round; stroke-linejoin:round; stroke-width:4; stroke-opacity:1; fill:none\" points=\"156.112,660.491 175.01,660.491 \"/>\n",
       "<polyline clip-path=\"url(#clip100)\" style=\"stroke:#000000; stroke-linecap:round; stroke-linejoin:round; stroke-width:4; stroke-opacity:1; fill:none\" points=\"156.112,267.879 175.01,267.879 \"/>\n",
       "<path clip-path=\"url(#clip100)\" d=\"M62.9365 1431.51 Q59.3254 1431.51 57.4967 1435.08 Q55.6912 1438.62 55.6912 1445.75 Q55.6912 1452.86 57.4967 1456.42 Q59.3254 1459.96 62.9365 1459.96 Q66.5707 1459.96 68.3763 1456.42 Q70.205 1452.86 70.205 1445.75 Q70.205 1438.62 68.3763 1435.08 Q66.5707 1431.51 62.9365 1431.51 M62.9365 1427.81 Q68.7467 1427.81 71.8022 1432.42 Q74.8809 1437 74.8809 1445.75 Q74.8809 1454.48 71.8022 1459.08 Q68.7467 1463.67 62.9365 1463.67 Q57.1264 1463.67 54.0477 1459.08 Q50.9921 1454.48 50.9921 1445.75 Q50.9921 1437 54.0477 1432.42 Q57.1264 1427.81 62.9365 1427.81 Z\" fill=\"#000000\" fill-rule=\"nonzero\" fill-opacity=\"1\" /><path clip-path=\"url(#clip100)\" d=\"M83.0984 1457.12 L87.9827 1457.12 L87.9827 1463 L83.0984 1463 L83.0984 1457.12 Z\" fill=\"#000000\" fill-rule=\"nonzero\" fill-opacity=\"1\" /><path clip-path=\"url(#clip100)\" d=\"M108.168 1431.51 Q104.557 1431.51 102.728 1435.08 Q100.922 1438.62 100.922 1445.75 Q100.922 1452.86 102.728 1456.42 Q104.557 1459.96 108.168 1459.96 Q111.802 1459.96 113.608 1456.42 Q115.436 1452.86 115.436 1445.75 Q115.436 1438.62 113.608 1435.08 Q111.802 1431.51 108.168 1431.51 M108.168 1427.81 Q113.978 1427.81 117.033 1432.42 Q120.112 1437 120.112 1445.75 Q120.112 1454.48 117.033 1459.08 Q113.978 1463.67 108.168 1463.67 Q102.358 1463.67 99.2789 1459.08 Q96.2234 1454.48 96.2234 1445.75 Q96.2234 1437 99.2789 1432.42 Q102.358 1427.81 108.168 1427.81 Z\" fill=\"#000000\" fill-rule=\"nonzero\" fill-opacity=\"1\" /><path clip-path=\"url(#clip100)\" d=\"M64.1634 1038.9 Q60.5523 1038.9 58.7236 1042.47 Q56.918 1046.01 56.918 1053.14 Q56.918 1060.24 58.7236 1063.81 Q60.5523 1067.35 64.1634 1067.35 Q67.7976 1067.35 69.6031 1063.81 Q71.4318 1060.24 71.4318 1053.14 Q71.4318 1046.01 69.6031 1042.47 Q67.7976 1038.9 64.1634 1038.9 M64.1634 1035.2 Q69.9735 1035.2 73.029 1039.8 Q76.1077 1044.39 76.1077 1053.14 Q76.1077 1061.87 73.029 1066.47 Q69.9735 1071.05 64.1634 1071.05 Q58.3532 1071.05 55.2745 1066.47 Q52.219 1061.87 52.219 1053.14 Q52.219 1044.39 55.2745 1039.8 Q58.3532 1035.2 64.1634 1035.2 Z\" fill=\"#000000\" fill-rule=\"nonzero\" fill-opacity=\"1\" /><path clip-path=\"url(#clip100)\" d=\"M84.3253 1064.5 L89.2095 1064.5 L89.2095 1070.38 L84.3253 1070.38 L84.3253 1064.5 Z\" fill=\"#000000\" fill-rule=\"nonzero\" fill-opacity=\"1\" /><path clip-path=\"url(#clip100)\" d=\"M100.205 1066.45 L107.844 1066.45 L107.844 1040.08 L99.5335 1041.75 L99.5335 1037.49 L107.797 1035.82 L112.473 1035.82 L112.473 1066.45 L120.112 1066.45 L120.112 1070.38 L100.205 1070.38 L100.205 1066.45 Z\" fill=\"#000000\" fill-rule=\"nonzero\" fill-opacity=\"1\" /><path clip-path=\"url(#clip100)\" d=\"M64.5337 646.29 Q60.9226 646.29 59.0939 649.855 Q57.2884 653.396 57.2884 660.526 Q57.2884 667.633 59.0939 671.197 Q60.9226 674.739 64.5337 674.739 Q68.168 674.739 69.9735 671.197 Q71.8022 667.633 71.8022 660.526 Q71.8022 653.396 69.9735 649.855 Q68.168 646.29 64.5337 646.29 M64.5337 642.586 Q70.3439 642.586 73.3994 647.193 Q76.4781 651.776 76.4781 660.526 Q76.4781 669.253 73.3994 673.859 Q70.3439 678.443 64.5337 678.443 Q58.7236 678.443 55.6449 673.859 Q52.5893 669.253 52.5893 660.526 Q52.5893 651.776 55.6449 647.193 Q58.7236 642.586 64.5337 642.586 Z\" fill=\"#000000\" fill-rule=\"nonzero\" fill-opacity=\"1\" /><path clip-path=\"url(#clip100)\" d=\"M84.6956 671.892 L89.5799 671.892 L89.5799 677.771 L84.6956 677.771 L84.6956 671.892 Z\" fill=\"#000000\" fill-rule=\"nonzero\" fill-opacity=\"1\" /><path clip-path=\"url(#clip100)\" d=\"M103.793 673.836 L120.112 673.836 L120.112 677.771 L98.1678 677.771 L98.1678 673.836 Q100.83 671.082 105.413 666.452 Q110.02 661.799 111.2 660.457 Q113.445 657.933 114.325 656.197 Q115.228 654.438 115.228 652.748 Q115.228 649.994 113.283 648.258 Q111.362 646.522 108.26 646.522 Q106.061 646.522 103.608 647.285 Q101.177 648.049 98.3993 649.6 L98.3993 644.878 Q101.223 643.744 103.677 643.165 Q106.131 642.586 108.168 642.586 Q113.538 642.586 116.733 645.272 Q119.927 647.957 119.927 652.447 Q119.927 654.577 119.117 656.498 Q118.33 658.396 116.223 660.989 Q115.645 661.66 112.543 664.878 Q109.441 668.072 103.793 673.836 Z\" fill=\"#000000\" fill-rule=\"nonzero\" fill-opacity=\"1\" /><path clip-path=\"url(#clip100)\" d=\"M63.5847 253.678 Q59.9736 253.678 58.1449 257.243 Q56.3393 260.784 56.3393 267.914 Q56.3393 275.02 58.1449 278.585 Q59.9736 282.127 63.5847 282.127 Q67.2189 282.127 69.0244 278.585 Q70.8531 275.02 70.8531 267.914 Q70.8531 260.784 69.0244 257.243 Q67.2189 253.678 63.5847 253.678 M63.5847 249.974 Q69.3948 249.974 72.4503 254.581 Q75.529 259.164 75.529 267.914 Q75.529 276.641 72.4503 281.247 Q69.3948 285.83 63.5847 285.83 Q57.7745 285.83 54.6958 281.247 Q51.6403 276.641 51.6403 267.914 Q51.6403 259.164 54.6958 254.581 Q57.7745 249.974 63.5847 249.974 Z\" fill=\"#000000\" fill-rule=\"nonzero\" fill-opacity=\"1\" /><path clip-path=\"url(#clip100)\" d=\"M83.7466 279.28 L88.6308 279.28 L88.6308 285.159 L83.7466 285.159 L83.7466 279.28 Z\" fill=\"#000000\" fill-rule=\"nonzero\" fill-opacity=\"1\" /><path clip-path=\"url(#clip100)\" d=\"M112.983 266.525 Q116.339 267.243 118.214 269.511 Q120.112 271.78 120.112 275.113 Q120.112 280.229 116.594 283.03 Q113.075 285.83 106.594 285.83 Q104.418 285.83 102.103 285.391 Q99.8113 284.974 97.3576 284.118 L97.3576 279.604 Q99.3021 280.738 101.617 281.317 Q103.932 281.895 106.455 281.895 Q110.853 281.895 113.145 280.159 Q115.459 278.423 115.459 275.113 Q115.459 272.057 113.307 270.344 Q111.177 268.608 107.358 268.608 L103.33 268.608 L103.33 264.766 L107.543 264.766 Q110.992 264.766 112.82 263.4 Q114.649 262.011 114.649 259.419 Q114.649 256.757 112.751 255.345 Q110.876 253.909 107.358 253.909 Q105.436 253.909 103.237 254.326 Q101.038 254.743 98.3993 255.622 L98.3993 251.456 Q101.061 250.715 103.376 250.345 Q105.714 249.974 107.774 249.974 Q113.098 249.974 116.2 252.405 Q119.302 254.812 119.302 258.932 Q119.302 261.803 117.658 263.794 Q116.015 265.761 112.983 266.525 Z\" fill=\"#000000\" fill-rule=\"nonzero\" fill-opacity=\"1\" /><polyline clip-path=\"url(#clip102)\" style=\"stroke:#009af9; stroke-linecap:round; stroke-linejoin:round; stroke-width:4; stroke-opacity:1; fill:none\" points=\"218.281,87.9763 239.214,1007.49 260.146,1023.21 281.078,1134.83 302.011,1237.49 322.943,1280.47 343.876,1300.81 364.808,1334.46 385.74,1342.59 406.673,1348.65 427.605,1359.89 448.537,1370.23 469.47,1382.82 490.402,1387.41 511.335,1389.99 532.267,1397.74 553.199,1399.25 574.132,1406.97 595.064,1409.42 615.996,1414.83 636.929,1417.4 657.861,1445.72 678.794,1445.72 699.726,1445.72 720.658,1445.72 741.591,1445.72 762.523,1445.72 783.456,1445.72 804.388,1445.72 825.32,1445.72 846.253,1445.72 867.185,1445.72 888.117,1445.72 909.05,1445.72 929.982,1445.72 950.915,1445.72 971.847,1445.72 992.779,1445.72 1013.71,1445.72 1034.64,1445.72 1055.58,1445.72 1076.51,1445.72 1097.44,1445.72 1118.37,1445.72 1139.31,1445.72 1160.24,1445.72 1181.17,1445.72 1202.1,1445.72 1223.04,1445.72 1243.97,1445.72 1264.9,1445.72 1285.83,1445.72 1306.76,1445.72 1327.7,1445.72 1348.63,1445.72 1369.56,1445.72 1390.49,1445.72 1411.43,1445.72 1432.36,1445.72 1453.29,1445.72 1474.22,1445.72 1495.16,1445.72 1516.09,1445.72 1537.02,1445.72 1557.95,1445.72 1578.89,1445.72 1599.82,1445.72 1620.75,1445.72 1641.68,1445.72 1662.62,1445.72 1683.55,1445.72 1704.48,1445.72 1725.41,1445.72 1746.34,1445.72 1767.28,1445.72 1788.21,1445.72 1809.14,1445.72 1830.07,1445.72 1851.01,1445.72 1871.94,1445.72 1892.87,1445.72 1913.8,1445.72 1934.74,1445.72 1955.67,1445.72 1976.6,1445.72 1997.53,1445.72 2018.47,1445.72 2039.4,1445.72 2060.33,1445.72 2081.26,1445.72 2102.2,1445.72 2123.13,1445.72 2144.06,1445.72 2164.99,1445.72 2185.92,1445.72 2206.86,1445.72 2227.79,1445.72 2248.72,1445.72 2269.65,1445.72 2290.59,1445.72 \"/>\n",
       "<path clip-path=\"url(#clip100)\" d=\"M2007.44 198.898 L2279.53 198.898 L2279.53 95.2176 L2007.44 95.2176  Z\" fill=\"#ffffff\" fill-rule=\"evenodd\" fill-opacity=\"1\"/>\n",
       "<polyline clip-path=\"url(#clip100)\" style=\"stroke:#000000; stroke-linecap:round; stroke-linejoin:round; stroke-width:4; stroke-opacity:1; fill:none\" points=\"2007.44,198.898 2279.53,198.898 2279.53,95.2176 2007.44,95.2176 2007.44,198.898 \"/>\n",
       "<polyline clip-path=\"url(#clip100)\" style=\"stroke:#009af9; stroke-linecap:round; stroke-linejoin:round; stroke-width:4; stroke-opacity:1; fill:none\" points=\"2031.85,147.058 2178.29,147.058 \"/>\n",
       "<path clip-path=\"url(#clip100)\" d=\"M2216.54 166.745 Q2214.73 171.375 2213.02 172.787 Q2211.31 174.199 2208.44 174.199 L2205.03 174.199 L2205.03 170.634 L2207.53 170.634 Q2209.29 170.634 2210.27 169.8 Q2211.24 168.967 2212.42 165.865 L2213.18 163.921 L2202.7 138.412 L2207.21 138.412 L2215.31 158.689 L2223.41 138.412 L2227.93 138.412 L2216.54 166.745 Z\" fill=\"#000000\" fill-rule=\"nonzero\" fill-opacity=\"1\" /><path clip-path=\"url(#clip100)\" d=\"M2235.22 160.402 L2242.86 160.402 L2242.86 134.037 L2234.55 135.703 L2234.55 131.444 L2242.81 129.778 L2247.49 129.778 L2247.49 160.402 L2255.13 160.402 L2255.13 164.338 L2235.22 164.338 L2235.22 160.402 Z\" fill=\"#000000\" fill-rule=\"nonzero\" fill-opacity=\"1\" /></svg>\n"
      ],
      "text/html": [
       "<?xml version=\"1.0\" encoding=\"utf-8\"?>\n",
       "<svg xmlns=\"http://www.w3.org/2000/svg\" xmlns:xlink=\"http://www.w3.org/1999/xlink\" width=\"600\" height=\"400\" viewBox=\"0 0 2400 1600\">\n",
       "<defs>\n",
       "  <clipPath id=\"clip150\">\n",
       "    <rect x=\"0\" y=\"0\" width=\"2400\" height=\"1600\"/>\n",
       "  </clipPath>\n",
       "</defs>\n",
       "<path clip-path=\"url(#clip150)\" d=\"M0 1600 L2400 1600 L2400 0 L0 0  Z\" fill=\"#ffffff\" fill-rule=\"evenodd\" fill-opacity=\"1\"/>\n",
       "<defs>\n",
       "  <clipPath id=\"clip151\">\n",
       "    <rect x=\"480\" y=\"0\" width=\"1681\" height=\"1600\"/>\n",
       "  </clipPath>\n",
       "</defs>\n",
       "<path clip-path=\"url(#clip150)\" d=\"M156.112 1486.45 L2352.76 1486.45 L2352.76 47.2441 L156.112 47.2441  Z\" fill=\"#ffffff\" fill-rule=\"evenodd\" fill-opacity=\"1\"/>\n",
       "<defs>\n",
       "  <clipPath id=\"clip152\">\n",
       "    <rect x=\"156\" y=\"47\" width=\"2198\" height=\"1440\"/>\n",
       "  </clipPath>\n",
       "</defs>\n",
       "<polyline clip-path=\"url(#clip152)\" style=\"stroke:#000000; stroke-linecap:round; stroke-linejoin:round; stroke-width:2; stroke-opacity:0.1; fill:none\" points=\"197.349,1486.45 197.349,47.2441 \"/>\n",
       "<polyline clip-path=\"url(#clip152)\" style=\"stroke:#000000; stroke-linecap:round; stroke-linejoin:round; stroke-width:2; stroke-opacity:0.1; fill:none\" points=\"720.658,1486.45 720.658,47.2441 \"/>\n",
       "<polyline clip-path=\"url(#clip152)\" style=\"stroke:#000000; stroke-linecap:round; stroke-linejoin:round; stroke-width:2; stroke-opacity:0.1; fill:none\" points=\"1243.97,1486.45 1243.97,47.2441 \"/>\n",
       "<polyline clip-path=\"url(#clip152)\" style=\"stroke:#000000; stroke-linecap:round; stroke-linejoin:round; stroke-width:2; stroke-opacity:0.1; fill:none\" points=\"1767.28,1486.45 1767.28,47.2441 \"/>\n",
       "<polyline clip-path=\"url(#clip152)\" style=\"stroke:#000000; stroke-linecap:round; stroke-linejoin:round; stroke-width:2; stroke-opacity:0.1; fill:none\" points=\"2290.59,1486.45 2290.59,47.2441 \"/>\n",
       "<polyline clip-path=\"url(#clip150)\" style=\"stroke:#000000; stroke-linecap:round; stroke-linejoin:round; stroke-width:4; stroke-opacity:1; fill:none\" points=\"156.112,1486.45 2352.76,1486.45 \"/>\n",
       "<polyline clip-path=\"url(#clip150)\" style=\"stroke:#000000; stroke-linecap:round; stroke-linejoin:round; stroke-width:4; stroke-opacity:1; fill:none\" points=\"197.349,1486.45 197.349,1467.55 \"/>\n",
       "<polyline clip-path=\"url(#clip150)\" style=\"stroke:#000000; stroke-linecap:round; stroke-linejoin:round; stroke-width:4; stroke-opacity:1; fill:none\" points=\"720.658,1486.45 720.658,1467.55 \"/>\n",
       "<polyline clip-path=\"url(#clip150)\" style=\"stroke:#000000; stroke-linecap:round; stroke-linejoin:round; stroke-width:4; stroke-opacity:1; fill:none\" points=\"1243.97,1486.45 1243.97,1467.55 \"/>\n",
       "<polyline clip-path=\"url(#clip150)\" style=\"stroke:#000000; stroke-linecap:round; stroke-linejoin:round; stroke-width:4; stroke-opacity:1; fill:none\" points=\"1767.28,1486.45 1767.28,1467.55 \"/>\n",
       "<polyline clip-path=\"url(#clip150)\" style=\"stroke:#000000; stroke-linecap:round; stroke-linejoin:round; stroke-width:4; stroke-opacity:1; fill:none\" points=\"2290.59,1486.45 2290.59,1467.55 \"/>\n",
       "<path clip-path=\"url(#clip150)\" d=\"M197.349 1517.37 Q193.738 1517.37 191.909 1520.93 Q190.104 1524.47 190.104 1531.6 Q190.104 1538.71 191.909 1542.27 Q193.738 1545.82 197.349 1545.82 Q200.983 1545.82 202.789 1542.27 Q204.617 1538.71 204.617 1531.6 Q204.617 1524.47 202.789 1520.93 Q200.983 1517.37 197.349 1517.37 M197.349 1513.66 Q203.159 1513.66 206.215 1518.27 Q209.293 1522.85 209.293 1531.6 Q209.293 1540.33 206.215 1544.94 Q203.159 1549.52 197.349 1549.52 Q191.539 1549.52 188.46 1544.94 Q185.405 1540.33 185.405 1531.6 Q185.405 1522.85 188.46 1518.27 Q191.539 1513.66 197.349 1513.66 Z\" fill=\"#000000\" fill-rule=\"nonzero\" fill-opacity=\"1\" /><path clip-path=\"url(#clip150)\" d=\"M699.929 1544.91 L716.249 1544.91 L716.249 1548.85 L694.304 1548.85 L694.304 1544.91 Q696.966 1542.16 701.55 1537.53 Q706.156 1532.88 707.337 1531.53 Q709.582 1529.01 710.462 1527.27 Q711.364 1525.51 711.364 1523.82 Q711.364 1521.07 709.42 1519.33 Q707.499 1517.6 704.397 1517.6 Q702.198 1517.6 699.744 1518.36 Q697.314 1519.13 694.536 1520.68 L694.536 1515.95 Q697.36 1514.82 699.814 1514.24 Q702.267 1513.66 704.304 1513.66 Q709.675 1513.66 712.869 1516.35 Q716.063 1519.03 716.063 1523.52 Q716.063 1525.65 715.253 1527.57 Q714.466 1529.47 712.36 1532.07 Q711.781 1532.74 708.679 1535.95 Q705.577 1539.15 699.929 1544.91 Z\" fill=\"#000000\" fill-rule=\"nonzero\" fill-opacity=\"1\" /><path clip-path=\"url(#clip150)\" d=\"M726.11 1514.29 L744.466 1514.29 L744.466 1518.22 L730.392 1518.22 L730.392 1526.7 Q731.411 1526.35 732.429 1526.19 Q733.448 1526 734.466 1526 Q740.253 1526 743.633 1529.17 Q747.012 1532.34 747.012 1537.76 Q747.012 1543.34 743.54 1546.44 Q740.068 1549.52 733.749 1549.52 Q731.573 1549.52 729.304 1549.15 Q727.059 1548.78 724.651 1548.04 L724.651 1543.34 Q726.735 1544.47 728.957 1545.03 Q731.179 1545.58 733.656 1545.58 Q737.661 1545.58 739.999 1543.48 Q742.336 1541.37 742.336 1537.76 Q742.336 1534.15 739.999 1532.04 Q737.661 1529.94 733.656 1529.94 Q731.781 1529.94 729.906 1530.35 Q728.054 1530.77 726.11 1531.65 L726.11 1514.29 Z\" fill=\"#000000\" fill-rule=\"nonzero\" fill-opacity=\"1\" /><path clip-path=\"url(#clip150)\" d=\"M1218.67 1514.29 L1237.02 1514.29 L1237.02 1518.22 L1222.95 1518.22 L1222.95 1526.7 Q1223.97 1526.35 1224.99 1526.19 Q1226 1526 1227.02 1526 Q1232.81 1526 1236.19 1529.17 Q1239.57 1532.34 1239.57 1537.76 Q1239.57 1543.34 1236.1 1546.44 Q1232.63 1549.52 1226.31 1549.52 Q1224.13 1549.52 1221.86 1549.15 Q1219.62 1548.78 1217.21 1548.04 L1217.21 1543.34 Q1219.29 1544.47 1221.51 1545.03 Q1223.74 1545.58 1226.21 1545.58 Q1230.22 1545.58 1232.56 1543.48 Q1234.89 1541.37 1234.89 1537.76 Q1234.89 1534.15 1232.56 1532.04 Q1230.22 1529.94 1226.21 1529.94 Q1224.34 1529.94 1222.46 1530.35 Q1220.61 1530.77 1218.67 1531.65 L1218.67 1514.29 Z\" fill=\"#000000\" fill-rule=\"nonzero\" fill-opacity=\"1\" /><path clip-path=\"url(#clip150)\" d=\"M1258.78 1517.37 Q1255.17 1517.37 1253.34 1520.93 Q1251.54 1524.47 1251.54 1531.6 Q1251.54 1538.71 1253.34 1542.27 Q1255.17 1545.82 1258.78 1545.82 Q1262.42 1545.82 1264.22 1542.27 Q1266.05 1538.71 1266.05 1531.6 Q1266.05 1524.47 1264.22 1520.93 Q1262.42 1517.37 1258.78 1517.37 M1258.78 1513.66 Q1264.59 1513.66 1267.65 1518.27 Q1270.73 1522.85 1270.73 1531.6 Q1270.73 1540.33 1267.65 1544.94 Q1264.59 1549.52 1258.78 1549.52 Q1252.97 1549.52 1249.89 1544.94 Q1246.84 1540.33 1246.84 1531.6 Q1246.84 1522.85 1249.89 1518.27 Q1252.97 1513.66 1258.78 1513.66 Z\" fill=\"#000000\" fill-rule=\"nonzero\" fill-opacity=\"1\" /><path clip-path=\"url(#clip150)\" d=\"M1741.13 1514.29 L1763.35 1514.29 L1763.35 1516.28 L1750.81 1548.85 L1745.92 1548.85 L1757.73 1518.22 L1741.13 1518.22 L1741.13 1514.29 Z\" fill=\"#000000\" fill-rule=\"nonzero\" fill-opacity=\"1\" /><path clip-path=\"url(#clip150)\" d=\"M1772.52 1514.29 L1790.88 1514.29 L1790.88 1518.22 L1776.8 1518.22 L1776.8 1526.7 Q1777.82 1526.35 1778.84 1526.19 Q1779.86 1526 1780.88 1526 Q1786.66 1526 1790.04 1529.17 Q1793.42 1532.34 1793.42 1537.76 Q1793.42 1543.34 1789.95 1546.44 Q1786.48 1549.52 1780.16 1549.52 Q1777.98 1549.52 1775.71 1549.15 Q1773.47 1548.78 1771.06 1548.04 L1771.06 1543.34 Q1773.15 1544.47 1775.37 1545.03 Q1777.59 1545.58 1780.07 1545.58 Q1784.07 1545.58 1786.41 1543.48 Q1788.75 1541.37 1788.75 1537.76 Q1788.75 1534.15 1786.41 1532.04 Q1784.07 1529.94 1780.07 1529.94 Q1778.19 1529.94 1776.32 1530.35 Q1774.46 1530.77 1772.52 1531.65 L1772.52 1514.29 Z\" fill=\"#000000\" fill-rule=\"nonzero\" fill-opacity=\"1\" /><path clip-path=\"url(#clip150)\" d=\"M2250.19 1544.91 L2257.83 1544.91 L2257.83 1518.55 L2249.52 1520.21 L2249.52 1515.95 L2257.79 1514.29 L2262.46 1514.29 L2262.46 1544.91 L2270.1 1544.91 L2270.1 1548.85 L2250.19 1548.85 L2250.19 1544.91 Z\" fill=\"#000000\" fill-rule=\"nonzero\" fill-opacity=\"1\" /><path clip-path=\"url(#clip150)\" d=\"M2289.55 1517.37 Q2285.93 1517.37 2284.11 1520.93 Q2282.3 1524.47 2282.3 1531.6 Q2282.3 1538.71 2284.11 1542.27 Q2285.93 1545.82 2289.55 1545.82 Q2293.18 1545.82 2294.98 1542.27 Q2296.81 1538.71 2296.81 1531.6 Q2296.81 1524.47 2294.98 1520.93 Q2293.18 1517.37 2289.55 1517.37 M2289.55 1513.66 Q2295.36 1513.66 2298.41 1518.27 Q2301.49 1522.85 2301.49 1531.6 Q2301.49 1540.33 2298.41 1544.94 Q2295.36 1549.52 2289.55 1549.52 Q2283.73 1549.52 2280.66 1544.94 Q2277.6 1540.33 2277.6 1531.6 Q2277.6 1522.85 2280.66 1518.27 Q2283.73 1513.66 2289.55 1513.66 Z\" fill=\"#000000\" fill-rule=\"nonzero\" fill-opacity=\"1\" /><path clip-path=\"url(#clip150)\" d=\"M2319.71 1517.37 Q2316.1 1517.37 2314.27 1520.93 Q2312.46 1524.47 2312.46 1531.6 Q2312.46 1538.71 2314.27 1542.27 Q2316.1 1545.82 2319.71 1545.82 Q2323.34 1545.82 2325.15 1542.27 Q2326.98 1538.71 2326.98 1531.6 Q2326.98 1524.47 2325.15 1520.93 Q2323.34 1517.37 2319.71 1517.37 M2319.71 1513.66 Q2325.52 1513.66 2328.57 1518.27 Q2331.65 1522.85 2331.65 1531.6 Q2331.65 1540.33 2328.57 1544.94 Q2325.52 1549.52 2319.71 1549.52 Q2313.9 1549.52 2310.82 1544.94 Q2307.76 1540.33 2307.76 1531.6 Q2307.76 1522.85 2310.82 1518.27 Q2313.9 1513.66 2319.71 1513.66 Z\" fill=\"#000000\" fill-rule=\"nonzero\" fill-opacity=\"1\" /><polyline clip-path=\"url(#clip152)\" style=\"stroke:#000000; stroke-linecap:round; stroke-linejoin:round; stroke-width:2; stroke-opacity:0.1; fill:none\" points=\"156.112,1445.72 2352.76,1445.72 \"/>\n",
       "<polyline clip-path=\"url(#clip152)\" style=\"stroke:#000000; stroke-linecap:round; stroke-linejoin:round; stroke-width:2; stroke-opacity:0.1; fill:none\" points=\"156.112,1053.1 2352.76,1053.1 \"/>\n",
       "<polyline clip-path=\"url(#clip152)\" style=\"stroke:#000000; stroke-linecap:round; stroke-linejoin:round; stroke-width:2; stroke-opacity:0.1; fill:none\" points=\"156.112,660.491 2352.76,660.491 \"/>\n",
       "<polyline clip-path=\"url(#clip152)\" style=\"stroke:#000000; stroke-linecap:round; stroke-linejoin:round; stroke-width:2; stroke-opacity:0.1; fill:none\" points=\"156.112,267.879 2352.76,267.879 \"/>\n",
       "<polyline clip-path=\"url(#clip150)\" style=\"stroke:#000000; stroke-linecap:round; stroke-linejoin:round; stroke-width:4; stroke-opacity:1; fill:none\" points=\"156.112,1486.45 156.112,47.2441 \"/>\n",
       "<polyline clip-path=\"url(#clip150)\" style=\"stroke:#000000; stroke-linecap:round; stroke-linejoin:round; stroke-width:4; stroke-opacity:1; fill:none\" points=\"156.112,1445.72 175.01,1445.72 \"/>\n",
       "<polyline clip-path=\"url(#clip150)\" style=\"stroke:#000000; stroke-linecap:round; stroke-linejoin:round; stroke-width:4; stroke-opacity:1; fill:none\" points=\"156.112,1053.1 175.01,1053.1 \"/>\n",
       "<polyline clip-path=\"url(#clip150)\" style=\"stroke:#000000; stroke-linecap:round; stroke-linejoin:round; stroke-width:4; stroke-opacity:1; fill:none\" points=\"156.112,660.491 175.01,660.491 \"/>\n",
       "<polyline clip-path=\"url(#clip150)\" style=\"stroke:#000000; stroke-linecap:round; stroke-linejoin:round; stroke-width:4; stroke-opacity:1; fill:none\" points=\"156.112,267.879 175.01,267.879 \"/>\n",
       "<path clip-path=\"url(#clip150)\" d=\"M62.9365 1431.51 Q59.3254 1431.51 57.4967 1435.08 Q55.6912 1438.62 55.6912 1445.75 Q55.6912 1452.86 57.4967 1456.42 Q59.3254 1459.96 62.9365 1459.96 Q66.5707 1459.96 68.3763 1456.42 Q70.205 1452.86 70.205 1445.75 Q70.205 1438.62 68.3763 1435.08 Q66.5707 1431.51 62.9365 1431.51 M62.9365 1427.81 Q68.7467 1427.81 71.8022 1432.42 Q74.8809 1437 74.8809 1445.75 Q74.8809 1454.48 71.8022 1459.08 Q68.7467 1463.67 62.9365 1463.67 Q57.1264 1463.67 54.0477 1459.08 Q50.9921 1454.48 50.9921 1445.75 Q50.9921 1437 54.0477 1432.42 Q57.1264 1427.81 62.9365 1427.81 Z\" fill=\"#000000\" fill-rule=\"nonzero\" fill-opacity=\"1\" /><path clip-path=\"url(#clip150)\" d=\"M83.0984 1457.12 L87.9827 1457.12 L87.9827 1463 L83.0984 1463 L83.0984 1457.12 Z\" fill=\"#000000\" fill-rule=\"nonzero\" fill-opacity=\"1\" /><path clip-path=\"url(#clip150)\" d=\"M108.168 1431.51 Q104.557 1431.51 102.728 1435.08 Q100.922 1438.62 100.922 1445.75 Q100.922 1452.86 102.728 1456.42 Q104.557 1459.96 108.168 1459.96 Q111.802 1459.96 113.608 1456.42 Q115.436 1452.86 115.436 1445.75 Q115.436 1438.62 113.608 1435.08 Q111.802 1431.51 108.168 1431.51 M108.168 1427.81 Q113.978 1427.81 117.033 1432.42 Q120.112 1437 120.112 1445.75 Q120.112 1454.48 117.033 1459.08 Q113.978 1463.67 108.168 1463.67 Q102.358 1463.67 99.2789 1459.08 Q96.2234 1454.48 96.2234 1445.75 Q96.2234 1437 99.2789 1432.42 Q102.358 1427.81 108.168 1427.81 Z\" fill=\"#000000\" fill-rule=\"nonzero\" fill-opacity=\"1\" /><path clip-path=\"url(#clip150)\" d=\"M64.1634 1038.9 Q60.5523 1038.9 58.7236 1042.47 Q56.918 1046.01 56.918 1053.14 Q56.918 1060.24 58.7236 1063.81 Q60.5523 1067.35 64.1634 1067.35 Q67.7976 1067.35 69.6031 1063.81 Q71.4318 1060.24 71.4318 1053.14 Q71.4318 1046.01 69.6031 1042.47 Q67.7976 1038.9 64.1634 1038.9 M64.1634 1035.2 Q69.9735 1035.2 73.029 1039.8 Q76.1077 1044.39 76.1077 1053.14 Q76.1077 1061.87 73.029 1066.47 Q69.9735 1071.05 64.1634 1071.05 Q58.3532 1071.05 55.2745 1066.47 Q52.219 1061.87 52.219 1053.14 Q52.219 1044.39 55.2745 1039.8 Q58.3532 1035.2 64.1634 1035.2 Z\" fill=\"#000000\" fill-rule=\"nonzero\" fill-opacity=\"1\" /><path clip-path=\"url(#clip150)\" d=\"M84.3253 1064.5 L89.2095 1064.5 L89.2095 1070.38 L84.3253 1070.38 L84.3253 1064.5 Z\" fill=\"#000000\" fill-rule=\"nonzero\" fill-opacity=\"1\" /><path clip-path=\"url(#clip150)\" d=\"M100.205 1066.45 L107.844 1066.45 L107.844 1040.08 L99.5335 1041.75 L99.5335 1037.49 L107.797 1035.82 L112.473 1035.82 L112.473 1066.45 L120.112 1066.45 L120.112 1070.38 L100.205 1070.38 L100.205 1066.45 Z\" fill=\"#000000\" fill-rule=\"nonzero\" fill-opacity=\"1\" /><path clip-path=\"url(#clip150)\" d=\"M64.5337 646.29 Q60.9226 646.29 59.0939 649.855 Q57.2884 653.396 57.2884 660.526 Q57.2884 667.633 59.0939 671.197 Q60.9226 674.739 64.5337 674.739 Q68.168 674.739 69.9735 671.197 Q71.8022 667.633 71.8022 660.526 Q71.8022 653.396 69.9735 649.855 Q68.168 646.29 64.5337 646.29 M64.5337 642.586 Q70.3439 642.586 73.3994 647.193 Q76.4781 651.776 76.4781 660.526 Q76.4781 669.253 73.3994 673.859 Q70.3439 678.443 64.5337 678.443 Q58.7236 678.443 55.6449 673.859 Q52.5893 669.253 52.5893 660.526 Q52.5893 651.776 55.6449 647.193 Q58.7236 642.586 64.5337 642.586 Z\" fill=\"#000000\" fill-rule=\"nonzero\" fill-opacity=\"1\" /><path clip-path=\"url(#clip150)\" d=\"M84.6956 671.892 L89.5799 671.892 L89.5799 677.771 L84.6956 677.771 L84.6956 671.892 Z\" fill=\"#000000\" fill-rule=\"nonzero\" fill-opacity=\"1\" /><path clip-path=\"url(#clip150)\" d=\"M103.793 673.836 L120.112 673.836 L120.112 677.771 L98.1678 677.771 L98.1678 673.836 Q100.83 671.082 105.413 666.452 Q110.02 661.799 111.2 660.457 Q113.445 657.933 114.325 656.197 Q115.228 654.438 115.228 652.748 Q115.228 649.994 113.283 648.258 Q111.362 646.522 108.26 646.522 Q106.061 646.522 103.608 647.285 Q101.177 648.049 98.3993 649.6 L98.3993 644.878 Q101.223 643.744 103.677 643.165 Q106.131 642.586 108.168 642.586 Q113.538 642.586 116.733 645.272 Q119.927 647.957 119.927 652.447 Q119.927 654.577 119.117 656.498 Q118.33 658.396 116.223 660.989 Q115.645 661.66 112.543 664.878 Q109.441 668.072 103.793 673.836 Z\" fill=\"#000000\" fill-rule=\"nonzero\" fill-opacity=\"1\" /><path clip-path=\"url(#clip150)\" d=\"M63.5847 253.678 Q59.9736 253.678 58.1449 257.243 Q56.3393 260.784 56.3393 267.914 Q56.3393 275.02 58.1449 278.585 Q59.9736 282.127 63.5847 282.127 Q67.2189 282.127 69.0244 278.585 Q70.8531 275.02 70.8531 267.914 Q70.8531 260.784 69.0244 257.243 Q67.2189 253.678 63.5847 253.678 M63.5847 249.974 Q69.3948 249.974 72.4503 254.581 Q75.529 259.164 75.529 267.914 Q75.529 276.641 72.4503 281.247 Q69.3948 285.83 63.5847 285.83 Q57.7745 285.83 54.6958 281.247 Q51.6403 276.641 51.6403 267.914 Q51.6403 259.164 54.6958 254.581 Q57.7745 249.974 63.5847 249.974 Z\" fill=\"#000000\" fill-rule=\"nonzero\" fill-opacity=\"1\" /><path clip-path=\"url(#clip150)\" d=\"M83.7466 279.28 L88.6308 279.28 L88.6308 285.159 L83.7466 285.159 L83.7466 279.28 Z\" fill=\"#000000\" fill-rule=\"nonzero\" fill-opacity=\"1\" /><path clip-path=\"url(#clip150)\" d=\"M112.983 266.525 Q116.339 267.243 118.214 269.511 Q120.112 271.78 120.112 275.113 Q120.112 280.229 116.594 283.03 Q113.075 285.83 106.594 285.83 Q104.418 285.83 102.103 285.391 Q99.8113 284.974 97.3576 284.118 L97.3576 279.604 Q99.3021 280.738 101.617 281.317 Q103.932 281.895 106.455 281.895 Q110.853 281.895 113.145 280.159 Q115.459 278.423 115.459 275.113 Q115.459 272.057 113.307 270.344 Q111.177 268.608 107.358 268.608 L103.33 268.608 L103.33 264.766 L107.543 264.766 Q110.992 264.766 112.82 263.4 Q114.649 262.011 114.649 259.419 Q114.649 256.757 112.751 255.345 Q110.876 253.909 107.358 253.909 Q105.436 253.909 103.237 254.326 Q101.038 254.743 98.3993 255.622 L98.3993 251.456 Q101.061 250.715 103.376 250.345 Q105.714 249.974 107.774 249.974 Q113.098 249.974 116.2 252.405 Q119.302 254.812 119.302 258.932 Q119.302 261.803 117.658 263.794 Q116.015 265.761 112.983 266.525 Z\" fill=\"#000000\" fill-rule=\"nonzero\" fill-opacity=\"1\" /><polyline clip-path=\"url(#clip152)\" style=\"stroke:#009af9; stroke-linecap:round; stroke-linejoin:round; stroke-width:4; stroke-opacity:1; fill:none\" points=\"218.281,87.9763 239.214,1007.49 260.146,1023.21 281.078,1134.83 302.011,1237.49 322.943,1280.47 343.876,1300.81 364.808,1334.46 385.74,1342.59 406.673,1348.65 427.605,1359.89 448.537,1370.23 469.47,1382.82 490.402,1387.41 511.335,1389.99 532.267,1397.74 553.199,1399.25 574.132,1406.97 595.064,1409.42 615.996,1414.83 636.929,1417.4 657.861,1445.72 678.794,1445.72 699.726,1445.72 720.658,1445.72 741.591,1445.72 762.523,1445.72 783.456,1445.72 804.388,1445.72 825.32,1445.72 846.253,1445.72 867.185,1445.72 888.117,1445.72 909.05,1445.72 929.982,1445.72 950.915,1445.72 971.847,1445.72 992.779,1445.72 1013.71,1445.72 1034.64,1445.72 1055.58,1445.72 1076.51,1445.72 1097.44,1445.72 1118.37,1445.72 1139.31,1445.72 1160.24,1445.72 1181.17,1445.72 1202.1,1445.72 1223.04,1445.72 1243.97,1445.72 1264.9,1445.72 1285.83,1445.72 1306.76,1445.72 1327.7,1445.72 1348.63,1445.72 1369.56,1445.72 1390.49,1445.72 1411.43,1445.72 1432.36,1445.72 1453.29,1445.72 1474.22,1445.72 1495.16,1445.72 1516.09,1445.72 1537.02,1445.72 1557.95,1445.72 1578.89,1445.72 1599.82,1445.72 1620.75,1445.72 1641.68,1445.72 1662.62,1445.72 1683.55,1445.72 1704.48,1445.72 1725.41,1445.72 1746.34,1445.72 1767.28,1445.72 1788.21,1445.72 1809.14,1445.72 1830.07,1445.72 1851.01,1445.72 1871.94,1445.72 1892.87,1445.72 1913.8,1445.72 1934.74,1445.72 1955.67,1445.72 1976.6,1445.72 1997.53,1445.72 2018.47,1445.72 2039.4,1445.72 2060.33,1445.72 2081.26,1445.72 2102.2,1445.72 2123.13,1445.72 2144.06,1445.72 2164.99,1445.72 2185.92,1445.72 2206.86,1445.72 2227.79,1445.72 2248.72,1445.72 2269.65,1445.72 2290.59,1445.72 \"/>\n",
       "<path clip-path=\"url(#clip150)\" d=\"M2007.44 198.898 L2279.53 198.898 L2279.53 95.2176 L2007.44 95.2176  Z\" fill=\"#ffffff\" fill-rule=\"evenodd\" fill-opacity=\"1\"/>\n",
       "<polyline clip-path=\"url(#clip150)\" style=\"stroke:#000000; stroke-linecap:round; stroke-linejoin:round; stroke-width:4; stroke-opacity:1; fill:none\" points=\"2007.44,198.898 2279.53,198.898 2279.53,95.2176 2007.44,95.2176 2007.44,198.898 \"/>\n",
       "<polyline clip-path=\"url(#clip150)\" style=\"stroke:#009af9; stroke-linecap:round; stroke-linejoin:round; stroke-width:4; stroke-opacity:1; fill:none\" points=\"2031.85,147.058 2178.29,147.058 \"/>\n",
       "<path clip-path=\"url(#clip150)\" d=\"M2216.54 166.745 Q2214.73 171.375 2213.02 172.787 Q2211.31 174.199 2208.44 174.199 L2205.03 174.199 L2205.03 170.634 L2207.53 170.634 Q2209.29 170.634 2210.27 169.8 Q2211.24 168.967 2212.42 165.865 L2213.18 163.921 L2202.7 138.412 L2207.21 138.412 L2215.31 158.689 L2223.41 138.412 L2227.93 138.412 L2216.54 166.745 Z\" fill=\"#000000\" fill-rule=\"nonzero\" fill-opacity=\"1\" /><path clip-path=\"url(#clip150)\" d=\"M2235.22 160.402 L2242.86 160.402 L2242.86 134.037 L2234.55 135.703 L2234.55 131.444 L2242.81 129.778 L2247.49 129.778 L2247.49 160.402 L2255.13 160.402 L2255.13 164.338 L2235.22 164.338 L2235.22 160.402 Z\" fill=\"#000000\" fill-rule=\"nonzero\" fill-opacity=\"1\" /></svg>\n"
      ]
     },
     "metadata": {},
     "output_type": "display_data"
    }
   ],
   "source": [
    "using Plots;\n",
    "\n",
    "sorted_values=sorted_values./sum(sorted_values)\n",
    "plot(sorted_values[1:100])"
   ]
  },
  {
   "cell_type": "code",
   "execution_count": 255,
   "metadata": {},
   "outputs": [
    {
     "data": {
      "text/plain": [
       "(4096, 4096)"
      ]
     },
     "metadata": {},
     "output_type": "display_data"
    }
   ],
   "source": [
    "size(vectors)"
   ]
  },
  {
   "cell_type": "code",
   "execution_count": 256,
   "metadata": {},
   "outputs": [
    {
     "data": {
      "text/plain": [
       "25"
      ]
     },
     "metadata": {},
     "output_type": "display_data"
    }
   ],
   "source": [
    "num_components=25"
   ]
  },
  {
   "cell_type": "code",
   "execution_count": 257,
   "metadata": {},
   "outputs": [],
   "source": [
    "eigenfaces=vectors[:,dim*dim:-1:(dim*dim-num_components+1)];"
   ]
  },
  {
   "cell_type": "code",
   "execution_count": 258,
   "metadata": {},
   "outputs": [
    {
     "data": {
      "text/plain": [
       "(4096, 25)"
      ]
     },
     "metadata": {},
     "output_type": "display_data"
    }
   ],
   "source": [
    "size(eigenfaces)"
   ]
  },
  {
   "cell_type": "code",
   "execution_count": 267,
   "metadata": {},
   "outputs": [],
   "source": [
    "P=transpose(eigenfaces)*transpose(centered_mat);"
   ]
  },
  {
   "cell_type": "markdown",
   "metadata": {},
   "source": [
    "# Error de predicción"
   ]
  },
  {
   "cell_type": "code",
   "execution_count": 260,
   "metadata": {},
   "outputs": [
    {
     "data": {
      "image/png": "[encoded data removed]",
      "text/html": [
       "<img src=\"data:image/png;base64,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\">"
      ],
      "text/plain": [
       "64×64 Array{Gray{N0f8},2} with eltype Gray{N0f8}:\n",
       " Gray{N0f8}(0.047)  Gray{N0f8}(0.047)  …  Gray{N0f8}(0.09)\n",
       " Gray{N0f8}(0.051)  Gray{N0f8}(0.051)     Gray{N0f8}(0.094)\n",
       " Gray{N0f8}(0.063)  Gray{N0f8}(0.063)     Gray{N0f8}(0.094)\n",
       " Gray{N0f8}(0.063)  Gray{N0f8}(0.063)     Gray{N0f8}(0.09)\n",
       " Gray{N0f8}(0.059)  Gray{N0f8}(0.059)     Gray{N0f8}(0.086)\n",
       " Gray{N0f8}(0.055)  Gray{N0f8}(0.063)  …  Gray{N0f8}(0.094)\n",
       " Gray{N0f8}(0.063)  Gray{N0f8}(0.063)     Gray{N0f8}(0.094)\n",
       " Gray{N0f8}(0.063)  Gray{N0f8}(0.067)     Gray{N0f8}(0.09)\n",
       " Gray{N0f8}(0.063)  Gray{N0f8}(0.063)     Gray{N0f8}(0.09)\n",
       " Gray{N0f8}(0.063)  Gray{N0f8}(0.059)     Gray{N0f8}(0.094)\n",
       " ⋮                                     ⋱  \n",
       " Gray{N0f8}(0.078)  Gray{N0f8}(0.078)  …  Gray{N0f8}(0.094)\n",
       " Gray{N0f8}(0.086)  Gray{N0f8}(0.082)     Gray{N0f8}(0.098)\n",
       " Gray{N0f8}(0.098)  Gray{N0f8}(0.102)     Gray{N0f8}(0.094)\n",
       " Gray{N0f8}(0.114)  Gray{N0f8}(0.11)      Gray{N0f8}(0.094)\n",
       " Gray{N0f8}(0.125)  Gray{N0f8}(0.122)     Gray{N0f8}(0.078)\n",
       " Gray{N0f8}(0.133)  Gray{N0f8}(0.075)  …  Gray{N0f8}(0.035)\n",
       " Gray{N0f8}(0.059)  Gray{N0f8}(0.067)     Gray{N0f8}(0.047)\n",
       " Gray{N0f8}(0.067)  Gray{N0f8}(0.071)     Gray{N0f8}(0.035)\n",
       " Gray{N0f8}(0.078)  Gray{N0f8}(0.075)     Gray{N0f8}(0.043)"
      ]
     },
     "metadata": {},
     "output_type": "display_data"
    }
   ],
   "source": [
    "img=load(\"test.jpg\")\n",
    "img_g=Gray.(img)\n",
    "img_g=imresize(img_g,dim,dim)"
   ]
  },
  {
   "cell_type": "code",
   "execution_count": 261,
   "metadata": {},
   "outputs": [],
   "source": [
    "x_i=reshape(255*Float64.(img_g),(1,dim*dim))-mean_face\n",
    "P_i=transpose(eigenfaces)*transpose(x_i);"
   ]
  },
  {
   "cell_type": "code",
   "execution_count": 262,
   "metadata": {},
   "outputs": [
    {
     "data": {
      "text/plain": [
       "(25, 22)"
      ]
     },
     "metadata": {},
     "output_type": "display_data"
    }
   ],
   "source": [
    "size(P)"
   ]
  },
  {
   "cell_type": "code",
   "execution_count": 263,
   "metadata": {},
   "outputs": [
    {
     "name": "stdout",
     "output_type": "stream",
     "text": [
      "La persona es : clooney"
     ]
    }
   ],
   "source": [
    "dist=[]\n",
    "for i in 1:22\n",
    "    push!(dist,norm(P[:,i]-P_i))\n",
    "end\n",
    "pred=names[argmin(dist)]\n",
    "print(\"La persona es : $pred\")"
   ]
  },
  {
   "cell_type": "code",
   "execution_count": 264,
   "metadata": {},
   "outputs": [
    {
     "data": {
      "text/plain": [
       "22×4096 Matrix{Float64}:\n",
       " 205.0     206.0     207.0     208.0     …   17.0019   27.9997   28.9999\n",
       "  35.0004   36.0001   39.0001   43.0001      18.0002   20.0022   14.0\n",
       " 153.0     147.0     133.0     126.0        151.0     127.0      99.0\n",
       "  75.0      79.0001   83.0      88.0001      19.9996   14.0019    4.99988\n",
       "  69.9999   74.0      75.0001   75.0         34.0002   39.0016   21.9997\n",
       " 102.0     100.0      97.9997   95.9998  …  134.999   133.999   136.0\n",
       "  74.9999   75.0001   76.0001   75.9999     105.0     111.0     117.0\n",
       "  95.0003   97.0002   98.0001   98.0004     104.0     100.002    22.9999\n",
       " 201.0     202.0     202.0     202.0        205.001   209.0       5.99989\n",
       "  67.0001   67.0      68.0002   66.0         56.9985   68.0006  122.0\n",
       "   ⋮                                     ⋱                        ⋮\n",
       " 164.0     168.0     169.0     172.0        205.999   204.998   204.0\n",
       " 138.0     139.0     139.0     141.0        219.999   220.998   221.0\n",
       " 253.0     253.0     253.0     253.0     …   87.001    89.999    91.0\n",
       " 207.0     211.0     214.0     211.0        253.999   253.998   255.0\n",
       " 255.0     255.0     255.0     255.0         85.0019   87.9997   79.9999\n",
       "  38.0      38.0      35.9999   35.9999      64.9992   85.9987  150.0\n",
       " 121.0     120.0     121.0     119.0         66.9998   71.0024   56.0001\n",
       " 243.0     242.0     243.0     246.0     …   12.0016   12.0006   13.9999\n",
       " 126.0     120.0     133.0     140.0        111.999   128.0     125.0"
      ]
     },
     "metadata": {},
     "output_type": "display_data"
    }
   ],
   "source": [
    "R=transpose(eigenfaces*P).+mean_face"
   ]
  },
  {
   "cell_type": "code",
   "execution_count": 265,
   "metadata": {},
   "outputs": [
    {
     "data": {
      "text/plain": [
       "1×4096 Matrix{Float64}:\n",
       " 19.3948  20.5136  29.1645  18.3105  …  45.0657  7.42065  21.5123  58.2341"
      ]
     },
     "metadata": {},
     "output_type": "display_data"
    }
   ],
   "source": [
    "R_i=transpose(eigenfaces*P_i).+mean_face"
   ]
  },
  {
   "cell_type": "code",
   "execution_count": 268,
   "metadata": {},
   "outputs": [
    {
     "data": {
      "text/plain": [
       "0.02891347276806283"
      ]
     },
     "metadata": {},
     "output_type": "display_data"
    }
   ],
   "source": [
    "norm(mat-R)"
   ]
  },
  {
   "cell_type": "code",
   "execution_count": 269,
   "metadata": {},
   "outputs": [
    {
     "data": {
      "image/png": "[encoded data removed]",
      "text/html": [
       "<img src=\"data:image/png;base64,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\">"
      ],
      "text/plain": [
       "64×64 Array{Gray{Float64},2} with eltype Gray{Float64}:\n",
       " Gray{Float64}(0.519786)  Gray{Float64}(0.522816)  …  Gray{Float64}(0.548307)\n",
       " Gray{Float64}(0.523708)  Gray{Float64}(0.54385)      Gray{Float64}(0.560606)\n",
       " Gray{Float64}(0.529947)  Gray{Float64}(0.526738)     Gray{Float64}(0.562567)\n",
       " Gray{Float64}(0.521212)  Gray{Float64}(0.527451)     Gray{Float64}(0.565954)\n",
       " Gray{Float64}(0.526203)  Gray{Float64}(0.538324)     Gray{Float64}(0.563636)\n",
       " Gray{Float64}(0.522995)  Gray{Float64}(0.534225)  …  Gray{Float64}(0.542068)\n",
       " Gray{Float64}(0.52656)   Gray{Float64}(0.535472)     Gray{Float64}(0.566132)\n",
       " Gray{Float64}(0.533333)  Gray{Float64}(0.552406)     Gray{Float64}(0.581818)\n",
       " Gray{Float64}(0.538146)  Gray{Float64}(0.544742)     Gray{Float64}(0.571836)\n",
       " Gray{Float64}(0.536364)  Gray{Float64}(0.548841)     Gray{Float64}(0.563458)\n",
       " ⋮                                                 ⋱  \n",
       " Gray{Float64}(0.497504)  Gray{Float64}(0.486275)  …  Gray{Float64}(0.502674)\n",
       " Gray{Float64}(0.491444)  Gray{Float64}(0.527273)     Gray{Float64}(0.496435)\n",
       " Gray{Float64}(0.497326)  Gray{Float64}(0.47344)      Gray{Float64}(0.451337)\n",
       " Gray{Float64}(0.47861)   Gray{Float64}(0.444385)     Gray{Float64}(0.424777)\n",
       " Gray{Float64}(0.44795)   Gray{Float64}(0.430125)     Gray{Float64}(0.376649)\n",
       " Gray{Float64}(0.431551)  Gray{Float64}(0.42549)   …  Gray{Float64}(0.375758)\n",
       " Gray{Float64}(0.420856)  Gray{Float64}(0.401604)     Gray{Float64}(0.394652)\n",
       " Gray{Float64}(0.404813)  Gray{Float64}(0.409091)     Gray{Float64}(0.404635)\n",
       " Gray{Float64}(0.395009)  Gray{Float64}(0.386631)     Gray{Float64}(0.358111)"
      ]
     },
     "metadata": {},
     "output_type": "display_data"
    }
   ],
   "source": [
    "Gray.((reshape(mean_face,(dim,dim)))./255)"
   ]
  },
  {
   "cell_type": "code",
   "execution_count": 270,
   "metadata": {},
   "outputs": [
    {
     "data": {
      "image/png": "[encoded data removed]",
      "text/html": [
       "<img src=\"data:image/png;base64,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\">"
      ],
      "text/plain": [
       "64×64 Array{Gray{Float64},2} with eltype Gray{Float64}:\n",
       " Gray{Float64}(0.0760582)  …  Gray{Float64}(0.103088)\n",
       " Gray{Float64}(0.0804456)     Gray{Float64}(0.111273)\n",
       " Gray{Float64}(0.114371)      Gray{Float64}(0.10981)\n",
       " Gray{Float64}(0.0718058)     Gray{Float64}(0.111686)\n",
       " Gray{Float64}(0.082458)      Gray{Float64}(0.114872)\n",
       " Gray{Float64}(0.0809637)  …  Gray{Float64}(0.111981)\n",
       " Gray{Float64}(0.1074)        Gray{Float64}(0.149572)\n",
       " Gray{Float64}(0.0959277)     Gray{Float64}(0.162367)\n",
       " Gray{Float64}(0.107708)      Gray{Float64}(0.169373)\n",
       " Gray{Float64}(0.104358)      Gray{Float64}(0.174436)\n",
       " ⋮                         ⋱  \n",
       " Gray{Float64}(0.0769119)  …  Gray{Float64}(0.109264)\n",
       " Gray{Float64}(0.0862354)     Gray{Float64}(0.158112)\n",
       " Gray{Float64}(0.151364)      Gray{Float64}(0.0984909)\n",
       " Gray{Float64}(0.248878)      Gray{Float64}(0.101552)\n",
       " Gray{Float64}(0.28003)       Gray{Float64}(0.213279)\n",
       " Gray{Float64}(0.248379)   …  Gray{Float64}(0.176728)\n",
       " Gray{Float64}(0.227188)      Gray{Float64}(0.0291006)\n",
       " Gray{Float64}(0.221793)      Gray{Float64}(0.0843619)\n",
       " Gray{Float64}(0.196854)      Gray{Float64}(0.228369)"
      ]
     },
     "metadata": {},
     "output_type": "display_data"
    }
   ],
   "source": [
    "Gray.((reshape(R_i,(dim,dim)))./255)"
   ]
  }
 ],
 "metadata": {
  "kernelspec": {
   "display_name": "Julia 1.9.2",
   "language": "julia",
   "name": "julia-1.9"
  },
  "language_info": {
   "file_extension": ".jl",
   "mimetype": "application/julia",
   "name": "julia",
   "version": "1.9.2"
  },
  "orig_nbformat": 4
 },
 "nbformat": 4,
 "nbformat_minor": 2
}
