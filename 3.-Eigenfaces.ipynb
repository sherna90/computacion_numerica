{
 "cells": [
  {
   "cell_type": "markdown",
   "metadata": {},
   "source": [
    "# Algoritmo PCA\n",
    "\n",
    "El algoritmo PCA (Análisis de Componentes Principales) permite encontrar una representación de baja dimensionalidad $\\mathbf{y_i}$ que explica la varianza de los datos originales $\\mathbf{x_i}$. \n",
    "\n",
    "\\begin{align*}\n",
    "\\mathbf{y_i}=U^T (\\mathbf{x_i}-\\mu)\\\\\n",
    "\\tilde{\\mathbf{x_i}}=U \\mathbf{y_i} +\\mu\n",
    "\\end{align*}"
   ]
  },
  {
   "cell_type": "code",
   "execution_count": 317,
   "metadata": {},
   "outputs": [
    {
     "data": {
      "text/plain": [
       "2.5979517653630966"
      ]
     },
     "metadata": {},
     "output_type": "display_data"
    }
   ],
   "source": [
    "using LinearAlgebra; \n",
    "using MultivariateStats;\n",
    "using Statistics;\n",
    "\n",
    "X=[ 7  4  3;\n",
    "    4  1  8; \n",
    "    6  3  5;\n",
    "    8  6  1;\n",
    "    8  5  7;\n",
    "    7  2  9;\n",
    "    5  3  3;\n",
    "    9  5  8;\n",
    "    7  4  5;\n",
    "    8  2  2];\n",
    "μ=mean!([1. 1. 1.],X)\n",
    "σ=sqrt.(sum(X_m.^2,dims=1))\n",
    "X_m=(X.-μ)\n",
    "M = fit(PCA, transpose(X_m),maxoutdim=2)\n",
    "Yte = transform(M, transpose(X_m))\n",
    "X_r=transpose(reconstruct(M, Yte)).+μ\n",
    "E=norm(X-X_r)"
   ]
  },
  {
   "cell_type": "code",
   "execution_count": 318,
   "metadata": {},
   "outputs": [
    {
     "data": {
      "text/plain": [
       "PCA(indim = 3, outdim = 2, principalratio = 0.9409505391500154)\n",
       "\n",
       "Pattern matrix (unstandardized loadings):\n",
       "──────────────────────\n",
       "         PC1       PC2\n",
       "──────────────────────\n",
       "1  -0.395715  1.34028\n",
       "2  -0.720434  1.26714\n",
       "3   2.75651   0.523582\n",
       "──────────────────────\n",
       "\n",
       "Importance of components:\n",
       "─────────────────────────────────────────────\n",
       "                                PC1       PC2\n",
       "─────────────────────────────────────────────\n",
       "SS Loadings (Eigenvalues)  8.27394   3.67613\n",
       "Variance explained         0.651492  0.289459\n",
       "Cumulative variance        0.651492  0.940951\n",
       "Proportion explained       0.692376  0.307624\n",
       "Cumulative proportion      0.692376  1.0\n",
       "─────────────────────────────────────────────"
      ]
     },
     "metadata": {},
     "output_type": "display_data"
    }
   ],
   "source": [
    "M"
   ]
  },
  {
   "cell_type": "code",
   "execution_count": 319,
   "metadata": {},
   "outputs": [
    {
     "data": {
      "text/plain": [
       "10×3 Matrix{Float64}:\n",
       " 7.07496  3.92443   2.99101\n",
       " 4.35819  0.638889  7.95704\n",
       " 6.18905  2.8094    4.97733\n",
       " 8.4573   5.53896   0.945154\n",
       " 8.31521  4.68222   6.9622\n",
       " 6.43642  2.56818   9.06759\n",
       " 5.56336  2.43204   2.93243\n",
       " 8.88185  5.11912   8.01417\n",
       " 7.19307  3.80535   4.97684\n",
       " 6.53059  3.48141   2.17623"
      ]
     },
     "metadata": {},
     "output_type": "display_data"
    }
   ],
   "source": [
    "X_r"
   ]
  },
  {
   "cell_type": "code",
   "execution_count": 343,
   "metadata": {},
   "outputs": [],
   "source": [
    "values,vectors=eigen(cov(X_m));"
   ]
  },
  {
   "cell_type": "code",
   "execution_count": 357,
   "metadata": {},
   "outputs": [
    {
     "data": {
      "text/plain": [
       "(10, 3)"
      ]
     },
     "metadata": {},
     "output_type": "display_data"
    }
   ],
   "source": [
    "size(X_m)"
   ]
  },
  {
   "cell_type": "code",
   "execution_count": 345,
   "metadata": {},
   "outputs": [
    {
     "data": {
      "text/plain": [
       "3×2 Matrix{Float64}:\n",
       " -0.395715  1.34028\n",
       " -0.720434  1.26714\n",
       "  2.75651   0.523582"
      ]
     },
     "metadata": {},
     "output_type": "display_data"
    }
   ],
   "source": [
    "U=[vectors[:,3] vectors[:,2]]\n",
    "V=sort(values[2:3],rev=true)\n",
    "U_s=sqrt.(V)'.*U"
   ]
  },
  {
   "cell_type": "code",
   "execution_count": 346,
   "metadata": {},
   "outputs": [
    {
     "name": "stdout",
     "output_type": "stream",
     "text": [
      "Proportion explained : [0.6923759694669046, 0.3076240305330955]"
     ]
    }
   ],
   "source": [
    "imp=V./sum(V)\n",
    "print(\"Proportion explained : $imp\")"
   ]
  },
  {
   "cell_type": "code",
   "execution_count": 349,
   "metadata": {},
   "outputs": [
    {
     "data": {
      "text/plain": [
       "10×3 Matrix{Float64}:\n",
       " 7.07496  3.92443   2.99101\n",
       " 4.35819  0.638889  7.95704\n",
       " 6.18905  2.8094    4.97733\n",
       " 8.4573   5.53896   0.945154\n",
       " 8.31521  4.68222   6.9622\n",
       " 6.43642  2.56818   9.06759\n",
       " 5.56336  2.43204   2.93243\n",
       " 8.88185  5.11912   8.01417\n",
       " 7.19307  3.80535   4.97684\n",
       " 6.53059  3.48141   2.17623"
      ]
     },
     "metadata": {},
     "output_type": "display_data"
    }
   ],
   "source": [
    "Y_t=transpose(U)*transpose(X_m)\n",
    "X_r2=transpose(U*Y_t).+μ"
   ]
  },
  {
   "cell_type": "code",
   "execution_count": 382,
   "metadata": {},
   "outputs": [
    {
     "data": {
      "text/plain": [
       "2×3 transpose(::Matrix{Float64}) with eltype Float64:\n",
       " -0.137571  -0.25046   0.958303\n",
       "  0.699037   0.660889  0.27308"
      ]
     },
     "metadata": {},
     "output_type": "display_data"
    }
   ],
   "source": [
    "transpose(U)"
   ]
  },
  {
   "cell_type": "code",
   "execution_count": 350,
   "metadata": {},
   "outputs": [
    {
     "data": {
      "image/png": "[encoded data removed]",
      "image/svg+xml": [
       "<?xml version=\"1.0\" encoding=\"utf-8\"?>\n",
       "<svg xmlns=\"http://www.w3.org/2000/svg\" xmlns:xlink=\"http://www.w3.org/1999/xlink\" width=\"600\" height=\"400\" viewBox=\"0 0 2400 1600\">\n",
       "<defs>\n",
       "  <clipPath id=\"clip490\">\n",
       "    <rect x=\"0\" y=\"0\" width=\"2400\" height=\"1600\"/>\n",
       "  </clipPath>\n",
       "</defs>\n",
       "<path clip-path=\"url(#clip490)\" d=\"M0 1600 L2400 1600 L2400 0 L0 0  Z\" fill=\"#ffffff\" fill-rule=\"evenodd\" fill-opacity=\"1\"/>\n",
       "<defs>\n",
       "  <clipPath id=\"clip491\">\n",
       "    <rect x=\"480\" y=\"0\" width=\"1681\" height=\"1600\"/>\n",
       "  </clipPath>\n",
       "</defs>\n",
       "<path clip-path=\"url(#clip490)\" d=\"M112.177 1486.45 L2352.76 1486.45 L2352.76 47.2441 L112.177 47.2441  Z\" fill=\"#ffffff\" fill-rule=\"evenodd\" fill-opacity=\"1\"/>\n",
       "<defs>\n",
       "  <clipPath id=\"clip492\">\n",
       "    <rect x=\"112\" y=\"47\" width=\"2242\" height=\"1440\"/>\n",
       "  </clipPath>\n",
       "</defs>\n",
       "<polyline clip-path=\"url(#clip492)\" style=\"stroke:#000000; stroke-linecap:round; stroke-linejoin:round; stroke-width:2; stroke-opacity:0.1; fill:none\" points=\"175.59,1486.45 175.59,47.2441 \"/>\n",
       "<polyline clip-path=\"url(#clip492)\" style=\"stroke:#000000; stroke-linecap:round; stroke-linejoin:round; stroke-width:2; stroke-opacity:0.1; fill:none\" points=\"704.028,1486.45 704.028,47.2441 \"/>\n",
       "<polyline clip-path=\"url(#clip492)\" style=\"stroke:#000000; stroke-linecap:round; stroke-linejoin:round; stroke-width:2; stroke-opacity:0.1; fill:none\" points=\"1232.47,1486.45 1232.47,47.2441 \"/>\n",
       "<polyline clip-path=\"url(#clip492)\" style=\"stroke:#000000; stroke-linecap:round; stroke-linejoin:round; stroke-width:2; stroke-opacity:0.1; fill:none\" points=\"1760.9,1486.45 1760.9,47.2441 \"/>\n",
       "<polyline clip-path=\"url(#clip492)\" style=\"stroke:#000000; stroke-linecap:round; stroke-linejoin:round; stroke-width:2; stroke-opacity:0.1; fill:none\" points=\"2289.34,1486.45 2289.34,47.2441 \"/>\n",
       "<polyline clip-path=\"url(#clip490)\" style=\"stroke:#000000; stroke-linecap:round; stroke-linejoin:round; stroke-width:4; stroke-opacity:1; fill:none\" points=\"112.177,1486.45 2352.76,1486.45 \"/>\n",
       "<polyline clip-path=\"url(#clip490)\" style=\"stroke:#000000; stroke-linecap:round; stroke-linejoin:round; stroke-width:4; stroke-opacity:1; fill:none\" points=\"175.59,1486.45 175.59,1467.55 \"/>\n",
       "<polyline clip-path=\"url(#clip490)\" style=\"stroke:#000000; stroke-linecap:round; stroke-linejoin:round; stroke-width:4; stroke-opacity:1; fill:none\" points=\"704.028,1486.45 704.028,1467.55 \"/>\n",
       "<polyline clip-path=\"url(#clip490)\" style=\"stroke:#000000; stroke-linecap:round; stroke-linejoin:round; stroke-width:4; stroke-opacity:1; fill:none\" points=\"1232.47,1486.45 1232.47,1467.55 \"/>\n",
       "<polyline clip-path=\"url(#clip490)\" style=\"stroke:#000000; stroke-linecap:round; stroke-linejoin:round; stroke-width:4; stroke-opacity:1; fill:none\" points=\"1760.9,1486.45 1760.9,1467.55 \"/>\n",
       "<polyline clip-path=\"url(#clip490)\" style=\"stroke:#000000; stroke-linecap:round; stroke-linejoin:round; stroke-width:4; stroke-opacity:1; fill:none\" points=\"2289.34,1486.45 2289.34,1467.55 \"/>\n",
       "<path clip-path=\"url(#clip490)\" d=\"M142.743 1544.91 L150.382 1544.91 L150.382 1518.55 L142.071 1520.21 L142.071 1515.95 L150.335 1514.29 L155.011 1514.29 L155.011 1544.91 L162.65 1544.91 L162.65 1548.85 L142.743 1548.85 L142.743 1544.91 Z\" fill=\"#000000\" fill-rule=\"nonzero\" fill-opacity=\"1\" /><path clip-path=\"url(#clip490)\" d=\"M172.094 1542.97 L176.979 1542.97 L176.979 1548.85 L172.094 1548.85 L172.094 1542.97 Z\" fill=\"#000000\" fill-rule=\"nonzero\" fill-opacity=\"1\" /><path clip-path=\"url(#clip490)\" d=\"M197.164 1517.37 Q193.553 1517.37 191.724 1520.93 Q189.918 1524.47 189.918 1531.6 Q189.918 1538.71 191.724 1542.27 Q193.553 1545.82 197.164 1545.82 Q200.798 1545.82 202.604 1542.27 Q204.432 1538.71 204.432 1531.6 Q204.432 1524.47 202.604 1520.93 Q200.798 1517.37 197.164 1517.37 M197.164 1513.66 Q202.974 1513.66 206.029 1518.27 Q209.108 1522.85 209.108 1531.6 Q209.108 1540.33 206.029 1544.94 Q202.974 1549.52 197.164 1549.52 Q191.354 1549.52 188.275 1544.94 Q185.219 1540.33 185.219 1531.6 Q185.219 1522.85 188.275 1518.27 Q191.354 1513.66 197.164 1513.66 Z\" fill=\"#000000\" fill-rule=\"nonzero\" fill-opacity=\"1\" /><path clip-path=\"url(#clip490)\" d=\"M671.679 1544.91 L679.318 1544.91 L679.318 1518.55 L671.008 1520.21 L671.008 1515.95 L679.271 1514.29 L683.947 1514.29 L683.947 1544.91 L691.586 1544.91 L691.586 1548.85 L671.679 1548.85 L671.679 1544.91 Z\" fill=\"#000000\" fill-rule=\"nonzero\" fill-opacity=\"1\" /><path clip-path=\"url(#clip490)\" d=\"M701.03 1542.97 L705.915 1542.97 L705.915 1548.85 L701.03 1548.85 L701.03 1542.97 Z\" fill=\"#000000\" fill-rule=\"nonzero\" fill-opacity=\"1\" /><path clip-path=\"url(#clip490)\" d=\"M716.146 1514.29 L734.503 1514.29 L734.503 1518.22 L720.429 1518.22 L720.429 1526.7 Q721.447 1526.35 722.466 1526.19 Q723.484 1526 724.503 1526 Q730.29 1526 733.669 1529.17 Q737.049 1532.34 737.049 1537.76 Q737.049 1543.34 733.577 1546.44 Q730.104 1549.52 723.785 1549.52 Q721.609 1549.52 719.341 1549.15 Q717.095 1548.78 714.688 1548.04 L714.688 1543.34 Q716.771 1544.47 718.993 1545.03 Q721.216 1545.58 723.692 1545.58 Q727.697 1545.58 730.035 1543.48 Q732.373 1541.37 732.373 1537.76 Q732.373 1534.15 730.035 1532.04 Q727.697 1529.94 723.692 1529.94 Q721.817 1529.94 719.942 1530.35 Q718.091 1530.77 716.146 1531.65 L716.146 1514.29 Z\" fill=\"#000000\" fill-rule=\"nonzero\" fill-opacity=\"1\" /><path clip-path=\"url(#clip490)\" d=\"M1203.71 1544.91 L1220.02 1544.91 L1220.02 1548.85 L1198.08 1548.85 L1198.08 1544.91 Q1200.74 1542.16 1205.33 1537.53 Q1209.93 1532.88 1211.11 1531.53 Q1213.36 1529.01 1214.24 1527.27 Q1215.14 1525.51 1215.14 1523.82 Q1215.14 1521.07 1213.2 1519.33 Q1211.27 1517.6 1208.17 1517.6 Q1205.97 1517.6 1203.52 1518.36 Q1201.09 1519.13 1198.31 1520.68 L1198.31 1515.95 Q1201.14 1514.82 1203.59 1514.24 Q1206.04 1513.66 1208.08 1513.66 Q1213.45 1513.66 1216.64 1516.35 Q1219.84 1519.03 1219.84 1523.52 Q1219.84 1525.65 1219.03 1527.57 Q1218.24 1529.47 1216.14 1532.07 Q1215.56 1532.74 1212.46 1535.95 Q1209.35 1539.15 1203.71 1544.91 Z\" fill=\"#000000\" fill-rule=\"nonzero\" fill-opacity=\"1\" /><path clip-path=\"url(#clip490)\" d=\"M1229.84 1542.97 L1234.72 1542.97 L1234.72 1548.85 L1229.84 1548.85 L1229.84 1542.97 Z\" fill=\"#000000\" fill-rule=\"nonzero\" fill-opacity=\"1\" /><path clip-path=\"url(#clip490)\" d=\"M1254.91 1517.37 Q1251.3 1517.37 1249.47 1520.93 Q1247.66 1524.47 1247.66 1531.6 Q1247.66 1538.71 1249.47 1542.27 Q1251.3 1545.82 1254.91 1545.82 Q1258.54 1545.82 1260.35 1542.27 Q1262.18 1538.71 1262.18 1531.6 Q1262.18 1524.47 1260.35 1520.93 Q1258.54 1517.37 1254.91 1517.37 M1254.91 1513.66 Q1260.72 1513.66 1263.77 1518.27 Q1266.85 1522.85 1266.85 1531.6 Q1266.85 1540.33 1263.77 1544.94 Q1260.72 1549.52 1254.91 1549.52 Q1249.1 1549.52 1246.02 1544.94 Q1242.96 1540.33 1242.96 1531.6 Q1242.96 1522.85 1246.02 1518.27 Q1249.1 1513.66 1254.91 1513.66 Z\" fill=\"#000000\" fill-rule=\"nonzero\" fill-opacity=\"1\" /><path clip-path=\"url(#clip490)\" d=\"M1732.64 1544.91 L1748.96 1544.91 L1748.96 1548.85 L1727.02 1548.85 L1727.02 1544.91 Q1729.68 1542.16 1734.26 1537.53 Q1738.87 1532.88 1740.05 1531.53 Q1742.29 1529.01 1743.17 1527.27 Q1744.08 1525.51 1744.08 1523.82 Q1744.08 1521.07 1742.13 1519.33 Q1740.21 1517.6 1737.11 1517.6 Q1734.91 1517.6 1732.46 1518.36 Q1730.03 1519.13 1727.25 1520.68 L1727.25 1515.95 Q1730.07 1514.82 1732.53 1514.24 Q1734.98 1513.66 1737.02 1513.66 Q1742.39 1513.66 1745.58 1516.35 Q1748.78 1519.03 1748.78 1523.52 Q1748.78 1525.65 1747.97 1527.57 Q1747.18 1529.47 1745.07 1532.07 Q1744.49 1532.74 1741.39 1535.95 Q1738.29 1539.15 1732.64 1544.91 Z\" fill=\"#000000\" fill-rule=\"nonzero\" fill-opacity=\"1\" /><path clip-path=\"url(#clip490)\" d=\"M1758.78 1542.97 L1763.66 1542.97 L1763.66 1548.85 L1758.78 1548.85 L1758.78 1542.97 Z\" fill=\"#000000\" fill-rule=\"nonzero\" fill-opacity=\"1\" /><path clip-path=\"url(#clip490)\" d=\"M1773.89 1514.29 L1792.25 1514.29 L1792.25 1518.22 L1778.17 1518.22 L1778.17 1526.7 Q1779.19 1526.35 1780.21 1526.19 Q1781.23 1526 1782.25 1526 Q1788.03 1526 1791.41 1529.17 Q1794.79 1532.34 1794.79 1537.76 Q1794.79 1543.34 1791.32 1546.44 Q1787.85 1549.52 1781.53 1549.52 Q1779.35 1549.52 1777.09 1549.15 Q1774.84 1548.78 1772.43 1548.04 L1772.43 1543.34 Q1774.52 1544.47 1776.74 1545.03 Q1778.96 1545.58 1781.44 1545.58 Q1785.44 1545.58 1787.78 1543.48 Q1790.12 1541.37 1790.12 1537.76 Q1790.12 1534.15 1787.78 1532.04 Q1785.44 1529.94 1781.44 1529.94 Q1779.56 1529.94 1777.69 1530.35 Q1775.84 1530.77 1773.89 1531.65 L1773.89 1514.29 Z\" fill=\"#000000\" fill-rule=\"nonzero\" fill-opacity=\"1\" /><path clip-path=\"url(#clip490)\" d=\"M2270.65 1530.21 Q2274.01 1530.93 2275.88 1533.2 Q2277.78 1535.47 2277.78 1538.8 Q2277.78 1543.92 2274.26 1546.72 Q2270.74 1549.52 2264.26 1549.52 Q2262.09 1549.52 2259.77 1549.08 Q2257.48 1548.66 2255.03 1547.81 L2255.03 1543.29 Q2256.97 1544.43 2259.29 1545.01 Q2261.6 1545.58 2264.12 1545.58 Q2268.52 1545.58 2270.81 1543.85 Q2273.13 1542.11 2273.13 1538.8 Q2273.13 1535.75 2270.98 1534.03 Q2268.85 1532.3 2265.03 1532.3 L2261 1532.3 L2261 1528.45 L2265.21 1528.45 Q2268.66 1528.45 2270.49 1527.09 Q2272.32 1525.7 2272.32 1523.11 Q2272.32 1520.45 2270.42 1519.03 Q2268.54 1517.6 2265.03 1517.6 Q2263.11 1517.6 2260.91 1518.01 Q2258.71 1518.43 2256.07 1519.31 L2256.07 1515.14 Q2258.73 1514.4 2261.04 1514.03 Q2263.38 1513.66 2265.44 1513.66 Q2270.77 1513.66 2273.87 1516.09 Q2276.97 1518.5 2276.97 1522.62 Q2276.97 1525.49 2275.33 1527.48 Q2273.68 1529.45 2270.65 1530.21 Z\" fill=\"#000000\" fill-rule=\"nonzero\" fill-opacity=\"1\" /><path clip-path=\"url(#clip490)\" d=\"M2286.65 1542.97 L2291.53 1542.97 L2291.53 1548.85 L2286.65 1548.85 L2286.65 1542.97 Z\" fill=\"#000000\" fill-rule=\"nonzero\" fill-opacity=\"1\" /><path clip-path=\"url(#clip490)\" d=\"M2311.72 1517.37 Q2308.1 1517.37 2306.28 1520.93 Q2304.47 1524.47 2304.47 1531.6 Q2304.47 1538.71 2306.28 1542.27 Q2308.1 1545.82 2311.72 1545.82 Q2315.35 1545.82 2317.16 1542.27 Q2318.98 1538.71 2318.98 1531.6 Q2318.98 1524.47 2317.16 1520.93 Q2315.35 1517.37 2311.72 1517.37 M2311.72 1513.66 Q2317.53 1513.66 2320.58 1518.27 Q2323.66 1522.85 2323.66 1531.6 Q2323.66 1540.33 2320.58 1544.94 Q2317.53 1549.52 2311.72 1549.52 Q2305.91 1549.52 2302.83 1544.94 Q2299.77 1540.33 2299.77 1531.6 Q2299.77 1522.85 2302.83 1518.27 Q2305.91 1513.66 2311.72 1513.66 Z\" fill=\"#000000\" fill-rule=\"nonzero\" fill-opacity=\"1\" /><polyline clip-path=\"url(#clip492)\" style=\"stroke:#000000; stroke-linecap:round; stroke-linejoin:round; stroke-width:2; stroke-opacity:0.1; fill:none\" points=\"112.177,1220.14 2352.76,1220.14 \"/>\n",
       "<polyline clip-path=\"url(#clip492)\" style=\"stroke:#000000; stroke-linecap:round; stroke-linejoin:round; stroke-width:2; stroke-opacity:0.1; fill:none\" points=\"112.177,859.227 2352.76,859.227 \"/>\n",
       "<polyline clip-path=\"url(#clip492)\" style=\"stroke:#000000; stroke-linecap:round; stroke-linejoin:round; stroke-width:2; stroke-opacity:0.1; fill:none\" points=\"112.177,498.319 2352.76,498.319 \"/>\n",
       "<polyline clip-path=\"url(#clip492)\" style=\"stroke:#000000; stroke-linecap:round; stroke-linejoin:round; stroke-width:2; stroke-opacity:0.1; fill:none\" points=\"112.177,137.41 2352.76,137.41 \"/>\n",
       "<polyline clip-path=\"url(#clip490)\" style=\"stroke:#000000; stroke-linecap:round; stroke-linejoin:round; stroke-width:4; stroke-opacity:1; fill:none\" points=\"112.177,1486.45 112.177,47.2441 \"/>\n",
       "<polyline clip-path=\"url(#clip490)\" style=\"stroke:#000000; stroke-linecap:round; stroke-linejoin:round; stroke-width:4; stroke-opacity:1; fill:none\" points=\"112.177,1220.14 131.075,1220.14 \"/>\n",
       "<polyline clip-path=\"url(#clip490)\" style=\"stroke:#000000; stroke-linecap:round; stroke-linejoin:round; stroke-width:4; stroke-opacity:1; fill:none\" points=\"112.177,859.227 131.075,859.227 \"/>\n",
       "<polyline clip-path=\"url(#clip490)\" style=\"stroke:#000000; stroke-linecap:round; stroke-linejoin:round; stroke-width:4; stroke-opacity:1; fill:none\" points=\"112.177,498.319 131.075,498.319 \"/>\n",
       "<polyline clip-path=\"url(#clip490)\" style=\"stroke:#000000; stroke-linecap:round; stroke-linejoin:round; stroke-width:4; stroke-opacity:1; fill:none\" points=\"112.177,137.41 131.075,137.41 \"/>\n",
       "<path clip-path=\"url(#clip490)\" d=\"M59.8578 1233.48 L76.1772 1233.48 L76.1772 1237.42 L54.2328 1237.42 L54.2328 1233.48 Q56.8949 1230.73 61.4782 1226.1 Q66.0846 1221.44 67.2652 1220.1 Q69.5105 1217.58 70.3902 1215.84 Q71.2929 1214.08 71.2929 1212.39 Q71.2929 1209.64 69.3485 1207.9 Q67.4272 1206.17 64.3254 1206.17 Q62.1263 1206.17 59.6726 1206.93 Q57.2421 1207.69 54.4643 1209.24 L54.4643 1204.52 Q57.2884 1203.39 59.7421 1202.81 Q62.1958 1202.23 64.2328 1202.23 Q69.6031 1202.23 72.7976 1204.92 Q75.992 1207.6 75.992 1212.09 Q75.992 1214.22 75.1818 1216.14 Q74.3948 1218.04 72.2883 1220.63 Q71.7096 1221.3 68.6078 1224.52 Q65.5059 1227.72 59.8578 1233.48 Z\" fill=\"#000000\" fill-rule=\"nonzero\" fill-opacity=\"1\" /><path clip-path=\"url(#clip490)\" d=\"M66.5939 846.021 L54.7884 864.47 L66.5939 864.47 L66.5939 846.021 M65.367 841.947 L71.2466 841.947 L71.2466 864.47 L76.1772 864.47 L76.1772 868.359 L71.2466 868.359 L71.2466 876.507 L66.5939 876.507 L66.5939 868.359 L50.9921 868.359 L50.9921 863.845 L65.367 841.947 Z\" fill=\"#000000\" fill-rule=\"nonzero\" fill-opacity=\"1\" /><path clip-path=\"url(#clip490)\" d=\"M64.6495 496.455 Q61.5013 496.455 59.6495 498.608 Q57.8208 500.761 57.8208 504.511 Q57.8208 508.238 59.6495 510.413 Q61.5013 512.566 64.6495 512.566 Q67.7976 512.566 69.6263 510.413 Q71.4781 508.238 71.4781 504.511 Q71.4781 500.761 69.6263 498.608 Q67.7976 496.455 64.6495 496.455 M73.9318 481.802 L73.9318 486.062 Q72.1726 485.228 70.367 484.789 Q68.5846 484.349 66.8254 484.349 Q62.1958 484.349 59.7421 487.474 Q57.3115 490.599 56.9643 496.918 Q58.33 494.904 60.3902 493.839 Q62.4504 492.751 64.9272 492.751 Q70.1355 492.751 73.1448 495.923 Q76.1772 499.071 76.1772 504.511 Q76.1772 509.835 73.029 513.052 Q69.8809 516.27 64.6495 516.27 Q58.6541 516.27 55.4828 511.687 Q52.3116 507.08 52.3116 498.353 Q52.3116 490.159 56.2004 485.298 Q60.0893 480.414 66.6402 480.414 Q68.3994 480.414 70.1818 480.761 Q71.9874 481.108 73.9318 481.802 Z\" fill=\"#000000\" fill-rule=\"nonzero\" fill-opacity=\"1\" /><path clip-path=\"url(#clip490)\" d=\"M64.3254 138.278 Q60.9921 138.278 59.0708 140.061 Q57.1726 141.843 57.1726 144.968 Q57.1726 148.093 59.0708 149.876 Q60.9921 151.658 64.3254 151.658 Q67.6587 151.658 69.58 149.876 Q71.5013 148.07 71.5013 144.968 Q71.5013 141.843 69.58 140.061 Q67.6819 138.278 64.3254 138.278 M59.6495 136.288 Q56.6402 135.547 54.9504 133.487 Q53.2838 131.427 53.2838 128.464 Q53.2838 124.32 56.2236 121.913 Q59.1865 119.505 64.3254 119.505 Q69.4874 119.505 72.4272 121.913 Q75.367 124.32 75.367 128.464 Q75.367 131.427 73.6772 133.487 Q72.0105 135.547 69.0244 136.288 Q72.404 137.075 74.279 139.366 Q76.1772 141.658 76.1772 144.968 Q76.1772 149.991 73.0985 152.676 Q70.0429 155.362 64.3254 155.362 Q58.6078 155.362 55.5291 152.676 Q52.4736 149.991 52.4736 144.968 Q52.4736 141.658 54.3717 139.366 Q56.2699 137.075 59.6495 136.288 M57.9365 128.903 Q57.9365 131.589 59.6032 133.093 Q61.293 134.598 64.3254 134.598 Q67.3346 134.598 69.0244 133.093 Q70.7374 131.589 70.7374 128.903 Q70.7374 126.218 69.0244 124.714 Q67.3346 123.209 64.3254 123.209 Q61.293 123.209 59.6032 124.714 Q57.9365 126.218 57.9365 128.903 Z\" fill=\"#000000\" fill-rule=\"nonzero\" fill-opacity=\"1\" /><polyline clip-path=\"url(#clip492)\" style=\"stroke:#009af9; stroke-linecap:round; stroke-linejoin:round; stroke-width:4; stroke-opacity:1; fill:none\" points=\"175.59,87.9763 1232.47,917.671 2289.34,1445.72 \"/>\n",
       "<path clip-path=\"url(#clip490)\" d=\"M2001.58 198.898 L2278.07 198.898 L2278.07 95.2176 L2001.58 95.2176  Z\" fill=\"#ffffff\" fill-rule=\"evenodd\" fill-opacity=\"1\"/>\n",
       "<polyline clip-path=\"url(#clip490)\" style=\"stroke:#000000; stroke-linecap:round; stroke-linejoin:round; stroke-width:4; stroke-opacity:1; fill:none\" points=\"2001.58,198.898 2278.07,198.898 2278.07,95.2176 2001.58,95.2176 2001.58,198.898 \"/>\n",
       "<polyline clip-path=\"url(#clip490)\" style=\"stroke:#009af9; stroke-linecap:round; stroke-linejoin:round; stroke-width:4; stroke-opacity:1; fill:none\" points=\"2026.48,147.058 2175.85,147.058 \"/>\n",
       "<path clip-path=\"url(#clip490)\" d=\"M2214.59 166.745 Q2212.78 171.375 2211.07 172.787 Q2209.36 174.199 2206.49 174.199 L2203.08 174.199 L2203.08 170.634 L2205.58 170.634 Q2207.34 170.634 2208.31 169.8 Q2209.29 168.967 2210.47 165.865 L2211.23 163.921 L2200.74 138.412 L2205.26 138.412 L2213.36 158.689 L2221.46 138.412 L2225.98 138.412 L2214.59 166.745 Z\" fill=\"#000000\" fill-rule=\"nonzero\" fill-opacity=\"1\" /><path clip-path=\"url(#clip490)\" d=\"M2233.27 160.402 L2240.91 160.402 L2240.91 134.037 L2232.6 135.703 L2232.6 131.444 L2240.86 129.778 L2245.54 129.778 L2245.54 160.402 L2253.17 160.402 L2253.17 164.338 L2233.27 164.338 L2233.27 160.402 Z\" fill=\"#000000\" fill-rule=\"nonzero\" fill-opacity=\"1\" /></svg>\n"
      ],
      "text/html": [
       "<?xml version=\"1.0\" encoding=\"utf-8\"?>\n",
       "<svg xmlns=\"http://www.w3.org/2000/svg\" xmlns:xlink=\"http://www.w3.org/1999/xlink\" width=\"600\" height=\"400\" viewBox=\"0 0 2400 1600\">\n",
       "<defs>\n",
       "  <clipPath id=\"clip540\">\n",
       "    <rect x=\"0\" y=\"0\" width=\"2400\" height=\"1600\"/>\n",
       "  </clipPath>\n",
       "</defs>\n",
       "<path clip-path=\"url(#clip540)\" d=\"M0 1600 L2400 1600 L2400 0 L0 0  Z\" fill=\"#ffffff\" fill-rule=\"evenodd\" fill-opacity=\"1\"/>\n",
       "<defs>\n",
       "  <clipPath id=\"clip541\">\n",
       "    <rect x=\"480\" y=\"0\" width=\"1681\" height=\"1600\"/>\n",
       "  </clipPath>\n",
       "</defs>\n",
       "<path clip-path=\"url(#clip540)\" d=\"M112.177 1486.45 L2352.76 1486.45 L2352.76 47.2441 L112.177 47.2441  Z\" fill=\"#ffffff\" fill-rule=\"evenodd\" fill-opacity=\"1\"/>\n",
       "<defs>\n",
       "  <clipPath id=\"clip542\">\n",
       "    <rect x=\"112\" y=\"47\" width=\"2242\" height=\"1440\"/>\n",
       "  </clipPath>\n",
       "</defs>\n",
       "<polyline clip-path=\"url(#clip542)\" style=\"stroke:#000000; stroke-linecap:round; stroke-linejoin:round; stroke-width:2; stroke-opacity:0.1; fill:none\" points=\"175.59,1486.45 175.59,47.2441 \"/>\n",
       "<polyline clip-path=\"url(#clip542)\" style=\"stroke:#000000; stroke-linecap:round; stroke-linejoin:round; stroke-width:2; stroke-opacity:0.1; fill:none\" points=\"704.028,1486.45 704.028,47.2441 \"/>\n",
       "<polyline clip-path=\"url(#clip542)\" style=\"stroke:#000000; stroke-linecap:round; stroke-linejoin:round; stroke-width:2; stroke-opacity:0.1; fill:none\" points=\"1232.47,1486.45 1232.47,47.2441 \"/>\n",
       "<polyline clip-path=\"url(#clip542)\" style=\"stroke:#000000; stroke-linecap:round; stroke-linejoin:round; stroke-width:2; stroke-opacity:0.1; fill:none\" points=\"1760.9,1486.45 1760.9,47.2441 \"/>\n",
       "<polyline clip-path=\"url(#clip542)\" style=\"stroke:#000000; stroke-linecap:round; stroke-linejoin:round; stroke-width:2; stroke-opacity:0.1; fill:none\" points=\"2289.34,1486.45 2289.34,47.2441 \"/>\n",
       "<polyline clip-path=\"url(#clip540)\" style=\"stroke:#000000; stroke-linecap:round; stroke-linejoin:round; stroke-width:4; stroke-opacity:1; fill:none\" points=\"112.177,1486.45 2352.76,1486.45 \"/>\n",
       "<polyline clip-path=\"url(#clip540)\" style=\"stroke:#000000; stroke-linecap:round; stroke-linejoin:round; stroke-width:4; stroke-opacity:1; fill:none\" points=\"175.59,1486.45 175.59,1467.55 \"/>\n",
       "<polyline clip-path=\"url(#clip540)\" style=\"stroke:#000000; stroke-linecap:round; stroke-linejoin:round; stroke-width:4; stroke-opacity:1; fill:none\" points=\"704.028,1486.45 704.028,1467.55 \"/>\n",
       "<polyline clip-path=\"url(#clip540)\" style=\"stroke:#000000; stroke-linecap:round; stroke-linejoin:round; stroke-width:4; stroke-opacity:1; fill:none\" points=\"1232.47,1486.45 1232.47,1467.55 \"/>\n",
       "<polyline clip-path=\"url(#clip540)\" style=\"stroke:#000000; stroke-linecap:round; stroke-linejoin:round; stroke-width:4; stroke-opacity:1; fill:none\" points=\"1760.9,1486.45 1760.9,1467.55 \"/>\n",
       "<polyline clip-path=\"url(#clip540)\" style=\"stroke:#000000; stroke-linecap:round; stroke-linejoin:round; stroke-width:4; stroke-opacity:1; fill:none\" points=\"2289.34,1486.45 2289.34,1467.55 \"/>\n",
       "<path clip-path=\"url(#clip540)\" d=\"M142.743 1544.91 L150.382 1544.91 L150.382 1518.55 L142.071 1520.21 L142.071 1515.95 L150.335 1514.29 L155.011 1514.29 L155.011 1544.91 L162.65 1544.91 L162.65 1548.85 L142.743 1548.85 L142.743 1544.91 Z\" fill=\"#000000\" fill-rule=\"nonzero\" fill-opacity=\"1\" /><path clip-path=\"url(#clip540)\" d=\"M172.094 1542.97 L176.979 1542.97 L176.979 1548.85 L172.094 1548.85 L172.094 1542.97 Z\" fill=\"#000000\" fill-rule=\"nonzero\" fill-opacity=\"1\" /><path clip-path=\"url(#clip540)\" d=\"M197.164 1517.37 Q193.553 1517.37 191.724 1520.93 Q189.918 1524.47 189.918 1531.6 Q189.918 1538.71 191.724 1542.27 Q193.553 1545.82 197.164 1545.82 Q200.798 1545.82 202.604 1542.27 Q204.432 1538.71 204.432 1531.6 Q204.432 1524.47 202.604 1520.93 Q200.798 1517.37 197.164 1517.37 M197.164 1513.66 Q202.974 1513.66 206.029 1518.27 Q209.108 1522.85 209.108 1531.6 Q209.108 1540.33 206.029 1544.94 Q202.974 1549.52 197.164 1549.52 Q191.354 1549.52 188.275 1544.94 Q185.219 1540.33 185.219 1531.6 Q185.219 1522.85 188.275 1518.27 Q191.354 1513.66 197.164 1513.66 Z\" fill=\"#000000\" fill-rule=\"nonzero\" fill-opacity=\"1\" /><path clip-path=\"url(#clip540)\" d=\"M671.679 1544.91 L679.318 1544.91 L679.318 1518.55 L671.008 1520.21 L671.008 1515.95 L679.271 1514.29 L683.947 1514.29 L683.947 1544.91 L691.586 1544.91 L691.586 1548.85 L671.679 1548.85 L671.679 1544.91 Z\" fill=\"#000000\" fill-rule=\"nonzero\" fill-opacity=\"1\" /><path clip-path=\"url(#clip540)\" d=\"M701.03 1542.97 L705.915 1542.97 L705.915 1548.85 L701.03 1548.85 L701.03 1542.97 Z\" fill=\"#000000\" fill-rule=\"nonzero\" fill-opacity=\"1\" /><path clip-path=\"url(#clip540)\" d=\"M716.146 1514.29 L734.503 1514.29 L734.503 1518.22 L720.429 1518.22 L720.429 1526.7 Q721.447 1526.35 722.466 1526.19 Q723.484 1526 724.503 1526 Q730.29 1526 733.669 1529.17 Q737.049 1532.34 737.049 1537.76 Q737.049 1543.34 733.577 1546.44 Q730.104 1549.52 723.785 1549.52 Q721.609 1549.52 719.341 1549.15 Q717.095 1548.78 714.688 1548.04 L714.688 1543.34 Q716.771 1544.47 718.993 1545.03 Q721.216 1545.58 723.692 1545.58 Q727.697 1545.58 730.035 1543.48 Q732.373 1541.37 732.373 1537.76 Q732.373 1534.15 730.035 1532.04 Q727.697 1529.94 723.692 1529.94 Q721.817 1529.94 719.942 1530.35 Q718.091 1530.77 716.146 1531.65 L716.146 1514.29 Z\" fill=\"#000000\" fill-rule=\"nonzero\" fill-opacity=\"1\" /><path clip-path=\"url(#clip540)\" d=\"M1203.71 1544.91 L1220.02 1544.91 L1220.02 1548.85 L1198.08 1548.85 L1198.08 1544.91 Q1200.74 1542.16 1205.33 1537.53 Q1209.93 1532.88 1211.11 1531.53 Q1213.36 1529.01 1214.24 1527.27 Q1215.14 1525.51 1215.14 1523.82 Q1215.14 1521.07 1213.2 1519.33 Q1211.27 1517.6 1208.17 1517.6 Q1205.97 1517.6 1203.52 1518.36 Q1201.09 1519.13 1198.31 1520.68 L1198.31 1515.95 Q1201.14 1514.82 1203.59 1514.24 Q1206.04 1513.66 1208.08 1513.66 Q1213.45 1513.66 1216.64 1516.35 Q1219.84 1519.03 1219.84 1523.52 Q1219.84 1525.65 1219.03 1527.57 Q1218.24 1529.47 1216.14 1532.07 Q1215.56 1532.74 1212.46 1535.95 Q1209.35 1539.15 1203.71 1544.91 Z\" fill=\"#000000\" fill-rule=\"nonzero\" fill-opacity=\"1\" /><path clip-path=\"url(#clip540)\" d=\"M1229.84 1542.97 L1234.72 1542.97 L1234.72 1548.85 L1229.84 1548.85 L1229.84 1542.97 Z\" fill=\"#000000\" fill-rule=\"nonzero\" fill-opacity=\"1\" /><path clip-path=\"url(#clip540)\" d=\"M1254.91 1517.37 Q1251.3 1517.37 1249.47 1520.93 Q1247.66 1524.47 1247.66 1531.6 Q1247.66 1538.71 1249.47 1542.27 Q1251.3 1545.82 1254.91 1545.82 Q1258.54 1545.82 1260.35 1542.27 Q1262.18 1538.71 1262.18 1531.6 Q1262.18 1524.47 1260.35 1520.93 Q1258.54 1517.37 1254.91 1517.37 M1254.91 1513.66 Q1260.72 1513.66 1263.77 1518.27 Q1266.85 1522.85 1266.85 1531.6 Q1266.85 1540.33 1263.77 1544.94 Q1260.72 1549.52 1254.91 1549.52 Q1249.1 1549.52 1246.02 1544.94 Q1242.96 1540.33 1242.96 1531.6 Q1242.96 1522.85 1246.02 1518.27 Q1249.1 1513.66 1254.91 1513.66 Z\" fill=\"#000000\" fill-rule=\"nonzero\" fill-opacity=\"1\" /><path clip-path=\"url(#clip540)\" d=\"M1732.64 1544.91 L1748.96 1544.91 L1748.96 1548.85 L1727.02 1548.85 L1727.02 1544.91 Q1729.68 1542.16 1734.26 1537.53 Q1738.87 1532.88 1740.05 1531.53 Q1742.29 1529.01 1743.17 1527.27 Q1744.08 1525.51 1744.08 1523.82 Q1744.08 1521.07 1742.13 1519.33 Q1740.21 1517.6 1737.11 1517.6 Q1734.91 1517.6 1732.46 1518.36 Q1730.03 1519.13 1727.25 1520.68 L1727.25 1515.95 Q1730.07 1514.82 1732.53 1514.24 Q1734.98 1513.66 1737.02 1513.66 Q1742.39 1513.66 1745.58 1516.35 Q1748.78 1519.03 1748.78 1523.52 Q1748.78 1525.65 1747.97 1527.57 Q1747.18 1529.47 1745.07 1532.07 Q1744.49 1532.74 1741.39 1535.95 Q1738.29 1539.15 1732.64 1544.91 Z\" fill=\"#000000\" fill-rule=\"nonzero\" fill-opacity=\"1\" /><path clip-path=\"url(#clip540)\" d=\"M1758.78 1542.97 L1763.66 1542.97 L1763.66 1548.85 L1758.78 1548.85 L1758.78 1542.97 Z\" fill=\"#000000\" fill-rule=\"nonzero\" fill-opacity=\"1\" /><path clip-path=\"url(#clip540)\" d=\"M1773.89 1514.29 L1792.25 1514.29 L1792.25 1518.22 L1778.17 1518.22 L1778.17 1526.7 Q1779.19 1526.35 1780.21 1526.19 Q1781.23 1526 1782.25 1526 Q1788.03 1526 1791.41 1529.17 Q1794.79 1532.34 1794.79 1537.76 Q1794.79 1543.34 1791.32 1546.44 Q1787.85 1549.52 1781.53 1549.52 Q1779.35 1549.52 1777.09 1549.15 Q1774.84 1548.78 1772.43 1548.04 L1772.43 1543.34 Q1774.52 1544.47 1776.74 1545.03 Q1778.96 1545.58 1781.44 1545.58 Q1785.44 1545.58 1787.78 1543.48 Q1790.12 1541.37 1790.12 1537.76 Q1790.12 1534.15 1787.78 1532.04 Q1785.44 1529.94 1781.44 1529.94 Q1779.56 1529.94 1777.69 1530.35 Q1775.84 1530.77 1773.89 1531.65 L1773.89 1514.29 Z\" fill=\"#000000\" fill-rule=\"nonzero\" fill-opacity=\"1\" /><path clip-path=\"url(#clip540)\" d=\"M2270.65 1530.21 Q2274.01 1530.93 2275.88 1533.2 Q2277.78 1535.47 2277.78 1538.8 Q2277.78 1543.92 2274.26 1546.72 Q2270.74 1549.52 2264.26 1549.52 Q2262.09 1549.52 2259.77 1549.08 Q2257.48 1548.66 2255.03 1547.81 L2255.03 1543.29 Q2256.97 1544.43 2259.29 1545.01 Q2261.6 1545.58 2264.12 1545.58 Q2268.52 1545.58 2270.81 1543.85 Q2273.13 1542.11 2273.13 1538.8 Q2273.13 1535.75 2270.98 1534.03 Q2268.85 1532.3 2265.03 1532.3 L2261 1532.3 L2261 1528.45 L2265.21 1528.45 Q2268.66 1528.45 2270.49 1527.09 Q2272.32 1525.7 2272.32 1523.11 Q2272.32 1520.45 2270.42 1519.03 Q2268.54 1517.6 2265.03 1517.6 Q2263.11 1517.6 2260.91 1518.01 Q2258.71 1518.43 2256.07 1519.31 L2256.07 1515.14 Q2258.73 1514.4 2261.04 1514.03 Q2263.38 1513.66 2265.44 1513.66 Q2270.77 1513.66 2273.87 1516.09 Q2276.97 1518.5 2276.97 1522.62 Q2276.97 1525.49 2275.33 1527.48 Q2273.68 1529.45 2270.65 1530.21 Z\" fill=\"#000000\" fill-rule=\"nonzero\" fill-opacity=\"1\" /><path clip-path=\"url(#clip540)\" d=\"M2286.65 1542.97 L2291.53 1542.97 L2291.53 1548.85 L2286.65 1548.85 L2286.65 1542.97 Z\" fill=\"#000000\" fill-rule=\"nonzero\" fill-opacity=\"1\" /><path clip-path=\"url(#clip540)\" d=\"M2311.72 1517.37 Q2308.1 1517.37 2306.28 1520.93 Q2304.47 1524.47 2304.47 1531.6 Q2304.47 1538.71 2306.28 1542.27 Q2308.1 1545.82 2311.72 1545.82 Q2315.35 1545.82 2317.16 1542.27 Q2318.98 1538.71 2318.98 1531.6 Q2318.98 1524.47 2317.16 1520.93 Q2315.35 1517.37 2311.72 1517.37 M2311.72 1513.66 Q2317.53 1513.66 2320.58 1518.27 Q2323.66 1522.85 2323.66 1531.6 Q2323.66 1540.33 2320.58 1544.94 Q2317.53 1549.52 2311.72 1549.52 Q2305.91 1549.52 2302.83 1544.94 Q2299.77 1540.33 2299.77 1531.6 Q2299.77 1522.85 2302.83 1518.27 Q2305.91 1513.66 2311.72 1513.66 Z\" fill=\"#000000\" fill-rule=\"nonzero\" fill-opacity=\"1\" /><polyline clip-path=\"url(#clip542)\" style=\"stroke:#000000; stroke-linecap:round; stroke-linejoin:round; stroke-width:2; stroke-opacity:0.1; fill:none\" points=\"112.177,1220.14 2352.76,1220.14 \"/>\n",
       "<polyline clip-path=\"url(#clip542)\" style=\"stroke:#000000; stroke-linecap:round; stroke-linejoin:round; stroke-width:2; stroke-opacity:0.1; fill:none\" points=\"112.177,859.227 2352.76,859.227 \"/>\n",
       "<polyline clip-path=\"url(#clip542)\" style=\"stroke:#000000; stroke-linecap:round; stroke-linejoin:round; stroke-width:2; stroke-opacity:0.1; fill:none\" points=\"112.177,498.319 2352.76,498.319 \"/>\n",
       "<polyline clip-path=\"url(#clip542)\" style=\"stroke:#000000; stroke-linecap:round; stroke-linejoin:round; stroke-width:2; stroke-opacity:0.1; fill:none\" points=\"112.177,137.41 2352.76,137.41 \"/>\n",
       "<polyline clip-path=\"url(#clip540)\" style=\"stroke:#000000; stroke-linecap:round; stroke-linejoin:round; stroke-width:4; stroke-opacity:1; fill:none\" points=\"112.177,1486.45 112.177,47.2441 \"/>\n",
       "<polyline clip-path=\"url(#clip540)\" style=\"stroke:#000000; stroke-linecap:round; stroke-linejoin:round; stroke-width:4; stroke-opacity:1; fill:none\" points=\"112.177,1220.14 131.075,1220.14 \"/>\n",
       "<polyline clip-path=\"url(#clip540)\" style=\"stroke:#000000; stroke-linecap:round; stroke-linejoin:round; stroke-width:4; stroke-opacity:1; fill:none\" points=\"112.177,859.227 131.075,859.227 \"/>\n",
       "<polyline clip-path=\"url(#clip540)\" style=\"stroke:#000000; stroke-linecap:round; stroke-linejoin:round; stroke-width:4; stroke-opacity:1; fill:none\" points=\"112.177,498.319 131.075,498.319 \"/>\n",
       "<polyline clip-path=\"url(#clip540)\" style=\"stroke:#000000; stroke-linecap:round; stroke-linejoin:round; stroke-width:4; stroke-opacity:1; fill:none\" points=\"112.177,137.41 131.075,137.41 \"/>\n",
       "<path clip-path=\"url(#clip540)\" d=\"M59.8578 1233.48 L76.1772 1233.48 L76.1772 1237.42 L54.2328 1237.42 L54.2328 1233.48 Q56.8949 1230.73 61.4782 1226.1 Q66.0846 1221.44 67.2652 1220.1 Q69.5105 1217.58 70.3902 1215.84 Q71.2929 1214.08 71.2929 1212.39 Q71.2929 1209.64 69.3485 1207.9 Q67.4272 1206.17 64.3254 1206.17 Q62.1263 1206.17 59.6726 1206.93 Q57.2421 1207.69 54.4643 1209.24 L54.4643 1204.52 Q57.2884 1203.39 59.7421 1202.81 Q62.1958 1202.23 64.2328 1202.23 Q69.6031 1202.23 72.7976 1204.92 Q75.992 1207.6 75.992 1212.09 Q75.992 1214.22 75.1818 1216.14 Q74.3948 1218.04 72.2883 1220.63 Q71.7096 1221.3 68.6078 1224.52 Q65.5059 1227.72 59.8578 1233.48 Z\" fill=\"#000000\" fill-rule=\"nonzero\" fill-opacity=\"1\" /><path clip-path=\"url(#clip540)\" d=\"M66.5939 846.021 L54.7884 864.47 L66.5939 864.47 L66.5939 846.021 M65.367 841.947 L71.2466 841.947 L71.2466 864.47 L76.1772 864.47 L76.1772 868.359 L71.2466 868.359 L71.2466 876.507 L66.5939 876.507 L66.5939 868.359 L50.9921 868.359 L50.9921 863.845 L65.367 841.947 Z\" fill=\"#000000\" fill-rule=\"nonzero\" fill-opacity=\"1\" /><path clip-path=\"url(#clip540)\" d=\"M64.6495 496.455 Q61.5013 496.455 59.6495 498.608 Q57.8208 500.761 57.8208 504.511 Q57.8208 508.238 59.6495 510.413 Q61.5013 512.566 64.6495 512.566 Q67.7976 512.566 69.6263 510.413 Q71.4781 508.238 71.4781 504.511 Q71.4781 500.761 69.6263 498.608 Q67.7976 496.455 64.6495 496.455 M73.9318 481.802 L73.9318 486.062 Q72.1726 485.228 70.367 484.789 Q68.5846 484.349 66.8254 484.349 Q62.1958 484.349 59.7421 487.474 Q57.3115 490.599 56.9643 496.918 Q58.33 494.904 60.3902 493.839 Q62.4504 492.751 64.9272 492.751 Q70.1355 492.751 73.1448 495.923 Q76.1772 499.071 76.1772 504.511 Q76.1772 509.835 73.029 513.052 Q69.8809 516.27 64.6495 516.27 Q58.6541 516.27 55.4828 511.687 Q52.3116 507.08 52.3116 498.353 Q52.3116 490.159 56.2004 485.298 Q60.0893 480.414 66.6402 480.414 Q68.3994 480.414 70.1818 480.761 Q71.9874 481.108 73.9318 481.802 Z\" fill=\"#000000\" fill-rule=\"nonzero\" fill-opacity=\"1\" /><path clip-path=\"url(#clip540)\" d=\"M64.3254 138.278 Q60.9921 138.278 59.0708 140.061 Q57.1726 141.843 57.1726 144.968 Q57.1726 148.093 59.0708 149.876 Q60.9921 151.658 64.3254 151.658 Q67.6587 151.658 69.58 149.876 Q71.5013 148.07 71.5013 144.968 Q71.5013 141.843 69.58 140.061 Q67.6819 138.278 64.3254 138.278 M59.6495 136.288 Q56.6402 135.547 54.9504 133.487 Q53.2838 131.427 53.2838 128.464 Q53.2838 124.32 56.2236 121.913 Q59.1865 119.505 64.3254 119.505 Q69.4874 119.505 72.4272 121.913 Q75.367 124.32 75.367 128.464 Q75.367 131.427 73.6772 133.487 Q72.0105 135.547 69.0244 136.288 Q72.404 137.075 74.279 139.366 Q76.1772 141.658 76.1772 144.968 Q76.1772 149.991 73.0985 152.676 Q70.0429 155.362 64.3254 155.362 Q58.6078 155.362 55.5291 152.676 Q52.4736 149.991 52.4736 144.968 Q52.4736 141.658 54.3717 139.366 Q56.2699 137.075 59.6495 136.288 M57.9365 128.903 Q57.9365 131.589 59.6032 133.093 Q61.293 134.598 64.3254 134.598 Q67.3346 134.598 69.0244 133.093 Q70.7374 131.589 70.7374 128.903 Q70.7374 126.218 69.0244 124.714 Q67.3346 123.209 64.3254 123.209 Q61.293 123.209 59.6032 124.714 Q57.9365 126.218 57.9365 128.903 Z\" fill=\"#000000\" fill-rule=\"nonzero\" fill-opacity=\"1\" /><polyline clip-path=\"url(#clip542)\" style=\"stroke:#009af9; stroke-linecap:round; stroke-linejoin:round; stroke-width:4; stroke-opacity:1; fill:none\" points=\"175.59,87.9763 1232.47,917.671 2289.34,1445.72 \"/>\n",
       "<path clip-path=\"url(#clip540)\" d=\"M2001.58 198.898 L2278.07 198.898 L2278.07 95.2176 L2001.58 95.2176  Z\" fill=\"#ffffff\" fill-rule=\"evenodd\" fill-opacity=\"1\"/>\n",
       "<polyline clip-path=\"url(#clip540)\" style=\"stroke:#000000; stroke-linecap:round; stroke-linejoin:round; stroke-width:4; stroke-opacity:1; fill:none\" points=\"2001.58,198.898 2278.07,198.898 2278.07,95.2176 2001.58,95.2176 2001.58,198.898 \"/>\n",
       "<polyline clip-path=\"url(#clip540)\" style=\"stroke:#009af9; stroke-linecap:round; stroke-linejoin:round; stroke-width:4; stroke-opacity:1; fill:none\" points=\"2026.48,147.058 2175.85,147.058 \"/>\n",
       "<path clip-path=\"url(#clip540)\" d=\"M2214.59 166.745 Q2212.78 171.375 2211.07 172.787 Q2209.36 174.199 2206.49 174.199 L2203.08 174.199 L2203.08 170.634 L2205.58 170.634 Q2207.34 170.634 2208.31 169.8 Q2209.29 168.967 2210.47 165.865 L2211.23 163.921 L2200.74 138.412 L2205.26 138.412 L2213.36 158.689 L2221.46 138.412 L2225.98 138.412 L2214.59 166.745 Z\" fill=\"#000000\" fill-rule=\"nonzero\" fill-opacity=\"1\" /><path clip-path=\"url(#clip540)\" d=\"M2233.27 160.402 L2240.91 160.402 L2240.91 134.037 L2232.6 135.703 L2232.6 131.444 L2240.86 129.778 L2245.54 129.778 L2245.54 160.402 L2253.17 160.402 L2253.17 164.338 L2233.27 164.338 L2233.27 160.402 Z\" fill=\"#000000\" fill-rule=\"nonzero\" fill-opacity=\"1\" /></svg>\n"
      ]
     },
     "metadata": {},
     "output_type": "display_data"
    }
   ],
   "source": [
    "using Plots;\n",
    "\n",
    "plot(sort(values,rev=true))"
   ]
  },
  {
   "cell_type": "markdown",
   "metadata": {},
   "source": [
    "# EigenFaces\n",
    "\n",
    "En el caso del reconocimiento facial, el algoritmo Eigenfaces utiliza esta representación de baja dimensionalidad para comparar caras nuevas (no utilizadas para ajustar los valores y vectores propios). Sin embargo, una de los problemas al utlizar esta técnica es determinar la dimensionalidad \\emph{intrinsica} de los datos. Esto quiere decir que el número de componentes principales es desconocido y debe determinarse mediante un compromiso entre el error de reconstrucción $E=\\sum_i^n (\\mathbf{x_i}-\\tilde{\\mathbf{x_i}})^2$ y la capacidad de comprimir y explicar los datos.\n",
    "\n",
    "https://bio322.epfl.ch/notebooks/pca.html"
   ]
  },
  {
   "cell_type": "code",
   "execution_count": 3,
   "metadata": {},
   "outputs": [],
   "source": [
    "using Images,Colors\n",
    "using ImageTransformations\n",
    "\n",
    "path=\"eigenvalue_pics/\"\n",
    "dim=64\n",
    "\n",
    "function images_to_mat(pathlist,dim,data_type)\n",
    "    mat=zeros(data_type,length(pathlist),dim*dim)\n",
    "    for (index,images) in enumerate(pathlist)\n",
    "        img=load(images)\n",
    "        img_g=Gray.(img)\n",
    "        img_g=imresize(img_g,dim,dim)\n",
    "        img_g=255*data_type.(img_g)\n",
    "        img_g=reshape(img_g,(1,dim*dim))\n",
    "        mat[index,:]=img_g\n",
    "    end \n",
    "    return mat\n",
    "end\n",
    "\n",
    "pathlist=[]\n",
    "for d in readdir(path)\n",
    "    for f in readdir(path*d)\n",
    "        file_path=path*d*\"/\"*f\n",
    "        push!(pathlist,file_path)\n",
    "    end \n",
    "end "
   ]
  },
  {
   "cell_type": "code",
   "execution_count": 6,
   "metadata": {},
   "outputs": [],
   "source": [
    "using LinearAlgebra; \n",
    "using MultivariateStats;\n",
    "using Statistics;\n",
    "\n",
    "mat=images_to_mat(pathlist,dim,Float64)\n",
    "mean_face=mean!(transpose(ones(dim*dim)),mat)\n",
    "centered_mat=mat.-mean_face;"
   ]
  },
  {
   "cell_type": "code",
   "execution_count": 7,
   "metadata": {},
   "outputs": [],
   "source": [
    "values,vectors=eigen(cov(centered_mat));"
   ]
  },
  {
   "cell_type": "code",
   "execution_count": 8,
   "metadata": {},
   "outputs": [],
   "source": [
    "sorted_values=sort(values,rev=true);"
   ]
  },
  {
   "cell_type": "code",
   "execution_count": 10,
   "metadata": {},
   "outputs": [
    {
     "data": {
      "image/png": "[encoded data removed]",
      "image/svg+xml": [
       "<?xml version=\"1.0\" encoding=\"utf-8\"?>\n",
       "<svg xmlns=\"http://www.w3.org/2000/svg\" xmlns:xlink=\"http://www.w3.org/1999/xlink\" width=\"600\" height=\"400\" viewBox=\"0 0 2400 1600\">\n",
       "<defs>\n",
       "  <clipPath id=\"clip200\">\n",
       "    <rect x=\"0\" y=\"0\" width=\"2400\" height=\"1600\"/>\n",
       "  </clipPath>\n",
       "</defs>\n",
       "<path clip-path=\"url(#clip200)\" d=\"M0 1600 L2400 1600 L2400 0 L0 0  Z\" fill=\"#ffffff\" fill-rule=\"evenodd\" fill-opacity=\"1\"/>\n",
       "<defs>\n",
       "  <clipPath id=\"clip201\">\n",
       "    <rect x=\"480\" y=\"0\" width=\"1681\" height=\"1600\"/>\n",
       "  </clipPath>\n",
       "</defs>\n",
       "<path clip-path=\"url(#clip200)\" d=\"M156.112 1486.45 L2352.76 1486.45 L2352.76 47.2441 L156.112 47.2441  Z\" fill=\"#ffffff\" fill-rule=\"evenodd\" fill-opacity=\"1\"/>\n",
       "<defs>\n",
       "  <clipPath id=\"clip202\">\n",
       "    <rect x=\"156\" y=\"47\" width=\"2198\" height=\"1440\"/>\n",
       "  </clipPath>\n",
       "</defs>\n",
       "<polyline clip-path=\"url(#clip202)\" style=\"stroke:#000000; stroke-linecap:round; stroke-linejoin:round; stroke-width:2; stroke-opacity:0.1; fill:none\" points=\"197.349,1486.45 197.349,47.2441 \"/>\n",
       "<polyline clip-path=\"url(#clip202)\" style=\"stroke:#000000; stroke-linecap:round; stroke-linejoin:round; stroke-width:2; stroke-opacity:0.1; fill:none\" points=\"720.658,1486.45 720.658,47.2441 \"/>\n",
       "<polyline clip-path=\"url(#clip202)\" style=\"stroke:#000000; stroke-linecap:round; stroke-linejoin:round; stroke-width:2; stroke-opacity:0.1; fill:none\" points=\"1243.97,1486.45 1243.97,47.2441 \"/>\n",
       "<polyline clip-path=\"url(#clip202)\" style=\"stroke:#000000; stroke-linecap:round; stroke-linejoin:round; stroke-width:2; stroke-opacity:0.1; fill:none\" points=\"1767.28,1486.45 1767.28,47.2441 \"/>\n",
       "<polyline clip-path=\"url(#clip202)\" style=\"stroke:#000000; stroke-linecap:round; stroke-linejoin:round; stroke-width:2; stroke-opacity:0.1; fill:none\" points=\"2290.59,1486.45 2290.59,47.2441 \"/>\n",
       "<polyline clip-path=\"url(#clip200)\" style=\"stroke:#000000; stroke-linecap:round; stroke-linejoin:round; stroke-width:4; stroke-opacity:1; fill:none\" points=\"156.112,1486.45 2352.76,1486.45 \"/>\n",
       "<polyline clip-path=\"url(#clip200)\" style=\"stroke:#000000; stroke-linecap:round; stroke-linejoin:round; stroke-width:4; stroke-opacity:1; fill:none\" points=\"197.349,1486.45 197.349,1467.55 \"/>\n",
       "<polyline clip-path=\"url(#clip200)\" style=\"stroke:#000000; stroke-linecap:round; stroke-linejoin:round; stroke-width:4; stroke-opacity:1; fill:none\" points=\"720.658,1486.45 720.658,1467.55 \"/>\n",
       "<polyline clip-path=\"url(#clip200)\" style=\"stroke:#000000; stroke-linecap:round; stroke-linejoin:round; stroke-width:4; stroke-opacity:1; fill:none\" points=\"1243.97,1486.45 1243.97,1467.55 \"/>\n",
       "<polyline clip-path=\"url(#clip200)\" style=\"stroke:#000000; stroke-linecap:round; stroke-linejoin:round; stroke-width:4; stroke-opacity:1; fill:none\" points=\"1767.28,1486.45 1767.28,1467.55 \"/>\n",
       "<polyline clip-path=\"url(#clip200)\" style=\"stroke:#000000; stroke-linecap:round; stroke-linejoin:round; stroke-width:4; stroke-opacity:1; fill:none\" points=\"2290.59,1486.45 2290.59,1467.55 \"/>\n",
       "<path clip-path=\"url(#clip200)\" d=\"M197.349 1517.37 Q193.738 1517.37 191.909 1520.93 Q190.104 1524.47 190.104 1531.6 Q190.104 1538.71 191.909 1542.27 Q193.738 1545.82 197.349 1545.82 Q200.983 1545.82 202.789 1542.27 Q204.617 1538.71 204.617 1531.6 Q204.617 1524.47 202.789 1520.93 Q200.983 1517.37 197.349 1517.37 M197.349 1513.66 Q203.159 1513.66 206.215 1518.27 Q209.293 1522.85 209.293 1531.6 Q209.293 1540.33 206.215 1544.94 Q203.159 1549.52 197.349 1549.52 Q191.539 1549.52 188.46 1544.94 Q185.405 1540.33 185.405 1531.6 Q185.405 1522.85 188.46 1518.27 Q191.539 1513.66 197.349 1513.66 Z\" fill=\"#000000\" fill-rule=\"nonzero\" fill-opacity=\"1\" /><path clip-path=\"url(#clip200)\" d=\"M699.929 1544.91 L716.249 1544.91 L716.249 1548.85 L694.304 1548.85 L694.304 1544.91 Q696.966 1542.16 701.55 1537.53 Q706.156 1532.88 707.337 1531.53 Q709.582 1529.01 710.462 1527.27 Q711.364 1525.51 711.364 1523.82 Q711.364 1521.07 709.42 1519.33 Q707.499 1517.6 704.397 1517.6 Q702.198 1517.6 699.744 1518.36 Q697.314 1519.13 694.536 1520.68 L694.536 1515.95 Q697.36 1514.82 699.814 1514.24 Q702.267 1513.66 704.304 1513.66 Q709.675 1513.66 712.869 1516.35 Q716.063 1519.03 716.063 1523.52 Q716.063 1525.65 715.253 1527.57 Q714.466 1529.47 712.36 1532.07 Q711.781 1532.74 708.679 1535.95 Q705.577 1539.15 699.929 1544.91 Z\" fill=\"#000000\" fill-rule=\"nonzero\" fill-opacity=\"1\" /><path clip-path=\"url(#clip200)\" d=\"M726.11 1514.29 L744.466 1514.29 L744.466 1518.22 L730.392 1518.22 L730.392 1526.7 Q731.411 1526.35 732.429 1526.19 Q733.448 1526 734.466 1526 Q740.253 1526 743.633 1529.17 Q747.012 1532.34 747.012 1537.76 Q747.012 1543.34 743.54 1546.44 Q740.068 1549.52 733.749 1549.52 Q731.573 1549.52 729.304 1549.15 Q727.059 1548.78 724.651 1548.04 L724.651 1543.34 Q726.735 1544.47 728.957 1545.03 Q731.179 1545.58 733.656 1545.58 Q737.661 1545.58 739.999 1543.48 Q742.336 1541.37 742.336 1537.76 Q742.336 1534.15 739.999 1532.04 Q737.661 1529.94 733.656 1529.94 Q731.781 1529.94 729.906 1530.35 Q728.054 1530.77 726.11 1531.65 L726.11 1514.29 Z\" fill=\"#000000\" fill-rule=\"nonzero\" fill-opacity=\"1\" /><path clip-path=\"url(#clip200)\" d=\"M1218.67 1514.29 L1237.02 1514.29 L1237.02 1518.22 L1222.95 1518.22 L1222.95 1526.7 Q1223.97 1526.35 1224.99 1526.19 Q1226 1526 1227.02 1526 Q1232.81 1526 1236.19 1529.17 Q1239.57 1532.34 1239.57 1537.76 Q1239.57 1543.34 1236.1 1546.44 Q1232.63 1549.52 1226.31 1549.52 Q1224.13 1549.52 1221.86 1549.15 Q1219.62 1548.78 1217.21 1548.04 L1217.21 1543.34 Q1219.29 1544.47 1221.51 1545.03 Q1223.74 1545.58 1226.21 1545.58 Q1230.22 1545.58 1232.56 1543.48 Q1234.89 1541.37 1234.89 1537.76 Q1234.89 1534.15 1232.56 1532.04 Q1230.22 1529.94 1226.21 1529.94 Q1224.34 1529.94 1222.46 1530.35 Q1220.61 1530.77 1218.67 1531.65 L1218.67 1514.29 Z\" fill=\"#000000\" fill-rule=\"nonzero\" fill-opacity=\"1\" /><path clip-path=\"url(#clip200)\" d=\"M1258.78 1517.37 Q1255.17 1517.37 1253.34 1520.93 Q1251.54 1524.47 1251.54 1531.6 Q1251.54 1538.71 1253.34 1542.27 Q1255.17 1545.82 1258.78 1545.82 Q1262.42 1545.82 1264.22 1542.27 Q1266.05 1538.71 1266.05 1531.6 Q1266.05 1524.47 1264.22 1520.93 Q1262.42 1517.37 1258.78 1517.37 M1258.78 1513.66 Q1264.59 1513.66 1267.65 1518.27 Q1270.73 1522.85 1270.73 1531.6 Q1270.73 1540.33 1267.65 1544.94 Q1264.59 1549.52 1258.78 1549.52 Q1252.97 1549.52 1249.89 1544.94 Q1246.84 1540.33 1246.84 1531.6 Q1246.84 1522.85 1249.89 1518.27 Q1252.97 1513.66 1258.78 1513.66 Z\" fill=\"#000000\" fill-rule=\"nonzero\" fill-opacity=\"1\" /><path clip-path=\"url(#clip200)\" d=\"M1741.13 1514.29 L1763.35 1514.29 L1763.35 1516.28 L1750.81 1548.85 L1745.92 1548.85 L1757.73 1518.22 L1741.13 1518.22 L1741.13 1514.29 Z\" fill=\"#000000\" fill-rule=\"nonzero\" fill-opacity=\"1\" /><path clip-path=\"url(#clip200)\" d=\"M1772.52 1514.29 L1790.88 1514.29 L1790.88 1518.22 L1776.8 1518.22 L1776.8 1526.7 Q1777.82 1526.35 1778.84 1526.19 Q1779.86 1526 1780.88 1526 Q1786.66 1526 1790.04 1529.17 Q1793.42 1532.34 1793.42 1537.76 Q1793.42 1543.34 1789.95 1546.44 Q1786.48 1549.52 1780.16 1549.52 Q1777.98 1549.52 1775.71 1549.15 Q1773.47 1548.78 1771.06 1548.04 L1771.06 1543.34 Q1773.15 1544.47 1775.37 1545.03 Q1777.59 1545.58 1780.07 1545.58 Q1784.07 1545.58 1786.41 1543.48 Q1788.75 1541.37 1788.75 1537.76 Q1788.75 1534.15 1786.41 1532.04 Q1784.07 1529.94 1780.07 1529.94 Q1778.19 1529.94 1776.32 1530.35 Q1774.46 1530.77 1772.52 1531.65 L1772.52 1514.29 Z\" fill=\"#000000\" fill-rule=\"nonzero\" fill-opacity=\"1\" /><path clip-path=\"url(#clip200)\" d=\"M2250.19 1544.91 L2257.83 1544.91 L2257.83 1518.55 L2249.52 1520.21 L2249.52 1515.95 L2257.79 1514.29 L2262.46 1514.29 L2262.46 1544.91 L2270.1 1544.91 L2270.1 1548.85 L2250.19 1548.85 L2250.19 1544.91 Z\" fill=\"#000000\" fill-rule=\"nonzero\" fill-opacity=\"1\" /><path clip-path=\"url(#clip200)\" d=\"M2289.55 1517.37 Q2285.93 1517.37 2284.11 1520.93 Q2282.3 1524.47 2282.3 1531.6 Q2282.3 1538.71 2284.11 1542.27 Q2285.93 1545.82 2289.55 1545.82 Q2293.18 1545.82 2294.98 1542.27 Q2296.81 1538.71 2296.81 1531.6 Q2296.81 1524.47 2294.98 1520.93 Q2293.18 1517.37 2289.55 1517.37 M2289.55 1513.66 Q2295.36 1513.66 2298.41 1518.27 Q2301.49 1522.85 2301.49 1531.6 Q2301.49 1540.33 2298.41 1544.94 Q2295.36 1549.52 2289.55 1549.52 Q2283.73 1549.52 2280.66 1544.94 Q2277.6 1540.33 2277.6 1531.6 Q2277.6 1522.85 2280.66 1518.27 Q2283.73 1513.66 2289.55 1513.66 Z\" fill=\"#000000\" fill-rule=\"nonzero\" fill-opacity=\"1\" /><path clip-path=\"url(#clip200)\" d=\"M2319.71 1517.37 Q2316.1 1517.37 2314.27 1520.93 Q2312.46 1524.47 2312.46 1531.6 Q2312.46 1538.71 2314.27 1542.27 Q2316.1 1545.82 2319.71 1545.82 Q2323.34 1545.82 2325.15 1542.27 Q2326.98 1538.71 2326.98 1531.6 Q2326.98 1524.47 2325.15 1520.93 Q2323.34 1517.37 2319.71 1517.37 M2319.71 1513.66 Q2325.52 1513.66 2328.57 1518.27 Q2331.65 1522.85 2331.65 1531.6 Q2331.65 1540.33 2328.57 1544.94 Q2325.52 1549.52 2319.71 1549.52 Q2313.9 1549.52 2310.82 1544.94 Q2307.76 1540.33 2307.76 1531.6 Q2307.76 1522.85 2310.82 1518.27 Q2313.9 1513.66 2319.71 1513.66 Z\" fill=\"#000000\" fill-rule=\"nonzero\" fill-opacity=\"1\" /><polyline clip-path=\"url(#clip202)\" style=\"stroke:#000000; stroke-linecap:round; stroke-linejoin:round; stroke-width:2; stroke-opacity:0.1; fill:none\" points=\"156.112,1445.72 2352.76,1445.72 \"/>\n",
       "<polyline clip-path=\"url(#clip202)\" style=\"stroke:#000000; stroke-linecap:round; stroke-linejoin:round; stroke-width:2; stroke-opacity:0.1; fill:none\" points=\"156.112,1072.13 2352.76,1072.13 \"/>\n",
       "<polyline clip-path=\"url(#clip202)\" style=\"stroke:#000000; stroke-linecap:round; stroke-linejoin:round; stroke-width:2; stroke-opacity:0.1; fill:none\" points=\"156.112,698.542 2352.76,698.542 \"/>\n",
       "<polyline clip-path=\"url(#clip202)\" style=\"stroke:#000000; stroke-linecap:round; stroke-linejoin:round; stroke-width:2; stroke-opacity:0.1; fill:none\" points=\"156.112,324.955 2352.76,324.955 \"/>\n",
       "<polyline clip-path=\"url(#clip200)\" style=\"stroke:#000000; stroke-linecap:round; stroke-linejoin:round; stroke-width:4; stroke-opacity:1; fill:none\" points=\"156.112,1486.45 156.112,47.2441 \"/>\n",
       "<polyline clip-path=\"url(#clip200)\" style=\"stroke:#000000; stroke-linecap:round; stroke-linejoin:round; stroke-width:4; stroke-opacity:1; fill:none\" points=\"156.112,1445.72 175.01,1445.72 \"/>\n",
       "<polyline clip-path=\"url(#clip200)\" style=\"stroke:#000000; stroke-linecap:round; stroke-linejoin:round; stroke-width:4; stroke-opacity:1; fill:none\" points=\"156.112,1072.13 175.01,1072.13 \"/>\n",
       "<polyline clip-path=\"url(#clip200)\" style=\"stroke:#000000; stroke-linecap:round; stroke-linejoin:round; stroke-width:4; stroke-opacity:1; fill:none\" points=\"156.112,698.542 175.01,698.542 \"/>\n",
       "<polyline clip-path=\"url(#clip200)\" style=\"stroke:#000000; stroke-linecap:round; stroke-linejoin:round; stroke-width:4; stroke-opacity:1; fill:none\" points=\"156.112,324.955 175.01,324.955 \"/>\n",
       "<path clip-path=\"url(#clip200)\" d=\"M62.9365 1431.51 Q59.3254 1431.51 57.4967 1435.08 Q55.6912 1438.62 55.6912 1445.75 Q55.6912 1452.86 57.4967 1456.42 Q59.3254 1459.96 62.9365 1459.96 Q66.5707 1459.96 68.3763 1456.42 Q70.205 1452.86 70.205 1445.75 Q70.205 1438.62 68.3763 1435.08 Q66.5707 1431.51 62.9365 1431.51 M62.9365 1427.81 Q68.7467 1427.81 71.8022 1432.42 Q74.8809 1437 74.8809 1445.75 Q74.8809 1454.48 71.8022 1459.08 Q68.7467 1463.67 62.9365 1463.67 Q57.1264 1463.67 54.0477 1459.08 Q50.9921 1454.48 50.9921 1445.75 Q50.9921 1437 54.0477 1432.42 Q57.1264 1427.81 62.9365 1427.81 Z\" fill=\"#000000\" fill-rule=\"nonzero\" fill-opacity=\"1\" /><path clip-path=\"url(#clip200)\" d=\"M83.0984 1457.12 L87.9827 1457.12 L87.9827 1463 L83.0984 1463 L83.0984 1457.12 Z\" fill=\"#000000\" fill-rule=\"nonzero\" fill-opacity=\"1\" /><path clip-path=\"url(#clip200)\" d=\"M108.168 1431.51 Q104.557 1431.51 102.728 1435.08 Q100.922 1438.62 100.922 1445.75 Q100.922 1452.86 102.728 1456.42 Q104.557 1459.96 108.168 1459.96 Q111.802 1459.96 113.608 1456.42 Q115.436 1452.86 115.436 1445.75 Q115.436 1438.62 113.608 1435.08 Q111.802 1431.51 108.168 1431.51 M108.168 1427.81 Q113.978 1427.81 117.033 1432.42 Q120.112 1437 120.112 1445.75 Q120.112 1454.48 117.033 1459.08 Q113.978 1463.67 108.168 1463.67 Q102.358 1463.67 99.2789 1459.08 Q96.2234 1454.48 96.2234 1445.75 Q96.2234 1437 99.2789 1432.42 Q102.358 1427.81 108.168 1427.81 Z\" fill=\"#000000\" fill-rule=\"nonzero\" fill-opacity=\"1\" /><path clip-path=\"url(#clip200)\" d=\"M64.1634 1057.93 Q60.5523 1057.93 58.7236 1061.49 Q56.918 1065.03 56.918 1072.16 Q56.918 1079.27 58.7236 1082.83 Q60.5523 1086.38 64.1634 1086.38 Q67.7976 1086.38 69.6031 1082.83 Q71.4318 1079.27 71.4318 1072.16 Q71.4318 1065.03 69.6031 1061.49 Q67.7976 1057.93 64.1634 1057.93 M64.1634 1054.22 Q69.9735 1054.22 73.029 1058.83 Q76.1077 1063.41 76.1077 1072.16 Q76.1077 1080.89 73.029 1085.5 Q69.9735 1090.08 64.1634 1090.08 Q58.3532 1090.08 55.2745 1085.5 Q52.219 1080.89 52.219 1072.16 Q52.219 1063.41 55.2745 1058.83 Q58.3532 1054.22 64.1634 1054.22 Z\" fill=\"#000000\" fill-rule=\"nonzero\" fill-opacity=\"1\" /><path clip-path=\"url(#clip200)\" d=\"M84.3253 1083.53 L89.2095 1083.53 L89.2095 1089.41 L84.3253 1089.41 L84.3253 1083.53 Z\" fill=\"#000000\" fill-rule=\"nonzero\" fill-opacity=\"1\" /><path clip-path=\"url(#clip200)\" d=\"M100.205 1085.47 L107.844 1085.47 L107.844 1059.11 L99.5335 1060.77 L99.5335 1056.52 L107.797 1054.85 L112.473 1054.85 L112.473 1085.47 L120.112 1085.47 L120.112 1089.41 L100.205 1089.41 L100.205 1085.47 Z\" fill=\"#000000\" fill-rule=\"nonzero\" fill-opacity=\"1\" /><path clip-path=\"url(#clip200)\" d=\"M64.5337 684.34 Q60.9226 684.34 59.0939 687.905 Q57.2884 691.447 57.2884 698.576 Q57.2884 705.683 59.0939 709.248 Q60.9226 712.789 64.5337 712.789 Q68.168 712.789 69.9735 709.248 Q71.8022 705.683 71.8022 698.576 Q71.8022 691.447 69.9735 687.905 Q68.168 684.34 64.5337 684.34 M64.5337 680.637 Q70.3439 680.637 73.3994 685.243 Q76.4781 689.826 76.4781 698.576 Q76.4781 707.303 73.3994 711.91 Q70.3439 716.493 64.5337 716.493 Q58.7236 716.493 55.6449 711.91 Q52.5893 707.303 52.5893 698.576 Q52.5893 689.826 55.6449 685.243 Q58.7236 680.637 64.5337 680.637 Z\" fill=\"#000000\" fill-rule=\"nonzero\" fill-opacity=\"1\" /><path clip-path=\"url(#clip200)\" d=\"M84.6956 709.942 L89.5799 709.942 L89.5799 715.822 L84.6956 715.822 L84.6956 709.942 Z\" fill=\"#000000\" fill-rule=\"nonzero\" fill-opacity=\"1\" /><path clip-path=\"url(#clip200)\" d=\"M103.793 711.886 L120.112 711.886 L120.112 715.822 L98.1678 715.822 L98.1678 711.886 Q100.83 709.132 105.413 704.502 Q110.02 699.849 111.2 698.507 Q113.445 695.984 114.325 694.248 Q115.228 692.488 115.228 690.799 Q115.228 688.044 113.283 686.308 Q111.362 684.572 108.26 684.572 Q106.061 684.572 103.608 685.336 Q101.177 686.1 98.3993 687.65 L98.3993 682.928 Q101.223 681.794 103.677 681.215 Q106.131 680.637 108.168 680.637 Q113.538 680.637 116.733 683.322 Q119.927 686.007 119.927 690.498 Q119.927 692.627 119.117 694.549 Q118.33 696.447 116.223 699.039 Q115.645 699.711 112.543 702.928 Q109.441 706.123 103.793 711.886 Z\" fill=\"#000000\" fill-rule=\"nonzero\" fill-opacity=\"1\" /><path clip-path=\"url(#clip200)\" d=\"M63.5847 310.753 Q59.9736 310.753 58.1449 314.318 Q56.3393 317.86 56.3393 324.989 Q56.3393 332.096 58.1449 335.66 Q59.9736 339.202 63.5847 339.202 Q67.2189 339.202 69.0244 335.66 Q70.8531 332.096 70.8531 324.989 Q70.8531 317.86 69.0244 314.318 Q67.2189 310.753 63.5847 310.753 M63.5847 307.05 Q69.3948 307.05 72.4503 311.656 Q75.529 316.239 75.529 324.989 Q75.529 333.716 72.4503 338.322 Q69.3948 342.906 63.5847 342.906 Q57.7745 342.906 54.6958 338.322 Q51.6403 333.716 51.6403 324.989 Q51.6403 316.239 54.6958 311.656 Q57.7745 307.05 63.5847 307.05 Z\" fill=\"#000000\" fill-rule=\"nonzero\" fill-opacity=\"1\" /><path clip-path=\"url(#clip200)\" d=\"M83.7466 336.355 L88.6308 336.355 L88.6308 342.235 L83.7466 342.235 L83.7466 336.355 Z\" fill=\"#000000\" fill-rule=\"nonzero\" fill-opacity=\"1\" /><path clip-path=\"url(#clip200)\" d=\"M112.983 323.6 Q116.339 324.318 118.214 326.586 Q120.112 328.855 120.112 332.188 Q120.112 337.304 116.594 340.105 Q113.075 342.906 106.594 342.906 Q104.418 342.906 102.103 342.466 Q99.8113 342.049 97.3576 341.193 L97.3576 336.679 Q99.3021 337.813 101.617 338.392 Q103.932 338.971 106.455 338.971 Q110.853 338.971 113.145 337.235 Q115.459 335.498 115.459 332.188 Q115.459 329.133 113.307 327.42 Q111.177 325.684 107.358 325.684 L103.33 325.684 L103.33 321.841 L107.543 321.841 Q110.992 321.841 112.82 320.475 Q114.649 319.086 114.649 316.494 Q114.649 313.832 112.751 312.42 Q110.876 310.985 107.358 310.985 Q105.436 310.985 103.237 311.401 Q101.038 311.818 98.3993 312.698 L98.3993 308.531 Q101.061 307.79 103.376 307.42 Q105.714 307.05 107.774 307.05 Q113.098 307.05 116.2 309.48 Q119.302 311.887 119.302 316.008 Q119.302 318.878 117.658 320.869 Q116.015 322.836 112.983 323.6 Z\" fill=\"#000000\" fill-rule=\"nonzero\" fill-opacity=\"1\" /><polyline clip-path=\"url(#clip202)\" style=\"stroke:#009af9; stroke-linecap:round; stroke-linejoin:round; stroke-width:4; stroke-opacity:1; fill:none\" points=\"218.281,87.9763 239.214,1047.62 260.146,1059.47 281.078,1163.45 302.011,1255.2 322.943,1291.85 343.876,1314.18 364.808,1344.07 385.74,1351.53 406.673,1357.46 427.605,1367.76 448.537,1376.27 469.47,1388.33 490.402,1392.02 511.335,1395.13 532.267,1400.64 553.199,1403.23 574.132,1404.52 595.064,1412.76 615.996,1416.83 636.929,1417.79 657.861,1421.81 678.794,1445.72 699.726,1445.72 720.658,1445.72 741.591,1445.72 762.523,1445.72 783.456,1445.72 804.388,1445.72 825.32,1445.72 846.253,1445.72 867.185,1445.72 888.117,1445.72 909.05,1445.72 929.982,1445.72 950.915,1445.72 971.847,1445.72 992.779,1445.72 1013.71,1445.72 1034.64,1445.72 1055.58,1445.72 1076.51,1445.72 1097.44,1445.72 1118.37,1445.72 1139.31,1445.72 1160.24,1445.72 1181.17,1445.72 1202.1,1445.72 1223.04,1445.72 1243.97,1445.72 1264.9,1445.72 1285.83,1445.72 1306.76,1445.72 1327.7,1445.72 1348.63,1445.72 1369.56,1445.72 1390.49,1445.72 1411.43,1445.72 1432.36,1445.72 1453.29,1445.72 1474.22,1445.72 1495.16,1445.72 1516.09,1445.72 1537.02,1445.72 1557.95,1445.72 1578.89,1445.72 1599.82,1445.72 1620.75,1445.72 1641.68,1445.72 1662.62,1445.72 1683.55,1445.72 1704.48,1445.72 1725.41,1445.72 1746.34,1445.72 1767.28,1445.72 1788.21,1445.72 1809.14,1445.72 1830.07,1445.72 1851.01,1445.72 1871.94,1445.72 1892.87,1445.72 1913.8,1445.72 1934.74,1445.72 1955.67,1445.72 1976.6,1445.72 1997.53,1445.72 2018.47,1445.72 2039.4,1445.72 2060.33,1445.72 2081.26,1445.72 2102.2,1445.72 2123.13,1445.72 2144.06,1445.72 2164.99,1445.72 2185.92,1445.72 2206.86,1445.72 2227.79,1445.72 2248.72,1445.72 2269.65,1445.72 2290.59,1445.72 \"/>\n",
       "<path clip-path=\"url(#clip200)\" d=\"M2007.44 198.898 L2279.53 198.898 L2279.53 95.2176 L2007.44 95.2176  Z\" fill=\"#ffffff\" fill-rule=\"evenodd\" fill-opacity=\"1\"/>\n",
       "<polyline clip-path=\"url(#clip200)\" style=\"stroke:#000000; stroke-linecap:round; stroke-linejoin:round; stroke-width:4; stroke-opacity:1; fill:none\" points=\"2007.44,198.898 2279.53,198.898 2279.53,95.2176 2007.44,95.2176 2007.44,198.898 \"/>\n",
       "<polyline clip-path=\"url(#clip200)\" style=\"stroke:#009af9; stroke-linecap:round; stroke-linejoin:round; stroke-width:4; stroke-opacity:1; fill:none\" points=\"2031.85,147.058 2178.29,147.058 \"/>\n",
       "<path clip-path=\"url(#clip200)\" d=\"M2216.54 166.745 Q2214.73 171.375 2213.02 172.787 Q2211.31 174.199 2208.44 174.199 L2205.03 174.199 L2205.03 170.634 L2207.53 170.634 Q2209.29 170.634 2210.27 169.8 Q2211.24 168.967 2212.42 165.865 L2213.18 163.921 L2202.7 138.412 L2207.21 138.412 L2215.31 158.689 L2223.41 138.412 L2227.93 138.412 L2216.54 166.745 Z\" fill=\"#000000\" fill-rule=\"nonzero\" fill-opacity=\"1\" /><path clip-path=\"url(#clip200)\" d=\"M2235.22 160.402 L2242.86 160.402 L2242.86 134.037 L2234.55 135.703 L2234.55 131.444 L2242.81 129.778 L2247.49 129.778 L2247.49 160.402 L2255.13 160.402 L2255.13 164.338 L2235.22 164.338 L2235.22 160.402 Z\" fill=\"#000000\" fill-rule=\"nonzero\" fill-opacity=\"1\" /></svg>\n"
      ],
      "text/html": [
       "<?xml version=\"1.0\" encoding=\"utf-8\"?>\n",
       "<svg xmlns=\"http://www.w3.org/2000/svg\" xmlns:xlink=\"http://www.w3.org/1999/xlink\" width=\"600\" height=\"400\" viewBox=\"0 0 2400 1600\">\n",
       "<defs>\n",
       "  <clipPath id=\"clip250\">\n",
       "    <rect x=\"0\" y=\"0\" width=\"2400\" height=\"1600\"/>\n",
       "  </clipPath>\n",
       "</defs>\n",
       "<path clip-path=\"url(#clip250)\" d=\"M0 1600 L2400 1600 L2400 0 L0 0  Z\" fill=\"#ffffff\" fill-rule=\"evenodd\" fill-opacity=\"1\"/>\n",
       "<defs>\n",
       "  <clipPath id=\"clip251\">\n",
       "    <rect x=\"480\" y=\"0\" width=\"1681\" height=\"1600\"/>\n",
       "  </clipPath>\n",
       "</defs>\n",
       "<path clip-path=\"url(#clip250)\" d=\"M156.112 1486.45 L2352.76 1486.45 L2352.76 47.2441 L156.112 47.2441  Z\" fill=\"#ffffff\" fill-rule=\"evenodd\" fill-opacity=\"1\"/>\n",
       "<defs>\n",
       "  <clipPath id=\"clip252\">\n",
       "    <rect x=\"156\" y=\"47\" width=\"2198\" height=\"1440\"/>\n",
       "  </clipPath>\n",
       "</defs>\n",
       "<polyline clip-path=\"url(#clip252)\" style=\"stroke:#000000; stroke-linecap:round; stroke-linejoin:round; stroke-width:2; stroke-opacity:0.1; fill:none\" points=\"197.349,1486.45 197.349,47.2441 \"/>\n",
       "<polyline clip-path=\"url(#clip252)\" style=\"stroke:#000000; stroke-linecap:round; stroke-linejoin:round; stroke-width:2; stroke-opacity:0.1; fill:none\" points=\"720.658,1486.45 720.658,47.2441 \"/>\n",
       "<polyline clip-path=\"url(#clip252)\" style=\"stroke:#000000; stroke-linecap:round; stroke-linejoin:round; stroke-width:2; stroke-opacity:0.1; fill:none\" points=\"1243.97,1486.45 1243.97,47.2441 \"/>\n",
       "<polyline clip-path=\"url(#clip252)\" style=\"stroke:#000000; stroke-linecap:round; stroke-linejoin:round; stroke-width:2; stroke-opacity:0.1; fill:none\" points=\"1767.28,1486.45 1767.28,47.2441 \"/>\n",
       "<polyline clip-path=\"url(#clip252)\" style=\"stroke:#000000; stroke-linecap:round; stroke-linejoin:round; stroke-width:2; stroke-opacity:0.1; fill:none\" points=\"2290.59,1486.45 2290.59,47.2441 \"/>\n",
       "<polyline clip-path=\"url(#clip250)\" style=\"stroke:#000000; stroke-linecap:round; stroke-linejoin:round; stroke-width:4; stroke-opacity:1; fill:none\" points=\"156.112,1486.45 2352.76,1486.45 \"/>\n",
       "<polyline clip-path=\"url(#clip250)\" style=\"stroke:#000000; stroke-linecap:round; stroke-linejoin:round; stroke-width:4; stroke-opacity:1; fill:none\" points=\"197.349,1486.45 197.349,1467.55 \"/>\n",
       "<polyline clip-path=\"url(#clip250)\" style=\"stroke:#000000; stroke-linecap:round; stroke-linejoin:round; stroke-width:4; stroke-opacity:1; fill:none\" points=\"720.658,1486.45 720.658,1467.55 \"/>\n",
       "<polyline clip-path=\"url(#clip250)\" style=\"stroke:#000000; stroke-linecap:round; stroke-linejoin:round; stroke-width:4; stroke-opacity:1; fill:none\" points=\"1243.97,1486.45 1243.97,1467.55 \"/>\n",
       "<polyline clip-path=\"url(#clip250)\" style=\"stroke:#000000; stroke-linecap:round; stroke-linejoin:round; stroke-width:4; stroke-opacity:1; fill:none\" points=\"1767.28,1486.45 1767.28,1467.55 \"/>\n",
       "<polyline clip-path=\"url(#clip250)\" style=\"stroke:#000000; stroke-linecap:round; stroke-linejoin:round; stroke-width:4; stroke-opacity:1; fill:none\" points=\"2290.59,1486.45 2290.59,1467.55 \"/>\n",
       "<path clip-path=\"url(#clip250)\" d=\"M197.349 1517.37 Q193.738 1517.37 191.909 1520.93 Q190.104 1524.47 190.104 1531.6 Q190.104 1538.71 191.909 1542.27 Q193.738 1545.82 197.349 1545.82 Q200.983 1545.82 202.789 1542.27 Q204.617 1538.71 204.617 1531.6 Q204.617 1524.47 202.789 1520.93 Q200.983 1517.37 197.349 1517.37 M197.349 1513.66 Q203.159 1513.66 206.215 1518.27 Q209.293 1522.85 209.293 1531.6 Q209.293 1540.33 206.215 1544.94 Q203.159 1549.52 197.349 1549.52 Q191.539 1549.52 188.46 1544.94 Q185.405 1540.33 185.405 1531.6 Q185.405 1522.85 188.46 1518.27 Q191.539 1513.66 197.349 1513.66 Z\" fill=\"#000000\" fill-rule=\"nonzero\" fill-opacity=\"1\" /><path clip-path=\"url(#clip250)\" d=\"M699.929 1544.91 L716.249 1544.91 L716.249 1548.85 L694.304 1548.85 L694.304 1544.91 Q696.966 1542.16 701.55 1537.53 Q706.156 1532.88 707.337 1531.53 Q709.582 1529.01 710.462 1527.27 Q711.364 1525.51 711.364 1523.82 Q711.364 1521.07 709.42 1519.33 Q707.499 1517.6 704.397 1517.6 Q702.198 1517.6 699.744 1518.36 Q697.314 1519.13 694.536 1520.68 L694.536 1515.95 Q697.36 1514.82 699.814 1514.24 Q702.267 1513.66 704.304 1513.66 Q709.675 1513.66 712.869 1516.35 Q716.063 1519.03 716.063 1523.52 Q716.063 1525.65 715.253 1527.57 Q714.466 1529.47 712.36 1532.07 Q711.781 1532.74 708.679 1535.95 Q705.577 1539.15 699.929 1544.91 Z\" fill=\"#000000\" fill-rule=\"nonzero\" fill-opacity=\"1\" /><path clip-path=\"url(#clip250)\" d=\"M726.11 1514.29 L744.466 1514.29 L744.466 1518.22 L730.392 1518.22 L730.392 1526.7 Q731.411 1526.35 732.429 1526.19 Q733.448 1526 734.466 1526 Q740.253 1526 743.633 1529.17 Q747.012 1532.34 747.012 1537.76 Q747.012 1543.34 743.54 1546.44 Q740.068 1549.52 733.749 1549.52 Q731.573 1549.52 729.304 1549.15 Q727.059 1548.78 724.651 1548.04 L724.651 1543.34 Q726.735 1544.47 728.957 1545.03 Q731.179 1545.58 733.656 1545.58 Q737.661 1545.58 739.999 1543.48 Q742.336 1541.37 742.336 1537.76 Q742.336 1534.15 739.999 1532.04 Q737.661 1529.94 733.656 1529.94 Q731.781 1529.94 729.906 1530.35 Q728.054 1530.77 726.11 1531.65 L726.11 1514.29 Z\" fill=\"#000000\" fill-rule=\"nonzero\" fill-opacity=\"1\" /><path clip-path=\"url(#clip250)\" d=\"M1218.67 1514.29 L1237.02 1514.29 L1237.02 1518.22 L1222.95 1518.22 L1222.95 1526.7 Q1223.97 1526.35 1224.99 1526.19 Q1226 1526 1227.02 1526 Q1232.81 1526 1236.19 1529.17 Q1239.57 1532.34 1239.57 1537.76 Q1239.57 1543.34 1236.1 1546.44 Q1232.63 1549.52 1226.31 1549.52 Q1224.13 1549.52 1221.86 1549.15 Q1219.62 1548.78 1217.21 1548.04 L1217.21 1543.34 Q1219.29 1544.47 1221.51 1545.03 Q1223.74 1545.58 1226.21 1545.58 Q1230.22 1545.58 1232.56 1543.48 Q1234.89 1541.37 1234.89 1537.76 Q1234.89 1534.15 1232.56 1532.04 Q1230.22 1529.94 1226.21 1529.94 Q1224.34 1529.94 1222.46 1530.35 Q1220.61 1530.77 1218.67 1531.65 L1218.67 1514.29 Z\" fill=\"#000000\" fill-rule=\"nonzero\" fill-opacity=\"1\" /><path clip-path=\"url(#clip250)\" d=\"M1258.78 1517.37 Q1255.17 1517.37 1253.34 1520.93 Q1251.54 1524.47 1251.54 1531.6 Q1251.54 1538.71 1253.34 1542.27 Q1255.17 1545.82 1258.78 1545.82 Q1262.42 1545.82 1264.22 1542.27 Q1266.05 1538.71 1266.05 1531.6 Q1266.05 1524.47 1264.22 1520.93 Q1262.42 1517.37 1258.78 1517.37 M1258.78 1513.66 Q1264.59 1513.66 1267.65 1518.27 Q1270.73 1522.85 1270.73 1531.6 Q1270.73 1540.33 1267.65 1544.94 Q1264.59 1549.52 1258.78 1549.52 Q1252.97 1549.52 1249.89 1544.94 Q1246.84 1540.33 1246.84 1531.6 Q1246.84 1522.85 1249.89 1518.27 Q1252.97 1513.66 1258.78 1513.66 Z\" fill=\"#000000\" fill-rule=\"nonzero\" fill-opacity=\"1\" /><path clip-path=\"url(#clip250)\" d=\"M1741.13 1514.29 L1763.35 1514.29 L1763.35 1516.28 L1750.81 1548.85 L1745.92 1548.85 L1757.73 1518.22 L1741.13 1518.22 L1741.13 1514.29 Z\" fill=\"#000000\" fill-rule=\"nonzero\" fill-opacity=\"1\" /><path clip-path=\"url(#clip250)\" d=\"M1772.52 1514.29 L1790.88 1514.29 L1790.88 1518.22 L1776.8 1518.22 L1776.8 1526.7 Q1777.82 1526.35 1778.84 1526.19 Q1779.86 1526 1780.88 1526 Q1786.66 1526 1790.04 1529.17 Q1793.42 1532.34 1793.42 1537.76 Q1793.42 1543.34 1789.95 1546.44 Q1786.48 1549.52 1780.16 1549.52 Q1777.98 1549.52 1775.71 1549.15 Q1773.47 1548.78 1771.06 1548.04 L1771.06 1543.34 Q1773.15 1544.47 1775.37 1545.03 Q1777.59 1545.58 1780.07 1545.58 Q1784.07 1545.58 1786.41 1543.48 Q1788.75 1541.37 1788.75 1537.76 Q1788.75 1534.15 1786.41 1532.04 Q1784.07 1529.94 1780.07 1529.94 Q1778.19 1529.94 1776.32 1530.35 Q1774.46 1530.77 1772.52 1531.65 L1772.52 1514.29 Z\" fill=\"#000000\" fill-rule=\"nonzero\" fill-opacity=\"1\" /><path clip-path=\"url(#clip250)\" d=\"M2250.19 1544.91 L2257.83 1544.91 L2257.83 1518.55 L2249.52 1520.21 L2249.52 1515.95 L2257.79 1514.29 L2262.46 1514.29 L2262.46 1544.91 L2270.1 1544.91 L2270.1 1548.85 L2250.19 1548.85 L2250.19 1544.91 Z\" fill=\"#000000\" fill-rule=\"nonzero\" fill-opacity=\"1\" /><path clip-path=\"url(#clip250)\" d=\"M2289.55 1517.37 Q2285.93 1517.37 2284.11 1520.93 Q2282.3 1524.47 2282.3 1531.6 Q2282.3 1538.71 2284.11 1542.27 Q2285.93 1545.82 2289.55 1545.82 Q2293.18 1545.82 2294.98 1542.27 Q2296.81 1538.71 2296.81 1531.6 Q2296.81 1524.47 2294.98 1520.93 Q2293.18 1517.37 2289.55 1517.37 M2289.55 1513.66 Q2295.36 1513.66 2298.41 1518.27 Q2301.49 1522.85 2301.49 1531.6 Q2301.49 1540.33 2298.41 1544.94 Q2295.36 1549.52 2289.55 1549.52 Q2283.73 1549.52 2280.66 1544.94 Q2277.6 1540.33 2277.6 1531.6 Q2277.6 1522.85 2280.66 1518.27 Q2283.73 1513.66 2289.55 1513.66 Z\" fill=\"#000000\" fill-rule=\"nonzero\" fill-opacity=\"1\" /><path clip-path=\"url(#clip250)\" d=\"M2319.71 1517.37 Q2316.1 1517.37 2314.27 1520.93 Q2312.46 1524.47 2312.46 1531.6 Q2312.46 1538.71 2314.27 1542.27 Q2316.1 1545.82 2319.71 1545.82 Q2323.34 1545.82 2325.15 1542.27 Q2326.98 1538.71 2326.98 1531.6 Q2326.98 1524.47 2325.15 1520.93 Q2323.34 1517.37 2319.71 1517.37 M2319.71 1513.66 Q2325.52 1513.66 2328.57 1518.27 Q2331.65 1522.85 2331.65 1531.6 Q2331.65 1540.33 2328.57 1544.94 Q2325.52 1549.52 2319.71 1549.52 Q2313.9 1549.52 2310.82 1544.94 Q2307.76 1540.33 2307.76 1531.6 Q2307.76 1522.85 2310.82 1518.27 Q2313.9 1513.66 2319.71 1513.66 Z\" fill=\"#000000\" fill-rule=\"nonzero\" fill-opacity=\"1\" /><polyline clip-path=\"url(#clip252)\" style=\"stroke:#000000; stroke-linecap:round; stroke-linejoin:round; stroke-width:2; stroke-opacity:0.1; fill:none\" points=\"156.112,1445.72 2352.76,1445.72 \"/>\n",
       "<polyline clip-path=\"url(#clip252)\" style=\"stroke:#000000; stroke-linecap:round; stroke-linejoin:round; stroke-width:2; stroke-opacity:0.1; fill:none\" points=\"156.112,1072.13 2352.76,1072.13 \"/>\n",
       "<polyline clip-path=\"url(#clip252)\" style=\"stroke:#000000; stroke-linecap:round; stroke-linejoin:round; stroke-width:2; stroke-opacity:0.1; fill:none\" points=\"156.112,698.542 2352.76,698.542 \"/>\n",
       "<polyline clip-path=\"url(#clip252)\" style=\"stroke:#000000; stroke-linecap:round; stroke-linejoin:round; stroke-width:2; stroke-opacity:0.1; fill:none\" points=\"156.112,324.955 2352.76,324.955 \"/>\n",
       "<polyline clip-path=\"url(#clip250)\" style=\"stroke:#000000; stroke-linecap:round; stroke-linejoin:round; stroke-width:4; stroke-opacity:1; fill:none\" points=\"156.112,1486.45 156.112,47.2441 \"/>\n",
       "<polyline clip-path=\"url(#clip250)\" style=\"stroke:#000000; stroke-linecap:round; stroke-linejoin:round; stroke-width:4; stroke-opacity:1; fill:none\" points=\"156.112,1445.72 175.01,1445.72 \"/>\n",
       "<polyline clip-path=\"url(#clip250)\" style=\"stroke:#000000; stroke-linecap:round; stroke-linejoin:round; stroke-width:4; stroke-opacity:1; fill:none\" points=\"156.112,1072.13 175.01,1072.13 \"/>\n",
       "<polyline clip-path=\"url(#clip250)\" style=\"stroke:#000000; stroke-linecap:round; stroke-linejoin:round; stroke-width:4; stroke-opacity:1; fill:none\" points=\"156.112,698.542 175.01,698.542 \"/>\n",
       "<polyline clip-path=\"url(#clip250)\" style=\"stroke:#000000; stroke-linecap:round; stroke-linejoin:round; stroke-width:4; stroke-opacity:1; fill:none\" points=\"156.112,324.955 175.01,324.955 \"/>\n",
       "<path clip-path=\"url(#clip250)\" d=\"M62.9365 1431.51 Q59.3254 1431.51 57.4967 1435.08 Q55.6912 1438.62 55.6912 1445.75 Q55.6912 1452.86 57.4967 1456.42 Q59.3254 1459.96 62.9365 1459.96 Q66.5707 1459.96 68.3763 1456.42 Q70.205 1452.86 70.205 1445.75 Q70.205 1438.62 68.3763 1435.08 Q66.5707 1431.51 62.9365 1431.51 M62.9365 1427.81 Q68.7467 1427.81 71.8022 1432.42 Q74.8809 1437 74.8809 1445.75 Q74.8809 1454.48 71.8022 1459.08 Q68.7467 1463.67 62.9365 1463.67 Q57.1264 1463.67 54.0477 1459.08 Q50.9921 1454.48 50.9921 1445.75 Q50.9921 1437 54.0477 1432.42 Q57.1264 1427.81 62.9365 1427.81 Z\" fill=\"#000000\" fill-rule=\"nonzero\" fill-opacity=\"1\" /><path clip-path=\"url(#clip250)\" d=\"M83.0984 1457.12 L87.9827 1457.12 L87.9827 1463 L83.0984 1463 L83.0984 1457.12 Z\" fill=\"#000000\" fill-rule=\"nonzero\" fill-opacity=\"1\" /><path clip-path=\"url(#clip250)\" d=\"M108.168 1431.51 Q104.557 1431.51 102.728 1435.08 Q100.922 1438.62 100.922 1445.75 Q100.922 1452.86 102.728 1456.42 Q104.557 1459.96 108.168 1459.96 Q111.802 1459.96 113.608 1456.42 Q115.436 1452.86 115.436 1445.75 Q115.436 1438.62 113.608 1435.08 Q111.802 1431.51 108.168 1431.51 M108.168 1427.81 Q113.978 1427.81 117.033 1432.42 Q120.112 1437 120.112 1445.75 Q120.112 1454.48 117.033 1459.08 Q113.978 1463.67 108.168 1463.67 Q102.358 1463.67 99.2789 1459.08 Q96.2234 1454.48 96.2234 1445.75 Q96.2234 1437 99.2789 1432.42 Q102.358 1427.81 108.168 1427.81 Z\" fill=\"#000000\" fill-rule=\"nonzero\" fill-opacity=\"1\" /><path clip-path=\"url(#clip250)\" d=\"M64.1634 1057.93 Q60.5523 1057.93 58.7236 1061.49 Q56.918 1065.03 56.918 1072.16 Q56.918 1079.27 58.7236 1082.83 Q60.5523 1086.38 64.1634 1086.38 Q67.7976 1086.38 69.6031 1082.83 Q71.4318 1079.27 71.4318 1072.16 Q71.4318 1065.03 69.6031 1061.49 Q67.7976 1057.93 64.1634 1057.93 M64.1634 1054.22 Q69.9735 1054.22 73.029 1058.83 Q76.1077 1063.41 76.1077 1072.16 Q76.1077 1080.89 73.029 1085.5 Q69.9735 1090.08 64.1634 1090.08 Q58.3532 1090.08 55.2745 1085.5 Q52.219 1080.89 52.219 1072.16 Q52.219 1063.41 55.2745 1058.83 Q58.3532 1054.22 64.1634 1054.22 Z\" fill=\"#000000\" fill-rule=\"nonzero\" fill-opacity=\"1\" /><path clip-path=\"url(#clip250)\" d=\"M84.3253 1083.53 L89.2095 1083.53 L89.2095 1089.41 L84.3253 1089.41 L84.3253 1083.53 Z\" fill=\"#000000\" fill-rule=\"nonzero\" fill-opacity=\"1\" /><path clip-path=\"url(#clip250)\" d=\"M100.205 1085.47 L107.844 1085.47 L107.844 1059.11 L99.5335 1060.77 L99.5335 1056.52 L107.797 1054.85 L112.473 1054.85 L112.473 1085.47 L120.112 1085.47 L120.112 1089.41 L100.205 1089.41 L100.205 1085.47 Z\" fill=\"#000000\" fill-rule=\"nonzero\" fill-opacity=\"1\" /><path clip-path=\"url(#clip250)\" d=\"M64.5337 684.34 Q60.9226 684.34 59.0939 687.905 Q57.2884 691.447 57.2884 698.576 Q57.2884 705.683 59.0939 709.248 Q60.9226 712.789 64.5337 712.789 Q68.168 712.789 69.9735 709.248 Q71.8022 705.683 71.8022 698.576 Q71.8022 691.447 69.9735 687.905 Q68.168 684.34 64.5337 684.34 M64.5337 680.637 Q70.3439 680.637 73.3994 685.243 Q76.4781 689.826 76.4781 698.576 Q76.4781 707.303 73.3994 711.91 Q70.3439 716.493 64.5337 716.493 Q58.7236 716.493 55.6449 711.91 Q52.5893 707.303 52.5893 698.576 Q52.5893 689.826 55.6449 685.243 Q58.7236 680.637 64.5337 680.637 Z\" fill=\"#000000\" fill-rule=\"nonzero\" fill-opacity=\"1\" /><path clip-path=\"url(#clip250)\" d=\"M84.6956 709.942 L89.5799 709.942 L89.5799 715.822 L84.6956 715.822 L84.6956 709.942 Z\" fill=\"#000000\" fill-rule=\"nonzero\" fill-opacity=\"1\" /><path clip-path=\"url(#clip250)\" d=\"M103.793 711.886 L120.112 711.886 L120.112 715.822 L98.1678 715.822 L98.1678 711.886 Q100.83 709.132 105.413 704.502 Q110.02 699.849 111.2 698.507 Q113.445 695.984 114.325 694.248 Q115.228 692.488 115.228 690.799 Q115.228 688.044 113.283 686.308 Q111.362 684.572 108.26 684.572 Q106.061 684.572 103.608 685.336 Q101.177 686.1 98.3993 687.65 L98.3993 682.928 Q101.223 681.794 103.677 681.215 Q106.131 680.637 108.168 680.637 Q113.538 680.637 116.733 683.322 Q119.927 686.007 119.927 690.498 Q119.927 692.627 119.117 694.549 Q118.33 696.447 116.223 699.039 Q115.645 699.711 112.543 702.928 Q109.441 706.123 103.793 711.886 Z\" fill=\"#000000\" fill-rule=\"nonzero\" fill-opacity=\"1\" /><path clip-path=\"url(#clip250)\" d=\"M63.5847 310.753 Q59.9736 310.753 58.1449 314.318 Q56.3393 317.86 56.3393 324.989 Q56.3393 332.096 58.1449 335.66 Q59.9736 339.202 63.5847 339.202 Q67.2189 339.202 69.0244 335.66 Q70.8531 332.096 70.8531 324.989 Q70.8531 317.86 69.0244 314.318 Q67.2189 310.753 63.5847 310.753 M63.5847 307.05 Q69.3948 307.05 72.4503 311.656 Q75.529 316.239 75.529 324.989 Q75.529 333.716 72.4503 338.322 Q69.3948 342.906 63.5847 342.906 Q57.7745 342.906 54.6958 338.322 Q51.6403 333.716 51.6403 324.989 Q51.6403 316.239 54.6958 311.656 Q57.7745 307.05 63.5847 307.05 Z\" fill=\"#000000\" fill-rule=\"nonzero\" fill-opacity=\"1\" /><path clip-path=\"url(#clip250)\" d=\"M83.7466 336.355 L88.6308 336.355 L88.6308 342.235 L83.7466 342.235 L83.7466 336.355 Z\" fill=\"#000000\" fill-rule=\"nonzero\" fill-opacity=\"1\" /><path clip-path=\"url(#clip250)\" d=\"M112.983 323.6 Q116.339 324.318 118.214 326.586 Q120.112 328.855 120.112 332.188 Q120.112 337.304 116.594 340.105 Q113.075 342.906 106.594 342.906 Q104.418 342.906 102.103 342.466 Q99.8113 342.049 97.3576 341.193 L97.3576 336.679 Q99.3021 337.813 101.617 338.392 Q103.932 338.971 106.455 338.971 Q110.853 338.971 113.145 337.235 Q115.459 335.498 115.459 332.188 Q115.459 329.133 113.307 327.42 Q111.177 325.684 107.358 325.684 L103.33 325.684 L103.33 321.841 L107.543 321.841 Q110.992 321.841 112.82 320.475 Q114.649 319.086 114.649 316.494 Q114.649 313.832 112.751 312.42 Q110.876 310.985 107.358 310.985 Q105.436 310.985 103.237 311.401 Q101.038 311.818 98.3993 312.698 L98.3993 308.531 Q101.061 307.79 103.376 307.42 Q105.714 307.05 107.774 307.05 Q113.098 307.05 116.2 309.48 Q119.302 311.887 119.302 316.008 Q119.302 318.878 117.658 320.869 Q116.015 322.836 112.983 323.6 Z\" fill=\"#000000\" fill-rule=\"nonzero\" fill-opacity=\"1\" /><polyline clip-path=\"url(#clip252)\" style=\"stroke:#009af9; stroke-linecap:round; stroke-linejoin:round; stroke-width:4; stroke-opacity:1; fill:none\" points=\"218.281,87.9763 239.214,1047.62 260.146,1059.47 281.078,1163.45 302.011,1255.2 322.943,1291.85 343.876,1314.18 364.808,1344.07 385.74,1351.53 406.673,1357.46 427.605,1367.76 448.537,1376.27 469.47,1388.33 490.402,1392.02 511.335,1395.13 532.267,1400.64 553.199,1403.23 574.132,1404.52 595.064,1412.76 615.996,1416.83 636.929,1417.79 657.861,1421.81 678.794,1445.72 699.726,1445.72 720.658,1445.72 741.591,1445.72 762.523,1445.72 783.456,1445.72 804.388,1445.72 825.32,1445.72 846.253,1445.72 867.185,1445.72 888.117,1445.72 909.05,1445.72 929.982,1445.72 950.915,1445.72 971.847,1445.72 992.779,1445.72 1013.71,1445.72 1034.64,1445.72 1055.58,1445.72 1076.51,1445.72 1097.44,1445.72 1118.37,1445.72 1139.31,1445.72 1160.24,1445.72 1181.17,1445.72 1202.1,1445.72 1223.04,1445.72 1243.97,1445.72 1264.9,1445.72 1285.83,1445.72 1306.76,1445.72 1327.7,1445.72 1348.63,1445.72 1369.56,1445.72 1390.49,1445.72 1411.43,1445.72 1432.36,1445.72 1453.29,1445.72 1474.22,1445.72 1495.16,1445.72 1516.09,1445.72 1537.02,1445.72 1557.95,1445.72 1578.89,1445.72 1599.82,1445.72 1620.75,1445.72 1641.68,1445.72 1662.62,1445.72 1683.55,1445.72 1704.48,1445.72 1725.41,1445.72 1746.34,1445.72 1767.28,1445.72 1788.21,1445.72 1809.14,1445.72 1830.07,1445.72 1851.01,1445.72 1871.94,1445.72 1892.87,1445.72 1913.8,1445.72 1934.74,1445.72 1955.67,1445.72 1976.6,1445.72 1997.53,1445.72 2018.47,1445.72 2039.4,1445.72 2060.33,1445.72 2081.26,1445.72 2102.2,1445.72 2123.13,1445.72 2144.06,1445.72 2164.99,1445.72 2185.92,1445.72 2206.86,1445.72 2227.79,1445.72 2248.72,1445.72 2269.65,1445.72 2290.59,1445.72 \"/>\n",
       "<path clip-path=\"url(#clip250)\" d=\"M2007.44 198.898 L2279.53 198.898 L2279.53 95.2176 L2007.44 95.2176  Z\" fill=\"#ffffff\" fill-rule=\"evenodd\" fill-opacity=\"1\"/>\n",
       "<polyline clip-path=\"url(#clip250)\" style=\"stroke:#000000; stroke-linecap:round; stroke-linejoin:round; stroke-width:4; stroke-opacity:1; fill:none\" points=\"2007.44,198.898 2279.53,198.898 2279.53,95.2176 2007.44,95.2176 2007.44,198.898 \"/>\n",
       "<polyline clip-path=\"url(#clip250)\" style=\"stroke:#009af9; stroke-linecap:round; stroke-linejoin:round; stroke-width:4; stroke-opacity:1; fill:none\" points=\"2031.85,147.058 2178.29,147.058 \"/>\n",
       "<path clip-path=\"url(#clip250)\" d=\"M2216.54 166.745 Q2214.73 171.375 2213.02 172.787 Q2211.31 174.199 2208.44 174.199 L2205.03 174.199 L2205.03 170.634 L2207.53 170.634 Q2209.29 170.634 2210.27 169.8 Q2211.24 168.967 2212.42 165.865 L2213.18 163.921 L2202.7 138.412 L2207.21 138.412 L2215.31 158.689 L2223.41 138.412 L2227.93 138.412 L2216.54 166.745 Z\" fill=\"#000000\" fill-rule=\"nonzero\" fill-opacity=\"1\" /><path clip-path=\"url(#clip250)\" d=\"M2235.22 160.402 L2242.86 160.402 L2242.86 134.037 L2234.55 135.703 L2234.55 131.444 L2242.81 129.778 L2247.49 129.778 L2247.49 160.402 L2255.13 160.402 L2255.13 164.338 L2235.22 164.338 L2235.22 160.402 Z\" fill=\"#000000\" fill-rule=\"nonzero\" fill-opacity=\"1\" /></svg>\n"
      ]
     },
     "metadata": {},
     "output_type": "display_data"
    }
   ],
   "source": [
    "using Plots;\n",
    "\n",
    "sorted_values=sorted_values./sum(sorted_values)\n",
    "plot(sorted_values[1:100])"
   ]
  },
  {
   "cell_type": "code",
   "execution_count": 11,
   "metadata": {},
   "outputs": [
    {
     "data": {
      "text/plain": [
       "(4096, 4096)"
      ]
     },
     "metadata": {},
     "output_type": "display_data"
    }
   ],
   "source": [
    "size(vectors)"
   ]
  },
  {
   "cell_type": "code",
   "execution_count": 12,
   "metadata": {},
   "outputs": [
    {
     "data": {
      "text/plain": [
       "25"
      ]
     },
     "metadata": {},
     "output_type": "display_data"
    }
   ],
   "source": [
    "num_components=25"
   ]
  },
  {
   "cell_type": "code",
   "execution_count": 15,
   "metadata": {},
   "outputs": [],
   "source": [
    "eigenfaces=vectors[:,4096:-1:(4096-num_components+1)];"
   ]
  },
  {
   "cell_type": "code",
   "execution_count": 17,
   "metadata": {},
   "outputs": [
    {
     "data": {
      "text/plain": [
       "(4096, 25)"
      ]
     },
     "metadata": {},
     "output_type": "display_data"
    }
   ],
   "source": [
    "size(eigenfaces)"
   ]
  },
  {
   "cell_type": "code",
   "execution_count": 18,
   "metadata": {},
   "outputs": [],
   "source": [
    "P=transpose(eigenfaces)*transpose(centered_mat);"
   ]
  },
  {
   "cell_type": "code",
   "execution_count": 21,
   "metadata": {},
   "outputs": [
    {
     "data": {
      "text/plain": [
       "25×23 Matrix{Float64}:\n",
       " -1778.27         2486.09         …  -3683.3           -704.231\n",
       "  1204.55          447.36             3020.44           539.949\n",
       " -1678.58          739.951            -434.328         -827.797\n",
       "  -717.624          88.4084            458.142         2559.24\n",
       "  -149.743         109.373           -1219.34          -152.485\n",
       "   764.808        -192.488        …  -1087.38          -148.239\n",
       "   813.711         248.588             808.306         -590.594\n",
       "   461.526        -269.644            -789.061           12.8312\n",
       "   992.136         -10.6895           -518.263        -1139.49\n",
       "  -720.051        -162.884           -1125.48           289.348\n",
       "     ⋮                            ⋱                   \n",
       "   638.224         227.091            -243.428          497.24\n",
       "   -70.362        -421.787             394.454         -506.577\n",
       "   -34.0007        333.046             -50.7842        -463.289\n",
       "   555.01          177.704              65.2872        -108.58\n",
       "  -126.641        -670.563        …     90.2081        -199.427\n",
       "    37.6842       1148.54              -74.1983         -97.2271\n",
       "    -4.46754e-13     3.78719e-12        -2.83507e-12      1.5099e-12\n",
       "     1.4353e-12      1.22569e-12         2.00373e-12     -1.11222e-12\n",
       "    -4.93117e-12     4.47642e-13        -5.34328e-12      2.77822e-12"
      ]
     },
     "metadata": {},
     "output_type": "display_data"
    }
   ],
   "source": [
    "P"
   ]
  },
  {
   "cell_type": "code",
   "execution_count": 19,
   "metadata": {},
   "outputs": [
    {
     "data": {
      "text/plain": [
       "23×4096 Matrix{Float64}:\n",
       " 205.0  206.0  207.0  208.0  210.0  …   16.0   19.0   17.0   28.0   29.0\n",
       "  35.0   36.0   39.0   43.0   50.0      20.0   19.0   18.0   20.0   14.0\n",
       " 153.0  147.0  133.0  126.0  121.0     187.0  174.0  151.0  127.0   99.0\n",
       "  75.0   79.0   83.0   88.0   91.0      15.0   21.0   20.0   14.0    5.0\n",
       "  12.0   13.0   16.0   16.0   15.0      20.0    9.0   12.0    9.0   11.0\n",
       "  70.0   74.0   75.0   75.0   74.0  …   36.0   36.0   34.0   39.0   22.0\n",
       " 102.0  100.0   98.0   96.0   97.0     136.0  137.0  135.0  134.0  136.0\n",
       "  75.0   75.0   76.0   76.0   76.0      80.0   86.0  105.0  111.0  117.0\n",
       "  95.0   97.0   98.0   98.0  100.0     104.0  104.0  104.0  100.0   23.0\n",
       " 201.0  202.0  202.0  202.0  203.0     203.0  203.0  205.0  209.0    6.0\n",
       "   ⋮                                ⋱                                ⋮\n",
       " 164.0  168.0  169.0  172.0  175.0     209.0  207.0  206.0  205.0  204.0\n",
       " 138.0  139.0  139.0  141.0  141.0  …  220.0  220.0  220.0  221.0  221.0\n",
       " 253.0  253.0  253.0  253.0  253.0     102.0   95.0   87.0   90.0   91.0\n",
       " 207.0  211.0  214.0  211.0  211.0     247.0  253.0  254.0  254.0  255.0\n",
       " 255.0  255.0  255.0  255.0  255.0      58.0   61.0   85.0   88.0   80.0\n",
       "  38.0   38.0   36.0   36.0   36.0      34.0   54.0   65.0   86.0  150.0\n",
       " 121.0  120.0  121.0  119.0  119.0  …   82.0   72.0   67.0   71.0   56.0\n",
       " 243.0  242.0  243.0  246.0  247.0      14.0   13.0   12.0   12.0   14.0\n",
       " 126.0  120.0  133.0  140.0  150.0      22.0   19.0  112.0  128.0  125.0"
      ]
     },
     "metadata": {},
     "output_type": "display_data"
    }
   ],
   "source": [
    "R=transpose(eigenfaces*P).+mean_face"
   ]
  },
  {
   "cell_type": "code",
   "execution_count": 20,
   "metadata": {},
   "outputs": [
    {
     "data": {
      "text/plain": [
       "4.888437818966843e-11"
      ]
     },
     "metadata": {},
     "output_type": "display_data"
    }
   ],
   "source": [
    "norm(mat-R)"
   ]
  },
  {
   "cell_type": "code",
   "execution_count": 47,
   "metadata": {},
   "outputs": [
    {
     "data": {
      "image/png": "[encoded data removed]",
      "text/html": [
       "<img src=\"data:image/png;base64,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\">"
      ],
      "text/plain": [
       "64×64 Array{Gray{Float64},2} with eltype Gray{Float64}:\n",
       " Gray{Float64}(0.499233)  Gray{Float64}(0.502131)  …  Gray{Float64}(0.528389)\n",
       " Gray{Float64}(0.503154)  Gray{Float64}(0.522421)     Gray{Float64}(0.540324)\n",
       " Gray{Float64}(0.509633)  Gray{Float64}(0.506564)     Gray{Float64}(0.542199)\n",
       " Gray{Float64}(0.501279)  Gray{Float64}(0.507246)     Gray{Float64}(0.545269)\n",
       " Gray{Float64}(0.505882)  Gray{Float64}(0.517477)     Gray{Float64}(0.542882)\n",
       " Gray{Float64}(0.502643)  Gray{Float64}(0.513725)  …  Gray{Float64}(0.522592)\n",
       " Gray{Float64}(0.506394)  Gray{Float64}(0.514919)     Gray{Float64}(0.54561)\n",
       " Gray{Float64}(0.512873)  Gray{Float64}(0.531287)     Gray{Float64}(0.560443)\n",
       " Gray{Float64}(0.517477)  Gray{Float64}(0.523785)     Gray{Float64}(0.550895)\n",
       " Gray{Float64}(0.515772)  Gray{Float64}(0.527536)     Gray{Float64}(0.543052)\n",
       " ⋮                                                 ⋱  \n",
       " Gray{Float64}(0.479284)  Gray{Float64}(0.468542)  …  Gray{Float64}(0.48491)\n",
       " Gray{Float64}(0.473828)  Gray{Float64}(0.507928)     Gray{Float64}(0.479113)\n",
       " Gray{Float64}(0.479966)  Gray{Float64}(0.457289)     Gray{Float64}(0.435806)\n",
       " Gray{Float64}(0.462745)  Gray{Float64}(0.429838)     Gray{Float64}(0.410401)\n",
       " Gray{Float64}(0.43393)   Gray{Float64}(0.416709)     Gray{Float64}(0.363683)\n",
       " Gray{Float64}(0.418585)  Gray{Float64}(0.41023)   …  Gray{Float64}(0.360955)\n",
       " Gray{Float64}(0.405115)  Gray{Float64}(0.387042)     Gray{Float64}(0.37954)\n",
       " Gray{Float64}(0.390111)  Gray{Float64}(0.394373)     Gray{Float64}(0.388576)\n",
       " Gray{Float64}(0.381245)  Gray{Float64}(0.373061)     Gray{Float64}(0.344416)"
      ]
     },
     "metadata": {},
     "output_type": "display_data"
    }
   ],
   "source": [
    "Gray.((reshape(mean_face,(dim,dim)))./255)"
   ]
  }
 ],
 "metadata": {
  "kernelspec": {
   "display_name": "Julia 1.9.2",
   "language": "julia",
   "name": "julia-1.9"
  },
  "language_info": {
   "file_extension": ".jl",
   "mimetype": "application/julia",
   "name": "julia",
   "version": "1.9.2"
  },
  "orig_nbformat": 4
 },
 "nbformat": 4,
 "nbformat_minor": 2
}
